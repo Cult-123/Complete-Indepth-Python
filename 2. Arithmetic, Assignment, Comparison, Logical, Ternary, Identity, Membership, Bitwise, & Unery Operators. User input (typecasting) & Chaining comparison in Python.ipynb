{
 "cells": [
  {
   "cell_type": "markdown",
   "metadata": {
    "toc": true
   },
   "source": [
    "<h1>Table of Contents<span class=\"tocSkip\"></span></h1>\n",
    "<div class=\"toc\"><ul class=\"toc-item\"><li><span><a href=\"#Operators\" data-toc-modified-id=\"Operators-1\"><span class=\"toc-item-num\">1&nbsp;&nbsp;</span>Operators</a></span><ul class=\"toc-item\"><li><span><a href=\"#Numeric-/-Arithmetic-Operations\" data-toc-modified-id=\"Numeric-/-Arithmetic-Operations-1.1\"><span class=\"toc-item-num\">1.1&nbsp;&nbsp;</span>Numeric / Arithmetic Operations</a></span></li><li><span><a href=\"#Assignment-Operator\" data-toc-modified-id=\"Assignment-Operator-1.2\"><span class=\"toc-item-num\">1.2&nbsp;&nbsp;</span>Assignment Operator</a></span></li><li><span><a href=\"#Relational/Comparison-Operator\" data-toc-modified-id=\"Relational/Comparison-Operator-1.3\"><span class=\"toc-item-num\">1.3&nbsp;&nbsp;</span>Relational / Comparison Operator</a></span></li><li><span><a href=\"#Logical-Operator/Conditional-Operator\" data-toc-modified-id=\"Logical-Operator/Conditional-Operator-1.4\"><span class=\"toc-item-num\">1.4&nbsp;&nbsp;</span>Logical Operator / Conditional Operator</a></span></li><li><span><a href=\"#Logical-Operator/Conditional-Operator\" data-toc-modified-id=\"Logical-Operator/Conditional-Operator-1.5\"><span class=\"toc-item-num\">1.5&nbsp;&nbsp;</span>Logical Operator / Conditional Operator</a></span></li><li><span><a href=\"#User-Input-(typecasting)\" data-toc-modified-id=\"User-Input-(typecasting)-1.6\"><span class=\"toc-item-num\">1.6&nbsp;&nbsp;</span>User Input (typecasting)</a></span></li><li><span><a href=\"#Ternary-Operator\" data-toc-modified-id=\"Ternary-Operator-1.7\"><span class=\"toc-item-num\">1.7&nbsp;&nbsp;</span>Ternary Operator</a></span></li><li><span><a href=\"#Chaining-comparison\" data-toc-modified-id=\"Chaining-comparison-1.8\"><span class=\"toc-item-num\">1.8&nbsp;&nbsp;</span>Chaining comparison</a></span></li><li><span><a href=\"#Identity-Operators\" data-toc-modified-id=\"Identity-Operators-1.9\"><span class=\"toc-item-num\">1.9&nbsp;&nbsp;</span>Identity Operators</a></span></li><li><span><a href=\"#Membership-Operators\" data-toc-modified-id=\"Membership-Operators-1.10\"><span class=\"toc-item-num\">1.10&nbsp;&nbsp;</span>Membership Operators</a></span></li><li><span><a href=\"#Bitwise-Operator\" data-toc-modified-id=\"Bitwise-Operator-1.11\"><span class=\"toc-item-num\">1.11&nbsp;&nbsp;</span>Bitwise Operator</a></span></li><li><span><a href=\"#Unery-Operator\" data-toc-modified-id=\"Unery-Operator-1.12\"><span class=\"toc-item-num\">1.12&nbsp;&nbsp;</span>Unery Operator</a></span></li></ul></li></ul></div>"
   ]
  },
  {
   "cell_type": "markdown",
   "metadata": {},
   "source": [
    "# Operators"
   ]
  },
  {
   "cell_type": "code",
   "execution_count": 1,
   "metadata": {},
   "outputs": [],
   "source": [
    "#1. Numerical or Arithmatic operators\n",
    "#2. Assignment operators\n",
    "#3. Relational or Comparison operators\n",
    "#4. Logical operators\n",
    "#5. Unary or Identity operators\n",
    "#6. Bitwise operator\n",
    "#7. Ternery operator"
   ]
  },
  {
   "cell_type": "markdown",
   "metadata": {},
   "source": [
    "## Numerical or Arithmetic Operations"
   ]
  },
  {
   "cell_type": "code",
   "execution_count": 102,
   "metadata": {},
   "outputs": [],
   "source": [
    "# Addition +\n",
    "# Subtraction -\n",
    "# Multiplication *\n",
    "# Division /\n",
    "# Floor Division //\n",
    "# Modulus (Reminder of Division) %\n",
    "# Indices (Raise to) **\n",
    "# BODMAS --> Python"
   ]
  },
  {
   "cell_type": "code",
   "execution_count": 16,
   "metadata": {},
   "outputs": [],
   "source": [
    "x = 10\n",
    "\n",
    "y = 20"
   ]
  },
  {
   "cell_type": "code",
   "execution_count": 17,
   "metadata": {},
   "outputs": [
    {
     "name": "stdout",
     "output_type": "stream",
     "text": [
      "30\n"
     ]
    }
   ],
   "source": [
    "# Addition\n",
    "print(x + y)"
   ]
  },
  {
   "cell_type": "code",
   "execution_count": 18,
   "metadata": {},
   "outputs": [
    {
     "name": "stdout",
     "output_type": "stream",
     "text": [
      "10\n"
     ]
    }
   ],
   "source": [
    "# Substraction\n",
    "print(y - x)"
   ]
  },
  {
   "cell_type": "code",
   "execution_count": 19,
   "metadata": {},
   "outputs": [
    {
     "name": "stdout",
     "output_type": "stream",
     "text": [
      "200\n"
     ]
    }
   ],
   "source": [
    "# Multiplication\n",
    "print(x * y)"
   ]
  },
  {
   "cell_type": "code",
   "execution_count": 20,
   "metadata": {},
   "outputs": [
    {
     "name": "stdout",
     "output_type": "stream",
     "text": [
      "100000000000000000000\n"
     ]
    }
   ],
   "source": [
    "# To the power\n",
    "print(x ** y)"
   ]
  },
  {
   "cell_type": "code",
   "execution_count": 21,
   "metadata": {},
   "outputs": [
    {
     "name": "stdout",
     "output_type": "stream",
     "text": [
      "0.5\n"
     ]
    }
   ],
   "source": [
    "# Division shows Quotient (Bhagfol) as Result\n",
    "print(x / y)"
   ]
  },
  {
   "cell_type": "code",
   "execution_count": 22,
   "metadata": {},
   "outputs": [
    {
     "name": "stdout",
     "output_type": "stream",
     "text": [
      "0\n"
     ]
    }
   ],
   "source": [
    "# Floor Division shows Integer part of the Quotient (Bhagfol) as Result\n",
    "print(x // y)"
   ]
  },
  {
   "cell_type": "code",
   "execution_count": 23,
   "metadata": {},
   "outputs": [
    {
     "name": "stdout",
     "output_type": "stream",
     "text": [
      "0\n"
     ]
    }
   ],
   "source": [
    "# Floor Division shows Integer part of the Quotient (Bhagfol) as Result\n",
    "import math\n",
    "\n",
    "print(math.floor(x / y))"
   ]
  },
  {
   "cell_type": "code",
   "execution_count": 24,
   "metadata": {},
   "outputs": [
    {
     "name": "stdout",
     "output_type": "stream",
     "text": [
      "1\n"
     ]
    }
   ],
   "source": [
    "# Ceiling Division shows Rounded Up nearest Integer of the Quotient (Bhagfol) as Result\n",
    "import math\n",
    "\n",
    "print(math.ceil(x / y))"
   ]
  },
  {
   "cell_type": "code",
   "execution_count": 110,
   "metadata": {},
   "outputs": [
    {
     "name": "stdout",
     "output_type": "stream",
     "text": [
      "10\n"
     ]
    }
   ],
   "source": [
    "# Modulus shows Remainder (Bhagsesh) as Result\n",
    "# Remainder (Bhagsesh) is always Integer\n",
    "\n",
    "print(x % y)"
   ]
  },
  {
   "cell_type": "code",
   "execution_count": 28,
   "metadata": {},
   "outputs": [
    {
     "name": "stdout",
     "output_type": "stream",
     "text": [
      "7.6\n"
     ]
    }
   ],
   "source": [
    "# Division shows Quotient (Bhagfol) as Result\n",
    "print(38 / 5)"
   ]
  },
  {
   "cell_type": "code",
   "execution_count": 29,
   "metadata": {},
   "outputs": [
    {
     "name": "stdout",
     "output_type": "stream",
     "text": [
      "7\n"
     ]
    }
   ],
   "source": [
    "# Floor Division shows Integer part of the Quotient (Bhagfol) as Result\n",
    "print(38 // 5)"
   ]
  },
  {
   "cell_type": "code",
   "execution_count": 30,
   "metadata": {},
   "outputs": [
    {
     "name": "stdout",
     "output_type": "stream",
     "text": [
      "7\n"
     ]
    }
   ],
   "source": [
    "# Floor Division shows Integer part of the Quotient (Bhagfol) as Result\n",
    "import math\n",
    "\n",
    "print(math.floor(38 / 5))"
   ]
  },
  {
   "cell_type": "code",
   "execution_count": 31,
   "metadata": {},
   "outputs": [
    {
     "name": "stdout",
     "output_type": "stream",
     "text": [
      "8\n"
     ]
    }
   ],
   "source": [
    "# Ceiling Division shows Rounded Up nearest Integer of the Quotient (Bhagfol) as Result\n",
    "import math\n",
    "\n",
    "print(math.ceil(38 / 5))"
   ]
  },
  {
   "cell_type": "markdown",
   "metadata": {},
   "source": [
    "## Assignment Operator"
   ]
  },
  {
   "cell_type": "code",
   "execution_count": 51,
   "metadata": {},
   "outputs": [],
   "source": [
    "a = 5       # a is variable"
   ]
  },
  {
   "cell_type": "code",
   "execution_count": 73,
   "metadata": {},
   "outputs": [
    {
     "name": "stdout",
     "output_type": "stream",
     "text": [
      "12\n"
     ]
    }
   ],
   "source": [
    "a = 5       # a is variable\n",
    "\n",
    "a += 7     # a+7, a is 5  # addition, increase a by 7\n",
    "\n",
    "print(a)"
   ]
  },
  {
   "cell_type": "code",
   "execution_count": 74,
   "metadata": {},
   "outputs": [
    {
     "name": "stdout",
     "output_type": "stream",
     "text": [
      "-7\n"
     ]
    }
   ],
   "source": [
    "a = 5       # a is variable\n",
    "\n",
    "a -= 12     # a-12, a is 5  # Substraction, decrease a by 12\n",
    "\n",
    "print(a)"
   ]
  },
  {
   "cell_type": "code",
   "execution_count": 75,
   "metadata": {},
   "outputs": [
    {
     "name": "stdout",
     "output_type": "stream",
     "text": [
      "0.2\n"
     ]
    }
   ],
   "source": [
    "a = 5       # a is variable\n",
    "\n",
    "a /= 25      # a / 25, a is 5    # Division, divide a by 25\n",
    "                               # Division shows Quotient (Bhagfol) as Result\n",
    "print(a)"
   ]
  },
  {
   "cell_type": "code",
   "execution_count": 76,
   "metadata": {},
   "outputs": [
    {
     "name": "stdout",
     "output_type": "stream",
     "text": [
      "0\n"
     ]
    }
   ],
   "source": [
    "a = 5\n",
    "\n",
    "a //= 25   # a // 25, a is 5    # Floor Division shows Integer part of the Quotient (Bhagfol) as Result\n",
    "\n",
    "print(a)"
   ]
  },
  {
   "cell_type": "code",
   "execution_count": 77,
   "metadata": {},
   "outputs": [
    {
     "name": "stdout",
     "output_type": "stream",
     "text": [
      "35\n"
     ]
    }
   ],
   "source": [
    "a = 5       # a is variable\n",
    "\n",
    "a *= 7   # a*7, a is 5   # Multiply, increase a by multiple of 7\n",
    "\n",
    "print(a)"
   ]
  },
  {
   "cell_type": "code",
   "execution_count": 78,
   "metadata": {},
   "outputs": [
    {
     "name": "stdout",
     "output_type": "stream",
     "text": [
      "1953125\n"
     ]
    }
   ],
   "source": [
    "a = 5       # a is variable\n",
    "\n",
    "a **= 9   # a**9, a is 5   # To the power, increase a to the power of 9\n",
    "\n",
    "print(a)"
   ]
  },
  {
   "cell_type": "code",
   "execution_count": 79,
   "metadata": {},
   "outputs": [
    {
     "name": "stdout",
     "output_type": "stream",
     "text": [
      "5\n"
     ]
    }
   ],
   "source": [
    "a = 5       # a is variable\n",
    "\n",
    "a %= 23    # a%23, a is 5   # Remainder (Bhagsesh) is 5\n",
    "\n",
    "print(a)"
   ]
  },
  {
   "cell_type": "code",
   "execution_count": 80,
   "metadata": {},
   "outputs": [
    {
     "name": "stdout",
     "output_type": "stream",
     "text": [
      "21\n"
     ]
    }
   ],
   "source": [
    "a = 5       # a is variable\n",
    "\n",
    "a |= 20       # a|20, a is 5\n",
    "\n",
    "print(a)"
   ]
  },
  {
   "cell_type": "code",
   "execution_count": 81,
   "metadata": {},
   "outputs": [
    {
     "name": "stdout",
     "output_type": "stream",
     "text": [
      "10\n"
     ]
    }
   ],
   "source": [
    "a = 5       # a is variable\n",
    "\n",
    "a ^= 15       # a^15, a is 5\n",
    "\n",
    "print(a)"
   ]
  },
  {
   "cell_type": "code",
   "execution_count": 82,
   "metadata": {},
   "outputs": [
    {
     "name": "stdout",
     "output_type": "stream",
     "text": [
      "4\n"
     ]
    }
   ],
   "source": [
    "a = 5       # a is variable\n",
    "\n",
    "a &= 12    # a&12, a is 5\n",
    "\n",
    "print(a)"
   ]
  },
  {
   "cell_type": "code",
   "execution_count": 83,
   "metadata": {},
   "outputs": [
    {
     "name": "stdout",
     "output_type": "stream",
     "text": [
      "0\n"
     ]
    }
   ],
   "source": [
    "a = 5       # a is variable\n",
    "\n",
    "a >>= 21\n",
    "\n",
    "print(a)"
   ]
  },
  {
   "cell_type": "code",
   "execution_count": 84,
   "metadata": {},
   "outputs": [
    {
     "name": "stdout",
     "output_type": "stream",
     "text": [
      "10485760\n"
     ]
    }
   ],
   "source": [
    "a = 5       # a is variable\n",
    "\n",
    "a <<= 21\n",
    "\n",
    "print(a)"
   ]
  },
  {
   "cell_type": "code",
   "execution_count": 88,
   "metadata": {},
   "outputs": [
    {
     "name": "stdout",
     "output_type": "stream",
     "text": [
      "21\n"
     ]
    }
   ],
   "source": [
    "a = 5       # a is variable\n",
    "\n",
    "print(a := 21)"
   ]
  },
  {
   "cell_type": "markdown",
   "metadata": {},
   "source": [
    "## Relational / Comparison Operator"
   ]
  },
  {
   "cell_type": "code",
   "execution_count": 20,
   "metadata": {},
   "outputs": [],
   "source": [
    "# == check if equal\n",
    "# != check if not equal\n",
    "# > Greater than\n",
    "# < Less than\n",
    "# >=\n",
    "# <="
   ]
  },
  {
   "cell_type": "code",
   "execution_count": 43,
   "metadata": {},
   "outputs": [],
   "source": [
    "X = 10\n",
    "\n",
    "Y = 20"
   ]
  },
  {
   "cell_type": "code",
   "execution_count": 44,
   "metadata": {},
   "outputs": [
    {
     "name": "stdout",
     "output_type": "stream",
     "text": [
      "False\n"
     ]
    }
   ],
   "source": [
    "print(X == Y)   # Check equality"
   ]
  },
  {
   "cell_type": "code",
   "execution_count": 45,
   "metadata": {},
   "outputs": [
    {
     "name": "stdout",
     "output_type": "stream",
     "text": [
      "True\n"
     ]
    }
   ],
   "source": [
    "print(X != Y)       # Check if X not equal to Y"
   ]
  },
  {
   "cell_type": "code",
   "execution_count": 46,
   "metadata": {},
   "outputs": [
    {
     "name": "stdout",
     "output_type": "stream",
     "text": [
      "False\n"
     ]
    }
   ],
   "source": [
    "print(X > Y)        # Check if X is greater than Y"
   ]
  },
  {
   "cell_type": "code",
   "execution_count": 47,
   "metadata": {},
   "outputs": [
    {
     "name": "stdout",
     "output_type": "stream",
     "text": [
      "True\n"
     ]
    }
   ],
   "source": [
    "print(X < Y)        # Check if X is smaller than Y"
   ]
  },
  {
   "cell_type": "code",
   "execution_count": 48,
   "metadata": {},
   "outputs": [
    {
     "name": "stdout",
     "output_type": "stream",
     "text": [
      "False\n"
     ]
    }
   ],
   "source": [
    "print(X >= Y)       # Check if X is greater than equal to Y"
   ]
  },
  {
   "cell_type": "code",
   "execution_count": 49,
   "metadata": {},
   "outputs": [
    {
     "name": "stdout",
     "output_type": "stream",
     "text": [
      "True\n"
     ]
    }
   ],
   "source": [
    "print(X <= Y)       # Check if X is smaller than equal to Y"
   ]
  },
  {
   "cell_type": "code",
   "execution_count": 50,
   "metadata": {},
   "outputs": [
    {
     "name": "stdout",
     "output_type": "stream",
     "text": [
      "20\n"
     ]
    }
   ],
   "source": [
    "print(X and Y)"
   ]
  },
  {
   "cell_type": "code",
   "execution_count": 89,
   "metadata": {},
   "outputs": [
    {
     "name": "stdout",
     "output_type": "stream",
     "text": [
      "False\n"
     ]
    }
   ],
   "source": [
    "print(X is Y)"
   ]
  },
  {
   "cell_type": "code",
   "execution_count": 90,
   "metadata": {},
   "outputs": [
    {
     "name": "stdout",
     "output_type": "stream",
     "text": [
      "True\n"
     ]
    }
   ],
   "source": [
    "print(X is not Y)"
   ]
  },
  {
   "cell_type": "markdown",
   "metadata": {},
   "source": [
    "## Logical Operator / Conditional Operator"
   ]
  },
  {
   "cell_type": "code",
   "execution_count": 157,
   "metadata": {},
   "outputs": [],
   "source": [
    "# Logical Operators are used to combine conditional statements\n",
    "# if statement\n",
    "# elif statement\n",
    "# else statement"
   ]
  },
  {
   "cell_type": "code",
   "execution_count": 238,
   "metadata": {},
   "outputs": [
    {
     "name": "stdout",
     "output_type": "stream",
     "text": [
      "High\n",
      "Highest\n"
     ]
    }
   ],
   "source": [
    "# Code for handling single condition\n",
    "\n",
    "temp = 36\n",
    "\n",
    "if temp > 35:\n",
    "    print(\"High\")\n",
    "    print(\"Highest\")"
   ]
  },
  {
   "cell_type": "code",
   "execution_count": 159,
   "metadata": {},
   "outputs": [
    {
     "name": "stdout",
     "output_type": "stream",
     "text": [
      "Low\n"
     ]
    }
   ],
   "source": [
    "# Code for handling two conditions together\n",
    "\n",
    "temp = 30\n",
    "\n",
    "if temp > 35:\n",
    "    print('High')\n",
    "else:\n",
    "    print('Low')"
   ]
  },
  {
   "cell_type": "code",
   "execution_count": 172,
   "metadata": {},
   "outputs": [
    {
     "name": "stdout",
     "output_type": "stream",
     "text": [
      "Medium\n"
     ]
    }
   ],
   "source": [
    "# More than 2 conditions\n",
    "\n",
    "temp = 30\n",
    "\n",
    "if temp > 35:\n",
    "    print(\"High\")\n",
    "elif temp > 10 and temp <= 35:\n",
    "    print(\"Medium\")\n",
    "elif temp > 5 and temp <= 10:\n",
    "    print(\"Low\")\n",
    "else:\n",
    "    print(\"Lowest\")"
   ]
  },
  {
   "cell_type": "code",
   "execution_count": 173,
   "metadata": {},
   "outputs": [
    {
     "name": "stdout",
     "output_type": "stream",
     "text": [
      "Low\n"
     ]
    }
   ],
   "source": [
    "# More than 2 conditions\n",
    "\n",
    "temp = 10\n",
    "\n",
    "if temp > 35:\n",
    "    print(\"High\")\n",
    "elif 10 < temp <= 35:\n",
    "    print(\"Medium\")\n",
    "elif 5 < temp <= 10:\n",
    "    print(\"Low\")\n",
    "else:\n",
    "    print(\"Lowest\")"
   ]
  },
  {
   "cell_type": "markdown",
   "metadata": {},
   "source": [
    "## Logical Operator / Conditional Operator\n",
    "and<br>\n",
    "or<br>\n",
    "not<br>"
   ]
  },
  {
   "cell_type": "code",
   "execution_count": 263,
   "metadata": {},
   "outputs": [
    {
     "name": "stdout",
     "output_type": "stream",
     "text": [
      "Eligible\n"
     ]
    }
   ],
   "source": [
    "# Loan app example\n",
    "\n",
    "income = 9000\n",
    "\n",
    "credit = 590\n",
    "\n",
    "if income >= 8000 and credit < 700:\n",
    "    print(\"Eligible\")\n",
    "else:\n",
    "    print(\"Not eligible\")"
   ]
  },
  {
   "cell_type": "code",
   "execution_count": 264,
   "metadata": {},
   "outputs": [
    {
     "name": "stdout",
     "output_type": "stream",
     "text": [
      "Eligible\n"
     ]
    }
   ],
   "source": [
    "# Loan app example\n",
    "\n",
    "income = 9000\n",
    "\n",
    "credit = 690\n",
    "\n",
    "message = \"Eligible\" if income >= 8000 and credit < 700 else \"Not Eligible\"       # Use of Ternary operator\n",
    "\n",
    "print(message)"
   ]
  },
  {
   "cell_type": "code",
   "execution_count": 265,
   "metadata": {},
   "outputs": [
    {
     "name": "stdout",
     "output_type": "stream",
     "text": [
      "Eligible\n"
     ]
    }
   ],
   "source": [
    "# Loan app example\n",
    "\n",
    "income = 9000\n",
    "\n",
    "credit = 600\n",
    "\n",
    "if income >= 8000 or credit <= 700:\n",
    "    print(\"Eligible\")\n",
    "else:\n",
    "    print(\"Not eligible\")"
   ]
  },
  {
   "cell_type": "code",
   "execution_count": 266,
   "metadata": {},
   "outputs": [
    {
     "name": "stdout",
     "output_type": "stream",
     "text": [
      "Eligible\n"
     ]
    }
   ],
   "source": [
    "# Loan app example\n",
    "\n",
    "income = 9000\n",
    "\n",
    "credit = 600\n",
    "\n",
    "message = \"Eligible\" if income >= 8000 or credit < 700 else \"Not eligible\"        # Use of Ternary operator\n",
    "\n",
    "print(message)"
   ]
  },
  {
   "cell_type": "code",
   "execution_count": 267,
   "metadata": {},
   "outputs": [
    {
     "name": "stdout",
     "output_type": "stream",
     "text": [
      "Eligible\n"
     ]
    }
   ],
   "source": [
    "# Loan app example\n",
    "\n",
    "income = 9000\n",
    "\n",
    "credit = 600\n",
    "\n",
    "student = False     # Here student = False, So... if not student... \"if\" line will get the priority\n",
    "                    # There is similar connection between False & not\n",
    "if not student:\n",
    "    message = \"Eligible\" if income >= 8000 or credit <= 700 else \"Not eligible\"      # Use of Ternary operator\n",
    "    print(message)\n",
    "else:\n",
    "    print(\"Students can't apply for loan\")"
   ]
  },
  {
   "cell_type": "code",
   "execution_count": 249,
   "metadata": {},
   "outputs": [
    {
     "name": "stdout",
     "output_type": "stream",
     "text": [
      "Students can't apply for loan\n"
     ]
    }
   ],
   "source": [
    "# Loan app example\n",
    "\n",
    "income = 9000\n",
    "\n",
    "credit = 600\n",
    "\n",
    "student = True       # Here student = True, So... if not student... \"else\" line will get the priority\n",
    "                     # There is opposite connection between True & not\n",
    "if not student:\n",
    "    message = \"Eligible\" if income >= 8000 or credit <= 700 else \"Not eligible\"          # Use of Ternary operator\n",
    "    print(message)\n",
    "else:\n",
    "    print(\"Students can't apply for loan\")"
   ]
  },
  {
   "cell_type": "code",
   "execution_count": 268,
   "metadata": {},
   "outputs": [
    {
     "name": "stdout",
     "output_type": "stream",
     "text": [
      "Not eligible\n"
     ]
    }
   ],
   "source": [
    "# Another way\n",
    "\n",
    "income = 9000\n",
    "\n",
    "credit = 600\n",
    "\n",
    "student = True               # Here student = True, So... if not student... \"else\" line will get the priority\n",
    "                                                       # There is opposite connection between True & not\n",
    "if income > 8000 and credit > 700 and not student:\n",
    "    print(\"Eligible\")\n",
    "else:\n",
    "    print(\"Not eligible\")"
   ]
  },
  {
   "cell_type": "code",
   "execution_count": 216,
   "metadata": {},
   "outputs": [
    {
     "name": "stdout",
     "output_type": "stream",
     "text": [
      "Eligible\n"
     ]
    }
   ],
   "source": [
    "# Another way\n",
    "\n",
    "income = 9000\n",
    "\n",
    "credit = 600\n",
    "\n",
    "student = False        # Here student = False, So... if not student... \"if\" line will get the priority\n",
    "                                                     # There is similar connection between False & not\n",
    "if income > 8000 or credit > 700 and not student:\n",
    "    print(\"Eligible\")\n",
    "else:\n",
    "    print(\"Not eligible\")"
   ]
  },
  {
   "cell_type": "code",
   "execution_count": 269,
   "metadata": {},
   "outputs": [
    {
     "name": "stdin",
     "output_type": "stream",
     "text": [
      "Enter radius 63.33\n"
     ]
    },
    {
     "name": "stdout",
     "output_type": "stream",
     "text": [
      "12599.950784074128\n"
     ]
    }
   ],
   "source": [
    "# Write a program that can accept radius from user\n",
    "# and print area of circle\n",
    "\n",
    "from math import pi\n",
    "\n",
    "radius = float(input(\"Enter radius\"))\n",
    "\n",
    "Circle_area = pi * radius ** 2\n",
    "\n",
    "print(area)"
   ]
  },
  {
   "cell_type": "code",
   "execution_count": 222,
   "metadata": {},
   "outputs": [
    {
     "name": "stdin",
     "output_type": "stream",
     "text": [
      "Enter radius 63.17\n"
     ]
    },
    {
     "name": "stdout",
     "output_type": "stream",
     "text": [
      "12530.009546000001\n"
     ]
    }
   ],
   "source": [
    "# Write a program that can accept radius from user \n",
    "# and print area of circle\n",
    "\n",
    "pi = 3.14\n",
    "\n",
    "radius = float(input(\"Enter radius\"))\n",
    "\n",
    "Circle_area = pi * radius ** 2\n",
    "\n",
    "print(area)"
   ]
  },
  {
   "cell_type": "code",
   "execution_count": 223,
   "metadata": {},
   "outputs": [
    {
     "name": "stdin",
     "output_type": "stream",
     "text": [
      "Enter radius 69.86\n"
     ]
    },
    {
     "name": "stdout",
     "output_type": "stream",
     "text": [
      "15324.517544\n"
     ]
    }
   ],
   "source": [
    "radius = float(input(\"Enter radius\"))\n",
    "\n",
    "Circle_area = pi * radius ** 2\n",
    "\n",
    "print(area)"
   ]
  },
  {
   "cell_type": "markdown",
   "metadata": {},
   "source": [
    "## User Input (typecasting)"
   ]
  },
  {
   "cell_type": "code",
   "execution_count": 237,
   "metadata": {},
   "outputs": [
    {
     "name": "stdin",
     "output_type": "stream",
     "text": [
      "Enter Number  77.89\n"
     ]
    },
    {
     "name": "stdout",
     "output_type": "stream",
     "text": [
      "Given number 77.89  is ODD\n",
      "Given number 77.89  is ODD\n"
     ]
    }
   ],
   "source": [
    "# Write a program that can print whether the number is even or odd.\n",
    "# User input always use input functioin\n",
    "# Ensure the output must look like shown below:\n",
    "# Given number 2 is EVEN !!! --- for even case\n",
    "# Given number 3 is ODD !!! --- for odd case\n",
    "\n",
    "number = float(input(\"Enter Number \"))       # typecasting is called user input, by default input creates \"string\" input\n",
    "                                             # Enter Number: will be prompted\n",
    "                                             # If you want any other value except string then convert the \"string\" first\n",
    "                                             # We have Converted the \"string\" into int\n",
    "if number % 2 != 0:\n",
    "    print(\"Given number {}  is ODD\".format(number)) # Set the if output\n",
    "else:\n",
    "    print(\"Given number {}  is EVEN\".format(number)) # Set the else output\n",
    "\n",
    "\n",
    "if number % 2 == 0:\n",
    "    print(\"Given number {}  is EVEN\".format(number)) # Set the if output\n",
    "else:\n",
    "    print(\"Given number {}  is ODD\".format(number)) # Set the else output    \n",
    "    \n",
    "    \n",
    "    # .format(number) provides the no instead of {}"
   ]
  },
  {
   "cell_type": "code",
   "execution_count": 236,
   "metadata": {},
   "outputs": [
    {
     "name": "stdin",
     "output_type": "stream",
     "text": [
      "Enter Number  77.88\n"
     ]
    },
    {
     "name": "stdout",
     "output_type": "stream",
     "text": [
      "Given number 77.88  is ODD\n"
     ]
    }
   ],
   "source": [
    "# Write a program that can print whether the number is even or odd.\n",
    "# User input always use input functioin\n",
    "# Ensure the output must look like shown below:\n",
    "# Given number 2 is EVEN !!! --- for even case\n",
    "# Given number 3 is ODD !!! --- for odd case\n",
    "\n",
    "number = float(input(\"Enter Number \"))       # typecasting is called user input, by default input creates \"string\" input\n",
    "                                             # Enter Number: will be prompted\n",
    "                                             # If you want any other value except string then convert the \"string\" first\n",
    "                                             # We have Converted the \"string\" into int\n",
    "if number % 2 != 0:\n",
    "    print(\"Given number {}  is ODD\".format(number))                        # Set the if output\n",
    "elif number % 2 == 0:\n",
    "    print(\"Given number {}  is EVEN\".format(number))                       # Set the else output"
   ]
  },
  {
   "cell_type": "code",
   "execution_count": 233,
   "metadata": {},
   "outputs": [
    {
     "name": "stdin",
     "output_type": "stream",
     "text": [
      "Enter Number  87.67\n"
     ]
    },
    {
     "name": "stdout",
     "output_type": "stream",
     "text": [
      "Given number 87.67  is ODD\n",
      "Given number 87.67  is ODD\n"
     ]
    }
   ],
   "source": [
    "# Write a program that can print whether the number is even or odd.\n",
    "# User input always use input functioin\n",
    "# Ensure the output must look like shown below:\n",
    "# Given number 2 is EVEN !!! --- for even case\n",
    "# Given number 3 is ODD !!! --- for odd case\n",
    "\n",
    "number = float(input(\"Enter Number \"))                  # typecasting is called user input, by default input creates \"string\" input\n",
    "                                                        # Enter Number: will be prompted\n",
    "                                                        # If you want any other value except string then convert the \"string\" first\n",
    "                                                        # We have Converted the \"string\" into int\n",
    "if number % 2 != 0:\n",
    "    print(\"Given number {} is ODD\".format(number))            # Set the if output\n",
    "else:\n",
    "    print(\"Given number {} is EVEN\".format(number))           # Set the else output\n",
    "\n",
    "\n",
    "if number % 2 == 0:\n",
    "    print(\"Given number {} is EVEN\".format(number))           # Set the if output\n",
    "else:\n",
    "    print(\"Given number {} is ODD\".format(number))            # Set the else output    \n",
    "    \n",
    "    \n",
    "    # .format(number) provides the no instead of {}"
   ]
  },
  {
   "cell_type": "code",
   "execution_count": 51,
   "metadata": {},
   "outputs": [
    {
     "name": "stdout",
     "output_type": "stream",
     "text": [
      "Enter your Name Angad\n",
      "Given name Angad is False\n"
     ]
    }
   ],
   "source": [
    "name = input(\"Enter your Name \")                       # typecasting, user input is \"string\"\n",
    "                                                       # Enter Name: will be prompted\n",
    "if name == \"Anwesh\":\n",
    "    print(\"Given name {} is True\".format(name))              # Set the if output\n",
    "else:\n",
    "    print(\"Given name {} is False\".format(name))             # Set the else output"
   ]
  },
  {
   "cell_type": "code",
   "execution_count": 270,
   "metadata": {},
   "outputs": [
    {
     "name": "stdin",
     "output_type": "stream",
     "text": [
      "Enter your Name  Katrina\n",
      "Enter your Gender as Male / Female  Female\n"
     ]
    },
    {
     "name": "stdout",
     "output_type": "stream",
     "text": [
      "Miss Katrina is a Cute Lady\n"
     ]
    }
   ],
   "source": [
    "Name = input(\"Enter your Name \")                             # typecasting, user input is \"Name\"\n",
    "                                                             # Enter Name: will be prompted\n",
    "Gender = input(\"Enter your Gender as Male / Female \")        # typecasting, user input is \"Gender\"\n",
    "                                                             # Enter your Gender: Will be prompted\n",
    "if Gender == \"Male\":\n",
    "    print(\"Mr. {} is Handsome Man\".format(Name))           # Set the if output for Gender\n",
    "\n",
    "elif Gender == \"Female\":\n",
    "    print(\"Miss {} is a Cute Lady\".format(Name))           # Set the elif output for Gender\n",
    "\n",
    "else:\n",
    "    print(\"{} Please enter your correct Gender\".format(Name))         # Set the else output"
   ]
  },
  {
   "cell_type": "code",
   "execution_count": 54,
   "metadata": {},
   "outputs": [
    {
     "name": "stdout",
     "output_type": "stream",
     "text": [
      "Enter your Name Katrina\n",
      "Enter your Age 22\n",
      "Enter your Gender as Male/Female Female\n",
      "Miss Katrina is a Sexy Lady\n"
     ]
    }
   ],
   "source": [
    "Name = input(\"Enter your Name \")                           # typecasting, user input is \"Name\"\n",
    "                                                           # Enter Name: will be prompted\n",
    "Age = float(input(\"Enter your Age \"))                      # Input \"String\" has been changed into integer\n",
    "                                                           # Enter your Age: will be prompted\n",
    "Gender = input(\"Enter your Gender as Male/Female \")     # typecasting, user input is \"Gender\"\n",
    "                                                        # Enter your Gender: Will be prompted\n",
    "if Gender == \"Male\" and Age >= 18:\n",
    "    print(\"Mr. {} is a Handsome Man\".format(Name))      # Set the if output for Gender\n",
    "    \n",
    "elif Gender == \"Male\":\n",
    "    print(\"{} is a Sweet boy\".format(Name))             # Set the elif output for Gender\n",
    "\n",
    "elif Gender == \"Female\" and Age >= 18:\n",
    "    print(\"Miss {} is a Sexy Lady\".format(Name))        # Set the elif output for Gender\n",
    "    \n",
    "elif Gender == \"Female\":\n",
    "    print(\"{} is a Cute Girl\".format(Name))             # Set the elif output for Gender\n",
    "\n",
    "else:\n",
    "    print(\"{} Please enter your correct Gender\".format(Name))"
   ]
  },
  {
   "cell_type": "code",
   "execution_count": 55,
   "metadata": {},
   "outputs": [
    {
     "name": "stdout",
     "output_type": "stream",
     "text": [
      "Enter Number 3691\n",
      "Given number 3691  is ODD\n",
      "Given number 3691  is ODD\n"
     ]
    }
   ],
   "source": [
    "number = float(input(\"Enter Number \"))\n",
    "\n",
    "if number % 2 != 0:\n",
    "    print(\"Given number {} is ODD\".format(number))\n",
    "else:\n",
    "    print(\"Given number {} is EVEN\".format(number))\n",
    "    \n",
    "if number % 2 == 0:\n",
    "    print(\"Given number {} is EVEN\".format(number))      # Set the if output\n",
    "else:\n",
    "    print(\"Given number {} is ODD\".format(number))      # Set the else output  "
   ]
  },
  {
   "cell_type": "code",
   "execution_count": 56,
   "metadata": {},
   "outputs": [
    {
     "name": "stdout",
     "output_type": "stream",
     "text": [
      "Enter first number 67\n",
      "Enter second number 98\n",
      "The addition of 67 and 98 is 165\n"
     ]
    }
   ],
   "source": [
    "# User interaction--- input() -------> The default datatype is string\n",
    "# Typecasting ----> conversion of the datatype from one form to another considering the fact the constant supports the same\n",
    "\n",
    "num1 = float(input('Enter first number '))\n",
    "\n",
    "num2 = float(input('Enter second number '))\n",
    "\n",
    "Addition = num1 + num2\n",
    "\n",
    "print(\"The addition of {} and {} is {}\".format(num1, num2, Addition))"
   ]
  },
  {
   "cell_type": "code",
   "execution_count": 57,
   "metadata": {},
   "outputs": [
    {
     "name": "stdout",
     "output_type": "stream",
     "text": [
      "Enter first number 89\n",
      "Enter second number 69\n",
      "89 + 69 = 158\n"
     ]
    }
   ],
   "source": [
    "# User interaction--- input() -------> The default datatype is string\n",
    "# Typecasting ----> conversion of the datatype from one form to another considering the fact the constant supports the same\n",
    "\n",
    "num1 = float(input('Enter first number '))\n",
    "\n",
    "num2 = float(input('Enter second number '))\n",
    "\n",
    "Addition = num1 + num2\n",
    "\n",
    "print(\"{} + {} = {}\".format(num1, num2, Addition))"
   ]
  },
  {
   "cell_type": "code",
   "execution_count": 61,
   "metadata": {},
   "outputs": [
    {
     "name": "stdout",
     "output_type": "stream",
     "text": [
      "Enter 1st number 89\n",
      "Enter 2nd number 59\n",
      "1st number is 89 + 2nd number is 59 = Total is 148\n"
     ]
    }
   ],
   "source": [
    "# By default input func converts every input as \"string\"\n",
    "# You need to convert input before assigning the input values\n",
    "\n",
    "x = float(input(\"Enter 1st number \"))\n",
    "\n",
    "y = float(input(\"Enter 2nd number \"))\n",
    "\n",
    "z = x + y\n",
    "\n",
    "print(\"1st number is {} + 2nd number is {} = Total is {}\".format(x, y, z))"
   ]
  },
  {
   "cell_type": "code",
   "execution_count": 62,
   "metadata": {},
   "outputs": [
    {
     "name": "stdout",
     "output_type": "stream",
     "text": [
      "Enter 1st number 68\n",
      "Enter 2nd number 79\n",
      "1st number is 68 + 2nd number is 79 = Total is 147\n"
     ]
    }
   ],
   "source": [
    "# Automatic evaluation / detection of input data type by using eval func\n",
    "\n",
    "x = eval(input(\"Enter 1st number \"))\n",
    "\n",
    "y = eval(input(\"Enter 2nd number \"))\n",
    "\n",
    "z = x + y\n",
    "\n",
    "print(\"1st number is {} + 2nd number is {} = Total is {}\".format(x, y, z))"
   ]
  },
  {
   "cell_type": "markdown",
   "metadata": {},
   "source": [
    "## Ternary Operator"
   ]
  },
  {
   "cell_type": "code",
   "execution_count": 64,
   "metadata": {},
   "outputs": [
    {
     "name": "stdout",
     "output_type": "stream",
     "text": [
      "Enter your Name Anwesh\n",
      "Enter your Age 27\n",
      "Anwesh you are Eligible for licence\n"
     ]
    }
   ],
   "source": [
    "# licence eligibility\n",
    "\n",
    "Name = input(\"Enter your Name \")       # typecasting, user input is \"Name\"\n",
    "                                       # Enter Name: will be prompted\n",
    "\n",
    "Age = float(input(\"Enter your Age \"))       # Input \"String\" has been changed into integer\n",
    "                                            # Enter your Age: will be prompted\n",
    "\n",
    "if Age >= 18:\n",
    "    print(\"{} you are Eligible for licence\".format(Name))\n",
    "else:\n",
    "    print(\"{} you please try again when your {} wll be 18+\".format(Name, Age))"
   ]
  },
  {
   "cell_type": "code",
   "execution_count": 65,
   "metadata": {},
   "outputs": [
    {
     "name": "stdout",
     "output_type": "stream",
     "text": [
      "Enter your Name Anwesh\n",
      "Enter your Age 48\n",
      "Anwesh you are Eligible for licence\n"
     ]
    }
   ],
   "source": [
    "# licence eligibility\n",
    "\n",
    "Name = input(\"Enter your Name \")\n",
    "\n",
    "Age = float(input(\"Enter your Age \"))\n",
    "\n",
    "if Age >= 18:\n",
    "    message = \"{} you are Eligible for licence\".format(Name)                                # Set the if message for Age\n",
    "else:\n",
    "    message = \"{} you please try again when your {} wll be 18+\".format(Name, Age)           # Set the else message for Age\n",
    "\n",
    "print(message)"
   ]
  },
  {
   "cell_type": "code",
   "execution_count": 66,
   "metadata": {},
   "outputs": [
    {
     "name": "stdout",
     "output_type": "stream",
     "text": [
      "Enter your Name Anwesh\n",
      "Enter your Age 34\n",
      "Anwesh you are Eligible for licence\n"
     ]
    }
   ],
   "source": [
    "# Good way --- use ternary operator\n",
    "\n",
    "Name = input(\"Enter your Name \")\n",
    "\n",
    "Age = float(input(\"Enter your Age \"))\n",
    "\n",
    "message = \"{} you are Eligible for licence\".format(Name) if Age >= 18 else \"{} you please try again when your {} wll be 18+\".format(Name, Age)\n",
    "\n",
    "print(message)"
   ]
  },
  {
   "cell_type": "code",
   "execution_count": 68,
   "metadata": {},
   "outputs": [
    {
     "name": "stdout",
     "output_type": "stream",
     "text": [
      "Enter your Name Anwesh\n",
      "Enter your Age 32\n",
      "Eligible\n"
     ]
    }
   ],
   "source": [
    "# Good way --- use ternary operator\n",
    "\n",
    "Name = input(\"Enter your Name \")\n",
    "\n",
    "Age = float(input(\"Enter your Age \"))\n",
    "\n",
    "message = \"Eligible\" if Age >= 18 else \"Not Eligible\"\n",
    "\n",
    "print(message)"
   ]
  },
  {
   "cell_type": "code",
   "execution_count": 69,
   "metadata": {},
   "outputs": [
    {
     "name": "stdout",
     "output_type": "stream",
     "text": [
      "ODD\n"
     ]
    }
   ],
   "source": [
    "number = 9\n",
    "\n",
    "result = \"ODD\" if number % 2 != 0 else \"EVEN\"\n",
    "\n",
    "print(result)"
   ]
  },
  {
   "cell_type": "markdown",
   "metadata": {},
   "source": [
    "## Chaining comparison"
   ]
  },
  {
   "cell_type": "code",
   "execution_count": 70,
   "metadata": {},
   "outputs": [
    {
     "name": "stdout",
     "output_type": "stream",
     "text": [
      "Please enter your Name Anwesh\n",
      "Please enter your Age 34\n",
      "Anwesh your Age 34 is too old and you are Not Eligible for the IAS exam\n"
     ]
    }
   ],
   "source": [
    "# IAS Exam age criteria 21-32 open\n",
    "\n",
    "Name = input(\"Please enter your Name \")\n",
    "\n",
    "Age = float(input(\"Please enter your Age \"))\n",
    "\n",
    "if Age >= 18 and Age <= 32:\n",
    "    print(\"{} you are Eligible for the IAS Exam\".format(Name))\n",
    "    \n",
    "elif Age > 32:\n",
    "    print(\"{} your Age {} is too old and you are Not Eligible for the IAS exam\".format(Name, Age))\n",
    "    \n",
    "else:\n",
    "    print(\"{} your Age {} is too young and you are Not Eligible for the IAS exam\".format(Name, Age))"
   ]
  },
  {
   "cell_type": "code",
   "execution_count": 71,
   "metadata": {},
   "outputs": [
    {
     "name": "stdout",
     "output_type": "stream",
     "text": [
      "26 is Eligible for Exam\n"
     ]
    }
   ],
   "source": [
    "Age = 26\n",
    "\n",
    "if 18 <= Age <= 32:\n",
    "    print(\"{} is Eligible for Exam\".format(Age))\n",
    "else:\n",
    "    print(\"{} is Not Eligible for exam\".format(Age))"
   ]
  },
  {
   "cell_type": "markdown",
   "metadata": {},
   "source": [
    "## Identity Operators\n",
    "Identity operators are used to compare objects"
   ]
  },
  {
   "cell_type": "code",
   "execution_count": 72,
   "metadata": {},
   "outputs": [],
   "source": [
    "List1 = [10,20,30]\n",
    "\n",
    "List2 = [10,20,30]"
   ]
  },
  {
   "cell_type": "code",
   "execution_count": 73,
   "metadata": {},
   "outputs": [],
   "source": [
    "x = List1\n",
    "\n",
    "y = List2"
   ]
  },
  {
   "cell_type": "code",
   "execution_count": 74,
   "metadata": {},
   "outputs": [
    {
     "data": {
      "text/plain": [
       "True"
      ]
     },
     "execution_count": 74,
     "metadata": {},
     "output_type": "execute_result"
    }
   ],
   "source": [
    "x is List1"
   ]
  },
  {
   "cell_type": "code",
   "execution_count": 75,
   "metadata": {},
   "outputs": [
    {
     "data": {
      "text/plain": [
       "True"
      ]
     },
     "execution_count": 75,
     "metadata": {},
     "output_type": "execute_result"
    }
   ],
   "source": [
    "y is List2"
   ]
  },
  {
   "cell_type": "code",
   "execution_count": 76,
   "metadata": {},
   "outputs": [
    {
     "data": {
      "text/plain": [
       "True"
      ]
     },
     "execution_count": 76,
     "metadata": {},
     "output_type": "execute_result"
    }
   ],
   "source": [
    "x is not y"
   ]
  },
  {
   "cell_type": "code",
   "execution_count": 77,
   "metadata": {},
   "outputs": [
    {
     "data": {
      "text/plain": [
       "True"
      ]
     },
     "execution_count": 77,
     "metadata": {},
     "output_type": "execute_result"
    }
   ],
   "source": [
    "List1 is not List2"
   ]
  },
  {
   "cell_type": "code",
   "execution_count": 78,
   "metadata": {},
   "outputs": [
    {
     "data": {
      "text/plain": [
       "False"
      ]
     },
     "execution_count": 78,
     "metadata": {},
     "output_type": "execute_result"
    }
   ],
   "source": [
    "x is y"
   ]
  },
  {
   "cell_type": "code",
   "execution_count": 79,
   "metadata": {},
   "outputs": [
    {
     "data": {
      "text/plain": [
       "False"
      ]
     },
     "execution_count": 79,
     "metadata": {},
     "output_type": "execute_result"
    }
   ],
   "source": [
    "List1 is List2"
   ]
  },
  {
   "cell_type": "markdown",
   "metadata": {},
   "source": [
    "## Membership Operators\n",
    "Membership operators are used to check if a sequence is present in the object"
   ]
  },
  {
   "cell_type": "code",
   "execution_count": 91,
   "metadata": {},
   "outputs": [],
   "source": [
    "List1 = [10,20,30]\n",
    "\n",
    "List2 = [10,20,30]"
   ]
  },
  {
   "cell_type": "code",
   "execution_count": 92,
   "metadata": {},
   "outputs": [
    {
     "name": "stdout",
     "output_type": "stream",
     "text": [
      "True\n"
     ]
    }
   ],
   "source": [
    "print(10 in List1)       # Check if the element 10 is in list1"
   ]
  },
  {
   "cell_type": "code",
   "execution_count": 82,
   "metadata": {},
   "outputs": [
    {
     "data": {
      "text/plain": [
       "True"
      ]
     },
     "execution_count": 82,
     "metadata": {},
     "output_type": "execute_result"
    }
   ],
   "source": [
    "10 in List2 # Check if the element 10 is in list2"
   ]
  },
  {
   "cell_type": "code",
   "execution_count": 83,
   "metadata": {},
   "outputs": [
    {
     "data": {
      "text/plain": [
       "(10, 20, True)"
      ]
     },
     "execution_count": 83,
     "metadata": {},
     "output_type": "execute_result"
    }
   ],
   "source": [
    "10,20,30 in List1"
   ]
  },
  {
   "cell_type": "code",
   "execution_count": 84,
   "metadata": {},
   "outputs": [
    {
     "data": {
      "text/plain": [
       "(10, 20, True)"
      ]
     },
     "execution_count": 84,
     "metadata": {},
     "output_type": "execute_result"
    }
   ],
   "source": [
    "10,20,30 in List2"
   ]
  },
  {
   "cell_type": "code",
   "execution_count": 85,
   "metadata": {},
   "outputs": [
    {
     "data": {
      "text/plain": [
       "False"
      ]
     },
     "execution_count": 85,
     "metadata": {},
     "output_type": "execute_result"
    }
   ],
   "source": [
    "List1 in List2"
   ]
  },
  {
   "cell_type": "code",
   "execution_count": 86,
   "metadata": {},
   "outputs": [
    {
     "data": {
      "text/plain": [
       "True"
      ]
     },
     "execution_count": 86,
     "metadata": {},
     "output_type": "execute_result"
    }
   ],
   "source": [
    "List1 == List2"
   ]
  },
  {
   "cell_type": "markdown",
   "metadata": {},
   "source": [
    "## Bitwise Operator\n",
    "Bitwise Operators are used to compare binary Numbers"
   ]
  },
  {
   "cell_type": "code",
   "execution_count": 271,
   "metadata": {},
   "outputs": [],
   "source": [
    "# Complement(~)\n",
    "# And(&)\n",
    "# Or(|)\n",
    "# XOR(^)\n",
    "# Left Shift(<<)\n",
    "# Right Shift(>>)"
   ]
  },
  {
   "cell_type": "code",
   "execution_count": 272,
   "metadata": {},
   "outputs": [
    {
     "name": "stdout",
     "output_type": "stream",
     "text": [
      "-13\n"
     ]
    }
   ],
   "source": [
    "#Complement(~)\n",
    "x = ~12\n",
    "print(x) #compliment of decimal 12(Compliment of binary 12+1)"
   ]
  },
  {
   "cell_type": "code",
   "execution_count": 273,
   "metadata": {},
   "outputs": [
    {
     "name": "stdout",
     "output_type": "stream",
     "text": [
      "12\n"
     ]
    }
   ],
   "source": [
    "#Complement(~)\n",
    "x = ~-13\n",
    "print(x) #compliment of decimal -13(compliment of binary -13+1)"
   ]
  },
  {
   "cell_type": "code",
   "execution_count": 274,
   "metadata": {},
   "outputs": [
    {
     "ename": "TypeError",
     "evalue": "bad operand type for unary ~: 'float'",
     "output_type": "error",
     "traceback": [
      "\u001b[31m---------------------------------------------------------------------------\u001b[39m",
      "\u001b[31mTypeError\u001b[39m                                 Traceback (most recent call last)",
      "\u001b[36mCell\u001b[39m\u001b[36m \u001b[39m\u001b[32mIn[274]\u001b[39m\u001b[32m, line 2\u001b[39m\n\u001b[32m      1\u001b[39m \u001b[38;5;66;03m#Complement(~)\u001b[39;00m\n\u001b[32m----> \u001b[39m\u001b[32m2\u001b[39m x = \u001b[43m~\u001b[49m\u001b[32;43m12.35\u001b[39;49m\n\u001b[32m      3\u001b[39m \u001b[38;5;28mprint\u001b[39m(x)\n",
      "\u001b[31mTypeError\u001b[39m: bad operand type for unary ~: 'float'"
     ]
    }
   ],
   "source": [
    "#Complement(~)\n",
    "x = ~12.35\n",
    "print(x)"
   ]
  },
  {
   "cell_type": "code",
   "execution_count": 91,
   "metadata": {},
   "outputs": [
    {
     "name": "stdout",
     "output_type": "stream",
     "text": [
      "12\n"
     ]
    }
   ],
   "source": [
    "#And(&)\n",
    "x = 12 & 13\n",
    "print(x) #Binary of 12+Binary of 13=if both of place values have 1 then only 1 otherwise 0"
   ]
  },
  {
   "cell_type": "code",
   "execution_count": 92,
   "metadata": {},
   "outputs": [
    {
     "name": "stdout",
     "output_type": "stream",
     "text": [
      "13\n"
     ]
    }
   ],
   "source": [
    "#Or(|)\n",
    "x = 12 | 13\n",
    "print(x) #Binary of 12+Binary of 13=if both of place values have 0 then only 0 otherwise 1"
   ]
  },
  {
   "cell_type": "code",
   "execution_count": 93,
   "metadata": {},
   "outputs": [
    {
     "name": "stdout",
     "output_type": "stream",
     "text": [
      "1\n"
     ]
    }
   ],
   "source": [
    "#XOR(^)\n",
    "x = 12 ^ 13\n",
    "print(x)#Binary of 12+Binary of 13=if both of the place values are different then only 1 otherwise 0"
   ]
  },
  {
   "cell_type": "code",
   "execution_count": 94,
   "metadata": {},
   "outputs": [
    {
     "name": "stdout",
     "output_type": "stream",
     "text": [
      "40\n"
     ]
    }
   ],
   "source": [
    "#Left Shift(<<)\n",
    "x = 10 << 2\n",
    "print(x) #Binary format of 10 ie 1010 gains 2 bits and becomes 101000 [int/decimal(101000)=40]"
   ]
  },
  {
   "cell_type": "code",
   "execution_count": 95,
   "metadata": {},
   "outputs": [
    {
     "name": "stdout",
     "output_type": "stream",
     "text": [
      "2\n"
     ]
    }
   ],
   "source": [
    "#Right Shift(>>)\n",
    "x = 10 >> 2\n",
    "print(x) #Binary format of 10 ie 1010 looses 2 bits and become 10 [int/decimal(10)=2]"
   ]
  },
  {
   "cell_type": "markdown",
   "metadata": {},
   "source": [
    "## Unery Operator"
   ]
  },
  {
   "cell_type": "code",
   "execution_count": 96,
   "metadata": {},
   "outputs": [],
   "source": [
    "int = 7"
   ]
  },
  {
   "cell_type": "code",
   "execution_count": 97,
   "metadata": {},
   "outputs": [
    {
     "data": {
      "text/plain": [
       "7"
      ]
     },
     "execution_count": 97,
     "metadata": {},
     "output_type": "execute_result"
    }
   ],
   "source": [
    "int"
   ]
  },
  {
   "cell_type": "code",
   "execution_count": 98,
   "metadata": {},
   "outputs": [
    {
     "data": {
      "text/plain": [
       "-7"
      ]
     },
     "execution_count": 98,
     "metadata": {},
     "output_type": "execute_result"
    }
   ],
   "source": [
    "-int"
   ]
  },
  {
   "cell_type": "code",
   "execution_count": 99,
   "metadata": {},
   "outputs": [],
   "source": [
    "int = -int"
   ]
  },
  {
   "cell_type": "code",
   "execution_count": 100,
   "metadata": {},
   "outputs": [
    {
     "data": {
      "text/plain": [
       "-7"
      ]
     },
     "execution_count": 100,
     "metadata": {},
     "output_type": "execute_result"
    }
   ],
   "source": [
    "int"
   ]
  }
 ],
 "metadata": {
  "kernelspec": {
   "display_name": "Python 3 (ipykernel)",
   "language": "python",
   "name": "python3"
  },
  "language_info": {
   "codemirror_mode": {
    "name": "ipython",
    "version": 3
   },
   "file_extension": ".py",
   "mimetype": "text/x-python",
   "name": "python",
   "nbconvert_exporter": "python",
   "pygments_lexer": "ipython3",
   "version": "3.11.2"
  },
  "toc": {
   "base_numbering": 1,
   "nav_menu": {},
   "number_sections": true,
   "sideBar": true,
   "skip_h1_title": false,
   "title_cell": "Table of Contents",
   "title_sidebar": "Contents",
   "toc_cell": true,
   "toc_position": {
    "height": "calc(100% - 180px)",
    "left": "10px",
    "top": "150px",
    "width": "273.188px"
   },
   "toc_section_display": true,
   "toc_window_display": false
  }
 },
 "nbformat": 4,
 "nbformat_minor": 4
}
