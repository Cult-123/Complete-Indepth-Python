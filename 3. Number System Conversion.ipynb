{
 "cells": [
  {
   "cell_type": "markdown",
   "metadata": {
    "toc": true
   },
   "source": [
    "<h1>Table of Contents<span class=\"tocSkip\"></span></h1>\n",
    "<div class=\"toc\"><ul class=\"toc-item\"><li><span><a href=\"#Number-System\" data-toc-modified-id=\"Number-System-1\"><span class=\"toc-item-num\">1&nbsp;&nbsp;</span>Number System</a></span><ul class=\"toc-item\"><li><ul class=\"toc-item\"><li><span><a href=\"#Int-Decimal-to-other-Convertions\" data-toc-modified-id=\"Int-Decimal-to-other-Convertions-1.0.1\"><span class=\"toc-item-num\">1.0.1&nbsp;&nbsp;</span>Int Decimal to other Convertions</a></span></li><li><span><a href=\"#Float-Decimal-to-other-Convertions\" data-toc-modified-id=\"Float-Decimal-to-other-Convertions-1.0.2\"><span class=\"toc-item-num\">1.0.2&nbsp;&nbsp;</span>Float Decimal to other Convertions</a></span></li><li><span><a href=\"#Binary-to-other-Convertions\" data-toc-modified-id=\"Binary-to-other-Convertions-1.0.3\"><span class=\"toc-item-num\">1.0.3&nbsp;&nbsp;</span>Binary to other Convertions</a></span></li><li><span><a href=\"#Octal-to-other-Convertions\" data-toc-modified-id=\"Octal-to-other-Convertions-1.0.4\"><span class=\"toc-item-num\">1.0.4&nbsp;&nbsp;</span>Octal to other Convertions</a></span></li><li><span><a href=\"#Hexadecimal-to-other-Conversions\" data-toc-modified-id=\"Hexadecimal-to-other-Conversions-1.0.5\"><span class=\"toc-item-num\">1.0.5&nbsp;&nbsp;</span>Hexadecimal to other Conversions</a></span></li><li><span><a href=\"#Complex-to-other-Conversions\" data-toc-modified-id=\"Complex-to-other-Conversions-1.0.6\"><span class=\"toc-item-num\">1.0.6&nbsp;&nbsp;</span>Complex to other Conversions</a></span></li></ul></li></ul></li><li><span><a href=\"#Swap-2-Variables\" data-toc-modified-id=\"Swap-2-Variables-2\"><span class=\"toc-item-num\">2&nbsp;&nbsp;</span>Swap 2 Variables</a></span></li></ul></div>"
   ]
  },
  {
   "cell_type": "markdown",
   "metadata": {},
   "source": [
    "# Number System"
   ]
  },
  {
   "cell_type": "code",
   "execution_count": 1,
   "metadata": {},
   "outputs": [],
   "source": [
    "#Binary\n",
    "#Decimal\n",
    "#Octal\n",
    "#Hexadecimal"
   ]
  },
  {
   "cell_type": "markdown",
   "metadata": {},
   "source": [
    "### Int Decimal to other Convertions"
   ]
  },
  {
   "cell_type": "code",
   "execution_count": 2,
   "metadata": {},
   "outputs": [
    {
     "name": "stdout",
     "output_type": "stream",
     "text": [
      "0b101101101\n",
      "365.0\n",
      "0x16d\n",
      "0o555\n",
      "(365+0j)\n"
     ]
    },
    {
     "data": {
      "text/plain": [
       "(None, None, None, None, None)"
      ]
     },
     "execution_count": 2,
     "metadata": {},
     "output_type": "execute_result"
    }
   ],
   "source": [
    "Decimal=365 #int 365 is in decimal format\n",
    "Bin=bin(Decimal) #Convert 365 into binary format\n",
    "Float=float(Decimal) #Convert 365 into float format\n",
    "Hexadecimal=hex(Decimal) #Convert 365 into Hex format\n",
    "Octal=oct(Decimal) #Convert 365 into Octal format\n",
    "Complex=complex(Decimal) #Convert 365 into Complex format\n",
    "print(Bin),print(Float),print(Hexadecimal),print(Octal),print(Complex)"
   ]
  },
  {
   "cell_type": "markdown",
   "metadata": {},
   "source": [
    "### Float Decimal to other Convertions"
   ]
  },
  {
   "cell_type": "code",
   "execution_count": 3,
   "metadata": {},
   "outputs": [
    {
     "name": "stdout",
     "output_type": "stream",
     "text": [
      "365\n",
      "(365.65+0j)\n"
     ]
    },
    {
     "ename": "TypeError",
     "evalue": "'float' object cannot be interpreted as an integer",
     "output_type": "error",
     "traceback": [
      "\u001b[1;31m---------------------------------------------------------------------------\u001b[0m",
      "\u001b[1;31mTypeError\u001b[0m                                 Traceback (most recent call last)",
      "\u001b[1;32m<ipython-input-3-1428b45a23af>\u001b[0m in \u001b[0;36m<module>\u001b[1;34m\u001b[0m\n\u001b[0;32m      5\u001b[0m \u001b[0mComplex\u001b[0m\u001b[1;33m=\u001b[0m\u001b[0mcomplex\u001b[0m\u001b[1;33m(\u001b[0m\u001b[0mFloat\u001b[0m\u001b[1;33m)\u001b[0m \u001b[1;31m#Convert float into Complex\u001b[0m\u001b[1;33m\u001b[0m\u001b[1;33m\u001b[0m\u001b[0m\n\u001b[0;32m      6\u001b[0m \u001b[0mprint\u001b[0m\u001b[1;33m(\u001b[0m\u001b[0mComplex\u001b[0m\u001b[1;33m)\u001b[0m\u001b[1;33m\u001b[0m\u001b[1;33m\u001b[0m\u001b[0m\n\u001b[1;32m----> 7\u001b[1;33m \u001b[0mBin\u001b[0m\u001b[1;33m=\u001b[0m\u001b[0mbin\u001b[0m\u001b[1;33m(\u001b[0m\u001b[0mFloat\u001b[0m\u001b[1;33m)\u001b[0m \u001b[1;31m#Convert float into binary\u001b[0m\u001b[1;33m\u001b[0m\u001b[1;33m\u001b[0m\u001b[0m\n\u001b[0m\u001b[0;32m      8\u001b[0m \u001b[0mprint\u001b[0m\u001b[1;33m(\u001b[0m\u001b[0mBin\u001b[0m\u001b[1;33m)\u001b[0m\u001b[1;33m\u001b[0m\u001b[1;33m\u001b[0m\u001b[0m\n\u001b[0;32m      9\u001b[0m \u001b[0mHexadecimal\u001b[0m\u001b[1;33m=\u001b[0m\u001b[0mhex\u001b[0m\u001b[1;33m(\u001b[0m\u001b[0mFloat\u001b[0m\u001b[1;33m)\u001b[0m \u001b[1;31m#Convert float into Hexadecimal\u001b[0m\u001b[1;33m\u001b[0m\u001b[1;33m\u001b[0m\u001b[0m\n",
      "\u001b[1;31mTypeError\u001b[0m: 'float' object cannot be interpreted as an integer"
     ]
    }
   ],
   "source": [
    "#You can convert float into Integer and Complex format only\n",
    "Float=365.65 #365.65 is in Float format\n",
    "Integer=int(Float) #Convert float into Integer\n",
    "print(Integer)\n",
    "Complex=complex(Float) #Convert float into Complex\n",
    "print(Complex)\n",
    "Bin=bin(Float) #Convert float into binary\n",
    "print(Bin)\n",
    "Hexadecimal=hex(Float) #Convert float into Hexadecimal\n",
    "print(Hexadecimal)\n",
    "Octal=oct(Float) #Convert float into Octal\n",
    "print(Octal)"
   ]
  },
  {
   "cell_type": "code",
   "execution_count": 4,
   "metadata": {},
   "outputs": [
    {
     "name": "stdout",
     "output_type": "stream",
     "text": [
      "365\n",
      "(365.65+0j)\n"
     ]
    },
    {
     "data": {
      "text/plain": [
       "(None, None)"
      ]
     },
     "execution_count": 4,
     "metadata": {},
     "output_type": "execute_result"
    }
   ],
   "source": [
    "Float=365.65 #365.65 is in Float format\n",
    "Integer=int(Float) #Convert float into Integer\n",
    "Complex=complex(Float) #Convert float into Complex\n",
    "print(Integer),print(Complex)"
   ]
  },
  {
   "cell_type": "markdown",
   "metadata": {},
   "source": [
    "### Binary to other Convertions"
   ]
  },
  {
   "cell_type": "code",
   "execution_count": 5,
   "metadata": {},
   "outputs": [
    {
     "name": "stdout",
     "output_type": "stream",
     "text": [
      "365\n",
      "(365+0j)\n",
      "365.0\n",
      "0x16d\n",
      "0o555\n"
     ]
    },
    {
     "data": {
      "text/plain": [
       "(None, None, None, None, None)"
      ]
     },
     "execution_count": 5,
     "metadata": {},
     "output_type": "execute_result"
    }
   ],
   "source": [
    "Binary=0b101101101\n",
    "Integer=int(Binary) #Convert binary into Integer\n",
    "Complex=complex(Binary) #Convert binary into Complex\n",
    "Float=float(Binary) #Convert binary into float\n",
    "Hexadecimal=hex(Binary) #Convert binary into Hexadecimal\n",
    "Octal=oct(Binary) #Convert binary into Octal\n",
    "print(Integer),print(Complex),print(Float),print(Hexadecimal),print(Octal)"
   ]
  },
  {
   "cell_type": "markdown",
   "metadata": {},
   "source": [
    "### Octal to other Convertions"
   ]
  },
  {
   "cell_type": "code",
   "execution_count": 6,
   "metadata": {},
   "outputs": [
    {
     "name": "stdout",
     "output_type": "stream",
     "text": [
      "0b101101101\n",
      "365\n",
      "(365+0j)\n",
      "365.0\n",
      "0x16d\n"
     ]
    },
    {
     "data": {
      "text/plain": [
       "(None, None, None, None, None)"
      ]
     },
     "execution_count": 6,
     "metadata": {},
     "output_type": "execute_result"
    }
   ],
   "source": [
    "Octal=0o555\n",
    "Binary=bin(Octal)\n",
    "Integer=int(Octal) #Convert Octal into Integer\n",
    "Complex=complex(Octal) #Convert Octal into Complex\n",
    "Float=float(Octal) #Convert Octal into float\n",
    "Hexadecimal=hex(Octal) #Convert Octal into Hexadecimal\n",
    "print(Binary),print(Integer),print(Complex),print(Float),print(Hexadecimal)"
   ]
  },
  {
   "cell_type": "markdown",
   "metadata": {},
   "source": [
    "### Hexadecimal to other Conversions"
   ]
  },
  {
   "cell_type": "code",
   "execution_count": 7,
   "metadata": {},
   "outputs": [
    {
     "name": "stdout",
     "output_type": "stream",
     "text": [
      "0b101101101\n",
      "365\n",
      "(365+0j)\n",
      "365.0\n",
      "0o555\n"
     ]
    },
    {
     "data": {
      "text/plain": [
       "(None, None, None, None, None)"
      ]
     },
     "execution_count": 7,
     "metadata": {},
     "output_type": "execute_result"
    }
   ],
   "source": [
    "Hexadecimal=0x16d\n",
    "Binary=bin(Hexadecimal)\n",
    "Integer=int(Hexadecimal) #Convert Hexadecimal into Integer\n",
    "Complex=complex(Hexadecimal) #Convert Hexadecimal into Complex\n",
    "Float=float(Hexadecimal) #Convert Hexadecimal into float\n",
    "Octal=oct(Hexadecimal) #Convert Hexadecimal into Octal\n",
    "print(Binary),print(Integer),print(Complex),print(Float),print(Octal)"
   ]
  },
  {
   "cell_type": "markdown",
   "metadata": {},
   "source": [
    "### Complex to other Conversions"
   ]
  },
  {
   "cell_type": "code",
   "execution_count": 8,
   "metadata": {},
   "outputs": [
    {
     "ename": "TypeError",
     "evalue": "can't convert complex to int",
     "output_type": "error",
     "traceback": [
      "\u001b[1;31m---------------------------------------------------------------------------\u001b[0m",
      "\u001b[1;31mTypeError\u001b[0m                                 Traceback (most recent call last)",
      "\u001b[1;32m<ipython-input-8-d209839341bd>\u001b[0m in \u001b[0;36m<module>\u001b[1;34m\u001b[0m\n\u001b[0;32m      1\u001b[0m \u001b[1;31m#You can't convert Complex to any other numeric format\u001b[0m\u001b[1;33m\u001b[0m\u001b[1;33m\u001b[0m\u001b[1;33m\u001b[0m\u001b[0m\n\u001b[0;32m      2\u001b[0m \u001b[0mComplex\u001b[0m\u001b[1;33m=\u001b[0m\u001b[1;36m18\u001b[0m\u001b[1;33m+\u001b[0m\u001b[1;36m8j\u001b[0m\u001b[1;33m\u001b[0m\u001b[1;33m\u001b[0m\u001b[0m\n\u001b[1;32m----> 3\u001b[1;33m \u001b[0mInteger\u001b[0m\u001b[1;33m=\u001b[0m\u001b[0mint\u001b[0m\u001b[1;33m(\u001b[0m\u001b[0mComplex\u001b[0m\u001b[1;33m)\u001b[0m \u001b[1;31m#Convert Complex to Decimal(int)\u001b[0m\u001b[1;33m\u001b[0m\u001b[1;33m\u001b[0m\u001b[0m\n\u001b[0m\u001b[0;32m      4\u001b[0m \u001b[0mprint\u001b[0m\u001b[1;33m(\u001b[0m\u001b[0mInteger\u001b[0m\u001b[1;33m)\u001b[0m\u001b[1;33m\u001b[0m\u001b[1;33m\u001b[0m\u001b[0m\n\u001b[0;32m      5\u001b[0m \u001b[0mFloat\u001b[0m\u001b[1;33m=\u001b[0m\u001b[0mfloat\u001b[0m\u001b[1;33m(\u001b[0m\u001b[0mComplex\u001b[0m\u001b[1;33m)\u001b[0m \u001b[1;31m#Convert Complex to Decimal(float)\u001b[0m\u001b[1;33m\u001b[0m\u001b[1;33m\u001b[0m\u001b[0m\n",
      "\u001b[1;31mTypeError\u001b[0m: can't convert complex to int"
     ]
    }
   ],
   "source": [
    "#You can't convert Complex to any other numeric format\n",
    "Complex=18+8j\n",
    "Integer=int(Complex) #Convert Complex to Decimal(int)\n",
    "print(Integer)\n",
    "Float=float(Complex) #Convert Complex to Decimal(float)\n",
    "print(Float)\n",
    "Octal=oct(Complex)   #Convert Complex to Octal\n",
    "print(Octal)\n",
    "Hexadecimal=hex(Complex)     #Convert Complex to hex\n",
    "print(Hexadecimal)\n",
    "Binary=bin(Complex)          #Convert Complex to binary\n",
    "print(Binary)"
   ]
  },
  {
   "cell_type": "markdown",
   "metadata": {},
   "source": [
    "# Swap 2 Variables"
   ]
  },
  {
   "cell_type": "code",
   "execution_count": 9,
   "metadata": {},
   "outputs": [],
   "source": [
    "# SWAP VALUES\n",
    "a=5\n",
    "b=6"
   ]
  },
  {
   "cell_type": "code",
   "execution_count": 10,
   "metadata": {},
   "outputs": [],
   "source": [
    "a=a+b\n",
    "b=a-b\n",
    "a=a-b"
   ]
  },
  {
   "cell_type": "code",
   "execution_count": 11,
   "metadata": {},
   "outputs": [
    {
     "name": "stdout",
     "output_type": "stream",
     "text": [
      "6\n"
     ]
    }
   ],
   "source": [
    "print(a)"
   ]
  },
  {
   "cell_type": "code",
   "execution_count": 12,
   "metadata": {},
   "outputs": [
    {
     "name": "stdout",
     "output_type": "stream",
     "text": [
      "5\n"
     ]
    }
   ],
   "source": [
    "print(b)"
   ]
  },
  {
   "cell_type": "code",
   "execution_count": 13,
   "metadata": {},
   "outputs": [],
   "source": [
    "# SWAP VALUES using XOR(^)\n",
    "a=5\n",
    "b=6"
   ]
  },
  {
   "cell_type": "code",
   "execution_count": 14,
   "metadata": {},
   "outputs": [],
   "source": [
    "a=a^b\n",
    "b=a^b\n",
    "a=a^b"
   ]
  },
  {
   "cell_type": "code",
   "execution_count": 15,
   "metadata": {},
   "outputs": [
    {
     "name": "stdout",
     "output_type": "stream",
     "text": [
      "6\n"
     ]
    }
   ],
   "source": [
    "print(a)"
   ]
  },
  {
   "cell_type": "code",
   "execution_count": 16,
   "metadata": {},
   "outputs": [
    {
     "name": "stdout",
     "output_type": "stream",
     "text": [
      "5\n"
     ]
    }
   ],
   "source": [
    "print(b)"
   ]
  },
  {
   "cell_type": "code",
   "execution_count": 17,
   "metadata": {},
   "outputs": [],
   "source": [
    "#Simple Swaping\n",
    "a=5\n",
    "b=6"
   ]
  },
  {
   "cell_type": "code",
   "execution_count": 18,
   "metadata": {},
   "outputs": [],
   "source": [
    "a,b=b,a"
   ]
  },
  {
   "cell_type": "code",
   "execution_count": 11,
   "metadata": {},
   "outputs": [
    {
     "name": "stdout",
     "output_type": "stream",
     "text": [
      "6 5\n"
     ]
    }
   ],
   "source": [
    "print(a,b)"
   ]
  }
 ],
 "metadata": {
  "kernelspec": {
   "display_name": "Python 3",
   "language": "python",
   "name": "python3"
  },
  "language_info": {
   "codemirror_mode": {
    "name": "ipython",
    "version": 3
   },
   "file_extension": ".py",
   "mimetype": "text/x-python",
   "name": "python",
   "nbconvert_exporter": "python",
   "pygments_lexer": "ipython3",
   "version": "3.8.8"
  },
  "toc": {
   "base_numbering": 1,
   "nav_menu": {},
   "number_sections": true,
   "sideBar": true,
   "skip_h1_title": false,
   "title_cell": "Table of Contents",
   "title_sidebar": "Contents",
   "toc_cell": true,
   "toc_position": {},
   "toc_section_display": true,
   "toc_window_display": false
  }
 },
 "nbformat": 4,
 "nbformat_minor": 2
}
