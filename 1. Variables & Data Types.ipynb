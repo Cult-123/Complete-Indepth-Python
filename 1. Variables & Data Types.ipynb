{
 "cells": [
  {
   "cell_type": "markdown",
   "metadata": {
    "toc": true
   },
   "source": [
    "<h1>Table of Contents (Everything in Python is an Object)<span class=\"tocSkip\"></span></h1>\n",
    "<div class=\"toc\"><ul class=\"toc-item\"><li><span><a href=\"#Variables-&amp;-Data-Types-In-Python\" data-toc-modified-id=\"Variables-&amp;-Data-Types-In-Python-1\"><span class=\"toc-item-num\">1&nbsp;&nbsp;</span>Variables &amp; Data Types In Python</a></span><ul class=\"toc-item\"><li><span><a href=\"#Data-Types\" data-toc-modified-id=\"Data-Types-1.1\"><span class=\"toc-item-num\">1.1&nbsp;&nbsp;</span>Data Types</a></span><ul class=\"toc-item\"><li><ul class=\"toc-item\"><li><span><a href=\"#You-can-perform-Airthmatic-Operations-between-Numerical-datas-including-Complex-data\" data-toc-modified-id=\"You-can-perform-Airthmatic-Operations-between-Numerical-datas-including-Complex-data-1.1.0.1\"><span class=\"toc-item-num\">1.1.0.1&nbsp;&nbsp;</span>You can perform Airthmatic Operations between Numerical datas including Complex data</a></span></li></ul></li></ul></li><li><span><a href=\"#Data-types-Conversion\" data-toc-modified-id=\"Data-types-Conversion-1.2\"><span class=\"toc-item-num\">1.2&nbsp;&nbsp;</span>Data types Conversion</a></span></li></ul></li><li><span><a href=\"#Variables\" data-toc-modified-id=\"Variables-2\"><span class=\"toc-item-num\">2&nbsp;&nbsp;</span>Variables</a></span><ul class=\"toc-item\"><li><span><a href=\"#Lists\" data-toc-modified-id=\"Lists-2.1\"><span class=\"toc-item-num\">2.1&nbsp;&nbsp;</span>Lists</a></span><ul class=\"toc-item\"><li><span><a href=\"#Perform-Insert,-Remove-&amp;-Replace-task-at-a-time\" data-toc-modified-id=\"Perform-Insert,-Remove-&amp;-Replace-task-at-a-time-2.1.1\"><span class=\"toc-item-num\">2.1.1&nbsp;&nbsp;</span>Perform Insert, Remove &amp; Replace task at a time</a></span></li></ul></li><li><span><a href=\"#Tuples\" data-toc-modified-id=\"Tuples-2.2\"><span class=\"toc-item-num\">2.2&nbsp;&nbsp;</span>Tuples</a></span></li><li><span><a href=\"#Set\" data-toc-modified-id=\"Set-2.3\"><span class=\"toc-item-num\">2.3&nbsp;&nbsp;</span>Set</a></span></li><li><span><a href=\"#Dictionary\" data-toc-modified-id=\"Dictionary-2.4\"><span class=\"toc-item-num\">2.4&nbsp;&nbsp;</span>Dictionary</a></span></li><li><span><a href=\"#Range\" data-toc-modified-id=\"Range-2.5\"><span class=\"toc-item-num\">2.5&nbsp;&nbsp;</span>Range</a></span></li></ul></li></ul></div>"
   ]
  },
  {
   "cell_type": "markdown",
   "metadata": {},
   "source": [
    "# Variables & Data Types In Python"
   ]
  },
  {
   "cell_type": "markdown",
   "metadata": {},
   "source": [
    "## Data Types\n",
    "#### You can perform Airthmatic Operations between Numerical datas including Complex data and Boolean data also.\n",
    "1. Integer\n",
    "2. Float\n",
    "3. Complex\n",
    "4. Bool\n",
    "5. Word String\n",
    "6. Int String\n",
    "7. Float String\n",
    "8. Complex String\n",
    "9. None"
   ]
  },
  {
   "cell_type": "code",
   "execution_count": 5,
   "metadata": {},
   "outputs": [
    {
     "name": "stdout",
     "output_type": "stream",
     "text": [
      "['!', '#', '$', '%', '&', \"'\", '(', ')', '*', '+', ',', '-', '.', '/', '1', '2', '3', '4', '5', '6', '7', ':', ';', '<', '=', '>', '?', '@', 'A', 'B', 'C', 'D', 'E', 'F', 'G', '[', '\\\\', ']', '^', '_', 'a', 'b', 'c', 'd', 'e', 'f', 'g', '{', '|', '}', '~']\n",
      "<class 'list'>\n",
      "!#$%&'()*+,-./1234567:;<=>?@ABCDEFG[\\]^_abcdefg{|}~\n",
      "<class 'str'>\n"
     ]
    }
   ],
   "source": [
    "String = \"7eAF1cB3d5GCb4Eg2aDf6~!@#$%^&*()_+{}|-=[]\\;:',<.>/?\"\n",
    "Sorted_String_List = sorted(String)   # sorted() has converted string variable into sorted list[] having individual string letter elements\n",
    "print(Sorted_String_List)\n",
    "print(type(Sorted_String_List))\n",
    "String = \"\".join(Sorted_String_List)   # join() has joined back list[] string letter elements into string variable but in a sorted way\n",
    "print(String)\n",
    "print(type(String))"
   ]
  },
  {
   "cell_type": "code",
   "execution_count": 8,
   "metadata": {},
   "outputs": [
    {
     "name": "stdout",
     "output_type": "stream",
     "text": [
      "[':', '|', '*', ';', '3', 'B', \"'\", '!', 'E', ']', 'A', '.', '#', '}', '7', '^', '1', '\\\\']\n",
      "<class 'list'>\n",
      ":|*;3B'!E]A.#}7^1\\\n",
      "<class 'str'>\n"
     ]
    }
   ],
   "source": [
    "import random\n",
    "\n",
    "String = \"7eAF1cB3d5GCb4Eg2aDf6~!@#$%^&*()_+{}|-=[]\\;:',<.>/?\"\n",
    "RandSamp_String_List = random.sample(String, 18)      # random.sample() collects 18 random sample from String & make list[] string elements\n",
    "print(RandSamp_String_List)\n",
    "print(type(RandSamp_String_List))\n",
    "RandSampString = \"\".join(RandSamp_String_List)       # rejoin the random sample list[] string elements to from String\n",
    "print(RandSampString)\n",
    "print(type(RandSampString))"
   ]
  },
  {
   "cell_type": "code",
   "execution_count": 8,
   "metadata": {},
   "outputs": [
    {
     "name": "stdout",
     "output_type": "stream",
     "text": [
      "10\n",
      "<class 'int'>\n"
     ]
    },
    {
     "data": {
      "text/plain": [
       "10"
      ]
     },
     "execution_count": 8,
     "metadata": {},
     "output_type": "execute_result"
    }
   ],
   "source": [
    "Integer = 10            # Integer\n",
    "print(10)               # Expression got calculated & printed by print() command\n",
    "print(type(10))         # Check the type\n",
    "10                      # Last line expression got printed by default"
   ]
  },
  {
   "cell_type": "code",
   "execution_count": 12,
   "metadata": {
    "scrolled": true
   },
   "outputs": [
    {
     "name": "stdout",
     "output_type": "stream",
     "text": [
      "(67.89-8j)\n",
      "(6-4j)\n",
      "8\n",
      "(-0.24257327518098384-0.9701330868329204j)\n",
      "(-46656+0j)\n",
      "1\n"
     ]
    }
   ],
   "source": [
    "print(10 + 45.89 + (12-8j) / True)     # Numbers got added with the Real part of the Complex number, j = sqrt(-1)\n",
    "                                       # Imaginary part got devided by True as boolean value 1\n",
    "\n",
    "print((12-8j) / 2)                     # Both Real & Imaginary part got devided by 2\n",
    "\n",
    "print(2**3)                            # 2 to the power 3\n",
    "\n",
    "print(6**(6j))                         # 6 to the power 6j\n",
    "\n",
    "print((6j)**6)                         # 6j to the power 6 means 6^6 * j^6\n",
    "\n",
    "print(True**6)                        # Boolean can perform arithmetic operations also.\n",
    "                                      # True acts as 1 and False acts as 0"
   ]
  },
  {
   "cell_type": "code",
   "execution_count": 13,
   "metadata": {},
   "outputs": [
    {
     "name": "stdout",
     "output_type": "stream",
     "text": [
      "(-48+16j)\n",
      "(7+4j)\n",
      "(7+17j)\n",
      "(1-16.970562748477143j)\n",
      "(1.9739888359315634-1.7468101635497426j)\n",
      "(-104-34j)\n",
      "(-1.0561797752808988+0.0898876404494382j)\n",
      "(-2.08+0.56j)\n",
      "(-3+68j)\n",
      "(21-4j)\n",
      "(511+320j)\n",
      "(1.959184876257771e+60+2.594847567247802e+59j)\n"
     ]
    }
   ],
   "source": [
    "from math import sqrt\n",
    "print((8+7j) - (56-9j))\n",
    "\n",
    "print((3 + 6j) + (4 - 2j))\n",
    "\n",
    "print((5 + 8j) + (2 + 9j))\n",
    "\n",
    "print((3 - (sqrt(2)*6j)) - (2 + (sqrt(2)*6j)))\n",
    "\n",
    "print((3 - (sqrt(2)**6j)) - (2 + (sqrt(2)**6j)))\n",
    "\n",
    "print((-8 + 10j) * (3 + 8j))\n",
    "\n",
    "print((-8 + 6j) / (8 - 5j))\n",
    "\n",
    "print((10 + 4j) / (-4 - 3j))\n",
    "\n",
    "print((8 + 7j) * (4 + 5j))\n",
    "\n",
    "print((9 - 6j) + (12 + 2j))\n",
    "\n",
    "print((8+7j) * (56-9j))\n",
    "\n",
    "print((8+7j) ** (56-9j))"
   ]
  },
  {
   "cell_type": "code",
   "execution_count": 18,
   "metadata": {},
   "outputs": [
    {
     "name": "stdout",
     "output_type": "stream",
     "text": [
      "21\n"
     ]
    },
    {
     "data": {
      "text/plain": [
       "60"
      ]
     },
     "execution_count": 18,
     "metadata": {},
     "output_type": "execute_result"
    }
   ],
   "source": [
    "print(10 + 10 + True)        # Expression got calculated & printed by print() command\n",
    "24 + 23                      # Expression got calculated but thrown away\n",
    "30 + 30                      # Last line expression got printed by default\n",
    "                              # Boolean can perform arithmetic operations also.\n",
    "                            # True acts as 1 and False acts as 0"
   ]
  },
  {
   "cell_type": "code",
   "execution_count": 19,
   "metadata": {},
   "outputs": [
    {
     "name": "stdout",
     "output_type": "stream",
     "text": [
      "47\n"
     ]
    },
    {
     "data": {
      "text/plain": [
       "60"
      ]
     },
     "execution_count": 19,
     "metadata": {},
     "output_type": "execute_result"
    }
   ],
   "source": [
    "10 + 10                       # Expression got calculated but thrown away\n",
    "print(24 + 23)                # Expression got calculated & printed by print() command\n",
    "30 + 30                       # Last line expression got printed by default"
   ]
  },
  {
   "cell_type": "code",
   "execution_count": 26,
   "metadata": {},
   "outputs": [
    {
     "name": "stdout",
     "output_type": "stream",
     "text": [
      "20 47 60\n"
     ]
    },
    {
     "data": {
      "text/plain": [
       "(20, 47, 60)"
      ]
     },
     "execution_count": 26,
     "metadata": {},
     "output_type": "execute_result"
    }
   ],
   "source": [
    "print(10 + 10, 24 + 23, 30 + 30)              # Expression got calculated & printed by print() command\n",
    "23 + 99, 45 + 56                              # Expressions got calculated but thrown away\n",
    "10 + 10, 24 + 23, 30 + 30                     # Last line expression got printed by default"
   ]
  },
  {
   "cell_type": "code",
   "execution_count": 82,
   "metadata": {},
   "outputs": [
    {
     "name": "stdout",
     "output_type": "stream",
     "text": [
      "2\n",
      "(1+0j) 1\n",
      "0\n",
      "0\n",
      "2\n",
      "2\n",
      "True True False False True True False True True True\n",
      "(3+9j) 56 78.99 True None\n",
      "(45+0j) (22.22+0j) (1+0j) (56+0j) (22.22+0j) (5-9j)\n",
      "34 1 34\n",
      "45.0 1.0 56.44 49.0\n",
      "True False 1 0 0.0 1.0 (1+0j) 0j\n",
      "True\n",
      "False\n",
      "True (49+0j) 49 49.0\n",
      "True (33.33+0j) 33.33\n",
      "True (9-5j)\n",
      "True (9-5j)\n",
      "True (78.68+0j) 78 78.68\n",
      "True (55+0j) 55 55.0\n",
      "False None\n"
     ]
    }
   ],
   "source": [
    "print(False + False + True + True)\n",
    "print(True + 0j, True*True)\n",
    "print(False + False)\n",
    "print(int(False) + int(False))\n",
    "print(True + True)\n",
    "print(int(True) + int(True))\n",
    "\n",
    "\n",
    "# Word String, Complex, None, Integer, Float, Int String, Float String, Complex String, Empty String are convertible to Boolean\n",
    "print(bool(\"String\"), bool(3+9j), bool(None), bool(0), bool(-2), bool(-99.89), bool(\"\"), bool(\"49\"), bool(\"99.99\"), bool(\"8-3j\"))\n",
    "\n",
    "# Integer, Float, Boolean, None, Complex are convertible to String\n",
    "print(str(3+9j), str(56), str(78.99), str(True), str(None))\n",
    "\n",
    "# Integer, Float, Boolean, Int String, Float String & Complex String are convertible to Complex\n",
    "print(complex(45), complex(22.22), complex(True), complex(\"56\"), complex(\"22.22\"), complex(\"5-9j\"))\n",
    "\n",
    "# Float, Boolean, Int String are convertible to Integer\n",
    "print(int(34.33), int(True), int(\"34\"))\n",
    "\n",
    "# Integer, Boolean, Float String, Int String are convertible to Float\n",
    "print(float(45), float(True), float(\"56.44\"), float(\"49\"))\n",
    "\n",
    "\n",
    "# Boolean is convertible to Word String, Integer, Float & Complex\n",
    "print(str(True), str(False), int(True), int(False), float(False), float(True), complex(True), complex(False))\n",
    "\n",
    "# Word String is convertible to Boolean only\n",
    "print(bool(\"String\"))\n",
    "\n",
    "# Empty String is convertible to Boolean only\n",
    "print(bool(\"\"))\n",
    "\n",
    "# Int String is convertible to Boolean, Complex, Integer & Float\n",
    "print(bool(\"49\"), complex(\"49\"), int(\"49\"), float(\"49\"))\n",
    "\n",
    "# Float String is convertible to Boolean, Complex & Float\n",
    "print(bool(\"33.33\"), complex(\"33.33\"), float(\"33.33\"))\n",
    "\n",
    "# Complex String is convertible to Boolean & Complex only\n",
    "print(bool(\"9-5j\"), complex(\"9-5j\"))\n",
    "\n",
    "# Complex is convertibe to Boolean & Complex String\n",
    "print(bool(9-5j), str(9-5j))\n",
    "\n",
    "# Float is convertible to Boolean, Complex, Integer & Float String\n",
    "print(bool(78.68), complex(78.68), int(78.68), str(78.68))\n",
    "\n",
    "# Integer is convertible to Boolean, Complex, Int String & Float\n",
    "print(bool(55), complex(55), str(55), float(55))\n",
    "\n",
    "# None is convertible to Boolean & String\n",
    "print(bool(None), str(None))"
   ]
  },
  {
   "cell_type": "code",
   "execution_count": 17,
   "metadata": {},
   "outputs": [
    {
     "name": "stdout",
     "output_type": "stream",
     "text": [
      "0\n",
      "3\n",
      "10\n",
      "4\n"
     ]
    }
   ],
   "source": [
    "# We can do arithmetic operation using Boolean values also\n",
    "\n",
    "print(3 * False)\n",
    "print(3 * True)\n",
    "print(9 + True)\n",
    "print(2 * (True + True))"
   ]
  },
  {
   "cell_type": "code",
   "execution_count": 18,
   "metadata": {},
   "outputs": [
    {
     "name": "stdout",
     "output_type": "stream",
     "text": [
      "(44.5+12j)\n",
      "(45.5+22j)\n",
      "0j\n",
      "0j\n",
      "(0.10666666666666667-0.08j)\n",
      "(6+4.5j)\n",
      "81\n",
      "(12+9j)\n",
      "(12+0j)\n",
      "(936+702j) (8-9j) (0.27645333552466145+0.3425391766826218j) (6-7j) (89+9j) (1.3444806027305514+0.4268282812305955j) (-4.526470816370585e+130-4.596458833614331e+130j)\n",
      "(3-4.6j)\n",
      "(0.004936666705797526+0.006116771012189675j)\n",
      "(936+702j)\n",
      "(936+702j) (936+702j) (1.4267857142857143-1.7678571428571428j) (0.27645333552466145+0.3425391766826218j)\n",
      "(0.27645333552466145+0.3425391766826218j)\n",
      "(0.11538461538461539+0.07692307692307693j)\n",
      "(13+10j)\n"
     ]
    }
   ],
   "source": [
    "# Plus (+), Minus (-), Multiplication (*), Division (/), Floor Division (//), Remainder (%), Power (**)\n",
    "\n",
    "\n",
    "\n",
    "print((10 + 1j) + (22.5 + 2j) + (False + 0j) + (12+9j))        # Addition of Integer, Float, Boolean, Complex\n",
    "print((10 + 3j) + (22.5 + 4j) + (True + 6j) + (12+9j))         # Addition of Integer, Float, Boolean, Complex\n",
    "print(0 * (12+9j))                                             # 0 will be multiplied with 12 Real part\n",
    "print((12+9j) * 0)          # 0 will be multiplied with 9j imaginary part\n",
    "print(2 / (12+9j))          # 2 will be divided by 12 Real part\n",
    "print((12+9j) / 2)          # 9j imaginary part will be divided by 2\n",
    "print(9 ** 2)               # 9 square is 81\n",
    "\n",
    "print(10 * 22.5 * False + 12+9j * True)\n",
    "print(10 * 22.5 * False + 12+9j * False)\n",
    "print((12+9j) * 78, True * (8-9j), 56 / (79.9-99j), (8-7j) - 2, (89+7j) + 2j, True / (79.9-99j) * 69.78 + True, (78-6j) ** (69+5j))\n",
    "print(78 // 25-4.6j)      # 78 got floor divided by 25 Real part\n",
    "print(True / (79.9-99j))    # True as 1 got divided by 79.9 Real part\n",
    "print((12+9j) * 78)       # 12 Real part got multiplied by 78 & 9j Imaginary part got multiplied by 78\n",
    "\n",
    "print((12+9j) * 78, (12+9j) * 78, (79.9-99j) / 56, 56 / (79.9-99j))\n",
    "print(56 / (79.9-99j))      # 56 / (79.9 - 99j) = [56 (79.9 + 99j)] / [(79.9 - 99j) (79.9 + 99j)] = (4474.4 + 5544j) / (79.9^2 - (99j)^2)\n",
    "                            #                    = (4474.4 + 5544j) / (79.9^2 - (99j)^2) = (4474.4 + 5544j) / (6384.01 + 9801)\n",
    "                            #                                                            = (4474.4 + 5544j) / (16185.01)\n",
    "                            #                                                            = (4474.4 / 16185.01) + (5544j / 16185.01)\n",
    "                            #                                                            = 0.27645333552466145+0.3425391766826218j\n",
    "\n",
    "print(2 / (12-8j))          # 2 / (12-8j) = [2 (12 + 8j)] / [(12 - 8j) (12 + 8j)] = (24 + 16j) / (12^2 - (8j)^2)\n",
    "                            #                                                     = (24 + 16j) / (144 + 64)\n",
    "                            #                                                     = (24 + 16j) / (208)\n",
    "                            #                                                     = 0.11538461538461539+0.07692307692307693j\n",
    "\n",
    "print((1 + 1j) + (12 + 9j))\n",
    "# print(4.6j // 2) imaginary part is not floor divisible by any number\n",
    "# print(9j % 2) imaginary part is not remainder divisible by any number"
   ]
  },
  {
   "cell_type": "code",
   "execution_count": 19,
   "metadata": {},
   "outputs": [
    {
     "name": "stdout",
     "output_type": "stream",
     "text": [
      "(-18+0j)\n",
      "(-77-36j)\n",
      "(4091.8791304844663-183.68772823922546j)\n",
      "(63+216j)\n"
     ]
    }
   ],
   "source": [
    "print(9j * 2j)     # = 18j^2 = 18 * (-1) = -18\n",
    "print((2-9j) ** 2) # = 2^2 - 2 * 2 * 9j + (9j)^2 = 4 - 36j + 81j^2 = 4 - 36j + 81(-1) = -77 - 36j\n",
    "print(2 ** (12+9j))  # 2^12 + 9j = 4096 + 9j\n",
    "print((12+9j) ** 2)   # 12^2 + 2 * 12 * 9j + (9j)^2 = 144 + 216j + 81j^2 = 144 + 216j + 81(-1) = 144 - 81 + 216j = 63 + 216j"
   ]
  },
  {
   "cell_type": "code",
   "execution_count": 20,
   "metadata": {},
   "outputs": [
    {
     "name": "stdout",
     "output_type": "stream",
     "text": [
      "(4091.8791304844663-183.68772823922546j)\n"
     ]
    }
   ],
   "source": [
    "print(2 ** (12+9j))"
   ]
  },
  {
   "cell_type": "code",
   "execution_count": 21,
   "metadata": {},
   "outputs": [
    {
     "name": "stdout",
     "output_type": "stream",
     "text": [
      "True\n",
      "<class 'NoneType'>\n",
      "True\n",
      "<class 'NoneType'>\n",
      "None\n",
      "<class 'NoneType'>\n",
      "\n",
      "<class 'NoneType'>\n",
      "\n",
      "<class 'NoneType'>\n",
      " \n",
      "<class 'NoneType'>\n",
      "67\n",
      "<class 'NoneType'>\n",
      "67.67\n",
      "<class 'NoneType'>\n",
      "(9+3j)\n",
      "<class 'NoneType'>\n"
     ]
    }
   ],
   "source": [
    "# Within print() command, everything becomes NoneType\n",
    "\n",
    "print(type(print(True)))       # Within print() command, boolean is NoneType\n",
    "print(type(print(\"True\")))     # Within print() command, string is NoneType\n",
    "print(type(print(None)))       # None is NoneType\n",
    "print(type(print()))           # print() command itself is also NoneType\n",
    "print(type(print(\"\")))         # Within print() command, \"\" string is NoneType\n",
    "print(type(print(\" \")))        # Within print() command, \" \" string is NoneType\n",
    "print(type(print(67)))         # Within print() command, integer is NoneType\n",
    "print(type(print(67.67)))      # Within print() command, float is NoneType\n",
    "print(type(print(9 + 3j)))     # Within print() command, complex is NoneType"
   ]
  },
  {
   "cell_type": "code",
   "execution_count": 22,
   "metadata": {},
   "outputs": [
    {
     "name": "stdout",
     "output_type": "stream",
     "text": [
      "True\n",
      "16\n",
      "True\n",
      "16\n",
      "None\n",
      "16\n",
      "\n",
      "16\n",
      "\n",
      "16\n",
      " \n",
      "16\n",
      "67\n",
      "16\n",
      "67.67\n",
      "16\n",
      "(9+3j)\n",
      "16\n"
     ]
    }
   ],
   "source": [
    "import sys   # Memory usage size of each object\n",
    "print(sys.getsizeof(print(True)))\n",
    "print(sys.getsizeof(print(\"True\")))\n",
    "print(sys.getsizeof(print(None)))\n",
    "print(sys.getsizeof(print()))\n",
    "print(sys.getsizeof(print(\"\")))\n",
    "print(sys.getsizeof(print(\" \")))\n",
    "print(sys.getsizeof(print(67)))\n",
    "print(sys.getsizeof(print(67.67)))\n",
    "print(sys.getsizeof(print(9 + 3j)))"
   ]
  },
  {
   "cell_type": "code",
   "execution_count": 23,
   "metadata": {},
   "outputs": [
    {
     "name": "stdout",
     "output_type": "stream",
     "text": [
      "<class 'bool'>\n",
      "<class 'str'>\n"
     ]
    }
   ],
   "source": [
    "print(type(True))              # True is boolean\n",
    "print(type(\"True\"))            # \"True\" is string"
   ]
  },
  {
   "cell_type": "markdown",
   "metadata": {},
   "source": [
    "### Data types Conversion or Type Casting\n",
    "1. Integer, Float, Boolean, None, Complex are convertible to String (all data types are convertible to String)\n",
    "2. Integer, Float, Boolean, Int String, Float String are convertible to Complex (word string, None, blank string \"\", space string \" \" are not convertible to Complex)\n",
    "3. Integer, Float, Complex, String, Empty String, None, Space String are convertible to Boolean (all data types are convertible to Boolean)\n",
    "4. Float, Boolean, Int String are convertible to Integer (Complex, word string, None, float string, blank string \"\", space string \" \" are not convertible to Integer)\n",
    "5. Integer, Boolean, Int String are convertible to Float (Complex, word string, None, Empty String \"\", space string \" \" are not convertible to Float)"
   ]
  },
  {
   "cell_type": "code",
   "execution_count": 24,
   "metadata": {},
   "outputs": [
    {
     "name": "stdout",
     "output_type": "stream",
     "text": [
      "1 1.1 -1.1 0 0 True False (3+8j) 8j None\n"
     ]
    }
   ],
   "source": [
    "# Converting into a single String (all data types are convertible to String)\n",
    "\n",
    "# Integer, Float, Boolean, None, Complex are convertible to String\n",
    "\n",
    "print(str(1), str(1.1), str(-1.1), str(0), str(-0), str(True), str(False), str(3 + 8j), str(-0 + 8j), str(None))"
   ]
  },
  {
   "cell_type": "code",
   "execution_count": 25,
   "metadata": {},
   "outputs": [
    {
     "name": "stdout",
     "output_type": "stream",
     "text": [
      "(1+0j) (1.1+0j) (-1.1+0j) 0j 0j (1+0j) 0j (-1.1+0j) (21+0j)\n"
     ]
    }
   ],
   "source": [
    "# Converting into Complex\n",
    "\n",
    "# Integer, Float, Boolean, Int String, Float String are convertible to Complex (word string, None, blank string \"\", space string \" \" are not convertible to Complex)\n",
    "\n",
    "# print(complex(\"String\"), complex(\"\"), complex(\" \"), complex(None))\n",
    "\n",
    "print(complex(1), complex(1.1), complex(-1.1), complex(0), complex(-0), complex(True), complex(False), complex(\"-1.1\"), complex(\"21\"))\n"
   ]
  },
  {
   "cell_type": "code",
   "execution_count": 26,
   "metadata": {},
   "outputs": [
    {
     "name": "stdout",
     "output_type": "stream",
     "text": [
      "True True True False False True True True False True False False True\n"
     ]
    }
   ],
   "source": [
    "# Converting into Boolean (all data types are convertible to Boolean)\n",
    "\n",
    "# Integer, Float, Complex, String, None, Empty String are convertible to Boolean\n",
    "# All numbers converted into boolean will be True except Zero 0\n",
    "# Zero 0 always will be converted into boolean False\n",
    "# Complex Data To be transferred into False, both Real & imaginary part must be in 0 zero format\n",
    "\n",
    "print(bool(1), bool(1.1), bool(-1.1), bool(0), bool(-0), bool(\"String\"), bool(\"1.1\"), bool(\"0\"), bool(0 + 0j), bool(-0 + 8j), bool(None), bool(\"\"))"
   ]
  },
  {
   "cell_type": "code",
   "execution_count": 61,
   "metadata": {},
   "outputs": [
    {
     "name": "stdout",
     "output_type": "stream",
     "text": [
      "-2 1 0 7 -5 1234\n"
     ]
    }
   ],
   "source": [
    "# Converting into Integer\n",
    "\n",
    "# Float, Boolean, Int String are convertible to Integer (Complex, word string, None, float string, empty string \"\" are not convertible to Integer)\n",
    "# print(int(33 + 9j), int(\"String\"), int(\"98.68\"), int(\"\"), int(\" \"), int(None))\n",
    "\n",
    "print(int(-2.3), int(True), int(False), int(\"7\"), int(\"-5\"), int(\"1234\"))\n",
    "\n"
   ]
  },
  {
   "cell_type": "code",
   "execution_count": 59,
   "metadata": {},
   "outputs": [
    {
     "name": "stdout",
     "output_type": "stream",
     "text": [
      "-9.0 1.0 0.0 -2.0 33.33\n"
     ]
    }
   ],
   "source": [
    "# Converting into Float\n",
    "\n",
    "# Integer, Boolean, Int String, Float String are convertible to Float (Complex, word string, blank string \"\", space string \" \", & None are not convertible to Float)\n",
    "# print(float(27 - 9j), float(\"String\"), float(\"\"), float(\" \"), float(None))\n",
    "\n",
    "print(float(-9), float(True), float(False), float(\"-2\"), float(\"33.33\"))\n"
   ]
  },
  {
   "cell_type": "code",
   "execution_count": 29,
   "metadata": {},
   "outputs": [
    {
     "name": "stdout",
     "output_type": "stream",
     "text": [
      "65 59\n"
     ]
    },
    {
     "data": {
      "text/plain": [
       "(16, 10, None)"
      ]
     },
     "execution_count": 29,
     "metadata": {},
     "output_type": "execute_result"
    }
   ],
   "source": [
    "# No of letters/alphabets in a \"string\" variable\n",
    "import sys\n",
    "\n",
    "String1 = \"1234!@#$ABCDabcd\"\n",
    "\n",
    "String2 = \"ASLPB7676G\"\n",
    "\n",
    "len(String1), len(String2), print(sys.getsizeof(String1), sys.getsizeof(String2))"
   ]
  },
  {
   "cell_type": "code",
   "execution_count": 30,
   "metadata": {},
   "outputs": [
    {
     "name": "stdout",
     "output_type": "stream",
     "text": [
      "2 3 3 10\n",
      "0\n"
     ]
    }
   ],
   "source": [
    "# Type the Element value & you will get its frequency/repeatation\n",
    "# Here the Single String is \"AnwneAnshA\"\n",
    "# Type any sigle alphabet/part of the String inside String.count() and you will get the repeatation of that alphabet/part\n",
    "String = \"AnwneAnshA\"\n",
    "# String.count(\"An\")   How many times \"An\" is within the word \"AnwneAnshA\"\n",
    "print(String.count(\"An\"), String.count(\"n\"), String.count(\"A\"), len(String))\n",
    "print(String.count(\"AAA\"))"
   ]
  },
  {
   "cell_type": "markdown",
   "metadata": {},
   "source": [
    "### String indexing & Slicing, Strings are immutable\n",
    "1. String variables are immutable, You can't add(Element), append([E1, E2, E3]) List[] format, extend([E1, E2, E3]), pop(Index), remove(Element), discard(Element), insert(Index, [E1, E2, E3]) List[] format, swapindex, sort(), sorted(), shuffle() letters of string without converting into List[] or Set{} as applicable.\n",
    "2. String_List = list(String) #Converting String variable into List[] variable & letters got splitted seperately,\n",
    "3.        String = \"\".join(String_List) #\"\".join() only works with List[] having all string elements alphabet letters & words only.\n",
    "4. String_Tuple = tuple(String) #Converting String variable into Tuple() variable & letters got splitted seperately,\n",
    "5.      String = \"\".join(String_Tuple) #\"\".join() only works with Tuple() having all string elements alphabet letters & words only.\n",
    "6. String_Set = set(String), #Converting String variable into Set{} variable with unique letters only & letters got shuffled & splitted seperately,\n",
    "7.       String = \"\".join(String_Set) #\"\".join() only works with Set{} having all string elements alphabet letters\n",
    "8.       & words only. Converting into Set{} shuffle the letters because Set{} elements dont have indexes.\n",
    "10. Additionaly add(Element), discard(Element) is applicable for Sets only.\n",
    "11. RandSamp_String_List = random.sample(String, len(String)), RandSampString = \"\".join(RandSamp_String_List) #Randomly pick sample len(String) no of letters from String & save it as List[] RandSamp_String_List, rejoin it as RandSampString string variable.\n",
    "12. For String letter elements swapping... Splitter = list(String) #Convert String variable into List[] as Splitter variable, Splitter[index2], Splitter[index4] = Splitter[index6], Splitter[index8], SwapIndexJoin = \"\".join(Splitter) #Splitter List index elements got swapped & rejoined as SwapIndexJoinvariable string variable.\n",
    "13. String_List = list(String), random.shuffle(String_List), ShuffleJoin = \"\".join(String_List) #String variable got converted into List[],\n",
    "14.                                             list elements got shuffled & rejoined back as ShuffleJoin string variable.\n",
    "15. String_List = list(String), String_List.sort(), SortJoin = \"\".join(String_List) #String variable got converted into List[] then list\n",
    "16.                  elements get sort() & rejoined back as SortJoin string variable. sort() works with Integer, Float, Boolean mix\n",
    "17.                               data types simultaneously & with String seperately. sort() sequence priority to the\n",
    "18.                               String Integers -> Uppercase alphabets -> lowercase alphabets.\n",
    "19. Sorted_String_List = sorted(String), SortedJoin = \"\".join(Sorted) #String variable got converted into List[] & list string elements get sorted()\n",
    "20.                  then rejoined back as SortedJoin string variable. sorted() works with Integer, Float, Boolean mix data types\n",
    "21.                  simultaneously & with String seperately. sorted() sequence priority to the\n",
    "22.                  String Integers -> Uppercase alphabets -> lowercase alphabets.\n",
    "23. Sorted_String_List = sorted(String_Tuple) #Tuple() string elements got converted into sorted List[],\n",
    "24.                  String_Tuple = tuple(Sorted_List) #sorted List[] got converted back into Tuple() but now it is sorted.\n",
    "25. New_Name = String.replace(\"Oldtxt\", \"Newtxt\").replace(\"Oldtxt1\", \"Newtxt1\") #replace() works with String variable only.\n",
    "26. String.index(\"E1\") #Index of a single letter alphabet element at a time. First occurance of the letter will be treated as it's index.\n",
    "27. String.count(\"ab\") #Count the repeatations of \"ab\" in the String variable.\n",
    "28. *\n",
    "29. Set_String = set(String) #Converting string into Set{} selecting unique elements only\n",
    "30.           Set_String.discard(\"A\") #Unique element string letter \"A\" got deleted, one at a time\n",
    "31.           String = \"\".join(Set_String) #Join back set string letter elements into a single String variable\n",
    "32. *\n",
    "33. Set_String = set(String) #Converting string into Set{} selecting unique elements only\n",
    "34.           Set_String.remove(\"A\"), Set_String.remove(\"n\"), Set_String.remove(\"w\") #Set.remove() deletes one unique\n",
    "35.           element at a time. String = \"\".join(Set_String) #Join back set string letter elements into a single String variable\n",
    "36. *\n",
    "37. String_List = list(String) #Converting and splitting String variable into List[]\n",
    "38.           String_List.remove(\"A\"), String_List.remove(\"n\"), String_List.remove(\"w\") #List.remove() deletes one element\n",
    "39.           at a time. String = \"\".join(String_List) #Join back list string letter elements into a single String variable\n",
    "40. *\n",
    "41. String_List = list(String) #Converting and splitting String variable into List[]\n",
    "42.           String_List.pop(String_List.index(\"A\")), String_List.pop(String_List.index(\"n\")),\n",
    "43.           String_List.pop(String_List.index(\"w\")) #List.pop(index) deletes the mentioned index element, one element at a time.\n",
    "44.           String = \"\".join(String_List) #Join back list string letter elements into a single String variable.\n",
    "45. *\n",
    "46. String_List = list(String) #Converting and splitting String variable into List[]\n",
    "47.           String_List.append(\"_GAMO_\"), String_List.append(\"LETTER\")\n",
    "48.           #List[] got inserted by two new elements \"GAMO\" & \"LETTER\" at the end\n",
    "49.           String = \"\".join(String_List) #Join back list string letter elements into a single String variable.\n",
    "50. *\n",
    "51. String_List = list(String) #Converting and splitting String variable into List[]\n",
    "52.           String_List.append(\"_GAMO_\"), String_List.append([\"L\", \"E\", \"T\", \"T\", \"E\", \"R\"]) #List[] got append() by\n",
    "53.                                                                                                    two new elements\n",
    "54.           String_List[String_List.index(['L', 'E', 'T', 'T', 'E', 'R'])] = \"\".join(String_List[String_List.index(['L', 'E', 'T',\n",
    "55.                                                                                                                'T', 'E', 'R'])])\n",
    "56.           #List[] element ['L', 'E', 'T', 'T', 'E', 'R'] got joined & replaced as \"LETTER\" string element\n",
    "57.           String = \"\".join(String_List) #Join back list string letter elements into a single String variable.\n",
    "58. *\n",
    "59. String_List = list(String) #Converting and splitting String variable into List[]\n",
    "60.           String_List.append(e1)\n",
    "61.           String_List.append([e2, e3, e4, e5]) #Insert List[] format at the end position.\n",
    "62.           String_List.append((e6, e7, e8, e9)) #Insert Tuple() format at the end position.\n",
    "63.           String_List.append({e10, e11, e12, e13}) #Insert Set{} format at the end position.\n",
    "65. *\n",
    "66. String_List = list(String) #Converting and splitting String variable into List[]\n",
    "67.           String_List.insert(index, e1) #Insert new single element e1 at the place of mentioned index\n",
    "68.           String_List.insert(index, [e2, e3, e4, e5]) #Insert new elements in List[] format at the place of mentioned index\n",
    "69.           String_List.insert(index, (e2, e3, e4, e5)) #Insert new elements in Tuple() format at the place of mentioned index\n",
    "70.           String_List.insert(index, {e2, e3, e4, e5}) #Insert new elements in Set{} format at the place of mentioned index\n",
    "71. *\n",
    "68. String_List = list(String) #Converting and splitting String variable into List[]\n",
    "69.           String_List.insert(len(String_List), \"_GAMO_\"), String_List.insert(len(String_List), [\"L\", \"E\", \"T\", \"T\", \"E\", \"R\"])\n",
    "70.           #List[] got inserted by two new elements \"GAMO\" & ['L', 'E', 'T', 'T', 'E', 'R'] at the end\n",
    "71.           String_List[String_List.index(['L', 'E', 'T', 'T', 'E', 'R'])] = \"\".join(String_List[String_List.index(['L', 'E', 'T',\n",
    "72.                                                                                                                'T', 'E', 'R'])])\n",
    "73.           #List[] element ['L', 'E', 'T', 'T', 'E', 'R'] got joined & replaced as \"LETTER\" string element\n",
    "74.           String = \"\".join(String_List) #Join back list string letter elements into a single String variable.\n",
    "75. *\n",
    "76. String_List = list(String) #Converting and splitting String variable into List[]\n",
    "77.           String_List[index:0] = [\"_GAMO_\"] #List[] got inserted 1 new string element as Array[] at the mentioned index\n",
    "78.                        String = \"\".join(String_List) #Join back list string letter elements into a single String variable.\n",
    "79.           String_List[index:0] = \"SPLIT\" #List[] got inserted 5 new seperate string letter elements \"S\", \"P\", \"L\", \"I\", \"T\"\n",
    "80.                     at the mentioned index. String = \"\".join(String_List) #Join back list string letter elements into a single\n",
    "81.                                                                                                              String variable.\n",
    "82.           String_List[index:0] = [[e1, e2, e3, e4]] #List[] got inserted 4 new elements at the place of mentioned index as\n",
    "83.                                                                                                                List[] format.\n",
    "84.           String_List[index:0] = [(e1, e2, e3, e4)] #List[] got inserted 4 new elements at the place of mentioned index as\n",
    "85.                                                                                                                Tuple() format.\n",
    "86.           String_List[index:0] = [{e1, e2, e3, e4}] #List[] got inserted 4 new elements at the place of mentioned index as\n",
    "87.                                                                                                                Set{} format.\n",
    "88.           String_List[index:0] = e1, e2, (e3, e4), [e5, e6], {e7, e8} #List[] got inserted 5 new elements at the place of\n",
    "89.                                                                      mentioned index as Plain, List[], Tuple() & Set{} format.\n",
    "90.           String_List[index:0] = \"_GAMO_\", [\"S\", \"P\", \"L\", \"I\", \"T\"] #List[] got inserted by 2 new elements\n",
    "91.                                                                   \"GAMO\" & [\"S\", \"P\", \"L\", \"I\", \"T\"] at the mentioned index.\n",
    "92.           String_List[String_List.index([\"S\", \"P\", \"L\", \"I\", \"T\"])] = \"\".join(String_List[String_List.index([\"S\", \"P\", \"L\",\n",
    "107.                                                                                                                \"I\", \"T\"])])\n",
    "108.          #List[] element [\"S\", \"P\", \"L\", \"I\", \"T\"] got joined & replaced as \"LETTER\" string element.\n",
    "109.          String = \"\".join(String_List) #Join back list string letter elements into a single String variable.\n",
    "114. *\n",
    "115. String_List = list(String) #Converting and splitting String variable into List[]\n",
    "116.           String_List.extend([e1]) #Single element got inserted at the end position as Array[]\n",
    "117.           String_List.extend(\"SPLIT\") #Single string element got inserted as \"S\", \"P\", \"L\", \"I\", \"T\" at the end position\n",
    "118.           String_List.extend([[e2, e3]]) #Elements got inserted at the end position as List[] format\n",
    "119.           String_List.extend([(e4, e5)]) #Elements got inserted at the end position as Tuple() format\n",
    "120.           String_List.extend([{e6, e7}]) #Elements got inserted at the end position as Set{} format\n",
    "121.           String_List.extend([e8, e9, [e10, e11], (e12, e13), {e14, e15}]) #Elements got inserted as Plain, List[], Tuple()\n",
    "122.                                                                                                             & Set{} format\n",
    "124. *\n",
    "125. String_List = list(String) #Converting and splitting String variable into List[]\n",
    "126.           String_List[index3:(index5)+1] = [\"_Alone_\"] #From index 3 to 5 elements got replaced by a single string as Array[]\n",
    "127.           String = \"\".join(String_List) #Join back list string letter elements into a single String variable.\n",
    "128. *\n",
    "129. String_List = list(String) #Converting and splitting String variable into List[]\n",
    "130.           String_List[index3:(index5)+1] = \"_SPLIT_\" #From index 3 to 5 elements got replaced by 7 new seperate\n",
    "131.           string letter elements \"_\", \"S\", \"P\", \"L\", \"I\", \"T\", \"_\".\n",
    "132.           String = \"\".join(String_List) #Join back list string letter elements into a single String variable.\n",
    "133. *\n",
    "134. String_List = list(String) #Converting and splitting String variable into List[]\n",
    "135.           String_List[index3:(index5)+1] = \"_Alone_\", \"S\", \"P\", \"L\", \"I\", \"T_\" #From index 3 to 5 elements got replaced by\n",
    "136.          6 new seperate string letter elements \"_Alone_\", \"S\", \"P\", \"L\", \"I\", \"T_\".\n",
    "137.          String = \"\".join(String_List) #Join back list string letter elements into a single String variable.\n",
    "138. *\n",
    "139. String_List = list(String) #Converting and splitting String variable into List[]\n",
    "140.          String_List[index3:(index5)+1] = \"_Alone_\", [\"S\", \"P\", \"L\", \"I\", \"T_\"] #From index 3 to 5 elements got replaced by 2 new\n",
    "141.          elements \"_Alone_\" & [\"S\", \"P\", \"L\", \"I\", \"T_\"].\n",
    "142.     String_List[String_List.index([\"S\", \"P\", \"L\", \"I\", \"T_\"])] = \"\".join(String_List[String_List.index([\"S\", \"P\", \"L\", \"I\", \"T_\"])])\n",
    "143.          #List[] element [\"S\", \"P\", \"L\", \"I\", \"T_\"] got joined & replaced as \"SPLIT_\" string element\n",
    "144.          String = \"\".join(String_List) #Join back list string letter elements into a single String variable.\n",
    "145. *\n",
    "58. String_List = list(String) #Converting and splitting String variable into List[]\n",
    "59.           String_List[index] = \"_GAMO_\" #Mentioned single index element got replaced by single alone \"GAMO\" string element\n",
    "60.           String_List[index] = \"_GAMO_\", \"NEW\", \"_MAGNUM_\" #Mentioned single index element got replaced by 3 new string elements\n",
    "61.                                                                                                                as Tuple() format.\n",
    "62.           String_List[index] = [\"_GAMO_\", \"NEW\", \"_MAGNUM_\"] #Mentioned single index element got replaced by 3 new string\n",
    "63.                                                                                                        elements as List[] format.\n",
    "65.           String_List[index] = {\"_GAMO_\", \"NEW\", \"_MAGNUM_\"} #Mentioned single index element got replaced by 3 new string\n",
    "66.                                                                                                         elements as Set{} format.\n",
    "68.           String_List[index] = \"e1\", \"e2\", [\"e3\", \"e4\"], {\"e5\", \"e6\"} #Mentioned single index element got replaced by\n",
    "69.                                                                                                       elements as Tuple() format.\n",
    "71.           String_List[String_List.index([\"e3\", \"e4\"])] = \"_\".join(String[String_List.index([\"e3\", \"e4\"])])\n",
    "72.           String_List[String_List.index({\"e5\", \"e6\"})] = \"_\".join(String[String_List.index({\"e5\", \"e6\"})])\n",
    "73.           String = \"\".join(String_List) #Join back list string letter elements into a single String variable.\n",
    "74. *\n",
    "75. String_List = list(String) #Converting and splitting String variable into List[]\n",
    "76.           String_List[index] = \"_GAMO_\", \"NEW\", \"_MAGNUM_\" #Mentioned single index element got replaced by 3 new string elements\n",
    "77.           in Tuple() format. String_List[index] = \"\".join(String_List[index]) #index Tuple() elements got joined to form a single\n",
    "78.           string & replaced by that string. String = \"\".join(String_List) #Join back list string letter elements into a single\n",
    "79.           String variable.\n",
    "80. *\n",
    "81. String_List = list(String) #Converting and splitting String variable into List[]\n",
    "82.           String_List[index] = [\"_GAMO_\", \"NEW\", \"_MAGNUM_\"] #Mentioned single index element got replaced by 3 new string\n",
    "83.           elements in List[] format. String_List[index] = \"\".join(String_List[index]) #index List[] elements got joined to\n",
    "84.           form a single string & replaced by that string. String = \"\".join(String_List) #Join back list string letter elements\n",
    "85.           into a single String variable.\n",
    "86. *\n",
    "87. String_List = list(String) #Converting and splitting String variable into List[]\n",
    "88.           String_List[len(String_List):0] = [\"_GAMO_\"] ; String_List[len(String_List):0] = LETTER\n",
    "89.           #List[] got inserted by 7 new elements \"GAMO\" & 'L', 'E', 'T', 'T', 'E', 'R' at the end\n",
    "90.           String = \"\".join(String_List) #Join back list string letter elements into a single String variable\n",
    "91. *\n",
    "92. String_List = list(String) #Converting and splitting String variable into List[]\n",
    "93.           String_List[len(String_List):0] = \"_GAMO_\", 'L', 'E', 'T', 'T', 'E', 'R\n",
    "94.           #List[] got inserted by 7 new elements \"GAMO\" & 'L', 'E', 'T', 'T', 'E', 'R' at the end\n",
    "95.           String = \"\".join(String_List) #Join back list string letter elements into a single String variable\n",
    "96. *\n",
    "97. String_List = list(String) #Converting and splitting String variable into List[]\n",
    "98.           String_List[len(String_List):0] = \"_GAMO_\", [\"L\", \"E\", \"T\", \"T\", \"E\", \"R\"]\n",
    "99.           #List[] got inserted by two new elements \"GAMO\" & ['L', 'E', 'T', 'T', 'E', 'R'] at the end\n",
    "100.           String_List[String_List.index(['L', 'E', 'T', 'T', 'E', 'R'])] = \"\".join(String_List[String_List.index(['L', 'E', 'T',\n",
    "101.                                                                                                                'T', 'E', 'R'])])\n",
    "102.           #List[] element ['L', 'E', 'T', 'T', 'E', 'R'] got joined & replaced as \"LETTER\" string element\n",
    "103.           String = \"\".join(String_List) #Join back list string letter elements into a single String variable\n",
    "104. *\n",
    "105. Set_String = set(String) #Converting string into Set{} selecting unique elements only\n",
    "106.           Set_String.add(\"A\"), Set_String.add(\"KB\") #.add() has added two new string elements at random locations in the Set{}\n",
    "107.               String = \"\".join(Set_String) #Join back set string letter elements into a single String variable\n",
    "108. *\n",
    "109. String_List = list(String)  #Splitting the string letters into List[]\n",
    "110.           String_List.remove(\"e\") #Deletes first appearance of the mentioned letter element\n",
    "111.           String = \"\".join(String_List) #Join back list string letter elements into a single String variable\n",
    "112. *\n",
    "113. String_List = list(String)  #Splitting the string letters into List[]\n",
    "114.           String_List.reverse()   #This has reversed the placement of List[] string elements letters in Backward direction\n",
    "115.           String_Backward = \"\".join(String_List) #Join back list string letter elements into a single String variable\n",
    "116. *\n",
    "117. String_Set = set(String)   #Splitting the string letters into Set{}, & it has unique elements only\n",
    "118.           String_Set.add(\"e1\")  #Single new string letter element has been inserted\n",
    "119.           String_Set.add((\"e2\", \"e3\"))  #Inserting new string letter elements as Tuple() format\n",
    "120.           String_Set.add(frozenset({\"e4\", \"e5\"}))  #Inserting new string letter elements as frozenset({}) format\n",
    "121.           String_List = list(String_Set)   #Set{} has been converted into List[]\n",
    "122.           String_List[String_List.index((\"e2\", \"e3\"))] = \"\".join(String_List[String_List.index((\"e2\", \"e3\"))]) #Tuple() string\n",
    "123.                                                                                      letter elements got replaced by join()\n",
    "124.           String_List[String_List.index(frozenset({\"e4\", \"e5\"}))] = \"\".join(String_List[String_List.index(frozenset({\"e4\", \"e5\"}))])\n",
    "125.                                                                   #frozenset({}) string letter elements got replaced by join()\n",
    "126.           String = \"\".join(String_List) #List[] string letter elements got joined back to form a single String variable.\n",
    "127. *\n",
    "128. Variable.remove(Element) is applicable for List & Set only. Deletes first appearance & one element at a time.\n",
    "129. String3 = String1 + String2 #Concatination of String1 & String2 variable to create String3 variable.\n",
    "130. New_String = String_Variable + \"New_Word\"  #Concatination of String_Variable & \"New_Word\" to create New_String variable.\n",
    "131. String_Variable += \"New_Word\" #AdVanced Concatination.\n",
    "132. New_String = f\"{String_Variable}New_Word\"\n",
    "133. New_String = \"%sNew_Word\" % String_Variable\n",
    "134. New_String = \"{} _Nicolai\".format(String_String)"
   ]
  },
  {
   "cell_type": "code",
   "execution_count": 31,
   "metadata": {},
   "outputs": [
    {
     "name": "stdout",
     "output_type": "stream",
     "text": [
      "['7', 'e', 'A', 'F', '1', 'c', 'B', '3', 'd', '5', 'G', 'C', 'b', '4', 'E', 'g', '2', 'a', 'D', 'f', '6']\n",
      "['1', '2', '3', '4', '5', '6', '7', 'A', 'B', 'C', 'D', 'E', 'F', 'G', 'a', 'b', 'c', 'd', 'e', 'f', 'g']\n",
      "1234567ABCDEFGabcdefg\n",
      "<class 'str'>\n"
     ]
    }
   ],
   "source": [
    "Int_String = \"7eAF1cB3d5GCb4Eg2aDf6\"  # String are in alphanumeric forms\n",
    "Splitter = list(Int_String)           # got converted into list[] individual String letter elements\n",
    "print(Splitter)\n",
    "Splitter.sort()                       # list() got sorted\n",
    "print(Splitter)\n",
    "SortJoin = \"\".join(Splitter)          # list() individual letter String elements got rejoined as SortJoin string variable\n",
    "print(SortJoin)                 # sort() works with Integer, Float, Boolean mix element data types simultaneously & with String seperately\n",
    "print(type(SortJoin))                 # sort() sequence priority to the String Integers -> Uppercase alphabets -> lowercase alphabets"
   ]
  },
  {
   "cell_type": "code",
   "execution_count": 32,
   "metadata": {},
   "outputs": [
    {
     "name": "stdout",
     "output_type": "stream",
     "text": [
      "7eAF1cB3d5GCb4Eg2aDf6\n",
      "<class 'str'>\n",
      "('7', 'e', 'A', 'F', '1', 'c', 'B', '3', 'd', '5', 'G', 'C', 'b', '4', 'E', 'g', '2', 'a', 'D', 'f', '6')\n",
      "<class 'tuple'>\n",
      "7eAF1cB3d5GCb4Eg2aDf6\n",
      "<class 'str'>\n"
     ]
    }
   ],
   "source": [
    "Int_String = \"7eAF1cB3d5GCb4Eg2aDf6\"\n",
    "print(Int_String)\n",
    "print(type(Int_String))\n",
    "StringTuple = tuple(Int_String)   # Converted Int_String string variable into tuple() & letters got splitted seperately\n",
    "print(StringTuple)\n",
    "print(type(StringTuple))\n",
    "Int_String = \"\".join(StringTuple)  # Rejoin back splitted letters into Int_String string variable\n",
    "print(Int_String)\n",
    "print(type(Int_String))"
   ]
  },
  {
   "cell_type": "code",
   "execution_count": 33,
   "metadata": {},
   "outputs": [
    {
     "name": "stdout",
     "output_type": "stream",
     "text": [
      "7eAF1cB3d5GCb4Eg2aDf6\n",
      "<class 'str'>\n",
      "{'1', '6', 'g', '2', 'D', 'E', 'B', 'C', 'b', 'A', 'f', 'e', 'c', 'd', '7', '3', 'a', 'G', '4', '5', 'F'}\n",
      "<class 'set'>\n",
      "16g2DEBCbAfecd73aG45F\n",
      "<class 'str'>\n"
     ]
    }
   ],
   "source": [
    "Int_String = \"7eAF1cB3d5GCb4Eg2aDf6\"\n",
    "print(Int_String)\n",
    "print(type(Int_String))\n",
    "StringSet = set(Int_String)   # Converted Int_String string variable into set{} with unique letters only & letters got shuffled & splitted seperately\n",
    "print(StringSet)              # Converting into set{} shuffle the letters because set{} elements dont have indexes\n",
    "print(type(StringSet))\n",
    "Int_String = \"\".join(StringSet)  # Rejoin back splitted letters into Int_String string variable & letters got shuffled\n",
    "print(Int_String)\n",
    "print(type(Int_String))"
   ]
  },
  {
   "cell_type": "code",
   "execution_count": 34,
   "metadata": {},
   "outputs": [
    {
     "name": "stdout",
     "output_type": "stream",
     "text": [
      "0 7 8\n",
      "AnwneAnshA\n",
      "Awenh\n",
      "Anwn\n",
      "wen\n",
      "Anwn\n",
      "nAsA\n",
      "nAsA\n"
     ]
    }
   ],
   "source": [
    "String = \"AnwneAnshA\"\n",
    "print(String.index(\"A\"), String.index(\"s\"), String.index(\"h\"))  # Index of first appearance. It doesn't include repeatations.\n",
    "print(String[0:len(String)])                                    # Index of one letter at at time, single element\n",
    "print(String[0::2])                    # print from index 0 to last by Hopping 2 elements cycle\n",
    "print(String[0:4])                     # print from index 0 to 4 excluding upperbound\n",
    "print(String[2:7:2])                   # print from index 2 to 7 excluding upperbound by Hopping 2 elements cycle\n",
    "print(String[:4])                      # print from start index to 4 excluding upperbound\n",
    "print(String[3::2])                    # print from 3rd index to last by hopping 2 elements cycle\n",
    "print(String[3:len(String):2])         # print from 3rd index to last by hopping 2 elements cycle"
   ]
  },
  {
   "cell_type": "code",
   "execution_count": 35,
   "metadata": {},
   "outputs": [
    {
     "ename": "AttributeError",
     "evalue": "'str' object has no attribute 'discard'",
     "output_type": "error",
     "traceback": [
      "\u001b[0;31m---------------------------------------------------------------------------\u001b[0m",
      "\u001b[0;31mAttributeError\u001b[0m                            Traceback (most recent call last)",
      "Cell \u001b[0;32mIn[35], line 1\u001b[0m\n\u001b[0;32m----> 1\u001b[0m \u001b[43mString\u001b[49m\u001b[38;5;241;43m.\u001b[39;49m\u001b[43mdiscard\u001b[49m(\u001b[38;5;124m\"\u001b[39m\u001b[38;5;124mA\u001b[39m\u001b[38;5;124m\"\u001b[39m)   \u001b[38;5;66;03m# discard() don't work with String variable\u001b[39;00m\n\u001b[1;32m      2\u001b[0m \u001b[38;5;28mprint\u001b[39m(String)\n",
      "\u001b[0;31mAttributeError\u001b[0m: 'str' object has no attribute 'discard'"
     ]
    }
   ],
   "source": [
    "String.discard(\"A\")   # discard() don't work with String variable\n",
    "print(String)"
   ]
  },
  {
   "cell_type": "code",
   "execution_count": 36,
   "metadata": {},
   "outputs": [
    {
     "name": "stdout",
     "output_type": "stream",
     "text": [
      "{'n', 'e', 'h', 'A', 's', 'w'}\n",
      "{'n', 'e', 'h', 's', 'w'}\n",
      "nehsw\n",
      "<class 'str'>\n"
     ]
    }
   ],
   "source": [
    "String = \"AnwneAnshA\"\n",
    "Set_String = set(String)           # Converting string into set() selecting unique elements only\n",
    "print(Set_String)\n",
    "Set_String.discard(\"A\")            # Unique element string letter \"A\" got deleted\n",
    "print(Set_String)\n",
    "String = \"\".join(Set_String)       # Join back set string letter elements into a single String variable\n",
    "print(String)\n",
    "print(type(String))"
   ]
  },
  {
   "cell_type": "code",
   "execution_count": 37,
   "metadata": {},
   "outputs": [
    {
     "name": "stdout",
     "output_type": "stream",
     "text": [
      "{'n', 'e', 'h', 'A', 's', 'w'}\n",
      "{'e', 'h', 's'}\n",
      "ehs\n",
      "<class 'str'>\n"
     ]
    }
   ],
   "source": [
    "String = \"AnwneAnshA\"\n",
    "Set_String = set(String)    # String variable got converted into set() having unique elements only\n",
    "print(Set_String)\n",
    "Set_String.remove(\"A\"), Set_String.remove(\"n\"), Set_String.remove(\"w\")   # Set.remove() deletes one unique element at a time\n",
    "print(Set_String)\n",
    "String = \"\".join(Set_String)   # Joined back into a single String variable\n",
    "print(String)\n",
    "print(type(String))"
   ]
  },
  {
   "cell_type": "code",
   "execution_count": 38,
   "metadata": {},
   "outputs": [
    {
     "name": "stdout",
     "output_type": "stream",
     "text": [
      "['A', 'n', 'w', 'n', 'e', 'A', 'n', 's', 'h', 'A']\n",
      "['n', 'e', 'A', 'n', 's', 'h', 'A']\n",
      "neAnshA\n",
      "<class 'str'>\n"
     ]
    }
   ],
   "source": [
    "# remove() don't work with String variable. it works with both list() & set()\n",
    "\n",
    "String = \"AnwneAnshA\"\n",
    "String_List = list(String)    # String variable got converted into list()\n",
    "print(String_List)\n",
    "String_List.remove(\"A\"), String_List.remove(\"n\"), String_List.remove(\"w\")   # List.remove() one element at a time, remove the first appearance at a time\n",
    "print(String_List)\n",
    "String = \"\".join(String_List)   # Joined back into a single String variable\n",
    "print(String)\n",
    "print(type(String))"
   ]
  },
  {
   "cell_type": "code",
   "execution_count": 39,
   "metadata": {},
   "outputs": [
    {
     "name": "stdout",
     "output_type": "stream",
     "text": [
      "['A', 'n', 'w', 'n', 'e', 'A', 'n', 's', 'h', 'A']\n",
      "['n', 'e', 'A', 'n', 's', 'h', 'A']\n",
      "neAnshA\n",
      "<class 'str'>\n"
     ]
    }
   ],
   "source": [
    "String = \"AnwneAnshA\"\n",
    "String_List = list(String)    # String variable got converted into list()\n",
    "print(String_List)\n",
    "String_List.pop(String_List.index(\"A\")), String_List.pop(String_List.index(\"n\")), String_List.pop(String_List.index(\"w\"))   # List.pop(index) deletes the mentioned index element, one element at a time.\n",
    "print(String_List)\n",
    "String = \"\".join(String_List)   # Joined back into a single String variable\n",
    "print(String)\n",
    "print(type(String))"
   ]
  },
  {
   "cell_type": "code",
   "execution_count": 40,
   "metadata": {},
   "outputs": [
    {
     "name": "stdout",
     "output_type": "stream",
     "text": [
      "['A', 'n', 'w', 'n', 'e', 'A', 'n', 's', 'h', 'A']\n",
      "['A', 'n', 'w', 'n', 'e', 'A', 'n', 's', 'h', 'A', '_GAMO_', 'LETTER']\n",
      "AnwneAnshA_GAMO_LETTER\n",
      "<class 'str'>\n"
     ]
    }
   ],
   "source": [
    "String = \"AnwneAnshA\"\n",
    "String_List = list(String)     # string variable got converted into list()\n",
    "print(String_List)\n",
    "String_List.append(\"_GAMO_\"), String_List.append(\"LETTER\")  # list() got append() by two new elements \"GAMO\"\n",
    "#                                                                                                   & ['L', 'E', 'T', 'T', 'E', 'R']\n",
    "#print(String_List)\n",
    "#String_List[String_List.index(['L', 'E', 'T', 'T', 'E', 'R'])] = \"\".join(String_List[String_List.index(['L', 'E', 'T', 'T', 'E', 'R'])])\n",
    "                                         # list() element ['L', 'E', 'T', 'T', 'E', 'R'] got joined & replaced as \"LETTER\" string element\n",
    "print(String_List)\n",
    "String = \"\".join(String_List)   # Joined back into a single String variable\n",
    "print(String)\n",
    "print(type(String))"
   ]
  },
  {
   "cell_type": "code",
   "execution_count": 1,
   "metadata": {},
   "outputs": [
    {
     "name": "stdout",
     "output_type": "stream",
     "text": [
      "['A', 'n', 'w', 'n', 'e', 'A', 'n', 's', 'h', 'A']\n",
      "['A', 'n', 'w', 'n', 'e', 'A', 'n', 's', 'h', 'A', '_SIGMA_']\n",
      "['A', 'n', 'w', 'n', 'e', 'A', 'n', 's', 'h', 'A', '_SIGMA_', [45, False, None, (67-8j)]]\n",
      "['A', 'n', 'w', 'n', 'e', 'A', 'n', 's', 'h', 'A', '_SIGMA_', [45, False, None, (67-8j)], ('Tuple', 79, True)]\n",
      "['A', 'n', 'w', 'n', 'e', 'A', 'n', 's', 'h', 'A', '_SIGMA_', [45, False, None, (67-8j)], ('Tuple', 79, True), {'append', 74, 'Set'}]\n"
     ]
    }
   ],
   "source": [
    "String = \"AnwneAnshA\"\n",
    "String_List = list(String)     # string variable got converted into list()\n",
    "print(String_List)\n",
    "String_List.append(\"_SIGMA_\")\n",
    "print(String_List)\n",
    "String_List.append([45, False, None, 67-8j])      # List[] format got inserted at the end position.\n",
    "print(String_List)\n",
    "String_List.append((\"Tuple\", 79, True))           # Tuple() format got inserted at the end position\n",
    "print(String_List)\n",
    "String_List.append({\"Set\", 74, \"append\"})          # Set{} format got inserted at the end position\n",
    "print(String_List)"
   ]
  },
  {
   "cell_type": "code",
   "execution_count": 41,
   "metadata": {},
   "outputs": [
    {
     "name": "stdout",
     "output_type": "stream",
     "text": [
      "['Canon', 'Nikon', 'Sony Samsung']\n",
      "['A', 'n', 'w', 'n', 'e', 'A', 'n', 's', 'h', 'A', '_GAMO_', 'LETTER']\n"
     ]
    }
   ],
   "source": [
    "Nested_List = [\"Canon\", \"Nikon\", [\"Sony\", \"Samsung\"]]   # Nested List[] has been created\n",
    "Nested_List[2] = \" \".join(Nested_List[2])              # 2nd index List[] string elements has been replaced & joined by with space \" \" \n",
    "print(Nested_List)\n",
    "String = \" \".join(Nested_List)            # All List[] string elements has been joined into one String variable by space string \" \"\n",
    "print(String_List)"
   ]
  },
  {
   "cell_type": "code",
   "execution_count": 42,
   "metadata": {},
   "outputs": [
    {
     "name": "stdout",
     "output_type": "stream",
     "text": [
      "['A', 'n', 'w', 'n', 'e', 'A', 'n', 's', 'h', 'A']\n",
      "['A', 'n', 'w', 'n', 'e', 'A', 'n', 's', 'h', 'A', '_GAMO_', ['L', 'E', 'T', 'T', 'E', 'R']]\n",
      "['A', 'n', 'w', 'n', 'e', 'A', 'n', 's', 'h', 'A', '_GAMO_', 'LETTER']\n",
      "AnwneAnshA_GAMO_LETTER\n",
      "<class 'str'>\n"
     ]
    }
   ],
   "source": [
    "String = \"AnwneAnshA\"\n",
    "String_List = list(String)     # string variable got converted into list()\n",
    "print(String_List)\n",
    "String_List.append(\"_GAMO_\"), String_List.append([\"L\", \"E\", \"T\", \"T\", \"E\", \"R\"])  # list() got append() by two new elements \"GAMO\"\n",
    "#                                                                                                   & ['L', 'E', 'T', 'T', 'E', 'R']\n",
    "print(String_List)\n",
    "String_List[String_List.index(['L', 'E', 'T', 'T', 'E', 'R'])] = \"\".join(String_List[String_List.index(['L', 'E', 'T', 'T', 'E', 'R'])])\n",
    "                                         # list() element ['L', 'E', 'T', 'T', 'E', 'R'] got joined & replaced as \"LETTER\" string element\n",
    "print(String_List)\n",
    "String = \"\".join(String_List)   # Joined back into a single String variable\n",
    "print(String)\n",
    "print(type(String))"
   ]
  },
  {
   "cell_type": "code",
   "execution_count": 43,
   "metadata": {},
   "outputs": [
    {
     "name": "stdout",
     "output_type": "stream",
     "text": [
      "['A', 'n', 'w', 'n', 'e', 'A', 'n', 's', 'h', 'A']\n",
      "['A', 'n', 'w', 'n', 'e', 'A', 'n', 's', 'h', 'A', '_GAMO_', ['L', 'E', 'T', 'T', 'E', 'R']]\n",
      "['A', 'n', 'w', 'n', 'e', 'A', 'n', 's', 'h', 'A', '_GAMO_', 'LETTER']\n",
      "AnwneAnshA_GAMO_LETTER\n",
      "<class 'str'>\n"
     ]
    }
   ],
   "source": [
    "String = \"AnwneAnshA\"\n",
    "String_List = list(String)     # string variable got converted into list()\n",
    "print(String_List)\n",
    "String_List.insert(len(String_List), \"_GAMO_\"), String_List.insert(len(String_List), [\"L\", \"E\", \"T\", \"T\", \"E\", \"R\"])\n",
    "#                                        list() got inserted by two new elements \"GAMO\" & ['L', 'E', 'T', 'T', 'E', 'R'] at the end\n",
    "print(String_List)\n",
    "String_List[String_List.index(['L', 'E', 'T', 'T', 'E', 'R'])] = \"\".join(String_List[String_List.index(['L', 'E', 'T', 'T', 'E', 'R'])])\n",
    "                                         # list() element ['L', 'E', 'T', 'T', 'E', 'R'] got joined & replaced as LETTER string element\n",
    "print(String_List)\n",
    "String = \"\".join(String_List)   # Joined back into a single String variable\n",
    "print(String)\n",
    "print(type(String))    # List_Stringu"
   ]
  },
  {
   "cell_type": "code",
   "execution_count": 44,
   "metadata": {},
   "outputs": [
    {
     "name": "stdout",
     "output_type": "stream",
     "text": [
      "['LKG', 'K3G']\n",
      "LKG_K3G\n"
     ]
    }
   ],
   "source": [
    "Concat = [\"LKG\"] + [\"K3G\"]  # Concatination\n",
    "print(Concat)\n",
    "Join = \"_\".join(Concat)  # String .join()\n",
    "print(Join)"
   ]
  },
  {
   "cell_type": "code",
   "execution_count": 18,
   "metadata": {},
   "outputs": [
    {
     "name": "stdout",
     "output_type": "stream",
     "text": [
      "['A', 'n', 'w', 'n', 'e', 'A', 'n', 's', 'h', 'A']\n",
      "['A', 'n', 'w', 'n', 'e', '_5th_', 'A', 'n', 's', 'h', 'A']\n",
      "Anwne_5th_AnshA\n"
     ]
    }
   ],
   "source": [
    "String = \"AnwneAnshA\"\n",
    "String_List = list(String)     # string variable got converted into list()\n",
    "print(String_List)\n",
    "String_List[5:0] = [\"_5th_\"] # List[] got inserted 1 new string element as array at the mentioned index\n",
    "print(String_List)\n",
    "String = \"\".join(String_List) # Join back list string letter elements into a single String variable\n",
    "print(String)"
   ]
  },
  {
   "cell_type": "code",
   "execution_count": 19,
   "metadata": {},
   "outputs": [
    {
     "name": "stdout",
     "output_type": "stream",
     "text": [
      "['A', 'n', 'w', 'n', 'e', 'A', 'n', 's', 'h', 'A']\n",
      "['A', 'n', 'w', 'n', 'e', '_', 'S', 'P', 'L', 'I', 'T', '_', 'A', 'n', 's', 'h', 'A']\n",
      "Anwne_SPLIT_AnshA\n"
     ]
    }
   ],
   "source": [
    "String = \"AnwneAnshA\"\n",
    "String_List = list(String)     # string variable got converted into list()\n",
    "print(String_List)\n",
    "String_List[5:0] = \"_SPLIT_\"   # List[] got inserted 7 new seperate string letter elements '_', 'S', 'P', 'L', 'I', 'T', '_' at the mentioned index\n",
    "print(String_List)\n",
    "String = \"\".join(String_List) # Join back list string letter elements into a single String variable\n",
    "print(String)"
   ]
  },
  {
   "cell_type": "code",
   "execution_count": 20,
   "metadata": {},
   "outputs": [
    {
     "name": "stdout",
     "output_type": "stream",
     "text": [
      "['A', 'n', 'w', 'n', 'e', 'A', 'n', 's', 'h', 'A']\n",
      "['A', 'n', 'w', 'n', 'e', '_GAMO_', 'S', 'P', 'L', 'I', 'T_', 'A', 'n', 's', 'h', 'A']\n",
      "Anwne_GAMO_SPLIT_AnshA\n"
     ]
    }
   ],
   "source": [
    "String = \"AnwneAnshA\"\n",
    "String_List = list(String)     # string variable got converted into list()\n",
    "print(String_List)\n",
    "String_List[5:0] = \"_GAMO_\", 'S', 'P', 'L', 'I', 'T_' # List[] got inserted 6 new seperate string letter elements \"_GAMO_\" & 'S', 'P', 'L', 'I', 'T_' at the mentioned index\n",
    "print(String_List)\n",
    "String = \"\".join(String_List) # Join back list string letter elements into a single String variable\n",
    "print(String)"
   ]
  },
  {
   "cell_type": "code",
   "execution_count": 21,
   "metadata": {},
   "outputs": [
    {
     "name": "stdout",
     "output_type": "stream",
     "text": [
      "['A', 'n', 'w', 'n', 'e', 'A', 'n', 's', 'h', 'A']\n",
      "['A', 'n', 'w', 'n', 'e', ['_L', 'I', 'S', 'T_'], 'A', 'n', 's', 'h', 'A']\n",
      "['A', 'n', 'w', 'n', 'e', '_LIST_', 'A', 'n', 's', 'h', 'A']\n",
      "Anwne_LIST_AnshA\n"
     ]
    }
   ],
   "source": [
    "String = \"AnwneAnshA\"\n",
    "String_List = list(String)     # string variable got converted into list()\n",
    "print(String_List)\n",
    "String_List[5:0] = [[\"_L\", \"I\", \"S\", \"T_\"]]   # List[] got inserted 4 new seperate string letter elements as List[] format.\n",
    "print(String_List)\n",
    "String_List[String_List.index([\"_L\", \"I\", \"S\", \"T_\"])] = \"\".join(String_List[String_List.index([\"_L\", \"I\", \"S\", \"T_\"])])\n",
    "print(String_List)\n",
    "String = \"\".join(String_List)   # Join back list string letter elements into a single String variable\n",
    "print(String)"
   ]
  },
  {
   "cell_type": "code",
   "execution_count": 22,
   "metadata": {},
   "outputs": [
    {
     "name": "stdout",
     "output_type": "stream",
     "text": [
      "['A', 'n', 'w', 'n', 'e', 'A', 'n', 's', 'h', 'A']\n",
      "['A', 'n', 'w', 'n', 'e', ('_T', 'U', 'P', 'L', 'E_'), 'A', 'n', 's', 'h', 'A']\n",
      "['A', 'n', 'w', 'n', 'e', '_TUPLE_', 'A', 'n', 's', 'h', 'A']\n",
      "Anwne_TUPLE_AnshA\n"
     ]
    }
   ],
   "source": [
    "String = \"AnwneAnshA\"\n",
    "String_List = list(String)     # string variable got converted into list()\n",
    "print(String_List)\n",
    "String_List[5:0] = [(\"_T\",\"U\", \"P\", \"L\", \"E_\")]   # List[] got inserted 5 new seperate string letter elements as Tuple() format.\n",
    "print(String_List)\n",
    "String_List[String_List.index((\"_T\",\"U\", \"P\", \"L\", \"E_\"))] = \"\".join(String_List[String_List.index((\"_T\",\"U\", \"P\", \"L\", \"E_\"))])\n",
    "print(String_List)\n",
    "String = \"\".join(String_List)   # Join back list string letter elements into a single String variable\n",
    "print(String)"
   ]
  },
  {
   "cell_type": "code",
   "execution_count": 23,
   "metadata": {},
   "outputs": [
    {
     "name": "stdout",
     "output_type": "stream",
     "text": [
      "['A', 'n', 'w', 'n', 'e', 'A', 'n', 's', 'h', 'A']\n",
      "['A', 'n', 'w', 'n', 'e', {'E', '_N', 'T_', 'S', 'W'}, 'A', 'n', 's', 'h', 'A']\n",
      "['A', 'n', 'w', 'n', 'e', 'E_NT_SW', 'A', 'n', 's', 'h', 'A']\n",
      "AnwneE_NT_SWAnshA\n"
     ]
    }
   ],
   "source": [
    "String = \"AnwneAnshA\"\n",
    "String_List = list(String)     # string variable got converted into list()\n",
    "print(String_List)\n",
    "String_List[5:0] = [{\"_N\", \"E\", \"W\", \"S\", \"E\", \"T_\"}]   # List[] got inserted 6 new seperate string letter elements as Set{} format.\n",
    "print(String_List)\n",
    "String_List[String_List.index({\"_N\", \"E\", \"W\", \"S\", \"E\", \"T_\"})] = \"\".join(String_List[String_List.index({\"_N\", \"E\", \"W\", \"S\", \"E\", \"T_\"})])\n",
    "print(String_List)\n",
    "String = \"\".join(String_List)     # Join back list string letter elements into a single String variable\n",
    "print(String)"
   ]
  },
  {
   "cell_type": "code",
   "execution_count": 34,
   "metadata": {},
   "outputs": [
    {
     "name": "stdout",
     "output_type": "stream",
     "text": [
      "['A', 'n', 'w', 'n', 'e', 'A', 'n', 's', 'h', 'A']\n",
      "['A', 'n', 'w', 'n', 'e', '_GAMO_', ['S', 'P', 'L', 'I', 'T_'], 'A', 'n', 's', 'h', 'A']\n",
      "['A', 'n', 'w', 'n', 'e', '_GAMO_', 'SPLIT_', 'A', 'n', 's', 'h', 'A']\n",
      "Anwne_GAMO_SPLIT_AnshA\n"
     ]
    }
   ],
   "source": [
    "String = \"AnwneAnshA\"\n",
    "String_List = list(String)     # string variable got converted into list()\n",
    "print(String_List)\n",
    "String_List[5:0] = \"_GAMO_\", ['S', 'P', 'L', 'I', 'T_']   # List[] got inserted 2 new elements \"_GAMO_\" & ['S', 'P', 'L', 'I', 'T_'] at the mentioned index\n",
    "print(String_List)\n",
    "\n",
    "#list() element [\"S\", \"P\", \"L\", \"I\", \"T_\"] got joined & replaced as \"SPLIT_\" string element\n",
    "String_List[String_List.index([\"S\", \"P\", \"L\", \"I\", \"T_\"])] = \"\".join(String_List[String_List.index([\"S\", \"P\", \"L\", \"I\", \"T_\"])])\n",
    "print(String_List)\n",
    "String = \"\".join(String_List) #Join back list string letter elements into a single String variable\n",
    "print(String)"
   ]
  },
  {
   "cell_type": "code",
   "execution_count": 24,
   "metadata": {},
   "outputs": [
    {
     "name": "stdout",
     "output_type": "stream",
     "text": [
      "['A', 'n', 'w', 'n', 'e', 'A', 'n', 's', 'h', 'A']\n",
      "['A', 'n', 'w', 'n', 'e', 'e1', 'e2', ['e3', 'e4'], ('e5', 'e6'), {'e6', 'e7'}, 'A', 'n', 's', 'h', 'A']\n"
     ]
    }
   ],
   "source": [
    "String = \"AnwneAnshA\"\n",
    "String_List = list(String)     # string variable got converted into list()\n",
    "print(String_List)\n",
    "String_List[5:0] = \"e1\", \"e2\", [\"e3\", \"e4\"], (\"e5\", \"e6\"), {\"e6\", \"e7\"} # List[] got inserted new elements at the place of mentioned index\n",
    "                                                                        # as Plain, List[], Tuple() & Set{} format.\n",
    "print(String_List)"
   ]
  },
  {
   "cell_type": "code",
   "execution_count": 49,
   "metadata": {},
   "outputs": [
    {
     "name": "stdout",
     "output_type": "stream",
     "text": [
      "['A', 'n', 'w', 'n', 'e', 'A', 'n', 's', 'h', 'A']\n",
      "['A', 'n', 'w', '_ALONE_', 'n', 's', 'h', 'A']\n",
      "Anw_ALONE_nshA\n"
     ]
    }
   ],
   "source": [
    "String = \"AnwneAnshA\"\n",
    "String_List = list(String)     # string variable got converted into list()\n",
    "print(String_List)\n",
    "String_List[3:(5)+1] = [\"_ALONE_\"]   # From index 3 to 5 elements got replaced by a single string as Array[]\n",
    "print(String_List)\n",
    "String = \"\".join(String_List) #Join back list string letter elements into a single String variable\n",
    "print(String)"
   ]
  },
  {
   "cell_type": "code",
   "execution_count": 50,
   "metadata": {},
   "outputs": [
    {
     "name": "stdout",
     "output_type": "stream",
     "text": [
      "['A', 'n', 'w', 'n', 'e', 'A', 'n', 's', 'h', 'A']\n",
      "['A', 'n', 'w', '_', 'S', 'P', 'L', 'I', 'T', '_', 'n', 's', 'h', 'A']\n",
      "Anw_SPLIT_nshA\n"
     ]
    }
   ],
   "source": [
    "String = \"AnwneAnshA\"\n",
    "String_List = list(String)     # string variable got converted into list()\n",
    "print(String_List)\n",
    "\n",
    "# From index 3 to 5 elements got replaced by 7 new seperate string letter elements \"_\", \"S\", \"P\", \"L\", \"I\", \"T\", \"_\"\n",
    "String_List[3:(5)+1] = \"_SPLIT_\"\n",
    "print(String_List)\n",
    "String = \"\".join(String_List) #Join back list string letter elements into a single String variable\n",
    "print(String)"
   ]
  },
  {
   "cell_type": "code",
   "execution_count": 51,
   "metadata": {},
   "outputs": [
    {
     "name": "stdout",
     "output_type": "stream",
     "text": [
      "['A', 'n', 'w', 'n', 'e', 'A', 'n', 's', 'h', 'A']\n",
      "['A', 'n', 'w', '_Alone_', 'S', 'P', 'L', 'I', 'T_', 'n', 's', 'h', 'A']\n",
      "Anw_Alone_SPLIT_nshA\n"
     ]
    }
   ],
   "source": [
    "String = \"AnwneAnshA\"\n",
    "String_List = list(String)     # string variable got converted into list()\n",
    "print(String_List)\n",
    "\n",
    "#From index 3 to 5 elements got replaced by 6 new seperate string letter elements \"_Alone_\", \"S\", \"P\", \"L\", \"I\", \"T_\"\n",
    "String_List[3:(5)+1] = \"_Alone_\", \"S\", \"P\", \"L\", \"I\", \"T_\"\n",
    "print(String_List)\n",
    "String = \"\".join(String_List)       #Join back list string letter elements into a single String variable\n",
    "print(String)"
   ]
  },
  {
   "cell_type": "code",
   "execution_count": 25,
   "metadata": {},
   "outputs": [
    {
     "name": "stdout",
     "output_type": "stream",
     "text": [
      "['A', 'n', 'w', 'n', 'e', 'A', 'n', 's', 'h', 'A']\n",
      "['A', 'n', 'w', '_Alone_', ['S', 'P', 'L', 'I', 'T_'], 'n', 's', 'h', 'A']\n",
      "['A', 'n', 'w', '_Alone_', 'SPLIT_', 'n', 's', 'h', 'A']\n",
      "Anw_Alone_SPLIT_nshA\n"
     ]
    }
   ],
   "source": [
    "String = \"AnwneAnshA\"\n",
    "String_List = list(String)     # string variable got converted into list()\n",
    "print(String_List)\n",
    "\n",
    "# From index 3 to 5 elements got replaced by 2 new string elements \"_Alone_\" & [\"S\", \"P\", \"L\", \"I\", \"T_\"]\n",
    "String_List[3:(5)+1] = \"_Alone_\", [\"S\", \"P\", \"L\", \"I\", \"T_\"]\n",
    "print(String_List)\n",
    "\n",
    "\n",
    "# List[] element [\"S\", \"P\", \"L\", \"I\", \"T_\"] got joined & replaced as \"SPLIT_\" string element\n",
    "String_List[String_List.index([\"S\", \"P\", \"L\", \"I\", \"T_\"])] = \"\".join(String_List[String_List.index([\"S\", \"P\", \"L\", \"I\", \"T_\"])])\n",
    "print(String_List)\n",
    "String = \"\".join(String_List)    #Join back list string letter elements into a single String variable\n",
    "print(String)"
   ]
  },
  {
   "cell_type": "code",
   "execution_count": 26,
   "metadata": {},
   "outputs": [
    {
     "name": "stdout",
     "output_type": "stream",
     "text": [
      "['A', 'n', 'w', 'n', 'e', 'A', 'n', 's', 'h', 'A']\n",
      "['A', 'n', 'w', 'n', 'e', '_5th_', 'n', 's', 'h', 'A']\n",
      "Anwne_5th_nshA\n"
     ]
    }
   ],
   "source": [
    "String = \"AnwneAnshA\"\n",
    "String_List = list(String)           # string variable got converted into list()\n",
    "print(String_List)\n",
    "String_List[5] = \"_5th_\"        # Mentioned single index element got replaced by single alone \"_5th_\" string element\n",
    "print(String_List)\n",
    "String = \"\".join(String_List)        # Join back list string letter elements into a single String variable\n",
    "print(String)"
   ]
  },
  {
   "cell_type": "code",
   "execution_count": 27,
   "metadata": {},
   "outputs": [
    {
     "name": "stdout",
     "output_type": "stream",
     "text": [
      "['A', 'n', 'w', 'n', 'e', 'A', 'n', 's', 'h', 'A']\n",
      "['A', 'n', 'w', 'n', 'e', ('_GAMO_', 'NEW', '_MAGNUM_'), 'n', 's', 'h', 'A']\n",
      "['A', 'n', 'w', 'n', 'e', '_GAMO_NEW_MAGNUM_', 'n', 's', 'h', 'A']\n",
      "Anwne_GAMO_NEW_MAGNUM_nshA\n"
     ]
    }
   ],
   "source": [
    "String = \"AnwneAnshA\"\n",
    "String_List = list(String)     # string variable got converted into list()\n",
    "print(String_List)\n",
    "String_List[5] = \"_GAMO_\", \"NEW\", \"_MAGNUM_\"     # Mentioned single index element got replaced by 3 new string elements in tuple() format\n",
    "print(String_List)\n",
    "String_List[5] = \"\".join(String_List[5]) # 5th index tuple() elements got joined to form a single string & replaced by that string\n",
    "print(String_List)\n",
    "String = \"\".join(String_List)    # Join back list string letter elements into a single String variable\n",
    "print(String)"
   ]
  },
  {
   "cell_type": "code",
   "execution_count": 28,
   "metadata": {},
   "outputs": [
    {
     "name": "stdout",
     "output_type": "stream",
     "text": [
      "['A', 'n', 'w', 'n', 'e', 'A', 'n', 's', 'h', 'A']\n",
      "['A', 'n', 'w', 'n', 'e', ['_GAMO_', 'NEW', '_MAGNUM_'], 'n', 's', 'h', 'A']\n",
      "['A', 'n', 'w', 'n', 'e', '_GAMO_NEW_MAGNUM_', 'n', 's', 'h', 'A']\n",
      "Anwne_GAMO_NEW_MAGNUM_nshA\n"
     ]
    }
   ],
   "source": [
    "String = \"AnwneAnshA\"\n",
    "String_List = list(String)     # string variable got converted into list()\n",
    "print(String_List)\n",
    "String_List[5] = [\"_GAMO_\", \"NEW\", \"_MAGNUM_\"]     # Mentioned single index element got replaced by 3 new string elements in list[] format\n",
    "print(String_List)\n",
    "String_List[5] = \"\".join(String_List[5]) # 5th index nested list[] elements got joined to form a single string & replaced by that string\n",
    "print(String_List)\n",
    "String = \"\".join(String_List)    # Join back list string letter elements into a single String variable\n",
    "print(String)"
   ]
  },
  {
   "cell_type": "code",
   "execution_count": 29,
   "metadata": {},
   "outputs": [
    {
     "name": "stdout",
     "output_type": "stream",
     "text": [
      "['P', 'i', 'k', 'a', 'c', 'h', '_GAMO_', 'LETTER', 'u', 'u']\n",
      "Pikach_GAMO_LETTERuu\n"
     ]
    }
   ],
   "source": [
    "PokName = \"Pikachuu\"                                       #String variable has been created\n",
    "PokName_List = list(PokName)                              #String letters has been converted into list[]\n",
    "PokName_List[6:0] = \"_GAMO_\", \"LETTER\"                 #list() got inserted 2 new elements \"GAMO\" & \"LETTER\" at the mentioned index\n",
    "print(PokName_List)\n",
    "String = \"\".join(PokName_List)                            #letters got join() back to form string variable\n",
    "print(String)"
   ]
  },
  {
   "cell_type": "code",
   "execution_count": 30,
   "metadata": {},
   "outputs": [
    {
     "name": "stdout",
     "output_type": "stream",
     "text": [
      "['P', 'i', 'k', 'a', 'c', 'h', 'u', 'u', '_GAMO_', ['L', 'E', 'T', 'T', 'E', 'R']]\n",
      "Pikachuu_GAMO_LETTER\n"
     ]
    }
   ],
   "source": [
    "PokName = \"Pikachuu\"                                       #String variable has been created\n",
    "PokName_List = list(PokName)                              #String letters has been converted into list[]\n",
    "\n",
    "#list() got inserted by two new elements \"GAMO\" & ['L', 'E', 'T', 'T', 'E', 'R'] at the end\n",
    "PokName_List[len(PokName_List):0] = \"_GAMO_\", ['L', 'E', 'T', 'T', 'E', 'R']\n",
    "print(PokName_List)\n",
    "\n",
    "#list() element ['L', 'E', 'T', 'T', 'E', 'R'] got joined & replaced as \"LETTER\" string element\n",
    "PokName_List[PokName_List.index(['L', 'E', 'T', 'T', 'E', 'R'])] = \"\".join(PokName_List[PokName_List.index(['L', 'E', 'T','T', 'E', 'R'])])\n",
    "PokName = \"\".join(PokName_List) #Join back list string letter elements into a single String variable\n",
    "print(PokName)"
   ]
  },
  {
   "cell_type": "code",
   "execution_count": 31,
   "metadata": {},
   "outputs": [
    {
     "name": "stdout",
     "output_type": "stream",
     "text": [
      "['A', 'n', 'w', 'n', 'e', 'A', 'n', 's', 'h', 'A']\n",
      "['A', 'n', 'w', 'n', 'e', 'A', 'n', 's', 'h', 'A', '_GAMO_', 'L', 'E', 'T', 'T', 'E', 'R']\n",
      "AnwneAnshA_GAMO_LETTER\n",
      "<class 'str'>\n"
     ]
    }
   ],
   "source": [
    "String = \"AnwneAnshA\"\n",
    "String_List = list(String)     # string variable got converted into list()\n",
    "print(String_List)\n",
    "String_List[len(String_List):0] = [\"_GAMO_\"] ; String_List[len(String_List):0] = \"LETTER\"    # ; has seperated two commands\n",
    "#                                              list() got inserted by new elements \"GAMO\" & 'L', 'E', 'T', 'T', 'E', 'R'\n",
    "print(String_List)\n",
    "String = \"\".join(String_List)   # Joined back into a single String variable\n",
    "print(String)\n",
    "print(type(String))"
   ]
  },
  {
   "cell_type": "code",
   "execution_count": 32,
   "metadata": {},
   "outputs": [
    {
     "name": "stdout",
     "output_type": "stream",
     "text": [
      "['A', 'n', 'w', 'n', 'e', 'A', 'n', 's', 'h', 'A']\n",
      "['A', 'n', 'w', 'n', 'e', 'A', 'n', 's', 'h', 'A', '_GAMO_', 'L', 'E', 'T', 'T', 'E', 'R']\n",
      "AnwneAnshA_GAMO_LETTER\n",
      "<class 'str'>\n"
     ]
    }
   ],
   "source": [
    "String = \"AnwneAnshA\"\n",
    "String_List = list(String)     # string variable got converted into list()\n",
    "print(String_List)\n",
    "String_List[len(String_List):0] = \"_GAMO_\", \"L\", \"E\", \"T\", \"T\", \"E\", \"R\"\n",
    "#                                              list() got inserted by new elements \"GAMO\" & 'L', 'E', 'T', 'T', 'E', 'R'\n",
    "print(String_List)\n",
    "String = \"\".join(String_List)   # Joined back into a single String variable\n",
    "print(String)\n",
    "print(type(String))"
   ]
  },
  {
   "cell_type": "code",
   "execution_count": 33,
   "metadata": {},
   "outputs": [
    {
     "name": "stdout",
     "output_type": "stream",
     "text": [
      "['A', 'n', 'w', 'n', 'e', 'A', 'n', 's', 'h', 'A']\n",
      "['A', 'n', 'w', 'n', 'e', 'A', 'n', 's', 'h', 'A', '_GAMO_', ['L', 'E', 'T', 'T', 'E', 'R'], '_Hugo']\n",
      "['A', 'n', 'w', 'n', 'e', 'A', 'n', 's', 'h', 'A', '_GAMO_', 'LETTER', '_Hugo']\n",
      "AnwneAnshA_GAMO_LETTER_Hugo\n",
      "<class 'str'>\n"
     ]
    }
   ],
   "source": [
    "String = \"AnwneAnshA\"\n",
    "String_List = list(String)                   # string variable got converted into list()\n",
    "print(String_List)\n",
    "String_List.extend([\"_GAMO_\"]), String_List.extend([[\"L\", \"E\", \"T\", \"T\", \"E\", \"R\"], \"_Hugo\"])\n",
    "print(String_List)\n",
    "String_List[String_List.index(['L', 'E', 'T', 'T', 'E', 'R'])] = \"\".join(String_List[String_List.index(['L', 'E', 'T', 'T', 'E', 'R'])])\n",
    "                      # String_List list() element ['L', 'E', 'T', 'T', 'E', 'R'] got joined & replaced as LETTER string element\n",
    "print(String_List)\n",
    "String = \"\".join(String_List)               # Joined back into a single String variable\n",
    "print(String)\n",
    "print(type(String))"
   ]
  },
  {
   "cell_type": "code",
   "execution_count": 14,
   "metadata": {},
   "outputs": [
    {
     "name": "stdout",
     "output_type": "stream",
     "text": [
      "['A', 'n', 'w', 'n', 'e', 'A', 'n', 's', 'h', 'A']\n",
      "['A', 'n', 'w', 'n', 'e', 'A', 'n', 's', 'h', 'A', '_GAMO_']\n",
      "['A', 'n', 'w', 'n', 'e', 'A', 'n', 's', 'h', 'A', '_GAMO_', '_', 'S', 'P', 'L', 'I', 'T', '_']\n",
      "['A', 'n', 'w', 'n', 'e', 'A', 'n', 's', 'h', 'A', '_GAMO_', '_', 'S', 'P', 'L', 'I', 'T', '_', [34, False, 'List'], ((78-6j), True, 'Tuple'), {'Set', 74.67, (6+5j)}, 'ping', 'pong', ['Lis2', 49.89], ('Tuple2', 95.89), {None, 'Setu2'}]\n"
     ]
    }
   ],
   "source": [
    "String = \"AnwneAnshA\"\n",
    "String_List = list(String)                   # string variable got converted into list()\n",
    "print(String_List)\n",
    "String_List.extend([\"_GAMO_\"])     # Single string element got inserted as Array[]\n",
    "print(String_List)\n",
    "String_List.extend(\"_SPLIT_\")           # String got inserted as \"S\", \"P\", \"L\", \"I\", \"T\" at the end position\n",
    "print(String_List)\n",
    "String_List.extend([[34, False, \"List\"]])  # Elements got inserted at the end position as List[] format\n",
    "String_List.extend([(78-6j, True, \"Tuple\")])  # Elements got inserted at the end position as Tuple() format\n",
    "String_List.extend([{\"Set\", 74.67, 6+5j}])  # Elements got inserted at the end position as Tuple() format\n",
    "String_List.extend([\"ping\", \"pong\",[\"Lis2\", 49.89],(\"Tuple2\", 95.89),{\"Setu2\", None}]) # Elements got inserted as Plain, List[], Tuple() & Set{} format\n",
    "print(String_List)"
   ]
  },
  {
   "cell_type": "code",
   "execution_count": 27,
   "metadata": {},
   "outputs": [
    {
     "name": "stdout",
     "output_type": "stream",
     "text": [
      "['A', 'n', 'w', 'n', 'e', 'A', 'n', 's', 'h', 'A', '_GAMO_', '_', 'S', 'P', 'L', 'I', 'T', '_', [34, False, 'List'], ((78-6j), True, 'Tuple'), {'Set', 74.67, (6+5j)}, 'ping', 'pong', ['Lis2', 49.89], ('Tuple2', 95.89), {None, 'Setu2'}]\n",
      "[1, 2, 3, 4]\n",
      "<class 'int'>\n",
      "4\n",
      "[1, 2, 3, 4]\n",
      "<class 'str'>\n",
      "12\n",
      "['1', '2', '3', '4']\n",
      "<class 'str'>\n",
      "4\n",
      "(1, 2, 3, 4)\n",
      "4\n"
     ]
    }
   ],
   "source": [
    "List_String = str(String_List)\n",
    "print(List_String)\n",
    "type(List_String)\n",
    "\n",
    "List = [1, 2, 3, 4]\n",
    "print(List)\n",
    "print(type(List[2]))\n",
    "print(len(List))\n",
    "Convert = str(List)\n",
    "print(Convert)\n",
    "print(type(Convert[2]))\n",
    "print(len(Convert))\n",
    "Str_List = [\"1\", \"2\", \"3\", \"4\"]\n",
    "print(Str_List)\n",
    "print(type(Str_List[2]))\n",
    "print(len(Str_List))\n",
    "\n",
    "List = [1, 2, 3, 4]\n",
    "List_Tuple = tuple(List)\n",
    "print(List_Tuple)\n",
    "print(len(List_Tuple))"
   ]
  },
  {
   "cell_type": "code",
   "execution_count": 4,
   "metadata": {},
   "outputs": [
    {
     "name": "stdout",
     "output_type": "stream",
     "text": [
      "{'s', 'e', 'h', 'n', 'w', 'A'}\n",
      "{'_Gamo_', '_Hugo_', 's', 'e', 'h', 'n', 'w', 'A'}\n",
      "_Gamo__Hugo_sehnwA\n",
      "<class 'str'>\n"
     ]
    }
   ],
   "source": [
    "String = \"AnwneAnshA\"\n",
    "Set_String = set(String)   # String variable got converted into set{} having unique elements only\n",
    "print(Set_String)\n",
    "Set_String.add(\"_Gamo_\"), Set_String.add(\"_Hugo_\")   # .add() has added two new string elements \"_Gamo_\" & \"_Hugo_\" at random locations\n",
    "print(Set_String)\n",
    "\n",
    "String = \"\".join(Set_String)   # Joined back into a single String variable\n",
    "print(String)\n",
    "print(type(String))"
   ]
  },
  {
   "cell_type": "code",
   "execution_count": 2,
   "metadata": {},
   "outputs": [
    {
     "name": "stdout",
     "output_type": "stream",
     "text": [
      "ewAse2e3e5e4he1n\n"
     ]
    }
   ],
   "source": [
    "String = \"AnwneAnshA\"\n",
    "String_Set = set(String)   # String variable got converted into set{} having unique elements only\n",
    "String_Set.add(\"e1\")\n",
    "String_Set.add((\"e2\", \"e3\"))  #Inserting new string letter elements as Tuple() format\n",
    "String_Set.add(frozenset({\"e4\", \"e5\"}))  #Inserting new string letter elements as frozenset({}) format\n",
    "String_List = list(String_Set)   #Set{} has been converted into List[]\n",
    "String_List[String_List.index((\"e2\", \"e3\"))] = \"\".join(String_List[String_List.index((\"e2\", \"e3\"))])  #Tuple() String letter elements got replaced by join()\n",
    "String_List[String_List.index(frozenset({\"e4\", \"e5\"}))] = \"\".join(String_List[String_List.index(frozenset({\"e4\", \"e5\"}))]) #frozenset({}) String letter elements got replaced by join()\n",
    "String = \"\".join(String_List) #List[] string letter elements got joined back to form a single String variable.\n",
    "print(String)"
   ]
  },
  {
   "cell_type": "code",
   "execution_count": 62,
   "metadata": {},
   "outputs": [
    {
     "name": "stdout",
     "output_type": "stream",
     "text": [
      "AnwneAnshA_Lacerda\n",
      "<class 'str'>\n",
      "AnwneAnshA_John_Wick\n",
      "<class 'str'>\n",
      "AnwneAnshA_Monster\n",
      "AnwneAnshA_Constantine\n",
      "AnwneAnshA_Nicolai\n"
     ]
    }
   ],
   "source": [
    "String = \"AnwneAnshA\"\n",
    "String = String + \"_Lacerda\"               # New_String = String_Variable + \"New_Word\"  #Concatination\n",
    "print(String)\n",
    "print(type(String))\n",
    "\n",
    "String = \"AnwneAnshA\"\n",
    "String += \"_\" + \"John_Wick\"                # String_Variable += \"New_Word\"   #Advanced Concatination\n",
    "print(String)\n",
    "print(type(String))\n",
    "\n",
    "String = \"AnwneAnshA\"\n",
    "String = f\"{String}_Monster\"                # New_String = f\"{String_Variable}New_Word\"\n",
    "print(String)\n",
    "\n",
    "String = \"AnwneAnshA\"\n",
    "String = \"%s_Constantine\" % String          # New_String = \"%sNew_Word\" % String_Variable\n",
    "print(String)\n",
    "\n",
    "String = \"AnwneAnshA\"\n",
    "String = \"{}_Nicolai\".format(String)        # New_String = \"{}New_Word\".format(String_Variable)\n",
    "print(String)"
   ]
  },
  {
   "cell_type": "code",
   "execution_count": 63,
   "metadata": {},
   "outputs": [
    {
     "name": "stdout",
     "output_type": "stream",
     "text": [
      "0\n",
      "2\n",
      "1\n",
      "3\n"
     ]
    }
   ],
   "source": [
    "String = \"AnwneAnshA\"\n",
    "print(String.index(\"An\"))\n",
    "print(String.count(\"An\"))\n",
    "print(String.index(\"n\"))\n",
    "print(String.count(\"n\"))"
   ]
  },
  {
   "cell_type": "code",
   "execution_count": 64,
   "metadata": {},
   "outputs": [
    {
     "name": "stdout",
     "output_type": "stream",
     "text": [
      "AnwneAn\n",
      "Awen\n"
     ]
    }
   ],
   "source": [
    "StringSlice1 = String[0:7]       # Slicing from String from index 0 to 7 excluding upperbound\n",
    "print(StringSlice1)\n",
    "\n",
    "StringSlice2 = String[0:7:2]    # Slicing from String from index 0 to 7 excluding upperbound by hopping 2 elements cycle\n",
    "print(StringSlice2)"
   ]
  },
  {
   "cell_type": "code",
   "execution_count": 65,
   "metadata": {},
   "outputs": [
    {
     "name": "stdout",
     "output_type": "stream",
     "text": [
      "AnwneAnshA\n",
      "Awenh\n",
      "AnwneAnshA\n"
     ]
    }
   ],
   "source": [
    "print(String)\n",
    "\n",
    "print(String[0:len(String):2])   # Slicing from String from index 0 to length index excluding by hopping 2 elements cycle\n",
    "\n",
    "print(String[0:len(String):1])"
   ]
  },
  {
   "cell_type": "code",
   "execution_count": 66,
   "metadata": {},
   "outputs": [
    {
     "name": "stdout",
     "output_type": "stream",
     "text": [
      "newnsMan\n"
     ]
    }
   ],
   "source": [
    "String2 = \"SpiderMan\"\n",
    "\n",
    "StringConcat = String[3:5] + String[2:4] + String[-3] + String2[6:9]    # Concationg indivisual letters of strings to form a new string\n",
    "\n",
    "print(StringConcat)"
   ]
  },
  {
   "cell_type": "code",
   "execution_count": 67,
   "metadata": {},
   "outputs": [
    {
     "name": "stdout",
     "output_type": "stream",
     "text": [
      "pdr ir\n",
      "pdrir\n"
     ]
    }
   ],
   "source": [
    "Spider = \"SpiderMan\"\n",
    "Concat = Spider[1:7:2] + Spider[2:8:3]\n",
    "print(Spider[1:7:2], Spider[2:8:3])\n",
    "print(Concat)"
   ]
  },
  {
   "cell_type": "code",
   "execution_count": 68,
   "metadata": {},
   "outputs": [
    {
     "name": "stdout",
     "output_type": "stream",
     "text": [
      "Spider\n",
      "Man\n",
      "Man\n"
     ]
    }
   ],
   "source": [
    "print(String2[:6])                  # print from staring 0th index to 6 excluding upperbound\n",
    "print(String2[6:])                  # print from 6th index to last\n",
    "print(String2[6:len(String2)])"
   ]
  },
  {
   "cell_type": "code",
   "execution_count": 71,
   "metadata": {},
   "outputs": [
    {
     "name": "stdout",
     "output_type": "stream",
     "text": [
      "SpiderMan\n",
      "['e', 'M', 'r', 'n', 'p', 'a', 'd', 'i', 'S']\n",
      "eMrnpadiS\n"
     ]
    }
   ],
   "source": [
    "import random\n",
    "# Random string Sampling\n",
    "Name = \"SpiderMan\"\n",
    "print(Name)\n",
    "\n",
    "RandSamp_String_List = random.sample(Name, len(Name))     # Randomly pick any 9 letters from String2, create list[] of it as variable RandSamp_String_List\n",
    "print(RandSamp_String_List)                               # You need to create seperate variable RandSam to store the Sample as list()\n",
    "RandSampName = \"\".join(RandSamp_String_List)               # Rejoin the list[] string elements to form a string variable\n",
    "print(RandSampName)"
   ]
  },
  {
   "cell_type": "code",
   "execution_count": 72,
   "metadata": {},
   "outputs": [
    {
     "name": "stdout",
     "output_type": "stream",
     "text": [
      "['S', 'p', 'i', 'd', 'e', 'r', 'M', 'a', 'n']\n",
      "['i', 'r', 'a', 'e', 'p', 'S', 'n', 'M', 'd']\n",
      "iraepSnMd\n"
     ]
    }
   ],
   "source": [
    "import random\n",
    "# This is way to shuffle a String\n",
    "String = \"SpiderMan\"\n",
    "String_List = list(String)     # list() will convert & split the String into indivisual letters\n",
    "print(String_List)\n",
    "random.shuffle(String_List)   # String_List list() got shuffeled\n",
    "print(String_List)\n",
    "ShuffleJoin = \"\".join(String_List)   # String_List list() elements got rejoined into string variable ShuffleJoin\n",
    "print(ShuffleJoin)"
   ]
  },
  {
   "cell_type": "code",
   "execution_count": 73,
   "metadata": {},
   "outputs": [
    {
     "name": "stdout",
     "output_type": "stream",
     "text": [
      "7eAF1cB3d5GCb4Eg2aDf6\n",
      "<class 'list'>\n",
      "['1', '2', '3', '4', '5', '6', '7', 'A', 'B', 'C', 'D', 'E', 'F', 'G', 'a', 'b', 'c', 'd', 'e', 'f', 'g']\n",
      "1234567ABCDEFGabcdefg\n"
     ]
    }
   ],
   "source": [
    "# This is way to sort a String\n",
    "Name = \"7eAF1cB3d5GCb4Eg2aDf6\"\n",
    "print(Name)\n",
    "Sorted = sorted(Name) # sorted() has arranged the Name elements and directly converted into Sorted list() variable\n",
    "print(type(Sorted))\n",
    "print(Sorted)                 # sorted() works with Integer, Float, Boolean mix element data types simultaneously & with String seperately\n",
    "                              # sorted() sequence priority to the String Integers -> Uppercase alphabets -> lowercase alphabets\n",
    "SortedJoin = \"\".join(Sorted)  # joined back list() string elements into a single String variable\n",
    "print(SortedJoin)"
   ]
  },
  {
   "cell_type": "code",
   "execution_count": 74,
   "metadata": {},
   "outputs": [
    {
     "name": "stdout",
     "output_type": "stream",
     "text": [
      "('1', '2', '3', '4', '5', '6', '7', 'A', 'B', 'C', 'D', 'E', 'F', 'G', 'a', 'b', 'c', 'd', 'e', 'f', 'g')\n",
      "['1', '2', '3', '4', '5', '6', '7', 'A', 'B', 'C', 'D', 'E', 'F', 'G', 'a', 'b', 'c', 'd', 'e', 'f', 'g']\n"
     ]
    }
   ],
   "source": [
    "# This is way to sort a String\n",
    "String_Tuple = ('7', 'e', 'A', 'F', '1', 'c', 'B', '3', 'd', '5', 'G', 'C', 'b', '4', 'E', 'g', '2', 'a', 'D', 'f', '6')\n",
    "Sorted_String_List = sorted(String_Tuple)                   # Tuple() string elements got converted into sorted list[]\n",
    "                                                      # sorted() works with Integer, Float, Boolean mix element data types simultaneously & with String seperately\n",
    "String_Tuple = tuple(Sorted_String_List)              # sorted list[] got converted back into tuple() but now it is sorted\n",
    "print(String_Tuple)                       # sorted() sequence priority to the String Integers -> Uppercase alphabets -> lowercase alphabets           \n",
    "\n",
    "# This is way to sort a String\n",
    "String_List = ['7', 'e', 'A', 'F', '1', 'c', 'B', '3', 'd', '5', 'G', 'C', 'b', '4', 'E', 'g', '2', 'a', 'D', 'f', '6']\n",
    "Sorted_String_List = sorted(String_List)                   # list[] string elements got converted into sorted string list[]\n",
    "                                              # sorted() works with Integer, Float, Boolean mix element data types simultaneously & with String seperately\n",
    "String_List = Sorted_String_List              # sorted list[] got assigned back into String_List[] but now it has sorted element order\n",
    "print(String_List)                        # sorted() sequence priority to the String Integers -> Uppercase alphabets -> lowercase alphabets"
   ]
  },
  {
   "cell_type": "code",
   "execution_count": 75,
   "metadata": {},
   "outputs": [
    {
     "name": "stdout",
     "output_type": "stream",
     "text": [
      "['7', 'e', 'A', 'F', '1', 'c', 'B', '3', 'd', '5', 'G', 'C', 'b', '4', 'E', 'g', '2', 'a', 'D', 'f', '6']\n",
      "['1', '2', '3', '4', '5', '6', '7', 'A', 'B', 'C', 'D', 'E', 'F', 'G', 'a', 'b', 'c', 'd', 'e', 'f', 'g']\n",
      "1234567ABCDEFGabcdefg\n"
     ]
    }
   ],
   "source": [
    "# This is way to sort a String\n",
    "Name = \"7eAF1cB3d5GCb4Eg2aDf6\"\n",
    "Splitter = list(Name)              # It has been converted into Splitter list()\n",
    "print(Splitter)                  \n",
    "Splitter.sort()                # Splitter.sort() has arranged the Splitter list() elements\n",
    "                       # sort() works with Integer, Float, Boolean mix element data types simultaneously & with String seperately\n",
    "print(Splitter)                 # sort() sequence priority to the String Integers -> Uppercase alphabets -> lowercase alphabets\n",
    "SortJoin = \"\".join(Splitter)\n",
    "print(SortJoin)"
   ]
  },
  {
   "cell_type": "code",
   "execution_count": 76,
   "metadata": {},
   "outputs": [
    {
     "name": "stdout",
     "output_type": "stream",
     "text": [
      "deidMMan\n"
     ]
    }
   ],
   "source": [
    "Spider = \"SpiderMan\"\n",
    "StringConcat = Spider[3:5] + Spider[2:4] + Spider[-3] + Spider[6:9]\n",
    "print(StringConcat)"
   ]
  },
  {
   "cell_type": "code",
   "execution_count": 77,
   "metadata": {},
   "outputs": [
    {
     "name": "stdout",
     "output_type": "stream",
     "text": [
      "['S', 'p', 'i', 'd', 'e', 'r', 'M', 'a', 'n']\n",
      "['S', 'p', 'i', 'd', 'e', 'r', ' ', 'M', 'a', 'n']\n",
      "Spider Man\n"
     ]
    }
   ],
   "source": [
    "Spider = \"SpiderMan\"\n",
    "Testing = list(Spider)\n",
    "print(Testing)\n",
    "Testing[6:0] = \" \"    # Space \" \" ha sbeen inserted at the place of 6th index\n",
    "print(Testing)\n",
    "Spider = \"\".join(Testing)\n",
    "print(Spider)"
   ]
  },
  {
   "cell_type": "code",
   "execution_count": 10,
   "metadata": {},
   "outputs": [
    {
     "name": "stdout",
     "output_type": "stream",
     "text": [
      "['S', 'p', 'i', 'd', 'e', 'r', 'M', 'a', 'n']\n",
      "\n",
      "['n', 'a', 'M', 'r', 'e', 'd', 'i', 'p', 'S']\n",
      "\n",
      "naMredipS\n"
     ]
    }
   ],
   "source": [
    "Spider = \"SpiderMan\"\n",
    "Spider_List = list(Spider)   #Splitting the string letters into List[]\n",
    "print(Spider_List)\n",
    "print()\n",
    "Spider_List.reverse()    #This has reversed the placement of List[] string elements letters in Backward direction\n",
    "print(Spider_List)\n",
    "print()\n",
    "Spider_Backward = \"\".join(Spider_List)    #Join back list string letter elements into a single String variable\n",
    "print(Spider_Backward)"
   ]
  },
  {
   "cell_type": "code",
   "execution_count": 78,
   "metadata": {},
   "outputs": [
    {
     "name": "stdout",
     "output_type": "stream",
     "text": [
      "SpiderMan\n",
      "MpiderSan\n",
      "['S', 'p', 'i', 'd', 'e', 'r', 'M', 'a', 'n']\n",
      "['M', 'p', 'i', 'd', 'e', 'r', 'S', 'a', 'n']\n",
      "MpiderSan\n"
     ]
    }
   ],
   "source": [
    "# Swap/interchange index location of the element letters in a String\n",
    "Spider = \"SpiderMan\"\n",
    "print(Spider)\n",
    "Concat = Spider[6] + Spider[1:6] + Spider[0] + Spider[7:9] # Concat index string element letters\n",
    "print(Concat)\n",
    "Splitter = list(Spider) # Convert \"SpiderMan\" string into list()\n",
    "print(Splitter)\n",
    "Splitter[0], Splitter[6] = Splitter[6], Splitter[0] # Swap list() index string element letters 1,2 with 2,1\n",
    "print(Splitter)\n",
    "type(Splitter), len(Splitter)                 # Swap index string element letters 1,2 with 2,1\n",
    "Swap = \"\".join(Splitter) # join() individual list() index string element letters without space \"\"\n",
    "print(Swap)"
   ]
  },
  {
   "cell_type": "code",
   "execution_count": 29,
   "metadata": {},
   "outputs": [
    {
     "name": "stdout",
     "output_type": "stream",
     "text": [
      "['S', 'p', 'i', 'd', 'e', 'r', ' ', 'M', 'a', 'n']\n",
      "['n', 'a', 'M', ' ', 'r', 'e', 'd', 'i', 'p', 'S']\n",
      "naM redipS\n",
      "<class 'str'>\n"
     ]
    }
   ],
   "source": [
    "Spider = \"Spider Man\"\n",
    "List_Spider = list(Spider)   # It has been converted into List_Spider list()\n",
    "print(List_Spider)\n",
    "List_Spider.reverse()   # list() elements got into reverse index sequence\n",
    "print(List_Spider)\n",
    "Spider = \"\".join(List_Spider)\n",
    "print(Spider)\n",
    "print(type(Spider))    # Joined back into a single String variable"
   ]
  },
  {
   "cell_type": "code",
   "execution_count": 32,
   "metadata": {},
   "outputs": [
    {
     "name": "stdout",
     "output_type": "stream",
     "text": [
      "['S', 'p', 'i', 'd', 'e', 'r', ' ', 'M', 'a', 'n']\n",
      "naM redipS\n",
      "<class 'str'>\n"
     ]
    }
   ],
   "source": [
    "Spider = \"Spider Man\"\n",
    "List_Spider = list(Spider)   # It has been converted into Splitter list()\n",
    "print(List_Spider)\n",
    "Reversed_Spider = reversed(List_Spider)   # list() elements got into reverse index sequence\n",
    "print(Reversed_Spider)\n",
    "Spider = \"\".join(Reversed_Spider)\n",
    "print(Spider)\n",
    "print(type(Spider))    # Joined back into a single String variable"
   ]
  },
  {
   "cell_type": "code",
   "execution_count": 57,
   "metadata": {},
   "outputs": [
    {
     "name": "stdout",
     "output_type": "stream",
     "text": [
      "Black Widow\n"
     ]
    }
   ],
   "source": [
    "Spider = \"Spider Man\"\n",
    "New_Name = Spider.replace(\"Spider\", \"Black\").replace(\"Man\",\"Widow\") # String \"Spider\" has been replaced by \"Black\"\n",
    "                                                                    # \"Man\" has been replaced by \"Widow\"\n",
    "print(New_Name)                        # You need to create seperate variable New_Name to store the replace()"
   ]
  },
  {
   "cell_type": "code",
   "execution_count": 58,
   "metadata": {},
   "outputs": [
    {
     "name": "stdout",
     "output_type": "stream",
     "text": [
      "DoubleABCDDouble\n"
     ]
    }
   ],
   "source": [
    "Naam = \"1234ABCDabcd\"\n",
    "New_Naam = Naam.replace(\"abcd\", \"1234\").replace(\"1234\",\"Double\")\n",
    "print(New_Naam)"
   ]
  },
  {
   "cell_type": "code",
   "execution_count": 59,
   "metadata": {},
   "outputs": [
    {
     "name": "stdout",
     "output_type": "stream",
     "text": [
      "Spider Man\n"
     ]
    }
   ],
   "source": [
    "print(Spider)"
   ]
  },
  {
   "cell_type": "code",
   "execution_count": 60,
   "metadata": {},
   "outputs": [
    {
     "ename": "TypeError",
     "evalue": "'str' object does not support item assignment",
     "output_type": "error",
     "traceback": [
      "\u001b[0;31m---------------------------------------------------------------------------\u001b[0m",
      "\u001b[0;31mTypeError\u001b[0m                                 Traceback (most recent call last)",
      "Cell \u001b[0;32mIn[60], line 2\u001b[0m\n\u001b[1;32m      1\u001b[0m String \u001b[38;5;241m=\u001b[39m \u001b[38;5;124m\"\u001b[39m\u001b[38;5;124mAs above so below\u001b[39m\u001b[38;5;124m\"\u001b[39m\n\u001b[0;32m----> 2\u001b[0m String[\u001b[38;5;241m3\u001b[39m:\u001b[38;5;241m0\u001b[39m] \u001b[38;5;241m=\u001b[39m \u001b[38;5;124m\"\u001b[39m\u001b[38;5;124mChipmunk\u001b[39m\u001b[38;5;124m\"\u001b[39m   \u001b[38;5;66;03m# Strings are immutable Object, you can't plugin new letters\u001b[39;00m\n\u001b[1;32m      3\u001b[0m \u001b[38;5;28mprint\u001b[39m(String)\n",
      "\u001b[0;31mTypeError\u001b[0m: 'str' object does not support item assignment"
     ]
    }
   ],
   "source": [
    "String = \"As above so below\"\n",
    "String[3:0] = \"Chipmunk\"   # Strings are immutable Object, you can't plugin new letters\n",
    "print(String)"
   ]
  },
  {
   "cell_type": "code",
   "execution_count": 3,
   "metadata": {},
   "outputs": [
    {
     "name": "stdout",
     "output_type": "stream",
     "text": [
      "['A', 's', ' ', 'a', 'b', 'o', 'v', 'e', ' ', 's', 'o', ' ', 'b', 'e', 'l', 'o', 'w']\n",
      "As Chipmunk above so below\n"
     ]
    }
   ],
   "source": [
    "String = \"As above so below\"\n",
    "StrList = list(String) # String has been converted into list() indivisual alphabet letter elements\n",
    "print(StrList)\n",
    "StrList[3:0] = \"Chipmunk \" # Plugin \"Chipmunk \" at the place of 3rd index\n",
    "StrJoin = \"\".join(StrList) # Rejoining indivisual alphabet letter elements converting into string word and sentence\n",
    "print(StrJoin)"
   ]
  },
  {
   "cell_type": "code",
   "execution_count": 4,
   "metadata": {},
   "outputs": [
    {
     "ename": "TypeError",
     "evalue": "'str' object does not support item assignment",
     "output_type": "error",
     "traceback": [
      "\u001b[0;31m---------------------------------------------------------------------------\u001b[0m",
      "\u001b[0;31mTypeError\u001b[0m                                 Traceback (most recent call last)",
      "Cell \u001b[0;32mIn[4], line 1\u001b[0m\n\u001b[0;32m----> 1\u001b[0m String[\u001b[38;5;241m2\u001b[39m:\u001b[38;5;241m5\u001b[39m] \u001b[38;5;241m=\u001b[39m \u001b[38;5;124m\"\u001b[39m\u001b[38;5;124mMunukunu\u001b[39m\u001b[38;5;124m\"\u001b[39m   \u001b[38;5;66;03m# You can't replace string letters with new ones\u001b[39;00m\n\u001b[1;32m      2\u001b[0m \u001b[38;5;28mprint\u001b[39m(String)\n",
      "\u001b[0;31mTypeError\u001b[0m: 'str' object does not support item assignment"
     ]
    }
   ],
   "source": [
    "String[2:5] = \"Munukunu\"   # You can't replace string letters with new ones\n",
    "print(String)"
   ]
  },
  {
   "cell_type": "code",
   "execution_count": 5,
   "metadata": {},
   "outputs": [
    {
     "ename": "AttributeError",
     "evalue": "'str' object has no attribute 'append'",
     "output_type": "error",
     "traceback": [
      "\u001b[0;31m---------------------------------------------------------------------------\u001b[0m",
      "\u001b[0;31mAttributeError\u001b[0m                            Traceback (most recent call last)",
      "Cell \u001b[0;32mIn[5], line 1\u001b[0m\n\u001b[0;32m----> 1\u001b[0m \u001b[43mString\u001b[49m\u001b[38;5;241;43m.\u001b[39;49m\u001b[43mappend\u001b[49m([\u001b[38;5;124m\"\u001b[39m\u001b[38;5;124mL\u001b[39m\u001b[38;5;124m\"\u001b[39m, \u001b[38;5;124m\"\u001b[39m\u001b[38;5;124mM\u001b[39m\u001b[38;5;124m\"\u001b[39m, \u001b[38;5;124m\"\u001b[39m\u001b[38;5;124mN\u001b[39m\u001b[38;5;124m\"\u001b[39m])         \u001b[38;5;66;03m# [] List format in the end\u001b[39;00m\n\u001b[1;32m      2\u001b[0m \u001b[38;5;28mprint\u001b[39m(String)\n",
      "\u001b[0;31mAttributeError\u001b[0m: 'str' object has no attribute 'append'"
     ]
    }
   ],
   "source": [
    "String.append([\"L\", \"M\", \"N\"])         # [] List format in the end\n",
    "print(String)"
   ]
  },
  {
   "cell_type": "code",
   "execution_count": 6,
   "metadata": {},
   "outputs": [
    {
     "ename": "AttributeError",
     "evalue": "'str' object has no attribute 'add'",
     "output_type": "error",
     "traceback": [
      "\u001b[0;31m---------------------------------------------------------------------------\u001b[0m",
      "\u001b[0;31mAttributeError\u001b[0m                            Traceback (most recent call last)",
      "Cell \u001b[0;32mIn[6], line 1\u001b[0m\n\u001b[0;32m----> 1\u001b[0m \u001b[43mString\u001b[49m\u001b[38;5;241;43m.\u001b[39;49m\u001b[43madd\u001b[49m(\u001b[38;5;124m\"\u001b[39m\u001b[38;5;124mH\u001b[39m\u001b[38;5;124m\"\u001b[39m)           \u001b[38;5;66;03m# add() works for Set only, One element at a time\u001b[39;00m\n\u001b[1;32m      2\u001b[0m \u001b[38;5;28mprint\u001b[39m(String)\n",
      "\u001b[0;31mAttributeError\u001b[0m: 'str' object has no attribute 'add'"
     ]
    }
   ],
   "source": [
    "String.add(\"H\")           # add() works for Set only, One element at a time\n",
    "print(String)"
   ]
  },
  {
   "cell_type": "code",
   "execution_count": 7,
   "metadata": {},
   "outputs": [
    {
     "ename": "AttributeError",
     "evalue": "'str' object has no attribute 'extend'",
     "output_type": "error",
     "traceback": [
      "\u001b[0;31m---------------------------------------------------------------------------\u001b[0m",
      "\u001b[0;31mAttributeError\u001b[0m                            Traceback (most recent call last)",
      "Cell \u001b[0;32mIn[7], line 1\u001b[0m\n\u001b[0;32m----> 1\u001b[0m \u001b[43mString\u001b[49m\u001b[38;5;241;43m.\u001b[39;49m\u001b[43mextend\u001b[49m([\u001b[38;5;124m\"\u001b[39m\u001b[38;5;124mP\u001b[39m\u001b[38;5;124m\"\u001b[39m, \u001b[38;5;124m\"\u001b[39m\u001b[38;5;124mY\u001b[39m\u001b[38;5;124m\"\u001b[39m, \u001b[38;5;124m\"\u001b[39m\u001b[38;5;124mz\u001b[39m\u001b[38;5;124m\"\u001b[39m])   \u001b[38;5;66;03m# Add multiple indivisual elements to the end\u001b[39;00m\n\u001b[1;32m      2\u001b[0m \u001b[38;5;28mprint\u001b[39m(String)\n",
      "\u001b[0;31mAttributeError\u001b[0m: 'str' object has no attribute 'extend'"
     ]
    }
   ],
   "source": [
    "String.extend([\"P\", \"Y\", \"z\"])   # Add multiple indivisual elements to the end\n",
    "print(String)"
   ]
  },
  {
   "cell_type": "code",
   "execution_count": 8,
   "metadata": {},
   "outputs": [
    {
     "ename": "AttributeError",
     "evalue": "'str' object has no attribute 'pop'",
     "output_type": "error",
     "traceback": [
      "\u001b[0;31m---------------------------------------------------------------------------\u001b[0m",
      "\u001b[0;31mAttributeError\u001b[0m                            Traceback (most recent call last)",
      "Cell \u001b[0;32mIn[8], line 1\u001b[0m\n\u001b[0;32m----> 1\u001b[0m \u001b[43mString\u001b[49m\u001b[38;5;241;43m.\u001b[39;49m\u001b[43mpop\u001b[49m()         \u001b[38;5;66;03m# Delete last index element by default\u001b[39;00m\n\u001b[1;32m      2\u001b[0m \u001b[38;5;28mprint\u001b[39m(String)\n",
      "\u001b[0;31mAttributeError\u001b[0m: 'str' object has no attribute 'pop'"
     ]
    }
   ],
   "source": [
    "String.pop()         # Delete last index element by default\n",
    "print(String)"
   ]
  },
  {
   "cell_type": "code",
   "execution_count": 9,
   "metadata": {},
   "outputs": [
    {
     "ename": "AttributeError",
     "evalue": "'str' object has no attribute 'remove'",
     "output_type": "error",
     "traceback": [
      "\u001b[0;31m---------------------------------------------------------------------------\u001b[0m",
      "\u001b[0;31mAttributeError\u001b[0m                            Traceback (most recent call last)",
      "Cell \u001b[0;32mIn[9], line 1\u001b[0m\n\u001b[0;32m----> 1\u001b[0m \u001b[43mString\u001b[49m\u001b[38;5;241;43m.\u001b[39;49m\u001b[43mremove\u001b[49m(\u001b[38;5;124m\"\u001b[39m\u001b[38;5;124mn\u001b[39m\u001b[38;5;124m\"\u001b[39m)       \u001b[38;5;66;03m# remove() is applicable for List & Set only. Remove the mentioned string letter\u001b[39;00m\n\u001b[1;32m      2\u001b[0m \u001b[38;5;28mprint\u001b[39m(String)\n",
      "\u001b[0;31mAttributeError\u001b[0m: 'str' object has no attribute 'remove'"
     ]
    }
   ],
   "source": [
    "String.remove(\"n\")       # remove() is applicable for List & Set only. Remove the mentioned string letter\n",
    "print(String)"
   ]
  },
  {
   "cell_type": "code",
   "execution_count": 10,
   "metadata": {},
   "outputs": [
    {
     "ename": "AttributeError",
     "evalue": "'str' object has no attribute 'insert'",
     "output_type": "error",
     "traceback": [
      "\u001b[0;31m---------------------------------------------------------------------------\u001b[0m",
      "\u001b[0;31mAttributeError\u001b[0m                            Traceback (most recent call last)",
      "Cell \u001b[0;32mIn[10], line 1\u001b[0m\n\u001b[0;32m----> 1\u001b[0m \u001b[43mString\u001b[49m\u001b[38;5;241;43m.\u001b[39;49m\u001b[43minsert\u001b[49m(\u001b[38;5;241m2\u001b[39m, \u001b[38;5;124m\"\u001b[39m\u001b[38;5;124mB\u001b[39m\u001b[38;5;124m\"\u001b[39m)      \u001b[38;5;66;03m# Plugin new string letter at the place of mentioned index\u001b[39;00m\n\u001b[1;32m      2\u001b[0m \u001b[38;5;28mprint\u001b[39m(String)\n",
      "\u001b[0;31mAttributeError\u001b[0m: 'str' object has no attribute 'insert'"
     ]
    }
   ],
   "source": [
    "String.insert(2, \"B\")      # Plugin new string letter at the place of mentioned index\n",
    "print(String)"
   ]
  },
  {
   "cell_type": "code",
   "execution_count": 11,
   "metadata": {},
   "outputs": [
    {
     "ename": "NameError",
     "evalue": "name 'String2' is not defined",
     "output_type": "error",
     "traceback": [
      "\u001b[0;31m---------------------------------------------------------------------------\u001b[0m",
      "\u001b[0;31mNameError\u001b[0m                                 Traceback (most recent call last)",
      "Cell \u001b[0;32mIn[11], line 1\u001b[0m\n\u001b[0;32m----> 1\u001b[0m \u001b[43mString2\u001b[49m\u001b[38;5;241m.\u001b[39mdiscard(\u001b[38;5;124m\"\u001b[39m\u001b[38;5;124mM\u001b[39m\u001b[38;5;124m\"\u001b[39m)           \u001b[38;5;66;03m# discard() works for Set only\u001b[39;00m\n\u001b[1;32m      2\u001b[0m \u001b[38;5;28mprint\u001b[39m(String2)\n",
      "\u001b[0;31mNameError\u001b[0m: name 'String2' is not defined"
     ]
    }
   ],
   "source": [
    "String2.discard(\"M\")           # discard() works for Set only\n",
    "print(String2)"
   ]
  },
  {
   "cell_type": "code",
   "execution_count": 12,
   "metadata": {},
   "outputs": [
    {
     "ename": "NameError",
     "evalue": "name 'random' is not defined",
     "output_type": "error",
     "traceback": [
      "\u001b[0;31m---------------------------------------------------------------------------\u001b[0m",
      "\u001b[0;31mNameError\u001b[0m                                 Traceback (most recent call last)",
      "Cell \u001b[0;32mIn[12], line 1\u001b[0m\n\u001b[0;32m----> 1\u001b[0m \u001b[43mrandom\u001b[49m\u001b[38;5;241m.\u001b[39mshuffle(String2)\n\u001b[1;32m      2\u001b[0m \u001b[38;5;28mprint\u001b[39m(String2)\n",
      "\u001b[0;31mNameError\u001b[0m: name 'random' is not defined"
     ]
    }
   ],
   "source": [
    "random.shuffle(String2)\n",
    "print(String2)"
   ]
  },
  {
   "cell_type": "code",
   "execution_count": 13,
   "metadata": {},
   "outputs": [
    {
     "ename": "NameError",
     "evalue": "name 'String2' is not defined",
     "output_type": "error",
     "traceback": [
      "\u001b[0;31m---------------------------------------------------------------------------\u001b[0m",
      "\u001b[0;31mNameError\u001b[0m                                 Traceback (most recent call last)",
      "Cell \u001b[0;32mIn[13], line 1\u001b[0m\n\u001b[0;32m----> 1\u001b[0m \u001b[43mString2\u001b[49m\u001b[38;5;241m.\u001b[39msort() \u001b[38;5;66;03m# \"String\" is immutable\u001b[39;00m\n\u001b[1;32m      2\u001b[0m \u001b[38;5;28mprint\u001b[39m(String2)\n",
      "\u001b[0;31mNameError\u001b[0m: name 'String2' is not defined"
     ]
    }
   ],
   "source": [
    "String2.sort() # \"String\" is immutable\n",
    "print(String2)"
   ]
  },
  {
   "cell_type": "code",
   "execution_count": 14,
   "metadata": {},
   "outputs": [
    {
     "name": "stdout",
     "output_type": "stream",
     "text": [
      "This is single quote string\n",
      "This is double quote string\n",
      "This is 'Single Quote' inside 'double' quote\n",
      "Hello! \"I am Jaspreet\". How's is your Mother?\n",
      "This is Multi-Line paragraph.\n",
      "It starts with \"Triple Quotes\" symbol &\n",
      "also end's with the same.\n",
      "Thanking you Anwesh!!!\n"
     ]
    },
    {
     "data": {
      "text/plain": [
       "(27, 27, 44, 45, 118)"
      ]
     },
     "execution_count": 14,
     "metadata": {},
     "output_type": "execute_result"
    }
   ],
   "source": [
    "SingleQT = 'This is single quote string'\n",
    "print(SingleQT)\n",
    "\n",
    "DoubleQT = \"This is double quote string\"\n",
    "print(DoubleQT)\n",
    "\n",
    "InsideQT = \"This is 'Single Quote' inside 'double' quote\"\n",
    "print(InsideQT)\n",
    "\n",
    "Backlash = \"Hello! \\\"I am Jaspreet\\\". How's is your Mother?\"\n",
    "print(Backlash)\n",
    "\n",
    "Multi_Line = \"\"\"This is Multi-Line paragraph.\n",
    "It starts with \"Triple Quotes\" symbol &\n",
    "also end's with the same.\n",
    "Thanking you Anwesh!!!\"\"\"\n",
    "print(Multi_Line)\n",
    "len(SingleQT), len(DoubleQT), len(InsideQT), len(Backlash), len(Multi_Line)"
   ]
  },
  {
   "cell_type": "code",
   "execution_count": 15,
   "metadata": {},
   "outputs": [
    {
     "ename": "NameError",
     "evalue": "name 'String1' is not defined",
     "output_type": "error",
     "traceback": [
      "\u001b[0;31m---------------------------------------------------------------------------\u001b[0m",
      "\u001b[0;31mNameError\u001b[0m                                 Traceback (most recent call last)",
      "Cell \u001b[0;32mIn[15], line 3\u001b[0m\n\u001b[1;32m      1\u001b[0m \u001b[38;5;66;03m# String is not convertible to any other data type except boolean\u001b[39;00m\n\u001b[1;32m      2\u001b[0m \u001b[38;5;66;03m# You can't Convert the \"String\" into Integer\u001b[39;00m\n\u001b[0;32m----> 3\u001b[0m Integer1 \u001b[38;5;241m=\u001b[39m \u001b[38;5;28mint\u001b[39m(\u001b[43mString1\u001b[49m)\n\u001b[1;32m      4\u001b[0m Integer2 \u001b[38;5;241m=\u001b[39m \u001b[38;5;28mint\u001b[39m(String2)\n\u001b[1;32m      5\u001b[0m \u001b[38;5;28mtype\u001b[39m(Integer1), \u001b[38;5;28mtype\u001b[39m(Integer2), \u001b[38;5;28mprint\u001b[39m(Integer1), \u001b[38;5;28mprint\u001b[39m(Integer2)\n",
      "\u001b[0;31mNameError\u001b[0m: name 'String1' is not defined"
     ]
    }
   ],
   "source": [
    "# String is not convertible to any other data type except boolean\n",
    "# You can't Convert the \"String\" into Integer\n",
    "Integer1 = int(String1)\n",
    "Integer2 = int(String2)\n",
    "type(Integer1), type(Integer2), print(Integer1), print(Integer2)\n",
    "print(bool(String1), bool(String2))"
   ]
  },
  {
   "cell_type": "code",
   "execution_count": 16,
   "metadata": {},
   "outputs": [
    {
     "name": "stdout",
     "output_type": "stream",
     "text": [
      "0\n",
      "0\n",
      "1\n"
     ]
    },
    {
     "data": {
      "text/plain": [
       "(int, int, int)"
      ]
     },
     "execution_count": 16,
     "metadata": {},
     "output_type": "execute_result"
    }
   ],
   "source": [
    "A = String.count(\"An\") # Count repeatation of \"An\" in string \"AnwneAnshA\" & save in A\n",
    "B = String.count(\"n\") # Count repeatation of \"n\" in string \"AnwneAnshA\" & save in B\n",
    "C = String.count(\"A\") # Count repeatation of \"A\" in string \"AnwneAnshA\" & save in C\n",
    "print(A), print(B), print(C)\n",
    "type(A), type(B), type(C)"
   ]
  },
  {
   "cell_type": "code",
   "execution_count": 17,
   "metadata": {},
   "outputs": [
    {
     "name": "stdout",
     "output_type": "stream",
     "text": [
      "33.33j\n",
      "(10-23.44j)\n",
      "(-23-45j)\n",
      "(23+99j)\n",
      "(67-8j)\n"
     ]
    }
   ],
   "source": [
    "X = String.count(\"An\")\n",
    "Float = 33.33\n",
    "Complex = complex(real=X, imag=Float)             # Combine Integer & Float into Complex\n",
    "print(Complex)                                    # Float will come into the imaginery part if you place it after comma\n",
    "\n",
    "Comp1 = complex(real=10, imag=-23.44)\n",
    "print(Comp1)\n",
    "\n",
    "Comp2 = complex(real=-23, imag=-45)\n",
    "print(Comp2)\n",
    "\n",
    "Comp3 = complex(real=23, imag=99)\n",
    "print(Comp3)\n",
    "\n",
    "Comp4 = 67-8j\n",
    "print(Comp4)"
   ]
  },
  {
   "cell_type": "code",
   "execution_count": 18,
   "metadata": {},
   "outputs": [
    {
     "name": "stdout",
     "output_type": "stream",
     "text": [
      "(33.33+67j)\n"
     ]
    }
   ],
   "source": [
    "Integer = 67\n",
    "Complex = complex(real=Float, imag=Integer)                     # Combine Integer & Float into Complex\n",
    "print(Complex)                                  # Integer will come into the imaginery part if you place it after comma"
   ]
  },
  {
   "cell_type": "code",
   "execution_count": 19,
   "metadata": {},
   "outputs": [
    {
     "name": "stdout",
     "output_type": "stream",
     "text": [
      "10 10.1 (10+10j) True Anwesh\n",
      "<class 'int'> <class 'float'> <class 'complex'> <class 'bool'> <class 'str'>\n"
     ]
    }
   ],
   "source": [
    "# Assign different data type values to different variables at once/at a time\n",
    "Integer, Float, Complex, Bool, String = 10, 10.10, 10+10j, True, \"Anwesh\"\n",
    "print(Integer, Float, Complex, Bool, String)\n",
    "print(type(Integer), type(Float), type(Complex), type(Bool), type(String))"
   ]
  },
  {
   "cell_type": "markdown",
   "metadata": {},
   "source": [
    "# Variables\n",
    "1. Lists\n",
    "2. Dictionaries\n",
    "3. Tuple\n",
    "4. Sets\n",
    "5. Range"
   ]
  },
  {
   "cell_type": "markdown",
   "metadata": {},
   "source": [
    "## Lists\n",
    "1. List.index(Element) #See the Index of mentioned element. One element at a time.\n",
    "2. List[:] #List Indexing\n",
    "3. List[::3] #List Indexing from start to end by hopping 3 elements cycle\n",
    "4. List[8], List[3], List[5] = List[4], List[6], List[10] #List[] 8, 3, 5 index elements got swapped with 4, 6, 10 index elements\n",
    "5. List.append(e1) #Insert element e1 at the end position\n",
    "6. List.append([e2, e3, e4])   #Insert in List[] format at the end position\n",
    "7. List.append((e2, e3, e4))   #Insert in Tuple() format at the end position\n",
    "8. List.append({e2, e3, e4})   #Insert in Set{} format at the end position\n",
    "9. List.insert(index, e1) #Insert new single element e1 at the place of mentioned index\n",
    "10. List.insert(index, [e2, e3, e4, e5]) #Insert new elements in List[] format at the place of mentioned index\n",
    "11. List.insert(index, (e2, e3, e4, e5)) #Insert new elements in Tuple() format at the place of mentioned index\n",
    "12. List.insert(index, {e2, e3, e4, e5}) #Insert new elements in Set{} format at the place of mentioned index\n",
    "13. List[Index:0] = [e1] #Insert single element e1 as Array[] at the place of mentioned index\n",
    "14. List.[Index:0] = \"LETTER\" #Insert new string letter alphabet elements \"L\", \"E\", \"T\", \"T\", \"E\", \"R\" at the place of mentioned index\n",
    "15. List[Index:0] = e1, e2, e3, e4 #Insert new elements at the place of mentioned index\n",
    "16. List[Index:0] = [[e1, e2, e3, e4]] #Insert new elements at the place of mentioned index as List[] format\n",
    "17. List[Index:0] = [(e1, e2, e3, e4)] #Insert new elements at the place of mentioned index as Tuple() format\n",
    "18. List[Index:0] = [{e1, e2, e3, e4}] #Insert new elements at the place of mentioned index as Set{} format\n",
    "19. List[Index:0] = e1, e2, [e3, e4], (e5, e6), {e7, e8} #Insert new elements at the place of mentioned index as Plain, List[], Tuple()\n",
    "20.                                                                                                              & Set{} format\n",
    "22. List[index] = e1 #Mentioned single index element got replaced by single alone e1 element\n",
    "23. List[index] = e1, e2, e3, e4 #Mentioned single index element got replaced by e1, e2, e3, e4 elements. Tuple() format\n",
    "24. List[index] = [e1, e2, e3, e4] #Mentioned single index element got replaced by e1, e2, e3, e4 elements. List[] format\n",
    "25. List[index] = {e1, e2, e3, e4} #Mentioned single index element got replaced by e1, e2, e3, e4 elements. Set{} format\n",
    "26. List[index] = e1, e2, [e3, e4], {e5, e6} #Mentioned single index element got replaced by elements as Tuple() format\n",
    "27. List[4:8] = e1, e2, e3, e4 #While replacing elements from index 4 to index 7\n",
    "28. List[4:8] = [e1] # From 4 to 8 exclusive upperbound multiple index elements will be replaced by single element e1 as Array[]\n",
    "29. List[4:8] = [[e1, e2, e3, e4]] #While replacing elements from index 4 to index 7 as List[] format\n",
    "30. List[4:8] = [(e1, e2, e3, e4)] #While replacing elements from index 4 to index 7 as Tuple() format\n",
    "31. List[4:8] = [{e1, e2, e3, e4}] #While replacing elements from index 4 to index 7 as Set{} format\n",
    "32. List[4:8] = e1, e2, [e3, e4], (e5, e6), {e7, e8} #While replacing elements from index 4 to index 7 as Plain, List[], Tuple(), & Set{} format\n",
    "33. List.extend([e1]) #Insert single indivisual elements to the end position as Array[]\n",
    "34. List.extend(\"SPLIT\") #Single string element got inserted as indivisual letters \"S\", \"P\", \"L\", \"I\", \"T\" at the end position\n",
    "35. List.extend([e2, e3, e4, e5]) #Insert multiple indivisual elements to the end position\n",
    "36. List.extend([[e2, e3, e4, e5]]) #Insert multiple indivisual elements to the end position as List[] format\n",
    "37. List.extend([(e2, e3, e4, e5)]) #Insert multiple indivisual elements to the end position as Tuple() format\n",
    "38. List.extend([{e2, e3, e4, e5}]) #Insert multiple indivisual elements to the end position as Set{} format\n",
    "39. List.extend([e6, e7, [e8, e9], (e10, e11), {e12, e13}]) #Insert multiple indivisual elements to the end position as Plain, List[], Tuple() & Set{} format\n",
    "41. List[len(List):0] = e1, e2, e3, e4 #Insert new multiple elements at the end position\n",
    "42. List[len(List):0] = [e5] #Insert single element e5 at the end position as Array[]\n",
    "43. Concated_List = List1 + List2 + List3 #List Concatination saved to another new List[] variable\n",
    "44. List1 += List2 + List3 #Advanced concatination happened within List1\n",
    "45. random.shuffle(List) #Shuffle the list elements Randomly\n",
    "46. List.reverse() #This will reverse the placement of List[] elements in Backward\n",
    "47. List = reversed(List) #This will reverse the placement of List[] elements in Backward\n",
    "48. RandSamp_List = random.sample(List, len(List)) #Pick randomly len(List) no of sample elements\n",
    "49. List.pop() #By default delete the last Index element\n",
    "50. List.pop(index) #delete the mentioned Index element\n",
    "51. List.count(Element) #Count the mentioned Element frequency, count single element at a time.\n",
    "52. List.remove(Element) #delete the mentioned Element, remove() is applicable for List & Set only. Removes first appearance & one element at a time.\n",
    "53. Additionally add(), discard() only works for Set #They don't work for List until you convert them from List[] to Set{} & convert back later.\n",
    "54. *\n",
    "55. MList_Set = set(MList) #Convert plain List[] into Set{}, selects unique elements only,\n",
    "56.          MList_Set.add(e1) #Insert one element at a time in the Set{},\n",
    "57.          MList_Set.add((e2, e3)) #Insert multiple elements as Tuple() format\n",
    "58.          MList_Set.add(frozenset({e4, e5})) #Insert multiple elements as frozenset({}) format\n",
    "59.          MList = list(MList_Set) #Convert back Set{} into List[].\n",
    "60. *\n",
    "61. MList_Set = set(MList) #Convert plain List[] into Set{}, selects unique elements only,\n",
    "62.          MList_Set.discard(Element) #Delete one element at a time from the Set{},\n",
    "63.          MList = list(MList_Set) #Convert back Set{} into List[].\n",
    "64. *\n",
    "65. List2 = List1.replace(E1, E2) #They don't work for List\n",
    "66. List.sort() #sort() works with Integer, Float, Boolean mix List element data types simultaneously & with String seperately.\n",
    "67.                sort() sequence priority to the String Integers -> Uppercase alphabets -> lowercase alphabets\n",
    "68. List2 = sorted(List1) #sorted() works with Integer, Float, Boolean mix List element data types simultaneously & with String seperately.\n",
    "69.               sorted() sequence priority to the String Integers -> Uppercase alphabets -> lowercase alphabets\n",
    "70. min(List), max(List), sum(List) #When the List element data types are Integer, Float, Bool"
   ]
  },
  {
   "cell_type": "code",
   "execution_count": 60,
   "metadata": {},
   "outputs": [
    {
     "name": "stdout",
     "output_type": "stream",
     "text": [
      "[1, 2, 3, 4, 5, 6, 7, 8, 9, 10]\n",
      "['KESHAV', (45+9j), True, 39.69, 39]\n",
      "['KESHAV', (45+9j), True, 39.69, 39, [1, 2, 3, 4, 5, 6, 7, 8, 9, 10]]\n"
     ]
    }
   ],
   "source": [
    "# You can't perform Arithmatic operations between lists, only concatination is possible\n",
    "# Creation of list ---- [], all elements of list come inside square bracket\n",
    "# [] Write everything inside Square bracket, which creates list\n",
    "# Whenever you want to fetch any specific value from List, mention the positional/location/index val inside List[] square bracket\n",
    "# You can't perform Arithmatic operations between 2 or more Lists\n",
    "# Homogenous list ----- list following only one datatype\n",
    "# Nested List----- When you create multiple List inside a List\n",
    "# You can't perform advanced indexing with List\n",
    "# List is mutable variable, you can add, remove, insert, swap, sort, shuffle & replace elements of List\n",
    "\n",
    "Homo1 = [1, 2, 3, 4, 5, 6, 7, 8, 9, 10] # List containing only integers\n",
    "print(Homo1)\n",
    "\n",
    "MixValues = [\"KESHAV\", 45+9j, True, 39.69, 39] # List containing all type of datas\n",
    "print(MixValues)\n",
    "\n",
    "NestList = [\"KESHAV\", 45+9j, True, 39.69, 39, Homo1] # Homo1 list has been taken inside as NestedList\n",
    "print(NestList)"
   ]
  },
  {
   "cell_type": "code",
   "execution_count": 61,
   "metadata": {},
   "outputs": [
    {
     "name": "stdout",
     "output_type": "stream",
     "text": [
      "['KESHAV', (45+9j), True, 39.69, 39, [1, 2, 3, 4, 5, 6, 7, 8, 9, 10]]\n",
      "[[1, 2, 3, 4, 5, 6, 7, 8, 9, 10], 39.69, 'KESHAV', (45+9j), 39, True]\n",
      "<class 'list'>\n"
     ]
    }
   ],
   "source": [
    "import random\n",
    "print(NestList)\n",
    "RandSampList = random.sample(NestList, len(NestList))  # Randomly pick sample len(List) no of elements from List & save it as RandSampList\n",
    "print(RandSampList)\n",
    "print(type(RandSampList))"
   ]
  },
  {
   "cell_type": "code",
   "execution_count": 62,
   "metadata": {},
   "outputs": [
    {
     "name": "stdout",
     "output_type": "stream",
     "text": [
      "['KESHAV', (45+9j), True, 39.69, 39, [1, 2, 3, 4, 5, 6, 7, 8, 9, 10]]\n",
      "['KESHAV', (45+9j), [1, 2, 3, 4, 39.69, 6, 7, 8, 9, 10], 39.69, 39, (45+9j)]\n"
     ]
    }
   ],
   "source": [
    "# 4th index element of 5th index element, 5th index element, 2nd index element got swapped with 3rd index element, 1st index element & 5th index element\n",
    "print(NestList)\n",
    "NestList[5][4], NestList[5], NestList[2] = NestList[3], NestList[1], NestList[5]\n",
    "print(NestList)"
   ]
  },
  {
   "cell_type": "code",
   "execution_count": 63,
   "metadata": {},
   "outputs": [
    {
     "name": "stdout",
     "output_type": "stream",
     "text": [
      "2\n"
     ]
    }
   ],
   "source": [
    "print(NestList.index(Homo1))   # print the index value of Homo1 nested list element"
   ]
  },
  {
   "cell_type": "code",
   "execution_count": 64,
   "metadata": {},
   "outputs": [
    {
     "name": "stdout",
     "output_type": "stream",
     "text": [
      "[[1, 2, 3, 4, 39.69, 6, 7, 8, 9, 10], 39.69, 39]\n"
     ]
    }
   ],
   "source": [
    "print(NestList[2:5])      # print from index 2nd to 5th excluding upperbound index elements"
   ]
  },
  {
   "cell_type": "code",
   "execution_count": 65,
   "metadata": {},
   "outputs": [
    {
     "name": "stdout",
     "output_type": "stream",
     "text": [
      "[(45+9j), 39]\n"
     ]
    }
   ],
   "source": [
    "print(NestList[1:5:3])    # print from index 2nd to 5th excluding upperbound by hopping 3 elements cycle"
   ]
  },
  {
   "cell_type": "code",
   "execution_count": 66,
   "metadata": {},
   "outputs": [
    {
     "name": "stdout",
     "output_type": "stream",
     "text": [
      "['KESHAV', (45+9j), [1, 2, 3, 4, 39.69, 6, 7, 8, 9, 10], 39.69, 39, (45+9j), 'Venom']\n",
      "['KESHAV', (45+9j), [1, 2, 3, 4, 39.69, 6, 7, 8, 9, 10], 39.69, 39, (45+9j), 'Venom', [78.99, (57+8j)]]\n",
      "['KESHAV', (45+9j), [1, 2, 3, 4, 39.69, 6, 7, 8, 9, 10], 39.69, 39, (45+9j), 'Venom', [78.99, (57+8j)], ('Tuple1', 'Tuple2')]\n",
      "['KESHAV', (45+9j), [1, 2, 3, 4, 39.69, 6, 7, 8, 9, 10], 39.69, 39, (45+9j), 'Venom', [78.99, (57+8j)], ('Tuple1', 'Tuple2'), {True, 'Set', '69', 77.89, 45, (78-8j), '78.99', None}]\n"
     ]
    }
   ],
   "source": [
    "NestList.append(\"Venom\")                                # append \"Venom\" at the end position\n",
    "print(NestList)\n",
    "NestList.append([78.99, 57 + 8j])                       # append [78.99, 57 + 8j] at the end position as list[]\n",
    "print(NestList)\n",
    "NestList.append((\"Tuple1\", \"Tuple2\"))                   # append (\"Tuple1\", \"Tuple2\") at the end position as Tuple()\n",
    "print(NestList)\n",
    "NestList.append({78-8j, None, True, \"Set\", 77.89, 45, \"69\", \"78.99\"})     # append {E1, E2, E3, E4} at the end position as Set{}\n",
    "print(NestList)"
   ]
  },
  {
   "cell_type": "code",
   "execution_count": 67,
   "metadata": {},
   "outputs": [
    {
     "name": "stdout",
     "output_type": "stream",
     "text": [
      "['KESHAV', (45+9j), [1, 2, 3, 4, 39.69, 6, 7, 8, 9, 10], 39.69, 39, '5th', (45+9j), 'Venom', [78.99, (57+8j)], ('Tuple1', 'Tuple2'), {True, 'Set', '69', 77.89, 45, (78-8j), '78.99', None}]\n",
      "['KESHAV', (45+9j), [1, 2, 3, 4, 39.69, 6, 7, 8, 9, 10], 39.69, 39, '5th', (45+9j), [(67-8j), 45, 57.19], 'Venom', [78.99, (57+8j)], ('Tuple1', 'Tuple2'), {True, 'Set', '69', 77.89, 45, (78-8j), '78.99', None}]\n",
      "['KESHAV', (45+9j), [1, 2, 3, 4, 39.69, 6, 7, 8, 9, 10], ('Tuple', True, 57.19), 39.69, 39, '5th', (45+9j), [(67-8j), 45, 57.19], 'Venom', [78.99, (57+8j)], ('Tuple1', 'Tuple2'), {True, 'Set', '69', 77.89, 45, (78-8j), '78.99', None}]\n",
      "['KESHAV', (45+9j), [1, 2, 3, 4, 39.69, 6, 7, 8, 9, 10], ('Tuple', True, 57.19), {None, (37.8-86j), 'Set'}, 39.69, 39, '5th', (45+9j), [(67-8j), 45, 57.19], 'Venom', [78.99, (57+8j)], ('Tuple1', 'Tuple2'), {True, 'Set', '69', 77.89, 45, (78-8j), '78.99', None}]\n"
     ]
    }
   ],
   "source": [
    "NestList.insert(5, \"5th\")                     # Insert new single element \"5th\" at the place of mentioned index\n",
    "print(NestList)\n",
    "NestList.insert(7, [67-8j, 45, 57.19])                     # Insert new elements in List[] format at the place of mentioned index\n",
    "print(NestList)\n",
    "NestList.insert(3, (\"Tuple\", True, 57.19))       # Insert new elements in Tuple() format at the place of mentioned index\n",
    "print(NestList)\n",
    "NestList.insert(4, {\"Set\", None, 37.8-86j})    # Insert new elements in Set{} format at the place of mentioned index\n",
    "print(NestList)"
   ]
  },
  {
   "cell_type": "code",
   "execution_count": 68,
   "metadata": {},
   "outputs": [
    {
     "name": "stdout",
     "output_type": "stream",
     "text": [
      "['KESHAV', (45+9j), True, 39.69, 39, 'KESHAV', (45+9j), [1, 2, 3, 4, 39.69, 6, 7, 8, 9, 10], ('Tuple', True, 57.19), {None, (37.8-86j), 'Set'}, 39.69, 39, '5th', (45+9j), [(67-8j), 45, 57.19], 'Venom', [78.99, (57+8j)], ('Tuple1', 'Tuple2'), {True, 'Set', '69', 77.89, 45, (78-8j), '78.99', None}]\n"
     ]
    },
    {
     "data": {
      "text/plain": [
       "19"
      ]
     },
     "execution_count": 68,
     "metadata": {},
     "output_type": "execute_result"
    }
   ],
   "source": [
    "MixValues[len(MixValues):0] = NestList   # Insert new elements at the last end position index as indivisual elements\n",
    "# EndPlugin = MixValues                  # Insert nested list() at the last index position\n",
    "print(MixValues)\n",
    "len(MixValues)"
   ]
  },
  {
   "cell_type": "code",
   "execution_count": 69,
   "metadata": {},
   "outputs": [
    {
     "name": "stdout",
     "output_type": "stream",
     "text": [
      "['KESHAV', (45+9j), True, 39.69, 'Tinku', 39, 'KESHAV', (45+9j), [1, 2, 3, 4, 39.69, 6, 7, 8, 9, 10], ('Tuple', True, 57.19), {None, (37.8-86j), 'Set'}, 39.69, 39, '5th', (45+9j), [(67-8j), 45, 57.19], 'Venom', [78.99, (57+8j)], ('Tuple1', 'Tuple2'), {True, 'Set', '69', 77.89, 45, (78-8j), '78.99', None}]\n",
      "\n",
      "['KESHAV', (45+9j), True, 39.69, 'Tinku', 39, 56, (89+68j), 67.59, True, 'Bolod', 'KESHAV', (45+9j), [1, 2, 3, 4, 39.69, 6, 7, 8, 9, 10], ('Tuple', True, 57.19), {None, (37.8-86j), 'Set'}, 39.69, 39, '5th', (45+9j), [(67-8j), 45, 57.19], 'Venom', [78.99, (57+8j)], ('Tuple1', 'Tuple2'), {True, 'Set', '69', 77.89, 45, (78-8j), '78.99', None}]\n"
     ]
    }
   ],
   "source": [
    "MixValues[4:0] = [\"Tinku\"]   # While Insert in single element as array at 4th index position\n",
    "print(MixValues)\n",
    "print()\n",
    "MixValues[6:0] = 56, 89 + 68j, 67.59, True, \"Bolod\"   # Insert new elements at the place of mentioned index\n",
    "print(MixValues)"
   ]
  },
  {
   "cell_type": "code",
   "execution_count": 71,
   "metadata": {},
   "outputs": [
    {
     "name": "stdout",
     "output_type": "stream",
     "text": [
      "['KESHAV', (45+9j), True, ['Laser', 689, (69.78-58.98j)], 39.69, 'Tinku', 39, 56, (89+68j), 67.59, True, 'Bolod', 'KESHAV', (45+9j), [1, 2, 3, 4, 39.69, 6, 7, 8, 9, 10], ('Tuple', True, 57.19), {None, 'Set', (37.8-86j)}, 39.69, 39, '5th', (45+9j), [(67-8j), 45, 57.19], 'Venom', [78.99, (57+8j)], ('Tuple1', 'Tuple2'), {True, '69', 45, 77.89, '78.99', 'Set', (78-8j), None}]\n",
      "<class 'list'>\n",
      "\n",
      "['KESHAV', (45+9j), True, ['Laser', 689, (69.78-58.98j)], ('67', '90.78', (68-7j), True, None), 39.69, 'Tinku', 39, 56, (89+68j), 67.59, True, 'Bolod', 'KESHAV', (45+9j), [1, 2, 3, 4, 39.69, 6, 7, 8, 9, 10], ('Tuple', True, 57.19), {None, 'Set', (37.8-86j)}, 39.69, 39, '5th', (45+9j), [(67-8j), 45, 57.19], 'Venom', [78.99, (57+8j)], ('Tuple1', 'Tuple2'), {True, '69', 45, 77.89, '78.99', 'Set', (78-8j), None}]\n",
      "<class 'tuple'>\n",
      "\n",
      "['KESHAV', (45+9j), True, ['Laser', 689, (69.78-58.98j)], ('67', '90.78', (68-7j), True, None), 39.69, 'Tinku', {True, 45, '16.39', None, (8-5j)}, 39, 56, (89+68j), 67.59, True, 'Bolod', 'KESHAV', (45+9j), [1, 2, 3, 4, 39.69, 6, 7, 8, 9, 10], ('Tuple', True, 57.19), {None, 'Set', (37.8-86j)}, 39.69, 39, '5th', (45+9j), [(67-8j), 45, 57.19], 'Venom', [78.99, (57+8j)], ('Tuple1', 'Tuple2'), {True, '69', 45, 77.89, '78.99', 'Set', (78-8j), None}]\n",
      "<class 'set'>\n",
      "\n",
      "28\n",
      "['KESHAV', (45+9j), True, ['Laser', 689, (69.78-58.98j)], ('67', '90.78', (68-7j), True, None), 39.69, 'Tinku', {True, 45, '16.39', None, (8-5j)}, 39, 56, (89+68j), 67.59, True, 'Bolod', 'KESHAV', (45+9j), [1, 2, 3, 4, 39.69, 6, 7, 8, 9, 10], ('Tuple', True, 57.19), {None, 'Set', (37.8-86j)}, 39.69, 39, '5th', (45+9j), [(67-8j), 45, 57.19], 'Venom', [78.99, (57+8j)], ('Tuple1', 'Tuple2'), {True, '69', 45, 77.89, '78.99', 'Set', (78-8j), None}, '6th', 68, ['Listu', 45], ('Tuple2', 78), {'Set3', 62}]\n"
     ]
    }
   ],
   "source": [
    "MixValues = ['KESHAV', (45+9j), True, 39.69, 'Tinku', 39, 56, (89+68j), \n",
    "             67.59, True, 'Bolod', 'KESHAV', (45+9j), \n",
    "             [1, 2, 3, 4, 39.69, 6, 7, 8, 9, 10], ('Tuple', True, 57.19), \n",
    "             {None, (37.8-86j), 'Set'}, 39.69, 39, '5th', (45+9j), [(67-8j), 45, 57.19], \n",
    "             'Venom', [78.99, (57+8j)], ('Tuple1', 'Tuple2'), \n",
    "             {True, 'Set', '69', 77.89, 45, (78-8j), '78.99', None}]\n",
    "\n",
    "\n",
    "MixValues[3:0] = [[\"Laser\", 689, 69.78-58.98j]]      # Insert new elements at the place of mentioned index as List[] format\n",
    "print(MixValues)\n",
    "print(type(MixValues[3]))\n",
    "print()\n",
    "\n",
    "MixValues[4:0] = [(\"67\", \"90.78\", 68-7j, True, None)]   # Insert new elements at the place of mentioned index as Tuple() format\n",
    "print(MixValues)\n",
    "print(type(MixValues[4]))\n",
    "print()\n",
    "\n",
    "MixValues[7:0] = [{45, \"16.39\", 8-5j, True, None}]   # Insert new elements at the place of mentioned index as Set{} format\n",
    "print(MixValues)\n",
    "print(type(MixValues[7]))\n",
    "print()\n",
    "\n",
    "print(len(MixValues))\n",
    "\n",
    "MixValues[28:0] = \"6th\", 68, [\"Listu\", 45], (\"Tuple2\", 78), {\"Set3\", 62}   # Inserted new elements at the place of mentioned index as Plain, List[], Tuple() & Set{} format\n",
    "print(MixValues)"
   ]
  },
  {
   "cell_type": "code",
   "execution_count": 72,
   "metadata": {},
   "outputs": [
    {
     "name": "stdout",
     "output_type": "stream",
     "text": [
      "['Laser', 689, (69.78-58.98j)]\n",
      "('67', '90.78', (68-7j), True, None)\n",
      "{True, 45, '16.39', None, (8-5j)}\n"
     ]
    }
   ],
   "source": [
    "print(MixValues[3])    # Shows 3rd index element\n",
    "print(MixValues[4])    # Shows 4th index element\n",
    "print(MixValues[7])    # Shows 7th index element"
   ]
  },
  {
   "cell_type": "code",
   "execution_count": 73,
   "metadata": {},
   "outputs": [
    {
     "name": "stdout",
     "output_type": "stream",
     "text": [
      "['KESHAV', (45+9j), True, ['Laser', 689, (69.78-58.98j)], ('67', '90.78', (68-7j), True, None), 39.69, 'Tinku', '7th', 39, 56, (89+68j), 67.59, True, 'Bolod', 'KESHAV', (45+9j), [1, 2, 3, 4, 39.69, 6, 7, 8, 9, 10], ('Tuple', True, 57.19), {None, 'Set', (37.8-86j)}, 39.69, 39, '5th', (45+9j), [(67-8j), 45, 57.19], 'Venom', [78.99, (57+8j)], ('Tuple1', 'Tuple2'), {True, '69', 45, 77.89, '78.99', 'Set', (78-8j), None}, '6th', 68, ['Listu', 45], ('Tuple2', 78), {'Set3', 62}]\n",
      "\n",
      "['KESHAV', (45+9j), True, ['Laser', 689, (69.78-58.98j)], (79, (56-8j), 'Boxer', 78.68), 39.69, 'Tinku', '7th', 39, 56, (89+68j), 67.59, True, 'Bolod', 'KESHAV', (45+9j), [1, 2, 3, 4, 39.69, 6, 7, 8, 9, 10], ('Tuple', True, 57.19), {None, 'Set', (37.8-86j)}, 39.69, 39, '5th', (45+9j), [(67-8j), 45, 57.19], 'Venom', [78.99, (57+8j)], ('Tuple1', 'Tuple2'), {True, '69', 45, 77.89, '78.99', 'Set', (78-8j), None}, '6th', 68, ['Listu', 45], ('Tuple2', 78), {'Set3', 62}]\n",
      "<class 'tuple'>\n",
      "\n",
      "['KESHAV', (45+9j), True, ['Laser', 689, (69.78-58.98j)], (79, (56-8j), 'Boxer', 78.68), 39.69, 'Tinku', '7th', [True, None, 'Ajmir', 47.63, (69-4j)], 56, (89+68j), 67.59, True, 'Bolod', 'KESHAV', (45+9j), [1, 2, 3, 4, 39.69, 6, 7, 8, 9, 10], ('Tuple', True, 57.19), {None, 'Set', (37.8-86j)}, 39.69, 39, '5th', (45+9j), [(67-8j), 45, 57.19], 'Venom', [78.99, (57+8j)], ('Tuple1', 'Tuple2'), {True, '69', 45, 77.89, '78.99', 'Set', (78-8j), None}, '6th', 68, ['Listu', 45], ('Tuple2', 78), {'Set3', 62}]\n",
      "<class 'list'>\n",
      "\n",
      "['KESHAV', (45+9j), True, ['Laser', 689, (69.78-58.98j)], (79, (56-8j), 'Boxer', 78.68), 39.69, 'Tinku', '7th', [True, None, 'Ajmir', 47.63, (69-4j)], {False, 'Tuple', 77.61, (69-4j)}, (89+68j), 67.59, True, 'Bolod', 'KESHAV', (45+9j), [1, 2, 3, 4, 39.69, 6, 7, 8, 9, 10], ('Tuple', True, 57.19), {None, 'Set', (37.8-86j)}, 39.69, 39, '5th', (45+9j), [(67-8j), 45, 57.19], 'Venom', [78.99, (57+8j)], ('Tuple1', 'Tuple2'), {True, '69', 45, 77.89, '78.99', 'Set', (78-8j), None}, '6th', 68, ['Listu', 45], ('Tuple2', 78), {'Set3', 62}]\n",
      "<class 'set'>\n",
      "\n",
      "['KESHAV', (45+9j), True, ['Laser', 689, (69.78-58.98j)], (79, (56-8j), 'Boxer', 78.68), 39.69, 'Tinku', '7th', [True, None, 'Ajmir', 47.63, (69-4j)], {False, 'Tuple', 77.61, (69-4j)}, ('Tupluu', 32.47, ['Listuu', 88], {44, 'Set{}'}), 67.59, True, 'Bolod', 'KESHAV', (45+9j), [1, 2, 3, 4, 39.69, 6, 7, 8, 9, 10], ('Tuple', True, 57.19), {None, 'Set', (37.8-86j)}, 39.69, 39, '5th', (45+9j), [(67-8j), 45, 57.19], 'Venom', [78.99, (57+8j)], ('Tuple1', 'Tuple2'), {True, '69', 45, 77.89, '78.99', 'Set', (78-8j), None}, '6th', 68, ['Listu', 45], ('Tuple2', 78), {'Set3', 62}]\n",
      "<class 'tuple'>\n"
     ]
    }
   ],
   "source": [
    "MixValues[7] = \"7th\"       # Mentioned single index element got replaced by single alone element\n",
    "print(MixValues)\n",
    "print()\n",
    "\n",
    "MixValues[4] = 79, 56-8j, \"Boxer\", 78.68     # Mentioned single index element got replaced by e1, e2, e3, e4 elements. Tuple()\n",
    "print(MixValues)\n",
    "print(type(MixValues[4]))\n",
    "print()\n",
    "\n",
    "MixValues[8] = [True, None, \"Ajmir\", 47.63, 69-4j]    # Mentioned single index element got replaced by e1, e2, e3, e4 elements. List[] format\n",
    "print(MixValues)\n",
    "print(type(MixValues[8]))\n",
    "print()\n",
    "\n",
    "MixValues[9] = {False, \"Tuple\", 77.61, 69-4j}      # Mentioned single index element got replaced by e1, e2, e3, e4 elements. Set{} format\n",
    "print(MixValues)\n",
    "print(type(MixValues[9]))\n",
    "print()\n",
    "\n",
    "MixValues[10] = \"Tupluu\", 32.47, [\"Listuu\", 88], {\"Set{}\", 44}   # Mentioned single index element got replaced by elements as Tuple() format\n",
    "print(MixValues)\n",
    "print(type(MixValues[10]))"
   ]
  },
  {
   "cell_type": "code",
   "execution_count": 74,
   "metadata": {},
   "outputs": [
    {
     "name": "stdout",
     "output_type": "stream",
     "text": [
      "7th\n",
      "(79, (56-8j), 'Boxer', 78.68)\n",
      "[True, None, 'Ajmir', 47.63, (69-4j)]\n",
      "{False, 'Tuple', 77.61, (69-4j)}\n"
     ]
    }
   ],
   "source": [
    "print(MixValues[7]) # Shows 7th index element\n",
    "print(MixValues[4]) # Shows 4th index element\n",
    "print(MixValues[8]) # Shows 8th index element\n",
    "print(MixValues[9]) # Shows 9th index element"
   ]
  },
  {
   "cell_type": "code",
   "execution_count": 75,
   "metadata": {},
   "outputs": [
    {
     "name": "stdout",
     "output_type": "stream",
     "text": [
      "['KESHAV', (45+9j), True, ['Laser', 689, (69.78-58.98j)], 67.9j, None, True, 77.56, '7th', [True, None, 'Ajmir', 47.63, (69-4j)], {False, 'Tuple', 77.61, (69-4j)}, ('Tupluu', 32.47, ['Listuu', 88], {44, 'Set{}'}), 67.59, True, 'Bolod', 'KESHAV', (45+9j), [1, 2, 3, 4, 39.69, 6, 7, 8, 9, 10], ('Tuple', True, 57.19), {None, 'Set', (37.8-86j)}, 39.69, 39, '5th', (45+9j), [(67-8j), 45, 57.19], 'Venom', [78.99, (57+8j)], ('Tuple1', 'Tuple2'), {True, '69', 45, 77.89, '78.99', 'Set', (78-8j), None}, '6th', 68, ['Listu', 45], ('Tuple2', 78), {'Set3', 62}]\n",
      "\n",
      "['KESHAV', (45+9j), True, ['List', 89, True, None, (68-8j)], True, 77.56, '7th', [True, None, 'Ajmir', 47.63, (69-4j)], {False, 'Tuple', 77.61, (69-4j)}, ('Tupluu', 32.47, ['Listuu', 88], {44, 'Set{}'}), 67.59, True, 'Bolod', 'KESHAV', (45+9j), [1, 2, 3, 4, 39.69, 6, 7, 8, 9, 10], ('Tuple', True, 57.19), {None, 'Set', (37.8-86j)}, 39.69, 39, '5th', (45+9j), [(67-8j), 45, 57.19], 'Venom', [78.99, (57+8j)], ('Tuple1', 'Tuple2'), {True, '69', 45, 77.89, '78.99', 'Set', (78-8j), None}, '6th', 68, ['Listu', 45], ('Tuple2', 78), {'Set3', 62}]\n",
      "<class 'list'>\n",
      "\n",
      "['KESHAV', (45+9j), True, ['List', 89, True, None, (68-8j)], (False, 'Tuple', 49, (29-6j), 87.45), [True, None, 'Ajmir', 47.63, (69-4j)], {False, 'Tuple', 77.61, (69-4j)}, ('Tupluu', 32.47, ['Listuu', 88], {44, 'Set{}'}), 67.59, True, 'Bolod', 'KESHAV', (45+9j), [1, 2, 3, 4, 39.69, 6, 7, 8, 9, 10], ('Tuple', True, 57.19), {None, 'Set', (37.8-86j)}, 39.69, 39, '5th', (45+9j), [(67-8j), 45, 57.19], 'Venom', [78.99, (57+8j)], ('Tuple1', 'Tuple2'), {True, '69', 45, 77.89, '78.99', 'Set', (78-8j), None}, '6th', 68, ['Listu', 45], ('Tuple2', 78), {'Set3', 62}]\n",
      "<class 'tuple'>\n",
      "\n",
      "['KESHAV', (45+9j), True, ['List', 89, True, None, (68-8j)], (False, 'Tuple', 49, (29-6j), 87.45), {67, 45, 78.45, 49, 56, 29}, 67.59, True, 'Bolod', 'KESHAV', (45+9j), [1, 2, 3, 4, 39.69, 6, 7, 8, 9, 10], ('Tuple', True, 57.19), {None, 'Set', (37.8-86j)}, 39.69, 39, '5th', (45+9j), [(67-8j), 45, 57.19], 'Venom', [78.99, (57+8j)], ('Tuple1', 'Tuple2'), {True, '69', 45, 77.89, '78.99', 'Set', (78-8j), None}, '6th', 68, ['Listu', 45], ('Tuple2', 78), {'Set3', 62}]\n",
      "<class 'set'>\n",
      "\n",
      "['KESHAV', (45+9j), True, ['List', 89, True, None, (68-8j)], (False, 'Tuple', 49, (29-6j), 87.45), {67, 45, 78.45, 49, 56, 29}, 67.59, True, 'Bolod', '6th', 68, ['Listu', 45], ('Tuple2', 78), {'Set3', 62}, ('Tuple', True, 57.19), {None, 'Set', (37.8-86j)}, 39.69, 39, '5th', (45+9j), [(67-8j), 45, 57.19], 'Venom', [78.99, (57+8j)], ('Tuple1', 'Tuple2'), {True, '69', 45, 77.89, '78.99', 'Set', (78-8j), None}, '6th', 68, ['Listu', 45], ('Tuple2', 78), {'Set3', 62}]\n"
     ]
    }
   ],
   "source": [
    "MixValues[4:8] = 67.9j, None, True, 77.56, \"7th\"      # While replacing elements from index 4 to index 8 exclusive upperbound.\n",
    "print(MixValues)\n",
    "print()\n",
    "\n",
    "MixValues[3:6] = [[\"List\", 89, True, None, 68-8j]]     # While replacing elements from index 3 to index 6 exclusive upperbound as List[] format.\n",
    "print(MixValues)\n",
    "print(type(MixValues[3]))\n",
    "print()\n",
    "\n",
    "MixValues[4:7] = [(False, \"Tuple\", 49, 29-6j, 87.45)]     # While replacing elements from index 4 to index 7 exclusive upperbound as Tuple() format.\n",
    "print(MixValues)\n",
    "print(type(MixValues[4]))\n",
    "print()\n",
    "\n",
    "MixValues[5:8] = [{56, 45, 67, 78.45, 49, 29}]     # While replacing elements from index 5 to index 8 exclusive upperbound as Set{} format.\n",
    "print(MixValues)\n",
    "print(type(MixValues[5]))\n",
    "print()\n",
    "\n",
    "MixValues[9:12] = \"6th\", 68, [\"Listu\", 45], (\"Tuple2\", 78), {\"Set3\", 62}  # While replacing elements from index 9 to index 12 exclusive\n",
    "#                                                                           upperbound as Plain, List[], Tuple(), & Set{} format.\n",
    "print(MixValues)"
   ]
  },
  {
   "cell_type": "code",
   "execution_count": 76,
   "metadata": {},
   "outputs": [
    {
     "name": "stdout",
     "output_type": "stream",
     "text": [
      "[(False, 'Tuple', 49, (29-6j), 87.45), {67, 45, 78.45, 49, 56, 29}, 67.59, True]\n",
      "['List', 89, True, None, (68-8j)]\n",
      "(False, 'Tuple', 49, (29-6j), 87.45)\n",
      "{67, 45, 78.45, 49, 56, 29}\n"
     ]
    }
   ],
   "source": [
    "print(MixValues[4:8])\n",
    "print(MixValues[3])\n",
    "print(MixValues[4])\n",
    "print(MixValues[5])"
   ]
  },
  {
   "cell_type": "code",
   "execution_count": 156,
   "metadata": {},
   "outputs": [
    {
     "name": "stdout",
     "output_type": "stream",
     "text": [
      "['KESHAV', (45+9j), True, 77.8j, {67, 45, 78.45, 49, 56, 29}, 67.59, True, 'Bolod', 'KESHAV', (45+9j), [1, 2, 3, 4, 39.69, 6, 7, 8, 9, 10], ('Tuple', True, 57.19), {None, (37.8-86j), 'Set'}, 39.69, 39, '5th', (45+9j), [(67-8j), 45, 57.19], 'Venom', [78.99, (57+8j)], ('Tuple1', 'Tuple2'), {True, 'Set', '69', 45, 77.89, (78-8j), '78.99', None}]\n"
     ]
    }
   ],
   "source": [
    "MixValues[3:5] = [77.8j]    # While replacing elements from index 3 to index 5 exclusive upperbound by single element [77.8j]\n",
    "print(MixValues)"
   ]
  },
  {
   "cell_type": "code",
   "execution_count": 157,
   "metadata": {},
   "outputs": [
    {
     "name": "stdout",
     "output_type": "stream",
     "text": [
      "{True, 'Set', '69', 45, 77.89, (78-8j), '78.99', None}\n"
     ]
    }
   ],
   "source": [
    "print(MixValues[-1]) # Shows last index element"
   ]
  },
  {
   "cell_type": "code",
   "execution_count": 158,
   "metadata": {},
   "outputs": [
    {
     "name": "stdout",
     "output_type": "stream",
     "text": [
      "['KESHAV', (45+9j), True, 77.8j, {67, 45, 78.45, 49, 56, 29}, 67.59, True, 'Bolod', 'KESHAV', (45+9j), [1, 2, 3, 4, 39.69, 6, 7, 8, 9, 10], ('Tuple', True, 57.19), {None, (37.8-86j), 'Set'}, 39.69, 39, '5th', (45+9j), [(67-8j), 45, 57.19], 'Venom', [78.99, (57+8j)], ('Tuple1', 'Tuple2'), {True, 'Set', '69', 45, 77.89, (78-8j), '78.99', None}, 89]\n"
     ]
    }
   ],
   "source": [
    "MixValues[len(MixValues):0] = [89]  # Insert single element [89] as array at last position\n",
    "print(MixValues)"
   ]
  },
  {
   "cell_type": "code",
   "execution_count": 159,
   "metadata": {},
   "outputs": [
    {
     "name": "stdout",
     "output_type": "stream",
     "text": [
      "['KESHAV', (45+9j), True, 77.8j, {67, 45, 78.45, 49, 56, 29}, 67.59, True, 'Bolod', 'KESHAV', (45+9j), [1, 2, 3, 4, 39.69, 6, 7, 8, 9, 10], ('Tuple', True, 57.19), {None, (37.8-86j), 'Set'}, 39.69, 39, '5th', (45+9j), [(67-8j), 45, 57.19], 'Venom', [78.99, (57+8j)], ('Tuple1', 'Tuple2'), {True, 'Set', '69', 45, 77.89, (78-8j), '78.99', None}, 89, 'Ghajini']\n"
     ]
    }
   ],
   "source": [
    "MixValues[len(MixValues):0] = [\"Ghajini\"]               # Plugin string as an single array element\n",
    "print(MixValues)"
   ]
  },
  {
   "cell_type": "code",
   "execution_count": 160,
   "metadata": {},
   "outputs": [
    {
     "name": "stdout",
     "output_type": "stream",
     "text": [
      "['KESHAV', (45+9j), True, 77.8j, {67, 45, 78.45, 49, 56, 29}, 67.59, True, 'Bolod', 'KESHAV', (45+9j), [1, 2, 3, 4, 39.69, 6, 7, 8, 9, 10], ('Tuple', True, 57.19), {None, (37.8-86j), 'Set'}, 39.69, 39, '5th', (45+9j), [(67-8j), 45, 57.19], 'Venom', [78.99, (57+8j)], ('Tuple1', 'Tuple2'), {True, 'Set', '69', 45, 77.89, (78-8j), '78.99', None}, 89, 'Ghajini', 'Last']\n",
      "\n",
      "['KESHAV', (45+9j), True, 77.8j, {67, 45, 78.45, 49, 56, 29}, 67.59, True, 'Bolod', 'KESHAV', (45+9j), [1, 2, 3, 4, 39.69, 6, 7, 8, 9, 10], ('Tuple', True, 57.19), {None, (37.8-86j), 'Set'}, 39.69, 39, '5th', (45+9j), [(67-8j), 45, 57.19], 'Venom', [78.99, (57+8j)], ('Tuple1', 'Tuple2'), {True, 'Set', '69', 45, 77.89, (78-8j), '78.99', None}, 89, 'Ghajini', 'Last', 89.99, None]\n",
      "\n",
      "['KESHAV', (45+9j), True, 77.8j, {67, 45, 78.45, 49, 56, 29}, 67.59, True, 'Bolod', 'KESHAV', (45+9j), [1, 2, 3, 4, 39.69, 6, 7, 8, 9, 10], ('Tuple', True, 57.19), {None, (37.8-86j), 'Set'}, 39.69, 39, '5th', (45+9j), [(67-8j), 45, 57.19], 'Venom', [78.99, (57+8j)], ('Tuple1', 'Tuple2'), {True, 'Set', '69', 45, 77.89, (78-8j), '78.99', None}, 89, 'Ghajini', 'Last', 89.99, None, ['List', False]]\n",
      "\n",
      "['KESHAV', (45+9j), True, 77.8j, {67, 45, 78.45, 49, 56, 29}, 67.59, True, 'Bolod', 'KESHAV', (45+9j), [1, 2, 3, 4, 39.69, 6, 7, 8, 9, 10], ('Tuple', True, 57.19), {None, (37.8-86j), 'Set'}, 39.69, 39, '5th', (45+9j), [(67-8j), 45, 57.19], 'Venom', [78.99, (57+8j)], ('Tuple1', 'Tuple2'), {True, 'Set', '69', 45, 77.89, (78-8j), '78.99', None}, 89, 'Ghajini', 'Last', 89.99, None, ['List', False], ('Tuple', (89-8j))]\n",
      "\n",
      "['KESHAV', (45+9j), True, 77.8j, {67, 45, 78.45, 49, 56, 29}, 67.59, True, 'Bolod', 'KESHAV', (45+9j), [1, 2, 3, 4, 39.69, 6, 7, 8, 9, 10], ('Tuple', True, 57.19), {None, (37.8-86j), 'Set'}, 39.69, 39, '5th', (45+9j), [(67-8j), 45, 57.19], 'Venom', [78.99, (57+8j)], ('Tuple1', 'Tuple2'), {True, 'Set', '69', 45, 77.89, (78-8j), '78.99', None}, 89, 'Ghajini', 'Last', 89.99, None, ['List', False], ('Tuple', (89-8j)), {73, 'Set'}]\n"
     ]
    }
   ],
   "source": [
    "MixValues.extend([\"Last\"])         # Insert single indivisual elements to the end position\n",
    "print(MixValues)\n",
    "print()\n",
    "MixValues.extend([89.99, None])   # Insert multiple elements to the end position\n",
    "print(MixValues)\n",
    "print()\n",
    "MixValues.extend([[\"List\", False]])   # Insert multiple elements to the end position as List[] format\n",
    "print(MixValues)\n",
    "print()\n",
    "MixValues.extend([(\"Tuple\", 89-8j)])   # Insert multiple elements to the end position as Tuple() format\n",
    "print(MixValues)\n",
    "print()\n",
    "MixValues.extend([{\"Set\", 73}])       # Insert multiple elements to the end position as Set{} format\n",
    "print(MixValues)"
   ]
  },
  {
   "cell_type": "code",
   "execution_count": 161,
   "metadata": {},
   "outputs": [
    {
     "name": "stdout",
     "output_type": "stream",
     "text": [
      "['KESHAV', (45+9j), True, 77.8j, 'Michiko', 67.59, True, 'Bolod', 'KESHAV', (45+9j), [1, 2, 3, 4, 39.69, 6, 7, 8, 9, 10], ('Tuple', True, 57.19), {None, (37.8-86j), 'Set'}, 39.69, 39, '5th', (45+9j), [(67-8j), 45, 57.19], 'Venom', [78.99, (57+8j)], ('Tuple1', 'Tuple2'), {True, 'Set', '69', 45, 77.89, (78-8j), '78.99', None}, 89, 'Ghajini', 'Last', 89.99, None, ['List', False], ('Tuple', (89-8j)), {73, 'Set'}]\n"
     ]
    }
   ],
   "source": [
    "MixValues[4] = \"Michiko\" # 4th index element 39 got replaced by \"Michiko\"\n",
    "print(MixValues)"
   ]
  },
  {
   "cell_type": "code",
   "execution_count": 50,
   "metadata": {},
   "outputs": [
    {
     "name": "stdout",
     "output_type": "stream",
     "text": [
      "['KESHAV', (45+9j), True, 77.8j, 'Michiko', 78.45, 49, 29, True, 77.56, '7th', [True, None, 'Ajmir', 47.63, (69-4j)], True, 'Bolod', 'KESHAV', (45+9j), True, 39.69, 39, '5th', [1, 2, 3, 4, 5, 6, 7, 8, 9, 10], [(67-8j), 45, 57.19], 'Venom', [78.99, (57+8j)], 89, 'Ghajini', 'Last', 89.99, None, 'Zoom', 45]\n"
     ]
    }
   ],
   "source": [
    "MixValues[len(MixValues):0] = \"Zoom\", 45                # At the end position Insert \"Zoom\", 45\n",
    "print(MixValues)"
   ]
  },
  {
   "cell_type": "code",
   "execution_count": 51,
   "metadata": {},
   "outputs": [
    {
     "name": "stdout",
     "output_type": "stream",
     "text": [
      "['KESHAV', (45+9j), True, 77.8j, '4th Index', 'Michiko', 78.45, 49, 29, True, 77.56, '7th', [True, None, 'Ajmir', 47.63, (69-4j)], True, 'Bolod', 'KESHAV', (45+9j), True, 39.69, 39, '5th', [1, 2, 3, 4, 5, 6, 7, 8, 9, 10], [(67-8j), 45, 57.19], 'Venom', [78.99, (57+8j)], 89, 'Ghajini', 'Last', 89.99, None, 'Zoom', 45]\n"
     ]
    }
   ],
   "source": [
    "MixValues[4:0] = [\"4th Index\"]\n",
    "print(MixValues)             # string \"4th Index\" got Inserted at the place of 4th index position as array"
   ]
  },
  {
   "cell_type": "code",
   "execution_count": 52,
   "metadata": {},
   "outputs": [
    {
     "name": "stdout",
     "output_type": "stream",
     "text": [
      "[[(67-8j), 45, 57.19], 89.99, (45+9j), 45, 'Venom', 'Last', None, 77.8j, True, 39, 29, 77.56, 'KESHAV', [True, None, 'Ajmir', 47.63, (69-4j)], 39.69, True, 'KESHAV', '4th Index', 89, 'Ghajini', 'Zoom', 'Michiko', True, 78.45, '5th', [78.99, (57+8j)], (45+9j), [1, 2, 3, 4, 5, 6, 7, 8, 9, 10], 49, 'Bolod', '7th', True]\n",
      "[[78.99, (57+8j)], 77.56, 'KESHAV', 89, 39, [(67-8j), 45, 57.19], 'Ghajini', True, '5th', 29, 49, 'Last', [True, None, 'Ajmir', 47.63, (69-4j)], 'Venom', 78.45, 45, 77.8j, (45+9j), '7th', 'Michiko', 'KESHAV', True, [1, 2, 3, 4, 5, 6, 7, 8, 9, 10], 89.99, None, True, 'Zoom', True, 'Bolod', (45+9j), 39.69, '4th Index']\n"
     ]
    }
   ],
   "source": [
    "import random\n",
    "\n",
    "RandSampList = random.sample(population=MixValues, k=len(MixValues))  # random sampling of list() MixValues. RandSamList is variable\n",
    "print(RandSampList)\n",
    "\n",
    "random.shuffle(RandSampList)  # shuffle the RandSamList elements randomly\n",
    "print(RandSampList)"
   ]
  },
  {
   "cell_type": "code",
   "execution_count": 53,
   "metadata": {},
   "outputs": [
    {
     "name": "stdout",
     "output_type": "stream",
     "text": [
      "78.45\n",
      "\n",
      "['KESHAV', (45+9j), True, 77.8j, '4th Index', 'Michiko', 49, 29, True, 77.56, '7th', [True, None, 'Ajmir', 47.63, (69-4j)], True, 'Bolod', 'KESHAV', (45+9j), True, 39.69, 39, '5th', [1, 2, 3, 4, 5, 6, 7, 8, 9, 10], [(67-8j), 45, 57.19], 'Venom', [78.99, (57+8j)], 89, 'Ghajini', 'Last', 89.99, None, 'Zoom', 45]\n"
     ]
    }
   ],
   "source": [
    "print(MixValues[6])\n",
    "print()\n",
    "MixValues.pop(6)     # delete the mentioned Index element\n",
    "print(MixValues)"
   ]
  },
  {
   "cell_type": "code",
   "execution_count": 54,
   "metadata": {},
   "outputs": [
    {
     "name": "stdout",
     "output_type": "stream",
     "text": [
      "['KESHAV', (45+9j), True, 77.8j, '4th Index', 'Michiko', 49, 29, True, 77.56, '7th', [True, None, 'Ajmir', 47.63, (69-4j)], True, 'Bolod', 'KESHAV', (45+9j), True, 39.69, 39, '5th', [1, 2, 3, 4, 5, 6, 7, 8, 9, 10], [(67-8j), 45, 57.19], 'Venom', [78.99, (57+8j)], 89, 'Ghajini', 'Last', 89.99, None, 'Zoom']\n"
     ]
    }
   ],
   "source": [
    "MixValues.pop()    # delete the last Index element by default\n",
    "print(MixValues)"
   ]
  },
  {
   "cell_type": "code",
   "execution_count": 55,
   "metadata": {},
   "outputs": [
    {
     "name": "stdout",
     "output_type": "stream",
     "text": [
      "4\n",
      "\n",
      "None\n",
      "['KESHAV', (45+9j), True, 77.8j, '4th Index', 49, 29, True, 77.56, '7th', [True, None, 'Ajmir', 47.63, (69-4j)], True, 'Bolod', 'KESHAV', (45+9j), True, 39.69, 39, '5th', [1, 2, 3, 4, 5, 6, 7, 8, 9, 10], [(67-8j), 45, 57.19], 'Venom', [78.99, (57+8j)], 89, 'Ghajini', 'Last', 89.99, None, 'Zoom']\n"
     ]
    }
   ],
   "source": [
    "print(MixValues.count(True))     # Boolean element True is 4 times present in the list MixValues\n",
    "print()\n",
    "print(MixValues.remove(\"Michiko\"))   # String element \"Michiko\" got removed\n",
    "print(MixValues)"
   ]
  },
  {
   "cell_type": "code",
   "execution_count": 56,
   "metadata": {},
   "outputs": [
    {
     "name": "stdout",
     "output_type": "stream",
     "text": [
      "['KESHAV', (45+9j), True, 77.8j, '4th Index', 49, 29, True, 77.56, '7th', [True, None, 'Ajmir', 47.63, (69-4j)], True, 'Bolod', 'KESHAV', (45+9j), True, 39.69, 39, '5th', [1, 2, 3, 4, 5, 6, 7, 8, 9, 10], [(67-8j), 45, 57.19], 'Venom', [78.99, (57+8j)], 89, 'Ghajini', 'Last', 89.99, None, 'Zoom']\n",
      "\n",
      "['Zoom', None, 89.99, 'Last', 'Ghajini', 89, [78.99, (57+8j)], 'Venom', [(67-8j), 45, 57.19], [1, 2, 3, 4, 5, 6, 7, 8, 9, 10], '5th', 39, 39.69, True, (45+9j), 'KESHAV', 'Bolod', True, [True, None, 'Ajmir', 47.63, (69-4j)], '7th', 77.56, True, 29, 49, '4th Index', 77.8j, True, (45+9j), 'KESHAV']\n"
     ]
    }
   ],
   "source": [
    "print(MixValues)\n",
    "print()\n",
    "MixValues.reverse()   # This will reverse the placement of list() elements in backward\n",
    "print(MixValues)"
   ]
  },
  {
   "cell_type": "code",
   "execution_count": 118,
   "metadata": {},
   "outputs": [
    {
     "name": "stdout",
     "output_type": "stream",
     "text": [
      "[56, 89.67, True, 'Michiko', None, (-98-8j)]\n",
      "\n",
      "{'Michiko', True, (-98-8j), None, 'Add', 56, 89.67}\n",
      "\n",
      "{'Michiko', (-98-8j), None, 'Add', 56, 89.67}\n",
      "\n",
      "['Michiko', (-98-8j), None, 'Add', 56, 89.67]\n"
     ]
    }
   ],
   "source": [
    "MList = [56, 89.67, True, \"Michiko\", None, -98-8j]   # Not a Nested List, It is a Plain list()\n",
    "print(MList)\n",
    "print()\n",
    "Set_MList = set(MList)  # Convert list() into set()\n",
    "Set_MList.add(\"Add\")    # \"Add\" a string element in the set(), add one element at a time\n",
    "print(Set_MList)\n",
    "print()\n",
    "\n",
    "Set_MList.discard(True)   # remove or discard the mentioned element from the set()\n",
    "print(Set_MList)\n",
    "print()\n",
    "\n",
    "MList = list(Set_MList)   # Convert back the set() into list()\n",
    "print(MList)"
   ]
  },
  {
   "cell_type": "code",
   "execution_count": 4,
   "metadata": {},
   "outputs": [
    {
     "name": "stdout",
     "output_type": "stream",
     "text": [
      "[56, 89.67, True, 'Michiko', None, (-98-8j)]\n",
      "[56, 89.67, True, 'Michiko', None, (-98-8j)]\n",
      "['Michiko', True, (-98-8j), None, frozenset({'frozen', (78+5j)}), ('Tuple', (33-8j)), 85, 56, 89.67]\n"
     ]
    }
   ],
   "source": [
    "MList = [56, 89.67, True, \"Michiko\", None, -98-8j]   # Not a Nested List, It is a Plain List[]\n",
    "print(MList)\n",
    "print(MList)\n",
    "MList_Set = set(MList)         # Convert List[] into Set{}\n",
    "MList_Set.add(85)                    # Insert one element at a time in the Set{}\n",
    "MList_Set.add((\"Tuple\", 33-8j))                 # Insert multiple elements as Tuple() format\n",
    "MList_Set.add(frozenset({\"frozen\", 78+5j}))    # Insert multiple elements as frozenset({}) format\n",
    "MList = list(MList_Set)                        # Convert back Set{} into List[].\n",
    "print(MList)"
   ]
  },
  {
   "cell_type": "code",
   "execution_count": 119,
   "metadata": {},
   "outputs": [
    {
     "name": "stdout",
     "output_type": "stream",
     "text": [
      "[-95, True, 67, 67.99]\n",
      "\n",
      "[-95, True, 67, 67.99]\n"
     ]
    }
   ],
   "source": [
    "Llist = [True, 67.99, -95, 67]\n",
    "\n",
    "Picro = [True, 67.99, -95, 67]\n",
    "\n",
    "Llist.sort()     # list Llist got sorted\n",
    "print(Llist)        # sort() works with Integer, Float, Boolean mix element data types simultaneously & with String seperately\n",
    "print()             # sort() sequence priority to the String Integers -> Uppercase alphabets -> lowercase alphabets\n",
    "\n",
    "SortedLlist = sorted(Picro)    # list Picro got sorted\n",
    "print(SortedLlist)             # sorted() works with Integer, Float, Boolean mix element data types simultaneously & with String seperately\n",
    "                               # sorted() sequence priority to the String Integers -> Uppercase alphabets -> lowercase alphabets"
   ]
  },
  {
   "cell_type": "code",
   "execution_count": 13,
   "metadata": {},
   "outputs": [
    {
     "name": "stdout",
     "output_type": "stream",
     "text": [
      "['1', '2', '3', '4', '5', '6', '7', 'A', 'B', 'C', 'D', 'E', 'F', 'G', 'a', 'b', 'c', 'd', 'e', 'f', 'g']\n"
     ]
    }
   ],
   "source": [
    "# This is way to sort a String\n",
    "String_List = ['7', 'e', 'A', 'F', '1', 'c', 'B', '3', 'd', '5', 'G', 'C', 'b', '4', 'E', 'g', '2', 'a', 'D', 'f', '6']\n",
    "Sorted_String_List = sorted(String_List)                   # list[] string elements got converted into sorted string list[]\n",
    "String_List = Sorted_String_List              # sorted list[] got assigned back into String_List[] but now it has sorted element order\n",
    "                                  # sorted() works with Integer, Float, Boolean mix element data types simultaneously & with String seperately\n",
    "print(String_List)                # sorted() sequence priority to the String Integers -> Uppercase alphabets -> lowercase alphabets"
   ]
  },
  {
   "cell_type": "code",
   "execution_count": 120,
   "metadata": {},
   "outputs": [
    {
     "name": "stdout",
     "output_type": "stream",
     "text": [
      "-95 67.99 40.989999999999995 -95 67.99 40.989999999999995\n"
     ]
    }
   ],
   "source": [
    "print(min(Llist), max(Llist), sum(Llist), min(Picro), max(Picro), sum(Picro))"
   ]
  },
  {
   "cell_type": "code",
   "execution_count": 121,
   "metadata": {},
   "outputs": [
    {
     "name": "stdout",
     "output_type": "stream",
     "text": [
      "[1, 2, 3, 4, 5, 6, 7, 8, 9, 10]\n"
     ]
    }
   ],
   "source": [
    "# Creation of list ---- [] (inside square brackets)\n",
    "# Homogenous list ----- list following only one datatype integer\n",
    "\n",
    "List1 = [1, 2, 3, 4, 5, 6, 7, 8, 9, 10]\n",
    "print(List1)"
   ]
  },
  {
   "cell_type": "code",
   "execution_count": 122,
   "metadata": {},
   "outputs": [
    {
     "data": {
      "text/plain": [
       "(10, 10, 29, 10)"
      ]
     },
     "execution_count": 122,
     "metadata": {},
     "output_type": "execute_result"
    }
   ],
   "source": [
    "# len() function tells about how many number of elements a variable/List have\n",
    "len(List1), len(Homo1), len(MixValues), len(NestList)"
   ]
  },
  {
   "cell_type": "code",
   "execution_count": 123,
   "metadata": {},
   "outputs": [
    {
     "name": "stdout",
     "output_type": "stream",
     "text": [
      "[10.1, 'Prashant', (10+10j), False, 10]\n",
      "['KESHAV', (45+9j), True, 39.69, 39]\n"
     ]
    },
    {
     "data": {
      "text/plain": [
       "(5, 5)"
      ]
     },
     "execution_count": 123,
     "metadata": {},
     "output_type": "execute_result"
    }
   ],
   "source": [
    "# List with heterogenous datatype elements\n",
    "# Heterogenous list ---- list following multiple different datatype elements\n",
    "\n",
    "Hetero1 = [10.10, 'Prashant', 10+10j, False, 10]\n",
    "Hetero2 = [\"KESHAV\", 45+9j, True, 39.69, 39]\n",
    "print(Hetero1)\n",
    "print(Hetero2)\n",
    "len(Hetero1), len(Hetero2)"
   ]
  },
  {
   "cell_type": "code",
   "execution_count": 124,
   "metadata": {},
   "outputs": [
    {
     "name": "stdout",
     "output_type": "stream",
     "text": [
      "[10.1, 'Prashant', (10+10j), False, 10, 'KESHAV', (45+9j), True, 39.69, 39]\n"
     ]
    },
    {
     "data": {
      "text/plain": [
       "(list, 10)"
      ]
     },
     "execution_count": 124,
     "metadata": {},
     "output_type": "execute_result"
    }
   ],
   "source": [
    "# Concatination of two lists Elements\n",
    "Hetero3 = Hetero1 + Hetero2\n",
    "print(Hetero3)\n",
    "type(Hetero3), len(Hetero3)"
   ]
  },
  {
   "cell_type": "markdown",
   "metadata": {},
   "source": [
    "### List Indexing"
   ]
  },
  {
   "cell_type": "code",
   "execution_count": 125,
   "metadata": {},
   "outputs": [
    {
     "name": "stdout",
     "output_type": "stream",
     "text": [
      "10.1 Prashant (10+10j) False 10\n"
     ]
    },
    {
     "data": {
      "text/plain": [
       "(float, str, complex, bool, int)"
      ]
     },
     "execution_count": 125,
     "metadata": {},
     "output_type": "execute_result"
    }
   ],
   "source": [
    "# provide index locations of the elements and you will get the element datatypes\n",
    "\n",
    "print(Hetero3[0], Hetero3[1], Hetero3[2], Hetero3[3], Hetero3[4])\n",
    "type(Hetero3[0]), type(Hetero3[1]), type(Hetero3[2]), type(Hetero3[3]), type(Hetero3[4]) # Shows data types of each index"
   ]
  },
  {
   "cell_type": "code",
   "execution_count": 126,
   "metadata": {},
   "outputs": [
    {
     "name": "stdout",
     "output_type": "stream",
     "text": [
      "10\n"
     ]
    },
    {
     "data": {
      "text/plain": [
       "int"
      ]
     },
     "execution_count": 126,
     "metadata": {},
     "output_type": "execute_result"
    }
   ],
   "source": [
    "# Lets say you want to access single or multiple elements from the list \n",
    "# List1 --- Accessing Single Element\n",
    "# To extract element in the list you will be using indexes Location\n",
    "\n",
    "print(Hetero3[4])\n",
    "type(Hetero3[4]) # Shows the 4th index element"
   ]
  },
  {
   "cell_type": "code",
   "execution_count": 127,
   "metadata": {},
   "outputs": [
    {
     "name": "stdout",
     "output_type": "stream",
     "text": [
      "(10+10j) 10\n"
     ]
    }
   ],
   "source": [
    "print(Hetero3[2], Hetero3[4]) #shows 2nd and 4th index elements"
   ]
  },
  {
   "cell_type": "code",
   "execution_count": 128,
   "metadata": {},
   "outputs": [
    {
     "ename": "TypeError",
     "evalue": "list indices must be integers or slices, not tuple",
     "output_type": "error",
     "traceback": [
      "\u001b[0;31m---------------------------------------------------------------------------\u001b[0m",
      "\u001b[0;31mTypeError\u001b[0m                                 Traceback (most recent call last)",
      "Cell \u001b[0;32mIn[128], line 1\u001b[0m\n\u001b[0;32m----> 1\u001b[0m \u001b[43mHetero3\u001b[49m\u001b[43m[\u001b[49m\u001b[38;5;241;43m2\u001b[39;49m\u001b[43m,\u001b[49m\u001b[38;5;241;43m4\u001b[39;49m\u001b[43m]\u001b[49m \u001b[38;5;66;03m# Multiple/Advanced indexing doesnt work here with List, it works with Arrays\u001b[39;00m\n\u001b[1;32m      2\u001b[0m Hetero3[[\u001b[38;5;241m2\u001b[39m,\u001b[38;5;241m4\u001b[39m]]\n\u001b[1;32m      3\u001b[0m Hetero3[[\u001b[38;5;241m2\u001b[39m],[\u001b[38;5;241m4\u001b[39m]]\n",
      "\u001b[0;31mTypeError\u001b[0m: list indices must be integers or slices, not tuple"
     ]
    }
   ],
   "source": [
    "Hetero3[2,4] # Multiple/Advanced indexing doesnt work here with List, it works with Arrays\n",
    "Hetero3[[2,4]]\n",
    "Hetero3[[2],[4]]"
   ]
  },
  {
   "cell_type": "code",
   "execution_count": 129,
   "metadata": {},
   "outputs": [
    {
     "ename": "TypeError",
     "evalue": "'bool' object is not subscriptable",
     "output_type": "error",
     "traceback": [
      "\u001b[0;31m---------------------------------------------------------------------------\u001b[0m",
      "\u001b[0;31mTypeError\u001b[0m                                 Traceback (most recent call last)",
      "Cell \u001b[0;32mIn[129], line 5\u001b[0m\n\u001b[1;32m      1\u001b[0m \u001b[38;5;66;03m# In Hetero3 3rd index element is False which is boolian data type\u001b[39;00m\n\u001b[1;32m      2\u001b[0m \u001b[38;5;66;03m# False is not a \"String\" element\u001b[39;00m\n\u001b[1;32m      3\u001b[0m \u001b[38;5;66;03m# 0th index letter of 3rd index element False is not possible\u001b[39;00m\n\u001b[0;32m----> 5\u001b[0m \u001b[43mHetero3\u001b[49m\u001b[43m[\u001b[49m\u001b[38;5;241;43m3\u001b[39;49m\u001b[43m]\u001b[49m\u001b[43m[\u001b[49m\u001b[38;5;241;43m0\u001b[39;49m\u001b[43m]\u001b[49m\n",
      "\u001b[0;31mTypeError\u001b[0m: 'bool' object is not subscriptable"
     ]
    }
   ],
   "source": [
    "# In Hetero3 3rd index element is False which is boolian data type\n",
    "# False is not a \"String\" element\n",
    "# 0th index letter of 3rd index element False is not possible\n",
    "\n",
    "Hetero3[3][0]"
   ]
  },
  {
   "cell_type": "code",
   "execution_count": 130,
   "metadata": {},
   "outputs": [
    {
     "name": "stdout",
     "output_type": "stream",
     "text": [
      "[10.1, 'Prashant', (10+10j), False, 10, 'KESHAV', (45+9j), True, 39.69, 39]\n"
     ]
    },
    {
     "data": {
      "text/plain": [
       "'P'"
      ]
     },
     "execution_count": 130,
     "metadata": {},
     "output_type": "execute_result"
    }
   ],
   "source": [
    "# 1st index of Hetero3 List element \"Prashant\" and 0th index of it is P\n",
    "print(Hetero3)\n",
    "Hetero3[1][0]"
   ]
  },
  {
   "cell_type": "code",
   "execution_count": 131,
   "metadata": {},
   "outputs": [
    {
     "name": "stdout",
     "output_type": "stream",
     "text": [
      "[10.1, 'Prashant', (10+10j), False, 10, 'KESHAV', (45+9j), True, 39.69, 39]\n"
     ]
    },
    {
     "data": {
      "text/plain": [
       "'SA'"
      ]
     },
     "execution_count": 131,
     "metadata": {},
     "output_type": "execute_result"
    }
   ],
   "source": [
    "# 1st index of Hetero3 List element \"Prashant\" and 0th index of it is P\n",
    "print(Hetero3)\n",
    "Hetero3[1][2:5]\n",
    "Hetero3[5][2:5:2] # 5th Index. From 2nd to 5th exclusive Upperbound range element by hopping 2 elements cycle"
   ]
  },
  {
   "cell_type": "code",
   "execution_count": 132,
   "metadata": {},
   "outputs": [
    {
     "data": {
      "text/plain": [
       "(1, 7)"
      ]
     },
     "execution_count": 132,
     "metadata": {},
     "output_type": "execute_result"
    }
   ],
   "source": [
    "Hetero3.index(\"Prashant\"), Hetero3.index(True) #Type the Element data value & you will get the index value of it"
   ]
  },
  {
   "cell_type": "code",
   "execution_count": 133,
   "metadata": {},
   "outputs": [
    {
     "name": "stdout",
     "output_type": "stream",
     "text": [
      "5 8 6\n"
     ]
    }
   ],
   "source": [
    "print(Hetero3.index(\"KESHAV\"), Hetero3.index(39.69), Hetero3.index(45+9j)) #Type the Element data value & you will get the index value of it"
   ]
  },
  {
   "cell_type": "code",
   "execution_count": 134,
   "metadata": {},
   "outputs": [
    {
     "ename": "TypeError",
     "evalue": "slice indices must be integers or have an __index__ method",
     "output_type": "error",
     "traceback": [
      "\u001b[0;31m---------------------------------------------------------------------------\u001b[0m",
      "\u001b[0;31mTypeError\u001b[0m                                 Traceback (most recent call last)",
      "Cell \u001b[0;32mIn[134], line 3\u001b[0m\n\u001b[1;32m      1\u001b[0m \u001b[38;5;66;03m# One element index at a time should be taken, multiple elements are not allowed\u001b[39;00m\n\u001b[0;32m----> 3\u001b[0m \u001b[43mHetero3\u001b[49m\u001b[38;5;241;43m.\u001b[39;49m\u001b[43mindex\u001b[49m\u001b[43m(\u001b[49m\u001b[38;5;124;43m\"\u001b[39;49m\u001b[38;5;124;43mKESHAV\u001b[39;49m\u001b[38;5;124;43m\"\u001b[39;49m\u001b[43m,\u001b[49m\u001b[43m \u001b[49m\u001b[38;5;124;43m\"\u001b[39;49m\u001b[38;5;124;43mPrashant\u001b[39;49m\u001b[38;5;124;43m\"\u001b[39;49m\u001b[43m)\u001b[49m            \u001b[38;5;66;03m#It doesn't work with Multiple elements at a time\u001b[39;00m\n\u001b[1;32m      4\u001b[0m Hetero3\u001b[38;5;241m.\u001b[39mindex([\u001b[38;5;124m\"\u001b[39m\u001b[38;5;124mKESHAV\u001b[39m\u001b[38;5;124m\"\u001b[39m, \u001b[38;5;124m\"\u001b[39m\u001b[38;5;124mPrashant\u001b[39m\u001b[38;5;124m\"\u001b[39m])\n\u001b[1;32m      5\u001b[0m Hetero3\u001b[38;5;241m.\u001b[39mindex([\u001b[38;5;124m\"\u001b[39m\u001b[38;5;124mKESHAV\u001b[39m\u001b[38;5;124m\"\u001b[39m], [\u001b[38;5;124m\"\u001b[39m\u001b[38;5;124mPrashant\u001b[39m\u001b[38;5;124m\"\u001b[39m])\n",
      "\u001b[0;31mTypeError\u001b[0m: slice indices must be integers or have an __index__ method"
     ]
    }
   ],
   "source": [
    "# One element index at a time should be taken, multiple elements are not allowed\n",
    "\n",
    "Hetero3.index(\"KESHAV\", \"Prashant\")            #It doesn't work with Multiple elements at a time\n",
    "Hetero3.index([\"KESHAV\", \"Prashant\"])\n",
    "Hetero3.index([\"KESHAV\"], [\"Prashant\"])"
   ]
  },
  {
   "cell_type": "code",
   "execution_count": 135,
   "metadata": {},
   "outputs": [
    {
     "name": "stdout",
     "output_type": "stream",
     "text": [
      "Prashant (10+10j) False\n",
      "['Prashant', (10+10j), False]\n",
      "[10.1, 'Prashant', (10+10j), False, 10, 'KESHAV', (45+9j), True, 39.69, 39]\n"
     ]
    }
   ],
   "source": [
    "print(Hetero3[1], Hetero3[2], Hetero3[3]) #shows 1st, 2nd and 3rd index elements\n",
    "print(Hetero3[1:4]) #shows from 1st to 4th exclusive upperbound range elements\n",
    "print(Hetero3)"
   ]
  },
  {
   "cell_type": "code",
   "execution_count": 136,
   "metadata": {},
   "outputs": [
    {
     "name": "stdout",
     "output_type": "stream",
     "text": [
      "[10.1, 'Prashant', (10+10j), False, 10, 'KESHAV', (45+9j), True, 39.69, 39]\n"
     ]
    },
    {
     "data": {
      "text/plain": [
       "[(10+10j), False, 10]"
      ]
     },
     "execution_count": 136,
     "metadata": {},
     "output_type": "execute_result"
    }
   ],
   "source": [
    "# To Extract the series of elements from a list or any other variable provide index range inside [:]\n",
    "# [start_index:upperbound] -----> where upperbound = end_index + 1\n",
    "\n",
    "print(Hetero3)\n",
    "Hetero3[2:5] # shows from 2nd to 5th exclusive upperbound range elements"
   ]
  },
  {
   "cell_type": "code",
   "execution_count": 137,
   "metadata": {},
   "outputs": [
    {
     "name": "stdout",
     "output_type": "stream",
     "text": [
      "[(10+10j), 10, (45+9j), 39.69]\n"
     ]
    }
   ],
   "source": [
    "print(Hetero3[2:len(Hetero3):2])   # print from 2nd to excluding upperbound length index by skipping 2 elements cycle"
   ]
  },
  {
   "cell_type": "code",
   "execution_count": 138,
   "metadata": {},
   "outputs": [
    {
     "name": "stdout",
     "output_type": "stream",
     "text": [
      "[(10+10j), 10, (45+9j), 39.69]\n"
     ]
    }
   ],
   "source": [
    "print(Hetero3[2::2])"
   ]
  },
  {
   "cell_type": "markdown",
   "metadata": {},
   "source": [
    "### Perform Insert, Remove & Replace task at a time"
   ]
  },
  {
   "cell_type": "code",
   "execution_count": 17,
   "metadata": {},
   "outputs": [
    {
     "name": "stdout",
     "output_type": "stream",
     "text": [
      "[10.1, 'Prashant', (10+10j), False, 10, 'KESHAV', (45+9j), True, 39.69, 39]\n"
     ]
    },
    {
     "data": {
      "text/plain": [
       "(list, 10)"
      ]
     },
     "execution_count": 17,
     "metadata": {},
     "output_type": "execute_result"
    }
   ],
   "source": [
    "Hetero3 = [10.1, \"Prashant\", 10+10j, False, 10, \"KESHAV\", 45+9j, True, 39.69, 39]\n",
    "print(Hetero3)\n",
    "type(Hetero3), len(Hetero3)"
   ]
  },
  {
   "cell_type": "code",
   "execution_count": 18,
   "metadata": {},
   "outputs": [
    {
     "name": "stdout",
     "output_type": "stream",
     "text": [
      "[39.69, (45+9j), 39, True, (10+10j), 'KESHAV', 10, 10.1, False, 'Prashant']\n",
      "[(10+10j), True, (45+9j), 10.1, False, 10, 39.69, 'Prashant', 'KESHAV', 39]\n"
     ]
    }
   ],
   "source": [
    "#Hetero3.sort()\n",
    "#print(Hetero3)\n",
    "import random\n",
    "\n",
    "RandSam = random.sample(Hetero3, k=len(Hetero3))       # Random sample size of same length without repeatation\n",
    "print(RandSam)\n",
    "\n",
    "random.shuffle(Hetero3)            # Randomly shuffle the Hetero3 elements\n",
    "print(Hetero3)"
   ]
  },
  {
   "cell_type": "code",
   "execution_count": 19,
   "metadata": {},
   "outputs": [
    {
     "name": "stdout",
     "output_type": "stream",
     "text": [
      "[10.1, False, 10, True, 39.69, 39]\n",
      "[False, True, 10, 10.1, 39, 39.69]\n",
      "['B', '1', 'a', 'D', 'c', 'A', 'C', '3', 'b', '2', '4', 'd']\n",
      "['1', '2', '3', '4', 'A', 'B', 'C', 'D', 'a', 'b', 'c', 'd']\n"
     ]
    }
   ],
   "source": [
    "Listu = [10.1, False, 10, True, 39.69, 39]\n",
    "print(Listu)\n",
    "Listu.sort()\n",
    "print(Listu)   # sort() works with Integer, Float, Boolean mix element data types simultaneously & with String seperately\n",
    "               # sort() sequence priority to the String Integers -> Uppercase alphabets -> lowercase alphabets\n",
    "\n",
    "Listring = [\"B\", \"1\", \"a\", \"D\", \"c\", \"A\", \"C\", \"3\", \"b\", \"2\", \"4\", \"d\"]\n",
    "print(Listring)\n",
    "Listring.sort() # List1 has been sort() and sequence are integer -> Uppercase -> Lowercase when all elements are string\n",
    "print(Listring)\n",
    "# sorted(Splitter)\n",
    "# random.shuffle(Splitter)"
   ]
  },
  {
   "cell_type": "code",
   "execution_count": 20,
   "metadata": {},
   "outputs": [
    {
     "name": "stdout",
     "output_type": "stream",
     "text": [
      "['1', '2', '3', '4', '5', '6', '7', 'A', 'B', 'C', 'D', 'E', 'F', 'G', 'a', 'b', 'c', 'd', 'e', 'f', 'g']\n"
     ]
    }
   ],
   "source": [
    "# This is way to sort a String\n",
    "String_List = ['7', 'e', 'A', 'F', '1', 'c', 'B', '3', 'd', '5', 'G', 'C', 'b', '4', 'E', 'g', '2', 'a', 'D', 'f', '6']\n",
    "Sorted_String_List = sorted(String_List)                   # list[] string elements got converted into sorted string list[]\n",
    "String_List = Sorted_String_List              # sorted list[] got assigned back into String_List[] but now it has sorted element order\n",
    "                                  # sorted() works with Integer, Float, Boolean mix element data types simultaneously & with String seperately\n",
    "print(String_List)                # sorted() sequence priority to the String Integers -> Uppercase alphabets -> lowercase alphabets"
   ]
  },
  {
   "cell_type": "code",
   "execution_count": 142,
   "metadata": {},
   "outputs": [
    {
     "name": "stdout",
     "output_type": "stream",
     "text": [
      "['B', '1', 'a', 'D', 'c', 'A', 'C', '3', 'b', '2', '4', 'd']\n",
      "['1', '2', '3', '4', 'A', 'B', 'C', 'D', 'a', 'b', 'c', 'd']\n"
     ]
    }
   ],
   "source": [
    "# sorted() works with Integer, Float, Boolean mix List[] element data types simultaneously & with String seperately\n",
    "# sorted() sequence priority to the String Integers -> Uppercase alphabets -> lowercase alphabets\n",
    "ListR = [\"B\", \"1\", \"a\", \"D\", \"c\", \"A\", \"C\", \"3\", \"b\", \"2\", \"4\", \"d\"]\n",
    "print(ListR)\n",
    "New_ListR = sorted(ListR)  # sorted(ListR) has been saved into another New_ListR variable\n",
    "print(New_ListR)"
   ]
  },
  {
   "cell_type": "code",
   "execution_count": 143,
   "metadata": {},
   "outputs": [
    {
     "name": "stdout",
     "output_type": "stream",
     "text": [
      "['3', '4', 'A', '1', 'a', 'D', 'c', 'C', 'b', 'B', '2', 'd']\n"
     ]
    }
   ],
   "source": [
    "random.shuffle(ListR) # ListR elements got shuffled randomly\n",
    "print(ListR)"
   ]
  },
  {
   "cell_type": "code",
   "execution_count": 144,
   "metadata": {},
   "outputs": [
    {
     "name": "stdout",
     "output_type": "stream",
     "text": [
      "[10, (10+10j), (45+9j), 'Prashant', 39, False, True, 39.69, 'KESHAV', 10.1]\n",
      "(45+9j)\n",
      "(33+19j)\n",
      "[10, (10+10j), (33+19j), 'Khoja', 'Goja', True, 'Prashant', 39, False, True, 39.69, 'KESHAV', 10.1]\n",
      "[10, (10+10j), 'Plugin', 'New', '3Elements', (33+19j), 'Khoja', 'Goja', True, 'Prashant', 39, False, True, 39.69, 'KESHAV', 10.1]\n"
     ]
    }
   ],
   "source": [
    "# Perform Change/Replace a List element value with new one\n",
    "# Provide index value [] = provide new value\n",
    "\n",
    "print(Hetero3)\n",
    "print(Hetero3[2])\n",
    "Hetero3[2] = True                            # 2nd index element 10+10j got replaced by True\n",
    "Hetero3[2:0] = 33+19j, \"Khoja\", \"Goja\"          # Plugin 3 new indivisual elements at the place of 2nd index\n",
    "print(Hetero3[2])\n",
    "print(Hetero3)\n",
    "type(Hetero3)\n",
    "\n",
    "Hetero3[2:0] = \"Plugin\", \"New\", \"3Elements\"   # Plugin 3 new indivisual elements at the place of 2nd index element 33+19j\n",
    "print(Hetero3)"
   ]
  },
  {
   "cell_type": "code",
   "execution_count": 145,
   "metadata": {},
   "outputs": [
    {
     "name": "stdout",
     "output_type": "stream",
     "text": [
      "[10, (10+10j), 'Plugin', 'New', (93+19j), '3Elements', (33+19j), 'Khoja', 'Goja', True, 'Prashant', 39, False, True, 39.69, 'KESHAV', 10.1]\n"
     ]
    }
   ],
   "source": [
    "Hetero3[4:0] = [93+19j] # Plugging single element 93+19j as array\n",
    "print(Hetero3)"
   ]
  },
  {
   "cell_type": "code",
   "execution_count": 146,
   "metadata": {},
   "outputs": [
    {
     "name": "stdout",
     "output_type": "stream",
     "text": [
      "[10, (10+10j), 'Plugin', 'New', (93+19j), '3Elements', (33+19j), 'Khoja', 'Goja', True, 'Prashant', 39, False, True, 39.69, 'KESHAV', 10.1]\n",
      "[10, (10+10j), 'Plugin', 75, (78+7j), 45.98, (93+19j), '3Elements', (33+19j), 'Khoja', 'Goja', True, 'Prashant', 39, False, True, 39.69, 'KESHAV', 10.1]\n"
     ]
    }
   ],
   "source": [
    "print(Hetero3)\n",
    "Hetero3[3:4] = 75, 78+7j, 45.98       # 3rd index element 'New' got replaced by 75, 48+7j, 45.98\n",
    "print(Hetero3)"
   ]
  },
  {
   "cell_type": "code",
   "execution_count": 147,
   "metadata": {},
   "outputs": [
    {
     "name": "stdout",
     "output_type": "stream",
     "text": [
      "[10, (10+10j), 'Plugin', 75, (78+7j), 45.98, (93+19j), '3Elements', (33+19j), 'Khoja', 'Goja', True, 'Prashant', 39, False, True, 39.69, 'KESHAV', 10.1]\n",
      "[10, (10+10j), 'Plugin', 45, '3Elements', (33+19j), 'Khoja', 'Goja', True, 'Prashant', 39, False, True, 39.69, 'KESHAV', 10.1]\n"
     ]
    }
   ],
   "source": [
    "print(Hetero3)\n",
    "Hetero3[3:7] = [45]   # In this case from 3 to 7 exclusive upperbound index elements got replaced by 45 as an array\n",
    "print(Hetero3)        # From 3rd index element to 7th exclusive upperbound index elements got replaced by 45"
   ]
  },
  {
   "cell_type": "code",
   "execution_count": 148,
   "metadata": {},
   "outputs": [
    {
     "name": "stdout",
     "output_type": "stream",
     "text": [
      "[10, (10+10j), 'Plugin', 45, '3Elements', (33+19j), 'Khoja', 'Goja', True, 'Prashant', 39, False, True, 39.69, 'KESHAV', 10.1]\n",
      "[10, (10+10j), 'Plugin', 99, (67.89-8j), 'Goja', True, 'Prashant', 39, False, True, 39.69, 'KESHAV', 10.1]\n"
     ]
    }
   ],
   "source": [
    "print(Hetero3)\n",
    "Hetero3[3:7] = 99, 67.89-8j # From index 3 to 7 exclusive uppedbound index elements got replaced by 99, 67.89-8j\n",
    "print(Hetero3)"
   ]
  },
  {
   "cell_type": "code",
   "execution_count": 149,
   "metadata": {},
   "outputs": [
    {
     "name": "stdout",
     "output_type": "stream",
     "text": [
      "['Plugin', 99, (67.89-8j)]\n",
      "[(30+30j), True, 'Naruto']\n",
      "[10, (10+10j), (30+30j), True, 'Naruto', 'Goja', True, 'Prashant', 39, False, True, 39.69, 'KESHAV', 10.1]\n"
     ]
    },
    {
     "data": {
      "text/plain": [
       "14"
      ]
     },
     "execution_count": 149,
     "metadata": {},
     "output_type": "execute_result"
    }
   ],
   "source": [
    "# Perform Change/Replace & Insert in a List element values with new values\n",
    "# Provide index value range [:] = provide Replace value, provide Insert value\n",
    "# 2nd index element 20+20j has been replace by 30+30j\n",
    "# True has got Inserted/placed between 2nd index (30+30j) & 4th index (False) elements\n",
    "# True has got Inserted/placed/has taken at 3rd index position/location\n",
    "# Now total no of elements in the list Hetero3 is 11, got increased by 1 element\n",
    "\n",
    "print(Hetero3[2:5])\n",
    "Hetero3[2:5] = 30+30j, True, \"Naruto\"   # 2nd, 3rd & 4th index elements got replaced by 30+30j, True, \"Naruto\"\n",
    "print(Hetero3[2:5])\n",
    "print(Hetero3)\n",
    "len(Hetero3)"
   ]
  },
  {
   "cell_type": "code",
   "execution_count": 150,
   "metadata": {},
   "outputs": [
    {
     "name": "stdout",
     "output_type": "stream",
     "text": [
      "[10, (10+10j), (30+30j), True, 'Naruto', 'Goja', True, 'Prashant', 39, False, True, 39.69, 'KESHAV', 10.1]\n",
      "[10, (10+10j), (30+30j), True, ('Reymundo', (78+9j)), 'Goja', True, 'Prashant', 39, False, True, 39.69, 'KESHAV', 10.1]\n"
     ]
    },
    {
     "data": {
      "text/plain": [
       "(complex, tuple)"
      ]
     },
     "execution_count": 150,
     "metadata": {},
     "output_type": "execute_result"
    }
   ],
   "source": [
    "print(Hetero3)\n",
    "Hetero3[4] = \"Reymundo\", 78+9j # Index 4 'Naruto' has been replaced by \"Reymundo\", 78+9j\n",
    "print(Hetero3)\n",
    "type(Hetero3[2]), type(Hetero3[4])"
   ]
  },
  {
   "cell_type": "code",
   "execution_count": 151,
   "metadata": {},
   "outputs": [
    {
     "name": "stdout",
     "output_type": "stream",
     "text": [
      "[10, (10+10j), (30+30j), True, ('Reymundo', (78+9j)), 'Goja', True, 'Prashant', 39, False, True, 39.69, 'KESHAV', 10.1]\n",
      "('Reymundo', (78+9j))\n",
      "[10, (10+10j), (30+30j), True, ('Reymundo', (78+9j)), 'Pikachu', True, 'Prashant', 39, False, True, 39.69, 'KESHAV', 10.1]\n"
     ]
    }
   ],
   "source": [
    "print(Hetero3)\n",
    "print(Hetero3[4])\n",
    "Hetero3[5] = \"Pikachu\" # 5th index element True has been replaced by \"Pikachu\"\n",
    "print(Hetero3)"
   ]
  },
  {
   "cell_type": "code",
   "execution_count": 152,
   "metadata": {},
   "outputs": [
    {
     "name": "stdout",
     "output_type": "stream",
     "text": [
      "[10, (10+10j), (30+30j), True, ('Reymundo', (78+9j)), 'Pikachu', True, 'Prashant', 39, False, True, 39.69, 'KESHAV', 10.1]\n",
      "[10, (10+10j), (30+30j), 'Vinod', 'Sharma', 'Pikachu', True, 'Prashant', 39, False, True, 39.69, 'KESHAV', 10.1]\n"
     ]
    }
   ],
   "source": [
    "print(Hetero3)\n",
    "Hetero3[3:5] = \"Vinod\", \"Sharma\" # 3rd & 4th index elements has been replaced by \"Vinod\", \"Sharma\"\n",
    "print(Hetero3)"
   ]
  },
  {
   "cell_type": "code",
   "execution_count": 153,
   "metadata": {},
   "outputs": [
    {
     "name": "stdout",
     "output_type": "stream",
     "text": [
      "[10, (10+10j), (30+30j), 'Vinod', 'Sharma', 'Pikachu', True, 'Prashant', 39, False, True, 39.69, 'KESHAV', 10.1]\n",
      "[10, (10+10j), (30+30j), 'Vinod', 'Suraj', True, 'Prashant', 39, False, True, 39.69, 'KESHAV', 10.1]\n"
     ]
    }
   ],
   "source": [
    "print(Hetero3)\n",
    "Hetero3[4:6] = [\"Suraj\"]\n",
    "print(Hetero3)              # 4th & 5th Index element got replaced by single element \"Suraj\" as an array"
   ]
  },
  {
   "cell_type": "code",
   "execution_count": 154,
   "metadata": {},
   "outputs": [
    {
     "name": "stdout",
     "output_type": "stream",
     "text": [
      "[10, (10+10j), (30+30j), 'Vinod', 'Suraj', True, 'Prashant', 39, False, True, 39.69, 'KESHAV', 10.1]\n",
      "[10, (10+10j), (30+30j), ('Health', 56, 78.57), 'Suraj', True, 'Prashant', 39, False, True, 39.69, 'KESHAV', 10.1]\n"
     ]
    },
    {
     "data": {
      "text/plain": [
       "(complex, tuple)"
      ]
     },
     "execution_count": 154,
     "metadata": {},
     "output_type": "execute_result"
    }
   ],
   "source": [
    "print(Hetero3)\n",
    "Hetero3[3] = \"Health\", 56, 78.57 # 3rd index element 'Vinod' has been replaced by \"Health\", 56, 78.57\n",
    "print(Hetero3)\n",
    "type(Hetero3[2]), type(Hetero3[3])"
   ]
  },
  {
   "cell_type": "code",
   "execution_count": 155,
   "metadata": {},
   "outputs": [
    {
     "name": "stdout",
     "output_type": "stream",
     "text": [
      "[(33+7j), 'Tandav', 55, 87.99, True, False, 10.7, 88]\n",
      "[55, 87.99, True]\n",
      "[77, 'Pixie', 'Hexie']\n",
      "[(33+7j), 'Tandav', 77, 'Pixie', 'Hexie', 55, 87.99, True, False, 10.7, 88]\n",
      "['Hexie', 55, 87.99, True]\n",
      "['OOP', 33, 'Cubix', 'Latex']\n",
      "[(33+7j), 'Tandav', 77, 'Pixie', 'OOP', 33, 'Cubix', 'Latex', 'Hexie', 55, 87.99, True, False, 10.7, 88]\n"
     ]
    }
   ],
   "source": [
    "Hetero5 = [33+7j, \"Tandav\", 55, 87.99, True, False, 10.7, 88]\n",
    "print(Hetero5)\n",
    "\n",
    "print(Hetero5[2:5])\n",
    "Hetero5[2:0] = 77, \"Pixie\", \"Hexie\"                         # Plugin 77, \"Pixie\", \"Hexie at the place of 2nd index\n",
    "print(Hetero5[2:5])\n",
    "print(Hetero5)\n",
    "\n",
    "print(Hetero5[4:8])\n",
    "Hetero5[4:0] = \"OOP\", 33, \"Cubix\", \"Latex\"                  # Plugin \"OOP\", 33, \"Cubix\", \"Latex\" at the place of 4th index\n",
    "print(Hetero5[4:8])\n",
    "print(Hetero5)"
   ]
  },
  {
   "cell_type": "code",
   "execution_count": 156,
   "metadata": {},
   "outputs": [
    {
     "name": "stdout",
     "output_type": "stream",
     "text": [
      "[(33+7j), 'Tandav', 77, 'Pixie', 'OOP', 33, 'Cubix', 'Latex', 'Hexie', 55, 87.99, True, False, 10.7, 88]\n",
      "[77, 'Pixie', 'OOP']\n",
      "['Two', 'Five', 33]\n",
      "[(33+7j), 'Tandav', 'Two', 'Five', 33, 'Cubix', 'Latex', 'Hexie', 55, 87.99, True, False, 10.7, 88]\n"
     ]
    }
   ],
   "source": [
    "print(Hetero5)\n",
    "print(Hetero5[2:5])\n",
    "Hetero5[2:5] = \"Two\", \"Five\" # Replace 2nd to 5th exclusive upperbound range elements with \"Two\", \"Five\"\n",
    "print(Hetero5[2:5])\n",
    "print(Hetero5)"
   ]
  },
  {
   "cell_type": "code",
   "execution_count": 157,
   "metadata": {},
   "outputs": [
    {
     "name": "stdout",
     "output_type": "stream",
     "text": [
      "[10, (10+10j), (30+30j), ('Health', 56, 78.57), 'Suraj', True, 'Prashant', 39, False, True, 39.69, 'KESHAV', 10.1]\n",
      "[False, True, 39.69]\n",
      "[40, 'Morphine', 'KESHAV']\n",
      "[10, (10+10j), (30+30j), ('Health', 56, 78.57), 'Suraj', True, 'Prashant', 39, 40, 'Morphine', 'KESHAV', 10.1]\n"
     ]
    },
    {
     "data": {
      "text/plain": [
       "(list, 12)"
      ]
     },
     "execution_count": 157,
     "metadata": {},
     "output_type": "execute_result"
    }
   ],
   "source": [
    "# Perform Change/Replace & Insert in a List element values with new values\n",
    "# Provide index value range [:] = provide Replace value, provide Insert value\n",
    "# Between 8th index element \"KESHAV\" & exclusive upperbound 11th index element 39.69 all elements (3 elements) got removed/killed by 40, \"Morphine\"\n",
    "# Now total no of elements in the list Hetero3 is 12\n",
    "print(Hetero3)\n",
    "print(Hetero3[8:11])\n",
    "Hetero3[8:11] = 40, \"Morphine\"    # Replace 8th to exclusive upperbound 11th exclusive upperbound range elements with 40, \"Morphine\"\n",
    "print(Hetero3[8:11])\n",
    "print(Hetero3)\n",
    "type(Hetero3), len(Hetero3)"
   ]
  },
  {
   "cell_type": "code",
   "execution_count": 158,
   "metadata": {},
   "outputs": [
    {
     "name": "stdout",
     "output_type": "stream",
     "text": [
      "[(30+30j), ('Health', 56, 78.57), 'Suraj', True, 'Prashant', 39, 40]\n",
      "[(40+40j), 'John-Wick', 'Morphine', 'KESHAV']\n"
     ]
    },
    {
     "data": {
      "text/plain": [
       "([10, (10+10j), (40+40j), 'John-Wick', 'Morphine', 'KESHAV', 10.1], 7)"
      ]
     },
     "execution_count": 158,
     "metadata": {},
     "output_type": "execute_result"
    }
   ],
   "source": [
    "# Perform Change/Replace,Insert & Remove in a List element values with new values\n",
    "# Provide index value range [:]= provide Replace value, provide Insert value\n",
    "# 2nd index element 30+30j has been replace by 40+40j\n",
    "# Between 2nd index element (40+40j) & 9th index element (39) all elements (6 elements) got removed/killed by \"John-Wick\"\n",
    "# Now total no of elements in the list Hetero3 is 5\n",
    "print(Hetero3[2:9])\n",
    "Hetero3[2:9] = 40+40j, \"John-Wick\"   # Replace 2nd to 9th exclusive upperbound range elements with 40+40j, \"John-Wick\"\n",
    "print(Hetero3[2:6])\n",
    "Hetero3, len(Hetero3)"
   ]
  },
  {
   "cell_type": "code",
   "execution_count": 21,
   "metadata": {},
   "outputs": [
    {
     "name": "stdout",
     "output_type": "stream",
     "text": [
      "(10+10j)\n",
      "(20+20j)\n",
      "[10.1, 'Prashant', (20+20j), False, 10, 'KESHAV', (45+9j), True, 39.69, 39]\n"
     ]
    }
   ],
   "source": [
    "# List is mutable variable, you can add, remove, insert, swap, shuffle & replace elements of List\n",
    "\n",
    "Hetero3 = [10.1, \"Prashant\", 10+10j, False, 10, \"KESHAV\", 45+9j, True, 39.69, 39]\n",
    "print(Hetero3[2])\n",
    "Hetero3[2] = 20+20j\n",
    "print(Hetero3[2])\n",
    "print(Hetero3)           # 2nd index element 10+10j has been replaced by 20+20j"
   ]
  },
  {
   "cell_type": "code",
   "execution_count": 22,
   "metadata": {},
   "outputs": [
    {
     "name": "stdout",
     "output_type": "stream",
     "text": [
      "[10.1, 'Prashant', (20+20j), False, 10, 'KESHAV', (45+9j), True, 39.69, 39, 'Append']\n"
     ]
    }
   ],
   "source": [
    "Hetero3.append(\"Append\") # append at the end position\n",
    "print(Hetero3)"
   ]
  },
  {
   "cell_type": "code",
   "execution_count": 23,
   "metadata": {},
   "outputs": [
    {
     "name": "stdout",
     "output_type": "stream",
     "text": [
      "[10.1, 'Prashant', (20+20j), False, 10, 'KESHAV', (45+9j), True, 39.69, 39, 'Append', ['Alpha', 'Beta', 'Gamma']]\n"
     ]
    }
   ],
   "source": [
    "Hetero3.append([\"Alpha\", \"Beta\", \"Gamma\"]) # append in List[] format at the end position\n",
    "print(Hetero3)"
   ]
  },
  {
   "cell_type": "code",
   "execution_count": 24,
   "metadata": {},
   "outputs": [
    {
     "name": "stdout",
     "output_type": "stream",
     "text": [
      "[10.1, 'Prashant', (20+20j), False, 10, 'KESHAV', (45+9j), True, 39.69, 39, 'Append', ['Alpha', 'Beta', 'Gamma'], (53, (9+8j), 66.79, 'Tuple')]\n"
     ]
    }
   ],
   "source": [
    "Hetero3.append((53, 9+8j, 66.79, \"Tuple\")) # append in Tuple() format at the end position\n",
    "print(Hetero3)"
   ]
  },
  {
   "cell_type": "code",
   "execution_count": 25,
   "metadata": {},
   "outputs": [
    {
     "name": "stdout",
     "output_type": "stream",
     "text": [
      "[10.1, 'Prashant', (20+20j), False, 10, 'KESHAV', (45+9j), True, 39.69, 39, 'Append', ['Alpha', 'Beta', 'Gamma'], (53, (9+8j), 66.79, 'Tuple'), {None, (45-9j), 'Set', 78.89}]\n"
     ]
    }
   ],
   "source": [
    "Hetero3.append({78.89, None, 45-9j, \"Set\"}) # append in Set{} format at the end position\n",
    "print(Hetero3)"
   ]
  },
  {
   "cell_type": "code",
   "execution_count": 162,
   "metadata": {},
   "outputs": [
    {
     "name": "stdout",
     "output_type": "stream",
     "text": [
      "[10.1, 'Prashant', (20+20j), False, [(89-7j), 56, 78.99, True, False], 10, 'KESHAV', (45+9j), True, 39.69, 39, ['Theta'], ['Alpha', 'Beta', 'Gamma']]\n"
     ]
    }
   ],
   "source": [
    "Hetero3.insert(4, [89-7j, 56, 78.99, True, False]) # Plugin new elements in List[] format at the place of mentioned index\n",
    "print(Hetero3)"
   ]
  },
  {
   "cell_type": "code",
   "execution_count": 163,
   "metadata": {},
   "outputs": [
    {
     "name": "stdout",
     "output_type": "stream",
     "text": [
      "[10.1, 'Prashant', (20+20j), ['3'], False, [(89-7j), 56, 78.99, True, False], 10, 'KESHAV', (45+9j), True, 39.69, 39, ['Theta'], ['Alpha', 'Beta', 'Gamma']]\n"
     ]
    }
   ],
   "source": [
    "Hetero3.insert(3, [\"3\"]) # Plugin new elements in List[] format at the place of mentioned index\n",
    "print(Hetero3)"
   ]
  },
  {
   "cell_type": "code",
   "execution_count": 164,
   "metadata": {},
   "outputs": [
    {
     "name": "stdout",
     "output_type": "stream",
     "text": [
      "[10.1, 'Prashant', (20+20j), 'E1', 'E2', 'E3', 'E4', ['3'], False, [(89-7j), 56, 78.99, True, False], 10, 'KESHAV', (45+9j), True, 39.69, 39, ['Theta'], ['Alpha', 'Beta', 'Gamma']]\n"
     ]
    }
   ],
   "source": [
    "Hetero3[3:0] = \"E1\", \"E2\", \"E3\", \"E4\" # Plugin new elements at the place of mentioned 3rd index\n",
    "print(Hetero3)"
   ]
  },
  {
   "cell_type": "code",
   "execution_count": 165,
   "metadata": {},
   "outputs": [
    {
     "name": "stdout",
     "output_type": "stream",
     "text": [
      "[10.1, 'Prashant', (20+20j), 'E1', 'E2', 'E3', 'E4', ['3'], False, [(89-7j), 56, 78.99, True, False], 10, 'KESHAV', (45+9j), True, 39.69, 39, ['Theta'], ['Alpha', 'Beta', 'Gamma'], False, 67, 89.56, (78-5j), 'London']\n"
     ]
    }
   ],
   "source": [
    "Hetero3.extend([False, 67, 89.56, 78-5j, \"London\"]) #Add multiple indivisual elements to the end position\n",
    "print(Hetero3)"
   ]
  },
  {
   "cell_type": "code",
   "execution_count": 166,
   "metadata": {},
   "outputs": [
    {
     "name": "stdout",
     "output_type": "stream",
     "text": [
      "[10.1, 'Prashant', (20+20j), 'E1', 'E2', 'E3', 'E4', ['3'], False, [(89-7j), 56, 78.99, True, False], 10, 'KESHAV', (45+9j), True, 39.69, 39, ['Theta'], ['Alpha', 'Beta', 'Gamma'], False, 67, 89.56, (78-5j), 'London', 'L1', 'L2', 'L3', 'L4']\n"
     ]
    }
   ],
   "source": [
    "Hetero3[len(Hetero3):0] = \"L1\", \"L2\", \"L3\", \"L4\" #Plugin new elements at the end position\n",
    "print(Hetero3)"
   ]
  },
  {
   "cell_type": "code",
   "execution_count": 167,
   "metadata": {},
   "outputs": [
    {
     "name": "stdout",
     "output_type": "stream",
     "text": [
      "[10.1, 'Prashant', (20+20j), 'E1', 'E2', 'E3', 'E4', ['3'], False, [(89-7j), 56, 78.99, True, False], 10, 'KESHAV', (45+9j), True, 39.69, 39, ['Theta'], ['Alpha', 'Beta', 'Gamma'], False, 67, 89.56, (78-5j), 'London', 'L1', 'L2', 'L3', 'L4', ['25th', '26th', '27th', '28th']]\n",
      "[10.1, 'Prashant', (20+20j), 'E1', 'E2', 'E3', 'E4', ['3'], False, [(89-7j), 56, 78.99, True, False], 10, 'KESHAV', ['Occult', 87.69, 67, False], (45+9j), True, 39.69, 39, ['Theta'], ['Alpha', 'Beta', 'Gamma'], False, 67, 89.56, (78-5j), 'London', 'L1', 'L2', 'L3', 'L4', ['25th', '26th', '27th', '28th']]\n",
      "[10.1, 'Prashant', (20+20j), 'E1', 'E2', 'E3', 'E4', ['3'], False, [(89-7j), 56, 78.99, True, False], 10, 'KESHAV', ['Occult', 87.69, 67, False], (45+9j), '1', '4', 't', 'h', ' ', 'I', 'n', 'd', 'e', 'x', True, 39.69, 39, ['Theta'], ['Alpha', 'Beta', 'Gamma'], False, 67, 89.56, (78-5j), 'London', 'L1', 'L2', 'L3', 'L4', ['25th', '26th', '27th', '28th']]\n",
      "[10.1, 'Prashant', (20+20j), 'E1', '4th', '5th', '6th', '7th', False, [(89-7j), 56, 78.99, True, False], 10, 'KESHAV', ['Occult', 87.69, 67, False], (45+9j), '1', '4', 't', 'h', ' ', 'I', 'n', 'd', 'e', 'x', True, 39.69, 39, ['Theta'], ['Alpha', 'Beta', 'Gamma'], False, 67, 89.56, (78-5j), 'London', 'L1', 'L2', 'L3', 'L4', ['25th', '26th', '27th', '28th']]\n",
      "[10.1, 'Prashant', (20+20j), 'E1', '4th', '5th', '6th', '7th', False, [(89-7j), 56, 78.99, True, False], 10, 'KESHAV', ['Occult', 87.69, 67, False], (45+9j), '1', '4', 't', 'h', ' ', 'I', 'n', 'd', 'e', 'x', True, 39.69, 39, ['Theta'], ['Alpha', 'Beta', 'Gamma'], False, 67, 89.56, (78-5j), 'London', 'L1', 'L2', 'L3', 'L4', ['25th', '26th', '27th', '28th'], 'End1', 'End2', 'End3']\n",
      "[10.1, 'Prashant', (20+20j), 'E1', '4th', '5th', '6th', '7th', False, [(89-7j), 56, 78.99, True, False], 10, 'KESHAV', ['Occult', 87.69, 67, False], (45+9j), '1', '4', 't', 'h', ' ', 'I', 'n', 'd', 'e', 'x', True, 39.69, 39, ['Theta'], ['Alpha', 'Beta', 'Gamma'], False, 67, 89.56, (78-5j), 'London', 'L1', 'L2', 'L3', 'L4', ['25th', '26th', '27th', '28th'], 'End1', 'End2', 'End3', 'Last1', 'Last2']\n",
      "Last2\n",
      "['Occult', 87.69, 67, False]\n",
      "2\n",
      "None\n",
      "[10.1, 'Prashant', (20+20j), 'E1', '4th', '5th', '6th', '7th', False, [(89-7j), 56, 78.99, True, False], 10, 'KESHAV', (45+9j), '1', '4', 't', 'h', ' ', 'I', 'n', 'd', 'e', 'x', True, 39.69, 39, ['Theta'], ['Alpha', 'Beta', 'Gamma'], False, 67, 89.56, (78-5j), 'L1', 'L2', 'L3', 'L4', ['25th', '26th', '27th', '28th'], 'End1', 'End2', 'End3', 'Last1']\n"
     ]
    }
   ],
   "source": [
    "len(Hetero3)\n",
    "Hetero3.append([\"25th\", \"26th\", \"27th\", \"28th\"]) #append in List[] format at the end position\n",
    "print(Hetero3)\n",
    "\n",
    "Hetero3.insert(12, [\"Occult\", 87.69, 67, False]) #Plugin new elements in List[] format at the place of mentioned index\n",
    "print(Hetero3)\n",
    "\n",
    "Hetero3[14:0] = \"14th Index\"        # \"14th Index\" element has been pluggied in at the place of 14th index position\n",
    "print(Hetero3)\n",
    "\n",
    "Hetero3[4:8] = \"4th\", \"5th\", \"6th\", \"7th\"           # 4th, 5th, 6th, 7th index elements got replaced by \"4th\", \"5th\", \"6th\", \"7th\" string\n",
    "print(Hetero3)\n",
    "\n",
    "Hetero3.extend([\"End1\", \"End2\", \"End3\"])       #Add multiple indivisual elements to the end position\n",
    "print(Hetero3)\n",
    "\n",
    "Hetero3[len(Hetero3):0] = \"Last1\", \"Last2\"     #Plugin new elements at the end position\n",
    "print(Hetero3)\n",
    "\n",
    "print(Hetero3.pop())                          #By default delete the last Index element\n",
    "\n",
    "print(Hetero3.pop(12))                        # Delete the one mentioned index element at a time\n",
    "\n",
    "print(Hetero3.count(False))              # Count the frequency of mentioned boolean element False\n",
    "\n",
    "print(Hetero3.remove(\"London\"))        # Delete the mentioned string element \"London\" from list Hetero3\n",
    "print(Hetero3)"
   ]
  },
  {
   "cell_type": "code",
   "execution_count": 168,
   "metadata": {},
   "outputs": [
    {
     "name": "stdout",
     "output_type": "stream",
     "text": [
      "[(45+9j), 'L2', (20+20j), 'n', 'L4', ' ', 39, 'd', 'Last1', '4', ['Theta'], 'End1', 67, (78-5j), '7th', 10.1, '4th', True, 'End2', '6th', 'x', 'I', 10, 'e', 'L3', 'Prashant', False, 't', [(89-7j), 56, 78.99, True, False], 39.69, ['Alpha', 'Beta', 'Gamma'], 'h', 'L1', '5th', False, ['25th', '26th', '27th', '28th'], 'End3', '1', 'KESHAV', 89.56, 'E1']\n",
      "['Last1', ' ', 'End1', '4', 'End3', 39.69, 'd', 'n', ['25th', '26th', '27th', '28th'], '4th', 'L3', 10, 'End2', 'I', '5th', '7th', 'Prashant', 67, 'h', (45+9j), 10.1, False, 39, 89.56, 'L4', 'E1', True, 'x', (78-5j), [(89-7j), 56, 78.99, True, False], 'KESHAV', '6th', (20+20j), False, 't', '1', 'e', ['Alpha', 'Beta', 'Gamma'], 'L1', ['Theta'], 'L2']\n"
     ]
    }
   ],
   "source": [
    "import random\n",
    "RandSam = random.sample(Hetero3, len(Hetero3))\n",
    "print(RandSam)\n",
    "\n",
    "random.shuffle(Hetero3)\n",
    "print(Hetero3)\n",
    "\n",
    "#print(Hetero3.sort())\n",
    "\n",
    "#print(min(Hetero3)), max(Hetero3), sum(Hetero3))"
   ]
  },
  {
   "cell_type": "code",
   "execution_count": 14,
   "metadata": {},
   "outputs": [
    {
     "name": "stdout",
     "output_type": "stream",
     "text": [
      "(50.5+9j)\n",
      "False\n",
      "99\n",
      "[False, True, 55.7, 99]\n",
      "[True, 10, (29+9j), 10.5]\n",
      "[True, 10, 10.5, (29+9j)]\n",
      "[True, 99, False, 55.7]\n"
     ]
    }
   ],
   "source": [
    "import random\n",
    "\n",
    "L1 = [10.5, 10, 29+9j, True]                   # Addition of Integer, Float, Boolean, Complex\n",
    "L2 = [55.7, 99, True, False]\n",
    "print(sum(L1))                        # Addition of Integer, Float, Boolean, Complex\n",
    "print(min(L2))                        # min() works with Integer, Float & Boolean data types\n",
    "print(max(L2))                        # max() works with Integer, Float & Boolean data types\n",
    "L2.sort()\n",
    "print(L2)\n",
    "type(L1), type(L2)                    # sort() works with Integer, Float, Boolean mix Tuple element data types simultaneously & with String seperately\n",
    "                                      # sort() sequence priority to the String Integers -> Uppercase alphabets -> lowercase alphabets\n",
    "random.shuffle(L1)\n",
    "print(L1)\n",
    "SamL1 = random.sample(L1, k=len(L1))\n",
    "SamL2 = random.sample(L2, k=len(L2))\n",
    "print(SamL1)\n",
    "print(SamL2)"
   ]
  },
  {
   "cell_type": "code",
   "execution_count": 20,
   "metadata": {},
   "outputs": [
    {
     "name": "stdout",
     "output_type": "stream",
     "text": [
      "[1, 2, 3, 4, 5, 6, 7, 8, 9, 10, 11, 12]\n",
      "[1, 2, 3, 4, 5, 6, 7, 8, 9, 10, 11, 12]\n"
     ]
    }
   ],
   "source": [
    "List1 = [1, 2, 3, 4]\n",
    "List2 = [5, 6, 7, 8]\n",
    "List3 = [9, 10, 11, 12]\n",
    "\n",
    "Concated_List = List1 + List2 + List3  # Multiple List[] got concatinated into a new List[] variable\n",
    "\n",
    "print(Concated_List)\n",
    "\n",
    "List1 += List2 + List3  # Advanced concatination happened within List1\n",
    "\n",
    "print(List1)"
   ]
  },
  {
   "cell_type": "code",
   "execution_count": 170,
   "metadata": {},
   "outputs": [
    {
     "name": "stdout",
     "output_type": "stream",
     "text": [
      "['Last1', ' ', 'End1', '4', 'End3', 39.69, 'd', 'n', ['25th', '26th', '27th', '28th'], '4th', 'L3', 10, 'End2', 'I', '5th', '7th', 'Prashant', 67, 'h', (45+9j), 10.1, False, 39, 89.56, 'L4', 'E1', True, 'x', (78-5j), [(89-7j), 56, 78.99, True, False], 'KESHAV', '6th', (20+20j), False, 't', '1', 'e', ['Alpha', 'Beta', 'Gamma'], 'L1', ['Theta'], 'L2', 'Append']\n",
      "['Last1', ' ', 'End1', '4', 'End3', 39.69, 'd', 'n', ['25th', '26th', '27th', '28th'], '4th', 'L3', 10, 'End2', 'I', '5th', '7th', 'Prashant', 67, 'h', (45+9j), 10.1, False, 39, 89.56, 'L4', 'E1', True, 'x', (78-5j), [(89-7j), 56, 78.99, True, False], 'KESHAV', '6th', (20+20j), False, 't', '1', 'e', ['Alpha', 'Beta', 'Gamma'], 'L1', ['Theta'], 'L2', 'Append', [(15+15j), 22]]\n"
     ]
    }
   ],
   "source": [
    "Hetero3.append(\"Append\")\n",
    "print(Hetero3)\n",
    "\n",
    "Hetero3.append([15+15j, 22])       # [] List format Add new List [15+15j,22] to the end location of Hetero3 by using append function\n",
    "                                                        # append always increses a single element\n",
    "print(Hetero3)"
   ]
  },
  {
   "cell_type": "code",
   "execution_count": 171,
   "metadata": {},
   "outputs": [
    {
     "name": "stdout",
     "output_type": "stream",
     "text": [
      "['Last1', ' ', 'End1', '4', 'End3', 39.69, 'd', 'n', ['25th', '26th', '27th', '28th'], '4th', 'L3', 10, 'End2', 'I', '5th', '7th', 'Prashant', 67, 'h', (45+9j), 10.1, False, 39, 89.56, 'L4', 'E1', True, 'x', (78-5j), [(89-7j), 56, 78.99, True, False], 'KESHAV', '6th', (20+20j), False, 't', '1', 'e', ['Alpha', 'Beta', 'Gamma'], 'L1', ['Theta'], 'L2', 'Append', [(15+15j), 22]]\n"
     ]
    }
   ],
   "source": [
    "print(Hetero3)"
   ]
  },
  {
   "cell_type": "code",
   "execution_count": 172,
   "metadata": {},
   "outputs": [
    {
     "ename": "AttributeError",
     "evalue": "'list' object has no attribute 'add'",
     "output_type": "error",
     "traceback": [
      "\u001b[0;31m---------------------------------------------------------------------------\u001b[0m",
      "\u001b[0;31mAttributeError\u001b[0m                            Traceback (most recent call last)",
      "Cell \u001b[0;32mIn[172], line 1\u001b[0m\n\u001b[0;32m----> 1\u001b[0m \u001b[43mHetero3\u001b[49m\u001b[38;5;241;43m.\u001b[39;49m\u001b[43madd\u001b[49m(\u001b[38;5;124m\"\u001b[39m\u001b[38;5;124mAdd\u001b[39m\u001b[38;5;124m\"\u001b[39m)\n\u001b[1;32m      2\u001b[0m \u001b[38;5;28mprint\u001b[39m(Hetero3)\n",
      "\u001b[0;31mAttributeError\u001b[0m: 'list' object has no attribute 'add'"
     ]
    }
   ],
   "source": [
    "Hetero3.add(\"Add\")\n",
    "print(Hetero3)                    # add() is applicable for Set only, one element at a time"
   ]
  },
  {
   "cell_type": "code",
   "execution_count": 173,
   "metadata": {},
   "outputs": [
    {
     "name": "stdout",
     "output_type": "stream",
     "text": [
      "End1\n",
      "('A', 'B', 'C')\n",
      "['Last1', ' ', ('A', 'B', 'C'), '4', 'End3', 39.69, 'd', 'n', ['25th', '26th', '27th', '28th'], '4th', 'L3', 10, 'End2', 'I', '5th', '7th', 'Prashant', 67, 'h', (45+9j), 10.1, False, 39, 89.56, 'L4', 'E1', True, 'x', (78-5j), [(89-7j), 56, 78.99, True, False], 'KESHAV', '6th', (20+20j), False, 't', '1', 'e', ['Alpha', 'Beta', 'Gamma'], 'L1', ['Theta'], 'L2', 'Append', [(15+15j), 22]]\n"
     ]
    },
    {
     "data": {
      "text/plain": [
       "tuple"
      ]
     },
     "execution_count": 173,
     "metadata": {},
     "output_type": "execute_result"
    }
   ],
   "source": [
    "print(Hetero3[2])\n",
    "Hetero3[2] = \"A\", \"B\", \"C\"      # [] List format Replace 2nd index element (20+20j) with list [\"A\", \"B\", \"C\"]\n",
    "print(Hetero3[2])\n",
    "print(Hetero3)\n",
    "type(Hetero3[2])"
   ]
  },
  {
   "cell_type": "code",
   "execution_count": 174,
   "metadata": {},
   "outputs": [
    {
     "name": "stdout",
     "output_type": "stream",
     "text": [
      "['Last1', ' ', ('A', 'B', 'C'), '4', 'End3', 39.69, 'd', 'n', ['25th', '26th', '27th', '28th'], '4th', 'L3', 10, 'End2', 'I', '5th', '7th', 'Prashant', 67, 'h', (45+9j), 10.1, False, 39, 89.56, 'L4', 'E1', True, 'x', (78-5j), [(89-7j), 56, 78.99, True, False], 'KESHAV', '6th', (20+20j), False, 't', '1', 'e', ['Alpha', 'Beta', 'Gamma'], 'L1', ['Theta'], 'L2', 'Append', [(15+15j), 22]]\n",
      "['Last1', ' ', ('A', 'B', 'C'), '4', 'End3', 39.69, ['Six', 'Sigma'], 'n', ['25th', '26th', '27th', '28th'], '4th', 'L3', 10, 'End2', 'I', '5th', '7th', 'Prashant', 67, 'h', (45+9j), 10.1, False, 39, 89.56, 'L4', 'E1', True, 'x', (78-5j), [(89-7j), 56, 78.99, True, False], 'KESHAV', '6th', (20+20j), False, 't', '1', 'e', ['Alpha', 'Beta', 'Gamma'], 'L1', ['Theta'], 'L2', 'Append', [(15+15j), 22]]\n"
     ]
    },
    {
     "data": {
      "text/plain": [
       "list"
      ]
     },
     "execution_count": 174,
     "metadata": {},
     "output_type": "execute_result"
    }
   ],
   "source": [
    "print(Hetero3)\n",
    "Hetero3[6] = [\"Six\", \"Sigma\"]  # Replace 6th index element with [\"Six\", \"Sigma\"] as list\n",
    "print(Hetero3)\n",
    "type(Hetero3[6])"
   ]
  },
  {
   "cell_type": "code",
   "execution_count": 175,
   "metadata": {},
   "outputs": [
    {
     "name": "stdout",
     "output_type": "stream",
     "text": [
      "['4', 'End3', 39.69, ['Six', 'Sigma']]\n",
      "[1, 2, 3, 4]\n",
      "['Last1', ' ', ('A', 'B', 'C'), 1, 2, 3, 4, '4', 'End3', 39.69, ['Six', 'Sigma'], 'n', ['25th', '26th', '27th', '28th'], '4th', 'L3', 10, 'End2', 'I', '5th', '7th', 'Prashant', 67, 'h', (45+9j), 10.1, False, 39, 89.56, 'L4', 'E1', True, 'x', (78-5j), [(89-7j), 56, 78.99, True, False], 'KESHAV', '6th', (20+20j), False, 't', '1', 'e', ['Alpha', 'Beta', 'Gamma'], 'L1', ['Theta'], 'L2', 'Append', [(15+15j), 22]]\n"
     ]
    }
   ],
   "source": [
    "print(Hetero3[3:7])\n",
    "Hetero3[3:0] = 1, 2, 3, 4       # Plugin new indivisual List elements 1, 2, 3, 4 at the place of 3rd index\n",
    "print(Hetero3[3:7])\n",
    "print(Hetero3)"
   ]
  },
  {
   "cell_type": "code",
   "execution_count": 176,
   "metadata": {},
   "outputs": [
    {
     "data": {
      "text/plain": [
       "['apple', 'banana', 'cherry', ['Ford', 'BMW', 'Volvo']]"
      ]
     },
     "execution_count": 176,
     "metadata": {},
     "output_type": "execute_result"
    }
   ],
   "source": [
    "Fruit = [\"apple\", \"banana\", \"cherry\"]\n",
    "Car = [\"Ford\", \"BMW\", \"Volvo\"]\n",
    "Fruit.append(Car)                    # [] List format Add new List [\"Ford\", \"BMW\", \"Volvo\"] to the end location\n",
    "Fruit                                           # List Car has been added at the end of Fruit as a single index element"
   ]
  },
  {
   "cell_type": "code",
   "execution_count": 177,
   "metadata": {},
   "outputs": [
    {
     "name": "stdout",
     "output_type": "stream",
     "text": [
      "['apple', 'banana', 'cherry', ['Ford', 'BMW', 'Volvo'], 'Ford', 'BMW', 'Volvo']\n"
     ]
    }
   ],
   "source": [
    "NewFruits = Fruit + Car       # Concatination\n",
    "print(NewFruits)"
   ]
  },
  {
   "cell_type": "code",
   "execution_count": 178,
   "metadata": {},
   "outputs": [
    {
     "data": {
      "text/plain": [
       "['apple', 'banana', 'cherry', 'Mango', ['Ford', 'BMW', 'Volvo', 'Thief']]"
      ]
     },
     "execution_count": 178,
     "metadata": {},
     "output_type": "execute_result"
    }
   ],
   "source": [
    "fruit = [\"apple\", \"banana\", \"cherry\", \"Mango\"]\n",
    "car = [\"Ford\", \"BMW\", \"Volvo\", \"Thief\"]\n",
    "fruit.append(car)          # [] List format Add new List [\"Ford\", \"BMW\", \"Volvo\", \"Thief\"] to the end location\n",
    "fruit                                 # [] List Car has been added at the end of Fruit as a single index element"
   ]
  },
  {
   "cell_type": "code",
   "execution_count": 179,
   "metadata": {},
   "outputs": [
    {
     "data": {
      "text/plain": [
       "['apple', 'banana', 'cherry', 'Ford', 'BMW', 'Volvo']"
      ]
     },
     "execution_count": 179,
     "metadata": {},
     "output_type": "execute_result"
    }
   ],
   "source": [
    "Fruit1 = [\"apple\", \"banana\", \"cherry\"]\n",
    "Car1 = [\"Ford\", \"BMW\", \"Volvo\"]\n",
    "Fruit1_Car1 = Fruit1 + Car1        # Indivisual elements Concatination of two Lists by using Addition\n",
    "Fruit1_Car1                        # Take elements of two Lists into one New List"
   ]
  },
  {
   "cell_type": "code",
   "execution_count": 180,
   "metadata": {},
   "outputs": [
    {
     "data": {
      "text/plain": [
       "3"
      ]
     },
     "execution_count": 180,
     "metadata": {},
     "output_type": "execute_result"
    }
   ],
   "source": [
    "Fruit.index(Car)    # index value of Car is 3 in Fruit, Car is nestd list inside Fruit list"
   ]
  },
  {
   "cell_type": "code",
   "execution_count": 181,
   "metadata": {},
   "outputs": [
    {
     "data": {
      "text/plain": [
       "3"
      ]
     },
     "execution_count": 181,
     "metadata": {},
     "output_type": "execute_result"
    }
   ],
   "source": [
    "Fruit.index([\"Ford\", \"BMW\", \"Volvo\"])     # index value of [\"Ford\", \"BMW\", \"Volvo\"]"
   ]
  },
  {
   "cell_type": "code",
   "execution_count": 182,
   "metadata": {},
   "outputs": [
    {
     "name": "stdout",
     "output_type": "stream",
     "text": [
      "['apple', 'banana', 'cherry', ['Ford', 'BMW', 'Volvo']]\n"
     ]
    }
   ],
   "source": [
    "print(Fruit)"
   ]
  },
  {
   "cell_type": "code",
   "execution_count": 183,
   "metadata": {},
   "outputs": [
    {
     "data": {
      "text/plain": [
       "46"
      ]
     },
     "execution_count": 183,
     "metadata": {},
     "output_type": "execute_result"
    }
   ],
   "source": [
    "Hetero3.index([15+15j, 22])        # index value of nested list [15+15j,22] is 10 in Hetero3 List"
   ]
  },
  {
   "cell_type": "code",
   "execution_count": 184,
   "metadata": {},
   "outputs": [
    {
     "name": "stdout",
     "output_type": "stream",
     "text": [
      "['Last1', ' ', ('A', 'B', 'C'), 1, 2, 3, 4, '4', 'End3', 39.69, ['Six', 'Sigma'], 'n', ['25th', '26th', '27th', '28th'], '4th', 'L3', 10, 'End2', 'I', '5th', '7th', 'Prashant', 67, 'h', (45+9j), 10.1, False, 39, 89.56, 'L4', 'E1', True, 'x', (78-5j), [(89-7j), 56, 78.99, True, False], 'KESHAV', '6th', (20+20j), False, 't', '1', 'e', ['Alpha', 'Beta', 'Gamma'], 'L1', ['Theta'], 'L2', 'Append', [(15+15j), 22]]\n"
     ]
    }
   ],
   "source": [
    "print(Hetero3)"
   ]
  },
  {
   "cell_type": "code",
   "execution_count": 185,
   "metadata": {},
   "outputs": [
    {
     "name": "stdout",
     "output_type": "stream",
     "text": [
      "['Last1', ' ', ('A', 'B', 'C'), 1, 2, 3, 4, '4', 'End3', 39.69, ['Six', 'Sigma'], 'n', ['25th', '26th', '27th', '28th'], '4th', 'L3', 10, 'End2', 'I', '5th', '7th', 'Prashant', 67, 'h', (45+9j), 10.1, False, 39, 89.56, 'L4', 'E1', True, 'x', (78-5j), [(89-7j), 56, 78.99, True, False], 'KESHAV', '6th', (20+20j), False, 't', '1', 'e', ['Alpha', 'Beta', 'Gamma'], 'L1', ['Theta'], 'L2', 'Append', [(15+15j), 22], [(17+25j), 92]]\n"
     ]
    }
   ],
   "source": [
    "Hetero3.append([17+25j, 92])        # [] List format append() this include at the end in [] List format\n",
    "print(Hetero3)"
   ]
  },
  {
   "cell_type": "code",
   "execution_count": 186,
   "metadata": {},
   "outputs": [
    {
     "name": "stdout",
     "output_type": "stream",
     "text": [
      "['Last1', ' ', ('A', 'B', 'C'), 1, 2, 3, 4, '4', 'End3', 39.69, ['Six', 'Sigma'], 'n', ['25th', '26th', '27th', '28th'], '4th', 'L3', 10, 'End2', 'I', '5th', '7th', 'Prashant', 67, 'h', (45+9j), 10.1, False, 39, 89.56, 'L4', 'E1', True, 'x', (78-5j), [(89-7j), 56, 78.99, True, False], 'KESHAV', '6th', (20+20j), False, 't', '1', 'e', ['Alpha', 'Beta', 'Gamma'], 'L1', ['Theta'], 'L2', 'Append', [(15+15j), 22], [(17+25j), 92], 'Komal', (36-8j), True, 33.33, (36-8j)]\n"
     ]
    }
   ],
   "source": [
    "Hetero3.extend(['Komal', 36-8j, True, 33.33,36-8j])       # Add multiple indivisual elements to the end of Hetero3 by using extend function\n",
    "print(Hetero3)"
   ]
  },
  {
   "cell_type": "code",
   "execution_count": 187,
   "metadata": {},
   "outputs": [
    {
     "name": "stdout",
     "output_type": "stream",
     "text": [
      "['Last1', ' ', ('A', 'B', 'C'), 1, 2, 3, 4, '4', 'End3', 39.69, ['Six', 'Sigma'], 'n', ['25th', '26th', '27th', '28th'], '4th', 'L3', 10, 'End2', 'I', '5th', '7th', 'Prashant', 67, 'h', (45+9j), 10.1, False, 39, 89.56, 'L4', 'E1', True, 'x', (78-5j), [(89-7j), 56, 78.99, True, False], 'KESHAV', '6th', (20+20j), False, 't', '1', 'e', ['Alpha', 'Beta', 'Gamma'], 'L1', ['Theta'], 'L2', 'Append', [(15+15j), 22], [(17+25j), 92], 'Komal', (36-8j), True, 33.33, (36-8j), [(15+15j), 22]]\n"
     ]
    }
   ],
   "source": [
    "Hetero3.append([15+15j, 22])      # [] List format append() always work in [] List format\n",
    "print(Hetero3)"
   ]
  },
  {
   "cell_type": "code",
   "execution_count": 188,
   "metadata": {},
   "outputs": [
    {
     "name": "stdout",
     "output_type": "stream",
     "text": [
      "['Last1', ' ', 'Amol', ('A', 'B', 'C'), 1, 2, 3, 4, '4', 'End3', 39.69, ['Six', 'Sigma'], 'n', ['25th', '26th', '27th', '28th'], '4th', 'L3', 10, 'End2', 'I', '5th', '7th', 'Prashant', 67, 'h', (45+9j), 10.1, False, 39, 89.56, 'L4', 'E1', True, 'x', (78-5j), [(89-7j), 56, 78.99, True, False], 'KESHAV', '6th', (20+20j), False, 't', '1', 'e', ['Alpha', 'Beta', 'Gamma'], 'L1', ['Theta'], 'L2', 'Append', [(15+15j), 22], [(17+25j), 92], 'Komal', (36-8j), True, 33.33, (36-8j), [(15+15j), 22]]\n",
      "['Last1', ' ', 'Amol', ['New', 'Plugin'], ('A', 'B', 'C'), 1, 2, 3, 4, '4', 'End3', 39.69, ['Six', 'Sigma'], 'n', ['25th', '26th', '27th', '28th'], '4th', 'L3', 10, 'End2', 'I', '5th', '7th', 'Prashant', 67, 'h', (45+9j), 10.1, False, 39, 89.56, 'L4', 'E1', True, 'x', (78-5j), [(89-7j), 56, 78.99, True, False], 'KESHAV', '6th', (20+20j), False, 't', '1', 'e', ['Alpha', 'Beta', 'Gamma'], 'L1', ['Theta'], 'L2', 'Append', [(15+15j), 22], [(17+25j), 92], 'Komal', (36-8j), True, 33.33, (36-8j), [(15+15j), 22]]\n"
     ]
    }
   ],
   "source": [
    "Hetero3.insert(2, 'Amol')   # At the Place of 2nd index before 3rd index location plugin new string element 'Amol'\n",
    "                           # 'Amol' will get the 2nd index location/positon\n",
    "print(Hetero3)\n",
    "\n",
    "Hetero3.insert(3, [\"New\", \"Plugin\"])   # [] List format Add new List [\"New\", \"Plugin\"] to the given index location\n",
    "print(Hetero3)"
   ]
  },
  {
   "cell_type": "code",
   "execution_count": 189,
   "metadata": {},
   "outputs": [
    {
     "name": "stdout",
     "output_type": "stream",
     "text": [
      "['Last1', ' ', 'Amol', 'OPPO', 33, 'CUBIX', 'LATEX', ['New', 'Plugin'], ('A', 'B', 'C'), 1, 2, 3, 4, '4', 'End3', 39.69, ['Six', 'Sigma'], 'n', ['25th', '26th', '27th', '28th'], '4th', 'L3', 10, 'End2', 'I', '5th', '7th', 'Prashant', 67, 'h', (45+9j), 10.1, False, 39, 89.56, 'L4', 'E1', True, 'x', (78-5j), [(89-7j), 56, 78.99, True, False], 'KESHAV', '6th', (20+20j), False, 't', '1', 'e', ['Alpha', 'Beta', 'Gamma'], 'L1', ['Theta'], 'L2', 'Append', [(15+15j), 22], [(17+25j), 92], 'Komal', (36-8j), True, 33.33, (36-8j), [(15+15j), 22]]\n"
     ]
    }
   ],
   "source": [
    "Hetero3[3:0] = \"OPPO\", 33, \"CUBIX\", \"LATEX\"   # Pluin new elements \"OPPO\", 33, \"CUBIX\", \"LATEX\"\n",
    "print(Hetero3)"
   ]
  },
  {
   "cell_type": "code",
   "execution_count": 190,
   "metadata": {},
   "outputs": [
    {
     "name": "stdout",
     "output_type": "stream",
     "text": [
      "['Last1', ' ', 'Amol', 'VIETNAAM', 'PAINKILLER', 'OPPO', 33, 'CUBIX', 'LATEX', ['New', 'Plugin'], ('A', 'B', 'C'), 1, 2, 3, 4, '4', 'End3', 39.69, ['Six', 'Sigma'], 'n', ['25th', '26th', '27th', '28th'], '4th', 'L3', 10, 'End2', 'I', '5th', '7th', 'Prashant', 67, 'h', (45+9j), 10.1, False, 39, 89.56, 'L4', 'E1', True, 'x', (78-5j), [(89-7j), 56, 78.99, True, False], 'KESHAV', '6th', (20+20j), False, 't', '1', 'e', ['Alpha', 'Beta', 'Gamma'], 'L1', ['Theta'], 'L2', 'Append', [(15+15j), 22], [(17+25j), 92], 'Komal', (36-8j), True, 33.33, (36-8j), [(15+15j), 22]]\n"
     ]
    }
   ],
   "source": [
    "Hetero3[3:0] = \"VIETNAAM\", \"PAINKILLER\"   # Pluin new elements \"OPPO\", 33, \"CUBIX\", \"LATEX\"\n",
    "print(Hetero3)"
   ]
  },
  {
   "cell_type": "code",
   "execution_count": 191,
   "metadata": {},
   "outputs": [
    {
     "data": {
      "text/plain": [
       "(str, str, str, str, str, str)"
      ]
     },
     "execution_count": 191,
     "metadata": {},
     "output_type": "execute_result"
    }
   ],
   "source": [
    "type(Hetero3[0]), type(Hetero3[1]), type(Hetero3[2]), type(Hetero3[3]), type(Hetero3[4]), type(Hetero3[5]) # Shows data types of each index"
   ]
  },
  {
   "cell_type": "code",
   "execution_count": 192,
   "metadata": {},
   "outputs": [
    {
     "ename": "IndexError",
     "evalue": "string index out of range",
     "output_type": "error",
     "traceback": [
      "\u001b[0;31m---------------------------------------------------------------------------\u001b[0m",
      "\u001b[0;31mIndexError\u001b[0m                                Traceback (most recent call last)",
      "Cell \u001b[0;32mIn[192], line 1\u001b[0m\n\u001b[0;32m----> 1\u001b[0m \u001b[43mHetero3\u001b[49m\u001b[43m[\u001b[49m\u001b[38;5;241;43m1\u001b[39;49m\u001b[43m]\u001b[49m\u001b[43m[\u001b[49m\u001b[38;5;241;43m2\u001b[39;49m\u001b[43m]\u001b[49m\n",
      "\u001b[0;31mIndexError\u001b[0m: string index out of range"
     ]
    }
   ],
   "source": [
    "Hetero3[1][2]   # 0th index value of the 6th index string element \"KESHAV\""
   ]
  },
  {
   "cell_type": "code",
   "execution_count": 193,
   "metadata": {},
   "outputs": [
    {
     "data": {
      "text/plain": [
       "62"
      ]
     },
     "execution_count": 193,
     "metadata": {},
     "output_type": "execute_result"
    }
   ],
   "source": [
    "len(Hetero3)   # How many elements are there inside the Hetero3 List"
   ]
  },
  {
   "cell_type": "code",
   "execution_count": 194,
   "metadata": {},
   "outputs": [],
   "source": [
    "List1 = [33+22j, \"Vivek\", True, False, 45.89, 20]\n",
    "List2 = [\"AAM\", 46-77j, [\"Mitocondriya\", \"Mitosis\", \"Miyosis\"], False, 77, 89.45]\n",
    "List3 = [\"Shivalry\", 67-7j, False, True, 56, 75.89]\n",
    "Homo1 = [1, 2, 3, 4, 5, 6, 7, 8, 9, 10]    # List containing only integers\n",
    "MixValues = [\"MADHAV\", 45+9j, True, 39.69, 39]   # List containing all type of datas\n",
    "NestList = [\"KESHAV\", 45+9j, True, 39.69, 39, Homo1]   # Homo1 list has been taken inside NestList"
   ]
  },
  {
   "cell_type": "code",
   "execution_count": 195,
   "metadata": {},
   "outputs": [
    {
     "name": "stdout",
     "output_type": "stream",
     "text": [
      "['MADHAV', (45+9j), True, ['Enigma', (67-9j), False], 39.69, 39]\n"
     ]
    }
   ],
   "source": [
    "MixValues.insert(3, [\"Enigma\", 67-9j, False])     # [] List format At the place of 3rd index, Plugin new elements in [] List format\n",
    "print(MixValues)"
   ]
  },
  {
   "cell_type": "code",
   "execution_count": 196,
   "metadata": {},
   "outputs": [
    {
     "name": "stdout",
     "output_type": "stream",
     "text": [
      "[(33+22j), 'Vivek', True, False, 45.89, 20, 'Vivaldy', 'Hermis']\n",
      "[(33+22j), 'Vivek', True, False, 45.89, 20, 'Vivaldy', 'Hermis', ['Saturn', 'Oracle']]\n",
      "['MADHAV', (45+9j), True, ['Enigma', (67-9j), False], ['Enigma', (67-9j), False], 39.69, 39]\n",
      "['AAM', (46-77j), ['Mitocondriya', 'Mitosis', 'Miyosis'], False, 77, 89.45, ['Shivalry', (67-7j), False, True, 56, 75.89]]\n",
      "[(33+22j), 'Vivek', True, False, 45.89, 20, 'Vivaldy', 'Hermis', ['Saturn', 'Oracle'], ['AAM', (46-77j), ['Mitocondriya', 'Mitosis', 'Miyosis'], False, 77, 89.45, ['Shivalry', (67-7j), False, True, 56, 75.89]]]\n",
      "[(33+22j), 'Vivek', True, False, 45.89, 20, 'Vivaldy', 'Hermis', ['Saturn', 'Oracle'], ['AAM', (46-77j), ['Mitocondriya', 'Mitosis', 'Miyosis'], False, 77, 89.45, ['Shivalry', (67-7j), False, True, 56, 75.89]], 'Shivalry', (67-7j), False, True, 56, 75.89]\n",
      "['AAM', (46-77j), ['Mitocondriya', 'Mitosis', 'Miyosis'], False, 77, 89.45, ['Shivalry', (67-7j), False, True, 56, 75.89], 'Shivalry', (67-7j), False, True, 56, 75.89]\n",
      "None\n",
      "['MADHAV', (45+9j), True, ['Enigma', (67-9j), False], ['Enigma', (67-9j), False], 39.69, 39, 'KESHAV', (45+9j), True, 39.69, 39, [1, 2, 3, 4, 5, 6, 7, 8, 9, 10], 'KESHAV', (45+9j), True, 39.69, 39, [1, 2, 3, 4, 5, 6, 7, 8, 9, 10]]\n"
     ]
    }
   ],
   "source": [
    "List1[6:0] = \"Vivaldy\", \"Hermis\"      # Plugin new elements \"Vivaldy\", \"Hermis\" at the 6th index end position\n",
    "print(List1)\n",
    "\n",
    "List1.insert(8, [\"Saturn\", \"Oracle\"])      # [] List format Plugin new elements in List [] format at 8th index position\n",
    "print(List1)\n",
    "\n",
    "MixValues.insert(3, [\"Enigma\", 67-9j, False])      # [] List format Plugin new elements in List [] format at 3rd index position\n",
    "print(MixValues)\n",
    "\n",
    "List2.insert(len(List2)+1, List3)     # [] List format insert in List [] format at 7th index position\n",
    "print(List2)\n",
    "\n",
    "List1.append(List2)     # [] List format Plugin new elements in List [] format at end position\n",
    "print(List1)\n",
    "\n",
    "List1.extend(List3)       # Plugin new elements at the end position\n",
    "print(List1)\n",
    "\n",
    "Concat = List2 + List3       # Join two or more different lists in sequence and make it one\n",
    "print(Concat)\n",
    "\n",
    "Extend = MixValues.extend(NestList)      # Plugin new elements at the end position\n",
    "print(Extend)\n",
    "\n",
    "MixValues[len(MixValues):0] = NestList     # Plugin new elements at the end position\n",
    "EndPlugin = MixValues\n",
    "print(EndPlugin)"
   ]
  },
  {
   "cell_type": "code",
   "execution_count": 197,
   "metadata": {},
   "outputs": [
    {
     "name": "stdout",
     "output_type": "stream",
     "text": [
      "['MADHAV', (45+9j), True, 39.69, 39, 'KESHAV', (45+9j), True, 39.69, 39, [1, 2, 3, 4, 5, 6, 7, 8, 9, 10]]\n"
     ]
    }
   ],
   "source": [
    "MixValues = [\"MADHAV\", 45+9j, True, 39.69, 39]            # List containing all type of datas\n",
    "NestList = [\"KESHAV\", 45+9j, True, 39.69, 39, Homo1]          # Homo1 list has been taken inside NestList\n",
    "MixValues[len(MixValues):0] = NestList\n",
    "print(MixValues)"
   ]
  },
  {
   "cell_type": "code",
   "execution_count": 198,
   "metadata": {},
   "outputs": [
    {
     "name": "stdout",
     "output_type": "stream",
     "text": [
      "[34.89j, 'Cuba', 'Coffee']\n",
      "[34.89j, 'Cuba', 'Coffee', 'Volcano', 'Mint', (67-78j)]\n",
      "[34.89j, 'Cuba', 'Coffee', 'Volcano', 'Mint', (67-78j), 57.89j, 'Stealth']\n"
     ]
    }
   ],
   "source": [
    "NewList = [34.89j, \"Cuba\", \"Coffee\"]\n",
    "print(NewList)\n",
    "NewList[len(NewList):0] = \"Volcano\", \"Mint\", 67-78j\n",
    "print(NewList)\n",
    "NewList[len(NewList):0] = 57.89j, \"Stealth\"\n",
    "print(NewList)"
   ]
  },
  {
   "cell_type": "code",
   "execution_count": 199,
   "metadata": {},
   "outputs": [
    {
     "name": "stdout",
     "output_type": "stream",
     "text": [
      "[(33+22j), 'Vivek', True, False, 45.89, 20, 'Vivaldy', 'Hermis', ['Saturn', 'Oracle'], ['AAM', (46-77j), ['Mitocondriya', 'Mitosis', 'Miyosis'], False, 77, 89.45, ['Shivalry', (67-7j), False, True, 56, 75.89]], 'Shivalry', (67-7j), False, True, 56, 75.89]\n",
      "[(33+22j), 'Vivek', True, False, 45.89, 20, 'Vivaldy', 'Hermis', ['Saturn', 'Oracle'], ['AAM', (46-77j), ['Mitocondriya', 'Mitosis', 'Miyosis'], False, 77, 89.45, ['Shivalry', (67-7j), False, True, 56, 75.89]], 'Shivalry', (67-7j), False, True, 56, 75.89, 'Amoeba', 'Zodiac', (67-78j)]\n"
     ]
    }
   ],
   "source": [
    "print(List1)\n",
    "List1[len(List1):0] = \"Amoeba\", \"Zodiac\", 67-78j\n",
    "print(List1)"
   ]
  },
  {
   "cell_type": "code",
   "execution_count": 200,
   "metadata": {},
   "outputs": [
    {
     "name": "stdout",
     "output_type": "stream",
     "text": [
      "[10.1, 'e', '1', 'h', '5th', 'n', False, 'Komal', 'L2', ['Six', 'Sigma'], 'OPPO', 'L3', (78-5j), 39, 3, 'PAINKILLER', 'End3', False, True, True, 'LATEX', 33, 1, [(17+25j), 92], 'L1', 67, 89.56, 33.33, 'KESHAV', (36-8j), 'L4', 'CUBIX', 'Amol', 'E1', 'x', ['Alpha', 'Beta', 'Gamma'], 10, ['25th', '26th', '27th', '28th'], (45+9j), 39.69, 2, 'Append', 4, 'Last1', 'End2', 'Prashant', [(15+15j), 22], [(15+15j), 22], 't', ' ', '6th', (20+20j), [(89-7j), 56, 78.99, True, False], ['Theta'], 'VIETNAAM', ('A', 'B', 'C'), '4th', 'I', '4', ['New', 'Plugin'], (36-8j), '7th']\n"
     ]
    }
   ],
   "source": [
    "import random\n",
    "random.shuffle(Hetero3)\n",
    "print(Hetero3) # All elements of Hetero3 list has been shuffled randomly"
   ]
  },
  {
   "cell_type": "code",
   "execution_count": 201,
   "metadata": {},
   "outputs": [
    {
     "name": "stdout",
     "output_type": "stream",
     "text": [
      "['I', (36-8j), ['25th', '26th', '27th', '28th'], 1, 2, 'Append', 'L3', 67, 'KESHAV', ['Alpha', 'Beta', 'Gamma'], 'Last1', 10.1, False, 'Komal', ['New', 'Plugin'], 'E1', '1', 'h', 'OPPO', ['Theta'], 4, '5th', (20+20j), 'Amol', 33.33, 'x', 10, 3, 'L2', 'Prashant', 'L4', 'L1', 'End2', True, [(89-7j), 56, 78.99, True, False], 89.56, '4', ('A', 'B', 'C'), 'e', 'PAINKILLER', (45+9j), 'End3', 't', 'n', (36-8j), (78-5j), [(17+25j), 92], 'LATEX', 39, '7th', True, 'VIETNAAM', ' ', 'CUBIX', 39.69, False, [(15+15j), 22], ['Six', 'Sigma'], [(15+15j), 22], '6th', '4th', 33]\n"
     ]
    },
    {
     "data": {
      "text/plain": [
       "(list, 62)"
      ]
     },
     "execution_count": 201,
     "metadata": {},
     "output_type": "execute_result"
    }
   ],
   "source": [
    "Randsam3 = random.sample(Hetero3, k=len(Hetero3)) # randomly pick any 5 elements as a sample from List Hetero3\n",
    "print(Randsam3)\n",
    "type(Randsam3), len(Randsam3)"
   ]
  },
  {
   "cell_type": "code",
   "execution_count": 202,
   "metadata": {},
   "outputs": [
    {
     "name": "stdout",
     "output_type": "stream",
     "text": [
      "[10.1, '1', 'e', 'h', '5th', 'n', False, 'Komal', 'L2', ['Six', 'Sigma'], 'OPPO', 'L3', (78-5j), 39, 3, 'PAINKILLER', 'End3', False, True, True, 'LATEX', 33, 1, [(17+25j), 92], 'L1', 67, 89.56, 33.33, 'KESHAV', (36-8j), 'L4', 'CUBIX', 'Amol', 'E1', 'x', ['Alpha', 'Beta', 'Gamma'], 10, ['25th', '26th', '27th', '28th'], (45+9j), 39.69, 2, 'Append', 4, 'Last1', 'End2', 'Prashant', [(15+15j), 22], [(15+15j), 22], 't', ' ', '6th', (20+20j), [(89-7j), 56, 78.99, True, False], ['Theta'], 'VIETNAAM', ('A', 'B', 'C'), '4th', 'I', '4', ['New', 'Plugin'], (36-8j), '7th']\n"
     ]
    },
    {
     "data": {
      "text/plain": [
       "(list, 62)"
      ]
     },
     "execution_count": 202,
     "metadata": {},
     "output_type": "execute_result"
    }
   ],
   "source": [
    "# Swap/interchange index location of the elements in a List\n",
    "Hetero3[1], Hetero3[2] = Hetero3[2], Hetero3[1]\n",
    "print(Hetero3)\n",
    "type(Hetero3), len(Hetero3)                 # Swap index elements 1,2 with 2,1"
   ]
  },
  {
   "cell_type": "code",
   "execution_count": 203,
   "metadata": {},
   "outputs": [
    {
     "name": "stdout",
     "output_type": "stream",
     "text": [
      "7th 7th\n"
     ]
    }
   ],
   "source": [
    "print(Hetero3[-1], Hetero3[len(Hetero3)-1])            # last element from backward"
   ]
  },
  {
   "cell_type": "code",
   "execution_count": 204,
   "metadata": {},
   "outputs": [
    {
     "name": "stdout",
     "output_type": "stream",
     "text": [
      "[10.1, '1', 'e', 'h', '5th', 'n', False, 'Komal', 'L2', ['Six', 'Sigma'], 'OPPO', 'L3', (78-5j), 39, 3, 'PAINKILLER', 'End3', False, True, True, 'LATEX', 33, 1, [(17+25j), 92], 'L1', 67, 89.56, 33.33, 'KESHAV', (36-8j), 'L4', 'CUBIX', 'Amol', 'E1', 'x', ['Alpha', 'Beta', 'Gamma'], 10, ['25th', '26th', '27th', '28th'], (45+9j), 39.69, 2, 'Append', 4, 'Last1', 'End2', 'Prashant', [(15+15j), 22], [(15+15j), 22], 't', ' ', '6th', (20+20j), [(89-7j), 56, 78.99, True, False], ['Theta'], 'VIETNAAM', ('A', 'B', 'C'), '4th', 'I', '4', ['New', 'Plugin'], (36-8j), '7th']\n",
      "[10.1, '1', 'e', 'h', '5th', 'n', False, 'Komal', 'L2', ['Six', 'Sigma'], 'OPPO', 'L3', (78-5j), 39, 3, 'PAINKILLER', 'End3', False, True, True, 'LATEX', 33, 1, [(17+25j), 92], 'L1', 67, 89.56, 33.33, 'KESHAV', (36-8j), 'L4', 'CUBIX', 'Amol', 'E1', 'x', ['Alpha', 'Beta', 'Gamma'], 10, ['25th', '26th', '27th', '28th'], (45+9j), 39.69, 2, 'Append', 4, 'Last1', 'End2', 'Prashant', [(15+15j), 22], [(15+15j), 22], 't', ' ', '6th', (20+20j), [(89-7j), 56, 78.99, True, False], ['Theta'], 'VIETNAAM', ('A', 'B', 'C'), '4th', 'I', '4', ['New', 'Plugin'], (36-8j)]\n"
     ]
    }
   ],
   "source": [
    "print(Hetero3)\n",
    "Hetero3.pop()                 # Bydefault delete the last index Element\n",
    "print(Hetero3)"
   ]
  },
  {
   "cell_type": "code",
   "execution_count": 205,
   "metadata": {},
   "outputs": [
    {
     "name": "stdout",
     "output_type": "stream",
     "text": [
      "[10.1, '1', 'e', 'h', '5th', 'n', False, 'Komal', 'L2', ['Six', 'Sigma'], 'OPPO', 'L3', (78-5j), 39, 3, 'PAINKILLER', 'End3', False, True, True, 'LATEX', 33, 1, [(17+25j), 92], 'L1', 67, 89.56, 33.33, 'KESHAV', (36-8j), 'L4', 'CUBIX', 'Amol', 'E1', 'x', ['Alpha', 'Beta', 'Gamma'], 10, ['25th', '26th', '27th', '28th'], (45+9j), 39.69, 2, 'Append', 4, 'Last1', 'End2', 'Prashant', [(15+15j), 22], [(15+15j), 22], 't', ' ', '6th', (20+20j), [(89-7j), 56, 78.99, True, False], ['Theta'], 'VIETNAAM', ('A', 'B', 'C'), '4th', 'I', '4', ['New', 'Plugin'], (36-8j)]\n",
      "[10.1, '1', 'e', 'h', '5th', 'n', False, 'Komal', 'L2', ['Six', 'Sigma'], 'OPPO', 'L3', (78-5j), 39, 3, 'PAINKILLER', 'End3', False, True, True, 'LATEX', 33, 1, [(17+25j), 92], 'L1', 67, 89.56, 33.33, 'KESHAV', (36-8j), 'L4', 'CUBIX', 'Amol', 'E1', 'x', ['Alpha', 'Beta', 'Gamma'], 10, ['25th', '26th', '27th', '28th'], (45+9j), 39.69, 2, 'Append', 4, 'Last1', 'End2', 'Prashant', [(15+15j), 22], [(15+15j), 22], 't', ' ', '6th', (20+20j), [(89-7j), 56, 78.99, True, False], ['Theta'], 'VIETNAAM', ('A', 'B', 'C'), '4th', 'I', '4', ['New', 'Plugin']]\n"
     ]
    }
   ],
   "source": [
    "print(Hetero3)\n",
    "Hetero3.pop()                # Bydefault delete the last index Element\n",
    "print(Hetero3)"
   ]
  },
  {
   "cell_type": "code",
   "execution_count": 206,
   "metadata": {},
   "outputs": [
    {
     "name": "stdout",
     "output_type": "stream",
     "text": [
      "[10.1, '1', 'e', 'h', '5th', 'n', False, 'Komal', 'L2', ['Six', 'Sigma'], 'OPPO', 'L3', (78-5j), 39, 3, 'PAINKILLER', 'End3', False, True, True, 'LATEX', 33, 1, [(17+25j), 92], 'L1', 67, 89.56, 33.33, 'KESHAV', (36-8j), 'L4', 'CUBIX', 'Amol', 'E1', 'x', ['Alpha', 'Beta', 'Gamma'], 10, ['25th', '26th', '27th', '28th'], (45+9j), 39.69, 2, 'Append', 4, 'Last1', 'End2', 'Prashant', [(15+15j), 22], [(15+15j), 22], 't', ' ', '6th', (20+20j), [(89-7j), 56, 78.99, True, False], ['Theta'], 'VIETNAAM', ('A', 'B', 'C'), '4th', 'I', '4', ['New', 'Plugin']]\n",
      "[10.1, '1', 'e', 'h', '5th', 'n', False, 'Komal', 'L2', ['Six', 'Sigma'], 'L3', (78-5j), 39, 3, 'PAINKILLER', 'End3', False, True, True, 'LATEX', 33, 1, [(17+25j), 92], 'L1', 67, 89.56, 33.33, 'KESHAV', (36-8j), 'L4', 'CUBIX', 'Amol', 'E1', 'x', ['Alpha', 'Beta', 'Gamma'], 10, ['25th', '26th', '27th', '28th'], (45+9j), 39.69, 2, 'Append', 4, 'Last1', 'End2', 'Prashant', [(15+15j), 22], [(15+15j), 22], 't', ' ', '6th', (20+20j), [(89-7j), 56, 78.99, True, False], ['Theta'], 'VIETNAAM', ('A', 'B', 'C'), '4th', 'I', '4', ['New', 'Plugin']]\n"
     ]
    }
   ],
   "source": [
    "print(Hetero3)\n",
    "Hetero3.pop(10)                  # Delete the mentioned 10th Index Element, one element at a time\n",
    "print(Hetero3)"
   ]
  },
  {
   "cell_type": "code",
   "execution_count": 207,
   "metadata": {},
   "outputs": [
    {
     "name": "stdout",
     "output_type": "stream",
     "text": [
      "[10.1, '1', 'e', 'h', '5th', 'n', False, 'Komal', 'L2', ['Six', 'Sigma'], 'L3', (78-5j), 39, 3, 'PAINKILLER', 'End3', False, True, True, 'LATEX', 33, 1, [(17+25j), 92], 'L1', 67, 89.56, 33.33, 'KESHAV', (36-8j), 'L4', 'CUBIX', 'Amol', 'E1', 'x', ['Alpha', 'Beta', 'Gamma'], 10, ['25th', '26th', '27th', '28th'], (45+9j), 39.69, 2, 'Append', 4, 'Last1', 'End2', [(15+15j), 22], [(15+15j), 22], 't', ' ', '6th', (20+20j), [(89-7j), 56, 78.99, True, False], ['Theta'], 'VIETNAAM', ('A', 'B', 'C'), '4th', 'I', '4', ['New', 'Plugin']]\n"
     ]
    }
   ],
   "source": [
    "Hetero3.remove(\"Prashant\")          # Directly type the Element value which you want to remove\n",
    "print(Hetero3)                                  # Element \"Prashant\" has been Removed"
   ]
  },
  {
   "cell_type": "code",
   "execution_count": 208,
   "metadata": {},
   "outputs": [
    {
     "ename": "AttributeError",
     "evalue": "'list' object has no attribute 'discard'",
     "output_type": "error",
     "traceback": [
      "\u001b[0;31m---------------------------------------------------------------------------\u001b[0m",
      "\u001b[0;31mAttributeError\u001b[0m                            Traceback (most recent call last)",
      "Cell \u001b[0;32mIn[208], line 1\u001b[0m\n\u001b[0;32m----> 1\u001b[0m \u001b[43mHetero3\u001b[49m\u001b[38;5;241;43m.\u001b[39;49m\u001b[43mdiscard\u001b[49m(\u001b[38;5;124m\"\u001b[39m\u001b[38;5;124mCUBIX\u001b[39m\u001b[38;5;124m\"\u001b[39m)       \u001b[38;5;66;03m# discard() is applicable for Set only. One Element at a time\u001b[39;00m\n\u001b[1;32m      2\u001b[0m \u001b[38;5;28mprint\u001b[39m(Hetero3)\n",
      "\u001b[0;31mAttributeError\u001b[0m: 'list' object has no attribute 'discard'"
     ]
    }
   ],
   "source": [
    "Hetero3.discard(\"CUBIX\")       # discard() is applicable for Set only. One Element at a time\n",
    "print(Hetero3)"
   ]
  },
  {
   "cell_type": "code",
   "execution_count": 209,
   "metadata": {},
   "outputs": [
    {
     "data": {
      "text/plain": [
       "1"
      ]
     },
     "execution_count": 209,
     "metadata": {},
     "output_type": "execute_result"
    }
   ],
   "source": [
    "Hetero3.count(36-8j) # Type the Element value & you will get its frequency/repeatation in the List Hetero3"
   ]
  },
  {
   "cell_type": "code",
   "execution_count": 210,
   "metadata": {},
   "outputs": [
    {
     "data": {
      "text/plain": [
       "(2, 3, 3)"
      ]
     },
     "execution_count": 210,
     "metadata": {},
     "output_type": "execute_result"
    }
   ],
   "source": [
    "# Type the Element value & you will get its frequency/repeatation\n",
    "# Here the Single String is \"AnwneAnshA\"\n",
    "# Type any sigle alphabet/part of the String inside String.count() and you will get the repeatation of that alphabet/part\n",
    "\n",
    "String = \"AnwneAnshA\"\n",
    "\n",
    "# String.count(\"An\")   How many times \"An\" is within the word \"AnwneAnshA\"\n",
    "\n",
    "String.count(\"An\"), String.count(\"n\"), String.count(\"A\")"
   ]
  },
  {
   "cell_type": "code",
   "execution_count": 211,
   "metadata": {},
   "outputs": [
    {
     "ename": "TypeError",
     "evalue": "'<' not supported between instances of 'str' and 'float'",
     "output_type": "error",
     "traceback": [
      "\u001b[0;31m---------------------------------------------------------------------------\u001b[0m",
      "\u001b[0;31mTypeError\u001b[0m                                 Traceback (most recent call last)",
      "Cell \u001b[0;32mIn[211], line 1\u001b[0m\n\u001b[0;32m----> 1\u001b[0m \u001b[43mHetero3\u001b[49m\u001b[38;5;241;43m.\u001b[39;49m\u001b[43msort\u001b[49m\u001b[43m(\u001b[49m\u001b[43m)\u001b[49m\n",
      "\u001b[0;31mTypeError\u001b[0m: '<' not supported between instances of 'str' and 'float'"
     ]
    }
   ],
   "source": [
    "Hetero3.sort() # You can't sort mixed data type elements"
   ]
  },
  {
   "cell_type": "code",
   "execution_count": 22,
   "metadata": {},
   "outputs": [
    {
     "name": "stdout",
     "output_type": "stream",
     "text": [
      "[1, 2, 3, True, 4.9, 5, False, 78.4, 68, True, 33, False, 22, 12]\n",
      "[False, False, 1, True, True, 2, 3, 4.9, 5, 12, 22, 33, 68, 78.4]\n"
     ]
    },
    {
     "data": {
      "text/plain": [
       "(False, 78.4, 231.3)"
      ]
     },
     "execution_count": 22,
     "metadata": {},
     "output_type": "execute_result"
    }
   ],
   "source": [
    "NumList = [1, 2, 3, True, 4.9, 5, False, 78.4, 68, True, 33, False, 22, 12]\n",
    "print(NumList)\n",
    "type(NumList), len(NumList)\n",
    "                   # sort() works with Integer, Float, Boolean mix Tuple element data types simultaneously & with String seperately\n",
    "NumList.sort()     # sort() sequence priority to the String Integers -> Uppercase alphabets -> lowercase alphabets\n",
    "print(NumList)\n",
    "\n",
    "min(NumList), max(NumList), sum(NumList)        # Shows minimum & maximum element values of NumList     # Shows the addition of All elements"
   ]
  },
  {
   "cell_type": "code",
   "execution_count": 213,
   "metadata": {},
   "outputs": [
    {
     "ename": "AttributeError",
     "evalue": "'list' object has no attribute 'arange'",
     "output_type": "error",
     "traceback": [
      "\u001b[0;31m---------------------------------------------------------------------------\u001b[0m",
      "\u001b[0;31mAttributeError\u001b[0m                            Traceback (most recent call last)",
      "Cell \u001b[0;32mIn[213], line 1\u001b[0m\n\u001b[0;32m----> 1\u001b[0m \u001b[43mHetero3\u001b[49m\u001b[38;5;241;43m.\u001b[39;49m\u001b[43marange\u001b[49m()\n",
      "\u001b[0;31mAttributeError\u001b[0m: 'list' object has no attribute 'arange'"
     ]
    }
   ],
   "source": [
    "Hetero3.arange() # arange is available in Numpy only\n",
    "                 # arange(start=*,stop=*,step=*,dtype=*)\n",
    "                 # arange() function is used for creating Array"
   ]
  },
  {
   "cell_type": "code",
   "execution_count": 214,
   "metadata": {},
   "outputs": [
    {
     "ename": "TypeError",
     "evalue": "'<' not supported between instances of 'str' and 'float'",
     "output_type": "error",
     "traceback": [
      "\u001b[0;31m---------------------------------------------------------------------------\u001b[0m",
      "\u001b[0;31mTypeError\u001b[0m                                 Traceback (most recent call last)",
      "Cell \u001b[0;32mIn[214], line 1\u001b[0m\n\u001b[0;32m----> 1\u001b[0m \u001b[38;5;28;43mmin\u001b[39;49m\u001b[43m(\u001b[49m\u001b[43mHetero3\u001b[49m\u001b[43m)\u001b[49m\n",
      "\u001b[0;31mTypeError\u001b[0m: '<' not supported between instances of 'str' and 'float'"
     ]
    }
   ],
   "source": [
    "min(Hetero3) # You cant find min value in mixed data type elements"
   ]
  },
  {
   "cell_type": "code",
   "execution_count": 215,
   "metadata": {},
   "outputs": [
    {
     "ename": "TypeError",
     "evalue": "'>' not supported between instances of 'str' and 'float'",
     "output_type": "error",
     "traceback": [
      "\u001b[0;31m---------------------------------------------------------------------------\u001b[0m",
      "\u001b[0;31mTypeError\u001b[0m                                 Traceback (most recent call last)",
      "Cell \u001b[0;32mIn[215], line 1\u001b[0m\n\u001b[0;32m----> 1\u001b[0m \u001b[38;5;28;43mmax\u001b[39;49m\u001b[43m(\u001b[49m\u001b[43mHetero3\u001b[49m\u001b[43m)\u001b[49m\n",
      "\u001b[0;31mTypeError\u001b[0m: '>' not supported between instances of 'str' and 'float'"
     ]
    }
   ],
   "source": [
    "max(Hetero3) # You cant find max value in mixed data type elements"
   ]
  },
  {
   "cell_type": "code",
   "execution_count": 216,
   "metadata": {},
   "outputs": [
    {
     "ename": "TypeError",
     "evalue": "unsupported operand type(s) for +: 'float' and 'str'",
     "output_type": "error",
     "traceback": [
      "\u001b[0;31m---------------------------------------------------------------------------\u001b[0m",
      "\u001b[0;31mTypeError\u001b[0m                                 Traceback (most recent call last)",
      "Cell \u001b[0;32mIn[216], line 1\u001b[0m\n\u001b[0;32m----> 1\u001b[0m \u001b[38;5;28;43msum\u001b[39;49m\u001b[43m(\u001b[49m\u001b[43mHetero3\u001b[49m\u001b[43m)\u001b[49m\n",
      "\u001b[0;31mTypeError\u001b[0m: unsupported operand type(s) for +: 'float' and 'str'"
     ]
    }
   ],
   "source": [
    "sum(Hetero3) # You cant find sum of mixed data type elements"
   ]
  },
  {
   "cell_type": "markdown",
   "metadata": {},
   "source": [
    "## Tuples are immutable in nature\n",
    "1. Tuple is immutable variable, you can't add(Element), append([E1, E2, E3]) List[] format, extend([E1, E2, E3]), remove(Element), pop(Index), discard(Element), insert(Index, [E1, E2, E3]) List[] format, swap, sort(), shuffle() & replace() elements of Tuple\n",
    "2. Additionally add(Element), discard(Element) is applicable for Set only\n",
    "3. remove() is applicable for List & Set only. It removes first appearance & one element at a time.\n",
    "4. Tuple.index(Element) #Check the Index of mentioned element. One element at a time.\n",
    "5. Tuple[:] #indexing method\n",
    "6. Tuple[::3] #Tuple Indexing from start to end by hopping 3 elements cycle\n",
    "7. *\n",
    "8. Tuple_List = list(Tuple) #Tuple() got converted into List[]\n",
    "9.             Tuple_List[7], Tuple_List[3] = Tuple_List[5], Tuple_List[9] #List[] 7th index element, 3rd index element got\n",
    "11.                                                                      swapped with 5th index element & 9th index element.\n",
    "12.            Swapped_Tuple = tuple(Tuple_List) #Swapped List[] got converted back into Tuple()\n",
    "13. *\n",
    "14. Tuple_List = list(Tuple) #Convert Tuple() into List[],\n",
    "15.                              Tuple_List.append(e1) #Insert element e1 at the end position,\n",
    "16.                              Tuple_List.append([e2, e3, e4, e5]) #Insert multiple elements in List[] format at the end position,\n",
    "17.                              Tuple_List.append((e6, e7, e8, e9)) #Insert multiple elements in Tuple() format at the end position,\n",
    "18.                            Tuple_List.append({e10, e11, e12, e13}) #Insert multiple elements in Set{} format at the end position\n",
    "19.                                         Tuple = tuple(Tuple_List) #Convert back into Tuple().\n",
    "20. *\n",
    "21. Tuple_List = list(Tuple) #Convert Tuple() into List[],\n",
    "22.            Tuple_List.insert(index, e1) #Insert new single element e1 at the place of mentioned index,\n",
    "23.            Tuple_List.insert(index, [e2, e3, e4, e5]) #Insert new elements in List[] format at the place of mentioned index,\n",
    "24.            Tuple_List.insert(index, (e6, e7, e8, e9)) #Insert new elements in Tuple() format at the place of mentioned index,\n",
    "25.            Tuple_List.insert(index, {e10, e11, e12, e13}) #Insert new elements in Set{} fromat at the place of mentioned index\n",
    "26.                           Tuple = tuple(Tuple_List) #Convert back into Tuple().\n",
    "27. *\n",
    "28. Tuple_List = list(Tuple) #Convert Tuple() into List[],\n",
    "29.            Tuple_List[Index:0] = [e1] #Insert single element e1 as Array[] at the place of mentioned index,\n",
    "30.            Tuple_List[Index:0] = \"SPLIT\" #At the place of mentioned index, inserted word will be splitted as \"S\", \"P\", \"L\", \"I\",\n",
    "31.                                                                                                                             \"T\"\n",
    "32.            Tuple_List[index:0] = e2, e3, e4, e5 #Insert new multiple elements at the place of mentioned index\n",
    "33.            Tuple_List[index:0] = [[e6, e7, e8, e9]] #New multiple elements got inserted at the place of mentioned index\n",
    "34.                                                                                                       as List[] format.\n",
    "35.            Tuple_List[index:0] = [(e10, e11, e12, e13)] #New multiple elements got inserted at the place of mentioned\n",
    "36.                                                                                               index as Tuple() format.\n",
    "37.            Tuple_List[index:0] = [{e14, e15, e16, e17}] #New multiple elements got inserted at the place of mentioned\n",
    "38.                                                                                                 index as Set{} format.\n",
    "39.            Tuple_List[index:0] = e18, e19, [e20, e21], (e22, e23), {e24, e25} #Insert new elements at the place of mentioned\n",
    "40.                                                                             index as Plain, List[], Tuple(), & Set{} format.\n",
    "41.            Tuple_List[index:0] = e1, e2, e3, e4, [e5, e6, e7] #Insert new multiple elements along with nested list elements\n",
    "42.                                                                                             at the place of mentioned index.\n",
    "43.                   Tuple = tuple(Tuple_List) #Convert back into Tuple().\n",
    "44. *\n",
    "45. Tuple_List = list(Tuple) #Convert Tuple() into List[],\n",
    "46.         Tuple_List.extend([e1]) #Single element got inserted at the end position as Array[]\n",
    "47.         Tuple_List.extend(\"SPLIT\") #Single string element got inserted as \"S\", \"P\", \"L\", \"I\", \"T\" at the end position\n",
    "48.         Tuple_List.extend([[e2, e3]]) #Elements got inserted at the end position as List[] format\n",
    "49.         Tuple_List.extend([(e4, e5)]) #Elements got inserted at the end position as Tuple() format\n",
    "50.         Tuple_List.extend([{e6, e7}]) #Elements got inserted at the end position as Set{} format\n",
    "51.         Tuple_List.extend([e8, e9, [e10, e11], (e12, e13), {e14, e15}]) #Elements got inserted as Plain, List[], Tuple() & Set{}\n",
    "52.                                                                                                                       format\n",
    "53.         Tuple = tuple(Tuple_List) #Convert back into Tuple()\n",
    "54.  *\n",
    "56. Tuple_List = list(Tuple) #Convert Tuple() into List[],\n",
    "57.         Tuple_List[index] = e1 #Mentioned single index element got replaced by single alone e1 element,\n",
    "58.         Tuple_List[index] = e2, e3, e4, e5 #Mentioned single index element got replaced by e2, e3, e4, e5 elements as Tuple()\n",
    "59.                                                                                                                       format,\n",
    "60.         Tuple_List[index] = [e6, e7, e8, e9] #Mentioned single index element got replaced by e6, e7, e8, e9 elements as List[]\n",
    "61.                                                                                                                        format,\n",
    "62.         Tuple_List[index] = {e10, e11, e12, e13} #Mentioned single index element got replaced by new elements as Set{} format,\n",
    "63.         Tuple_List[index] = e14, e15, [e16, e17], {e18, e19} #Mentioned single index element got replaced by new elements\n",
    "64.                                                                                                     as Tuple() format.\n",
    "65.         Tuple = tuple(Tuple_List) #Convert back into Tuple().\n",
    "66. *\n",
    "71. Tuple3 = Tuple1 + Tuple2 #Tuple Concatination.\n",
    "72. Tuple.count(Element) #Count Element frequency, count one element at a time.\n",
    "73. *\n",
    "74. RandSamp_Tuple_List = random.sample(Tuple, len(Tuple)) #Pick randomly len(Tuple) no of sample elements from Tuple() &\n",
    "75.                                                                                                  convert it to List[].\n",
    "76.            RandSamp_Tuple = tuple(RandSamp_Tuple_List) #Convert back that random sample List[] into Tuple() random sample.\n",
    "77. *\n",
    "78. Tuple_List = list(Tuple) #Convert Tuple() into List[],\n",
    "79.                         random.shuffle(Tuple_List) #Shuffle the Tuple_List elements Randomly,\n",
    "80.                         Shuffle_Tuple = tuple(Tuple_List) #Convert back into Tuple().\n",
    "81. *\n",
    "82. Tuple_List = list(Tuple) #Convert Tuple() into List[],\n",
    "83.          Tuple_List.pop() #By default delete the last Index element,\n",
    "84.          Tuple_List.pop(index) #delete the mentioned Index element,\n",
    "85.          Tuple = tuple(Tuple_List) #Convert back into Tuple().\n",
    "86. *\n",
    "87. Tuple_List = list(Tuple) #Convert Tuple() into List[],\n",
    "88.          Tuple_List.sort() #When the List element mix data types are Integer, Float, Bool, simultaneously & String seperately.\n",
    "89.          Tuple = tuple(Tuple_List) #Convert back into Tuple(). sort() sequence priority to the\n",
    "90.                                   String Integers -> Uppercase alphabets -> lowercasealphabets.\n",
    "95. *\n",
    "96. Tuple_Set = set(Tuple) #Convert plain Tuple() into Set{}, selects unique elements only,\n",
    "56.          Tuple_Set.add(Element) #Insert one element at a time in the Set{},\n",
    "57.          Tuple_Set.add((e1, e2)) #Insert multiple elements as Tuple() format\n",
    "58.          Tuple_Set.add(frozenset({e3, e4})) #Insert multiple elements as frozenset({}) format\n",
    "59.          Tuple = tuple(Tuple_Set) #Convert back Set{} into Tuple().\n",
    "96. *\n",
    "97. Tuple_List = list(Tuple) #Convert Plain Tuple into List[],\n",
    "98.          Tuple_List.reverse(Element) #This has reversed the placement of List[] elements letters in Backward direction\n",
    "99.          Tuple = tuple(Tuple_List) #Convert back into Tuple()\n",
    "100. *\n",
    "101. Tuple_List = list(Tuple) #Convert Plain Tuple into List[],\n",
    "48.          Tuple_List.remove(Element) #delete the mentioned List[] element,\n",
    "49.          Tuple = tuple(Tuple_List) #Convert back into Tuple().\n",
    "62. *\n",
    "63. Set_Tuple = set(Tuple) #Convert Plain Tuple into Set{},\n",
    "64.          Set_Tuple.discard(Element) #delete the mentioned Set{} element,\n",
    "65.          Tuple = tuple(Set_Tuple) #Convert back into Tuple().\n",
    "66. *\n",
    "67. Concated_Tuple = Tuple1 + Tuple2 + Tuple3 #Concatination of multiple Tuple() variables & saved into a new Tuple() variable.\n",
    "68. Tuple1 += Tuple2 + Tuple3 #Advanced concatination happened within Tuple1\n",
    "69. Tuple.reverse() #This will reverse the placement of List[] elements in Backward\n",
    "70. Sorted_List = sorted(Tuple) #sorted() converts Tuple() into sorted List[], it works with Integer, Float, Boolean mix element data\n",
    "71.                           types simultaneously & with String seperately. sorted() sequence priority to the\n",
    "72.                           String Integers -> Uppercase alphabets -> lowercasealphabets.\n",
    "73.                           Sorted_Tuple = tuple(Sorted_List) #Converting back List[] into Tuple() but the tuple is sorted now.\n",
    "74. min(Tuple), max(Tuple), sum(Tuple) #When the Tuple element data types are Integer, Float, Bool"
   ]
  },
  {
   "cell_type": "code",
   "execution_count": 12,
   "metadata": {},
   "outputs": [],
   "source": [
    "# For tuple creation ----> ()\n",
    "# Round bracket is meant for Tuple\n",
    "# It is not mandartory to provide elements inside () for Tuple\n",
    "# We can create tuples without using any brackets also\n",
    "# Tuple is almost similar like List but Tuples are not editable (immutable)\n",
    "# Iteration in tuple is faster than list, reduce time in forming Algorithm\n",
    "# You can't perform Arithmatic operations between Tuples\n",
    "# Round Bracket crestes Tuples\n",
    "# Nested Tuple----- When you create a Tuple inside a Tuple\n",
    "# Homogenous Tuple ----- Tuple following only one datatype\n",
    "# You can't perform Advanced indexing with Tuple\n",
    "# Tuple is immutable variable, you cant add, remove, insert, swap, sort, shuffle & replace elements of Tuple\n",
    "HomoTuple = (1, 2, 3, 4, 5, 6, 7, 8, 9, 10) # Tuple containing only integers\n",
    "MixValues = (\"KESHAV\", 45+9j, True, 39.69, 39) # Tuple containing all type of datas\n",
    "NestTuple = (\"KESHAV\", 45+9j, True, 39.69, 39, (1,2,3,4,5,6,7,8,9,10)) # Homo1 integer Tuple has been taken inside NestTuple"
   ]
  },
  {
   "cell_type": "code",
   "execution_count": 13,
   "metadata": {},
   "outputs": [
    {
     "name": "stdout",
     "output_type": "stream",
     "text": [
      "('KESHAV', (45+9j), True, 39.69, 39, 89)\n"
     ]
    },
    {
     "data": {
      "text/plain": [
       "(tuple, 6)"
      ]
     },
     "execution_count": 13,
     "metadata": {},
     "output_type": "execute_result"
    }
   ],
   "source": [
    "Tuple2 = \"KESHAV\", 45+9j, True, 39.69, 39, 89              # Tuple without round bracket\n",
    "print(Tuple2)\n",
    "type(Tuple2), len(Tuple2)                             # It is not mandartory to provide elements inside () for Tuple"
   ]
  },
  {
   "cell_type": "code",
   "execution_count": 14,
   "metadata": {},
   "outputs": [
    {
     "data": {
      "text/plain": [
       "(1, 0, 5)"
      ]
     },
     "execution_count": 14,
     "metadata": {},
     "output_type": "execute_result"
    }
   ],
   "source": [
    "Tuple2.index(45+9j), Tuple2.index(\"KESHAV\"), NestTuple.index((1,2,3,4,5,6,7,8,9,10)) # Type the Element value & you will get its index value"
   ]
  },
  {
   "cell_type": "code",
   "execution_count": 15,
   "metadata": {},
   "outputs": [
    {
     "name": "stdout",
     "output_type": "stream",
     "text": [
      "('KESHAV', (45+9j), True, 39.69, 39, (1, 2, 3, 4, 5, 6, 7, 8, 9, 10))\n"
     ]
    }
   ],
   "source": [
    "print(NestTuple[:])"
   ]
  },
  {
   "cell_type": "code",
   "execution_count": 16,
   "metadata": {},
   "outputs": [
    {
     "name": "stdout",
     "output_type": "stream",
     "text": [
      "('KESHAV', 39.69)\n"
     ]
    }
   ],
   "source": [
    "print(NestTuple[::3])   # Tuple indexing from start to end by hopping 3 elements cycle"
   ]
  },
  {
   "cell_type": "code",
   "execution_count": 17,
   "metadata": {},
   "outputs": [
    {
     "name": "stdout",
     "output_type": "stream",
     "text": [
      "(56, (99-8j), True, None, 78.68)\n",
      "(77, 68.89, (78-9j), None, 'Panna')\n",
      "\n",
      "(56, None, True, None, 56)\n",
      "(77, None, (78-9j), None, 77)\n"
     ]
    }
   ],
   "source": [
    "Tuple1 = 56, 99-8j, True, None, 78.68       # Create Tuple\n",
    "Tuple2 = 77, 68.89, 78-9j, None, \"Panna\"     # Create Tuple\n",
    "\n",
    "print(Tuple1)\n",
    "print(Tuple2)\n",
    "\n",
    "print()\n",
    "# Tuple() got converted into list[]\n",
    "# Tuple_List[] index element 1, 4 got swapped with index element 3, 0\n",
    "# swapped list[] got converted back into swapped tuple()\n",
    "\n",
    "Tuple1_List = list(Tuple1) ; Tuple1_List[1], Tuple1_List[4] = Tuple1_List[3], Tuple1_List[0] ; Swapped_Tuple1 = tuple(Tuple1_List)\n",
    "Tuple2_List = list(Tuple2) ; Tuple2_List[1], Tuple2_List[4] = Tuple2_List[3], Tuple2_List[0] ; Swapped_Tuple2 = tuple(Tuple2_List)\n",
    "\n",
    "print(Swapped_Tuple1)\n",
    "print(Swapped_Tuple2)"
   ]
  },
  {
   "cell_type": "code",
   "execution_count": 21,
   "metadata": {},
   "outputs": [
    {
     "name": "stdout",
     "output_type": "stream",
     "text": [
      "(1, 2, 3, 4, 5, 6, 7, 8, 9, 10, 11, 12)\n",
      "(1, 2, 3, 4, 5, 6, 7, 8, 9, 10, 11, 12)\n"
     ]
    }
   ],
   "source": [
    "Tup1 = 1, 2, 3, 4\n",
    "Tup2 = 5, 6, 7, 8\n",
    "Tup3 = 9, 10, 11, 12\n",
    "\n",
    "Concated_Tuple = Tup1 + Tup2 + Tup3  # Multiple Tuple() got concatinated into a new Tuple() variable\n",
    "\n",
    "print(Concated_Tuple)\n",
    "\n",
    "Tup1 += Tup2 + Tup3  # Advanced concatination happened within Tup1\n",
    "\n",
    "print(Tup1)"
   ]
  },
  {
   "cell_type": "code",
   "execution_count": 18,
   "metadata": {},
   "outputs": [
    {
     "name": "stdout",
     "output_type": "stream",
     "text": [
      "['KESHAV', (45+9j), True, 39.69, 39, (1, 2, 3, 4, 5, 6, 7, 8, 9, 10)]\n",
      "\n",
      "['KESHAV', (45+9j), True, 39.69, 39, (1, 2, 3, 4, 5, 6, 7, 8, 9, 10), 'End']\n",
      "\n",
      "['KESHAV', (45+9j), True, 39.69, 39, (1, 2, 3, 4, 5, 6, 7, 8, 9, 10), 'End', [34, 'List', (67.9+6j), (-56-4j)]]\n",
      "\n",
      "('KESHAV', (45+9j), True, 39.69, 39, (1, 2, 3, 4, 5, 6, 7, 8, 9, 10), 'End', [34, 'List', (67.9+6j), (-56-4j)])\n"
     ]
    }
   ],
   "source": [
    "List_NestTuple = list(NestTuple)    # Convert NestTuple into List()\n",
    "print(List_NestTuple)\n",
    "print()\n",
    "List_NestTuple.append(\"End\")       # Insert single element at the end position\n",
    "print(List_NestTuple)\n",
    "print()\n",
    "List_NestTuple.append([34, \"List\", 67.9 + 6j, -56 - 4j])  # Insert multiple elements in List[] format at the end position\n",
    "print(List_NestTuple)\n",
    "print()\n",
    "NestTuple = tuple(List_NestTuple)   # Convert back NestTuple into tuple()\n",
    "print(NestTuple)"
   ]
  },
  {
   "cell_type": "code",
   "execution_count": 19,
   "metadata": {},
   "outputs": [
    {
     "name": "stdout",
     "output_type": "stream",
     "text": [
      "['KESHAV', (45+9j), True, 39.69, 39, (1, 2, 3, 4, 5, 6, 7, 8, 9, 10), 'End', [34, 'List', (67.9+6j), (-56-4j)]]\n",
      "\n",
      "['KESHAV', (45+9j), True, 39.69, 39, (1, 2, 3, 4, 5, 6, 7, 8, 9, 10), '6th', 'End', [34, 'List', (67.9+6j), (-56-4j)]]\n",
      "\n",
      "['KESHAV', (45+9j), True, 39.69, 39, (1, 2, 3, 4, 5, 6, 7, 8, 9, 10), '6th', 'End', ['8th', 56, (78-9j)], [34, 'List', (67.9+6j), (-56-4j)]]\n",
      "\n",
      "('KESHAV', (45+9j), True, 39.69, 39, (1, 2, 3, 4, 5, 6, 7, 8, 9, 10), '6th', 'End', ['8th', 56, (78-9j)], [34, 'List', (67.9+6j), (-56-4j)])\n"
     ]
    }
   ],
   "source": [
    "List_NestTuple = list(NestTuple)           # Convert NestTuple into List()\n",
    "print(List_NestTuple)\n",
    "print()\n",
    "List_NestTuple.insert(6, \"6th\")     # Insert new single string element \"6th\" at the place of mentioned index\n",
    "print(List_NestTuple)\n",
    "print()\n",
    "List_NestTuple.insert(8, [\"8th\", 56, 78 - 9j])      #Insert new elements in List[] format at the place of mentioned index\n",
    "print(List_NestTuple)\n",
    "print()\n",
    "NestTuple = tuple(List_NestTuple)            # Convert back NestTuple into tuple()\n",
    "print(NestTuple)"
   ]
  },
  {
   "cell_type": "code",
   "execution_count": 12,
   "metadata": {},
   "outputs": [
    {
     "name": "stdout",
     "output_type": "stream",
     "text": [
      "<class 'tuple'>\n",
      "[9, 8, 7, 6, 5, 4, 3, 2, 1]\n",
      "\n",
      "(9, 8, 7, 6, 5, 4, 3, 2, 1)\n"
     ]
    }
   ],
   "source": [
    "Tuple = 1, 2, 3, 4, 5, 6, 7, 8, 9\n",
    "print(type(Tuple))\n",
    "Tuple_List = list(Tuple)             # Convert Plain Tuple() into List[]\n",
    "Tuple_List.reverse()              # This has reversed the placement of List[] elements in Backward direction\n",
    "print(Tuple_List)\n",
    "Tuple_Reversed = tuple(Tuple_List)  # Convert back the List[] into plain Tuple()\n",
    "print()\n",
    "print(Tuple_Reversed)"
   ]
  },
  {
   "cell_type": "code",
   "execution_count": 20,
   "metadata": {},
   "outputs": [
    {
     "name": "stdout",
     "output_type": "stream",
     "text": [
      "['KESHAV', (45+9j), True, 39.69, 39, (1, 2, 3, 4, 5, 6, 7, 8, 9, 10), '6th', 'End', ['8th', 56, (78-9j)], [34, 'List', (67.9+6j), (-56-4j)]]\n",
      "\n",
      "['KESHAV', (45+9j), True, 39.69, 39, (1, 2, 3, 4, 5, 6, 7, 8, 9, 10), '6th', 'End', '8th', ['8th', 56, (78-9j)], [34, 'List', (67.9+6j), (-56-4j)]]\n",
      "\n",
      "['KESHAV', (45+9j), True, 39.69, 39, '5th', 67.56, (7-69j), 87, (1, 2, 3, 4, 5, 6, 7, 8, 9, 10), '6th', 'End', '8th', ['8th', 56, (78-9j)], [34, 'List', (67.9+6j), (-56-4j)]]\n",
      "\n",
      "('KESHAV', (45+9j), True, 39.69, 39, '5th', 67.56, (7-69j), 87, (1, 2, 3, 4, 5, 6, 7, 8, 9, 10), '6th', 'End', '8th', ['8th', 56, (78-9j)], [34, 'List', (67.9+6j), (-56-4j)])\n"
     ]
    }
   ],
   "source": [
    "List_NestTuple = list(NestTuple)\n",
    "print(List_NestTuple)\n",
    "print()\n",
    "List_NestTuple[8:0] = [\"8th\"] # Insert single element \"8th\" as array at the place of mentioned index\n",
    "print(List_NestTuple)\n",
    "print()\n",
    "List_NestTuple[5:0] = \"5th\", 67.56, 7 - 69j, 87 # Insert new elements at the place of mentioned index\n",
    "print(List_NestTuple)\n",
    "print()\n",
    "NestTuple = tuple(List_NestTuple)  # Convert back into tuple()\n",
    "print(NestTuple)"
   ]
  },
  {
   "cell_type": "code",
   "execution_count": 21,
   "metadata": {},
   "outputs": [
    {
     "name": "stdout",
     "output_type": "stream",
     "text": [
      "['KESHAV', (45+9j), True, 39.69, 39, '5th', 67.56, (7-69j), 87, (1, 2, 3, 4, 5, 6, 7, 8, 9, 10), '6th', 'End', '8th', ['8th', 56, (78-9j)], [34, 'List', (67.9+6j), (-56-4j)]]\n",
      "\n",
      "['KESHAV', (45+9j), True, 39.69, 39, '5th', 67.56, (7-69j), 88.99, (1, 2, 3, 4, 5, 6, 7, 8, 9, 10), '6th', 'End', '8th', ['8th', 56, (78-9j)], [34, 'List', (67.9+6j), (-56-4j)]]\n",
      "\n",
      "['KESHAV', (45+9j), True, 39.69, 39, ('e1', 'e2', 'e3', 'e4'), 67.56, (7-69j), 88.99, (1, 2, 3, 4, 5, 6, 7, 8, 9, 10), '6th', 'End', '8th', ['8th', 56, (78-9j)], [34, 'List', (67.9+6j), (-56-4j)]]\n",
      "\n",
      "['KESHAV', (45+9j), True, 39.69, 39, ('e1', 'e2', 'e3', 'e4'), 67.56, [78, True, None, (-78+8j)], 88.99, (1, 2, 3, 4, 5, 6, 7, 8, 9, 10), '6th', 'End', '8th', ['8th', 56, (78-9j)], [34, 'List', (67.9+6j), (-56-4j)]]\n",
      "\n",
      "('KESHAV', (45+9j), True, 39.69, 39, ('e1', 'e2', 'e3', 'e4'), 67.56, [78, True, None, (-78+8j)], 88.99, (1, 2, 3, 4, 5, 6, 7, 8, 9, 10), '6th', 'End', '8th', ['8th', 56, (78-9j)], [34, 'List', (67.9+6j), (-56-4j)])\n"
     ]
    }
   ],
   "source": [
    "List_NestTuple = list(NestTuple)   # Tuple got converted into list()\n",
    "print(List_NestTuple)\n",
    "print()\n",
    "List_NestTuple[8] = 88.99          # Mentioned single index element got replaced by single alone 88.99 element\n",
    "print(List_NestTuple)\n",
    "print()\n",
    "List_NestTuple[5] = \"e1\", \"e2\", \"e3\", \"e4\"    # Mentioned single index element got replaced by e1, e2, e3, e4 elements. () tuple format\n",
    "print(List_NestTuple)\n",
    "print()\n",
    "List_NestTuple[7] = [78, True, None, -78 + 8j]     #Mentioned single index element got replaced by multiple elements. [] list format\n",
    "print(List_NestTuple)\n",
    "print()\n",
    "NestTuple = tuple(List_NestTuple)     # Convert back into tuple()\n",
    "print(NestTuple)"
   ]
  },
  {
   "cell_type": "code",
   "execution_count": 22,
   "metadata": {},
   "outputs": [
    {
     "name": "stdout",
     "output_type": "stream",
     "text": [
      "['KESHAV', (45+9j), True, 39.69, 39, ('e1', 'e2', 'e3', 'e4'), 67.56, [78, True, None, (-78+8j)], 88.99, (1, 2, 3, 4, 5, 6, 7, 8, 9, 10), '6th', 'End', '8th', ['8th', 56, (78-9j)], [34, 'List', (67.9+6j), (-56-4j)]]\n",
      "\n",
      "['KESHAV', (45+9j), True, 39.69, 67, (76-8j), None, True, 56.89, 88.99, (1, 2, 3, 4, 5, 6, 7, 8, 9, 10), '6th', 'End', '8th', ['8th', 56, (78-9j)], [34, 'List', (67.9+6j), (-56-4j)]]\n",
      "\n",
      "['KESHAV', (45+9j), True, 39.69, '4to7', 56.89, 88.99, (1, 2, 3, 4, 5, 6, 7, 8, 9, 10), '6th', 'End', '8th', ['8th', 56, (78-9j)], [34, 'List', (67.9+6j), (-56-4j)]]\n",
      "\n",
      "('KESHAV', (45+9j), True, 39.69, '4to7', 56.89, 88.99, (1, 2, 3, 4, 5, 6, 7, 8, 9, 10), '6th', 'End', '8th', ['8th', 56, (78-9j)], [34, 'List', (67.9+6j), (-56-4j)])\n"
     ]
    }
   ],
   "source": [
    "List_NestTuple = list(NestTuple)     # Tuple got converted into list()\n",
    "print(List_NestTuple)\n",
    "print()\n",
    "List_NestTuple[4:8] = 67, 76 - 8j, None, True, 56.89       # While replacing multiple index elements from index 4 to index 7\n",
    "print(List_NestTuple)\n",
    "print()\n",
    "List_NestTuple[4:8] = [\"4to7\"]      # From 4 to 8 exclusive upperbound multiple index elements will be replaced by single element as array\n",
    "print(List_NestTuple)\n",
    "print()\n",
    "NestTuple = tuple(List_NestTuple)    # Convert back into tuple()\n",
    "print(NestTuple)"
   ]
  },
  {
   "cell_type": "code",
   "execution_count": 23,
   "metadata": {},
   "outputs": [
    {
     "name": "stdout",
     "output_type": "stream",
     "text": [
      "['KESHAV', (45+9j), True, 39.69, '4to7', 56.89, 88.99, (1, 2, 3, 4, 5, 6, 7, 8, 9, 10), '6th', 'End', '8th', ['8th', 56, (78-9j)], [34, 'List', (67.9+6j), (-56-4j)], 'extend']\n",
      "\n",
      "['KESHAV', (45+9j), True, 39.69, '4to7', 56.89, 88.99, (1, 2, 3, 4, 5, 6, 7, 8, 9, 10), '6th', 'End', '8th', ['8th', 56, (78-9j)], [34, 'List', (67.9+6j), (-56-4j)], 'extend', 56, 79.89, True, None, (78-9j)]\n",
      "\n",
      "('KESHAV', (45+9j), True, 39.69, '4to7', 56.89, 88.99, (1, 2, 3, 4, 5, 6, 7, 8, 9, 10), '6th', 'End', '8th', ['8th', 56, (78-9j)], [34, 'List', (67.9+6j), (-56-4j)], 'extend', 56, 79.89, True, None, (78-9j))\n"
     ]
    }
   ],
   "source": [
    "List_NestTuple = list(NestTuple)          # Tuple got converted into list()\n",
    "List_NestTuple.extend([\"extend\"])   #Insert single indivisual elements to the end position\n",
    "print(List_NestTuple)\n",
    "print()\n",
    "List_NestTuple.extend([56, 79.89, True, None, 78-9j])         #Insert multiple indivisual elements to the end position\n",
    "print(List_NestTuple)\n",
    "print()\n",
    "NestTuple = tuple(List_NestTuple)       # Convert back into tuple()\n",
    "print(NestTuple)"
   ]
  },
  {
   "cell_type": "code",
   "execution_count": 24,
   "metadata": {},
   "outputs": [
    {
     "name": "stdout",
     "output_type": "stream",
     "text": [
      "['KESHAV', (45+9j), True, 39.69, '4to7', 56.89, 88.99, (1, 2, 3, 4, 5, 6, 7, 8, 9, 10), '6th', 'End', '8th', ['8th', 56, (78-9j)], [34, 'List', (67.9+6j), (-56-4j)], 'extend', 56, 79.89, True, None, (78-9j), 'Single']\n",
      "\n",
      "['KESHAV', (45+9j), True, 39.69, '4to7', 56.89, 88.99, (1, 2, 3, 4, 5, 6, 7, 8, 9, 10), '6th', 'End', '8th', ['8th', 56, (78-9j)], [34, 'List', (67.9+6j), (-56-4j)], 'extend', 56, 79.89, True, None, (78-9j), 'Single', 63, 59.85, (-78+9j), True, None]\n",
      "\n",
      "('KESHAV', (45+9j), True, 39.69, '4to7', 56.89, 88.99, (1, 2, 3, 4, 5, 6, 7, 8, 9, 10), '6th', 'End', '8th', ['8th', 56, (78-9j)], [34, 'List', (67.9+6j), (-56-4j)], 'extend', 56, 79.89, True, None, (78-9j), 'Single', 63, 59.85, (-78+9j), True, None)\n"
     ]
    }
   ],
   "source": [
    "List_NestTuple = list(NestTuple)     # Tuple got converted into list()\n",
    "\n",
    "List_NestTuple[len(List_NestTuple):0] = [\"Single\"]      #Insert single element at the end position as array\n",
    "print(List_NestTuple)\n",
    "print()\n",
    "\n",
    "List_NestTuple[len(List_NestTuple):0] = 63, 59.85, -78 + 9j, True, None      #Insert new multiple elements at the end position\n",
    "print(List_NestTuple)\n",
    "print()\n",
    "\n",
    "NestTuple = tuple(List_NestTuple)       # Convert back into tuple()\n",
    "print(NestTuple)"
   ]
  },
  {
   "cell_type": "code",
   "execution_count": 25,
   "metadata": {},
   "outputs": [
    {
     "name": "stdout",
     "output_type": "stream",
     "text": [
      "(56, (99-8j), True, None, 78.68, 77, 68.89, (78-9j), None, 'Panna')\n",
      "<class 'tuple'>\n"
     ]
    }
   ],
   "source": [
    "Tup1 = 56, 99-8j, True, None, 78.68       # Create Tuple\n",
    "Tup2 = 77, 68.89, 78-9j, None, \"Panna\"     # Create Tuple\n",
    "\n",
    "Tup_Concat = Tup1 + Tup2   # Tuple concatination\n",
    "print(Tup_Concat)\n",
    "print(type(Tup_Concat))"
   ]
  },
  {
   "cell_type": "code",
   "execution_count": 26,
   "metadata": {},
   "outputs": [
    {
     "name": "stdout",
     "output_type": "stream",
     "text": [
      "('KESHAV', (45+9j), True, 39.69, '4to7', 56.89, 88.99, (1, 2, 3, 4, 5, 6, 7, 8, 9, 10), '6th', 'End', '8th', ['8th', 56, (78-9j)], [34, 'List', (67.9+6j), (-56-4j)], 'extend', 56, 79.89, True, None, (78-9j), 'Single', 63, 59.85, (-78+9j), True, None)\n"
     ]
    }
   ],
   "source": [
    "print(NestTuple)"
   ]
  },
  {
   "cell_type": "code",
   "execution_count": 27,
   "metadata": {},
   "outputs": [
    {
     "name": "stdout",
     "output_type": "stream",
     "text": [
      "[None, ['8th', 56, (78-9j)], 63, 'End', 'extend', 'KESHAV', 56, 39.69, True, [34, 'List', (67.9+6j), (-56-4j)], '6th', (78-9j), '4to7', (1, 2, 3, 4, 5, 6, 7, 8, 9, 10), True, 56.89, (45+9j), (-78+9j), '8th', True, 88.99, None, 59.85, 'Single', 79.89]\n",
      "<class 'list'>\n",
      "\n",
      "(None, ['8th', 56, (78-9j)], 63, 'End', 'extend', 'KESHAV', 56, 39.69, True, [34, 'List', (67.9+6j), (-56-4j)], '6th', (78-9j), '4to7', (1, 2, 3, 4, 5, 6, 7, 8, 9, 10), True, 56.89, (45+9j), (-78+9j), '8th', True, 88.99, None, 59.85, 'Single', 79.89)\n",
      "<class 'tuple'>\n",
      "[39.69, 'Single', ['8th', 56, (78-9j)], '4to7', None, 56, 'extend', 63, (78-9j), (1, 2, 3, 4, 5, 6, 7, 8, 9, 10), True, (45+9j), 59.85, 'End', 88.99, '6th', '8th', None, True, [34, 'List', (67.9+6j), (-56-4j)], (-78+9j), 56.89, 79.89, 'KESHAV', True]\n",
      "\n",
      "(39.69, 'Single', ['8th', 56, (78-9j)], '4to7', None, 56, 'extend', 63, (78-9j), (1, 2, 3, 4, 5, 6, 7, 8, 9, 10), True, (45+9j), 59.85, 'End', 88.99, '6th', '8th', None, True, [34, 'List', (67.9+6j), (-56-4j)], (-78+9j), 56.89, 79.89, 'KESHAV', True)\n",
      "<class 'tuple'>\n"
     ]
    }
   ],
   "source": [
    "import random\n",
    "\n",
    "NestTuple = ('KESHAV', (45+9j), True, 39.69, '4to7', 56.89, 88.99, (1, 2, 3, 4, 5, 6, 7, 8, 9, 10), \n",
    "             '6th', 'End', '8th', ['8th', 56, (78-9j)], [34, 'List', (67.9+6j), (-56-4j)], \n",
    "             'extend', 56, 79.89, True, None, (78-9j), 'Single', 63, 59.85, (-78+9j), True, None)\n",
    "\n",
    "RandSamp_Tuple_List = random.sample(NestTuple, len(NestTuple))      # Pick randomly len(Tuple) no of sample elements from tuple() & save as list[]\n",
    "print(RandSamp_Tuple_List)\n",
    "print(type(RandSamp_Tuple_List))\n",
    "print()\n",
    "RandSamp_Nest_Tuple = tuple(RandSamp_Tuple_List)   # Convert back that random sample list[] into tuple()\n",
    "print(RandSamp_Nest_Tuple)\n",
    "print(type(RandSamp_Nest_Tuple))\n",
    "\n",
    "List_NestTuple = list(NestTuple)     # Tuple got converted into list()\n",
    "\n",
    "random.shuffle(List_NestTuple)           # Shuffle the List_NestTuple elements Randomly\n",
    "print(List_NestTuple)\n",
    "print()\n",
    "\n",
    "Shuffle_NestTuple = tuple(List_NestTuple)       # Convert back that shuffle list[] into tuple()\n",
    "print(Shuffle_NestTuple)\n",
    "print(type(Shuffle_NestTuple))"
   ]
  },
  {
   "cell_type": "code",
   "execution_count": 28,
   "metadata": {},
   "outputs": [
    {
     "name": "stdout",
     "output_type": "stream",
     "text": [
      "('KESHAV', (45+9j), True, 39.69, '4to7', 56.89, 88.99, (1, 2, 3, 4, 5, 6, 7, 8, 9, 10), '6th', 'End', '8th', ['8th', 56, (78-9j)], [34, 'List', (67.9+6j), (-56-4j)], 'extend', 56, 79.89, True, None, (78-9j), 'Single', 63, 59.85, (-78+9j), True, None)\n",
      "\n",
      "['KESHAV', (45+9j), True, 39.69, '4to7', 56.89, 88.99, (1, 2, 3, 4, 5, 6, 7, 8, 9, 10), '6th', 'End', '8th', ['8th', 56, (78-9j)], [34, 'List', (67.9+6j), (-56-4j)], 'extend', 56, 79.89, True, None, (78-9j), 'Single', 63, 59.85, (-78+9j), True]\n",
      "\n",
      "['KESHAV', (45+9j), True, 39.69, '4to7', 56.89, 88.99, (1, 2, 3, 4, 5, 6, 7, 8, 9, 10), 'End', '8th', ['8th', 56, (78-9j)], [34, 'List', (67.9+6j), (-56-4j)], 'extend', 56, 79.89, True, None, (78-9j), 'Single', 63, 59.85, (-78+9j), True]\n",
      "\n",
      "('KESHAV', (45+9j), True, 39.69, '4to7', 56.89, 88.99, (1, 2, 3, 4, 5, 6, 7, 8, 9, 10), 'End', '8th', ['8th', 56, (78-9j)], [34, 'List', (67.9+6j), (-56-4j)], 'extend', 56, 79.89, True, None, (78-9j), 'Single', 63, 59.85, (-78+9j), True)\n"
     ]
    }
   ],
   "source": [
    "print(NestTuple)\n",
    "print()\n",
    "List_NestTuple = list(NestTuple)     # Tuple got converted into list()\n",
    "List_NestTuple.pop()                 # By default delete the last Index element\n",
    "print(List_NestTuple)\n",
    "print()\n",
    "List_NestTuple.pop(8)                 # delete the mentioned Index element\n",
    "print(List_NestTuple)\n",
    "print()\n",
    "NestTuple = tuple(List_NestTuple)       # Convert back into tuple()\n",
    "print(NestTuple)"
   ]
  },
  {
   "cell_type": "code",
   "execution_count": 29,
   "metadata": {},
   "outputs": [
    {
     "name": "stdout",
     "output_type": "stream",
     "text": [
      "3\n"
     ]
    }
   ],
   "source": [
    "print(NestTuple.count(True))        # Type the Element value & you will get its frequency\n",
    "                                    # Count one element at a time"
   ]
  },
  {
   "cell_type": "code",
   "execution_count": 30,
   "metadata": {},
   "outputs": [
    {
     "name": "stdout",
     "output_type": "stream",
     "text": [
      "(67, 89.78, (98-9j), False, None, 'Single')\n",
      "<class 'tuple'>\n",
      "\n",
      "{False, 67, (98-9j), 'Single', None, 89.78, 'Lucifir'}\n",
      "\n",
      "(False, 67, (98-9j), 'Single', None, 89.78, 'Lucifir')\n"
     ]
    }
   ],
   "source": [
    "PTuple = 67, 89.78, 98-9j, False, None, \"Single\"        # This is plain tuple(), not nested tuple\n",
    "print(PTuple)\n",
    "print(type(PTuple))\n",
    "print()\n",
    "Set_PTuple = set(PTuple)            # Convert tuple() into set()\n",
    "Set_PTuple.add(\"Lucifir\")        # add one mentioned element at a time in the set()\n",
    "print(Set_PTuple)\n",
    "print()\n",
    "PTuple = tuple(Set_PTuple)          # Convert back set() into tuple()\n",
    "print(PTuple)"
   ]
  },
  {
   "cell_type": "code",
   "execution_count": 20,
   "metadata": {},
   "outputs": [
    {
     "name": "stdout",
     "output_type": "stream",
     "text": [
      "('KESHAV', (45+9j), True, 39.69, '4to7', 56.89, 88.99, (1, 2, 3, 4, 5, 6, 7, 8, 9, 10), 'End', '8th', ['8th', 56, (78-9j)], [34, 'List', (67.9+6j), (-56-4j)], 'extend', 56, 79.89, True, None, (78-9j), 'Single', 63, 59.85, (-78+9j), True)\n",
      "\n",
      "[(45+9j), True, 39.69, '4to7', 56.89, 88.99, (1, 2, 3, 4, 5, 6, 7, 8, 9, 10), 'End', '8th', ['8th', 56, (78-9j)], [34, 'List', (67.9+6j), (-56-4j)], 'extend', 56, 79.89, True, None, (78-9j), 'Single', 63, 59.85, (-78+9j), True]\n",
      "\n",
      "((45+9j), True, 39.69, '4to7', 56.89, 88.99, (1, 2, 3, 4, 5, 6, 7, 8, 9, 10), 'End', '8th', ['8th', 56, (78-9j)], [34, 'List', (67.9+6j), (-56-4j)], 'extend', 56, 79.89, True, None, (78-9j), 'Single', 63, 59.85, (-78+9j), True)\n"
     ]
    }
   ],
   "source": [
    "print(NestTuple)\n",
    "print()\n",
    "List_NestTuple = list(NestTuple)\n",
    "List_NestTuple.remove(\"KESHAV\")\n",
    "print(List_NestTuple)\n",
    "print()\n",
    "NestTuple = tuple(List_NestTuple)\n",
    "print(NestTuple)"
   ]
  },
  {
   "cell_type": "code",
   "execution_count": 21,
   "metadata": {},
   "outputs": [
    {
     "name": "stdout",
     "output_type": "stream",
     "text": [
      "(67, 89.78, (98-9j), False, None, 'Single')\n",
      "<class 'tuple'>\n",
      "\n",
      "{False, 67, (98-9j), None, 89.78}\n",
      "\n",
      "(False, 67, (98-9j), None, 89.78)\n"
     ]
    }
   ],
   "source": [
    "PTuple = 67, 89.78, 98-9j, False, None, \"Single\"  # This is plain tuple(), not nested tuple\n",
    "print(PTuple)\n",
    "print(type(PTuple))\n",
    "print()\n",
    "Set_PTuple = set(PTuple)            # Convert tuple() into set()\n",
    "Set_PTuple.discard(\"Single\")        # Remove one mentioned element at a time from the set()\n",
    "print(Set_PTuple)\n",
    "print()\n",
    "PTuple = tuple(Set_PTuple)          # Convert back set() into tuple()\n",
    "print(PTuple)"
   ]
  },
  {
   "cell_type": "code",
   "execution_count": 22,
   "metadata": {},
   "outputs": [
    {
     "name": "stdout",
     "output_type": "stream",
     "text": [
      "((45+9j), True, 39.69, '4to7', 56.89, 88.99, (1, 2, 3, 4, 5, 6, 7, 8, 9, 10), 'End', '8th', ['8th', 56, (78-9j)], [34, 'List', (67.9+6j), (-56-4j)], 'extend', 56, 79.89, True, None, (78-9j), 'Single', 63, 59.85, (-78+9j), True)\n",
      "\n"
     ]
    },
    {
     "ename": "AttributeError",
     "evalue": "'tuple' object has no attribute 'reverse'",
     "output_type": "error",
     "traceback": [
      "\u001b[0;31m---------------------------------------------------------------------------\u001b[0m",
      "\u001b[0;31mAttributeError\u001b[0m                            Traceback (most recent call last)",
      "Cell \u001b[0;32mIn[22], line 3\u001b[0m\n\u001b[1;32m      1\u001b[0m \u001b[38;5;28mprint\u001b[39m(NestTuple)\n\u001b[1;32m      2\u001b[0m \u001b[38;5;28mprint\u001b[39m()\n\u001b[0;32m----> 3\u001b[0m \u001b[43mNestTuple\u001b[49m\u001b[38;5;241;43m.\u001b[39;49m\u001b[43mreverse\u001b[49m()              \u001b[38;5;66;03m#This will reverse the placement of list() elements in Backward\u001b[39;00m\n\u001b[1;32m      4\u001b[0m \u001b[38;5;28mprint\u001b[39m(NestTuple)\n",
      "\u001b[0;31mAttributeError\u001b[0m: 'tuple' object has no attribute 'reverse'"
     ]
    }
   ],
   "source": [
    "print(NestTuple)\n",
    "print()\n",
    "NestTuple.reverse()              #This will reverse the placement of list() elements in Backward\n",
    "print(NestTuple)"
   ]
  },
  {
   "cell_type": "code",
   "execution_count": 23,
   "metadata": {},
   "outputs": [
    {
     "name": "stdout",
     "output_type": "stream",
     "text": [
      "(78, 67.89, False)\n",
      "\n",
      "[False, 67.89, 78]\n",
      "\n",
      "(False, 67.89, 78)\n"
     ]
    }
   ],
   "source": [
    "Tuple = 78, 67.89, False\n",
    "print(Tuple)\n",
    "print()\n",
    "List_Tuple = list(Tuple)           # Tuple got converted into list()\n",
    "List_Tuple.sort()             # When the List element data types are Integer, Float, Bool\n",
    "print(List_Tuple)            # sort() works with Integer, Float, Boolean mix Tuple element data types simultaneously & with String seperately\n",
    "print()                      # sort() sequence priority to the String Integers -> Uppercase alphabets -> lowercase alphabets\n",
    "Tuple = tuple(List_Tuple)   # Convert back into tuple()\n",
    "print(Tuple)"
   ]
  },
  {
   "cell_type": "code",
   "execution_count": 24,
   "metadata": {},
   "outputs": [
    {
     "name": "stdout",
     "output_type": "stream",
     "text": [
      "(88, 98.91, False)\n",
      "[False, 88, 98.91]\n",
      "(False, 88, 98.91)\n"
     ]
    }
   ],
   "source": [
    "Tuple1 = 88, 98.91, False\n",
    "print(Tuple1)\n",
    "Sorted_Tuple = sorted(Tuple1)       # When the Tuple element data types are Integer, Float, Bool\n",
    "                                  # sorted() converts the tuple() into sorted list[]\n",
    "print(Sorted_Tuple)               # sorted() works with Integer, Float, Boolean mix Tuple element data types simultaneously & with String seperately\n",
    "                                  # sorted() sequence priority to the String Integers -> Uppercase alphabets -> lowercase alphabets\n",
    "Tuple1 = tuple(Sorted_Tuple)      # sorted list[] got converted back into tuple()\n",
    "print(Tuple1)"
   ]
  },
  {
   "cell_type": "code",
   "execution_count": 25,
   "metadata": {},
   "outputs": [
    {
     "name": "stdout",
     "output_type": "stream",
     "text": [
      "False 78 145.89 False 98.91 186.91\n"
     ]
    }
   ],
   "source": [
    "print(min(Tuple), max(Tuple), sum(Tuple), min(Tuple1), max(Tuple1), sum(Tuple1))"
   ]
  },
  {
   "cell_type": "code",
   "execution_count": 26,
   "metadata": {},
   "outputs": [
    {
     "data": {
      "text/plain": [
       "1"
      ]
     },
     "execution_count": 26,
     "metadata": {},
     "output_type": "execute_result"
    }
   ],
   "source": [
    "Tuple2.count(45+9j) # Type the Element value & you will get its frequency/repeatation"
   ]
  },
  {
   "cell_type": "code",
   "execution_count": 27,
   "metadata": {},
   "outputs": [
    {
     "data": {
      "text/plain": [
       "3"
      ]
     },
     "execution_count": 27,
     "metadata": {},
     "output_type": "execute_result"
    }
   ],
   "source": [
    "NestTuple.count(1) # Type the Element value & you will get its frequency"
   ]
  },
  {
   "cell_type": "code",
   "execution_count": 28,
   "metadata": {},
   "outputs": [
    {
     "name": "stdout",
     "output_type": "stream",
     "text": [
      "('KESHAV', (45+9j), True)\n",
      "((45+9j), True, 39.69)\n"
     ]
    }
   ],
   "source": [
    "print(Tuple2[0:3]) # Shoes tuple elements from begining and ends at 2+1 upperbound\n",
    "print(Tuple2[1:4])"
   ]
  },
  {
   "cell_type": "code",
   "execution_count": 29,
   "metadata": {},
   "outputs": [
    {
     "data": {
      "text/plain": [
       "tuple"
      ]
     },
     "execution_count": 29,
     "metadata": {},
     "output_type": "execute_result"
    }
   ],
   "source": [
    "type(Tuple2)"
   ]
  },
  {
   "cell_type": "code",
   "execution_count": 30,
   "metadata": {},
   "outputs": [
    {
     "name": "stdout",
     "output_type": "stream",
     "text": [
      "KESHAV\n",
      "EH\n"
     ]
    }
   ],
   "source": [
    "print(Tuple2[0]) # Shows first element\n",
    "print(Tuple2[0][1:5:2])"
   ]
  },
  {
   "cell_type": "code",
   "execution_count": 31,
   "metadata": {},
   "outputs": [
    {
     "name": "stdout",
     "output_type": "stream",
     "text": [
      "(1, 2, 3, True, 4.9, 5, False, 78.4, 68, True, 33, False, 22, 12)\n"
     ]
    },
    {
     "data": {
      "text/plain": [
       "(tuple, 14, False, 78.4, 231.3)"
      ]
     },
     "execution_count": 31,
     "metadata": {},
     "output_type": "execute_result"
    }
   ],
   "source": [
    "NumTuple = (1, 2, 3, True, 4.9, 5, False, 78.4, 68, True, 33, False, 22, 12)\n",
    "print(NumTuple)\n",
    "\n",
    "type(NumTuple), len(NumTuple), min(NumTuple), max(NumTuple), sum(NumTuple)"
   ]
  },
  {
   "cell_type": "code",
   "execution_count": 32,
   "metadata": {},
   "outputs": [
    {
     "ename": "AttributeError",
     "evalue": "'tuple' object has no attribute 'sort'",
     "output_type": "error",
     "traceback": [
      "\u001b[0;31m---------------------------------------------------------------------------\u001b[0m",
      "\u001b[0;31mAttributeError\u001b[0m                            Traceback (most recent call last)",
      "Cell \u001b[0;32mIn[32], line 1\u001b[0m\n\u001b[0;32m----> 1\u001b[0m \u001b[43mHomoTuple\u001b[49m\u001b[38;5;241;43m.\u001b[39;49m\u001b[43msort\u001b[49m() \u001b[38;5;66;03m# When the List element data types are Integer, Float, Bool\u001b[39;00m\n\u001b[1;32m      2\u001b[0m \u001b[38;5;28mprint\u001b[39m(HomoTuple)\n\u001b[1;32m      4\u001b[0m NumTuple\u001b[38;5;241m.\u001b[39msort()\n",
      "\u001b[0;31mAttributeError\u001b[0m: 'tuple' object has no attribute 'sort'"
     ]
    }
   ],
   "source": [
    "HomoTuple.sort() # When the List element data types are Integer, Float, Bool\n",
    "print(HomoTuple)\n",
    "                      \n",
    "NumTuple.sort()\n",
    "print(NumTuple)"
   ]
  },
  {
   "cell_type": "code",
   "execution_count": 33,
   "metadata": {},
   "outputs": [
    {
     "ename": "TypeError",
     "evalue": "'tuple' object does not support item assignment",
     "output_type": "error",
     "traceback": [
      "\u001b[0;31m---------------------------------------------------------------------------\u001b[0m",
      "\u001b[0;31mTypeError\u001b[0m                                 Traceback (most recent call last)",
      "Cell \u001b[0;32mIn[33], line 2\u001b[0m\n\u001b[1;32m      1\u001b[0m \u001b[38;5;66;03m# Tuple is immutable variable, you cant add, remove, insert, swap, shuffle & replace elements of Tuple\u001b[39;00m\n\u001b[0;32m----> 2\u001b[0m Tuple2[\u001b[38;5;241m0\u001b[39m]\u001b[38;5;241m=\u001b[39m \u001b[38;5;124m'\u001b[39m\u001b[38;5;124mPrashant\u001b[39m\u001b[38;5;124m'\u001b[39m\n",
      "\u001b[0;31mTypeError\u001b[0m: 'tuple' object does not support item assignment"
     ]
    }
   ],
   "source": [
    "# Tuple is immutable variable, you cant add, remove, insert, swap, shuffle & replace elements of Tuple\n",
    "Tuple2[0]= 'Prashant' # Tuple is immutable"
   ]
  },
  {
   "cell_type": "code",
   "execution_count": 34,
   "metadata": {},
   "outputs": [
    {
     "ename": "TypeError",
     "evalue": "'tuple' object does not support item assignment",
     "output_type": "error",
     "traceback": [
      "\u001b[0;31m---------------------------------------------------------------------------\u001b[0m",
      "\u001b[0;31mTypeError\u001b[0m                                 Traceback (most recent call last)",
      "Cell \u001b[0;32mIn[34], line 1\u001b[0m\n\u001b[0;32m----> 1\u001b[0m \u001b[43mrandom\u001b[49m\u001b[38;5;241;43m.\u001b[39;49m\u001b[43mshuffle\u001b[49m\u001b[43m(\u001b[49m\u001b[43mNumTuple\u001b[49m\u001b[43m)\u001b[49m\n\u001b[1;32m      2\u001b[0m NumTuple\n",
      "File \u001b[0;32m~/Downloads/miniconda3/envs/ML/lib/python3.8/random.py:307\u001b[0m, in \u001b[0;36mRandom.shuffle\u001b[0;34m(self, x, random)\u001b[0m\n\u001b[1;32m    304\u001b[0m     \u001b[38;5;28;01mfor\u001b[39;00m i \u001b[38;5;129;01min\u001b[39;00m \u001b[38;5;28mreversed\u001b[39m(\u001b[38;5;28mrange\u001b[39m(\u001b[38;5;241m1\u001b[39m, \u001b[38;5;28mlen\u001b[39m(x))):\n\u001b[1;32m    305\u001b[0m         \u001b[38;5;66;03m# pick an element in x[:i+1] with which to exchange x[i]\u001b[39;00m\n\u001b[1;32m    306\u001b[0m         j \u001b[38;5;241m=\u001b[39m randbelow(i\u001b[38;5;241m+\u001b[39m\u001b[38;5;241m1\u001b[39m)\n\u001b[0;32m--> 307\u001b[0m         x[i], x[j] \u001b[38;5;241m=\u001b[39m x[j], x[i]\n\u001b[1;32m    308\u001b[0m \u001b[38;5;28;01melse\u001b[39;00m:\n\u001b[1;32m    309\u001b[0m     _int \u001b[38;5;241m=\u001b[39m \u001b[38;5;28mint\u001b[39m\n",
      "\u001b[0;31mTypeError\u001b[0m: 'tuple' object does not support item assignment"
     ]
    }
   ],
   "source": [
    "random.shuffle(NumTuple)\n",
    "NumTuple # You cant shuffle tuple, because it is immutable"
   ]
  },
  {
   "cell_type": "code",
   "execution_count": 37,
   "metadata": {},
   "outputs": [
    {
     "name": "stdout",
     "output_type": "stream",
     "text": [
      "[89, 39, True]\n",
      "<class 'list'>\n",
      "(89, 39, True)\n"
     ]
    }
   ],
   "source": [
    "import random\n",
    "RandSamp_Tuple_List = random.sample(Tuple2, 3) # randomly pick any 3 elements from tuple() & convert in to list[]\n",
    "print(RandSamp_Tuple_List)\n",
    "print(type(RandSamp_Tuple_List))\n",
    "RandSamp_Tuple = tuple(RandSamp_Tuple_List)    # convert back that sample list[] into tuple()\n",
    "print(RandSamp_Tuple)"
   ]
  },
  {
   "cell_type": "code",
   "execution_count": 5,
   "metadata": {},
   "outputs": [
    {
     "name": "stdout",
     "output_type": "stream",
     "text": [
      "(56, 89.67, True, 'Michiko', None, (-98-8j))\n",
      "('Michiko', True, (-98-8j), None, frozenset({'frozen', (78+5j)}), ('Tuple', (33-8j)), 85, 56, 89.67)\n"
     ]
    }
   ],
   "source": [
    "Tuple = (56, 89.67, True, \"Michiko\", None, -98-8j)\n",
    "print(Tuple)\n",
    "Tuple_Set = set(Tuple)         # Convert Tuple() into Set{}\n",
    "Tuple_Set.add(85)                    # Insert one element at a time in the Set{}\n",
    "Tuple_Set.add((\"Tuple\", 33-8j))                 # Insert multiple elements as Tuple() format\n",
    "Tuple_Set.add(frozenset({\"frozen\", 78+5j}))    # Insert multiple elements as frozenset({}) format\n",
    "Tuple = tuple(Tuple_Set)                        # Convert back Set{} into Tuple().\n",
    "print(Tuple)"
   ]
  },
  {
   "cell_type": "code",
   "execution_count": 320,
   "metadata": {},
   "outputs": [
    {
     "ename": "AttributeError",
     "evalue": "'tuple' object has no attribute 'add'",
     "output_type": "error",
     "traceback": [
      "\u001b[0;31m---------------------------------------------------------------------------\u001b[0m",
      "\u001b[0;31mAttributeError\u001b[0m                            Traceback (most recent call last)",
      "Cell \u001b[0;32mIn[320], line 1\u001b[0m\n\u001b[0;32m----> 1\u001b[0m \u001b[43mTuple2\u001b[49m\u001b[38;5;241;43m.\u001b[39;49m\u001b[43madd\u001b[49m(\u001b[38;5;241m46\u001b[39m\u001b[38;5;241m+\u001b[39m\u001b[38;5;241m8\u001b[39mj)\n\u001b[1;32m      2\u001b[0m \u001b[38;5;28mprint\u001b[39m(Tuple2)\n",
      "\u001b[0;31mAttributeError\u001b[0m: 'tuple' object has no attribute 'add'"
     ]
    }
   ],
   "source": [
    "Tuple2.add(46+8j)\n",
    "print(Tuple2)"
   ]
  },
  {
   "cell_type": "code",
   "execution_count": 321,
   "metadata": {},
   "outputs": [
    {
     "ename": "AttributeError",
     "evalue": "'tuple' object has no attribute 'append'",
     "output_type": "error",
     "traceback": [
      "\u001b[0;31m---------------------------------------------------------------------------\u001b[0m",
      "\u001b[0;31mAttributeError\u001b[0m                            Traceback (most recent call last)",
      "Cell \u001b[0;32mIn[321], line 1\u001b[0m\n\u001b[0;32m----> 1\u001b[0m \u001b[43mTuple2\u001b[49m\u001b[38;5;241;43m.\u001b[39;49m\u001b[43mappend\u001b[49m[\u001b[38;5;124m\"\u001b[39m\u001b[38;5;124mKunaal\u001b[39m\u001b[38;5;124m\"\u001b[39m]\n",
      "\u001b[0;31mAttributeError\u001b[0m: 'tuple' object has no attribute 'append'"
     ]
    }
   ],
   "source": [
    "Tuple2.append[\"Kunaal\"] # You cant add new string element \"Kunaal\""
   ]
  },
  {
   "cell_type": "code",
   "execution_count": 322,
   "metadata": {},
   "outputs": [
    {
     "ename": "AttributeError",
     "evalue": "'tuple' object has no attribute 'extend'",
     "output_type": "error",
     "traceback": [
      "\u001b[0;31m---------------------------------------------------------------------------\u001b[0m",
      "\u001b[0;31mAttributeError\u001b[0m                            Traceback (most recent call last)",
      "Cell \u001b[0;32mIn[322], line 1\u001b[0m\n\u001b[0;32m----> 1\u001b[0m \u001b[43mTuple2\u001b[49m\u001b[38;5;241;43m.\u001b[39;49m\u001b[43mextend\u001b[49m[\u001b[38;5;124m\"\u001b[39m\u001b[38;5;124mKunaal\u001b[39m\u001b[38;5;124m\"\u001b[39m, \u001b[38;5;241m36\u001b[39m] \u001b[38;5;66;03m# You cant add new elements\u001b[39;00m\n\u001b[1;32m      2\u001b[0m                             \u001b[38;5;66;03m# Extend can add multiple elements,lists at a Time... Though not work for Tuple\u001b[39;00m\n\u001b[1;32m      3\u001b[0m \u001b[38;5;28mprint\u001b[39m(Tuple2)\n",
      "\u001b[0;31mAttributeError\u001b[0m: 'tuple' object has no attribute 'extend'"
     ]
    }
   ],
   "source": [
    "Tuple2.extend[\"Kunaal\", 36] # You cant add new elements\n",
    "                            # Extend can add multiple elements,lists at a Time... Though not work for Tuple\n",
    "print(Tuple2)"
   ]
  },
  {
   "cell_type": "code",
   "execution_count": 323,
   "metadata": {},
   "outputs": [
    {
     "ename": "AttributeError",
     "evalue": "'tuple' object has no attribute 'insert'",
     "output_type": "error",
     "traceback": [
      "\u001b[0;31m---------------------------------------------------------------------------\u001b[0m",
      "\u001b[0;31mAttributeError\u001b[0m                            Traceback (most recent call last)",
      "Cell \u001b[0;32mIn[323], line 1\u001b[0m\n\u001b[0;32m----> 1\u001b[0m \u001b[43mTuple2\u001b[49m\u001b[38;5;241;43m.\u001b[39;49m\u001b[43minsert\u001b[49m(\u001b[38;5;241m3\u001b[39m, [\u001b[38;5;124m\"\u001b[39m\u001b[38;5;124mEnigma\u001b[39m\u001b[38;5;124m\"\u001b[39m, \u001b[38;5;241m67\u001b[39m\u001b[38;5;241m-\u001b[39m\u001b[38;5;241m9\u001b[39mj, \u001b[38;5;28;01mFalse\u001b[39;00m]) \u001b[38;5;66;03m# You cant insert any new element\u001b[39;00m\n\u001b[1;32m      2\u001b[0m \u001b[38;5;28mprint\u001b[39m(Tuple2)\n",
      "\u001b[0;31mAttributeError\u001b[0m: 'tuple' object has no attribute 'insert'"
     ]
    }
   ],
   "source": [
    "Tuple2.insert(3, [\"Enigma\", 67-9j, False]) # You cant insert any new element\n",
    "print(Tuple2)"
   ]
  },
  {
   "cell_type": "code",
   "execution_count": 324,
   "metadata": {},
   "outputs": [
    {
     "ename": "AttributeError",
     "evalue": "'tuple' object has no attribute 'pop'",
     "output_type": "error",
     "traceback": [
      "\u001b[0;31m---------------------------------------------------------------------------\u001b[0m",
      "\u001b[0;31mAttributeError\u001b[0m                            Traceback (most recent call last)",
      "Cell \u001b[0;32mIn[324], line 1\u001b[0m\n\u001b[0;32m----> 1\u001b[0m \u001b[43mTuple2\u001b[49m\u001b[38;5;241;43m.\u001b[39;49m\u001b[43mpop\u001b[49m[\u001b[38;5;241m3\u001b[39m] \u001b[38;5;66;03m# You cant delete the 3rd index element\u001b[39;00m\n\u001b[1;32m      2\u001b[0m \u001b[38;5;28mprint\u001b[39m(Tuple2)\n",
      "\u001b[0;31mAttributeError\u001b[0m: 'tuple' object has no attribute 'pop'"
     ]
    }
   ],
   "source": [
    "Tuple2.pop[3] # You cant delete the 3rd index element\n",
    "print(Tuple2)"
   ]
  },
  {
   "cell_type": "code",
   "execution_count": 325,
   "metadata": {},
   "outputs": [
    {
     "ename": "AttributeError",
     "evalue": "'tuple' object has no attribute 'remove'",
     "output_type": "error",
     "traceback": [
      "\u001b[0;31m---------------------------------------------------------------------------\u001b[0m",
      "\u001b[0;31mAttributeError\u001b[0m                            Traceback (most recent call last)",
      "Cell \u001b[0;32mIn[325], line 1\u001b[0m\n\u001b[0;32m----> 1\u001b[0m \u001b[43mTuple2\u001b[49m\u001b[38;5;241;43m.\u001b[39;49m\u001b[43mremove\u001b[49m[\u001b[38;5;124m\"\u001b[39m\u001b[38;5;124mKESHAV\u001b[39m\u001b[38;5;124m\"\u001b[39m] \u001b[38;5;66;03m# You cant remove any element\u001b[39;00m\n\u001b[1;32m      2\u001b[0m \u001b[38;5;28mprint\u001b[39m(Tuple2)\n",
      "\u001b[0;31mAttributeError\u001b[0m: 'tuple' object has no attribute 'remove'"
     ]
    }
   ],
   "source": [
    "Tuple2.remove[\"KESHAV\"] # You cant remove any element\n",
    "print(Tuple2)"
   ]
  },
  {
   "cell_type": "code",
   "execution_count": 326,
   "metadata": {},
   "outputs": [
    {
     "ename": "AttributeError",
     "evalue": "'tuple' object has no attribute 'discard'",
     "output_type": "error",
     "traceback": [
      "\u001b[0;31m---------------------------------------------------------------------------\u001b[0m",
      "\u001b[0;31mAttributeError\u001b[0m                            Traceback (most recent call last)",
      "Cell \u001b[0;32mIn[326], line 1\u001b[0m\n\u001b[0;32m----> 1\u001b[0m \u001b[43mTuple2\u001b[49m\u001b[38;5;241;43m.\u001b[39;49m\u001b[43mdiscard\u001b[49m(\u001b[38;5;241m45\u001b[39m\u001b[38;5;241m+\u001b[39m\u001b[38;5;241m9\u001b[39mj)\n\u001b[1;32m      2\u001b[0m \u001b[38;5;28mprint\u001b[39m(Tuple2)\n",
      "\u001b[0;31mAttributeError\u001b[0m: 'tuple' object has no attribute 'discard'"
     ]
    }
   ],
   "source": [
    "Tuple2.discard(45+9j)\n",
    "print(Tuple2)"
   ]
  },
  {
   "cell_type": "code",
   "execution_count": 327,
   "metadata": {},
   "outputs": [
    {
     "name": "stdout",
     "output_type": "stream",
     "text": [
      "(1, 2, 3, 4, 5, 6, 7, 8, 9, 10, 'KESHAV', (45+9j), True, 39.69, 39, 89)\n"
     ]
    }
   ],
   "source": [
    "ConcatTup = HomoTuple + Tuple2 # Concatination of Tuples are possible\n",
    "print(ConcatTup)"
   ]
  },
  {
   "cell_type": "code",
   "execution_count": 328,
   "metadata": {},
   "outputs": [],
   "source": [
    "# Tuples are IMMUTABLE in nature"
   ]
  },
  {
   "cell_type": "code",
   "execution_count": 329,
   "metadata": {},
   "outputs": [
    {
     "ename": "TypeError",
     "evalue": "'tuple' object does not support item assignment",
     "output_type": "error",
     "traceback": [
      "\u001b[0;31m---------------------------------------------------------------------------\u001b[0m",
      "\u001b[0;31mTypeError\u001b[0m                                 Traceback (most recent call last)",
      "Cell \u001b[0;32mIn[329], line 2\u001b[0m\n\u001b[1;32m      1\u001b[0m \u001b[38;5;66;03m# Swap/interchange elements by index in a Tuple is not possible, because of immutable nature\u001b[39;00m\n\u001b[0;32m----> 2\u001b[0m Tuple2[\u001b[38;5;241m0\u001b[39m], Tuple2[\u001b[38;5;241m1\u001b[39m], Tuple2[\u001b[38;5;241m2\u001b[39m], Tuple[\u001b[38;5;241m5\u001b[39m] \u001b[38;5;241m=\u001b[39m Tuple2[\u001b[38;5;241m1\u001b[39m], Tuple2[\u001b[38;5;241m0\u001b[39m], Tuple2[\u001b[38;5;241m5\u001b[39m], Tuple2[\u001b[38;5;241m2\u001b[39m]\n\u001b[1;32m      3\u001b[0m Hetero3\n",
      "\u001b[0;31mTypeError\u001b[0m: 'tuple' object does not support item assignment"
     ]
    }
   ],
   "source": [
    "# Swap/interchange elements by index in a Tuple is not possible, because of immutable nature\n",
    "Tuple2[0], Tuple2[1], Tuple2[2], Tuple[5] = Tuple2[1], Tuple2[0], Tuple2[5], Tuple2[2]\n",
    "Hetero3 # Swap index elements 0,1,2,5 with 1,0,5,2"
   ]
  },
  {
   "cell_type": "code",
   "execution_count": 330,
   "metadata": {},
   "outputs": [],
   "source": [
    "# Tuples Doc ----> https://www.w3schools.com/python/python_tuples.asp"
   ]
  },
  {
   "cell_type": "markdown",
   "metadata": {},
   "source": [
    "## Set always has unique elements without repeatations and has no index element sequence, arrangement & order\n",
    "1. There is no data type sequence & index in Set. Set is a collection of Unique Elements, it doesnt takes duplicate values\n",
    "2. You can't append([E1, E2, E3]) List[] format, extend([E1, E2, E3]), insert(Index, [E1, E2, E3]) List[] format, swap, sort(), sorted(), random.shuffle() & replace() elements of Set.\n",
    "3. Additionally add(Element), discard(Element) is applicable for Set only\n",
    "1. set.add(Element) #add one Element at a time\n",
    "2. *\n",
    "3. set.remove(Element) #delete one unique Element at a time\n",
    "4.                       #remove() is applicable for List & Set only\n",
    "5. *\n",
    "6. Set_List = list(Set) #Set{} got converted into List[], Set_List.append() #Converted List[] got append().\n",
    "7.          Set_List.append(e1) #Single element got inserted at the end position\n",
    "8.          Set_List.append((e2, e3, e4)) #Multiple elements got inserted as Tuple() format at the end position\n",
    "9.          Set_List.append(frozenset({e5, e6, e7, e8})) #Multiple elements got inserted as frozenset({}) format at the end position\n",
    "10.           print(Set_List)\n",
    "11.           Set_append = set(Set_List) #Appended List[] got converted back into Set{}, elements don't have index now\n",
    "12. *\n",
    "13. Set_List = list(Set) #Set{} got converted into List[]\n",
    "14.         Set_List.extend([e1]) #Insert new single element e1 at the end position as Array[]\n",
    "15.         Set_List.extend(\"SPLIT\") #Single string element got inserted as \"S\", \"P\", \"L\", \"I\", \"T\" at the end position\n",
    "16.         Set_List.extend([(e2, e3, e4)]) #Multiple elements got inserted as Tuple() format at the end position\n",
    "17.         Set_List.extend([frozenset({})]) #Multiple elements got inserted as frozenset({}) format at the end position\n",
    "18.         Set_List.extend([e5, e6, (e7, e8), frozenset({e9, e10})]) #Multiple elements got inserted as Plain, Tuple() &\n",
    "19.                                                                                                 frozenSet({}) format\n",
    "21.         print(Set_List)\n",
    "22.         Set_extend = set(Set_List) #Extended List[] got converted back into Set{}, elements don't have index now\n",
    "23. *\n",
    "24. set.discard(Element) #delete one unique Element at a time\n",
    "25. set.pop() #By default delete the first 1st Element 0th index of Set\n",
    "26. Set only consist unique values\n",
    "27. set.pop(Index) #delete the mentioned Index element\n",
    "28. *\n",
    "29. RandSamp_Set_List = random.sample(Set, k=5) #Random sample collected from Set{} & saved as List[].\n",
    "30.          RandSamp_Set = set(RandSamp_List) #Random sample List[] got convert back into Set{}\n",
    "31. *\n",
    "32. Set_List = list(Set) #Convert Set{} into List[]. Set_List.insert(index, E1) #Single element E1 got inserted.\n",
    "33.          Set_List.insert(index, e1) #Insert new single element e1 at the place of mentioned index\n",
    "34.          Set_List.insert(index, frozenset({E2, E3, E4, E5})) #List[] got inserted nested frozenSet({}) of elements at the\n",
    "35.                                                                                                  place of mentioned index.\n",
    "36.          Set_List.insert(index, (E6, E7, E8)) #List[] got inserted multiple elements as nested Tuple() format at the\n",
    "37.                                                                                            place of mentioned index.\n",
    "38.          Set_inserted = set(Set_List) #List[] got converted back into Set{}, elements don't have index now\n",
    "39. *\n",
    "40. Set_List = list(Set) #Convert Set{} into List[]\n",
    "41.          Set_List[index] = e1    #Mentioned single index element got replaced by a new single element e1\n",
    "42.          Set_List[index] = e2, e3, e4, e5   #Mentioned single index element got replaced by multiple elements as Tuple() format\n",
    "43.          Set_List[index] = frozenset({e6, e7, e8, e9})   #Mentioned single index element got replaced by multiple elements as\n",
    "44.                                                                                                           frozenset({}) format\n",
    "45.          Set_List[index] = e10, e11, (e12, e13), frozenset({e14, e15}) #Mentioned single index element got replaced by multiple\n",
    "46.                                                                                                     elements as Tuple() format\n",
    "47.          print(Set_List)\n",
    "48.          Set_indexed = set(Set_List)    #List[] has been converted back into Set{}\n",
    "49. *\n",
    "50. Set_List = list(Set) #Convert Set{} into List[]\n",
    "51.          Set_List[index:0] = [e1]  #New single element got inserted at the place of mentioned index\n",
    "52.          Set_List[index:0] = \"SPLIT\"  #Single string element got inserted as \"S\", \"P\", \"L\", \"I\", \"T\" at the mentioned\n",
    "53.                                                                                                        index position\n",
    "54.          Set_List[index:0] = e2, e3  #New elements got inserted at the place of mentioned index\n",
    "55.          Set_List[index:0] = [(e4, e5)] #New elements got inserted at the place of mentioned index as Tuple() format\n",
    "56.          Set_List[index:0] = frozenset({e6, e7}) #New elements got inserted at the place of mentioned index as\n",
    "57.                                                                                           frozenset({}) format\n",
    "58.          Set_List[index:0] = e8, e9, (e10, e11), frozenset({e12, e13})  # New elements got inserted at the place of\n",
    "59.                                                           mentioned index as Plain, Tuple(), & frozenSet({}) format\n",
    "60.          print(Set_List)\n",
    "61.          New_Set = set(Set_List)  #Convert back List[] into Set{}\n",
    "62.          print(New_Set)\n",
    "63. *\n",
    "64. Set = {56, 89.67, True, \"Michiko\", None, -98-8j}\n",
    "65.          print(Set)\n",
    "66.          Set.add(85)                                   # Insert one element at a time in the Set{}\n",
    "67.          Set.add((\"Tuple\", 33-8j))                     # Insert multiple elements as Tuple() format\n",
    "68.          Set.add(frozenset({\"frozen\", 78+5j}))         # Insert multiple elements as frozenset({}) format\n",
    "69.          print(Set)\n",
    "70. *\n",
    "71. s1 = {10,frozenset({20,30,40}),50}   #Nested frozenset({}) inside Set{}\n",
    "72. s2 = {60,(70,80,90),100}             #Nested Tuple() inside Set{}\n",
    "73. NewSet1 = s2.union(s1)       #merging two different Set{} elements & Save it into one new Set{}\n",
    "66. NewSet2 = s1.union(s2)       #merging two different Set{} elements & Save it into one new Set{}\n",
    "68. *\n",
    "69. Set1 = {1, frozenset({2, 3}), 4, 5, (44, 69)}  #Nested frozenset({}) & Tuple() inside Set{}\n",
    "70. List2 = [6, (7, 8), frozenset({15, 19})]       #Nested frozenset({}) & Tuple() inside List[]\n",
    "71. Tuple3 = (10, (11, 12), 13, 22, frozenset({66, 19}))    #Nested frozenset({}) & Tuple() inside Tuple()\n",
    "72. Set1.update(List2)     # merging element of List2 into Set1\n",
    "73. Set1.update(Tuple3)    # merging element of Tuple3 into Set1\n",
    "74. *\n",
    "75. min(Set), max(Set), sum(Set) #When the Set element data types are Integer, Float, Bool"
   ]
  },
  {
   "cell_type": "code",
   "execution_count": 52,
   "metadata": {},
   "outputs": [
    {
     "name": "stdout",
     "output_type": "stream",
     "text": [
      "{1, 2, 3, 4, 33}\n",
      "{True, 'Jenny', (89-5j), 11.11, 56, 89}\n",
      "{True, 'String', 45.77, 50, (67+9j)}\n",
      "{True, 'String', 46.77, 51, (68+9j)}\n"
     ]
    }
   ],
   "source": [
    "# Sets ---> {} ------->\n",
    "# Set is a collection of Unique Elements, it doesnt takes duplicate values\n",
    "# There is no fixed index values of elements\n",
    "# Curly bracket is meant for Set, anything {element} inside curly bracket comes under set\n",
    "# There is no specific sequence of elements in set\n",
    "# Set uses the concept of hash\n",
    "# You can't perform Arithmatic operations between Sets\n",
    "# Set doesnt support duplicate values\n",
    "# Index/Location value doesnt work in set\n",
    "# Concatination is not possible between two sets\n",
    "# Indexing is not possible in set\n",
    "# Set is mutable variable, you can add & remove elements\n",
    "# You can't perform swap, sort, shuffle & replace elements of Set\n",
    "\n",
    "s1 = {1,2,33,33,33,4,4,3,3}\n",
    "print(s1)                                                       # Exclude repeated values\n",
    "\n",
    "Set1 = {\"Jenny\", 89, True, 56, 89-5j, 11.11}\n",
    "print(Set1)\n",
    "SetSequence = {True, \"String\", 67+9j, 45.77, 50}\n",
    "print(SetSequence)\n",
    "\n",
    "NewSet = {True, 46.77, 51, \"String\", 68+9j}          # data type sequence in set. Boolean, Float, Integer, String, Complex\n",
    "print(NewSet)"
   ]
  },
  {
   "cell_type": "code",
   "execution_count": 53,
   "metadata": {},
   "outputs": [
    {
     "name": "stdout",
     "output_type": "stream",
     "text": [
      "{5, 14, 21, 22, 55, 25}\n"
     ]
    },
    {
     "data": {
      "text/plain": [
       "(set, 6)"
      ]
     },
     "execution_count": 53,
     "metadata": {},
     "output_type": "execute_result"
    }
   ],
   "source": [
    "s2 = {22,25,14,21,55,5}\n",
    "print(s2)\n",
    "type(s2), len(s2)"
   ]
  },
  {
   "cell_type": "code",
   "execution_count": 54,
   "metadata": {},
   "outputs": [
    {
     "name": "stdout",
     "output_type": "stream",
     "text": [
      "{False, (12+10j), 10.1, 11, 'Prashant'}\n"
     ]
    }
   ],
   "source": [
    "s3 = {10.10,'Prashant',12+10j,False,11} # Elements dont have specific & fixed index value & Sequence\n",
    "print(s3)"
   ]
  },
  {
   "cell_type": "code",
   "execution_count": 7,
   "metadata": {},
   "outputs": [
    {
     "name": "stdout",
     "output_type": "stream",
     "text": [
      "{False, (12+10j), 10.1, 'Prashant', 11}\n",
      "[False, (12+10j), 10.1, None, frozenset({67.77, 'Nested', 89, (85-9j), 'Set'}), (77, (89-3j), 'Tuple'), 'Prashant', 11]\n",
      "{False, (12+10j), 10.1, 'Prashant', (77, (89-3j), 'Tuple'), 11, None, frozenset({67.77, 'Nested', 89, (85-9j), 'Set'})}\n"
     ]
    }
   ],
   "source": [
    "s3 = {10.10,'Prashant',12+10j,False,11} # Elements dont have specific & fixed index value & Sequence\n",
    "print(s3)\n",
    "s3_List = list(s3) # Converting set{} into list[]\n",
    "\n",
    "s3_List.insert(3, None) # Converted list[] got inserted None at 3rd index position\n",
    "\n",
    "s3_List.insert(4, frozenset({\"Nested\", 67.77, \"Set\", 89, 85-9j})) # Converted list[] got inserted frozenset{} at 4th index position\n",
    "\n",
    "s3_List.insert(5, (77, 89-3j, \"Tuple\"))  # Converted list[] got inserted Tuple() at 5th index position\n",
    "\n",
    "print(s3_List)\n",
    "\n",
    "s3_inserted = set(s3_List) # list[] got converted back into set{}, elements don't have index now\n",
    "print(s3_inserted)"
   ]
  },
  {
   "cell_type": "code",
   "execution_count": 13,
   "metadata": {},
   "outputs": [
    {
     "name": "stdout",
     "output_type": "stream",
     "text": [
      "{False, (12+10j), 10.1, 'Prashant', 11}\n",
      "[False, (12+10j), 10.1, 'Prashant', 11, 69, ('Tuple', (67-5j)), frozenset({'Frozen', (89+7j)})]\n",
      "{False, 69, (12+10j), 'Prashant', 10.1, 11, frozenset({'Frozen', (89+7j)}), ('Tuple', (67-5j))}\n"
     ]
    }
   ],
   "source": [
    "SeT = {10.10,'Prashant',12+10j,False,11} # Elements dont have specific & fixed index value & Sequence\n",
    "print(SeT)\n",
    "SeT_List = list(SeT)                          # Converting set{} into list[]\n",
    "SeT_List.append(69)                            # Single element got inserted at the end position\n",
    "SeT_List.append((\"Tuple\", 67-5j))              # Multiple elements got inserted as Tuple() format at the end position\n",
    "SeT_List.append(frozenset({\"Frozen\", 89+7j}))  # Multiple elements got inserted as frozenset({}) format at the end position\n",
    "print(SeT_List)\n",
    "SeT_append = set(SeT_List)   # Convert back List[] into Set{}, elements don't have index now\n",
    "print(SeT_append)"
   ]
  },
  {
   "cell_type": "code",
   "execution_count": 16,
   "metadata": {},
   "outputs": [
    {
     "name": "stdout",
     "output_type": "stream",
     "text": [
      "{False, (12+10j), 10.1, 'Prashant', 11}\n",
      "[False, (12+10j), 10.1, 'Prashant', 11, 88, 'S', 'P', 'L', 'I', 'T', ('Tuple', (69+5j), 77), frozenset({'Frozen', (89+7j)}), 66, 55, ('Nested', True), frozenset({'Sigma', (44+7j)})]\n",
      "{False, ('Tuple', (69+5j), 77), 66, 'S', 'I', (12+10j), 'Prashant', 10.1, 11, 'P', 'T', frozenset({'Frozen', (89+7j)}), frozenset({'Sigma', (44+7j)}), 55, 88, 'L', ('Nested', True)}\n"
     ]
    }
   ],
   "source": [
    "SET = {10.10,'Prashant',12+10j,False,11} # Elements dont have specific & fixed index value & Sequence\n",
    "print(SET)\n",
    "SET_List = list(SET)                      # Converting set{} into list[]\n",
    "SET_List.extend([88])                     # Insert new single element at the end position as Array[]\n",
    "SET_List.extend(\"SPLIT\")                  # Single string element got inserted as \"S\", \"P\", \"L\", \"I\", \"T\" at the end position\n",
    "SET_List.extend([(\"Tuple\", 69+5j, 77)])   # Multiple elements got inserted as Tuple() format at the end position\n",
    "SET_List.extend([frozenset({\"Frozen\", 89+7j})])     # Multiple elements got inserted as frozenset({}) format at the end position\n",
    "SET_List.extend([66, 55, (\"Nested\", True), frozenset({\"Sigma\", 44+7j})])    #Multiple elements got inserted as Plain, Tuple() & frozenSet({}) format\n",
    "print(SET_List)\n",
    "SET_extend = set(SET_List)    # Convert back List[] into Set{}, elements don't have index now\n",
    "print(SET_extend)"
   ]
  },
  {
   "cell_type": "code",
   "execution_count": 3,
   "metadata": {},
   "outputs": [
    {
     "name": "stdout",
     "output_type": "stream",
     "text": [
      "[(66, 73, ('nested', 'tuple'), frozenset({88, (4-3j)})), frozenset({(49-3j), 'Frozen'}), (6-9j), 'Three', ('Tuple', (67-8j), 56.88, True, None), None]\n",
      "\n",
      "{frozenset({(49-3j), 'Frozen'}), (6-9j), 'Three', None, ('Tuple', (67-8j), 56.88, True, None), (66, 73, ('nested', 'tuple'), frozenset({88, (4-3j)}))}\n"
     ]
    }
   ],
   "source": [
    "Set = {12, 45.99, None, True, 6-9j, \"Set\"}\n",
    "Set_List = list(Set)  # Convert Set{} into List[]\n",
    "Set_List[3] = \"Three\"   # Mentioned single index element got replaced by a new single element\n",
    "Set_List[4] = \"Tuple\", 67-8j, 56.88, True, None     # Mentioned single index element got replaced by multiple elements as Tuple() format\n",
    "Set_List[1] = frozenset({\"Frozen\", 49-3j})          # Mentioned single index element got replaced by multiple elements as frozenset({}) format\n",
    "Set_List[0] = 66, 73, (\"nested\", \"tuple\"), frozenset({88, 4-3j})  # Mentioned single index element got replaced by multiple elements as Tuple() format\n",
    "print(Set_List)\n",
    "print()\n",
    "Set_indexed = set(Set_List)       # Convert back List[] into Set{}, elements don't have index now\n",
    "print(Set_indexed)"
   ]
  },
  {
   "cell_type": "code",
   "execution_count": 2,
   "metadata": {},
   "outputs": [
    {
     "name": "stdout",
     "output_type": "stream",
     "text": [
      "[True, 'Set', frozenset({'Zigma', 87}), (6-9j), 'Three', 'S', 77, 45, (), 'P', 'L', 'I', 'T', 12, 45.99, None, 56, 87, (True, None), frozenset({'Frozen', (77-8j)})]\n",
      "\n",
      "{True, 12, 'Three', (6-9j), 45, 45.99, frozenset({'Zigma', 87}), 56, 'I', 'T', 'Set', 77, (True, None), 87, None, 'P', 'S', frozenset({'Frozen', (77-8j)}), 'L', ()}\n"
     ]
    }
   ],
   "source": [
    "Set = {12, 45.99, None, True, 6-9j, \"Set\"}\n",
    "Set_List = list(Set)  # Convert Set{} into List[]\n",
    "Set_List[3:0] = [\"Three\"]   # New string element got inserted as Array[] at the place of mentioned index\n",
    "Set_List[4:0] = \"SPLIT\"    # \"S\", \"P\", \"L\", \"I\", \"T\" new indivisual string element letters got inserted at the place of mentioned index\n",
    "Set_List[5:0] = 77, 45    # New elements got inserted at the place of mentioned index\n",
    "Set_List[7:0] = [()]      # New elements got inserted as Tuple() format at the place of mentioned index\n",
    "Set_List[2:0] = [frozenset({\"Zigma\", 87})]    # New elements got inserted as frozenset({}) format at the place of mentioned index\n",
    "Set_List[len(Set_List):0] = 56, 87, (True, None), frozenset({\"Frozen\", 77-8j})   # New elements got inserted at the place of mentioned index as Plain, Tuple(), & frozenSet({}) format\n",
    "print(Set_List)\n",
    "print()\n",
    "New_Set = set(Set_List)  # Converted back List[] into Set{}, elements don't have index now\n",
    "print(New_Set)"
   ]
  },
  {
   "cell_type": "code",
   "execution_count": 56,
   "metadata": {},
   "outputs": [
    {
     "name": "stdout",
     "output_type": "stream",
     "text": [
      "{True, 'Set', (6-9j), 12, 45.99, None}\n",
      "{True, 'Set', (6-9j), 12, 45.99, None, (77, (89-3j), 'Tuple')}\n"
     ]
    }
   ],
   "source": [
    "Set = {12, 45.99, None, True, 6-9j, \"Set\"}\n",
    "List = [56, 78.65, False]\n",
    "Tuple = (77, 89-3j, \"Tuple\")\n",
    "Nested_Set = {\"Nested\", 59}\n",
    "print(Set)\n",
    "Set.add(Tuple)\n",
    "print(Set)"
   ]
  },
  {
   "cell_type": "code",
   "execution_count": 57,
   "metadata": {},
   "outputs": [
    {
     "name": "stdout",
     "output_type": "stream",
     "text": [
      "{True, 'Set', (6-9j), 12, 45.99, None, (77, (89-3j), 'Tuple'), (9, 4)}\n"
     ]
    }
   ],
   "source": [
    "Set.add((9, 4))\n",
    "print(Set)"
   ]
  },
  {
   "cell_type": "code",
   "execution_count": 58,
   "metadata": {},
   "outputs": [
    {
     "data": {
      "text/plain": [
       "{14, 25, 63, 75, 98}"
      ]
     },
     "execution_count": 58,
     "metadata": {},
     "output_type": "execute_result"
    }
   ],
   "source": [
    "s4 = {25,14,98,63,75,98}\n",
    "s4"
   ]
  },
  {
   "cell_type": "code",
   "execution_count": 3,
   "metadata": {},
   "outputs": [
    {
     "name": "stdout",
     "output_type": "stream",
     "text": [
      "{frozenset({40, 20, 30}), 10, 50}\n",
      "{100, 60, (70, 80, 90)}\n",
      "{50, 100, (70, 80, 90), frozenset({40, 20, 30}), 10, 60}\n",
      "{50, 100, (70, 80, 90), frozenset({40, 20, 30}), 10, 60}\n"
     ]
    }
   ],
   "source": [
    "s1 = {10,frozenset({20,30,40}),50}\n",
    "s2 = {60,(70,80,90),100}\n",
    "print(s1)\n",
    "print(s2)\n",
    "\n",
    "NewSet1 = s2.union(s1) # merging two different Set{} elements & Save it into one new Set{}\n",
    "print(NewSet1)\n",
    "\n",
    "NewSet2 = s1.union(s2) # merging two different Set{} elements & Save it into one new Set{}\n",
    "print(NewSet2)"
   ]
  },
  {
   "cell_type": "code",
   "execution_count": 9,
   "metadata": {},
   "outputs": [
    {
     "name": "stdout",
     "output_type": "stream",
     "text": [
      "{1, frozenset({2, 3}), 5, 4, 6, 10, frozenset({19, 15}), 13, (11, 12), frozenset({66, 19}), 22, (44, 69), (7, 8)}\n"
     ]
    }
   ],
   "source": [
    "Set1 = {1, frozenset({2, 3}), 4, 5, (44, 69)}\n",
    "List2 = [6, (7, 8), frozenset({15, 19})]\n",
    "Tuple3 = (10, (11, 12), 13, 22, frozenset({66, 19}))\n",
    "\n",
    "Set1.update(List2)     # merging element of List2 into Set1\n",
    "Set1.update(Tuple3)    # merging element of Tuple3 into Set1\n",
    "print(Set1)"
   ]
  },
  {
   "cell_type": "code",
   "execution_count": 60,
   "metadata": {},
   "outputs": [
    {
     "name": "stdout",
     "output_type": "stream",
     "text": [
      "{'apple', 'google', 'microsoft', 'cherry', 'banana'}\n",
      "{'apple', 'google', 'microsoft'}\n",
      "{'apple', 'google', 'microsoft', 'cherry', 'banana'}\n",
      "{'apple', 'cherry', 'banana'}\n",
      "{'apple', 'google', 'microsoft', 'cherry', 'banana'}\n",
      "{'apple', 'google', 'microsoft', 'cherry', 'banana'}\n"
     ]
    }
   ],
   "source": [
    "x = {\"apple\", \"banana\", \"cherry\"}\n",
    "y = {\"google\", \"microsoft\", \"apple\"}\n",
    "a = {\"apple\", \"banana\", \"cherry\"}\n",
    "b = {\"google\", \"microsoft\", \"apple\"}\n",
    "x.update(y)                                       # merging element of set2 into set1 or vice versa\n",
    "print(x)\n",
    "print(y)\n",
    "\n",
    "b.update(a)\n",
    "print(b)\n",
    "print(a)\n",
    "\n",
    "x1 = {\"apple\", \"banana\", \"cherry\"}\n",
    "y1 = {\"google\", \"microsoft\", \"apple\"}\n",
    "a1 = {\"apple\", \"banana\", \"cherry\"}\n",
    "b1 = {\"google\", \"microsoft\", \"apple\"}\n",
    "\n",
    "NewSetA = y1.union(x1) # merging two different set elements into one new set\n",
    "print(NewSetA)\n",
    "\n",
    "NewSetB = a1.union(b1) # merging two different sets elements into one new set\n",
    "print(NewSetB)"
   ]
  },
  {
   "cell_type": "code",
   "execution_count": 61,
   "metadata": {},
   "outputs": [
    {
     "name": "stdout",
     "output_type": "stream",
     "text": [
      "{98, 39, 74, 75, 45, 78, 56, 93, 94}\n",
      "{98, 39, 74, 75, 45, 78, 56, 93, 94}\n"
     ]
    }
   ],
   "source": [
    "Set1 = {45, 78, 98, 56, 39, 93, 75, 94, 74, 98, 75, 56}\n",
    "Set2 = {56, 75, 98, 74, 94, 75, 93, 39, 56, 98, 78, 45}\n",
    "print(Set1)\n",
    "print(Set2)"
   ]
  },
  {
   "cell_type": "code",
   "execution_count": 62,
   "metadata": {},
   "outputs": [
    {
     "name": "stdout",
     "output_type": "stream",
     "text": [
      "{39, 40, 10, 50, 20, 30}\n",
      "{100, 70, 80, 23, 90, 60}\n"
     ]
    }
   ],
   "source": [
    "# Set is mutable variable, you can add & remove, elements of Set\n",
    "# Adding new single element in Set\n",
    "# you cant add multiple elements at a time\n",
    "s1.add(39) # add one element at a time\n",
    "s2.add(23)\n",
    "print(s1)\n",
    "print(s2)"
   ]
  },
  {
   "cell_type": "code",
   "execution_count": 7,
   "metadata": {},
   "outputs": [
    {
     "name": "stdout",
     "output_type": "stream",
     "text": [
      "{'Michiko', True, (-98-8j), None, 56, 89.67}\n",
      "{'Michiko', True, (-98-8j), None, frozenset({'frozen', (78+5j)}), ('Tuple', (33-8j)), 85, 56, 89.67}\n"
     ]
    }
   ],
   "source": [
    "Set = {56, 89.67, True, \"Michiko\", None, -98-8j}\n",
    "print(Set)\n",
    "Set.add(85)                                     # Insert one element at a time in the Set{}\n",
    "Set.add((\"Tuple\", 33-8j))                      # Insert multiple elements as Tuple() format\n",
    "Set.add(frozenset({\"frozen\", 78+5j}))    # Insert multiple elements as frozenset({}) format\n",
    "print(Set)"
   ]
  },
  {
   "cell_type": "code",
   "execution_count": 63,
   "metadata": {},
   "outputs": [
    {
     "name": "stdout",
     "output_type": "stream",
     "text": [
      "[39, 40, 10, 50, 20, 30, 'appends1']\n",
      "[100, 70, 80, 23, 90, 60, 'appends2']\n",
      "<class 'list'>\n",
      "<class 'list'>\n",
      "{39, 40, 10, 50, 'appends1', 20, 30}\n",
      "{'appends2', 100, 70, 80, 23, 90, 60}\n",
      "<class 'set'>\n",
      "<class 'set'>\n"
     ]
    }
   ],
   "source": [
    "s1_List = list(s1) # Convert set{} into list[]\n",
    "s2_List = list(s2) # Convert set{} into list[]\n",
    "s1_List.append(\"appends1\") # list[] got appended\n",
    "s2_List.append(\"appends2\") # list[] got appended\n",
    "print(s1_List)\n",
    "print(s2_List)\n",
    "print(type(s1_List))\n",
    "print(type(s2_List))\n",
    "s1_append = set(s1_List) # appended list[] got converted back into set{}\n",
    "s2_append = set(s2_List) # appended list[] got converted back into set{}\n",
    "print(s1_append)\n",
    "print(s2_append)\n",
    "print(type(s1_append))\n",
    "print(type(s2_append))"
   ]
  },
  {
   "cell_type": "code",
   "execution_count": 49,
   "metadata": {},
   "outputs": [
    {
     "name": "stdout",
     "output_type": "stream",
     "text": [
      "{100, 70, 80, 23, 90, 60}\n",
      "[90, 23, 100, 70, 60, 80]\n",
      "<class 'list'>\n",
      "(90, 23, 100, 70, 60, 80)\n",
      "<class 'tuple'>\n"
     ]
    }
   ],
   "source": [
    "import random\n",
    "print(s2)\n",
    "RandSamp_Set_List = random.sample(s2, k=len(s2)) # randomly pick any 3 elements from set{} s2 & saved it as list[]\n",
    "print(RandSamp_Set_List)\n",
    "print(type(RandSamp_Set_List))\n",
    "\n",
    "RandSamp_Set = tuple(RandSamp_Set_List)    # Convert back that sample list[] into set{}\n",
    "print(RandSamp_Set)\n",
    "print(type(RandSamp_Set))"
   ]
  },
  {
   "cell_type": "code",
   "execution_count": 50,
   "metadata": {},
   "outputs": [
    {
     "ename": "TypeError",
     "evalue": "'set' object is not subscriptable",
     "output_type": "error",
     "traceback": [
      "\u001b[0;31m---------------------------------------------------------------------------\u001b[0m",
      "\u001b[0;31mTypeError\u001b[0m                                 Traceback (most recent call last)",
      "Cell \u001b[0;32mIn[50], line 1\u001b[0m\n\u001b[0;32m----> 1\u001b[0m \u001b[43mrandom\u001b[49m\u001b[38;5;241;43m.\u001b[39;49m\u001b[43mshuffle\u001b[49m\u001b[43m(\u001b[49m\u001b[43ms2\u001b[49m\u001b[43m)\u001b[49m\n\u001b[1;32m      2\u001b[0m \u001b[38;5;28mprint\u001b[39m(s2)\n",
      "File \u001b[0;32m~/Downloads/miniconda3/envs/ML/lib/python3.8/random.py:307\u001b[0m, in \u001b[0;36mRandom.shuffle\u001b[0;34m(self, x, random)\u001b[0m\n\u001b[1;32m    304\u001b[0m     \u001b[38;5;28;01mfor\u001b[39;00m i \u001b[38;5;129;01min\u001b[39;00m \u001b[38;5;28mreversed\u001b[39m(\u001b[38;5;28mrange\u001b[39m(\u001b[38;5;241m1\u001b[39m, \u001b[38;5;28mlen\u001b[39m(x))):\n\u001b[1;32m    305\u001b[0m         \u001b[38;5;66;03m# pick an element in x[:i+1] with which to exchange x[i]\u001b[39;00m\n\u001b[1;32m    306\u001b[0m         j \u001b[38;5;241m=\u001b[39m randbelow(i\u001b[38;5;241m+\u001b[39m\u001b[38;5;241m1\u001b[39m)\n\u001b[0;32m--> 307\u001b[0m         x[i], x[j] \u001b[38;5;241m=\u001b[39m \u001b[43mx\u001b[49m\u001b[43m[\u001b[49m\u001b[43mj\u001b[49m\u001b[43m]\u001b[49m, x[i]\n\u001b[1;32m    308\u001b[0m \u001b[38;5;28;01melse\u001b[39;00m:\n\u001b[1;32m    309\u001b[0m     _int \u001b[38;5;241m=\u001b[39m \u001b[38;5;28mint\u001b[39m\n",
      "\u001b[0;31mTypeError\u001b[0m: 'set' object is not subscriptable"
     ]
    }
   ],
   "source": [
    "random.shuffle(s2)\n",
    "print(s2)"
   ]
  },
  {
   "cell_type": "code",
   "execution_count": 51,
   "metadata": {},
   "outputs": [
    {
     "ename": "AttributeError",
     "evalue": "'set' object has no attribute 'sort'",
     "output_type": "error",
     "traceback": [
      "\u001b[0;31m---------------------------------------------------------------------------\u001b[0m",
      "\u001b[0;31mAttributeError\u001b[0m                            Traceback (most recent call last)",
      "Cell \u001b[0;32mIn[51], line 1\u001b[0m\n\u001b[0;32m----> 1\u001b[0m \u001b[43ms2\u001b[49m\u001b[38;5;241;43m.\u001b[39;49m\u001b[43msort\u001b[49m()\n\u001b[1;32m      2\u001b[0m \u001b[38;5;28mprint\u001b[39m(s2)\n",
      "\u001b[0;31mAttributeError\u001b[0m: 'set' object has no attribute 'sort'"
     ]
    }
   ],
   "source": [
    "s2.sort()\n",
    "print(s2)"
   ]
  },
  {
   "cell_type": "code",
   "execution_count": 52,
   "metadata": {},
   "outputs": [
    {
     "data": {
      "text/plain": [
       "['Prashant', 10.1, False]"
      ]
     },
     "execution_count": 52,
     "metadata": {},
     "output_type": "execute_result"
    }
   ],
   "source": [
    "random.sample(s3, 3) # randomly pick any 3 elements from set s3"
   ]
  },
  {
   "cell_type": "code",
   "execution_count": 53,
   "metadata": {},
   "outputs": [
    {
     "name": "stdout",
     "output_type": "stream",
     "text": [
      "{39, 40, 10, 50, 20, 30}\n",
      "{100, 70, 80, 23, 90, 60}\n",
      "{39, 10, 50, 20, 30}\n",
      "{100, 70, 80, 23, 60}\n"
     ]
    }
   ],
   "source": [
    "print(s1)\n",
    "print(s2)\n",
    "s1.remove(40) # Remove element 40 from s1 Set\n",
    "s2.remove(90) # Remove element 90 from s2 Set\n",
    "print(s1)\n",
    "print(s2)"
   ]
  },
  {
   "cell_type": "code",
   "execution_count": 54,
   "metadata": {},
   "outputs": [
    {
     "name": "stdout",
     "output_type": "stream",
     "text": [
      "{39, 10, 50, 20, 30}\n",
      "{100, 70, 80, 23, 60}\n",
      "{39, 50, 20, 30}\n",
      "{100, 70, 80, 60}\n"
     ]
    }
   ],
   "source": [
    "print(s1)\n",
    "print(s2)\n",
    "s1.discard(10) # Remove element 10 from s1 Set\n",
    "s2.discard(23) # Remove element 23 from s2 Set\n",
    "print(s1)\n",
    "print(s2)"
   ]
  },
  {
   "cell_type": "code",
   "execution_count": 55,
   "metadata": {},
   "outputs": [
    {
     "name": "stdout",
     "output_type": "stream",
     "text": [
      "{True, (89-5j), 11.11, 56, 89, 'Jenny'}\n",
      "{39, 50, 20, 30}\n",
      "{100, 70, 80, 60}\n",
      "{50, 20, 30}\n",
      "{70, 80, 60}\n",
      "{(89-5j), 11.11, 56, 89, 'Jenny'}\n"
     ]
    }
   ],
   "source": [
    "Set1 = {\"Jenny\", 89, True, 56, 89-5j, 11.11}\n",
    "print(Set1)\n",
    "print(s1)\n",
    "print(s2)\n",
    "s1.pop() # Bydefault delete the first 1st Element of set\n",
    "s2.pop() # Bydefault delete the first 1st Element of set\n",
    "Set1.pop() # Bydefault delete the first 1st Element of set\n",
    "print(s1)\n",
    "print(s2)\n",
    "print(Set1)"
   ]
  },
  {
   "cell_type": "code",
   "execution_count": 56,
   "metadata": {},
   "outputs": [
    {
     "name": "stdout",
     "output_type": "stream",
     "text": [
      "(1, 2, 3, 4.9, 5, 78.4, True, 68, 33, 22, False, 12)\n"
     ]
    },
    {
     "data": {
      "text/plain": [
       "(tuple, 12, False, 78.4, 230.3)"
      ]
     },
     "execution_count": 56,
     "metadata": {},
     "output_type": "execute_result"
    }
   ],
   "source": [
    "NumSet = (1, 2, 3, 4.9, 5, 78.4, True, 68, 33, 22, False, 12)\n",
    "\n",
    "print(NumSet)\n",
    "\n",
    "type(NumSet), len(NumSet), min(NumSet), max(NumSet), sum(NumSet)"
   ]
  },
  {
   "cell_type": "code",
   "execution_count": 349,
   "metadata": {},
   "outputs": [
    {
     "ename": "TypeError",
     "evalue": "unsupported operand type(s) for +: 'set' and 'set'",
     "output_type": "error",
     "traceback": [
      "\u001b[0;31m---------------------------------------------------------------------------\u001b[0m",
      "\u001b[0;31mTypeError\u001b[0m                                 Traceback (most recent call last)",
      "Cell \u001b[0;32mIn[349], line 1\u001b[0m\n\u001b[0;32m----> 1\u001b[0m \u001b[43ms1\u001b[49m\u001b[38;5;241;43m+\u001b[39;49m\u001b[43ms2\u001b[49m\n",
      "\u001b[0;31mTypeError\u001b[0m: unsupported operand type(s) for +: 'set' and 'set'"
     ]
    }
   ],
   "source": [
    "s1+s2 # Addition of two/more sets are not possible because indexing is not fixed... There is no sequence in elements\n",
    "      # Concatination of two/more sets are not possible because indexing is not fixed"
   ]
  },
  {
   "cell_type": "code",
   "execution_count": 350,
   "metadata": {},
   "outputs": [
    {
     "ename": "TypeError",
     "evalue": "unsupported operand type(s) for *: 'set' and 'set'",
     "output_type": "error",
     "traceback": [
      "\u001b[0;31m---------------------------------------------------------------------------\u001b[0m",
      "\u001b[0;31mTypeError\u001b[0m                                 Traceback (most recent call last)",
      "Cell \u001b[0;32mIn[350], line 1\u001b[0m\n\u001b[0;32m----> 1\u001b[0m \u001b[43ms1\u001b[49m\u001b[38;5;241;43m*\u001b[39;49m\u001b[43ms2\u001b[49m\n",
      "\u001b[0;31mTypeError\u001b[0m: unsupported operand type(s) for *: 'set' and 'set'"
     ]
    }
   ],
   "source": [
    "s1*s2 # Multiplication of two/more sets are not possible because indexing is not fixed"
   ]
  },
  {
   "cell_type": "code",
   "execution_count": 351,
   "metadata": {},
   "outputs": [
    {
     "ename": "TypeError",
     "evalue": "unsupported operand type(s) for /: 'set' and 'set'",
     "output_type": "error",
     "traceback": [
      "\u001b[0;31m---------------------------------------------------------------------------\u001b[0m",
      "\u001b[0;31mTypeError\u001b[0m                                 Traceback (most recent call last)",
      "Cell \u001b[0;32mIn[351], line 1\u001b[0m\n\u001b[0;32m----> 1\u001b[0m \u001b[43ms1\u001b[49m\u001b[38;5;241;43m/\u001b[39;49m\u001b[43ms2\u001b[49m\n",
      "\u001b[0;31mTypeError\u001b[0m: unsupported operand type(s) for /: 'set' and 'set'"
     ]
    }
   ],
   "source": [
    "s1/s2 # Division of two/more sets are not possible because indexing is not fixed"
   ]
  },
  {
   "cell_type": "code",
   "execution_count": 352,
   "metadata": {},
   "outputs": [],
   "source": [
    "# Sets always maintain unique values\n",
    "# https://www.w3schools.com/python/python_sets.asp"
   ]
  },
  {
   "cell_type": "markdown",
   "metadata": {},
   "source": [
    "## Dictionary is Collection of Key:Value Pair Combinations\n",
    "1. Dictioneries are Unordered\n",
    "2. Dictioneries don't allow duplicate keys\n",
    "3. Keys always should be immutable ie String or Numeric\n",
    "4. Dict[Key] #Shows Values of the Key\n",
    "5. Dict.get(Key) #Shows Values of the Key\n",
    "6. Dict[Key].index(Value) #See the Index of mentioned Value. One element Value at a time.\n",
    "7. Dict[Key][:] #Dict Key:Value pair indexing\n",
    "8. Dict[Key][::3] #Dict Key:Value pair indexing from start to end by hopping 3 elements cycle\n",
    "9. Dict[Key].append([e1, e2, e3]) #append in List[] format at the end position\n",
    "10. Dict[Key].insert(2, [\"Magenta\", \"White\", \"Pink\"]) #insert new value elements in List[] format at the place of mentioned index\n",
    "11. Dict[Key][Index:0] = e1, e2, e3, e4 #Plugin new value elements at the place of mentioned index\n",
    "12. Dict[Key][Index:0] = [e1] #While plugging in single value element e1 as Array[]\n",
    "13. Dict[Key][index] = e1, e2, e3, e4 #Mentioned value index element got replaced by e1, e2, e3, e4 value elements. Tuple() format\n",
    "14. Dict[Key][index] = e1 #Mentioned index value element got replaced by single alone e1 element\n",
    "15. Dict[Key][index] = [e1, e2, e3, e4] #Mentioned index value elements got replaced by e1, e2, e3, e4 value elements. List[] format\n",
    "16. Dict[Key][4:8] = e1, e2, e3, e4 #While replacing value elements from index 4 to index 7\n",
    "17. Dict[Key][4:8] = [e1] # From 4 to 8 exclusive upperbound multiple index value elements will be replaced by single value e1 as Array[]\n",
    "18. Dict[Key].extend([e1, e2, e3, e4]) #Add multiple indivisual value elements to the end position\n",
    "19. Dict[Key][len(Dict[Key]):0] = e1, e2, e3, e4 #Plugin new value elements at the end position\n",
    "20. Dict[Key][len(Dict[Key]):0] = [e1] #While plugging in single value element e1 as Array[]\n",
    "21. Nested_Dict[Root_Key][Nest_Key1][Nest_Key2][Nest_Key3] #Show Values of Nested Keys\n",
    "22. Nested_Dict.get(Root_Key).get(Nest_Key1).get(Nest_Key2).get(Nest_Key3) #Show Values of Nested Keys\n",
    "23. random.shuffle(Dict[\"City\"]) #Shuffle the value elements of \"City\" key Randomly\n",
    "24. Dict[Key] = random.sample(Dict[Key], k=len(Dict[Key])) #Pick randomly equal length sample value elements, without repetitions\n",
    "25. Dict[Key].pop() #By default delete the last value element of Key\n",
    "26. Dict[Key].pop(index) #delete the mentioned Index value element\n",
    "27. Dict.pop(Key) #delete that particular Key:Value pair.\n",
    "28. del Dict[Key] #delete that particular Key:Value Pair.\n",
    "29. Dict[Key].count(Element) #Count the mentioned value Element frequency. One value element at a time.\n",
    "30. Dict[Key].remove(Element) #delete the mentioned value Element, remove() is applicable for List & Set only\n",
    "31. Dict[Key].sort() #When the Dict[Key] value element data types are Integer, Float, Bool\n",
    "32. Dict[Key] = sorted(Dict[Key]) #When the Dict[Key] element data types are Integer, Float, Bool\n",
    "33. Dict.keys() #Show all keys\n",
    "34. Dict.values() #Show all values\n",
    "35. list(Dict.items()) #Show all Key:Value Pairs as Tuples & Convert it into List[]\n",
    "36. Dict1.update(Dict2) #Adds Key:Value Pairs of Dict2 within Dict1\n",
    "37. min(Dict[Key]), max(Dict[Key]), sum(Dict[Key]) #When the Dict[Key] value element data types are Integer, Float, Bool\n",
    "38. sys.getsizeof(Dict) #This will show the size of Dict dictionery"
   ]
  },
  {
   "cell_type": "code",
   "execution_count": 40,
   "metadata": {},
   "outputs": [
    {
     "name": "stdout",
     "output_type": "stream",
     "text": [
      "{'Fruits': ['Apple', 'Mango', 'Grapes', 'Pineapple', 'Guava'], 'City': ['Bangalore', 'Mumbai', 'Chennai', 'Kolkata', 'Delhi'], 'Colour': ['Red', 'Green', 'Blue', 'Yellow', 'Purple'], 'Integer': [45, 67, 78, 89, 245], 'Float': [67.56, 78.98, 45.48, 99.99, 56.68], 'Complex': [(78-9j), (45+5j), (89-5j), (56-8j), (38+8j)], 'Boolean': [True, False, True, False, True], 'Mixture': [89, 67.99, (56-4j), True, 'String']}\n",
      "\n",
      "<class 'dict'>\n",
      "\n",
      "8\n",
      "\n",
      "dict_keys(['Fruits', 'City', 'Colour', 'Integer', 'Float', 'Complex', 'Boolean', 'Mixture'])\n",
      "\n",
      "dict_values([['Apple', 'Mango', 'Grapes', 'Pineapple', 'Guava'], ['Bangalore', 'Mumbai', 'Chennai', 'Kolkata', 'Delhi'], ['Red', 'Green', 'Blue', 'Yellow', 'Purple'], [45, 67, 78, 89, 245], [67.56, 78.98, 45.48, 99.99, 56.68], [(78-9j), (45+5j), (89-5j), (56-8j), (38+8j)], [True, False, True, False, True], [89, 67.99, (56-4j), True, 'String']])\n",
      "\n",
      "dict_items([('Fruits', ['Apple', 'Mango', 'Grapes', 'Pineapple', 'Guava']), ('City', ['Bangalore', 'Mumbai', 'Chennai', 'Kolkata', 'Delhi']), ('Colour', ['Red', 'Green', 'Blue', 'Yellow', 'Purple']), ('Integer', [45, 67, 78, 89, 245]), ('Float', [67.56, 78.98, 45.48, 99.99, 56.68]), ('Complex', [(78-9j), (45+5j), (89-5j), (56-8j), (38+8j)]), ('Boolean', [True, False, True, False, True]), ('Mixture', [89, 67.99, (56-4j), True, 'String'])])\n"
     ]
    }
   ],
   "source": [
    "# Create a Dictionary -----> {}  ---- data is represented in the form of Key, Value type\n",
    "# We use Dictionary to customise the indexing\n",
    "# Elements of Dictionary always written inside {}\n",
    "# Here key is the index & value is the element\n",
    "# There could be lots of elements under each key\n",
    "\n",
    "Dict = {'Fruits' : ['Apple', 'Mango', 'Grapes', 'Pineapple', 'Guava'],\n",
    "        'City' : ['Bangalore', 'Mumbai', 'Chennai', 'Kolkata', 'Delhi'],\n",
    "        'Colour' : ['Red', 'Green', 'Blue', 'Yellow', 'Purple'],\n",
    "        'Integer' : [45, 67, 78, 89, 245],\n",
    "        'Float' : [67.56, 78.98, 45.48, 99.99, 56.68],\n",
    "        'Complex' : [78-9j, 45+5j, 89-5j, 56-8j, 38+8j],\n",
    "        'Boolean' : [True, False, True, False, True],\n",
    "        'Mixture' : [89, 67.99, 56-4j, True, 'String']}\n",
    "\n",
    "print(Dict)\n",
    "print()\n",
    "print(type(Dict))\n",
    "print()\n",
    "print(len(Dict))      # Total number of Key:Value Pairs\n",
    "print()\n",
    "print(Dict.keys())     # Show all keys\n",
    "print()\n",
    "print(Dict.values())   # Show all values\n",
    "print()\n",
    "print(Dict.items())    # Show all Key:Value Pairs as Tuples & got converted into list()\n",
    "# We use dictionary in a situation where we need Lookup tables."
   ]
  },
  {
   "cell_type": "code",
   "execution_count": 41,
   "metadata": {},
   "outputs": [
    {
     "name": "stdout",
     "output_type": "stream",
     "text": [
      "{'Date': [0.05, 0.025, 0.016666666666666666, 0.0125, 0.01, 0.008333333333333333], 'Temperature': [32, 35, 28, 24, 32, 31], 'WindSpeed': [6, 7, 2, 7, 4, 2], 'Event': ['Rain', 'Sunny', 'Snow', 'Snow', 'Rain', 'Sunny']}\n",
      "\n",
      "<class 'dict'>\n",
      "\n",
      "4\n",
      "\n",
      "dict_keys(['Date', 'Temperature', 'WindSpeed', 'Event'])\n",
      "\n",
      "dict_values([[0.05, 0.025, 0.016666666666666666, 0.0125, 0.01, 0.008333333333333333], [32, 35, 28, 24, 32, 31], [6, 7, 2, 7, 4, 2], ['Rain', 'Sunny', 'Snow', 'Snow', 'Rain', 'Sunny']])\n",
      "\n",
      "[('Date', [0.05, 0.025, 0.016666666666666666, 0.0125, 0.01, 0.008333333333333333]), ('Temperature', [32, 35, 28, 24, 32, 31]), ('WindSpeed', [6, 7, 2, 7, 4, 2]), ('Event', ['Rain', 'Sunny', 'Snow', 'Snow', 'Rain', 'Sunny'])]\n"
     ]
    }
   ],
   "source": [
    "# Creating data frame by using Dictionary\n",
    "WeatherData={\"Date\":[1/1/20,1/2/20,1/3/20,1/4/20,1/5/20,1/6/20],\n",
    "             \"Temperature\":[32,35,28,24,32,31],\n",
    "             \"WindSpeed\":[6,7,2,7,4,2],\n",
    "             \"Event\":[\"Rain\",\"Sunny\",\"Snow\",\"Snow\",\"Rain\",\"Sunny\"]}\n",
    "\n",
    "print(WeatherData)\n",
    "print()\n",
    "print(type(WeatherData))\n",
    "print()\n",
    "print(len(WeatherData))   # Total number of Key:Value Pairs\n",
    "print()\n",
    "print(WeatherData.keys())   # Show all keys\n",
    "print()\n",
    "print(WeatherData.values())   # Show all values\n",
    "print()\n",
    "print(list(WeatherData.items()))    # Show all Key:Value Pairs as Tuples & got converted into list()"
   ]
  },
  {
   "cell_type": "code",
   "execution_count": 42,
   "metadata": {},
   "outputs": [
    {
     "name": "stdout",
     "output_type": "stream",
     "text": [
      "{'List': [89, 67.99, (56-4j), True, 'String'], 'Tuple': ('String', (78+9j), 78.99, False, 56), 'Set': {(76-4j), True, 45.45, 89, 'Set'}}\n",
      "\n",
      "<class 'dict'>\n",
      "\n",
      "3\n",
      "\n",
      "dict_keys(['List', 'Tuple', 'Set'])\n",
      "\n",
      "dict_values([[89, 67.99, (56-4j), True, 'String'], ('String', (78+9j), 78.99, False, 56), {(76-4j), True, 45.45, 89, 'Set'}])\n",
      "\n",
      "[('List', [89, 67.99, (56-4j), True, 'String']), ('Tuple', ('String', (78+9j), 78.99, False, 56)), ('Set', {(76-4j), True, 45.45, 89, 'Set'})]\n"
     ]
    }
   ],
   "source": [
    "Multi = {\"List\" : [89, 67.99, 56-4j, True, 'String'],\n",
    "         \"Tuple\" : (\"String\", 78+9j, 78.99, False, 56),\n",
    "         \"Set\" : {True, \"Set\", 76-4j, 45.45, 89}}\n",
    "\n",
    "print(Multi)\n",
    "print()\n",
    "print(type(Multi))\n",
    "print()\n",
    "print(len(Multi))     # Total number of Key:Value Pairs\n",
    "print()\n",
    "print(Multi.keys())   # Show all keys\n",
    "print()\n",
    "print(Multi.values())  # Show all values\n",
    "print()\n",
    "print(list(Multi.items()))    # Show all Key:Value Pairs as Tuples & got converted into list()"
   ]
  },
  {
   "cell_type": "markdown",
   "metadata": {},
   "source": [
    "### Creating Nested Dictionery"
   ]
  },
  {
   "cell_type": "code",
   "execution_count": 43,
   "metadata": {},
   "outputs": [
    {
     "name": "stdout",
     "output_type": "stream",
     "text": [
      "{'Student': {'Name': {'Kunaal': {'Marks': {'Physics': 0.89, 'Chem': 0.67, 'Math': 0.87, 'Bio': 0.99}}, 'Anwesh': {'Marks': {'Physics': 0.66, 'Chem': 0.88, 'Math': 0.72, 'Bio': 0.57}}, 'Shibu': {'Marks': {'Physics': 0.69, 'Chem': 0.81, 'Math': 0.7, 'Bio': 0.5}}}}}\n",
      "\n",
      "<class 'dict'>\n",
      "\n",
      "dict_keys(['Student'])\n",
      "\n",
      "dict_values([{'Name': {'Kunaal': {'Marks': {'Physics': 0.89, 'Chem': 0.67, 'Math': 0.87, 'Bio': 0.99}}, 'Anwesh': {'Marks': {'Physics': 0.66, 'Chem': 0.88, 'Math': 0.72, 'Bio': 0.57}}, 'Shibu': {'Marks': {'Physics': 0.69, 'Chem': 0.81, 'Math': 0.7, 'Bio': 0.5}}}}])\n",
      "\n",
      "[('Student', {'Name': {'Kunaal': {'Marks': {'Physics': 0.89, 'Chem': 0.67, 'Math': 0.87, 'Bio': 0.99}}, 'Anwesh': {'Marks': {'Physics': 0.66, 'Chem': 0.88, 'Math': 0.72, 'Bio': 0.57}}, 'Shibu': {'Marks': {'Physics': 0.69, 'Chem': 0.81, 'Math': 0.7, 'Bio': 0.5}}}})]\n"
     ]
    }
   ],
   "source": [
    "Nested_Dict6 = {\"Student\" : {\"Name\" : {\"Kunaal\" : {\"Marks\" : {\"Physics\" : 89/100,\n",
    "                                                              \"Chem\" : 67/100,\n",
    "                                                              \"Math\" : 87/100,\n",
    "                                                              \"Bio\" : 99/100}},\n",
    "                                       \"Anwesh\" : {\"Marks\" : {\"Physics\" : 66/100,\n",
    "                                                              \"Chem\" : 88/100,\n",
    "                                                              \"Math\" : 72/100,\n",
    "                                                              \"Bio\" : 57/100}},\n",
    "                                       \"Shibu\" : {\"Marks\" : {\"Physics\" : 69/100,\n",
    "                                                             \"Chem\" : 81/100,\n",
    "                                                             \"Math\" : 70/100,\n",
    "                                                             \"Bio\" : 50/100}}}}}\n",
    "\n",
    "print(Nested_Dict6)\n",
    "print()\n",
    "print(type(Nested_Dict6))\n",
    "print()\n",
    "print(Nested_Dict6.keys())  # # Shows root key of the Nested Dictionery\n",
    "print()\n",
    "print(Nested_Dict6.values())  # Show all values\n",
    "print()\n",
    "print(list(Nested_Dict6.items()))    # Show all Key:Value Pairs as Tuples & got converted into list()"
   ]
  },
  {
   "cell_type": "code",
   "execution_count": 463,
   "metadata": {},
   "outputs": [
    {
     "name": "stdout",
     "output_type": "stream",
     "text": [
      "{'Name': {'Kunaal': {'Marks': {'Physics': 0.89, 'Chem': 0.67, 'Math': 0.87, 'Bio': 0.99}}, 'Anwesh': {'Marks': {'Physics': 0.66, 'Chem': 0.88, 'Math': 0.72, 'Bio': 0.57}}, 'Shibu': {'Marks': {'Physics': 0.69, 'Chem': 0.81, 'Math': 0.7, 'Bio': 0.5}}}}\n",
      "\n",
      "{'Kunaal': {'Marks': {'Physics': 0.89, 'Chem': 0.67, 'Math': 0.87, 'Bio': 0.99}}, 'Anwesh': {'Marks': {'Physics': 0.66, 'Chem': 0.88, 'Math': 0.72, 'Bio': 0.57}}, 'Shibu': {'Marks': {'Physics': 0.69, 'Chem': 0.81, 'Math': 0.7, 'Bio': 0.5}}}\n",
      "\n",
      "{'Physics': 0.89, 'Chem': 0.67, 'Math': 0.87, 'Bio': 0.99}\n",
      "\n",
      "{'Physics': 0.66, 'Chem': 0.88, 'Math': 0.72, 'Bio': 0.57}\n",
      "\n",
      "{'Physics': 0.69, 'Chem': 0.81, 'Math': 0.7, 'Bio': 0.5}\n"
     ]
    }
   ],
   "source": [
    "print(Nested_Dict6[\"Student\"])\n",
    "print()\n",
    "print(Nested_Dict6[\"Student\"][\"Name\"])\n",
    "print()\n",
    "print(Nested_Dict6[\"Student\"][\"Name\"][\"Kunaal\"][\"Marks\"])\n",
    "print()\n",
    "print(Nested_Dict6[\"Student\"][\"Name\"][\"Anwesh\"][\"Marks\"])\n",
    "print()\n",
    "print(Nested_Dict6[\"Student\"][\"Name\"][\"Shibu\"][\"Marks\"])"
   ]
  },
  {
   "cell_type": "code",
   "execution_count": 464,
   "metadata": {},
   "outputs": [
    {
     "name": "stdout",
     "output_type": "stream",
     "text": [
      "{'Name': {'Kunaal': {'Marks': {'Physics': 0.89, 'Chem': 0.67, 'Math': 0.87, 'Bio': 0.99}}, 'Anwesh': {'Marks': {'Physics': 0.66, 'Chem': 0.88, 'Math': 0.72, 'Bio': 0.57}}, 'Shibu': {'Marks': {'Physics': 0.69, 'Chem': 0.81, 'Math': 0.7, 'Bio': 0.5}}}}\n",
      "\n",
      "{'Kunaal': {'Marks': {'Physics': 0.89, 'Chem': 0.67, 'Math': 0.87, 'Bio': 0.99}}, 'Anwesh': {'Marks': {'Physics': 0.66, 'Chem': 0.88, 'Math': 0.72, 'Bio': 0.57}}, 'Shibu': {'Marks': {'Physics': 0.69, 'Chem': 0.81, 'Math': 0.7, 'Bio': 0.5}}}\n",
      "\n",
      "{'Physics': 0.89, 'Chem': 0.67, 'Math': 0.87, 'Bio': 0.99}\n",
      "\n",
      "{'Physics': 0.66, 'Chem': 0.88, 'Math': 0.72, 'Bio': 0.57}\n",
      "\n",
      "{'Physics': 0.69, 'Chem': 0.81, 'Math': 0.7, 'Bio': 0.5}\n"
     ]
    }
   ],
   "source": [
    "print(Nested_Dict6.get(\"Student\"))\n",
    "print()\n",
    "print(Nested_Dict6.get(\"Student\").get(\"Name\"))\n",
    "print()\n",
    "print(Nested_Dict6.get(\"Student\").get(\"Name\").get(\"Kunaal\").get(\"Marks\"))\n",
    "print()\n",
    "print(Nested_Dict6.get(\"Student\").get(\"Name\").get(\"Anwesh\").get(\"Marks\"))\n",
    "print()\n",
    "print(Nested_Dict6.get(\"Student\").get(\"Name\").get(\"Shibu\").get(\"Marks\"))    #Show Values of Nested Keys"
   ]
  },
  {
   "cell_type": "code",
   "execution_count": 465,
   "metadata": {},
   "outputs": [
    {
     "name": "stdout",
     "output_type": "stream",
     "text": [
      "{'Student': {'Name': ['Kunaal', 'Anwesh', 'Rohit'], 'Kunaal': {'Marks': {'Physics': 0.89, 'Chemistry': 0.67, 'Math': 0.87, 'Biology': 0.99}}, 'Anwesh': {'Marks': {'Physics': 0.84, 'Chemistry': 0.65, 'Math': 0.77, 'Biology': 0.55}}, 'Rohit': {'Marks': {'Physics': 0.72, 'Chemistry': 0.68, 'Math': 0.83, 'Biology': 0.74}}}}\n",
      "\n",
      "<class 'dict'>\n",
      "\n",
      "dict_keys(['Student'])\n",
      "\n",
      "dict_values([{'Name': ['Kunaal', 'Anwesh', 'Rohit'], 'Kunaal': {'Marks': {'Physics': 0.89, 'Chemistry': 0.67, 'Math': 0.87, 'Biology': 0.99}}, 'Anwesh': {'Marks': {'Physics': 0.84, 'Chemistry': 0.65, 'Math': 0.77, 'Biology': 0.55}}, 'Rohit': {'Marks': {'Physics': 0.72, 'Chemistry': 0.68, 'Math': 0.83, 'Biology': 0.74}}}])\n",
      "\n",
      "[('Student', {'Name': ['Kunaal', 'Anwesh', 'Rohit'], 'Kunaal': {'Marks': {'Physics': 0.89, 'Chemistry': 0.67, 'Math': 0.87, 'Biology': 0.99}}, 'Anwesh': {'Marks': {'Physics': 0.84, 'Chemistry': 0.65, 'Math': 0.77, 'Biology': 0.55}}, 'Rohit': {'Marks': {'Physics': 0.72, 'Chemistry': 0.68, 'Math': 0.83, 'Biology': 0.74}}})]\n"
     ]
    }
   ],
   "source": [
    "Nested_Dict5 = {\"Student\" : {\"Name\" : [\"Kunaal\", \"Anwesh\", \"Rohit\"],\n",
    "                             \"Kunaal\" : {\"Marks\" : {\"Physics\" : 89/100,\n",
    "                                                    \"Chemistry\" : 67/100,\n",
    "                                                    \"Math\" : 87/100,\n",
    "                                                    \"Biology\" : 99/100}},\n",
    "                             \"Anwesh\" : {\"Marks\" : {\"Physics\" : 84/100,\n",
    "                                                    \"Chemistry\" : 65/100,\n",
    "                                                    \"Math\" : 77/100,\n",
    "                                                    \"Biology\" : 55/100}},\n",
    "                              \"Rohit\" : {\"Marks\" : {\"Physics\" : 72/100,\n",
    "                                                    \"Chemistry\" : 68/100,\n",
    "                                                    \"Math\" : 83/100,\n",
    "                                                    \"Biology\" : 74/100}}}}\n",
    "\n",
    "print(Nested_Dict5)\n",
    "print()\n",
    "print(type(Nested_Dict5))\n",
    "print()\n",
    "print(Nested_Dict5.keys())  # # Shows root key of the Nested Dictionery\n",
    "print()\n",
    "print(Nested_Dict5.values())  # Show all values\n",
    "print()\n",
    "print(list(Nested_Dict5.items()))    # Show all Key:Value Pairs as Tuples & got converted into list()"
   ]
  },
  {
   "cell_type": "code",
   "execution_count": 466,
   "metadata": {},
   "outputs": [
    {
     "name": "stdout",
     "output_type": "stream",
     "text": [
      "{'Name': ['Kunaal', 'Anwesh', 'Rohit'], 'Kunaal': {'Marks': {'Physics': 0.89, 'Chemistry': 0.67, 'Math': 0.87, 'Biology': 0.99}}, 'Anwesh': {'Marks': {'Physics': 0.84, 'Chemistry': 0.65, 'Math': 0.77, 'Biology': 0.55}}, 'Rohit': {'Marks': {'Physics': 0.72, 'Chemistry': 0.68, 'Math': 0.83, 'Biology': 0.74}}}\n",
      "\n",
      "['Kunaal', 'Anwesh', 'Rohit']\n",
      "\n",
      "{'Physics': 0.89, 'Chemistry': 0.67, 'Math': 0.87, 'Biology': 0.99}\n",
      "\n",
      "{'Physics': 0.84, 'Chemistry': 0.65, 'Math': 0.77, 'Biology': 0.55}\n",
      "\n",
      "{'Physics': 0.72, 'Chemistry': 0.68, 'Math': 0.83, 'Biology': 0.74}\n"
     ]
    }
   ],
   "source": [
    "print(Nested_Dict5[\"Student\"])\n",
    "print()\n",
    "print(Nested_Dict5[\"Student\"][\"Name\"])\n",
    "print()\n",
    "print(Nested_Dict5[\"Student\"][\"Kunaal\"][\"Marks\"])\n",
    "print()\n",
    "print(Nested_Dict5[\"Student\"][\"Anwesh\"][\"Marks\"])\n",
    "print()\n",
    "print(Nested_Dict5[\"Student\"][\"Rohit\"][\"Marks\"])"
   ]
  },
  {
   "cell_type": "code",
   "execution_count": 467,
   "metadata": {},
   "outputs": [
    {
     "name": "stdout",
     "output_type": "stream",
     "text": [
      "{'Name': ['Kunaal', 'Anwesh', 'Rohit'], 'Kunaal': {'Marks': {'Physics': 0.89, 'Chemistry': 0.67, 'Math': 0.87, 'Biology': 0.99}}, 'Anwesh': {'Marks': {'Physics': 0.84, 'Chemistry': 0.65, 'Math': 0.77, 'Biology': 0.55}}, 'Rohit': {'Marks': {'Physics': 0.72, 'Chemistry': 0.68, 'Math': 0.83, 'Biology': 0.74}}}\n",
      "\n",
      "['Kunaal', 'Anwesh', 'Rohit']\n",
      "\n",
      "{'Physics': 0.89, 'Chemistry': 0.67, 'Math': 0.87, 'Biology': 0.99}\n",
      "\n",
      "{'Physics': 0.84, 'Chemistry': 0.65, 'Math': 0.77, 'Biology': 0.55}\n",
      "\n",
      "{'Physics': 0.72, 'Chemistry': 0.68, 'Math': 0.83, 'Biology': 0.74}\n"
     ]
    }
   ],
   "source": [
    "print(Nested_Dict5.get(\"Student\"))\n",
    "print()\n",
    "print(Nested_Dict5.get(\"Student\").get(\"Name\"))\n",
    "print()\n",
    "print(Nested_Dict5.get(\"Student\").get(\"Kunaal\").get(\"Marks\"))\n",
    "print()\n",
    "print(Nested_Dict5.get(\"Student\").get(\"Anwesh\").get(\"Marks\"))\n",
    "print()\n",
    "print(Nested_Dict5.get(\"Student\").get(\"Rohit\").get(\"Marks\"))    #Show Values of Nested Keys"
   ]
  },
  {
   "cell_type": "code",
   "execution_count": 468,
   "metadata": {},
   "outputs": [
    {
     "name": "stdout",
     "output_type": "stream",
     "text": [
      "<class 'list'> <class 'tuple'> <class 'set'>\n",
      "\n",
      "{'List1': [22, (56+6j), 73.56, True, 'List'], 'Tuple2': (89, (67-4j), False, 'Tuple', 55.96), 'Set3': {True, 39.56, 'Set', 55, (66-2j)}}\n",
      "\n",
      "dict_keys(['List1', 'Tuple2', 'Set3'])\n",
      "\n",
      "dict_values([[22, (56+6j), 73.56, True, 'List'], (89, (67-4j), False, 'Tuple', 55.96), {True, 39.56, 'Set', 55, (66-2j)}])\n",
      "\n",
      "[('List1', [22, (56+6j), 73.56, True, 'List']), ('Tuple2', (89, (67-4j), False, 'Tuple', 55.96)), ('Set3', {True, 39.56, 'Set', 55, (66-2j)})]\n"
     ]
    }
   ],
   "source": [
    "Null_Dict = {}\n",
    "Null_Dict\n",
    "Null_Dict[\"List1\"] = [22, 56+6j, 73.56, True, \"List\"]\n",
    "Null_Dict[\"Tuple2\"] = (89, 67-4j, False, \"Tuple\", 55.96)\n",
    "Null_Dict[\"Set3\"] = {\"Set\", 66-2j, 39.56, 55, True}\n",
    "\n",
    "\n",
    "print(type(Null_Dict[\"List1\"]), type(Null_Dict[\"Tuple2\"]), type(Null_Dict[\"Set3\"]))\n",
    "print()\n",
    "print(Null_Dict)\n",
    "print()\n",
    "print(Null_Dict.keys())  # # Shows root key of the Nested Dictionery\n",
    "print()\n",
    "print(Null_Dict.values())  # Show all values\n",
    "print()\n",
    "print(list(Null_Dict.items()))    # Show all Key:Value Pairs as Tuples & got converted into list()"
   ]
  },
  {
   "cell_type": "code",
   "execution_count": 469,
   "metadata": {},
   "outputs": [
    {
     "name": "stdout",
     "output_type": "stream",
     "text": [
      "1 0 5\n"
     ]
    }
   ],
   "source": [
    "print(WeatherData[\"Event\"].index(\"Sunny\"), WeatherData[\"Temperature\"].index(32), WeatherData[\"Date\"].index(1/6/20))"
   ]
  },
  {
   "cell_type": "code",
   "execution_count": 470,
   "metadata": {},
   "outputs": [
    {
     "name": "stdout",
     "output_type": "stream",
     "text": [
      "['Rain', 'Sunny', 'Snow', 'Snow', 'Rain', 'Sunny']\n",
      "['Rain', 'Sunny', 'Snow', 'Snow', 'Rain']\n",
      "['Rain', 'Sunny', 'Snow', 'Snow', 'Rain', 'Sunny']\n"
     ]
    }
   ],
   "source": [
    "print(WeatherData[\"Event\"][0:6]) # Show 0 to 6 excluding upperbound values\n",
    "print(WeatherData[\"Event\"][0:5]) # Show 0 to 2 excluding upperbound values\n",
    "print(WeatherData[\"Event\"])"
   ]
  },
  {
   "cell_type": "code",
   "execution_count": 471,
   "metadata": {},
   "outputs": [
    {
     "name": "stdout",
     "output_type": "stream",
     "text": [
      "['Rain', 'Sunny', 'Snow', 'Snow', 'Rain', 'Sunny']\n",
      "['Rain', 'Sunny', 'Snow', 'Snow', 'Rain']\n",
      "['Rain', 'Sunny', 'Snow', 'Snow', 'Rain', 'Sunny']\n"
     ]
    }
   ],
   "source": [
    "print(WeatherData.get(\"Event\")[0:6]) # Show 0 to 6 excluding upperbound values\n",
    "print(WeatherData.get(\"Event\")[0:5]) # Show 0 to 2 excluding upperbound values\n",
    "print(WeatherData.get(\"Event\"))"
   ]
  },
  {
   "cell_type": "code",
   "execution_count": 472,
   "metadata": {},
   "outputs": [
    {
     "name": "stdout",
     "output_type": "stream",
     "text": [
      "[32, 35, 28, 24, 32, 31]\n",
      "[32, 35, 28, 24, 32]\n",
      "[32, 35, 28, 24, 32, 31]\n"
     ]
    }
   ],
   "source": [
    "print(WeatherData[\"Temperature\"][0:6]) # Show 0 to 6 excluding upperbound values\n",
    "print(WeatherData[\"Temperature\"][0:5]) # Show 0 to 2 excluding upperbound values\n",
    "print(WeatherData[\"Temperature\"])"
   ]
  },
  {
   "cell_type": "code",
   "execution_count": 473,
   "metadata": {},
   "outputs": [
    {
     "name": "stdout",
     "output_type": "stream",
     "text": [
      "[0.05, 0.025, 0.016666666666666666, 0.0125, 0.01, 0.008333333333333333]\n",
      "[0.05, 0.025, 0.016666666666666666, 0.0125, 0.01]\n",
      "[0.05, 0.025, 0.016666666666666666, 0.0125, 0.01, 0.008333333333333333]\n"
     ]
    }
   ],
   "source": [
    "print(WeatherData[\"Date\"][0:6]) # Show 0 to 6 excluding upperbound values\n",
    "print(WeatherData[\"Date\"][0:5]) # Show 0 to 2 excluding upperbound values\n",
    "print(WeatherData[\"Date\"])"
   ]
  },
  {
   "cell_type": "code",
   "execution_count": 474,
   "metadata": {},
   "outputs": [
    {
     "name": "stdout",
     "output_type": "stream",
     "text": [
      "['Rain', 'Snow', 'Rain']\n",
      "Ri\n",
      "['Rain', 'Sunny', 'Snow', 'Snow']\n",
      "['Rain', 'Sunny', 'Snow', 'Snow', 'Rain', 'Sunny']\n",
      "['Red', 'Green', 'Blue', 'Yellow', 'Purple']\n",
      "3 4\n"
     ]
    }
   ],
   "source": [
    "print(WeatherData[\"Event\"][0:6:2])\n",
    "print(WeatherData[\"Event\"][4][0:4:2]) # 4th value \"Rain\" of key \"Event\", 0 to 4th upper bound exclusive values by hopping 2 elements cycle\n",
    "print(WeatherData[\"Event\"][0:4])\n",
    "print(WeatherData[\"Event\"])\n",
    "print(Dict[\"Colour\"])\n",
    "print(Dict[\"Colour\"].index(\"Yellow\"), Dict[\"Colour\"].index(\"Purple\"))"
   ]
  },
  {
   "cell_type": "code",
   "execution_count": 475,
   "metadata": {},
   "outputs": [
    {
     "data": {
      "text/plain": [
       "{'Fruits': ['Apple', 'Grapes', 'Guava', 'Mango', 'Pineapple'],\n",
       " 'City': ['Bangalore', 'Chennai', 'Delhi', 'Kolkata', 'Mumbai'],\n",
       " 'Colour': ['Blue', 'Green', 'Purple', 'Red', 'Yellow'],\n",
       " 'Integer': [45, 67, 78, 89, 245],\n",
       " 'Float': [45.48, 56.68, 67.56, 78.98, 99.99],\n",
       " 'Complex': [(78-9j), (45+5j), (89-5j), (56-8j), (38+8j)],\n",
       " 'Boolean': [True, False, True, False, True],\n",
       " 'Mixture': [89, 67.99, (56-4j), True, 'String']}"
      ]
     },
     "execution_count": 475,
     "metadata": {},
     "output_type": "execute_result"
    }
   ],
   "source": [
    "Dict[\"Float\"].sort()\n",
    "Dict[\"Fruits\"].sort()\n",
    "Dict[\"City\"].sort()\n",
    "Dict[\"Colour\"].sort()\n",
    "Dict[\"Integer\"].sort()\n",
    "\n",
    "Dict"
   ]
  },
  {
   "cell_type": "code",
   "execution_count": 476,
   "metadata": {},
   "outputs": [
    {
     "name": "stdout",
     "output_type": "stream",
     "text": [
      "['Rain', 'Snow']\n"
     ]
    }
   ],
   "source": [
    "print(WeatherData[\"Event\"][::3]) # 0 to last index values of \"Event\" key. By hopping 3 elements cycle"
   ]
  },
  {
   "cell_type": "code",
   "execution_count": 477,
   "metadata": {},
   "outputs": [
    {
     "name": "stdout",
     "output_type": "stream",
     "text": [
      "['Rain', 'Sunny', 'Snow', 'Snow', 'Rain', 'Sunny', ['Local', 'National', 'International']]\n",
      "{'Date': [0.05, 0.025, 0.016666666666666666, 0.0125, 0.01, 0.008333333333333333], 'Temperature': [32, 35, 28, 24, 32, 31], 'WindSpeed': [6, 7, 2, 7, 4, 2], 'Event': ['Rain', 'Sunny', 'Snow', 'Snow', 'Rain', 'Sunny', ['Local', 'National', 'International']]}\n"
     ]
    }
   ],
   "source": [
    "WeatherData[\"Event\"].append([\"Local\", \"National\", \"International\"])    #append in List[] format at the end position\n",
    "print(WeatherData[\"Event\"])\n",
    "print(WeatherData)"
   ]
  },
  {
   "cell_type": "code",
   "execution_count": 478,
   "metadata": {},
   "outputs": [
    {
     "name": "stdout",
     "output_type": "stream",
     "text": [
      "{'Fruits': ['Apple', 'Grapes', 'Guava', 'Mango', 'Pineapple'], 'City': ['Bangalore', 'Chennai', 'Delhi', 'Kolkata', 'Mumbai'], 'Colour': ['Blue', 'Green', ['Magenta', 'White', 'Pink'], 'Purple', 'Red', 'Yellow'], 'Integer': [45, 67, 78, 89, 245], 'Float': [45.48, 56.68, 67.56, 78.98, 99.99], 'Complex': [(78-9j), (45+5j), (89-5j), (56-8j), (38+8j)], 'Boolean': [True, False, True, False, True], 'Mixture': [89, 67.99, (56-4j), True, 'String']}\n"
     ]
    }
   ],
   "source": [
    "Dict[\"Colour\"].insert(2, [\"Magenta\", \"White\", \"Pink\"])   #insert new value elements in List[] format at the place of mentioned index\n",
    "print(Dict)"
   ]
  },
  {
   "cell_type": "code",
   "execution_count": 479,
   "metadata": {},
   "outputs": [
    {
     "name": "stdout",
     "output_type": "stream",
     "text": [
      "{'Fruits': ['Apple', 'Grapes', 'Guava', 'Mango', 'Pineapple'], 'City': ['Bangalore', 'Chennai', 'Delhi', 'Kolkata', 'Mumbai'], 'Colour': ['Blue', 'Green', ['Magenta', 'White', 'Pink'], 'Purple', 'Magenta', 'Brown', 'Red', 'Yellow'], 'Integer': [45, 67, 78, 89, 245], 'Float': [45.48, 56.68, 67.56, 78.98, 99.99], 'Complex': [(78-9j), (45+5j), (89-5j), (56-8j), (38+8j)], 'Boolean': [True, False, True, False, True], 'Mixture': [89, 67.99, (56-4j), True, 'String']}\n"
     ]
    }
   ],
   "source": [
    "Dict[\"Colour\"][4:0] = \"Magenta\", \"Brown\"   #\"Colour\" key, Plugin new elements \"Magenta\", \"Brown\" at the place of 4th value\n",
    "print(Dict)"
   ]
  },
  {
   "cell_type": "code",
   "execution_count": 480,
   "metadata": {},
   "outputs": [
    {
     "name": "stdout",
     "output_type": "stream",
     "text": [
      "{'Fruits': ['Apple', 'Grapes', 'Guava', 'Mango', 'Pineapple'], 'City': ['Bangalore', 'Chennai', 'Delhi', 'Kolkata', 'Hamunaptra', 'Mumbai'], 'Colour': ['Blue', 'Green', ['Magenta', 'White', 'Pink'], 'Purple', 'Magenta', 'Brown', 'Red', 'Yellow'], 'Integer': [45, 67, 78, 89, 245], 'Float': [45.48, 56.68, 67.56, 78.98, 99.99], 'Complex': [(78-9j), (45+5j), (89-5j), (56-8j), (38+8j)], 'Boolean': [True, False, True, False, True], 'Mixture': [89, 67.99, (56-4j), True, 'String']}\n"
     ]
    }
   ],
   "source": [
    "Dict[\"City\"][4:0] = [\"Hamunaptra\"] # \"Hamunaptra\" as array has been plugged in at 4th value place of key \"City\"\n",
    "print(Dict)"
   ]
  },
  {
   "cell_type": "code",
   "execution_count": 481,
   "metadata": {},
   "outputs": [
    {
     "name": "stdout",
     "output_type": "stream",
     "text": [
      "{'Fruits': ['Apple', 'Grapes', 'Guava', ('Banana', 'Potato', 'Chiku'), 'Pineapple'], 'City': ['Bangalore', 'Chennai', 'Delhi', 'Kolkata', 'Hamunaptra', 'Mumbai'], 'Colour': ['Blue', 'Green', ['Magenta', 'White', 'Pink'], 'Purple', 'Magenta', 'Brown', 'Red', 'Yellow'], 'Integer': [45, 67, 78, 89, 245], 'Float': [45.48, 56.68, 67.56, 78.98, 99.99], 'Complex': [(78-9j), (45+5j), (89-5j), (56-8j), (38+8j)], 'Boolean': [True, False, True, False, True], 'Mixture': [89, 67.99, (56-4j), True, 'String']}\n"
     ]
    }
   ],
   "source": [
    "Dict[\"Fruits\"][3] = \"Banana\", \"Potato\", \"Chiku\"   # \"Fruits\" key, 3rd value got replaced by\n",
    "print(Dict)"
   ]
  },
  {
   "cell_type": "code",
   "execution_count": 482,
   "metadata": {},
   "outputs": [
    {
     "name": "stdout",
     "output_type": "stream",
     "text": [
      "{'Fruits': ['Apple', 'Grapes', 'Guava', ('Banana', 'Potato', 'Chiku'), 'Pineapple'], 'City': ['Bangalore', 'Chennai', 'Delhi', 'Kolkata', 'Hamunaptra', 'Mumbai'], 'Colour': ['Blue', 'Green', ['Magenta', 'White', 'Pink'], 'Purple', 'Violet', 'Orange', 'Black', 'Grey'], 'Integer': [45, 67, 78, 89, 245], 'Float': [45.48, 56.68, 67.56, 78.98, 99.99], 'Complex': [(78-9j), (45+5j), (89-5j), (56-8j), (38+8j)], 'Boolean': [True, False, True, False, True], 'Mixture': [89, 67.99, (56-4j), True, 'String']}\n"
     ]
    }
   ],
   "source": [
    "Dict[\"Colour\"][4:8] = \"Violet\", \"Orange\", \"Black\", \"Grey\"  # \"Colour\" key. from 4th to 8th exclusive upperbound value got replaced by\n",
    "                                                           # replaced by \"Violet\", \"Orange\", \"Black\", \"Grey\"\n",
    "print(Dict)"
   ]
  },
  {
   "cell_type": "code",
   "execution_count": 483,
   "metadata": {},
   "outputs": [
    {
     "name": "stdout",
     "output_type": "stream",
     "text": [
      "{'Fruits': ['Apple', 'Grapes', 'Guava', ('Banana', 'Potato', 'Chiku'), 'Pineapple'], 'City': ['Bangalore', 'Chennai', 'Delhi', 'Kolkata', 'Hamunaptra', 'Mumbai'], 'Colour': ['Blue', 'Green', ['Magenta', 'White', 'Pink'], 'Purple', 'Maroon', 'Orange', 'Black', 'Grey'], 'Integer': [45, 67, 78, 89, 245], 'Float': [45.48, 56.68, 67.56, 78.98, 99.99], 'Complex': [(78-9j), (45+5j), (89-5j), (56-8j), (38+8j)], 'Boolean': [True, False, True, False, True], 'Mixture': [89, 67.99, (56-4j), True, 'String']}\n"
     ]
    }
   ],
   "source": [
    "Dict[\"Colour\"][4:5] = [\"Maroon\"]  # \"Colour\" key. from 4th to 5th value upperbound got replaced by [\"Maroon\"] as array\n",
    "print(Dict)"
   ]
  },
  {
   "cell_type": "code",
   "execution_count": 484,
   "metadata": {},
   "outputs": [
    {
     "name": "stdout",
     "output_type": "stream",
     "text": [
      "{'Fruits': ['Apple', 'Grapes', 'Guava', ('Banana', 'Potato', 'Chiku'), 'Pineapple'], 'City': ['Bangalore', 'Chennai', 'Delhi', 'Kolkata', 'Hamunaptra', 'Mumbai'], 'Colour': ['Blue', 'Green', ['Magenta', 'White', 'Pink'], 'Purple', 'Maroon', 'Michiko', 'Black', 'Grey'], 'Integer': [45, 67, 78, 89, 245], 'Float': [45.48, 56.68, 67.56, 78.98, 99.99], 'Complex': [(78-9j), (45+5j), (89-5j), (56-8j), (38+8j)], 'Boolean': [True, False, True, False, True], 'Mixture': [89, 67.99, (56-4j), True, 'String']}\n"
     ]
    }
   ],
   "source": [
    "Dict[\"Colour\"][5] = \"Michiko\" # \"Colour\" key. 5th value got replaced by \"Michiko\" alone\n",
    "print(Dict)"
   ]
  },
  {
   "cell_type": "code",
   "execution_count": 485,
   "metadata": {},
   "outputs": [
    {
     "name": "stdout",
     "output_type": "stream",
     "text": [
      "{'Date': [0.05, 0.025, 0.016666666666666666, 0.0125, 0.01, 0.008333333333333333], 'Temperature': [32, 35, 28, 24, [32, 67, 42, 69], 31], 'WindSpeed': [6, 7, 2, 7, 4, 2], 'Event': ['Rain', 'Sunny', 'Snow', 'Snow', 'Rain', 'Sunny', ['Local', 'National', 'International']]}\n"
     ]
    }
   ],
   "source": [
    "WeatherData[\"Temperature\"][4] = [32, 67, 42, 69]  # \"Temperature\" key, 4th value got replaced by 32, 67, 42, 69 in list[] format\n",
    "print(WeatherData)"
   ]
  },
  {
   "cell_type": "code",
   "execution_count": 486,
   "metadata": {},
   "outputs": [
    {
     "name": "stdout",
     "output_type": "stream",
     "text": [
      "{'Date': [0.05, 0.025, 0.016666666666666666, 0.0125, 0.01, 0.008333333333333333], 'Temperature': [32, 35, 28, 24, [32, 67, 42, 69], 31], 'WindSpeed': [6, 7, 2, 7, 4, 2, 67, 76, 87, 102], 'Event': ['Rain', 'Sunny', 'Snow', 'Snow', 'Rain', 'Sunny', ['Local', 'National', 'International']]}\n"
     ]
    }
   ],
   "source": [
    "WeatherData[\"WindSpeed\"].extend([67, 76, 87, 102])     # #Add multiple indivisual elements to the end position\n",
    "print(WeatherData)"
   ]
  },
  {
   "cell_type": "code",
   "execution_count": 487,
   "metadata": {},
   "outputs": [
    {
     "name": "stdout",
     "output_type": "stream",
     "text": [
      "{'Fruits': ['Apple', 'Grapes', 'Guava', ('Banana', 'Potato', 'Chiku'), 'Pineapple'], 'City': ['Bangalore', 'Chennai', 'Delhi', 'Kolkata', 'Hamunaptra', 'Mumbai', 'Mysore', 'Bihar', 'Malda', 'Kochi'], 'Colour': ['Blue', 'Green', ['Magenta', 'White', 'Pink'], 'Purple', 'Maroon', 'Michiko', 'Black', 'Grey'], 'Integer': [45, 67, 78, 89, 245], 'Float': [45.48, 56.68, 67.56, 78.98, 99.99], 'Complex': [(78-9j), (45+5j), (89-5j), (56-8j), (38+8j)], 'Boolean': [True, False, True, False, True], 'Mixture': [89, 67.99, (56-4j), True, 'String']}\n"
     ]
    }
   ],
   "source": [
    "Dict[\"City\"][len(Dict[\"City\"]):0] = \"Mysore\", \"Bihar\", \"Malda\", \"Kochi\"       #Plugin new elements at the end position\n",
    "print(Dict)"
   ]
  },
  {
   "cell_type": "code",
   "execution_count": 488,
   "metadata": {},
   "outputs": [
    {
     "name": "stdout",
     "output_type": "stream",
     "text": [
      "{'Fruits': ['Apple', 'Grapes', 'Guava', ('Banana', 'Potato', 'Chiku'), 'Pineapple'], 'City': ['Bangalore', 'Chennai', 'Delhi', 'Kolkata', 'Hamunaptra', 'Mumbai', 'Mysore', 'Bihar', 'Malda', 'Kochi'], 'Colour': ['Blue', 'Green', ['Magenta', 'White', 'Pink'], 'Purple', 'Maroon', 'Michiko', 'Black', 'Grey'], 'Integer': [45, 67, 78, 89, 245], 'Float': [45.48, 56.68, 67.56, 78.98, 99.99], 'Complex': [(78-9j), (45+5j), (89-5j), (56-8j), (38+8j)], 'Boolean': [True, False, True, False, True], 'Mixture': [89, 67.99, (56-4j), True, 'String']}\n"
     ]
    }
   ],
   "source": [
    "print(Dict)"
   ]
  },
  {
   "cell_type": "code",
   "execution_count": 489,
   "metadata": {},
   "outputs": [
    {
     "name": "stdout",
     "output_type": "stream",
     "text": [
      "{'Date': [0.05, 0.025, 0.016666666666666666, 0.0125, 0.01, 0.008333333333333333], 'Temperature': [32, 35, 28, 24, [32, 67, 42, 69], 31], 'WindSpeed': [6, 7, 2, 7, 4, 2, 67, 76, 87, 102], 'Event': ['Rain', 'Sunny', 'Snow', 'Snow', 'Rain', 'Sunny', ['Local', 'National', 'International']]}\n"
     ]
    }
   ],
   "source": [
    "print(WeatherData)"
   ]
  },
  {
   "cell_type": "code",
   "execution_count": 490,
   "metadata": {},
   "outputs": [
    {
     "name": "stdout",
     "output_type": "stream",
     "text": [
      "{'Fruits': ['Apple', 'Grapes', 'Guava', ('Banana', 'Potato', 'Chiku'), 'Pineapple'], 'City': ['Bangalore', 'Chennai', 'Delhi', 'Kolkata', 'Hamunaptra', 'Mumbai', 'Mysore', 'Bihar', 'Malda', 'Kochi', 'New York'], 'Colour': ['Blue', 'Green', ['Magenta', 'White', 'Pink'], 'Purple', 'Maroon', 'Michiko', 'Black', 'Grey'], 'Integer': [45, 67, 78, 89, 245], 'Float': [45.48, 56.68, 67.56, 78.98, 99.99], 'Complex': [(78-9j), (45+5j), (89-5j), (56-8j), (38+8j)], 'Boolean': [True, False, True, False, True], 'Mixture': [89, 67.99, (56-4j), True, 'String']}\n"
     ]
    }
   ],
   "source": [
    "Dict[\"City\"][len(Dict[\"City\"]):0] = [\"New York\"]       # While plugging in single element \"New York\" at the end\n",
    "print(Dict)"
   ]
  },
  {
   "cell_type": "code",
   "execution_count": 491,
   "metadata": {},
   "outputs": [
    {
     "name": "stdout",
     "output_type": "stream",
     "text": [
      "{'Fruits': ['Apple', 'Grapes', 'Guava', ('Banana', 'Potato', 'Chiku'), 'Pineapple'], 'City': ['Malda', 'Bangalore', 'New York', 'Delhi', 'Kolkata', 'Kochi', 'Chennai', 'Mysore', 'Bihar', 'Hamunaptra', 'Mumbai'], 'Colour': ['Blue', 'Green', ['Magenta', 'White', 'Pink'], 'Purple', 'Maroon', 'Michiko', 'Black', 'Grey'], 'Integer': [45, 67, 78, 89, 245], 'Float': [45.48, 56.68, 67.56, 78.98, 99.99], 'Complex': [(78-9j), (45+5j), (89-5j), (56-8j), (38+8j)], 'Boolean': [True, False, True, False, True], 'Mixture': [89, 67.99, (56-4j), True, 'String']}\n"
     ]
    }
   ],
   "source": [
    "import random\n",
    "random.shuffle(Dict[\"City\"])             #Shuffle the list elements Randomly\n",
    "print(Dict)"
   ]
  },
  {
   "cell_type": "code",
   "execution_count": 492,
   "metadata": {},
   "outputs": [
    {
     "name": "stdout",
     "output_type": "stream",
     "text": [
      "{'Fruits': ['Apple', 'Grapes', 'Guava', ('Banana', 'Potato', 'Chiku'), 'Pineapple'], 'City': ['Malda', 'Bangalore', 'New York', 'Delhi', 'Kolkata', 'Kochi', 'Chennai', 'Mysore', 'Bihar', 'Hamunaptra', 'Mumbai'], 'Colour': ['Michiko', 'Green', 'Purple', 'Maroon', 'Blue', 'Black', 'Grey', ['Magenta', 'White', 'Pink']], 'Integer': [45, 67, 78, 89, 245], 'Float': [45.48, 56.68, 67.56, 78.98, 99.99], 'Complex': [(78-9j), (45+5j), (89-5j), (56-8j), (38+8j)], 'Boolean': [True, False, True, False, True], 'Mixture': [89, 67.99, (56-4j), True, 'String']}\n"
     ]
    }
   ],
   "source": [
    "Dict[\"Colour\"] = random.sample(Dict[\"Colour\"], k=len(Dict[\"Colour\"])) #Pick randomly 5 sample elements\n",
    "print(Dict)"
   ]
  },
  {
   "cell_type": "code",
   "execution_count": 493,
   "metadata": {},
   "outputs": [
    {
     "name": "stdout",
     "output_type": "stream",
     "text": [
      "{'Fruits': ['Apple', 'Grapes', 'Guava', ('Banana', 'Potato', 'Chiku'), 'Pineapple'], 'City': ['Malda', 'Bangalore', 'New York', 'Delhi', 'Kolkata', 'Kochi', 'Chennai', 'Mysore', 'Bihar', 'Hamunaptra', 'Mumbai'], 'Colour': ['Michiko', 'Green', 'Purple', 'Maroon', 'Blue', 'Black', 'Grey'], 'Integer': [45, 67, 78, 89, 245], 'Float': [45.48, 56.68, 67.56, 78.98, 99.99], 'Complex': [(78-9j), (45+5j), (89-5j), (56-8j), (38+8j)], 'Boolean': [True, False, True, False, True], 'Mixture': [89, 67.99, (56-4j), True, 'String']}\n"
     ]
    }
   ],
   "source": [
    "Dict[\"Colour\"].pop() #By default delete the last value element of \"Colour\" key\n",
    "print(Dict)"
   ]
  },
  {
   "cell_type": "code",
   "execution_count": 494,
   "metadata": {},
   "outputs": [
    {
     "name": "stdout",
     "output_type": "stream",
     "text": [
      "{'Fruits': ['Apple', 'Grapes', 'Guava', ('Banana', 'Potato', 'Chiku'), 'Pineapple'], 'City': ['Malda', 'Bangalore', 'New York', 'Delhi', 'Kolkata', 'Kochi', 'Chennai', 'Mysore', 'Bihar', 'Mumbai'], 'Colour': ['Michiko', 'Green', 'Purple', 'Maroon', 'Blue', 'Black', 'Grey'], 'Integer': [45, 67, 78, 89, 245], 'Float': [45.48, 56.68, 67.56, 78.98, 99.99], 'Complex': [(78-9j), (45+5j), (89-5j), (56-8j), (38+8j)], 'Boolean': [True, False, True, False, True], 'Mixture': [89, 67.99, (56-4j), True, 'String']}\n"
     ]
    }
   ],
   "source": [
    "Dict[\"City\"].pop(Dict[\"City\"].index(\"Hamunaptra\"))    #Delete the mentioned value index element of \"Colour\" key\n",
    "print(Dict)                                           #Delete the index of \"Hamunaptra\""
   ]
  },
  {
   "cell_type": "code",
   "execution_count": 495,
   "metadata": {},
   "outputs": [
    {
     "data": {
      "text/plain": [
       "1"
      ]
     },
     "execution_count": 495,
     "metadata": {},
     "output_type": "execute_result"
    }
   ],
   "source": [
    "Dict[\"City\"].count(\"Chennai\") #Count the mentioned Element frequency"
   ]
  },
  {
   "cell_type": "code",
   "execution_count": 496,
   "metadata": {},
   "outputs": [
    {
     "name": "stdout",
     "output_type": "stream",
     "text": [
      "{'Fruits': ['Apple', 'Grapes', 'Guava', ('Banana', 'Potato', 'Chiku'), 'Pineapple'], 'City': ['Malda', 'Bangalore', 'Delhi', 'Kolkata', 'Kochi', 'Chennai', 'Mysore', 'Bihar', 'Mumbai'], 'Colour': ['Michiko', 'Green', 'Purple', 'Maroon', 'Blue', 'Black', 'Grey'], 'Integer': [45, 67, 78, 89, 245], 'Float': [45.48, 56.68, 67.56, 78.98, 99.99], 'Complex': [(78-9j), (45+5j), (89-5j), (56-8j), (38+8j)], 'Boolean': [True, False, True, False, True], 'Mixture': [89, 67.99, (56-4j), True, 'String']}\n"
     ]
    }
   ],
   "source": [
    "Dict[\"City\"].remove(\"New York\")     #delete the mentioned Element, remove() is applicable for List & Set only\n",
    "print(Dict)"
   ]
  },
  {
   "cell_type": "code",
   "execution_count": 497,
   "metadata": {},
   "outputs": [
    {
     "data": {
      "text/plain": [
       "list"
      ]
     },
     "execution_count": 497,
     "metadata": {},
     "output_type": "execute_result"
    }
   ],
   "source": [
    "type(Dict[\"City\"])"
   ]
  },
  {
   "cell_type": "code",
   "execution_count": 498,
   "metadata": {},
   "outputs": [
    {
     "data": {
      "text/plain": [
       "(dict, dict, 8, 4)"
      ]
     },
     "execution_count": 498,
     "metadata": {},
     "output_type": "execute_result"
    }
   ],
   "source": [
    "type(Dict), type(WeatherData), len(Dict), len(WeatherData)"
   ]
  },
  {
   "cell_type": "code",
   "execution_count": 501,
   "metadata": {},
   "outputs": [
    {
     "name": "stdout",
     "output_type": "stream",
     "text": [
      "232\n",
      "360\n",
      "232\n",
      "232\n",
      "232\n",
      "232\n"
     ]
    }
   ],
   "source": [
    "import sys\n",
    "print(sys.getsizeof(WeatherData))\n",
    "print(sys.getsizeof(Dict))\n",
    "print(sys.getsizeof(Multi))\n",
    "print(sys.getsizeof(Null_Dict))\n",
    "print(sys.getsizeof(Nested_Dict5))\n",
    "print(sys.getsizeof(Nested_Dict6))"
   ]
  },
  {
   "cell_type": "code",
   "execution_count": 523,
   "metadata": {},
   "outputs": [
    {
     "name": "stdout",
     "output_type": "stream",
     "text": [
      "{'Fruits': ['Apple', 'Mango', 'Grapes', 'Pineapple', 'Guava'], 'City': ['Bangalore', 'Mumbai', 'Chennai', 'Kolkata', 'Delhi'], 'Colour': ['Red', 'Green', 'Blue', 'Yellow', 'Purple'], 'Integer': [45, 67, 78, 89, 245], 'Float': [67.56, 78.98, 45.48, 99.99, 56.68], 'Complex': [(78-9j), (45+5j), (89-5j), (56-8j), (38+8j)], 'Boolean': [True, False, True, False, True], 'Mixture': [89, 67.99, (56-4j), True, 'String']}\n"
     ]
    }
   ],
   "source": [
    "# Create a Dictionary -----> {}  ---- data is represented in the form of Key, Value type\n",
    "# We use Dictionary to customise the indexing\n",
    "# Elements of Dictionary always written inside {}\n",
    "# Here key is the index & value is the element\n",
    "# There could be lots of elements under each key\n",
    "\n",
    "Dict = {'Fruits' : ['Apple', 'Mango', 'Grapes', 'Pineapple', 'Guava'],\n",
    "        'City' : ['Bangalore', 'Mumbai', 'Chennai', 'Kolkata', 'Delhi'],\n",
    "        'Colour' : ['Red', 'Green', 'Blue', 'Yellow', 'Purple'],\n",
    "        'Integer' : [45, 67, 78, 89, 245],\n",
    "        'Float' : [67.56, 78.98, 45.48, 99.99, 56.68],\n",
    "        'Complex' : [78-9j, 45+5j, 89-5j, 56-8j, 38+8j],\n",
    "        'Boolean' : [True, False, True, False, True],\n",
    "        'Mixture' : [89, 67.99, 56-4j, True, 'String']}\n",
    "\n",
    "print(Dict)"
   ]
  },
  {
   "cell_type": "code",
   "execution_count": 524,
   "metadata": {},
   "outputs": [
    {
     "name": "stdout",
     "output_type": "stream",
     "text": [
      "{'Date': [0.05, 0.025, 0.016666666666666666, 0.0125, 0.01, 0.008333333333333333], 'Temperature': [32, 35, 28, 24, 32, 31], 'WindSpeed': [6, 7, 2, 7, 4, 2], 'Event': ['Rain', 'Sunny', 'Snow', 'Snow', 'Rain', 'Sunny']}\n"
     ]
    }
   ],
   "source": [
    "# Creating data frame by using Dictionary\n",
    "WeatherData={\"Date\":[1/1/20,1/2/20,1/3/20,1/4/20,1/5/20,1/6/20],\n",
    "             \"Temperature\":[32,35,28,24,32,31],\n",
    "             \"WindSpeed\":[6,7,2,7,4,2],\n",
    "             \"Event\":[\"Rain\",\"Sunny\",\"Snow\",\"Snow\",\"Rain\",\"Sunny\"]}\n",
    "\n",
    "print(WeatherData)"
   ]
  },
  {
   "cell_type": "code",
   "execution_count": 525,
   "metadata": {},
   "outputs": [
    {
     "name": "stdout",
     "output_type": "stream",
     "text": [
      "{'List': [89, 67.99, (56-4j), True, 'String'], 'Tuple': ('String', (78+9j), 78.99, False, 56), 'Set': {(76-4j), True, 45.45, 'Set', 89}}\n"
     ]
    }
   ],
   "source": [
    "Multi = {\"List\" : [89, 67.99, 56-4j, True, 'String'],\n",
    "         \"Tuple\" : (\"String\", 78+9j, 78.99, False, 56),\n",
    "         \"Set\" : {True, \"Set\", 76-4j, 45.45, 89}}\n",
    "\n",
    "print(Multi)"
   ]
  },
  {
   "cell_type": "code",
   "execution_count": 526,
   "metadata": {},
   "outputs": [
    {
     "name": "stdout",
     "output_type": "stream",
     "text": [
      "{'Student': {'Name': ['Kunaal', 'Anwesh', 'Rohit'], 'Kunaal': {'Marks': {'Physics': 0.89, 'Chemistry': 0.67, 'Math': 0.87, 'Biology': 0.99}}, 'Anwesh': {'Marks': {'Physics': 0.84, 'Chemistry': 0.65, 'Math': 0.77, 'Biology': 0.55}}, 'Rohit': {'Marks': {'Physics': 0.72, 'Chemistry': 0.68, 'Math': 0.83, 'Biology': 0.74}}}}\n"
     ]
    }
   ],
   "source": [
    "Nested_Dict5 = {\"Student\" : {\"Name\" : [\"Kunaal\", \"Anwesh\", \"Rohit\"],\n",
    "                             \"Kunaal\" : {\"Marks\" : {\"Physics\" : 89/100,\n",
    "                                                    \"Chemistry\" : 67/100,\n",
    "                                                    \"Math\" : 87/100,\n",
    "                                                    \"Biology\" : 99/100}},\n",
    "                             \"Anwesh\" : {\"Marks\" : {\"Physics\" : 84/100,\n",
    "                                                    \"Chemistry\" : 65/100,\n",
    "                                                    \"Math\" : 77/100,\n",
    "                                                    \"Biology\" : 55/100}},\n",
    "                              \"Rohit\" : {\"Marks\" : {\"Physics\" : 72/100,\n",
    "                                                    \"Chemistry\" : 68/100,\n",
    "                                                    \"Math\" : 83/100,\n",
    "                                                    \"Biology\" : 74/100}}}}\n",
    "\n",
    "print(Nested_Dict5)"
   ]
  },
  {
   "cell_type": "code",
   "execution_count": 527,
   "metadata": {},
   "outputs": [
    {
     "name": "stdout",
     "output_type": "stream",
     "text": [
      "{'Student': {'Name': {'Kunaal': {'Marks': {'Physics': 0.89, 'Chem': 0.67, 'Math': 0.87, 'Bio': 0.99}}, 'Anwesh': {'Marks': {'Physics': 0.66, 'Chem': 0.88, 'Math': 0.72, 'Bio': 0.57}}, 'Shibu': {'Marks': {'Physics': 0.69, 'Chem': 0.81, 'Math': 0.7, 'Bio': 0.5}}}}}\n"
     ]
    }
   ],
   "source": [
    "Nested_Dict6 = {\"Student\" : {\"Name\" : {\"Kunaal\" : {\"Marks\" : {\"Physics\" : 89/100,\n",
    "                                                              \"Chem\" : 67/100,\n",
    "                                                              \"Math\" : 87/100,\n",
    "                                                              \"Bio\" : 99/100}},\n",
    "                                       \"Anwesh\" : {\"Marks\" : {\"Physics\" : 66/100,\n",
    "                                                              \"Chem\" : 88/100,\n",
    "                                                              \"Math\" : 72/100,\n",
    "                                                              \"Bio\" : 57/100}},\n",
    "                                       \"Shibu\" : {\"Marks\" : {\"Physics\" : 69/100,\n",
    "                                                             \"Chem\" : 81/100,\n",
    "                                                             \"Math\" : 70/100,\n",
    "                                                             \"Bio\" : 50/100}}}}}\n",
    "\n",
    "print(Nested_Dict6)"
   ]
  },
  {
   "cell_type": "code",
   "execution_count": 528,
   "metadata": {},
   "outputs": [
    {
     "name": "stdout",
     "output_type": "stream",
     "text": [
      "<class 'list'> <class 'tuple'> <class 'set'>\n",
      "\n"
     ]
    }
   ],
   "source": [
    "Null_Dict = {}\n",
    "Null_Dict\n",
    "Null_Dict[\"List1\"] = [22, 56+6j, 73.56, True, \"List\"]\n",
    "Null_Dict[\"Tuple2\"] = (89, 67-4j, False, \"Tuple\", 55.96)\n",
    "Null_Dict[\"Set3\"] = {\"Set\", 66-2j, 39.56, 55, True}\n",
    "\n",
    "\n",
    "print(type(Null_Dict[\"List1\"]), type(Null_Dict[\"Tuple2\"]), type(Null_Dict[\"Set3\"]))\n",
    "print()"
   ]
  },
  {
   "cell_type": "code",
   "execution_count": 529,
   "metadata": {},
   "outputs": [
    {
     "name": "stdout",
     "output_type": "stream",
     "text": [
      "[('Fruits', ['Apple', 'Mango', 'Grapes', 'Pineapple', 'Guava']), ('City', ['Bangalore', 'Mumbai', 'Chennai', 'Kolkata', 'Delhi']), ('Colour', ['Red', 'Green', 'Blue', 'Yellow', 'Purple']), ('Integer', [45, 67, 78, 89, 245]), ('Float', [67.56, 78.98, 45.48, 99.99, 56.68]), ('Complex', [(78-9j), (45+5j), (89-5j), (56-8j), (38+8j)]), ('Boolean', [True, False, True, False, True]), ('Mixture', [89, 67.99, (56-4j), True, 'String']), ('Date', [0.05, 0.025, 0.016666666666666666, 0.0125, 0.01, 0.008333333333333333]), ('Temperature', [32, 35, 28, 24, 32, 31]), ('WindSpeed', [6, 7, 2, 7, 4, 2]), ('Event', ['Rain', 'Sunny', 'Snow', 'Snow', 'Rain', 'Sunny']), ('List', [89, 67.99, (56-4j), True, 'String']), ('Tuple', ('String', (78+9j), 78.99, False, 56)), ('Set', {(76-4j), True, 45.45, 'Set', 89}), ('Student', {'Name': {'Kunaal': {'Marks': {'Physics': 0.89, 'Chem': 0.67, 'Math': 0.87, 'Bio': 0.99}}, 'Anwesh': {'Marks': {'Physics': 0.66, 'Chem': 0.88, 'Math': 0.72, 'Bio': 0.57}}, 'Shibu': {'Marks': {'Physics': 0.69, 'Chem': 0.81, 'Math': 0.7, 'Bio': 0.5}}}}), ('List1', [22, (56+6j), 73.56, True, 'List']), ('Tuple2', (89, (67-4j), False, 'Tuple', 55.96)), ('Set3', {True, 39.56, 'Set', 55, (66-2j)})]\n"
     ]
    }
   ],
   "source": [
    "Dict.update(WeatherData)    # Update one at a time\n",
    "Dict.update(Multi)\n",
    "Dict.update(Nested_Dict5)\n",
    "Dict.update(Nested_Dict6)\n",
    "Dict.update(Null_Dict)\n",
    "print(list(Dict.items()))\n",
    "#print(list(Updated_Dict.items()))"
   ]
  },
  {
   "cell_type": "code",
   "execution_count": 530,
   "metadata": {},
   "outputs": [
    {
     "name": "stdout",
     "output_type": "stream",
     "text": [
      "640\n"
     ]
    }
   ],
   "source": [
    "Dict\n",
    "print(sys.getsizeof(Dict))"
   ]
  },
  {
   "cell_type": "code",
   "execution_count": 532,
   "metadata": {},
   "outputs": [
    {
     "name": "stdout",
     "output_type": "stream",
     "text": [
      "['Fruits', 'City', 'Colour', 'Integer', 'Float', 'Complex', 'Boolean', 'Mixture', 'Date', 'Temperature', 'WindSpeed', 'Event', 'List', 'Tuple', 'Set', 'Student', 'List1', 'Tuple2', 'Set3']\n",
      "\n",
      "dict_values([['Apple', 'Mango', 'Grapes', 'Pineapple', 'Guava'], ['Bangalore', 'Mumbai', 'Chennai', 'Kolkata', 'Delhi'], ['Red', 'Green', 'Blue', 'Yellow', 'Purple'], [45, 67, 78, 89, 245], [67.56, 78.98, 45.48, 99.99, 56.68], [(78-9j), (45+5j), (89-5j), (56-8j), (38+8j)], [True, False, True, False, True], [89, 67.99, (56-4j), True, 'String'], [0.05, 0.025, 0.016666666666666666, 0.0125, 0.01, 0.008333333333333333], [32, 35, 28, 24, 32, 31], [6, 7, 2, 7, 4, 2], ['Rain', 'Sunny', 'Snow', 'Snow', 'Rain', 'Sunny'], [89, 67.99, (56-4j), True, 'String'], ('String', (78+9j), 78.99, False, 56), {(76-4j), True, 45.45, 'Set', 89}, {'Name': {'Kunaal': {'Marks': {'Physics': 0.89, 'Chem': 0.67, 'Math': 0.87, 'Bio': 0.99}}, 'Anwesh': {'Marks': {'Physics': 0.66, 'Chem': 0.88, 'Math': 0.72, 'Bio': 0.57}}, 'Shibu': {'Marks': {'Physics': 0.69, 'Chem': 0.81, 'Math': 0.7, 'Bio': 0.5}}}}, [22, (56+6j), 73.56, True, 'List'], (89, (67-4j), False, 'Tuple', 55.96), {True, 39.56, 'Set', 55, (66-2j)}])\n",
      "\n",
      "[('Fruits', ['Apple', 'Mango', 'Grapes', 'Pineapple', 'Guava']), ('City', ['Bangalore', 'Mumbai', 'Chennai', 'Kolkata', 'Delhi']), ('Colour', ['Red', 'Green', 'Blue', 'Yellow', 'Purple']), ('Integer', [45, 67, 78, 89, 245]), ('Float', [67.56, 78.98, 45.48, 99.99, 56.68]), ('Complex', [(78-9j), (45+5j), (89-5j), (56-8j), (38+8j)]), ('Boolean', [True, False, True, False, True]), ('Mixture', [89, 67.99, (56-4j), True, 'String']), ('Date', [0.05, 0.025, 0.016666666666666666, 0.0125, 0.01, 0.008333333333333333]), ('Temperature', [32, 35, 28, 24, 32, 31]), ('WindSpeed', [6, 7, 2, 7, 4, 2]), ('Event', ['Rain', 'Sunny', 'Snow', 'Snow', 'Rain', 'Sunny']), ('List', [89, 67.99, (56-4j), True, 'String']), ('Tuple', ('String', (78+9j), 78.99, False, 56)), ('Set', {(76-4j), True, 45.45, 'Set', 89}), ('Student', {'Name': {'Kunaal': {'Marks': {'Physics': 0.89, 'Chem': 0.67, 'Math': 0.87, 'Bio': 0.99}}, 'Anwesh': {'Marks': {'Physics': 0.66, 'Chem': 0.88, 'Math': 0.72, 'Bio': 0.57}}, 'Shibu': {'Marks': {'Physics': 0.69, 'Chem': 0.81, 'Math': 0.7, 'Bio': 0.5}}}}), ('List1', [22, (56+6j), 73.56, True, 'List']), ('Tuple2', (89, (67-4j), False, 'Tuple', 55.96)), ('Set3', {True, 39.56, 'Set', 55, (66-2j)})]\n"
     ]
    }
   ],
   "source": [
    "print(list(Dict.keys()))  # # Shows root key of the Nested Dictionery\n",
    "print()\n",
    "print(Dict.values())  # Show all values\n",
    "print()\n",
    "print(list(Dict.items()))    # Show all Key:Value Pairs as Tuples & got converted into list()"
   ]
  },
  {
   "cell_type": "code",
   "execution_count": 534,
   "metadata": {},
   "outputs": [
    {
     "data": {
      "text/plain": [
       "{'Fruits': ['Apple', 'Mango', 'Grapes', 'Pineapple', 'Guava'],\n",
       " 'City': ['Bangalore', 'Mumbai', 'Chennai', 'Kolkata', 'Delhi'],\n",
       " 'Colour': ['Red', 'Green', 'Blue', 'Yellow', 'Purple'],\n",
       " 'Integer': [45, 67, 78, 89, 245],\n",
       " 'Float': [67.56, 78.98, 45.48, 99.99, 56.68],\n",
       " 'Complex': [(78-9j), (45+5j), (89-5j), (56-8j), (38+8j)],\n",
       " 'Mixture': [89, 67.99, (56-4j), True, 'String'],\n",
       " 'Date': [0.05,\n",
       "  0.025,\n",
       "  0.016666666666666666,\n",
       "  0.0125,\n",
       "  0.01,\n",
       "  0.008333333333333333],\n",
       " 'Temperature': [32, 35, 28, 24, 32, 31],\n",
       " 'WindSpeed': [6, 7, 2, 7, 4, 2],\n",
       " 'Event': ['Rain', 'Sunny', 'Snow', 'Snow', 'Rain', 'Sunny'],\n",
       " 'List': [89, 67.99, (56-4j), True, 'String'],\n",
       " 'Tuple': ('String', (78+9j), 78.99, False, 56),\n",
       " 'Set': {(76-4j), 45.45, 89, 'Set', True},\n",
       " 'Student': {'Name': {'Kunaal': {'Marks': {'Physics': 0.89,\n",
       "     'Chem': 0.67,\n",
       "     'Math': 0.87,\n",
       "     'Bio': 0.99}},\n",
       "   'Anwesh': {'Marks': {'Physics': 0.66,\n",
       "     'Chem': 0.88,\n",
       "     'Math': 0.72,\n",
       "     'Bio': 0.57}},\n",
       "   'Shibu': {'Marks': {'Physics': 0.69,\n",
       "     'Chem': 0.81,\n",
       "     'Math': 0.7,\n",
       "     'Bio': 0.5}}}},\n",
       " 'List1': [22, (56+6j), 73.56, True, 'List'],\n",
       " 'Tuple2': (89, (67-4j), False, 'Tuple', 55.96),\n",
       " 'Set3': {(66-2j), 39.56, 55, 'Set', True}}"
      ]
     },
     "execution_count": 534,
     "metadata": {},
     "output_type": "execute_result"
    }
   ],
   "source": [
    "# Delete the \"Boolean\" Key:Value pair from the Dict dictionery\n",
    "\n",
    "del Dict[\"Boolean\"]      # \"Boolean\" Key:Value pair got deleted from the Dict dictionery\n",
    "\n",
    "Dict"
   ]
  },
  {
   "cell_type": "code",
   "execution_count": 535,
   "metadata": {},
   "outputs": [
    {
     "name": "stdout",
     "output_type": "stream",
     "text": [
      "['Fruits', 'City', 'Colour', 'Integer', 'Float', 'Complex', 'Mixture', 'Date', 'Temperature', 'WindSpeed', 'Event', 'List', 'Tuple', 'Set', 'Student', 'List1', 'Tuple2', 'Set3']\n"
     ]
    }
   ],
   "source": [
    "print(list(Dict.keys()))  # \"Boolean\" Key is not showing"
   ]
  },
  {
   "cell_type": "code",
   "execution_count": 536,
   "metadata": {},
   "outputs": [
    {
     "name": "stdout",
     "output_type": "stream",
     "text": [
      "['Fruits', 'City', 'Colour', 'Integer', 'Float', 'Complex', 'Mixture', 'Date', 'Temperature', 'WindSpeed', 'Event', 'Tuple', 'Set', 'Student', 'List1', 'Tuple2', 'Set3']\n"
     ]
    }
   ],
   "source": [
    "Dict.pop(\"List\")\n",
    "print(list(Dict.keys()))   # \"List\" Key is not showing"
   ]
  },
  {
   "cell_type": "code",
   "execution_count": 540,
   "metadata": {},
   "outputs": [
    {
     "name": "stdout",
     "output_type": "stream",
     "text": [
      "['Red', 'Green', 'Yellow', 'Purple']\n"
     ]
    }
   ],
   "source": [
    "Dict[\"Colour\"].remove(\"Blue\")  # \"Blue\" value element got removed from \"Colour\" key of Dict dictionery\n",
    "print(Dict.get(\"Colour\"))"
   ]
  },
  {
   "cell_type": "code",
   "execution_count": 404,
   "metadata": {},
   "outputs": [],
   "source": [
    "# Dictionaries Docs for Practice\n",
    "# https://www.w3schools.com/python/python_dictionaries.asp"
   ]
  },
  {
   "cell_type": "markdown",
   "metadata": {},
   "source": [
    "## Range"
   ]
  },
  {
   "cell_type": "code",
   "execution_count": 149,
   "metadata": {},
   "outputs": [
    {
     "name": "stdout",
     "output_type": "stream",
     "text": [
      "Help on class range in module builtins:\n",
      "\n",
      "class range(object)\n",
      " |  range(stop) -> range object\n",
      " |  range(start, stop[, step]) -> range object\n",
      " |  \n",
      " |  Return an object that produces a sequence of integers from start (inclusive)\n",
      " |  to stop (exclusive) by step.  range(i, j) produces i, i+1, i+2, ..., j-1.\n",
      " |  start defaults to 0, and stop is omitted!  range(4) produces 0, 1, 2, 3.\n",
      " |  These are exactly the valid indices for a list of 4 elements.\n",
      " |  When step is given, it specifies the increment (or decrement).\n",
      " |  \n",
      " |  Methods defined here:\n",
      " |  \n",
      " |  __bool__(self, /)\n",
      " |      self != 0\n",
      " |  \n",
      " |  __contains__(self, key, /)\n",
      " |      Return key in self.\n",
      " |  \n",
      " |  __eq__(self, value, /)\n",
      " |      Return self==value.\n",
      " |  \n",
      " |  __ge__(self, value, /)\n",
      " |      Return self>=value.\n",
      " |  \n",
      " |  __getattribute__(self, name, /)\n",
      " |      Return getattr(self, name).\n",
      " |  \n",
      " |  __getitem__(self, key, /)\n",
      " |      Return self[key].\n",
      " |  \n",
      " |  __gt__(self, value, /)\n",
      " |      Return self>value.\n",
      " |  \n",
      " |  __hash__(self, /)\n",
      " |      Return hash(self).\n",
      " |  \n",
      " |  __iter__(self, /)\n",
      " |      Implement iter(self).\n",
      " |  \n",
      " |  __le__(self, value, /)\n",
      " |      Return self<=value.\n",
      " |  \n",
      " |  __len__(self, /)\n",
      " |      Return len(self).\n",
      " |  \n",
      " |  __lt__(self, value, /)\n",
      " |      Return self<value.\n",
      " |  \n",
      " |  __ne__(self, value, /)\n",
      " |      Return self!=value.\n",
      " |  \n",
      " |  __reduce__(...)\n",
      " |      Helper for pickle.\n",
      " |  \n",
      " |  __repr__(self, /)\n",
      " |      Return repr(self).\n",
      " |  \n",
      " |  __reversed__(...)\n",
      " |      Return a reverse iterator.\n",
      " |  \n",
      " |  count(...)\n",
      " |      rangeobject.count(value) -> integer -- return number of occurrences of value\n",
      " |  \n",
      " |  index(...)\n",
      " |      rangeobject.index(value) -> integer -- return index of value.\n",
      " |      Raise ValueError if the value is not present.\n",
      " |  \n",
      " |  ----------------------------------------------------------------------\n",
      " |  Static methods defined here:\n",
      " |  \n",
      " |  __new__(*args, **kwargs) from builtins.type\n",
      " |      Create and return a new object.  See help(type) for accurate signature.\n",
      " |  \n",
      " |  ----------------------------------------------------------------------\n",
      " |  Data descriptors defined here:\n",
      " |  \n",
      " |  start\n",
      " |  \n",
      " |  step\n",
      " |  \n",
      " |  stop\n",
      "\n"
     ]
    }
   ],
   "source": [
    "help(range)"
   ]
  },
  {
   "cell_type": "code",
   "execution_count": 150,
   "metadata": {},
   "outputs": [],
   "source": [
    "Range1=range(6) # By default it will start from 0, 6 is upperbound"
   ]
  },
  {
   "cell_type": "code",
   "execution_count": 151,
   "metadata": {},
   "outputs": [
    {
     "data": {
      "text/plain": [
       "range"
      ]
     },
     "execution_count": 151,
     "metadata": {},
     "output_type": "execute_result"
    }
   ],
   "source": [
    "type(Range1)"
   ]
  },
  {
   "cell_type": "code",
   "execution_count": 152,
   "metadata": {},
   "outputs": [
    {
     "name": "stdout",
     "output_type": "stream",
     "text": [
      "range(0, 6)\n"
     ]
    }
   ],
   "source": [
    "print(Range1)"
   ]
  },
  {
   "cell_type": "code",
   "execution_count": 153,
   "metadata": {},
   "outputs": [],
   "source": [
    "List=list(Range1) # Convert Range into List"
   ]
  },
  {
   "cell_type": "code",
   "execution_count": 154,
   "metadata": {},
   "outputs": [],
   "source": [
    "List=list(range(6)) # Direct conversion from range to List"
   ]
  },
  {
   "cell_type": "code",
   "execution_count": 155,
   "metadata": {},
   "outputs": [
    {
     "name": "stdout",
     "output_type": "stream",
     "text": [
      "[0, 1, 2, 3, 4, 5]\n"
     ]
    }
   ],
   "source": [
    "print(List)"
   ]
  },
  {
   "cell_type": "code",
   "execution_count": 156,
   "metadata": {},
   "outputs": [],
   "source": [
    "Range2=range(2,6) # It will start from 2, upperbound is 6"
   ]
  },
  {
   "cell_type": "code",
   "execution_count": 157,
   "metadata": {},
   "outputs": [
    {
     "name": "stdout",
     "output_type": "stream",
     "text": [
      "range(2, 6)\n"
     ]
    }
   ],
   "source": [
    "print(Range2)"
   ]
  },
  {
   "cell_type": "code",
   "execution_count": 158,
   "metadata": {},
   "outputs": [],
   "source": [
    "List2=list(Range2)"
   ]
  },
  {
   "cell_type": "code",
   "execution_count": 159,
   "metadata": {},
   "outputs": [],
   "source": [
    "List2=list(range(2,6)) # Direct conversion from range to List"
   ]
  },
  {
   "cell_type": "code",
   "execution_count": 160,
   "metadata": {},
   "outputs": [
    {
     "name": "stdout",
     "output_type": "stream",
     "text": [
      "[2, 3, 4, 5]\n"
     ]
    }
   ],
   "source": [
    "print(List2)"
   ]
  },
  {
   "cell_type": "code",
   "execution_count": 161,
   "metadata": {},
   "outputs": [],
   "source": [
    "# Range Parametres\n",
    " # Start: Starting point of the sequence\n",
    " # Stop: Ending point of the sequence (Upperbound)\n",
    " # Step: Number of times the skip will happen"
   ]
  },
  {
   "cell_type": "code",
   "execution_count": 162,
   "metadata": {},
   "outputs": [],
   "source": [
    "Range3=range(0,11,2) # 0 is starting point, 11 is upperbound, 2 is interval step"
   ]
  },
  {
   "cell_type": "code",
   "execution_count": 163,
   "metadata": {},
   "outputs": [],
   "source": [
    "List3=list(Range3)"
   ]
  },
  {
   "cell_type": "code",
   "execution_count": 164,
   "metadata": {},
   "outputs": [
    {
     "name": "stdout",
     "output_type": "stream",
     "text": [
      "[0, 2, 4, 6, 8, 10]\n"
     ]
    }
   ],
   "source": [
    "print(List3)"
   ]
  },
  {
   "cell_type": "code",
   "execution_count": 165,
   "metadata": {},
   "outputs": [
    {
     "name": "stdout",
     "output_type": "stream",
     "text": [
      "0\n",
      "2\n",
      "4\n",
      "6\n",
      "8\n"
     ]
    }
   ],
   "source": [
    "# Range With For Loop      # We can directly see range elements by using for loop\n",
    "                          # No need to create range and transform it to list\n",
    "for i in range(0,10,2):   # 10 is upperbound here and 2 is interval step\n",
    "    print(i)              # This program is printing the even numbers"
   ]
  },
  {
   "cell_type": "code",
   "execution_count": 166,
   "metadata": {},
   "outputs": [
    {
     "name": "stdout",
     "output_type": "stream",
     "text": [
      "0.1\n",
      "0.4\n",
      "0.7\n"
     ]
    }
   ],
   "source": [
    "# Range always works with integers, don't supports floats/noninteger charecters\n",
    "# If you wanna create range of noninteger charecters then use for loop\n",
    "# Float numbers in range by using frange loop function\n",
    "# We will get a sequence with floating point values\n",
    "\n",
    "def frange(start, stop, step):\n",
    "    i=start\n",
    "    while i<stop:            # Untill the value of i<stop\n",
    "        yield i              # Keep taking/evolving the value of i\n",
    "        i+=step              # Each time take/evolve & increase the value of i by step, increase i by step, value will be i+step\n",
    "for i in frange(0.1,1,0.3):\n",
    "    print(i)\n"
   ]
  },
  {
   "cell_type": "code",
   "execution_count": 167,
   "metadata": {},
   "outputs": [
    {
     "name": "stdout",
     "output_type": "stream",
     "text": [
      "5\n",
      "4\n",
      "3\n",
      "2\n",
      "1\n"
     ]
    }
   ],
   "source": [
    "#Reverse Range in python by using for loop\n",
    "for i in range(5,0,-1):   #5 is starting point and 0 is upperbound\n",
    "    print(i)              #-1 is interval step... keep deducting -1 at each step from the value of i"
   ]
  },
  {
   "cell_type": "code",
   "execution_count": 168,
   "metadata": {},
   "outputs": [
    {
     "name": "stdout",
     "output_type": "stream",
     "text": [
      "5\n",
      "4\n",
      "3\n",
      "2\n",
      "1\n"
     ]
    }
   ],
   "source": [
    "#Range always works with integers, don't supports floats/noninteger charecters\n",
    "#If you wanna create range of noninteger charecters then use for loop\n",
    "#Float numbers in range by using frange loop function\n",
    "#We will get a sequence with floating point values\n",
    "\n",
    "def frange(start, stop, step):\n",
    "    i=start\n",
    "    while i>stop:            #Untill the value of i>stop\n",
    "        yield i              #Keep taking the value of i\n",
    "        i+=step              #Each time take the value of i by i+step, increase i by step\n",
    "for i in frange(5,0,-1):\n",
    "    print(i)"
   ]
  },
  {
   "cell_type": "code",
   "execution_count": 169,
   "metadata": {},
   "outputs": [
    {
     "name": "stdout",
     "output_type": "stream",
     "text": [
      "[0, 1, 2, 3, 4, 5, 6, 7, 8, 9, 10, 11, 12, 13, 14, 15, 16, 17, 18, 19, 20]\n"
     ]
    }
   ],
   "source": [
    "#Concatinating 2 range functions by using chain function\n",
    "from itertools import chain\n",
    "Range=chain(range(10), range(10,21)) # range 0to9 and 10to20 got joined/concatinated by chain() function in2 a new Range\n",
    "List=list(Range)                     #Convert the Range into List\n",
    "print(List)"
   ]
  },
  {
   "cell_type": "code",
   "execution_count": 170,
   "metadata": {},
   "outputs": [
    {
     "data": {
      "text/plain": [
       "[0, 1, 2, 3, 4, 5, 6, 7, 8, 9, 10, 11, 12, 13, 14, 15, 16, 17, 18, 19, 20]"
      ]
     },
     "execution_count": 170,
     "metadata": {},
     "output_type": "execute_result"
    }
   ],
   "source": [
    "#Direct concat\n",
    "Range=list(range(10))+list(range(10,21))\n",
    "Range"
   ]
  },
  {
   "cell_type": "code",
   "execution_count": 171,
   "metadata": {},
   "outputs": [
    {
     "ename": "TypeError",
     "evalue": "unsupported operand type(s) for +: 'range' and 'range'",
     "output_type": "error",
     "traceback": [
      "\u001b[1;31m---------------------------------------------------------------------------\u001b[0m",
      "\u001b[1;31mTypeError\u001b[0m                                 Traceback (most recent call last)",
      "\u001b[1;32m<ipython-input-171-6bb8c5dfd4f8>\u001b[0m in \u001b[0;36m<module>\u001b[1;34m\u001b[0m\n\u001b[0;32m      3\u001b[0m \u001b[0mRANGE1\u001b[0m\u001b[1;33m=\u001b[0m\u001b[0mrange\u001b[0m\u001b[1;33m(\u001b[0m\u001b[1;36m5\u001b[0m\u001b[1;33m)\u001b[0m\u001b[1;33m\u001b[0m\u001b[1;33m\u001b[0m\u001b[0m\n\u001b[0;32m      4\u001b[0m \u001b[0mRANGE2\u001b[0m\u001b[1;33m=\u001b[0m\u001b[0mrange\u001b[0m\u001b[1;33m(\u001b[0m\u001b[1;36m5\u001b[0m\u001b[1;33m,\u001b[0m\u001b[1;36m10\u001b[0m\u001b[1;33m)\u001b[0m\u001b[1;33m\u001b[0m\u001b[1;33m\u001b[0m\u001b[0m\n\u001b[1;32m----> 5\u001b[1;33m \u001b[0mRANGE1\u001b[0m\u001b[1;33m+\u001b[0m\u001b[0mRANGE2\u001b[0m\u001b[1;33m\u001b[0m\u001b[1;33m\u001b[0m\u001b[0m\n\u001b[0m",
      "\u001b[1;31mTypeError\u001b[0m: unsupported operand type(s) for +: 'range' and 'range'"
     ]
    }
   ],
   "source": [
    "# You cant perform Arithmatic operations between Ranges\n",
    "# We can't concat 2 range functions by using + sign\n",
    "RANGE1=range(5)\n",
    "RANGE2=range(5,10)\n",
    "RANGE1+RANGE2"
   ]
  },
  {
   "cell_type": "code",
   "execution_count": 172,
   "metadata": {},
   "outputs": [
    {
     "name": "stdout",
     "output_type": "stream",
     "text": [
      "(10, 11, 12, 13, 14, 15, 16, 17, 18, 19, 20, 21, 22, 23, 24, 25, 26, 27, 28, 29, 30)\n",
      "[]\n"
     ]
    },
    {
     "data": {
      "text/plain": [
       "(None, None)"
      ]
     },
     "execution_count": 172,
     "metadata": {},
     "output_type": "execute_result"
    }
   ],
   "source": [
    "#Concatinating 2 range functions by using chain function\n",
    "from itertools import chain\n",
    "Range=chain(range(10,21), range(21,31)) # range 10to20 and 21to30 got joined/concatinated by chain() function in2 a new Range\n",
    "Tuple=tuple(Range)      #Convert the Range into Tuple\n",
    "List=list(Range)        #Convert the Range into List\n",
    "print(Tuple),print(List)"
   ]
  },
  {
   "cell_type": "code",
   "execution_count": 173,
   "metadata": {},
   "outputs": [
    {
     "name": "stdout",
     "output_type": "stream",
     "text": [
      "(10, 11, 12, 13, 14, 15, 16, 17, 18, 19, 20, 10, 11, 12, 13, 14, 15, 16, 17, 18, 19, 20)\n",
      "[10, 11, 12, 13, 14, 15, 16, 17, 18, 19, 20, 10, 11, 12, 13, 14, 15, 16, 17, 18, 19, 20]\n"
     ]
    },
    {
     "data": {
      "text/plain": [
       "(None, None)"
      ]
     },
     "execution_count": 173,
     "metadata": {},
     "output_type": "execute_result"
    }
   ],
   "source": [
    "Tuple=tuple(range(10,21))+tuple(range(10,21))\n",
    "List=list(range(10,21))+list(range(10,21))\n",
    "print(Tuple),print(List)"
   ]
  },
  {
   "cell_type": "code",
   "execution_count": 174,
   "metadata": {},
   "outputs": [
    {
     "ename": "TypeError",
     "evalue": "unsupported operand type(s) for +: 'range' and 'range'",
     "output_type": "error",
     "traceback": [
      "\u001b[1;31m---------------------------------------------------------------------------\u001b[0m",
      "\u001b[1;31mTypeError\u001b[0m                                 Traceback (most recent call last)",
      "\u001b[1;32m<ipython-input-174-85900c34bca5>\u001b[0m in \u001b[0;36m<module>\u001b[1;34m\u001b[0m\n\u001b[0;32m      1\u001b[0m \u001b[0mR1\u001b[0m\u001b[1;33m=\u001b[0m\u001b[0mrange\u001b[0m\u001b[1;33m(\u001b[0m\u001b[1;36m0\u001b[0m\u001b[1;33m,\u001b[0m\u001b[1;36m5\u001b[0m\u001b[1;33m)\u001b[0m   \u001b[1;31m#We can't concat 2 range functions by using + sign\u001b[0m\u001b[1;33m\u001b[0m\u001b[1;33m\u001b[0m\u001b[0m\n\u001b[0;32m      2\u001b[0m \u001b[0mR2\u001b[0m\u001b[1;33m=\u001b[0m\u001b[0mrange\u001b[0m\u001b[1;33m(\u001b[0m\u001b[1;36m5\u001b[0m\u001b[1;33m,\u001b[0m\u001b[1;36m10\u001b[0m\u001b[1;33m)\u001b[0m\u001b[1;33m\u001b[0m\u001b[1;33m\u001b[0m\u001b[0m\n\u001b[1;32m----> 3\u001b[1;33m \u001b[0mR1\u001b[0m\u001b[1;33m+\u001b[0m\u001b[0mR2\u001b[0m\u001b[1;33m\u001b[0m\u001b[1;33m\u001b[0m\u001b[0m\n\u001b[0m",
      "\u001b[1;31mTypeError\u001b[0m: unsupported operand type(s) for +: 'range' and 'range'"
     ]
    }
   ],
   "source": [
    "R1=range(0,5)   #We can't concat 2 range functions by using + sign\n",
    "R2=range(5,10)\n",
    "R1+R2"
   ]
  },
  {
   "cell_type": "code",
   "execution_count": 175,
   "metadata": {},
   "outputs": [
    {
     "name": "stdout",
     "output_type": "stream",
     "text": [
      "5\n"
     ]
    },
    {
     "data": {
      "text/plain": [
       "(None, 5)"
      ]
     },
     "execution_count": 175,
     "metadata": {},
     "output_type": "execute_result"
    }
   ],
   "source": [
    "#Accessing the elements in a range function using indexes\n",
    "Range=range(0,11)\n",
    "print(Range[5]),Range[5]"
   ]
  },
  {
   "cell_type": "code",
   "execution_count": 176,
   "metadata": {},
   "outputs": [
    {
     "name": "stdout",
     "output_type": "stream",
     "text": [
      "[0, 1, 2, 3, 4, 5, 6, 7, 8, 9, 10]\n",
      "[11, 10, 9, 8, 7, 6, 5, 4, 3, 2, 1]\n"
     ]
    },
    {
     "data": {
      "text/plain": [
       "(None, None)"
      ]
     },
     "execution_count": 176,
     "metadata": {},
     "output_type": "execute_result"
    }
   ],
   "source": [
    "R1=list(range(0,11)) #Convert the range into List\n",
    "R2=list(range(11,0,-1)) #Decrement with negative step, start=11, stop=0, step=-1\n",
    "print(R1),print(R2)"
   ]
  },
  {
   "cell_type": "code",
   "execution_count": 177,
   "metadata": {},
   "outputs": [
    {
     "name": "stdout",
     "output_type": "stream",
     "text": [
      "[1, 2, 3, 4, 5, 6, 7, 8, 9, 10] ('KESHAV', (45+9j), True, 39.69, 39, 39) {False, 'Prashant', (10+10j), 10.1, 10} range(0, 11, 2) {'Maharashtra': 'Mumbai', 'Karnataka': 'Bangalore', 'Rajasthan': 'Jaipur'}\n"
     ]
    }
   ],
   "source": [
    "#Creating multiple variables at a time\n",
    "Lists, Tuple, Sets, Range, Dictioneries=[1,2,3,4,5,6,7,8,9,10],(\"KESHAV\",45+9j,True,39.69,39,39),{10.10,'Prashant',10+10j,False,10},range(0,11,2),{'Maharashtra':'Mumbai','Karnataka':'Bangalore','Rajasthan':'Jaipur'}\n",
    "print(Lists,Tuple,Sets,Range,Dictioneries)"
   ]
  }
 ],
 "metadata": {
  "kernelspec": {
   "display_name": "Python 3 (ipykernel)",
   "language": "python",
   "name": "python3"
  },
  "language_info": {
   "codemirror_mode": {
    "name": "ipython",
    "version": 3
   },
   "file_extension": ".py",
   "mimetype": "text/x-python",
   "name": "python",
   "nbconvert_exporter": "python",
   "pygments_lexer": "ipython3",
   "version": "3.8.19"
  },
  "toc": {
   "base_numbering": 1,
   "nav_menu": {},
   "number_sections": true,
   "sideBar": true,
   "skip_h1_title": false,
   "title_cell": "Table of Contents",
   "title_sidebar": "Contents",
   "toc_cell": true,
   "toc_position": {
    "height": "calc(100% - 180px)",
    "left": "10px",
    "top": "150px",
    "width": "273.188px"
   },
   "toc_section_display": true,
   "toc_window_display": false
  }
 },
 "nbformat": 4,
 "nbformat_minor": 4
}
