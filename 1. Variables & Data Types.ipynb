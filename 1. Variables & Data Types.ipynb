{
 "cells": [
  {
   "cell_type": "markdown",
   "metadata": {
    "toc": true
   },
   "source": [
    "<h1>Table of Contents (Everything in Python is an Object)<span class=\"tocSkip\"></span></h1>\n",
    "<div class=\"toc\"><ul class=\"toc-item\"><li><span><a href=\"#Variables-&amp;-Data-Types-In-Python\" data-toc-modified-id=\"Variables-&amp;-Data-Types-In-Python-1\"><span class=\"toc-item-num\">1&nbsp;&nbsp;</span>Variables &amp; Data Types In Python</a></span><ul class=\"toc-item\"><li><span><a href=\"#Data-Types\" data-toc-modified-id=\"Data-Types-1.1\"><span class=\"toc-item-num\">1.1&nbsp;&nbsp;</span>Data Types</a></span><ul class=\"toc-item\"><li><ul class=\"toc-item\"><li><span><a href=\"#You-can-perform-Airthmatic-Operations-between-Numerical-datas-including-Complex-data\" data-toc-modified-id=\"You-can-perform-Airthmatic-Operations-between-Numerical-datas-including-Complex-data-1.1.0.1\"><span class=\"toc-item-num\">1.1.0.1&nbsp;&nbsp;</span>You can perform Airthmatic Operations between Numerical datas including Complex data</a></span></li></ul></li></ul></li><li><span><a href=\"#Data-types-Conversion\" data-toc-modified-id=\"Data-types-Conversion-1.2\"><span class=\"toc-item-num\">1.2&nbsp;&nbsp;</span>Data types Conversion</a></span></li></ul></li><li><span><a href=\"#Variables\" data-toc-modified-id=\"Variables-2\"><span class=\"toc-item-num\">2&nbsp;&nbsp;</span>Variables</a></span><ul class=\"toc-item\"><li><span><a href=\"#Lists\" data-toc-modified-id=\"Lists-2.1\"><span class=\"toc-item-num\">2.1&nbsp;&nbsp;</span>Lists</a></span><ul class=\"toc-item\"><li><span><a href=\"#Perform-Insert,-Remove-&amp;-Replace-task-at-a-time\" data-toc-modified-id=\"Perform-Insert,-Remove-&amp;-Replace-task-at-a-time-2.1.1\"><span class=\"toc-item-num\">2.1.1&nbsp;&nbsp;</span>Perform Insert, Remove &amp; Replace task at a time</a></span></li></ul></li><li><span><a href=\"#Tuples\" data-toc-modified-id=\"Tuples-2.2\"><span class=\"toc-item-num\">2.2&nbsp;&nbsp;</span>Tuples</a></span></li><li><span><a href=\"#Set\" data-toc-modified-id=\"Set-2.3\"><span class=\"toc-item-num\">2.3&nbsp;&nbsp;</span>Set</a></span></li><li><span><a href=\"#Dictionary\" data-toc-modified-id=\"Dictionary-2.4\"><span class=\"toc-item-num\">2.4&nbsp;&nbsp;</span>Dictionary</a></span></li><li><span><a href=\"#Range\" data-toc-modified-id=\"Range-2.5\"><span class=\"toc-item-num\">2.5&nbsp;&nbsp;</span>Range</a></span></li></ul></li></ul></div>"
   ]
  },
  {
   "cell_type": "markdown",
   "metadata": {},
   "source": [
    "# Variables & Data Types In Python"
   ]
  },
  {
   "cell_type": "markdown",
   "metadata": {},
   "source": [
    "## Data Types\n",
    "#### You can perform Airthmatic Operations between Numerical datas including Complex data\n",
    "1. Integer\n",
    "2. Float\n",
    "3. Complex\n",
    "4. Bool\n",
    "5. String"
   ]
  },
  {
   "cell_type": "code",
   "execution_count": 64,
   "metadata": {},
   "outputs": [
    {
     "name": "stdout",
     "output_type": "stream",
     "text": [
      "10\n"
     ]
    },
    {
     "data": {
      "text/plain": [
       "int"
      ]
     },
     "execution_count": 64,
     "metadata": {},
     "output_type": "execute_result"
    }
   ],
   "source": [
    "Integer = 10        # Integer\n",
    "print(Integer)\n",
    "type(Integer)       # Check the type"
   ]
  },
  {
   "cell_type": "code",
   "execution_count": 65,
   "metadata": {},
   "outputs": [
    {
     "data": {
      "text/plain": [
       "60"
      ]
     },
     "execution_count": 65,
     "metadata": {},
     "output_type": "execute_result"
    }
   ],
   "source": [
    "10 + 10 # Expression got calculated but thrown away\n",
    "24 + 23 # Expression got calculated but thrown away\n",
    "30 + 30 # Last line expression got printed by default"
   ]
  },
  {
   "cell_type": "code",
   "execution_count": 66,
   "metadata": {},
   "outputs": [
    {
     "name": "stdout",
     "output_type": "stream",
     "text": [
      "10.0\n",
      "10.1\n"
     ]
    },
    {
     "data": {
      "text/plain": [
       "float"
      ]
     },
     "execution_count": 66,
     "metadata": {},
     "output_type": "execute_result"
    }
   ],
   "source": [
    "Float = float(Integer) # Convert the Integer into float, 10.00\n",
    "print(Float)\n",
    "\n",
    "Float1 = 10.10   # Float\n",
    "print(Float1)\n",
    "type(Float) # Check the type"
   ]
  },
  {
   "cell_type": "code",
   "execution_count": 67,
   "metadata": {},
   "outputs": [
    {
     "name": "stdout",
     "output_type": "stream",
     "text": [
      "10\n"
     ]
    },
    {
     "data": {
      "text/plain": [
       "int"
      ]
     },
     "execution_count": 67,
     "metadata": {},
     "output_type": "execute_result"
    }
   ],
   "source": [
    "Integer = int(Float) # convert the float into int\n",
    "print(Integer)\n",
    "type(Integer) # Check the type"
   ]
  },
  {
   "cell_type": "code",
   "execution_count": 68,
   "metadata": {},
   "outputs": [
    {
     "name": "stdout",
     "output_type": "stream",
     "text": [
      "(10+10j)\n"
     ]
    },
    {
     "data": {
      "text/plain": [
       "complex"
      ]
     },
     "execution_count": 68,
     "metadata": {},
     "output_type": "execute_result"
    }
   ],
   "source": [
    "Complex = 10+10j  # Complex, # In python numeric extention as j represents complex number\n",
    "print(Complex)\n",
    "type(Complex)"
   ]
  },
  {
   "cell_type": "markdown",
   "metadata": {},
   "source": [
    "## Data types Conversion"
   ]
  },
  {
   "cell_type": "code",
   "execution_count": 69,
   "metadata": {},
   "outputs": [
    {
     "ename": "TypeError",
     "evalue": "can't convert complex to int",
     "output_type": "error",
     "traceback": [
      "\u001b[0;31m---------------------------------------------------------------------------\u001b[0m",
      "\u001b[0;31mTypeError\u001b[0m                                 Traceback (most recent call last)",
      "Cell \u001b[0;32mIn[69], line 3\u001b[0m\n\u001b[1;32m      1\u001b[0m \u001b[38;5;66;03m# Complex data is not convertible to any other data type\u001b[39;00m\n\u001b[1;32m      2\u001b[0m \u001b[38;5;66;03m# You can't Convert the complex into int\u001b[39;00m\n\u001b[0;32m----> 3\u001b[0m Integer \u001b[38;5;241m=\u001b[39m \u001b[38;5;28;43mint\u001b[39;49m\u001b[43m(\u001b[49m\u001b[43mComplex\u001b[49m\u001b[43m)\u001b[49m\n",
      "\u001b[0;31mTypeError\u001b[0m: can't convert complex to int"
     ]
    }
   ],
   "source": [
    "# Complex data is not convertible to any other data type\n",
    "# You can't Convert the complex into int\n",
    "Integer = int(Complex)"
   ]
  },
  {
   "cell_type": "code",
   "execution_count": 70,
   "metadata": {},
   "outputs": [
    {
     "ename": "TypeError",
     "evalue": "can't convert complex to float",
     "output_type": "error",
     "traceback": [
      "\u001b[0;31m---------------------------------------------------------------------------\u001b[0m",
      "\u001b[0;31mTypeError\u001b[0m                                 Traceback (most recent call last)",
      "Cell \u001b[0;32mIn[70], line 3\u001b[0m\n\u001b[1;32m      1\u001b[0m \u001b[38;5;66;03m# Complex data is not convertible to any other data type\u001b[39;00m\n\u001b[1;32m      2\u001b[0m \u001b[38;5;66;03m# You can't Convert the complex into float\u001b[39;00m\n\u001b[0;32m----> 3\u001b[0m Float \u001b[38;5;241m=\u001b[39m \u001b[38;5;28;43mfloat\u001b[39;49m\u001b[43m(\u001b[49m\u001b[43mComplex\u001b[49m\u001b[43m)\u001b[49m\n\u001b[1;32m      4\u001b[0m \u001b[38;5;28mprint\u001b[39m(Float)\n",
      "\u001b[0;31mTypeError\u001b[0m: can't convert complex to float"
     ]
    }
   ],
   "source": [
    "# Complex data is not convertible to any other data type\n",
    "# You can't Convert the complex into float\n",
    "Float = float(Complex)\n",
    "print(Float)"
   ]
  },
  {
   "cell_type": "code",
   "execution_count": 71,
   "metadata": {},
   "outputs": [
    {
     "name": "stdout",
     "output_type": "stream",
     "text": [
      "False\n",
      "True\n"
     ]
    },
    {
     "data": {
      "text/plain": [
       "(bool, bool)"
      ]
     },
     "execution_count": 71,
     "metadata": {},
     "output_type": "execute_result"
    }
   ],
   "source": [
    "# False means 0, True means 1\n",
    "Bool1 = False   #Bool\n",
    "Bool2 = True\n",
    "print(Bool1), print(Bool2)\n",
    "type(Bool1), type(Bool2)"
   ]
  },
  {
   "cell_type": "code",
   "execution_count": 72,
   "metadata": {},
   "outputs": [
    {
     "name": "stdout",
     "output_type": "stream",
     "text": [
      "0\n",
      "1\n"
     ]
    },
    {
     "data": {
      "text/plain": [
       "(int, int)"
      ]
     },
     "execution_count": 72,
     "metadata": {},
     "output_type": "execute_result"
    }
   ],
   "source": [
    "# Int value of False is always 0, and True is 1\n",
    "# Convert Bool into int\n",
    "Integer1 = int(Bool1)\n",
    "Integer2 = int(Bool2)\n",
    "print(Integer1), print(Integer2)\n",
    "type(Integer1), type(Integer2)"
   ]
  },
  {
   "cell_type": "code",
   "execution_count": 73,
   "metadata": {},
   "outputs": [
    {
     "name": "stdout",
     "output_type": "stream",
     "text": [
      "Animesh\n",
      "Anwesh\n"
     ]
    },
    {
     "data": {
      "text/plain": [
       "(str, str)"
      ]
     },
     "execution_count": 73,
     "metadata": {},
     "output_type": "execute_result"
    }
   ],
   "source": [
    "String1 = 'Animesh'    # String\n",
    "String2 = \"Anwesh\"   # String\n",
    "print(String1), print(String2)\n",
    "type(String1), type(String2)"
   ]
  },
  {
   "cell_type": "code",
   "execution_count": 74,
   "metadata": {},
   "outputs": [
    {
     "data": {
      "text/plain": [
       "(7, 6)"
      ]
     },
     "execution_count": 74,
     "metadata": {},
     "output_type": "execute_result"
    }
   ],
   "source": [
    "# No of letters/alphabets in a \"string\" element\n",
    "len(String1), len(String2)"
   ]
  },
  {
   "cell_type": "code",
   "execution_count": 75,
   "metadata": {},
   "outputs": [
    {
     "data": {
      "text/plain": [
       "(2, 3, 3, 10)"
      ]
     },
     "execution_count": 75,
     "metadata": {},
     "output_type": "execute_result"
    }
   ],
   "source": [
    "# Type the Element value & you will get its frequency/repeatation\n",
    "# Here the Single String is \"AnwneAnshA\"\n",
    "# Type any sigle alphabet/part of the String inside String.count() and you will get the repeatation of that alphabet/part\n",
    "String = \"AnwneAnshA\"\n",
    "# String.count(\"An\")   How many times \"An\" is within the word \"AnwneAnshA\"\n",
    "String.count(\"An\"), String.count(\"n\"), String.count(\"A\"), len(String)"
   ]
  },
  {
   "cell_type": "markdown",
   "metadata": {},
   "source": [
    "### String indexing & Slicing\n",
    "1. Strings are immutable, you can't add(Element), append([E1, E2, E3)) []List format, extend([E1, E2, E3]), pop(Index), remove(Element), discard(Element), insert(Index, [E1, E2, E3]) []List format, swap, sort(), shuffle() & replace letters of string\n",
    "2. Additionaly add(Element), discard(Element) is applicable for Sets only\n",
    "3. remove(Element) is applicable for List & Set only."
   ]
  },
  {
   "cell_type": "code",
   "execution_count": 76,
   "metadata": {},
   "outputs": [
    {
     "name": "stdout",
     "output_type": "stream",
     "text": [
      "0 8 7\n",
      "AnwneAnshA\n",
      "Awenh\n",
      "Anwn\n",
      "Anwn\n",
      "nAsA\n"
     ]
    }
   ],
   "source": [
    "print(String.index(\"A\"), String.index(\"h\"), String.index(\"s\"))\n",
    "print(String[0:len(String)])\n",
    "print(String[0::2])                    # print from index 0 to last by Hopping 2 elements cycle\n",
    "print(String[0:4])                   # print from index 0 to 4 excluding upperbound\n",
    "print(String[:4])                    # print from start index to 4 excluding upperbound\n",
    "print(String[3::2])                    # print from 3rd index to last by hopping 2 elements cycle"
   ]
  },
  {
   "cell_type": "code",
   "execution_count": 77,
   "metadata": {},
   "outputs": [
    {
     "name": "stdout",
     "output_type": "stream",
     "text": [
      "AnwneAn\n",
      "Awen\n"
     ]
    }
   ],
   "source": [
    "StringSlice1 = String[0:7]       # Slicing from String from index 0 to 7 excluding upperbound\n",
    "print(StringSlice1)\n",
    "\n",
    "StringSlice2 = String[0:7:2]    # Slicing from String from index 0 to 7 excluding upperbound by hopping 2 elements cycle\n",
    "print(StringSlice2)"
   ]
  },
  {
   "cell_type": "code",
   "execution_count": 78,
   "metadata": {},
   "outputs": [
    {
     "name": "stdout",
     "output_type": "stream",
     "text": [
      "newnsMan\n"
     ]
    }
   ],
   "source": [
    "String2 = \"SpiderMan\"\n",
    "\n",
    "StringConcat = String[3:5] + String[2:4] + String[-3] + String2[6:9]    # Concationg indivisual letters of strings to form a new string\n",
    "\n",
    "print(StringConcat)"
   ]
  },
  {
   "cell_type": "code",
   "execution_count": 79,
   "metadata": {},
   "outputs": [
    {
     "name": "stdout",
     "output_type": "stream",
     "text": [
      "Spider\n",
      "Man\n"
     ]
    }
   ],
   "source": [
    "print(String2[:6])                  # print from staring 0th index to 6 excluding upperbound\n",
    "print(String2[6:])                  # print from 6th index to last"
   ]
  },
  {
   "cell_type": "code",
   "execution_count": 80,
   "metadata": {},
   "outputs": [
    {
     "name": "stdout",
     "output_type": "stream",
     "text": [
      "SpiderMan\n",
      "['S', 'd', 'n', 'a']\n"
     ]
    },
    {
     "data": {
      "text/plain": [
       "list"
      ]
     },
     "execution_count": 80,
     "metadata": {},
     "output_type": "execute_result"
    }
   ],
   "source": [
    "import random\n",
    "print(String2)\n",
    "RandString = random.sample(String2, 4)              # randomly pick any 3 string letters from String2\n",
    "print(RandString)\n",
    "type(RandString)"
   ]
  },
  {
   "cell_type": "code",
   "execution_count": 81,
   "metadata": {},
   "outputs": [
    {
     "ename": "TypeError",
     "evalue": "'str' object does not support item assignment",
     "output_type": "error",
     "traceback": [
      "\u001b[0;31m---------------------------------------------------------------------------\u001b[0m",
      "\u001b[0;31mTypeError\u001b[0m                                 Traceback (most recent call last)",
      "Cell \u001b[0;32mIn[81], line 2\u001b[0m\n\u001b[1;32m      1\u001b[0m \u001b[38;5;66;03m# Swap/interchange index location of the element letters in a String\u001b[39;00m\n\u001b[0;32m----> 2\u001b[0m String2[\u001b[38;5;241m1\u001b[39m], String2[\u001b[38;5;241m2\u001b[39m] \u001b[38;5;241m=\u001b[39m String2[\u001b[38;5;241m2\u001b[39m], String2[\u001b[38;5;241m1\u001b[39m]\n\u001b[1;32m      3\u001b[0m \u001b[38;5;28mprint\u001b[39m(String2)\n\u001b[1;32m      4\u001b[0m \u001b[38;5;28mtype\u001b[39m(String2), \u001b[38;5;28mlen\u001b[39m(String2)\n",
      "\u001b[0;31mTypeError\u001b[0m: 'str' object does not support item assignment"
     ]
    }
   ],
   "source": [
    "# Swap/interchange index location of the element letters in a String\n",
    "String2[1], String2[2] = String2[2], String2[1]\n",
    "print(String2)\n",
    "type(String2), len(String2)                 # Swap index string element letters 1,2 with 2,1"
   ]
  },
  {
   "cell_type": "code",
   "execution_count": 82,
   "metadata": {},
   "outputs": [
    {
     "ename": "TypeError",
     "evalue": "'str' object does not support item assignment",
     "output_type": "error",
     "traceback": [
      "\u001b[0;31m---------------------------------------------------------------------------\u001b[0m",
      "\u001b[0;31mTypeError\u001b[0m                                 Traceback (most recent call last)",
      "Cell \u001b[0;32mIn[82], line 1\u001b[0m\n\u001b[0;32m----> 1\u001b[0m String[\u001b[38;5;241m3\u001b[39m:\u001b[38;5;241m0\u001b[39m] \u001b[38;5;241m=\u001b[39m \u001b[38;5;124m\"\u001b[39m\u001b[38;5;124mChipmunk\u001b[39m\u001b[38;5;124m\"\u001b[39m   \u001b[38;5;66;03m# Strings are immutable Object, you can't plugin new letters\u001b[39;00m\n\u001b[1;32m      2\u001b[0m \u001b[38;5;28mprint\u001b[39m(string)\n",
      "\u001b[0;31mTypeError\u001b[0m: 'str' object does not support item assignment"
     ]
    }
   ],
   "source": [
    "String[3:0] = \"Chipmunk\"   # Strings are immutable Object, you can't plugin new letters\n",
    "print(string)"
   ]
  },
  {
   "cell_type": "code",
   "execution_count": 83,
   "metadata": {},
   "outputs": [
    {
     "ename": "TypeError",
     "evalue": "'str' object does not support item assignment",
     "output_type": "error",
     "traceback": [
      "\u001b[0;31m---------------------------------------------------------------------------\u001b[0m",
      "\u001b[0;31mTypeError\u001b[0m                                 Traceback (most recent call last)",
      "Cell \u001b[0;32mIn[83], line 1\u001b[0m\n\u001b[0;32m----> 1\u001b[0m String[\u001b[38;5;241m2\u001b[39m:\u001b[38;5;241m5\u001b[39m] \u001b[38;5;241m=\u001b[39m \u001b[38;5;124m\"\u001b[39m\u001b[38;5;124mMunukunu\u001b[39m\u001b[38;5;124m\"\u001b[39m   \u001b[38;5;66;03m# You can't replace string letters with new ones\u001b[39;00m\n\u001b[1;32m      2\u001b[0m \u001b[38;5;28mprint\u001b[39m(String)\n",
      "\u001b[0;31mTypeError\u001b[0m: 'str' object does not support item assignment"
     ]
    }
   ],
   "source": [
    "String[2:5] = \"Munukunu\"   # You can't replace string letters with new ones\n",
    "print(String)"
   ]
  },
  {
   "cell_type": "code",
   "execution_count": 84,
   "metadata": {},
   "outputs": [
    {
     "ename": "AttributeError",
     "evalue": "'str' object has no attribute 'append'",
     "output_type": "error",
     "traceback": [
      "\u001b[0;31m---------------------------------------------------------------------------\u001b[0m",
      "\u001b[0;31mAttributeError\u001b[0m                            Traceback (most recent call last)",
      "Cell \u001b[0;32mIn[84], line 1\u001b[0m\n\u001b[0;32m----> 1\u001b[0m \u001b[43mString\u001b[49m\u001b[38;5;241;43m.\u001b[39;49m\u001b[43mappend\u001b[49m([\u001b[38;5;124m\"\u001b[39m\u001b[38;5;124mL\u001b[39m\u001b[38;5;124m\"\u001b[39m, \u001b[38;5;124m\"\u001b[39m\u001b[38;5;124mM\u001b[39m\u001b[38;5;124m\"\u001b[39m, \u001b[38;5;124m\"\u001b[39m\u001b[38;5;124mN\u001b[39m\u001b[38;5;124m\"\u001b[39m])         \u001b[38;5;66;03m# [] List format in the end\u001b[39;00m\n\u001b[1;32m      2\u001b[0m \u001b[38;5;28mprint\u001b[39m(String)\n",
      "\u001b[0;31mAttributeError\u001b[0m: 'str' object has no attribute 'append'"
     ]
    }
   ],
   "source": [
    "String.append([\"L\", \"M\", \"N\"])         # [] List format in the end\n",
    "print(String)"
   ]
  },
  {
   "cell_type": "code",
   "execution_count": 85,
   "metadata": {},
   "outputs": [
    {
     "ename": "AttributeError",
     "evalue": "'str' object has no attribute 'add'",
     "output_type": "error",
     "traceback": [
      "\u001b[0;31m---------------------------------------------------------------------------\u001b[0m",
      "\u001b[0;31mAttributeError\u001b[0m                            Traceback (most recent call last)",
      "Cell \u001b[0;32mIn[85], line 1\u001b[0m\n\u001b[0;32m----> 1\u001b[0m \u001b[43mString\u001b[49m\u001b[38;5;241;43m.\u001b[39;49m\u001b[43madd\u001b[49m(\u001b[38;5;124m\"\u001b[39m\u001b[38;5;124mH\u001b[39m\u001b[38;5;124m\"\u001b[39m)           \u001b[38;5;66;03m# add() works for Set only, One element at a time\u001b[39;00m\n\u001b[1;32m      2\u001b[0m \u001b[38;5;28mprint\u001b[39m(String)\n",
      "\u001b[0;31mAttributeError\u001b[0m: 'str' object has no attribute 'add'"
     ]
    }
   ],
   "source": [
    "String.add(\"H\")           # add() works for Set only, One element at a time\n",
    "print(String)"
   ]
  },
  {
   "cell_type": "code",
   "execution_count": 86,
   "metadata": {},
   "outputs": [
    {
     "ename": "AttributeError",
     "evalue": "'str' object has no attribute 'extend'",
     "output_type": "error",
     "traceback": [
      "\u001b[0;31m---------------------------------------------------------------------------\u001b[0m",
      "\u001b[0;31mAttributeError\u001b[0m                            Traceback (most recent call last)",
      "Cell \u001b[0;32mIn[86], line 1\u001b[0m\n\u001b[0;32m----> 1\u001b[0m \u001b[43mString\u001b[49m\u001b[38;5;241;43m.\u001b[39;49m\u001b[43mextend\u001b[49m([\u001b[38;5;124m\"\u001b[39m\u001b[38;5;124mP\u001b[39m\u001b[38;5;124m\"\u001b[39m, \u001b[38;5;124m\"\u001b[39m\u001b[38;5;124mY\u001b[39m\u001b[38;5;124m\"\u001b[39m, \u001b[38;5;124m\"\u001b[39m\u001b[38;5;124mz\u001b[39m\u001b[38;5;124m\"\u001b[39m])   \u001b[38;5;66;03m# Add multiple indivisual elements to the end\u001b[39;00m\n\u001b[1;32m      2\u001b[0m \u001b[38;5;28mprint\u001b[39m(String)\n",
      "\u001b[0;31mAttributeError\u001b[0m: 'str' object has no attribute 'extend'"
     ]
    }
   ],
   "source": [
    "String.extend([\"P\", \"Y\", \"z\"])   # Add multiple indivisual elements to the end\n",
    "print(String)"
   ]
  },
  {
   "cell_type": "code",
   "execution_count": 87,
   "metadata": {},
   "outputs": [
    {
     "ename": "AttributeError",
     "evalue": "'str' object has no attribute 'pop'",
     "output_type": "error",
     "traceback": [
      "\u001b[0;31m---------------------------------------------------------------------------\u001b[0m",
      "\u001b[0;31mAttributeError\u001b[0m                            Traceback (most recent call last)",
      "Cell \u001b[0;32mIn[87], line 1\u001b[0m\n\u001b[0;32m----> 1\u001b[0m \u001b[43mString\u001b[49m\u001b[38;5;241;43m.\u001b[39;49m\u001b[43mpop\u001b[49m()         \u001b[38;5;66;03m# Delete last index element by default\u001b[39;00m\n\u001b[1;32m      2\u001b[0m \u001b[38;5;28mprint\u001b[39m(String)\n",
      "\u001b[0;31mAttributeError\u001b[0m: 'str' object has no attribute 'pop'"
     ]
    }
   ],
   "source": [
    "String.pop()         # Delete last index element by default\n",
    "print(String)"
   ]
  },
  {
   "cell_type": "code",
   "execution_count": 88,
   "metadata": {},
   "outputs": [
    {
     "ename": "AttributeError",
     "evalue": "'str' object has no attribute 'remove'",
     "output_type": "error",
     "traceback": [
      "\u001b[0;31m---------------------------------------------------------------------------\u001b[0m",
      "\u001b[0;31mAttributeError\u001b[0m                            Traceback (most recent call last)",
      "Cell \u001b[0;32mIn[88], line 1\u001b[0m\n\u001b[0;32m----> 1\u001b[0m \u001b[43mString\u001b[49m\u001b[38;5;241;43m.\u001b[39;49m\u001b[43mremove\u001b[49m(\u001b[38;5;124m\"\u001b[39m\u001b[38;5;124mn\u001b[39m\u001b[38;5;124m\"\u001b[39m)       \u001b[38;5;66;03m# remove() is applicable for List & Set only. Remove the mentioned string letter\u001b[39;00m\n\u001b[1;32m      2\u001b[0m \u001b[38;5;28mprint\u001b[39m(String)\n",
      "\u001b[0;31mAttributeError\u001b[0m: 'str' object has no attribute 'remove'"
     ]
    }
   ],
   "source": [
    "String.remove(\"n\")       # remove() is applicable for List & Set only. Remove the mentioned string letter\n",
    "print(String)"
   ]
  },
  {
   "cell_type": "code",
   "execution_count": 89,
   "metadata": {},
   "outputs": [
    {
     "ename": "AttributeError",
     "evalue": "'str' object has no attribute 'insert'",
     "output_type": "error",
     "traceback": [
      "\u001b[0;31m---------------------------------------------------------------------------\u001b[0m",
      "\u001b[0;31mAttributeError\u001b[0m                            Traceback (most recent call last)",
      "Cell \u001b[0;32mIn[89], line 1\u001b[0m\n\u001b[0;32m----> 1\u001b[0m \u001b[43mString\u001b[49m\u001b[38;5;241;43m.\u001b[39;49m\u001b[43minsert\u001b[49m(\u001b[38;5;241m2\u001b[39m, \u001b[38;5;124m\"\u001b[39m\u001b[38;5;124mB\u001b[39m\u001b[38;5;124m\"\u001b[39m)      \u001b[38;5;66;03m# Plugin new string letter at the place of mentioned index\u001b[39;00m\n\u001b[1;32m      2\u001b[0m \u001b[38;5;28mprint\u001b[39m(String)\n",
      "\u001b[0;31mAttributeError\u001b[0m: 'str' object has no attribute 'insert'"
     ]
    }
   ],
   "source": [
    "String.insert(2, \"B\")      # Plugin new string letter at the place of mentioned index\n",
    "print(String)"
   ]
  },
  {
   "cell_type": "code",
   "execution_count": 90,
   "metadata": {},
   "outputs": [
    {
     "ename": "AttributeError",
     "evalue": "'str' object has no attribute 'discard'",
     "output_type": "error",
     "traceback": [
      "\u001b[0;31m---------------------------------------------------------------------------\u001b[0m",
      "\u001b[0;31mAttributeError\u001b[0m                            Traceback (most recent call last)",
      "Cell \u001b[0;32mIn[90], line 1\u001b[0m\n\u001b[0;32m----> 1\u001b[0m \u001b[43mString2\u001b[49m\u001b[38;5;241;43m.\u001b[39;49m\u001b[43mdiscard\u001b[49m(\u001b[38;5;124m\"\u001b[39m\u001b[38;5;124mM\u001b[39m\u001b[38;5;124m\"\u001b[39m)           \u001b[38;5;66;03m# discard() works for Set only\u001b[39;00m\n\u001b[1;32m      2\u001b[0m \u001b[38;5;28mprint\u001b[39m(String2)\n",
      "\u001b[0;31mAttributeError\u001b[0m: 'str' object has no attribute 'discard'"
     ]
    }
   ],
   "source": [
    "String2.discard(\"M\")           # discard() works for Set only\n",
    "print(String2)"
   ]
  },
  {
   "cell_type": "code",
   "execution_count": 91,
   "metadata": {},
   "outputs": [
    {
     "ename": "TypeError",
     "evalue": "'str' object does not support item assignment",
     "output_type": "error",
     "traceback": [
      "\u001b[0;31m---------------------------------------------------------------------------\u001b[0m",
      "\u001b[0;31mTypeError\u001b[0m                                 Traceback (most recent call last)",
      "Cell \u001b[0;32mIn[91], line 1\u001b[0m\n\u001b[0;32m----> 1\u001b[0m \u001b[43mrandom\u001b[49m\u001b[38;5;241;43m.\u001b[39;49m\u001b[43mshuffle\u001b[49m\u001b[43m(\u001b[49m\u001b[43mString2\u001b[49m\u001b[43m)\u001b[49m\n\u001b[1;32m      2\u001b[0m \u001b[38;5;28mprint\u001b[39m(String2)\n",
      "File \u001b[0;32m~/Downloads/miniconda3/envs/ML/lib/python3.8/random.py:307\u001b[0m, in \u001b[0;36mRandom.shuffle\u001b[0;34m(self, x, random)\u001b[0m\n\u001b[1;32m    304\u001b[0m     \u001b[38;5;28;01mfor\u001b[39;00m i \u001b[38;5;129;01min\u001b[39;00m \u001b[38;5;28mreversed\u001b[39m(\u001b[38;5;28mrange\u001b[39m(\u001b[38;5;241m1\u001b[39m, \u001b[38;5;28mlen\u001b[39m(x))):\n\u001b[1;32m    305\u001b[0m         \u001b[38;5;66;03m# pick an element in x[:i+1] with which to exchange x[i]\u001b[39;00m\n\u001b[1;32m    306\u001b[0m         j \u001b[38;5;241m=\u001b[39m randbelow(i\u001b[38;5;241m+\u001b[39m\u001b[38;5;241m1\u001b[39m)\n\u001b[0;32m--> 307\u001b[0m         x[i], x[j] \u001b[38;5;241m=\u001b[39m x[j], x[i]\n\u001b[1;32m    308\u001b[0m \u001b[38;5;28;01melse\u001b[39;00m:\n\u001b[1;32m    309\u001b[0m     _int \u001b[38;5;241m=\u001b[39m \u001b[38;5;28mint\u001b[39m\n",
      "\u001b[0;31mTypeError\u001b[0m: 'str' object does not support item assignment"
     ]
    }
   ],
   "source": [
    "random.shuffle(String2)\n",
    "print(String2)"
   ]
  },
  {
   "cell_type": "code",
   "execution_count": 92,
   "metadata": {},
   "outputs": [
    {
     "ename": "AttributeError",
     "evalue": "'str' object has no attribute 'sort'",
     "output_type": "error",
     "traceback": [
      "\u001b[0;31m---------------------------------------------------------------------------\u001b[0m",
      "\u001b[0;31mAttributeError\u001b[0m                            Traceback (most recent call last)",
      "Cell \u001b[0;32mIn[92], line 1\u001b[0m\n\u001b[0;32m----> 1\u001b[0m \u001b[43mString2\u001b[49m\u001b[38;5;241;43m.\u001b[39;49m\u001b[43msort\u001b[49m()\n\u001b[1;32m      2\u001b[0m \u001b[38;5;28mprint\u001b[39m(String2)\n",
      "\u001b[0;31mAttributeError\u001b[0m: 'str' object has no attribute 'sort'"
     ]
    }
   ],
   "source": [
    "String2.sort()\n",
    "print(String2)"
   ]
  },
  {
   "cell_type": "code",
   "execution_count": 93,
   "metadata": {},
   "outputs": [
    {
     "name": "stdout",
     "output_type": "stream",
     "text": [
      "This is single quote string\n",
      "This is double quote string\n",
      "This is 'Single Quote' inside 'double' quote\n",
      "Hello! \"I am Jaspreet\". How's is your Mother?\n",
      "This is Multi-Line paragraph.\n",
      "It starts with \"Triple Quotes\" symbol &\n",
      "also end's with the same.\n",
      "Thanking you Anwesh!!!\n"
     ]
    },
    {
     "data": {
      "text/plain": [
       "(27, 27, 44, 45, 118)"
      ]
     },
     "execution_count": 93,
     "metadata": {},
     "output_type": "execute_result"
    }
   ],
   "source": [
    "SingleQT = 'This is single quote string'\n",
    "print(SingleQT)\n",
    "\n",
    "DoubleQT = \"This is double quote string\"\n",
    "print(DoubleQT)\n",
    "\n",
    "InsideQT = \"This is 'Single Quote' inside 'double' quote\"\n",
    "print(InsideQT)\n",
    "\n",
    "Backlash = \"Hello! \\\"I am Jaspreet\\\". How's is your Mother?\"\n",
    "print(Backlash)\n",
    "\n",
    "Multi_Line = \"\"\"This is Multi-Line paragraph.\n",
    "It starts with \"Triple Quotes\" symbol &\n",
    "also end's with the same.\n",
    "Thanking you Anwesh!!!\"\"\"\n",
    "print(Multi_Line)\n",
    "len(SingleQT), len(DoubleQT), len(InsideQT), len(Backlash), len(Multi_Line)"
   ]
  },
  {
   "cell_type": "code",
   "execution_count": 94,
   "metadata": {},
   "outputs": [
    {
     "ename": "ValueError",
     "evalue": "invalid literal for int() with base 10: 'Animesh'",
     "output_type": "error",
     "traceback": [
      "\u001b[0;31m---------------------------------------------------------------------------\u001b[0m",
      "\u001b[0;31mValueError\u001b[0m                                Traceback (most recent call last)",
      "Cell \u001b[0;32mIn[94], line 3\u001b[0m\n\u001b[1;32m      1\u001b[0m \u001b[38;5;66;03m# String is not convertible to any other data type\u001b[39;00m\n\u001b[1;32m      2\u001b[0m \u001b[38;5;66;03m# You can't Convert the \"String\" into Integer\u001b[39;00m\n\u001b[0;32m----> 3\u001b[0m Integer1 \u001b[38;5;241m=\u001b[39m \u001b[38;5;28;43mint\u001b[39;49m\u001b[43m(\u001b[49m\u001b[43mString1\u001b[49m\u001b[43m)\u001b[49m\n\u001b[1;32m      4\u001b[0m Integer2 \u001b[38;5;241m=\u001b[39m \u001b[38;5;28mint\u001b[39m(String2)\n\u001b[1;32m      5\u001b[0m \u001b[38;5;28mtype\u001b[39m(Integer1), \u001b[38;5;28mtype\u001b[39m(Integer2), \u001b[38;5;28mprint\u001b[39m(Integer1), \u001b[38;5;28mprint\u001b[39m(Integer2)\n",
      "\u001b[0;31mValueError\u001b[0m: invalid literal for int() with base 10: 'Animesh'"
     ]
    }
   ],
   "source": [
    "# String is not convertible to any other data type\n",
    "# You can't Convert the \"String\" into Integer\n",
    "Integer1 = int(String1)\n",
    "Integer2 = int(String2)\n",
    "type(Integer1), type(Integer2), print(Integer1), print(Integer2)"
   ]
  },
  {
   "cell_type": "code",
   "execution_count": 95,
   "metadata": {},
   "outputs": [
    {
     "name": "stdout",
     "output_type": "stream",
     "text": [
      "2\n",
      "3\n",
      "3\n"
     ]
    },
    {
     "data": {
      "text/plain": [
       "(int, int, int)"
      ]
     },
     "execution_count": 95,
     "metadata": {},
     "output_type": "execute_result"
    }
   ],
   "source": [
    "A = String.count(\"An\") # Count repeatation of \"An\" in string \"AnwneAnshA\" & save in X\n",
    "B = String.count(\"n\") # Count repeatation of \"n\" in string \"AnwneAnshA\" & save in Y\n",
    "C = String.count(\"A\") # Count repeatation of \"A\" in string \"AnwneAnshA\" & save in Z\n",
    "print(A), print(B), print(C)\n",
    "type(A), type(B), type(C)"
   ]
  },
  {
   "cell_type": "code",
   "execution_count": 96,
   "metadata": {},
   "outputs": [
    {
     "name": "stdout",
     "output_type": "stream",
     "text": [
      "(2+10j)\n",
      "(10-23.44j)\n",
      "(-23-45j)\n",
      "(23+99j)\n",
      "(67-8j)\n"
     ]
    }
   ],
   "source": [
    "X = String.count(\"An\")\n",
    "Complex = complex(real=X, imag=Float)             # Combine Integer & Float into Complex\n",
    "print(Complex)                                    # Float will come into the imaginery part if you place it after comma\n",
    "\n",
    "Comp1 = complex(real=10, imag=-23.44)\n",
    "print(Comp1)\n",
    "\n",
    "Comp2 = complex(real=-23, imag=-45)\n",
    "print(Comp2)\n",
    "\n",
    "Comp3 = complex(real=23, imag=99)\n",
    "print(Comp3)\n",
    "\n",
    "Comp4 = 67-8j\n",
    "print(Comp4)"
   ]
  },
  {
   "cell_type": "code",
   "execution_count": 97,
   "metadata": {},
   "outputs": [
    {
     "name": "stdout",
     "output_type": "stream",
     "text": [
      "(10+10j)\n"
     ]
    }
   ],
   "source": [
    "Complex = complex(real=Float, imag=Integer)                     # Combine Integer & Float into Complex\n",
    "print(Complex)                                  # Integer will come into the imaginery part if you place it after comma"
   ]
  },
  {
   "cell_type": "code",
   "execution_count": 98,
   "metadata": {},
   "outputs": [
    {
     "name": "stdout",
     "output_type": "stream",
     "text": [
      "10 10.1 (10+10j) True Anwesh\n"
     ]
    }
   ],
   "source": [
    "# Assign different data type values to different variables at once/at a time\n",
    "Integer, Float, Complex, Bool, String = 10, 10.10, 10+10j, True, \"Anwesh\"\n",
    "print(Integer, Float, Complex, Bool, String)"
   ]
  },
  {
   "cell_type": "markdown",
   "metadata": {},
   "source": [
    "# Variables\n",
    "1. Lists\n",
    "2. Dictionaries\n",
    "3. Tuple\n",
    "4. Sets\n",
    "5. Range"
   ]
  },
  {
   "cell_type": "markdown",
   "metadata": {},
   "source": [
    "## Lists\n",
    "1. List.index(Element) #See the Index of mentioned element. One element at a time.\n",
    "2. List[:] #List Indexing\n",
    "3. List[::3] #List Indexing from start to end by hopping 3 elements cycle\n",
    "4. List.append([a1, a2, a3])   #append in List[] format at the end position\n",
    "5. List.insert(index, [a1, a2, a3, a4]) #insert new elements in List[] format at the place of mentioned index\n",
    "6. List.extend([a1, a2, a3, a4]) #Add multiple indivisual elements to the end position\n",
    "7. List[len(List):0] = [a1, a2, a3, a4] #Plugin new elements at the end position\n",
    "8. List3 = List1 + List2 #List Concatination\n",
    "9. random.shuffle(List) #Shuffle the list elements Randomly\n",
    "10. RandSam = random.sample(List, k=5) #Pick random 5 sample elements\n",
    "11. List.pop() #By default delete the last Index element\n",
    "12. List.pop(index) #delete the mentioned Index element\n",
    "13. List.count(Element) #Count the mentioned Element frequency\n",
    "14. List.remove(Element) #delete the mentioned Element, remove() is applicable for List & Set only\n",
    "15. Additionally add(), discard() only works for Set #They don't work for List\n",
    "16. List.sort() #When the List element data types are Integer, Float, Bool\n",
    "17. min(List), max(List), sum(List) #When the List element data types are Integer, Float, Bool"
   ]
  },
  {
   "cell_type": "code",
   "execution_count": 104,
   "metadata": {},
   "outputs": [
    {
     "name": "stdout",
     "output_type": "stream",
     "text": [
      "[1, 2, 3, 4, 5, 6, 7, 8, 9, 10]\n",
      "['KESHAV', (45+9j), True, 39.69, 39]\n",
      "['KESHAV', (45+9j), True, 39.69, 39, [1, 2, 3, 4, 5, 6, 7, 8, 9, 10]]\n"
     ]
    }
   ],
   "source": [
    "# You can't perform Arithmatic operations between lists, only concatination is possible\n",
    "# Creation of list ---- [], all elements of list come inside square bracket\n",
    "# [] Write everything inside Square bracket, which creates list\n",
    "# Whenever you want to fetch any specific value from List, mention the positional/location/index val inside List[] square bracket\n",
    "# You can't perform Arithmatic operations between 2 or more Lists\n",
    "# Homogenous list ----- list following only one datatype\n",
    "# Nested List----- When you create multiple List inside a List\n",
    "# You can't perform advanced indexing with List\n",
    "# List is mutable variable, you can add, remove, insert, swap, sort, shuffle & replace elements of List\n",
    "\n",
    "Homo1 = [1, 2, 3, 4, 5, 6, 7, 8, 9, 10] #List containing only integers\n",
    "print(Homo1)\n",
    "\n",
    "MixValues = [\"KESHAV\", 45+9j, True, 39.69, 39] #List containing all type of datas\n",
    "print(MixValues)\n",
    "\n",
    "NestList = [\"KESHAV\", 45+9j, True, 39.69, 39, Homo1] #Homo1 list has been taken inside NestList\n",
    "print(NestList)"
   ]
  },
  {
   "cell_type": "code",
   "execution_count": 105,
   "metadata": {},
   "outputs": [
    {
     "name": "stdout",
     "output_type": "stream",
     "text": [
      "['KESHAV', (45+9j), True, 39.69, 39, 'KESHAV', (45+9j), True, 39.69, 39, [1, 2, 3, 4, 5, 6, 7, 8, 9, 10]]\n"
     ]
    },
    {
     "data": {
      "text/plain": [
       "11"
      ]
     },
     "execution_count": 105,
     "metadata": {},
     "output_type": "execute_result"
    }
   ],
   "source": [
    "MixValues[len(MixValues):0] = NestList   # Plugin new elements at the last end position index\n",
    "# EndPlugin = MixValues\n",
    "print(MixValues)\n",
    "len(MixValues)"
   ]
  },
  {
   "cell_type": "code",
   "execution_count": 106,
   "metadata": {},
   "outputs": [
    {
     "name": "stdout",
     "output_type": "stream",
     "text": [
      "[1, 2, 3, 4, 5, 6, 7, 8, 9, 10]\n"
     ]
    }
   ],
   "source": [
    "print(MixValues[10])"
   ]
  },
  {
   "cell_type": "code",
   "execution_count": 107,
   "metadata": {},
   "outputs": [
    {
     "name": "stdout",
     "output_type": "stream",
     "text": [
      "['KESHAV', (45+9j), True, 39.69, 39, 'KESHAV', (45+9j), True, 39.69, 39, [1, 2, 3, 4, 5, 6, 7, 8, 9, 10], 'G', 'h', 'a', 'j', 'i', 'n', 'i']\n"
     ]
    }
   ],
   "source": [
    "MixValues[len(MixValues):0] = \"Ghajini\"\n",
    "print(MixValues)"
   ]
  },
  {
   "cell_type": "code",
   "execution_count": 45,
   "metadata": {},
   "outputs": [
    {
     "name": "stdout",
     "output_type": "stream",
     "text": [
      "[1, 2, 3, 4, 5, 6, 7, 8, 9, 10]\n"
     ]
    }
   ],
   "source": [
    "# Creation of list ---- [] (inside square brackets)\n",
    "# Homogenous list ----- list following only one datatype integer\n",
    "\n",
    "List1 = [1, 2, 3, 4, 5, 6, 7, 8, 9, 10]\n",
    "print(List1)"
   ]
  },
  {
   "cell_type": "code",
   "execution_count": 46,
   "metadata": {},
   "outputs": [
    {
     "data": {
      "text/plain": [
       "(10, 10, 11, 6)"
      ]
     },
     "execution_count": 46,
     "metadata": {},
     "output_type": "execute_result"
    }
   ],
   "source": [
    "# len() function tells about how many number of elements a variable/List have\n",
    "len(List1), len(Homo1), len(MixValues), len(NestList)"
   ]
  },
  {
   "cell_type": "code",
   "execution_count": 47,
   "metadata": {},
   "outputs": [
    {
     "name": "stdout",
     "output_type": "stream",
     "text": [
      "[10.1, 'Prashant', (10+10j), False, 10]\n",
      "['KESHAV', (45+9j), True, 39.69, 39]\n"
     ]
    }
   ],
   "source": [
    "# List with heterogenous datatype elements\n",
    "# Heterogenous list ---- list following multiple different datatype elements\n",
    "\n",
    "Hetero1 = [10.10, 'Prashant', 10+10j, False, 10]\n",
    "Hetero2 = [\"KESHAV\", 45+9j, True, 39.69, 39]\n",
    "print(Hetero1)\n",
    "print(Hetero2)"
   ]
  },
  {
   "cell_type": "code",
   "execution_count": 48,
   "metadata": {},
   "outputs": [
    {
     "name": "stdout",
     "output_type": "stream",
     "text": [
      "[10.1, 'Prashant', (10+10j), False, 10, 'KESHAV', (45+9j), True, 39.69, 39]\n"
     ]
    },
    {
     "data": {
      "text/plain": [
       "(list, 10)"
      ]
     },
     "execution_count": 48,
     "metadata": {},
     "output_type": "execute_result"
    }
   ],
   "source": [
    "# Concatination of two lists\n",
    "Hetero3 = Hetero1 + Hetero2\n",
    "print(Hetero3)\n",
    "type(Hetero3), len(Hetero3)"
   ]
  },
  {
   "cell_type": "markdown",
   "metadata": {},
   "source": [
    "### List Indexing"
   ]
  },
  {
   "cell_type": "code",
   "execution_count": 49,
   "metadata": {},
   "outputs": [
    {
     "name": "stdout",
     "output_type": "stream",
     "text": [
      "10.1 Prashant (10+10j) False 10\n"
     ]
    },
    {
     "data": {
      "text/plain": [
       "(float, str, complex, bool, int)"
      ]
     },
     "execution_count": 49,
     "metadata": {},
     "output_type": "execute_result"
    }
   ],
   "source": [
    "# provide index locations of the elements and you will get the element datatypes\n",
    "\n",
    "print(Hetero3[0], Hetero3[1], Hetero3[2], Hetero3[3], Hetero3[4])\n",
    "type(Hetero3[0]), type(Hetero3[1]), type(Hetero3[2]), type(Hetero3[3]), type(Hetero3[4]) # Shows data types of each index"
   ]
  },
  {
   "cell_type": "code",
   "execution_count": 50,
   "metadata": {},
   "outputs": [
    {
     "name": "stdout",
     "output_type": "stream",
     "text": [
      "10\n"
     ]
    },
    {
     "data": {
      "text/plain": [
       "int"
      ]
     },
     "execution_count": 50,
     "metadata": {},
     "output_type": "execute_result"
    }
   ],
   "source": [
    "# Lets say you want to access single or multiple elements from the list \n",
    "# List1 --- Accessing Single Element\n",
    "# To extract element in the list you will be using indexes Location\n",
    "\n",
    "print(Hetero3[4])\n",
    "type(Hetero3[4]) # Shows the 4th index element"
   ]
  },
  {
   "cell_type": "code",
   "execution_count": 51,
   "metadata": {},
   "outputs": [
    {
     "name": "stdout",
     "output_type": "stream",
     "text": [
      "(10+10j) 10\n"
     ]
    }
   ],
   "source": [
    "print(Hetero3[2], Hetero3[4]) #shows 2nd and 4th index elements"
   ]
  },
  {
   "cell_type": "code",
   "execution_count": 52,
   "metadata": {},
   "outputs": [
    {
     "ename": "TypeError",
     "evalue": "list indices must be integers or slices, not tuple",
     "output_type": "error",
     "traceback": [
      "\u001b[0;31m---------------------------------------------------------------------------\u001b[0m",
      "\u001b[0;31mTypeError\u001b[0m                                 Traceback (most recent call last)",
      "Cell \u001b[0;32mIn[52], line 1\u001b[0m\n\u001b[0;32m----> 1\u001b[0m \u001b[43mHetero3\u001b[49m\u001b[43m[\u001b[49m\u001b[38;5;241;43m2\u001b[39;49m\u001b[43m,\u001b[49m\u001b[38;5;241;43m4\u001b[39;49m\u001b[43m]\u001b[49m \u001b[38;5;66;03m# Multiple/Advanced indexing doesnt work here with List, it works with Arrays\u001b[39;00m\n\u001b[1;32m      2\u001b[0m Hetero3[[\u001b[38;5;241m2\u001b[39m,\u001b[38;5;241m4\u001b[39m]]\n\u001b[1;32m      3\u001b[0m Hetero3[[\u001b[38;5;241m2\u001b[39m],[\u001b[38;5;241m4\u001b[39m]]\n",
      "\u001b[0;31mTypeError\u001b[0m: list indices must be integers or slices, not tuple"
     ]
    }
   ],
   "source": [
    "Hetero3[2,4] # Multiple/Advanced indexing doesnt work here with List, it works with Arrays\n",
    "Hetero3[[2,4]]\n",
    "Hetero3[[2],[4]]"
   ]
  },
  {
   "cell_type": "code",
   "execution_count": 53,
   "metadata": {},
   "outputs": [
    {
     "ename": "TypeError",
     "evalue": "'bool' object is not subscriptable",
     "output_type": "error",
     "traceback": [
      "\u001b[0;31m---------------------------------------------------------------------------\u001b[0m",
      "\u001b[0;31mTypeError\u001b[0m                                 Traceback (most recent call last)",
      "Cell \u001b[0;32mIn[53], line 5\u001b[0m\n\u001b[1;32m      1\u001b[0m \u001b[38;5;66;03m# In Hetero3 3rd index element is False which is boolian data type\u001b[39;00m\n\u001b[1;32m      2\u001b[0m \u001b[38;5;66;03m# False is not a \"String\" element\u001b[39;00m\n\u001b[1;32m      3\u001b[0m \u001b[38;5;66;03m# 0th index letter of 3rd index element False is not possible\u001b[39;00m\n\u001b[0;32m----> 5\u001b[0m \u001b[43mHetero3\u001b[49m\u001b[43m[\u001b[49m\u001b[38;5;241;43m3\u001b[39;49m\u001b[43m]\u001b[49m\u001b[43m[\u001b[49m\u001b[38;5;241;43m0\u001b[39;49m\u001b[43m]\u001b[49m\n",
      "\u001b[0;31mTypeError\u001b[0m: 'bool' object is not subscriptable"
     ]
    }
   ],
   "source": [
    "# In Hetero3 3rd index element is False which is boolian data type\n",
    "# False is not a \"String\" element\n",
    "# 0th index letter of 3rd index element False is not possible\n",
    "\n",
    "Hetero3[3][0]"
   ]
  },
  {
   "cell_type": "code",
   "execution_count": 54,
   "metadata": {},
   "outputs": [
    {
     "data": {
      "text/plain": [
       "'P'"
      ]
     },
     "execution_count": 54,
     "metadata": {},
     "output_type": "execute_result"
    }
   ],
   "source": [
    "# 1st index of Hetero3 List element \"Prashant\" and 0th index of it is P\n",
    "Hetero3[1][0]"
   ]
  },
  {
   "cell_type": "code",
   "execution_count": 55,
   "metadata": {},
   "outputs": [
    {
     "data": {
      "text/plain": [
       "(1, 7)"
      ]
     },
     "execution_count": 55,
     "metadata": {},
     "output_type": "execute_result"
    }
   ],
   "source": [
    "Hetero3.index(\"Prashant\"), Hetero3.index(True) #Type the Element data value & you will get the index value of it"
   ]
  },
  {
   "cell_type": "code",
   "execution_count": 56,
   "metadata": {},
   "outputs": [
    {
     "data": {
      "text/plain": [
       "(5, 8, 6)"
      ]
     },
     "execution_count": 56,
     "metadata": {},
     "output_type": "execute_result"
    }
   ],
   "source": [
    "Hetero3.index(\"KESHAV\"), Hetero3.index(39.69), Hetero3.index(45+9j) #Type the Element data value & you will get the index value of it"
   ]
  },
  {
   "cell_type": "code",
   "execution_count": 57,
   "metadata": {},
   "outputs": [
    {
     "ename": "TypeError",
     "evalue": "slice indices must be integers or have an __index__ method",
     "output_type": "error",
     "traceback": [
      "\u001b[0;31m---------------------------------------------------------------------------\u001b[0m",
      "\u001b[0;31mTypeError\u001b[0m                                 Traceback (most recent call last)",
      "Cell \u001b[0;32mIn[57], line 3\u001b[0m\n\u001b[1;32m      1\u001b[0m \u001b[38;5;66;03m# One element index at a time should be taken, multiple elements are not allowed\u001b[39;00m\n\u001b[0;32m----> 3\u001b[0m \u001b[43mHetero3\u001b[49m\u001b[38;5;241;43m.\u001b[39;49m\u001b[43mindex\u001b[49m\u001b[43m(\u001b[49m\u001b[38;5;124;43m\"\u001b[39;49m\u001b[38;5;124;43mKESHAV\u001b[39;49m\u001b[38;5;124;43m\"\u001b[39;49m\u001b[43m,\u001b[49m\u001b[43m \u001b[49m\u001b[38;5;124;43m\"\u001b[39;49m\u001b[38;5;124;43mPrashant\u001b[39;49m\u001b[38;5;124;43m\"\u001b[39;49m\u001b[43m)\u001b[49m            \u001b[38;5;66;03m#It doesn't work with Multiple elements at a time\u001b[39;00m\n\u001b[1;32m      4\u001b[0m Hetero3\u001b[38;5;241m.\u001b[39mindex([\u001b[38;5;124m\"\u001b[39m\u001b[38;5;124mKESHAV\u001b[39m\u001b[38;5;124m\"\u001b[39m, \u001b[38;5;124m\"\u001b[39m\u001b[38;5;124mPrashant\u001b[39m\u001b[38;5;124m\"\u001b[39m])\n\u001b[1;32m      5\u001b[0m Hetero3\u001b[38;5;241m.\u001b[39mindex([\u001b[38;5;124m\"\u001b[39m\u001b[38;5;124mKESHAV\u001b[39m\u001b[38;5;124m\"\u001b[39m], [\u001b[38;5;124m\"\u001b[39m\u001b[38;5;124mPrashant\u001b[39m\u001b[38;5;124m\"\u001b[39m])\n",
      "\u001b[0;31mTypeError\u001b[0m: slice indices must be integers or have an __index__ method"
     ]
    }
   ],
   "source": [
    "# One element index at a time should be taken, multiple elements are not allowed\n",
    "\n",
    "Hetero3.index(\"KESHAV\", \"Prashant\")            #It doesn't work with Multiple elements at a time\n",
    "Hetero3.index([\"KESHAV\", \"Prashant\"])\n",
    "Hetero3.index([\"KESHAV\"], [\"Prashant\"])"
   ]
  },
  {
   "cell_type": "code",
   "execution_count": 58,
   "metadata": {},
   "outputs": [
    {
     "name": "stdout",
     "output_type": "stream",
     "text": [
      "Prashant (10+10j) False\n",
      "['Prashant', (10+10j), False]\n",
      "[10.1, 'Prashant', (10+10j), False, 10, 'KESHAV', (45+9j), True, 39.69, 39]\n"
     ]
    }
   ],
   "source": [
    "print(Hetero3[1], Hetero3[2], Hetero3[3]) #shows 1st, 2nd and 3rd index elements\n",
    "print(Hetero3[1:4]) #shows from 1st to 4th exclusive upperbound range elements\n",
    "print(Hetero3)"
   ]
  },
  {
   "cell_type": "code",
   "execution_count": 59,
   "metadata": {},
   "outputs": [
    {
     "name": "stdout",
     "output_type": "stream",
     "text": [
      "[10.1, 'Prashant', (10+10j), False, 10, 'KESHAV', (45+9j), True, 39.69, 39]\n"
     ]
    },
    {
     "data": {
      "text/plain": [
       "[(10+10j), False, 10]"
      ]
     },
     "execution_count": 59,
     "metadata": {},
     "output_type": "execute_result"
    }
   ],
   "source": [
    "# To Extract the series of elements from a list or any other variable provide index range inside [:]\n",
    "# [start_index:upperbound] -----> where upperbound = end_index + 1\n",
    "\n",
    "print(Hetero3)\n",
    "Hetero3[2:5] # shows from 2nd to 5th exclusive upperbound range elements"
   ]
  },
  {
   "cell_type": "code",
   "execution_count": 61,
   "metadata": {},
   "outputs": [
    {
     "name": "stdout",
     "output_type": "stream",
     "text": [
      "[(10+10j), 10, (45+9j), 39.69]\n"
     ]
    }
   ],
   "source": [
    "print(Hetero3[2:len(Hetero3):2])   # print from 2nd to excluding upperbound length index by skipping 2 elements cycle"
   ]
  },
  {
   "cell_type": "markdown",
   "metadata": {},
   "source": [
    "### Perform Insert, Remove & Replace task at a time"
   ]
  },
  {
   "cell_type": "code",
   "execution_count": 62,
   "metadata": {},
   "outputs": [
    {
     "name": "stdout",
     "output_type": "stream",
     "text": [
      "[10.1, 'Prashant', (10+10j), False, 10, 'KESHAV', (45+9j), True, 39.69, 39]\n"
     ]
    },
    {
     "data": {
      "text/plain": [
       "(list, 10)"
      ]
     },
     "execution_count": 62,
     "metadata": {},
     "output_type": "execute_result"
    }
   ],
   "source": [
    "Hetero3 = [10.1, \"Prashant\", 10+10j, False, 10, \"KESHAV\", 45+9j, True, 39.69, 39]\n",
    "print(Hetero3)\n",
    "type(Hetero3), len(Hetero3)"
   ]
  },
  {
   "cell_type": "code",
   "execution_count": 63,
   "metadata": {},
   "outputs": [
    {
     "name": "stdout",
     "output_type": "stream",
     "text": [
      "[10.1, 'Prashant', (10+10j), False, 10, 'KESHAV', (45+9j), True, 39.69, 39]\n",
      "(10+10j)\n",
      "(20+20j)\n",
      "[10.1, 'Prashant', (20+20j), False, 10, 'KESHAV', (45+9j), True, 39.69, 39]\n",
      "[10.1, 'Prashant', 'Plugin', 'New', '3Elements', (20+20j), False, 10, 'KESHAV', (45+9j), True, 39.69, 39]\n"
     ]
    }
   ],
   "source": [
    "# Perform Change/Replace a List element value with new one\n",
    "# Provide index value [] = provide new value\n",
    "\n",
    "print(Hetero3)\n",
    "print(Hetero3[2])\n",
    "Hetero3[2] = 20+20j                           # 2nd index element 10+10j has been replace by 20+20j\n",
    "print(Hetero3[2])\n",
    "print(Hetero3)\n",
    "type(Hetero3)\n",
    "\n",
    "Hetero3[2:0] = \"Plugin\", \"New\", \"3Elements\"   # Plugin 3 new indivisual elements at the place of 2nd index\n",
    "print(Hetero3)"
   ]
  },
  {
   "cell_type": "code",
   "execution_count": null,
   "metadata": {},
   "outputs": [],
   "source": []
  },
  {
   "cell_type": "code",
   "execution_count": 27,
   "metadata": {},
   "outputs": [
    {
     "name": "stdout",
     "output_type": "stream",
     "text": [
      "['Plugin', 'New', '3Elements']\n",
      "[(30+30j), True, 'Naruto']\n",
      "[10.1, 'Prashant', (30+30j), True, 'Naruto', (20+20j), False, 10, 'KESHAV', (45+9j), True, 39.69, 39]\n"
     ]
    },
    {
     "data": {
      "text/plain": [
       "13"
      ]
     },
     "execution_count": 27,
     "metadata": {},
     "output_type": "execute_result"
    }
   ],
   "source": [
    "# Perform Change/Replace & Insert in a List element values with new values\n",
    "# Provide index value range [:] = provide Replace value, provide Insert value\n",
    "# 2nd index element 20+20j has been replace by 30+30j\n",
    "# True has got Inserted/placed between 2nd index (30+30j) & 4th index (False) elements\n",
    "# True has got Inserted/placed/has taken at 3rd index position/location\n",
    "# Now total no of elements in the list Hetero3 is 11, got increased by 1 element\n",
    "\n",
    "print(Hetero3[2:5])\n",
    "Hetero3[2:5] = 30+30j, True, \"Naruto\"   # Replace 2nd, 3rd & 4th index with 30+30j, True, \"Naruto\"\n",
    "print(Hetero3[2:5])\n",
    "print(Hetero3)\n",
    "len(Hetero3)"
   ]
  },
  {
   "cell_type": "code",
   "execution_count": 28,
   "metadata": {},
   "outputs": [
    {
     "name": "stdout",
     "output_type": "stream",
     "text": [
      "[10.1, 'Prashant', (30+30j), True, 'Naruto', (20+20j), False, 10, 'KESHAV', (45+9j), True, 39.69, 39]\n",
      "[10.1, 'Prashant', (30+30j), 'Vinod', 'Sharma', (20+20j), False, 10, 'KESHAV', (45+9j), True, 39.69, 39]\n"
     ]
    }
   ],
   "source": [
    "print(Hetero3)\n",
    "Hetero3[3:5] = \"Vinod\", \"Sharma\"\n",
    "print(Hetero3)"
   ]
  },
  {
   "cell_type": "code",
   "execution_count": null,
   "metadata": {},
   "outputs": [],
   "source": [
    "print(Hetero3)\n",
    "Hetero3[4:6] = [\"Suraj\"]\n",
    "print(Hetero3)              # 4th & 5th Index element got replaced by single element \"Suraj\" as array"
   ]
  },
  {
   "cell_type": "code",
   "execution_count": 149,
   "metadata": {},
   "outputs": [
    {
     "name": "stdout",
     "output_type": "stream",
     "text": [
      "[(33+7j), 'Tandav', 55, 87.99, True, False, 10.7, 88]\n",
      "[55, 87.99, True]\n",
      "[77, 'Pixie', 'Hexie']\n",
      "[(33+7j), 'Tandav', 77, 'Pixie', 'Hexie', 55, 87.99, True, False, 10.7, 88]\n",
      "['Hexie', 55, 87.99, True]\n",
      "['OOP', 33, 'Cubix', 'Latex']\n",
      "[(33+7j), 'Tandav', 77, 'Pixie', 'OOP', 33, 'Cubix', 'Latex', 'Hexie', 55, 87.99, True, False, 10.7, 88]\n"
     ]
    }
   ],
   "source": [
    "Hetero5 = [33+7j, \"Tandav\", 55, 87.99, True, False, 10.7, 88]\n",
    "print(Hetero5)\n",
    "\n",
    "print(Hetero5[2:5])\n",
    "Hetero5[2:0] = 77, \"Pixie\", \"Hexie\"                         # Plugin 77, \"Pixie\", \"Hexie at the place of 2nd index\n",
    "print(Hetero5[2:5])\n",
    "print(Hetero5)\n",
    "\n",
    "print(Hetero5[4:8])\n",
    "Hetero5[4:0] = \"OOP\", 33, \"Cubix\", \"Latex\"                  # Plugin \"OOP\", 33, \"Cubix\", \"Latex\" at the place of 4th index\n",
    "print(Hetero5[4:8])\n",
    "print(Hetero5)"
   ]
  },
  {
   "cell_type": "code",
   "execution_count": 150,
   "metadata": {},
   "outputs": [
    {
     "name": "stdout",
     "output_type": "stream",
     "text": [
      "[(33+7j), 'Tandav', 77, 'Pixie', 'OOP', 33, 'Cubix', 'Latex', 'Hexie', 55, 87.99, True, False, 10.7, 88]\n",
      "[77, 'Pixie', 'OOP']\n",
      "['Two', 'Five', 33]\n",
      "[(33+7j), 'Tandav', 'Two', 'Five', 33, 'Cubix', 'Latex', 'Hexie', 55, 87.99, True, False, 10.7, 88]\n"
     ]
    }
   ],
   "source": [
    "print(Hetero5)\n",
    "print(Hetero5[2:5])\n",
    "Hetero5[2:5] = \"Two\", \"Five\" # Replace 2nd to 5th exclusive upperbound range elements with \"Two\", \"Five\"\n",
    "print(Hetero5[2:5])\n",
    "print(Hetero5)"
   ]
  },
  {
   "cell_type": "code",
   "execution_count": 151,
   "metadata": {},
   "outputs": [
    {
     "name": "stdout",
     "output_type": "stream",
     "text": [
      "[10.1, 'Prashant', (30+30j), True, 'Naruto', (20+20j), False, 10, 'KESHAV', (45+9j), True, 39.69, 39]\n",
      "['KESHAV', (45+9j), True]\n",
      "[40, 'Morphine', 39.69]\n",
      "[10.1, 'Prashant', (30+30j), True, 'Naruto', (20+20j), False, 10, 40, 'Morphine', 39.69, 39]\n"
     ]
    },
    {
     "data": {
      "text/plain": [
       "(list, 12)"
      ]
     },
     "execution_count": 151,
     "metadata": {},
     "output_type": "execute_result"
    }
   ],
   "source": [
    "# Perform Change/Replace & Insert in a List element values with new values\n",
    "# Provide index value range [:] = provide Replace value, provide Insert value\n",
    "# Between 8th index element \"KESHAV\" & exclusive upperbound 11th index element 39.69 all elements (3 elements) got removed/killed by 40, \"Morphine\"\n",
    "# Now total no of elements in the list Hetero3 is 12\n",
    "print(Hetero3)\n",
    "print(Hetero3[8:11])\n",
    "Hetero3[8:11] = 40, \"Morphine\"    # Replace 8th to exclusive upperbound 11th exclusive upperbound range elements with 40, \"Morphine\"\n",
    "print(Hetero3[8:11])\n",
    "print(Hetero3)\n",
    "type(Hetero3), len(Hetero3)"
   ]
  },
  {
   "cell_type": "code",
   "execution_count": 152,
   "metadata": {},
   "outputs": [
    {
     "name": "stdout",
     "output_type": "stream",
     "text": [
      "[(30+30j), True, 'Naruto', (20+20j), False, 10, 40]\n",
      "[(40+40j), 'John-Wick', 'Morphine', 39.69]\n"
     ]
    },
    {
     "data": {
      "text/plain": [
       "([10.1, 'Prashant', (40+40j), 'John-Wick', 'Morphine', 39.69, 39], 7)"
      ]
     },
     "execution_count": 152,
     "metadata": {},
     "output_type": "execute_result"
    }
   ],
   "source": [
    "# Perform Change/Replace,Insert & Remove in a List element values with new values\n",
    "# Provide index value range [:]= provide Replace value, provide Insert value\n",
    "# 2nd index element 30+30j has been replace by 40+40j\n",
    "# Between 2nd index element (40+40j) & 9th index element (39) all elements (6 elements) got removed/killed by \"John-Wick\"\n",
    "# Now total no of elements in the list Hetero3 is 5\n",
    "print(Hetero3[2:9])\n",
    "Hetero3[2:9] = 40+40j, \"John-Wick\"   # Replace 2nd to 9th exclusive upperbound range elements with 40+40j, \"John-Wick\"\n",
    "print(Hetero3[2:6])\n",
    "Hetero3, len(Hetero3)"
   ]
  },
  {
   "cell_type": "code",
   "execution_count": 153,
   "metadata": {},
   "outputs": [
    {
     "name": "stdout",
     "output_type": "stream",
     "text": [
      "(10+10j)\n",
      "(20+20j)\n",
      "[10.1, 'Prashant', (20+20j), False, 10, 'KESHAV', (45+9j), True, 39.69, 39]\n"
     ]
    }
   ],
   "source": [
    "# List is mutable variable, you can add, remove, insert, swap, shuffle & replace elements of List\n",
    "\n",
    "Hetero3 = [10.1, \"Prashant\", 10+10j, False, 10, \"KESHAV\", 45+9j, True, 39.69, 39]\n",
    "print(Hetero3[2])\n",
    "Hetero3[2] = 20+20j\n",
    "print(Hetero3[2])\n",
    "print(Hetero3)           # 2nd index element 10+10j has been replaced by 20+20j"
   ]
  },
  {
   "cell_type": "code",
   "execution_count": 154,
   "metadata": {},
   "outputs": [
    {
     "name": "stdout",
     "output_type": "stream",
     "text": [
      "[10.1, 'Prashant', (20+20j), False, 10, 'KESHAV', (45+9j), True, 39.69, 39, 'Append']\n",
      "[10.1, 'Prashant', (20+20j), False, 10, 'KESHAV', (45+9j), True, 39.69, 39, 'Append', [(15+15j), 22]]\n"
     ]
    }
   ],
   "source": [
    "Hetero3.append(\"Append\")\n",
    "print(Hetero3)\n",
    "\n",
    "Hetero3.append([15+15j, 22])       # [] List format Add new List [15+15j,22] to the end location of Hetero3 by using append function\n",
    "                                                        # append always increses a single element\n",
    "print(Hetero3)"
   ]
  },
  {
   "cell_type": "code",
   "execution_count": 155,
   "metadata": {},
   "outputs": [
    {
     "ename": "AttributeError",
     "evalue": "'list' object has no attribute 'add'",
     "output_type": "error",
     "traceback": [
      "\u001b[0;31m---------------------------------------------------------------------------\u001b[0m",
      "\u001b[0;31mAttributeError\u001b[0m                            Traceback (most recent call last)",
      "Cell \u001b[0;32mIn[155], line 1\u001b[0m\n\u001b[0;32m----> 1\u001b[0m \u001b[43mHetero3\u001b[49m\u001b[38;5;241;43m.\u001b[39;49m\u001b[43madd\u001b[49m(\u001b[38;5;124m\"\u001b[39m\u001b[38;5;124mAdd\u001b[39m\u001b[38;5;124m\"\u001b[39m)\n\u001b[1;32m      2\u001b[0m \u001b[38;5;28mprint\u001b[39m(Hetero3)\n",
      "\u001b[0;31mAttributeError\u001b[0m: 'list' object has no attribute 'add'"
     ]
    }
   ],
   "source": [
    "Hetero3.add(\"Add\")\n",
    "print(Hetero3)                    # add() is applicable for Set only, one element at a time"
   ]
  },
  {
   "cell_type": "code",
   "execution_count": 156,
   "metadata": {},
   "outputs": [
    {
     "name": "stdout",
     "output_type": "stream",
     "text": [
      "(20+20j)\n",
      "['A', 'B', 'C']\n",
      "[10.1, 'Prashant', ['A', 'B', 'C'], False, 10, 'KESHAV', (45+9j), True, 39.69, 39, 'Append', [(15+15j), 22]]\n"
     ]
    }
   ],
   "source": [
    "print(Hetero3[2])\n",
    "Hetero3[2] = [\"A\", \"B\", \"C\"]      # [] List format Replace 2nd index element (20+20j) with list [\"A\", \"B\", \"C\"]\n",
    "print(Hetero3[2])\n",
    "print(Hetero3)"
   ]
  },
  {
   "cell_type": "code",
   "execution_count": 157,
   "metadata": {},
   "outputs": [
    {
     "name": "stdout",
     "output_type": "stream",
     "text": [
      "[False, 10, 'KESHAV', (45+9j)]\n",
      "[1, 2, 3, 4]\n",
      "[10.1, 'Prashant', ['A', 'B', 'C'], 1, 2, 3, 4, False, 10, 'KESHAV', (45+9j), True, 39.69, 39, 'Append', [(15+15j), 22]]\n"
     ]
    }
   ],
   "source": [
    "print(Hetero3[3:7])\n",
    "Hetero3[3:0] = [1, 2, 3, 4]       # Plugin new indivisual List elements 1, 2, 3, 4 at the place of 3rd index\n",
    "print(Hetero3[3:7])\n",
    "print(Hetero3)"
   ]
  },
  {
   "cell_type": "code",
   "execution_count": 158,
   "metadata": {},
   "outputs": [
    {
     "data": {
      "text/plain": [
       "['apple', 'banana', 'cherry', ['Ford', 'BMW', 'Volvo']]"
      ]
     },
     "execution_count": 158,
     "metadata": {},
     "output_type": "execute_result"
    }
   ],
   "source": [
    "Fruit = [\"apple\", \"banana\", \"cherry\"]\n",
    "Car = [\"Ford\", \"BMW\", \"Volvo\"]\n",
    "Fruit.append(Car)                    # [] List format Add new List [\"Ford\", \"BMW\", \"Volvo\"] to the end location\n",
    "Fruit                                           # List Car has been added at the end of Fruit as a single index element"
   ]
  },
  {
   "cell_type": "code",
   "execution_count": 159,
   "metadata": {},
   "outputs": [
    {
     "name": "stdout",
     "output_type": "stream",
     "text": [
      "['apple', 'banana', 'cherry', ['Ford', 'BMW', 'Volvo'], 'Ford', 'BMW', 'Volvo']\n"
     ]
    }
   ],
   "source": [
    "NewFruits = Fruit + Car       # Concatination\n",
    "print(NewFruits)"
   ]
  },
  {
   "cell_type": "code",
   "execution_count": 160,
   "metadata": {},
   "outputs": [
    {
     "data": {
      "text/plain": [
       "['apple', 'banana', 'cherry', 'Mango', ['Ford', 'BMW', 'Volvo', 'Thief']]"
      ]
     },
     "execution_count": 160,
     "metadata": {},
     "output_type": "execute_result"
    }
   ],
   "source": [
    "fruit = [\"apple\", \"banana\", \"cherry\", \"Mango\"]\n",
    "car = [\"Ford\", \"BMW\", \"Volvo\", \"Thief\"]\n",
    "fruit.append(car)          # [] List format Add new List [\"Ford\", \"BMW\", \"Volvo\", \"Thief\"] to the end location\n",
    "fruit                                 # [] List Car has been added at the end of Fruit as a single index element"
   ]
  },
  {
   "cell_type": "code",
   "execution_count": 161,
   "metadata": {},
   "outputs": [
    {
     "data": {
      "text/plain": [
       "['apple', 'banana', 'cherry', 'Ford', 'BMW', 'Volvo']"
      ]
     },
     "execution_count": 161,
     "metadata": {},
     "output_type": "execute_result"
    }
   ],
   "source": [
    "Fruit1 = [\"apple\", \"banana\", \"cherry\"]\n",
    "Car1 = [\"Ford\", \"BMW\", \"Volvo\"]\n",
    "Fruit1_Car1 = Fruit1 + Car1        # Indivisual elements Concatination of two Lists by using Addition\n",
    "Fruit1_Car1                        # Take elements of two Lists into one New List"
   ]
  },
  {
   "cell_type": "code",
   "execution_count": 162,
   "metadata": {},
   "outputs": [
    {
     "data": {
      "text/plain": [
       "3"
      ]
     },
     "execution_count": 162,
     "metadata": {},
     "output_type": "execute_result"
    }
   ],
   "source": [
    "Fruit.index(Car)    # index value of Car is 3 in Fruit, Car is nestd list inside Fruit list"
   ]
  },
  {
   "cell_type": "code",
   "execution_count": 163,
   "metadata": {},
   "outputs": [
    {
     "data": {
      "text/plain": [
       "3"
      ]
     },
     "execution_count": 163,
     "metadata": {},
     "output_type": "execute_result"
    }
   ],
   "source": [
    "Fruit.index([\"Ford\", \"BMW\", \"Volvo\"])     # index value of [\"Ford\", \"BMW\", \"Volvo\"]"
   ]
  },
  {
   "cell_type": "code",
   "execution_count": 164,
   "metadata": {},
   "outputs": [
    {
     "name": "stdout",
     "output_type": "stream",
     "text": [
      "['apple', 'banana', 'cherry', ['Ford', 'BMW', 'Volvo']]\n"
     ]
    }
   ],
   "source": [
    "print(Fruit)"
   ]
  },
  {
   "cell_type": "code",
   "execution_count": 165,
   "metadata": {},
   "outputs": [
    {
     "data": {
      "text/plain": [
       "15"
      ]
     },
     "execution_count": 165,
     "metadata": {},
     "output_type": "execute_result"
    }
   ],
   "source": [
    "Hetero3.index([15+15j, 22])        # index value of nested list [15+15j,22] is 10 in Hetero3 List"
   ]
  },
  {
   "cell_type": "code",
   "execution_count": 166,
   "metadata": {},
   "outputs": [
    {
     "name": "stdout",
     "output_type": "stream",
     "text": [
      "[10.1, 'Prashant', ['A', 'B', 'C'], 1, 2, 3, 4, False, 10, 'KESHAV', (45+9j), True, 39.69, 39, 'Append', [(15+15j), 22]]\n"
     ]
    }
   ],
   "source": [
    "print(Hetero3)"
   ]
  },
  {
   "cell_type": "code",
   "execution_count": 167,
   "metadata": {},
   "outputs": [
    {
     "name": "stdout",
     "output_type": "stream",
     "text": [
      "[10.1, 'Prashant', ['A', 'B', 'C'], 1, 2, 3, 4, False, 10, 'KESHAV', (45+9j), True, 39.69, 39, 'Append', [(15+15j), 22], [(17+25j), 92]]\n"
     ]
    }
   ],
   "source": [
    "Hetero3.append([17+25j, 92])        # [] List format append() this include at the end in [] List format\n",
    "print(Hetero3)"
   ]
  },
  {
   "cell_type": "code",
   "execution_count": 168,
   "metadata": {},
   "outputs": [
    {
     "name": "stdout",
     "output_type": "stream",
     "text": [
      "[10.1, 'Prashant', ['A', 'B', 'C'], 1, 2, 3, 4, False, 10, 'KESHAV', (45+9j), True, 39.69, 39, 'Append', [(15+15j), 22], [(17+25j), 92], 'Komal', (36-8j), True, 33.33, (36-8j)]\n"
     ]
    }
   ],
   "source": [
    "Hetero3.extend(['Komal', 36-8j, True, 33.33,36-8j])       # Add multiple indivisual elements to the end of Hetero3 by using extend function\n",
    "print(Hetero3)"
   ]
  },
  {
   "cell_type": "code",
   "execution_count": 169,
   "metadata": {},
   "outputs": [
    {
     "name": "stdout",
     "output_type": "stream",
     "text": [
      "[10.1, 'Prashant', ['A', 'B', 'C'], 1, 2, 3, 4, False, 10, 'KESHAV', (45+9j), True, 39.69, 39, 'Append', [(15+15j), 22], [(17+25j), 92], 'Komal', (36-8j), True, 33.33, (36-8j), [(15+15j), 22]]\n"
     ]
    }
   ],
   "source": [
    "Hetero3.append([15+15j, 22])      # [] List format append() always work in [] List format\n",
    "print(Hetero3)"
   ]
  },
  {
   "cell_type": "code",
   "execution_count": 170,
   "metadata": {},
   "outputs": [
    {
     "name": "stdout",
     "output_type": "stream",
     "text": [
      "[10.1, 'Prashant', 'Amol', ['A', 'B', 'C'], 1, 2, 3, 4, False, 10, 'KESHAV', (45+9j), True, 39.69, 39, 'Append', [(15+15j), 22], [(17+25j), 92], 'Komal', (36-8j), True, 33.33, (36-8j), [(15+15j), 22]]\n",
      "[10.1, 'Prashant', 'Amol', ['New', 'Plugin'], ['A', 'B', 'C'], 1, 2, 3, 4, False, 10, 'KESHAV', (45+9j), True, 39.69, 39, 'Append', [(15+15j), 22], [(17+25j), 92], 'Komal', (36-8j), True, 33.33, (36-8j), [(15+15j), 22]]\n"
     ]
    }
   ],
   "source": [
    "Hetero3.insert(2, 'Amol')   # At the Place of 2nd index before 3rd index location plugin new string element 'Amol'\n",
    "                           # 'Amol' will get the 2nd index location/positon\n",
    "print(Hetero3)\n",
    "\n",
    "Hetero3.insert(3, [\"New\", \"Plugin\"])   # [] List format Add new List [\"New\", \"Plugin\"] to the given index location\n",
    "print(Hetero3)"
   ]
  },
  {
   "cell_type": "code",
   "execution_count": 171,
   "metadata": {},
   "outputs": [
    {
     "name": "stdout",
     "output_type": "stream",
     "text": [
      "[10.1, 'Prashant', 'Amol', 'OPPO', 33, 'CUBIX', 'LATEX', ['New', 'Plugin'], ['A', 'B', 'C'], 1, 2, 3, 4, False, 10, 'KESHAV', (45+9j), True, 39.69, 39, 'Append', [(15+15j), 22], [(17+25j), 92], 'Komal', (36-8j), True, 33.33, (36-8j), [(15+15j), 22]]\n"
     ]
    }
   ],
   "source": [
    "Hetero3[3:0] = \"OPPO\", 33, \"CUBIX\", \"LATEX\"   # Pluin new elements \"OPPO\", 33, \"CUBIX\", \"LATEX\"\n",
    "print(Hetero3)"
   ]
  },
  {
   "cell_type": "code",
   "execution_count": 172,
   "metadata": {},
   "outputs": [
    {
     "name": "stdout",
     "output_type": "stream",
     "text": [
      "[10.1, 'Prashant', 'Amol', 'VIETNAAM', 'PAINKILLER', 'OPPO', 33, 'CUBIX', 'LATEX', ['New', 'Plugin'], ['A', 'B', 'C'], 1, 2, 3, 4, False, 10, 'KESHAV', (45+9j), True, 39.69, 39, 'Append', [(15+15j), 22], [(17+25j), 92], 'Komal', (36-8j), True, 33.33, (36-8j), [(15+15j), 22]]\n"
     ]
    }
   ],
   "source": [
    "Hetero3[3:0] = \"VIETNAAM\", \"PAINKILLER\"   # Pluin new elements \"OPPO\", 33, \"CUBIX\", \"LATEX\"\n",
    "print(Hetero3)"
   ]
  },
  {
   "cell_type": "code",
   "execution_count": 173,
   "metadata": {},
   "outputs": [
    {
     "data": {
      "text/plain": [
       "(float, str, str, str, str, str)"
      ]
     },
     "execution_count": 173,
     "metadata": {},
     "output_type": "execute_result"
    }
   ],
   "source": [
    "type(Hetero3[0]), type(Hetero3[1]), type(Hetero3[2]), type(Hetero3[3]), type(Hetero3[4]), type(Hetero3[5]) # Shows data types of each index"
   ]
  },
  {
   "cell_type": "code",
   "execution_count": 174,
   "metadata": {},
   "outputs": [
    {
     "data": {
      "text/plain": [
       "'a'"
      ]
     },
     "execution_count": 174,
     "metadata": {},
     "output_type": "execute_result"
    }
   ],
   "source": [
    "Hetero3[1][2]   # 0th index value of the 6th index string element \"KESHAV\""
   ]
  },
  {
   "cell_type": "code",
   "execution_count": 175,
   "metadata": {},
   "outputs": [
    {
     "data": {
      "text/plain": [
       "31"
      ]
     },
     "execution_count": 175,
     "metadata": {},
     "output_type": "execute_result"
    }
   ],
   "source": [
    "len(Hetero3)   # How many elements are there inside the Hetero3 List"
   ]
  },
  {
   "cell_type": "code",
   "execution_count": 176,
   "metadata": {},
   "outputs": [],
   "source": [
    "List1 = [33+22j, \"Vivek\", True, False, 45.89, 20]\n",
    "List2 = [\"AAM\", 46-77j, [\"Mitocondriya\", \"Mitosis\", \"Miyosis\"], False, 77, 89.45]\n",
    "List3 = [\"Shivalry\", 67-7j, False, True, 56, 75.89]\n",
    "Homo1 = [1, 2, 3, 4, 5, 6, 7, 8, 9, 10]    # List containing only integers\n",
    "MixValues = [\"MADHAV\", 45+9j, True, 39.69, 39]   # List containing all type of datas\n",
    "NestList = [\"KESHAV\", 45+9j, True, 39.69, 39, Homo1]   # Homo1 list has been taken inside NestList"
   ]
  },
  {
   "cell_type": "code",
   "execution_count": 177,
   "metadata": {},
   "outputs": [
    {
     "name": "stdout",
     "output_type": "stream",
     "text": [
      "['MADHAV', (45+9j), True, ['Enigma', (67-9j), False], 39.69, 39]\n"
     ]
    }
   ],
   "source": [
    "MixValues.insert(3, [\"Enigma\", 67-9j, False])     # [] List format At the place of 3rd index, Plugin new elements in [] List format\n",
    "print(MixValues)"
   ]
  },
  {
   "cell_type": "code",
   "execution_count": 178,
   "metadata": {},
   "outputs": [
    {
     "name": "stdout",
     "output_type": "stream",
     "text": [
      "[(33+22j), 'Vivek', True, False, 45.89, 20, 'Vivaldy', 'Hermis']\n",
      "[(33+22j), 'Vivek', True, False, 45.89, 20, 'Vivaldy', 'Hermis', ['Saturn', 'Oracle']]\n",
      "['MADHAV', (45+9j), True, ['Enigma', (67-9j), False], ['Enigma', (67-9j), False], 39.69, 39]\n",
      "['AAM', (46-77j), ['Mitocondriya', 'Mitosis', 'Miyosis'], False, 77, 89.45, ['Shivalry', (67-7j), False, True, 56, 75.89]]\n",
      "[(33+22j), 'Vivek', True, False, 45.89, 20, 'Vivaldy', 'Hermis', ['Saturn', 'Oracle'], ['AAM', (46-77j), ['Mitocondriya', 'Mitosis', 'Miyosis'], False, 77, 89.45, ['Shivalry', (67-7j), False, True, 56, 75.89]]]\n",
      "[(33+22j), 'Vivek', True, False, 45.89, 20, 'Vivaldy', 'Hermis', ['Saturn', 'Oracle'], ['AAM', (46-77j), ['Mitocondriya', 'Mitosis', 'Miyosis'], False, 77, 89.45, ['Shivalry', (67-7j), False, True, 56, 75.89]], 'Shivalry', (67-7j), False, True, 56, 75.89]\n",
      "['AAM', (46-77j), ['Mitocondriya', 'Mitosis', 'Miyosis'], False, 77, 89.45, ['Shivalry', (67-7j), False, True, 56, 75.89], 'Shivalry', (67-7j), False, True, 56, 75.89]\n",
      "None\n",
      "['MADHAV', (45+9j), True, ['Enigma', (67-9j), False], ['Enigma', (67-9j), False], 39.69, 39, 'KESHAV', (45+9j), True, 39.69, 39, [1, 2, 3, 4, 5, 6, 7, 8, 9, 10], 'KESHAV', (45+9j), True, 39.69, 39, [1, 2, 3, 4, 5, 6, 7, 8, 9, 10]]\n"
     ]
    }
   ],
   "source": [
    "List1[6:0] = \"Vivaldy\", \"Hermis\"      # Plugin new elements \"Vivaldy\", \"Hermis\" at the 6th index end position\n",
    "print(List1)\n",
    "\n",
    "List1.insert(8, [\"Saturn\", \"Oracle\"])      # [] List format Plugin new elements in List [] format at 8th index position\n",
    "print(List1)\n",
    "\n",
    "MixValues.insert(3, [\"Enigma\", 67-9j, False])      # [] List format Plugin new elements in List [] format at 3rd index position\n",
    "print(MixValues)\n",
    "\n",
    "List2.insert(len(List2)+1, List3)     # [] List format insert in List [] format at 7th index position\n",
    "print(List2)\n",
    "\n",
    "List1.append(List2)     # [] List format Plugin new elements in List [] format at end position\n",
    "print(List1)\n",
    "\n",
    "List1.extend(List3)       # Plugin new elements at the end position\n",
    "print(List1)\n",
    "\n",
    "Concat = List2 + List3       # Join two or more different lists in sequence and make it one\n",
    "print(Concat)\n",
    "\n",
    "Extend = MixValues.extend(NestList)      # Plugin new elements at the end position\n",
    "print(Extend)\n",
    "\n",
    "MixValues[len(MixValues)+1:0] = NestList     # Plugin new elements at the end position\n",
    "EndPlugin = MixValues\n",
    "print(EndPlugin)"
   ]
  },
  {
   "cell_type": "code",
   "execution_count": 179,
   "metadata": {},
   "outputs": [
    {
     "name": "stdout",
     "output_type": "stream",
     "text": [
      "['MADHAV', (45+9j), True, 39.69, 39, 'KESHAV', (45+9j), True, 39.69, 39, [1, 2, 3, 4, 5, 6, 7, 8, 9, 10]]\n"
     ]
    }
   ],
   "source": [
    "MixValues = [\"MADHAV\", 45+9j, True, 39.69, 39]            # List containing all type of datas\n",
    "NestList = [\"KESHAV\", 45+9j, True, 39.69, 39, Homo1]          # Homo1 list has been taken inside NestList\n",
    "MixValues[len(MixValues)+1:0] = NestList\n",
    "print(MixValues)"
   ]
  },
  {
   "cell_type": "code",
   "execution_count": 180,
   "metadata": {},
   "outputs": [
    {
     "name": "stdout",
     "output_type": "stream",
     "text": [
      "[34.89j, 'Cuba', 'Coffee']\n",
      "[34.89j, 'Cuba', 'Coffee', 'Volcano', 'Mint', (67-78j)]\n",
      "[34.89j, 'Cuba', 'Coffee', 'Volcano', 'Mint', (67-78j), 57.89j, 'Stealth']\n"
     ]
    }
   ],
   "source": [
    "NewList = [34.89j, \"Cuba\", \"Coffee\"]\n",
    "print(NewList)\n",
    "NewList[len(NewList):0] = \"Volcano\", \"Mint\", 67-78j\n",
    "print(NewList)\n",
    "NewList[len(NewList)+1:0] = 57.89j, \"Stealth\"\n",
    "print(NewList)"
   ]
  },
  {
   "cell_type": "code",
   "execution_count": 181,
   "metadata": {},
   "outputs": [
    {
     "name": "stdout",
     "output_type": "stream",
     "text": [
      "[(33+22j), 'Vivek', True, False, 45.89, 20, 'Vivaldy', 'Hermis', ['Saturn', 'Oracle'], ['AAM', (46-77j), ['Mitocondriya', 'Mitosis', 'Miyosis'], False, 77, 89.45, ['Shivalry', (67-7j), False, True, 56, 75.89]], 'Shivalry', (67-7j), False, True, 56, 75.89]\n",
      "[(33+22j), 'Vivek', True, False, 45.89, 20, 'Vivaldy', 'Hermis', ['Saturn', 'Oracle'], ['AAM', (46-77j), ['Mitocondriya', 'Mitosis', 'Miyosis'], False, 77, 89.45, ['Shivalry', (67-7j), False, True, 56, 75.89]], 'Shivalry', (67-7j), False, True, 56, 75.89, 'Amoeba', 'Zodiac', (67-78j)]\n"
     ]
    }
   ],
   "source": [
    "print(List1)\n",
    "List1[len(List1)+1:0] = \"Amoeba\", \"Zodiac\", 67-78j\n",
    "print(List1)"
   ]
  },
  {
   "cell_type": "code",
   "execution_count": 182,
   "metadata": {},
   "outputs": [
    {
     "name": "stdout",
     "output_type": "stream",
     "text": [
      "[True, (45+9j), 'OPPO', 1, 39.69, 'VIETNAAM', 'Komal', 33.33, 39, (36-8j), 'Amol', 'Prashant', [(15+15j), 22], 'PAINKILLER', 4, True, 10, [(17+25j), 92], 10.1, 'CUBIX', (36-8j), ['A', 'B', 'C'], 2, [(15+15j), 22], 'Append', 33, 'LATEX', 'KESHAV', False, ['New', 'Plugin'], 3]\n"
     ]
    }
   ],
   "source": [
    "import random\n",
    "random.shuffle(Hetero3)\n",
    "print(Hetero3) # All elements of Hetero3 list has been shuffled randomly"
   ]
  },
  {
   "cell_type": "code",
   "execution_count": 183,
   "metadata": {},
   "outputs": [
    {
     "name": "stdout",
     "output_type": "stream",
     "text": [
      "['VIETNAAM', (45+9j), True, 'Append', 2]\n"
     ]
    },
    {
     "data": {
      "text/plain": [
       "(list, 5)"
      ]
     },
     "execution_count": 183,
     "metadata": {},
     "output_type": "execute_result"
    }
   ],
   "source": [
    "Randsam3 = random.sample(Hetero3, k=5) # randomly pick any 5 elements as a sample from List Hetero3\n",
    "print(Randsam3)\n",
    "type(Randsam3), len(Randsam3)"
   ]
  },
  {
   "cell_type": "code",
   "execution_count": 184,
   "metadata": {},
   "outputs": [
    {
     "name": "stdout",
     "output_type": "stream",
     "text": [
      "[True, 'OPPO', (45+9j), 1, 39.69, 'VIETNAAM', 'Komal', 33.33, 39, (36-8j), 'Amol', 'Prashant', [(15+15j), 22], 'PAINKILLER', 4, True, 10, [(17+25j), 92], 10.1, 'CUBIX', (36-8j), ['A', 'B', 'C'], 2, [(15+15j), 22], 'Append', 33, 'LATEX', 'KESHAV', False, ['New', 'Plugin'], 3]\n"
     ]
    },
    {
     "data": {
      "text/plain": [
       "(list, 31)"
      ]
     },
     "execution_count": 184,
     "metadata": {},
     "output_type": "execute_result"
    }
   ],
   "source": [
    "# Swap/interchange index location of the elements in a List\n",
    "Hetero3[1], Hetero3[2] = Hetero3[2], Hetero3[1]\n",
    "print(Hetero3)\n",
    "type(Hetero3), len(Hetero3)                 # Swap index elements 1,2 with 2,1"
   ]
  },
  {
   "cell_type": "code",
   "execution_count": 185,
   "metadata": {},
   "outputs": [
    {
     "name": "stdout",
     "output_type": "stream",
     "text": [
      "3 3\n"
     ]
    }
   ],
   "source": [
    "print(Hetero3[-1], Hetero3[len(Hetero3)-1])            # last element from backward"
   ]
  },
  {
   "cell_type": "code",
   "execution_count": 186,
   "metadata": {},
   "outputs": [
    {
     "name": "stdout",
     "output_type": "stream",
     "text": [
      "[True, 'OPPO', (45+9j), 1, 39.69, 'VIETNAAM', 'Komal', 33.33, 39, (36-8j), 'Amol', 'Prashant', [(15+15j), 22], 'PAINKILLER', 4, True, 10, [(17+25j), 92], 10.1, 'CUBIX', (36-8j), ['A', 'B', 'C'], 2, [(15+15j), 22], 'Append', 33, 'LATEX', 'KESHAV', False, ['New', 'Plugin'], 3]\n",
      "[True, 'OPPO', (45+9j), 1, 39.69, 'VIETNAAM', 'Komal', 33.33, 39, (36-8j), 'Amol', 'Prashant', [(15+15j), 22], 'PAINKILLER', 4, True, 10, [(17+25j), 92], 10.1, 'CUBIX', (36-8j), ['A', 'B', 'C'], 2, [(15+15j), 22], 'Append', 33, 'LATEX', 'KESHAV', False, ['New', 'Plugin']]\n"
     ]
    }
   ],
   "source": [
    "print(Hetero3)\n",
    "Hetero3.pop()                 # Bydefault delete the last index Element\n",
    "print(Hetero3)"
   ]
  },
  {
   "cell_type": "code",
   "execution_count": 187,
   "metadata": {},
   "outputs": [
    {
     "name": "stdout",
     "output_type": "stream",
     "text": [
      "[True, 'OPPO', (45+9j), 1, 39.69, 'VIETNAAM', 'Komal', 33.33, 39, (36-8j), 'Amol', 'Prashant', [(15+15j), 22], 'PAINKILLER', 4, True, 10, [(17+25j), 92], 10.1, 'CUBIX', (36-8j), ['A', 'B', 'C'], 2, [(15+15j), 22], 'Append', 33, 'LATEX', 'KESHAV', False, ['New', 'Plugin']]\n",
      "[True, 'OPPO', (45+9j), 1, 39.69, 'VIETNAAM', 'Komal', 33.33, 39, (36-8j), 'Amol', 'Prashant', [(15+15j), 22], 'PAINKILLER', 4, True, 10, [(17+25j), 92], 10.1, 'CUBIX', (36-8j), ['A', 'B', 'C'], 2, [(15+15j), 22], 'Append', 33, 'LATEX', 'KESHAV', False]\n"
     ]
    }
   ],
   "source": [
    "print(Hetero3)\n",
    "Hetero3.pop()                # Bydefault delete the last index Element\n",
    "print(Hetero3)"
   ]
  },
  {
   "cell_type": "code",
   "execution_count": 188,
   "metadata": {},
   "outputs": [
    {
     "name": "stdout",
     "output_type": "stream",
     "text": [
      "[True, 'OPPO', (45+9j), 1, 39.69, 'VIETNAAM', 'Komal', 33.33, 39, (36-8j), 'Amol', 'Prashant', [(15+15j), 22], 'PAINKILLER', 4, True, 10, [(17+25j), 92], 10.1, 'CUBIX', (36-8j), ['A', 'B', 'C'], 2, [(15+15j), 22], 'Append', 33, 'LATEX', 'KESHAV', False]\n",
      "[True, 'OPPO', (45+9j), 1, 39.69, 'VIETNAAM', 'Komal', 33.33, 39, (36-8j), 'Prashant', [(15+15j), 22], 'PAINKILLER', 4, True, 10, [(17+25j), 92], 10.1, 'CUBIX', (36-8j), ['A', 'B', 'C'], 2, [(15+15j), 22], 'Append', 33, 'LATEX', 'KESHAV', False]\n"
     ]
    }
   ],
   "source": [
    "print(Hetero3)\n",
    "Hetero3.pop(10)                  # Delete the mentioned 10th Index Element, one element at a time\n",
    "print(Hetero3)"
   ]
  },
  {
   "cell_type": "code",
   "execution_count": 189,
   "metadata": {},
   "outputs": [
    {
     "name": "stdout",
     "output_type": "stream",
     "text": [
      "[True, 'OPPO', (45+9j), 1, 39.69, 'VIETNAAM', 'Komal', 33.33, 39, (36-8j), [(15+15j), 22], 'PAINKILLER', 4, True, 10, [(17+25j), 92], 10.1, 'CUBIX', (36-8j), ['A', 'B', 'C'], 2, [(15+15j), 22], 'Append', 33, 'LATEX', 'KESHAV', False]\n"
     ]
    }
   ],
   "source": [
    "Hetero3.remove(\"Prashant\")          # Directly type the Element value which you want to remove\n",
    "print(Hetero3)                                  # Element \"Prashant\" has been Removed"
   ]
  },
  {
   "cell_type": "code",
   "execution_count": 190,
   "metadata": {},
   "outputs": [
    {
     "ename": "AttributeError",
     "evalue": "'list' object has no attribute 'discard'",
     "output_type": "error",
     "traceback": [
      "\u001b[0;31m---------------------------------------------------------------------------\u001b[0m",
      "\u001b[0;31mAttributeError\u001b[0m                            Traceback (most recent call last)",
      "Cell \u001b[0;32mIn[190], line 1\u001b[0m\n\u001b[0;32m----> 1\u001b[0m \u001b[43mHetero3\u001b[49m\u001b[38;5;241;43m.\u001b[39;49m\u001b[43mdiscard\u001b[49m(\u001b[38;5;124m\"\u001b[39m\u001b[38;5;124mCUBIX\u001b[39m\u001b[38;5;124m\"\u001b[39m)       \u001b[38;5;66;03m# discard() is applicable for Set only. One Element at a time\u001b[39;00m\n\u001b[1;32m      2\u001b[0m \u001b[38;5;28mprint\u001b[39m(Hetero3)\n",
      "\u001b[0;31mAttributeError\u001b[0m: 'list' object has no attribute 'discard'"
     ]
    }
   ],
   "source": [
    "Hetero3.discard(\"CUBIX\")       # discard() is applicable for Set only. One Element at a time\n",
    "print(Hetero3)"
   ]
  },
  {
   "cell_type": "code",
   "execution_count": 191,
   "metadata": {},
   "outputs": [
    {
     "data": {
      "text/plain": [
       "2"
      ]
     },
     "execution_count": 191,
     "metadata": {},
     "output_type": "execute_result"
    }
   ],
   "source": [
    "Hetero3.count(36-8j) # Type the Element value & you will get its frequency/repeatation in the List Hetero3"
   ]
  },
  {
   "cell_type": "code",
   "execution_count": 192,
   "metadata": {},
   "outputs": [
    {
     "data": {
      "text/plain": [
       "(2, 3, 3)"
      ]
     },
     "execution_count": 192,
     "metadata": {},
     "output_type": "execute_result"
    }
   ],
   "source": [
    "# Type the Element value & you will get its frequency/repeatation\n",
    "# Here the Single String is \"AnwneAnshA\"\n",
    "# Type any sigle alphabet/part of the String inside String.count() and you will get the repeatation of that alphabet/part\n",
    "\n",
    "String = \"AnwneAnshA\"\n",
    "\n",
    "# String.count(\"An\")   How many times \"An\" is within the word \"AnwneAnshA\"\n",
    "\n",
    "String.count(\"An\"), String.count(\"n\"), String.count(\"A\")"
   ]
  },
  {
   "cell_type": "code",
   "execution_count": 193,
   "metadata": {},
   "outputs": [
    {
     "ename": "TypeError",
     "evalue": "'<' not supported between instances of 'str' and 'bool'",
     "output_type": "error",
     "traceback": [
      "\u001b[0;31m---------------------------------------------------------------------------\u001b[0m",
      "\u001b[0;31mTypeError\u001b[0m                                 Traceback (most recent call last)",
      "Cell \u001b[0;32mIn[193], line 1\u001b[0m\n\u001b[0;32m----> 1\u001b[0m \u001b[43mHetero3\u001b[49m\u001b[38;5;241;43m.\u001b[39;49m\u001b[43msort\u001b[49m\u001b[43m(\u001b[49m\u001b[43m)\u001b[49m\n",
      "\u001b[0;31mTypeError\u001b[0m: '<' not supported between instances of 'str' and 'bool'"
     ]
    }
   ],
   "source": [
    "Hetero3.sort() # You can't sort mixed data type elements"
   ]
  },
  {
   "cell_type": "code",
   "execution_count": 194,
   "metadata": {},
   "outputs": [
    {
     "name": "stdout",
     "output_type": "stream",
     "text": [
      "[1, 2, 3, True, 4.9, 5, False, 78.4, 68, True, 33, False, 22, 12]\n",
      "[False, False, 1, True, True, 2, 3, 4.9, 5, 12, 22, 33, 68, 78.4]\n"
     ]
    },
    {
     "data": {
      "text/plain": [
       "(False, 78.4, 231.3)"
      ]
     },
     "execution_count": 194,
     "metadata": {},
     "output_type": "execute_result"
    }
   ],
   "source": [
    "NumList = [1, 2, 3, True, 4.9, 5, False, 78.4, 68, True, 33, False, 22, 12]\n",
    "print(NumList)\n",
    "type(NumList), len(NumList)\n",
    "\n",
    "NumList.sort()\n",
    "print(NumList)\n",
    "\n",
    "min(NumList), max(NumList), sum(NumList)        # Shows minimum & maximum element values of NumList     # Shows the addition of All elements"
   ]
  },
  {
   "cell_type": "code",
   "execution_count": 195,
   "metadata": {},
   "outputs": [
    {
     "ename": "AttributeError",
     "evalue": "'list' object has no attribute 'arange'",
     "output_type": "error",
     "traceback": [
      "\u001b[0;31m---------------------------------------------------------------------------\u001b[0m",
      "\u001b[0;31mAttributeError\u001b[0m                            Traceback (most recent call last)",
      "Cell \u001b[0;32mIn[195], line 1\u001b[0m\n\u001b[0;32m----> 1\u001b[0m \u001b[43mHetero3\u001b[49m\u001b[38;5;241;43m.\u001b[39;49m\u001b[43marange\u001b[49m()\n",
      "\u001b[0;31mAttributeError\u001b[0m: 'list' object has no attribute 'arange'"
     ]
    }
   ],
   "source": [
    "Hetero3.arange() # arange is available in Numpy only\n",
    "                 # arange(start=*,stop=*,step=*,dtype=*)\n",
    "                 # arange() function is used for creating Array"
   ]
  },
  {
   "cell_type": "code",
   "execution_count": 196,
   "metadata": {},
   "outputs": [
    {
     "ename": "TypeError",
     "evalue": "'<' not supported between instances of 'str' and 'bool'",
     "output_type": "error",
     "traceback": [
      "\u001b[0;31m---------------------------------------------------------------------------\u001b[0m",
      "\u001b[0;31mTypeError\u001b[0m                                 Traceback (most recent call last)",
      "Cell \u001b[0;32mIn[196], line 1\u001b[0m\n\u001b[0;32m----> 1\u001b[0m \u001b[38;5;28;43mmin\u001b[39;49m\u001b[43m(\u001b[49m\u001b[43mHetero3\u001b[49m\u001b[43m)\u001b[49m\n",
      "\u001b[0;31mTypeError\u001b[0m: '<' not supported between instances of 'str' and 'bool'"
     ]
    }
   ],
   "source": [
    "min(Hetero3) # You cant find min value in mixed data type elements"
   ]
  },
  {
   "cell_type": "code",
   "execution_count": 197,
   "metadata": {},
   "outputs": [
    {
     "ename": "TypeError",
     "evalue": "'>' not supported between instances of 'str' and 'bool'",
     "output_type": "error",
     "traceback": [
      "\u001b[0;31m---------------------------------------------------------------------------\u001b[0m",
      "\u001b[0;31mTypeError\u001b[0m                                 Traceback (most recent call last)",
      "Cell \u001b[0;32mIn[197], line 1\u001b[0m\n\u001b[0;32m----> 1\u001b[0m \u001b[38;5;28;43mmax\u001b[39;49m\u001b[43m(\u001b[49m\u001b[43mHetero3\u001b[49m\u001b[43m)\u001b[49m\n",
      "\u001b[0;31mTypeError\u001b[0m: '>' not supported between instances of 'str' and 'bool'"
     ]
    }
   ],
   "source": [
    "max(Hetero3) # You cant find max value in mixed data type elements"
   ]
  },
  {
   "cell_type": "code",
   "execution_count": 198,
   "metadata": {},
   "outputs": [
    {
     "ename": "TypeError",
     "evalue": "unsupported operand type(s) for +: 'int' and 'str'",
     "output_type": "error",
     "traceback": [
      "\u001b[0;31m---------------------------------------------------------------------------\u001b[0m",
      "\u001b[0;31mTypeError\u001b[0m                                 Traceback (most recent call last)",
      "Cell \u001b[0;32mIn[198], line 1\u001b[0m\n\u001b[0;32m----> 1\u001b[0m \u001b[38;5;28;43msum\u001b[39;49m\u001b[43m(\u001b[49m\u001b[43mHetero3\u001b[49m\u001b[43m)\u001b[49m\n",
      "\u001b[0;31mTypeError\u001b[0m: unsupported operand type(s) for +: 'int' and 'str'"
     ]
    }
   ],
   "source": [
    "sum(Hetero3) # You cant find sum of mixed data type elements"
   ]
  },
  {
   "cell_type": "markdown",
   "metadata": {},
   "source": [
    "## Tuples"
   ]
  },
  {
   "cell_type": "markdown",
   "metadata": {},
   "source": [
    "1. Tuple is immutable variable, you can't add(Element), append([E1, E2, E3]) []List format, extend([E1, E2, E3]), remove(Element), pop(Index), discard(Element), insert(Index, [E1, E2, E3]) []List format, swap, sort(), shuffle() & replace elements of Tuple\n",
    "2. Additionally add(Element), discard(Element) is applicable for Set only\n",
    "3. remove() is applicable for List & Set only\n",
    "1. Tuple.index(Element) #See the Index of mentioned element\n",
    "2. Tuple[:] #indexing method\n",
    "6. Tuple3 = Tuple1 + Tuple2 #Tuple Concatination\n",
    "7. Tuple.count(Element) #Count Element frequency\n",
    "8. random.sample(Tuple, k=5)\n",
    "10. min(Tuple), max(Tuple), sum(Tuple) #When the Tuple element data types are Integer, Float, Bool"
   ]
  },
  {
   "cell_type": "code",
   "execution_count": 199,
   "metadata": {},
   "outputs": [],
   "source": [
    "# For tuple creation ----> ()\n",
    "# Round bracket is meant for Tuple\n",
    "# Elements of tuple always written inside () brackets\n",
    "# It is not mandartory to provide elements inside () for Tuple\n",
    "# We can create tuples without using any brackets also\n",
    "# Tuple is almost similar like List but Tuples are not editable (immutable)\n",
    "# Iteration in tuple is faster than list, reduce time in forming Algorithm\n",
    "# You can't perform Arithmatic operations between Tuples\n",
    "# Round Bracket crestes Tuples\n",
    "# Nested Tuple----- When you create a Tuple inside a Tuple\n",
    "# Homogenous Tuple ----- Tuple following only one datatype\n",
    "# You can't perform Advanced indexing with Tuple\n",
    "# Tuple is immutable variable, you cant add, remove, insert, swap, sort, shuffle & replace elements of Tuple\n",
    "HomoTuple = (1, 2, 3, 4, 5, 6, 7, 8, 9, 10) # Tuple containing only integers\n",
    "MixValues = (\"KESHAV\", 45+9j, True, 39.69, 39) # Tuple containing all type of datas\n",
    "NestTuple = (\"KESHAV\", 45+9j, True, 39.69, 39, (1,2,3,4,5,6,7,8,9,10)) # Homo1 integer Tuple has been taken inside NestTuple"
   ]
  },
  {
   "cell_type": "code",
   "execution_count": 200,
   "metadata": {},
   "outputs": [
    {
     "name": "stdout",
     "output_type": "stream",
     "text": [
      "('KESHAV', (45+9j), True, 39.69, 39, 89)\n"
     ]
    },
    {
     "data": {
      "text/plain": [
       "(tuple, 6)"
      ]
     },
     "execution_count": 200,
     "metadata": {},
     "output_type": "execute_result"
    }
   ],
   "source": [
    "Tuple2 = \"KESHAV\", 45+9j, True, 39.69, 39, 89              # Tuple without round bracket\n",
    "print(Tuple2)\n",
    "type(Tuple2), len(Tuple2)                             # It is not mandartory to provide elements inside () for Tuple"
   ]
  },
  {
   "cell_type": "code",
   "execution_count": 201,
   "metadata": {},
   "outputs": [
    {
     "data": {
      "text/plain": [
       "(1, 0, 5)"
      ]
     },
     "execution_count": 201,
     "metadata": {},
     "output_type": "execute_result"
    }
   ],
   "source": [
    "Tuple2.index(45+9j), Tuple2.index(\"KESHAV\"), NestTuple.index((1,2,3,4,5,6,7,8,9,10)) # Type the Element value & you will get its index value"
   ]
  },
  {
   "cell_type": "code",
   "execution_count": 202,
   "metadata": {},
   "outputs": [
    {
     "ename": "TypeError",
     "evalue": "slice indices must be integers or have an __index__ method",
     "output_type": "error",
     "traceback": [
      "\u001b[0;31m---------------------------------------------------------------------------\u001b[0m",
      "\u001b[0;31mTypeError\u001b[0m                                 Traceback (most recent call last)",
      "Cell \u001b[0;32mIn[202], line 1\u001b[0m\n\u001b[0;32m----> 1\u001b[0m \u001b[43mTuple2\u001b[49m\u001b[38;5;241;43m.\u001b[39;49m\u001b[43mindex\u001b[49m\u001b[43m(\u001b[49m\u001b[38;5;241;43m39\u001b[39;49m\u001b[43m,\u001b[49m\u001b[43m \u001b[49m\u001b[38;5;241;43m45\u001b[39;49m\u001b[38;5;241;43m+\u001b[39;49m\u001b[38;5;241;43m9\u001b[39;49m\u001b[43mj\u001b[49m\u001b[43m)\u001b[49m\n",
      "\u001b[0;31mTypeError\u001b[0m: slice indices must be integers or have an __index__ method"
     ]
    }
   ],
   "source": [
    "Tuple2.index(39, 45+9j) # It doesn't work with Multiple elements at a time"
   ]
  },
  {
   "cell_type": "code",
   "execution_count": 203,
   "metadata": {},
   "outputs": [
    {
     "data": {
      "text/plain": [
       "1"
      ]
     },
     "execution_count": 203,
     "metadata": {},
     "output_type": "execute_result"
    }
   ],
   "source": [
    "Tuple2.count(45+9j) # Type the Element value & you will get its frequency/repeatation"
   ]
  },
  {
   "cell_type": "code",
   "execution_count": 204,
   "metadata": {},
   "outputs": [
    {
     "data": {
      "text/plain": [
       "1"
      ]
     },
     "execution_count": 204,
     "metadata": {},
     "output_type": "execute_result"
    }
   ],
   "source": [
    "NestTuple.count(1) # Type the Element value & you will get its frequency"
   ]
  },
  {
   "cell_type": "code",
   "execution_count": 205,
   "metadata": {},
   "outputs": [
    {
     "name": "stdout",
     "output_type": "stream",
     "text": [
      "('KESHAV', (45+9j), True)\n",
      "((45+9j), True, 39.69)\n"
     ]
    }
   ],
   "source": [
    "print(Tuple2[0:3]) # Shoes tuple elements from begining and ends at 2+1 upperbound\n",
    "print(Tuple2[1:4])"
   ]
  },
  {
   "cell_type": "code",
   "execution_count": 206,
   "metadata": {},
   "outputs": [
    {
     "data": {
      "text/plain": [
       "tuple"
      ]
     },
     "execution_count": 206,
     "metadata": {},
     "output_type": "execute_result"
    }
   ],
   "source": [
    "type(Tuple2)"
   ]
  },
  {
   "cell_type": "code",
   "execution_count": 207,
   "metadata": {},
   "outputs": [
    {
     "name": "stdout",
     "output_type": "stream",
     "text": [
      "KESHAV\n"
     ]
    }
   ],
   "source": [
    "print(Tuple2[0]) # Shows first element"
   ]
  },
  {
   "cell_type": "code",
   "execution_count": 208,
   "metadata": {},
   "outputs": [
    {
     "name": "stdout",
     "output_type": "stream",
     "text": [
      "(1, 2, 3, True, 4.9, 5, False, 78.4, 68, True, 33, False, 22, 12)\n"
     ]
    },
    {
     "data": {
      "text/plain": [
       "(tuple, 14, False, 78.4, 231.3)"
      ]
     },
     "execution_count": 208,
     "metadata": {},
     "output_type": "execute_result"
    }
   ],
   "source": [
    "NumTuple = (1, 2, 3, True, 4.9, 5, False, 78.4, 68, True, 33, False, 22, 12)\n",
    "print(NumTuple)\n",
    "\n",
    "type(NumTuple), len(NumTuple), min(NumTuple), max(NumTuple), sum(NumTuple)"
   ]
  },
  {
   "cell_type": "code",
   "execution_count": 209,
   "metadata": {},
   "outputs": [
    {
     "ename": "AttributeError",
     "evalue": "'tuple' object has no attribute 'sort'",
     "output_type": "error",
     "traceback": [
      "\u001b[0;31m---------------------------------------------------------------------------\u001b[0m",
      "\u001b[0;31mAttributeError\u001b[0m                            Traceback (most recent call last)",
      "Cell \u001b[0;32mIn[209], line 1\u001b[0m\n\u001b[0;32m----> 1\u001b[0m \u001b[43mHomoTuple\u001b[49m\u001b[38;5;241;43m.\u001b[39;49m\u001b[43msort\u001b[49m() \u001b[38;5;66;03m#When the List element data types are Integer, Float, Bool\u001b[39;00m\n\u001b[1;32m      2\u001b[0m \u001b[38;5;28mprint\u001b[39m(HomoTuple)\n\u001b[1;32m      4\u001b[0m NumTuple\u001b[38;5;241m.\u001b[39msort()\n",
      "\u001b[0;31mAttributeError\u001b[0m: 'tuple' object has no attribute 'sort'"
     ]
    }
   ],
   "source": [
    "HomoTuple.sort() #When the List element data types are Integer, Float, Bool\n",
    "print(HomoTuple)\n",
    "\n",
    "NumTuple.sort()\n",
    "print(NumTuple)"
   ]
  },
  {
   "cell_type": "code",
   "execution_count": 210,
   "metadata": {},
   "outputs": [
    {
     "ename": "TypeError",
     "evalue": "'tuple' object does not support item assignment",
     "output_type": "error",
     "traceback": [
      "\u001b[0;31m---------------------------------------------------------------------------\u001b[0m",
      "\u001b[0;31mTypeError\u001b[0m                                 Traceback (most recent call last)",
      "Cell \u001b[0;32mIn[210], line 2\u001b[0m\n\u001b[1;32m      1\u001b[0m \u001b[38;5;66;03m# Tuple is immutable variable, you cant add, remove, insert, swap, shuffle & replace elements of Tuple\u001b[39;00m\n\u001b[0;32m----> 2\u001b[0m Tuple2[\u001b[38;5;241m0\u001b[39m]\u001b[38;5;241m=\u001b[39m \u001b[38;5;124m'\u001b[39m\u001b[38;5;124mPrashant\u001b[39m\u001b[38;5;124m'\u001b[39m\n",
      "\u001b[0;31mTypeError\u001b[0m: 'tuple' object does not support item assignment"
     ]
    }
   ],
   "source": [
    "# Tuple is immutable variable, you cant add, remove, insert, swap, shuffle & replace elements of Tuple\n",
    "Tuple2[0]= 'Prashant' # Tuple is immutable"
   ]
  },
  {
   "cell_type": "code",
   "execution_count": 211,
   "metadata": {},
   "outputs": [
    {
     "ename": "TypeError",
     "evalue": "'tuple' object does not support item assignment",
     "output_type": "error",
     "traceback": [
      "\u001b[0;31m---------------------------------------------------------------------------\u001b[0m",
      "\u001b[0;31mTypeError\u001b[0m                                 Traceback (most recent call last)",
      "Cell \u001b[0;32mIn[211], line 1\u001b[0m\n\u001b[0;32m----> 1\u001b[0m \u001b[43mrandom\u001b[49m\u001b[38;5;241;43m.\u001b[39;49m\u001b[43mshuffle\u001b[49m\u001b[43m(\u001b[49m\u001b[43mNumTuple\u001b[49m\u001b[43m)\u001b[49m\n\u001b[1;32m      2\u001b[0m NumTuple\n",
      "File \u001b[0;32m~/Downloads/miniconda3/envs/ML/lib/python3.8/random.py:307\u001b[0m, in \u001b[0;36mRandom.shuffle\u001b[0;34m(self, x, random)\u001b[0m\n\u001b[1;32m    304\u001b[0m     \u001b[38;5;28;01mfor\u001b[39;00m i \u001b[38;5;129;01min\u001b[39;00m \u001b[38;5;28mreversed\u001b[39m(\u001b[38;5;28mrange\u001b[39m(\u001b[38;5;241m1\u001b[39m, \u001b[38;5;28mlen\u001b[39m(x))):\n\u001b[1;32m    305\u001b[0m         \u001b[38;5;66;03m# pick an element in x[:i+1] with which to exchange x[i]\u001b[39;00m\n\u001b[1;32m    306\u001b[0m         j \u001b[38;5;241m=\u001b[39m randbelow(i\u001b[38;5;241m+\u001b[39m\u001b[38;5;241m1\u001b[39m)\n\u001b[0;32m--> 307\u001b[0m         x[i], x[j] \u001b[38;5;241m=\u001b[39m x[j], x[i]\n\u001b[1;32m    308\u001b[0m \u001b[38;5;28;01melse\u001b[39;00m:\n\u001b[1;32m    309\u001b[0m     _int \u001b[38;5;241m=\u001b[39m \u001b[38;5;28mint\u001b[39m\n",
      "\u001b[0;31mTypeError\u001b[0m: 'tuple' object does not support item assignment"
     ]
    }
   ],
   "source": [
    "random.shuffle(NumTuple)\n",
    "NumTuple # You cant shuffle tuple, because it is immutable"
   ]
  },
  {
   "cell_type": "code",
   "execution_count": 212,
   "metadata": {},
   "outputs": [
    {
     "name": "stdout",
     "output_type": "stream",
     "text": [
      "[True, 39, 39.69]\n"
     ]
    }
   ],
   "source": [
    "RandTup2 = random.sample(Tuple2, 3) # randomly pick any 3 elements from tuple Tuple2\n",
    "print(RandTup2)"
   ]
  },
  {
   "cell_type": "code",
   "execution_count": 215,
   "metadata": {},
   "outputs": [
    {
     "ename": "AttributeError",
     "evalue": "'tuple' object has no attribute 'add'",
     "output_type": "error",
     "traceback": [
      "\u001b[0;31m---------------------------------------------------------------------------\u001b[0m",
      "\u001b[0;31mAttributeError\u001b[0m                            Traceback (most recent call last)",
      "Cell \u001b[0;32mIn[215], line 1\u001b[0m\n\u001b[0;32m----> 1\u001b[0m \u001b[43mTuple2\u001b[49m\u001b[38;5;241;43m.\u001b[39;49m\u001b[43madd\u001b[49m(\u001b[38;5;241m46\u001b[39m\u001b[38;5;241m+\u001b[39m\u001b[38;5;241m8\u001b[39mj)\n\u001b[1;32m      2\u001b[0m \u001b[38;5;28mprint\u001b[39m(Tuple2)\n",
      "\u001b[0;31mAttributeError\u001b[0m: 'tuple' object has no attribute 'add'"
     ]
    }
   ],
   "source": [
    "Tuple2.add(46+8j)\n",
    "print(Tuple2)"
   ]
  },
  {
   "cell_type": "code",
   "execution_count": 216,
   "metadata": {},
   "outputs": [
    {
     "ename": "AttributeError",
     "evalue": "'tuple' object has no attribute 'append'",
     "output_type": "error",
     "traceback": [
      "\u001b[0;31m---------------------------------------------------------------------------\u001b[0m",
      "\u001b[0;31mAttributeError\u001b[0m                            Traceback (most recent call last)",
      "Cell \u001b[0;32mIn[216], line 1\u001b[0m\n\u001b[0;32m----> 1\u001b[0m \u001b[43mTuple2\u001b[49m\u001b[38;5;241;43m.\u001b[39;49m\u001b[43mappend\u001b[49m[\u001b[38;5;124m\"\u001b[39m\u001b[38;5;124mKunaal\u001b[39m\u001b[38;5;124m\"\u001b[39m]\n",
      "\u001b[0;31mAttributeError\u001b[0m: 'tuple' object has no attribute 'append'"
     ]
    }
   ],
   "source": [
    "Tuple2.append[\"Kunaal\"] # You cant add new string element \"Kunaal\""
   ]
  },
  {
   "cell_type": "code",
   "execution_count": 217,
   "metadata": {},
   "outputs": [
    {
     "ename": "AttributeError",
     "evalue": "'tuple' object has no attribute 'extend'",
     "output_type": "error",
     "traceback": [
      "\u001b[0;31m---------------------------------------------------------------------------\u001b[0m",
      "\u001b[0;31mAttributeError\u001b[0m                            Traceback (most recent call last)",
      "Cell \u001b[0;32mIn[217], line 1\u001b[0m\n\u001b[0;32m----> 1\u001b[0m \u001b[43mTuple2\u001b[49m\u001b[38;5;241;43m.\u001b[39;49m\u001b[43mextend\u001b[49m[\u001b[38;5;124m\"\u001b[39m\u001b[38;5;124mKunaal\u001b[39m\u001b[38;5;124m\"\u001b[39m, \u001b[38;5;241m36\u001b[39m] \u001b[38;5;66;03m# You cant add new elements\u001b[39;00m\n\u001b[1;32m      2\u001b[0m                             \u001b[38;5;66;03m# Extend can add multiple elements,lists at a Time... Though not work for Tuple\u001b[39;00m\n\u001b[1;32m      3\u001b[0m \u001b[38;5;28mprint\u001b[39m(Tuple2)\n",
      "\u001b[0;31mAttributeError\u001b[0m: 'tuple' object has no attribute 'extend'"
     ]
    }
   ],
   "source": [
    "Tuple2.extend[\"Kunaal\", 36] # You cant add new elements\n",
    "                            # Extend can add multiple elements,lists at a Time... Though not work for Tuple\n",
    "print(Tuple2)"
   ]
  },
  {
   "cell_type": "code",
   "execution_count": 218,
   "metadata": {},
   "outputs": [
    {
     "ename": "AttributeError",
     "evalue": "'tuple' object has no attribute 'insert'",
     "output_type": "error",
     "traceback": [
      "\u001b[0;31m---------------------------------------------------------------------------\u001b[0m",
      "\u001b[0;31mAttributeError\u001b[0m                            Traceback (most recent call last)",
      "Cell \u001b[0;32mIn[218], line 1\u001b[0m\n\u001b[0;32m----> 1\u001b[0m \u001b[43mTuple2\u001b[49m\u001b[38;5;241;43m.\u001b[39;49m\u001b[43minsert\u001b[49m(\u001b[38;5;241m3\u001b[39m, [\u001b[38;5;124m\"\u001b[39m\u001b[38;5;124mEnigma\u001b[39m\u001b[38;5;124m\"\u001b[39m, \u001b[38;5;241m67\u001b[39m\u001b[38;5;241m-\u001b[39m\u001b[38;5;241m9\u001b[39mj, \u001b[38;5;28;01mFalse\u001b[39;00m]) \u001b[38;5;66;03m# You cant insert any new element\u001b[39;00m\n\u001b[1;32m      2\u001b[0m \u001b[38;5;28mprint\u001b[39m(Tuple2)\n",
      "\u001b[0;31mAttributeError\u001b[0m: 'tuple' object has no attribute 'insert'"
     ]
    }
   ],
   "source": [
    "Tuple2.insert(3, [\"Enigma\", 67-9j, False]) # You cant insert any new element\n",
    "print(Tuple2)"
   ]
  },
  {
   "cell_type": "code",
   "execution_count": 220,
   "metadata": {},
   "outputs": [
    {
     "ename": "AttributeError",
     "evalue": "'tuple' object has no attribute 'pop'",
     "output_type": "error",
     "traceback": [
      "\u001b[0;31m---------------------------------------------------------------------------\u001b[0m",
      "\u001b[0;31mAttributeError\u001b[0m                            Traceback (most recent call last)",
      "Cell \u001b[0;32mIn[220], line 1\u001b[0m\n\u001b[0;32m----> 1\u001b[0m \u001b[43mTuple2\u001b[49m\u001b[38;5;241;43m.\u001b[39;49m\u001b[43mpop\u001b[49m[\u001b[38;5;241m3\u001b[39m] \u001b[38;5;66;03m# You cant delete the 3rd index element\u001b[39;00m\n\u001b[1;32m      2\u001b[0m \u001b[38;5;28mprint\u001b[39m(Tuple2)\n",
      "\u001b[0;31mAttributeError\u001b[0m: 'tuple' object has no attribute 'pop'"
     ]
    }
   ],
   "source": [
    "Tuple2.pop[3] # You cant delete the 3rd index element\n",
    "print(Tuple2)"
   ]
  },
  {
   "cell_type": "code",
   "execution_count": 221,
   "metadata": {},
   "outputs": [
    {
     "ename": "AttributeError",
     "evalue": "'tuple' object has no attribute 'remove'",
     "output_type": "error",
     "traceback": [
      "\u001b[0;31m---------------------------------------------------------------------------\u001b[0m",
      "\u001b[0;31mAttributeError\u001b[0m                            Traceback (most recent call last)",
      "Cell \u001b[0;32mIn[221], line 1\u001b[0m\n\u001b[0;32m----> 1\u001b[0m \u001b[43mTuple2\u001b[49m\u001b[38;5;241;43m.\u001b[39;49m\u001b[43mremove\u001b[49m[\u001b[38;5;124m\"\u001b[39m\u001b[38;5;124mKESHAV\u001b[39m\u001b[38;5;124m\"\u001b[39m] \u001b[38;5;66;03m# You cant remove any element\u001b[39;00m\n\u001b[1;32m      2\u001b[0m \u001b[38;5;28mprint\u001b[39m(Tuple2)\n",
      "\u001b[0;31mAttributeError\u001b[0m: 'tuple' object has no attribute 'remove'"
     ]
    }
   ],
   "source": [
    "Tuple2.remove[\"KESHAV\"] # You cant remove any element\n",
    "print(Tuple2)"
   ]
  },
  {
   "cell_type": "code",
   "execution_count": 222,
   "metadata": {},
   "outputs": [
    {
     "ename": "AttributeError",
     "evalue": "'tuple' object has no attribute 'discard'",
     "output_type": "error",
     "traceback": [
      "\u001b[0;31m---------------------------------------------------------------------------\u001b[0m",
      "\u001b[0;31mAttributeError\u001b[0m                            Traceback (most recent call last)",
      "Cell \u001b[0;32mIn[222], line 1\u001b[0m\n\u001b[0;32m----> 1\u001b[0m \u001b[43mTuple2\u001b[49m\u001b[38;5;241;43m.\u001b[39;49m\u001b[43mdiscard\u001b[49m(\u001b[38;5;241m45\u001b[39m\u001b[38;5;241m+\u001b[39m\u001b[38;5;241m9\u001b[39mj)\n\u001b[1;32m      2\u001b[0m \u001b[38;5;28mprint\u001b[39m(Tuple2)\n",
      "\u001b[0;31mAttributeError\u001b[0m: 'tuple' object has no attribute 'discard'"
     ]
    }
   ],
   "source": [
    "Tuple2.discard(45+9j)\n",
    "print(Tuple2)"
   ]
  },
  {
   "cell_type": "code",
   "execution_count": 223,
   "metadata": {},
   "outputs": [
    {
     "name": "stdout",
     "output_type": "stream",
     "text": [
      "(1, 2, 3, 4, 5, 6, 7, 8, 9, 10, 'KESHAV', (45+9j), True, 39.69, 39, 89)\n"
     ]
    }
   ],
   "source": [
    "ConcatTup = HomoTuple + Tuple2 # Concatination of Tuples are possible\n",
    "print(ConcatTup)"
   ]
  },
  {
   "cell_type": "code",
   "execution_count": 224,
   "metadata": {},
   "outputs": [],
   "source": [
    "# Tuples are IMMUTABLE in nature"
   ]
  },
  {
   "cell_type": "code",
   "execution_count": 225,
   "metadata": {},
   "outputs": [
    {
     "ename": "TypeError",
     "evalue": "'tuple' object does not support item assignment",
     "output_type": "error",
     "traceback": [
      "\u001b[0;31m---------------------------------------------------------------------------\u001b[0m",
      "\u001b[0;31mTypeError\u001b[0m                                 Traceback (most recent call last)",
      "Cell \u001b[0;32mIn[225], line 2\u001b[0m\n\u001b[1;32m      1\u001b[0m \u001b[38;5;66;03m# Swap/interchange elements by index in a Tuple is not possible, because of immutable nature\u001b[39;00m\n\u001b[0;32m----> 2\u001b[0m Tuple2[\u001b[38;5;241m0\u001b[39m], Tuple2[\u001b[38;5;241m1\u001b[39m], Tuple2[\u001b[38;5;241m2\u001b[39m], Tuple[\u001b[38;5;241m5\u001b[39m] \u001b[38;5;241m=\u001b[39m Tuple2[\u001b[38;5;241m1\u001b[39m], Tuple2[\u001b[38;5;241m0\u001b[39m], Tuple2[\u001b[38;5;241m5\u001b[39m], Tuple2[\u001b[38;5;241m2\u001b[39m]\n\u001b[1;32m      3\u001b[0m Hetero3\n",
      "\u001b[0;31mTypeError\u001b[0m: 'tuple' object does not support item assignment"
     ]
    }
   ],
   "source": [
    "# Swap/interchange elements by index in a Tuple is not possible, because of immutable nature\n",
    "Tuple2[0], Tuple2[1], Tuple2[2], Tuple[5] = Tuple2[1], Tuple2[0], Tuple2[5], Tuple2[2]\n",
    "Hetero3 # Swap index elements 0,1,2,5 with 1,0,5,2"
   ]
  },
  {
   "cell_type": "code",
   "execution_count": 113,
   "metadata": {},
   "outputs": [],
   "source": [
    "# Tuples Doc ----> https://www.w3schools.com/python/python_tuples.asp"
   ]
  },
  {
   "cell_type": "markdown",
   "metadata": {},
   "source": [
    "## Set\n",
    "1. There is no data type sequence & index in Set. Set is a collection of Unique Elements, it doesnt takes duplicate values\n",
    "2. You can't append([E1, E2, E3]) []List format, extend([E1, E2, E3]), insert(Index, [E1, E2, E3]) []List format, swap, sort(), shuffle() & replace elements of Set\n",
    "3. Additionally add(Element), discard(Element) is applicable for Set only\n",
    "1. set.add(Element) #add one Element at a time\n",
    "2. set.remove(Element) #remove one Element at a time\n",
    "3. remove() is applicable for List & Set only\n",
    "4. set.discard(Element) #discard one Element at a time\n",
    "5. set.pop() #Bydefault delete the first 1st Element 0th index of Set\n",
    "6. Set only consist unique values\n",
    "7. set.pop(Index) #delete the mentioned Index element\n",
    "8. 5Sample = random.sample(Set, k=5)\n",
    "9. NewSet = set2.union(set1) #merging elements of two different Sets into one new set\n",
    "10. set1.update(set2) #merging element of set2 into set1 or vice versa\n",
    "11. min(Set), max(Set), sum(Set) #When the Set element data types are Integer, Float, Bool"
   ]
  },
  {
   "cell_type": "code",
   "execution_count": 17,
   "metadata": {},
   "outputs": [
    {
     "name": "stdout",
     "output_type": "stream",
     "text": [
      "{1, 2, 3, 4, 33}\n",
      "{True, (89-5j), 11.11, 'Jenny', 56, 89}\n",
      "{True, 'String', 45.77, 50, (67+9j)}\n"
     ]
    }
   ],
   "source": [
    "# Sets ---> {} ------->\n",
    "# Set is a collection of Unique Elements, it doesnt takes duplicate values\n",
    "# There is no fixed index values of elements\n",
    "# Curly bracket is meant for Set, anything (element) inside curly bracket comes under set\n",
    "# There is no specific sequence of elements in set\n",
    "# Set uses the concept of hash\n",
    "# You can't perform Arithmatic operations between Sets\n",
    "# Set doesnt support duplicate values\n",
    "# Index/Location value doesnt work in set\n",
    "# Concatination is not possible between two sets\n",
    "# Indexing is not possible in set\n",
    "# Set is mutable variable, you can add & remove elements\n",
    "# You can't perform swap, sort, shuffle & replace elements of Set\n",
    "s1 = {1,2,33,33,33,4,4,3,3}\n",
    "print(s1)                                                       # Exclude repeated values\n",
    "\n",
    "Set1 = {\"Jenny\", 89, True, 56, 89-5j, 11.11}\n",
    "print(Set1)\n",
    "SetSequence = {True, \"String\", 67+9j, 45.77, 50}\n",
    "print(SetSequence)"
   ]
  },
  {
   "cell_type": "code",
   "execution_count": 18,
   "metadata": {},
   "outputs": [
    {
     "name": "stdout",
     "output_type": "stream",
     "text": [
      "{5, 14, 21, 22, 55, 25}\n"
     ]
    },
    {
     "data": {
      "text/plain": [
       "(set, 6)"
      ]
     },
     "execution_count": 18,
     "metadata": {},
     "output_type": "execute_result"
    }
   ],
   "source": [
    "s2 = {22,25,14,21,55,5}\n",
    "print(s2)\n",
    "type(s2), len(s2)"
   ]
  },
  {
   "cell_type": "code",
   "execution_count": 19,
   "metadata": {},
   "outputs": [
    {
     "name": "stdout",
     "output_type": "stream",
     "text": [
      "{False, 'Prashant', (10+10j), 10.1, 10}\n"
     ]
    }
   ],
   "source": [
    "s3 = {10.10,'Prashant',10+10j,False,10} # Elements dont have specific & fixed index value & Sequence\n",
    "print(s3)"
   ]
  },
  {
   "cell_type": "code",
   "execution_count": 20,
   "metadata": {},
   "outputs": [
    {
     "ename": "TypeError",
     "evalue": "'set' object is not subscriptable",
     "output_type": "error",
     "traceback": [
      "\u001b[0;31m---------------------------------------------------------------------------\u001b[0m",
      "\u001b[0;31mTypeError\u001b[0m                                 Traceback (most recent call last)",
      "Cell \u001b[0;32mIn[20], line 1\u001b[0m\n\u001b[0;32m----> 1\u001b[0m \u001b[43ms3\u001b[49m\u001b[43m[\u001b[49m\u001b[38;5;241;43m3\u001b[39;49m\u001b[43m]\u001b[49m\n",
      "\u001b[0;31mTypeError\u001b[0m: 'set' object is not subscriptable"
     ]
    }
   ],
   "source": [
    "s3[3] # In set indexing is not supported"
   ]
  },
  {
   "cell_type": "code",
   "execution_count": 21,
   "metadata": {},
   "outputs": [
    {
     "data": {
      "text/plain": [
       "{14, 25, 63, 75, 98}"
      ]
     },
     "execution_count": 21,
     "metadata": {},
     "output_type": "execute_result"
    }
   ],
   "source": [
    "s4 = {25,14,98,63,75,98}\n",
    "s4"
   ]
  },
  {
   "cell_type": "code",
   "execution_count": 22,
   "metadata": {},
   "outputs": [
    {
     "name": "stdout",
     "output_type": "stream",
     "text": [
      "{40, 10, 50, 20, 30}\n",
      "{100, 70, 80, 90, 60}\n"
     ]
    }
   ],
   "source": [
    "s1 = {10,20,30,40,50}\n",
    "s2 = {60,70,80,90,100}\n",
    "print(s1)\n",
    "print(s2)"
   ]
  },
  {
   "cell_type": "code",
   "execution_count": 23,
   "metadata": {},
   "outputs": [
    {
     "name": "stdout",
     "output_type": "stream",
     "text": [
      "{100, 70, 40, 10, 80, 50, 20, 90, 60, 30}\n",
      "{100, 70, 40, 10, 80, 50, 20, 90, 60, 30}\n"
     ]
    }
   ],
   "source": [
    "NewSet1 = s2.union(s1) # merging two different set elements into one new set\n",
    "print(NewSet1)\n",
    "\n",
    "NewSet2 = s1.union(s2) # merging two different sets elements into one new set\n",
    "print(NewSet2)"
   ]
  },
  {
   "cell_type": "code",
   "execution_count": 24,
   "metadata": {},
   "outputs": [
    {
     "name": "stdout",
     "output_type": "stream",
     "text": [
      "{'banana', 'microsoft', 'apple', 'cherry', 'google'}\n",
      "{'banana', 'cherry', 'apple', 'microsoft', 'google'}\n"
     ]
    }
   ],
   "source": [
    "x = {\"apple\", \"banana\", \"cherry\"}\n",
    "y = {\"google\", \"microsoft\", \"apple\"}\n",
    "a = {\"apple\", \"banana\", \"cherry\"}\n",
    "b = {\"google\", \"microsoft\", \"apple\"}\n",
    "x.update(y)                                       # merging element of set2 into set1 or vice versa\n",
    "print(x)\n",
    "\n",
    "b.update(a)\n",
    "print(b)"
   ]
  },
  {
   "cell_type": "code",
   "execution_count": 25,
   "metadata": {},
   "outputs": [
    {
     "name": "stdout",
     "output_type": "stream",
     "text": [
      "{98, 39, 74, 75, 45, 78, 56, 93, 94}\n",
      "{98, 39, 74, 75, 45, 78, 56, 93, 94}\n"
     ]
    }
   ],
   "source": [
    "Set1 = {45, 78, 98, 56, 39, 93, 75, 94, 74, 98, 75, 56}\n",
    "Set2 = {56, 75, 98, 74, 94, 75, 93, 39, 56, 98, 78, 45}\n",
    "print(Set1)\n",
    "print(Set2)"
   ]
  },
  {
   "cell_type": "code",
   "execution_count": 26,
   "metadata": {},
   "outputs": [
    {
     "name": "stdout",
     "output_type": "stream",
     "text": [
      "{39, 40, 10, 50, 20, 30}\n",
      "{100, 70, 80, 23, 90, 60}\n"
     ]
    }
   ],
   "source": [
    "# Set is mutable variable, you can add & remove, elements of Set\n",
    "# Adding new single element in Set\n",
    "# you cant add multiple elements at a time\n",
    "s1.add(39) # add one element at a time\n",
    "s2.add(23)\n",
    "print(s1)\n",
    "print(s2)"
   ]
  },
  {
   "cell_type": "code",
   "execution_count": 29,
   "metadata": {},
   "outputs": [
    {
     "data": {
      "text/plain": [
       "[80, 100, 90]"
      ]
     },
     "execution_count": 29,
     "metadata": {},
     "output_type": "execute_result"
    }
   ],
   "source": [
    "import random\n",
    "random.sample(s2, 3) # randomly pick any 3 elements from set s2"
   ]
  },
  {
   "cell_type": "code",
   "execution_count": 30,
   "metadata": {},
   "outputs": [
    {
     "data": {
      "text/plain": [
       "[(10+10j), 10, False]"
      ]
     },
     "execution_count": 30,
     "metadata": {},
     "output_type": "execute_result"
    }
   ],
   "source": [
    "random.sample(s3, 3) # randomly pick any 3 elements from set s3"
   ]
  },
  {
   "cell_type": "code",
   "execution_count": 31,
   "metadata": {},
   "outputs": [
    {
     "name": "stdout",
     "output_type": "stream",
     "text": [
      "{39, 40, 10, 50, 20, 30}\n",
      "{100, 70, 80, 23, 90, 60}\n",
      "{39, 10, 50, 20, 30}\n",
      "{100, 70, 80, 23, 60}\n"
     ]
    }
   ],
   "source": [
    "print(s1)\n",
    "print(s2)\n",
    "s1.remove(40) # Remove element 40 from s1 Set\n",
    "s2.remove(90) # Remove element 90 from s2 Set\n",
    "print(s1)\n",
    "print(s2)"
   ]
  },
  {
   "cell_type": "code",
   "execution_count": 32,
   "metadata": {},
   "outputs": [
    {
     "name": "stdout",
     "output_type": "stream",
     "text": [
      "{39, 10, 50, 20, 30}\n",
      "{100, 70, 80, 23, 60}\n",
      "{39, 50, 20, 30}\n",
      "{100, 70, 80, 60}\n"
     ]
    }
   ],
   "source": [
    "print(s1)\n",
    "print(s2)\n",
    "s1.discard(10) # Remove element 10 from s1 Set\n",
    "s2.discard(23) # Remove element 23 from s2 Set\n",
    "print(s1)\n",
    "print(s2)"
   ]
  },
  {
   "cell_type": "code",
   "execution_count": 33,
   "metadata": {},
   "outputs": [
    {
     "name": "stdout",
     "output_type": "stream",
     "text": [
      "{True, (89-5j), 11.11, 'Jenny', 56, 89}\n",
      "{39, 50, 20, 30}\n",
      "{100, 70, 80, 60}\n",
      "{50, 20, 30}\n",
      "{70, 80, 60}\n",
      "{(89-5j), 11.11, 'Jenny', 56, 89}\n"
     ]
    }
   ],
   "source": [
    "Set1 = {\"Jenny\", 89, True, 56, 89-5j, 11.11}\n",
    "print(Set1)\n",
    "print(s1)\n",
    "print(s2)\n",
    "s1.pop() # Bydefault delete the first 1st Element of set\n",
    "s2.pop() # Bydefault delete the first 1st Element of set\n",
    "Set1.pop() # Bydefault delete the first 1st Element of set\n",
    "print(s1)\n",
    "print(s2)\n",
    "print(Set1)"
   ]
  },
  {
   "cell_type": "code",
   "execution_count": 35,
   "metadata": {},
   "outputs": [
    {
     "name": "stdout",
     "output_type": "stream",
     "text": [
      "(1, 2, 3, 4.9, 5, False, 78.4, 68, True, 33, 22, 12)\n"
     ]
    },
    {
     "data": {
      "text/plain": [
       "(tuple, 12, False, 78.4, 230.3)"
      ]
     },
     "execution_count": 35,
     "metadata": {},
     "output_type": "execute_result"
    }
   ],
   "source": [
    "NumSet = (1, 2, 3, 4.9, 5, False, 78.4, 68, True, 33, 22, 12)\n",
    "\n",
    "print(NumSet)\n",
    "\n",
    "type(NumSet), len(NumSet), min(NumSet), max(NumSet), sum(NumSet)"
   ]
  },
  {
   "cell_type": "code",
   "execution_count": 127,
   "metadata": {},
   "outputs": [
    {
     "ename": "TypeError",
     "evalue": "unsupported operand type(s) for +: 'set' and 'set'",
     "output_type": "error",
     "traceback": [
      "\u001b[1;31m---------------------------------------------------------------------------\u001b[0m",
      "\u001b[1;31mTypeError\u001b[0m                                 Traceback (most recent call last)",
      "\u001b[1;32m<ipython-input-127-0f5bc12ff090>\u001b[0m in \u001b[0;36m<module>\u001b[1;34m\u001b[0m\n\u001b[1;32m----> 1\u001b[1;33m \u001b[0ms1\u001b[0m\u001b[1;33m+\u001b[0m\u001b[0ms2\u001b[0m \u001b[1;31m#Addition of two/more sets are not possible because indexing is not fixed... There is no sequence in elements\u001b[0m\u001b[1;33m\u001b[0m\u001b[1;33m\u001b[0m\u001b[0m\n\u001b[0m\u001b[0;32m      2\u001b[0m       \u001b[1;31m#Concatination of two/more sets are not possible because indexing is not fixed\u001b[0m\u001b[1;33m\u001b[0m\u001b[1;33m\u001b[0m\u001b[1;33m\u001b[0m\u001b[0m\n",
      "\u001b[1;31mTypeError\u001b[0m: unsupported operand type(s) for +: 'set' and 'set'"
     ]
    }
   ],
   "source": [
    "s1+s2 # Addition of two/more sets are not possible because indexing is not fixed... There is no sequence in elements\n",
    "      # Concatination of two/more sets are not possible because indexing is not fixed"
   ]
  },
  {
   "cell_type": "code",
   "execution_count": 128,
   "metadata": {},
   "outputs": [
    {
     "ename": "TypeError",
     "evalue": "unsupported operand type(s) for *: 'set' and 'set'",
     "output_type": "error",
     "traceback": [
      "\u001b[1;31m---------------------------------------------------------------------------\u001b[0m",
      "\u001b[1;31mTypeError\u001b[0m                                 Traceback (most recent call last)",
      "\u001b[1;32m<ipython-input-128-a065c63ae410>\u001b[0m in \u001b[0;36m<module>\u001b[1;34m\u001b[0m\n\u001b[1;32m----> 1\u001b[1;33m \u001b[0ms1\u001b[0m\u001b[1;33m*\u001b[0m\u001b[0ms2\u001b[0m \u001b[1;31m#Multiplication of two/more sets are not possible because indexing is not fixed\u001b[0m\u001b[1;33m\u001b[0m\u001b[1;33m\u001b[0m\u001b[0m\n\u001b[0m",
      "\u001b[1;31mTypeError\u001b[0m: unsupported operand type(s) for *: 'set' and 'set'"
     ]
    }
   ],
   "source": [
    "s1*s2 # Multiplication of two/more sets are not possible because indexing is not fixed"
   ]
  },
  {
   "cell_type": "code",
   "execution_count": 129,
   "metadata": {},
   "outputs": [
    {
     "ename": "TypeError",
     "evalue": "unsupported operand type(s) for /: 'set' and 'set'",
     "output_type": "error",
     "traceback": [
      "\u001b[1;31m---------------------------------------------------------------------------\u001b[0m",
      "\u001b[1;31mTypeError\u001b[0m                                 Traceback (most recent call last)",
      "\u001b[1;32m<ipython-input-129-40c70e28eb4d>\u001b[0m in \u001b[0;36m<module>\u001b[1;34m\u001b[0m\n\u001b[1;32m----> 1\u001b[1;33m \u001b[0ms1\u001b[0m\u001b[1;33m/\u001b[0m\u001b[0ms2\u001b[0m \u001b[1;31m#Division of two/more sets are not possible because indexing is not fixed\u001b[0m\u001b[1;33m\u001b[0m\u001b[1;33m\u001b[0m\u001b[0m\n\u001b[0m",
      "\u001b[1;31mTypeError\u001b[0m: unsupported operand type(s) for /: 'set' and 'set'"
     ]
    }
   ],
   "source": [
    "s1/s2 # Division of two/more sets are not possible because indexing is not fixed"
   ]
  },
  {
   "cell_type": "code",
   "execution_count": 130,
   "metadata": {},
   "outputs": [],
   "source": [
    "# Sets always maintain unique values\n",
    "# https://www.w3schools.com/python/python_sets.asp"
   ]
  },
  {
   "cell_type": "markdown",
   "metadata": {},
   "source": [
    "## Dictionary\n",
    "1. Dictioneries are Unordered\n",
    "2. Dictioneries don't allow duplicate keys\n",
    "3. Keys always should be immutable ie String or Numeric"
   ]
  },
  {
   "cell_type": "code",
   "execution_count": 2,
   "metadata": {},
   "outputs": [
    {
     "data": {
      "text/plain": [
       "{'Fruits': ['Apple', 'Mango', 'Grapes', 'Pineapple', 'Guava'],\n",
       " 'City': ['Bangalore', 'Mumbai', 'Chennai', 'Kolkata', 'Delhi'],\n",
       " 'Colour': ['Red', 'Green', 'Blue', 'Yellow', 'Purple']}"
      ]
     },
     "execution_count": 2,
     "metadata": {},
     "output_type": "execute_result"
    }
   ],
   "source": [
    "# Create a Dictionary -----> {}  ---- data is represented in the form of Key, Value type\n",
    "# We use Dictionary to customise the indexing\n",
    "# Elements of Dictionary always written inside {}\n",
    "# Here key is the index & value is the element\n",
    "# There could be lots of elements under each key\n",
    "\n",
    "Dict = {'Fruits' : ['Apple', 'Mango', 'Grapes', 'Pineapple', 'Guava'],\n",
    "            'City' : ['Bangalore', 'Mumbai', 'Chennai', 'Kolkata', 'Delhi'],\n",
    "            'Colour' : ['Red', 'Green', 'Blue', 'Yellow', 'Purple']}\n",
    "\n",
    "Dict\n",
    "# We use dictionary in a situation where we need Lookup tables."
   ]
  },
  {
   "cell_type": "code",
   "execution_count": null,
   "metadata": {},
   "outputs": [],
   "source": [
    "capitals."
   ]
  },
  {
   "cell_type": "code",
   "execution_count": 4,
   "metadata": {},
   "outputs": [
    {
     "data": {
      "text/plain": [
       "{'Date': [0.05,\n",
       "  0.025,\n",
       "  0.016666666666666666,\n",
       "  0.0125,\n",
       "  0.01,\n",
       "  0.008333333333333333],\n",
       " 'Temperature': [32, 35, 28, 24, 32, 31],\n",
       " 'WindSpeen': [6, 7, 2, 7, 4, 2],\n",
       " 'Event': ['Rain', 'Sunny', 'Snow', 'Snow', 'Rain', 'Sunny']}"
      ]
     },
     "execution_count": 4,
     "metadata": {},
     "output_type": "execute_result"
    }
   ],
   "source": [
    "# Creating data frame by using Dictionary\n",
    "WeatherData={\"Date\":[1/1/20,1/2/20,1/3/20,1/4/20,1/5/20,1/6/20],\n",
    "             \"Temperature\":[32,35,28,24,32,31],\n",
    "             \"WindSpeen\":[6,7,2,7,4,2],\n",
    "             \"Event\":[\"Rain\",\"Sunny\",\"Snow\",\"Snow\",\"Rain\",\"Sunny\"]}\n",
    "\n",
    "WeatherData"
   ]
  },
  {
   "cell_type": "code",
   "execution_count": 5,
   "metadata": {},
   "outputs": [
    {
     "data": {
      "text/plain": [
       "(1, 0, 5)"
      ]
     },
     "execution_count": 5,
     "metadata": {},
     "output_type": "execute_result"
    }
   ],
   "source": [
    "WeatherData[\"Event\"].index(\"Sunny\"), WeatherData[\"Temperature\"].index(32), WeatherData[\"Date\"].index(1/6/20)"
   ]
  },
  {
   "cell_type": "code",
   "execution_count": 12,
   "metadata": {},
   "outputs": [
    {
     "name": "stdout",
     "output_type": "stream",
     "text": [
      "['Rain', 'Sunny', 'Snow', 'Snow', 'Rain', 'Sunny']\n",
      "['Rain', 'Sunny', 'Snow', 'Snow', 'Rain']\n",
      "['Rain', 'Sunny', 'Snow', 'Snow', 'Rain']\n"
     ]
    }
   ],
   "source": [
    "print(WeatherData[\"Event\"][0:6]) # Show 0 to 6 excluding upperbound values\n",
    "print(WeatherData[\"Event\"][0:5]) # Show 0 to 2 excluding upperbound values"
   ]
  },
  {
   "cell_type": "markdown",
   "metadata": {},
   "source": [
    "1. List.index(Element) #See the Index of mentioned element\n",
    "2. List.append([a1, a2, a3])   #append in List[] format\n",
    "3. List.insert(index, [a1, a2, a3, a4]) #insert new elements in List[] format at the place of mentioned index\n",
    "4. List.extend([a1, a2, a3, a4]) #Add multiple indivisual elements to the end\n",
    "5. List[len(List)+1:0] = [a1, a2, a3, a4] #Plugin new elements at the end position\n",
    "6. List3 = List1 + List2 #List Concatination\n",
    "7. random.shuffle(List) #Shuffle the list Randomly\n",
    "8. RandSam = random.sample(List, k=5) #Pick random sample\n",
    "9. List.pop(index) #By default delete the last Index\n",
    "10. List.pop(index) #delete the mentioned Index\n",
    "11. List.count(Element) #Count the Element frequency\n",
    "12. List.remove(Element) #delete the Element\n",
    "13. List.sort()"
   ]
  },
  {
   "cell_type": "raw",
   "metadata": {},
   "source": [
    "type(capitals), type(WeatherData), len(capitals), len(WeatherData)"
   ]
  },
  {
   "cell_type": "code",
   "execution_count": 71,
   "metadata": {},
   "outputs": [
    {
     "ename": "ImportError",
     "evalue": "cannot import name 'size' from 'pandas' (/home/anwesh/Downloads/miniconda3/envs/ML/lib/python3.8/site-packages/pandas/__init__.py)",
     "output_type": "error",
     "traceback": [
      "\u001b[0;31m---------------------------------------------------------------------------\u001b[0m",
      "\u001b[0;31mImportError\u001b[0m                               Traceback (most recent call last)",
      "Cell \u001b[0;32mIn[71], line 1\u001b[0m\n\u001b[0;32m----> 1\u001b[0m \u001b[38;5;28;01mfrom\u001b[39;00m \u001b[38;5;21;01mpandas\u001b[39;00m \u001b[38;5;28;01mimport\u001b[39;00m size\n\u001b[1;32m      2\u001b[0m WeatherData\u001b[38;5;241m.\u001b[39msize\n",
      "\u001b[0;31mImportError\u001b[0m: cannot import name 'size' from 'pandas' (/home/anwesh/Downloads/miniconda3/envs/ML/lib/python3.8/site-packages/pandas/__init__.py)"
     ]
    }
   ],
   "source": [
    "from pandas import size\n",
    "WeatherData.size"
   ]
  },
  {
   "cell_type": "code",
   "execution_count": 72,
   "metadata": {},
   "outputs": [
    {
     "data": {
      "text/plain": [
       "'Jaipur'"
      ]
     },
     "execution_count": 72,
     "metadata": {},
     "output_type": "execute_result"
    }
   ],
   "source": [
    "# Accessing values using key index\n",
    "capitals['Rajasthan']"
   ]
  },
  {
   "cell_type": "code",
   "execution_count": 73,
   "metadata": {},
   "outputs": [
    {
     "data": {
      "text/plain": [
       "'Mumbai'"
      ]
     },
     "execution_count": 73,
     "metadata": {},
     "output_type": "execute_result"
    }
   ],
   "source": [
    "# Accessing values using key index\n",
    "capitals['Maharashtra']"
   ]
  },
  {
   "cell_type": "code",
   "execution_count": 74,
   "metadata": {},
   "outputs": [
    {
     "data": {
      "text/plain": [
       "{'Maharashtra': 'Mumbai',\n",
       " 'Karnataka': 'Bangalore',\n",
       " 'Rajasthan': 'Jaipur',\n",
       " 'Goa': 'Panjim'}"
      ]
     },
     "execution_count": 74,
     "metadata": {},
     "output_type": "execute_result"
    }
   ],
   "source": [
    "# Insert another k,v pair\n",
    "capitals['Goa'] = 'Panjim'\n",
    "capitals"
   ]
  },
  {
   "cell_type": "code",
   "execution_count": 75,
   "metadata": {},
   "outputs": [
    {
     "data": {
      "text/plain": [
       "True"
      ]
     },
     "execution_count": 75,
     "metadata": {},
     "output_type": "execute_result"
    }
   ],
   "source": [
    "# Index Operator ---> in Dictionery\n",
    "'Goa' in capitals"
   ]
  },
  {
   "cell_type": "code",
   "execution_count": 76,
   "metadata": {},
   "outputs": [
    {
     "data": {
      "text/plain": [
       "False"
      ]
     },
     "execution_count": 76,
     "metadata": {},
     "output_type": "execute_result"
    }
   ],
   "source": [
    "# Index Operator ---> in Dictionery\n",
    "'Panjim' in capitals"
   ]
  },
  {
   "cell_type": "code",
   "execution_count": 77,
   "metadata": {},
   "outputs": [
    {
     "data": {
      "text/plain": [
       "False"
      ]
     },
     "execution_count": 77,
     "metadata": {},
     "output_type": "execute_result"
    }
   ],
   "source": [
    "# Index Operator ---> in Dictionery\n",
    "'Bihar' in capitals"
   ]
  },
  {
   "cell_type": "code",
   "execution_count": 78,
   "metadata": {},
   "outputs": [
    {
     "data": {
      "text/plain": [
       "{'Maharashtra': 'Mumbai',\n",
       " 'Karnataka': 'Bangalore',\n",
       " 'Rajasthan': 'Jaipur',\n",
       " 'Goa': 'Panjim'}"
      ]
     },
     "execution_count": 78,
     "metadata": {},
     "output_type": "execute_result"
    }
   ],
   "source": [
    "capitals"
   ]
  },
  {
   "cell_type": "code",
   "execution_count": 79,
   "metadata": {},
   "outputs": [
    {
     "data": {
      "text/plain": [
       "{'Maharashtra': 'Mumbai',\n",
       " 'Karnataka': 'Bangalore',\n",
       " 'Rajasthan': 'Jaipur',\n",
       " 'Goa': 'Panaji'}"
      ]
     },
     "execution_count": 79,
     "metadata": {},
     "output_type": "execute_result"
    }
   ],
   "source": [
    "capitals['Goa'] = 'Panaji' # Change the value of Goa key index\n",
    "capitals"
   ]
  },
  {
   "cell_type": "code",
   "execution_count": 81,
   "metadata": {},
   "outputs": [
    {
     "ename": "KeyError",
     "evalue": "'Goa'",
     "output_type": "error",
     "traceback": [
      "\u001b[0;31m---------------------------------------------------------------------------\u001b[0m",
      "\u001b[0;31mKeyError\u001b[0m                                  Traceback (most recent call last)",
      "Cell \u001b[0;32mIn[81], line 3\u001b[0m\n\u001b[1;32m      1\u001b[0m \u001b[38;5;66;03m# Delete the \"Goa\" key index & its associate/corresponding element value\u001b[39;00m\n\u001b[0;32m----> 3\u001b[0m \u001b[38;5;28;01mdel\u001b[39;00m capitals[\u001b[38;5;124m'\u001b[39m\u001b[38;5;124mGoa\u001b[39m\u001b[38;5;124m'\u001b[39m]\n\u001b[1;32m      5\u001b[0m capitals\n",
      "\u001b[0;31mKeyError\u001b[0m: 'Goa'"
     ]
    }
   ],
   "source": [
    "# Delete the \"Goa\" key index & its associate/corresponding element value\n",
    "\n",
    "del capitals['Goa']\n",
    "\n",
    "capitals"
   ]
  },
  {
   "cell_type": "code",
   "execution_count": 142,
   "metadata": {},
   "outputs": [
    {
     "data": {
      "text/plain": [
       "{'navin': 'nokia', 'kiran': 'one plus', 'sunil': 'samsung'}"
      ]
     },
     "execution_count": 142,
     "metadata": {},
     "output_type": "execute_result"
    }
   ],
   "source": [
    "d={\"navin\":\"nokia\",\"kiran\":\"one plus\",\"sunil\":\"samsung\"}\n",
    "d"
   ]
  },
  {
   "cell_type": "code",
   "execution_count": 143,
   "metadata": {},
   "outputs": [
    {
     "data": {
      "text/plain": [
       "dict_keys(['navin', 'kiran', 'sunil'])"
      ]
     },
     "execution_count": 143,
     "metadata": {},
     "output_type": "execute_result"
    }
   ],
   "source": [
    "d.keys() # Shows the Dictionary keys index only"
   ]
  },
  {
   "cell_type": "code",
   "execution_count": 144,
   "metadata": {},
   "outputs": [
    {
     "data": {
      "text/plain": [
       "dict_values(['nokia', 'one plus', 'samsung'])"
      ]
     },
     "execution_count": 144,
     "metadata": {},
     "output_type": "execute_result"
    }
   ],
   "source": [
    "d.values() # Shows the Dictionary values only"
   ]
  },
  {
   "cell_type": "code",
   "execution_count": 145,
   "metadata": {},
   "outputs": [
    {
     "data": {
      "text/plain": [
       "dict_items([('navin', 'nokia'), ('kiran', 'one plus'), ('sunil', 'samsung')])"
      ]
     },
     "execution_count": 145,
     "metadata": {},
     "output_type": "execute_result"
    }
   ],
   "source": [
    "# items() method returns a view object. The view object contains the key-value pairs of the dictionary, as tuples inside a list.\n",
    "d.items()"
   ]
  },
  {
   "cell_type": "code",
   "execution_count": 146,
   "metadata": {},
   "outputs": [
    {
     "data": {
      "text/plain": [
       "'nokia'"
      ]
     },
     "execution_count": 146,
     "metadata": {},
     "output_type": "execute_result"
    }
   ],
   "source": [
    "d[\"navin\"] # Shows the value of Key \"navin\""
   ]
  },
  {
   "cell_type": "code",
   "execution_count": 147,
   "metadata": {},
   "outputs": [
    {
     "data": {
      "text/plain": [
       "'nokia'"
      ]
     },
     "execution_count": 147,
     "metadata": {},
     "output_type": "execute_result"
    }
   ],
   "source": [
    "d.get(\"navin\") # Shows the value of Key \"navin\""
   ]
  },
  {
   "cell_type": "code",
   "execution_count": 148,
   "metadata": {},
   "outputs": [],
   "source": [
    "# Dictionaries Docs for Practice\n",
    "# https://www.w3schools.com/python/python_dictionaries.asp"
   ]
  },
  {
   "cell_type": "markdown",
   "metadata": {},
   "source": [
    "## Range"
   ]
  },
  {
   "cell_type": "code",
   "execution_count": 149,
   "metadata": {},
   "outputs": [
    {
     "name": "stdout",
     "output_type": "stream",
     "text": [
      "Help on class range in module builtins:\n",
      "\n",
      "class range(object)\n",
      " |  range(stop) -> range object\n",
      " |  range(start, stop[, step]) -> range object\n",
      " |  \n",
      " |  Return an object that produces a sequence of integers from start (inclusive)\n",
      " |  to stop (exclusive) by step.  range(i, j) produces i, i+1, i+2, ..., j-1.\n",
      " |  start defaults to 0, and stop is omitted!  range(4) produces 0, 1, 2, 3.\n",
      " |  These are exactly the valid indices for a list of 4 elements.\n",
      " |  When step is given, it specifies the increment (or decrement).\n",
      " |  \n",
      " |  Methods defined here:\n",
      " |  \n",
      " |  __bool__(self, /)\n",
      " |      self != 0\n",
      " |  \n",
      " |  __contains__(self, key, /)\n",
      " |      Return key in self.\n",
      " |  \n",
      " |  __eq__(self, value, /)\n",
      " |      Return self==value.\n",
      " |  \n",
      " |  __ge__(self, value, /)\n",
      " |      Return self>=value.\n",
      " |  \n",
      " |  __getattribute__(self, name, /)\n",
      " |      Return getattr(self, name).\n",
      " |  \n",
      " |  __getitem__(self, key, /)\n",
      " |      Return self[key].\n",
      " |  \n",
      " |  __gt__(self, value, /)\n",
      " |      Return self>value.\n",
      " |  \n",
      " |  __hash__(self, /)\n",
      " |      Return hash(self).\n",
      " |  \n",
      " |  __iter__(self, /)\n",
      " |      Implement iter(self).\n",
      " |  \n",
      " |  __le__(self, value, /)\n",
      " |      Return self<=value.\n",
      " |  \n",
      " |  __len__(self, /)\n",
      " |      Return len(self).\n",
      " |  \n",
      " |  __lt__(self, value, /)\n",
      " |      Return self<value.\n",
      " |  \n",
      " |  __ne__(self, value, /)\n",
      " |      Return self!=value.\n",
      " |  \n",
      " |  __reduce__(...)\n",
      " |      Helper for pickle.\n",
      " |  \n",
      " |  __repr__(self, /)\n",
      " |      Return repr(self).\n",
      " |  \n",
      " |  __reversed__(...)\n",
      " |      Return a reverse iterator.\n",
      " |  \n",
      " |  count(...)\n",
      " |      rangeobject.count(value) -> integer -- return number of occurrences of value\n",
      " |  \n",
      " |  index(...)\n",
      " |      rangeobject.index(value) -> integer -- return index of value.\n",
      " |      Raise ValueError if the value is not present.\n",
      " |  \n",
      " |  ----------------------------------------------------------------------\n",
      " |  Static methods defined here:\n",
      " |  \n",
      " |  __new__(*args, **kwargs) from builtins.type\n",
      " |      Create and return a new object.  See help(type) for accurate signature.\n",
      " |  \n",
      " |  ----------------------------------------------------------------------\n",
      " |  Data descriptors defined here:\n",
      " |  \n",
      " |  start\n",
      " |  \n",
      " |  step\n",
      " |  \n",
      " |  stop\n",
      "\n"
     ]
    }
   ],
   "source": [
    "help(range)"
   ]
  },
  {
   "cell_type": "code",
   "execution_count": 150,
   "metadata": {},
   "outputs": [],
   "source": [
    "Range1=range(6) # By default it will start from 0, 6 is upperbound"
   ]
  },
  {
   "cell_type": "code",
   "execution_count": 151,
   "metadata": {},
   "outputs": [
    {
     "data": {
      "text/plain": [
       "range"
      ]
     },
     "execution_count": 151,
     "metadata": {},
     "output_type": "execute_result"
    }
   ],
   "source": [
    "type(Range1)"
   ]
  },
  {
   "cell_type": "code",
   "execution_count": 152,
   "metadata": {},
   "outputs": [
    {
     "name": "stdout",
     "output_type": "stream",
     "text": [
      "range(0, 6)\n"
     ]
    }
   ],
   "source": [
    "print(Range1)"
   ]
  },
  {
   "cell_type": "code",
   "execution_count": 153,
   "metadata": {},
   "outputs": [],
   "source": [
    "List=list(Range1) # Convert Range into List"
   ]
  },
  {
   "cell_type": "code",
   "execution_count": 154,
   "metadata": {},
   "outputs": [],
   "source": [
    "List=list(range(6)) # Direct conversion from range to List"
   ]
  },
  {
   "cell_type": "code",
   "execution_count": 155,
   "metadata": {},
   "outputs": [
    {
     "name": "stdout",
     "output_type": "stream",
     "text": [
      "[0, 1, 2, 3, 4, 5]\n"
     ]
    }
   ],
   "source": [
    "print(List)"
   ]
  },
  {
   "cell_type": "code",
   "execution_count": 156,
   "metadata": {},
   "outputs": [],
   "source": [
    "Range2=range(2,6) # It will start from 2, upperbound is 6"
   ]
  },
  {
   "cell_type": "code",
   "execution_count": 157,
   "metadata": {},
   "outputs": [
    {
     "name": "stdout",
     "output_type": "stream",
     "text": [
      "range(2, 6)\n"
     ]
    }
   ],
   "source": [
    "print(Range2)"
   ]
  },
  {
   "cell_type": "code",
   "execution_count": 158,
   "metadata": {},
   "outputs": [],
   "source": [
    "List2=list(Range2)"
   ]
  },
  {
   "cell_type": "code",
   "execution_count": 159,
   "metadata": {},
   "outputs": [],
   "source": [
    "List2=list(range(2,6)) # Direct conversion from range to List"
   ]
  },
  {
   "cell_type": "code",
   "execution_count": 160,
   "metadata": {},
   "outputs": [
    {
     "name": "stdout",
     "output_type": "stream",
     "text": [
      "[2, 3, 4, 5]\n"
     ]
    }
   ],
   "source": [
    "print(List2)"
   ]
  },
  {
   "cell_type": "code",
   "execution_count": 161,
   "metadata": {},
   "outputs": [],
   "source": [
    "# Range Parametres\n",
    " # Start: Starting point of the sequence\n",
    " # Stop: Ending point of the sequence (Upperbound)\n",
    " # Step: Number of times the skip will happen"
   ]
  },
  {
   "cell_type": "code",
   "execution_count": 162,
   "metadata": {},
   "outputs": [],
   "source": [
    "Range3=range(0,11,2) # 0 is starting point, 11 is upperbound, 2 is interval step"
   ]
  },
  {
   "cell_type": "code",
   "execution_count": 163,
   "metadata": {},
   "outputs": [],
   "source": [
    "List3=list(Range3)"
   ]
  },
  {
   "cell_type": "code",
   "execution_count": 164,
   "metadata": {},
   "outputs": [
    {
     "name": "stdout",
     "output_type": "stream",
     "text": [
      "[0, 2, 4, 6, 8, 10]\n"
     ]
    }
   ],
   "source": [
    "print(List3)"
   ]
  },
  {
   "cell_type": "code",
   "execution_count": 165,
   "metadata": {},
   "outputs": [
    {
     "name": "stdout",
     "output_type": "stream",
     "text": [
      "0\n",
      "2\n",
      "4\n",
      "6\n",
      "8\n"
     ]
    }
   ],
   "source": [
    "# Range With For Loop      # We can directly see range elements by using for loop\n",
    "                          # No need to create range and transform it to list\n",
    "for i in range(0,10,2):   # 10 is upperbound here and 2 is interval step\n",
    "    print(i)              # This program is printing the even numbers"
   ]
  },
  {
   "cell_type": "code",
   "execution_count": 166,
   "metadata": {},
   "outputs": [
    {
     "name": "stdout",
     "output_type": "stream",
     "text": [
      "0.1\n",
      "0.4\n",
      "0.7\n"
     ]
    }
   ],
   "source": [
    "# Range always works with integers, don't supports floats/noninteger charecters\n",
    "# If you wanna create range of noninteger charecters then use for loop\n",
    "# Float numbers in range by using frange loop function\n",
    "# We will get a sequence with floating point values\n",
    "\n",
    "def frange(start, stop, step):\n",
    "    i=start\n",
    "    while i<stop:            # Untill the value of i<stop\n",
    "        yield i              # Keep taking/evolving the value of i\n",
    "        i+=step              # Each time take/evolve & increase the value of i by step, increase i by step, value will be i+step\n",
    "for i in frange(0.1,1,0.3):\n",
    "    print(i)\n"
   ]
  },
  {
   "cell_type": "code",
   "execution_count": 167,
   "metadata": {},
   "outputs": [
    {
     "name": "stdout",
     "output_type": "stream",
     "text": [
      "5\n",
      "4\n",
      "3\n",
      "2\n",
      "1\n"
     ]
    }
   ],
   "source": [
    "#Reverse Range in python by using for loop\n",
    "for i in range(5,0,-1):   #5 is starting point and 0 is upperbound\n",
    "    print(i)              #-1 is interval step... keep deducting -1 at each step from the value of i"
   ]
  },
  {
   "cell_type": "code",
   "execution_count": 168,
   "metadata": {},
   "outputs": [
    {
     "name": "stdout",
     "output_type": "stream",
     "text": [
      "5\n",
      "4\n",
      "3\n",
      "2\n",
      "1\n"
     ]
    }
   ],
   "source": [
    "#Range always works with integers, don't supports floats/noninteger charecters\n",
    "#If you wanna create range of noninteger charecters then use for loop\n",
    "#Float numbers in range by using frange loop function\n",
    "#We will get a sequence with floating point values\n",
    "\n",
    "def frange(start, stop, step):\n",
    "    i=start\n",
    "    while i>stop:            #Untill the value of i>stop\n",
    "        yield i              #Keep taking the value of i\n",
    "        i+=step              #Each time take the value of i by i+step, increase i by step\n",
    "for i in frange(5,0,-1):\n",
    "    print(i)"
   ]
  },
  {
   "cell_type": "code",
   "execution_count": 169,
   "metadata": {},
   "outputs": [
    {
     "name": "stdout",
     "output_type": "stream",
     "text": [
      "[0, 1, 2, 3, 4, 5, 6, 7, 8, 9, 10, 11, 12, 13, 14, 15, 16, 17, 18, 19, 20]\n"
     ]
    }
   ],
   "source": [
    "#Concatinating 2 range functions by using chain function\n",
    "from itertools import chain\n",
    "Range=chain(range(10), range(10,21)) # range 0to9 and 10to20 got joined/concatinated by chain() function in2 a new Range\n",
    "List=list(Range)                     #Convert the Range into List\n",
    "print(List)"
   ]
  },
  {
   "cell_type": "code",
   "execution_count": 170,
   "metadata": {},
   "outputs": [
    {
     "data": {
      "text/plain": [
       "[0, 1, 2, 3, 4, 5, 6, 7, 8, 9, 10, 11, 12, 13, 14, 15, 16, 17, 18, 19, 20]"
      ]
     },
     "execution_count": 170,
     "metadata": {},
     "output_type": "execute_result"
    }
   ],
   "source": [
    "#Direct concat\n",
    "Range=list(range(10))+list(range(10,21))\n",
    "Range"
   ]
  },
  {
   "cell_type": "code",
   "execution_count": 171,
   "metadata": {},
   "outputs": [
    {
     "ename": "TypeError",
     "evalue": "unsupported operand type(s) for +: 'range' and 'range'",
     "output_type": "error",
     "traceback": [
      "\u001b[1;31m---------------------------------------------------------------------------\u001b[0m",
      "\u001b[1;31mTypeError\u001b[0m                                 Traceback (most recent call last)",
      "\u001b[1;32m<ipython-input-171-6bb8c5dfd4f8>\u001b[0m in \u001b[0;36m<module>\u001b[1;34m\u001b[0m\n\u001b[0;32m      3\u001b[0m \u001b[0mRANGE1\u001b[0m\u001b[1;33m=\u001b[0m\u001b[0mrange\u001b[0m\u001b[1;33m(\u001b[0m\u001b[1;36m5\u001b[0m\u001b[1;33m)\u001b[0m\u001b[1;33m\u001b[0m\u001b[1;33m\u001b[0m\u001b[0m\n\u001b[0;32m      4\u001b[0m \u001b[0mRANGE2\u001b[0m\u001b[1;33m=\u001b[0m\u001b[0mrange\u001b[0m\u001b[1;33m(\u001b[0m\u001b[1;36m5\u001b[0m\u001b[1;33m,\u001b[0m\u001b[1;36m10\u001b[0m\u001b[1;33m)\u001b[0m\u001b[1;33m\u001b[0m\u001b[1;33m\u001b[0m\u001b[0m\n\u001b[1;32m----> 5\u001b[1;33m \u001b[0mRANGE1\u001b[0m\u001b[1;33m+\u001b[0m\u001b[0mRANGE2\u001b[0m\u001b[1;33m\u001b[0m\u001b[1;33m\u001b[0m\u001b[0m\n\u001b[0m",
      "\u001b[1;31mTypeError\u001b[0m: unsupported operand type(s) for +: 'range' and 'range'"
     ]
    }
   ],
   "source": [
    "# You cant perform Arithmatic operations between Ranges\n",
    "# We can't concat 2 range functions by using + sign\n",
    "RANGE1=range(5)\n",
    "RANGE2=range(5,10)\n",
    "RANGE1+RANGE2"
   ]
  },
  {
   "cell_type": "code",
   "execution_count": 172,
   "metadata": {},
   "outputs": [
    {
     "name": "stdout",
     "output_type": "stream",
     "text": [
      "(10, 11, 12, 13, 14, 15, 16, 17, 18, 19, 20, 21, 22, 23, 24, 25, 26, 27, 28, 29, 30)\n",
      "[]\n"
     ]
    },
    {
     "data": {
      "text/plain": [
       "(None, None)"
      ]
     },
     "execution_count": 172,
     "metadata": {},
     "output_type": "execute_result"
    }
   ],
   "source": [
    "#Concatinating 2 range functions by using chain function\n",
    "from itertools import chain\n",
    "Range=chain(range(10,21), range(21,31)) # range 10to20 and 21to30 got joined/concatinated by chain() function in2 a new Range\n",
    "Tuple=tuple(Range)      #Convert the Range into Tuple\n",
    "List=list(Range)        #Convert the Range into List\n",
    "print(Tuple),print(List)"
   ]
  },
  {
   "cell_type": "code",
   "execution_count": 173,
   "metadata": {},
   "outputs": [
    {
     "name": "stdout",
     "output_type": "stream",
     "text": [
      "(10, 11, 12, 13, 14, 15, 16, 17, 18, 19, 20, 10, 11, 12, 13, 14, 15, 16, 17, 18, 19, 20)\n",
      "[10, 11, 12, 13, 14, 15, 16, 17, 18, 19, 20, 10, 11, 12, 13, 14, 15, 16, 17, 18, 19, 20]\n"
     ]
    },
    {
     "data": {
      "text/plain": [
       "(None, None)"
      ]
     },
     "execution_count": 173,
     "metadata": {},
     "output_type": "execute_result"
    }
   ],
   "source": [
    "Tuple=tuple(range(10,21))+tuple(range(10,21))\n",
    "List=list(range(10,21))+list(range(10,21))\n",
    "print(Tuple),print(List)"
   ]
  },
  {
   "cell_type": "code",
   "execution_count": 174,
   "metadata": {},
   "outputs": [
    {
     "ename": "TypeError",
     "evalue": "unsupported operand type(s) for +: 'range' and 'range'",
     "output_type": "error",
     "traceback": [
      "\u001b[1;31m---------------------------------------------------------------------------\u001b[0m",
      "\u001b[1;31mTypeError\u001b[0m                                 Traceback (most recent call last)",
      "\u001b[1;32m<ipython-input-174-85900c34bca5>\u001b[0m in \u001b[0;36m<module>\u001b[1;34m\u001b[0m\n\u001b[0;32m      1\u001b[0m \u001b[0mR1\u001b[0m\u001b[1;33m=\u001b[0m\u001b[0mrange\u001b[0m\u001b[1;33m(\u001b[0m\u001b[1;36m0\u001b[0m\u001b[1;33m,\u001b[0m\u001b[1;36m5\u001b[0m\u001b[1;33m)\u001b[0m   \u001b[1;31m#We can't concat 2 range functions by using + sign\u001b[0m\u001b[1;33m\u001b[0m\u001b[1;33m\u001b[0m\u001b[0m\n\u001b[0;32m      2\u001b[0m \u001b[0mR2\u001b[0m\u001b[1;33m=\u001b[0m\u001b[0mrange\u001b[0m\u001b[1;33m(\u001b[0m\u001b[1;36m5\u001b[0m\u001b[1;33m,\u001b[0m\u001b[1;36m10\u001b[0m\u001b[1;33m)\u001b[0m\u001b[1;33m\u001b[0m\u001b[1;33m\u001b[0m\u001b[0m\n\u001b[1;32m----> 3\u001b[1;33m \u001b[0mR1\u001b[0m\u001b[1;33m+\u001b[0m\u001b[0mR2\u001b[0m\u001b[1;33m\u001b[0m\u001b[1;33m\u001b[0m\u001b[0m\n\u001b[0m",
      "\u001b[1;31mTypeError\u001b[0m: unsupported operand type(s) for +: 'range' and 'range'"
     ]
    }
   ],
   "source": [
    "R1=range(0,5)   #We can't concat 2 range functions by using + sign\n",
    "R2=range(5,10)\n",
    "R1+R2"
   ]
  },
  {
   "cell_type": "code",
   "execution_count": 175,
   "metadata": {},
   "outputs": [
    {
     "name": "stdout",
     "output_type": "stream",
     "text": [
      "5\n"
     ]
    },
    {
     "data": {
      "text/plain": [
       "(None, 5)"
      ]
     },
     "execution_count": 175,
     "metadata": {},
     "output_type": "execute_result"
    }
   ],
   "source": [
    "#Accessing the elements in a range function using indexes\n",
    "Range=range(0,11)\n",
    "print(Range[5]),Range[5]"
   ]
  },
  {
   "cell_type": "code",
   "execution_count": 176,
   "metadata": {},
   "outputs": [
    {
     "name": "stdout",
     "output_type": "stream",
     "text": [
      "[0, 1, 2, 3, 4, 5, 6, 7, 8, 9, 10]\n",
      "[11, 10, 9, 8, 7, 6, 5, 4, 3, 2, 1]\n"
     ]
    },
    {
     "data": {
      "text/plain": [
       "(None, None)"
      ]
     },
     "execution_count": 176,
     "metadata": {},
     "output_type": "execute_result"
    }
   ],
   "source": [
    "R1=list(range(0,11)) #Convert the range into List\n",
    "R2=list(range(11,0,-1)) #Decrement with negative step, start=11, stop=0, step=-1\n",
    "print(R1),print(R2)"
   ]
  },
  {
   "cell_type": "code",
   "execution_count": 177,
   "metadata": {},
   "outputs": [
    {
     "name": "stdout",
     "output_type": "stream",
     "text": [
      "[1, 2, 3, 4, 5, 6, 7, 8, 9, 10] ('KESHAV', (45+9j), True, 39.69, 39, 39) {False, 'Prashant', (10+10j), 10.1, 10} range(0, 11, 2) {'Maharashtra': 'Mumbai', 'Karnataka': 'Bangalore', 'Rajasthan': 'Jaipur'}\n"
     ]
    }
   ],
   "source": [
    "#Creating multiple variables at a time\n",
    "Lists, Tuple, Sets, Range, Dictioneries=[1,2,3,4,5,6,7,8,9,10],(\"KESHAV\",45+9j,True,39.69,39,39),{10.10,'Prashant',10+10j,False,10},range(0,11,2),{'Maharashtra':'Mumbai','Karnataka':'Bangalore','Rajasthan':'Jaipur'}\n",
    "print(Lists,Tuple,Sets,Range,Dictioneries)"
   ]
  }
 ],
 "metadata": {
  "kernelspec": {
   "display_name": "Python 3 (ipykernel)",
   "language": "python",
   "name": "python3"
  },
  "language_info": {
   "codemirror_mode": {
    "name": "ipython",
    "version": 3
   },
   "file_extension": ".py",
   "mimetype": "text/x-python",
   "name": "python",
   "nbconvert_exporter": "python",
   "pygments_lexer": "ipython3",
   "version": "3.8.19"
  },
  "toc": {
   "base_numbering": 1,
   "nav_menu": {},
   "number_sections": true,
   "sideBar": true,
   "skip_h1_title": false,
   "title_cell": "Table of Contents",
   "title_sidebar": "Contents",
   "toc_cell": true,
   "toc_position": {
    "height": "calc(100% - 180px)",
    "left": "10px",
    "top": "150px",
    "width": "273.188px"
   },
   "toc_section_display": true,
   "toc_window_display": false
  }
 },
 "nbformat": 4,
 "nbformat_minor": 4
}
