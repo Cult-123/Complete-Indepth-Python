{
 "cells": [
  {
   "cell_type": "markdown",
   "metadata": {
    "toc": true
   },
   "source": [
    "<h1>Table of Contents (Everything in Python is an Object)<span class=\"tocSkip\"></span></h1>\n",
    "<div class=\"toc\"><ul class=\"toc-item\"><li><span><a href=\"#Variables-&amp;-Data-Types-In-Python\" data-toc-modified-id=\"Variables-&amp;-Data-Types-In-Python-1\"><span class=\"toc-item-num\">1&nbsp;&nbsp;</span>Variables &amp; Data Types In Python</a></span><ul class=\"toc-item\"><li><span><a href=\"#Data-Types\" data-toc-modified-id=\"Data-Types-1.1\"><span class=\"toc-item-num\">1.1&nbsp;&nbsp;</span>Data Types</a></span><ul class=\"toc-item\"><li><ul class=\"toc-item\"><li><span><a href=\"#You-can-perform-Airthmatic-Operations-between-Numerical-datas-including-Complex-data\" data-toc-modified-id=\"You-can-perform-Airthmatic-Operations-between-Numerical-datas-including-Complex-data-1.1.0.1\"><span class=\"toc-item-num\">1.1.0.1&nbsp;&nbsp;</span>You can perform Airthmatic Operations between Numerical datas including Complex data</a></span></li></ul></li></ul></li><li><span><a href=\"#Data-types-Conversion\" data-toc-modified-id=\"Data-types-Conversion-1.2\"><span class=\"toc-item-num\">1.2&nbsp;&nbsp;</span>Data types Conversion</a></span></li></ul></li><li><span><a href=\"#Variables\" data-toc-modified-id=\"Variables-2\"><span class=\"toc-item-num\">2&nbsp;&nbsp;</span>Variables</a></span><ul class=\"toc-item\"><li><span><a href=\"#Lists\" data-toc-modified-id=\"Lists-2.1\"><span class=\"toc-item-num\">2.1&nbsp;&nbsp;</span>Lists</a></span><ul class=\"toc-item\"><li><span><a href=\"#Perform-Insert,-Remove-&amp;-Replace-task-at-a-time\" data-toc-modified-id=\"Perform-Insert,-Remove-&amp;-Replace-task-at-a-time-2.1.1\"><span class=\"toc-item-num\">2.1.1&nbsp;&nbsp;</span>Perform Insert, Remove &amp; Replace task at a time</a></span></li></ul></li><li><span><a href=\"#Tuples\" data-toc-modified-id=\"Tuples-2.2\"><span class=\"toc-item-num\">2.2&nbsp;&nbsp;</span>Tuples</a></span></li><li><span><a href=\"#Set\" data-toc-modified-id=\"Set-2.3\"><span class=\"toc-item-num\">2.3&nbsp;&nbsp;</span>Set</a></span></li><li><span><a href=\"#Dictionary\" data-toc-modified-id=\"Dictionary-2.4\"><span class=\"toc-item-num\">2.4&nbsp;&nbsp;</span>Dictionary</a></span></li><li><span><a href=\"#Range\" data-toc-modified-id=\"Range-2.5\"><span class=\"toc-item-num\">2.5&nbsp;&nbsp;</span>Range</a></span></li></ul></li></ul></div>"
   ]
  },
  {
   "cell_type": "markdown",
   "metadata": {},
   "source": [
    "# Variables & Data Types In Python"
   ]
  },
  {
   "cell_type": "markdown",
   "metadata": {},
   "source": [
    "## Data Types\n",
    "#### You can perform Airthmatic Operations between Numerical datas including Complex data\n",
    "1. Integer\n",
    "2. Float\n",
    "3. Complex\n",
    "4. Bool\n",
    "5. String"
   ]
  },
  {
   "cell_type": "code",
   "execution_count": 146,
   "metadata": {},
   "outputs": [
    {
     "name": "stdout",
     "output_type": "stream",
     "text": [
      "10\n",
      "<class 'int'>\n"
     ]
    },
    {
     "data": {
      "text/plain": [
       "10"
      ]
     },
     "execution_count": 146,
     "metadata": {},
     "output_type": "execute_result"
    }
   ],
   "source": [
    "Integer = 10        # Integer\n",
    "print(10)\n",
    "print(type(10))       # Check the type\n",
    "10"
   ]
  },
  {
   "cell_type": "code",
   "execution_count": 147,
   "metadata": {},
   "outputs": [
    {
     "name": "stdout",
     "output_type": "stream",
     "text": [
      "20\n"
     ]
    },
    {
     "data": {
      "text/plain": [
       "60"
      ]
     },
     "execution_count": 147,
     "metadata": {},
     "output_type": "execute_result"
    }
   ],
   "source": [
    "print(10 + 10) # Expression got calculated & printed by print() command\n",
    "24 + 23 # Expression got calculated but thrown away\n",
    "30 + 30 # Last line expression got printed by default"
   ]
  },
  {
   "cell_type": "code",
   "execution_count": 148,
   "metadata": {},
   "outputs": [
    {
     "data": {
      "text/plain": [
       "60"
      ]
     },
     "execution_count": 148,
     "metadata": {},
     "output_type": "execute_result"
    }
   ],
   "source": [
    "10 + 10 # Expression got calculated but thrown away\n",
    "24 + 23 # Expression got calculated but thrown away\n",
    "30 + 30 # Last line expression got printed by default"
   ]
  },
  {
   "cell_type": "code",
   "execution_count": 149,
   "metadata": {},
   "outputs": [
    {
     "data": {
      "text/plain": [
       "(20, 47, 60)"
      ]
     },
     "execution_count": 149,
     "metadata": {},
     "output_type": "execute_result"
    }
   ],
   "source": [
    "10 + 10, 24 + 23, 30 + 30"
   ]
  },
  {
   "cell_type": "code",
   "execution_count": 150,
   "metadata": {},
   "outputs": [
    {
     "name": "stdout",
     "output_type": "stream",
     "text": [
      "0\n",
      "2\n",
      "True True False False True True True False 1 0\n",
      "(44.5+9j)\n",
      "(45.5+9j)\n",
      "9j\n",
      "(12+0j)\n",
      "(12+9j)\n",
      "(12+0j)\n"
     ]
    }
   ],
   "source": [
    "print(False + False)\n",
    "print(True + True)\n",
    "print(True, \"True\", False, \"False\", bool(\"True\"), bool(\"False\"), str(True), str(False), int(True), int(False))\n",
    "print(10 + 22.5 + False + 12+9j) # Addition of Integer, Float, Boolean, Complex\n",
    "print(10 + 22.5 + True + 12+9j) # Addition of Integer, Float, Boolean, Complex\n",
    "print(0 * 12+9j) # 0 will be multiplied with 12 Real part\n",
    "print(12+9j * 0) # 0 will be multiplied with 9j imaginary part\n",
    "print(10 * 22.5 * False + 12+9j * True)\n",
    "print(10 * 22.5 * False + 12+9j * False)"
   ]
  },
  {
   "cell_type": "markdown",
   "metadata": {},
   "source": [
    "## Data types Conversion"
   ]
  },
  {
   "cell_type": "code",
   "execution_count": 151,
   "metadata": {},
   "outputs": [
    {
     "ename": "TypeError",
     "evalue": "can't convert complex to int",
     "output_type": "error",
     "traceback": [
      "\u001b[0;31m---------------------------------------------------------------------------\u001b[0m",
      "\u001b[0;31mTypeError\u001b[0m                                 Traceback (most recent call last)",
      "Cell \u001b[0;32mIn[151], line 3\u001b[0m\n\u001b[1;32m      1\u001b[0m \u001b[38;5;66;03m# Complex data is convertible to boolean only\u001b[39;00m\n\u001b[1;32m      2\u001b[0m \u001b[38;5;66;03m# You can't Convert the complex into Integer\u001b[39;00m\n\u001b[0;32m----> 3\u001b[0m \u001b[38;5;28mprint\u001b[39m(\u001b[38;5;28;43mint\u001b[39;49m\u001b[43m(\u001b[49m\u001b[38;5;241;43m10\u001b[39;49m\u001b[38;5;241;43m+\u001b[39;49m\u001b[38;5;241;43m10\u001b[39;49m\u001b[43mj\u001b[49m\u001b[43m)\u001b[49m) \u001b[38;5;66;03m# Complex is not convertible to Integer\u001b[39;00m\n\u001b[1;32m      5\u001b[0m \u001b[38;5;66;03m# Complex data is not convertible to any other data type except Boolean\u001b[39;00m\n\u001b[1;32m      6\u001b[0m \u001b[38;5;66;03m# You can't Convert the complex into float\u001b[39;00m\n\u001b[1;32m      7\u001b[0m Complex \u001b[38;5;241m=\u001b[39m \u001b[38;5;241m10\u001b[39m\u001b[38;5;241m+\u001b[39m\u001b[38;5;241m10\u001b[39mj\n",
      "\u001b[0;31mTypeError\u001b[0m: can't convert complex to int"
     ]
    }
   ],
   "source": [
    "# Complex data is convertible to boolean only\n",
    "# You can't Convert the complex into Integer\n",
    "print(int(10+10j)) # Complex is not convertible to Integer\n",
    "\n",
    "# Complex data is not convertible to any other data type except Boolean\n",
    "# You can't Convert the complex into float\n",
    "Complex = 10+10j\n",
    "Float = float(10+10j)  # Complex is not convertible to Float\n",
    "print(Float)"
   ]
  },
  {
   "cell_type": "code",
   "execution_count": 152,
   "metadata": {},
   "outputs": [
    {
     "name": "stdout",
     "output_type": "stream",
     "text": [
      "True\n",
      "False\n",
      "True\n",
      "True\n",
      "True\n",
      "(79.33+0j)\n",
      "(98+0j) (78.67+0j) (1+0j) 0j\n"
     ]
    }
   ],
   "source": [
    "print(bool(10+10j)) # Complex is convertible to boolean data only\n",
    "print(bool(0-0j))   # When both real & imaginary part will have Zero 0\n",
    "\n",
    "# Converting Complex into Boolean\n",
    "Complex = 10+10j\n",
    "Boolean = bool(Complex)\n",
    "print(Boolean)\n",
    "\n",
    "# Converting Integer into Boolean\n",
    "Boolean1 = bool(23)\n",
    "print(Boolean1)\n",
    "\n",
    "# Converting Float into Boolean\n",
    "Boolean2 = bool(17.78)\n",
    "print(Boolean2)\n",
    "\n",
    "# Converting Float into Complex\n",
    "Complex3 = complex(79.33)\n",
    "print(Complex3)\n",
    "\n",
    "print(complex(98), complex(78.67), complex(True), complex(False)) # Integer 98 got converted into complex"
   ]
  },
  {
   "cell_type": "code",
   "execution_count": 153,
   "metadata": {},
   "outputs": [
    {
     "name": "stdout",
     "output_type": "stream",
     "text": [
      "False\n",
      "True\n"
     ]
    }
   ],
   "source": [
    "print(bool(\"\"))  # Converting blank string into boolean resulting False\n",
    "print(bool(\" \")) # Converting string with space into boolean resulting True"
   ]
  },
  {
   "cell_type": "code",
   "execution_count": 154,
   "metadata": {},
   "outputs": [
    {
     "name": "stdout",
     "output_type": "stream",
     "text": [
      "True False False\n"
     ]
    }
   ],
   "source": [
    "print(bool(10+10j), bool(0+0j), bool(0+0j))       # Complex data has been transformed into boolean\n",
    "# To be transferred into False, both Real & imaginary part must be in 0 zero format"
   ]
  },
  {
   "cell_type": "code",
   "execution_count": 155,
   "metadata": {},
   "outputs": [
    {
     "name": "stdout",
     "output_type": "stream",
     "text": [
      "12.33 12\n",
      "66.77 66\n"
     ]
    }
   ],
   "source": [
    "print(12.33, int(12.33))     # Convert the float into integer\n",
    "print(66.77, int(66.77)) # 66.77 has been transformed into integer 66"
   ]
  },
  {
   "cell_type": "code",
   "execution_count": 156,
   "metadata": {},
   "outputs": [
    {
     "name": "stdout",
     "output_type": "stream",
     "text": [
      "12.33 12 (12.33+0j)\n"
     ]
    }
   ],
   "source": [
    "print(12.33, int(12.33), complex(12.33)) # 12.33 has been converted into integer 12"
   ]
  },
  {
   "cell_type": "code",
   "execution_count": 157,
   "metadata": {},
   "outputs": [
    {
     "name": "stdout",
     "output_type": "stream",
     "text": [
      "37 37.0 (37+0j) True\n",
      "22 22.0 (22+0j) True\n",
      "99 (99.55+0j) True\n",
      "67 67.0 67 (67.67+0j) True\n"
     ]
    }
   ],
   "source": [
    "print(37, float(37), complex(37), bool(37))  # Convert the Integer 37 into float 37.00\n",
    "print(22, float(22), complex(22), bool(22))  # Convert the Integer 22 into float 22.00\n",
    "print(int(99.55), complex(99.55), bool(99.55))     # Convert float into Integer\n",
    "print(67, float(67), int(67.67), complex(67.67), bool(67.67)) # 67 has been converted into float 67.0 & 67.67 has been converted into integer 67"
   ]
  },
  {
   "cell_type": "code",
   "execution_count": 158,
   "metadata": {},
   "outputs": [
    {
     "name": "stdout",
     "output_type": "stream",
     "text": [
      "True\n",
      "(89+0j)\n",
      "(89.33+0j)\n",
      "(89-5j) True False\n"
     ]
    }
   ],
   "source": [
    "# You can Convert the complex into Boolean\n",
    "Complex = 10+10j\n",
    "Boolean = bool(Complex)\n",
    "print(Boolean)\n",
    "\n",
    "# Converting Integer into Complex\n",
    "Complex1 = complex(89)\n",
    "print(Complex1)\n",
    "\n",
    "# Converting Float into Complex\n",
    "Complex2 = complex(89.33)\n",
    "print(Complex2)\n",
    "print(89-5j, bool(89+5j), bool(0-0j)) # Complex data has been transformed into boolean True\n",
    "                                      # To be transferred into False, both Real & imaginary part must be in 0 zero format"
   ]
  },
  {
   "cell_type": "code",
   "execution_count": 159,
   "metadata": {},
   "outputs": [
    {
     "name": "stdout",
     "output_type": "stream",
     "text": [
      "(34+0j) (45.56+0j) (1+0j) 0j\n"
     ]
    }
   ],
   "source": [
    "# Integer, Float & Boolean has been converted into Complex\n",
    "print(complex(34), complex(45.56), complex(True), complex(False))"
   ]
  },
  {
   "cell_type": "code",
   "execution_count": 160,
   "metadata": {},
   "outputs": [
    {
     "name": "stdout",
     "output_type": "stream",
     "text": [
      "False\n",
      "True\n",
      "0\n",
      "1\n",
      "1 0\n"
     ]
    }
   ],
   "source": [
    "# False means 0, True means 1\n",
    "Bool1 = False   #Bool\n",
    "Bool2 = True\n",
    "print(Bool1), print(Bool2)\n",
    "print(int(Bool1)), print(int(Bool2)) # Converting Boolean into Integer\n",
    "type(Bool1), type(Bool2)\n",
    "print(int(True), int(False))"
   ]
  },
  {
   "cell_type": "code",
   "execution_count": 161,
   "metadata": {},
   "outputs": [
    {
     "name": "stdout",
     "output_type": "stream",
     "text": [
      "(22.33+0j) (67+0j) (22.33+0j) 0j (1+0j) 1.0 0.0 1 0\n"
     ]
    }
   ],
   "source": [
    "# Integer, Float, Boolean has been converted into Complex\n",
    "print(complex(22.33), complex(67), complex(22.33), complex(False), complex(True), float(True), float(False), int(True), int(False))"
   ]
  },
  {
   "cell_type": "code",
   "execution_count": 162,
   "metadata": {},
   "outputs": [
    {
     "name": "stdout",
     "output_type": "stream",
     "text": [
      "0\n",
      "1\n"
     ]
    },
    {
     "data": {
      "text/plain": [
       "(int, int)"
      ]
     },
     "execution_count": 162,
     "metadata": {},
     "output_type": "execute_result"
    }
   ],
   "source": [
    "# Int value of False is always 0, and True is 1\n",
    "# Convert Bool into int\n",
    "Integer1 = int(False)\n",
    "Integer2 = int(True)\n",
    "print(Integer1), print(Integer2)\n",
    "type(Integer1), type(Integer2)"
   ]
  },
  {
   "cell_type": "code",
   "execution_count": 163,
   "metadata": {},
   "outputs": [
    {
     "name": "stdout",
     "output_type": "stream",
     "text": [
      "True False True False\n"
     ]
    }
   ],
   "source": [
    "# Boolean can be converted into string\n",
    "print(str(True), str(False), \"True\", \"False\")"
   ]
  },
  {
   "cell_type": "code",
   "execution_count": 164,
   "metadata": {},
   "outputs": [
    {
     "name": "stdout",
     "output_type": "stream",
     "text": [
      "True False True True False True False True\n",
      "True\n",
      "True\n",
      "False\n",
      "True\n",
      "True\n",
      "False\n",
      "True\n",
      "True\n",
      "True\n"
     ]
    }
   ],
   "source": [
    "# Convert Integer, Float, Complex, String, Empty String, String with Space.... into boolean\n",
    "\n",
    "print(bool(67), bool(0.00), bool(67.89), bool(-89+7j), bool(0+0j), bool(\"String\"), bool(\"\"), bool(\" \"))\n",
    "\n",
    "Integer1 = 18\n",
    "Integer2 = -18\n",
    "Integer3 = 0\n",
    "Float1 = 25.55\n",
    "Float2 = -25.55\n",
    "Float3 = 0.00\n",
    "print(bool(18))\n",
    "print(bool(-18))\n",
    "print(bool(0))\n",
    "print(bool(25.55))\n",
    "print(bool(-25.55))\n",
    "print(bool(0.00))\n",
    "print(bool(10-10j))\n",
    "# Converting Complex into Boolean\n",
    "Complex = 10+10j\n",
    "Boolean = bool(Complex)\n",
    "print(Boolean)\n",
    "print(bool(10-10j))"
   ]
  },
  {
   "cell_type": "code",
   "execution_count": 165,
   "metadata": {},
   "outputs": [
    {
     "name": "stdout",
     "output_type": "stream",
     "text": [
      "True\n",
      "True\n",
      "False\n",
      "False\n",
      "True\n",
      "True\n",
      "(-18+0j) 0j 0j (18.88+0j) (-18.88+0j) (1+0j) 0j\n"
     ]
    }
   ],
   "source": [
    "print(bool(18))\n",
    "print(bool(-18))\n",
    "print(bool(0))  # Converting 0 into Boolean will always be False\n",
    "print(bool(-0)) # Converting 0 into Boolean will always be False\n",
    "print(bool(18.88))\n",
    "print(bool(-18.88))\n",
    "# integer, float, boolean has been converted into complex data\n",
    "print(complex(-18), complex(0), complex(-0), complex(18.88), complex(-18.88), complex(True), complex(False))"
   ]
  },
  {
   "cell_type": "code",
   "execution_count": 166,
   "metadata": {},
   "outputs": [
    {
     "name": "stdout",
     "output_type": "stream",
     "text": [
      "Animesh\n",
      "Anwesh\n",
      "True\n",
      "1\n"
     ]
    }
   ],
   "source": [
    "String1 = 'Animesh'    # String\n",
    "String2 = \"Anwesh\"   # String\n",
    "print(String1), print(String2)\n",
    "\n",
    "# Converting String into Boolean\n",
    "Boolean = bool('Boolean')\n",
    "print(Boolean)\n",
    "\n",
    "type(String1), type(String2), type(Boolean)\n",
    "print(int(bool(\"Anwesh\")))"
   ]
  },
  {
   "cell_type": "code",
   "execution_count": 167,
   "metadata": {},
   "outputs": [
    {
     "data": {
      "text/plain": [
       "(7, 6)"
      ]
     },
     "execution_count": 167,
     "metadata": {},
     "output_type": "execute_result"
    }
   ],
   "source": [
    "# No of letters/alphabets in a \"string\" element\n",
    "len(String1), len(String2)"
   ]
  },
  {
   "cell_type": "code",
   "execution_count": 168,
   "metadata": {},
   "outputs": [
    {
     "name": "stdout",
     "output_type": "stream",
     "text": [
      "2 3 3 3 10\n"
     ]
    }
   ],
   "source": [
    "# Type the Element value & you will get its frequency/repeatation\n",
    "# Here the Single String is \"AnwneAnshA\"\n",
    "# Type any sigle alphabet/part of the String inside String.count() and you will get the repeatation of that alphabet/part\n",
    "String = \"AnwneAnshA\"\n",
    "# String.count(\"An\")   How many times \"An\" is within the word \"AnwneAnshA\"\n",
    "print(String.count(\"An\"), String.count(\"n\"), String.count(\"A\"), String.count(\"A\"), len(String))"
   ]
  },
  {
   "cell_type": "markdown",
   "metadata": {},
   "source": [
    "### String indexing & Slicing\n",
    "1. Strings are immutable, You can't add(Element), append([E1, E2, E3)) []List format, extend([E1, E2, E3]), pop(Index), remove(Element), discard(Element), insert(Index, [E1, E2, E3]) []List format, swap, sort(), shuffle() letters of string\n",
    "2. String = \"\".join(StingList) #\"\".join() only works with List having string elements alphabet letters, words.\n",
    "3. Additionaly add(Element), discard(Element) is applicable for Sets only\n",
    "4. RandSamp = random.sample(String, len(String)), RandSampJoin = \"\".join(RandSamp) #Randomly pick sample len(Name) no of letters from Name,\n",
    "5.                                                                     #Save the sample as list[] RandSam, rejoin it as RandSampJoin.\n",
    "6. For String letter elements swapping... Splitter = list(String), Splitter[index2], Splitter[index4] = Splitter[index6], Splitter[index8],\n",
    "7.                                           SwapJoin = \"\".join(Splitter) #Splitter List elements got rejoined as SwapJoin variable.\n",
    "8. Splitter = list(String), random.shuffle(Splitter), ShuffleJoin = \"\".join(Splitter) #String got converted into list, got shuffled & rejoined as ShuffleJoin variable.\n",
    "9. Splitter = list(String), Splitter.sort(), SortJoin = \"\".join(Splitter) #String got converted into list() then get sort() & rejoined as SortJoin.\n",
    "10. Sorted = sorted(String), SortedJoin = \"\".join(Sorted) #String got converted into list() & get sorted() then rejoined as SortedJoin string variable.\n",
    "11. New_Name = String.replace(\"Oldtxt\", \"Newtxt\") #replace() works with String variable only.\n",
    "12. String.index(\"E1\") #Index of a single letter alphabet element at a time. First occurance of the letter will be treated as index.\n",
    "13. String.count(\"ab\") #Count the repeatations of \"ab\" in the String variable.\n",
    "14. Something.remove(Element) is applicable for List & Set only.\n",
    "15. String3 = String1 + String2 #Concatination of String1 & String2 variable to create String3 variable."
   ]
  },
  {
   "cell_type": "code",
   "execution_count": 17,
   "metadata": {},
   "outputs": [
    {
     "name": "stdout",
     "output_type": "stream",
     "text": [
      "0 7 8\n",
      "AnwneAnshA\n",
      "Awenh\n",
      "Anwn\n",
      "wen\n",
      "Anwn\n",
      "nAsA\n"
     ]
    }
   ],
   "source": [
    "String = \"AnwneAnshA\"\n",
    "print(String.index(\"A\"), String.index(\"s\"), String.index(\"h\"))  # Index of first appearance. It doesn't include repeatations.\n",
    "print(String[0:len(String)])                                    # Index of one letter at at time, single element\n",
    "print(String[0::2])                    # print from index 0 to last by Hopping 2 elements cycle\n",
    "print(String[0:4])                   # print from index 0 to 4 excluding upperbound\n",
    "print(String[2:7:2])                 # print from index 2 to 7 excluding upperbound by Hopping 2 elements cycle\n",
    "print(String[:4])                    # print from start index to 4 excluding upperbound\n",
    "print(String[3::2])                    # print from 3rd index to last by hopping 2 elements cycle"
   ]
  },
  {
   "cell_type": "code",
   "execution_count": 18,
   "metadata": {},
   "outputs": [
    {
     "ename": "AttributeError",
     "evalue": "'str' object has no attribute 'discard'",
     "output_type": "error",
     "traceback": [
      "\u001b[0;31m---------------------------------------------------------------------------\u001b[0m",
      "\u001b[0;31mAttributeError\u001b[0m                            Traceback (most recent call last)",
      "Cell \u001b[0;32mIn[18], line 1\u001b[0m\n\u001b[0;32m----> 1\u001b[0m \u001b[43mString\u001b[49m\u001b[38;5;241;43m.\u001b[39;49m\u001b[43mdiscard\u001b[49m(\u001b[38;5;124m\"\u001b[39m\u001b[38;5;124mA\u001b[39m\u001b[38;5;124m\"\u001b[39m)   \u001b[38;5;66;03m# discard() don't work with String variable\u001b[39;00m\n\u001b[1;32m      2\u001b[0m \u001b[38;5;28mprint\u001b[39m(String)\n",
      "\u001b[0;31mAttributeError\u001b[0m: 'str' object has no attribute 'discard'"
     ]
    }
   ],
   "source": [
    "String.discard(\"A\")   # discard() don't work with String variable\n",
    "print(String)"
   ]
  },
  {
   "cell_type": "code",
   "execution_count": 19,
   "metadata": {},
   "outputs": [
    {
     "ename": "AttributeError",
     "evalue": "'str' object has no attribute 'remove'",
     "output_type": "error",
     "traceback": [
      "\u001b[0;31m---------------------------------------------------------------------------\u001b[0m",
      "\u001b[0;31mAttributeError\u001b[0m                            Traceback (most recent call last)",
      "Cell \u001b[0;32mIn[19], line 1\u001b[0m\n\u001b[0;32m----> 1\u001b[0m \u001b[43mString\u001b[49m\u001b[38;5;241;43m.\u001b[39;49m\u001b[43mremove\u001b[49m(\u001b[38;5;124m\"\u001b[39m\u001b[38;5;124mAnw\u001b[39m\u001b[38;5;124m\"\u001b[39m)    \u001b[38;5;66;03m# remove() don't work with String variable\u001b[39;00m\n\u001b[1;32m      2\u001b[0m \u001b[38;5;28mprint\u001b[39m(String)\n",
      "\u001b[0;31mAttributeError\u001b[0m: 'str' object has no attribute 'remove'"
     ]
    }
   ],
   "source": [
    "String.remove(\"Anw\")    # remove() don't work with String variable\n",
    "print(String)"
   ]
  },
  {
   "cell_type": "code",
   "execution_count": 20,
   "metadata": {},
   "outputs": [
    {
     "name": "stdout",
     "output_type": "stream",
     "text": [
      "0\n",
      "2\n",
      "1\n",
      "3\n"
     ]
    }
   ],
   "source": [
    "print(String.index(\"An\"))\n",
    "print(String.count(\"An\"))\n",
    "print(String.index(\"n\"))\n",
    "print(String.count(\"n\"))"
   ]
  },
  {
   "cell_type": "code",
   "execution_count": 21,
   "metadata": {},
   "outputs": [
    {
     "name": "stdout",
     "output_type": "stream",
     "text": [
      "AnwneAn\n",
      "Awen\n",
      "AnwneAnshA\n"
     ]
    }
   ],
   "source": [
    "StringSlice1 = String[0:7]       # Slicing from String from index 0 to 7 excluding upperbound\n",
    "print(StringSlice1)\n",
    "\n",
    "StringSlice2 = String[0:7:2]    # Slicing from String from index 0 to 7 excluding upperbound by hopping 2 elements cycle\n",
    "print(StringSlice2)\n",
    "\n",
    "print(String[0:len(String)])"
   ]
  },
  {
   "cell_type": "code",
   "execution_count": 22,
   "metadata": {},
   "outputs": [
    {
     "name": "stdout",
     "output_type": "stream",
     "text": [
      "newnsMan\n"
     ]
    }
   ],
   "source": [
    "String2 = \"SpiderMan\"\n",
    "\n",
    "StringConcat = String[3:5] + String[2:4] + String[-3] + String2[6:9]    # Concationg indivisual letters of strings to form a new string\n",
    "\n",
    "print(StringConcat)"
   ]
  },
  {
   "cell_type": "code",
   "execution_count": 23,
   "metadata": {},
   "outputs": [
    {
     "name": "stdout",
     "output_type": "stream",
     "text": [
      "pdr ir\n",
      "pdrir\n"
     ]
    }
   ],
   "source": [
    "Spider = \"SpiderMan\"\n",
    "Concat = Spider[1:7:2] + Spider[2:8:3]\n",
    "print(Spider[1:7:2], Spider[2:8:3])\n",
    "print(Concat)"
   ]
  },
  {
   "cell_type": "code",
   "execution_count": 24,
   "metadata": {},
   "outputs": [
    {
     "name": "stdout",
     "output_type": "stream",
     "text": [
      "Spider\n",
      "Man\n",
      "Man\n"
     ]
    }
   ],
   "source": [
    "print(String2[:6])                  # print from staring 0th index to 6 excluding upperbound\n",
    "print(String2[6:])                  # print from 6th index to last\n",
    "print(String2[6:len(String2)])"
   ]
  },
  {
   "cell_type": "code",
   "execution_count": 34,
   "metadata": {},
   "outputs": [
    {
     "name": "stdout",
     "output_type": "stream",
     "text": [
      "SpiderMan\n",
      "['i', 'n', 'e', 'a', 'd', 'r', 'p', 'M', 'S']\n",
      "ineadrpMS\n"
     ]
    }
   ],
   "source": [
    "import random\n",
    "# Random string Sampling\n",
    "Name = \"SpiderMan\"\n",
    "print(Name)\n",
    "\n",
    "RandSamp = random.sample(Name, len(Name))     # Randomly pick any 9 letters from String2, create list of it as variable RandSam\n",
    "print(RandSamp)                               # You need to create seperate variable RandSam to store the Sample as list()\n",
    "RandSampJoin = \"\".join(RandSamp)               # Rejoin the list\n",
    "print(RandSampJoin)"
   ]
  },
  {
   "cell_type": "code",
   "execution_count": 41,
   "metadata": {},
   "outputs": [
    {
     "name": "stdout",
     "output_type": "stream",
     "text": [
      "['S', 'p', 'i', 'd', 'e', 'r', 'M', 'a', 'n']\n",
      "['a', 'S', 'n', 'i', 'd', 'e', 'r', 'M', 'p']\n",
      "aSniderMp\n"
     ]
    }
   ],
   "source": [
    "# This is way to shuffle a String\n",
    "Name = \"SpiderMan\"\n",
    "Splitter = list(Name)     # list() will convert & split the String into indivisual letters\n",
    "print(Splitter)\n",
    "random.shuffle(Splitter)   # Splitter list() got shuffeled\n",
    "print(Splitter)\n",
    "ShuffleJoin = \"\".join(Splitter)   # Splitter list() elements got rejoined into string variable ShuffleJoin\n",
    "print(ShuffleJoin)"
   ]
  },
  {
   "cell_type": "code",
   "execution_count": 37,
   "metadata": {},
   "outputs": [
    {
     "name": "stdout",
     "output_type": "stream",
     "text": [
      "7eAF1cB3d5GCb4Eg2aDf6\n",
      "['1', '2', '3', '4', '5', '6', '7', 'A', 'B', 'C', 'D', 'E', 'F', 'G', 'a', 'b', 'c', 'd', 'e', 'f', 'g']\n",
      "1234567ABCDEFGabcdefg\n"
     ]
    }
   ],
   "source": [
    "# This is way to sort a String\n",
    "Name = \"7eAF1cB3d5GCb4Eg2aDf6\"\n",
    "print(Name)\n",
    "Sorted = sorted(Name) # sorted() has arranged the Name elements and converted into Sorted list()\n",
    "print(Sorted)\n",
    "SortedJoin = \"\".join(Sorted) # first sort() sequence priority to the Integers -> Uppercase alphabets -> lowercase alphabets\n",
    "print(SortedJoin)"
   ]
  },
  {
   "cell_type": "code",
   "execution_count": 18,
   "metadata": {},
   "outputs": [
    {
     "name": "stdout",
     "output_type": "stream",
     "text": [
      "['7', 'e', 'A', 'F', '1', 'c', 'B', '3', 'd', '5', 'G', 'C', 'b', '4', 'E', 'g', '2', 'a', 'D', 'f', '6']\n",
      "['1', '2', '3', '4', '5', '6', '7', 'A', 'B', 'C', 'D', 'E', 'F', 'G', 'a', 'b', 'c', 'd', 'e', 'f', 'g']\n",
      "1234567ABCDEFGabcdefg\n"
     ]
    }
   ],
   "source": [
    "# This is way to sort a String\n",
    "Name = \"7eAF1cB3d5GCb4Eg2aDf6\"\n",
    "Splitter = list(Name)       # It has been converted into Splitter list()\n",
    "print(Splitter)\n",
    "Splitter.sort()         # Splitter.sort() has arranged the Splitter list() elements\n",
    "print(Splitter)\n",
    "SortJoin = \"\".join(Splitter) # first sort() sequence priority to the Integers -> Uppercase alphabets -> lowercase alphabets\n",
    "print(SortJoin)"
   ]
  },
  {
   "cell_type": "code",
   "execution_count": 19,
   "metadata": {},
   "outputs": [
    {
     "name": "stdout",
     "output_type": "stream",
     "text": [
      "deidMMan\n"
     ]
    }
   ],
   "source": [
    "Spider = \"SpiderMan\"\n",
    "StringConcat = Spider[3:5] + Spider[2:4] + Spider[-3] + Spider[6:9]\n",
    "print(StringConcat)"
   ]
  },
  {
   "cell_type": "code",
   "execution_count": 20,
   "metadata": {},
   "outputs": [
    {
     "name": "stdout",
     "output_type": "stream",
     "text": [
      "SpiderMan\n",
      "MpiderSan\n",
      "['S', 'p', 'i', 'd', 'e', 'r', 'M', 'a', 'n']\n",
      "['M', 'p', 'i', 'd', 'e', 'r', 'S', 'a', 'n']\n",
      "MpiderSan\n"
     ]
    }
   ],
   "source": [
    "# Swap/interchange index location of the element letters in a String\n",
    "Spider = \"SpiderMan\"\n",
    "print(Spider)\n",
    "Concat = Spider[6] + Spider[1:6] + Spider[0] + Spider[7:9] # Concat index string element letters\n",
    "print(Concat)\n",
    "Splitter = list(Spider) # Convert \"SpiderMan\" string into list()\n",
    "print(Splitter)\n",
    "Splitter[0], Splitter[6] = Splitter[6], Splitter[0] # Swap list() index string element letters 1,2 with 2,1\n",
    "print(Splitter)\n",
    "type(Splitter), len(Splitter)                 # Swap index string element letters 1,2 with 2,1\n",
    "Swap = \"\".join(Splitter) # join() individual list() index string element letters without space \"\"\n",
    "print(Swap)"
   ]
  },
  {
   "cell_type": "code",
   "execution_count": 181,
   "metadata": {},
   "outputs": [
    {
     "name": "stdout",
     "output_type": "stream",
     "text": [
      "Black Widow\n"
     ]
    }
   ],
   "source": [
    "Spider = \"Spider Man\"\n",
    "New_Name = Spider.replace(\"Spider\", \"Black\").replace(\"Man\",\"Widow\") # String \"Spider\" has been replaced by \"Black\"\n",
    "                                                                    # \"Man\" has been replaced by \"Widow\"\n",
    "print(New_Name)                        # You need to create seperate variable New_Name to store the replace()"
   ]
  },
  {
   "cell_type": "code",
   "execution_count": 21,
   "metadata": {},
   "outputs": [
    {
     "name": "stdout",
     "output_type": "stream",
     "text": [
      "Spider Man\n"
     ]
    }
   ],
   "source": [
    "print(Spider)"
   ]
  },
  {
   "cell_type": "code",
   "execution_count": 183,
   "metadata": {},
   "outputs": [
    {
     "ename": "TypeError",
     "evalue": "'str' object does not support item assignment",
     "output_type": "error",
     "traceback": [
      "\u001b[0;31m---------------------------------------------------------------------------\u001b[0m",
      "\u001b[0;31mTypeError\u001b[0m                                 Traceback (most recent call last)",
      "Cell \u001b[0;32mIn[183], line 2\u001b[0m\n\u001b[1;32m      1\u001b[0m String \u001b[38;5;241m=\u001b[39m \u001b[38;5;124m\"\u001b[39m\u001b[38;5;124mAs above so below\u001b[39m\u001b[38;5;124m\"\u001b[39m\n\u001b[0;32m----> 2\u001b[0m String[\u001b[38;5;241m3\u001b[39m:\u001b[38;5;241m0\u001b[39m] \u001b[38;5;241m=\u001b[39m \u001b[38;5;124m\"\u001b[39m\u001b[38;5;124mChipmunk\u001b[39m\u001b[38;5;124m\"\u001b[39m   \u001b[38;5;66;03m# Strings are immutable Object, you can't plugin new letters\u001b[39;00m\n\u001b[1;32m      3\u001b[0m \u001b[38;5;28mprint\u001b[39m(String)\n",
      "\u001b[0;31mTypeError\u001b[0m: 'str' object does not support item assignment"
     ]
    }
   ],
   "source": [
    "String = \"As above so below\"\n",
    "String[3:0] = \"Chipmunk\"   # Strings are immutable Object, you can't plugin new letters\n",
    "print(String)"
   ]
  },
  {
   "cell_type": "code",
   "execution_count": 184,
   "metadata": {},
   "outputs": [
    {
     "name": "stdout",
     "output_type": "stream",
     "text": [
      "['A', 's', ' ', 'a', 'b', 'o', 'v', 'e', ' ', 's', 'o', ' ', 'b', 'e', 'l', 'o', 'w']\n",
      "As Chipmunk above so below\n"
     ]
    }
   ],
   "source": [
    "String = \"As above so below\"\n",
    "StrList = list(String) # String has been converted into list() indivisual alphabet letter elements\n",
    "print(StrList)\n",
    "StrList[3:0] = \"Chipmunk \" # Plugin \"Chipmunk \" at the place of 3rd index\n",
    "StrJoin = \"\".join(StrList) # Rejoining indivisual alphabet letter elements converting into string word and sentence\n",
    "print(StrJoin)"
   ]
  },
  {
   "cell_type": "code",
   "execution_count": 185,
   "metadata": {},
   "outputs": [
    {
     "ename": "TypeError",
     "evalue": "'str' object does not support item assignment",
     "output_type": "error",
     "traceback": [
      "\u001b[0;31m---------------------------------------------------------------------------\u001b[0m",
      "\u001b[0;31mTypeError\u001b[0m                                 Traceback (most recent call last)",
      "Cell \u001b[0;32mIn[185], line 1\u001b[0m\n\u001b[0;32m----> 1\u001b[0m String[\u001b[38;5;241m2\u001b[39m:\u001b[38;5;241m5\u001b[39m] \u001b[38;5;241m=\u001b[39m \u001b[38;5;124m\"\u001b[39m\u001b[38;5;124mMunukunu\u001b[39m\u001b[38;5;124m\"\u001b[39m   \u001b[38;5;66;03m# You can't replace string letters with new ones\u001b[39;00m\n\u001b[1;32m      2\u001b[0m \u001b[38;5;28mprint\u001b[39m(String)\n",
      "\u001b[0;31mTypeError\u001b[0m: 'str' object does not support item assignment"
     ]
    }
   ],
   "source": [
    "String[2:5] = \"Munukunu\"   # You can't replace string letters with new ones\n",
    "print(String)"
   ]
  },
  {
   "cell_type": "code",
   "execution_count": 186,
   "metadata": {},
   "outputs": [
    {
     "ename": "AttributeError",
     "evalue": "'str' object has no attribute 'append'",
     "output_type": "error",
     "traceback": [
      "\u001b[0;31m---------------------------------------------------------------------------\u001b[0m",
      "\u001b[0;31mAttributeError\u001b[0m                            Traceback (most recent call last)",
      "Cell \u001b[0;32mIn[186], line 1\u001b[0m\n\u001b[0;32m----> 1\u001b[0m \u001b[43mString\u001b[49m\u001b[38;5;241;43m.\u001b[39;49m\u001b[43mappend\u001b[49m([\u001b[38;5;124m\"\u001b[39m\u001b[38;5;124mL\u001b[39m\u001b[38;5;124m\"\u001b[39m, \u001b[38;5;124m\"\u001b[39m\u001b[38;5;124mM\u001b[39m\u001b[38;5;124m\"\u001b[39m, \u001b[38;5;124m\"\u001b[39m\u001b[38;5;124mN\u001b[39m\u001b[38;5;124m\"\u001b[39m])         \u001b[38;5;66;03m# [] List format in the end\u001b[39;00m\n\u001b[1;32m      2\u001b[0m \u001b[38;5;28mprint\u001b[39m(String)\n",
      "\u001b[0;31mAttributeError\u001b[0m: 'str' object has no attribute 'append'"
     ]
    }
   ],
   "source": [
    "String.append([\"L\", \"M\", \"N\"])         # [] List format in the end\n",
    "print(String)"
   ]
  },
  {
   "cell_type": "code",
   "execution_count": 187,
   "metadata": {},
   "outputs": [
    {
     "ename": "AttributeError",
     "evalue": "'str' object has no attribute 'add'",
     "output_type": "error",
     "traceback": [
      "\u001b[0;31m---------------------------------------------------------------------------\u001b[0m",
      "\u001b[0;31mAttributeError\u001b[0m                            Traceback (most recent call last)",
      "Cell \u001b[0;32mIn[187], line 1\u001b[0m\n\u001b[0;32m----> 1\u001b[0m \u001b[43mString\u001b[49m\u001b[38;5;241;43m.\u001b[39;49m\u001b[43madd\u001b[49m(\u001b[38;5;124m\"\u001b[39m\u001b[38;5;124mH\u001b[39m\u001b[38;5;124m\"\u001b[39m)           \u001b[38;5;66;03m# add() works for Set only, One element at a time\u001b[39;00m\n\u001b[1;32m      2\u001b[0m \u001b[38;5;28mprint\u001b[39m(String)\n",
      "\u001b[0;31mAttributeError\u001b[0m: 'str' object has no attribute 'add'"
     ]
    }
   ],
   "source": [
    "String.add(\"H\")           # add() works for Set only, One element at a time\n",
    "print(String)"
   ]
  },
  {
   "cell_type": "code",
   "execution_count": 188,
   "metadata": {},
   "outputs": [
    {
     "ename": "AttributeError",
     "evalue": "'str' object has no attribute 'extend'",
     "output_type": "error",
     "traceback": [
      "\u001b[0;31m---------------------------------------------------------------------------\u001b[0m",
      "\u001b[0;31mAttributeError\u001b[0m                            Traceback (most recent call last)",
      "Cell \u001b[0;32mIn[188], line 1\u001b[0m\n\u001b[0;32m----> 1\u001b[0m \u001b[43mString\u001b[49m\u001b[38;5;241;43m.\u001b[39;49m\u001b[43mextend\u001b[49m([\u001b[38;5;124m\"\u001b[39m\u001b[38;5;124mP\u001b[39m\u001b[38;5;124m\"\u001b[39m, \u001b[38;5;124m\"\u001b[39m\u001b[38;5;124mY\u001b[39m\u001b[38;5;124m\"\u001b[39m, \u001b[38;5;124m\"\u001b[39m\u001b[38;5;124mz\u001b[39m\u001b[38;5;124m\"\u001b[39m])   \u001b[38;5;66;03m# Add multiple indivisual elements to the end\u001b[39;00m\n\u001b[1;32m      2\u001b[0m \u001b[38;5;28mprint\u001b[39m(String)\n",
      "\u001b[0;31mAttributeError\u001b[0m: 'str' object has no attribute 'extend'"
     ]
    }
   ],
   "source": [
    "String.extend([\"P\", \"Y\", \"z\"])   # Add multiple indivisual elements to the end\n",
    "print(String)"
   ]
  },
  {
   "cell_type": "code",
   "execution_count": 189,
   "metadata": {},
   "outputs": [
    {
     "ename": "AttributeError",
     "evalue": "'str' object has no attribute 'pop'",
     "output_type": "error",
     "traceback": [
      "\u001b[0;31m---------------------------------------------------------------------------\u001b[0m",
      "\u001b[0;31mAttributeError\u001b[0m                            Traceback (most recent call last)",
      "Cell \u001b[0;32mIn[189], line 1\u001b[0m\n\u001b[0;32m----> 1\u001b[0m \u001b[43mString\u001b[49m\u001b[38;5;241;43m.\u001b[39;49m\u001b[43mpop\u001b[49m()         \u001b[38;5;66;03m# Delete last index element by default\u001b[39;00m\n\u001b[1;32m      2\u001b[0m \u001b[38;5;28mprint\u001b[39m(String)\n",
      "\u001b[0;31mAttributeError\u001b[0m: 'str' object has no attribute 'pop'"
     ]
    }
   ],
   "source": [
    "String.pop()         # Delete last index element by default\n",
    "print(String)"
   ]
  },
  {
   "cell_type": "code",
   "execution_count": 190,
   "metadata": {},
   "outputs": [
    {
     "ename": "AttributeError",
     "evalue": "'str' object has no attribute 'remove'",
     "output_type": "error",
     "traceback": [
      "\u001b[0;31m---------------------------------------------------------------------------\u001b[0m",
      "\u001b[0;31mAttributeError\u001b[0m                            Traceback (most recent call last)",
      "Cell \u001b[0;32mIn[190], line 1\u001b[0m\n\u001b[0;32m----> 1\u001b[0m \u001b[43mString\u001b[49m\u001b[38;5;241;43m.\u001b[39;49m\u001b[43mremove\u001b[49m(\u001b[38;5;124m\"\u001b[39m\u001b[38;5;124mn\u001b[39m\u001b[38;5;124m\"\u001b[39m)       \u001b[38;5;66;03m# remove() is applicable for List & Set only. Remove the mentioned string letter\u001b[39;00m\n\u001b[1;32m      2\u001b[0m \u001b[38;5;28mprint\u001b[39m(String)\n",
      "\u001b[0;31mAttributeError\u001b[0m: 'str' object has no attribute 'remove'"
     ]
    }
   ],
   "source": [
    "String.remove(\"n\")       # remove() is applicable for List & Set only. Remove the mentioned string letter\n",
    "print(String)"
   ]
  },
  {
   "cell_type": "code",
   "execution_count": 191,
   "metadata": {},
   "outputs": [
    {
     "ename": "AttributeError",
     "evalue": "'str' object has no attribute 'insert'",
     "output_type": "error",
     "traceback": [
      "\u001b[0;31m---------------------------------------------------------------------------\u001b[0m",
      "\u001b[0;31mAttributeError\u001b[0m                            Traceback (most recent call last)",
      "Cell \u001b[0;32mIn[191], line 1\u001b[0m\n\u001b[0;32m----> 1\u001b[0m \u001b[43mString\u001b[49m\u001b[38;5;241;43m.\u001b[39;49m\u001b[43minsert\u001b[49m(\u001b[38;5;241m2\u001b[39m, \u001b[38;5;124m\"\u001b[39m\u001b[38;5;124mB\u001b[39m\u001b[38;5;124m\"\u001b[39m)      \u001b[38;5;66;03m# Plugin new string letter at the place of mentioned index\u001b[39;00m\n\u001b[1;32m      2\u001b[0m \u001b[38;5;28mprint\u001b[39m(String)\n",
      "\u001b[0;31mAttributeError\u001b[0m: 'str' object has no attribute 'insert'"
     ]
    }
   ],
   "source": [
    "String.insert(2, \"B\")      # Plugin new string letter at the place of mentioned index\n",
    "print(String)"
   ]
  },
  {
   "cell_type": "code",
   "execution_count": 192,
   "metadata": {},
   "outputs": [
    {
     "ename": "AttributeError",
     "evalue": "'str' object has no attribute 'discard'",
     "output_type": "error",
     "traceback": [
      "\u001b[0;31m---------------------------------------------------------------------------\u001b[0m",
      "\u001b[0;31mAttributeError\u001b[0m                            Traceback (most recent call last)",
      "Cell \u001b[0;32mIn[192], line 1\u001b[0m\n\u001b[0;32m----> 1\u001b[0m \u001b[43mString2\u001b[49m\u001b[38;5;241;43m.\u001b[39;49m\u001b[43mdiscard\u001b[49m(\u001b[38;5;124m\"\u001b[39m\u001b[38;5;124mM\u001b[39m\u001b[38;5;124m\"\u001b[39m)           \u001b[38;5;66;03m# discard() works for Set only\u001b[39;00m\n\u001b[1;32m      2\u001b[0m \u001b[38;5;28mprint\u001b[39m(String2)\n",
      "\u001b[0;31mAttributeError\u001b[0m: 'str' object has no attribute 'discard'"
     ]
    }
   ],
   "source": [
    "String2.discard(\"M\")           # discard() works for Set only\n",
    "print(String2)"
   ]
  },
  {
   "cell_type": "code",
   "execution_count": 193,
   "metadata": {},
   "outputs": [
    {
     "ename": "TypeError",
     "evalue": "'str' object does not support item assignment",
     "output_type": "error",
     "traceback": [
      "\u001b[0;31m---------------------------------------------------------------------------\u001b[0m",
      "\u001b[0;31mTypeError\u001b[0m                                 Traceback (most recent call last)",
      "Cell \u001b[0;32mIn[193], line 1\u001b[0m\n\u001b[0;32m----> 1\u001b[0m \u001b[43mrandom\u001b[49m\u001b[38;5;241;43m.\u001b[39;49m\u001b[43mshuffle\u001b[49m\u001b[43m(\u001b[49m\u001b[43mString2\u001b[49m\u001b[43m)\u001b[49m\n\u001b[1;32m      2\u001b[0m \u001b[38;5;28mprint\u001b[39m(String2)\n",
      "File \u001b[0;32m~/Downloads/miniconda3/envs/ML/lib/python3.8/random.py:307\u001b[0m, in \u001b[0;36mRandom.shuffle\u001b[0;34m(self, x, random)\u001b[0m\n\u001b[1;32m    304\u001b[0m     \u001b[38;5;28;01mfor\u001b[39;00m i \u001b[38;5;129;01min\u001b[39;00m \u001b[38;5;28mreversed\u001b[39m(\u001b[38;5;28mrange\u001b[39m(\u001b[38;5;241m1\u001b[39m, \u001b[38;5;28mlen\u001b[39m(x))):\n\u001b[1;32m    305\u001b[0m         \u001b[38;5;66;03m# pick an element in x[:i+1] with which to exchange x[i]\u001b[39;00m\n\u001b[1;32m    306\u001b[0m         j \u001b[38;5;241m=\u001b[39m randbelow(i\u001b[38;5;241m+\u001b[39m\u001b[38;5;241m1\u001b[39m)\n\u001b[0;32m--> 307\u001b[0m         x[i], x[j] \u001b[38;5;241m=\u001b[39m x[j], x[i]\n\u001b[1;32m    308\u001b[0m \u001b[38;5;28;01melse\u001b[39;00m:\n\u001b[1;32m    309\u001b[0m     _int \u001b[38;5;241m=\u001b[39m \u001b[38;5;28mint\u001b[39m\n",
      "\u001b[0;31mTypeError\u001b[0m: 'str' object does not support item assignment"
     ]
    }
   ],
   "source": [
    "random.shuffle(String2)\n",
    "print(String2)"
   ]
  },
  {
   "cell_type": "code",
   "execution_count": 194,
   "metadata": {},
   "outputs": [
    {
     "ename": "AttributeError",
     "evalue": "'str' object has no attribute 'sort'",
     "output_type": "error",
     "traceback": [
      "\u001b[0;31m---------------------------------------------------------------------------\u001b[0m",
      "\u001b[0;31mAttributeError\u001b[0m                            Traceback (most recent call last)",
      "Cell \u001b[0;32mIn[194], line 1\u001b[0m\n\u001b[0;32m----> 1\u001b[0m \u001b[43mString2\u001b[49m\u001b[38;5;241;43m.\u001b[39;49m\u001b[43msort\u001b[49m() \u001b[38;5;66;03m# \"String\" is immutable\u001b[39;00m\n\u001b[1;32m      2\u001b[0m \u001b[38;5;28mprint\u001b[39m(String2)\n",
      "\u001b[0;31mAttributeError\u001b[0m: 'str' object has no attribute 'sort'"
     ]
    }
   ],
   "source": [
    "String2.sort() # \"String\" is immutable\n",
    "print(String2)"
   ]
  },
  {
   "cell_type": "code",
   "execution_count": 195,
   "metadata": {},
   "outputs": [
    {
     "name": "stdout",
     "output_type": "stream",
     "text": [
      "This is single quote string\n",
      "This is double quote string\n",
      "This is 'Single Quote' inside 'double' quote\n",
      "Hello! \"I am Jaspreet\". How's is your Mother?\n",
      "This is Multi-Line paragraph.\n",
      "It starts with \"Triple Quotes\" symbol &\n",
      "also end's with the same.\n",
      "Thanking you Anwesh!!!\n"
     ]
    },
    {
     "data": {
      "text/plain": [
       "(27, 27, 44, 45, 118)"
      ]
     },
     "execution_count": 195,
     "metadata": {},
     "output_type": "execute_result"
    }
   ],
   "source": [
    "SingleQT = 'This is single quote string'\n",
    "print(SingleQT)\n",
    "\n",
    "DoubleQT = \"This is double quote string\"\n",
    "print(DoubleQT)\n",
    "\n",
    "InsideQT = \"This is 'Single Quote' inside 'double' quote\"\n",
    "print(InsideQT)\n",
    "\n",
    "Backlash = \"Hello! \\\"I am Jaspreet\\\". How's is your Mother?\"\n",
    "print(Backlash)\n",
    "\n",
    "Multi_Line = \"\"\"This is Multi-Line paragraph.\n",
    "It starts with \"Triple Quotes\" symbol &\n",
    "also end's with the same.\n",
    "Thanking you Anwesh!!!\"\"\"\n",
    "print(Multi_Line)\n",
    "len(SingleQT), len(DoubleQT), len(InsideQT), len(Backlash), len(Multi_Line)"
   ]
  },
  {
   "cell_type": "code",
   "execution_count": 196,
   "metadata": {},
   "outputs": [
    {
     "ename": "ValueError",
     "evalue": "invalid literal for int() with base 10: 'Animesh'",
     "output_type": "error",
     "traceback": [
      "\u001b[0;31m---------------------------------------------------------------------------\u001b[0m",
      "\u001b[0;31mValueError\u001b[0m                                Traceback (most recent call last)",
      "Cell \u001b[0;32mIn[196], line 3\u001b[0m\n\u001b[1;32m      1\u001b[0m \u001b[38;5;66;03m# String is not convertible to any other data type except boolean\u001b[39;00m\n\u001b[1;32m      2\u001b[0m \u001b[38;5;66;03m# You can't Convert the \"String\" into Integer\u001b[39;00m\n\u001b[0;32m----> 3\u001b[0m Integer1 \u001b[38;5;241m=\u001b[39m \u001b[38;5;28;43mint\u001b[39;49m\u001b[43m(\u001b[49m\u001b[43mString1\u001b[49m\u001b[43m)\u001b[49m\n\u001b[1;32m      4\u001b[0m Integer2 \u001b[38;5;241m=\u001b[39m \u001b[38;5;28mint\u001b[39m(String2)\n\u001b[1;32m      5\u001b[0m \u001b[38;5;28mtype\u001b[39m(Integer1), \u001b[38;5;28mtype\u001b[39m(Integer2), \u001b[38;5;28mprint\u001b[39m(Integer1), \u001b[38;5;28mprint\u001b[39m(Integer2)\n",
      "\u001b[0;31mValueError\u001b[0m: invalid literal for int() with base 10: 'Animesh'"
     ]
    }
   ],
   "source": [
    "# String is not convertible to any other data type except boolean\n",
    "# You can't Convert the \"String\" into Integer\n",
    "Integer1 = int(String1)\n",
    "Integer2 = int(String2)\n",
    "type(Integer1), type(Integer2), print(Integer1), print(Integer2)\n",
    "print(bool(String1), bool(String2))"
   ]
  },
  {
   "cell_type": "code",
   "execution_count": 197,
   "metadata": {},
   "outputs": [
    {
     "name": "stdout",
     "output_type": "stream",
     "text": [
      "0\n",
      "0\n",
      "1\n"
     ]
    },
    {
     "data": {
      "text/plain": [
       "(int, int, int)"
      ]
     },
     "execution_count": 197,
     "metadata": {},
     "output_type": "execute_result"
    }
   ],
   "source": [
    "A = String.count(\"An\") # Count repeatation of \"An\" in string \"AnwneAnshA\" & save in A\n",
    "B = String.count(\"n\") # Count repeatation of \"n\" in string \"AnwneAnshA\" & save in B\n",
    "C = String.count(\"A\") # Count repeatation of \"A\" in string \"AnwneAnshA\" & save in C\n",
    "print(A), print(B), print(C)\n",
    "type(A), type(B), type(C)"
   ]
  },
  {
   "cell_type": "code",
   "execution_count": 198,
   "metadata": {},
   "outputs": [
    {
     "name": "stdout",
     "output_type": "stream",
     "text": [
      "33.33j\n",
      "(10-23.44j)\n",
      "(-23-45j)\n",
      "(23+99j)\n",
      "(67-8j)\n"
     ]
    }
   ],
   "source": [
    "X = String.count(\"An\")\n",
    "Float = 33.33\n",
    "Complex = complex(real=X, imag=Float)             # Combine Integer & Float into Complex\n",
    "print(Complex)                                    # Float will come into the imaginery part if you place it after comma\n",
    "\n",
    "Comp1 = complex(real=10, imag=-23.44)\n",
    "print(Comp1)\n",
    "\n",
    "Comp2 = complex(real=-23, imag=-45)\n",
    "print(Comp2)\n",
    "\n",
    "Comp3 = complex(real=23, imag=99)\n",
    "print(Comp3)\n",
    "\n",
    "Comp4 = 67-8j\n",
    "print(Comp4)"
   ]
  },
  {
   "cell_type": "code",
   "execution_count": 199,
   "metadata": {},
   "outputs": [
    {
     "name": "stdout",
     "output_type": "stream",
     "text": [
      "(33.33+67j)\n"
     ]
    }
   ],
   "source": [
    "Integer = 67\n",
    "Complex = complex(real=Float, imag=Integer)                     # Combine Integer & Float into Complex\n",
    "print(Complex)                                  # Integer will come into the imaginery part if you place it after comma"
   ]
  },
  {
   "cell_type": "code",
   "execution_count": 200,
   "metadata": {},
   "outputs": [
    {
     "name": "stdout",
     "output_type": "stream",
     "text": [
      "10 10.1 (10+10j) True Anwesh\n"
     ]
    },
    {
     "data": {
      "text/plain": [
       "(int, float, complex, bool, str)"
      ]
     },
     "execution_count": 200,
     "metadata": {},
     "output_type": "execute_result"
    }
   ],
   "source": [
    "# Assign different data type values to different variables at once/at a time\n",
    "Integer, Float, Complex, Bool, String = 10, 10.10, 10+10j, True, \"Anwesh\"\n",
    "print(Integer, Float, Complex, Bool, String)\n",
    "type(Integer), type(Float), type(Complex), type(Bool), type(String)"
   ]
  },
  {
   "cell_type": "markdown",
   "metadata": {},
   "source": [
    "# Variables\n",
    "1. Lists\n",
    "2. Dictionaries\n",
    "3. Tuple\n",
    "4. Sets\n",
    "5. Range"
   ]
  },
  {
   "cell_type": "markdown",
   "metadata": {},
   "source": [
    "## Lists\n",
    "1. List.index(Element) #See the Index of mentioned element. One element at a time.\n",
    "2. List[:] #List Indexing\n",
    "3. List[::3] #List Indexing from start to end by hopping 3 elements cycle\n",
    "4. List.append([e1, e2, e3])   #append in List[] format at the end position\n",
    "5. List.insert(index, [e1, e2, e3, e4]) #insert new elements in List[] format at the place of mentioned index\n",
    "6. List[Index:0] = e1, e2, e3, e4 #Plugin new elements at the place of mentioned index\n",
    "7. List[Index:0] = [e1] #While plugging in single element e1 as array\n",
    "8. List[index] = e1, e2, e3, e4 #Mentioned index element got replaced by e1, e2, e3, e4 elements. () tuple format\n",
    "9. List[index] = e1 #Mentioned index element got replaced by single alone e1 element\n",
    "10. List[index] = [e1, e2, e3, e4] #Mentioned index element got replaced by e1, e2, e3, e4 elements. [] list format\n",
    "11. List[4:8] = e1, e2, e3, e4 #While replacing elements from index 4 to index 7\n",
    "12. List[4:8] = [e1] # From 4 to 8 exclusive upperbound multiple index elements will be replaced by single element e1 as array\n",
    "13. List.extend([e1, e2, e3, e4]) #Add multiple indivisual elements to the end position\n",
    "14. List[len(List):0] = e1, e2, e3, e4 #Plugin new elements at the end position\n",
    "15. List[len(List):0] = [e1]    # While plugging in single element e1\n",
    "16. List3 = List1 + List2 #List Concatination\n",
    "17. random.shuffle(List) #Shuffle the list elements Randomly\n",
    "18. RandSamp = random.sample(List, len(List)) #Pick randomly len(List) no of sample elements\n",
    "19. List.pop() #By default delete the last Index element\n",
    "20. List.pop(index) #delete the mentioned Index element\n",
    "21. List.count(Element) #Count the mentioned Element frequency\n",
    "22. List.remove(Element) #delete the mentioned Element, remove() is applicable for List & Set only\n",
    "23. Additionally add(), discard() only works for Set #They don't work for List\n",
    "24. List2 = List1.replace(E1, E2) # They don't work for List\n",
    "25. List.sort() #When the List element data types are Integer, Float, Bool\n",
    "26. List2 = sorted(List1) #When the List element data types are Integer, Float, Bool\n",
    "27. min(List), max(List), sum(List) #When the List element data types are Integer, Float, Bool"
   ]
  },
  {
   "cell_type": "code",
   "execution_count": 201,
   "metadata": {},
   "outputs": [
    {
     "name": "stdout",
     "output_type": "stream",
     "text": [
      "[1, 2, 3, 4, 5, 6, 7, 8, 9, 10]\n",
      "['KESHAV', (45+9j), True, 39.69, 39]\n",
      "['KESHAV', (45+9j), True, 39.69, 39, [1, 2, 3, 4, 5, 6, 7, 8, 9, 10]]\n"
     ]
    }
   ],
   "source": [
    "# You can't perform Arithmatic operations between lists, only concatination is possible\n",
    "# Creation of list ---- [], all elements of list come inside square bracket\n",
    "# [] Write everything inside Square bracket, which creates list\n",
    "# Whenever you want to fetch any specific value from List, mention the positional/location/index val inside List[] square bracket\n",
    "# You can't perform Arithmatic operations between 2 or more Lists\n",
    "# Homogenous list ----- list following only one datatype\n",
    "# Nested List----- When you create multiple List inside a List\n",
    "# You can't perform advanced indexing with List\n",
    "# List is mutable variable, you can add, remove, insert, swap, sort, shuffle & replace elements of List\n",
    "\n",
    "Homo1 = [1, 2, 3, 4, 5, 6, 7, 8, 9, 10] # List containing only integers\n",
    "print(Homo1)\n",
    "\n",
    "MixValues = [\"KESHAV\", 45+9j, True, 39.69, 39] # List containing all type of datas\n",
    "print(MixValues)\n",
    "\n",
    "NestList = [\"KESHAV\", 45+9j, True, 39.69, 39, Homo1] # Homo1 list has been taken inside NestList\n",
    "print(NestList)"
   ]
  },
  {
   "cell_type": "code",
   "execution_count": 202,
   "metadata": {},
   "outputs": [
    {
     "name": "stdout",
     "output_type": "stream",
     "text": [
      "['KESHAV', (45+9j), True, 39.69, 39, 'KESHAV', (45+9j), True, 39.69, 39, [1, 2, 3, 4, 5, 6, 7, 8, 9, 10]]\n"
     ]
    },
    {
     "data": {
      "text/plain": [
       "11"
      ]
     },
     "execution_count": 202,
     "metadata": {},
     "output_type": "execute_result"
    }
   ],
   "source": [
    "MixValues[len(MixValues):0] = NestList   # Plugin new elements at the last end position index as indivisual elements\n",
    "# EndPlugin = MixValues                  # Plugin nested list() at the last index position\n",
    "print(MixValues)\n",
    "len(MixValues)"
   ]
  },
  {
   "cell_type": "code",
   "execution_count": 203,
   "metadata": {},
   "outputs": [
    {
     "name": "stdout",
     "output_type": "stream",
     "text": [
      "[1, 2, 3, 4, 5, 6, 7, 8, 9, 10]\n"
     ]
    }
   ],
   "source": [
    "print(MixValues[10]) # Shows 10th index element"
   ]
  },
  {
   "cell_type": "code",
   "execution_count": 204,
   "metadata": {},
   "outputs": [
    {
     "name": "stdout",
     "output_type": "stream",
     "text": [
      "[1, 2, 3, 4, 5, 6, 7, 8, 9, 10]\n"
     ]
    }
   ],
   "source": [
    "print(MixValues[-1]) # Shows last index element"
   ]
  },
  {
   "cell_type": "code",
   "execution_count": 205,
   "metadata": {},
   "outputs": [
    {
     "name": "stdout",
     "output_type": "stream",
     "text": [
      "['KESHAV', (45+9j), True, 39.69, 39, 'KESHAV', (45+9j), True, 39.69, 39, [1, 2, 3, 4, 5, 6, 7, 8, 9, 10], 89]\n"
     ]
    }
   ],
   "source": [
    "MixValues[len(MixValues):0] = [89]  # Plugin single element [89] as array at last position\n",
    "print(MixValues)"
   ]
  },
  {
   "cell_type": "code",
   "execution_count": 206,
   "metadata": {},
   "outputs": [
    {
     "name": "stdout",
     "output_type": "stream",
     "text": [
      "['KESHAV', (45+9j), True, 39.69, 39, 'KESHAV', (45+9j), True, 39.69, 39, [1, 2, 3, 4, 5, 6, 7, 8, 9, 10], 89, 'Ghajini']\n"
     ]
    }
   ],
   "source": [
    "MixValues[len(MixValues):0] = [\"Ghajini\"]               # Plugin string as an single array element\n",
    "print(MixValues)"
   ]
  },
  {
   "cell_type": "code",
   "execution_count": 207,
   "metadata": {},
   "outputs": [
    {
     "name": "stdout",
     "output_type": "stream",
     "text": [
      "['KESHAV', (45+9j), True, 39.69, 'Michiko', 'KESHAV', (45+9j), True, 39.69, 39, [1, 2, 3, 4, 5, 6, 7, 8, 9, 10], 89, 'Ghajini']\n"
     ]
    }
   ],
   "source": [
    "MixValues[4] = \"Michiko\" # 4th index element 39 got replaced by \"Michiko\"\n",
    "print(MixValues)"
   ]
  },
  {
   "cell_type": "code",
   "execution_count": 208,
   "metadata": {},
   "outputs": [
    {
     "name": "stdout",
     "output_type": "stream",
     "text": [
      "['KESHAV', (45+9j), True, 39.69, 'Michiko', 'KESHAV', (45+9j), True, 39.69, 39, [1, 2, 3, 4, 5, 6, 7, 8, 9, 10], 89, 'Ghajini', 'Zoom', 45]\n"
     ]
    }
   ],
   "source": [
    "MixValues[len(MixValues):0] = \"Zoom\", 45                # At the end position plugin \"Zoom\", 45\n",
    "print(MixValues)"
   ]
  },
  {
   "cell_type": "code",
   "execution_count": 209,
   "metadata": {},
   "outputs": [
    {
     "name": "stdout",
     "output_type": "stream",
     "text": [
      "['KESHAV', (45+9j), True, 39.69, '4th Index', 'Michiko', 'KESHAV', (45+9j), True, 39.69, 39, [1, 2, 3, 4, 5, 6, 7, 8, 9, 10], 89, 'Ghajini', 'Zoom', 45]\n"
     ]
    }
   ],
   "source": [
    "MixValues[4:0] = [\"4th Index\"]\n",
    "print(MixValues)             # string \"4th Index\" got pluggedin at the place of 4th index position as array"
   ]
  },
  {
   "cell_type": "code",
   "execution_count": 210,
   "metadata": {},
   "outputs": [
    {
     "name": "stdout",
     "output_type": "stream",
     "text": [
      "['KESHAV', 'Zoom', 'KESHAV', True, 'Ghajini', 45, (45+9j), '4th Index', 39.69, 39.69, 89, [1, 2, 3, 4, 5, 6, 7, 8, 9, 10], 39, 'Michiko', (45+9j), True]\n",
      "[39.69, '4th Index', 'Michiko', 39.69, True, True, 'KESHAV', 39, (45+9j), 89, 'KESHAV', (45+9j), [1, 2, 3, 4, 5, 6, 7, 8, 9, 10], 'Ghajini', 'Zoom', 45]\n"
     ]
    }
   ],
   "source": [
    "import random\n",
    "\n",
    "RandSamList = random.sample(population=MixValues, k=len(MixValues))  # random sampling of list() MixValues. RandSamList is variable\n",
    "print(RandSamList)\n",
    "\n",
    "random.shuffle(RandSamList)  # shuffle the RandSamList elements randomly\n",
    "print(RandSamList)"
   ]
  },
  {
   "cell_type": "code",
   "execution_count": 211,
   "metadata": {},
   "outputs": [
    {
     "name": "stdout",
     "output_type": "stream",
     "text": [
      "[1, 2, 3, 4, 5, 6, 7, 8, 9, 10]\n"
     ]
    }
   ],
   "source": [
    "# Creation of list ---- [] (inside square brackets)\n",
    "# Homogenous list ----- list following only one datatype integer\n",
    "\n",
    "List1 = [1, 2, 3, 4, 5, 6, 7, 8, 9, 10]\n",
    "print(List1)"
   ]
  },
  {
   "cell_type": "code",
   "execution_count": 212,
   "metadata": {},
   "outputs": [
    {
     "data": {
      "text/plain": [
       "(10, 10, 16, 6)"
      ]
     },
     "execution_count": 212,
     "metadata": {},
     "output_type": "execute_result"
    }
   ],
   "source": [
    "# len() function tells about how many number of elements a variable/List have\n",
    "len(List1), len(Homo1), len(MixValues), len(NestList)"
   ]
  },
  {
   "cell_type": "code",
   "execution_count": 213,
   "metadata": {},
   "outputs": [
    {
     "name": "stdout",
     "output_type": "stream",
     "text": [
      "[10.1, 'Prashant', (10+10j), False, 10]\n",
      "['KESHAV', (45+9j), True, 39.69, 39]\n"
     ]
    },
    {
     "data": {
      "text/plain": [
       "(5, 5)"
      ]
     },
     "execution_count": 213,
     "metadata": {},
     "output_type": "execute_result"
    }
   ],
   "source": [
    "# List with heterogenous datatype elements\n",
    "# Heterogenous list ---- list following multiple different datatype elements\n",
    "\n",
    "Hetero1 = [10.10, 'Prashant', 10+10j, False, 10]\n",
    "Hetero2 = [\"KESHAV\", 45+9j, True, 39.69, 39]\n",
    "print(Hetero1)\n",
    "print(Hetero2)\n",
    "len(Hetero1), len(Hetero2)"
   ]
  },
  {
   "cell_type": "code",
   "execution_count": 214,
   "metadata": {},
   "outputs": [
    {
     "name": "stdout",
     "output_type": "stream",
     "text": [
      "[10.1, 'Prashant', (10+10j), False, 10, 'KESHAV', (45+9j), True, 39.69, 39]\n"
     ]
    },
    {
     "data": {
      "text/plain": [
       "(list, 10)"
      ]
     },
     "execution_count": 214,
     "metadata": {},
     "output_type": "execute_result"
    }
   ],
   "source": [
    "# Concatination of two lists Elements\n",
    "Hetero3 = Hetero1 + Hetero2\n",
    "print(Hetero3)\n",
    "type(Hetero3), len(Hetero3)"
   ]
  },
  {
   "cell_type": "markdown",
   "metadata": {},
   "source": [
    "### List Indexing"
   ]
  },
  {
   "cell_type": "code",
   "execution_count": 215,
   "metadata": {},
   "outputs": [
    {
     "name": "stdout",
     "output_type": "stream",
     "text": [
      "10.1 Prashant (10+10j) False 10\n"
     ]
    },
    {
     "data": {
      "text/plain": [
       "(float, str, complex, bool, int)"
      ]
     },
     "execution_count": 215,
     "metadata": {},
     "output_type": "execute_result"
    }
   ],
   "source": [
    "# provide index locations of the elements and you will get the element datatypes\n",
    "\n",
    "print(Hetero3[0], Hetero3[1], Hetero3[2], Hetero3[3], Hetero3[4])\n",
    "type(Hetero3[0]), type(Hetero3[1]), type(Hetero3[2]), type(Hetero3[3]), type(Hetero3[4]) # Shows data types of each index"
   ]
  },
  {
   "cell_type": "code",
   "execution_count": 216,
   "metadata": {},
   "outputs": [
    {
     "name": "stdout",
     "output_type": "stream",
     "text": [
      "10\n"
     ]
    },
    {
     "data": {
      "text/plain": [
       "int"
      ]
     },
     "execution_count": 216,
     "metadata": {},
     "output_type": "execute_result"
    }
   ],
   "source": [
    "# Lets say you want to access single or multiple elements from the list \n",
    "# List1 --- Accessing Single Element\n",
    "# To extract element in the list you will be using indexes Location\n",
    "\n",
    "print(Hetero3[4])\n",
    "type(Hetero3[4]) # Shows the 4th index element"
   ]
  },
  {
   "cell_type": "code",
   "execution_count": 217,
   "metadata": {},
   "outputs": [
    {
     "name": "stdout",
     "output_type": "stream",
     "text": [
      "(10+10j) 10\n"
     ]
    }
   ],
   "source": [
    "print(Hetero3[2], Hetero3[4]) #shows 2nd and 4th index elements"
   ]
  },
  {
   "cell_type": "code",
   "execution_count": 218,
   "metadata": {},
   "outputs": [
    {
     "ename": "TypeError",
     "evalue": "list indices must be integers or slices, not tuple",
     "output_type": "error",
     "traceback": [
      "\u001b[0;31m---------------------------------------------------------------------------\u001b[0m",
      "\u001b[0;31mTypeError\u001b[0m                                 Traceback (most recent call last)",
      "Cell \u001b[0;32mIn[218], line 1\u001b[0m\n\u001b[0;32m----> 1\u001b[0m \u001b[43mHetero3\u001b[49m\u001b[43m[\u001b[49m\u001b[38;5;241;43m2\u001b[39;49m\u001b[43m,\u001b[49m\u001b[38;5;241;43m4\u001b[39;49m\u001b[43m]\u001b[49m \u001b[38;5;66;03m# Multiple/Advanced indexing doesnt work here with List, it works with Arrays\u001b[39;00m\n\u001b[1;32m      2\u001b[0m Hetero3[[\u001b[38;5;241m2\u001b[39m,\u001b[38;5;241m4\u001b[39m]]\n\u001b[1;32m      3\u001b[0m Hetero3[[\u001b[38;5;241m2\u001b[39m],[\u001b[38;5;241m4\u001b[39m]]\n",
      "\u001b[0;31mTypeError\u001b[0m: list indices must be integers or slices, not tuple"
     ]
    }
   ],
   "source": [
    "Hetero3[2,4] # Multiple/Advanced indexing doesnt work here with List, it works with Arrays\n",
    "Hetero3[[2,4]]\n",
    "Hetero3[[2],[4]]"
   ]
  },
  {
   "cell_type": "code",
   "execution_count": 219,
   "metadata": {},
   "outputs": [
    {
     "ename": "TypeError",
     "evalue": "'bool' object is not subscriptable",
     "output_type": "error",
     "traceback": [
      "\u001b[0;31m---------------------------------------------------------------------------\u001b[0m",
      "\u001b[0;31mTypeError\u001b[0m                                 Traceback (most recent call last)",
      "Cell \u001b[0;32mIn[219], line 5\u001b[0m\n\u001b[1;32m      1\u001b[0m \u001b[38;5;66;03m# In Hetero3 3rd index element is False which is boolian data type\u001b[39;00m\n\u001b[1;32m      2\u001b[0m \u001b[38;5;66;03m# False is not a \"String\" element\u001b[39;00m\n\u001b[1;32m      3\u001b[0m \u001b[38;5;66;03m# 0th index letter of 3rd index element False is not possible\u001b[39;00m\n\u001b[0;32m----> 5\u001b[0m \u001b[43mHetero3\u001b[49m\u001b[43m[\u001b[49m\u001b[38;5;241;43m3\u001b[39;49m\u001b[43m]\u001b[49m\u001b[43m[\u001b[49m\u001b[38;5;241;43m0\u001b[39;49m\u001b[43m]\u001b[49m\n",
      "\u001b[0;31mTypeError\u001b[0m: 'bool' object is not subscriptable"
     ]
    }
   ],
   "source": [
    "# In Hetero3 3rd index element is False which is boolian data type\n",
    "# False is not a \"String\" element\n",
    "# 0th index letter of 3rd index element False is not possible\n",
    "\n",
    "Hetero3[3][0]"
   ]
  },
  {
   "cell_type": "code",
   "execution_count": 220,
   "metadata": {},
   "outputs": [
    {
     "name": "stdout",
     "output_type": "stream",
     "text": [
      "[10.1, 'Prashant', (10+10j), False, 10, 'KESHAV', (45+9j), True, 39.69, 39]\n"
     ]
    },
    {
     "data": {
      "text/plain": [
       "'P'"
      ]
     },
     "execution_count": 220,
     "metadata": {},
     "output_type": "execute_result"
    }
   ],
   "source": [
    "# 1st index of Hetero3 List element \"Prashant\" and 0th index of it is P\n",
    "print(Hetero3)\n",
    "Hetero3[1][0]"
   ]
  },
  {
   "cell_type": "code",
   "execution_count": 221,
   "metadata": {},
   "outputs": [
    {
     "name": "stdout",
     "output_type": "stream",
     "text": [
      "[10.1, 'Prashant', (10+10j), False, 10, 'KESHAV', (45+9j), True, 39.69, 39]\n"
     ]
    },
    {
     "data": {
      "text/plain": [
       "'SA'"
      ]
     },
     "execution_count": 221,
     "metadata": {},
     "output_type": "execute_result"
    }
   ],
   "source": [
    "# 1st index of Hetero3 List element \"Prashant\" and 0th index of it is P\n",
    "print(Hetero3)\n",
    "Hetero3[1][2:5]\n",
    "Hetero3[5][2:5:2] # 5th Index. From 2nd to 5th exclusive Upperbound range element by hopping 2 elements cycle"
   ]
  },
  {
   "cell_type": "code",
   "execution_count": 222,
   "metadata": {},
   "outputs": [
    {
     "data": {
      "text/plain": [
       "(1, 7)"
      ]
     },
     "execution_count": 222,
     "metadata": {},
     "output_type": "execute_result"
    }
   ],
   "source": [
    "Hetero3.index(\"Prashant\"), Hetero3.index(True) #Type the Element data value & you will get the index value of it"
   ]
  },
  {
   "cell_type": "code",
   "execution_count": 223,
   "metadata": {},
   "outputs": [
    {
     "name": "stdout",
     "output_type": "stream",
     "text": [
      "5 8 6\n"
     ]
    }
   ],
   "source": [
    "print(Hetero3.index(\"KESHAV\"), Hetero3.index(39.69), Hetero3.index(45+9j)) #Type the Element data value & you will get the index value of it"
   ]
  },
  {
   "cell_type": "code",
   "execution_count": 224,
   "metadata": {},
   "outputs": [
    {
     "ename": "TypeError",
     "evalue": "slice indices must be integers or have an __index__ method",
     "output_type": "error",
     "traceback": [
      "\u001b[0;31m---------------------------------------------------------------------------\u001b[0m",
      "\u001b[0;31mTypeError\u001b[0m                                 Traceback (most recent call last)",
      "Cell \u001b[0;32mIn[224], line 3\u001b[0m\n\u001b[1;32m      1\u001b[0m \u001b[38;5;66;03m# One element index at a time should be taken, multiple elements are not allowed\u001b[39;00m\n\u001b[0;32m----> 3\u001b[0m \u001b[43mHetero3\u001b[49m\u001b[38;5;241;43m.\u001b[39;49m\u001b[43mindex\u001b[49m\u001b[43m(\u001b[49m\u001b[38;5;124;43m\"\u001b[39;49m\u001b[38;5;124;43mKESHAV\u001b[39;49m\u001b[38;5;124;43m\"\u001b[39;49m\u001b[43m,\u001b[49m\u001b[43m \u001b[49m\u001b[38;5;124;43m\"\u001b[39;49m\u001b[38;5;124;43mPrashant\u001b[39;49m\u001b[38;5;124;43m\"\u001b[39;49m\u001b[43m)\u001b[49m            \u001b[38;5;66;03m#It doesn't work with Multiple elements at a time\u001b[39;00m\n\u001b[1;32m      4\u001b[0m Hetero3\u001b[38;5;241m.\u001b[39mindex([\u001b[38;5;124m\"\u001b[39m\u001b[38;5;124mKESHAV\u001b[39m\u001b[38;5;124m\"\u001b[39m, \u001b[38;5;124m\"\u001b[39m\u001b[38;5;124mPrashant\u001b[39m\u001b[38;5;124m\"\u001b[39m])\n\u001b[1;32m      5\u001b[0m Hetero3\u001b[38;5;241m.\u001b[39mindex([\u001b[38;5;124m\"\u001b[39m\u001b[38;5;124mKESHAV\u001b[39m\u001b[38;5;124m\"\u001b[39m], [\u001b[38;5;124m\"\u001b[39m\u001b[38;5;124mPrashant\u001b[39m\u001b[38;5;124m\"\u001b[39m])\n",
      "\u001b[0;31mTypeError\u001b[0m: slice indices must be integers or have an __index__ method"
     ]
    }
   ],
   "source": [
    "# One element index at a time should be taken, multiple elements are not allowed\n",
    "\n",
    "Hetero3.index(\"KESHAV\", \"Prashant\")            #It doesn't work with Multiple elements at a time\n",
    "Hetero3.index([\"KESHAV\", \"Prashant\"])\n",
    "Hetero3.index([\"KESHAV\"], [\"Prashant\"])"
   ]
  },
  {
   "cell_type": "code",
   "execution_count": 225,
   "metadata": {},
   "outputs": [
    {
     "name": "stdout",
     "output_type": "stream",
     "text": [
      "Prashant (10+10j) False\n",
      "['Prashant', (10+10j), False]\n",
      "[10.1, 'Prashant', (10+10j), False, 10, 'KESHAV', (45+9j), True, 39.69, 39]\n"
     ]
    }
   ],
   "source": [
    "print(Hetero3[1], Hetero3[2], Hetero3[3]) #shows 1st, 2nd and 3rd index elements\n",
    "print(Hetero3[1:4]) #shows from 1st to 4th exclusive upperbound range elements\n",
    "print(Hetero3)"
   ]
  },
  {
   "cell_type": "code",
   "execution_count": 226,
   "metadata": {},
   "outputs": [
    {
     "name": "stdout",
     "output_type": "stream",
     "text": [
      "[10.1, 'Prashant', (10+10j), False, 10, 'KESHAV', (45+9j), True, 39.69, 39]\n"
     ]
    },
    {
     "data": {
      "text/plain": [
       "[(10+10j), False, 10]"
      ]
     },
     "execution_count": 226,
     "metadata": {},
     "output_type": "execute_result"
    }
   ],
   "source": [
    "# To Extract the series of elements from a list or any other variable provide index range inside [:]\n",
    "# [start_index:upperbound] -----> where upperbound = end_index + 1\n",
    "\n",
    "print(Hetero3)\n",
    "Hetero3[2:5] # shows from 2nd to 5th exclusive upperbound range elements"
   ]
  },
  {
   "cell_type": "code",
   "execution_count": 227,
   "metadata": {},
   "outputs": [
    {
     "name": "stdout",
     "output_type": "stream",
     "text": [
      "[(10+10j), 10, (45+9j), 39.69]\n"
     ]
    }
   ],
   "source": [
    "print(Hetero3[2:len(Hetero3):2])   # print from 2nd to excluding upperbound length index by skipping 2 elements cycle"
   ]
  },
  {
   "cell_type": "code",
   "execution_count": 228,
   "metadata": {},
   "outputs": [
    {
     "name": "stdout",
     "output_type": "stream",
     "text": [
      "[(10+10j), 10, (45+9j), 39.69]\n"
     ]
    }
   ],
   "source": [
    "print(Hetero3[2::2])"
   ]
  },
  {
   "cell_type": "markdown",
   "metadata": {},
   "source": [
    "### Perform Insert, Remove & Replace task at a time"
   ]
  },
  {
   "cell_type": "code",
   "execution_count": 229,
   "metadata": {},
   "outputs": [
    {
     "name": "stdout",
     "output_type": "stream",
     "text": [
      "[10.1, 'Prashant', (10+10j), False, 10, 'KESHAV', (45+9j), True, 39.69, 39]\n"
     ]
    },
    {
     "data": {
      "text/plain": [
       "(list, 10)"
      ]
     },
     "execution_count": 229,
     "metadata": {},
     "output_type": "execute_result"
    }
   ],
   "source": [
    "Hetero3 = [10.1, \"Prashant\", 10+10j, False, 10, \"KESHAV\", 45+9j, True, 39.69, 39]\n",
    "print(Hetero3)\n",
    "type(Hetero3), len(Hetero3)"
   ]
  },
  {
   "cell_type": "code",
   "execution_count": 230,
   "metadata": {},
   "outputs": [
    {
     "name": "stdout",
     "output_type": "stream",
     "text": [
      "[(45+9j), 'KESHAV', 39, 'Prashant', 10.1, 10, False, True, 39.69, (10+10j)]\n",
      "[39.69, (10+10j), False, True, 10, 39, 'KESHAV', 10.1, 'Prashant', (45+9j)]\n"
     ]
    }
   ],
   "source": [
    "#Hetero3.sort()\n",
    "#print(Hetero3)\n",
    "import random\n",
    "\n",
    "RandSam = random.sample(Hetero3, k=len(Hetero3))       # Random sample size of same length without repeatation\n",
    "print(RandSam)\n",
    "\n",
    "random.shuffle(Hetero3)            # Randomly shuffle the Hetero3 elements\n",
    "print(Hetero3)"
   ]
  },
  {
   "cell_type": "code",
   "execution_count": 51,
   "metadata": {},
   "outputs": [
    {
     "name": "stdout",
     "output_type": "stream",
     "text": [
      "[10.1, False, 10, True, 39.69, 39]\n",
      "[False, True, 10, 10.1, 39, 39.69]\n",
      "['B', '1', 'a', 'D', 'c', 'A', 'C', '3', 'b', '2', '4', 'd']\n",
      "['1', '2', '3', '4', 'A', 'B', 'C', 'D', 'a', 'b', 'c', 'd']\n"
     ]
    }
   ],
   "source": [
    "Listu = [10.1, False, 10, True, 39.69, 39]\n",
    "print(Listu)\n",
    "Listu.sort()   # List.sort() works with integer, float & boolean type of datas\n",
    "print(Listu)\n",
    "\n",
    "Listring = [\"B\", \"1\", \"a\", \"D\", \"c\", \"A\", \"C\", \"3\", \"b\", \"2\", \"4\", \"d\"]\n",
    "print(Listring)\n",
    "Listring.sort() # List1 has been sort() and sequence are integer -> Uppercase -> Lowercase when all elements are string\n",
    "print(Listring)\n",
    "# sorted(Splitter)\n",
    "# random.shuffle(Splitter)"
   ]
  },
  {
   "cell_type": "code",
   "execution_count": 52,
   "metadata": {},
   "outputs": [
    {
     "name": "stdout",
     "output_type": "stream",
     "text": [
      "['B', '1', 'a', 'D', 'c', 'A', 'C', '3', 'b', '2', '4', 'd']\n",
      "['1', '2', '3', '4', 'A', 'B', 'C', 'D', 'a', 'b', 'c', 'd']\n"
     ]
    }
   ],
   "source": [
    "ListR = [\"B\", \"1\", \"a\", \"D\", \"c\", \"A\", \"C\", \"3\", \"b\", \"2\", \"4\", \"d\"]\n",
    "print(ListR)\n",
    "New_ListR = sorted(ListR)  # sorted(ListR) has been saved into another New_ListR variable\n",
    "print(New_ListR)"
   ]
  },
  {
   "cell_type": "code",
   "execution_count": 58,
   "metadata": {},
   "outputs": [
    {
     "name": "stdout",
     "output_type": "stream",
     "text": [
      "['4', 'a', 'D', '3', 'c', 'b', 'C', '1', 'd', '2', 'A', 'B']\n"
     ]
    }
   ],
   "source": [
    "random.shuffle(ListR) # ListR elements got shuffled randomly\n",
    "print(ListR)"
   ]
  },
  {
   "cell_type": "code",
   "execution_count": 235,
   "metadata": {},
   "outputs": [
    {
     "name": "stdout",
     "output_type": "stream",
     "text": [
      "[39.69, (10+10j), False, True, 10, 39, 'KESHAV', 10.1, 'Prashant', (45+9j)]\n",
      "False\n",
      "(33+19j)\n",
      "[39.69, (10+10j), (33+19j), 'Khoja', 'Goja', True, True, 10, 39, 'KESHAV', 10.1, 'Prashant', (45+9j)]\n",
      "[39.69, (10+10j), 'Plugin', 'New', '3Elements', (33+19j), 'Khoja', 'Goja', True, True, 10, 39, 'KESHAV', 10.1, 'Prashant', (45+9j)]\n"
     ]
    }
   ],
   "source": [
    "# Perform Change/Replace a List element value with new one\n",
    "# Provide index value [] = provide new value\n",
    "\n",
    "print(Hetero3)\n",
    "print(Hetero3[2])\n",
    "Hetero3[2] = True                            # 2nd index element 10+10j got replaced by True\n",
    "Hetero3[2:0] = 33+19j, \"Khoja\", \"Goja\"          # Plugin 3 new indivisual elements at the place of 2nd index\n",
    "print(Hetero3[2])\n",
    "print(Hetero3)\n",
    "type(Hetero3)\n",
    "\n",
    "Hetero3[2:0] = \"Plugin\", \"New\", \"3Elements\"   # Plugin 3 new indivisual elements at the place of 2nd index element 33+19j\n",
    "print(Hetero3)"
   ]
  },
  {
   "cell_type": "code",
   "execution_count": 236,
   "metadata": {},
   "outputs": [
    {
     "name": "stdout",
     "output_type": "stream",
     "text": [
      "[39.69, (10+10j), 'Plugin', 'New', (93+19j), '3Elements', (33+19j), 'Khoja', 'Goja', True, True, 10, 39, 'KESHAV', 10.1, 'Prashant', (45+9j)]\n"
     ]
    }
   ],
   "source": [
    "Hetero3[4:0] = [93+19j] # Plugging single element 93+19j as array\n",
    "print(Hetero3)"
   ]
  },
  {
   "cell_type": "code",
   "execution_count": 237,
   "metadata": {},
   "outputs": [
    {
     "name": "stdout",
     "output_type": "stream",
     "text": [
      "[39.69, (10+10j), 'Plugin', 'New', (93+19j), '3Elements', (33+19j), 'Khoja', 'Goja', True, True, 10, 39, 'KESHAV', 10.1, 'Prashant', (45+9j)]\n",
      "[39.69, (10+10j), 'Plugin', 75, (78+7j), 45.98, (93+19j), '3Elements', (33+19j), 'Khoja', 'Goja', True, True, 10, 39, 'KESHAV', 10.1, 'Prashant', (45+9j)]\n"
     ]
    }
   ],
   "source": [
    "print(Hetero3)\n",
    "Hetero3[3:4] = 75, 78+7j, 45.98       # 3rd index element 'New' got replaced by 75, 48+7j, 45.98\n",
    "print(Hetero3)"
   ]
  },
  {
   "cell_type": "code",
   "execution_count": 238,
   "metadata": {},
   "outputs": [
    {
     "name": "stdout",
     "output_type": "stream",
     "text": [
      "[39.69, (10+10j), 'Plugin', 75, (78+7j), 45.98, (93+19j), '3Elements', (33+19j), 'Khoja', 'Goja', True, True, 10, 39, 'KESHAV', 10.1, 'Prashant', (45+9j)]\n",
      "[39.69, (10+10j), 'Plugin', 45, '3Elements', (33+19j), 'Khoja', 'Goja', True, True, 10, 39, 'KESHAV', 10.1, 'Prashant', (45+9j)]\n"
     ]
    }
   ],
   "source": [
    "print(Hetero3)\n",
    "Hetero3[3:7] = [45]   # In this case from 3 to 7 exclusive upperbound index elements got replaced by 45 as an array\n",
    "print(Hetero3)        # From 3rd index element to 7th exclusive upperbound index elements got replaced by 45"
   ]
  },
  {
   "cell_type": "code",
   "execution_count": 239,
   "metadata": {},
   "outputs": [
    {
     "name": "stdout",
     "output_type": "stream",
     "text": [
      "[39.69, (10+10j), 'Plugin', 45, '3Elements', (33+19j), 'Khoja', 'Goja', True, True, 10, 39, 'KESHAV', 10.1, 'Prashant', (45+9j)]\n",
      "[39.69, (10+10j), 'Plugin', 99, (67.89-8j), 'Goja', True, True, 10, 39, 'KESHAV', 10.1, 'Prashant', (45+9j)]\n"
     ]
    }
   ],
   "source": [
    "print(Hetero3)\n",
    "Hetero3[3:7] = 99, 67.89-8j # From index 3 to 7 exclusive uppedbound index elements got replaced by 99, 67.89-8j\n",
    "print(Hetero3)"
   ]
  },
  {
   "cell_type": "code",
   "execution_count": 240,
   "metadata": {},
   "outputs": [
    {
     "name": "stdout",
     "output_type": "stream",
     "text": [
      "['Plugin', 99, (67.89-8j)]\n",
      "[(30+30j), True, 'Naruto']\n",
      "[39.69, (10+10j), (30+30j), True, 'Naruto', 'Goja', True, True, 10, 39, 'KESHAV', 10.1, 'Prashant', (45+9j)]\n"
     ]
    },
    {
     "data": {
      "text/plain": [
       "14"
      ]
     },
     "execution_count": 240,
     "metadata": {},
     "output_type": "execute_result"
    }
   ],
   "source": [
    "# Perform Change/Replace & Insert in a List element values with new values\n",
    "# Provide index value range [:] = provide Replace value, provide Insert value\n",
    "# 2nd index element 20+20j has been replace by 30+30j\n",
    "# True has got Inserted/placed between 2nd index (30+30j) & 4th index (False) elements\n",
    "# True has got Inserted/placed/has taken at 3rd index position/location\n",
    "# Now total no of elements in the list Hetero3 is 11, got increased by 1 element\n",
    "\n",
    "print(Hetero3[2:5])\n",
    "Hetero3[2:5] = 30+30j, True, \"Naruto\"   # 2nd, 3rd & 4th index elements got replaced by 30+30j, True, \"Naruto\"\n",
    "print(Hetero3[2:5])\n",
    "print(Hetero3)\n",
    "len(Hetero3)"
   ]
  },
  {
   "cell_type": "code",
   "execution_count": 241,
   "metadata": {},
   "outputs": [
    {
     "name": "stdout",
     "output_type": "stream",
     "text": [
      "[39.69, (10+10j), (30+30j), True, 'Naruto', 'Goja', True, True, 10, 39, 'KESHAV', 10.1, 'Prashant', (45+9j)]\n",
      "[39.69, (10+10j), (30+30j), True, ('Reymundo', (78+9j)), 'Goja', True, True, 10, 39, 'KESHAV', 10.1, 'Prashant', (45+9j)]\n"
     ]
    },
    {
     "data": {
      "text/plain": [
       "(complex, tuple)"
      ]
     },
     "execution_count": 241,
     "metadata": {},
     "output_type": "execute_result"
    }
   ],
   "source": [
    "print(Hetero3)\n",
    "Hetero3[4] = \"Reymundo\", 78+9j # Index 4 'Naruto' has been replaced by \"Reymundo\", 78+9j\n",
    "print(Hetero3)\n",
    "type(Hetero3[2]), type(Hetero3[4])"
   ]
  },
  {
   "cell_type": "code",
   "execution_count": 242,
   "metadata": {},
   "outputs": [
    {
     "name": "stdout",
     "output_type": "stream",
     "text": [
      "[39.69, (10+10j), (30+30j), True, ('Reymundo', (78+9j)), 'Goja', True, True, 10, 39, 'KESHAV', 10.1, 'Prashant', (45+9j)]\n",
      "('Reymundo', (78+9j))\n",
      "[39.69, (10+10j), (30+30j), True, ('Reymundo', (78+9j)), 'Pikachu', True, True, 10, 39, 'KESHAV', 10.1, 'Prashant', (45+9j)]\n"
     ]
    }
   ],
   "source": [
    "print(Hetero3)\n",
    "print(Hetero3[4])\n",
    "Hetero3[5] = \"Pikachu\" # 5th index element True has been replaced by \"Pikachu\"\n",
    "print(Hetero3)"
   ]
  },
  {
   "cell_type": "code",
   "execution_count": 243,
   "metadata": {},
   "outputs": [
    {
     "name": "stdout",
     "output_type": "stream",
     "text": [
      "[39.69, (10+10j), (30+30j), True, ('Reymundo', (78+9j)), 'Pikachu', True, True, 10, 39, 'KESHAV', 10.1, 'Prashant', (45+9j)]\n",
      "[39.69, (10+10j), (30+30j), 'Vinod', 'Sharma', 'Pikachu', True, True, 10, 39, 'KESHAV', 10.1, 'Prashant', (45+9j)]\n"
     ]
    }
   ],
   "source": [
    "print(Hetero3)\n",
    "Hetero3[3:5] = \"Vinod\", \"Sharma\" # 3rd & 4th index elements has been replaced by \"Vinod\", \"Sharma\"\n",
    "print(Hetero3)"
   ]
  },
  {
   "cell_type": "code",
   "execution_count": 244,
   "metadata": {},
   "outputs": [
    {
     "name": "stdout",
     "output_type": "stream",
     "text": [
      "[39.69, (10+10j), (30+30j), 'Vinod', 'Sharma', 'Pikachu', True, True, 10, 39, 'KESHAV', 10.1, 'Prashant', (45+9j)]\n",
      "[39.69, (10+10j), (30+30j), 'Vinod', 'Suraj', True, True, 10, 39, 'KESHAV', 10.1, 'Prashant', (45+9j)]\n"
     ]
    }
   ],
   "source": [
    "print(Hetero3)\n",
    "Hetero3[4:6] = [\"Suraj\"]\n",
    "print(Hetero3)              # 4th & 5th Index element got replaced by single element \"Suraj\" as an array"
   ]
  },
  {
   "cell_type": "code",
   "execution_count": 245,
   "metadata": {},
   "outputs": [
    {
     "name": "stdout",
     "output_type": "stream",
     "text": [
      "[39.69, (10+10j), (30+30j), 'Vinod', 'Suraj', True, True, 10, 39, 'KESHAV', 10.1, 'Prashant', (45+9j)]\n",
      "[39.69, (10+10j), (30+30j), ('Health', 56, 78.57), 'Suraj', True, True, 10, 39, 'KESHAV', 10.1, 'Prashant', (45+9j)]\n"
     ]
    },
    {
     "data": {
      "text/plain": [
       "(complex, tuple)"
      ]
     },
     "execution_count": 245,
     "metadata": {},
     "output_type": "execute_result"
    }
   ],
   "source": [
    "print(Hetero3)\n",
    "Hetero3[3] = \"Health\", 56, 78.57 # 3rd index element 'Vinod' has been replaced by \"Health\", 56, 78.57\n",
    "print(Hetero3)\n",
    "type(Hetero3[2]), type(Hetero3[3])"
   ]
  },
  {
   "cell_type": "code",
   "execution_count": 246,
   "metadata": {},
   "outputs": [
    {
     "name": "stdout",
     "output_type": "stream",
     "text": [
      "[(33+7j), 'Tandav', 55, 87.99, True, False, 10.7, 88]\n",
      "[55, 87.99, True]\n",
      "[77, 'Pixie', 'Hexie']\n",
      "[(33+7j), 'Tandav', 77, 'Pixie', 'Hexie', 55, 87.99, True, False, 10.7, 88]\n",
      "['Hexie', 55, 87.99, True]\n",
      "['OOP', 33, 'Cubix', 'Latex']\n",
      "[(33+7j), 'Tandav', 77, 'Pixie', 'OOP', 33, 'Cubix', 'Latex', 'Hexie', 55, 87.99, True, False, 10.7, 88]\n"
     ]
    }
   ],
   "source": [
    "Hetero5 = [33+7j, \"Tandav\", 55, 87.99, True, False, 10.7, 88]\n",
    "print(Hetero5)\n",
    "\n",
    "print(Hetero5[2:5])\n",
    "Hetero5[2:0] = 77, \"Pixie\", \"Hexie\"                         # Plugin 77, \"Pixie\", \"Hexie at the place of 2nd index\n",
    "print(Hetero5[2:5])\n",
    "print(Hetero5)\n",
    "\n",
    "print(Hetero5[4:8])\n",
    "Hetero5[4:0] = \"OOP\", 33, \"Cubix\", \"Latex\"                  # Plugin \"OOP\", 33, \"Cubix\", \"Latex\" at the place of 4th index\n",
    "print(Hetero5[4:8])\n",
    "print(Hetero5)"
   ]
  },
  {
   "cell_type": "code",
   "execution_count": 247,
   "metadata": {},
   "outputs": [
    {
     "name": "stdout",
     "output_type": "stream",
     "text": [
      "[(33+7j), 'Tandav', 77, 'Pixie', 'OOP', 33, 'Cubix', 'Latex', 'Hexie', 55, 87.99, True, False, 10.7, 88]\n",
      "[77, 'Pixie', 'OOP']\n",
      "['Two', 'Five', 33]\n",
      "[(33+7j), 'Tandav', 'Two', 'Five', 33, 'Cubix', 'Latex', 'Hexie', 55, 87.99, True, False, 10.7, 88]\n"
     ]
    }
   ],
   "source": [
    "print(Hetero5)\n",
    "print(Hetero5[2:5])\n",
    "Hetero5[2:5] = \"Two\", \"Five\" # Replace 2nd to 5th exclusive upperbound range elements with \"Two\", \"Five\"\n",
    "print(Hetero5[2:5])\n",
    "print(Hetero5)"
   ]
  },
  {
   "cell_type": "code",
   "execution_count": 248,
   "metadata": {},
   "outputs": [
    {
     "name": "stdout",
     "output_type": "stream",
     "text": [
      "[39.69, (10+10j), (30+30j), ('Health', 56, 78.57), 'Suraj', True, True, 10, 39, 'KESHAV', 10.1, 'Prashant', (45+9j)]\n",
      "[39, 'KESHAV', 10.1]\n",
      "[40, 'Morphine', 'Prashant']\n",
      "[39.69, (10+10j), (30+30j), ('Health', 56, 78.57), 'Suraj', True, True, 10, 40, 'Morphine', 'Prashant', (45+9j)]\n"
     ]
    },
    {
     "data": {
      "text/plain": [
       "(list, 12)"
      ]
     },
     "execution_count": 248,
     "metadata": {},
     "output_type": "execute_result"
    }
   ],
   "source": [
    "# Perform Change/Replace & Insert in a List element values with new values\n",
    "# Provide index value range [:] = provide Replace value, provide Insert value\n",
    "# Between 8th index element \"KESHAV\" & exclusive upperbound 11th index element 39.69 all elements (3 elements) got removed/killed by 40, \"Morphine\"\n",
    "# Now total no of elements in the list Hetero3 is 12\n",
    "print(Hetero3)\n",
    "print(Hetero3[8:11])\n",
    "Hetero3[8:11] = 40, \"Morphine\"    # Replace 8th to exclusive upperbound 11th exclusive upperbound range elements with 40, \"Morphine\"\n",
    "print(Hetero3[8:11])\n",
    "print(Hetero3)\n",
    "type(Hetero3), len(Hetero3)"
   ]
  },
  {
   "cell_type": "code",
   "execution_count": 249,
   "metadata": {},
   "outputs": [
    {
     "name": "stdout",
     "output_type": "stream",
     "text": [
      "[(30+30j), ('Health', 56, 78.57), 'Suraj', True, True, 10, 40]\n",
      "[(40+40j), 'John-Wick', 'Morphine', 'Prashant']\n"
     ]
    },
    {
     "data": {
      "text/plain": [
       "([39.69, (10+10j), (40+40j), 'John-Wick', 'Morphine', 'Prashant', (45+9j)], 7)"
      ]
     },
     "execution_count": 249,
     "metadata": {},
     "output_type": "execute_result"
    }
   ],
   "source": [
    "# Perform Change/Replace,Insert & Remove in a List element values with new values\n",
    "# Provide index value range [:]= provide Replace value, provide Insert value\n",
    "# 2nd index element 30+30j has been replace by 40+40j\n",
    "# Between 2nd index element (40+40j) & 9th index element (39) all elements (6 elements) got removed/killed by \"John-Wick\"\n",
    "# Now total no of elements in the list Hetero3 is 5\n",
    "print(Hetero3[2:9])\n",
    "Hetero3[2:9] = 40+40j, \"John-Wick\"   # Replace 2nd to 9th exclusive upperbound range elements with 40+40j, \"John-Wick\"\n",
    "print(Hetero3[2:6])\n",
    "Hetero3, len(Hetero3)"
   ]
  },
  {
   "cell_type": "code",
   "execution_count": 64,
   "metadata": {},
   "outputs": [
    {
     "name": "stdout",
     "output_type": "stream",
     "text": [
      "(10+10j)\n",
      "(20+20j)\n",
      "[10.1, 'Prashant', (20+20j), False, 10, 'KESHAV', (45+9j), True, 39.69, 39]\n"
     ]
    }
   ],
   "source": [
    "# List is mutable variable, you can add, remove, insert, swap, shuffle & replace elements of List\n",
    "\n",
    "Hetero3 = [10.1, \"Prashant\", 10+10j, False, 10, \"KESHAV\", 45+9j, True, 39.69, 39]\n",
    "print(Hetero3[2])\n",
    "Hetero3[2] = 20+20j\n",
    "print(Hetero3[2])\n",
    "print(Hetero3)           # 2nd index element 10+10j has been replaced by 20+20j"
   ]
  },
  {
   "cell_type": "code",
   "execution_count": 65,
   "metadata": {},
   "outputs": [
    {
     "name": "stdout",
     "output_type": "stream",
     "text": [
      "[10.1, 'Prashant', (20+20j), False, 10, 'KESHAV', (45+9j), True, 39.69, 39, ['Theta']]\n"
     ]
    }
   ],
   "source": [
    "Hetero3.append([\"Theta\"]) #append in List[] format at the end position\n",
    "print(Hetero3)"
   ]
  },
  {
   "cell_type": "code",
   "execution_count": 66,
   "metadata": {},
   "outputs": [
    {
     "name": "stdout",
     "output_type": "stream",
     "text": [
      "[10.1, 'Prashant', (20+20j), False, 10, 'KESHAV', (45+9j), True, 39.69, 39, ['Theta'], ['Alpha', 'Beta', 'Gamma']]\n"
     ]
    }
   ],
   "source": [
    "Hetero3.append([\"Alpha\", \"Beta\", \"Gamma\"]) #append in List[] format at the end position\n",
    "print(Hetero3)"
   ]
  },
  {
   "cell_type": "code",
   "execution_count": 67,
   "metadata": {},
   "outputs": [
    {
     "name": "stdout",
     "output_type": "stream",
     "text": [
      "[10.1, 'Prashant', (20+20j), False, [(89-7j), 56, 78.99, True, False], 10, 'KESHAV', (45+9j), True, 39.69, 39, ['Theta'], ['Alpha', 'Beta', 'Gamma']]\n"
     ]
    }
   ],
   "source": [
    "Hetero3.insert(4, [89-7j, 56, 78.99, True, False]) # Plugin new elements in List[] format at the place of mentioned index\n",
    "print(Hetero3)"
   ]
  },
  {
   "cell_type": "code",
   "execution_count": 68,
   "metadata": {},
   "outputs": [
    {
     "name": "stdout",
     "output_type": "stream",
     "text": [
      "[10.1, 'Prashant', (20+20j), ['3'], False, [(89-7j), 56, 78.99, True, False], 10, 'KESHAV', (45+9j), True, 39.69, 39, ['Theta'], ['Alpha', 'Beta', 'Gamma']]\n"
     ]
    }
   ],
   "source": [
    "Hetero3.insert(3, [\"3\"]) # Plugin new elements in List[] format at the place of mentioned index\n",
    "print(Hetero3)"
   ]
  },
  {
   "cell_type": "code",
   "execution_count": 69,
   "metadata": {},
   "outputs": [
    {
     "name": "stdout",
     "output_type": "stream",
     "text": [
      "[10.1, 'Prashant', (20+20j), 'E1', 'E2', 'E3', 'E4', ['3'], False, [(89-7j), 56, 78.99, True, False], 10, 'KESHAV', (45+9j), True, 39.69, 39, ['Theta'], ['Alpha', 'Beta', 'Gamma']]\n"
     ]
    }
   ],
   "source": [
    "Hetero3[3:0] = \"E1\", \"E2\", \"E3\", \"E4\" # Plugin new elements at the place of mentioned 3rd index\n",
    "print(Hetero3)"
   ]
  },
  {
   "cell_type": "code",
   "execution_count": 254,
   "metadata": {},
   "outputs": [
    {
     "name": "stdout",
     "output_type": "stream",
     "text": [
      "[10.1, 'Prashant', (20+20j), 'E1', 'E2', 'E3', 'E4', False, [(89-7j), 56, 78.99, True, False], 10, 'KESHAV', (45+9j), True, 39.69, 39, ['Alpha', 'Beta', 'Gamma'], False, 67, 89.56, (78-5j), 'London']\n"
     ]
    }
   ],
   "source": [
    "Hetero3.extend([False, 67, 89.56, 78-5j, \"London\"]) #Add multiple indivisual elements to the end position\n",
    "print(Hetero3)"
   ]
  },
  {
   "cell_type": "code",
   "execution_count": 255,
   "metadata": {},
   "outputs": [
    {
     "name": "stdout",
     "output_type": "stream",
     "text": [
      "[10.1, 'Prashant', (20+20j), 'E1', 'E2', 'E3', 'E4', False, [(89-7j), 56, 78.99, True, False], 10, 'KESHAV', (45+9j), True, 39.69, 39, ['Alpha', 'Beta', 'Gamma'], False, 67, 89.56, (78-5j), 'London', 'L1', 'L2', 'L3', 'L4']\n"
     ]
    }
   ],
   "source": [
    "Hetero3[len(Hetero3):0] = \"L1\", \"L2\", \"L3\", \"L4\" #Plugin new elements at the end position\n",
    "print(Hetero3)"
   ]
  },
  {
   "cell_type": "code",
   "execution_count": 256,
   "metadata": {},
   "outputs": [
    {
     "name": "stdout",
     "output_type": "stream",
     "text": [
      "[10.1, 'Prashant', (20+20j), 'E1', 'E2', 'E3', 'E4', False, [(89-7j), 56, 78.99, True, False], 10, 'KESHAV', (45+9j), True, 39.69, 39, ['Alpha', 'Beta', 'Gamma'], False, 67, 89.56, (78-5j), 'London', 'L1', 'L2', 'L3', 'L4', ['25th', '26th', '27th', '28th']]\n",
      "[10.1, 'Prashant', (20+20j), 'E1', 'E2', 'E3', 'E4', False, [(89-7j), 56, 78.99, True, False], 10, 'KESHAV', (45+9j), ['Occult', 87.69, 67, False], True, 39.69, 39, ['Alpha', 'Beta', 'Gamma'], False, 67, 89.56, (78-5j), 'London', 'L1', 'L2', 'L3', 'L4', ['25th', '26th', '27th', '28th']]\n",
      "[10.1, 'Prashant', (20+20j), 'E1', 'E2', 'E3', 'E4', False, [(89-7j), 56, 78.99, True, False], 10, 'KESHAV', (45+9j), ['Occult', 87.69, 67, False], True, '1', '4', 't', 'h', ' ', 'I', 'n', 'd', 'e', 'x', 39.69, 39, ['Alpha', 'Beta', 'Gamma'], False, 67, 89.56, (78-5j), 'London', 'L1', 'L2', 'L3', 'L4', ['25th', '26th', '27th', '28th']]\n",
      "[10.1, 'Prashant', (20+20j), 'E1', '4th', '5th', '6th', '7th', [(89-7j), 56, 78.99, True, False], 10, 'KESHAV', (45+9j), ['Occult', 87.69, 67, False], True, '1', '4', 't', 'h', ' ', 'I', 'n', 'd', 'e', 'x', 39.69, 39, ['Alpha', 'Beta', 'Gamma'], False, 67, 89.56, (78-5j), 'London', 'L1', 'L2', 'L3', 'L4', ['25th', '26th', '27th', '28th']]\n",
      "[10.1, 'Prashant', (20+20j), 'E1', '4th', '5th', '6th', '7th', [(89-7j), 56, 78.99, True, False], 10, 'KESHAV', (45+9j), ['Occult', 87.69, 67, False], True, '1', '4', 't', 'h', ' ', 'I', 'n', 'd', 'e', 'x', 39.69, 39, ['Alpha', 'Beta', 'Gamma'], False, 67, 89.56, (78-5j), 'London', 'L1', 'L2', 'L3', 'L4', ['25th', '26th', '27th', '28th'], 'End1', 'End2', 'End3']\n",
      "[10.1, 'Prashant', (20+20j), 'E1', '4th', '5th', '6th', '7th', [(89-7j), 56, 78.99, True, False], 10, 'KESHAV', (45+9j), ['Occult', 87.69, 67, False], True, '1', '4', 't', 'h', ' ', 'I', 'n', 'd', 'e', 'x', 39.69, 39, ['Alpha', 'Beta', 'Gamma'], False, 67, 89.56, (78-5j), 'London', 'L1', 'L2', 'L3', 'L4', ['25th', '26th', '27th', '28th'], 'End1', 'End2', 'End3', 'Last1', 'Last2']\n",
      "Last2\n",
      "['Occult', 87.69, 67, False]\n",
      "1\n",
      "None\n",
      "[10.1, 'Prashant', (20+20j), 'E1', '4th', '5th', '6th', '7th', [(89-7j), 56, 78.99, True, False], 10, 'KESHAV', (45+9j), True, '1', '4', 't', 'h', ' ', 'I', 'n', 'd', 'e', 'x', 39.69, 39, ['Alpha', 'Beta', 'Gamma'], False, 67, 89.56, (78-5j), 'L1', 'L2', 'L3', 'L4', ['25th', '26th', '27th', '28th'], 'End1', 'End2', 'End3', 'Last1']\n"
     ]
    }
   ],
   "source": [
    "len(Hetero3)\n",
    "Hetero3.append([\"25th\", \"26th\", \"27th\", \"28th\"]) #append in List[] format at the end position\n",
    "print(Hetero3)\n",
    "\n",
    "Hetero3.insert(12, [\"Occult\", 87.69, 67, False]) #Plugin new elements in List[] format at the place of mentioned index\n",
    "print(Hetero3)\n",
    "\n",
    "Hetero3[14:0] = \"14th Index\"        # \"14th Index\" element has been pluggied in at the place of 14th index position\n",
    "print(Hetero3)\n",
    "\n",
    "Hetero3[4:8] = \"4th\", \"5th\", \"6th\", \"7th\"           # 4th, 5th, 6th, 7th index elements got replaced by \"4th\", \"5th\", \"6th\", \"7th\" string\n",
    "print(Hetero3)\n",
    "\n",
    "Hetero3.extend([\"End1\", \"End2\", \"End3\"])       #Add multiple indivisual elements to the end position\n",
    "print(Hetero3)\n",
    "\n",
    "Hetero3[len(Hetero3):0] = \"Last1\", \"Last2\"     #Plugin new elements at the end position\n",
    "print(Hetero3)\n",
    "\n",
    "print(Hetero3.pop())                          #By default delete the last Index element\n",
    "\n",
    "print(Hetero3.pop(12))                        # Delete the one mentioned index element at a time\n",
    "\n",
    "print(Hetero3.count(False))              # Count the frequency of mentioned boolean element False\n",
    "\n",
    "print(Hetero3.remove(\"London\"))        # Delete the mentioned string element \"London\" from list Hetero3\n",
    "print(Hetero3)"
   ]
  },
  {
   "cell_type": "code",
   "execution_count": 257,
   "metadata": {},
   "outputs": [
    {
     "name": "stdout",
     "output_type": "stream",
     "text": [
      "['L4', 'e', [(89-7j), 56, 78.99, True, False], 't', 39, '6th', 'I', 'd', ['25th', '26th', '27th', '28th'], 'h', False, 'End3', 'E1', (20+20j), 'End1', '4th', '4', ['Alpha', 'Beta', 'Gamma'], 'L2', '5th', ' ', 89.56, '1', 'Last1', (45+9j), 'L3', 10.1, (78-5j), 'L1', '7th', 'KESHAV', 'n', 67, 39.69, 'Prashant', 'x', True, 'End2', 10]\n",
      "['E1', 67, True, 'I', '5th', 10, [(89-7j), 56, 78.99, True, False], 'End2', ' ', (78-5j), ['Alpha', 'Beta', 'Gamma'], 'Last1', '4th', 10.1, 'L3', 'L1', '4', ['25th', '26th', '27th', '28th'], 'Prashant', 'd', 39, 'KESHAV', 'n', 'e', '7th', '1', '6th', 'End3', False, (20+20j), 'h', 'L4', 39.69, 'End1', 'x', 89.56, 'L2', (45+9j), 't']\n"
     ]
    }
   ],
   "source": [
    "import random\n",
    "RandSam = random.sample(Hetero3, len(Hetero3))\n",
    "print(RandSam)\n",
    "\n",
    "random.shuffle(Hetero3)\n",
    "print(Hetero3)\n",
    "\n",
    "#print(Hetero3.sort())\n",
    "\n",
    "#print(min(Hetero3)), max(Hetero3), sum(Hetero3))"
   ]
  },
  {
   "cell_type": "code",
   "execution_count": 258,
   "metadata": {},
   "outputs": [
    {
     "name": "stdout",
     "output_type": "stream",
     "text": [
      "(50.5+9j)\n",
      "False\n",
      "99\n",
      "[False, True, 55.7, 99]\n",
      "[(29+9j), 10, 10.5, True]\n",
      "[(29+9j), 10, True, 10.5]\n",
      "[55.7, False, True, 99]\n"
     ]
    }
   ],
   "source": [
    "L1 = [10.5, 10, 29+9j, True]                   # Addition of Integer, Float, Boolean, Complex\n",
    "L2 = [55.7, 99, True, False]\n",
    "print(sum(L1))                        # Addition of Integer, Float, Boolean, Complex\n",
    "print(min(L2))                        # min() works with Integer, Float & Boolean data types\n",
    "print(max(L2))                        # max() works with Integer, Float & Boolean data types\n",
    "L2.sort()                             # sort() works with Integer, Float & Boolean data types\n",
    "print(L2)\n",
    "type(L1), type(L2)\n",
    "random.shuffle(L1)\n",
    "print(L1)\n",
    "SamL1 = random.sample(L1, k=len(L1))\n",
    "SamL2 = random.sample(L2, k=len(L2))\n",
    "print(SamL1)\n",
    "print(SamL2)"
   ]
  },
  {
   "cell_type": "code",
   "execution_count": 259,
   "metadata": {},
   "outputs": [
    {
     "name": "stdout",
     "output_type": "stream",
     "text": [
      "['E1', 67, True, 'I', '5th', 10, [(89-7j), 56, 78.99, True, False], 'End2', ' ', (78-5j), ['Alpha', 'Beta', 'Gamma'], 'Last1', '4th', 10.1, 'L3', 'L1', '4', ['25th', '26th', '27th', '28th'], 'Prashant', 'd', 39, 'KESHAV', 'n', 'e', '7th', '1', '6th', 'End3', False, (20+20j), 'h', 'L4', 39.69, 'End1', 'x', 89.56, 'L2', (45+9j), 't', 'Append']\n",
      "['E1', 67, True, 'I', '5th', 10, [(89-7j), 56, 78.99, True, False], 'End2', ' ', (78-5j), ['Alpha', 'Beta', 'Gamma'], 'Last1', '4th', 10.1, 'L3', 'L1', '4', ['25th', '26th', '27th', '28th'], 'Prashant', 'd', 39, 'KESHAV', 'n', 'e', '7th', '1', '6th', 'End3', False, (20+20j), 'h', 'L4', 39.69, 'End1', 'x', 89.56, 'L2', (45+9j), 't', 'Append', [(15+15j), 22]]\n"
     ]
    }
   ],
   "source": [
    "Hetero3.append(\"Append\")\n",
    "print(Hetero3)\n",
    "\n",
    "Hetero3.append([15+15j, 22])       # [] List format Add new List [15+15j,22] to the end location of Hetero3 by using append function\n",
    "                                                        # append always increses a single element\n",
    "print(Hetero3)"
   ]
  },
  {
   "cell_type": "code",
   "execution_count": 260,
   "metadata": {},
   "outputs": [
    {
     "name": "stdout",
     "output_type": "stream",
     "text": [
      "['E1', 67, True, 'I', '5th', 10, [(89-7j), 56, 78.99, True, False], 'End2', ' ', (78-5j), ['Alpha', 'Beta', 'Gamma'], 'Last1', '4th', 10.1, 'L3', 'L1', '4', ['25th', '26th', '27th', '28th'], 'Prashant', 'd', 39, 'KESHAV', 'n', 'e', '7th', '1', '6th', 'End3', False, (20+20j), 'h', 'L4', 39.69, 'End1', 'x', 89.56, 'L2', (45+9j), 't', 'Append', [(15+15j), 22]]\n"
     ]
    }
   ],
   "source": [
    "print(Hetero3)"
   ]
  },
  {
   "cell_type": "code",
   "execution_count": 261,
   "metadata": {},
   "outputs": [
    {
     "ename": "AttributeError",
     "evalue": "'list' object has no attribute 'add'",
     "output_type": "error",
     "traceback": [
      "\u001b[0;31m---------------------------------------------------------------------------\u001b[0m",
      "\u001b[0;31mAttributeError\u001b[0m                            Traceback (most recent call last)",
      "Cell \u001b[0;32mIn[261], line 1\u001b[0m\n\u001b[0;32m----> 1\u001b[0m \u001b[43mHetero3\u001b[49m\u001b[38;5;241;43m.\u001b[39;49m\u001b[43madd\u001b[49m(\u001b[38;5;124m\"\u001b[39m\u001b[38;5;124mAdd\u001b[39m\u001b[38;5;124m\"\u001b[39m)\n\u001b[1;32m      2\u001b[0m \u001b[38;5;28mprint\u001b[39m(Hetero3)\n",
      "\u001b[0;31mAttributeError\u001b[0m: 'list' object has no attribute 'add'"
     ]
    }
   ],
   "source": [
    "Hetero3.add(\"Add\")\n",
    "print(Hetero3)                    # add() is applicable for Set only, one element at a time"
   ]
  },
  {
   "cell_type": "code",
   "execution_count": 262,
   "metadata": {},
   "outputs": [
    {
     "name": "stdout",
     "output_type": "stream",
     "text": [
      "True\n",
      "('A', 'B', 'C')\n",
      "['E1', 67, ('A', 'B', 'C'), 'I', '5th', 10, [(89-7j), 56, 78.99, True, False], 'End2', ' ', (78-5j), ['Alpha', 'Beta', 'Gamma'], 'Last1', '4th', 10.1, 'L3', 'L1', '4', ['25th', '26th', '27th', '28th'], 'Prashant', 'd', 39, 'KESHAV', 'n', 'e', '7th', '1', '6th', 'End3', False, (20+20j), 'h', 'L4', 39.69, 'End1', 'x', 89.56, 'L2', (45+9j), 't', 'Append', [(15+15j), 22]]\n"
     ]
    },
    {
     "data": {
      "text/plain": [
       "tuple"
      ]
     },
     "execution_count": 262,
     "metadata": {},
     "output_type": "execute_result"
    }
   ],
   "source": [
    "print(Hetero3[2])\n",
    "Hetero3[2] = \"A\", \"B\", \"C\"      # [] List format Replace 2nd index element (20+20j) with list [\"A\", \"B\", \"C\"]\n",
    "print(Hetero3[2])\n",
    "print(Hetero3)\n",
    "type(Hetero3[2])"
   ]
  },
  {
   "cell_type": "code",
   "execution_count": 263,
   "metadata": {},
   "outputs": [
    {
     "name": "stdout",
     "output_type": "stream",
     "text": [
      "['E1', 67, ('A', 'B', 'C'), 'I', '5th', 10, [(89-7j), 56, 78.99, True, False], 'End2', ' ', (78-5j), ['Alpha', 'Beta', 'Gamma'], 'Last1', '4th', 10.1, 'L3', 'L1', '4', ['25th', '26th', '27th', '28th'], 'Prashant', 'd', 39, 'KESHAV', 'n', 'e', '7th', '1', '6th', 'End3', False, (20+20j), 'h', 'L4', 39.69, 'End1', 'x', 89.56, 'L2', (45+9j), 't', 'Append', [(15+15j), 22]]\n",
      "['E1', 67, ('A', 'B', 'C'), 'I', '5th', 10, ['Six', 'Sigma'], 'End2', ' ', (78-5j), ['Alpha', 'Beta', 'Gamma'], 'Last1', '4th', 10.1, 'L3', 'L1', '4', ['25th', '26th', '27th', '28th'], 'Prashant', 'd', 39, 'KESHAV', 'n', 'e', '7th', '1', '6th', 'End3', False, (20+20j), 'h', 'L4', 39.69, 'End1', 'x', 89.56, 'L2', (45+9j), 't', 'Append', [(15+15j), 22]]\n"
     ]
    },
    {
     "data": {
      "text/plain": [
       "list"
      ]
     },
     "execution_count": 263,
     "metadata": {},
     "output_type": "execute_result"
    }
   ],
   "source": [
    "print(Hetero3)\n",
    "Hetero3[6] = [\"Six\", \"Sigma\"]  # Replace 6th index element with [\"Six\", \"Sigma\"] as list\n",
    "print(Hetero3)\n",
    "type(Hetero3[6])"
   ]
  },
  {
   "cell_type": "code",
   "execution_count": 264,
   "metadata": {},
   "outputs": [
    {
     "name": "stdout",
     "output_type": "stream",
     "text": [
      "['I', '5th', 10, ['Six', 'Sigma']]\n",
      "[1, 2, 3, 4]\n",
      "['E1', 67, ('A', 'B', 'C'), 1, 2, 3, 4, 'I', '5th', 10, ['Six', 'Sigma'], 'End2', ' ', (78-5j), ['Alpha', 'Beta', 'Gamma'], 'Last1', '4th', 10.1, 'L3', 'L1', '4', ['25th', '26th', '27th', '28th'], 'Prashant', 'd', 39, 'KESHAV', 'n', 'e', '7th', '1', '6th', 'End3', False, (20+20j), 'h', 'L4', 39.69, 'End1', 'x', 89.56, 'L2', (45+9j), 't', 'Append', [(15+15j), 22]]\n"
     ]
    }
   ],
   "source": [
    "print(Hetero3[3:7])\n",
    "Hetero3[3:0] = 1, 2, 3, 4       # Plugin new indivisual List elements 1, 2, 3, 4 at the place of 3rd index\n",
    "print(Hetero3[3:7])\n",
    "print(Hetero3)"
   ]
  },
  {
   "cell_type": "code",
   "execution_count": 265,
   "metadata": {},
   "outputs": [
    {
     "data": {
      "text/plain": [
       "['apple', 'banana', 'cherry', ['Ford', 'BMW', 'Volvo']]"
      ]
     },
     "execution_count": 265,
     "metadata": {},
     "output_type": "execute_result"
    }
   ],
   "source": [
    "Fruit = [\"apple\", \"banana\", \"cherry\"]\n",
    "Car = [\"Ford\", \"BMW\", \"Volvo\"]\n",
    "Fruit.append(Car)                    # [] List format Add new List [\"Ford\", \"BMW\", \"Volvo\"] to the end location\n",
    "Fruit                                           # List Car has been added at the end of Fruit as a single index element"
   ]
  },
  {
   "cell_type": "code",
   "execution_count": 266,
   "metadata": {},
   "outputs": [
    {
     "name": "stdout",
     "output_type": "stream",
     "text": [
      "['apple', 'banana', 'cherry', ['Ford', 'BMW', 'Volvo'], 'Ford', 'BMW', 'Volvo']\n"
     ]
    }
   ],
   "source": [
    "NewFruits = Fruit + Car       # Concatination\n",
    "print(NewFruits)"
   ]
  },
  {
   "cell_type": "code",
   "execution_count": 267,
   "metadata": {},
   "outputs": [
    {
     "data": {
      "text/plain": [
       "['apple', 'banana', 'cherry', 'Mango', ['Ford', 'BMW', 'Volvo', 'Thief']]"
      ]
     },
     "execution_count": 267,
     "metadata": {},
     "output_type": "execute_result"
    }
   ],
   "source": [
    "fruit = [\"apple\", \"banana\", \"cherry\", \"Mango\"]\n",
    "car = [\"Ford\", \"BMW\", \"Volvo\", \"Thief\"]\n",
    "fruit.append(car)          # [] List format Add new List [\"Ford\", \"BMW\", \"Volvo\", \"Thief\"] to the end location\n",
    "fruit                                 # [] List Car has been added at the end of Fruit as a single index element"
   ]
  },
  {
   "cell_type": "code",
   "execution_count": 268,
   "metadata": {},
   "outputs": [
    {
     "data": {
      "text/plain": [
       "['apple', 'banana', 'cherry', 'Ford', 'BMW', 'Volvo']"
      ]
     },
     "execution_count": 268,
     "metadata": {},
     "output_type": "execute_result"
    }
   ],
   "source": [
    "Fruit1 = [\"apple\", \"banana\", \"cherry\"]\n",
    "Car1 = [\"Ford\", \"BMW\", \"Volvo\"]\n",
    "Fruit1_Car1 = Fruit1 + Car1        # Indivisual elements Concatination of two Lists by using Addition\n",
    "Fruit1_Car1                        # Take elements of two Lists into one New List"
   ]
  },
  {
   "cell_type": "code",
   "execution_count": 269,
   "metadata": {},
   "outputs": [
    {
     "data": {
      "text/plain": [
       "3"
      ]
     },
     "execution_count": 269,
     "metadata": {},
     "output_type": "execute_result"
    }
   ],
   "source": [
    "Fruit.index(Car)    # index value of Car is 3 in Fruit, Car is nestd list inside Fruit list"
   ]
  },
  {
   "cell_type": "code",
   "execution_count": 270,
   "metadata": {},
   "outputs": [
    {
     "data": {
      "text/plain": [
       "3"
      ]
     },
     "execution_count": 270,
     "metadata": {},
     "output_type": "execute_result"
    }
   ],
   "source": [
    "Fruit.index([\"Ford\", \"BMW\", \"Volvo\"])     # index value of [\"Ford\", \"BMW\", \"Volvo\"]"
   ]
  },
  {
   "cell_type": "code",
   "execution_count": 271,
   "metadata": {},
   "outputs": [
    {
     "name": "stdout",
     "output_type": "stream",
     "text": [
      "['apple', 'banana', 'cherry', ['Ford', 'BMW', 'Volvo']]\n"
     ]
    }
   ],
   "source": [
    "print(Fruit)"
   ]
  },
  {
   "cell_type": "code",
   "execution_count": 272,
   "metadata": {},
   "outputs": [
    {
     "data": {
      "text/plain": [
       "44"
      ]
     },
     "execution_count": 272,
     "metadata": {},
     "output_type": "execute_result"
    }
   ],
   "source": [
    "Hetero3.index([15+15j, 22])        # index value of nested list [15+15j,22] is 10 in Hetero3 List"
   ]
  },
  {
   "cell_type": "code",
   "execution_count": 273,
   "metadata": {},
   "outputs": [
    {
     "name": "stdout",
     "output_type": "stream",
     "text": [
      "['E1', 67, ('A', 'B', 'C'), 1, 2, 3, 4, 'I', '5th', 10, ['Six', 'Sigma'], 'End2', ' ', (78-5j), ['Alpha', 'Beta', 'Gamma'], 'Last1', '4th', 10.1, 'L3', 'L1', '4', ['25th', '26th', '27th', '28th'], 'Prashant', 'd', 39, 'KESHAV', 'n', 'e', '7th', '1', '6th', 'End3', False, (20+20j), 'h', 'L4', 39.69, 'End1', 'x', 89.56, 'L2', (45+9j), 't', 'Append', [(15+15j), 22]]\n"
     ]
    }
   ],
   "source": [
    "print(Hetero3)"
   ]
  },
  {
   "cell_type": "code",
   "execution_count": 274,
   "metadata": {},
   "outputs": [
    {
     "name": "stdout",
     "output_type": "stream",
     "text": [
      "['E1', 67, ('A', 'B', 'C'), 1, 2, 3, 4, 'I', '5th', 10, ['Six', 'Sigma'], 'End2', ' ', (78-5j), ['Alpha', 'Beta', 'Gamma'], 'Last1', '4th', 10.1, 'L3', 'L1', '4', ['25th', '26th', '27th', '28th'], 'Prashant', 'd', 39, 'KESHAV', 'n', 'e', '7th', '1', '6th', 'End3', False, (20+20j), 'h', 'L4', 39.69, 'End1', 'x', 89.56, 'L2', (45+9j), 't', 'Append', [(15+15j), 22], [(17+25j), 92]]\n"
     ]
    }
   ],
   "source": [
    "Hetero3.append([17+25j, 92])        # [] List format append() this include at the end in [] List format\n",
    "print(Hetero3)"
   ]
  },
  {
   "cell_type": "code",
   "execution_count": 275,
   "metadata": {},
   "outputs": [
    {
     "name": "stdout",
     "output_type": "stream",
     "text": [
      "['E1', 67, ('A', 'B', 'C'), 1, 2, 3, 4, 'I', '5th', 10, ['Six', 'Sigma'], 'End2', ' ', (78-5j), ['Alpha', 'Beta', 'Gamma'], 'Last1', '4th', 10.1, 'L3', 'L1', '4', ['25th', '26th', '27th', '28th'], 'Prashant', 'd', 39, 'KESHAV', 'n', 'e', '7th', '1', '6th', 'End3', False, (20+20j), 'h', 'L4', 39.69, 'End1', 'x', 89.56, 'L2', (45+9j), 't', 'Append', [(15+15j), 22], [(17+25j), 92], 'Komal', (36-8j), True, 33.33, (36-8j)]\n"
     ]
    }
   ],
   "source": [
    "Hetero3.extend(['Komal', 36-8j, True, 33.33,36-8j])       # Add multiple indivisual elements to the end of Hetero3 by using extend function\n",
    "print(Hetero3)"
   ]
  },
  {
   "cell_type": "code",
   "execution_count": 276,
   "metadata": {},
   "outputs": [
    {
     "name": "stdout",
     "output_type": "stream",
     "text": [
      "['E1', 67, ('A', 'B', 'C'), 1, 2, 3, 4, 'I', '5th', 10, ['Six', 'Sigma'], 'End2', ' ', (78-5j), ['Alpha', 'Beta', 'Gamma'], 'Last1', '4th', 10.1, 'L3', 'L1', '4', ['25th', '26th', '27th', '28th'], 'Prashant', 'd', 39, 'KESHAV', 'n', 'e', '7th', '1', '6th', 'End3', False, (20+20j), 'h', 'L4', 39.69, 'End1', 'x', 89.56, 'L2', (45+9j), 't', 'Append', [(15+15j), 22], [(17+25j), 92], 'Komal', (36-8j), True, 33.33, (36-8j), [(15+15j), 22]]\n"
     ]
    }
   ],
   "source": [
    "Hetero3.append([15+15j, 22])      # [] List format append() always work in [] List format\n",
    "print(Hetero3)"
   ]
  },
  {
   "cell_type": "code",
   "execution_count": 277,
   "metadata": {},
   "outputs": [
    {
     "name": "stdout",
     "output_type": "stream",
     "text": [
      "['E1', 67, 'Amol', ('A', 'B', 'C'), 1, 2, 3, 4, 'I', '5th', 10, ['Six', 'Sigma'], 'End2', ' ', (78-5j), ['Alpha', 'Beta', 'Gamma'], 'Last1', '4th', 10.1, 'L3', 'L1', '4', ['25th', '26th', '27th', '28th'], 'Prashant', 'd', 39, 'KESHAV', 'n', 'e', '7th', '1', '6th', 'End3', False, (20+20j), 'h', 'L4', 39.69, 'End1', 'x', 89.56, 'L2', (45+9j), 't', 'Append', [(15+15j), 22], [(17+25j), 92], 'Komal', (36-8j), True, 33.33, (36-8j), [(15+15j), 22]]\n",
      "['E1', 67, 'Amol', ['New', 'Plugin'], ('A', 'B', 'C'), 1, 2, 3, 4, 'I', '5th', 10, ['Six', 'Sigma'], 'End2', ' ', (78-5j), ['Alpha', 'Beta', 'Gamma'], 'Last1', '4th', 10.1, 'L3', 'L1', '4', ['25th', '26th', '27th', '28th'], 'Prashant', 'd', 39, 'KESHAV', 'n', 'e', '7th', '1', '6th', 'End3', False, (20+20j), 'h', 'L4', 39.69, 'End1', 'x', 89.56, 'L2', (45+9j), 't', 'Append', [(15+15j), 22], [(17+25j), 92], 'Komal', (36-8j), True, 33.33, (36-8j), [(15+15j), 22]]\n"
     ]
    }
   ],
   "source": [
    "Hetero3.insert(2, 'Amol')   # At the Place of 2nd index before 3rd index location plugin new string element 'Amol'\n",
    "                           # 'Amol' will get the 2nd index location/positon\n",
    "print(Hetero3)\n",
    "\n",
    "Hetero3.insert(3, [\"New\", \"Plugin\"])   # [] List format Add new List [\"New\", \"Plugin\"] to the given index location\n",
    "print(Hetero3)"
   ]
  },
  {
   "cell_type": "code",
   "execution_count": 278,
   "metadata": {},
   "outputs": [
    {
     "name": "stdout",
     "output_type": "stream",
     "text": [
      "['E1', 67, 'Amol', 'OPPO', 33, 'CUBIX', 'LATEX', ['New', 'Plugin'], ('A', 'B', 'C'), 1, 2, 3, 4, 'I', '5th', 10, ['Six', 'Sigma'], 'End2', ' ', (78-5j), ['Alpha', 'Beta', 'Gamma'], 'Last1', '4th', 10.1, 'L3', 'L1', '4', ['25th', '26th', '27th', '28th'], 'Prashant', 'd', 39, 'KESHAV', 'n', 'e', '7th', '1', '6th', 'End3', False, (20+20j), 'h', 'L4', 39.69, 'End1', 'x', 89.56, 'L2', (45+9j), 't', 'Append', [(15+15j), 22], [(17+25j), 92], 'Komal', (36-8j), True, 33.33, (36-8j), [(15+15j), 22]]\n"
     ]
    }
   ],
   "source": [
    "Hetero3[3:0] = \"OPPO\", 33, \"CUBIX\", \"LATEX\"   # Pluin new elements \"OPPO\", 33, \"CUBIX\", \"LATEX\"\n",
    "print(Hetero3)"
   ]
  },
  {
   "cell_type": "code",
   "execution_count": 279,
   "metadata": {},
   "outputs": [
    {
     "name": "stdout",
     "output_type": "stream",
     "text": [
      "['E1', 67, 'Amol', 'VIETNAAM', 'PAINKILLER', 'OPPO', 33, 'CUBIX', 'LATEX', ['New', 'Plugin'], ('A', 'B', 'C'), 1, 2, 3, 4, 'I', '5th', 10, ['Six', 'Sigma'], 'End2', ' ', (78-5j), ['Alpha', 'Beta', 'Gamma'], 'Last1', '4th', 10.1, 'L3', 'L1', '4', ['25th', '26th', '27th', '28th'], 'Prashant', 'd', 39, 'KESHAV', 'n', 'e', '7th', '1', '6th', 'End3', False, (20+20j), 'h', 'L4', 39.69, 'End1', 'x', 89.56, 'L2', (45+9j), 't', 'Append', [(15+15j), 22], [(17+25j), 92], 'Komal', (36-8j), True, 33.33, (36-8j), [(15+15j), 22]]\n"
     ]
    }
   ],
   "source": [
    "Hetero3[3:0] = \"VIETNAAM\", \"PAINKILLER\"   # Pluin new elements \"OPPO\", 33, \"CUBIX\", \"LATEX\"\n",
    "print(Hetero3)"
   ]
  },
  {
   "cell_type": "code",
   "execution_count": 280,
   "metadata": {},
   "outputs": [
    {
     "data": {
      "text/plain": [
       "(str, int, str, str, str, str)"
      ]
     },
     "execution_count": 280,
     "metadata": {},
     "output_type": "execute_result"
    }
   ],
   "source": [
    "type(Hetero3[0]), type(Hetero3[1]), type(Hetero3[2]), type(Hetero3[3]), type(Hetero3[4]), type(Hetero3[5]) # Shows data types of each index"
   ]
  },
  {
   "cell_type": "code",
   "execution_count": 281,
   "metadata": {},
   "outputs": [
    {
     "ename": "TypeError",
     "evalue": "'int' object is not subscriptable",
     "output_type": "error",
     "traceback": [
      "\u001b[0;31m---------------------------------------------------------------------------\u001b[0m",
      "\u001b[0;31mTypeError\u001b[0m                                 Traceback (most recent call last)",
      "Cell \u001b[0;32mIn[281], line 1\u001b[0m\n\u001b[0;32m----> 1\u001b[0m \u001b[43mHetero3\u001b[49m\u001b[43m[\u001b[49m\u001b[38;5;241;43m1\u001b[39;49m\u001b[43m]\u001b[49m\u001b[43m[\u001b[49m\u001b[38;5;241;43m2\u001b[39;49m\u001b[43m]\u001b[49m\n",
      "\u001b[0;31mTypeError\u001b[0m: 'int' object is not subscriptable"
     ]
    }
   ],
   "source": [
    "Hetero3[1][2]   # 0th index value of the 6th index string element \"KESHAV\""
   ]
  },
  {
   "cell_type": "code",
   "execution_count": 282,
   "metadata": {},
   "outputs": [
    {
     "data": {
      "text/plain": [
       "60"
      ]
     },
     "execution_count": 282,
     "metadata": {},
     "output_type": "execute_result"
    }
   ],
   "source": [
    "len(Hetero3)   # How many elements are there inside the Hetero3 List"
   ]
  },
  {
   "cell_type": "code",
   "execution_count": 283,
   "metadata": {},
   "outputs": [],
   "source": [
    "List1 = [33+22j, \"Vivek\", True, False, 45.89, 20]\n",
    "List2 = [\"AAM\", 46-77j, [\"Mitocondriya\", \"Mitosis\", \"Miyosis\"], False, 77, 89.45]\n",
    "List3 = [\"Shivalry\", 67-7j, False, True, 56, 75.89]\n",
    "Homo1 = [1, 2, 3, 4, 5, 6, 7, 8, 9, 10]    # List containing only integers\n",
    "MixValues = [\"MADHAV\", 45+9j, True, 39.69, 39]   # List containing all type of datas\n",
    "NestList = [\"KESHAV\", 45+9j, True, 39.69, 39, Homo1]   # Homo1 list has been taken inside NestList"
   ]
  },
  {
   "cell_type": "code",
   "execution_count": 284,
   "metadata": {},
   "outputs": [
    {
     "name": "stdout",
     "output_type": "stream",
     "text": [
      "['MADHAV', (45+9j), True, ['Enigma', (67-9j), False], 39.69, 39]\n"
     ]
    }
   ],
   "source": [
    "MixValues.insert(3, [\"Enigma\", 67-9j, False])     # [] List format At the place of 3rd index, Plugin new elements in [] List format\n",
    "print(MixValues)"
   ]
  },
  {
   "cell_type": "code",
   "execution_count": 285,
   "metadata": {},
   "outputs": [
    {
     "name": "stdout",
     "output_type": "stream",
     "text": [
      "[(33+22j), 'Vivek', True, False, 45.89, 20, 'Vivaldy', 'Hermis']\n",
      "[(33+22j), 'Vivek', True, False, 45.89, 20, 'Vivaldy', 'Hermis', ['Saturn', 'Oracle']]\n",
      "['MADHAV', (45+9j), True, ['Enigma', (67-9j), False], ['Enigma', (67-9j), False], 39.69, 39]\n",
      "['AAM', (46-77j), ['Mitocondriya', 'Mitosis', 'Miyosis'], False, 77, 89.45, ['Shivalry', (67-7j), False, True, 56, 75.89]]\n",
      "[(33+22j), 'Vivek', True, False, 45.89, 20, 'Vivaldy', 'Hermis', ['Saturn', 'Oracle'], ['AAM', (46-77j), ['Mitocondriya', 'Mitosis', 'Miyosis'], False, 77, 89.45, ['Shivalry', (67-7j), False, True, 56, 75.89]]]\n",
      "[(33+22j), 'Vivek', True, False, 45.89, 20, 'Vivaldy', 'Hermis', ['Saturn', 'Oracle'], ['AAM', (46-77j), ['Mitocondriya', 'Mitosis', 'Miyosis'], False, 77, 89.45, ['Shivalry', (67-7j), False, True, 56, 75.89]], 'Shivalry', (67-7j), False, True, 56, 75.89]\n",
      "['AAM', (46-77j), ['Mitocondriya', 'Mitosis', 'Miyosis'], False, 77, 89.45, ['Shivalry', (67-7j), False, True, 56, 75.89], 'Shivalry', (67-7j), False, True, 56, 75.89]\n",
      "None\n",
      "['MADHAV', (45+9j), True, ['Enigma', (67-9j), False], ['Enigma', (67-9j), False], 39.69, 39, 'KESHAV', (45+9j), True, 39.69, 39, [1, 2, 3, 4, 5, 6, 7, 8, 9, 10], 'KESHAV', (45+9j), True, 39.69, 39, [1, 2, 3, 4, 5, 6, 7, 8, 9, 10]]\n"
     ]
    }
   ],
   "source": [
    "List1[6:0] = \"Vivaldy\", \"Hermis\"      # Plugin new elements \"Vivaldy\", \"Hermis\" at the 6th index end position\n",
    "print(List1)\n",
    "\n",
    "List1.insert(8, [\"Saturn\", \"Oracle\"])      # [] List format Plugin new elements in List [] format at 8th index position\n",
    "print(List1)\n",
    "\n",
    "MixValues.insert(3, [\"Enigma\", 67-9j, False])      # [] List format Plugin new elements in List [] format at 3rd index position\n",
    "print(MixValues)\n",
    "\n",
    "List2.insert(len(List2)+1, List3)     # [] List format insert in List [] format at 7th index position\n",
    "print(List2)\n",
    "\n",
    "List1.append(List2)     # [] List format Plugin new elements in List [] format at end position\n",
    "print(List1)\n",
    "\n",
    "List1.extend(List3)       # Plugin new elements at the end position\n",
    "print(List1)\n",
    "\n",
    "Concat = List2 + List3       # Join two or more different lists in sequence and make it one\n",
    "print(Concat)\n",
    "\n",
    "Extend = MixValues.extend(NestList)      # Plugin new elements at the end position\n",
    "print(Extend)\n",
    "\n",
    "MixValues[len(MixValues):0] = NestList     # Plugin new elements at the end position\n",
    "EndPlugin = MixValues\n",
    "print(EndPlugin)"
   ]
  },
  {
   "cell_type": "code",
   "execution_count": 286,
   "metadata": {},
   "outputs": [
    {
     "name": "stdout",
     "output_type": "stream",
     "text": [
      "['MADHAV', (45+9j), True, 39.69, 39, 'KESHAV', (45+9j), True, 39.69, 39, [1, 2, 3, 4, 5, 6, 7, 8, 9, 10]]\n"
     ]
    }
   ],
   "source": [
    "MixValues = [\"MADHAV\", 45+9j, True, 39.69, 39]            # List containing all type of datas\n",
    "NestList = [\"KESHAV\", 45+9j, True, 39.69, 39, Homo1]          # Homo1 list has been taken inside NestList\n",
    "MixValues[len(MixValues):0] = NestList\n",
    "print(MixValues)"
   ]
  },
  {
   "cell_type": "code",
   "execution_count": 287,
   "metadata": {},
   "outputs": [
    {
     "name": "stdout",
     "output_type": "stream",
     "text": [
      "[34.89j, 'Cuba', 'Coffee']\n",
      "[34.89j, 'Cuba', 'Coffee', 'Volcano', 'Mint', (67-78j)]\n",
      "[34.89j, 'Cuba', 'Coffee', 'Volcano', 'Mint', (67-78j), 57.89j, 'Stealth']\n"
     ]
    }
   ],
   "source": [
    "NewList = [34.89j, \"Cuba\", \"Coffee\"]\n",
    "print(NewList)\n",
    "NewList[len(NewList):0] = \"Volcano\", \"Mint\", 67-78j\n",
    "print(NewList)\n",
    "NewList[len(NewList):0] = 57.89j, \"Stealth\"\n",
    "print(NewList)"
   ]
  },
  {
   "cell_type": "code",
   "execution_count": 288,
   "metadata": {},
   "outputs": [
    {
     "name": "stdout",
     "output_type": "stream",
     "text": [
      "[(33+22j), 'Vivek', True, False, 45.89, 20, 'Vivaldy', 'Hermis', ['Saturn', 'Oracle'], ['AAM', (46-77j), ['Mitocondriya', 'Mitosis', 'Miyosis'], False, 77, 89.45, ['Shivalry', (67-7j), False, True, 56, 75.89]], 'Shivalry', (67-7j), False, True, 56, 75.89]\n",
      "[(33+22j), 'Vivek', True, False, 45.89, 20, 'Vivaldy', 'Hermis', ['Saturn', 'Oracle'], ['AAM', (46-77j), ['Mitocondriya', 'Mitosis', 'Miyosis'], False, 77, 89.45, ['Shivalry', (67-7j), False, True, 56, 75.89]], 'Shivalry', (67-7j), False, True, 56, 75.89, 'Amoeba', 'Zodiac', (67-78j)]\n"
     ]
    }
   ],
   "source": [
    "print(List1)\n",
    "List1[len(List1):0] = \"Amoeba\", \"Zodiac\", 67-78j\n",
    "print(List1)"
   ]
  },
  {
   "cell_type": "code",
   "execution_count": 289,
   "metadata": {},
   "outputs": [
    {
     "name": "stdout",
     "output_type": "stream",
     "text": [
      "[39.69, 'L2', ['Six', 'Sigma'], (36-8j), '6th', 1, ['Alpha', 'Beta', 'Gamma'], 'Append', 'E1', [(17+25j), 92], 'e', 3, 'x', 'd', True, 2, (45+9j), '1', 10, 'Komal', 'End1', 'L4', 'VIETNAAM', 'h', 'L1', '7th', 'End3', '4', 'L3', 't', False, 'OPPO', 'CUBIX', 4, 'Prashant', ' ', 89.56, '5th', 'PAINKILLER', (20+20j), 67, 39, 'I', 'n', 33.33, ['25th', '26th', '27th', '28th'], [(15+15j), 22], ('A', 'B', 'C'), 10.1, (78-5j), 'KESHAV', 'End2', [(15+15j), 22], 'LATEX', 'Amol', ['New', 'Plugin'], 33, (36-8j), '4th', 'Last1']\n"
     ]
    }
   ],
   "source": [
    "import random\n",
    "random.shuffle(Hetero3)\n",
    "print(Hetero3) # All elements of Hetero3 list has been shuffled randomly"
   ]
  },
  {
   "cell_type": "code",
   "execution_count": 290,
   "metadata": {},
   "outputs": [
    {
     "name": "stdout",
     "output_type": "stream",
     "text": [
      "['e', 'd', 'End3', '5th', 'Append', ['Alpha', 'Beta', 'Gamma'], 'Amol', (20+20j), '4th', 'PAINKILLER', 'KESHAV', 'L2', False, 39, 2, [(15+15j), 22], 10.1, 33.33, 'LATEX', 67, 'x', True, 89.56, 'Last1', 'L1', 'Komal', (36-8j), 10, [(17+25j), 92], 'End1', 'OPPO', 'I', 'L3', '6th', (45+9j), (36-8j), 1, (78-5j), ' ', '4', [(15+15j), 22], 39.69, 'h', 3, 'L4', 'End2', ('A', 'B', 'C'), ['New', 'Plugin'], 33, ['25th', '26th', '27th', '28th'], '1', ['Six', 'Sigma'], 't', '7th', 'VIETNAAM', 'n', 'CUBIX', 'Prashant', 'E1', 4]\n"
     ]
    },
    {
     "data": {
      "text/plain": [
       "(list, 60)"
      ]
     },
     "execution_count": 290,
     "metadata": {},
     "output_type": "execute_result"
    }
   ],
   "source": [
    "Randsam3 = random.sample(Hetero3, k=len(Hetero3)) # randomly pick any 5 elements as a sample from List Hetero3\n",
    "print(Randsam3)\n",
    "type(Randsam3), len(Randsam3)"
   ]
  },
  {
   "cell_type": "code",
   "execution_count": 291,
   "metadata": {},
   "outputs": [
    {
     "name": "stdout",
     "output_type": "stream",
     "text": [
      "[39.69, ['Six', 'Sigma'], 'L2', (36-8j), '6th', 1, ['Alpha', 'Beta', 'Gamma'], 'Append', 'E1', [(17+25j), 92], 'e', 3, 'x', 'd', True, 2, (45+9j), '1', 10, 'Komal', 'End1', 'L4', 'VIETNAAM', 'h', 'L1', '7th', 'End3', '4', 'L3', 't', False, 'OPPO', 'CUBIX', 4, 'Prashant', ' ', 89.56, '5th', 'PAINKILLER', (20+20j), 67, 39, 'I', 'n', 33.33, ['25th', '26th', '27th', '28th'], [(15+15j), 22], ('A', 'B', 'C'), 10.1, (78-5j), 'KESHAV', 'End2', [(15+15j), 22], 'LATEX', 'Amol', ['New', 'Plugin'], 33, (36-8j), '4th', 'Last1']\n"
     ]
    },
    {
     "data": {
      "text/plain": [
       "(list, 60)"
      ]
     },
     "execution_count": 291,
     "metadata": {},
     "output_type": "execute_result"
    }
   ],
   "source": [
    "# Swap/interchange index location of the elements in a List\n",
    "Hetero3[1], Hetero3[2] = Hetero3[2], Hetero3[1]\n",
    "print(Hetero3)\n",
    "type(Hetero3), len(Hetero3)                 # Swap index elements 1,2 with 2,1"
   ]
  },
  {
   "cell_type": "code",
   "execution_count": 292,
   "metadata": {},
   "outputs": [
    {
     "name": "stdout",
     "output_type": "stream",
     "text": [
      "Last1 Last1\n"
     ]
    }
   ],
   "source": [
    "print(Hetero3[-1], Hetero3[len(Hetero3)-1])            # last element from backward"
   ]
  },
  {
   "cell_type": "code",
   "execution_count": 293,
   "metadata": {},
   "outputs": [
    {
     "name": "stdout",
     "output_type": "stream",
     "text": [
      "[39.69, ['Six', 'Sigma'], 'L2', (36-8j), '6th', 1, ['Alpha', 'Beta', 'Gamma'], 'Append', 'E1', [(17+25j), 92], 'e', 3, 'x', 'd', True, 2, (45+9j), '1', 10, 'Komal', 'End1', 'L4', 'VIETNAAM', 'h', 'L1', '7th', 'End3', '4', 'L3', 't', False, 'OPPO', 'CUBIX', 4, 'Prashant', ' ', 89.56, '5th', 'PAINKILLER', (20+20j), 67, 39, 'I', 'n', 33.33, ['25th', '26th', '27th', '28th'], [(15+15j), 22], ('A', 'B', 'C'), 10.1, (78-5j), 'KESHAV', 'End2', [(15+15j), 22], 'LATEX', 'Amol', ['New', 'Plugin'], 33, (36-8j), '4th', 'Last1']\n",
      "[39.69, ['Six', 'Sigma'], 'L2', (36-8j), '6th', 1, ['Alpha', 'Beta', 'Gamma'], 'Append', 'E1', [(17+25j), 92], 'e', 3, 'x', 'd', True, 2, (45+9j), '1', 10, 'Komal', 'End1', 'L4', 'VIETNAAM', 'h', 'L1', '7th', 'End3', '4', 'L3', 't', False, 'OPPO', 'CUBIX', 4, 'Prashant', ' ', 89.56, '5th', 'PAINKILLER', (20+20j), 67, 39, 'I', 'n', 33.33, ['25th', '26th', '27th', '28th'], [(15+15j), 22], ('A', 'B', 'C'), 10.1, (78-5j), 'KESHAV', 'End2', [(15+15j), 22], 'LATEX', 'Amol', ['New', 'Plugin'], 33, (36-8j), '4th']\n"
     ]
    }
   ],
   "source": [
    "print(Hetero3)\n",
    "Hetero3.pop()                 # Bydefault delete the last index Element\n",
    "print(Hetero3)"
   ]
  },
  {
   "cell_type": "code",
   "execution_count": 294,
   "metadata": {},
   "outputs": [
    {
     "name": "stdout",
     "output_type": "stream",
     "text": [
      "[39.69, ['Six', 'Sigma'], 'L2', (36-8j), '6th', 1, ['Alpha', 'Beta', 'Gamma'], 'Append', 'E1', [(17+25j), 92], 'e', 3, 'x', 'd', True, 2, (45+9j), '1', 10, 'Komal', 'End1', 'L4', 'VIETNAAM', 'h', 'L1', '7th', 'End3', '4', 'L3', 't', False, 'OPPO', 'CUBIX', 4, 'Prashant', ' ', 89.56, '5th', 'PAINKILLER', (20+20j), 67, 39, 'I', 'n', 33.33, ['25th', '26th', '27th', '28th'], [(15+15j), 22], ('A', 'B', 'C'), 10.1, (78-5j), 'KESHAV', 'End2', [(15+15j), 22], 'LATEX', 'Amol', ['New', 'Plugin'], 33, (36-8j), '4th']\n",
      "[39.69, ['Six', 'Sigma'], 'L2', (36-8j), '6th', 1, ['Alpha', 'Beta', 'Gamma'], 'Append', 'E1', [(17+25j), 92], 'e', 3, 'x', 'd', True, 2, (45+9j), '1', 10, 'Komal', 'End1', 'L4', 'VIETNAAM', 'h', 'L1', '7th', 'End3', '4', 'L3', 't', False, 'OPPO', 'CUBIX', 4, 'Prashant', ' ', 89.56, '5th', 'PAINKILLER', (20+20j), 67, 39, 'I', 'n', 33.33, ['25th', '26th', '27th', '28th'], [(15+15j), 22], ('A', 'B', 'C'), 10.1, (78-5j), 'KESHAV', 'End2', [(15+15j), 22], 'LATEX', 'Amol', ['New', 'Plugin'], 33, (36-8j)]\n"
     ]
    }
   ],
   "source": [
    "print(Hetero3)\n",
    "Hetero3.pop()                # Bydefault delete the last index Element\n",
    "print(Hetero3)"
   ]
  },
  {
   "cell_type": "code",
   "execution_count": 295,
   "metadata": {},
   "outputs": [
    {
     "name": "stdout",
     "output_type": "stream",
     "text": [
      "[39.69, ['Six', 'Sigma'], 'L2', (36-8j), '6th', 1, ['Alpha', 'Beta', 'Gamma'], 'Append', 'E1', [(17+25j), 92], 'e', 3, 'x', 'd', True, 2, (45+9j), '1', 10, 'Komal', 'End1', 'L4', 'VIETNAAM', 'h', 'L1', '7th', 'End3', '4', 'L3', 't', False, 'OPPO', 'CUBIX', 4, 'Prashant', ' ', 89.56, '5th', 'PAINKILLER', (20+20j), 67, 39, 'I', 'n', 33.33, ['25th', '26th', '27th', '28th'], [(15+15j), 22], ('A', 'B', 'C'), 10.1, (78-5j), 'KESHAV', 'End2', [(15+15j), 22], 'LATEX', 'Amol', ['New', 'Plugin'], 33, (36-8j)]\n",
      "[39.69, ['Six', 'Sigma'], 'L2', (36-8j), '6th', 1, ['Alpha', 'Beta', 'Gamma'], 'Append', 'E1', [(17+25j), 92], 3, 'x', 'd', True, 2, (45+9j), '1', 10, 'Komal', 'End1', 'L4', 'VIETNAAM', 'h', 'L1', '7th', 'End3', '4', 'L3', 't', False, 'OPPO', 'CUBIX', 4, 'Prashant', ' ', 89.56, '5th', 'PAINKILLER', (20+20j), 67, 39, 'I', 'n', 33.33, ['25th', '26th', '27th', '28th'], [(15+15j), 22], ('A', 'B', 'C'), 10.1, (78-5j), 'KESHAV', 'End2', [(15+15j), 22], 'LATEX', 'Amol', ['New', 'Plugin'], 33, (36-8j)]\n"
     ]
    }
   ],
   "source": [
    "print(Hetero3)\n",
    "Hetero3.pop(10)                  # Delete the mentioned 10th Index Element, one element at a time\n",
    "print(Hetero3)"
   ]
  },
  {
   "cell_type": "code",
   "execution_count": 296,
   "metadata": {},
   "outputs": [
    {
     "name": "stdout",
     "output_type": "stream",
     "text": [
      "[39.69, ['Six', 'Sigma'], 'L2', (36-8j), '6th', 1, ['Alpha', 'Beta', 'Gamma'], 'Append', 'E1', [(17+25j), 92], 3, 'x', 'd', True, 2, (45+9j), '1', 10, 'Komal', 'End1', 'L4', 'VIETNAAM', 'h', 'L1', '7th', 'End3', '4', 'L3', 't', False, 'OPPO', 'CUBIX', 4, ' ', 89.56, '5th', 'PAINKILLER', (20+20j), 67, 39, 'I', 'n', 33.33, ['25th', '26th', '27th', '28th'], [(15+15j), 22], ('A', 'B', 'C'), 10.1, (78-5j), 'KESHAV', 'End2', [(15+15j), 22], 'LATEX', 'Amol', ['New', 'Plugin'], 33, (36-8j)]\n"
     ]
    }
   ],
   "source": [
    "Hetero3.remove(\"Prashant\")          # Directly type the Element value which you want to remove\n",
    "print(Hetero3)                                  # Element \"Prashant\" has been Removed"
   ]
  },
  {
   "cell_type": "code",
   "execution_count": 297,
   "metadata": {},
   "outputs": [
    {
     "ename": "AttributeError",
     "evalue": "'list' object has no attribute 'discard'",
     "output_type": "error",
     "traceback": [
      "\u001b[0;31m---------------------------------------------------------------------------\u001b[0m",
      "\u001b[0;31mAttributeError\u001b[0m                            Traceback (most recent call last)",
      "Cell \u001b[0;32mIn[297], line 1\u001b[0m\n\u001b[0;32m----> 1\u001b[0m \u001b[43mHetero3\u001b[49m\u001b[38;5;241;43m.\u001b[39;49m\u001b[43mdiscard\u001b[49m(\u001b[38;5;124m\"\u001b[39m\u001b[38;5;124mCUBIX\u001b[39m\u001b[38;5;124m\"\u001b[39m)       \u001b[38;5;66;03m# discard() is applicable for Set only. One Element at a time\u001b[39;00m\n\u001b[1;32m      2\u001b[0m \u001b[38;5;28mprint\u001b[39m(Hetero3)\n",
      "\u001b[0;31mAttributeError\u001b[0m: 'list' object has no attribute 'discard'"
     ]
    }
   ],
   "source": [
    "Hetero3.discard(\"CUBIX\")       # discard() is applicable for Set only. One Element at a time\n",
    "print(Hetero3)"
   ]
  },
  {
   "cell_type": "code",
   "execution_count": 298,
   "metadata": {},
   "outputs": [
    {
     "data": {
      "text/plain": [
       "2"
      ]
     },
     "execution_count": 298,
     "metadata": {},
     "output_type": "execute_result"
    }
   ],
   "source": [
    "Hetero3.count(36-8j) # Type the Element value & you will get its frequency/repeatation in the List Hetero3"
   ]
  },
  {
   "cell_type": "code",
   "execution_count": 299,
   "metadata": {},
   "outputs": [
    {
     "data": {
      "text/plain": [
       "(2, 3, 3)"
      ]
     },
     "execution_count": 299,
     "metadata": {},
     "output_type": "execute_result"
    }
   ],
   "source": [
    "# Type the Element value & you will get its frequency/repeatation\n",
    "# Here the Single String is \"AnwneAnshA\"\n",
    "# Type any sigle alphabet/part of the String inside String.count() and you will get the repeatation of that alphabet/part\n",
    "\n",
    "String = \"AnwneAnshA\"\n",
    "\n",
    "# String.count(\"An\")   How many times \"An\" is within the word \"AnwneAnshA\"\n",
    "\n",
    "String.count(\"An\"), String.count(\"n\"), String.count(\"A\")"
   ]
  },
  {
   "cell_type": "code",
   "execution_count": 300,
   "metadata": {},
   "outputs": [
    {
     "ename": "TypeError",
     "evalue": "'<' not supported between instances of 'list' and 'float'",
     "output_type": "error",
     "traceback": [
      "\u001b[0;31m---------------------------------------------------------------------------\u001b[0m",
      "\u001b[0;31mTypeError\u001b[0m                                 Traceback (most recent call last)",
      "Cell \u001b[0;32mIn[300], line 1\u001b[0m\n\u001b[0;32m----> 1\u001b[0m \u001b[43mHetero3\u001b[49m\u001b[38;5;241;43m.\u001b[39;49m\u001b[43msort\u001b[49m\u001b[43m(\u001b[49m\u001b[43m)\u001b[49m\n",
      "\u001b[0;31mTypeError\u001b[0m: '<' not supported between instances of 'list' and 'float'"
     ]
    }
   ],
   "source": [
    "Hetero3.sort() # You can't sort mixed data type elements"
   ]
  },
  {
   "cell_type": "code",
   "execution_count": 301,
   "metadata": {},
   "outputs": [
    {
     "name": "stdout",
     "output_type": "stream",
     "text": [
      "[1, 2, 3, True, 4.9, 5, False, 78.4, 68, True, 33, False, 22, 12]\n",
      "[False, False, 1, True, True, 2, 3, 4.9, 5, 12, 22, 33, 68, 78.4]\n"
     ]
    },
    {
     "data": {
      "text/plain": [
       "(False, 78.4, 231.3)"
      ]
     },
     "execution_count": 301,
     "metadata": {},
     "output_type": "execute_result"
    }
   ],
   "source": [
    "NumList = [1, 2, 3, True, 4.9, 5, False, 78.4, 68, True, 33, False, 22, 12]\n",
    "print(NumList)\n",
    "type(NumList), len(NumList)\n",
    "\n",
    "NumList.sort()\n",
    "print(NumList)\n",
    "\n",
    "min(NumList), max(NumList), sum(NumList)        # Shows minimum & maximum element values of NumList     # Shows the addition of All elements"
   ]
  },
  {
   "cell_type": "code",
   "execution_count": 302,
   "metadata": {},
   "outputs": [
    {
     "ename": "AttributeError",
     "evalue": "'list' object has no attribute 'arange'",
     "output_type": "error",
     "traceback": [
      "\u001b[0;31m---------------------------------------------------------------------------\u001b[0m",
      "\u001b[0;31mAttributeError\u001b[0m                            Traceback (most recent call last)",
      "Cell \u001b[0;32mIn[302], line 1\u001b[0m\n\u001b[0;32m----> 1\u001b[0m \u001b[43mHetero3\u001b[49m\u001b[38;5;241;43m.\u001b[39;49m\u001b[43marange\u001b[49m()\n",
      "\u001b[0;31mAttributeError\u001b[0m: 'list' object has no attribute 'arange'"
     ]
    }
   ],
   "source": [
    "Hetero3.arange() # arange is available in Numpy only\n",
    "                 # arange(start=*,stop=*,step=*,dtype=*)\n",
    "                 # arange() function is used for creating Array"
   ]
  },
  {
   "cell_type": "code",
   "execution_count": 303,
   "metadata": {},
   "outputs": [
    {
     "ename": "TypeError",
     "evalue": "'<' not supported between instances of 'list' and 'float'",
     "output_type": "error",
     "traceback": [
      "\u001b[0;31m---------------------------------------------------------------------------\u001b[0m",
      "\u001b[0;31mTypeError\u001b[0m                                 Traceback (most recent call last)",
      "Cell \u001b[0;32mIn[303], line 1\u001b[0m\n\u001b[0;32m----> 1\u001b[0m \u001b[38;5;28;43mmin\u001b[39;49m\u001b[43m(\u001b[49m\u001b[43mHetero3\u001b[49m\u001b[43m)\u001b[49m\n",
      "\u001b[0;31mTypeError\u001b[0m: '<' not supported between instances of 'list' and 'float'"
     ]
    }
   ],
   "source": [
    "min(Hetero3) # You cant find min value in mixed data type elements"
   ]
  },
  {
   "cell_type": "code",
   "execution_count": 304,
   "metadata": {},
   "outputs": [
    {
     "ename": "TypeError",
     "evalue": "'>' not supported between instances of 'list' and 'float'",
     "output_type": "error",
     "traceback": [
      "\u001b[0;31m---------------------------------------------------------------------------\u001b[0m",
      "\u001b[0;31mTypeError\u001b[0m                                 Traceback (most recent call last)",
      "Cell \u001b[0;32mIn[304], line 1\u001b[0m\n\u001b[0;32m----> 1\u001b[0m \u001b[38;5;28;43mmax\u001b[39;49m\u001b[43m(\u001b[49m\u001b[43mHetero3\u001b[49m\u001b[43m)\u001b[49m\n",
      "\u001b[0;31mTypeError\u001b[0m: '>' not supported between instances of 'list' and 'float'"
     ]
    }
   ],
   "source": [
    "max(Hetero3) # You cant find max value in mixed data type elements"
   ]
  },
  {
   "cell_type": "code",
   "execution_count": 305,
   "metadata": {},
   "outputs": [
    {
     "ename": "TypeError",
     "evalue": "unsupported operand type(s) for +: 'float' and 'list'",
     "output_type": "error",
     "traceback": [
      "\u001b[0;31m---------------------------------------------------------------------------\u001b[0m",
      "\u001b[0;31mTypeError\u001b[0m                                 Traceback (most recent call last)",
      "Cell \u001b[0;32mIn[305], line 1\u001b[0m\n\u001b[0;32m----> 1\u001b[0m \u001b[38;5;28;43msum\u001b[39;49m\u001b[43m(\u001b[49m\u001b[43mHetero3\u001b[49m\u001b[43m)\u001b[49m\n",
      "\u001b[0;31mTypeError\u001b[0m: unsupported operand type(s) for +: 'float' and 'list'"
     ]
    }
   ],
   "source": [
    "sum(Hetero3) # You cant find sum of mixed data type elements"
   ]
  },
  {
   "cell_type": "markdown",
   "metadata": {},
   "source": [
    "## Tuples are immutable in nature"
   ]
  },
  {
   "cell_type": "markdown",
   "metadata": {},
   "source": [
    "1. Tuple is immutable variable, you can't add(Element), append([E1, E2, E3]) []List format, extend([E1, E2, E3]), remove(Element), pop(Index), discard(Element), insert(Index, [E1, E2, E3]) []List format, swap, sort(), shuffle() & replace() elements of Tuple\n",
    "2. Additionally add(Element), discard(Element) is applicable for Set only\n",
    "3. remove() is applicable for List & Set only\n",
    "1. Tuple.index(Element) #Check the Index of mentioned element\n",
    "2. Tuple[:] #indexing method\n",
    "6. Tuple3 = Tuple1 + Tuple2 #Tuple Concatination\n",
    "7. Tuple.count(Element) #Count Element frequency\n",
    "8. random.sample(Tuple, k=5)\n",
    "10. min(Tuple), max(Tuple), sum(Tuple) #When the Tuple element data types are Integer, Float, Bool"
   ]
  },
  {
   "cell_type": "code",
   "execution_count": 306,
   "metadata": {},
   "outputs": [],
   "source": [
    "# For tuple creation ----> ()\n",
    "# Round bracket is meant for Tuple\n",
    "# It is not mandartory to provide elements inside () for Tuple\n",
    "# We can create tuples without using any brackets also\n",
    "# Tuple is almost similar like List but Tuples are not editable (immutable)\n",
    "# Iteration in tuple is faster than list, reduce time in forming Algorithm\n",
    "# You can't perform Arithmatic operations between Tuples\n",
    "# Round Bracket crestes Tuples\n",
    "# Nested Tuple----- When you create a Tuple inside a Tuple\n",
    "# Homogenous Tuple ----- Tuple following only one datatype\n",
    "# You can't perform Advanced indexing with Tuple\n",
    "# Tuple is immutable variable, you cant add, remove, insert, swap, sort, shuffle & replace elements of Tuple\n",
    "HomoTuple = (1, 2, 3, 4, 5, 6, 7, 8, 9, 10) # Tuple containing only integers\n",
    "MixValues = (\"KESHAV\", 45+9j, True, 39.69, 39) # Tuple containing all type of datas\n",
    "NestTuple = (\"KESHAV\", 45+9j, True, 39.69, 39, (1,2,3,4,5,6,7,8,9,10)) # Homo1 integer Tuple has been taken inside NestTuple"
   ]
  },
  {
   "cell_type": "code",
   "execution_count": 307,
   "metadata": {},
   "outputs": [
    {
     "name": "stdout",
     "output_type": "stream",
     "text": [
      "('KESHAV', (45+9j), True, 39.69, 39, 89)\n"
     ]
    },
    {
     "data": {
      "text/plain": [
       "(tuple, 6)"
      ]
     },
     "execution_count": 307,
     "metadata": {},
     "output_type": "execute_result"
    }
   ],
   "source": [
    "Tuple2 = \"KESHAV\", 45+9j, True, 39.69, 39, 89              # Tuple without round bracket\n",
    "print(Tuple2)\n",
    "type(Tuple2), len(Tuple2)                             # It is not mandartory to provide elements inside () for Tuple"
   ]
  },
  {
   "cell_type": "code",
   "execution_count": 308,
   "metadata": {},
   "outputs": [
    {
     "data": {
      "text/plain": [
       "(1, 0, 5)"
      ]
     },
     "execution_count": 308,
     "metadata": {},
     "output_type": "execute_result"
    }
   ],
   "source": [
    "Tuple2.index(45+9j), Tuple2.index(\"KESHAV\"), NestTuple.index((1,2,3,4,5,6,7,8,9,10)) # Type the Element value & you will get its index value"
   ]
  },
  {
   "cell_type": "code",
   "execution_count": 309,
   "metadata": {},
   "outputs": [
    {
     "ename": "TypeError",
     "evalue": "slice indices must be integers or have an __index__ method",
     "output_type": "error",
     "traceback": [
      "\u001b[0;31m---------------------------------------------------------------------------\u001b[0m",
      "\u001b[0;31mTypeError\u001b[0m                                 Traceback (most recent call last)",
      "Cell \u001b[0;32mIn[309], line 1\u001b[0m\n\u001b[0;32m----> 1\u001b[0m \u001b[43mTuple2\u001b[49m\u001b[38;5;241;43m.\u001b[39;49m\u001b[43mindex\u001b[49m\u001b[43m(\u001b[49m\u001b[38;5;241;43m39\u001b[39;49m\u001b[43m,\u001b[49m\u001b[43m \u001b[49m\u001b[38;5;241;43m45\u001b[39;49m\u001b[38;5;241;43m+\u001b[39;49m\u001b[38;5;241;43m9\u001b[39;49m\u001b[43mj\u001b[49m\u001b[43m)\u001b[49m\n",
      "\u001b[0;31mTypeError\u001b[0m: slice indices must be integers or have an __index__ method"
     ]
    }
   ],
   "source": [
    "Tuple2.index(39, 45+9j) # It doesn't work with Multiple elements at a time"
   ]
  },
  {
   "cell_type": "code",
   "execution_count": 310,
   "metadata": {},
   "outputs": [
    {
     "data": {
      "text/plain": [
       "1"
      ]
     },
     "execution_count": 310,
     "metadata": {},
     "output_type": "execute_result"
    }
   ],
   "source": [
    "Tuple2.count(45+9j) # Type the Element value & you will get its frequency/repeatation"
   ]
  },
  {
   "cell_type": "code",
   "execution_count": 311,
   "metadata": {},
   "outputs": [
    {
     "data": {
      "text/plain": [
       "1"
      ]
     },
     "execution_count": 311,
     "metadata": {},
     "output_type": "execute_result"
    }
   ],
   "source": [
    "NestTuple.count(1) # Type the Element value & you will get its frequency"
   ]
  },
  {
   "cell_type": "code",
   "execution_count": 312,
   "metadata": {},
   "outputs": [
    {
     "name": "stdout",
     "output_type": "stream",
     "text": [
      "('KESHAV', (45+9j), True)\n",
      "((45+9j), True, 39.69)\n"
     ]
    }
   ],
   "source": [
    "print(Tuple2[0:3]) # Shoes tuple elements from begining and ends at 2+1 upperbound\n",
    "print(Tuple2[1:4])"
   ]
  },
  {
   "cell_type": "code",
   "execution_count": 313,
   "metadata": {},
   "outputs": [
    {
     "data": {
      "text/plain": [
       "tuple"
      ]
     },
     "execution_count": 313,
     "metadata": {},
     "output_type": "execute_result"
    }
   ],
   "source": [
    "type(Tuple2)"
   ]
  },
  {
   "cell_type": "code",
   "execution_count": 314,
   "metadata": {},
   "outputs": [
    {
     "name": "stdout",
     "output_type": "stream",
     "text": [
      "KESHAV\n",
      "EH\n"
     ]
    }
   ],
   "source": [
    "print(Tuple2[0]) # Shows first element\n",
    "print(Tuple2[0][1:5:2])"
   ]
  },
  {
   "cell_type": "code",
   "execution_count": 315,
   "metadata": {},
   "outputs": [
    {
     "name": "stdout",
     "output_type": "stream",
     "text": [
      "(1, 2, 3, True, 4.9, 5, False, 78.4, 68, True, 33, False, 22, 12)\n"
     ]
    },
    {
     "data": {
      "text/plain": [
       "(tuple, 14, False, 78.4, 231.3)"
      ]
     },
     "execution_count": 315,
     "metadata": {},
     "output_type": "execute_result"
    }
   ],
   "source": [
    "NumTuple = (1, 2, 3, True, 4.9, 5, False, 78.4, 68, True, 33, False, 22, 12)\n",
    "print(NumTuple)\n",
    "\n",
    "type(NumTuple), len(NumTuple), min(NumTuple), max(NumTuple), sum(NumTuple)"
   ]
  },
  {
   "cell_type": "code",
   "execution_count": 316,
   "metadata": {},
   "outputs": [
    {
     "ename": "AttributeError",
     "evalue": "'tuple' object has no attribute 'sort'",
     "output_type": "error",
     "traceback": [
      "\u001b[0;31m---------------------------------------------------------------------------\u001b[0m",
      "\u001b[0;31mAttributeError\u001b[0m                            Traceback (most recent call last)",
      "Cell \u001b[0;32mIn[316], line 1\u001b[0m\n\u001b[0;32m----> 1\u001b[0m \u001b[43mHomoTuple\u001b[49m\u001b[38;5;241;43m.\u001b[39;49m\u001b[43msort\u001b[49m() \u001b[38;5;66;03m#When the List element data types are Integer, Float, Bool\u001b[39;00m\n\u001b[1;32m      2\u001b[0m \u001b[38;5;28mprint\u001b[39m(HomoTuple)\n\u001b[1;32m      4\u001b[0m NumTuple\u001b[38;5;241m.\u001b[39msort()\n",
      "\u001b[0;31mAttributeError\u001b[0m: 'tuple' object has no attribute 'sort'"
     ]
    }
   ],
   "source": [
    "HomoTuple.sort() #When the List element data types are Integer, Float, Bool\n",
    "print(HomoTuple)\n",
    "\n",
    "NumTuple.sort()\n",
    "print(NumTuple)"
   ]
  },
  {
   "cell_type": "code",
   "execution_count": 317,
   "metadata": {},
   "outputs": [
    {
     "ename": "TypeError",
     "evalue": "'tuple' object does not support item assignment",
     "output_type": "error",
     "traceback": [
      "\u001b[0;31m---------------------------------------------------------------------------\u001b[0m",
      "\u001b[0;31mTypeError\u001b[0m                                 Traceback (most recent call last)",
      "Cell \u001b[0;32mIn[317], line 2\u001b[0m\n\u001b[1;32m      1\u001b[0m \u001b[38;5;66;03m# Tuple is immutable variable, you cant add, remove, insert, swap, shuffle & replace elements of Tuple\u001b[39;00m\n\u001b[0;32m----> 2\u001b[0m Tuple2[\u001b[38;5;241m0\u001b[39m]\u001b[38;5;241m=\u001b[39m \u001b[38;5;124m'\u001b[39m\u001b[38;5;124mPrashant\u001b[39m\u001b[38;5;124m'\u001b[39m\n",
      "\u001b[0;31mTypeError\u001b[0m: 'tuple' object does not support item assignment"
     ]
    }
   ],
   "source": [
    "# Tuple is immutable variable, you cant add, remove, insert, swap, shuffle & replace elements of Tuple\n",
    "Tuple2[0]= 'Prashant' # Tuple is immutable"
   ]
  },
  {
   "cell_type": "code",
   "execution_count": 318,
   "metadata": {},
   "outputs": [
    {
     "ename": "TypeError",
     "evalue": "'tuple' object does not support item assignment",
     "output_type": "error",
     "traceback": [
      "\u001b[0;31m---------------------------------------------------------------------------\u001b[0m",
      "\u001b[0;31mTypeError\u001b[0m                                 Traceback (most recent call last)",
      "Cell \u001b[0;32mIn[318], line 1\u001b[0m\n\u001b[0;32m----> 1\u001b[0m \u001b[43mrandom\u001b[49m\u001b[38;5;241;43m.\u001b[39;49m\u001b[43mshuffle\u001b[49m\u001b[43m(\u001b[49m\u001b[43mNumTuple\u001b[49m\u001b[43m)\u001b[49m\n\u001b[1;32m      2\u001b[0m NumTuple\n",
      "File \u001b[0;32m~/Downloads/miniconda3/envs/ML/lib/python3.8/random.py:307\u001b[0m, in \u001b[0;36mRandom.shuffle\u001b[0;34m(self, x, random)\u001b[0m\n\u001b[1;32m    304\u001b[0m     \u001b[38;5;28;01mfor\u001b[39;00m i \u001b[38;5;129;01min\u001b[39;00m \u001b[38;5;28mreversed\u001b[39m(\u001b[38;5;28mrange\u001b[39m(\u001b[38;5;241m1\u001b[39m, \u001b[38;5;28mlen\u001b[39m(x))):\n\u001b[1;32m    305\u001b[0m         \u001b[38;5;66;03m# pick an element in x[:i+1] with which to exchange x[i]\u001b[39;00m\n\u001b[1;32m    306\u001b[0m         j \u001b[38;5;241m=\u001b[39m randbelow(i\u001b[38;5;241m+\u001b[39m\u001b[38;5;241m1\u001b[39m)\n\u001b[0;32m--> 307\u001b[0m         x[i], x[j] \u001b[38;5;241m=\u001b[39m x[j], x[i]\n\u001b[1;32m    308\u001b[0m \u001b[38;5;28;01melse\u001b[39;00m:\n\u001b[1;32m    309\u001b[0m     _int \u001b[38;5;241m=\u001b[39m \u001b[38;5;28mint\u001b[39m\n",
      "\u001b[0;31mTypeError\u001b[0m: 'tuple' object does not support item assignment"
     ]
    }
   ],
   "source": [
    "random.shuffle(NumTuple)\n",
    "NumTuple # You cant shuffle tuple, because it is immutable"
   ]
  },
  {
   "cell_type": "code",
   "execution_count": 319,
   "metadata": {},
   "outputs": [
    {
     "name": "stdout",
     "output_type": "stream",
     "text": [
      "[39, 39.69, True]\n"
     ]
    }
   ],
   "source": [
    "import random\n",
    "RandTup2 = random.sample(Tuple2, 3) # randomly pick any 3 elements from tuple Tuple2\n",
    "print(RandTup2)"
   ]
  },
  {
   "cell_type": "code",
   "execution_count": 320,
   "metadata": {},
   "outputs": [
    {
     "ename": "AttributeError",
     "evalue": "'tuple' object has no attribute 'add'",
     "output_type": "error",
     "traceback": [
      "\u001b[0;31m---------------------------------------------------------------------------\u001b[0m",
      "\u001b[0;31mAttributeError\u001b[0m                            Traceback (most recent call last)",
      "Cell \u001b[0;32mIn[320], line 1\u001b[0m\n\u001b[0;32m----> 1\u001b[0m \u001b[43mTuple2\u001b[49m\u001b[38;5;241;43m.\u001b[39;49m\u001b[43madd\u001b[49m(\u001b[38;5;241m46\u001b[39m\u001b[38;5;241m+\u001b[39m\u001b[38;5;241m8\u001b[39mj)\n\u001b[1;32m      2\u001b[0m \u001b[38;5;28mprint\u001b[39m(Tuple2)\n",
      "\u001b[0;31mAttributeError\u001b[0m: 'tuple' object has no attribute 'add'"
     ]
    }
   ],
   "source": [
    "Tuple2.add(46+8j)\n",
    "print(Tuple2)"
   ]
  },
  {
   "cell_type": "code",
   "execution_count": 321,
   "metadata": {},
   "outputs": [
    {
     "ename": "AttributeError",
     "evalue": "'tuple' object has no attribute 'append'",
     "output_type": "error",
     "traceback": [
      "\u001b[0;31m---------------------------------------------------------------------------\u001b[0m",
      "\u001b[0;31mAttributeError\u001b[0m                            Traceback (most recent call last)",
      "Cell \u001b[0;32mIn[321], line 1\u001b[0m\n\u001b[0;32m----> 1\u001b[0m \u001b[43mTuple2\u001b[49m\u001b[38;5;241;43m.\u001b[39;49m\u001b[43mappend\u001b[49m[\u001b[38;5;124m\"\u001b[39m\u001b[38;5;124mKunaal\u001b[39m\u001b[38;5;124m\"\u001b[39m]\n",
      "\u001b[0;31mAttributeError\u001b[0m: 'tuple' object has no attribute 'append'"
     ]
    }
   ],
   "source": [
    "Tuple2.append[\"Kunaal\"] # You cant add new string element \"Kunaal\""
   ]
  },
  {
   "cell_type": "code",
   "execution_count": 322,
   "metadata": {},
   "outputs": [
    {
     "ename": "AttributeError",
     "evalue": "'tuple' object has no attribute 'extend'",
     "output_type": "error",
     "traceback": [
      "\u001b[0;31m---------------------------------------------------------------------------\u001b[0m",
      "\u001b[0;31mAttributeError\u001b[0m                            Traceback (most recent call last)",
      "Cell \u001b[0;32mIn[322], line 1\u001b[0m\n\u001b[0;32m----> 1\u001b[0m \u001b[43mTuple2\u001b[49m\u001b[38;5;241;43m.\u001b[39;49m\u001b[43mextend\u001b[49m[\u001b[38;5;124m\"\u001b[39m\u001b[38;5;124mKunaal\u001b[39m\u001b[38;5;124m\"\u001b[39m, \u001b[38;5;241m36\u001b[39m] \u001b[38;5;66;03m# You cant add new elements\u001b[39;00m\n\u001b[1;32m      2\u001b[0m                             \u001b[38;5;66;03m# Extend can add multiple elements,lists at a Time... Though not work for Tuple\u001b[39;00m\n\u001b[1;32m      3\u001b[0m \u001b[38;5;28mprint\u001b[39m(Tuple2)\n",
      "\u001b[0;31mAttributeError\u001b[0m: 'tuple' object has no attribute 'extend'"
     ]
    }
   ],
   "source": [
    "Tuple2.extend[\"Kunaal\", 36] # You cant add new elements\n",
    "                            # Extend can add multiple elements,lists at a Time... Though not work for Tuple\n",
    "print(Tuple2)"
   ]
  },
  {
   "cell_type": "code",
   "execution_count": 323,
   "metadata": {},
   "outputs": [
    {
     "ename": "AttributeError",
     "evalue": "'tuple' object has no attribute 'insert'",
     "output_type": "error",
     "traceback": [
      "\u001b[0;31m---------------------------------------------------------------------------\u001b[0m",
      "\u001b[0;31mAttributeError\u001b[0m                            Traceback (most recent call last)",
      "Cell \u001b[0;32mIn[323], line 1\u001b[0m\n\u001b[0;32m----> 1\u001b[0m \u001b[43mTuple2\u001b[49m\u001b[38;5;241;43m.\u001b[39;49m\u001b[43minsert\u001b[49m(\u001b[38;5;241m3\u001b[39m, [\u001b[38;5;124m\"\u001b[39m\u001b[38;5;124mEnigma\u001b[39m\u001b[38;5;124m\"\u001b[39m, \u001b[38;5;241m67\u001b[39m\u001b[38;5;241m-\u001b[39m\u001b[38;5;241m9\u001b[39mj, \u001b[38;5;28;01mFalse\u001b[39;00m]) \u001b[38;5;66;03m# You cant insert any new element\u001b[39;00m\n\u001b[1;32m      2\u001b[0m \u001b[38;5;28mprint\u001b[39m(Tuple2)\n",
      "\u001b[0;31mAttributeError\u001b[0m: 'tuple' object has no attribute 'insert'"
     ]
    }
   ],
   "source": [
    "Tuple2.insert(3, [\"Enigma\", 67-9j, False]) # You cant insert any new element\n",
    "print(Tuple2)"
   ]
  },
  {
   "cell_type": "code",
   "execution_count": 324,
   "metadata": {},
   "outputs": [
    {
     "ename": "AttributeError",
     "evalue": "'tuple' object has no attribute 'pop'",
     "output_type": "error",
     "traceback": [
      "\u001b[0;31m---------------------------------------------------------------------------\u001b[0m",
      "\u001b[0;31mAttributeError\u001b[0m                            Traceback (most recent call last)",
      "Cell \u001b[0;32mIn[324], line 1\u001b[0m\n\u001b[0;32m----> 1\u001b[0m \u001b[43mTuple2\u001b[49m\u001b[38;5;241;43m.\u001b[39;49m\u001b[43mpop\u001b[49m[\u001b[38;5;241m3\u001b[39m] \u001b[38;5;66;03m# You cant delete the 3rd index element\u001b[39;00m\n\u001b[1;32m      2\u001b[0m \u001b[38;5;28mprint\u001b[39m(Tuple2)\n",
      "\u001b[0;31mAttributeError\u001b[0m: 'tuple' object has no attribute 'pop'"
     ]
    }
   ],
   "source": [
    "Tuple2.pop[3] # You cant delete the 3rd index element\n",
    "print(Tuple2)"
   ]
  },
  {
   "cell_type": "code",
   "execution_count": 325,
   "metadata": {},
   "outputs": [
    {
     "ename": "AttributeError",
     "evalue": "'tuple' object has no attribute 'remove'",
     "output_type": "error",
     "traceback": [
      "\u001b[0;31m---------------------------------------------------------------------------\u001b[0m",
      "\u001b[0;31mAttributeError\u001b[0m                            Traceback (most recent call last)",
      "Cell \u001b[0;32mIn[325], line 1\u001b[0m\n\u001b[0;32m----> 1\u001b[0m \u001b[43mTuple2\u001b[49m\u001b[38;5;241;43m.\u001b[39;49m\u001b[43mremove\u001b[49m[\u001b[38;5;124m\"\u001b[39m\u001b[38;5;124mKESHAV\u001b[39m\u001b[38;5;124m\"\u001b[39m] \u001b[38;5;66;03m# You cant remove any element\u001b[39;00m\n\u001b[1;32m      2\u001b[0m \u001b[38;5;28mprint\u001b[39m(Tuple2)\n",
      "\u001b[0;31mAttributeError\u001b[0m: 'tuple' object has no attribute 'remove'"
     ]
    }
   ],
   "source": [
    "Tuple2.remove[\"KESHAV\"] # You cant remove any element\n",
    "print(Tuple2)"
   ]
  },
  {
   "cell_type": "code",
   "execution_count": 326,
   "metadata": {},
   "outputs": [
    {
     "ename": "AttributeError",
     "evalue": "'tuple' object has no attribute 'discard'",
     "output_type": "error",
     "traceback": [
      "\u001b[0;31m---------------------------------------------------------------------------\u001b[0m",
      "\u001b[0;31mAttributeError\u001b[0m                            Traceback (most recent call last)",
      "Cell \u001b[0;32mIn[326], line 1\u001b[0m\n\u001b[0;32m----> 1\u001b[0m \u001b[43mTuple2\u001b[49m\u001b[38;5;241;43m.\u001b[39;49m\u001b[43mdiscard\u001b[49m(\u001b[38;5;241m45\u001b[39m\u001b[38;5;241m+\u001b[39m\u001b[38;5;241m9\u001b[39mj)\n\u001b[1;32m      2\u001b[0m \u001b[38;5;28mprint\u001b[39m(Tuple2)\n",
      "\u001b[0;31mAttributeError\u001b[0m: 'tuple' object has no attribute 'discard'"
     ]
    }
   ],
   "source": [
    "Tuple2.discard(45+9j)\n",
    "print(Tuple2)"
   ]
  },
  {
   "cell_type": "code",
   "execution_count": 327,
   "metadata": {},
   "outputs": [
    {
     "name": "stdout",
     "output_type": "stream",
     "text": [
      "(1, 2, 3, 4, 5, 6, 7, 8, 9, 10, 'KESHAV', (45+9j), True, 39.69, 39, 89)\n"
     ]
    }
   ],
   "source": [
    "ConcatTup = HomoTuple + Tuple2 # Concatination of Tuples are possible\n",
    "print(ConcatTup)"
   ]
  },
  {
   "cell_type": "code",
   "execution_count": 328,
   "metadata": {},
   "outputs": [],
   "source": [
    "# Tuples are IMMUTABLE in nature"
   ]
  },
  {
   "cell_type": "code",
   "execution_count": 329,
   "metadata": {},
   "outputs": [
    {
     "ename": "TypeError",
     "evalue": "'tuple' object does not support item assignment",
     "output_type": "error",
     "traceback": [
      "\u001b[0;31m---------------------------------------------------------------------------\u001b[0m",
      "\u001b[0;31mTypeError\u001b[0m                                 Traceback (most recent call last)",
      "Cell \u001b[0;32mIn[329], line 2\u001b[0m\n\u001b[1;32m      1\u001b[0m \u001b[38;5;66;03m# Swap/interchange elements by index in a Tuple is not possible, because of immutable nature\u001b[39;00m\n\u001b[0;32m----> 2\u001b[0m Tuple2[\u001b[38;5;241m0\u001b[39m], Tuple2[\u001b[38;5;241m1\u001b[39m], Tuple2[\u001b[38;5;241m2\u001b[39m], Tuple[\u001b[38;5;241m5\u001b[39m] \u001b[38;5;241m=\u001b[39m Tuple2[\u001b[38;5;241m1\u001b[39m], Tuple2[\u001b[38;5;241m0\u001b[39m], Tuple2[\u001b[38;5;241m5\u001b[39m], Tuple2[\u001b[38;5;241m2\u001b[39m]\n\u001b[1;32m      3\u001b[0m Hetero3\n",
      "\u001b[0;31mTypeError\u001b[0m: 'tuple' object does not support item assignment"
     ]
    }
   ],
   "source": [
    "# Swap/interchange elements by index in a Tuple is not possible, because of immutable nature\n",
    "Tuple2[0], Tuple2[1], Tuple2[2], Tuple[5] = Tuple2[1], Tuple2[0], Tuple2[5], Tuple2[2]\n",
    "Hetero3 # Swap index elements 0,1,2,5 with 1,0,5,2"
   ]
  },
  {
   "cell_type": "code",
   "execution_count": 330,
   "metadata": {},
   "outputs": [],
   "source": [
    "# Tuples Doc ----> https://www.w3schools.com/python/python_tuples.asp"
   ]
  },
  {
   "cell_type": "markdown",
   "metadata": {},
   "source": [
    "## Set always has unique elements without repeatations\n",
    "1. There is no data type sequence & index in Set. Set is a collection of Unique Elements, it doesnt takes duplicate values\n",
    "2. You can't append([E1, E2, E3]) []List format, extend([E1, E2, E3]), insert(Index, [E1, E2, E3]) []List format, swap, sort(), sorted(), random.shuffle() & replace() elements of Set.\n",
    "3. Additionally add(Element), discard(Element) is applicable for Set only\n",
    "1. set.add(Element) #add one Element at a time\n",
    "2. set.remove(Element) #remove one Element at a time\n",
    "3. remove() is applicable for List & Set only\n",
    "4. set.discard(Element) #discard one Element at a time\n",
    "5. set.pop() #Bydefault delete the first 1st Element 0th index of Set\n",
    "6. Set only consist unique values\n",
    "7. set.pop(Index) #delete the mentioned Index element\n",
    "8. 5Sample = random.sample(Set, k=5)\n",
    "9. NewSet = set2.union(set1) #merging elements of two different Sets into one new set\n",
    "10. set1.update(set2) #merging element of set2 into set1 or vice versa\n",
    "11. min(Set), max(Set), sum(Set) #When the Set element data types are Integer, Float, Bool"
   ]
  },
  {
   "cell_type": "code",
   "execution_count": 331,
   "metadata": {},
   "outputs": [
    {
     "name": "stdout",
     "output_type": "stream",
     "text": [
      "{1, 2, 3, 4, 33}\n",
      "{True, (89-5j), 11.11, 'Jenny', 56, 89}\n",
      "{True, 'String', 45.77, 50, (67+9j)}\n",
      "{True, 'String', 46.77, 51, (68+9j)}\n"
     ]
    }
   ],
   "source": [
    "# Sets ---> {} ------->\n",
    "# Set is a collection of Unique Elements, it doesnt takes duplicate values\n",
    "# There is no fixed index values of elements\n",
    "# Curly bracket is meant for Set, anything {element} inside curly bracket comes under set\n",
    "# There is no specific sequence of elements in set\n",
    "# Set uses the concept of hash\n",
    "# You can't perform Arithmatic operations between Sets\n",
    "# Set doesnt support duplicate values\n",
    "# Index/Location value doesnt work in set\n",
    "# Concatination is not possible between two sets\n",
    "# Indexing is not possible in set\n",
    "# Set is mutable variable, you can add & remove elements\n",
    "# You can't perform swap, sort, shuffle & replace elements of Set\n",
    "\n",
    "s1 = {1,2,33,33,33,4,4,3,3}\n",
    "print(s1)                                                       # Exclude repeated values\n",
    "\n",
    "Set1 = {\"Jenny\", 89, True, 56, 89-5j, 11.11}\n",
    "print(Set1)\n",
    "SetSequence = {True, \"String\", 67+9j, 45.77, 50}\n",
    "print(SetSequence)\n",
    "\n",
    "NewSet = {True, 46.77, 51, \"String\", 68+9j} # data type sequence in set. Boolean, Float, Integer, String, Complex\n",
    "print(NewSet)"
   ]
  },
  {
   "cell_type": "code",
   "execution_count": 332,
   "metadata": {},
   "outputs": [
    {
     "name": "stdout",
     "output_type": "stream",
     "text": [
      "{5, 14, 21, 22, 55, 25}\n"
     ]
    },
    {
     "data": {
      "text/plain": [
       "(set, 6)"
      ]
     },
     "execution_count": 332,
     "metadata": {},
     "output_type": "execute_result"
    }
   ],
   "source": [
    "s2 = {22,25,14,21,55,5}\n",
    "print(s2)\n",
    "type(s2), len(s2)"
   ]
  },
  {
   "cell_type": "code",
   "execution_count": 333,
   "metadata": {},
   "outputs": [
    {
     "name": "stdout",
     "output_type": "stream",
     "text": [
      "{False, 10.1, 11, (12+10j), 'Prashant'}\n"
     ]
    }
   ],
   "source": [
    "s3 = {10.10,'Prashant',12+10j,False,11} # Elements dont have specific & fixed index value & Sequence\n",
    "print(s3)"
   ]
  },
  {
   "cell_type": "code",
   "execution_count": 334,
   "metadata": {},
   "outputs": [
    {
     "ename": "TypeError",
     "evalue": "'set' object is not subscriptable",
     "output_type": "error",
     "traceback": [
      "\u001b[0;31m---------------------------------------------------------------------------\u001b[0m",
      "\u001b[0;31mTypeError\u001b[0m                                 Traceback (most recent call last)",
      "Cell \u001b[0;32mIn[334], line 1\u001b[0m\n\u001b[0;32m----> 1\u001b[0m \u001b[43ms3\u001b[49m\u001b[43m[\u001b[49m\u001b[38;5;241;43m3\u001b[39;49m\u001b[43m]\u001b[49m\n",
      "\u001b[0;31mTypeError\u001b[0m: 'set' object is not subscriptable"
     ]
    }
   ],
   "source": [
    "s3[3] # In set indexing is not supported"
   ]
  },
  {
   "cell_type": "code",
   "execution_count": 335,
   "metadata": {},
   "outputs": [
    {
     "data": {
      "text/plain": [
       "{14, 25, 63, 75, 98}"
      ]
     },
     "execution_count": 335,
     "metadata": {},
     "output_type": "execute_result"
    }
   ],
   "source": [
    "s4 = {25,14,98,63,75,98}\n",
    "s4"
   ]
  },
  {
   "cell_type": "code",
   "execution_count": 336,
   "metadata": {},
   "outputs": [
    {
     "name": "stdout",
     "output_type": "stream",
     "text": [
      "{40, 10, 50, 20, 30}\n",
      "{100, 70, 80, 90, 60}\n"
     ]
    }
   ],
   "source": [
    "s1 = {10,20,30,40,50}\n",
    "s2 = {60,70,80,90,100}\n",
    "print(s1)\n",
    "print(s2)"
   ]
  },
  {
   "cell_type": "code",
   "execution_count": 337,
   "metadata": {},
   "outputs": [
    {
     "name": "stdout",
     "output_type": "stream",
     "text": [
      "{100, 70, 40, 10, 80, 50, 20, 90, 60, 30}\n",
      "{100, 70, 40, 10, 80, 50, 20, 90, 60, 30}\n"
     ]
    }
   ],
   "source": [
    "NewSet1 = s2.union(s1) # merging two different set elements into one new set\n",
    "print(NewSet1)\n",
    "\n",
    "NewSet2 = s1.union(s2) # merging two different sets elements into one new set\n",
    "print(NewSet2)"
   ]
  },
  {
   "cell_type": "code",
   "execution_count": 338,
   "metadata": {},
   "outputs": [
    {
     "name": "stdout",
     "output_type": "stream",
     "text": [
      "{'banana', 'apple', 'google', 'cherry', 'microsoft'}\n",
      "{'banana', 'apple', 'google', 'cherry', 'microsoft'}\n"
     ]
    }
   ],
   "source": [
    "x = {\"apple\", \"banana\", \"cherry\"}\n",
    "y = {\"google\", \"microsoft\", \"apple\"}\n",
    "a = {\"apple\", \"banana\", \"cherry\"}\n",
    "b = {\"google\", \"microsoft\", \"apple\"}\n",
    "x.update(y)                                       # merging element of set2 into set1 or vice versa\n",
    "print(x)\n",
    "\n",
    "b.update(a)\n",
    "print(b)"
   ]
  },
  {
   "cell_type": "code",
   "execution_count": 339,
   "metadata": {},
   "outputs": [
    {
     "name": "stdout",
     "output_type": "stream",
     "text": [
      "{98, 39, 74, 75, 45, 78, 56, 93, 94}\n",
      "{98, 39, 74, 75, 45, 78, 56, 93, 94}\n"
     ]
    }
   ],
   "source": [
    "Set1 = {45, 78, 98, 56, 39, 93, 75, 94, 74, 98, 75, 56}\n",
    "Set2 = {56, 75, 98, 74, 94, 75, 93, 39, 56, 98, 78, 45}\n",
    "print(Set1)\n",
    "print(Set2)"
   ]
  },
  {
   "cell_type": "code",
   "execution_count": 340,
   "metadata": {},
   "outputs": [
    {
     "name": "stdout",
     "output_type": "stream",
     "text": [
      "{39, 40, 10, 50, 20, 30}\n",
      "{100, 70, 80, 23, 90, 60}\n"
     ]
    }
   ],
   "source": [
    "# Set is mutable variable, you can add & remove, elements of Set\n",
    "# Adding new single element in Set\n",
    "# you cant add multiple elements at a time\n",
    "s1.add(39) # add one element at a time\n",
    "s2.add(23)\n",
    "print(s1)\n",
    "print(s2)"
   ]
  },
  {
   "cell_type": "code",
   "execution_count": 341,
   "metadata": {},
   "outputs": [
    {
     "name": "stdout",
     "output_type": "stream",
     "text": [
      "{100, 70, 80, 23, 90, 60}\n",
      "[100, 90, 70, 80, 23, 60]\n"
     ]
    }
   ],
   "source": [
    "import random\n",
    "print(s2)\n",
    "RandSam = random.sample(s2, k=len(s2)) # randomly pick any 3 elements from set s2\n",
    "print(RandSam)"
   ]
  },
  {
   "cell_type": "code",
   "execution_count": 342,
   "metadata": {},
   "outputs": [
    {
     "ename": "TypeError",
     "evalue": "'set' object is not subscriptable",
     "output_type": "error",
     "traceback": [
      "\u001b[0;31m---------------------------------------------------------------------------\u001b[0m",
      "\u001b[0;31mTypeError\u001b[0m                                 Traceback (most recent call last)",
      "Cell \u001b[0;32mIn[342], line 1\u001b[0m\n\u001b[0;32m----> 1\u001b[0m \u001b[43mrandom\u001b[49m\u001b[38;5;241;43m.\u001b[39;49m\u001b[43mshuffle\u001b[49m\u001b[43m(\u001b[49m\u001b[43ms2\u001b[49m\u001b[43m)\u001b[49m\n\u001b[1;32m      2\u001b[0m \u001b[38;5;28mprint\u001b[39m(s2)\n",
      "File \u001b[0;32m~/Downloads/miniconda3/envs/ML/lib/python3.8/random.py:307\u001b[0m, in \u001b[0;36mRandom.shuffle\u001b[0;34m(self, x, random)\u001b[0m\n\u001b[1;32m    304\u001b[0m     \u001b[38;5;28;01mfor\u001b[39;00m i \u001b[38;5;129;01min\u001b[39;00m \u001b[38;5;28mreversed\u001b[39m(\u001b[38;5;28mrange\u001b[39m(\u001b[38;5;241m1\u001b[39m, \u001b[38;5;28mlen\u001b[39m(x))):\n\u001b[1;32m    305\u001b[0m         \u001b[38;5;66;03m# pick an element in x[:i+1] with which to exchange x[i]\u001b[39;00m\n\u001b[1;32m    306\u001b[0m         j \u001b[38;5;241m=\u001b[39m randbelow(i\u001b[38;5;241m+\u001b[39m\u001b[38;5;241m1\u001b[39m)\n\u001b[0;32m--> 307\u001b[0m         x[i], x[j] \u001b[38;5;241m=\u001b[39m \u001b[43mx\u001b[49m\u001b[43m[\u001b[49m\u001b[43mj\u001b[49m\u001b[43m]\u001b[49m, x[i]\n\u001b[1;32m    308\u001b[0m \u001b[38;5;28;01melse\u001b[39;00m:\n\u001b[1;32m    309\u001b[0m     _int \u001b[38;5;241m=\u001b[39m \u001b[38;5;28mint\u001b[39m\n",
      "\u001b[0;31mTypeError\u001b[0m: 'set' object is not subscriptable"
     ]
    }
   ],
   "source": [
    "random.shuffle(s2)\n",
    "print(s2)"
   ]
  },
  {
   "cell_type": "code",
   "execution_count": 343,
   "metadata": {},
   "outputs": [
    {
     "ename": "AttributeError",
     "evalue": "'set' object has no attribute 'sort'",
     "output_type": "error",
     "traceback": [
      "\u001b[0;31m---------------------------------------------------------------------------\u001b[0m",
      "\u001b[0;31mAttributeError\u001b[0m                            Traceback (most recent call last)",
      "Cell \u001b[0;32mIn[343], line 1\u001b[0m\n\u001b[0;32m----> 1\u001b[0m \u001b[43ms2\u001b[49m\u001b[38;5;241;43m.\u001b[39;49m\u001b[43msort\u001b[49m()\n\u001b[1;32m      2\u001b[0m \u001b[38;5;28mprint\u001b[39m(s2)\n",
      "\u001b[0;31mAttributeError\u001b[0m: 'set' object has no attribute 'sort'"
     ]
    }
   ],
   "source": [
    "s2.sort()\n",
    "print(s2)"
   ]
  },
  {
   "cell_type": "code",
   "execution_count": 344,
   "metadata": {},
   "outputs": [
    {
     "data": {
      "text/plain": [
       "[10.1, 11, False]"
      ]
     },
     "execution_count": 344,
     "metadata": {},
     "output_type": "execute_result"
    }
   ],
   "source": [
    "random.sample(s3, 3) # randomly pick any 3 elements from set s3"
   ]
  },
  {
   "cell_type": "code",
   "execution_count": 345,
   "metadata": {},
   "outputs": [
    {
     "name": "stdout",
     "output_type": "stream",
     "text": [
      "{39, 40, 10, 50, 20, 30}\n",
      "{100, 70, 80, 23, 90, 60}\n",
      "{39, 10, 50, 20, 30}\n",
      "{100, 70, 80, 23, 60}\n"
     ]
    }
   ],
   "source": [
    "print(s1)\n",
    "print(s2)\n",
    "s1.remove(40) # Remove element 40 from s1 Set\n",
    "s2.remove(90) # Remove element 90 from s2 Set\n",
    "print(s1)\n",
    "print(s2)"
   ]
  },
  {
   "cell_type": "code",
   "execution_count": 346,
   "metadata": {},
   "outputs": [
    {
     "name": "stdout",
     "output_type": "stream",
     "text": [
      "{39, 10, 50, 20, 30}\n",
      "{100, 70, 80, 23, 60}\n",
      "{39, 50, 20, 30}\n",
      "{100, 70, 80, 60}\n"
     ]
    }
   ],
   "source": [
    "print(s1)\n",
    "print(s2)\n",
    "s1.discard(10) # Remove element 10 from s1 Set\n",
    "s2.discard(23) # Remove element 23 from s2 Set\n",
    "print(s1)\n",
    "print(s2)"
   ]
  },
  {
   "cell_type": "code",
   "execution_count": 347,
   "metadata": {},
   "outputs": [
    {
     "name": "stdout",
     "output_type": "stream",
     "text": [
      "{True, (89-5j), 11.11, 'Jenny', 56, 89}\n",
      "{39, 50, 20, 30}\n",
      "{100, 70, 80, 60}\n",
      "{50, 20, 30}\n",
      "{70, 80, 60}\n",
      "{(89-5j), 11.11, 'Jenny', 56, 89}\n"
     ]
    }
   ],
   "source": [
    "Set1 = {\"Jenny\", 89, True, 56, 89-5j, 11.11}\n",
    "print(Set1)\n",
    "print(s1)\n",
    "print(s2)\n",
    "s1.pop() # Bydefault delete the first 1st Element of set\n",
    "s2.pop() # Bydefault delete the first 1st Element of set\n",
    "Set1.pop() # Bydefault delete the first 1st Element of set\n",
    "print(s1)\n",
    "print(s2)\n",
    "print(Set1)"
   ]
  },
  {
   "cell_type": "code",
   "execution_count": 348,
   "metadata": {},
   "outputs": [
    {
     "name": "stdout",
     "output_type": "stream",
     "text": [
      "(1, 2, 3, 4.9, 5, 78.4, True, 68, 33, 22, False, 12)\n"
     ]
    },
    {
     "data": {
      "text/plain": [
       "(tuple, 12, False, 78.4, 230.3)"
      ]
     },
     "execution_count": 348,
     "metadata": {},
     "output_type": "execute_result"
    }
   ],
   "source": [
    "NumSet = (1, 2, 3, 4.9, 5, 78.4, True, 68, 33, 22, False, 12)\n",
    "\n",
    "print(NumSet)\n",
    "\n",
    "type(NumSet), len(NumSet), min(NumSet), max(NumSet), sum(NumSet)"
   ]
  },
  {
   "cell_type": "code",
   "execution_count": 349,
   "metadata": {},
   "outputs": [
    {
     "ename": "TypeError",
     "evalue": "unsupported operand type(s) for +: 'set' and 'set'",
     "output_type": "error",
     "traceback": [
      "\u001b[0;31m---------------------------------------------------------------------------\u001b[0m",
      "\u001b[0;31mTypeError\u001b[0m                                 Traceback (most recent call last)",
      "Cell \u001b[0;32mIn[349], line 1\u001b[0m\n\u001b[0;32m----> 1\u001b[0m \u001b[43ms1\u001b[49m\u001b[38;5;241;43m+\u001b[39;49m\u001b[43ms2\u001b[49m\n",
      "\u001b[0;31mTypeError\u001b[0m: unsupported operand type(s) for +: 'set' and 'set'"
     ]
    }
   ],
   "source": [
    "s1+s2 # Addition of two/more sets are not possible because indexing is not fixed... There is no sequence in elements\n",
    "      # Concatination of two/more sets are not possible because indexing is not fixed"
   ]
  },
  {
   "cell_type": "code",
   "execution_count": 350,
   "metadata": {},
   "outputs": [
    {
     "ename": "TypeError",
     "evalue": "unsupported operand type(s) for *: 'set' and 'set'",
     "output_type": "error",
     "traceback": [
      "\u001b[0;31m---------------------------------------------------------------------------\u001b[0m",
      "\u001b[0;31mTypeError\u001b[0m                                 Traceback (most recent call last)",
      "Cell \u001b[0;32mIn[350], line 1\u001b[0m\n\u001b[0;32m----> 1\u001b[0m \u001b[43ms1\u001b[49m\u001b[38;5;241;43m*\u001b[39;49m\u001b[43ms2\u001b[49m\n",
      "\u001b[0;31mTypeError\u001b[0m: unsupported operand type(s) for *: 'set' and 'set'"
     ]
    }
   ],
   "source": [
    "s1*s2 # Multiplication of two/more sets are not possible because indexing is not fixed"
   ]
  },
  {
   "cell_type": "code",
   "execution_count": 351,
   "metadata": {},
   "outputs": [
    {
     "ename": "TypeError",
     "evalue": "unsupported operand type(s) for /: 'set' and 'set'",
     "output_type": "error",
     "traceback": [
      "\u001b[0;31m---------------------------------------------------------------------------\u001b[0m",
      "\u001b[0;31mTypeError\u001b[0m                                 Traceback (most recent call last)",
      "Cell \u001b[0;32mIn[351], line 1\u001b[0m\n\u001b[0;32m----> 1\u001b[0m \u001b[43ms1\u001b[49m\u001b[38;5;241;43m/\u001b[39;49m\u001b[43ms2\u001b[49m\n",
      "\u001b[0;31mTypeError\u001b[0m: unsupported operand type(s) for /: 'set' and 'set'"
     ]
    }
   ],
   "source": [
    "s1/s2 # Division of two/more sets are not possible because indexing is not fixed"
   ]
  },
  {
   "cell_type": "code",
   "execution_count": 352,
   "metadata": {},
   "outputs": [],
   "source": [
    "# Sets always maintain unique values\n",
    "# https://www.w3schools.com/python/python_sets.asp"
   ]
  },
  {
   "cell_type": "markdown",
   "metadata": {},
   "source": [
    "## Dictionary is Collection of Key:Value Pair Combinations\n",
    "1. Dictioneries are Unordered\n",
    "2. Dictioneries don't allow duplicate keys\n",
    "3. Keys always should be immutable ie String or Numeric\n",
    "4. Dict[Key] #Shows Values of the Key\n",
    "5. Dict.get(Key) #Shows Values of the Key\n",
    "6. Dict[Key].index(Value) #See the Index of mentioned Value. One element Value at a time.\n",
    "7. Dict[Key][:] #Dict Key:Value pair indexing\n",
    "8. Dict[Key][::3] #Dict Key:Value pair indexing from start to end by hopping 3 elements cycle\n",
    "9. Dict[Key].append([e1, e2, e3]) #append in List[] format at the end position\n",
    "10. Dict[Key].insert(2, [\"Magenta\", \"White\", \"Pink\"]) #insert new value elements in List[] format at the place of mentioned index\n",
    "11. Dict[Key][Index:0] = e1, e2, e3, e4 #Plugin new value elements at the place of mentioned index\n",
    "12. Dict[Key][Index:0] = [e1] #While plugging in single value element e1 as array\n",
    "13. Dict[Key][index] = e1, e2, e3, e4 #Mentioned value index element got replaced by e1, e2, e3, e4 value elements. () tuple format\n",
    "14. Dict[Key][index] = e1 #Mentioned index value element got replaced by single alone e1 element\n",
    "15. Dict[Key][index] = [e1, e2, e3, e4] #Mentioned index value elements got replaced by e1, e2, e3, e4 value elements. [] list format\n",
    "16. Dict[Key][4:8] = e1, e2, e3, e4 #While replacing value elements from index 4 to index 7\n",
    "17. Dict[Key][4:8] = [e1] # From 4 to 8 exclusive upperbound multiple index value elements will be replaced by single value e1 as array\n",
    "18. Dict[Key].extend([e1, e2, e3, e4]) #Add multiple indivisual value elements to the end position\n",
    "19. Dict[Key][len(Dict[Key]):0] = e1, e2, e3, e4 #Plugin new value elements at the end position\n",
    "20. Dict[Key][len(Dict[Key]):0] = [e1] #While plugging in single value element e1 as array\n",
    "21. Nested_Dict[Root_Key][Nest_Key1][Nest_Key2][Nest_Key3] #Show Values of Nested Keys\n",
    "22. Nested_Dict.get(Root_Key).get(Nest_Key1).get(Nest_Key2).get(Nest_Key3) #Show Values of Nested Keys\n",
    "23. random.shuffle(Dict[\"City\"]) #Shuffle the value elements of \"City\" key Randomly\n",
    "24. Dict[Key] = random.sample(Dict[Key], k=len(Dict[Key])) #Pick randomly equal length sample value elements, without repetitions\n",
    "25. Dict[Key].pop() #By default delete the last value element of Key\n",
    "26. Dict[Key].pop(index) #delete the mentioned Index value element\n",
    "27. Dict.pop(Key) #delete that particular Key:Value pair.\n",
    "28. del Dict[Key] #delete that particular Key:Value Pair.\n",
    "29. Dict[Key].count(Element) #Count the mentioned value Element frequency. One value element at a time.\n",
    "30. Dict[Key].remove(Element) #delete the mentioned value Element, remove() is applicable for List & Set only\n",
    "31. Dict[Key].sort() #When the Dict[Key] value element data types are Integer, Float, Bool\n",
    "32. Dict[Key] = sorted(Dict[Key]) #When the Dict[Key] element data types are Integer, Float, Bool\n",
    "33. Dict.keys() #Show all keys\n",
    "34. Dict.values() #Show all values\n",
    "35. list(Dict.items()) #Show all Key:Value Pairs as Tuples & Convert it into list()\n",
    "36. Dict1.update(Dict2) #Adds Key:Value Pairs of Dict2 within Dict1\n",
    "37. min(Dict[Key]), max(Dict[Key]), sum(Dict[Key]) #When the Dict[Key] value element data types are Integer, Float, Bool\n",
    "38. sys.getsizeof(Dict) #This will show the size of Dict dictionery"
   ]
  },
  {
   "cell_type": "code",
   "execution_count": 459,
   "metadata": {},
   "outputs": [
    {
     "name": "stdout",
     "output_type": "stream",
     "text": [
      "{'Fruits': ['Apple', 'Mango', 'Grapes', 'Pineapple', 'Guava'], 'City': ['Bangalore', 'Mumbai', 'Chennai', 'Kolkata', 'Delhi'], 'Colour': ['Red', 'Green', 'Blue', 'Yellow', 'Purple'], 'Integer': [45, 67, 78, 89, 245], 'Float': [67.56, 78.98, 45.48, 99.99, 56.68], 'Complex': [(78-9j), (45+5j), (89-5j), (56-8j), (38+8j)], 'Boolean': [True, False, True, False, True], 'Mixture': [89, 67.99, (56-4j), True, 'String']}\n",
      "\n",
      "<class 'dict'>\n",
      "\n",
      "8\n",
      "\n",
      "dict_keys(['Fruits', 'City', 'Colour', 'Integer', 'Float', 'Complex', 'Boolean', 'Mixture'])\n",
      "\n",
      "dict_values([['Apple', 'Mango', 'Grapes', 'Pineapple', 'Guava'], ['Bangalore', 'Mumbai', 'Chennai', 'Kolkata', 'Delhi'], ['Red', 'Green', 'Blue', 'Yellow', 'Purple'], [45, 67, 78, 89, 245], [67.56, 78.98, 45.48, 99.99, 56.68], [(78-9j), (45+5j), (89-5j), (56-8j), (38+8j)], [True, False, True, False, True], [89, 67.99, (56-4j), True, 'String']])\n",
      "\n",
      "dict_items([('Fruits', ['Apple', 'Mango', 'Grapes', 'Pineapple', 'Guava']), ('City', ['Bangalore', 'Mumbai', 'Chennai', 'Kolkata', 'Delhi']), ('Colour', ['Red', 'Green', 'Blue', 'Yellow', 'Purple']), ('Integer', [45, 67, 78, 89, 245]), ('Float', [67.56, 78.98, 45.48, 99.99, 56.68]), ('Complex', [(78-9j), (45+5j), (89-5j), (56-8j), (38+8j)]), ('Boolean', [True, False, True, False, True]), ('Mixture', [89, 67.99, (56-4j), True, 'String'])])\n"
     ]
    }
   ],
   "source": [
    "# Create a Dictionary -----> {}  ---- data is represented in the form of Key, Value type\n",
    "# We use Dictionary to customise the indexing\n",
    "# Elements of Dictionary always written inside {}\n",
    "# Here key is the index & value is the element\n",
    "# There could be lots of elements under each key\n",
    "\n",
    "Dict = {'Fruits' : ['Apple', 'Mango', 'Grapes', 'Pineapple', 'Guava'],\n",
    "        'City' : ['Bangalore', 'Mumbai', 'Chennai', 'Kolkata', 'Delhi'],\n",
    "        'Colour' : ['Red', 'Green', 'Blue', 'Yellow', 'Purple'],\n",
    "        'Integer' : [45, 67, 78, 89, 245],\n",
    "        'Float' : [67.56, 78.98, 45.48, 99.99, 56.68],\n",
    "        'Complex' : [78-9j, 45+5j, 89-5j, 56-8j, 38+8j],\n",
    "        'Boolean' : [True, False, True, False, True],\n",
    "        'Mixture' : [89, 67.99, 56-4j, True, 'String']}\n",
    "\n",
    "print(Dict)\n",
    "print()\n",
    "print(type(Dict))\n",
    "print()\n",
    "print(len(Dict))      # Total number of Key:Value Pairs\n",
    "print()\n",
    "print(Dict.keys())     # Show all keys\n",
    "print()\n",
    "print(Dict.values())   # Show all values\n",
    "print()\n",
    "print(Dict.items())    # Show all Key:Value Pairs as Tuples & got converted into list()\n",
    "# We use dictionary in a situation where we need Lookup tables."
   ]
  },
  {
   "cell_type": "code",
   "execution_count": 460,
   "metadata": {},
   "outputs": [
    {
     "name": "stdout",
     "output_type": "stream",
     "text": [
      "{'Date': [0.05, 0.025, 0.016666666666666666, 0.0125, 0.01, 0.008333333333333333], 'Temperature': [32, 35, 28, 24, 32, 31], 'WindSpeed': [6, 7, 2, 7, 4, 2], 'Event': ['Rain', 'Sunny', 'Snow', 'Snow', 'Rain', 'Sunny']}\n",
      "\n",
      "<class 'dict'>\n",
      "\n",
      "4\n",
      "\n",
      "dict_keys(['Date', 'Temperature', 'WindSpeed', 'Event'])\n",
      "\n",
      "dict_values([[0.05, 0.025, 0.016666666666666666, 0.0125, 0.01, 0.008333333333333333], [32, 35, 28, 24, 32, 31], [6, 7, 2, 7, 4, 2], ['Rain', 'Sunny', 'Snow', 'Snow', 'Rain', 'Sunny']])\n",
      "\n",
      "[('Date', [0.05, 0.025, 0.016666666666666666, 0.0125, 0.01, 0.008333333333333333]), ('Temperature', [32, 35, 28, 24, 32, 31]), ('WindSpeed', [6, 7, 2, 7, 4, 2]), ('Event', ['Rain', 'Sunny', 'Snow', 'Snow', 'Rain', 'Sunny'])]\n"
     ]
    }
   ],
   "source": [
    "# Creating data frame by using Dictionary\n",
    "WeatherData={\"Date\":[1/1/20,1/2/20,1/3/20,1/4/20,1/5/20,1/6/20],\n",
    "             \"Temperature\":[32,35,28,24,32,31],\n",
    "             \"WindSpeed\":[6,7,2,7,4,2],\n",
    "             \"Event\":[\"Rain\",\"Sunny\",\"Snow\",\"Snow\",\"Rain\",\"Sunny\"]}\n",
    "\n",
    "print(WeatherData)\n",
    "print()\n",
    "print(type(WeatherData))\n",
    "print()\n",
    "print(len(WeatherData))   # Total number of Key:Value Pairs\n",
    "print()\n",
    "print(WeatherData.keys())   # Show all keys\n",
    "print()\n",
    "print(WeatherData.values())   # Show all values\n",
    "print()\n",
    "print(list(WeatherData.items()))    # Show all Key:Value Pairs as Tuples & got converted into list()"
   ]
  },
  {
   "cell_type": "code",
   "execution_count": 461,
   "metadata": {},
   "outputs": [
    {
     "name": "stdout",
     "output_type": "stream",
     "text": [
      "{'List': [89, 67.99, (56-4j), True, 'String'], 'Tuple': ('String', (78+9j), 78.99, False, 56), 'Set': {(76-4j), True, 45.45, 'Set', 89}}\n",
      "\n",
      "<class 'dict'>\n",
      "\n",
      "3\n",
      "\n",
      "dict_keys(['List', 'Tuple', 'Set'])\n",
      "\n",
      "dict_values([[89, 67.99, (56-4j), True, 'String'], ('String', (78+9j), 78.99, False, 56), {(76-4j), True, 45.45, 'Set', 89}])\n",
      "\n",
      "[('List', [89, 67.99, (56-4j), True, 'String']), ('Tuple', ('String', (78+9j), 78.99, False, 56)), ('Set', {(76-4j), True, 45.45, 'Set', 89})]\n"
     ]
    }
   ],
   "source": [
    "Multi = {\"List\" : [89, 67.99, 56-4j, True, 'String'],\n",
    "         \"Tuple\" : (\"String\", 78+9j, 78.99, False, 56),\n",
    "         \"Set\" : {True, \"Set\", 76-4j, 45.45, 89}}\n",
    "\n",
    "print(Multi)\n",
    "print()\n",
    "print(type(Multi))\n",
    "print()\n",
    "print(len(Multi))     # Total number of Key:Value Pairs\n",
    "print()\n",
    "print(Multi.keys())   # Show all keys\n",
    "print()\n",
    "print(Multi.values())  # Show all values\n",
    "print()\n",
    "print(list(Multi.items()))    # Show all Key:Value Pairs as Tuples & got converted into list()"
   ]
  },
  {
   "cell_type": "markdown",
   "metadata": {},
   "source": [
    "### Creating Nested Dictionery"
   ]
  },
  {
   "cell_type": "code",
   "execution_count": 462,
   "metadata": {},
   "outputs": [
    {
     "name": "stdout",
     "output_type": "stream",
     "text": [
      "{'Student': {'Name': {'Kunaal': {'Marks': {'Physics': 0.89, 'Chem': 0.67, 'Math': 0.87, 'Bio': 0.99}}, 'Anwesh': {'Marks': {'Physics': 0.66, 'Chem': 0.88, 'Math': 0.72, 'Bio': 0.57}}, 'Shibu': {'Marks': {'Physics': 0.69, 'Chem': 0.81, 'Math': 0.7, 'Bio': 0.5}}}}}\n",
      "\n",
      "<class 'dict'>\n",
      "\n",
      "dict_keys(['Student'])\n",
      "\n",
      "dict_values([{'Name': {'Kunaal': {'Marks': {'Physics': 0.89, 'Chem': 0.67, 'Math': 0.87, 'Bio': 0.99}}, 'Anwesh': {'Marks': {'Physics': 0.66, 'Chem': 0.88, 'Math': 0.72, 'Bio': 0.57}}, 'Shibu': {'Marks': {'Physics': 0.69, 'Chem': 0.81, 'Math': 0.7, 'Bio': 0.5}}}}])\n",
      "\n",
      "[('Student', {'Name': {'Kunaal': {'Marks': {'Physics': 0.89, 'Chem': 0.67, 'Math': 0.87, 'Bio': 0.99}}, 'Anwesh': {'Marks': {'Physics': 0.66, 'Chem': 0.88, 'Math': 0.72, 'Bio': 0.57}}, 'Shibu': {'Marks': {'Physics': 0.69, 'Chem': 0.81, 'Math': 0.7, 'Bio': 0.5}}}})]\n"
     ]
    }
   ],
   "source": [
    "Nested_Dict6 = {\"Student\" : {\"Name\" : {\"Kunaal\" : {\"Marks\" : {\"Physics\" : 89/100,\n",
    "                                                              \"Chem\" : 67/100,\n",
    "                                                              \"Math\" : 87/100,\n",
    "                                                              \"Bio\" : 99/100}},\n",
    "                                       \"Anwesh\" : {\"Marks\" : {\"Physics\" : 66/100,\n",
    "                                                              \"Chem\" : 88/100,\n",
    "                                                              \"Math\" : 72/100,\n",
    "                                                              \"Bio\" : 57/100}},\n",
    "                                       \"Shibu\" : {\"Marks\" : {\"Physics\" : 69/100,\n",
    "                                                             \"Chem\" : 81/100,\n",
    "                                                             \"Math\" : 70/100,\n",
    "                                                             \"Bio\" : 50/100}}}}}\n",
    "\n",
    "print(Nested_Dict6)\n",
    "print()\n",
    "print(type(Nested_Dict6))\n",
    "print()\n",
    "print(Nested_Dict6.keys())  # # Shows root key of the Nested Dictionery\n",
    "print()\n",
    "print(Nested_Dict6.values())  # Show all values\n",
    "print()\n",
    "print(list(Nested_Dict6.items()))    # Show all Key:Value Pairs as Tuples & got converted into list()"
   ]
  },
  {
   "cell_type": "code",
   "execution_count": 463,
   "metadata": {},
   "outputs": [
    {
     "name": "stdout",
     "output_type": "stream",
     "text": [
      "{'Name': {'Kunaal': {'Marks': {'Physics': 0.89, 'Chem': 0.67, 'Math': 0.87, 'Bio': 0.99}}, 'Anwesh': {'Marks': {'Physics': 0.66, 'Chem': 0.88, 'Math': 0.72, 'Bio': 0.57}}, 'Shibu': {'Marks': {'Physics': 0.69, 'Chem': 0.81, 'Math': 0.7, 'Bio': 0.5}}}}\n",
      "\n",
      "{'Kunaal': {'Marks': {'Physics': 0.89, 'Chem': 0.67, 'Math': 0.87, 'Bio': 0.99}}, 'Anwesh': {'Marks': {'Physics': 0.66, 'Chem': 0.88, 'Math': 0.72, 'Bio': 0.57}}, 'Shibu': {'Marks': {'Physics': 0.69, 'Chem': 0.81, 'Math': 0.7, 'Bio': 0.5}}}\n",
      "\n",
      "{'Physics': 0.89, 'Chem': 0.67, 'Math': 0.87, 'Bio': 0.99}\n",
      "\n",
      "{'Physics': 0.66, 'Chem': 0.88, 'Math': 0.72, 'Bio': 0.57}\n",
      "\n",
      "{'Physics': 0.69, 'Chem': 0.81, 'Math': 0.7, 'Bio': 0.5}\n"
     ]
    }
   ],
   "source": [
    "print(Nested_Dict6[\"Student\"])\n",
    "print()\n",
    "print(Nested_Dict6[\"Student\"][\"Name\"])\n",
    "print()\n",
    "print(Nested_Dict6[\"Student\"][\"Name\"][\"Kunaal\"][\"Marks\"])\n",
    "print()\n",
    "print(Nested_Dict6[\"Student\"][\"Name\"][\"Anwesh\"][\"Marks\"])\n",
    "print()\n",
    "print(Nested_Dict6[\"Student\"][\"Name\"][\"Shibu\"][\"Marks\"])"
   ]
  },
  {
   "cell_type": "code",
   "execution_count": 464,
   "metadata": {},
   "outputs": [
    {
     "name": "stdout",
     "output_type": "stream",
     "text": [
      "{'Name': {'Kunaal': {'Marks': {'Physics': 0.89, 'Chem': 0.67, 'Math': 0.87, 'Bio': 0.99}}, 'Anwesh': {'Marks': {'Physics': 0.66, 'Chem': 0.88, 'Math': 0.72, 'Bio': 0.57}}, 'Shibu': {'Marks': {'Physics': 0.69, 'Chem': 0.81, 'Math': 0.7, 'Bio': 0.5}}}}\n",
      "\n",
      "{'Kunaal': {'Marks': {'Physics': 0.89, 'Chem': 0.67, 'Math': 0.87, 'Bio': 0.99}}, 'Anwesh': {'Marks': {'Physics': 0.66, 'Chem': 0.88, 'Math': 0.72, 'Bio': 0.57}}, 'Shibu': {'Marks': {'Physics': 0.69, 'Chem': 0.81, 'Math': 0.7, 'Bio': 0.5}}}\n",
      "\n",
      "{'Physics': 0.89, 'Chem': 0.67, 'Math': 0.87, 'Bio': 0.99}\n",
      "\n",
      "{'Physics': 0.66, 'Chem': 0.88, 'Math': 0.72, 'Bio': 0.57}\n",
      "\n",
      "{'Physics': 0.69, 'Chem': 0.81, 'Math': 0.7, 'Bio': 0.5}\n"
     ]
    }
   ],
   "source": [
    "print(Nested_Dict6.get(\"Student\"))\n",
    "print()\n",
    "print(Nested_Dict6.get(\"Student\").get(\"Name\"))\n",
    "print()\n",
    "print(Nested_Dict6.get(\"Student\").get(\"Name\").get(\"Kunaal\").get(\"Marks\"))\n",
    "print()\n",
    "print(Nested_Dict6.get(\"Student\").get(\"Name\").get(\"Anwesh\").get(\"Marks\"))\n",
    "print()\n",
    "print(Nested_Dict6.get(\"Student\").get(\"Name\").get(\"Shibu\").get(\"Marks\"))    #Show Values of Nested Keys"
   ]
  },
  {
   "cell_type": "code",
   "execution_count": 465,
   "metadata": {},
   "outputs": [
    {
     "name": "stdout",
     "output_type": "stream",
     "text": [
      "{'Student': {'Name': ['Kunaal', 'Anwesh', 'Rohit'], 'Kunaal': {'Marks': {'Physics': 0.89, 'Chemistry': 0.67, 'Math': 0.87, 'Biology': 0.99}}, 'Anwesh': {'Marks': {'Physics': 0.84, 'Chemistry': 0.65, 'Math': 0.77, 'Biology': 0.55}}, 'Rohit': {'Marks': {'Physics': 0.72, 'Chemistry': 0.68, 'Math': 0.83, 'Biology': 0.74}}}}\n",
      "\n",
      "<class 'dict'>\n",
      "\n",
      "dict_keys(['Student'])\n",
      "\n",
      "dict_values([{'Name': ['Kunaal', 'Anwesh', 'Rohit'], 'Kunaal': {'Marks': {'Physics': 0.89, 'Chemistry': 0.67, 'Math': 0.87, 'Biology': 0.99}}, 'Anwesh': {'Marks': {'Physics': 0.84, 'Chemistry': 0.65, 'Math': 0.77, 'Biology': 0.55}}, 'Rohit': {'Marks': {'Physics': 0.72, 'Chemistry': 0.68, 'Math': 0.83, 'Biology': 0.74}}}])\n",
      "\n",
      "[('Student', {'Name': ['Kunaal', 'Anwesh', 'Rohit'], 'Kunaal': {'Marks': {'Physics': 0.89, 'Chemistry': 0.67, 'Math': 0.87, 'Biology': 0.99}}, 'Anwesh': {'Marks': {'Physics': 0.84, 'Chemistry': 0.65, 'Math': 0.77, 'Biology': 0.55}}, 'Rohit': {'Marks': {'Physics': 0.72, 'Chemistry': 0.68, 'Math': 0.83, 'Biology': 0.74}}})]\n"
     ]
    }
   ],
   "source": [
    "Nested_Dict5 = {\"Student\" : {\"Name\" : [\"Kunaal\", \"Anwesh\", \"Rohit\"],\n",
    "                             \"Kunaal\" : {\"Marks\" : {\"Physics\" : 89/100,\n",
    "                                                    \"Chemistry\" : 67/100,\n",
    "                                                    \"Math\" : 87/100,\n",
    "                                                    \"Biology\" : 99/100}},\n",
    "                             \"Anwesh\" : {\"Marks\" : {\"Physics\" : 84/100,\n",
    "                                                    \"Chemistry\" : 65/100,\n",
    "                                                    \"Math\" : 77/100,\n",
    "                                                    \"Biology\" : 55/100}},\n",
    "                              \"Rohit\" : {\"Marks\" : {\"Physics\" : 72/100,\n",
    "                                                    \"Chemistry\" : 68/100,\n",
    "                                                    \"Math\" : 83/100,\n",
    "                                                    \"Biology\" : 74/100}}}}\n",
    "\n",
    "print(Nested_Dict5)\n",
    "print()\n",
    "print(type(Nested_Dict5))\n",
    "print()\n",
    "print(Nested_Dict5.keys())  # # Shows root key of the Nested Dictionery\n",
    "print()\n",
    "print(Nested_Dict5.values())  # Show all values\n",
    "print()\n",
    "print(list(Nested_Dict5.items()))    # Show all Key:Value Pairs as Tuples & got converted into list()"
   ]
  },
  {
   "cell_type": "code",
   "execution_count": 466,
   "metadata": {},
   "outputs": [
    {
     "name": "stdout",
     "output_type": "stream",
     "text": [
      "{'Name': ['Kunaal', 'Anwesh', 'Rohit'], 'Kunaal': {'Marks': {'Physics': 0.89, 'Chemistry': 0.67, 'Math': 0.87, 'Biology': 0.99}}, 'Anwesh': {'Marks': {'Physics': 0.84, 'Chemistry': 0.65, 'Math': 0.77, 'Biology': 0.55}}, 'Rohit': {'Marks': {'Physics': 0.72, 'Chemistry': 0.68, 'Math': 0.83, 'Biology': 0.74}}}\n",
      "\n",
      "['Kunaal', 'Anwesh', 'Rohit']\n",
      "\n",
      "{'Physics': 0.89, 'Chemistry': 0.67, 'Math': 0.87, 'Biology': 0.99}\n",
      "\n",
      "{'Physics': 0.84, 'Chemistry': 0.65, 'Math': 0.77, 'Biology': 0.55}\n",
      "\n",
      "{'Physics': 0.72, 'Chemistry': 0.68, 'Math': 0.83, 'Biology': 0.74}\n"
     ]
    }
   ],
   "source": [
    "print(Nested_Dict5[\"Student\"])\n",
    "print()\n",
    "print(Nested_Dict5[\"Student\"][\"Name\"])\n",
    "print()\n",
    "print(Nested_Dict5[\"Student\"][\"Kunaal\"][\"Marks\"])\n",
    "print()\n",
    "print(Nested_Dict5[\"Student\"][\"Anwesh\"][\"Marks\"])\n",
    "print()\n",
    "print(Nested_Dict5[\"Student\"][\"Rohit\"][\"Marks\"])"
   ]
  },
  {
   "cell_type": "code",
   "execution_count": 467,
   "metadata": {},
   "outputs": [
    {
     "name": "stdout",
     "output_type": "stream",
     "text": [
      "{'Name': ['Kunaal', 'Anwesh', 'Rohit'], 'Kunaal': {'Marks': {'Physics': 0.89, 'Chemistry': 0.67, 'Math': 0.87, 'Biology': 0.99}}, 'Anwesh': {'Marks': {'Physics': 0.84, 'Chemistry': 0.65, 'Math': 0.77, 'Biology': 0.55}}, 'Rohit': {'Marks': {'Physics': 0.72, 'Chemistry': 0.68, 'Math': 0.83, 'Biology': 0.74}}}\n",
      "\n",
      "['Kunaal', 'Anwesh', 'Rohit']\n",
      "\n",
      "{'Physics': 0.89, 'Chemistry': 0.67, 'Math': 0.87, 'Biology': 0.99}\n",
      "\n",
      "{'Physics': 0.84, 'Chemistry': 0.65, 'Math': 0.77, 'Biology': 0.55}\n",
      "\n",
      "{'Physics': 0.72, 'Chemistry': 0.68, 'Math': 0.83, 'Biology': 0.74}\n"
     ]
    }
   ],
   "source": [
    "print(Nested_Dict5.get(\"Student\"))\n",
    "print()\n",
    "print(Nested_Dict5.get(\"Student\").get(\"Name\"))\n",
    "print()\n",
    "print(Nested_Dict5.get(\"Student\").get(\"Kunaal\").get(\"Marks\"))\n",
    "print()\n",
    "print(Nested_Dict5.get(\"Student\").get(\"Anwesh\").get(\"Marks\"))\n",
    "print()\n",
    "print(Nested_Dict5.get(\"Student\").get(\"Rohit\").get(\"Marks\"))    #Show Values of Nested Keys"
   ]
  },
  {
   "cell_type": "code",
   "execution_count": 468,
   "metadata": {},
   "outputs": [
    {
     "name": "stdout",
     "output_type": "stream",
     "text": [
      "<class 'list'> <class 'tuple'> <class 'set'>\n",
      "\n",
      "{'List1': [22, (56+6j), 73.56, True, 'List'], 'Tuple2': (89, (67-4j), False, 'Tuple', 55.96), 'Set3': {True, 39.56, 'Set', 55, (66-2j)}}\n",
      "\n",
      "dict_keys(['List1', 'Tuple2', 'Set3'])\n",
      "\n",
      "dict_values([[22, (56+6j), 73.56, True, 'List'], (89, (67-4j), False, 'Tuple', 55.96), {True, 39.56, 'Set', 55, (66-2j)}])\n",
      "\n",
      "[('List1', [22, (56+6j), 73.56, True, 'List']), ('Tuple2', (89, (67-4j), False, 'Tuple', 55.96)), ('Set3', {True, 39.56, 'Set', 55, (66-2j)})]\n"
     ]
    }
   ],
   "source": [
    "Null_Dict = {}\n",
    "Null_Dict\n",
    "Null_Dict[\"List1\"] = [22, 56+6j, 73.56, True, \"List\"]\n",
    "Null_Dict[\"Tuple2\"] = (89, 67-4j, False, \"Tuple\", 55.96)\n",
    "Null_Dict[\"Set3\"] = {\"Set\", 66-2j, 39.56, 55, True}\n",
    "\n",
    "\n",
    "print(type(Null_Dict[\"List1\"]), type(Null_Dict[\"Tuple2\"]), type(Null_Dict[\"Set3\"]))\n",
    "print()\n",
    "print(Null_Dict)\n",
    "print()\n",
    "print(Null_Dict.keys())  # # Shows root key of the Nested Dictionery\n",
    "print()\n",
    "print(Null_Dict.values())  # Show all values\n",
    "print()\n",
    "print(list(Null_Dict.items()))    # Show all Key:Value Pairs as Tuples & got converted into list()"
   ]
  },
  {
   "cell_type": "code",
   "execution_count": 469,
   "metadata": {},
   "outputs": [
    {
     "name": "stdout",
     "output_type": "stream",
     "text": [
      "1 0 5\n"
     ]
    }
   ],
   "source": [
    "print(WeatherData[\"Event\"].index(\"Sunny\"), WeatherData[\"Temperature\"].index(32), WeatherData[\"Date\"].index(1/6/20))"
   ]
  },
  {
   "cell_type": "code",
   "execution_count": 470,
   "metadata": {},
   "outputs": [
    {
     "name": "stdout",
     "output_type": "stream",
     "text": [
      "['Rain', 'Sunny', 'Snow', 'Snow', 'Rain', 'Sunny']\n",
      "['Rain', 'Sunny', 'Snow', 'Snow', 'Rain']\n",
      "['Rain', 'Sunny', 'Snow', 'Snow', 'Rain', 'Sunny']\n"
     ]
    }
   ],
   "source": [
    "print(WeatherData[\"Event\"][0:6]) # Show 0 to 6 excluding upperbound values\n",
    "print(WeatherData[\"Event\"][0:5]) # Show 0 to 2 excluding upperbound values\n",
    "print(WeatherData[\"Event\"])"
   ]
  },
  {
   "cell_type": "code",
   "execution_count": 471,
   "metadata": {},
   "outputs": [
    {
     "name": "stdout",
     "output_type": "stream",
     "text": [
      "['Rain', 'Sunny', 'Snow', 'Snow', 'Rain', 'Sunny']\n",
      "['Rain', 'Sunny', 'Snow', 'Snow', 'Rain']\n",
      "['Rain', 'Sunny', 'Snow', 'Snow', 'Rain', 'Sunny']\n"
     ]
    }
   ],
   "source": [
    "print(WeatherData.get(\"Event\")[0:6]) # Show 0 to 6 excluding upperbound values\n",
    "print(WeatherData.get(\"Event\")[0:5]) # Show 0 to 2 excluding upperbound values\n",
    "print(WeatherData.get(\"Event\"))"
   ]
  },
  {
   "cell_type": "code",
   "execution_count": 472,
   "metadata": {},
   "outputs": [
    {
     "name": "stdout",
     "output_type": "stream",
     "text": [
      "[32, 35, 28, 24, 32, 31]\n",
      "[32, 35, 28, 24, 32]\n",
      "[32, 35, 28, 24, 32, 31]\n"
     ]
    }
   ],
   "source": [
    "print(WeatherData[\"Temperature\"][0:6]) # Show 0 to 6 excluding upperbound values\n",
    "print(WeatherData[\"Temperature\"][0:5]) # Show 0 to 2 excluding upperbound values\n",
    "print(WeatherData[\"Temperature\"])"
   ]
  },
  {
   "cell_type": "code",
   "execution_count": 473,
   "metadata": {},
   "outputs": [
    {
     "name": "stdout",
     "output_type": "stream",
     "text": [
      "[0.05, 0.025, 0.016666666666666666, 0.0125, 0.01, 0.008333333333333333]\n",
      "[0.05, 0.025, 0.016666666666666666, 0.0125, 0.01]\n",
      "[0.05, 0.025, 0.016666666666666666, 0.0125, 0.01, 0.008333333333333333]\n"
     ]
    }
   ],
   "source": [
    "print(WeatherData[\"Date\"][0:6]) # Show 0 to 6 excluding upperbound values\n",
    "print(WeatherData[\"Date\"][0:5]) # Show 0 to 2 excluding upperbound values\n",
    "print(WeatherData[\"Date\"])"
   ]
  },
  {
   "cell_type": "code",
   "execution_count": 474,
   "metadata": {},
   "outputs": [
    {
     "name": "stdout",
     "output_type": "stream",
     "text": [
      "['Rain', 'Snow', 'Rain']\n",
      "Ri\n",
      "['Rain', 'Sunny', 'Snow', 'Snow']\n",
      "['Rain', 'Sunny', 'Snow', 'Snow', 'Rain', 'Sunny']\n",
      "['Red', 'Green', 'Blue', 'Yellow', 'Purple']\n",
      "3 4\n"
     ]
    }
   ],
   "source": [
    "print(WeatherData[\"Event\"][0:6:2])\n",
    "print(WeatherData[\"Event\"][4][0:4:2]) # 4th value \"Rain\" of key \"Event\", 0 to 4th upper bound exclusive values by hopping 2 elements cycle\n",
    "print(WeatherData[\"Event\"][0:4])\n",
    "print(WeatherData[\"Event\"])\n",
    "print(Dict[\"Colour\"])\n",
    "print(Dict[\"Colour\"].index(\"Yellow\"), Dict[\"Colour\"].index(\"Purple\"))"
   ]
  },
  {
   "cell_type": "code",
   "execution_count": 475,
   "metadata": {},
   "outputs": [
    {
     "data": {
      "text/plain": [
       "{'Fruits': ['Apple', 'Grapes', 'Guava', 'Mango', 'Pineapple'],\n",
       " 'City': ['Bangalore', 'Chennai', 'Delhi', 'Kolkata', 'Mumbai'],\n",
       " 'Colour': ['Blue', 'Green', 'Purple', 'Red', 'Yellow'],\n",
       " 'Integer': [45, 67, 78, 89, 245],\n",
       " 'Float': [45.48, 56.68, 67.56, 78.98, 99.99],\n",
       " 'Complex': [(78-9j), (45+5j), (89-5j), (56-8j), (38+8j)],\n",
       " 'Boolean': [True, False, True, False, True],\n",
       " 'Mixture': [89, 67.99, (56-4j), True, 'String']}"
      ]
     },
     "execution_count": 475,
     "metadata": {},
     "output_type": "execute_result"
    }
   ],
   "source": [
    "Dict[\"Float\"].sort()\n",
    "Dict[\"Fruits\"].sort()\n",
    "Dict[\"City\"].sort()\n",
    "Dict[\"Colour\"].sort()\n",
    "Dict[\"Integer\"].sort()\n",
    "\n",
    "Dict"
   ]
  },
  {
   "cell_type": "code",
   "execution_count": 476,
   "metadata": {},
   "outputs": [
    {
     "name": "stdout",
     "output_type": "stream",
     "text": [
      "['Rain', 'Snow']\n"
     ]
    }
   ],
   "source": [
    "print(WeatherData[\"Event\"][::3]) # 0 to last index values of \"Event\" key. By hopping 3 elements cycle"
   ]
  },
  {
   "cell_type": "code",
   "execution_count": 477,
   "metadata": {},
   "outputs": [
    {
     "name": "stdout",
     "output_type": "stream",
     "text": [
      "['Rain', 'Sunny', 'Snow', 'Snow', 'Rain', 'Sunny', ['Local', 'National', 'International']]\n",
      "{'Date': [0.05, 0.025, 0.016666666666666666, 0.0125, 0.01, 0.008333333333333333], 'Temperature': [32, 35, 28, 24, 32, 31], 'WindSpeed': [6, 7, 2, 7, 4, 2], 'Event': ['Rain', 'Sunny', 'Snow', 'Snow', 'Rain', 'Sunny', ['Local', 'National', 'International']]}\n"
     ]
    }
   ],
   "source": [
    "WeatherData[\"Event\"].append([\"Local\", \"National\", \"International\"])    #append in List[] format at the end position\n",
    "print(WeatherData[\"Event\"])\n",
    "print(WeatherData)"
   ]
  },
  {
   "cell_type": "code",
   "execution_count": 478,
   "metadata": {},
   "outputs": [
    {
     "name": "stdout",
     "output_type": "stream",
     "text": [
      "{'Fruits': ['Apple', 'Grapes', 'Guava', 'Mango', 'Pineapple'], 'City': ['Bangalore', 'Chennai', 'Delhi', 'Kolkata', 'Mumbai'], 'Colour': ['Blue', 'Green', ['Magenta', 'White', 'Pink'], 'Purple', 'Red', 'Yellow'], 'Integer': [45, 67, 78, 89, 245], 'Float': [45.48, 56.68, 67.56, 78.98, 99.99], 'Complex': [(78-9j), (45+5j), (89-5j), (56-8j), (38+8j)], 'Boolean': [True, False, True, False, True], 'Mixture': [89, 67.99, (56-4j), True, 'String']}\n"
     ]
    }
   ],
   "source": [
    "Dict[\"Colour\"].insert(2, [\"Magenta\", \"White\", \"Pink\"])   #insert new value elements in List[] format at the place of mentioned index\n",
    "print(Dict)"
   ]
  },
  {
   "cell_type": "code",
   "execution_count": 479,
   "metadata": {},
   "outputs": [
    {
     "name": "stdout",
     "output_type": "stream",
     "text": [
      "{'Fruits': ['Apple', 'Grapes', 'Guava', 'Mango', 'Pineapple'], 'City': ['Bangalore', 'Chennai', 'Delhi', 'Kolkata', 'Mumbai'], 'Colour': ['Blue', 'Green', ['Magenta', 'White', 'Pink'], 'Purple', 'Magenta', 'Brown', 'Red', 'Yellow'], 'Integer': [45, 67, 78, 89, 245], 'Float': [45.48, 56.68, 67.56, 78.98, 99.99], 'Complex': [(78-9j), (45+5j), (89-5j), (56-8j), (38+8j)], 'Boolean': [True, False, True, False, True], 'Mixture': [89, 67.99, (56-4j), True, 'String']}\n"
     ]
    }
   ],
   "source": [
    "Dict[\"Colour\"][4:0] = \"Magenta\", \"Brown\"   #\"Colour\" key, Plugin new elements \"Magenta\", \"Brown\" at the place of 4th value\n",
    "print(Dict)"
   ]
  },
  {
   "cell_type": "code",
   "execution_count": 480,
   "metadata": {},
   "outputs": [
    {
     "name": "stdout",
     "output_type": "stream",
     "text": [
      "{'Fruits': ['Apple', 'Grapes', 'Guava', 'Mango', 'Pineapple'], 'City': ['Bangalore', 'Chennai', 'Delhi', 'Kolkata', 'Hamunaptra', 'Mumbai'], 'Colour': ['Blue', 'Green', ['Magenta', 'White', 'Pink'], 'Purple', 'Magenta', 'Brown', 'Red', 'Yellow'], 'Integer': [45, 67, 78, 89, 245], 'Float': [45.48, 56.68, 67.56, 78.98, 99.99], 'Complex': [(78-9j), (45+5j), (89-5j), (56-8j), (38+8j)], 'Boolean': [True, False, True, False, True], 'Mixture': [89, 67.99, (56-4j), True, 'String']}\n"
     ]
    }
   ],
   "source": [
    "Dict[\"City\"][4:0] = [\"Hamunaptra\"] # \"Hamunaptra\" as array has been plugged in at 4th value place of key \"City\"\n",
    "print(Dict)"
   ]
  },
  {
   "cell_type": "code",
   "execution_count": 481,
   "metadata": {},
   "outputs": [
    {
     "name": "stdout",
     "output_type": "stream",
     "text": [
      "{'Fruits': ['Apple', 'Grapes', 'Guava', ('Banana', 'Potato', 'Chiku'), 'Pineapple'], 'City': ['Bangalore', 'Chennai', 'Delhi', 'Kolkata', 'Hamunaptra', 'Mumbai'], 'Colour': ['Blue', 'Green', ['Magenta', 'White', 'Pink'], 'Purple', 'Magenta', 'Brown', 'Red', 'Yellow'], 'Integer': [45, 67, 78, 89, 245], 'Float': [45.48, 56.68, 67.56, 78.98, 99.99], 'Complex': [(78-9j), (45+5j), (89-5j), (56-8j), (38+8j)], 'Boolean': [True, False, True, False, True], 'Mixture': [89, 67.99, (56-4j), True, 'String']}\n"
     ]
    }
   ],
   "source": [
    "Dict[\"Fruits\"][3] = \"Banana\", \"Potato\", \"Chiku\"   # \"Fruits\" key, 3rd value got replaced by\n",
    "print(Dict)"
   ]
  },
  {
   "cell_type": "code",
   "execution_count": 482,
   "metadata": {},
   "outputs": [
    {
     "name": "stdout",
     "output_type": "stream",
     "text": [
      "{'Fruits': ['Apple', 'Grapes', 'Guava', ('Banana', 'Potato', 'Chiku'), 'Pineapple'], 'City': ['Bangalore', 'Chennai', 'Delhi', 'Kolkata', 'Hamunaptra', 'Mumbai'], 'Colour': ['Blue', 'Green', ['Magenta', 'White', 'Pink'], 'Purple', 'Violet', 'Orange', 'Black', 'Grey'], 'Integer': [45, 67, 78, 89, 245], 'Float': [45.48, 56.68, 67.56, 78.98, 99.99], 'Complex': [(78-9j), (45+5j), (89-5j), (56-8j), (38+8j)], 'Boolean': [True, False, True, False, True], 'Mixture': [89, 67.99, (56-4j), True, 'String']}\n"
     ]
    }
   ],
   "source": [
    "Dict[\"Colour\"][4:8] = \"Violet\", \"Orange\", \"Black\", \"Grey\"  # \"Colour\" key. from 4th to 8th exclusive upperbound value got replaced by\n",
    "                                                           # replaced by \"Violet\", \"Orange\", \"Black\", \"Grey\"\n",
    "print(Dict)"
   ]
  },
  {
   "cell_type": "code",
   "execution_count": 483,
   "metadata": {},
   "outputs": [
    {
     "name": "stdout",
     "output_type": "stream",
     "text": [
      "{'Fruits': ['Apple', 'Grapes', 'Guava', ('Banana', 'Potato', 'Chiku'), 'Pineapple'], 'City': ['Bangalore', 'Chennai', 'Delhi', 'Kolkata', 'Hamunaptra', 'Mumbai'], 'Colour': ['Blue', 'Green', ['Magenta', 'White', 'Pink'], 'Purple', 'Maroon', 'Orange', 'Black', 'Grey'], 'Integer': [45, 67, 78, 89, 245], 'Float': [45.48, 56.68, 67.56, 78.98, 99.99], 'Complex': [(78-9j), (45+5j), (89-5j), (56-8j), (38+8j)], 'Boolean': [True, False, True, False, True], 'Mixture': [89, 67.99, (56-4j), True, 'String']}\n"
     ]
    }
   ],
   "source": [
    "Dict[\"Colour\"][4:5] = [\"Maroon\"]  # \"Colour\" key. from 4th to 5th value upperbound got replaced by [\"Maroon\"] as array\n",
    "print(Dict)"
   ]
  },
  {
   "cell_type": "code",
   "execution_count": 484,
   "metadata": {},
   "outputs": [
    {
     "name": "stdout",
     "output_type": "stream",
     "text": [
      "{'Fruits': ['Apple', 'Grapes', 'Guava', ('Banana', 'Potato', 'Chiku'), 'Pineapple'], 'City': ['Bangalore', 'Chennai', 'Delhi', 'Kolkata', 'Hamunaptra', 'Mumbai'], 'Colour': ['Blue', 'Green', ['Magenta', 'White', 'Pink'], 'Purple', 'Maroon', 'Michiko', 'Black', 'Grey'], 'Integer': [45, 67, 78, 89, 245], 'Float': [45.48, 56.68, 67.56, 78.98, 99.99], 'Complex': [(78-9j), (45+5j), (89-5j), (56-8j), (38+8j)], 'Boolean': [True, False, True, False, True], 'Mixture': [89, 67.99, (56-4j), True, 'String']}\n"
     ]
    }
   ],
   "source": [
    "Dict[\"Colour\"][5] = \"Michiko\" # \"Colour\" key. 5th value got replaced by \"Michiko\" alone\n",
    "print(Dict)"
   ]
  },
  {
   "cell_type": "code",
   "execution_count": 485,
   "metadata": {},
   "outputs": [
    {
     "name": "stdout",
     "output_type": "stream",
     "text": [
      "{'Date': [0.05, 0.025, 0.016666666666666666, 0.0125, 0.01, 0.008333333333333333], 'Temperature': [32, 35, 28, 24, [32, 67, 42, 69], 31], 'WindSpeed': [6, 7, 2, 7, 4, 2], 'Event': ['Rain', 'Sunny', 'Snow', 'Snow', 'Rain', 'Sunny', ['Local', 'National', 'International']]}\n"
     ]
    }
   ],
   "source": [
    "WeatherData[\"Temperature\"][4] = [32, 67, 42, 69]  # \"Temperature\" key, 4th value got replaced by 32, 67, 42, 69 in list[] format\n",
    "print(WeatherData)"
   ]
  },
  {
   "cell_type": "code",
   "execution_count": 486,
   "metadata": {},
   "outputs": [
    {
     "name": "stdout",
     "output_type": "stream",
     "text": [
      "{'Date': [0.05, 0.025, 0.016666666666666666, 0.0125, 0.01, 0.008333333333333333], 'Temperature': [32, 35, 28, 24, [32, 67, 42, 69], 31], 'WindSpeed': [6, 7, 2, 7, 4, 2, 67, 76, 87, 102], 'Event': ['Rain', 'Sunny', 'Snow', 'Snow', 'Rain', 'Sunny', ['Local', 'National', 'International']]}\n"
     ]
    }
   ],
   "source": [
    "WeatherData[\"WindSpeed\"].extend([67, 76, 87, 102])     # #Add multiple indivisual elements to the end position\n",
    "print(WeatherData)"
   ]
  },
  {
   "cell_type": "code",
   "execution_count": 487,
   "metadata": {},
   "outputs": [
    {
     "name": "stdout",
     "output_type": "stream",
     "text": [
      "{'Fruits': ['Apple', 'Grapes', 'Guava', ('Banana', 'Potato', 'Chiku'), 'Pineapple'], 'City': ['Bangalore', 'Chennai', 'Delhi', 'Kolkata', 'Hamunaptra', 'Mumbai', 'Mysore', 'Bihar', 'Malda', 'Kochi'], 'Colour': ['Blue', 'Green', ['Magenta', 'White', 'Pink'], 'Purple', 'Maroon', 'Michiko', 'Black', 'Grey'], 'Integer': [45, 67, 78, 89, 245], 'Float': [45.48, 56.68, 67.56, 78.98, 99.99], 'Complex': [(78-9j), (45+5j), (89-5j), (56-8j), (38+8j)], 'Boolean': [True, False, True, False, True], 'Mixture': [89, 67.99, (56-4j), True, 'String']}\n"
     ]
    }
   ],
   "source": [
    "Dict[\"City\"][len(Dict[\"City\"]):0] = \"Mysore\", \"Bihar\", \"Malda\", \"Kochi\"       #Plugin new elements at the end position\n",
    "print(Dict)"
   ]
  },
  {
   "cell_type": "code",
   "execution_count": 488,
   "metadata": {},
   "outputs": [
    {
     "name": "stdout",
     "output_type": "stream",
     "text": [
      "{'Fruits': ['Apple', 'Grapes', 'Guava', ('Banana', 'Potato', 'Chiku'), 'Pineapple'], 'City': ['Bangalore', 'Chennai', 'Delhi', 'Kolkata', 'Hamunaptra', 'Mumbai', 'Mysore', 'Bihar', 'Malda', 'Kochi'], 'Colour': ['Blue', 'Green', ['Magenta', 'White', 'Pink'], 'Purple', 'Maroon', 'Michiko', 'Black', 'Grey'], 'Integer': [45, 67, 78, 89, 245], 'Float': [45.48, 56.68, 67.56, 78.98, 99.99], 'Complex': [(78-9j), (45+5j), (89-5j), (56-8j), (38+8j)], 'Boolean': [True, False, True, False, True], 'Mixture': [89, 67.99, (56-4j), True, 'String']}\n"
     ]
    }
   ],
   "source": [
    "print(Dict)"
   ]
  },
  {
   "cell_type": "code",
   "execution_count": 489,
   "metadata": {},
   "outputs": [
    {
     "name": "stdout",
     "output_type": "stream",
     "text": [
      "{'Date': [0.05, 0.025, 0.016666666666666666, 0.0125, 0.01, 0.008333333333333333], 'Temperature': [32, 35, 28, 24, [32, 67, 42, 69], 31], 'WindSpeed': [6, 7, 2, 7, 4, 2, 67, 76, 87, 102], 'Event': ['Rain', 'Sunny', 'Snow', 'Snow', 'Rain', 'Sunny', ['Local', 'National', 'International']]}\n"
     ]
    }
   ],
   "source": [
    "print(WeatherData)"
   ]
  },
  {
   "cell_type": "code",
   "execution_count": 490,
   "metadata": {},
   "outputs": [
    {
     "name": "stdout",
     "output_type": "stream",
     "text": [
      "{'Fruits': ['Apple', 'Grapes', 'Guava', ('Banana', 'Potato', 'Chiku'), 'Pineapple'], 'City': ['Bangalore', 'Chennai', 'Delhi', 'Kolkata', 'Hamunaptra', 'Mumbai', 'Mysore', 'Bihar', 'Malda', 'Kochi', 'New York'], 'Colour': ['Blue', 'Green', ['Magenta', 'White', 'Pink'], 'Purple', 'Maroon', 'Michiko', 'Black', 'Grey'], 'Integer': [45, 67, 78, 89, 245], 'Float': [45.48, 56.68, 67.56, 78.98, 99.99], 'Complex': [(78-9j), (45+5j), (89-5j), (56-8j), (38+8j)], 'Boolean': [True, False, True, False, True], 'Mixture': [89, 67.99, (56-4j), True, 'String']}\n"
     ]
    }
   ],
   "source": [
    "Dict[\"City\"][len(Dict[\"City\"]):0] = [\"New York\"]       # While plugging in single element \"New York\" at the end\n",
    "print(Dict)"
   ]
  },
  {
   "cell_type": "code",
   "execution_count": 491,
   "metadata": {},
   "outputs": [
    {
     "name": "stdout",
     "output_type": "stream",
     "text": [
      "{'Fruits': ['Apple', 'Grapes', 'Guava', ('Banana', 'Potato', 'Chiku'), 'Pineapple'], 'City': ['Malda', 'Bangalore', 'New York', 'Delhi', 'Kolkata', 'Kochi', 'Chennai', 'Mysore', 'Bihar', 'Hamunaptra', 'Mumbai'], 'Colour': ['Blue', 'Green', ['Magenta', 'White', 'Pink'], 'Purple', 'Maroon', 'Michiko', 'Black', 'Grey'], 'Integer': [45, 67, 78, 89, 245], 'Float': [45.48, 56.68, 67.56, 78.98, 99.99], 'Complex': [(78-9j), (45+5j), (89-5j), (56-8j), (38+8j)], 'Boolean': [True, False, True, False, True], 'Mixture': [89, 67.99, (56-4j), True, 'String']}\n"
     ]
    }
   ],
   "source": [
    "import random\n",
    "random.shuffle(Dict[\"City\"])             #Shuffle the list elements Randomly\n",
    "print(Dict)"
   ]
  },
  {
   "cell_type": "code",
   "execution_count": 492,
   "metadata": {},
   "outputs": [
    {
     "name": "stdout",
     "output_type": "stream",
     "text": [
      "{'Fruits': ['Apple', 'Grapes', 'Guava', ('Banana', 'Potato', 'Chiku'), 'Pineapple'], 'City': ['Malda', 'Bangalore', 'New York', 'Delhi', 'Kolkata', 'Kochi', 'Chennai', 'Mysore', 'Bihar', 'Hamunaptra', 'Mumbai'], 'Colour': ['Michiko', 'Green', 'Purple', 'Maroon', 'Blue', 'Black', 'Grey', ['Magenta', 'White', 'Pink']], 'Integer': [45, 67, 78, 89, 245], 'Float': [45.48, 56.68, 67.56, 78.98, 99.99], 'Complex': [(78-9j), (45+5j), (89-5j), (56-8j), (38+8j)], 'Boolean': [True, False, True, False, True], 'Mixture': [89, 67.99, (56-4j), True, 'String']}\n"
     ]
    }
   ],
   "source": [
    "Dict[\"Colour\"] = random.sample(Dict[\"Colour\"], k=len(Dict[\"Colour\"])) #Pick randomly 5 sample elements\n",
    "print(Dict)"
   ]
  },
  {
   "cell_type": "code",
   "execution_count": 493,
   "metadata": {},
   "outputs": [
    {
     "name": "stdout",
     "output_type": "stream",
     "text": [
      "{'Fruits': ['Apple', 'Grapes', 'Guava', ('Banana', 'Potato', 'Chiku'), 'Pineapple'], 'City': ['Malda', 'Bangalore', 'New York', 'Delhi', 'Kolkata', 'Kochi', 'Chennai', 'Mysore', 'Bihar', 'Hamunaptra', 'Mumbai'], 'Colour': ['Michiko', 'Green', 'Purple', 'Maroon', 'Blue', 'Black', 'Grey'], 'Integer': [45, 67, 78, 89, 245], 'Float': [45.48, 56.68, 67.56, 78.98, 99.99], 'Complex': [(78-9j), (45+5j), (89-5j), (56-8j), (38+8j)], 'Boolean': [True, False, True, False, True], 'Mixture': [89, 67.99, (56-4j), True, 'String']}\n"
     ]
    }
   ],
   "source": [
    "Dict[\"Colour\"].pop() #By default delete the last value element of \"Colour\" key\n",
    "print(Dict)"
   ]
  },
  {
   "cell_type": "code",
   "execution_count": 494,
   "metadata": {},
   "outputs": [
    {
     "name": "stdout",
     "output_type": "stream",
     "text": [
      "{'Fruits': ['Apple', 'Grapes', 'Guava', ('Banana', 'Potato', 'Chiku'), 'Pineapple'], 'City': ['Malda', 'Bangalore', 'New York', 'Delhi', 'Kolkata', 'Kochi', 'Chennai', 'Mysore', 'Bihar', 'Mumbai'], 'Colour': ['Michiko', 'Green', 'Purple', 'Maroon', 'Blue', 'Black', 'Grey'], 'Integer': [45, 67, 78, 89, 245], 'Float': [45.48, 56.68, 67.56, 78.98, 99.99], 'Complex': [(78-9j), (45+5j), (89-5j), (56-8j), (38+8j)], 'Boolean': [True, False, True, False, True], 'Mixture': [89, 67.99, (56-4j), True, 'String']}\n"
     ]
    }
   ],
   "source": [
    "Dict[\"City\"].pop(Dict[\"City\"].index(\"Hamunaptra\"))    #Delete the mentioned value index element of \"Colour\" key\n",
    "print(Dict)                                           #Delete the index of \"Hamunaptra\""
   ]
  },
  {
   "cell_type": "code",
   "execution_count": 495,
   "metadata": {},
   "outputs": [
    {
     "data": {
      "text/plain": [
       "1"
      ]
     },
     "execution_count": 495,
     "metadata": {},
     "output_type": "execute_result"
    }
   ],
   "source": [
    "Dict[\"City\"].count(\"Chennai\") #Count the mentioned Element frequency"
   ]
  },
  {
   "cell_type": "code",
   "execution_count": 496,
   "metadata": {},
   "outputs": [
    {
     "name": "stdout",
     "output_type": "stream",
     "text": [
      "{'Fruits': ['Apple', 'Grapes', 'Guava', ('Banana', 'Potato', 'Chiku'), 'Pineapple'], 'City': ['Malda', 'Bangalore', 'Delhi', 'Kolkata', 'Kochi', 'Chennai', 'Mysore', 'Bihar', 'Mumbai'], 'Colour': ['Michiko', 'Green', 'Purple', 'Maroon', 'Blue', 'Black', 'Grey'], 'Integer': [45, 67, 78, 89, 245], 'Float': [45.48, 56.68, 67.56, 78.98, 99.99], 'Complex': [(78-9j), (45+5j), (89-5j), (56-8j), (38+8j)], 'Boolean': [True, False, True, False, True], 'Mixture': [89, 67.99, (56-4j), True, 'String']}\n"
     ]
    }
   ],
   "source": [
    "Dict[\"City\"].remove(\"New York\")     #delete the mentioned Element, remove() is applicable for List & Set only\n",
    "print(Dict)"
   ]
  },
  {
   "cell_type": "code",
   "execution_count": 497,
   "metadata": {},
   "outputs": [
    {
     "data": {
      "text/plain": [
       "list"
      ]
     },
     "execution_count": 497,
     "metadata": {},
     "output_type": "execute_result"
    }
   ],
   "source": [
    "type(Dict[\"City\"])"
   ]
  },
  {
   "cell_type": "code",
   "execution_count": 498,
   "metadata": {},
   "outputs": [
    {
     "data": {
      "text/plain": [
       "(dict, dict, 8, 4)"
      ]
     },
     "execution_count": 498,
     "metadata": {},
     "output_type": "execute_result"
    }
   ],
   "source": [
    "type(Dict), type(WeatherData), len(Dict), len(WeatherData)"
   ]
  },
  {
   "cell_type": "code",
   "execution_count": 501,
   "metadata": {},
   "outputs": [
    {
     "name": "stdout",
     "output_type": "stream",
     "text": [
      "232\n",
      "360\n",
      "232\n",
      "232\n",
      "232\n",
      "232\n"
     ]
    }
   ],
   "source": [
    "import sys\n",
    "print(sys.getsizeof(WeatherData))\n",
    "print(sys.getsizeof(Dict))\n",
    "print(sys.getsizeof(Multi))\n",
    "print(sys.getsizeof(Null_Dict))\n",
    "print(sys.getsizeof(Nested_Dict5))\n",
    "print(sys.getsizeof(Nested_Dict6))"
   ]
  },
  {
   "cell_type": "code",
   "execution_count": 523,
   "metadata": {},
   "outputs": [
    {
     "name": "stdout",
     "output_type": "stream",
     "text": [
      "{'Fruits': ['Apple', 'Mango', 'Grapes', 'Pineapple', 'Guava'], 'City': ['Bangalore', 'Mumbai', 'Chennai', 'Kolkata', 'Delhi'], 'Colour': ['Red', 'Green', 'Blue', 'Yellow', 'Purple'], 'Integer': [45, 67, 78, 89, 245], 'Float': [67.56, 78.98, 45.48, 99.99, 56.68], 'Complex': [(78-9j), (45+5j), (89-5j), (56-8j), (38+8j)], 'Boolean': [True, False, True, False, True], 'Mixture': [89, 67.99, (56-4j), True, 'String']}\n"
     ]
    }
   ],
   "source": [
    "# Create a Dictionary -----> {}  ---- data is represented in the form of Key, Value type\n",
    "# We use Dictionary to customise the indexing\n",
    "# Elements of Dictionary always written inside {}\n",
    "# Here key is the index & value is the element\n",
    "# There could be lots of elements under each key\n",
    "\n",
    "Dict = {'Fruits' : ['Apple', 'Mango', 'Grapes', 'Pineapple', 'Guava'],\n",
    "        'City' : ['Bangalore', 'Mumbai', 'Chennai', 'Kolkata', 'Delhi'],\n",
    "        'Colour' : ['Red', 'Green', 'Blue', 'Yellow', 'Purple'],\n",
    "        'Integer' : [45, 67, 78, 89, 245],\n",
    "        'Float' : [67.56, 78.98, 45.48, 99.99, 56.68],\n",
    "        'Complex' : [78-9j, 45+5j, 89-5j, 56-8j, 38+8j],\n",
    "        'Boolean' : [True, False, True, False, True],\n",
    "        'Mixture' : [89, 67.99, 56-4j, True, 'String']}\n",
    "\n",
    "print(Dict)"
   ]
  },
  {
   "cell_type": "code",
   "execution_count": 524,
   "metadata": {},
   "outputs": [
    {
     "name": "stdout",
     "output_type": "stream",
     "text": [
      "{'Date': [0.05, 0.025, 0.016666666666666666, 0.0125, 0.01, 0.008333333333333333], 'Temperature': [32, 35, 28, 24, 32, 31], 'WindSpeed': [6, 7, 2, 7, 4, 2], 'Event': ['Rain', 'Sunny', 'Snow', 'Snow', 'Rain', 'Sunny']}\n"
     ]
    }
   ],
   "source": [
    "# Creating data frame by using Dictionary\n",
    "WeatherData={\"Date\":[1/1/20,1/2/20,1/3/20,1/4/20,1/5/20,1/6/20],\n",
    "             \"Temperature\":[32,35,28,24,32,31],\n",
    "             \"WindSpeed\":[6,7,2,7,4,2],\n",
    "             \"Event\":[\"Rain\",\"Sunny\",\"Snow\",\"Snow\",\"Rain\",\"Sunny\"]}\n",
    "\n",
    "print(WeatherData)"
   ]
  },
  {
   "cell_type": "code",
   "execution_count": 525,
   "metadata": {},
   "outputs": [
    {
     "name": "stdout",
     "output_type": "stream",
     "text": [
      "{'List': [89, 67.99, (56-4j), True, 'String'], 'Tuple': ('String', (78+9j), 78.99, False, 56), 'Set': {(76-4j), True, 45.45, 'Set', 89}}\n"
     ]
    }
   ],
   "source": [
    "Multi = {\"List\" : [89, 67.99, 56-4j, True, 'String'],\n",
    "         \"Tuple\" : (\"String\", 78+9j, 78.99, False, 56),\n",
    "         \"Set\" : {True, \"Set\", 76-4j, 45.45, 89}}\n",
    "\n",
    "print(Multi)"
   ]
  },
  {
   "cell_type": "code",
   "execution_count": 526,
   "metadata": {},
   "outputs": [
    {
     "name": "stdout",
     "output_type": "stream",
     "text": [
      "{'Student': {'Name': ['Kunaal', 'Anwesh', 'Rohit'], 'Kunaal': {'Marks': {'Physics': 0.89, 'Chemistry': 0.67, 'Math': 0.87, 'Biology': 0.99}}, 'Anwesh': {'Marks': {'Physics': 0.84, 'Chemistry': 0.65, 'Math': 0.77, 'Biology': 0.55}}, 'Rohit': {'Marks': {'Physics': 0.72, 'Chemistry': 0.68, 'Math': 0.83, 'Biology': 0.74}}}}\n"
     ]
    }
   ],
   "source": [
    "Nested_Dict5 = {\"Student\" : {\"Name\" : [\"Kunaal\", \"Anwesh\", \"Rohit\"],\n",
    "                             \"Kunaal\" : {\"Marks\" : {\"Physics\" : 89/100,\n",
    "                                                    \"Chemistry\" : 67/100,\n",
    "                                                    \"Math\" : 87/100,\n",
    "                                                    \"Biology\" : 99/100}},\n",
    "                             \"Anwesh\" : {\"Marks\" : {\"Physics\" : 84/100,\n",
    "                                                    \"Chemistry\" : 65/100,\n",
    "                                                    \"Math\" : 77/100,\n",
    "                                                    \"Biology\" : 55/100}},\n",
    "                              \"Rohit\" : {\"Marks\" : {\"Physics\" : 72/100,\n",
    "                                                    \"Chemistry\" : 68/100,\n",
    "                                                    \"Math\" : 83/100,\n",
    "                                                    \"Biology\" : 74/100}}}}\n",
    "\n",
    "print(Nested_Dict5)"
   ]
  },
  {
   "cell_type": "code",
   "execution_count": 527,
   "metadata": {},
   "outputs": [
    {
     "name": "stdout",
     "output_type": "stream",
     "text": [
      "{'Student': {'Name': {'Kunaal': {'Marks': {'Physics': 0.89, 'Chem': 0.67, 'Math': 0.87, 'Bio': 0.99}}, 'Anwesh': {'Marks': {'Physics': 0.66, 'Chem': 0.88, 'Math': 0.72, 'Bio': 0.57}}, 'Shibu': {'Marks': {'Physics': 0.69, 'Chem': 0.81, 'Math': 0.7, 'Bio': 0.5}}}}}\n"
     ]
    }
   ],
   "source": [
    "Nested_Dict6 = {\"Student\" : {\"Name\" : {\"Kunaal\" : {\"Marks\" : {\"Physics\" : 89/100,\n",
    "                                                              \"Chem\" : 67/100,\n",
    "                                                              \"Math\" : 87/100,\n",
    "                                                              \"Bio\" : 99/100}},\n",
    "                                       \"Anwesh\" : {\"Marks\" : {\"Physics\" : 66/100,\n",
    "                                                              \"Chem\" : 88/100,\n",
    "                                                              \"Math\" : 72/100,\n",
    "                                                              \"Bio\" : 57/100}},\n",
    "                                       \"Shibu\" : {\"Marks\" : {\"Physics\" : 69/100,\n",
    "                                                             \"Chem\" : 81/100,\n",
    "                                                             \"Math\" : 70/100,\n",
    "                                                             \"Bio\" : 50/100}}}}}\n",
    "\n",
    "print(Nested_Dict6)"
   ]
  },
  {
   "cell_type": "code",
   "execution_count": 528,
   "metadata": {},
   "outputs": [
    {
     "name": "stdout",
     "output_type": "stream",
     "text": [
      "<class 'list'> <class 'tuple'> <class 'set'>\n",
      "\n"
     ]
    }
   ],
   "source": [
    "Null_Dict = {}\n",
    "Null_Dict\n",
    "Null_Dict[\"List1\"] = [22, 56+6j, 73.56, True, \"List\"]\n",
    "Null_Dict[\"Tuple2\"] = (89, 67-4j, False, \"Tuple\", 55.96)\n",
    "Null_Dict[\"Set3\"] = {\"Set\", 66-2j, 39.56, 55, True}\n",
    "\n",
    "\n",
    "print(type(Null_Dict[\"List1\"]), type(Null_Dict[\"Tuple2\"]), type(Null_Dict[\"Set3\"]))\n",
    "print()"
   ]
  },
  {
   "cell_type": "code",
   "execution_count": 529,
   "metadata": {},
   "outputs": [
    {
     "name": "stdout",
     "output_type": "stream",
     "text": [
      "[('Fruits', ['Apple', 'Mango', 'Grapes', 'Pineapple', 'Guava']), ('City', ['Bangalore', 'Mumbai', 'Chennai', 'Kolkata', 'Delhi']), ('Colour', ['Red', 'Green', 'Blue', 'Yellow', 'Purple']), ('Integer', [45, 67, 78, 89, 245]), ('Float', [67.56, 78.98, 45.48, 99.99, 56.68]), ('Complex', [(78-9j), (45+5j), (89-5j), (56-8j), (38+8j)]), ('Boolean', [True, False, True, False, True]), ('Mixture', [89, 67.99, (56-4j), True, 'String']), ('Date', [0.05, 0.025, 0.016666666666666666, 0.0125, 0.01, 0.008333333333333333]), ('Temperature', [32, 35, 28, 24, 32, 31]), ('WindSpeed', [6, 7, 2, 7, 4, 2]), ('Event', ['Rain', 'Sunny', 'Snow', 'Snow', 'Rain', 'Sunny']), ('List', [89, 67.99, (56-4j), True, 'String']), ('Tuple', ('String', (78+9j), 78.99, False, 56)), ('Set', {(76-4j), True, 45.45, 'Set', 89}), ('Student', {'Name': {'Kunaal': {'Marks': {'Physics': 0.89, 'Chem': 0.67, 'Math': 0.87, 'Bio': 0.99}}, 'Anwesh': {'Marks': {'Physics': 0.66, 'Chem': 0.88, 'Math': 0.72, 'Bio': 0.57}}, 'Shibu': {'Marks': {'Physics': 0.69, 'Chem': 0.81, 'Math': 0.7, 'Bio': 0.5}}}}), ('List1', [22, (56+6j), 73.56, True, 'List']), ('Tuple2', (89, (67-4j), False, 'Tuple', 55.96)), ('Set3', {True, 39.56, 'Set', 55, (66-2j)})]\n"
     ]
    }
   ],
   "source": [
    "Dict.update(WeatherData)    # Update one at a time\n",
    "Dict.update(Multi)\n",
    "Dict.update(Nested_Dict5)\n",
    "Dict.update(Nested_Dict6)\n",
    "Dict.update(Null_Dict)\n",
    "print(list(Dict.items()))\n",
    "#print(list(Updated_Dict.items()))"
   ]
  },
  {
   "cell_type": "code",
   "execution_count": 530,
   "metadata": {},
   "outputs": [
    {
     "name": "stdout",
     "output_type": "stream",
     "text": [
      "640\n"
     ]
    }
   ],
   "source": [
    "Dict\n",
    "print(sys.getsizeof(Dict))"
   ]
  },
  {
   "cell_type": "code",
   "execution_count": 532,
   "metadata": {},
   "outputs": [
    {
     "name": "stdout",
     "output_type": "stream",
     "text": [
      "['Fruits', 'City', 'Colour', 'Integer', 'Float', 'Complex', 'Boolean', 'Mixture', 'Date', 'Temperature', 'WindSpeed', 'Event', 'List', 'Tuple', 'Set', 'Student', 'List1', 'Tuple2', 'Set3']\n",
      "\n",
      "dict_values([['Apple', 'Mango', 'Grapes', 'Pineapple', 'Guava'], ['Bangalore', 'Mumbai', 'Chennai', 'Kolkata', 'Delhi'], ['Red', 'Green', 'Blue', 'Yellow', 'Purple'], [45, 67, 78, 89, 245], [67.56, 78.98, 45.48, 99.99, 56.68], [(78-9j), (45+5j), (89-5j), (56-8j), (38+8j)], [True, False, True, False, True], [89, 67.99, (56-4j), True, 'String'], [0.05, 0.025, 0.016666666666666666, 0.0125, 0.01, 0.008333333333333333], [32, 35, 28, 24, 32, 31], [6, 7, 2, 7, 4, 2], ['Rain', 'Sunny', 'Snow', 'Snow', 'Rain', 'Sunny'], [89, 67.99, (56-4j), True, 'String'], ('String', (78+9j), 78.99, False, 56), {(76-4j), True, 45.45, 'Set', 89}, {'Name': {'Kunaal': {'Marks': {'Physics': 0.89, 'Chem': 0.67, 'Math': 0.87, 'Bio': 0.99}}, 'Anwesh': {'Marks': {'Physics': 0.66, 'Chem': 0.88, 'Math': 0.72, 'Bio': 0.57}}, 'Shibu': {'Marks': {'Physics': 0.69, 'Chem': 0.81, 'Math': 0.7, 'Bio': 0.5}}}}, [22, (56+6j), 73.56, True, 'List'], (89, (67-4j), False, 'Tuple', 55.96), {True, 39.56, 'Set', 55, (66-2j)}])\n",
      "\n",
      "[('Fruits', ['Apple', 'Mango', 'Grapes', 'Pineapple', 'Guava']), ('City', ['Bangalore', 'Mumbai', 'Chennai', 'Kolkata', 'Delhi']), ('Colour', ['Red', 'Green', 'Blue', 'Yellow', 'Purple']), ('Integer', [45, 67, 78, 89, 245]), ('Float', [67.56, 78.98, 45.48, 99.99, 56.68]), ('Complex', [(78-9j), (45+5j), (89-5j), (56-8j), (38+8j)]), ('Boolean', [True, False, True, False, True]), ('Mixture', [89, 67.99, (56-4j), True, 'String']), ('Date', [0.05, 0.025, 0.016666666666666666, 0.0125, 0.01, 0.008333333333333333]), ('Temperature', [32, 35, 28, 24, 32, 31]), ('WindSpeed', [6, 7, 2, 7, 4, 2]), ('Event', ['Rain', 'Sunny', 'Snow', 'Snow', 'Rain', 'Sunny']), ('List', [89, 67.99, (56-4j), True, 'String']), ('Tuple', ('String', (78+9j), 78.99, False, 56)), ('Set', {(76-4j), True, 45.45, 'Set', 89}), ('Student', {'Name': {'Kunaal': {'Marks': {'Physics': 0.89, 'Chem': 0.67, 'Math': 0.87, 'Bio': 0.99}}, 'Anwesh': {'Marks': {'Physics': 0.66, 'Chem': 0.88, 'Math': 0.72, 'Bio': 0.57}}, 'Shibu': {'Marks': {'Physics': 0.69, 'Chem': 0.81, 'Math': 0.7, 'Bio': 0.5}}}}), ('List1', [22, (56+6j), 73.56, True, 'List']), ('Tuple2', (89, (67-4j), False, 'Tuple', 55.96)), ('Set3', {True, 39.56, 'Set', 55, (66-2j)})]\n"
     ]
    }
   ],
   "source": [
    "print(list(Dict.keys()))  # # Shows root key of the Nested Dictionery\n",
    "print()\n",
    "print(Dict.values())  # Show all values\n",
    "print()\n",
    "print(list(Dict.items()))    # Show all Key:Value Pairs as Tuples & got converted into list()"
   ]
  },
  {
   "cell_type": "code",
   "execution_count": 534,
   "metadata": {},
   "outputs": [
    {
     "data": {
      "text/plain": [
       "{'Fruits': ['Apple', 'Mango', 'Grapes', 'Pineapple', 'Guava'],\n",
       " 'City': ['Bangalore', 'Mumbai', 'Chennai', 'Kolkata', 'Delhi'],\n",
       " 'Colour': ['Red', 'Green', 'Blue', 'Yellow', 'Purple'],\n",
       " 'Integer': [45, 67, 78, 89, 245],\n",
       " 'Float': [67.56, 78.98, 45.48, 99.99, 56.68],\n",
       " 'Complex': [(78-9j), (45+5j), (89-5j), (56-8j), (38+8j)],\n",
       " 'Mixture': [89, 67.99, (56-4j), True, 'String'],\n",
       " 'Date': [0.05,\n",
       "  0.025,\n",
       "  0.016666666666666666,\n",
       "  0.0125,\n",
       "  0.01,\n",
       "  0.008333333333333333],\n",
       " 'Temperature': [32, 35, 28, 24, 32, 31],\n",
       " 'WindSpeed': [6, 7, 2, 7, 4, 2],\n",
       " 'Event': ['Rain', 'Sunny', 'Snow', 'Snow', 'Rain', 'Sunny'],\n",
       " 'List': [89, 67.99, (56-4j), True, 'String'],\n",
       " 'Tuple': ('String', (78+9j), 78.99, False, 56),\n",
       " 'Set': {(76-4j), 45.45, 89, 'Set', True},\n",
       " 'Student': {'Name': {'Kunaal': {'Marks': {'Physics': 0.89,\n",
       "     'Chem': 0.67,\n",
       "     'Math': 0.87,\n",
       "     'Bio': 0.99}},\n",
       "   'Anwesh': {'Marks': {'Physics': 0.66,\n",
       "     'Chem': 0.88,\n",
       "     'Math': 0.72,\n",
       "     'Bio': 0.57}},\n",
       "   'Shibu': {'Marks': {'Physics': 0.69,\n",
       "     'Chem': 0.81,\n",
       "     'Math': 0.7,\n",
       "     'Bio': 0.5}}}},\n",
       " 'List1': [22, (56+6j), 73.56, True, 'List'],\n",
       " 'Tuple2': (89, (67-4j), False, 'Tuple', 55.96),\n",
       " 'Set3': {(66-2j), 39.56, 55, 'Set', True}}"
      ]
     },
     "execution_count": 534,
     "metadata": {},
     "output_type": "execute_result"
    }
   ],
   "source": [
    "# Delete the \"Boolean\" Key:Value pair from the Dict dictionery\n",
    "\n",
    "del Dict[\"Boolean\"]      # \"Boolean\" Key:Value pair got deleted from the Dict dictionery\n",
    "\n",
    "Dict"
   ]
  },
  {
   "cell_type": "code",
   "execution_count": 535,
   "metadata": {},
   "outputs": [
    {
     "name": "stdout",
     "output_type": "stream",
     "text": [
      "['Fruits', 'City', 'Colour', 'Integer', 'Float', 'Complex', 'Mixture', 'Date', 'Temperature', 'WindSpeed', 'Event', 'List', 'Tuple', 'Set', 'Student', 'List1', 'Tuple2', 'Set3']\n"
     ]
    }
   ],
   "source": [
    "print(list(Dict.keys()))  # \"Boolean\" Key is not showing"
   ]
  },
  {
   "cell_type": "code",
   "execution_count": 536,
   "metadata": {},
   "outputs": [
    {
     "name": "stdout",
     "output_type": "stream",
     "text": [
      "['Fruits', 'City', 'Colour', 'Integer', 'Float', 'Complex', 'Mixture', 'Date', 'Temperature', 'WindSpeed', 'Event', 'Tuple', 'Set', 'Student', 'List1', 'Tuple2', 'Set3']\n"
     ]
    }
   ],
   "source": [
    "Dict.pop(\"List\")\n",
    "print(list(Dict.keys()))   # \"List\" Key is not showing"
   ]
  },
  {
   "cell_type": "code",
   "execution_count": 540,
   "metadata": {},
   "outputs": [
    {
     "name": "stdout",
     "output_type": "stream",
     "text": [
      "['Red', 'Green', 'Yellow', 'Purple']\n"
     ]
    }
   ],
   "source": [
    "Dict[\"Colour\"].remove(\"Blue\")  # \"Blue\" value element got removed from \"Colour\" key of Dict dictionery\n",
    "print(Dict.get(\"Colour\"))"
   ]
  },
  {
   "cell_type": "code",
   "execution_count": 404,
   "metadata": {},
   "outputs": [],
   "source": [
    "# Dictionaries Docs for Practice\n",
    "# https://www.w3schools.com/python/python_dictionaries.asp"
   ]
  },
  {
   "cell_type": "markdown",
   "metadata": {},
   "source": [
    "## Range"
   ]
  },
  {
   "cell_type": "code",
   "execution_count": 149,
   "metadata": {},
   "outputs": [
    {
     "name": "stdout",
     "output_type": "stream",
     "text": [
      "Help on class range in module builtins:\n",
      "\n",
      "class range(object)\n",
      " |  range(stop) -> range object\n",
      " |  range(start, stop[, step]) -> range object\n",
      " |  \n",
      " |  Return an object that produces a sequence of integers from start (inclusive)\n",
      " |  to stop (exclusive) by step.  range(i, j) produces i, i+1, i+2, ..., j-1.\n",
      " |  start defaults to 0, and stop is omitted!  range(4) produces 0, 1, 2, 3.\n",
      " |  These are exactly the valid indices for a list of 4 elements.\n",
      " |  When step is given, it specifies the increment (or decrement).\n",
      " |  \n",
      " |  Methods defined here:\n",
      " |  \n",
      " |  __bool__(self, /)\n",
      " |      self != 0\n",
      " |  \n",
      " |  __contains__(self, key, /)\n",
      " |      Return key in self.\n",
      " |  \n",
      " |  __eq__(self, value, /)\n",
      " |      Return self==value.\n",
      " |  \n",
      " |  __ge__(self, value, /)\n",
      " |      Return self>=value.\n",
      " |  \n",
      " |  __getattribute__(self, name, /)\n",
      " |      Return getattr(self, name).\n",
      " |  \n",
      " |  __getitem__(self, key, /)\n",
      " |      Return self[key].\n",
      " |  \n",
      " |  __gt__(self, value, /)\n",
      " |      Return self>value.\n",
      " |  \n",
      " |  __hash__(self, /)\n",
      " |      Return hash(self).\n",
      " |  \n",
      " |  __iter__(self, /)\n",
      " |      Implement iter(self).\n",
      " |  \n",
      " |  __le__(self, value, /)\n",
      " |      Return self<=value.\n",
      " |  \n",
      " |  __len__(self, /)\n",
      " |      Return len(self).\n",
      " |  \n",
      " |  __lt__(self, value, /)\n",
      " |      Return self<value.\n",
      " |  \n",
      " |  __ne__(self, value, /)\n",
      " |      Return self!=value.\n",
      " |  \n",
      " |  __reduce__(...)\n",
      " |      Helper for pickle.\n",
      " |  \n",
      " |  __repr__(self, /)\n",
      " |      Return repr(self).\n",
      " |  \n",
      " |  __reversed__(...)\n",
      " |      Return a reverse iterator.\n",
      " |  \n",
      " |  count(...)\n",
      " |      rangeobject.count(value) -> integer -- return number of occurrences of value\n",
      " |  \n",
      " |  index(...)\n",
      " |      rangeobject.index(value) -> integer -- return index of value.\n",
      " |      Raise ValueError if the value is not present.\n",
      " |  \n",
      " |  ----------------------------------------------------------------------\n",
      " |  Static methods defined here:\n",
      " |  \n",
      " |  __new__(*args, **kwargs) from builtins.type\n",
      " |      Create and return a new object.  See help(type) for accurate signature.\n",
      " |  \n",
      " |  ----------------------------------------------------------------------\n",
      " |  Data descriptors defined here:\n",
      " |  \n",
      " |  start\n",
      " |  \n",
      " |  step\n",
      " |  \n",
      " |  stop\n",
      "\n"
     ]
    }
   ],
   "source": [
    "help(range)"
   ]
  },
  {
   "cell_type": "code",
   "execution_count": 150,
   "metadata": {},
   "outputs": [],
   "source": [
    "Range1=range(6) # By default it will start from 0, 6 is upperbound"
   ]
  },
  {
   "cell_type": "code",
   "execution_count": 151,
   "metadata": {},
   "outputs": [
    {
     "data": {
      "text/plain": [
       "range"
      ]
     },
     "execution_count": 151,
     "metadata": {},
     "output_type": "execute_result"
    }
   ],
   "source": [
    "type(Range1)"
   ]
  },
  {
   "cell_type": "code",
   "execution_count": 152,
   "metadata": {},
   "outputs": [
    {
     "name": "stdout",
     "output_type": "stream",
     "text": [
      "range(0, 6)\n"
     ]
    }
   ],
   "source": [
    "print(Range1)"
   ]
  },
  {
   "cell_type": "code",
   "execution_count": 153,
   "metadata": {},
   "outputs": [],
   "source": [
    "List=list(Range1) # Convert Range into List"
   ]
  },
  {
   "cell_type": "code",
   "execution_count": 154,
   "metadata": {},
   "outputs": [],
   "source": [
    "List=list(range(6)) # Direct conversion from range to List"
   ]
  },
  {
   "cell_type": "code",
   "execution_count": 155,
   "metadata": {},
   "outputs": [
    {
     "name": "stdout",
     "output_type": "stream",
     "text": [
      "[0, 1, 2, 3, 4, 5]\n"
     ]
    }
   ],
   "source": [
    "print(List)"
   ]
  },
  {
   "cell_type": "code",
   "execution_count": 156,
   "metadata": {},
   "outputs": [],
   "source": [
    "Range2=range(2,6) # It will start from 2, upperbound is 6"
   ]
  },
  {
   "cell_type": "code",
   "execution_count": 157,
   "metadata": {},
   "outputs": [
    {
     "name": "stdout",
     "output_type": "stream",
     "text": [
      "range(2, 6)\n"
     ]
    }
   ],
   "source": [
    "print(Range2)"
   ]
  },
  {
   "cell_type": "code",
   "execution_count": 158,
   "metadata": {},
   "outputs": [],
   "source": [
    "List2=list(Range2)"
   ]
  },
  {
   "cell_type": "code",
   "execution_count": 159,
   "metadata": {},
   "outputs": [],
   "source": [
    "List2=list(range(2,6)) # Direct conversion from range to List"
   ]
  },
  {
   "cell_type": "code",
   "execution_count": 160,
   "metadata": {},
   "outputs": [
    {
     "name": "stdout",
     "output_type": "stream",
     "text": [
      "[2, 3, 4, 5]\n"
     ]
    }
   ],
   "source": [
    "print(List2)"
   ]
  },
  {
   "cell_type": "code",
   "execution_count": 161,
   "metadata": {},
   "outputs": [],
   "source": [
    "# Range Parametres\n",
    " # Start: Starting point of the sequence\n",
    " # Stop: Ending point of the sequence (Upperbound)\n",
    " # Step: Number of times the skip will happen"
   ]
  },
  {
   "cell_type": "code",
   "execution_count": 162,
   "metadata": {},
   "outputs": [],
   "source": [
    "Range3=range(0,11,2) # 0 is starting point, 11 is upperbound, 2 is interval step"
   ]
  },
  {
   "cell_type": "code",
   "execution_count": 163,
   "metadata": {},
   "outputs": [],
   "source": [
    "List3=list(Range3)"
   ]
  },
  {
   "cell_type": "code",
   "execution_count": 164,
   "metadata": {},
   "outputs": [
    {
     "name": "stdout",
     "output_type": "stream",
     "text": [
      "[0, 2, 4, 6, 8, 10]\n"
     ]
    }
   ],
   "source": [
    "print(List3)"
   ]
  },
  {
   "cell_type": "code",
   "execution_count": 165,
   "metadata": {},
   "outputs": [
    {
     "name": "stdout",
     "output_type": "stream",
     "text": [
      "0\n",
      "2\n",
      "4\n",
      "6\n",
      "8\n"
     ]
    }
   ],
   "source": [
    "# Range With For Loop      # We can directly see range elements by using for loop\n",
    "                          # No need to create range and transform it to list\n",
    "for i in range(0,10,2):   # 10 is upperbound here and 2 is interval step\n",
    "    print(i)              # This program is printing the even numbers"
   ]
  },
  {
   "cell_type": "code",
   "execution_count": 166,
   "metadata": {},
   "outputs": [
    {
     "name": "stdout",
     "output_type": "stream",
     "text": [
      "0.1\n",
      "0.4\n",
      "0.7\n"
     ]
    }
   ],
   "source": [
    "# Range always works with integers, don't supports floats/noninteger charecters\n",
    "# If you wanna create range of noninteger charecters then use for loop\n",
    "# Float numbers in range by using frange loop function\n",
    "# We will get a sequence with floating point values\n",
    "\n",
    "def frange(start, stop, step):\n",
    "    i=start\n",
    "    while i<stop:            # Untill the value of i<stop\n",
    "        yield i              # Keep taking/evolving the value of i\n",
    "        i+=step              # Each time take/evolve & increase the value of i by step, increase i by step, value will be i+step\n",
    "for i in frange(0.1,1,0.3):\n",
    "    print(i)\n"
   ]
  },
  {
   "cell_type": "code",
   "execution_count": 167,
   "metadata": {},
   "outputs": [
    {
     "name": "stdout",
     "output_type": "stream",
     "text": [
      "5\n",
      "4\n",
      "3\n",
      "2\n",
      "1\n"
     ]
    }
   ],
   "source": [
    "#Reverse Range in python by using for loop\n",
    "for i in range(5,0,-1):   #5 is starting point and 0 is upperbound\n",
    "    print(i)              #-1 is interval step... keep deducting -1 at each step from the value of i"
   ]
  },
  {
   "cell_type": "code",
   "execution_count": 168,
   "metadata": {},
   "outputs": [
    {
     "name": "stdout",
     "output_type": "stream",
     "text": [
      "5\n",
      "4\n",
      "3\n",
      "2\n",
      "1\n"
     ]
    }
   ],
   "source": [
    "#Range always works with integers, don't supports floats/noninteger charecters\n",
    "#If you wanna create range of noninteger charecters then use for loop\n",
    "#Float numbers in range by using frange loop function\n",
    "#We will get a sequence with floating point values\n",
    "\n",
    "def frange(start, stop, step):\n",
    "    i=start\n",
    "    while i>stop:            #Untill the value of i>stop\n",
    "        yield i              #Keep taking the value of i\n",
    "        i+=step              #Each time take the value of i by i+step, increase i by step\n",
    "for i in frange(5,0,-1):\n",
    "    print(i)"
   ]
  },
  {
   "cell_type": "code",
   "execution_count": 169,
   "metadata": {},
   "outputs": [
    {
     "name": "stdout",
     "output_type": "stream",
     "text": [
      "[0, 1, 2, 3, 4, 5, 6, 7, 8, 9, 10, 11, 12, 13, 14, 15, 16, 17, 18, 19, 20]\n"
     ]
    }
   ],
   "source": [
    "#Concatinating 2 range functions by using chain function\n",
    "from itertools import chain\n",
    "Range=chain(range(10), range(10,21)) # range 0to9 and 10to20 got joined/concatinated by chain() function in2 a new Range\n",
    "List=list(Range)                     #Convert the Range into List\n",
    "print(List)"
   ]
  },
  {
   "cell_type": "code",
   "execution_count": 170,
   "metadata": {},
   "outputs": [
    {
     "data": {
      "text/plain": [
       "[0, 1, 2, 3, 4, 5, 6, 7, 8, 9, 10, 11, 12, 13, 14, 15, 16, 17, 18, 19, 20]"
      ]
     },
     "execution_count": 170,
     "metadata": {},
     "output_type": "execute_result"
    }
   ],
   "source": [
    "#Direct concat\n",
    "Range=list(range(10))+list(range(10,21))\n",
    "Range"
   ]
  },
  {
   "cell_type": "code",
   "execution_count": 171,
   "metadata": {},
   "outputs": [
    {
     "ename": "TypeError",
     "evalue": "unsupported operand type(s) for +: 'range' and 'range'",
     "output_type": "error",
     "traceback": [
      "\u001b[1;31m---------------------------------------------------------------------------\u001b[0m",
      "\u001b[1;31mTypeError\u001b[0m                                 Traceback (most recent call last)",
      "\u001b[1;32m<ipython-input-171-6bb8c5dfd4f8>\u001b[0m in \u001b[0;36m<module>\u001b[1;34m\u001b[0m\n\u001b[0;32m      3\u001b[0m \u001b[0mRANGE1\u001b[0m\u001b[1;33m=\u001b[0m\u001b[0mrange\u001b[0m\u001b[1;33m(\u001b[0m\u001b[1;36m5\u001b[0m\u001b[1;33m)\u001b[0m\u001b[1;33m\u001b[0m\u001b[1;33m\u001b[0m\u001b[0m\n\u001b[0;32m      4\u001b[0m \u001b[0mRANGE2\u001b[0m\u001b[1;33m=\u001b[0m\u001b[0mrange\u001b[0m\u001b[1;33m(\u001b[0m\u001b[1;36m5\u001b[0m\u001b[1;33m,\u001b[0m\u001b[1;36m10\u001b[0m\u001b[1;33m)\u001b[0m\u001b[1;33m\u001b[0m\u001b[1;33m\u001b[0m\u001b[0m\n\u001b[1;32m----> 5\u001b[1;33m \u001b[0mRANGE1\u001b[0m\u001b[1;33m+\u001b[0m\u001b[0mRANGE2\u001b[0m\u001b[1;33m\u001b[0m\u001b[1;33m\u001b[0m\u001b[0m\n\u001b[0m",
      "\u001b[1;31mTypeError\u001b[0m: unsupported operand type(s) for +: 'range' and 'range'"
     ]
    }
   ],
   "source": [
    "# You cant perform Arithmatic operations between Ranges\n",
    "# We can't concat 2 range functions by using + sign\n",
    "RANGE1=range(5)\n",
    "RANGE2=range(5,10)\n",
    "RANGE1+RANGE2"
   ]
  },
  {
   "cell_type": "code",
   "execution_count": 172,
   "metadata": {},
   "outputs": [
    {
     "name": "stdout",
     "output_type": "stream",
     "text": [
      "(10, 11, 12, 13, 14, 15, 16, 17, 18, 19, 20, 21, 22, 23, 24, 25, 26, 27, 28, 29, 30)\n",
      "[]\n"
     ]
    },
    {
     "data": {
      "text/plain": [
       "(None, None)"
      ]
     },
     "execution_count": 172,
     "metadata": {},
     "output_type": "execute_result"
    }
   ],
   "source": [
    "#Concatinating 2 range functions by using chain function\n",
    "from itertools import chain\n",
    "Range=chain(range(10,21), range(21,31)) # range 10to20 and 21to30 got joined/concatinated by chain() function in2 a new Range\n",
    "Tuple=tuple(Range)      #Convert the Range into Tuple\n",
    "List=list(Range)        #Convert the Range into List\n",
    "print(Tuple),print(List)"
   ]
  },
  {
   "cell_type": "code",
   "execution_count": 173,
   "metadata": {},
   "outputs": [
    {
     "name": "stdout",
     "output_type": "stream",
     "text": [
      "(10, 11, 12, 13, 14, 15, 16, 17, 18, 19, 20, 10, 11, 12, 13, 14, 15, 16, 17, 18, 19, 20)\n",
      "[10, 11, 12, 13, 14, 15, 16, 17, 18, 19, 20, 10, 11, 12, 13, 14, 15, 16, 17, 18, 19, 20]\n"
     ]
    },
    {
     "data": {
      "text/plain": [
       "(None, None)"
      ]
     },
     "execution_count": 173,
     "metadata": {},
     "output_type": "execute_result"
    }
   ],
   "source": [
    "Tuple=tuple(range(10,21))+tuple(range(10,21))\n",
    "List=list(range(10,21))+list(range(10,21))\n",
    "print(Tuple),print(List)"
   ]
  },
  {
   "cell_type": "code",
   "execution_count": 174,
   "metadata": {},
   "outputs": [
    {
     "ename": "TypeError",
     "evalue": "unsupported operand type(s) for +: 'range' and 'range'",
     "output_type": "error",
     "traceback": [
      "\u001b[1;31m---------------------------------------------------------------------------\u001b[0m",
      "\u001b[1;31mTypeError\u001b[0m                                 Traceback (most recent call last)",
      "\u001b[1;32m<ipython-input-174-85900c34bca5>\u001b[0m in \u001b[0;36m<module>\u001b[1;34m\u001b[0m\n\u001b[0;32m      1\u001b[0m \u001b[0mR1\u001b[0m\u001b[1;33m=\u001b[0m\u001b[0mrange\u001b[0m\u001b[1;33m(\u001b[0m\u001b[1;36m0\u001b[0m\u001b[1;33m,\u001b[0m\u001b[1;36m5\u001b[0m\u001b[1;33m)\u001b[0m   \u001b[1;31m#We can't concat 2 range functions by using + sign\u001b[0m\u001b[1;33m\u001b[0m\u001b[1;33m\u001b[0m\u001b[0m\n\u001b[0;32m      2\u001b[0m \u001b[0mR2\u001b[0m\u001b[1;33m=\u001b[0m\u001b[0mrange\u001b[0m\u001b[1;33m(\u001b[0m\u001b[1;36m5\u001b[0m\u001b[1;33m,\u001b[0m\u001b[1;36m10\u001b[0m\u001b[1;33m)\u001b[0m\u001b[1;33m\u001b[0m\u001b[1;33m\u001b[0m\u001b[0m\n\u001b[1;32m----> 3\u001b[1;33m \u001b[0mR1\u001b[0m\u001b[1;33m+\u001b[0m\u001b[0mR2\u001b[0m\u001b[1;33m\u001b[0m\u001b[1;33m\u001b[0m\u001b[0m\n\u001b[0m",
      "\u001b[1;31mTypeError\u001b[0m: unsupported operand type(s) for +: 'range' and 'range'"
     ]
    }
   ],
   "source": [
    "R1=range(0,5)   #We can't concat 2 range functions by using + sign\n",
    "R2=range(5,10)\n",
    "R1+R2"
   ]
  },
  {
   "cell_type": "code",
   "execution_count": 175,
   "metadata": {},
   "outputs": [
    {
     "name": "stdout",
     "output_type": "stream",
     "text": [
      "5\n"
     ]
    },
    {
     "data": {
      "text/plain": [
       "(None, 5)"
      ]
     },
     "execution_count": 175,
     "metadata": {},
     "output_type": "execute_result"
    }
   ],
   "source": [
    "#Accessing the elements in a range function using indexes\n",
    "Range=range(0,11)\n",
    "print(Range[5]),Range[5]"
   ]
  },
  {
   "cell_type": "code",
   "execution_count": 176,
   "metadata": {},
   "outputs": [
    {
     "name": "stdout",
     "output_type": "stream",
     "text": [
      "[0, 1, 2, 3, 4, 5, 6, 7, 8, 9, 10]\n",
      "[11, 10, 9, 8, 7, 6, 5, 4, 3, 2, 1]\n"
     ]
    },
    {
     "data": {
      "text/plain": [
       "(None, None)"
      ]
     },
     "execution_count": 176,
     "metadata": {},
     "output_type": "execute_result"
    }
   ],
   "source": [
    "R1=list(range(0,11)) #Convert the range into List\n",
    "R2=list(range(11,0,-1)) #Decrement with negative step, start=11, stop=0, step=-1\n",
    "print(R1),print(R2)"
   ]
  },
  {
   "cell_type": "code",
   "execution_count": 177,
   "metadata": {},
   "outputs": [
    {
     "name": "stdout",
     "output_type": "stream",
     "text": [
      "[1, 2, 3, 4, 5, 6, 7, 8, 9, 10] ('KESHAV', (45+9j), True, 39.69, 39, 39) {False, 'Prashant', (10+10j), 10.1, 10} range(0, 11, 2) {'Maharashtra': 'Mumbai', 'Karnataka': 'Bangalore', 'Rajasthan': 'Jaipur'}\n"
     ]
    }
   ],
   "source": [
    "#Creating multiple variables at a time\n",
    "Lists, Tuple, Sets, Range, Dictioneries=[1,2,3,4,5,6,7,8,9,10],(\"KESHAV\",45+9j,True,39.69,39,39),{10.10,'Prashant',10+10j,False,10},range(0,11,2),{'Maharashtra':'Mumbai','Karnataka':'Bangalore','Rajasthan':'Jaipur'}\n",
    "print(Lists,Tuple,Sets,Range,Dictioneries)"
   ]
  }
 ],
 "metadata": {
  "kernelspec": {
   "display_name": "Python 3 (ipykernel)",
   "language": "python",
   "name": "python3"
  },
  "language_info": {
   "codemirror_mode": {
    "name": "ipython",
    "version": 3
   },
   "file_extension": ".py",
   "mimetype": "text/x-python",
   "name": "python",
   "nbconvert_exporter": "python",
   "pygments_lexer": "ipython3",
   "version": "3.8.19"
  },
  "toc": {
   "base_numbering": 1,
   "nav_menu": {},
   "number_sections": true,
   "sideBar": true,
   "skip_h1_title": false,
   "title_cell": "Table of Contents",
   "title_sidebar": "Contents",
   "toc_cell": true,
   "toc_position": {
    "height": "calc(100% - 180px)",
    "left": "10px",
    "top": "150px",
    "width": "273.188px"
   },
   "toc_section_display": true,
   "toc_window_display": false
  }
 },
 "nbformat": 4,
 "nbformat_minor": 4
}
