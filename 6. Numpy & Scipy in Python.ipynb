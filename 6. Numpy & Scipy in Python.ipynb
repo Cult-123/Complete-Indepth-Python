{
 "cells": [
  {
   "cell_type": "markdown",
   "metadata": {},
   "source": [
    "# Numpy & Scipy in Python"
   ]
  },
  {
   "cell_type": "markdown",
   "metadata": {},
   "source": [
    "# Using NumPy\n",
    "Once you've installed NumPy you can import it as a library"
   ]
  },
  {
   "cell_type": "code",
   "execution_count": 1,
   "metadata": {},
   "outputs": [],
   "source": [
    "from numpy import *\n",
    "from scipy import *"
   ]
  },
  {
   "cell_type": "markdown",
   "metadata": {},
   "source": [
    "# Agendas in Numpy"
   ]
  },
  {
   "cell_type": "code",
   "execution_count": 2,
   "metadata": {},
   "outputs": [],
   "source": [
    "#1. Arrays\n",
    "#2. Linear Algebra\n",
    "#3. Random Number Generation\n",
    "#4. Broadcasting"
   ]
  },
  {
   "cell_type": "markdown",
   "metadata": {},
   "source": [
    "## Arrays"
   ]
  },
  {
   "cell_type": "code",
   "execution_count": 3,
   "metadata": {},
   "outputs": [],
   "source": [
    "#1. Arrays are the collection of Lists/Tuples in multidimentions, each dimention contains a List/Tuple\n",
    "#2. Array means arranging something in a particular way\n",
    "#3. Array is a collection of same type of data elements\n",
    "#4. An array could be 1D, 2D, 3D or more"
   ]
  },
  {
   "cell_type": "markdown",
   "metadata": {},
   "source": [
    "### Similarites between List & Array"
   ]
  },
  {
   "cell_type": "code",
   "execution_count": 4,
   "metadata": {},
   "outputs": [],
   "source": [
    "#1. Both are used for storing data elements\n",
    "#2. Both are mutable, we can add,remove,insert,shuffle,sort,swap & replace single/multiple elements at a time\n",
    "#3. Both can be indexed and itrated through\n",
    "#4. slicing is possible for both the cases\n",
    "#5. In Arrays advanced indexing is possible"
   ]
  },
  {
   "cell_type": "markdown",
   "metadata": {},
   "source": [
    "### Differences between List & Array"
   ]
  },
  {
   "cell_type": "code",
   "execution_count": 5,
   "metadata": {},
   "outputs": [],
   "source": [
    "#1. List contains different data types, Array contains similar data types\n",
    "#2. List=[\"KESHAV\",45+9j,True,39.69,39], Array=array([1,2,3,4,5,6,7,8,9,10])\n",
    "#3. You cant perform Arithmatic operations between Lists, Tuples, Set or Range... between Arrays you can perform that"
   ]
  },
  {
   "cell_type": "code",
   "execution_count": 6,
   "metadata": {},
   "outputs": [
    {
     "name": "stdout",
     "output_type": "stream",
     "text": [
      "Help on function array in module numpy:\n",
      "\n",
      "array(...)\n",
      "    scipy.array is deprecated and will be removed in SciPy 2.0.0, use numpy.array instead\n",
      "\n"
     ]
    }
   ],
   "source": [
    "help(array)"
   ]
  },
  {
   "cell_type": "code",
   "execution_count": 7,
   "metadata": {},
   "outputs": [],
   "source": [
    "#1. Syntax is array(object, dtype=None, copy=True, order='K', subok=False, ndmin=0)\n",
    "#2. object is type the datas\n",
    "#3. dtype=None is mentioning the specific data type format\n",
    "#4. copy=True is create the actual Array or just the copy of it\n",
    "#5. order=\"k\" is memory specific thing, not important\n",
    "#6. subok=False\n",
    "#7. ndim=0 is mentioning the Dimention of Array, 1D,2D or 3D"
   ]
  },
  {
   "cell_type": "code",
   "execution_count": 8,
   "metadata": {},
   "outputs": [
    {
     "ename": "TypeError",
     "evalue": "can't multiply sequence by non-int of type 'list'",
     "output_type": "error",
     "traceback": [
      "\u001b[1;31m---------------------------------------------------------------------------\u001b[0m",
      "\u001b[1;31mTypeError\u001b[0m                                 Traceback (most recent call last)",
      "\u001b[1;32m<ipython-input-8-6a9417291f79>\u001b[0m in \u001b[0;36m<module>\u001b[1;34m\u001b[0m\n\u001b[0;32m      2\u001b[0m \u001b[0mList1\u001b[0m\u001b[1;33m=\u001b[0m\u001b[1;33m[\u001b[0m\u001b[1;34m\"KESHAV\"\u001b[0m\u001b[1;33m,\u001b[0m\u001b[1;36m45\u001b[0m\u001b[1;33m+\u001b[0m\u001b[1;36m9j\u001b[0m\u001b[1;33m,\u001b[0m\u001b[1;32mTrue\u001b[0m\u001b[1;33m,\u001b[0m\u001b[1;36m39.69\u001b[0m\u001b[1;33m,\u001b[0m\u001b[1;36m39\u001b[0m\u001b[1;33m]\u001b[0m\u001b[1;33m\u001b[0m\u001b[1;33m\u001b[0m\u001b[0m\n\u001b[0;32m      3\u001b[0m \u001b[0mList2\u001b[0m\u001b[1;33m=\u001b[0m\u001b[1;33m[\u001b[0m\u001b[1;36m10.10\u001b[0m\u001b[1;33m,\u001b[0m\u001b[1;34m'Prashant'\u001b[0m\u001b[1;33m,\u001b[0m\u001b[1;36m10\u001b[0m\u001b[1;33m+\u001b[0m\u001b[1;36m10j\u001b[0m\u001b[1;33m,\u001b[0m\u001b[1;32mFalse\u001b[0m\u001b[1;33m,\u001b[0m\u001b[1;36m10\u001b[0m\u001b[1;33m]\u001b[0m\u001b[1;33m\u001b[0m\u001b[1;33m\u001b[0m\u001b[0m\n\u001b[1;32m----> 4\u001b[1;33m \u001b[0mList1\u001b[0m\u001b[1;33m*\u001b[0m\u001b[0mList2\u001b[0m\u001b[1;33m\u001b[0m\u001b[1;33m\u001b[0m\u001b[0m\n\u001b[0m",
      "\u001b[1;31mTypeError\u001b[0m: can't multiply sequence by non-int of type 'list'"
     ]
    }
   ],
   "source": [
    "#You cant perform Multiplication between two/more lists\n",
    "List1=[\"KESHAV\",45+9j,True,39.69,39]\n",
    "List2=[10.10,'Prashant',10+10j,False,10]\n",
    "List1*List2"
   ]
  },
  {
   "cell_type": "code",
   "execution_count": 9,
   "metadata": {},
   "outputs": [
    {
     "ename": "TypeError",
     "evalue": "can't multiply sequence by non-int of type 'list'",
     "output_type": "error",
     "traceback": [
      "\u001b[1;31m---------------------------------------------------------------------------\u001b[0m",
      "\u001b[1;31mTypeError\u001b[0m                                 Traceback (most recent call last)",
      "\u001b[1;32m<ipython-input-9-d51f3e112050>\u001b[0m in \u001b[0;36m<module>\u001b[1;34m\u001b[0m\n\u001b[0;32m      2\u001b[0m \u001b[0mList3\u001b[0m\u001b[1;33m=\u001b[0m\u001b[1;33m[\u001b[0m\u001b[1;36m1\u001b[0m\u001b[1;33m,\u001b[0m\u001b[1;36m2\u001b[0m\u001b[1;33m,\u001b[0m\u001b[1;36m3\u001b[0m\u001b[1;33m,\u001b[0m\u001b[1;36m4\u001b[0m\u001b[1;33m,\u001b[0m\u001b[1;36m5\u001b[0m\u001b[1;33m]\u001b[0m\u001b[1;33m\u001b[0m\u001b[1;33m\u001b[0m\u001b[0m\n\u001b[0;32m      3\u001b[0m \u001b[0mList4\u001b[0m\u001b[1;33m=\u001b[0m\u001b[1;33m[\u001b[0m\u001b[1;36m6\u001b[0m\u001b[1;33m,\u001b[0m\u001b[1;36m7\u001b[0m\u001b[1;33m,\u001b[0m\u001b[1;36m8\u001b[0m\u001b[1;33m,\u001b[0m\u001b[1;36m9\u001b[0m\u001b[1;33m,\u001b[0m\u001b[1;36m10\u001b[0m\u001b[1;33m]\u001b[0m\u001b[1;33m\u001b[0m\u001b[1;33m\u001b[0m\u001b[0m\n\u001b[1;32m----> 4\u001b[1;33m \u001b[0mList3\u001b[0m\u001b[1;33m*\u001b[0m\u001b[0mList4\u001b[0m\u001b[1;33m\u001b[0m\u001b[1;33m\u001b[0m\u001b[0m\n\u001b[0m",
      "\u001b[1;31mTypeError\u001b[0m: can't multiply sequence by non-int of type 'list'"
     ]
    }
   ],
   "source": [
    "#You cant perform Multiplication between lists\n",
    "List3=[1,2,3,4,5]\n",
    "List4=[6,7,8,9,10]\n",
    "List3*List4"
   ]
  },
  {
   "cell_type": "code",
   "execution_count": 10,
   "metadata": {},
   "outputs": [
    {
     "ename": "TypeError",
     "evalue": "can't multiply sequence by non-int of type 'tuple'",
     "output_type": "error",
     "traceback": [
      "\u001b[1;31m---------------------------------------------------------------------------\u001b[0m",
      "\u001b[1;31mTypeError\u001b[0m                                 Traceback (most recent call last)",
      "\u001b[1;32m<ipython-input-10-d0340a11f9b4>\u001b[0m in \u001b[0;36m<module>\u001b[1;34m\u001b[0m\n\u001b[0;32m      2\u001b[0m \u001b[0mTuple3\u001b[0m\u001b[1;33m=\u001b[0m\u001b[1;33m(\u001b[0m\u001b[1;36m1\u001b[0m\u001b[1;33m,\u001b[0m\u001b[1;36m2\u001b[0m\u001b[1;33m,\u001b[0m\u001b[1;36m3\u001b[0m\u001b[1;33m,\u001b[0m\u001b[1;36m4\u001b[0m\u001b[1;33m,\u001b[0m\u001b[1;36m5\u001b[0m\u001b[1;33m)\u001b[0m\u001b[1;33m\u001b[0m\u001b[1;33m\u001b[0m\u001b[0m\n\u001b[0;32m      3\u001b[0m \u001b[0mTuple4\u001b[0m\u001b[1;33m=\u001b[0m\u001b[1;33m(\u001b[0m\u001b[1;36m6\u001b[0m\u001b[1;33m,\u001b[0m\u001b[1;36m7\u001b[0m\u001b[1;33m,\u001b[0m\u001b[1;36m8\u001b[0m\u001b[1;33m,\u001b[0m\u001b[1;36m9\u001b[0m\u001b[1;33m,\u001b[0m\u001b[1;36m10\u001b[0m\u001b[1;33m)\u001b[0m\u001b[1;33m\u001b[0m\u001b[1;33m\u001b[0m\u001b[0m\n\u001b[1;32m----> 4\u001b[1;33m \u001b[0mTuple3\u001b[0m\u001b[1;33m*\u001b[0m\u001b[0mTuple4\u001b[0m\u001b[1;33m\u001b[0m\u001b[1;33m\u001b[0m\u001b[0m\n\u001b[0m",
      "\u001b[1;31mTypeError\u001b[0m: can't multiply sequence by non-int of type 'tuple'"
     ]
    }
   ],
   "source": [
    "#You cant perform Multiplication between Tuples\n",
    "Tuple3=(1,2,3,4,5)\n",
    "Tuple4=(6,7,8,9,10)\n",
    "Tuple3*Tuple4"
   ]
  },
  {
   "cell_type": "code",
   "execution_count": 12,
   "metadata": {},
   "outputs": [
    {
     "data": {
      "text/plain": [
       "array([ 6, 14, 24, 36, 50])"
      ]
     },
     "execution_count": 12,
     "metadata": {},
     "output_type": "execute_result"
    }
   ],
   "source": [
    "#You can perform Multiplication between two/more Arrays\n",
    "#You can perform all possible Airthmatic operations between two/more Arrays (Condition Applied)\n",
    "#array(object, dtype=None, copy=True, order='K', subok=False, ndmin=0)\n",
    "#Multiplication output will also be an Array\n",
    "from numpy import array\n",
    "Array1=array([1,2,3,4,5])       # Convert List3 into Array1\n",
    "Array2=array([6,7,8,9,10])      # Convert List4 into Array2\n",
    "Array1*Array2"
   ]
  },
  {
   "cell_type": "code",
   "execution_count": 13,
   "metadata": {},
   "outputs": [
    {
     "data": {
      "text/plain": [
       "array([ 6, 14, 24, 36, 50])"
      ]
     },
     "execution_count": 13,
     "metadata": {},
     "output_type": "execute_result"
    }
   ],
   "source": [
    "#You can perform Multiplication between two/more Arrays\n",
    "#You can perform all possible Airthmatic operations between two/more Arrays (Condition Applied)\n",
    "#array(object, dtype=None, copy=True, order='K', subok=False, ndmin=0)\n",
    "#Multiplication output will also be an Array\n",
    "Array1=array((1,2,3,4,5))       # Convert Tuple3 into Array1\n",
    "Array2=array((6,7,8,9,10))      # Convert Tuple4 into Array2\n",
    "Array1*Array2"
   ]
  },
  {
   "cell_type": "markdown",
   "metadata": {},
   "source": [
    "### Advantages of Array compared to List"
   ]
  },
  {
   "cell_type": "code",
   "execution_count": 14,
   "metadata": {},
   "outputs": [],
   "source": [
    "#1. An array consumes less amount of memory than a List\n",
    "#2. Calculation with Arrays are fatser than List\n",
    "#3. Arrays are convenient to use when we want to perform mathematical operations\n",
    "#4. Advanced indexing is possible in Array"
   ]
  },
  {
   "cell_type": "markdown",
   "metadata": {},
   "source": [
    "## There are different functions to create Array\n",
    "1. array()\n",
    "2. arange()\n",
    "3. zeros()\n",
    "4. ones()\n",
    "5. linspace()\n",
    "6. eye()\n",
    "7. random()"
   ]
  },
  {
   "cell_type": "markdown",
   "metadata": {},
   "source": [
    "### array() function"
   ]
  },
  {
   "cell_type": "code",
   "execution_count": 15,
   "metadata": {},
   "outputs": [
    {
     "name": "stdout",
     "output_type": "stream",
     "text": [
      "Help on built-in function array in module numpy:\n",
      "\n",
      "array(...)\n",
      "    array(object, dtype=None, *, copy=True, order='K', subok=False, ndmin=0)\n",
      "    \n",
      "    Create an array.\n",
      "    \n",
      "    Parameters\n",
      "    ----------\n",
      "    object : array_like\n",
      "        An array, any object exposing the array interface, an object whose\n",
      "        __array__ method returns an array, or any (nested) sequence.\n",
      "    dtype : data-type, optional\n",
      "        The desired data-type for the array.  If not given, then the type will\n",
      "        be determined as the minimum type required to hold the objects in the\n",
      "        sequence.\n",
      "    copy : bool, optional\n",
      "        If true (default), then the object is copied.  Otherwise, a copy will\n",
      "        only be made if __array__ returns a copy, if obj is a nested sequence,\n",
      "        or if a copy is needed to satisfy any of the other requirements\n",
      "        (`dtype`, `order`, etc.).\n",
      "    order : {'K', 'A', 'C', 'F'}, optional\n",
      "        Specify the memory layout of the array. If object is not an array, the\n",
      "        newly created array will be in C order (row major) unless 'F' is\n",
      "        specified, in which case it will be in Fortran order (column major).\n",
      "        If object is an array the following holds.\n",
      "    \n",
      "        ===== ========= ===================================================\n",
      "        order  no copy                     copy=True\n",
      "        ===== ========= ===================================================\n",
      "        'K'   unchanged F & C order preserved, otherwise most similar order\n",
      "        'A'   unchanged F order if input is F and not C, otherwise C order\n",
      "        'C'   C order   C order\n",
      "        'F'   F order   F order\n",
      "        ===== ========= ===================================================\n",
      "    \n",
      "        When ``copy=False`` and a copy is made for other reasons, the result is\n",
      "        the same as if ``copy=True``, with some exceptions for `A`, see the\n",
      "        Notes section. The default order is 'K'.\n",
      "    subok : bool, optional\n",
      "        If True, then sub-classes will be passed-through, otherwise\n",
      "        the returned array will be forced to be a base-class array (default).\n",
      "    ndmin : int, optional\n",
      "        Specifies the minimum number of dimensions that the resulting\n",
      "        array should have.  Ones will be pre-pended to the shape as\n",
      "        needed to meet this requirement.\n",
      "    \n",
      "    Returns\n",
      "    -------\n",
      "    out : ndarray\n",
      "        An array object satisfying the specified requirements.\n",
      "    \n",
      "    See Also\n",
      "    --------\n",
      "    empty_like : Return an empty array with shape and type of input.\n",
      "    ones_like : Return an array of ones with shape and type of input.\n",
      "    zeros_like : Return an array of zeros with shape and type of input.\n",
      "    full_like : Return a new array with shape of input filled with value.\n",
      "    empty : Return a new uninitialized array.\n",
      "    ones : Return a new array setting values to one.\n",
      "    zeros : Return a new array setting values to zero.\n",
      "    full : Return a new array of given shape filled with value.\n",
      "    \n",
      "    \n",
      "    Notes\n",
      "    -----\n",
      "    When order is 'A' and `object` is an array in neither 'C' nor 'F' order,\n",
      "    and a copy is forced by a change in dtype, then the order of the result is\n",
      "    not necessarily 'C' as expected. This is likely a bug.\n",
      "    \n",
      "    Examples\n",
      "    --------\n",
      "    >>> np.array([1, 2, 3])\n",
      "    array([1, 2, 3])\n",
      "    \n",
      "    Upcasting:\n",
      "    \n",
      "    >>> np.array([1, 2, 3.0])\n",
      "    array([ 1.,  2.,  3.])\n",
      "    \n",
      "    More than one dimension:\n",
      "    \n",
      "    >>> np.array([[1, 2], [3, 4]])\n",
      "    array([[1, 2],\n",
      "           [3, 4]])\n",
      "    \n",
      "    Minimum dimensions 2:\n",
      "    \n",
      "    >>> np.array([1, 2, 3], ndmin=2)\n",
      "    array([[1, 2, 3]])\n",
      "    \n",
      "    Type provided:\n",
      "    \n",
      "    >>> np.array([1, 2, 3], dtype=complex)\n",
      "    array([ 1.+0.j,  2.+0.j,  3.+0.j])\n",
      "    \n",
      "    Data-type consisting of more than one element:\n",
      "    \n",
      "    >>> x = np.array([(1,2),(3,4)],dtype=[('a','<i4'),('b','<i4')])\n",
      "    >>> x['a']\n",
      "    array([1, 3])\n",
      "    \n",
      "    Creating an array from sub-classes:\n",
      "    \n",
      "    >>> np.array(np.mat('1 2; 3 4'))\n",
      "    array([[1, 2],\n",
      "           [3, 4]])\n",
      "    \n",
      "    >>> np.array(np.mat('1 2; 3 4'), subok=True)\n",
      "    matrix([[1, 2],\n",
      "            [3, 4]])\n",
      "\n"
     ]
    }
   ],
   "source": [
    "help(array)"
   ]
  },
  {
   "cell_type": "code",
   "execution_count": 17,
   "metadata": {},
   "outputs": [
    {
     "name": "stdout",
     "output_type": "stream",
     "text": [
      "['KESHAV' '(45+9j)' 'True' '39.69' '39']\n"
     ]
    },
    {
     "data": {
      "text/plain": [
       "(None, dtype('<U7'), numpy.ndarray, 1)"
      ]
     },
     "execution_count": 17,
     "metadata": {},
     "output_type": "execute_result"
    }
   ],
   "source": [
    "#Creating 1D array from 1 list\n",
    "#array.dtype works with Array only\n",
    "from numpy import ndim\n",
    "Array1D=array([\"KESHAV\",45+9j,True,39.69,39]) #Convert the list into 1D array\n",
    "print(Array1D),Array1D.dtype,type(Array1D),ndim(Array1D)"
   ]
  },
  {
   "cell_type": "code",
   "execution_count": 18,
   "metadata": {},
   "outputs": [
    {
     "name": "stdout",
     "output_type": "stream",
     "text": [
      "['KESHAV' '(45+9j)' 'True' '39.69' '39']\n"
     ]
    },
    {
     "data": {
      "text/plain": [
       "(None, dtype('<U7'), numpy.ndarray, 1)"
      ]
     },
     "execution_count": 18,
     "metadata": {},
     "output_type": "execute_result"
    }
   ],
   "source": [
    "#Creating 1D array from 1 tuple\n",
    "#array.dtype works with Array only \n",
    "Array1D=array((\"KESHAV\",45+9j,True,39.69,39)) #Convert the list into 1D array\n",
    "print(Array1D),Array1D.dtype,type(Array1D),ndim(Array1D)"
   ]
  },
  {
   "cell_type": "code",
   "execution_count": 19,
   "metadata": {},
   "outputs": [
    {
     "name": "stdout",
     "output_type": "stream",
     "text": [
      "[['KESHAV' '(45+9j)' 'True' '39.69' '39']]\n"
     ]
    },
    {
     "data": {
      "text/plain": [
       "(None, dtype('<U7'), numpy.ndarray, 2)"
      ]
     },
     "execution_count": 19,
     "metadata": {},
     "output_type": "execute_result"
    }
   ],
   "source": [
    "#1D to 2D array convertion from 1 list\n",
    "Array2D=array([[\"KESHAV\",45+9j,True,39.69,39]]) #Convert the list into 2D array, ([[]])\n",
    "print(Array2D),Array2D.dtype,type(Array2D),ndim(Array2D)"
   ]
  },
  {
   "cell_type": "code",
   "execution_count": 20,
   "metadata": {},
   "outputs": [
    {
     "name": "stdout",
     "output_type": "stream",
     "text": [
      "[['KESHAV' '(45+9j)' 'True' '39.69' '39']]\n"
     ]
    },
    {
     "data": {
      "text/plain": [
       "(None, dtype('<U7'), numpy.ndarray, 2)"
      ]
     },
     "execution_count": 20,
     "metadata": {},
     "output_type": "execute_result"
    }
   ],
   "source": [
    "#1D to 2D array convertion from 1 tuple\n",
    "Array2D=array([(\"KESHAV\",45+9j,True,39.69,39)]) #Convert the tuple into 2D array, ([()])\n",
    "print(Array2D),Array2D.dtype,type(Array2D),ndim(Array2D)"
   ]
  },
  {
   "cell_type": "code",
   "execution_count": 21,
   "metadata": {},
   "outputs": [
    {
     "name": "stdout",
     "output_type": "stream",
     "text": [
      "[['KESHAV' '(45+9j)' 'True' '39.69' '39']]\n"
     ]
    },
    {
     "data": {
      "text/plain": [
       "(None, dtype('<U7'), numpy.ndarray, 2)"
      ]
     },
     "execution_count": 21,
     "metadata": {},
     "output_type": "execute_result"
    }
   ],
   "source": [
    "# How to create Array2DRow ??\n",
    "Array2DRow=array([[\"KESHAV\",45+9j,True,39.69,39]])\n",
    "print(Array2DRow),Array2DRow.dtype,type(Array2DRow),ndim(Array2DRow)"
   ]
  },
  {
   "cell_type": "code",
   "execution_count": 22,
   "metadata": {},
   "outputs": [
    {
     "name": "stdout",
     "output_type": "stream",
     "text": [
      "[['KESHAV']\n",
      " ['(45+9j)']\n",
      " ['True']\n",
      " ['39.69']\n",
      " ['39']]\n"
     ]
    },
    {
     "data": {
      "text/plain": [
       "(None, dtype('<U7'), numpy.ndarray, 2)"
      ]
     },
     "execution_count": 22,
     "metadata": {},
     "output_type": "execute_result"
    }
   ],
   "source": [
    "# How to create Array2DCol ??\n",
    "Array2DCol=array([[\"KESHAV\"],[45+9j],[True],[39.69],[39]])\n",
    "print(Array2DCol),Array2DRow.dtype,type(Array2DRow),ndim(Array2DCol)"
   ]
  },
  {
   "cell_type": "code",
   "execution_count": 23,
   "metadata": {},
   "outputs": [
    {
     "name": "stdout",
     "output_type": "stream",
     "text": [
      "['KESHAV' '(45+9j)' 'True' '39.69' '39']\n"
     ]
    },
    {
     "data": {
      "text/plain": [
       "(None, dtype('<U7'), numpy.ndarray, 1)"
      ]
     },
     "execution_count": 23,
     "metadata": {},
     "output_type": "execute_result"
    }
   ],
   "source": [
    "# How to create Array1DRow ??\n",
    "Array2DCol=array([(\"KESHAV\"),(45+9j),(True),(39.69),(39)])\n",
    "print(Array2DCol),Array2DRow.dtype,type(Array2DRow),ndim(Array2DCol)"
   ]
  },
  {
   "cell_type": "code",
   "execution_count": 24,
   "metadata": {},
   "outputs": [
    {
     "name": "stdout",
     "output_type": "stream",
     "text": [
      "[['KESHAV' '(45+9j)' 'True' '39.69' '39']\n",
      " ['10.1' 'Prashant' '(10+10j)' 'False' '10']]\n"
     ]
    },
    {
     "data": {
      "text/plain": [
       "(None, dtype('<U8'), numpy.ndarray, 2)"
      ]
     },
     "execution_count": 24,
     "metadata": {},
     "output_type": "execute_result"
    }
   ],
   "source": [
    "#Creating 2D array from 2 lists\n",
    "#No of elements/length of each list should be same\n",
    "Array2DL=array([[\"KESHAV\",45+9j,True,39.69,39],[10.10,'Prashant',10+10j,False,10]]) #Transforming nested list of 2 lists into Array\n",
    "print(Array2DL),Array2DL.dtype,type(Array2DL),ndim(Array2DL)"
   ]
  },
  {
   "cell_type": "code",
   "execution_count": 25,
   "metadata": {},
   "outputs": [
    {
     "name": "stdout",
     "output_type": "stream",
     "text": [
      "[['KESHAV' '(45+9j)' 'True' '39.69' '39']\n",
      " ['10.1' 'Prashant' '(10+10j)' 'False' '10']]\n"
     ]
    },
    {
     "data": {
      "text/plain": [
       "(None, dtype('<U8'), numpy.ndarray, 2)"
      ]
     },
     "execution_count": 25,
     "metadata": {},
     "output_type": "execute_result"
    }
   ],
   "source": [
    "#Creating 2D array from 2 lists\n",
    "#No of elements/length of each list should be same\n",
    "Array2DL=array(([\"KESHAV\",45+9j,True,39.69,39],[10.10,'Prashant',10+10j,False,10])) #Transforming nested list of 2 lists into Array\n",
    "print(Array2DL),Array2DL.dtype,type(Array2DL),ndim(Array2DL)"
   ]
  },
  {
   "cell_type": "code",
   "execution_count": 26,
   "metadata": {},
   "outputs": [
    {
     "name": "stdout",
     "output_type": "stream",
     "text": [
      "[['KESHAV' '(45+9j)' 'True' '39.69' '39']]\n"
     ]
    },
    {
     "data": {
      "text/plain": [
       "(None, dtype('<U7'), numpy.ndarray, 2)"
      ]
     },
     "execution_count": 26,
     "metadata": {},
     "output_type": "execute_result"
    }
   ],
   "source": [
    "Array2d=array([[\"KESHAV\",45+9j,True,39.69,39]]) #Convert the list into 2D array\n",
    "print(Array2d),Array2d.dtype,type(Array2d),ndim(Array2d)"
   ]
  },
  {
   "cell_type": "code",
   "execution_count": 27,
   "metadata": {},
   "outputs": [
    {
     "name": "stdout",
     "output_type": "stream",
     "text": [
      "['KESHAV' '(45+9j)' 'True' '39.69' '39']\n"
     ]
    },
    {
     "data": {
      "text/plain": [
       "(None, dtype('<U7'), numpy.ndarray, 1)"
      ]
     },
     "execution_count": 27,
     "metadata": {},
     "output_type": "execute_result"
    }
   ],
   "source": [
    "#Creating 1D array from 1 Tuple\n",
    "Array1DT=array((\"KESHAV\",45+9j,True,39.69,39)) #Convert the Tuple into 1D Array\n",
    "print(Array1DT),Array1DT.dtype,type(Array1DT),ndim(Array1DT)"
   ]
  },
  {
   "cell_type": "code",
   "execution_count": 28,
   "metadata": {},
   "outputs": [
    {
     "name": "stdout",
     "output_type": "stream",
     "text": [
      "['KESHAV' '(45+9j)' 'True' '39.69' '39']\n"
     ]
    },
    {
     "data": {
      "text/plain": [
       "(None, dtype('<U7'), numpy.ndarray, 1)"
      ]
     },
     "execution_count": 28,
     "metadata": {},
     "output_type": "execute_result"
    }
   ],
   "source": [
    "#1D to 2D array convertion from 1 tuple   This ((())) or (([])) always create 1D Array only\n",
    "# How to create Array2DRow ??\n",
    "array2DRow=array(((\"KESHAV\",45+9j,True,39.69,39))) #Convert the Tuple into 2D array\n",
    "print(array2DRow),array2DRow.dtype,type(array2DRow),ndim(array2DRow)"
   ]
  },
  {
   "cell_type": "code",
   "execution_count": 29,
   "metadata": {},
   "outputs": [
    {
     "name": "stdout",
     "output_type": "stream",
     "text": [
      "[['KESHAV' '(45+9j)' 'True' '39.69' '39']]\n"
     ]
    },
    {
     "data": {
      "text/plain": [
       "(None, dtype('<U7'), numpy.ndarray, 2)"
      ]
     },
     "execution_count": 29,
     "metadata": {},
     "output_type": "execute_result"
    }
   ],
   "source": [
    "#1D to 2D array convertion from 1 tuple\n",
    "# How to create Array2DRow ??\n",
    "array2DRow=array([(\"KESHAV\",45+9j,True,39.69,39)]) #Convert the Tuple into 2D array\n",
    "print(array2DRow),array2DRow.dtype,type(array2DRow),ndim(array2DRow)"
   ]
  },
  {
   "cell_type": "code",
   "execution_count": 30,
   "metadata": {},
   "outputs": [
    {
     "name": "stdout",
     "output_type": "stream",
     "text": [
      "['KESHAV' '(45+9j)' 'True' '39.69' '39']\n"
     ]
    },
    {
     "data": {
      "text/plain": [
       "(None, dtype('<U7'), numpy.ndarray, 1)"
      ]
     },
     "execution_count": 30,
     "metadata": {},
     "output_type": "execute_result"
    }
   ],
   "source": [
    "# This ((())) or (([])) always create 1D Array only\n",
    "# How to create Array2DRow ??\n",
    "#1D to 2D array convertion from 1 tuple\n",
    "# How to create Array2DRow ??\n",
    "array2DRow=array(([\"KESHAV\",45+9j,True,39.69,39])) #Convert the Tuple into 2D array\n",
    "print(array2DRow),array2DRow.dtype,type(array2DRow),ndim(array2DRow)"
   ]
  },
  {
   "cell_type": "code",
   "execution_count": 31,
   "metadata": {},
   "outputs": [
    {
     "name": "stdout",
     "output_type": "stream",
     "text": [
      "['KESHAV' '(45+9j)' 'True' '39.69' '39']\n"
     ]
    },
    {
     "data": {
      "text/plain": [
       "(None, dtype('<U7'), numpy.ndarray, 1)"
      ]
     },
     "execution_count": 31,
     "metadata": {},
     "output_type": "execute_result"
    }
   ],
   "source": [
    "# How to create Array2DCol ??\n",
    "Array2DCol=array(((\"KESHAV\"),(45+9j),(True),(39.69),(39)))\n",
    "print(Array2DCol),Array2DCol.dtype,type(Array2DCol),ndim(Array2DCol)"
   ]
  },
  {
   "cell_type": "code",
   "execution_count": 32,
   "metadata": {},
   "outputs": [
    {
     "name": "stdout",
     "output_type": "stream",
     "text": [
      "['KESHAV' '(45+9j)' 'True' '39.69' '39']\n"
     ]
    },
    {
     "data": {
      "text/plain": [
       "(None, dtype('<U7'), numpy.ndarray, 1)"
      ]
     },
     "execution_count": 32,
     "metadata": {},
     "output_type": "execute_result"
    }
   ],
   "source": [
    "# How to create Array2DCol ??\n",
    "Array2DCol=array((\"KESHAV\",45+9j,True,39.69,39))\n",
    "print(Array2DCol),Array2DCol.dtype,type(Array2DCol),ndim(Array2DCol)"
   ]
  },
  {
   "cell_type": "code",
   "execution_count": 33,
   "metadata": {},
   "outputs": [
    {
     "name": "stdout",
     "output_type": "stream",
     "text": [
      "['KESHAV' '(45+9j)' 'True' '39.69' '39']\n"
     ]
    },
    {
     "data": {
      "text/plain": [
       "(None, dtype('<U7'), numpy.ndarray, 1)"
      ]
     },
     "execution_count": 33,
     "metadata": {},
     "output_type": "execute_result"
    }
   ],
   "source": [
    "# How to create Array2DCol ??\n",
    "Array2DCol=array([(\"KESHAV\"),(45+9j),(True),(39.69),(39)])\n",
    "print(Array2DCol),Array2DCol.dtype,type(Array2DCol),ndim(Array2DCol)"
   ]
  },
  {
   "cell_type": "code",
   "execution_count": 34,
   "metadata": {},
   "outputs": [
    {
     "data": {
      "text/plain": [
       "(2, numpy.ndarray)"
      ]
     },
     "execution_count": 34,
     "metadata": {},
     "output_type": "execute_result"
    }
   ],
   "source": [
    "ndim(Array2D),type(Array2D)"
   ]
  },
  {
   "cell_type": "code",
   "execution_count": 40,
   "metadata": {},
   "outputs": [
    {
     "name": "stdout",
     "output_type": "stream",
     "text": [
      "[['KESHAV' '(45+9j)' 'True' '39.69' '39']\n",
      " ['10.1' 'Prashant' '(10+10j)' 'False' '10']]\n"
     ]
    },
    {
     "data": {
      "text/plain": [
       "(None, dtype('<U8'), numpy.ndarray, (2, 5), 10)"
      ]
     },
     "execution_count": 40,
     "metadata": {},
     "output_type": "execute_result"
    }
   ],
   "source": [
    "#Creating 2D array from 2 Tuples\n",
    "#No of elements/length of each Tuple should be same\n",
    "from numpy import shape, size\n",
    "Array2DL=array(((\"KESHAV\",45+9j,True,39.69,39),(10.10,'Prashant',10+10j,False,10))) #Transforming nested Tuple of 2 tuples into Array\n",
    "print(Array2DL),Array2DL.dtype,type(Array2DL),shape(Array2DL),size(Array2DL)"
   ]
  },
  {
   "cell_type": "code",
   "execution_count": 41,
   "metadata": {},
   "outputs": [
    {
     "name": "stdout",
     "output_type": "stream",
     "text": [
      "[45.  +9.j  1.  +0.j 39.69+0.j 39.  +0.j]\n"
     ]
    },
    {
     "data": {
      "text/plain": [
       "(None, numpy.ndarray, 1, dtype('complex128'))"
      ]
     },
     "execution_count": 41,
     "metadata": {},
     "output_type": "execute_result"
    }
   ],
   "source": [
    "#Creating 1D array from 1 list & convert all elements into complex\n",
    "#Dont works with string element\n",
    "Array1=array([45+9j,True,39.69,39],dtype=complex) #dtype=complex\n",
    "print(Array1), type(Array1), ndim(Array1), Array1.dtype"
   ]
  },
  {
   "cell_type": "code",
   "execution_count": 42,
   "metadata": {},
   "outputs": [
    {
     "name": "stdout",
     "output_type": "stream",
     "text": [
      "[[45.  +9.j  1.  +0.j 39.69+0.j 39.  +0.j]]\n"
     ]
    },
    {
     "data": {
      "text/plain": [
       "(None, numpy.ndarray, 2, dtype('complex128'))"
      ]
     },
     "execution_count": 42,
     "metadata": {},
     "output_type": "execute_result"
    }
   ],
   "source": [
    "#Creating 2D array from 1 list & convert all elements into complex\n",
    "#Dont works with string element\n",
    "ArraY2=array([[45+9j,True,39.69,39]],dtype=complex) #dtype=complex\n",
    "print(ArraY2), type(ArraY2), ndim(ArraY2), ArraY2.dtype"
   ]
  },
  {
   "cell_type": "code",
   "execution_count": 43,
   "metadata": {},
   "outputs": [
    {
     "name": "stdout",
     "output_type": "stream",
     "text": [
      "[45.  +9.j  1.  +0.j 39.69+0.j 39.  +0.j]\n"
     ]
    },
    {
     "data": {
      "text/plain": [
       "(None, numpy.ndarray, 1, dtype('complex128'))"
      ]
     },
     "execution_count": 43,
     "metadata": {},
     "output_type": "execute_result"
    }
   ],
   "source": [
    "#Creating 1D array from 1 Tuple & convert all elements into complex\n",
    "#Dont works with string element\n",
    "Array1=array((45+9j,True,39.69,39),dtype=complex) #dtype=complex\n",
    "print(Array1), type(Array1), ndim(Array1), Array1.dtype"
   ]
  },
  {
   "cell_type": "code",
   "execution_count": 44,
   "metadata": {},
   "outputs": [
    {
     "name": "stdout",
     "output_type": "stream",
     "text": [
      "[[45.  +9.j  1.  +0.j 39.69+0.j 39.  +0.j]]\n"
     ]
    },
    {
     "data": {
      "text/plain": [
       "(None, numpy.ndarray, 2, dtype('complex128'))"
      ]
     },
     "execution_count": 44,
     "metadata": {},
     "output_type": "execute_result"
    }
   ],
   "source": [
    "#Creating 2D array from 1 Tuple & convert all elements into complex\n",
    "#Dont works with string element\n",
    "ARray2=array([(45+9j,True,39.69,39)],dtype=complex) #dtype=complex\n",
    "print(ARray2), type(ARray2), ndim(ARray2), ARray2.dtype"
   ]
  },
  {
   "cell_type": "code",
   "execution_count": 45,
   "metadata": {},
   "outputs": [
    {
     "name": "stdout",
     "output_type": "stream",
     "text": [
      "[[45.   +9.j  1.   +0.j 39.69 +0.j 39.   +0.j]\n",
      " [10.1  +0.j 10.  +10.j  0.   +0.j 10.   +0.j]]\n"
     ]
    },
    {
     "data": {
      "text/plain": [
       "(None, numpy.ndarray, 2, dtype('complex128'))"
      ]
     },
     "execution_count": 45,
     "metadata": {},
     "output_type": "execute_result"
    }
   ],
   "source": [
    "#Creating 2D array from 2 lists & convert all elements into complex\n",
    "#No of elements/length of each list should be same\n",
    "#Dont works with string element\n",
    "Array2=array([[45+9j,True,39.69,39],[10.10,10+10j,False,10]],dtype=complex) #Transforming nested list of 2 lists into Array\n",
    "print(Array2), type(Array2), ndim(Array2), Array2.dtype               #dtype=complex"
   ]
  },
  {
   "cell_type": "code",
   "execution_count": 46,
   "metadata": {},
   "outputs": [
    {
     "name": "stdout",
     "output_type": "stream",
     "text": [
      "[[45.   +9.j  1.   +0.j 39.69 +0.j 39.   +0.j]\n",
      " [10.1  +0.j 10.  +10.j  0.   +0.j 10.   +0.j]]\n"
     ]
    },
    {
     "data": {
      "text/plain": [
       "(None, numpy.ndarray, 2, dtype('complex128'))"
      ]
     },
     "execution_count": 46,
     "metadata": {},
     "output_type": "execute_result"
    }
   ],
   "source": [
    "#Creating 2D array from 2 Tuples & convert elements into complex\n",
    "#No of elements/length of each Tuple should be same\n",
    "#Dont works with string element\n",
    "Array2=array(((45+9j,True,39.69,39),(10.10,10+10j,False,10)),dtype=complex) #Transforming nested tuple of 2 tuples into Array\n",
    "print(Array2), type(Array2), ndim(Array2), Array2.dtype               #dtype=complex"
   ]
  },
  {
   "cell_type": "markdown",
   "metadata": {},
   "source": [
    "### arange() function\n",
    "Almost like range() variable, for particular data you need to mention dtype="
   ]
  },
  {
   "cell_type": "code",
   "execution_count": 48,
   "metadata": {},
   "outputs": [
    {
     "name": "stdout",
     "output_type": "stream",
     "text": [
      "Help on built-in function arange in module numpy:\n",
      "\n",
      "arange(...)\n",
      "    arange([start,] stop[, step,], dtype=None)\n",
      "    \n",
      "    Return evenly spaced values within a given interval.\n",
      "    \n",
      "    Values are generated within the half-open interval ``[start, stop)``\n",
      "    (in other words, the interval including `start` but excluding `stop`).\n",
      "    For integer arguments the function is equivalent to the Python built-in\n",
      "    `range` function, but returns an ndarray rather than a list.\n",
      "    \n",
      "    When using a non-integer step, such as 0.1, the results will often not\n",
      "    be consistent.  It is better to use `numpy.linspace` for these cases.\n",
      "    \n",
      "    Parameters\n",
      "    ----------\n",
      "    start : number, optional\n",
      "        Start of interval.  The interval includes this value.  The default\n",
      "        start value is 0.\n",
      "    stop : number\n",
      "        End of interval.  The interval does not include this value, except\n",
      "        in some cases where `step` is not an integer and floating point\n",
      "        round-off affects the length of `out`.\n",
      "    step : number, optional\n",
      "        Spacing between values.  For any output `out`, this is the distance\n",
      "        between two adjacent values, ``out[i+1] - out[i]``.  The default\n",
      "        step size is 1.  If `step` is specified as a position argument,\n",
      "        `start` must also be given.\n",
      "    dtype : dtype\n",
      "        The type of the output array.  If `dtype` is not given, infer the data\n",
      "        type from the other input arguments.\n",
      "    \n",
      "    Returns\n",
      "    -------\n",
      "    arange : ndarray\n",
      "        Array of evenly spaced values.\n",
      "    \n",
      "        For floating point arguments, the length of the result is\n",
      "        ``ceil((stop - start)/step)``.  Because of floating point overflow,\n",
      "        this rule may result in the last element of `out` being greater\n",
      "        than `stop`.\n",
      "    \n",
      "    See Also\n",
      "    --------\n",
      "    numpy.linspace : Evenly spaced numbers with careful handling of endpoints.\n",
      "    numpy.ogrid: Arrays of evenly spaced numbers in N-dimensions.\n",
      "    numpy.mgrid: Grid-shaped arrays of evenly spaced numbers in N-dimensions.\n",
      "    \n",
      "    Examples\n",
      "    --------\n",
      "    >>> np.arange(3)\n",
      "    array([0, 1, 2])\n",
      "    >>> np.arange(3.0)\n",
      "    array([ 0.,  1.,  2.])\n",
      "    >>> np.arange(3,7)\n",
      "    array([3, 4, 5, 6])\n",
      "    >>> np.arange(3,7,2)\n",
      "    array([3, 5])\n",
      "\n"
     ]
    }
   ],
   "source": [
    "from numpy import arange\n",
    "help(arange)"
   ]
  },
  {
   "cell_type": "code",
   "execution_count": 49,
   "metadata": {},
   "outputs": [],
   "source": [
    "#This is array created by single range/multiple range unlike List,Tuple\n",
    "#arange([start,] stop[, step,], dtype=None)"
   ]
  },
  {
   "cell_type": "code",
   "execution_count": 50,
   "metadata": {},
   "outputs": [
    {
     "name": "stdout",
     "output_type": "stream",
     "text": [
      "[ 0.+0.j  1.+0.j  2.+0.j  3.+0.j  4.+0.j  5.+0.j  6.+0.j  7.+0.j  8.+0.j\n",
      "  9.+0.j 10.+0.j 11.+0.j 12.+0.j 13.+0.j 14.+0.j 15.+0.j 16.+0.j 17.+0.j\n",
      " 18.+0.j 19.+0.j]\n"
     ]
    },
    {
     "data": {
      "text/plain": [
       "(None, numpy.ndarray, 1, dtype('complex128'))"
      ]
     },
     "execution_count": 50,
     "metadata": {},
     "output_type": "execute_result"
    }
   ],
   "source": [
    "#Creating 1D array from 1 range of complex elements\n",
    "# start=0 by default\n",
    "# stop=20\n",
    "# step=1 by default\n",
    "Array1=arange(start=0,stop=20,dtype=complex) #From 0 to 19 complex numbers\n",
    "print(Array1),type(Array1),ndim(Array1),Array1.dtype"
   ]
  },
  {
   "cell_type": "code",
   "execution_count": 51,
   "metadata": {},
   "outputs": [
    {
     "name": "stdout",
     "output_type": "stream",
     "text": [
      "[[ 1.+0.j  2.+0.j  3.+0.j  4.+0.j  5.+0.j]\n",
      " [ 6.+0.j  7.+0.j  8.+0.j  9.+0.j 10.+0.j]\n",
      " [11.+0.j 12.+0.j 13.+0.j 14.+0.j 15.+0.j]\n",
      " [16.+0.j 17.+0.j 18.+0.j 19.+0.j 20.+0.j]]\n"
     ]
    },
    {
     "data": {
      "text/plain": [
       "(None, 2, numpy.ndarray, dtype('complex128'))"
      ]
     },
     "execution_count": 51,
     "metadata": {},
     "output_type": "execute_result"
    }
   ],
   "source": [
    "#Creating 2D array from 1 range having complex elements\n",
    "#We will use reshape() function to give the Array2 2D structure\n",
    "#No of elements/length of each range should be same\n",
    "#Dont works with string element\n",
    "# start=1\n",
    "# stop=21\n",
    "# step=1\n",
    "Array2=arange(start=1,stop=21,step=1,dtype=complex).reshape(4,5) #4 rows & 5 columns, from 1 to 20 complex numbers\n",
    "print(Array2),ndim(Array2),type(Array2),Array2.dtype"
   ]
  },
  {
   "cell_type": "markdown",
   "metadata": {},
   "source": [
    "### zeros() function"
   ]
  },
  {
   "cell_type": "code",
   "execution_count": 52,
   "metadata": {},
   "outputs": [
    {
     "name": "stdout",
     "output_type": "stream",
     "text": [
      "Help on function zeros in module numpy:\n",
      "\n",
      "zeros(...)\n",
      "    scipy.zeros is deprecated and will be removed in SciPy 2.0.0, use numpy.zeros instead\n",
      "\n"
     ]
    }
   ],
   "source": [
    "help(zeros)"
   ]
  },
  {
   "cell_type": "code",
   "execution_count": 123,
   "metadata": {},
   "outputs": [],
   "source": [
    "#zeros(shape, dtype=float, order='C')\n",
    "#zeros() function creates array filled with zeros\n",
    "#You should mention the shape of the array\n",
    "#You can mention the data type, otherwise default data type will be Float\n",
    "#You can mention the multidimentional data storing order but we will ignore it"
   ]
  },
  {
   "cell_type": "code",
   "execution_count": 53,
   "metadata": {},
   "outputs": [
    {
     "name": "stdout",
     "output_type": "stream",
     "text": [
      "[0. 0. 0. 0. 0.]\n"
     ]
    },
    {
     "data": {
      "text/plain": [
       "(None, 1, numpy.ndarray, dtype('float64'))"
      ]
     },
     "execution_count": 53,
     "metadata": {},
     "output_type": "execute_result"
    }
   ],
   "source": [
    "#Creating 1D zeros Array\n",
    "from numpy import zeros\n",
    "Zeros1=zeros(5,float)   #Zeros Array, containing 5 elements, Float type\n",
    "print(Zeros1),ndim(Zeros1),type(Zeros1),Zeros1.dtype"
   ]
  },
  {
   "cell_type": "code",
   "execution_count": 54,
   "metadata": {},
   "outputs": [
    {
     "name": "stdout",
     "output_type": "stream",
     "text": [
      "[0.+0.j 0.+0.j 0.+0.j 0.+0.j 0.+0.j]\n"
     ]
    },
    {
     "data": {
      "text/plain": [
       "(None, 1, numpy.ndarray, dtype('complex128'))"
      ]
     },
     "execution_count": 54,
     "metadata": {},
     "output_type": "execute_result"
    }
   ],
   "source": [
    "#Creating 1D zeros Array\n",
    "Zeros1=zeros(5,complex)   #Zeros Array, containing 5 elements, Complex type\n",
    "print(Zeros1),ndim(Zeros1),type(Zeros1), Zeros1.dtype"
   ]
  },
  {
   "cell_type": "code",
   "execution_count": 55,
   "metadata": {},
   "outputs": [
    {
     "name": "stdout",
     "output_type": "stream",
     "text": [
      "[[0 0 0 0]\n",
      " [0 0 0 0]\n",
      " [0 0 0 0]\n",
      " [0 0 0 0]\n",
      " [0 0 0 0]]\n"
     ]
    },
    {
     "data": {
      "text/plain": [
       "(None, 2, numpy.ndarray, dtype('int32'))"
      ]
     },
     "execution_count": 55,
     "metadata": {},
     "output_type": "execute_result"
    }
   ],
   "source": [
    "#Creating 2D zeros Array of tuples\n",
    "Zeros2=zeros((5,4),int) #(5,4) is shape tuple of ints, containing 5*4=20 elements, integer type\n",
    "print(Zeros2),ndim(Zeros2),type(Zeros2),Zeros2.dtype"
   ]
  },
  {
   "cell_type": "code",
   "execution_count": 56,
   "metadata": {},
   "outputs": [
    {
     "name": "stdout",
     "output_type": "stream",
     "text": [
      "[[0.+0.j 0.+0.j 0.+0.j 0.+0.j]\n",
      " [0.+0.j 0.+0.j 0.+0.j 0.+0.j]\n",
      " [0.+0.j 0.+0.j 0.+0.j 0.+0.j]\n",
      " [0.+0.j 0.+0.j 0.+0.j 0.+0.j]\n",
      " [0.+0.j 0.+0.j 0.+0.j 0.+0.j]]\n"
     ]
    },
    {
     "data": {
      "text/plain": [
       "(None, 2, numpy.ndarray, dtype('complex128'))"
      ]
     },
     "execution_count": 56,
     "metadata": {},
     "output_type": "execute_result"
    }
   ],
   "source": [
    "#Creating 2D zeros Array of tuples\n",
    "Zeros2=zeros((5,4),complex) #(5,4) is shape tuple of ints, containing 5*4=20 elements, Complex type\n",
    "print(Zeros2),ndim(Zeros2),type(Zeros2),Zeros2.dtype"
   ]
  },
  {
   "cell_type": "code",
   "execution_count": 57,
   "metadata": {},
   "outputs": [
    {
     "name": "stdout",
     "output_type": "stream",
     "text": [
      "[[0. 0. 0. 0. 0.]\n",
      " [0. 0. 0. 0. 0.]\n",
      " [0. 0. 0. 0. 0.]\n",
      " [0. 0. 0. 0. 0.]]\n"
     ]
    },
    {
     "data": {
      "text/plain": [
       "(None, 2, numpy.ndarray, dtype('float64'))"
      ]
     },
     "execution_count": 57,
     "metadata": {},
     "output_type": "execute_result"
    }
   ],
   "source": [
    "#Creating 2D zeros Array of tuples\n",
    "Zeros2=zeros((4,5),float) #(4,5) is shape tuple of float, containing 4*5=20 elements, Float type\n",
    "print(Zeros2),ndim(Zeros2),type(Zeros2),Zeros2.dtype"
   ]
  },
  {
   "cell_type": "code",
   "execution_count": 58,
   "metadata": {},
   "outputs": [
    {
     "name": "stdout",
     "output_type": "stream",
     "text": [
      "[[0 0 0 0]\n",
      " [0 0 0 0]\n",
      " [0 0 0 0]\n",
      " [0 0 0 0]\n",
      " [0 0 0 0]]\n"
     ]
    },
    {
     "data": {
      "text/plain": [
       "(None, 2, numpy.ndarray, dtype('int32'))"
      ]
     },
     "execution_count": 58,
     "metadata": {},
     "output_type": "execute_result"
    }
   ],
   "source": [
    "#Creating 2D zeros Array of lists\n",
    "Zeros2=zeros([5,4],int) #[5,4] is shape list of ints, containing 5*4=20 elements, integer type\n",
    "print(Zeros2),ndim(Zeros2),type(Zeros2),Zeros2.dtype"
   ]
  },
  {
   "cell_type": "code",
   "execution_count": 59,
   "metadata": {},
   "outputs": [
    {
     "name": "stdout",
     "output_type": "stream",
     "text": [
      "[[0. 0. 0. 0. 0.]\n",
      " [0. 0. 0. 0. 0.]\n",
      " [0. 0. 0. 0. 0.]\n",
      " [0. 0. 0. 0. 0.]]\n"
     ]
    },
    {
     "data": {
      "text/plain": [
       "(None, 2, numpy.ndarray, dtype('float64'))"
      ]
     },
     "execution_count": 59,
     "metadata": {},
     "output_type": "execute_result"
    }
   ],
   "source": [
    "#Creating 2D zeros Array of lists\n",
    "Zeros2=zeros([4,5],float) #[4,5] is shape list of float, containing 4*5=20 elements, float type\n",
    "print(Zeros2),ndim(Zeros2),type(Zeros2),Zeros2.dtype"
   ]
  },
  {
   "cell_type": "markdown",
   "metadata": {},
   "source": [
    "### ones() function"
   ]
  },
  {
   "cell_type": "code",
   "execution_count": 60,
   "metadata": {},
   "outputs": [
    {
     "name": "stdout",
     "output_type": "stream",
     "text": [
      "Help on function ones in module numpy:\n",
      "\n",
      "ones(shape, dtype=None, order='C')\n",
      "    scipy.ones is deprecated and will be removed in SciPy 2.0.0, use numpy.ones instead\n",
      "\n"
     ]
    }
   ],
   "source": [
    "help(ones)"
   ]
  },
  {
   "cell_type": "code",
   "execution_count": 132,
   "metadata": {},
   "outputs": [],
   "source": [
    "#ones(shape, dtype=None, order='C')\n",
    "#ones() function creates array filled with 1\n",
    "#You should mention the shape of the array\n",
    "#You can mention the data type, otherwise default data type will be Float\n",
    "#You can mention the multidimentional data storing order but we will ignore it"
   ]
  },
  {
   "cell_type": "code",
   "execution_count": 61,
   "metadata": {},
   "outputs": [
    {
     "name": "stdout",
     "output_type": "stream",
     "text": [
      "[1. 1. 1. 1. 1.]\n"
     ]
    },
    {
     "data": {
      "text/plain": [
       "(None, 1, numpy.ndarray, dtype('float64'))"
      ]
     },
     "execution_count": 61,
     "metadata": {},
     "output_type": "execute_result"
    }
   ],
   "source": [
    "#Creating 1D ones Array\n",
    "from numpy import ones\n",
    "Ones1=ones(5,float)    #Ones Array, containing 5 elements, Float type\n",
    "print(Ones1), ndim(Ones1), type(Ones1), Ones1.dtype"
   ]
  },
  {
   "cell_type": "code",
   "execution_count": 62,
   "metadata": {},
   "outputs": [
    {
     "name": "stdout",
     "output_type": "stream",
     "text": [
      "[[1 1 1 1]\n",
      " [1 1 1 1]\n",
      " [1 1 1 1]\n",
      " [1 1 1 1]\n",
      " [1 1 1 1]]\n"
     ]
    },
    {
     "data": {
      "text/plain": [
       "(None, 2, numpy.ndarray, dtype('int32'))"
      ]
     },
     "execution_count": 62,
     "metadata": {},
     "output_type": "execute_result"
    }
   ],
   "source": [
    "#Creating 2D ones Array of tuples\n",
    "Ones2=ones((5,4),int) #(5,4) is tuple of ints, containing 5*4=20 elements, integer type\n",
    "print(Ones2),ndim(Ones2),type(Ones2),Ones2.dtype"
   ]
  },
  {
   "cell_type": "code",
   "execution_count": 63,
   "metadata": {},
   "outputs": [
    {
     "name": "stdout",
     "output_type": "stream",
     "text": [
      "[[1. 1. 1. 1. 1.]\n",
      " [1. 1. 1. 1. 1.]\n",
      " [1. 1. 1. 1. 1.]\n",
      " [1. 1. 1. 1. 1.]]\n"
     ]
    },
    {
     "data": {
      "text/plain": [
       "(None, 2, numpy.ndarray, dtype('float64'))"
      ]
     },
     "execution_count": 63,
     "metadata": {},
     "output_type": "execute_result"
    }
   ],
   "source": [
    "#Creating 2D ones Array of tuples\n",
    "Ones2=ones((4,5),float) #(4,5) is tuple of float, containing 4*5=20 elements, float type\n",
    "print(Ones2),ndim(Ones2),type(Ones2),Ones2.dtype"
   ]
  },
  {
   "cell_type": "code",
   "execution_count": 64,
   "metadata": {},
   "outputs": [
    {
     "name": "stdout",
     "output_type": "stream",
     "text": [
      "[[1.+0.j 1.+0.j 1.+0.j 1.+0.j 1.+0.j]\n",
      " [1.+0.j 1.+0.j 1.+0.j 1.+0.j 1.+0.j]\n",
      " [1.+0.j 1.+0.j 1.+0.j 1.+0.j 1.+0.j]\n",
      " [1.+0.j 1.+0.j 1.+0.j 1.+0.j 1.+0.j]]\n"
     ]
    },
    {
     "data": {
      "text/plain": [
       "(None, 2, numpy.ndarray, dtype('complex128'))"
      ]
     },
     "execution_count": 64,
     "metadata": {},
     "output_type": "execute_result"
    }
   ],
   "source": [
    "#Creating 2D ones Array of tuples\n",
    "Ones2=ones((4,5),complex) #(4,5) is tuple of complex, containing 4*5=20 elements, complex type\n",
    "print(Ones2),ndim(Ones2),type(Ones2),Ones2.dtype"
   ]
  },
  {
   "cell_type": "code",
   "execution_count": 65,
   "metadata": {},
   "outputs": [
    {
     "name": "stdout",
     "output_type": "stream",
     "text": [
      "[[1 1 1 1]\n",
      " [1 1 1 1]\n",
      " [1 1 1 1]\n",
      " [1 1 1 1]\n",
      " [1 1 1 1]]\n"
     ]
    },
    {
     "data": {
      "text/plain": [
       "(None, 2, numpy.ndarray, dtype('int32'))"
      ]
     },
     "execution_count": 65,
     "metadata": {},
     "output_type": "execute_result"
    }
   ],
   "source": [
    "#Creating 2D ones Array of lists\n",
    "Ones2=ones([5,4],int) #[5,4] is list of ints, containing 5*4=20 elements, integer type\n",
    "print(Ones2),ndim(Ones2),type(Ones2),Ones2.dtype"
   ]
  },
  {
   "cell_type": "code",
   "execution_count": 66,
   "metadata": {},
   "outputs": [
    {
     "name": "stdout",
     "output_type": "stream",
     "text": [
      "[[1. 1. 1. 1. 1.]\n",
      " [1. 1. 1. 1. 1.]\n",
      " [1. 1. 1. 1. 1.]\n",
      " [1. 1. 1. 1. 1.]]\n"
     ]
    },
    {
     "data": {
      "text/plain": [
       "(None, 2, numpy.ndarray, dtype('float64'))"
      ]
     },
     "execution_count": 66,
     "metadata": {},
     "output_type": "execute_result"
    }
   ],
   "source": [
    "#Creating 2D ones Array of lists\n",
    "Ones2=ones([4,5],float) #[4,5] is list of float, containing 4*5=20 elements, float type\n",
    "print(Ones2),ndim(Ones2),type(Ones2),Ones2.dtype"
   ]
  },
  {
   "cell_type": "markdown",
   "metadata": {},
   "source": [
    "### linspace() function"
   ]
  },
  {
   "cell_type": "code",
   "execution_count": 67,
   "metadata": {},
   "outputs": [
    {
     "name": "stdout",
     "output_type": "stream",
     "text": [
      "Help on function linspace in module numpy:\n",
      "\n",
      "linspace(start, stop, num=50, endpoint=True, retstep=False, dtype=None, axis=0)\n",
      "    scipy.linspace is deprecated and will be removed in SciPy 2.0.0, use numpy.linspace instead\n",
      "\n"
     ]
    }
   ],
   "source": [
    "#Returns evenly spaced numbers over a specified interval.\n",
    "#Creates array filled with evenly spaced/sequenced values\n",
    "#It almost works like arange() function\n",
    "#With linspace we provide start value, stop value and no of desired elements\n",
    "#linspace automatically adjusts the step/interval for getting the no of desired elements sequence\n",
    "#linspace stands for linear-space/interval/step\n",
    "#In linspace we can include the stop value (optional), unlike range & arange\n",
    "#We can exclude the stop value by doing endpoint=False\n",
    "#We can also get the print of space/interval/step by doing retstep=True\n",
    "#retstep=True it converts the result into Tuple\n",
    "#.reshape() & array.dtype commands dont works along with retstep=True command\n",
    "help(linspace)"
   ]
  },
  {
   "cell_type": "code",
   "execution_count": 68,
   "metadata": {},
   "outputs": [
    {
     "name": "stdout",
     "output_type": "stream",
     "text": [
      "[ 5.  8. 11.]\n"
     ]
    },
    {
     "data": {
      "text/plain": [
       "(None, 1, numpy.ndarray, dtype('float64'))"
      ]
     },
     "execution_count": 68,
     "metadata": {},
     "output_type": "execute_result"
    }
   ],
   "source": [
    "# Hey you, Check the output result here.. They are inside a 1D List Array\n",
    "from numpy import linspace\n",
    "Linspace=linspace(start=5,stop=11,num=3) #5 is start, 11 is stop, 3 is no of elements, endpoint=True by default (include endpoint)\n",
    "print(Linspace),ndim(Linspace),type(Linspace),Linspace.dtype           #by default outcomes are in float"
   ]
  },
  {
   "cell_type": "code",
   "execution_count": 69,
   "metadata": {},
   "outputs": [
    {
     "name": "stdout",
     "output_type": "stream",
     "text": [
      "[5. 7. 9.]\n"
     ]
    },
    {
     "data": {
      "text/plain": [
       "(None, 1, numpy.ndarray, dtype('float64'))"
      ]
     },
     "execution_count": 69,
     "metadata": {},
     "output_type": "execute_result"
    }
   ],
   "source": [
    "# Hey you, Check the output result here.. They are inside a 1D List Array\n",
    "Linspace2=linspace(start=5,stop=11,num=3,endpoint=False) #5 is start, 11 is stop, 3 is no of elements, endpoint=False (exclude endpoint)\n",
    "print(Linspace2),ndim(Linspace2),type(Linspace2),Linspace2.dtype #11 endpoint has been excluded #by default outcomes are in float"
   ]
  },
  {
   "cell_type": "code",
   "execution_count": 70,
   "metadata": {},
   "outputs": [
    {
     "name": "stdout",
     "output_type": "stream",
     "text": [
      "(array([ 5.,  8., 11.]), 3.0)\n"
     ]
    },
    {
     "name": "stderr",
     "output_type": "stream",
     "text": [
      "D:\\Anwesh\\D_Program_Files\\Miniconda3\\envs\\ML\\lib\\site-packages\\numpy\\core\\_asarray.py:83: VisibleDeprecationWarning: Creating an ndarray from ragged nested sequences (which is a list-or-tuple of lists-or-tuples-or ndarrays with different lengths or shapes) is deprecated. If you meant to do this, you must specify 'dtype=object' when creating the ndarray\n",
      "  return array(a, dtype, copy=False, order=order)\n"
     ]
    },
    {
     "ename": "AttributeError",
     "evalue": "'tuple' object has no attribute 'dtype'",
     "output_type": "error",
     "traceback": [
      "\u001b[1;31m---------------------------------------------------------------------------\u001b[0m",
      "\u001b[1;31mAttributeError\u001b[0m                            Traceback (most recent call last)",
      "\u001b[1;32m<ipython-input-70-d78df26a5cff>\u001b[0m in \u001b[0;36m<module>\u001b[1;34m\u001b[0m\n\u001b[0;32m      5\u001b[0m \u001b[1;31m#.reshape() & retstep=True commands never work together at any circumstances of linspace() function\u001b[0m\u001b[1;33m\u001b[0m\u001b[1;33m\u001b[0m\u001b[1;33m\u001b[0m\u001b[0m\n\u001b[0;32m      6\u001b[0m \u001b[0mLinspace3\u001b[0m\u001b[1;33m=\u001b[0m\u001b[0mlinspace\u001b[0m\u001b[1;33m(\u001b[0m\u001b[1;36m5\u001b[0m\u001b[1;33m,\u001b[0m\u001b[1;36m11\u001b[0m\u001b[1;33m,\u001b[0m\u001b[1;36m3\u001b[0m\u001b[1;33m,\u001b[0m\u001b[0mretstep\u001b[0m\u001b[1;33m=\u001b[0m\u001b[1;32mTrue\u001b[0m\u001b[1;33m)\u001b[0m \u001b[1;31m#5 is start, 11 is stop, 3 is no of elements, retstep=True will show the step value\u001b[0m\u001b[1;33m\u001b[0m\u001b[1;33m\u001b[0m\u001b[0m\n\u001b[1;32m----> 7\u001b[1;33m \u001b[0mprint\u001b[0m\u001b[1;33m(\u001b[0m\u001b[0mLinspace3\u001b[0m\u001b[1;33m)\u001b[0m\u001b[1;33m,\u001b[0m\u001b[0mndim\u001b[0m\u001b[1;33m(\u001b[0m\u001b[0mLinspace3\u001b[0m\u001b[1;33m)\u001b[0m\u001b[1;33m,\u001b[0m\u001b[0mtype\u001b[0m\u001b[1;33m(\u001b[0m\u001b[0mLinspace3\u001b[0m\u001b[1;33m)\u001b[0m\u001b[1;33m,\u001b[0m\u001b[0mLinspace3\u001b[0m\u001b[1;33m.\u001b[0m\u001b[0mdtype\u001b[0m \u001b[1;31m#3.0 is Step value     #by default outcomes are in float\u001b[0m\u001b[1;33m\u001b[0m\u001b[1;33m\u001b[0m\u001b[0m\n\u001b[0m",
      "\u001b[1;31mAttributeError\u001b[0m: 'tuple' object has no attribute 'dtype'"
     ]
    }
   ],
   "source": [
    "#retstep=True it converts the result into a 1D Tuple Array\n",
    "#If you provide retstep=True command, .reshape() & array.dtype commands don't work\n",
    "#.reshape() command dont works with Tuple Array\n",
    "#array.dtype commands dont works along with retstep=True command when the output is in Tuple Array\n",
    "#.reshape() & retstep=True commands never work together at any circumstances of linspace() function\n",
    "Linspace3=linspace(5,11,3,retstep=True) #5 is start, 11 is stop, 3 is no of elements, retstep=True will show the step value\n",
    "print(Linspace3),ndim(Linspace3),type(Linspace3),Linspace3.dtype #3.0 is Step value     #by default outcomes are in float"
   ]
  },
  {
   "cell_type": "code",
   "execution_count": 71,
   "metadata": {},
   "outputs": [
    {
     "name": "stdout",
     "output_type": "stream",
     "text": [
      "(array([ 5.,  8., 11.]), 3.0)\n"
     ]
    },
    {
     "data": {
      "text/plain": [
       "(None, 1, tuple)"
      ]
     },
     "execution_count": 71,
     "metadata": {},
     "output_type": "execute_result"
    }
   ],
   "source": [
    "#Linspace3.dtype this command has been removed\n",
    "#retstep=True it converts the result into a 1D Tuple Array\n",
    "#If you provide retstep=True command, .reshape() & array.dtype commands don't work\n",
    "#.reshape() command dont works with Tuple Array\n",
    "#array.dtype commands dont works along with retstep=True command when the output is in Tuple Array\n",
    "#.reshape() & retstep=True commands never work together at any circumstances of linspace() function\n",
    "Linspace3=linspace(5,11,3,retstep=True) #5 is start, 11 is stop, 3 is no of elements, retstep=True will show the step value\n",
    "print(Linspace3),ndim(Linspace3),type(Linspace3) #3.0 is Step value     #by default outcomes are in float"
   ]
  },
  {
   "cell_type": "code",
   "execution_count": 72,
   "metadata": {},
   "outputs": [
    {
     "name": "stdout",
     "output_type": "stream",
     "text": [
      "(array([ 5.,  8., 11.]), 3.0)\n"
     ]
    },
    {
     "data": {
      "text/plain": [
       "(None, 1, tuple)"
      ]
     },
     "execution_count": 72,
     "metadata": {},
     "output_type": "execute_result"
    }
   ],
   "source": [
    "#If you provide retstep=True command, .reshape() & array.dtype commands don't work\n",
    "#retstep=True it converts the result into a 1D Tuple Array\n",
    "# Linspace3.dtype this command has been removed\n",
    "Linspace3=linspace(5,11,3,retstep=True) #5 is start, 11 is stop, 3 is no of elements, retstep=True will show the step value\n",
    "print(Linspace3),ndim(Linspace3),type(Linspace3)    #3.0 is Step value   #by default outcomes are in float"
   ]
  },
  {
   "cell_type": "code",
   "execution_count": 73,
   "metadata": {},
   "outputs": [
    {
     "name": "stdout",
     "output_type": "stream",
     "text": [
      "(array([ 5.,  8., 11.]), 3.0)\n"
     ]
    },
    {
     "data": {
      "text/plain": [
       "(None, 1, tuple)"
      ]
     },
     "execution_count": 73,
     "metadata": {},
     "output_type": "execute_result"
    }
   ],
   "source": [
    "#If you provide retstep=True command, .reshape() & array.dtype commands don't work\n",
    "#retstep=True it converts the result into a 1D Tuple Array\n",
    "Linspace3=linspace(5,11,3,retstep=True) #5 is start, 11 is stop, 3 is no of elements, retstep=True will show the step\n",
    "print(Linspace3),ndim(Linspace3),type(Linspace3)    #3.0 is Step, #by default outcomes are in float"
   ]
  },
  {
   "cell_type": "code",
   "execution_count": 74,
   "metadata": {},
   "outputs": [
    {
     "name": "stdout",
     "output_type": "stream",
     "text": [
      "(array([ 5,  8, 11]), 3.0)\n"
     ]
    },
    {
     "data": {
      "text/plain": [
       "(None, 1, tuple)"
      ]
     },
     "execution_count": 74,
     "metadata": {},
     "output_type": "execute_result"
    }
   ],
   "source": [
    "#If you provide retstep=True command, .reshape() & array.dtype commands don't work\n",
    "#retstep=True it converts the result into a 1D Tuple Array\n",
    "Linspace4=linspace(5,11,3,retstep=True,dtype=int) #5 is start, 11 is stop, 3 is no of elements, retstep=True will show the step\n",
    "print(Linspace4),ndim(Linspace4),type(Linspace4) #Showing 3 integers along with step"
   ]
  },
  {
   "cell_type": "code",
   "execution_count": 75,
   "metadata": {},
   "outputs": [
    {
     "name": "stdout",
     "output_type": "stream",
     "text": [
      "[[ 1.         11.        ]\n",
      " [ 1.44444444 10.33333333]\n",
      " [ 1.88888889  9.66666667]\n",
      " [ 2.33333333  9.        ]\n",
      " [ 2.77777778  8.33333333]\n",
      " [ 3.22222222  7.66666667]\n",
      " [ 3.66666667  7.        ]\n",
      " [ 4.11111111  6.33333333]\n",
      " [ 4.55555556  5.66666667]\n",
      " [ 5.          5.        ]]\n"
     ]
    },
    {
     "data": {
      "text/plain": [
       "(None, 2, numpy.ndarray, dtype('float64'))"
      ]
     },
     "execution_count": 75,
     "metadata": {},
     "output_type": "execute_result"
    }
   ],
   "source": [
    "# Hey you, Check the output result here.. They are inside a 2D List Array\n",
    "#retstep=True it converts the result into a 2D Tuple Array\n",
    "#You cant use retstep=True command along with array.dtype command\n",
    "#If you provide retstep=True command, .reshape() & array.dtype commands don't work\n",
    "#.reshape() & retstep=True commands never work together at any circumstances of linspace() function\n",
    "Linspace=linspace([1,11],5,10)                               #2D linspace array with 2 Lists\n",
    "print(Linspace),ndim(Linspace),type(Linspace),Linspace.dtype #start=1, stop=5, num=10 for 1st List\n",
    "                                                             #start=11, stop=5, num=10 for 2nd List"
   ]
  },
  {
   "cell_type": "code",
   "execution_count": 76,
   "metadata": {},
   "outputs": [
    {
     "name": "stdout",
     "output_type": "stream",
     "text": [
      "[[ 1.          6.        ]\n",
      " [ 1.08163265  6.08163265]\n",
      " [ 1.16326531  6.16326531]\n",
      " [ 1.24489796  6.24489796]\n",
      " [ 1.32653061  6.32653061]\n",
      " [ 1.40816327  6.40816327]\n",
      " [ 1.48979592  6.48979592]\n",
      " [ 1.57142857  6.57142857]\n",
      " [ 1.65306122  6.65306122]\n",
      " [ 1.73469388  6.73469388]\n",
      " [ 1.81632653  6.81632653]\n",
      " [ 1.89795918  6.89795918]\n",
      " [ 1.97959184  6.97959184]\n",
      " [ 2.06122449  7.06122449]\n",
      " [ 2.14285714  7.14285714]\n",
      " [ 2.2244898   7.2244898 ]\n",
      " [ 2.30612245  7.30612245]\n",
      " [ 2.3877551   7.3877551 ]\n",
      " [ 2.46938776  7.46938776]\n",
      " [ 2.55102041  7.55102041]\n",
      " [ 2.63265306  7.63265306]\n",
      " [ 2.71428571  7.71428571]\n",
      " [ 2.79591837  7.79591837]\n",
      " [ 2.87755102  7.87755102]\n",
      " [ 2.95918367  7.95918367]\n",
      " [ 3.04081633  8.04081633]\n",
      " [ 3.12244898  8.12244898]\n",
      " [ 3.20408163  8.20408163]\n",
      " [ 3.28571429  8.28571429]\n",
      " [ 3.36734694  8.36734694]\n",
      " [ 3.44897959  8.44897959]\n",
      " [ 3.53061224  8.53061224]\n",
      " [ 3.6122449   8.6122449 ]\n",
      " [ 3.69387755  8.69387755]\n",
      " [ 3.7755102   8.7755102 ]\n",
      " [ 3.85714286  8.85714286]\n",
      " [ 3.93877551  8.93877551]\n",
      " [ 4.02040816  9.02040816]\n",
      " [ 4.10204082  9.10204082]\n",
      " [ 4.18367347  9.18367347]\n",
      " [ 4.26530612  9.26530612]\n",
      " [ 4.34693878  9.34693878]\n",
      " [ 4.42857143  9.42857143]\n",
      " [ 4.51020408  9.51020408]\n",
      " [ 4.59183673  9.59183673]\n",
      " [ 4.67346939  9.67346939]\n",
      " [ 4.75510204  9.75510204]\n",
      " [ 4.83673469  9.83673469]\n",
      " [ 4.91836735  9.91836735]\n",
      " [ 5.         10.        ]]\n"
     ]
    },
    {
     "data": {
      "text/plain": [
       "(None, 2, numpy.ndarray, dtype('float64'))"
      ]
     },
     "execution_count": 76,
     "metadata": {},
     "output_type": "execute_result"
    }
   ],
   "source": [
    "# Hey you, Check the output result here.. They are inside a 2D List Array\n",
    "#retstep=True it converts the result into a 2D Tuple Array\n",
    "#You cant use retstep=True command along with array.dtype command\n",
    "#If you provide retstep=True command, .reshape() & array.dtype commands don't work\n",
    "#.reshape() & retstep=True commands never work together at any circumstances of linspace() function\n",
    "# By default num=50\n",
    "Linspace=linspace([1,6],[5,10])                               #2D linspace array with 2 Lists\n",
    "print(Linspace),ndim(Linspace),type(Linspace),Linspace.dtype #start=1, stop=5, num=50 for 1st List\n",
    "                                                             #start=11, stop=5, num=50 for 2nd List"
   ]
  },
  {
   "cell_type": "code",
   "execution_count": 77,
   "metadata": {},
   "outputs": [
    {
     "name": "stdout",
     "output_type": "stream",
     "text": [
      "[[ 1.          6.        ]\n",
      " [ 1.08163265  6.08163265]\n",
      " [ 1.16326531  6.16326531]\n",
      " [ 1.24489796  6.24489796]\n",
      " [ 1.32653061  6.32653061]\n",
      " [ 1.40816327  6.40816327]\n",
      " [ 1.48979592  6.48979592]\n",
      " [ 1.57142857  6.57142857]\n",
      " [ 1.65306122  6.65306122]\n",
      " [ 1.73469388  6.73469388]\n",
      " [ 1.81632653  6.81632653]\n",
      " [ 1.89795918  6.89795918]\n",
      " [ 1.97959184  6.97959184]\n",
      " [ 2.06122449  7.06122449]\n",
      " [ 2.14285714  7.14285714]\n",
      " [ 2.2244898   7.2244898 ]\n",
      " [ 2.30612245  7.30612245]\n",
      " [ 2.3877551   7.3877551 ]\n",
      " [ 2.46938776  7.46938776]\n",
      " [ 2.55102041  7.55102041]\n",
      " [ 2.63265306  7.63265306]\n",
      " [ 2.71428571  7.71428571]\n",
      " [ 2.79591837  7.79591837]\n",
      " [ 2.87755102  7.87755102]\n",
      " [ 2.95918367  7.95918367]\n",
      " [ 3.04081633  8.04081633]\n",
      " [ 3.12244898  8.12244898]\n",
      " [ 3.20408163  8.20408163]\n",
      " [ 3.28571429  8.28571429]\n",
      " [ 3.36734694  8.36734694]\n",
      " [ 3.44897959  8.44897959]\n",
      " [ 3.53061224  8.53061224]\n",
      " [ 3.6122449   8.6122449 ]\n",
      " [ 3.69387755  8.69387755]\n",
      " [ 3.7755102   8.7755102 ]\n",
      " [ 3.85714286  8.85714286]\n",
      " [ 3.93877551  8.93877551]\n",
      " [ 4.02040816  9.02040816]\n",
      " [ 4.10204082  9.10204082]\n",
      " [ 4.18367347  9.18367347]\n",
      " [ 4.26530612  9.26530612]\n",
      " [ 4.34693878  9.34693878]\n",
      " [ 4.42857143  9.42857143]\n",
      " [ 4.51020408  9.51020408]\n",
      " [ 4.59183673  9.59183673]\n",
      " [ 4.67346939  9.67346939]\n",
      " [ 4.75510204  9.75510204]\n",
      " [ 4.83673469  9.83673469]\n",
      " [ 4.91836735  9.91836735]\n",
      " [ 5.         10.        ]]\n"
     ]
    },
    {
     "data": {
      "text/plain": [
       "(None, 2, numpy.ndarray, dtype('float64'))"
      ]
     },
     "execution_count": 77,
     "metadata": {},
     "output_type": "execute_result"
    }
   ],
   "source": [
    "# Hey you, Check the output result here.. They are inside a 2D List Array\n",
    "#retstep=True it converts the result into a 2D Tuple Array\n",
    "#You cant use retstep=True command along with array.dtype command\n",
    "#If you provide retstep=True command, .reshape() & array.dtype commands don't work\n",
    "#.reshape() & retstep=True commands never work together at any circumstances of linspace() function\n",
    "Linspace=linspace([1,6],[5,10],50)                               #2D linspace array with 2 Lists\n",
    "print(Linspace),ndim(Linspace),type(Linspace),Linspace.dtype #start=1, stop=5, num=50 for 1st List\n",
    "                                                             #start=11, stop=5, num=50 for 2nd List"
   ]
  },
  {
   "cell_type": "code",
   "execution_count": 78,
   "metadata": {},
   "outputs": [
    {
     "ename": "AttributeError",
     "evalue": "'tuple' object has no attribute 'reshape'",
     "output_type": "error",
     "traceback": [
      "\u001b[1;31m---------------------------------------------------------------------------\u001b[0m",
      "\u001b[1;31mAttributeError\u001b[0m                            Traceback (most recent call last)",
      "\u001b[1;32m<ipython-input-78-d6e2eaf435d8>\u001b[0m in \u001b[0;36m<module>\u001b[1;34m\u001b[0m\n\u001b[0;32m      4\u001b[0m \u001b[1;31m#You cant use retstep=True command along with array.dtype command\u001b[0m\u001b[1;33m\u001b[0m\u001b[1;33m\u001b[0m\u001b[1;33m\u001b[0m\u001b[0m\n\u001b[0;32m      5\u001b[0m \u001b[1;31m#.reshape() & retstep=True commands never work together at any circumstances of linspace() function\u001b[0m\u001b[1;33m\u001b[0m\u001b[1;33m\u001b[0m\u001b[1;33m\u001b[0m\u001b[0m\n\u001b[1;32m----> 6\u001b[1;33m \u001b[0mLinspace\u001b[0m\u001b[1;33m=\u001b[0m\u001b[0mlinspace\u001b[0m\u001b[1;33m(\u001b[0m\u001b[1;33m[\u001b[0m\u001b[1;36m1\u001b[0m\u001b[1;33m,\u001b[0m\u001b[1;36m11\u001b[0m\u001b[1;33m]\u001b[0m\u001b[1;33m,\u001b[0m\u001b[1;36m5\u001b[0m\u001b[1;33m,\u001b[0m\u001b[1;36m10\u001b[0m\u001b[1;33m,\u001b[0m\u001b[0mretstep\u001b[0m\u001b[1;33m=\u001b[0m\u001b[1;32mTrue\u001b[0m\u001b[1;33m)\u001b[0m\u001b[1;33m.\u001b[0m\u001b[0mreshape\u001b[0m\u001b[1;33m(\u001b[0m\u001b[1;36m4\u001b[0m\u001b[1;33m,\u001b[0m\u001b[1;36m5\u001b[0m\u001b[1;33m)\u001b[0m     \u001b[1;31m#2D linspace array with 2 Lists\u001b[0m\u001b[1;33m\u001b[0m\u001b[1;33m\u001b[0m\u001b[0m\n\u001b[0m\u001b[0;32m      7\u001b[0m \u001b[0mprint\u001b[0m\u001b[1;33m(\u001b[0m\u001b[0mLinspace\u001b[0m\u001b[1;33m)\u001b[0m\u001b[1;33m,\u001b[0m\u001b[0mndim\u001b[0m\u001b[1;33m(\u001b[0m\u001b[0mLinspace\u001b[0m\u001b[1;33m)\u001b[0m\u001b[1;33m,\u001b[0m\u001b[0mtype\u001b[0m\u001b[1;33m(\u001b[0m\u001b[0mLinspace\u001b[0m\u001b[1;33m)\u001b[0m\u001b[1;33m,\u001b[0m\u001b[0mLinspace\u001b[0m\u001b[1;33m.\u001b[0m\u001b[0mdtype\u001b[0m \u001b[1;31m#start=1, stop=5, num=10 for 1st List, step value=0.44444444\u001b[0m\u001b[1;33m\u001b[0m\u001b[1;33m\u001b[0m\u001b[0m\n\u001b[0;32m      8\u001b[0m                                                              \u001b[1;31m#start=11, stop=5, num=10 for 2nd List, step value=-0.66666667\u001b[0m\u001b[1;33m\u001b[0m\u001b[1;33m\u001b[0m\u001b[1;33m\u001b[0m\u001b[0m\n",
      "\u001b[1;31mAttributeError\u001b[0m: 'tuple' object has no attribute 'reshape'"
     ]
    }
   ],
   "source": [
    "# Hey you, Check the output result here.. They are inside a 2D List Array\n",
    "#retstep=True it converts the result into a 2D Tuple Array\n",
    "#If you provide retstep=True command, .reshape() & array.dtype commands don't work\n",
    "#You cant use retstep=True command along with array.dtype command\n",
    "#.reshape() & retstep=True commands never work together at any circumstances of linspace() function\n",
    "Linspace=linspace([1,11],5,10,retstep=True).reshape(4,5)     #2D linspace array with 2 Lists\n",
    "print(Linspace),ndim(Linspace),type(Linspace),Linspace.dtype #start=1, stop=5, num=10 for 1st List, step value=0.44444444\n",
    "                                                             #start=11, stop=5, num=10 for 2nd List, step value=-0.66666667"
   ]
  },
  {
   "cell_type": "code",
   "execution_count": 79,
   "metadata": {},
   "outputs": [
    {
     "name": "stdout",
     "output_type": "stream",
     "text": [
      "(array([[ 1.        , 11.        ],\n",
      "       [ 1.44444444, 10.33333333],\n",
      "       [ 1.88888889,  9.66666667],\n",
      "       [ 2.33333333,  9.        ],\n",
      "       [ 2.77777778,  8.33333333],\n",
      "       [ 3.22222222,  7.66666667],\n",
      "       [ 3.66666667,  7.        ],\n",
      "       [ 4.11111111,  6.33333333],\n",
      "       [ 4.55555556,  5.66666667],\n",
      "       [ 5.        ,  5.        ]]), array([ 0.44444444, -0.66666667]))\n"
     ]
    },
    {
     "ename": "AttributeError",
     "evalue": "'tuple' object has no attribute 'dtype'",
     "output_type": "error",
     "traceback": [
      "\u001b[1;31m---------------------------------------------------------------------------\u001b[0m",
      "\u001b[1;31mAttributeError\u001b[0m                            Traceback (most recent call last)",
      "\u001b[1;32m<ipython-input-79-317a3c8897ff>\u001b[0m in \u001b[0;36m<module>\u001b[1;34m\u001b[0m\n\u001b[0;32m      6\u001b[0m \u001b[1;31m#.reshape() & retstep=True commands never work together at any circumstances of linspace() function\u001b[0m\u001b[1;33m\u001b[0m\u001b[1;33m\u001b[0m\u001b[1;33m\u001b[0m\u001b[0m\n\u001b[0;32m      7\u001b[0m \u001b[0mLinspace\u001b[0m\u001b[1;33m=\u001b[0m\u001b[0mlinspace\u001b[0m\u001b[1;33m(\u001b[0m\u001b[1;33m[\u001b[0m\u001b[1;36m1\u001b[0m\u001b[1;33m,\u001b[0m\u001b[1;36m11\u001b[0m\u001b[1;33m]\u001b[0m\u001b[1;33m,\u001b[0m\u001b[1;36m5\u001b[0m\u001b[1;33m,\u001b[0m\u001b[1;36m10\u001b[0m\u001b[1;33m,\u001b[0m\u001b[0mretstep\u001b[0m\u001b[1;33m=\u001b[0m\u001b[1;32mTrue\u001b[0m\u001b[1;33m)\u001b[0m                  \u001b[1;31m#2D linspace array with 2 Lists\u001b[0m\u001b[1;33m\u001b[0m\u001b[1;33m\u001b[0m\u001b[0m\n\u001b[1;32m----> 8\u001b[1;33m \u001b[0mprint\u001b[0m\u001b[1;33m(\u001b[0m\u001b[0mLinspace\u001b[0m\u001b[1;33m)\u001b[0m\u001b[1;33m,\u001b[0m\u001b[0mndim\u001b[0m\u001b[1;33m(\u001b[0m\u001b[0mLinspace\u001b[0m\u001b[1;33m)\u001b[0m\u001b[1;33m,\u001b[0m\u001b[0mtype\u001b[0m\u001b[1;33m(\u001b[0m\u001b[0mLinspace\u001b[0m\u001b[1;33m)\u001b[0m\u001b[1;33m,\u001b[0m\u001b[0mLinspace\u001b[0m\u001b[1;33m.\u001b[0m\u001b[0mdtype\u001b[0m \u001b[1;31m#start=1, stop=5, num=10 for 1st List, step value=0.44444444\u001b[0m\u001b[1;33m\u001b[0m\u001b[1;33m\u001b[0m\u001b[0m\n\u001b[0m\u001b[0;32m      9\u001b[0m                                                              \u001b[1;31m#start=11, stop=5, num=10 for 2nd List, step value=-0.66666667\u001b[0m\u001b[1;33m\u001b[0m\u001b[1;33m\u001b[0m\u001b[1;33m\u001b[0m\u001b[0m\n",
      "\u001b[1;31mAttributeError\u001b[0m: 'tuple' object has no attribute 'dtype'"
     ]
    }
   ],
   "source": [
    "# .reshape() command got removed\n",
    "# Hey you, Check the output result here.. They are inside a 2D List Array\n",
    "#retstep=True it converts the result into a 2D Tuple Array\n",
    "#If you provide retstep=True command, .reshape() & array.dtype commands don't work\n",
    "#You cant use retstep=True command along with array.dtype command\n",
    "#.reshape() & retstep=True commands never work together at any circumstances of linspace() function\n",
    "Linspace=linspace([1,11],5,10,retstep=True)                  #2D linspace array with 2 Lists\n",
    "print(Linspace),ndim(Linspace),type(Linspace),Linspace.dtype #start=1, stop=5, num=10 for 1st List, step value=0.44444444\n",
    "                                                             #start=11, stop=5, num=10 for 2nd List, step value=-0.66666667"
   ]
  },
  {
   "cell_type": "code",
   "execution_count": 80,
   "metadata": {},
   "outputs": [
    {
     "name": "stdout",
     "output_type": "stream",
     "text": [
      "[[ 1.         11.          1.44444444 10.33333333  1.88888889]\n",
      " [ 9.66666667  2.33333333  9.          2.77777778  8.33333333]\n",
      " [ 3.22222222  7.66666667  3.66666667  7.          4.11111111]\n",
      " [ 6.33333333  4.55555556  5.66666667  5.          5.        ]]\n"
     ]
    },
    {
     "data": {
      "text/plain": [
       "(None, 2, numpy.ndarray, dtype('float64'))"
      ]
     },
     "execution_count": 80,
     "metadata": {},
     "output_type": "execute_result"
    }
   ],
   "source": [
    "# retstep=True command got removed\n",
    "# Hey you, Check the output result here.. They are inside a 2D List Array\n",
    "#retstep=True it converts the result into a 2D Tuple Array\n",
    "#If you provide retstep=True command, .reshape() & array.dtype commands don't work\n",
    "#You cant use retstep=True command along with array.dtype command\n",
    "#.reshape() & retstep=True commands never work together at any circumstances of linspace() function\n",
    "Linspace=linspace([1,11],5,10).reshape(4,5)     #2D linspace array with 2 Lists\n",
    "print(Linspace),ndim(Linspace),type(Linspace),Linspace.dtype #start=1, stop=5, num=10 for 1st List, step value=0.44444444\n",
    "                                                             #start=11, stop=5, num=10 for 2nd List, step value=-0.66666667"
   ]
  },
  {
   "cell_type": "code",
   "execution_count": 81,
   "metadata": {},
   "outputs": [
    {
     "name": "stdout",
     "output_type": "stream",
     "text": [
      "(array([[ 1.        +0.j, 11.        +0.j],\n",
      "       [ 1.44444444+0.j, 10.33333333+0.j],\n",
      "       [ 1.88888889+0.j,  9.66666667+0.j],\n",
      "       [ 2.33333333+0.j,  9.        +0.j],\n",
      "       [ 2.77777778+0.j,  8.33333333+0.j],\n",
      "       [ 3.22222222+0.j,  7.66666667+0.j],\n",
      "       [ 3.66666667+0.j,  7.        +0.j],\n",
      "       [ 4.11111111+0.j,  6.33333333+0.j],\n",
      "       [ 4.55555556+0.j,  5.66666667+0.j],\n",
      "       [ 5.        +0.j,  5.        +0.j]]), array([ 0.44444444, -0.66666667]))\n"
     ]
    }
   ],
   "source": [
    "# Hey you, Check the output result here.. They are inside a 2D List Array\n",
    "#retstep=True it converts the result into a 2D Tuple Array\n",
    "#If you provide retstep=True command, .reshape() & array.dtype commands don't work\n",
    "Linspace=linspace([1,11],5,10,retstep=True,dtype=complex) #2D linspace array with 2 Lists, dtype=complex\n",
    "print(Linspace)                                           #start=1, stop=5, num=10 for 1st List, step value=0.44444444\n",
    "                                                          #start=11, stop=5, num=10 for 2nd List, step value=-0.66666667"
   ]
  },
  {
   "cell_type": "code",
   "execution_count": 82,
   "metadata": {},
   "outputs": [
    {
     "name": "stdout",
     "output_type": "stream",
     "text": [
      "(array([[ 1.        , 11.        ],\n",
      "       [ 1.44444444, 10.33333333],\n",
      "       [ 1.88888889,  9.66666667],\n",
      "       [ 2.33333333,  9.        ],\n",
      "       [ 2.77777778,  8.33333333],\n",
      "       [ 3.22222222,  7.66666667],\n",
      "       [ 3.66666667,  7.        ],\n",
      "       [ 4.11111111,  6.33333333],\n",
      "       [ 4.55555556,  5.66666667],\n",
      "       [ 5.        ,  5.        ]]), array([ 0.44444444, -0.66666667]))\n"
     ]
    }
   ],
   "source": [
    "# Hey you, Check the output result here.. They are inside a 2D List Array\n",
    "#retstep=True it converts the result into a 2D Tuple Array\n",
    "#If you provide retstep=True command, .reshape() & array.dtype commands don't work\n",
    "Linspace=linspace((1,11),5,10,retstep=True) #2D linspace array with 2 Tuples\n",
    "print(Linspace)                             #start=1, stop=5, num=10 for 1st Tuple, step value=0.44444444\n",
    "                                            #start=11, stop=5, num=10 for 2nd Tuple, step value=-0.66666667"
   ]
  },
  {
   "cell_type": "code",
   "execution_count": 83,
   "metadata": {},
   "outputs": [
    {
     "name": "stdout",
     "output_type": "stream",
     "text": [
      "(array([[ 1.        , 11.        ],\n",
      "       [ 1.44444444, 10.33333333],\n",
      "       [ 1.88888889,  9.66666667],\n",
      "       [ 2.33333333,  9.        ],\n",
      "       [ 2.77777778,  8.33333333],\n",
      "       [ 3.22222222,  7.66666667],\n",
      "       [ 3.66666667,  7.        ],\n",
      "       [ 4.11111111,  6.33333333],\n",
      "       [ 4.55555556,  5.66666667],\n",
      "       [ 5.        ,  5.        ]]), array([ 0.44444444, -0.66666667]))\n"
     ]
    }
   ],
   "source": [
    "# Hey you, Check the output result here.. They are inside a 2D List Array\n",
    "#retstep=True it converts the result into a 2D Tuple Array\n",
    "#If you provide retstep=True command, .reshape() & array.dtype commands don't work\n",
    "Linspace=linspace((1,11),5,10,retstep=True) #2D linspace array with 2 Tuples\n",
    "print(Linspace)                             #start=1, stop=5, num=10 for 1st Tuple, step value=0.44444444\n",
    "                                            #start=11, stop=5, num=10 for 2nd Tuple, step value=-0.66666667"
   ]
  },
  {
   "cell_type": "code",
   "execution_count": 84,
   "metadata": {},
   "outputs": [
    {
     "name": "stdout",
     "output_type": "stream",
     "text": [
      "[[ 1.        +0.j 11.        +0.j  1.44444444+0.j 10.33333333+0.j\n",
      "   1.88888889+0.j]\n",
      " [ 9.66666667+0.j  2.33333333+0.j  9.        +0.j  2.77777778+0.j\n",
      "   8.33333333+0.j]\n",
      " [ 3.22222222+0.j  7.66666667+0.j  3.66666667+0.j  7.        +0.j\n",
      "   4.11111111+0.j]\n",
      " [ 6.33333333+0.j  4.55555556+0.j  5.66666667+0.j  5.        +0.j\n",
      "   5.        +0.j]]\n"
     ]
    }
   ],
   "source": [
    "# Hey you, Check the output result here.. They are inside a 2D List Array\n",
    "#retstep=True it converts the result into a 2D Tuple Array\n",
    "#If you provide retstep=True command, .reshape() & array.dtype commands don't work\n",
    "Linspace=linspace([1,11],5,10,dtype=complex).reshape(4,5) #2D linspace array with 2 Lists, dtype=complex\n",
    "print(Linspace)                                           #start=1, stop=5, num=10 for 1st List\n",
    "                                                          #start=11, stop=5, num=10 for 2nd List\n",
    "                                                          #4 rows & 5 columns"
   ]
  },
  {
   "cell_type": "code",
   "execution_count": 85,
   "metadata": {},
   "outputs": [
    {
     "ename": "AttributeError",
     "evalue": "'tuple' object has no attribute 'reshape'",
     "output_type": "error",
     "traceback": [
      "\u001b[1;31m---------------------------------------------------------------------------\u001b[0m",
      "\u001b[1;31mAttributeError\u001b[0m                            Traceback (most recent call last)",
      "\u001b[1;32m<ipython-input-85-39e74437bb76>\u001b[0m in \u001b[0;36m<module>\u001b[1;34m\u001b[0m\n\u001b[0;32m      2\u001b[0m \u001b[1;31m#retstep=True it converts the result into a 2D Tuple Array\u001b[0m\u001b[1;33m\u001b[0m\u001b[1;33m\u001b[0m\u001b[1;33m\u001b[0m\u001b[0m\n\u001b[0;32m      3\u001b[0m \u001b[1;31m#If you provide retstep=True command, .reshape() & array.dtype commands don't work\u001b[0m\u001b[1;33m\u001b[0m\u001b[1;33m\u001b[0m\u001b[1;33m\u001b[0m\u001b[0m\n\u001b[1;32m----> 4\u001b[1;33m \u001b[0mLinspace\u001b[0m\u001b[1;33m=\u001b[0m\u001b[0mlinspace\u001b[0m\u001b[1;33m(\u001b[0m\u001b[1;33m[\u001b[0m\u001b[1;36m1\u001b[0m\u001b[1;33m,\u001b[0m\u001b[1;36m11\u001b[0m\u001b[1;33m]\u001b[0m\u001b[1;33m,\u001b[0m\u001b[1;36m5\u001b[0m\u001b[1;33m,\u001b[0m\u001b[1;36m10\u001b[0m\u001b[1;33m,\u001b[0m\u001b[0mretstep\u001b[0m\u001b[1;33m=\u001b[0m\u001b[1;32mTrue\u001b[0m\u001b[1;33m)\u001b[0m\u001b[1;33m.\u001b[0m\u001b[0mreshape\u001b[0m\u001b[1;33m(\u001b[0m\u001b[1;36m4\u001b[0m\u001b[1;33m,\u001b[0m\u001b[1;36m5\u001b[0m\u001b[1;33m)\u001b[0m \u001b[1;31m#2D linspace array with 2 Lists\u001b[0m\u001b[1;33m\u001b[0m\u001b[1;33m\u001b[0m\u001b[0m\n\u001b[0m\u001b[0;32m      5\u001b[0m \u001b[0mprint\u001b[0m\u001b[1;33m(\u001b[0m\u001b[0mLinspace\u001b[0m\u001b[1;33m)\u001b[0m                                          \u001b[1;31m#start=1, stop=5, num=10 for 1st List\u001b[0m\u001b[1;33m\u001b[0m\u001b[1;33m\u001b[0m\u001b[0m\n\u001b[0;32m      6\u001b[0m                                                          \u001b[1;31m#start=11, stop=5, num=10 for 2nd List\u001b[0m\u001b[1;33m\u001b[0m\u001b[1;33m\u001b[0m\u001b[1;33m\u001b[0m\u001b[0m\n",
      "\u001b[1;31mAttributeError\u001b[0m: 'tuple' object has no attribute 'reshape'"
     ]
    }
   ],
   "source": [
    "# Hey you, Check the output result here.. They are inside a 2D List Array\n",
    "#retstep=True it converts the result into a 2D Tuple Array\n",
    "#If you provide retstep=True command, .reshape() & array.dtype commands don't work\n",
    "Linspace=linspace([1,11],5,10,retstep=True).reshape(4,5) #2D linspace array with 2 Lists\n",
    "print(Linspace)                                          #start=1, stop=5, num=10 for 1st List\n",
    "                                                         #start=11, stop=5, num=10 for 2nd List\n",
    "                                                         #4 rows & 5 columns"
   ]
  },
  {
   "cell_type": "code",
   "execution_count": 86,
   "metadata": {},
   "outputs": [
    {
     "name": "stdout",
     "output_type": "stream",
     "text": [
      "[[ 1.         11.          1.44444444 10.33333333  1.88888889]\n",
      " [ 9.66666667  2.33333333  9.          2.77777778  8.33333333]\n",
      " [ 3.22222222  7.66666667  3.66666667  7.          4.11111111]\n",
      " [ 6.33333333  4.55555556  5.66666667  5.          5.        ]]\n"
     ]
    }
   ],
   "source": [
    "# Hey you, Check the output result here.. They are inside a 2D List Array\n",
    "#retstep=True it converts the result into a 2D Tuple Array\n",
    "#If you provide retstep=True command, .reshape() & array.dtype commands don't work\n",
    "Linspace=linspace((1,11),5,10).reshape(4,5) #2D linspace array with 2 Tuples\n",
    "print(Linspace)                             #start=1, stop=5, num=10 for 1st Tuple\n",
    "                                            #start=11, stop=5, num=10 for 2nd Tuple\n",
    "                                            #4 rows & 5 columns"
   ]
  },
  {
   "cell_type": "code",
   "execution_count": 87,
   "metadata": {},
   "outputs": [
    {
     "name": "stdout",
     "output_type": "stream",
     "text": [
      "(array([[ 1.        , 11.        ],\n",
      "       [ 1.44444444, 10.33333333],\n",
      "       [ 1.88888889,  9.66666667],\n",
      "       [ 2.33333333,  9.        ],\n",
      "       [ 2.77777778,  8.33333333],\n",
      "       [ 3.22222222,  7.66666667],\n",
      "       [ 3.66666667,  7.        ],\n",
      "       [ 4.11111111,  6.33333333],\n",
      "       [ 4.55555556,  5.66666667],\n",
      "       [ 5.        ,  5.        ]]), array([ 0.44444444, -0.66666667]))\n"
     ]
    }
   ],
   "source": [
    "# Hey you, Check the output result here.. They are inside a 2D List Array\n",
    "#retstep=True it converts the result into a 2D Tuple Array\n",
    "#If you provide retstep=True command, .reshape() & array.dtype commands don't work\n",
    "\n",
    "Linspace=linspace([1,11],5,10,retstep=True)\n",
    "print(Linspace) #Step 0.44444444 for 1st List, Step -0.66666667 for 2nd List"
   ]
  },
  {
   "cell_type": "code",
   "execution_count": 88,
   "metadata": {},
   "outputs": [
    {
     "name": "stdout",
     "output_type": "stream",
     "text": [
      "(array([[ 1.        , 11.        ],\n",
      "       [ 1.44444444, 10.33333333],\n",
      "       [ 1.88888889,  9.66666667],\n",
      "       [ 2.33333333,  9.        ],\n",
      "       [ 2.77777778,  8.33333333],\n",
      "       [ 3.22222222,  7.66666667],\n",
      "       [ 3.66666667,  7.        ],\n",
      "       [ 4.11111111,  6.33333333],\n",
      "       [ 4.55555556,  5.66666667],\n",
      "       [ 5.        ,  5.        ]]), array([ 0.44444444, -0.66666667]))\n"
     ]
    }
   ],
   "source": [
    "# Hey you, Check the output result here.. They are inside a 2D List Array\n",
    "#retstep=True it converts the result into a 2D Tuple Array\n",
    "#If you provide retstep=True command, .reshape() & array.dtype commands don't work\n",
    "Linspace=linspace((1,11),5,10,retstep=True)\n",
    "print(Linspace) #Step 0.44444444 for 1st Tuple, Step -0.66666667 for 2nd Tuple"
   ]
  },
  {
   "cell_type": "code",
   "execution_count": 89,
   "metadata": {},
   "outputs": [
    {
     "name": "stdout",
     "output_type": "stream",
     "text": [
      "(array([[ 1.        , 11.        ],\n",
      "       [ 2.11111111, 12.11111111],\n",
      "       [ 3.22222222, 13.22222222],\n",
      "       [ 4.33333333, 14.33333333],\n",
      "       [ 5.44444444, 15.44444444],\n",
      "       [ 6.55555556, 16.55555556],\n",
      "       [ 7.66666667, 17.66666667],\n",
      "       [ 8.77777778, 18.77777778],\n",
      "       [ 9.88888889, 19.88888889],\n",
      "       [11.        , 21.        ]]), array([1.11111111, 1.11111111]))\n"
     ]
    }
   ],
   "source": [
    "# Hey you, Check the output result here.. They are inside a 2D List Array\n",
    "#retstep=True it converts the result into a 2D Tuple Array\n",
    "#If you provide retstep=True command, .reshape() & array.dtype commands don't work\n",
    "Linspace=linspace((1,11),(11,21),10,retstep=True)  #2D linspace array with 2 Tuples\n",
    "print(Linspace)                                    #start=1, stop=11, num=10 for 1st Tuple, step value=1.11111111\n",
    "                                                   #start=11, stop=21, num=10 for 2nd Tuple, step value=1.11111111"
   ]
  },
  {
   "cell_type": "code",
   "execution_count": 90,
   "metadata": {},
   "outputs": [
    {
     "name": "stdout",
     "output_type": "stream",
     "text": [
      "[[ 1.         11.          2.11111111 12.11111111  3.22222222]\n",
      " [13.22222222  4.33333333 14.33333333  5.44444444 15.44444444]\n",
      " [ 6.55555556 16.55555556  7.66666667 17.66666667  8.77777778]\n",
      " [18.77777778  9.88888889 19.88888889 11.         21.        ]]\n"
     ]
    }
   ],
   "source": [
    "# Hey you, Check the output result here.. They are inside a 2D List Array\n",
    "#retstep=True it converts the result into a 2D Tuple Array\n",
    "#If you provide retstep=True command, .reshape() & array.dtype commands don't work\n",
    "Linspace=linspace((1,11),(11,21),10).reshape(4,5)  #2D linspace array with 2 Tuples\n",
    "print(Linspace)                                    #start=1, stop=11, num=10 for 1st Tuple, step value=1.11111111\n",
    "                                                   #start=11, stop=21, num=10 for 2nd Tuple, step value=1.11111111\n",
    "                                                   #4 rows & 5 columns"
   ]
  },
  {
   "cell_type": "code",
   "execution_count": 91,
   "metadata": {},
   "outputs": [
    {
     "name": "stdout",
     "output_type": "stream",
     "text": [
      "[[ 1.        +0.j 11.        +0.j  2.11111111+0.j 12.11111111+0.j\n",
      "   3.22222222+0.j]\n",
      " [13.22222222+0.j  4.33333333+0.j 14.33333333+0.j  5.44444444+0.j\n",
      "  15.44444444+0.j]\n",
      " [ 6.55555556+0.j 16.55555556+0.j  7.66666667+0.j 17.66666667+0.j\n",
      "   8.77777778+0.j]\n",
      " [18.77777778+0.j  9.88888889+0.j 19.88888889+0.j 11.        +0.j\n",
      "  21.        +0.j]]\n"
     ]
    }
   ],
   "source": [
    "# Hey you, Check the output result here.. They are inside a 2D List Array\n",
    "#retstep=True it converts the result into a 2D Tuple Array\n",
    "#If you provide retstep=True command, .reshape() & array.dtype commands don't work\n",
    "Linspace=linspace((1,11),(11,21),10,dtype=complex).reshape(4,5)  #2D linspace array with 2 Tuples, dtype=complex\n",
    "print(Linspace)                                                  #start=1, stop=11, num=10 for 1st Tuple, step value=1.11111111\n",
    "                                                                 #start=11, stop=21, num=10 for 2nd Tuple, step value=1.11111111\n",
    "                                                                 #4 rows & 5 columns"
   ]
  },
  {
   "cell_type": "code",
   "execution_count": 92,
   "metadata": {},
   "outputs": [
    {
     "name": "stdout",
     "output_type": "stream",
     "text": [
      "[[ 1.         11.        ]\n",
      " [ 2.11111111 12.11111111]\n",
      " [ 3.22222222 13.22222222]\n",
      " [ 4.33333333 14.33333333]\n",
      " [ 5.44444444 15.44444444]\n",
      " [ 6.55555556 16.55555556]\n",
      " [ 7.66666667 17.66666667]\n",
      " [ 8.77777778 18.77777778]\n",
      " [ 9.88888889 19.88888889]\n",
      " [11.         21.        ]]\n"
     ]
    }
   ],
   "source": [
    "# Hey you, Check the output result here.. They are inside a 2D List Array\n",
    "#retstep=True it converts the result into a 2D Tuple Array\n",
    "#If you provide retstep=True command, .reshape() & array.dtype commands don't work\n",
    "Linspace=linspace([1,11],[11,21],10) #2D linspace array with 2 Lists\n",
    "print(Linspace)                      #start=1, stop=11, num=10 for 1st List\n",
    "                                     #start=11, stop=21, num=10 for 2nd List"
   ]
  },
  {
   "cell_type": "code",
   "execution_count": 93,
   "metadata": {},
   "outputs": [
    {
     "name": "stdout",
     "output_type": "stream",
     "text": [
      "[[ 1.         11.        ]\n",
      " [ 1.20408163 11.20408163]\n",
      " [ 1.40816327 11.40816327]\n",
      " [ 1.6122449  11.6122449 ]\n",
      " [ 1.81632653 11.81632653]\n",
      " [ 2.02040816 12.02040816]\n",
      " [ 2.2244898  12.2244898 ]\n",
      " [ 2.42857143 12.42857143]\n",
      " [ 2.63265306 12.63265306]\n",
      " [ 2.83673469 12.83673469]\n",
      " [ 3.04081633 13.04081633]\n",
      " [ 3.24489796 13.24489796]\n",
      " [ 3.44897959 13.44897959]\n",
      " [ 3.65306122 13.65306122]\n",
      " [ 3.85714286 13.85714286]\n",
      " [ 4.06122449 14.06122449]\n",
      " [ 4.26530612 14.26530612]\n",
      " [ 4.46938776 14.46938776]\n",
      " [ 4.67346939 14.67346939]\n",
      " [ 4.87755102 14.87755102]\n",
      " [ 5.08163265 15.08163265]\n",
      " [ 5.28571429 15.28571429]\n",
      " [ 5.48979592 15.48979592]\n",
      " [ 5.69387755 15.69387755]\n",
      " [ 5.89795918 15.89795918]\n",
      " [ 6.10204082 16.10204082]\n",
      " [ 6.30612245 16.30612245]\n",
      " [ 6.51020408 16.51020408]\n",
      " [ 6.71428571 16.71428571]\n",
      " [ 6.91836735 16.91836735]\n",
      " [ 7.12244898 17.12244898]\n",
      " [ 7.32653061 17.32653061]\n",
      " [ 7.53061224 17.53061224]\n",
      " [ 7.73469388 17.73469388]\n",
      " [ 7.93877551 17.93877551]\n",
      " [ 8.14285714 18.14285714]\n",
      " [ 8.34693878 18.34693878]\n",
      " [ 8.55102041 18.55102041]\n",
      " [ 8.75510204 18.75510204]\n",
      " [ 8.95918367 18.95918367]\n",
      " [ 9.16326531 19.16326531]\n",
      " [ 9.36734694 19.36734694]\n",
      " [ 9.57142857 19.57142857]\n",
      " [ 9.7755102  19.7755102 ]\n",
      " [ 9.97959184 19.97959184]\n",
      " [10.18367347 20.18367347]\n",
      " [10.3877551  20.3877551 ]\n",
      " [10.59183673 20.59183673]\n",
      " [10.79591837 20.79591837]\n",
      " [11.         21.        ]]\n"
     ]
    }
   ],
   "source": [
    "# Hey you, Check the output result here.. They are inside a 2D List Array\n",
    "#retstep=True it converts the result into a 2D Tuple Array\n",
    "#If you provide retstep=True command, .reshape() & array.dtype commands don't work\n",
    "# By default num=50\n",
    "Linspace=linspace([1,11],[11,21])    #2D linspace array with 2 Lists\n",
    "print(Linspace)                      #start=1, stop=11, num=50 for 1st List\n",
    "                                     #start=11, stop=21, num=50 for 2nd List"
   ]
  },
  {
   "cell_type": "code",
   "execution_count": 94,
   "metadata": {},
   "outputs": [
    {
     "name": "stdout",
     "output_type": "stream",
     "text": [
      "(array([[ 1., 11.],\n",
      "       [ 2., 12.],\n",
      "       [ 3., 13.],\n",
      "       [ 4., 14.],\n",
      "       [ 5., 15.],\n",
      "       [ 6., 16.],\n",
      "       [ 7., 17.],\n",
      "       [ 8., 18.],\n",
      "       [ 9., 19.],\n",
      "       [10., 20.]]), array([1., 1.]))\n"
     ]
    }
   ],
   "source": [
    "# Hey you, Check the output result here.. They are inside a 2D List Array\n",
    "#retstep=True it converts the result into a 2D Tuple Array\n",
    "#If you provide retstep=True command, .reshape() & array.dtype commands don't work\n",
    "Linspace=linspace((1,11),(11,21),10,False,True) #2D linspace array with 2 Tuples\n",
    "print(Linspace)                                 #start=1, stop=11, num=10 for 1st Tuple, step value=1.\n",
    "                                                #start=11, stop=21, num=10 for 2nd Tuple, step value=1.\n",
    "                                                #endpoint=False\n",
    "                                                #retstep=True"
   ]
  },
  {
   "cell_type": "code",
   "execution_count": 95,
   "metadata": {},
   "outputs": [
    {
     "name": "stdout",
     "output_type": "stream",
     "text": [
      "(array([[ 1., 11.],\n",
      "       [ 2., 12.],\n",
      "       [ 3., 13.],\n",
      "       [ 4., 14.],\n",
      "       [ 5., 15.],\n",
      "       [ 6., 16.],\n",
      "       [ 7., 17.],\n",
      "       [ 8., 18.],\n",
      "       [ 9., 19.],\n",
      "       [10., 20.]]), array([1., 1.]))\n"
     ]
    }
   ],
   "source": [
    "# Hey you, Check the output result here.. They are inside a 2D List Array\n",
    "#retstep=True it converts the result into a 2D Tuple Array\n",
    "#If you provide retstep=True command, .reshape() & array.dtype commands don't work\n",
    "Linspace=linspace([1,11],[11,21],10,False,True) #2D linspace array with 2 Lists\n",
    "print(Linspace)                                 #start=1, stop=11, num=10 for 1st List, step value=1.\n",
    "                                                #start=11, stop=21, num=10 for 2nd List, step value=1.\n",
    "                                                #endpoint=False\n",
    "                                                #retstep=True"
   ]
  },
  {
   "cell_type": "markdown",
   "metadata": {},
   "source": [
    "### eye() function"
   ]
  },
  {
   "cell_type": "code",
   "execution_count": 97,
   "metadata": {},
   "outputs": [
    {
     "name": "stdout",
     "output_type": "stream",
     "text": [
      "Help on function eye in module numpy:\n",
      "\n",
      "eye(N, M=None, k=0, dtype=<class 'float'>, order='C')\n",
      "    Return a 2-D array with ones on the diagonal and zeros elsewhere.\n",
      "    \n",
      "    Parameters\n",
      "    ----------\n",
      "    N : int\n",
      "      Number of rows in the output.\n",
      "    M : int, optional\n",
      "      Number of columns in the output. If None, defaults to `N`.\n",
      "    k : int, optional\n",
      "      Index of the diagonal: 0 (the default) refers to the main diagonal,\n",
      "      a positive value refers to an upper diagonal, and a negative value\n",
      "      to a lower diagonal.\n",
      "    dtype : data-type, optional\n",
      "      Data-type of the returned array.\n",
      "    order : {'C', 'F'}, optional\n",
      "        Whether the output should be stored in row-major (C-style) or\n",
      "        column-major (Fortran-style) order in memory.\n",
      "    \n",
      "        .. versionadded:: 1.14.0\n",
      "    \n",
      "    Returns\n",
      "    -------\n",
      "    I : ndarray of shape (N,M)\n",
      "      An array where all elements are equal to zero, except for the `k`-th\n",
      "      diagonal, whose values are equal to one.\n",
      "    \n",
      "    See Also\n",
      "    --------\n",
      "    identity : (almost) equivalent function\n",
      "    diag : diagonal 2-D array from a 1-D array specified by the user.\n",
      "    \n",
      "    Examples\n",
      "    --------\n",
      "    >>> np.eye(2, dtype=int)\n",
      "    array([[1, 0],\n",
      "           [0, 1]])\n",
      "    >>> np.eye(3, k=1)\n",
      "    array([[0.,  1.,  0.],\n",
      "           [0.,  0.,  1.],\n",
      "           [0.,  0.,  0.]])\n",
      "\n"
     ]
    }
   ],
   "source": [
    "#Eye() function creates array filled with zeros except in the K-th diagonal, whos values are equal to 1\n",
    "#First parametre is row, 2nd parametre is column, 3rd parametre is K diagonal value, 4th parametre is data type\n",
    "#If you dont give column value then it will take the same row value for column\n",
    "#K positive is upper diagonal, K negative means lower diagonal\n",
    "#Diagonal always run from Left to right down\n",
    "from numpy import eye\n",
    "help(eye)"
   ]
  },
  {
   "cell_type": "code",
   "execution_count": 98,
   "metadata": {},
   "outputs": [
    {
     "name": "stdout",
     "output_type": "stream",
     "text": [
      "[[1. 0. 0. 0. 0.]\n",
      " [0. 1. 0. 0. 0.]\n",
      " [0. 0. 1. 0. 0.]\n",
      " [0. 0. 0. 1. 0.]\n",
      " [0. 0. 0. 0. 1.]]\n"
     ]
    },
    {
     "data": {
      "text/plain": [
       "(None, numpy.ndarray, 2, dtype('float64'))"
      ]
     },
     "execution_count": 98,
     "metadata": {},
     "output_type": "execute_result"
    }
   ],
   "source": [
    "#eye() function creates 2D Array\n",
    "Eye=eye(5)                               #Eye array made of row=5, col=5 \n",
    "print(Eye),type(Eye),ndim(Eye),Eye.dtype #Ones are in the main diagonal, diagonally 5 eyes"
   ]
  },
  {
   "cell_type": "code",
   "execution_count": 99,
   "metadata": {},
   "outputs": [
    {
     "name": "stdout",
     "output_type": "stream",
     "text": [
      "[[1.+0.j 0.+0.j 0.+0.j 0.+0.j 0.+0.j]\n",
      " [0.+0.j 1.+0.j 0.+0.j 0.+0.j 0.+0.j]\n",
      " [0.+0.j 0.+0.j 1.+0.j 0.+0.j 0.+0.j]\n",
      " [0.+0.j 0.+0.j 0.+0.j 1.+0.j 0.+0.j]\n",
      " [0.+0.j 0.+0.j 0.+0.j 0.+0.j 1.+0.j]]\n"
     ]
    },
    {
     "data": {
      "text/plain": [
       "(None, numpy.ndarray, 2, dtype('complex128'))"
      ]
     },
     "execution_count": 99,
     "metadata": {},
     "output_type": "execute_result"
    }
   ],
   "source": [
    "#eye() function creates 2D Array\n",
    "Eye=eye(5,5,dtype=complex)               #Eye array made of row=5, col=5, dtype=complex \n",
    "print(Eye),type(Eye),ndim(Eye),Eye.dtype #Ones are in the main diagonal"
   ]
  },
  {
   "cell_type": "code",
   "execution_count": 100,
   "metadata": {},
   "outputs": [
    {
     "name": "stdout",
     "output_type": "stream",
     "text": [
      "[[1. 0. 0. 0.]\n",
      " [0. 1. 0. 0.]\n",
      " [0. 0. 1. 0.]\n",
      " [0. 0. 0. 1.]\n",
      " [0. 0. 0. 0.]]\n"
     ]
    },
    {
     "data": {
      "text/plain": [
       "(None, numpy.ndarray, 2, dtype('float64'))"
      ]
     },
     "execution_count": 100,
     "metadata": {},
     "output_type": "execute_result"
    }
   ],
   "source": [
    "#eye() function creates 2D Array\n",
    "Eye=eye(5,4)                             #Eye array made of row=5, col=4 \n",
    "print(Eye),type(Eye),ndim(Eye),Eye.dtype #Ones are in the main diagonal"
   ]
  },
  {
   "cell_type": "code",
   "execution_count": 101,
   "metadata": {},
   "outputs": [
    {
     "name": "stdout",
     "output_type": "stream",
     "text": [
      "[[1. 0. 0. 0. 0.]\n",
      " [0. 1. 0. 0. 0.]\n",
      " [0. 0. 1. 0. 0.]\n",
      " [0. 0. 0. 1. 0.]]\n"
     ]
    },
    {
     "data": {
      "text/plain": [
       "(None, numpy.ndarray, 2, dtype('float64'))"
      ]
     },
     "execution_count": 101,
     "metadata": {},
     "output_type": "execute_result"
    }
   ],
   "source": [
    "#eye() function creates 2D Array\n",
    "Eye=eye(4,5)                             #Eye array made of row=4, col=5 \n",
    "print(Eye),type(Eye),ndim(Eye),Eye.dtype #Ones are in the main diagonal"
   ]
  },
  {
   "cell_type": "code",
   "execution_count": 102,
   "metadata": {},
   "outputs": [
    {
     "name": "stdout",
     "output_type": "stream",
     "text": [
      "[[1. 0. 0. 0. 0.]\n",
      " [0. 1. 0. 0. 0.]\n",
      " [0. 0. 1. 0. 0.]\n",
      " [0. 0. 0. 1. 0.]\n",
      " [0. 0. 0. 0. 1.]]\n"
     ]
    },
    {
     "data": {
      "text/plain": [
       "(None, numpy.ndarray, 2, dtype('float64'))"
      ]
     },
     "execution_count": 102,
     "metadata": {},
     "output_type": "execute_result"
    }
   ],
   "source": [
    "#eye() function creates 2D Array\n",
    "Eye=eye(5,5)                             #Eye array made of row=5, col=5 \n",
    "print(Eye),type(Eye),ndim(Eye),Eye.dtype #Ones are in the main diagonal"
   ]
  },
  {
   "cell_type": "code",
   "execution_count": 103,
   "metadata": {},
   "outputs": [
    {
     "name": "stdout",
     "output_type": "stream",
     "text": [
      "[[1 0 0 0 0]\n",
      " [0 1 0 0 0]\n",
      " [0 0 1 0 0]\n",
      " [0 0 0 1 0]\n",
      " [0 0 0 0 1]]\n"
     ]
    },
    {
     "data": {
      "text/plain": [
       "(None, numpy.ndarray, 2, dtype('int32'))"
      ]
     },
     "execution_count": 103,
     "metadata": {},
     "output_type": "execute_result"
    }
   ],
   "source": [
    "#eye() function creates 2D Array\n",
    "Eye=eye(5,dtype=int)                     #All elements are in integer form\n",
    "print(Eye),type(Eye),ndim(Eye),Eye.dtype #Int Ones are in the main diagonal"
   ]
  },
  {
   "cell_type": "code",
   "execution_count": 104,
   "metadata": {},
   "outputs": [
    {
     "ename": "TypeError",
     "evalue": "'list' object cannot be interpreted as an integer",
     "output_type": "error",
     "traceback": [
      "\u001b[1;31m---------------------------------------------------------------------------\u001b[0m",
      "\u001b[1;31mTypeError\u001b[0m                                 Traceback (most recent call last)",
      "\u001b[1;32m<ipython-input-104-a6adff57c832>\u001b[0m in \u001b[0;36m<module>\u001b[1;34m\u001b[0m\n\u001b[1;32m----> 1\u001b[1;33m \u001b[0mEye\u001b[0m\u001b[1;33m=\u001b[0m\u001b[0meye\u001b[0m\u001b[1;33m(\u001b[0m\u001b[1;33m[\u001b[0m\u001b[1;36m5\u001b[0m\u001b[1;33m]\u001b[0m\u001b[1;33m)\u001b[0m \u001b[1;31m#You cant made Eye array made of List\u001b[0m\u001b[1;33m\u001b[0m\u001b[1;33m\u001b[0m\u001b[0m\n\u001b[0m\u001b[0;32m      2\u001b[0m \u001b[0mprint\u001b[0m\u001b[1;33m(\u001b[0m\u001b[0mEye\u001b[0m\u001b[1;33m)\u001b[0m\u001b[1;33m\u001b[0m\u001b[1;33m\u001b[0m\u001b[0m\n",
      "\u001b[1;32mD:\\Anwesh\\D_Program_Files\\Miniconda3\\envs\\ML\\lib\\site-packages\\numpy\\lib\\twodim_base.py\u001b[0m in \u001b[0;36meye\u001b[1;34m(N, M, k, dtype, order)\u001b[0m\n\u001b[0;32m    197\u001b[0m     \u001b[1;32mif\u001b[0m \u001b[0mM\u001b[0m \u001b[1;32mis\u001b[0m \u001b[1;32mNone\u001b[0m\u001b[1;33m:\u001b[0m\u001b[1;33m\u001b[0m\u001b[1;33m\u001b[0m\u001b[0m\n\u001b[0;32m    198\u001b[0m         \u001b[0mM\u001b[0m \u001b[1;33m=\u001b[0m \u001b[0mN\u001b[0m\u001b[1;33m\u001b[0m\u001b[1;33m\u001b[0m\u001b[0m\n\u001b[1;32m--> 199\u001b[1;33m     \u001b[0mm\u001b[0m \u001b[1;33m=\u001b[0m \u001b[0mzeros\u001b[0m\u001b[1;33m(\u001b[0m\u001b[1;33m(\u001b[0m\u001b[0mN\u001b[0m\u001b[1;33m,\u001b[0m \u001b[0mM\u001b[0m\u001b[1;33m)\u001b[0m\u001b[1;33m,\u001b[0m \u001b[0mdtype\u001b[0m\u001b[1;33m=\u001b[0m\u001b[0mdtype\u001b[0m\u001b[1;33m,\u001b[0m \u001b[0morder\u001b[0m\u001b[1;33m=\u001b[0m\u001b[0morder\u001b[0m\u001b[1;33m)\u001b[0m\u001b[1;33m\u001b[0m\u001b[1;33m\u001b[0m\u001b[0m\n\u001b[0m\u001b[0;32m    200\u001b[0m     \u001b[1;32mif\u001b[0m \u001b[0mk\u001b[0m \u001b[1;33m>=\u001b[0m \u001b[0mM\u001b[0m\u001b[1;33m:\u001b[0m\u001b[1;33m\u001b[0m\u001b[1;33m\u001b[0m\u001b[0m\n\u001b[0;32m    201\u001b[0m         \u001b[1;32mreturn\u001b[0m \u001b[0mm\u001b[0m\u001b[1;33m\u001b[0m\u001b[1;33m\u001b[0m\u001b[0m\n",
      "\u001b[1;31mTypeError\u001b[0m: 'list' object cannot be interpreted as an integer"
     ]
    }
   ],
   "source": [
    "Eye=eye([5]) #You cant made Eye array made of List\n",
    "print(Eye)"
   ]
  },
  {
   "cell_type": "code",
   "execution_count": 105,
   "metadata": {},
   "outputs": [
    {
     "name": "stdout",
     "output_type": "stream",
     "text": [
      "[[1. 0. 0. 0. 0.]\n",
      " [0. 1. 0. 0. 0.]\n",
      " [0. 0. 1. 0. 0.]\n",
      " [0. 0. 0. 1. 0.]\n",
      " [0. 0. 0. 0. 1.]]\n"
     ]
    },
    {
     "data": {
      "text/plain": [
       "(None, numpy.ndarray, 2, dtype('float64'))"
      ]
     },
     "execution_count": 105,
     "metadata": {},
     "output_type": "execute_result"
    }
   ],
   "source": [
    "#eye() function creates 2D Array\n",
    "Eye=eye((5)) #Eye 5by5 array has made of Tuple\n",
    "print(Eye),type(Eye),ndim(Eye),Eye.dtype"
   ]
  },
  {
   "cell_type": "code",
   "execution_count": 106,
   "metadata": {},
   "outputs": [
    {
     "ename": "TypeError",
     "evalue": "'tuple' object cannot be interpreted as an integer",
     "output_type": "error",
     "traceback": [
      "\u001b[1;31m---------------------------------------------------------------------------\u001b[0m",
      "\u001b[1;31mTypeError\u001b[0m                                 Traceback (most recent call last)",
      "\u001b[1;32m<ipython-input-106-53fedad87082>\u001b[0m in \u001b[0;36m<module>\u001b[1;34m\u001b[0m\n\u001b[1;32m----> 1\u001b[1;33m \u001b[0mEye\u001b[0m\u001b[1;33m=\u001b[0m\u001b[0meye\u001b[0m\u001b[1;33m(\u001b[0m\u001b[1;33m(\u001b[0m\u001b[1;36m5\u001b[0m\u001b[1;33m,\u001b[0m\u001b[1;36m5\u001b[0m\u001b[1;33m)\u001b[0m\u001b[1;33m)\u001b[0m \u001b[1;31m#You cant made Eye array made of Tuple\u001b[0m\u001b[1;33m\u001b[0m\u001b[1;33m\u001b[0m\u001b[0m\n\u001b[0m\u001b[0;32m      2\u001b[0m \u001b[0mprint\u001b[0m\u001b[1;33m(\u001b[0m\u001b[0mEye\u001b[0m\u001b[1;33m)\u001b[0m\u001b[1;33m\u001b[0m\u001b[1;33m\u001b[0m\u001b[0m\n",
      "\u001b[1;32mD:\\Anwesh\\D_Program_Files\\Miniconda3\\envs\\ML\\lib\\site-packages\\numpy\\lib\\twodim_base.py\u001b[0m in \u001b[0;36meye\u001b[1;34m(N, M, k, dtype, order)\u001b[0m\n\u001b[0;32m    197\u001b[0m     \u001b[1;32mif\u001b[0m \u001b[0mM\u001b[0m \u001b[1;32mis\u001b[0m \u001b[1;32mNone\u001b[0m\u001b[1;33m:\u001b[0m\u001b[1;33m\u001b[0m\u001b[1;33m\u001b[0m\u001b[0m\n\u001b[0;32m    198\u001b[0m         \u001b[0mM\u001b[0m \u001b[1;33m=\u001b[0m \u001b[0mN\u001b[0m\u001b[1;33m\u001b[0m\u001b[1;33m\u001b[0m\u001b[0m\n\u001b[1;32m--> 199\u001b[1;33m     \u001b[0mm\u001b[0m \u001b[1;33m=\u001b[0m \u001b[0mzeros\u001b[0m\u001b[1;33m(\u001b[0m\u001b[1;33m(\u001b[0m\u001b[0mN\u001b[0m\u001b[1;33m,\u001b[0m \u001b[0mM\u001b[0m\u001b[1;33m)\u001b[0m\u001b[1;33m,\u001b[0m \u001b[0mdtype\u001b[0m\u001b[1;33m=\u001b[0m\u001b[0mdtype\u001b[0m\u001b[1;33m,\u001b[0m \u001b[0morder\u001b[0m\u001b[1;33m=\u001b[0m\u001b[0morder\u001b[0m\u001b[1;33m)\u001b[0m\u001b[1;33m\u001b[0m\u001b[1;33m\u001b[0m\u001b[0m\n\u001b[0m\u001b[0;32m    200\u001b[0m     \u001b[1;32mif\u001b[0m \u001b[0mk\u001b[0m \u001b[1;33m>=\u001b[0m \u001b[0mM\u001b[0m\u001b[1;33m:\u001b[0m\u001b[1;33m\u001b[0m\u001b[1;33m\u001b[0m\u001b[0m\n\u001b[0;32m    201\u001b[0m         \u001b[1;32mreturn\u001b[0m \u001b[0mm\u001b[0m\u001b[1;33m\u001b[0m\u001b[1;33m\u001b[0m\u001b[0m\n",
      "\u001b[1;31mTypeError\u001b[0m: 'tuple' object cannot be interpreted as an integer"
     ]
    }
   ],
   "source": [
    "Eye=eye((5,5)) #You cant made Eye array made of Tuple\n",
    "print(Eye)"
   ]
  },
  {
   "cell_type": "code",
   "execution_count": 107,
   "metadata": {},
   "outputs": [
    {
     "name": "stdout",
     "output_type": "stream",
     "text": [
      "[[0 0 0 0 1]\n",
      " [0 0 0 0 0]\n",
      " [0 0 0 0 0]\n",
      " [0 0 0 0 0]\n",
      " [0 0 0 0 0]]\n"
     ]
    },
    {
     "data": {
      "text/plain": [
       "(None, numpy.ndarray, 2, dtype('int32'))"
      ]
     },
     "execution_count": 107,
     "metadata": {},
     "output_type": "execute_result"
    }
   ],
   "source": [
    "#eye() function creates 2D Array\n",
    "Eye=eye(5,5,4,dtype=int)                 #All elements are in integer form\n",
    "print(Eye),type(Eye),ndim(Eye),Eye.dtype #Int Ones are in the main diagonal\n",
    "                                         #Diagonal value K=4\n",
    "                                         #5by5 array"
   ]
  },
  {
   "cell_type": "code",
   "execution_count": 108,
   "metadata": {},
   "outputs": [
    {
     "name": "stdout",
     "output_type": "stream",
     "text": [
      "[[0 0 0 0 1]\n",
      " [0 0 0 0 0]\n",
      " [0 0 0 0 0]\n",
      " [0 0 0 0 0]\n",
      " [0 0 0 0 0]]\n"
     ]
    },
    {
     "data": {
      "text/plain": [
       "(None, numpy.ndarray, 2, dtype('int32'))"
      ]
     },
     "execution_count": 108,
     "metadata": {},
     "output_type": "execute_result"
    }
   ],
   "source": [
    "#eye() function creates 2D Array\n",
    "Eye=eye(5,k=4,dtype=int)                 #All elements are in integer form\n",
    "print(Eye),type(Eye),ndim(Eye),Eye.dtype #Int Ones are in the main diagonal\n",
    "                                         #Diagonal value K=4"
   ]
  },
  {
   "cell_type": "code",
   "execution_count": 109,
   "metadata": {},
   "outputs": [
    {
     "name": "stdout",
     "output_type": "stream",
     "text": [
      "[[0 0 0 0 0]\n",
      " [0 0 0 0 0]\n",
      " [0 0 0 0 0]\n",
      " [0 0 0 0 0]\n",
      " [1 0 0 0 0]]\n"
     ]
    },
    {
     "data": {
      "text/plain": [
       "(None, numpy.ndarray, 2, dtype('int32'))"
      ]
     },
     "execution_count": 109,
     "metadata": {},
     "output_type": "execute_result"
    }
   ],
   "source": [
    "#eye() function creates 2D Array\n",
    "Eye=eye(5,5,-4,dtype=int)                #All elements are in integer form\n",
    "print(Eye),type(Eye),ndim(Eye),Eye.dtype #Int Ones are in the main diagonal\n",
    "                                         #Diagonal value K=-4"
   ]
  },
  {
   "cell_type": "code",
   "execution_count": 110,
   "metadata": {},
   "outputs": [
    {
     "name": "stdout",
     "output_type": "stream",
     "text": [
      "[[0 0 0 0 0]\n",
      " [0 0 0 0 0]\n",
      " [0 0 0 0 0]\n",
      " [0 0 0 0 0]\n",
      " [1 0 0 0 0]]\n"
     ]
    },
    {
     "data": {
      "text/plain": [
       "(None, numpy.ndarray, 2, dtype('int32'))"
      ]
     },
     "execution_count": 110,
     "metadata": {},
     "output_type": "execute_result"
    }
   ],
   "source": [
    "#eye() function creates 2D Array\n",
    "Eye=eye(5,k=-4,dtype=int)                #All elements are in integer form\n",
    "print(Eye),type(Eye),ndim(Eye),Eye.dtype #Int Ones are in the main diagonal\n",
    "                                         #Diagonal value K=-4"
   ]
  },
  {
   "cell_type": "markdown",
   "metadata": {},
   "source": [
    "### identity() function"
   ]
  },
  {
   "cell_type": "code",
   "execution_count": 112,
   "metadata": {},
   "outputs": [
    {
     "name": "stdout",
     "output_type": "stream",
     "text": [
      "Help on function identity in module numpy:\n",
      "\n",
      "identity(n, dtype=None)\n",
      "    Return the identity array.\n",
      "    \n",
      "    The identity array is a square array with ones on\n",
      "    the main diagonal.\n",
      "    \n",
      "    Parameters\n",
      "    ----------\n",
      "    n : int\n",
      "        Number of rows (and columns) in `n` x `n` output.\n",
      "    dtype : data-type, optional\n",
      "        Data-type of the output.  Defaults to ``float``.\n",
      "    \n",
      "    Returns\n",
      "    -------\n",
      "    out : ndarray\n",
      "        `n` x `n` array with its main diagonal set to one,\n",
      "        and all other elements 0.\n",
      "    \n",
      "    Examples\n",
      "    --------\n",
      "    >>> np.identity(3)\n",
      "    array([[1.,  0.,  0.],\n",
      "           [0.,  1.,  0.],\n",
      "           [0.,  0.,  1.]])\n",
      "\n"
     ]
    }
   ],
   "source": [
    "#identity() function creates 2D square array, rest of the things are just like eye() function\n",
    "#Its kind of Square Array of eye() function\n",
    "from numpy import identity\n",
    "help(identity)"
   ]
  },
  {
   "cell_type": "code",
   "execution_count": 113,
   "metadata": {},
   "outputs": [
    {
     "name": "stdout",
     "output_type": "stream",
     "text": [
      "[[1. 0. 0. 0. 0.]\n",
      " [0. 1. 0. 0. 0.]\n",
      " [0. 0. 1. 0. 0.]\n",
      " [0. 0. 0. 1. 0.]\n",
      " [0. 0. 0. 0. 1.]]\n"
     ]
    }
   ],
   "source": [
    "#identity() function creates 2D square array\n",
    "Identity=identity(5) #Square array made of row=5, col=5\n",
    "print(Identity)      #Ones are in the main diagonal"
   ]
  },
  {
   "cell_type": "code",
   "execution_count": 114,
   "metadata": {},
   "outputs": [
    {
     "name": "stdout",
     "output_type": "stream",
     "text": [
      "[[1 0 0 0 0]\n",
      " [0 1 0 0 0]\n",
      " [0 0 1 0 0]\n",
      " [0 0 0 1 0]\n",
      " [0 0 0 0 1]]\n"
     ]
    }
   ],
   "source": [
    "#identity() function creates 2D square array\n",
    "Identity=identity(5,dtype=int) #All elements are in integer form\n",
    "print(Identity)                #Int Ones are in the main diagonal\n",
    "                               #Square array made of row=5, col=5"
   ]
  },
  {
   "cell_type": "code",
   "execution_count": 115,
   "metadata": {},
   "outputs": [
    {
     "ename": "TypeError",
     "evalue": "'list' object cannot be interpreted as an integer",
     "output_type": "error",
     "traceback": [
      "\u001b[1;31m---------------------------------------------------------------------------\u001b[0m",
      "\u001b[1;31mTypeError\u001b[0m                                 Traceback (most recent call last)",
      "\u001b[1;32m<ipython-input-115-a7b67cbad2f0>\u001b[0m in \u001b[0;36m<module>\u001b[1;34m\u001b[0m\n\u001b[0;32m      1\u001b[0m \u001b[1;31m#identity() function creates 2D square array\u001b[0m\u001b[1;33m\u001b[0m\u001b[1;33m\u001b[0m\u001b[1;33m\u001b[0m\u001b[0m\n\u001b[1;32m----> 2\u001b[1;33m \u001b[0mInentity\u001b[0m\u001b[1;33m=\u001b[0m\u001b[0midentity\u001b[0m\u001b[1;33m(\u001b[0m\u001b[1;33m[\u001b[0m\u001b[1;36m5\u001b[0m\u001b[1;33m]\u001b[0m\u001b[1;33m)\u001b[0m \u001b[1;31m#You cant made identity array made of List\u001b[0m\u001b[1;33m\u001b[0m\u001b[1;33m\u001b[0m\u001b[0m\n\u001b[0m\u001b[0;32m      3\u001b[0m \u001b[0mprint\u001b[0m\u001b[1;33m(\u001b[0m\u001b[0mIdentity\u001b[0m\u001b[1;33m)\u001b[0m\u001b[1;33m\u001b[0m\u001b[1;33m\u001b[0m\u001b[0m\n",
      "\u001b[1;32mD:\\Anwesh\\D_Program_Files\\Miniconda3\\envs\\ML\\lib\\site-packages\\numpy\\core\\numeric.py\u001b[0m in \u001b[0;36midentity\u001b[1;34m(n, dtype)\u001b[0m\n\u001b[0;32m   2112\u001b[0m     \"\"\"\n\u001b[0;32m   2113\u001b[0m     \u001b[1;32mfrom\u001b[0m \u001b[0mnumpy\u001b[0m \u001b[1;32mimport\u001b[0m \u001b[0meye\u001b[0m\u001b[1;33m\u001b[0m\u001b[1;33m\u001b[0m\u001b[0m\n\u001b[1;32m-> 2114\u001b[1;33m     \u001b[1;32mreturn\u001b[0m \u001b[0meye\u001b[0m\u001b[1;33m(\u001b[0m\u001b[0mn\u001b[0m\u001b[1;33m,\u001b[0m \u001b[0mdtype\u001b[0m\u001b[1;33m=\u001b[0m\u001b[0mdtype\u001b[0m\u001b[1;33m)\u001b[0m\u001b[1;33m\u001b[0m\u001b[1;33m\u001b[0m\u001b[0m\n\u001b[0m\u001b[0;32m   2115\u001b[0m \u001b[1;33m\u001b[0m\u001b[0m\n\u001b[0;32m   2116\u001b[0m \u001b[1;33m\u001b[0m\u001b[0m\n",
      "\u001b[1;32mD:\\Anwesh\\D_Program_Files\\Miniconda3\\envs\\ML\\lib\\site-packages\\numpy\\lib\\twodim_base.py\u001b[0m in \u001b[0;36meye\u001b[1;34m(N, M, k, dtype, order)\u001b[0m\n\u001b[0;32m    197\u001b[0m     \u001b[1;32mif\u001b[0m \u001b[0mM\u001b[0m \u001b[1;32mis\u001b[0m \u001b[1;32mNone\u001b[0m\u001b[1;33m:\u001b[0m\u001b[1;33m\u001b[0m\u001b[1;33m\u001b[0m\u001b[0m\n\u001b[0;32m    198\u001b[0m         \u001b[0mM\u001b[0m \u001b[1;33m=\u001b[0m \u001b[0mN\u001b[0m\u001b[1;33m\u001b[0m\u001b[1;33m\u001b[0m\u001b[0m\n\u001b[1;32m--> 199\u001b[1;33m     \u001b[0mm\u001b[0m \u001b[1;33m=\u001b[0m \u001b[0mzeros\u001b[0m\u001b[1;33m(\u001b[0m\u001b[1;33m(\u001b[0m\u001b[0mN\u001b[0m\u001b[1;33m,\u001b[0m \u001b[0mM\u001b[0m\u001b[1;33m)\u001b[0m\u001b[1;33m,\u001b[0m \u001b[0mdtype\u001b[0m\u001b[1;33m=\u001b[0m\u001b[0mdtype\u001b[0m\u001b[1;33m,\u001b[0m \u001b[0morder\u001b[0m\u001b[1;33m=\u001b[0m\u001b[0morder\u001b[0m\u001b[1;33m)\u001b[0m\u001b[1;33m\u001b[0m\u001b[1;33m\u001b[0m\u001b[0m\n\u001b[0m\u001b[0;32m    200\u001b[0m     \u001b[1;32mif\u001b[0m \u001b[0mk\u001b[0m \u001b[1;33m>=\u001b[0m \u001b[0mM\u001b[0m\u001b[1;33m:\u001b[0m\u001b[1;33m\u001b[0m\u001b[1;33m\u001b[0m\u001b[0m\n\u001b[0;32m    201\u001b[0m         \u001b[1;32mreturn\u001b[0m \u001b[0mm\u001b[0m\u001b[1;33m\u001b[0m\u001b[1;33m\u001b[0m\u001b[0m\n",
      "\u001b[1;31mTypeError\u001b[0m: 'list' object cannot be interpreted as an integer"
     ]
    }
   ],
   "source": [
    "#identity() function creates 2D square array\n",
    "Inentity=identity([5]) #You cant made identity array made of List\n",
    "print(Identity)"
   ]
  },
  {
   "cell_type": "code",
   "execution_count": 116,
   "metadata": {},
   "outputs": [
    {
     "name": "stdout",
     "output_type": "stream",
     "text": [
      "[[1. 0. 0. 0. 0.]\n",
      " [0. 1. 0. 0. 0.]\n",
      " [0. 0. 1. 0. 0.]\n",
      " [0. 0. 0. 1. 0.]\n",
      " [0. 0. 0. 0. 1.]]\n"
     ]
    }
   ],
   "source": [
    "#identity() function creates 2D square array\n",
    "Identity=identity((5)) #Identity 5by5 array has made of Tuple\n",
    "print(Identity)"
   ]
  },
  {
   "cell_type": "code",
   "execution_count": 117,
   "metadata": {},
   "outputs": [
    {
     "ename": "TypeError",
     "evalue": "'tuple' object cannot be interpreted as an integer",
     "output_type": "error",
     "traceback": [
      "\u001b[1;31m---------------------------------------------------------------------------\u001b[0m",
      "\u001b[1;31mTypeError\u001b[0m                                 Traceback (most recent call last)",
      "\u001b[1;32m<ipython-input-117-a8adca89b2c4>\u001b[0m in \u001b[0;36m<module>\u001b[1;34m\u001b[0m\n\u001b[0;32m      1\u001b[0m \u001b[1;31m#identity() function creates 2D square array\u001b[0m\u001b[1;33m\u001b[0m\u001b[1;33m\u001b[0m\u001b[1;33m\u001b[0m\u001b[0m\n\u001b[1;32m----> 2\u001b[1;33m \u001b[0mIdentity\u001b[0m\u001b[1;33m=\u001b[0m\u001b[0midentity\u001b[0m\u001b[1;33m(\u001b[0m\u001b[1;33m(\u001b[0m\u001b[1;36m5\u001b[0m\u001b[1;33m,\u001b[0m\u001b[1;36m5\u001b[0m\u001b[1;33m)\u001b[0m\u001b[1;33m)\u001b[0m \u001b[1;31m#You cant made Identity array made of Tuple\u001b[0m\u001b[1;33m\u001b[0m\u001b[1;33m\u001b[0m\u001b[0m\n\u001b[0m\u001b[0;32m      3\u001b[0m \u001b[0mprint\u001b[0m\u001b[1;33m(\u001b[0m\u001b[0mIdentity\u001b[0m\u001b[1;33m)\u001b[0m\u001b[1;33m\u001b[0m\u001b[1;33m\u001b[0m\u001b[0m\n",
      "\u001b[1;32mD:\\Anwesh\\D_Program_Files\\Miniconda3\\envs\\ML\\lib\\site-packages\\numpy\\core\\numeric.py\u001b[0m in \u001b[0;36midentity\u001b[1;34m(n, dtype)\u001b[0m\n\u001b[0;32m   2112\u001b[0m     \"\"\"\n\u001b[0;32m   2113\u001b[0m     \u001b[1;32mfrom\u001b[0m \u001b[0mnumpy\u001b[0m \u001b[1;32mimport\u001b[0m \u001b[0meye\u001b[0m\u001b[1;33m\u001b[0m\u001b[1;33m\u001b[0m\u001b[0m\n\u001b[1;32m-> 2114\u001b[1;33m     \u001b[1;32mreturn\u001b[0m \u001b[0meye\u001b[0m\u001b[1;33m(\u001b[0m\u001b[0mn\u001b[0m\u001b[1;33m,\u001b[0m \u001b[0mdtype\u001b[0m\u001b[1;33m=\u001b[0m\u001b[0mdtype\u001b[0m\u001b[1;33m)\u001b[0m\u001b[1;33m\u001b[0m\u001b[1;33m\u001b[0m\u001b[0m\n\u001b[0m\u001b[0;32m   2115\u001b[0m \u001b[1;33m\u001b[0m\u001b[0m\n\u001b[0;32m   2116\u001b[0m \u001b[1;33m\u001b[0m\u001b[0m\n",
      "\u001b[1;32mD:\\Anwesh\\D_Program_Files\\Miniconda3\\envs\\ML\\lib\\site-packages\\numpy\\lib\\twodim_base.py\u001b[0m in \u001b[0;36meye\u001b[1;34m(N, M, k, dtype, order)\u001b[0m\n\u001b[0;32m    197\u001b[0m     \u001b[1;32mif\u001b[0m \u001b[0mM\u001b[0m \u001b[1;32mis\u001b[0m \u001b[1;32mNone\u001b[0m\u001b[1;33m:\u001b[0m\u001b[1;33m\u001b[0m\u001b[1;33m\u001b[0m\u001b[0m\n\u001b[0;32m    198\u001b[0m         \u001b[0mM\u001b[0m \u001b[1;33m=\u001b[0m \u001b[0mN\u001b[0m\u001b[1;33m\u001b[0m\u001b[1;33m\u001b[0m\u001b[0m\n\u001b[1;32m--> 199\u001b[1;33m     \u001b[0mm\u001b[0m \u001b[1;33m=\u001b[0m \u001b[0mzeros\u001b[0m\u001b[1;33m(\u001b[0m\u001b[1;33m(\u001b[0m\u001b[0mN\u001b[0m\u001b[1;33m,\u001b[0m \u001b[0mM\u001b[0m\u001b[1;33m)\u001b[0m\u001b[1;33m,\u001b[0m \u001b[0mdtype\u001b[0m\u001b[1;33m=\u001b[0m\u001b[0mdtype\u001b[0m\u001b[1;33m,\u001b[0m \u001b[0morder\u001b[0m\u001b[1;33m=\u001b[0m\u001b[0morder\u001b[0m\u001b[1;33m)\u001b[0m\u001b[1;33m\u001b[0m\u001b[1;33m\u001b[0m\u001b[0m\n\u001b[0m\u001b[0;32m    200\u001b[0m     \u001b[1;32mif\u001b[0m \u001b[0mk\u001b[0m \u001b[1;33m>=\u001b[0m \u001b[0mM\u001b[0m\u001b[1;33m:\u001b[0m\u001b[1;33m\u001b[0m\u001b[1;33m\u001b[0m\u001b[0m\n\u001b[0;32m    201\u001b[0m         \u001b[1;32mreturn\u001b[0m \u001b[0mm\u001b[0m\u001b[1;33m\u001b[0m\u001b[1;33m\u001b[0m\u001b[0m\n",
      "\u001b[1;31mTypeError\u001b[0m: 'tuple' object cannot be interpreted as an integer"
     ]
    }
   ],
   "source": [
    "#identity() function creates 2D square array\n",
    "Identity=identity((5,5)) #You cant made Identity array made of Tuple\n",
    "print(Identity)"
   ]
  },
  {
   "cell_type": "code",
   "execution_count": 118,
   "metadata": {},
   "outputs": [
    {
     "name": "stdout",
     "output_type": "stream",
     "text": [
      "[[1 0 0 0 0]\n",
      " [0 1 0 0 0]\n",
      " [0 0 1 0 0]\n",
      " [0 0 0 1 0]\n",
      " [0 0 0 0 1]]\n"
     ]
    }
   ],
   "source": [
    "#identity() function creates 2D square array\n",
    "Identity=identity(5,dtype=int) #All elements are in integer form\n",
    "print(Identity)                #Int Ones are in the main diagonal\n",
    "                               #Diagonal value K=4\n",
    "                               #5by5 array"
   ]
  },
  {
   "cell_type": "code",
   "execution_count": 119,
   "metadata": {},
   "outputs": [
    {
     "name": "stdout",
     "output_type": "stream",
     "text": [
      "[[1.+0.j 0.+0.j 0.+0.j 0.+0.j 0.+0.j]\n",
      " [0.+0.j 1.+0.j 0.+0.j 0.+0.j 0.+0.j]\n",
      " [0.+0.j 0.+0.j 1.+0.j 0.+0.j 0.+0.j]\n",
      " [0.+0.j 0.+0.j 0.+0.j 1.+0.j 0.+0.j]\n",
      " [0.+0.j 0.+0.j 0.+0.j 0.+0.j 1.+0.j]]\n"
     ]
    }
   ],
   "source": [
    "#identity() function creates 2D square array\n",
    "Identity=identity(5,dtype=complex) #All elements are in complex form\n",
    "print(Identity)                   #Int Ones are in the main diagonal\n",
    "                                  #Diagonal value K=4\n",
    "                                  #5by5 array"
   ]
  },
  {
   "cell_type": "markdown",
   "metadata": {},
   "source": [
    "### random() function\n",
    "1. rand()\n",
    "2. randn()\n",
    "3. randint()\n",
    "4. ranf()"
   ]
  },
  {
   "cell_type": "code",
   "execution_count": 120,
   "metadata": {},
   "outputs": [],
   "source": [
    "#When we want to create an array with Random elements then we use random()\n",
    "#Used for random no generation\n",
    "#rand() always gives values between 0 & 1"
   ]
  },
  {
   "cell_type": "code",
   "execution_count": 121,
   "metadata": {},
   "outputs": [
    {
     "name": "stdout",
     "output_type": "stream",
     "text": [
      "[0.47759578 0.79390951 0.15606995 0.91752763 0.06798837]\n"
     ]
    },
    {
     "data": {
      "text/plain": [
       "(None, numpy.ndarray, 1, dtype('float64'))"
      ]
     },
     "execution_count": 121,
     "metadata": {},
     "output_type": "execute_result"
    }
   ],
   "source": [
    "Random=random.rand(5)                                #1D random array\n",
    "print(Random),type(Random),ndim(Random),Random.dtype #rand() always gives values between 0 & 1\n",
    "                                                     #5 random values between 0 & 1"
   ]
  },
  {
   "cell_type": "code",
   "execution_count": 122,
   "metadata": {},
   "outputs": [
    {
     "name": "stdout",
     "output_type": "stream",
     "text": [
      "[[0.95141733 0.07466123 0.13897769 0.38604749 0.44448128]\n",
      " [0.2548201  0.78020924 0.31132923 0.33875528 0.13884929]\n",
      " [0.29535375 0.28614423 0.95596451 0.56702139 0.66387453]]\n"
     ]
    },
    {
     "data": {
      "text/plain": [
       "(None, numpy.ndarray, 2, dtype('float64'))"
      ]
     },
     "execution_count": 122,
     "metadata": {},
     "output_type": "execute_result"
    }
   ],
   "source": [
    "Random=random.rand(3,5)                              #2D random array 3by5\n",
    "print(Random),type(Random),ndim(Random),Random.dtype #3*5=15 random values between 0 & 1"
   ]
  },
  {
   "cell_type": "code",
   "execution_count": 123,
   "metadata": {},
   "outputs": [
    {
     "name": "stdout",
     "output_type": "stream",
     "text": [
      "3\n"
     ]
    },
    {
     "data": {
      "text/plain": [
       "(None, int, 0)"
      ]
     },
     "execution_count": 123,
     "metadata": {},
     "output_type": "execute_result"
    }
   ],
   "source": [
    "# array.dtype doesn't work with randint()\n",
    "#The randint() method returns an integer number selected element from the specified range.\n",
    "Random=random.randint(3,10)             #1D random array start=3, stop(upper bound)=10\n",
    "print(Random),type(Random),ndim(Random) #Any single Random integer between 3 & 10"
   ]
  },
  {
   "cell_type": "code",
   "execution_count": 124,
   "metadata": {},
   "outputs": [
    {
     "name": "stdout",
     "output_type": "stream",
     "text": [
      "[ 9 74 23 44 28 79 82 88 15 52]\n"
     ]
    },
    {
     "data": {
      "text/plain": [
       "(None, numpy.ndarray, 1)"
      ]
     },
     "execution_count": 124,
     "metadata": {},
     "output_type": "execute_result"
    }
   ],
   "source": [
    "# array.dtype doesn't work with randint()\n",
    "#The randint() method returns an integer number selected element from the specified range.\n",
    "#Return any 10 Random integers between 1 & 100\n",
    "Random=random.randint(1,100,10)         #1D random array start=1, stop(upper bound)=100\n",
    "print(Random),type(Random),ndim(Random) #Any 10 Random integers between 1 & 100"
   ]
  },
  {
   "cell_type": "code",
   "execution_count": 125,
   "metadata": {},
   "outputs": [
    {
     "name": "stdout",
     "output_type": "stream",
     "text": [
      "[-0.63039795 -0.73578154  0.81501276 -1.0920928  -0.3849085 ]\n"
     ]
    },
    {
     "data": {
      "text/plain": [
       "(1, numpy.ndarray, dtype('float64'))"
      ]
     },
     "execution_count": 125,
     "metadata": {},
     "output_type": "execute_result"
    }
   ],
   "source": [
    "Random=random.randn(5)                 #1D random array\n",
    "print(Random)                          #randn() always gives values between +1 & -1\n",
    "ndim(Random),type(Random),Random.dtype #5 random float values between +1 & -1"
   ]
  },
  {
   "cell_type": "code",
   "execution_count": 126,
   "metadata": {},
   "outputs": [
    {
     "name": "stdout",
     "output_type": "stream",
     "text": [
      "[[ 0.56262448 -0.13605793  1.39470321 -1.34724503 -0.03395948]\n",
      " [ 0.44538577  0.14645387  0.54676927 -0.95014334 -0.43214218]\n",
      " [ 0.41518377  0.17213821 -1.68739773  0.88378596  0.60422902]]\n"
     ]
    },
    {
     "data": {
      "text/plain": [
       "(2, numpy.ndarray, dtype('float64'))"
      ]
     },
     "execution_count": 126,
     "metadata": {},
     "output_type": "execute_result"
    }
   ],
   "source": [
    "Random=random.randn(3,5)               #2D random array, made of row=3, col=5\n",
    "print(Random)                          #randn() always gives values between +1 & -1\n",
    "ndim(Random),type(Random),Random.dtype #3*5=15 random float values between +1 & -1"
   ]
  },
  {
   "cell_type": "markdown",
   "metadata": {},
   "source": [
    "## Attributes of Array"
   ]
  },
  {
   "cell_type": "code",
   "execution_count": 127,
   "metadata": {},
   "outputs": [],
   "source": [
    "#1. ndim() #Tells the dimention\n",
    "#2. shape() #no of rows & no of cols\n",
    "#3. reshape() #edit the no of rows & no of cols\n",
    "#4. size() #Tells total no of elements\n",
    "#5. itemsize() #Tells the memory consumed"
   ]
  },
  {
   "cell_type": "code",
   "execution_count": 128,
   "metadata": {},
   "outputs": [],
   "source": [
    "#To check the Dimention of an Array, we use ndim() function"
   ]
  },
  {
   "cell_type": "code",
   "execution_count": 129,
   "metadata": {},
   "outputs": [
    {
     "name": "stdout",
     "output_type": "stream",
     "text": [
      "(array([[ 1., 11.],\n",
      "       [ 2., 12.],\n",
      "       [ 3., 13.],\n",
      "       [ 4., 14.],\n",
      "       [ 5., 15.],\n",
      "       [ 6., 16.],\n",
      "       [ 7., 17.],\n",
      "       [ 8., 18.],\n",
      "       [ 9., 19.],\n",
      "       [10., 20.]]), array([1., 1.]))\n"
     ]
    },
    {
     "data": {
      "text/plain": [
       "(2, 30, numpy.ndarray, dtype('float64'))"
      ]
     },
     "execution_count": 129,
     "metadata": {},
     "output_type": "execute_result"
    }
   ],
   "source": [
    "# Hey you, Check the output result here.. They are inside a 2D List Array\n",
    "#retstep=True it converts the result into a 2D Tuple Array\n",
    "#If you provide retstep=True command, .reshape() & array.dtype commands don't work\n",
    "Linspace1=linspace((1,11,21),(11,21,31),10) #2D linspace array with 3 Tuples\n",
    "print(Linspace)                             #start=1, stop=11, num=10 for 1st Tuple\n",
    "                                            #start=11, stop=21, num=10 for 2nd Tuple\n",
    "                                            #start=21, stop=31, num=10 for 2nd Tuple\n",
    "shape(Linspace1) #10 rows & 3 cols\n",
    "ndim(Linspace1),size(Linspace1),type(Linspace1),Linspace1.dtype #Total 30 elements"
   ]
  },
  {
   "cell_type": "code",
   "execution_count": 130,
   "metadata": {},
   "outputs": [
    {
     "name": "stdout",
     "output_type": "stream",
     "text": [
      "(array([[ 1.        , 11.        , 21.        ],\n",
      "       [ 2.11111111, 12.11111111, 22.11111111],\n",
      "       [ 3.22222222, 13.22222222, 23.22222222],\n",
      "       [ 4.33333333, 14.33333333, 24.33333333],\n",
      "       [ 5.44444444, 15.44444444, 25.44444444],\n",
      "       [ 6.55555556, 16.55555556, 26.55555556],\n",
      "       [ 7.66666667, 17.66666667, 27.66666667],\n",
      "       [ 8.77777778, 18.77777778, 28.77777778],\n",
      "       [ 9.88888889, 19.88888889, 29.88888889],\n",
      "       [11.        , 21.        , 31.        ]]), array([1.11111111, 1.11111111, 1.11111111]))\n"
     ]
    },
    {
     "ename": "AttributeError",
     "evalue": "'tuple' object has no attribute 'dtype'",
     "output_type": "error",
     "traceback": [
      "\u001b[1;31m---------------------------------------------------------------------------\u001b[0m",
      "\u001b[1;31mAttributeError\u001b[0m                            Traceback (most recent call last)",
      "\u001b[1;32m<ipython-input-130-e919ae56c4e3>\u001b[0m in \u001b[0;36m<module>\u001b[1;34m\u001b[0m\n\u001b[0;32m      7\u001b[0m                                                          \u001b[1;31m#start=21, stop=31, num=10 for 2nd Tuple, step value=1.11111111\u001b[0m\u001b[1;33m\u001b[0m\u001b[1;33m\u001b[0m\u001b[1;33m\u001b[0m\u001b[0m\n\u001b[0;32m      8\u001b[0m \u001b[0mshape\u001b[0m\u001b[1;33m(\u001b[0m\u001b[0mLinspace2\u001b[0m\u001b[1;33m)\u001b[0m \u001b[1;31m#10 rows & 3 cols\u001b[0m\u001b[1;33m\u001b[0m\u001b[1;33m\u001b[0m\u001b[0m\n\u001b[1;32m----> 9\u001b[1;33m \u001b[0mndim\u001b[0m\u001b[1;33m(\u001b[0m\u001b[0mLinspace2\u001b[0m\u001b[1;33m)\u001b[0m\u001b[1;33m,\u001b[0m\u001b[0msize\u001b[0m\u001b[1;33m(\u001b[0m\u001b[0mLinspace2\u001b[0m\u001b[1;33m)\u001b[0m\u001b[1;33m,\u001b[0m\u001b[0mtype\u001b[0m\u001b[1;33m(\u001b[0m\u001b[0mLinspace2\u001b[0m\u001b[1;33m)\u001b[0m\u001b[1;33m,\u001b[0m\u001b[0mLinspace2\u001b[0m\u001b[1;33m.\u001b[0m\u001b[0mdtype\u001b[0m \u001b[1;31m#Total 30 elements\u001b[0m\u001b[1;33m\u001b[0m\u001b[1;33m\u001b[0m\u001b[0m\n\u001b[0m",
      "\u001b[1;31mAttributeError\u001b[0m: 'tuple' object has no attribute 'dtype'"
     ]
    }
   ],
   "source": [
    "# Hey you, Check the output result here.. They are inside a 2D List Array\n",
    "#retstep=True it converts the result into a 2D Tuple Array\n",
    "#If you provide retstep=True command, .reshape() & array.dtype commands don't work\n",
    "Linspace2=linspace((1,11,21),(11,21,31),10,retstep=True) #2D linspace array with 3 Tuples\n",
    "print(Linspace2)                                          #start=1, stop=11, num=10 for 1st Tuple, step value=1.11111111\n",
    "                                                         #start=11, stop=21, num=10 for 2nd Tuple, step value=1.11111111\n",
    "                                                         #start=21, stop=31, num=10 for 2nd Tuple, step value=1.11111111\n",
    "shape(Linspace2) #10 rows & 3 cols\n",
    "ndim(Linspace2),size(Linspace2),type(Linspace2),Linspace2.dtype #Total 30 elements"
   ]
  },
  {
   "cell_type": "code",
   "execution_count": 131,
   "metadata": {},
   "outputs": [
    {
     "data": {
      "text/plain": [
       "dtype('float64')"
      ]
     },
     "execution_count": 131,
     "metadata": {},
     "output_type": "execute_result"
    }
   ],
   "source": [
    "Linspace1.dtype"
   ]
  },
  {
   "cell_type": "code",
   "execution_count": 132,
   "metadata": {},
   "outputs": [
    {
     "ename": "AttributeError",
     "evalue": "'tuple' object has no attribute 'itemsize'",
     "output_type": "error",
     "traceback": [
      "\u001b[1;31m---------------------------------------------------------------------------\u001b[0m",
      "\u001b[1;31mAttributeError\u001b[0m                            Traceback (most recent call last)",
      "\u001b[1;32m<ipython-input-132-db419db61928>\u001b[0m in \u001b[0;36m<module>\u001b[1;34m\u001b[0m\n\u001b[1;32m----> 1\u001b[1;33m \u001b[0mLinspace\u001b[0m\u001b[1;33m.\u001b[0m\u001b[0mitemsize\u001b[0m\u001b[1;33m\u001b[0m\u001b[1;33m\u001b[0m\u001b[0m\n\u001b[0m",
      "\u001b[1;31mAttributeError\u001b[0m: 'tuple' object has no attribute 'itemsize'"
     ]
    }
   ],
   "source": [
    "Linspace.itemsize"
   ]
  },
  {
   "cell_type": "code",
   "execution_count": 133,
   "metadata": {},
   "outputs": [
    {
     "name": "stdout",
     "output_type": "stream",
     "text": [
      "[['KESHAV' '(45+9j)' 'True' '39.69' '39']\n",
      " ['10.1' 'Prashant' '(10+10j)' 'False' '10']\n",
      " ['1' '2' '3' '4' '5']\n",
      " ['6' '7' '8' '9' '10']]\n"
     ]
    },
    {
     "data": {
      "text/plain": [
       "((4, 5), 20, numpy.ndarray, dtype('<U8'))"
      ]
     },
     "execution_count": 133,
     "metadata": {},
     "output_type": "execute_result"
    }
   ],
   "source": [
    "Array2D=array([[\"KESHAV\",45+9j,True,39.69,39],[10.10,'Prashant',10+10j,False,10],[1,2,3,4,5],[6,7,8,9,10]])\n",
    "print(Array2D)\n",
    "ndim(Array2D)\n",
    "shape(Array2D),size(Array2D),type(Array2D),Array2D.dtype # rows & 5 coloumns, Total 20 elements, numpy.ndarray, dtype('<U8')"
   ]
  },
  {
   "cell_type": "code",
   "execution_count": 134,
   "metadata": {},
   "outputs": [
    {
     "data": {
      "text/plain": [
       "dtype('<U8')"
      ]
     },
     "execution_count": 134,
     "metadata": {},
     "output_type": "execute_result"
    }
   ],
   "source": [
    "Array2D.dtype"
   ]
  },
  {
   "cell_type": "code",
   "execution_count": 135,
   "metadata": {},
   "outputs": [
    {
     "data": {
      "text/plain": [
       "32"
      ]
     },
     "execution_count": 135,
     "metadata": {},
     "output_type": "execute_result"
    }
   ],
   "source": [
    "Array2D.itemsize"
   ]
  },
  {
   "cell_type": "code",
   "execution_count": 136,
   "metadata": {},
   "outputs": [
    {
     "name": "stdout",
     "output_type": "stream",
     "text": [
      "[[ 1  2  3]\n",
      " [ 4  5  6]\n",
      " [ 7  8  9]\n",
      " [10 11 12]]\n"
     ]
    },
    {
     "data": {
      "text/plain": [
       "(12, numpy.ndarray, dtype('<U8'))"
      ]
     },
     "execution_count": 136,
     "metadata": {},
     "output_type": "execute_result"
    }
   ],
   "source": [
    "Array=array([[1,2,3],[4,5,6],(7,8,9),(10,11,12)]) #Convert the list into array\n",
    "print(Array)                                      #The list contains 2 lists & 2 tuples\n",
    "ndim(Array)\n",
    "shape(Array) #4 rows & 3 cols\n",
    "size(Array),type(Array2D),Array2D.dtype #Total 12 elements,numpy.ndarray,dtype('<U8')"
   ]
  },
  {
   "cell_type": "code",
   "execution_count": 137,
   "metadata": {},
   "outputs": [
    {
     "data": {
      "text/plain": [
       "dtype('int32')"
      ]
     },
     "execution_count": 137,
     "metadata": {},
     "output_type": "execute_result"
    }
   ],
   "source": [
    "Array.dtype"
   ]
  },
  {
   "cell_type": "code",
   "execution_count": 138,
   "metadata": {},
   "outputs": [
    {
     "data": {
      "text/plain": [
       "4"
      ]
     },
     "execution_count": 138,
     "metadata": {},
     "output_type": "execute_result"
    }
   ],
   "source": [
    "Array.itemsize"
   ]
  },
  {
   "cell_type": "code",
   "execution_count": 139,
   "metadata": {},
   "outputs": [
    {
     "name": "stdout",
     "output_type": "stream",
     "text": [
      "[[ 1  2  3]\n",
      " [ 4  5  6]\n",
      " [ 7  8  9]\n",
      " [10 11 12]]\n"
     ]
    },
    {
     "data": {
      "text/plain": [
       "(12, numpy.ndarray, dtype('int32'))"
      ]
     },
     "execution_count": 139,
     "metadata": {},
     "output_type": "execute_result"
    }
   ],
   "source": [
    "Array=array(([1,2,3],[4,5,6],(7,8,9),(10,11,12))) #Convert the Tuple into array\n",
    "print(Array)                                      #The Tuple contains 2 lists & 2 tuples\n",
    "ndim(Array)\n",
    "shape(Array) #4 rows & 3 cols\n",
    "size(Array),type(Array),Array.dtype  #Total 12 elements"
   ]
  },
  {
   "cell_type": "code",
   "execution_count": 140,
   "metadata": {},
   "outputs": [
    {
     "data": {
      "text/plain": [
       "dtype('int32')"
      ]
     },
     "execution_count": 140,
     "metadata": {},
     "output_type": "execute_result"
    }
   ],
   "source": [
    "Array.dtype"
   ]
  },
  {
   "cell_type": "code",
   "execution_count": 141,
   "metadata": {},
   "outputs": [
    {
     "data": {
      "text/plain": [
       "4"
      ]
     },
     "execution_count": 141,
     "metadata": {},
     "output_type": "execute_result"
    }
   ],
   "source": [
    "Array.itemsize"
   ]
  },
  {
   "cell_type": "code",
   "execution_count": 142,
   "metadata": {},
   "outputs": [
    {
     "name": "stdout",
     "output_type": "stream",
     "text": [
      "[[[5 5 5]\n",
      "  [5 5 5]\n",
      "  [5 5 5]]\n",
      "\n",
      " [[5 5 5]\n",
      "  [5 5 5]\n",
      "  [5 5 5]]\n",
      "\n",
      " [[5 5 5]\n",
      "  [5 5 5]\n",
      "  [5 5 5]]]\n"
     ]
    },
    {
     "data": {
      "text/plain": [
       "(3, (3, 3, 3), 27, numpy.ndarray, dtype('int32'))"
      ]
     },
     "execution_count": 142,
     "metadata": {},
     "output_type": "execute_result"
    }
   ],
   "source": [
    "Array3D = array([[[5 for k in range(3)]for j in range(3)]for i in range(3)])\n",
    "print(Array3D)\n",
    "ndim(Array3D),shape(Array3D),size(Array3D),type(Array3D),Array3D.dtype  #Total 27 elements,#shape=3 Arrays, 3 rows, 3 cols"
   ]
  },
  {
   "cell_type": "code",
   "execution_count": 143,
   "metadata": {},
   "outputs": [
    {
     "data": {
      "text/plain": [
       "dtype('int32')"
      ]
     },
     "execution_count": 143,
     "metadata": {},
     "output_type": "execute_result"
    }
   ],
   "source": [
    "Array3D.dtype"
   ]
  },
  {
   "cell_type": "code",
   "execution_count": 144,
   "metadata": {},
   "outputs": [
    {
     "data": {
      "text/plain": [
       "4"
      ]
     },
     "execution_count": 144,
     "metadata": {},
     "output_type": "execute_result"
    }
   ],
   "source": [
    "Array3D.itemsize"
   ]
  },
  {
   "cell_type": "code",
   "execution_count": 145,
   "metadata": {},
   "outputs": [
    {
     "name": "stdout",
     "output_type": "stream",
     "text": [
      "[[[0 0 0 0 0]\n",
      "  [0 0 0 0 0]\n",
      "  [0 0 0 0 0]]\n",
      "\n",
      " [[0 0 0 0 0]\n",
      "  [0 0 0 0 0]\n",
      "  [0 0 0 0 0]]\n",
      "\n",
      " [[0 0 0 0 0]\n",
      "  [0 0 0 0 0]\n",
      "  [0 0 0 0 0]]\n",
      "\n",
      " [[0 0 0 0 0]\n",
      "  [0 0 0 0 0]\n",
      "  [0 0 0 0 0]]]\n"
     ]
    },
    {
     "data": {
      "text/plain": [
       "((4, 3, 5), 3, 60, dtype('int32'))"
      ]
     },
     "execution_count": 145,
     "metadata": {},
     "output_type": "execute_result"
    }
   ],
   "source": [
    "#Creating 3D zeros Array of tuples\n",
    "Zeros3D=zeros((4,3,5),int) #(4,3,5) is shape tuple of ints\n",
    "print(Zeros3D)             #4 arrays, 3 rows, 5 cols\n",
    "\n",
    "\n",
    "shape(Zeros3D),ndim(Zeros3D),size(Zeros3D),Zeros3D.dtype  #Total 4*3*5=60 elements"
   ]
  },
  {
   "cell_type": "code",
   "execution_count": 146,
   "metadata": {},
   "outputs": [
    {
     "data": {
      "text/plain": [
       "dtype('int32')"
      ]
     },
     "execution_count": 146,
     "metadata": {},
     "output_type": "execute_result"
    }
   ],
   "source": [
    "Zeros3D.dtype"
   ]
  },
  {
   "cell_type": "code",
   "execution_count": 147,
   "metadata": {},
   "outputs": [
    {
     "data": {
      "text/plain": [
       "4"
      ]
     },
     "execution_count": 147,
     "metadata": {},
     "output_type": "execute_result"
    }
   ],
   "source": [
    "Zeros3D.itemsize"
   ]
  },
  {
   "cell_type": "code",
   "execution_count": 148,
   "metadata": {},
   "outputs": [
    {
     "name": "stdout",
     "output_type": "stream",
     "text": [
      "[[[0 0 0 0 0]\n",
      "  [0 0 0 0 0]\n",
      "  [0 0 0 0 0]]\n",
      "\n",
      " [[0 0 0 0 0]\n",
      "  [0 0 0 0 0]\n",
      "  [0 0 0 0 0]]\n",
      "\n",
      " [[0 0 0 0 0]\n",
      "  [0 0 0 0 0]\n",
      "  [0 0 0 0 0]]\n",
      "\n",
      " [[0 0 0 0 0]\n",
      "  [0 0 0 0 0]\n",
      "  [0 0 0 0 0]]]\n"
     ]
    },
    {
     "data": {
      "text/plain": [
       "(3, (4, 3, 5), 60, dtype('int32'))"
      ]
     },
     "execution_count": 148,
     "metadata": {},
     "output_type": "execute_result"
    }
   ],
   "source": [
    "#Creating 3D zeros Array of Lists\n",
    "Zeros3D=zeros([4,3,5],int) #(4,3,5) is shape Lists of ints\n",
    "print(Zeros3D)             #4 arrays, each having 3 rows & 5 cols\n",
    "ndim(Zeros3D),shape(Zeros3D),size(Zeros3D),Zeros3D.dtype  #Total 60 elements"
   ]
  },
  {
   "cell_type": "code",
   "execution_count": 149,
   "metadata": {},
   "outputs": [
    {
     "data": {
      "text/plain": [
       "dtype('int32')"
      ]
     },
     "execution_count": 149,
     "metadata": {},
     "output_type": "execute_result"
    }
   ],
   "source": [
    "Zeros3D.dtype"
   ]
  },
  {
   "cell_type": "code",
   "execution_count": 150,
   "metadata": {},
   "outputs": [
    {
     "data": {
      "text/plain": [
       "4"
      ]
     },
     "execution_count": 150,
     "metadata": {},
     "output_type": "execute_result"
    }
   ],
   "source": [
    "Zeros3D.itemsize"
   ]
  },
  {
   "cell_type": "markdown",
   "metadata": {},
   "source": [
    "## How to change data type elements of an Array\n",
    "We can change data type elements of an Array by using astype() function"
   ]
  },
  {
   "cell_type": "code",
   "execution_count": 151,
   "metadata": {},
   "outputs": [
    {
     "name": "stdout",
     "output_type": "stream",
     "text": [
      "[[ 1.+0.j  2.+0.j  3.+0.j  4.+0.j  5.+0.j]\n",
      " [ 6.+0.j  7.+0.j  8.+0.j  9.+0.j 10.+0.j]\n",
      " [11.+0.j 12.+0.j 13.+0.j 14.+0.j 15.+0.j]\n",
      " [16.+0.j 17.+0.j 18.+0.j 19.+0.j 20.+0.j]]\n"
     ]
    },
    {
     "data": {
      "text/plain": [
       "(None, 2, (4, 5), 20, dtype('complex128'), numpy.ndarray)"
      ]
     },
     "execution_count": 151,
     "metadata": {},
     "output_type": "execute_result"
    }
   ],
   "source": [
    "#Creating 2D array from 2 ranges having complex elements\n",
    "#No of elements/length of each range should be same\n",
    "#Dont works with string element\n",
    "Array2=arange(start=1,stop=21,dtype=complex).reshape(4,5) #4 rows & 5 columns\n",
    "print(Array2),ndim(Array2),shape(Array2),size(Array2),Array2.dtype,type(Array2)"
   ]
  },
  {
   "cell_type": "code",
   "execution_count": 152,
   "metadata": {},
   "outputs": [
    {
     "name": "stdout",
     "output_type": "stream",
     "text": [
      "[[ 1.+0.j  2.+0.j  3.+0.j  4.+0.j  5.+0.j]\n",
      " [ 6.+0.j  7.+0.j  8.+0.j  9.+0.j 10.+0.j]\n",
      " [11.+0.j 12.+0.j 13.+0.j 14.+0.j 15.+0.j]\n",
      " [16.+0.j 17.+0.j 18.+0.j 19.+0.j 20.+0.j]]\n"
     ]
    },
    {
     "name": "stderr",
     "output_type": "stream",
     "text": [
      "<ipython-input-152-635fe56ace68>:2: ComplexWarning: Casting complex values to real discards the imaginary part\n",
      "  Array2.astype(int)\n"
     ]
    }
   ],
   "source": [
    "# We can change data type elements of an Array by using astype() function\n",
    "Array2.astype(int)\n",
    "print(Array2)"
   ]
  },
  {
   "cell_type": "code",
   "execution_count": 153,
   "metadata": {},
   "outputs": [
    {
     "name": "stdout",
     "output_type": "stream",
     "text": [
      "[ 6 14 24 36 50]\n"
     ]
    },
    {
     "data": {
      "text/plain": [
       "(None, 1, (5,), 5, dtype('int32'), numpy.ndarray)"
      ]
     },
     "execution_count": 153,
     "metadata": {},
     "output_type": "execute_result"
    }
   ],
   "source": [
    "#You can perform Multiplication\n",
    "#array(object, dtype=None, copy=True, order='K', subok=False, ndmin=0)\n",
    "#Multiplication output will also be an Array\n",
    "Array1=array([1,2,3,4,5])\n",
    "Array2=array([6,7,8,9,10])\n",
    "Multiply=Array1*Array2\n",
    "print(Multiply),ndim(Multiply),shape(Multiply),size(Multiply),Multiply.dtype,type(Multiply)"
   ]
  },
  {
   "cell_type": "code",
   "execution_count": 154,
   "metadata": {},
   "outputs": [
    {
     "name": "stdout",
     "output_type": "stream",
     "text": [
      "[1 2 3 4 5]\n"
     ]
    }
   ],
   "source": [
    "Array=array([1,2,3,4,5]) #Convert the List into Array\n",
    "print(Array)"
   ]
  },
  {
   "cell_type": "code",
   "execution_count": 155,
   "metadata": {},
   "outputs": [
    {
     "data": {
      "text/plain": [
       "array([1., 2., 3., 4., 5.])"
      ]
     },
     "execution_count": 155,
     "metadata": {},
     "output_type": "execute_result"
    }
   ],
   "source": [
    "Array.astype(float)"
   ]
  },
  {
   "cell_type": "code",
   "execution_count": 156,
   "metadata": {},
   "outputs": [
    {
     "data": {
      "text/plain": [
       "array([1.+0.j, 2.+0.j, 3.+0.j, 4.+0.j, 5.+0.j])"
      ]
     },
     "execution_count": 156,
     "metadata": {},
     "output_type": "execute_result"
    }
   ],
   "source": [
    "Array.astype(complex)"
   ]
  },
  {
   "cell_type": "code",
   "execution_count": 157,
   "metadata": {},
   "outputs": [
    {
     "data": {
      "text/plain": [
       "array([1, 2, 3, 4, 5])"
      ]
     },
     "execution_count": 157,
     "metadata": {},
     "output_type": "execute_result"
    }
   ],
   "source": [
    "Array.astype(int)"
   ]
  },
  {
   "cell_type": "code",
   "execution_count": 158,
   "metadata": {},
   "outputs": [
    {
     "data": {
      "text/plain": [
       "array([ True,  True,  True,  True,  True])"
      ]
     },
     "execution_count": 158,
     "metadata": {},
     "output_type": "execute_result"
    }
   ],
   "source": [
    "Array.astype(bool)"
   ]
  },
  {
   "cell_type": "markdown",
   "metadata": {},
   "source": [
    "## Indexing operation in Numpy Array"
   ]
  },
  {
   "cell_type": "code",
   "execution_count": 159,
   "metadata": {},
   "outputs": [],
   "source": [
    "#By using indexing you can access any single element from an Array\n",
    "#Basic indexing only gives you the view of the data"
   ]
  },
  {
   "cell_type": "code",
   "execution_count": 160,
   "metadata": {},
   "outputs": [
    {
     "name": "stdout",
     "output_type": "stream",
     "text": [
      "['KESHAV' '(45+9j)' 'True' '39.69' '39']\n"
     ]
    }
   ],
   "source": [
    "#Creating 1D array from 1 list\n",
    "Array1=array([\"KESHAV\",45+9j,True,39.69,39]) #Convert the list into 1D array\n",
    "print(Array1)"
   ]
  },
  {
   "cell_type": "markdown",
   "metadata": {},
   "source": [
    "## Indexing in 1D Array is Array[]"
   ]
  },
  {
   "cell_type": "code",
   "execution_count": 161,
   "metadata": {},
   "outputs": [
    {
     "data": {
      "text/plain": [
       "'39.69'"
      ]
     },
     "execution_count": 161,
     "metadata": {},
     "output_type": "execute_result"
    }
   ],
   "source": [
    "#Indexing in 1D Array is Array[]\n",
    "Array1[3] #Shows the 3rd index element of the Array"
   ]
  },
  {
   "cell_type": "code",
   "execution_count": 162,
   "metadata": {},
   "outputs": [
    {
     "data": {
      "text/plain": [
       "'39.69'"
      ]
     },
     "execution_count": 162,
     "metadata": {},
     "output_type": "execute_result"
    }
   ],
   "source": [
    "Array1[-2] #Shows the 2nd index element from RHS"
   ]
  },
  {
   "cell_type": "code",
   "execution_count": 163,
   "metadata": {},
   "outputs": [
    {
     "data": {
      "text/plain": [
       "'KESHAV'"
      ]
     },
     "execution_count": 163,
     "metadata": {},
     "output_type": "execute_result"
    }
   ],
   "source": [
    "Array1[0] #Shows the 0th index element of the Array"
   ]
  },
  {
   "cell_type": "code",
   "execution_count": 164,
   "metadata": {},
   "outputs": [
    {
     "data": {
      "text/plain": [
       "'KESHAV'"
      ]
     },
     "execution_count": 164,
     "metadata": {},
     "output_type": "execute_result"
    }
   ],
   "source": [
    "Array1[-5] #Shows the 5th index element from RHS"
   ]
  },
  {
   "cell_type": "code",
   "execution_count": 165,
   "metadata": {},
   "outputs": [],
   "source": [
    "Tuple=\"KESHAV\",45+9j,True,39.69,39"
   ]
  },
  {
   "cell_type": "code",
   "execution_count": 166,
   "metadata": {},
   "outputs": [
    {
     "data": {
      "text/plain": [
       "'KESHAV'"
      ]
     },
     "execution_count": 166,
     "metadata": {},
     "output_type": "execute_result"
    }
   ],
   "source": [
    "#Indexing in Tuple\n",
    "Tuple[0] #Shows the 0th index element"
   ]
  },
  {
   "cell_type": "code",
   "execution_count": 167,
   "metadata": {},
   "outputs": [
    {
     "data": {
      "text/plain": [
       "'H'"
      ]
     },
     "execution_count": 167,
     "metadata": {},
     "output_type": "execute_result"
    }
   ],
   "source": [
    "Tuple[0][3] #Shows the 3rd index element of the 0th index element (\"KESHAV\"), ie letter H"
   ]
  },
  {
   "cell_type": "code",
   "execution_count": 168,
   "metadata": {},
   "outputs": [
    {
     "ename": "TypeError",
     "evalue": "'complex' object is not subscriptable",
     "output_type": "error",
     "traceback": [
      "\u001b[1;31m---------------------------------------------------------------------------\u001b[0m",
      "\u001b[1;31mTypeError\u001b[0m                                 Traceback (most recent call last)",
      "\u001b[1;32m<ipython-input-168-ee7d36d74dd5>\u001b[0m in \u001b[0;36m<module>\u001b[1;34m\u001b[0m\n\u001b[1;32m----> 1\u001b[1;33m \u001b[0mTuple\u001b[0m\u001b[1;33m[\u001b[0m\u001b[1;36m1\u001b[0m\u001b[1;33m]\u001b[0m\u001b[1;33m[\u001b[0m\u001b[1;36m0\u001b[0m\u001b[1;33m]\u001b[0m \u001b[1;31m#Its about the 1st index element 45+9j ie complex object & not subscriptable\u001b[0m\u001b[1;33m\u001b[0m\u001b[1;33m\u001b[0m\u001b[0m\n\u001b[0m",
      "\u001b[1;31mTypeError\u001b[0m: 'complex' object is not subscriptable"
     ]
    }
   ],
   "source": [
    "Tuple[1][0] #Its about the 1st index element 45+9j ie complex object & not subscriptable"
   ]
  },
  {
   "cell_type": "code",
   "execution_count": 169,
   "metadata": {},
   "outputs": [
    {
     "ename": "TypeError",
     "evalue": "'tuple' object is not callable",
     "output_type": "error",
     "traceback": [
      "\u001b[1;31m---------------------------------------------------------------------------\u001b[0m",
      "\u001b[1;31mTypeError\u001b[0m                                 Traceback (most recent call last)",
      "\u001b[1;32m<ipython-input-169-9aa3621a8053>\u001b[0m in \u001b[0;36m<module>\u001b[1;34m\u001b[0m\n\u001b[1;32m----> 1\u001b[1;33m \u001b[0mTuple\u001b[0m\u001b[1;33m(\u001b[0m\u001b[1;33m[\u001b[0m\u001b[1;36m0\u001b[0m\u001b[1;33m,\u001b[0m\u001b[1;36m1\u001b[0m\u001b[1;33m,\u001b[0m\u001b[1;36m2\u001b[0m\u001b[1;33m]\u001b[0m\u001b[1;33m)\u001b[0m \u001b[1;31m#Advanced indexing Works with Array Only, not with Tuple\u001b[0m\u001b[1;33m\u001b[0m\u001b[1;33m\u001b[0m\u001b[0m\n\u001b[0m",
      "\u001b[1;31mTypeError\u001b[0m: 'tuple' object is not callable"
     ]
    }
   ],
   "source": [
    "Tuple([0,1,2]) #Advanced indexing Works with Array Only, not with Tuple"
   ]
  },
  {
   "cell_type": "code",
   "execution_count": 170,
   "metadata": {},
   "outputs": [],
   "source": [
    "List=[\"KESHAV\",45+9j,True,39.69,39]"
   ]
  },
  {
   "cell_type": "code",
   "execution_count": 171,
   "metadata": {},
   "outputs": [
    {
     "data": {
      "text/plain": [
       "'KESHAV'"
      ]
     },
     "execution_count": 171,
     "metadata": {},
     "output_type": "execute_result"
    }
   ],
   "source": [
    "#Indexing in List\n",
    "List[0] #Shows the 0th index element"
   ]
  },
  {
   "cell_type": "code",
   "execution_count": 172,
   "metadata": {},
   "outputs": [
    {
     "data": {
      "text/plain": [
       "'H'"
      ]
     },
     "execution_count": 172,
     "metadata": {},
     "output_type": "execute_result"
    }
   ],
   "source": [
    "List[0][3] #Shows the 3rd index element of the 0th index element (\"KESHAV\"), ie letter H"
   ]
  },
  {
   "cell_type": "code",
   "execution_count": 173,
   "metadata": {},
   "outputs": [
    {
     "ename": "TypeError",
     "evalue": "'list' object is not callable",
     "output_type": "error",
     "traceback": [
      "\u001b[1;31m---------------------------------------------------------------------------\u001b[0m",
      "\u001b[1;31mTypeError\u001b[0m                                 Traceback (most recent call last)",
      "\u001b[1;32m<ipython-input-173-c7345dbc2a14>\u001b[0m in \u001b[0;36m<module>\u001b[1;34m\u001b[0m\n\u001b[1;32m----> 1\u001b[1;33m \u001b[0mList\u001b[0m\u001b[1;33m(\u001b[0m\u001b[1;33m[\u001b[0m\u001b[1;36m0\u001b[0m\u001b[1;33m,\u001b[0m\u001b[1;36m1\u001b[0m\u001b[1;33m,\u001b[0m\u001b[1;36m2\u001b[0m\u001b[1;33m]\u001b[0m\u001b[1;33m)\u001b[0m \u001b[1;31m#Advanced indexing Works with Array Only, not with List\u001b[0m\u001b[1;33m\u001b[0m\u001b[1;33m\u001b[0m\u001b[0m\n\u001b[0m",
      "\u001b[1;31mTypeError\u001b[0m: 'list' object is not callable"
     ]
    }
   ],
   "source": [
    "List([0,1,2]) #Advanced indexing Works with Array Only, not with List"
   ]
  },
  {
   "cell_type": "code",
   "execution_count": 174,
   "metadata": {},
   "outputs": [
    {
     "name": "stdout",
     "output_type": "stream",
     "text": [
      "[['KESHAV' '(45+9j)' 'True' '39.69' '39']\n",
      " ['10.1' 'Prashant' '(10+10j)' 'False' '10']]\n"
     ]
    }
   ],
   "source": [
    "#Creating 2D array from 2 lists\n",
    "#No of elements/length of each list should be same\n",
    "Array2D=array([[\"KESHAV\",45+9j,True,39.69,39],[10.10,'Prashant',10+10j,False,10]]) #Transforming nested list of 2 lists into Array\n",
    "print(Array2D)"
   ]
  },
  {
   "cell_type": "code",
   "execution_count": 175,
   "metadata": {},
   "outputs": [
    {
     "name": "stdout",
     "output_type": "stream",
     "text": [
      "[['KESHAV' '(45+9j)' 'True' '39.69' '39']\n",
      " ['10.1' 'Prashant' '(10+10j)' 'False' '10']]\n"
     ]
    }
   ],
   "source": [
    "#Creating 2D array from 2 lists\n",
    "#No of elements/length of each list should be same\n",
    "Array2D=array([[\"KESHAV\",45+9j,True,39.69,39],[10.10,'Prashant',10+10j,False,10]]) #Transforming nested list of 2 lists into Array\n",
    "print(Array2D)"
   ]
  },
  {
   "cell_type": "code",
   "execution_count": 176,
   "metadata": {},
   "outputs": [
    {
     "name": "stdout",
     "output_type": "stream",
     "text": [
      "[[['KESHAV' '(45+9j)' 'True' '39.69' '39']]\n",
      "\n",
      " [['10.1' 'Prashant' '(10+10j)' 'False' '10']]]\n"
     ]
    },
    {
     "data": {
      "text/plain": [
       "(None, 3, (2, 1, 5))"
      ]
     },
     "execution_count": 176,
     "metadata": {},
     "output_type": "execute_result"
    }
   ],
   "source": [
    "Array3D=array([[[\"KESHAV\",45+9j,True,39.69,39]],[[10.10,'Prashant',10+10j,False,10]]]) #Transforming nested list of 2 lists into Array\n",
    "print(Array3D),ndim(Array3D),shape(Array3D)"
   ]
  },
  {
   "cell_type": "markdown",
   "metadata": {},
   "source": [
    "## Indexingin in 2D array is Array2D[row index][col index]"
   ]
  },
  {
   "cell_type": "code",
   "execution_count": 177,
   "metadata": {},
   "outputs": [
    {
     "data": {
      "text/plain": [
       "'(10+10j)'"
      ]
     },
     "execution_count": 177,
     "metadata": {},
     "output_type": "execute_result"
    }
   ],
   "source": [
    "Array2D[1][2] # 1st Row index & 2nd Column index intersect"
   ]
  },
  {
   "cell_type": "code",
   "execution_count": 178,
   "metadata": {},
   "outputs": [
    {
     "data": {
      "text/plain": [
       "array(['(10+10j)'], dtype='<U8')"
      ]
     },
     "execution_count": 178,
     "metadata": {},
     "output_type": "execute_result"
    }
   ],
   "source": [
    "Array2D[[1],[2]] # 1st Row index & 2nd Column index intersect"
   ]
  },
  {
   "cell_type": "code",
   "execution_count": 179,
   "metadata": {},
   "outputs": [
    {
     "data": {
      "text/plain": [
       "'(10+10j)'"
      ]
     },
     "execution_count": 179,
     "metadata": {},
     "output_type": "execute_result"
    }
   ],
   "source": [
    "Array2D[1,2] # 1st Row index & 2nd Column index intersect"
   ]
  },
  {
   "cell_type": "code",
   "execution_count": 180,
   "metadata": {},
   "outputs": [
    {
     "data": {
      "text/plain": [
       "array([['KESHAV', '(45+9j)', 'True', '39.69', '39'],\n",
       "       ['10.1', 'Prashant', '(10+10j)', 'False', '10']], dtype='<U8')"
      ]
     },
     "execution_count": 180,
     "metadata": {},
     "output_type": "execute_result"
    }
   ],
   "source": [
    "Array2D[[0,1]] #Shows 0th Row & 1st Row for Array2D"
   ]
  },
  {
   "cell_type": "code",
   "execution_count": 181,
   "metadata": {},
   "outputs": [
    {
     "data": {
      "text/plain": [
       "array([['KESHAV', '(45+9j)', 'True', '39.69', '39'],\n",
       "       ['10.1', 'Prashant', '(10+10j)', 'False', '10']], dtype='<U8')"
      ]
     },
     "execution_count": 181,
     "metadata": {},
     "output_type": "execute_result"
    }
   ],
   "source": [
    "Array2D[[0,1],:] #Shows 0th Row & 1st Row for Array2D"
   ]
  },
  {
   "cell_type": "code",
   "execution_count": 182,
   "metadata": {},
   "outputs": [
    {
     "data": {
      "text/plain": [
       "array([['KESHAV', '(45+9j)', 'True', '39.69', '39'],\n",
       "       ['10.1', 'Prashant', '(10+10j)', 'False', '10']], dtype='<U8')"
      ]
     },
     "execution_count": 182,
     "metadata": {},
     "output_type": "execute_result"
    }
   ],
   "source": [
    "Array2D[0:2,:] #Shows 0th Row & 1st Row for Array2D"
   ]
  },
  {
   "cell_type": "code",
   "execution_count": 183,
   "metadata": {},
   "outputs": [
    {
     "data": {
      "text/plain": [
       "array([['KESHAV', '(45+9j)', 'True', '39.69', '39'],\n",
       "       ['10.1', 'Prashant', '(10+10j)', 'False', '10']], dtype='<U8')"
      ]
     },
     "execution_count": 183,
     "metadata": {},
     "output_type": "execute_result"
    }
   ],
   "source": [
    "Array2D[[0,1],] #Shows 0th Row & 1st Row for Array2D"
   ]
  },
  {
   "cell_type": "code",
   "execution_count": 184,
   "metadata": {},
   "outputs": [
    {
     "data": {
      "text/plain": [
       "array([['KESHAV', '(45+9j)', 'True', '39.69', '39'],\n",
       "       ['10.1', 'Prashant', '(10+10j)', 'False', '10']], dtype='<U8')"
      ]
     },
     "execution_count": 184,
     "metadata": {},
     "output_type": "execute_result"
    }
   ],
   "source": [
    "Array2D[:,[0,1,2,3,4]] #Shows all Rows & 0th,1st,2nd,3rd & 4th cols"
   ]
  },
  {
   "cell_type": "code",
   "execution_count": 185,
   "metadata": {},
   "outputs": [
    {
     "data": {
      "text/plain": [
       "array(['True', 'False'], dtype='<U8')"
      ]
     },
     "execution_count": 185,
     "metadata": {},
     "output_type": "execute_result"
    }
   ],
   "source": [
    "Array2D[[0,1],[2,3]] #0th Row index with 2nd col index, True\n",
    "                     #1st Row index with 3rd col index, False"
   ]
  },
  {
   "cell_type": "code",
   "execution_count": 186,
   "metadata": {},
   "outputs": [
    {
     "data": {
      "text/plain": [
       "array([['True', '39.69'],\n",
       "       ['(10+10j)', 'False']], dtype='<U8')"
      ]
     },
     "execution_count": 186,
     "metadata": {},
     "output_type": "execute_result"
    }
   ],
   "source": [
    "Array2D[0:2,2:4] #0th Row index & 1st Row index with 2nd Column index & 3rd Column index...\n",
    "                 #here 2nd is upper boundary of Row index & 4th is upper boundary of Column index"
   ]
  },
  {
   "cell_type": "code",
   "execution_count": 187,
   "metadata": {},
   "outputs": [
    {
     "data": {
      "text/plain": [
       "array([['True', '39.69'],\n",
       "       ['(10+10j)', 'False']], dtype='<U8')"
      ]
     },
     "execution_count": 187,
     "metadata": {},
     "output_type": "execute_result"
    }
   ],
   "source": [
    "Array2D[0:2,[2,3]] #0th Row index & 1st Row index with 2nd Column index & 3rd Column index... here 2nd is upper boundary of Row index"
   ]
  },
  {
   "cell_type": "code",
   "execution_count": 188,
   "metadata": {},
   "outputs": [
    {
     "data": {
      "text/plain": [
       "array([['True', '39.69'],\n",
       "       ['(10+10j)', 'False']], dtype='<U8')"
      ]
     },
     "execution_count": 188,
     "metadata": {},
     "output_type": "execute_result"
    }
   ],
   "source": [
    "Array2D[[0,1],2:4] #0th Row index & 1st Row index with 2nd Column index & 3rd Column index... here 4th is upper boundary of col index"
   ]
  },
  {
   "cell_type": "code",
   "execution_count": 189,
   "metadata": {},
   "outputs": [
    {
     "data": {
      "text/plain": [
       "array([['True'],\n",
       "       ['(10+10j)']], dtype='<U8')"
      ]
     },
     "execution_count": 189,
     "metadata": {},
     "output_type": "execute_result"
    }
   ],
   "source": [
    "Array2D[[0,1],2:3] #Shows 2nd col index of 0th Row index & 1st Row index, 3rd is upper boundary of col index"
   ]
  },
  {
   "cell_type": "code",
   "execution_count": 190,
   "metadata": {},
   "outputs": [
    {
     "data": {
      "text/plain": [
       "array(['True', '(10+10j)'], dtype='<U8')"
      ]
     },
     "execution_count": 190,
     "metadata": {},
     "output_type": "execute_result"
    }
   ],
   "source": [
    "Array2D[[0,1],[2]] #Shows only 2nd col index of 0th Row index & 1st Row index"
   ]
  },
  {
   "cell_type": "code",
   "execution_count": 191,
   "metadata": {},
   "outputs": [
    {
     "data": {
      "text/plain": [
       "array(['True', '(10+10j)'], dtype='<U8')"
      ]
     },
     "execution_count": 191,
     "metadata": {},
     "output_type": "execute_result"
    }
   ],
   "source": [
    "Array2D[[0,1],2] #Shows only 2nd col index of 0th Row index & 1st Row index"
   ]
  },
  {
   "cell_type": "code",
   "execution_count": 192,
   "metadata": {},
   "outputs": [
    {
     "data": {
      "text/plain": [
       "array([['KESHAV', '(45+9j)', 'True', '39.69', '39'],\n",
       "       ['10.1', 'Prashant', '(10+10j)', 'False', '10']], dtype='<U8')"
      ]
     },
     "execution_count": 192,
     "metadata": {},
     "output_type": "execute_result"
    }
   ],
   "source": [
    "Array2D[[0,1],0:5] #Shows from 0th to 4th col index of 0th Row index & 1st Row index"
   ]
  },
  {
   "cell_type": "code",
   "execution_count": 193,
   "metadata": {},
   "outputs": [
    {
     "data": {
      "text/plain": [
       "array([['KESHAV', '(45+9j)', 'True', '39.69', '39'],\n",
       "       ['10.1', 'Prashant', '(10+10j)', 'False', '10']], dtype='<U8')"
      ]
     },
     "execution_count": 193,
     "metadata": {},
     "output_type": "execute_result"
    }
   ],
   "source": [
    "Array2D[0:2,0:5] #Shows from 0th to 4th col index of 0th Row index & 1st Row index...\n",
    "                 #2nd is Row index upper boundary & 5th is Column index upper boundary"
   ]
  },
  {
   "cell_type": "code",
   "execution_count": 194,
   "metadata": {},
   "outputs": [
    {
     "data": {
      "text/plain": [
       "array([['KESHAV', '(45+9j)', 'True', '39.69', '39'],\n",
       "       ['10.1', 'Prashant', '(10+10j)', 'False', '10']], dtype='<U8')"
      ]
     },
     "execution_count": 194,
     "metadata": {},
     "output_type": "execute_result"
    }
   ],
   "source": [
    "Array2D[0:2,[0,1,2,3,4]] #Shows from 0th to 4th col index of 0th Row index & 1st Row index"
   ]
  },
  {
   "cell_type": "code",
   "execution_count": 195,
   "metadata": {},
   "outputs": [
    {
     "data": {
      "text/plain": [
       "array([['True', '39.69'],\n",
       "       ['(10+10j)', 'False']], dtype='<U8')"
      ]
     },
     "execution_count": 195,
     "metadata": {},
     "output_type": "execute_result"
    }
   ],
   "source": [
    "Array2D[:,[2,3]] #Shows only 2nd & 3rd col index along with all Rows"
   ]
  },
  {
   "cell_type": "code",
   "execution_count": 196,
   "metadata": {},
   "outputs": [
    {
     "data": {
      "text/plain": [
       "array([['KESHAV', '(45+9j)', 'True', '39.69', '39'],\n",
       "       ['10.1', 'Prashant', '(10+10j)', 'False', '10']], dtype='<U8')"
      ]
     },
     "execution_count": 196,
     "metadata": {},
     "output_type": "execute_result"
    }
   ],
   "source": [
    "Array2D[:,0:5] #Shows Columns from 0th col index to 4th col index along with all Rows, 5th is upper bound index of col"
   ]
  },
  {
   "cell_type": "code",
   "execution_count": 197,
   "metadata": {},
   "outputs": [
    {
     "data": {
      "text/plain": [
       "array([['KESHAV', '39'],\n",
       "       ['10.1', '10']], dtype='<U8')"
      ]
     },
     "execution_count": 197,
     "metadata": {},
     "output_type": "execute_result"
    }
   ],
   "source": [
    "Array2D[:,[0,4]] #Shows only 0th & 4th col index along with all Rows"
   ]
  },
  {
   "cell_type": "code",
   "execution_count": 198,
   "metadata": {},
   "outputs": [
    {
     "data": {
      "text/plain": [
       "array([['39'],\n",
       "       ['10']], dtype='<U8')"
      ]
     },
     "execution_count": 198,
     "metadata": {},
     "output_type": "execute_result"
    }
   ],
   "source": [
    "Array2D[:,4:5] #Shows 4th col index only along with all Rows, 5th is upper bound of col index"
   ]
  },
  {
   "cell_type": "code",
   "execution_count": 199,
   "metadata": {},
   "outputs": [
    {
     "data": {
      "text/plain": [
       "array([['39'],\n",
       "       ['10']], dtype='<U8')"
      ]
     },
     "execution_count": 199,
     "metadata": {},
     "output_type": "execute_result"
    }
   ],
   "source": [
    "Array2D[:,[4]] #Shows 4th col index only, along with all Rows"
   ]
  },
  {
   "cell_type": "code",
   "execution_count": 200,
   "metadata": {},
   "outputs": [
    {
     "data": {
      "text/plain": [
       "'(10+10j)'"
      ]
     },
     "execution_count": 200,
     "metadata": {},
     "output_type": "execute_result"
    }
   ],
   "source": [
    "Array2D[1][-3]"
   ]
  },
  {
   "cell_type": "code",
   "execution_count": 201,
   "metadata": {},
   "outputs": [
    {
     "data": {
      "text/plain": [
       "array(['(10+10j)'], dtype='<U8')"
      ]
     },
     "execution_count": 201,
     "metadata": {},
     "output_type": "execute_result"
    }
   ],
   "source": [
    "Array2D[[1],[-3]]"
   ]
  },
  {
   "cell_type": "code",
   "execution_count": 202,
   "metadata": {},
   "outputs": [
    {
     "data": {
      "text/plain": [
       "'(10+10j)'"
      ]
     },
     "execution_count": 202,
     "metadata": {},
     "output_type": "execute_result"
    }
   ],
   "source": [
    "Array2D[1,-3]"
   ]
  },
  {
   "cell_type": "code",
   "execution_count": 203,
   "metadata": {},
   "outputs": [
    {
     "data": {
      "text/plain": [
       "'(10+10j)'"
      ]
     },
     "execution_count": 203,
     "metadata": {},
     "output_type": "execute_result"
    }
   ],
   "source": [
    "Array2D[-1][2]"
   ]
  },
  {
   "cell_type": "code",
   "execution_count": 204,
   "metadata": {},
   "outputs": [
    {
     "data": {
      "text/plain": [
       "array(['(10+10j)'], dtype='<U8')"
      ]
     },
     "execution_count": 204,
     "metadata": {},
     "output_type": "execute_result"
    }
   ],
   "source": [
    "Array2D[[-1],[2]]"
   ]
  },
  {
   "cell_type": "code",
   "execution_count": 205,
   "metadata": {},
   "outputs": [
    {
     "data": {
      "text/plain": [
       "'(10+10j)'"
      ]
     },
     "execution_count": 205,
     "metadata": {},
     "output_type": "execute_result"
    }
   ],
   "source": [
    "Array2D[-1,2]"
   ]
  },
  {
   "cell_type": "code",
   "execution_count": 206,
   "metadata": {},
   "outputs": [
    {
     "data": {
      "text/plain": [
       "'(10+10j)'"
      ]
     },
     "execution_count": 206,
     "metadata": {},
     "output_type": "execute_result"
    }
   ],
   "source": [
    "Array2D[-1][-3]"
   ]
  },
  {
   "cell_type": "code",
   "execution_count": 207,
   "metadata": {},
   "outputs": [
    {
     "data": {
      "text/plain": [
       "array(['(10+10j)'], dtype='<U8')"
      ]
     },
     "execution_count": 207,
     "metadata": {},
     "output_type": "execute_result"
    }
   ],
   "source": [
    "Array2D[[-1],[-3]]"
   ]
  },
  {
   "cell_type": "code",
   "execution_count": 208,
   "metadata": {},
   "outputs": [
    {
     "data": {
      "text/plain": [
       "'(10+10j)'"
      ]
     },
     "execution_count": 208,
     "metadata": {},
     "output_type": "execute_result"
    }
   ],
   "source": [
    "Array2D[-1,-3]"
   ]
  },
  {
   "cell_type": "markdown",
   "metadata": {},
   "source": [
    "## Indexing in 3D Array is Array3D[array index][row index][col index]"
   ]
  },
  {
   "cell_type": "code",
   "execution_count": 209,
   "metadata": {},
   "outputs": [
    {
     "name": "stdout",
     "output_type": "stream",
     "text": [
      "[[['KESHAV' '(45+9j)' 'True' '39.69' '39']\n",
      "  ['10.1' 'Prashant' '(10+10j)' 'False' '10']]\n",
      "\n",
      " [['RAGHAV' '(49+9j)' 'True' '36.69' '36']\n",
      "  ['10.16' 'Prashant' '(19+10j)' 'False' '17']]]\n"
     ]
    },
    {
     "data": {
      "text/plain": [
       "(None, (2, 2, 5), 20, numpy.ndarray, 3, dtype('<U8'))"
      ]
     },
     "execution_count": 209,
     "metadata": {},
     "output_type": "execute_result"
    }
   ],
   "source": [
    "#Creating 3D Array of Lists\n",
    "Array3D=array([[[\"KESHAV\",45+9j,True,39.69,39],[10.10,'Prashant',10+10j,False,10]],[[\"RAGHAV\",49+9j,True,36.69,36],[10.16,'Prashant',19+10j,False,17]]])\n",
    "print(Array3D),shape(Array3D),size(Array3D),type(Array3D),ndim(Array3D),Array3D.dtype"
   ]
  },
  {
   "cell_type": "code",
   "execution_count": 210,
   "metadata": {},
   "outputs": [
    {
     "data": {
      "text/plain": [
       "3"
      ]
     },
     "execution_count": 210,
     "metadata": {},
     "output_type": "execute_result"
    }
   ],
   "source": [
    "ndim(Array3D)"
   ]
  },
  {
   "cell_type": "code",
   "execution_count": 211,
   "metadata": {},
   "outputs": [
    {
     "data": {
      "text/plain": [
       "(2, 2, 5)"
      ]
     },
     "execution_count": 211,
     "metadata": {},
     "output_type": "execute_result"
    }
   ],
   "source": [
    "shape(Array3D) #2 Arrays, 2 Rows, 5 cols"
   ]
  },
  {
   "cell_type": "code",
   "execution_count": 212,
   "metadata": {},
   "outputs": [
    {
     "data": {
      "text/plain": [
       "20"
      ]
     },
     "execution_count": 212,
     "metadata": {},
     "output_type": "execute_result"
    }
   ],
   "source": [
    "size(Array3D)"
   ]
  },
  {
   "cell_type": "code",
   "execution_count": 213,
   "metadata": {},
   "outputs": [
    {
     "data": {
      "text/plain": [
       "'(19+10j)'"
      ]
     },
     "execution_count": 213,
     "metadata": {},
     "output_type": "execute_result"
    }
   ],
   "source": [
    "Array3D[1][1][2]"
   ]
  },
  {
   "cell_type": "code",
   "execution_count": 214,
   "metadata": {},
   "outputs": [
    {
     "data": {
      "text/plain": [
       "array([[['KESHAV', '(45+9j)', 'True', '39.69', '39'],\n",
       "        ['10.1', 'Prashant', '(10+10j)', 'False', '10']],\n",
       "\n",
       "       [['RAGHAV', '(49+9j)', 'True', '36.69', '36'],\n",
       "        ['10.16', 'Prashant', '(19+10j)', 'False', '17']]], dtype='<U8')"
      ]
     },
     "execution_count": 214,
     "metadata": {},
     "output_type": "execute_result"
    }
   ],
   "source": [
    "Array3D[[0,1]] #Shows 0th index Array & 1st index Array for Array3D"
   ]
  },
  {
   "cell_type": "code",
   "execution_count": 215,
   "metadata": {},
   "outputs": [
    {
     "data": {
      "text/plain": [
       "array([[['KESHAV', '(45+9j)', 'True', '39.69', '39'],\n",
       "        ['10.1', 'Prashant', '(10+10j)', 'False', '10']],\n",
       "\n",
       "       [['RAGHAV', '(49+9j)', 'True', '36.69', '36'],\n",
       "        ['10.16', 'Prashant', '(19+10j)', 'False', '17']]], dtype='<U8')"
      ]
     },
     "execution_count": 215,
     "metadata": {},
     "output_type": "execute_result"
    }
   ],
   "source": [
    "Array3D[[0,1],:,:] #Shows 0th index Array & 1st index Array for Array3D"
   ]
  },
  {
   "cell_type": "code",
   "execution_count": 216,
   "metadata": {},
   "outputs": [
    {
     "data": {
      "text/plain": [
       "array([[['KESHAV', '(45+9j)', 'True', '39.69', '39'],\n",
       "        ['10.1', 'Prashant', '(10+10j)', 'False', '10']],\n",
       "\n",
       "       [['RAGHAV', '(49+9j)', 'True', '36.69', '36'],\n",
       "        ['10.16', 'Prashant', '(19+10j)', 'False', '17']]], dtype='<U8')"
      ]
     },
     "execution_count": 216,
     "metadata": {},
     "output_type": "execute_result"
    }
   ],
   "source": [
    "Array3D[0:2] #Shows 0th index Array & 1st index Array for Array3D, 2 is upper bound for Array index"
   ]
  },
  {
   "cell_type": "code",
   "execution_count": 217,
   "metadata": {},
   "outputs": [
    {
     "data": {
      "text/plain": [
       "array([[['KESHAV', '(45+9j)', 'True', '39.69', '39'],\n",
       "        ['10.1', 'Prashant', '(10+10j)', 'False', '10']],\n",
       "\n",
       "       [['RAGHAV', '(49+9j)', 'True', '36.69', '36'],\n",
       "        ['10.16', 'Prashant', '(19+10j)', 'False', '17']]], dtype='<U8')"
      ]
     },
     "execution_count": 217,
     "metadata": {},
     "output_type": "execute_result"
    }
   ],
   "source": [
    "Array3D[0:2,:,:] #Shows 0th index Array & 1st index Array for Array3D, 2 is upper bound for Array index"
   ]
  },
  {
   "cell_type": "code",
   "execution_count": 218,
   "metadata": {},
   "outputs": [
    {
     "data": {
      "text/plain": [
       "array(['10.1', 'Prashant', '(10+10j)', 'False', '10'], dtype='<U8')"
      ]
     },
     "execution_count": 218,
     "metadata": {},
     "output_type": "execute_result"
    }
   ],
   "source": [
    "Array3D[0,1] #0th Array index & 1st Row index of it"
   ]
  },
  {
   "cell_type": "code",
   "execution_count": 219,
   "metadata": {},
   "outputs": [
    {
     "data": {
      "text/plain": [
       "array(['KESHAV', '(45+9j)', 'True', '39.69', '39'], dtype='<U8')"
      ]
     },
     "execution_count": 219,
     "metadata": {},
     "output_type": "execute_result"
    }
   ],
   "source": [
    "Array3D[0,0] #0th Array index & 0th Row index of it"
   ]
  },
  {
   "cell_type": "code",
   "execution_count": 220,
   "metadata": {},
   "outputs": [
    {
     "data": {
      "text/plain": [
       "array(['10.16', 'Prashant', '(19+10j)', 'False', '17'], dtype='<U8')"
      ]
     },
     "execution_count": 220,
     "metadata": {},
     "output_type": "execute_result"
    }
   ],
   "source": [
    "Array3D[1,1] #1st Array index & 1st Row index of it"
   ]
  },
  {
   "cell_type": "code",
   "execution_count": 221,
   "metadata": {},
   "outputs": [
    {
     "data": {
      "text/plain": [
       "array(['RAGHAV', '(49+9j)', 'True', '36.69', '36'], dtype='<U8')"
      ]
     },
     "execution_count": 221,
     "metadata": {},
     "output_type": "execute_result"
    }
   ],
   "source": [
    "Array3D[1,0] #1st Array index & 0th Row index of it"
   ]
  },
  {
   "cell_type": "code",
   "execution_count": 222,
   "metadata": {},
   "outputs": [
    {
     "data": {
      "text/plain": [
       "array([[['True', '39.69'],\n",
       "        ['(10+10j)', 'False']],\n",
       "\n",
       "       [['True', '36.69'],\n",
       "        ['(19+10j)', 'False']]], dtype='<U8')"
      ]
     },
     "execution_count": 222,
     "metadata": {},
     "output_type": "execute_result"
    }
   ],
   "source": [
    "Array3D[:,:,[2,3]] #Shows only 2nd & 3rd col index along with all Rows & All Arrays"
   ]
  },
  {
   "cell_type": "code",
   "execution_count": 223,
   "metadata": {},
   "outputs": [
    {
     "data": {
      "text/plain": [
       "array([[['KESHAV', '(45+9j)', 'True', '39.69', '39'],\n",
       "        ['10.1', 'Prashant', '(10+10j)', 'False', '10']],\n",
       "\n",
       "       [['RAGHAV', '(49+9j)', 'True', '36.69', '36'],\n",
       "        ['10.16', 'Prashant', '(19+10j)', 'False', '17']]], dtype='<U8')"
      ]
     },
     "execution_count": 223,
     "metadata": {},
     "output_type": "execute_result"
    }
   ],
   "source": [
    "Array3D[:,0:2] #Shows Rows from 0th index to 1st index along with all Cols & all Arrays, 2nd is upper bound for Row index"
   ]
  },
  {
   "cell_type": "code",
   "execution_count": 224,
   "metadata": {},
   "outputs": [
    {
     "data": {
      "text/plain": [
       "array([[['KESHAV', '(45+9j)', 'True', '39.69', '39'],\n",
       "        ['10.1', 'Prashant', '(10+10j)', 'False', '10']],\n",
       "\n",
       "       [['RAGHAV', '(49+9j)', 'True', '36.69', '36'],\n",
       "        ['10.16', 'Prashant', '(19+10j)', 'False', '17']]], dtype='<U8')"
      ]
     },
     "execution_count": 224,
     "metadata": {},
     "output_type": "execute_result"
    }
   ],
   "source": [
    "Array3D[:,0:2,:] #Shows Rows from 0th index to 1st index along with all Cols & all Arrays, 2nd is upper bound for Row index"
   ]
  },
  {
   "cell_type": "code",
   "execution_count": 225,
   "metadata": {},
   "outputs": [
    {
     "data": {
      "text/plain": [
       "array([[['KESHAV', '(45+9j)', 'True', '39.69', '39'],\n",
       "        ['10.1', 'Prashant', '(10+10j)', 'False', '10']],\n",
       "\n",
       "       [['RAGHAV', '(49+9j)', 'True', '36.69', '36'],\n",
       "        ['10.16', 'Prashant', '(19+10j)', 'False', '17']]], dtype='<U8')"
      ]
     },
     "execution_count": 225,
     "metadata": {},
     "output_type": "execute_result"
    }
   ],
   "source": [
    "Array3D[:,[0,1],:] #Shows 0th & 1st Row index along with all Arrays & all cols"
   ]
  },
  {
   "cell_type": "code",
   "execution_count": 226,
   "metadata": {},
   "outputs": [
    {
     "data": {
      "text/plain": [
       "array([[['KESHAV', '39'],\n",
       "        ['10.1', '10']],\n",
       "\n",
       "       [['RAGHAV', '36'],\n",
       "        ['10.16', '17']]], dtype='<U8')"
      ]
     },
     "execution_count": 226,
     "metadata": {},
     "output_type": "execute_result"
    }
   ],
   "source": [
    "Array3D[:,:,[0,4]] #Shows only 0th & 4th col index along with all Rows & all Arrays"
   ]
  },
  {
   "cell_type": "code",
   "execution_count": 227,
   "metadata": {},
   "outputs": [
    {
     "data": {
      "text/plain": [
       "array([[['KESHAV', '(45+9j)', 'True', '39.69', '39']],\n",
       "\n",
       "       [['RAGHAV', '(49+9j)', 'True', '36.69', '36']]], dtype='<U8')"
      ]
     },
     "execution_count": 227,
     "metadata": {},
     "output_type": "execute_result"
    }
   ],
   "source": [
    "Array3D[:,[0]] #Shows only 0th Row of all Arrays along with all Columns"
   ]
  },
  {
   "cell_type": "code",
   "execution_count": 228,
   "metadata": {},
   "outputs": [
    {
     "data": {
      "text/plain": [
       "array([[['10.1', 'Prashant', '(10+10j)', 'False', '10']],\n",
       "\n",
       "       [['10.16', 'Prashant', '(19+10j)', 'False', '17']]], dtype='<U8')"
      ]
     },
     "execution_count": 228,
     "metadata": {},
     "output_type": "execute_result"
    }
   ],
   "source": [
    "Array3D[:,[1]] #Shows only 1st Row of all Arrays along with all Columns"
   ]
  },
  {
   "cell_type": "code",
   "execution_count": 229,
   "metadata": {},
   "outputs": [
    {
     "data": {
      "text/plain": [
       "array([[['KESHAV', '(45+9j)', 'True', '39.69', '39'],\n",
       "        ['10.1', 'Prashant', '(10+10j)', 'False', '10']],\n",
       "\n",
       "       [['RAGHAV', '(49+9j)', 'True', '36.69', '36'],\n",
       "        ['10.16', 'Prashant', '(19+10j)', 'False', '17']]], dtype='<U8')"
      ]
     },
     "execution_count": 229,
     "metadata": {},
     "output_type": "execute_result"
    }
   ],
   "source": [
    "Array3D[:,:,0:5] #Shows Columns from 0th col index to 4th col index & all Rows & all Arrays, 5th is upper bound for col index"
   ]
  },
  {
   "cell_type": "code",
   "execution_count": 230,
   "metadata": {},
   "outputs": [
    {
     "data": {
      "text/plain": [
       "array([[['39.69'],\n",
       "        ['False']],\n",
       "\n",
       "       [['36.69'],\n",
       "        ['False']]], dtype='<U8')"
      ]
     },
     "execution_count": 230,
     "metadata": {},
     "output_type": "execute_result"
    }
   ],
   "source": [
    "Array3D[:,:,3:4] #Shows only 3rd col index & all Rows & all Arrays, 4th is upper bound for col index"
   ]
  },
  {
   "cell_type": "code",
   "execution_count": 231,
   "metadata": {},
   "outputs": [
    {
     "data": {
      "text/plain": [
       "array([[['39.69'],\n",
       "        ['False']],\n",
       "\n",
       "       [['36.69'],\n",
       "        ['False']]], dtype='<U8')"
      ]
     },
     "execution_count": 231,
     "metadata": {},
     "output_type": "execute_result"
    }
   ],
   "source": [
    "Array3D[:,:,[3]] #Shows only 3rd col index only along with all Arrays & all Rows"
   ]
  },
  {
   "cell_type": "code",
   "execution_count": 232,
   "metadata": {},
   "outputs": [
    {
     "data": {
      "text/plain": [
       "array([[['39.69', '39'],\n",
       "        ['False', '10']],\n",
       "\n",
       "       [['36.69', '36'],\n",
       "        ['False', '17']]], dtype='<U8')"
      ]
     },
     "execution_count": 232,
     "metadata": {},
     "output_type": "execute_result"
    }
   ],
   "source": [
    "Array3D[:,:,[3,4]] #Shows only 3rd col index & 4th col index along with all Arrays & all Rows"
   ]
  },
  {
   "cell_type": "code",
   "execution_count": 233,
   "metadata": {},
   "outputs": [
    {
     "data": {
      "text/plain": [
       "array(['True', 'False'], dtype='<U8')"
      ]
     },
     "execution_count": 233,
     "metadata": {},
     "output_type": "execute_result"
    }
   ],
   "source": [
    "Array3D[[0,1],[0,1],[2,3]] #0th Array index with 0th Row index with 2nd col index, True\n",
    "                           #1st Array index with 1st Row index with 3rd col index, False"
   ]
  },
  {
   "cell_type": "code",
   "execution_count": 234,
   "metadata": {},
   "outputs": [
    {
     "data": {
      "text/plain": [
       "array([['KESHAV', '(45+9j)', 'True', '39.69', '39'],\n",
       "       ['10.16', 'Prashant', '(19+10j)', 'False', '17']], dtype='<U8')"
      ]
     },
     "execution_count": 234,
     "metadata": {},
     "output_type": "execute_result"
    }
   ],
   "source": [
    "Array3D[[0,1],[0,1],0:5] #0th Array index with 0th Row index of it & from 0th col to 4th col index\n",
    "                         #1st Array index with 1st Row index of it & from 0th col to 4th col index"
   ]
  },
  {
   "cell_type": "code",
   "execution_count": 235,
   "metadata": {},
   "outputs": [
    {
     "data": {
      "text/plain": [
       "array(['(19+10j)'], dtype='<U8')"
      ]
     },
     "execution_count": 235,
     "metadata": {},
     "output_type": "execute_result"
    }
   ],
   "source": [
    "Array3D[[1],[1],[2]] #1st Array index with 1st Row index with 2nd col index"
   ]
  },
  {
   "cell_type": "code",
   "execution_count": 236,
   "metadata": {},
   "outputs": [
    {
     "data": {
      "text/plain": [
       "'(19+10j)'"
      ]
     },
     "execution_count": 236,
     "metadata": {},
     "output_type": "execute_result"
    }
   ],
   "source": [
    "Array3D[1,1,2]"
   ]
  },
  {
   "cell_type": "code",
   "execution_count": 237,
   "metadata": {},
   "outputs": [
    {
     "data": {
      "text/plain": [
       "'(19+10j)'"
      ]
     },
     "execution_count": 237,
     "metadata": {},
     "output_type": "execute_result"
    }
   ],
   "source": [
    "Array3D[-1][-1][-3]"
   ]
  },
  {
   "cell_type": "code",
   "execution_count": 238,
   "metadata": {},
   "outputs": [
    {
     "data": {
      "text/plain": [
       "array(['(19+10j)'], dtype='<U8')"
      ]
     },
     "execution_count": 238,
     "metadata": {},
     "output_type": "execute_result"
    }
   ],
   "source": [
    "Array3D[[-1],[-1],[-3]]"
   ]
  },
  {
   "cell_type": "code",
   "execution_count": 239,
   "metadata": {},
   "outputs": [
    {
     "data": {
      "text/plain": [
       "'(19+10j)'"
      ]
     },
     "execution_count": 239,
     "metadata": {},
     "output_type": "execute_result"
    }
   ],
   "source": [
    "Array3D[-1,-1,-3]"
   ]
  },
  {
   "cell_type": "code",
   "execution_count": 240,
   "metadata": {},
   "outputs": [
    {
     "data": {
      "text/plain": [
       "'(19+10j)'"
      ]
     },
     "execution_count": 240,
     "metadata": {},
     "output_type": "execute_result"
    }
   ],
   "source": [
    "Array3D[1][-1][2]"
   ]
  },
  {
   "cell_type": "code",
   "execution_count": 241,
   "metadata": {},
   "outputs": [
    {
     "data": {
      "text/plain": [
       "array(['(19+10j)'], dtype='<U8')"
      ]
     },
     "execution_count": 241,
     "metadata": {},
     "output_type": "execute_result"
    }
   ],
   "source": [
    "Array3D[[1],[-1],[2]]"
   ]
  },
  {
   "cell_type": "code",
   "execution_count": 242,
   "metadata": {},
   "outputs": [
    {
     "data": {
      "text/plain": [
       "'(19+10j)'"
      ]
     },
     "execution_count": 242,
     "metadata": {},
     "output_type": "execute_result"
    }
   ],
   "source": [
    "Array3D[1,-1,2]"
   ]
  },
  {
   "cell_type": "code",
   "execution_count": 243,
   "metadata": {},
   "outputs": [
    {
     "data": {
      "text/plain": [
       "'(19+10j)'"
      ]
     },
     "execution_count": 243,
     "metadata": {},
     "output_type": "execute_result"
    }
   ],
   "source": [
    "Array3D[-1][1][-3]"
   ]
  },
  {
   "cell_type": "code",
   "execution_count": 244,
   "metadata": {},
   "outputs": [
    {
     "data": {
      "text/plain": [
       "array(['(19+10j)'], dtype='<U8')"
      ]
     },
     "execution_count": 244,
     "metadata": {},
     "output_type": "execute_result"
    }
   ],
   "source": [
    "Array3D[[-1],[1],[-3]]"
   ]
  },
  {
   "cell_type": "code",
   "execution_count": 245,
   "metadata": {},
   "outputs": [
    {
     "data": {
      "text/plain": [
       "'(19+10j)'"
      ]
     },
     "execution_count": 245,
     "metadata": {},
     "output_type": "execute_result"
    }
   ],
   "source": [
    "Array3D[-1,1,-3]"
   ]
  },
  {
   "cell_type": "code",
   "execution_count": 246,
   "metadata": {},
   "outputs": [
    {
     "name": "stdout",
     "output_type": "stream",
     "text": [
      "(19+10j) ['(19+10j)'] (19+10j) (19+10j) ['(19+10j)'] (19+10j) (19+10j) ['(19+10j)'] (19+10j) (19+10j) ['(19+10j)'] (19+10j)\n"
     ]
    }
   ],
   "source": [
    "print(Array3D[1][1][2],Array3D[[1],[1],[2]],Array3D[1,1,2],Array3D[-1][-1][-3],Array3D[[-1],[-1],[-3]],Array3D[-1,-1,-3],Array3D[1][-1][2],Array3D[[1],[-1],[2]],Array3D[1,-1,2],Array3D[-1][1][-3],Array3D[[-1],[1],[-3]],Array3D[-1,1,-3])"
   ]
  },
  {
   "cell_type": "code",
   "execution_count": 247,
   "metadata": {},
   "outputs": [
    {
     "name": "stdout",
     "output_type": "stream",
     "text": [
      "[[['KESHAV' '(45+9j)' 'True' '39.69' '39']\n",
      "  ['10.1' 'Prashant' '(10+10j)' 'False' '10']]\n",
      "\n",
      " [['RAGHAV' '(49+9j)' 'True' '36.69' '36']\n",
      "  ['10.16' 'Prashant' '(19+10j)' 'False' '17']]]\n"
     ]
    },
    {
     "data": {
      "text/plain": [
       "(None, (2, 2, 5), 20, numpy.ndarray, 3, dtype('<U8'))"
      ]
     },
     "execution_count": 247,
     "metadata": {},
     "output_type": "execute_result"
    }
   ],
   "source": [
    "#Creating 3D Array of Tuples\n",
    "Array3D=array((((\"KESHAV\",45+9j,True,39.69,39),(10.10,'Prashant',10+10j,False,10)),((\"RAGHAV\",49+9j,True,36.69,36),(10.16,'Prashant',19+10j,False,17))))\n",
    "print(Array3D),shape(Array3D),size(Array3D),type(Array3D),ndim(Array3D),Array3D.dtype"
   ]
  },
  {
   "cell_type": "code",
   "execution_count": 248,
   "metadata": {},
   "outputs": [
    {
     "data": {
      "text/plain": [
       "3"
      ]
     },
     "execution_count": 248,
     "metadata": {},
     "output_type": "execute_result"
    }
   ],
   "source": [
    "ndim(Array3D)"
   ]
  },
  {
   "cell_type": "code",
   "execution_count": 249,
   "metadata": {},
   "outputs": [
    {
     "data": {
      "text/plain": [
       "(2, 2, 5)"
      ]
     },
     "execution_count": 249,
     "metadata": {},
     "output_type": "execute_result"
    }
   ],
   "source": [
    "shape(Array3D) #2 Arrays, 2 Rows, 5 cols"
   ]
  },
  {
   "cell_type": "code",
   "execution_count": 250,
   "metadata": {},
   "outputs": [
    {
     "data": {
      "text/plain": [
       "20"
      ]
     },
     "execution_count": 250,
     "metadata": {},
     "output_type": "execute_result"
    }
   ],
   "source": [
    "size(Array3D)"
   ]
  },
  {
   "cell_type": "code",
   "execution_count": 251,
   "metadata": {},
   "outputs": [
    {
     "data": {
      "text/plain": [
       "'(19+10j)'"
      ]
     },
     "execution_count": 251,
     "metadata": {},
     "output_type": "execute_result"
    }
   ],
   "source": [
    "Array3D[1][1][2]"
   ]
  },
  {
   "cell_type": "code",
   "execution_count": 252,
   "metadata": {},
   "outputs": [
    {
     "data": {
      "text/plain": [
       "array([[['KESHAV', '(45+9j)', 'True', '39.69', '39'],\n",
       "        ['10.1', 'Prashant', '(10+10j)', 'False', '10']],\n",
       "\n",
       "       [['RAGHAV', '(49+9j)', 'True', '36.69', '36'],\n",
       "        ['10.16', 'Prashant', '(19+10j)', 'False', '17']]], dtype='<U8')"
      ]
     },
     "execution_count": 252,
     "metadata": {},
     "output_type": "execute_result"
    }
   ],
   "source": [
    "Array3D[[0,1]] #Shows 0th & 1st index Array for Array3D"
   ]
  },
  {
   "cell_type": "code",
   "execution_count": 253,
   "metadata": {},
   "outputs": [
    {
     "data": {
      "text/plain": [
       "array([[['KESHAV', '(45+9j)', 'True', '39.69', '39'],\n",
       "        ['10.1', 'Prashant', '(10+10j)', 'False', '10']],\n",
       "\n",
       "       [['RAGHAV', '(49+9j)', 'True', '36.69', '36'],\n",
       "        ['10.16', 'Prashant', '(19+10j)', 'False', '17']]], dtype='<U8')"
      ]
     },
     "execution_count": 253,
     "metadata": {},
     "output_type": "execute_result"
    }
   ],
   "source": [
    "Array3D[0:2] #Shows from 0th index Array & 1st index Array for Array3D, 2 is upper bound for Array index"
   ]
  },
  {
   "cell_type": "code",
   "execution_count": 254,
   "metadata": {},
   "outputs": [
    {
     "data": {
      "text/plain": [
       "array(['10.1', 'Prashant', '(10+10j)', 'False', '10'], dtype='<U8')"
      ]
     },
     "execution_count": 254,
     "metadata": {},
     "output_type": "execute_result"
    }
   ],
   "source": [
    "Array3D[0,1] #0th Array index & 1st Row index of it"
   ]
  },
  {
   "cell_type": "code",
   "execution_count": 255,
   "metadata": {},
   "outputs": [
    {
     "data": {
      "text/plain": [
       "array(['KESHAV', '(45+9j)', 'True', '39.69', '39'], dtype='<U8')"
      ]
     },
     "execution_count": 255,
     "metadata": {},
     "output_type": "execute_result"
    }
   ],
   "source": [
    "Array3D[0,0] #0th Array index & 0th Row index of it"
   ]
  },
  {
   "cell_type": "code",
   "execution_count": 256,
   "metadata": {},
   "outputs": [
    {
     "data": {
      "text/plain": [
       "array(['10.16', 'Prashant', '(19+10j)', 'False', '17'], dtype='<U8')"
      ]
     },
     "execution_count": 256,
     "metadata": {},
     "output_type": "execute_result"
    }
   ],
   "source": [
    "Array3D[1,1] #1st Array index & 1st Row index of it"
   ]
  },
  {
   "cell_type": "code",
   "execution_count": 257,
   "metadata": {},
   "outputs": [
    {
     "data": {
      "text/plain": [
       "array(['RAGHAV', '(49+9j)', 'True', '36.69', '36'], dtype='<U8')"
      ]
     },
     "execution_count": 257,
     "metadata": {},
     "output_type": "execute_result"
    }
   ],
   "source": [
    "Array3D[1,0] #1st Array index & 0th Row index of it"
   ]
  },
  {
   "cell_type": "code",
   "execution_count": 258,
   "metadata": {},
   "outputs": [
    {
     "data": {
      "text/plain": [
       "array([[['True', '39.69'],\n",
       "        ['(10+10j)', 'False']],\n",
       "\n",
       "       [['True', '36.69'],\n",
       "        ['(19+10j)', 'False']]], dtype='<U8')"
      ]
     },
     "execution_count": 258,
     "metadata": {},
     "output_type": "execute_result"
    }
   ],
   "source": [
    "Array3D[:,:,[2,3]] #Shows only 2nd & 3rd col index along with all Rows & All Arrays"
   ]
  },
  {
   "cell_type": "code",
   "execution_count": 259,
   "metadata": {},
   "outputs": [
    {
     "data": {
      "text/plain": [
       "array([[['KESHAV', '(45+9j)', 'True', '39.69', '39'],\n",
       "        ['10.1', 'Prashant', '(10+10j)', 'False', '10']],\n",
       "\n",
       "       [['RAGHAV', '(49+9j)', 'True', '36.69', '36'],\n",
       "        ['10.16', 'Prashant', '(19+10j)', 'False', '17']]], dtype='<U8')"
      ]
     },
     "execution_count": 259,
     "metadata": {},
     "output_type": "execute_result"
    }
   ],
   "source": [
    "Array3D[:,0:2] #Shows Rows from 0th index to 1st index along with all Cols & all Arrays, 2nd is upper bound for Row index"
   ]
  },
  {
   "cell_type": "code",
   "execution_count": 260,
   "metadata": {},
   "outputs": [
    {
     "data": {
      "text/plain": [
       "array([[['KESHAV', '(45+9j)', 'True', '39.69', '39'],\n",
       "        ['10.1', 'Prashant', '(10+10j)', 'False', '10']],\n",
       "\n",
       "       [['RAGHAV', '(49+9j)', 'True', '36.69', '36'],\n",
       "        ['10.16', 'Prashant', '(19+10j)', 'False', '17']]], dtype='<U8')"
      ]
     },
     "execution_count": 260,
     "metadata": {},
     "output_type": "execute_result"
    }
   ],
   "source": [
    "Array3D[:,0:2,:] #Shows Rows from 0th index to 1st index along with all Cols & all Arrays, 2nd is upper bound for Row index"
   ]
  },
  {
   "cell_type": "code",
   "execution_count": 261,
   "metadata": {},
   "outputs": [
    {
     "data": {
      "text/plain": [
       "array([[['10.1', 'Prashant', '(10+10j)', 'False', '10']],\n",
       "\n",
       "       [['10.16', 'Prashant', '(19+10j)', 'False', '17']]], dtype='<U8')"
      ]
     },
     "execution_count": 261,
     "metadata": {},
     "output_type": "execute_result"
    }
   ],
   "source": [
    "Array3D[:,[1],:] #Shows only 1st Row index of all Arrays along with all Cols"
   ]
  },
  {
   "cell_type": "code",
   "execution_count": 262,
   "metadata": {},
   "outputs": [
    {
     "data": {
      "text/plain": [
       "array([[['KESHAV', '(45+9j)', 'True', '39.69', '39']],\n",
       "\n",
       "       [['RAGHAV', '(49+9j)', 'True', '36.69', '36']]], dtype='<U8')"
      ]
     },
     "execution_count": 262,
     "metadata": {},
     "output_type": "execute_result"
    }
   ],
   "source": [
    "Array3D[:,[0],:] #Shows only 0th Row index of all Arrays along with all Cols"
   ]
  },
  {
   "cell_type": "code",
   "execution_count": 263,
   "metadata": {},
   "outputs": [
    {
     "data": {
      "text/plain": [
       "array([[['KESHAV', '(45+9j)', 'True', '39.69', '39'],\n",
       "        ['10.1', 'Prashant', '(10+10j)', 'False', '10']],\n",
       "\n",
       "       [['RAGHAV', '(49+9j)', 'True', '36.69', '36'],\n",
       "        ['10.16', 'Prashant', '(19+10j)', 'False', '17']]], dtype='<U8')"
      ]
     },
     "execution_count": 263,
     "metadata": {},
     "output_type": "execute_result"
    }
   ],
   "source": [
    "Array3D[:,[0,1],:] #Shows 0th & 1st Row index of All Arrays along with all Cols"
   ]
  },
  {
   "cell_type": "code",
   "execution_count": 264,
   "metadata": {},
   "outputs": [
    {
     "data": {
      "text/plain": [
       "array([[['KESHAV', '39'],\n",
       "        ['10.1', '10']],\n",
       "\n",
       "       [['RAGHAV', '36'],\n",
       "        ['10.16', '17']]], dtype='<U8')"
      ]
     },
     "execution_count": 264,
     "metadata": {},
     "output_type": "execute_result"
    }
   ],
   "source": [
    "Array3D[:,:,[0,4]] #Shows only 0th & 4th col index along with all Rows & all Arrays"
   ]
  },
  {
   "cell_type": "code",
   "execution_count": 265,
   "metadata": {},
   "outputs": [
    {
     "data": {
      "text/plain": [
       "array([[['39'],\n",
       "        ['10']],\n",
       "\n",
       "       [['36'],\n",
       "        ['17']]], dtype='<U8')"
      ]
     },
     "execution_count": 265,
     "metadata": {},
     "output_type": "execute_result"
    }
   ],
   "source": [
    "Array3D[:,:,[4]] #Shows only 4th col index along with all Rows & all Arrays"
   ]
  },
  {
   "cell_type": "code",
   "execution_count": 266,
   "metadata": {},
   "outputs": [
    {
     "data": {
      "text/plain": [
       "array([[['KESHAV', '(45+9j)', 'True', '39.69', '39']],\n",
       "\n",
       "       [['RAGHAV', '(49+9j)', 'True', '36.69', '36']]], dtype='<U8')"
      ]
     },
     "execution_count": 266,
     "metadata": {},
     "output_type": "execute_result"
    }
   ],
   "source": [
    "Array3D[:,[0]] #Shows only 0th Row of all Arrays along with all Columns"
   ]
  },
  {
   "cell_type": "code",
   "execution_count": 267,
   "metadata": {},
   "outputs": [
    {
     "data": {
      "text/plain": [
       "array([[['KESHAV', '(45+9j)', 'True', '39.69', '39'],\n",
       "        ['10.1', 'Prashant', '(10+10j)', 'False', '10']],\n",
       "\n",
       "       [['RAGHAV', '(49+9j)', 'True', '36.69', '36'],\n",
       "        ['10.16', 'Prashant', '(19+10j)', 'False', '17']]], dtype='<U8')"
      ]
     },
     "execution_count": 267,
     "metadata": {},
     "output_type": "execute_result"
    }
   ],
   "source": [
    "Array3D[:,:,0:5] #Shows Columns from 0th col index to 4th col index along with all Rows & all Arrays, 5th is upper bound for col index"
   ]
  },
  {
   "cell_type": "code",
   "execution_count": 268,
   "metadata": {},
   "outputs": [
    {
     "data": {
      "text/plain": [
       "array([[['KESHAV', '39'],\n",
       "        ['10.1', '10']],\n",
       "\n",
       "       [['RAGHAV', '36'],\n",
       "        ['10.16', '17']]], dtype='<U8')"
      ]
     },
     "execution_count": 268,
     "metadata": {},
     "output_type": "execute_result"
    }
   ],
   "source": [
    "Array3D[:,:,[0,4]] #Shows 0th col index & 4th col index along with all Rows & all Arrays"
   ]
  },
  {
   "cell_type": "code",
   "execution_count": 269,
   "metadata": {},
   "outputs": [
    {
     "data": {
      "text/plain": [
       "array([[['KESHAV', '(45+9j)', 'True', '39.69', '39']],\n",
       "\n",
       "       [['RAGHAV', '(49+9j)', 'True', '36.69', '36']]], dtype='<U8')"
      ]
     },
     "execution_count": 269,
     "metadata": {},
     "output_type": "execute_result"
    }
   ],
   "source": [
    "Array3D[:,[0],:] #Shows only 0th Row index of all Arrays along with all Cols"
   ]
  },
  {
   "cell_type": "code",
   "execution_count": 270,
   "metadata": {},
   "outputs": [
    {
     "data": {
      "text/plain": [
       "array([['KESHAV', '(45+9j)', 'True', '39.69', '39'],\n",
       "       ['RAGHAV', '(49+9j)', 'True', '36.69', '36']], dtype='<U8')"
      ]
     },
     "execution_count": 270,
     "metadata": {},
     "output_type": "execute_result"
    }
   ],
   "source": [
    "Array3D[:,0,:] #Shows only 0th Row index of all Arrays along with all Cols"
   ]
  },
  {
   "cell_type": "code",
   "execution_count": 271,
   "metadata": {},
   "outputs": [
    {
     "data": {
      "text/plain": [
       "array([[['39.69'],\n",
       "        ['False']],\n",
       "\n",
       "       [['36.69'],\n",
       "        ['False']]], dtype='<U8')"
      ]
     },
     "execution_count": 271,
     "metadata": {},
     "output_type": "execute_result"
    }
   ],
   "source": [
    "Array3D[:,:,3:4] #Shows only 3rd col index along with all Arrays & all Rows, 4th is upper bound for col index"
   ]
  },
  {
   "cell_type": "code",
   "execution_count": 272,
   "metadata": {},
   "outputs": [
    {
     "data": {
      "text/plain": [
       "array([[['39.69', '39'],\n",
       "        ['False', '10']],\n",
       "\n",
       "       [['36.69', '36'],\n",
       "        ['False', '17']]], dtype='<U8')"
      ]
     },
     "execution_count": 272,
     "metadata": {},
     "output_type": "execute_result"
    }
   ],
   "source": [
    "Array3D[:,:,[3,4]] #Shows only 3rd col index & 4th col index along with all Arrays & all Rows"
   ]
  },
  {
   "cell_type": "code",
   "execution_count": 273,
   "metadata": {},
   "outputs": [
    {
     "data": {
      "text/plain": [
       "array(['True', 'False'], dtype='<U8')"
      ]
     },
     "execution_count": 273,
     "metadata": {},
     "output_type": "execute_result"
    }
   ],
   "source": [
    "Array3D[[0,1],[0,1],[2,3]] #0th Array index with 0th Row index with 2nd col index, True\n",
    "                           #1st Array index with 1st Row index with 3rd col index, False"
   ]
  },
  {
   "cell_type": "code",
   "execution_count": 274,
   "metadata": {},
   "outputs": [
    {
     "data": {
      "text/plain": [
       "array(['(19+10j)'], dtype='<U8')"
      ]
     },
     "execution_count": 274,
     "metadata": {},
     "output_type": "execute_result"
    }
   ],
   "source": [
    "Array3D[[1],[1],[2]]"
   ]
  },
  {
   "cell_type": "code",
   "execution_count": 275,
   "metadata": {},
   "outputs": [
    {
     "data": {
      "text/plain": [
       "'(19+10j)'"
      ]
     },
     "execution_count": 275,
     "metadata": {},
     "output_type": "execute_result"
    }
   ],
   "source": [
    "Array3D[1,1,2]"
   ]
  },
  {
   "cell_type": "code",
   "execution_count": 276,
   "metadata": {},
   "outputs": [
    {
     "data": {
      "text/plain": [
       "array([[['KESHAV', '(45+9j)', 'True', '39.69', '39'],\n",
       "        ['10.1', 'Prashant', '(10+10j)', 'False', '10']],\n",
       "\n",
       "       [['RAGHAV', '(49+9j)', 'True', '36.69', '36'],\n",
       "        ['10.16', 'Prashant', '(19+10j)', 'False', '17']]], dtype='<U8')"
      ]
     },
     "execution_count": 276,
     "metadata": {},
     "output_type": "execute_result"
    }
   ],
   "source": [
    "Array3D[[0,1]] #Shows 0th index Array & 1st index Array"
   ]
  },
  {
   "cell_type": "code",
   "execution_count": 277,
   "metadata": {},
   "outputs": [
    {
     "data": {
      "text/plain": [
       "'(19+10j)'"
      ]
     },
     "execution_count": 277,
     "metadata": {},
     "output_type": "execute_result"
    }
   ],
   "source": [
    "Array3D[-1][-1][-3]"
   ]
  },
  {
   "cell_type": "code",
   "execution_count": 278,
   "metadata": {},
   "outputs": [
    {
     "data": {
      "text/plain": [
       "array(['(19+10j)'], dtype='<U8')"
      ]
     },
     "execution_count": 278,
     "metadata": {},
     "output_type": "execute_result"
    }
   ],
   "source": [
    "Array3D[[-1],[-1],[-3]]"
   ]
  },
  {
   "cell_type": "code",
   "execution_count": 279,
   "metadata": {},
   "outputs": [
    {
     "data": {
      "text/plain": [
       "'(19+10j)'"
      ]
     },
     "execution_count": 279,
     "metadata": {},
     "output_type": "execute_result"
    }
   ],
   "source": [
    "Array3D[-1,-1,-3]"
   ]
  },
  {
   "cell_type": "code",
   "execution_count": 280,
   "metadata": {},
   "outputs": [
    {
     "data": {
      "text/plain": [
       "'(19+10j)'"
      ]
     },
     "execution_count": 280,
     "metadata": {},
     "output_type": "execute_result"
    }
   ],
   "source": [
    "Array3D[1][-1][2]"
   ]
  },
  {
   "cell_type": "code",
   "execution_count": 281,
   "metadata": {},
   "outputs": [
    {
     "data": {
      "text/plain": [
       "array(['(19+10j)'], dtype='<U8')"
      ]
     },
     "execution_count": 281,
     "metadata": {},
     "output_type": "execute_result"
    }
   ],
   "source": [
    "Array3D[[1],[-1],[2]]"
   ]
  },
  {
   "cell_type": "code",
   "execution_count": 282,
   "metadata": {},
   "outputs": [
    {
     "data": {
      "text/plain": [
       "'(19+10j)'"
      ]
     },
     "execution_count": 282,
     "metadata": {},
     "output_type": "execute_result"
    }
   ],
   "source": [
    "Array3D[1,-1,2]"
   ]
  },
  {
   "cell_type": "code",
   "execution_count": 283,
   "metadata": {},
   "outputs": [
    {
     "data": {
      "text/plain": [
       "'(19+10j)'"
      ]
     },
     "execution_count": 283,
     "metadata": {},
     "output_type": "execute_result"
    }
   ],
   "source": [
    "Array3D[-1][1][-3]"
   ]
  },
  {
   "cell_type": "code",
   "execution_count": 284,
   "metadata": {},
   "outputs": [
    {
     "data": {
      "text/plain": [
       "array(['(19+10j)'], dtype='<U8')"
      ]
     },
     "execution_count": 284,
     "metadata": {},
     "output_type": "execute_result"
    }
   ],
   "source": [
    "Array3D[[-1],[1],[-3]]"
   ]
  },
  {
   "cell_type": "code",
   "execution_count": 285,
   "metadata": {},
   "outputs": [
    {
     "data": {
      "text/plain": [
       "'(19+10j)'"
      ]
     },
     "execution_count": 285,
     "metadata": {},
     "output_type": "execute_result"
    }
   ],
   "source": [
    "Array3D[-1,1,-3]"
   ]
  },
  {
   "cell_type": "code",
   "execution_count": 286,
   "metadata": {},
   "outputs": [
    {
     "name": "stdout",
     "output_type": "stream",
     "text": [
      "(19+10j) ['(19+10j)'] (19+10j) (19+10j) ['(19+10j)'] (19+10j) (19+10j) ['(19+10j)'] (19+10j) (19+10j) ['(19+10j)'] (19+10j)\n"
     ]
    }
   ],
   "source": [
    "print(Array3D[1][1][2],Array3D[[1],[1],[2]],Array3D[1,1,2],Array3D[-1][-1][-3],Array3D[[-1],[-1],[-3]],Array3D[-1,-1,-3],Array3D[1][-1][2],Array3D[[1],[-1],[2]],Array3D[1,-1,2],Array3D[-1][1][-3],Array3D[[-1],[1],[-3]],Array3D[-1,1,-3])"
   ]
  },
  {
   "cell_type": "markdown",
   "metadata": {},
   "source": [
    "## Slicing operation in Numpy Array"
   ]
  },
  {
   "cell_type": "code",
   "execution_count": 287,
   "metadata": {},
   "outputs": [],
   "source": [
    "#By using Slicing you can access multiple elements from an Array"
   ]
  },
  {
   "cell_type": "markdown",
   "metadata": {},
   "source": [
    "### Slicing 1D Array"
   ]
  },
  {
   "cell_type": "code",
   "execution_count": 288,
   "metadata": {},
   "outputs": [
    {
     "data": {
      "text/plain": [
       "array(['(45+9j)', 'True', '39.69', '39'], dtype='<U7')"
      ]
     },
     "execution_count": 288,
     "metadata": {},
     "output_type": "execute_result"
    }
   ],
   "source": [
    "#Slicing 1D Array\n",
    "Array1[1:5:1] #index1 to index4, step1, 5 is upper bound"
   ]
  },
  {
   "cell_type": "code",
   "execution_count": 289,
   "metadata": {},
   "outputs": [
    {
     "data": {
      "text/plain": [
       "array(['KESHAV', '(45+9j)', 'True', '39.69', '39'], dtype='<U7')"
      ]
     },
     "execution_count": 289,
     "metadata": {},
     "output_type": "execute_result"
    }
   ],
   "source": [
    "Array1[0:5] #index1 to index4, 5 is upper bound"
   ]
  },
  {
   "cell_type": "code",
   "execution_count": 290,
   "metadata": {},
   "outputs": [
    {
     "data": {
      "text/plain": [
       "array(['(45+9j)', 'True', '39.69', '39'], dtype='<U7')"
      ]
     },
     "execution_count": 290,
     "metadata": {},
     "output_type": "execute_result"
    }
   ],
   "source": [
    "#Slicing 1D Array\n",
    "Array1[1::1] #From index1 to end index, step1"
   ]
  },
  {
   "cell_type": "code",
   "execution_count": 291,
   "metadata": {},
   "outputs": [
    {
     "data": {
      "text/plain": [
       "array(['(45+9j)', '39.69'], dtype='<U7')"
      ]
     },
     "execution_count": 291,
     "metadata": {},
     "output_type": "execute_result"
    }
   ],
   "source": [
    "Array1[1::2] #From index1 to end index, step2"
   ]
  },
  {
   "cell_type": "code",
   "execution_count": 292,
   "metadata": {},
   "outputs": [
    {
     "data": {
      "text/plain": [
       "array(['KESHAV', 'True', '39'], dtype='<U7')"
      ]
     },
     "execution_count": 292,
     "metadata": {},
     "output_type": "execute_result"
    }
   ],
   "source": [
    "Array1[0::2] #From index0 to end index, step2"
   ]
  },
  {
   "cell_type": "code",
   "execution_count": 293,
   "metadata": {},
   "outputs": [
    {
     "data": {
      "text/plain": [
       "array(['KESHAV', 'True', '39'], dtype='<U7')"
      ]
     },
     "execution_count": 293,
     "metadata": {},
     "output_type": "execute_result"
    }
   ],
   "source": [
    "Array1[::2] #From index0 to end index, step2"
   ]
  },
  {
   "cell_type": "markdown",
   "metadata": {},
   "source": [
    "### Slicing 2D Array"
   ]
  },
  {
   "cell_type": "code",
   "execution_count": 294,
   "metadata": {},
   "outputs": [
    {
     "name": "stdout",
     "output_type": "stream",
     "text": [
      "[['KESHAV' '(45+9j)' 'True' '39.69' '39']\n",
      " ['10.1' 'Prashant' '(10+10j)' 'False' '10']]\n"
     ]
    },
    {
     "data": {
      "text/plain": [
       "(None, (2, 5), 10, numpy.ndarray, 2, dtype('<U8'))"
      ]
     },
     "execution_count": 294,
     "metadata": {},
     "output_type": "execute_result"
    }
   ],
   "source": [
    "#Creating 2D array from 2 lists\n",
    "#No of elements/length of each list should be same\n",
    "Array2D=array([[\"KESHAV\",45+9j,True,39.69,39],[10.10,'Prashant',10+10j,False,10]]) #Transforming nested list of 2 lists into Array\n",
    "print(Array2D),shape(Array2D),size(Array2D),type(Array2D),ndim(Array2D),Array2D.dtype"
   ]
  },
  {
   "cell_type": "code",
   "execution_count": 295,
   "metadata": {},
   "outputs": [
    {
     "data": {
      "text/plain": [
       "array([['True'],\n",
       "       ['(10+10j)']], dtype='<U8')"
      ]
     },
     "execution_count": 295,
     "metadata": {},
     "output_type": "execute_result"
    }
   ],
   "source": [
    "#Array2D[row(start:stop:step),col(start:stop:step)]\n",
    "Array2D[0:,2:3] #Shows only 2nd col index along with All Rows, 3rd is upper bound index for col"
   ]
  },
  {
   "cell_type": "code",
   "execution_count": 296,
   "metadata": {},
   "outputs": [
    {
     "data": {
      "text/plain": [
       "array(['True', '(10+10j)'], dtype='<U8')"
      ]
     },
     "execution_count": 296,
     "metadata": {},
     "output_type": "execute_result"
    }
   ],
   "source": [
    "#Array2D[row(start:stop:step),col(start:stop:step)]\n",
    "Array2D[0:,2] #Shows only 2nd col index along with All Rows"
   ]
  },
  {
   "cell_type": "code",
   "execution_count": 297,
   "metadata": {},
   "outputs": [
    {
     "data": {
      "text/plain": [
       "array([['True'],\n",
       "       ['(10+10j)']], dtype='<U8')"
      ]
     },
     "execution_count": 297,
     "metadata": {},
     "output_type": "execute_result"
    }
   ],
   "source": [
    "#Array2D[row(start:stop:step),col(start:stop:step)]\n",
    "Array2D[0:,[2]] #Shows only 2nd col index along with All Rows"
   ]
  },
  {
   "cell_type": "code",
   "execution_count": 298,
   "metadata": {},
   "outputs": [
    {
     "data": {
      "text/plain": [
       "array(['True', '(10+10j)'], dtype='<U8')"
      ]
     },
     "execution_count": 298,
     "metadata": {},
     "output_type": "execute_result"
    }
   ],
   "source": [
    "#Array2D[row(start:stop:step),col(start:stop:step)]\n",
    "Array2D[[0,1],[2]] #Shows only 2nd col index along with All Rows"
   ]
  },
  {
   "cell_type": "code",
   "execution_count": 299,
   "metadata": {},
   "outputs": [
    {
     "data": {
      "text/plain": [
       "'5'"
      ]
     },
     "execution_count": 299,
     "metadata": {},
     "output_type": "execute_result"
    }
   ],
   "source": [
    "#Array2D[row(start:stop:step),col(start:stop:step)]\n",
    "Array2D[0,1][2] #Shows 0th and 1st Row index along with All Rows"
   ]
  },
  {
   "cell_type": "code",
   "execution_count": 300,
   "metadata": {},
   "outputs": [
    {
     "data": {
      "text/plain": [
       "array(['True', '(10+10j)'], dtype='<U8')"
      ]
     },
     "execution_count": 300,
     "metadata": {},
     "output_type": "execute_result"
    }
   ],
   "source": [
    "#Array2D[row(start:stop:step),col(start:stop:step)]\n",
    "Array2D[[0,1],2] #Shows only 2nd col index along with All Rows"
   ]
  },
  {
   "cell_type": "code",
   "execution_count": 301,
   "metadata": {},
   "outputs": [
    {
     "data": {
      "text/plain": [
       "array([['39.69', '39'],\n",
       "       ['False', '10']], dtype='<U8')"
      ]
     },
     "execution_count": 301,
     "metadata": {},
     "output_type": "execute_result"
    }
   ],
   "source": [
    "#Array2D[row(start:stop:step),col(start:stop:step)]\n",
    "Array2D[0:,[3,4]] #Shows only 3rd col index & 4th col index along with All Rows"
   ]
  },
  {
   "cell_type": "code",
   "execution_count": 302,
   "metadata": {},
   "outputs": [
    {
     "data": {
      "text/plain": [
       "array(['True'], dtype='<U8')"
      ]
     },
     "execution_count": 302,
     "metadata": {},
     "output_type": "execute_result"
    }
   ],
   "source": [
    "#Array2D[row(start:stop:step),col(start:stop:step)]\n",
    "Array2D[0][2:3] #Shows only 2nd col index of 0th Row, 3rd is upper bound index for col"
   ]
  },
  {
   "cell_type": "code",
   "execution_count": 303,
   "metadata": {},
   "outputs": [
    {
     "data": {
      "text/plain": [
       "array([['True'],\n",
       "       ['(10+10j)']], dtype='<U8')"
      ]
     },
     "execution_count": 303,
     "metadata": {},
     "output_type": "execute_result"
    }
   ],
   "source": [
    "#Array2D[row(start:stop:step),col(start:stop:step)]\n",
    "Array2D[[0,1],2:3] #Shows only 2nd col index of 0th Row & 1st Row, 3rd is upper bound index col"
   ]
  },
  {
   "cell_type": "code",
   "execution_count": 304,
   "metadata": {},
   "outputs": [
    {
     "data": {
      "text/plain": [
       "array(['True', '(10+10j)'], dtype='<U8')"
      ]
     },
     "execution_count": 304,
     "metadata": {},
     "output_type": "execute_result"
    }
   ],
   "source": [
    "#Array2D[row(start:stop:step),col(start:stop:step)]\n",
    "Array2D[[0,1],[2]] #Shows only 2nd col index for 0th Row & 1st Row"
   ]
  },
  {
   "cell_type": "code",
   "execution_count": 305,
   "metadata": {},
   "outputs": [
    {
     "data": {
      "text/plain": [
       "array(['True', '(10+10j)'], dtype='<U8')"
      ]
     },
     "execution_count": 305,
     "metadata": {},
     "output_type": "execute_result"
    }
   ],
   "source": [
    "#Array2D[row(start:stop:step),col(start:stop:step)]\n",
    "Array2D[[0,1],2] #Shows only 2nd col index for 0th Row & 1st Row"
   ]
  },
  {
   "cell_type": "code",
   "execution_count": 306,
   "metadata": {},
   "outputs": [
    {
     "data": {
      "text/plain": [
       "'True'"
      ]
     },
     "execution_count": 306,
     "metadata": {},
     "output_type": "execute_result"
    }
   ],
   "source": [
    "#Array2D[row(start:stop:step),col(start:stop:step)]\n",
    "Array2D[0][2] #Shows only 2nd col index of 0th Row"
   ]
  },
  {
   "cell_type": "code",
   "execution_count": 307,
   "metadata": {},
   "outputs": [
    {
     "data": {
      "text/plain": [
       "array(['KESHAV', '(45+9j)', 'True', '39.69', '39'], dtype='<U8')"
      ]
     },
     "execution_count": 307,
     "metadata": {},
     "output_type": "execute_result"
    }
   ],
   "source": [
    "#Array2D[row(start:stop:step),col(start:stop:step)]\n",
    "Array2D[0][0:5] #Shows only 0th Row with from 0th col index to 4th col index"
   ]
  },
  {
   "cell_type": "code",
   "execution_count": 308,
   "metadata": {},
   "outputs": [
    {
     "data": {
      "text/plain": [
       "'(45+9'"
      ]
     },
     "execution_count": 308,
     "metadata": {},
     "output_type": "execute_result"
    }
   ],
   "source": [
    "#Array2D[row(start:stop:step),col(start:stop:step)]\n",
    "Array2D[0,1][0:5] #Shows only 0th Row with from 0th col index to 4th col index"
   ]
  },
  {
   "cell_type": "code",
   "execution_count": 309,
   "metadata": {},
   "outputs": [
    {
     "data": {
      "text/plain": [
       "array(['KESHAV', '(45+9j)', 'True', '39.69', '39'], dtype='<U8')"
      ]
     },
     "execution_count": 309,
     "metadata": {},
     "output_type": "execute_result"
    }
   ],
   "source": [
    "#Array2D[row(start:stop:step),col(start:stop:step)]\n",
    "Array2D[0,0:5] #Shows only 0th Row with from 0th col index to 4th col index"
   ]
  },
  {
   "cell_type": "code",
   "execution_count": 310,
   "metadata": {},
   "outputs": [
    {
     "data": {
      "text/plain": [
       "array([['KESHAV', '(45+9j)', 'True', '39.69', '39']], dtype='<U8')"
      ]
     },
     "execution_count": 310,
     "metadata": {},
     "output_type": "execute_result"
    }
   ],
   "source": [
    "#Array2D[row(start:stop:step),col(start:stop:step)]\n",
    "Array2D[[0][0:5]] #Shows only 0th Row with from 0th col index to 4th col index"
   ]
  },
  {
   "cell_type": "code",
   "execution_count": 311,
   "metadata": {},
   "outputs": [
    {
     "data": {
      "text/plain": [
       "array([['KESHAV', '(45+9j)', 'True', '39.69', '39']], dtype='<U8')"
      ]
     },
     "execution_count": 311,
     "metadata": {},
     "output_type": "execute_result"
    }
   ],
   "source": [
    "#Array2D[row(start:stop:step),col(start:stop:step)]\n",
    "Array2D[[0],0:5] #Shows only 0th Row with from 0th col index to 4th col index"
   ]
  },
  {
   "cell_type": "code",
   "execution_count": 312,
   "metadata": {},
   "outputs": [
    {
     "data": {
      "text/plain": [
       "array([['KESHAV', '(45+9j)', 'True', '39.69', '39'],\n",
       "       ['10.1', 'Prashant', '(10+10j)', 'False', '10']], dtype='<U8')"
      ]
     },
     "execution_count": 312,
     "metadata": {},
     "output_type": "execute_result"
    }
   ],
   "source": [
    "#Array2D[row(start:stop:step),col(start:stop:step)]\n",
    "Array2D[[0,1],0:5] #Shows only 0th Row & 1st Row with from 0th col index to 4th col index"
   ]
  },
  {
   "cell_type": "code",
   "execution_count": 313,
   "metadata": {},
   "outputs": [
    {
     "data": {
      "text/plain": [
       "array([['True'],\n",
       "       ['(10+10j)']], dtype='<U8')"
      ]
     },
     "execution_count": 313,
     "metadata": {},
     "output_type": "execute_result"
    }
   ],
   "source": [
    "#Array2D[row(start:stop:step),col(start:stop:step)]\n",
    "Array2D[:,2:3] #Shows only 2nd col index along with all Rows, 3rd is upper bound index for col"
   ]
  },
  {
   "cell_type": "code",
   "execution_count": 314,
   "metadata": {},
   "outputs": [
    {
     "data": {
      "text/plain": [
       "array([['True'],\n",
       "       ['(10+10j)']], dtype='<U8')"
      ]
     },
     "execution_count": 314,
     "metadata": {},
     "output_type": "execute_result"
    }
   ],
   "source": [
    "#Array2D[row(start:stop:step),col(start:stop:step)]\n",
    "Array2D[:,[2]] #Shows only 2nd col index along with all Rows"
   ]
  },
  {
   "cell_type": "code",
   "execution_count": 315,
   "metadata": {},
   "outputs": [
    {
     "name": "stdout",
     "output_type": "stream",
     "text": [
      "[[['KESHAV' '(45+9j)' 'True' '38.69' '34']\n",
      "  ['10.1' 'Prashant' '(10+10j)' 'False' '18']]\n",
      "\n",
      " [['RAGHAV' '(49+9j)' 'True' '37.69' '36']\n",
      "  ['10.16' 'Pushkar' '(19+10j)' 'False' '17']]]\n"
     ]
    }
   ],
   "source": [
    "#Creating 3D Array of Tuples\n",
    "Array3D=array((((\"KESHAV\",45+9j,True,38.69,34),(10.10,\"Prashant\",10+10j,False,18)),((\"RAGHAV\",49+9j,True,37.69,36),(10.16,\"Pushkar\",19+10j,False,17))))\n",
    "print(Array3D)"
   ]
  },
  {
   "cell_type": "code",
   "execution_count": 316,
   "metadata": {},
   "outputs": [
    {
     "data": {
      "text/plain": [
       "array([[['True'],\n",
       "        ['(10+10j)']],\n",
       "\n",
       "       [['True'],\n",
       "        ['(19+10j)']]], dtype='<U8')"
      ]
     },
     "execution_count": 316,
     "metadata": {},
     "output_type": "execute_result"
    }
   ],
   "source": [
    "#Array3D[array(start:stop:step),row(start:stop:step),col(start:stop:step)]\n",
    "Array3D[:,:,2:3] #Shows only 2nd col index along with all Rows & all Arrays, 3rd is upper bound index for col"
   ]
  },
  {
   "cell_type": "code",
   "execution_count": 317,
   "metadata": {},
   "outputs": [
    {
     "data": {
      "text/plain": [
       "array([['True', '(10+10j)'],\n",
       "       ['True', '(19+10j)']], dtype='<U8')"
      ]
     },
     "execution_count": 317,
     "metadata": {},
     "output_type": "execute_result"
    }
   ],
   "source": [
    "#Array3D[array(start:stop:step),row(start:stop:step),col(start:stop:step)]\n",
    "Array3D[:,:,2] #Shows only 2nd col index along with all Rows & all Arrays"
   ]
  },
  {
   "cell_type": "code",
   "execution_count": 318,
   "metadata": {},
   "outputs": [
    {
     "data": {
      "text/plain": [
       "array([[['True'],\n",
       "        ['(10+10j)']],\n",
       "\n",
       "       [['True'],\n",
       "        ['(19+10j)']]], dtype='<U8')"
      ]
     },
     "execution_count": 318,
     "metadata": {},
     "output_type": "execute_result"
    }
   ],
   "source": [
    "#Array3D[array(start:stop:step),row(start:stop:step),col(start:stop:step)]\n",
    "Array3D[:,:,[2]] #Shows only 2nd col index along with all Rows & all Arrays"
   ]
  },
  {
   "cell_type": "markdown",
   "metadata": {},
   "source": [
    "## Advanced indexing Techniques in  Numpy Array\n",
    "Advanced indexing works with Array only, neither with Tuple nor with List or any other Variables"
   ]
  },
  {
   "cell_type": "markdown",
   "metadata": {},
   "source": [
    "### Integer Indexing"
   ]
  },
  {
   "cell_type": "code",
   "execution_count": 319,
   "metadata": {},
   "outputs": [
    {
     "name": "stdout",
     "output_type": "stream",
     "text": [
      "['KESHAV' '(45+9j)' 'True' '39.69' '39']\n"
     ]
    }
   ],
   "source": [
    "#Creating 1D array from 1 list\n",
    "Array1=array([\"KESHAV\",45+9j,True,39.69,39]) #Convert the list into array\n",
    "print(Array1)"
   ]
  },
  {
   "cell_type": "markdown",
   "metadata": {},
   "source": [
    "### Indexing from 1D Array"
   ]
  },
  {
   "cell_type": "code",
   "execution_count": 320,
   "metadata": {},
   "outputs": [
    {
     "data": {
      "text/plain": [
       "array(['KESHAV', '(45+9j)', 'True'], dtype='<U7')"
      ]
     },
     "execution_count": 320,
     "metadata": {},
     "output_type": "execute_result"
    }
   ],
   "source": [
    "#Indexing from 1D Array\n",
    "#Array1[[mention indexes]]\n",
    "Array1[[0,1,2]] #Accessing index 0th,1st,2nd"
   ]
  },
  {
   "cell_type": "code",
   "execution_count": 321,
   "metadata": {},
   "outputs": [
    {
     "data": {
      "text/plain": [
       "array(['(45+9j)', '39.69'], dtype='<U7')"
      ]
     },
     "execution_count": 321,
     "metadata": {},
     "output_type": "execute_result"
    }
   ],
   "source": [
    "Array1[[1,3]] #Accessing index 1st,3rd"
   ]
  },
  {
   "cell_type": "code",
   "execution_count": 322,
   "metadata": {},
   "outputs": [
    {
     "name": "stdout",
     "output_type": "stream",
     "text": [
      "[['KESHAV' '(45+9j)' 'True' '39.69' '39']\n",
      " ['10.1' 'Prashant' '(10+10j)' 'False' '10']]\n"
     ]
    }
   ],
   "source": [
    "#Creating 2D array from 2 lists\n",
    "#No of elements/length of each list should be same\n",
    "Array2D=array([[\"KESHAV\",45+9j,True,39.69,39],[10.10,'Prashant',10+10j,False,10]]) #Transforming nested list of 2 lists into Array\n",
    "print(Array2D)"
   ]
  },
  {
   "cell_type": "code",
   "execution_count": 323,
   "metadata": {},
   "outputs": [
    {
     "data": {
      "text/plain": [
       "array(['Prashant'], dtype='<U8')"
      ]
     },
     "execution_count": 323,
     "metadata": {},
     "output_type": "execute_result"
    }
   ],
   "source": [
    "#Array2D[[mention rows],[mention cols]]\n",
    "Array2D[[1],[1]] #1st row index, 1st col index"
   ]
  },
  {
   "cell_type": "code",
   "execution_count": 324,
   "metadata": {},
   "outputs": [
    {
     "data": {
      "text/plain": [
       "'Prashant'"
      ]
     },
     "execution_count": 324,
     "metadata": {},
     "output_type": "execute_result"
    }
   ],
   "source": [
    "Array2D[1,1]"
   ]
  },
  {
   "cell_type": "code",
   "execution_count": 325,
   "metadata": {},
   "outputs": [
    {
     "data": {
      "text/plain": [
       "'Prashant'"
      ]
     },
     "execution_count": 325,
     "metadata": {},
     "output_type": "execute_result"
    }
   ],
   "source": [
    "Array2D[1][1]"
   ]
  },
  {
   "cell_type": "code",
   "execution_count": 326,
   "metadata": {},
   "outputs": [
    {
     "data": {
      "text/plain": [
       "array(['(45+9j)', '10'], dtype='<U8')"
      ]
     },
     "execution_count": 326,
     "metadata": {},
     "output_type": "execute_result"
    }
   ],
   "source": [
    "Array2D[[0,1],[1,4]] #[0th row index, 1st row index],[1st col index, 4th col index]"
   ]
  },
  {
   "cell_type": "code",
   "execution_count": 327,
   "metadata": {},
   "outputs": [
    {
     "data": {
      "text/plain": [
       "array([['KESHAV', '(45+9j)', 'True', '39.69', '39'],\n",
       "       ['10.1', 'Prashant', '(10+10j)', 'False', '10']], dtype='<U8')"
      ]
     },
     "execution_count": 327,
     "metadata": {},
     "output_type": "execute_result"
    }
   ],
   "source": [
    "Array2D[[0,1]] #0th Row & 1st Row of Array2D"
   ]
  },
  {
   "cell_type": "code",
   "execution_count": 328,
   "metadata": {},
   "outputs": [
    {
     "name": "stdout",
     "output_type": "stream",
     "text": [
      "[[['KESHAV' '(45+9j)' 'True' '39.69' '39']\n",
      "  ['10.1' 'Prashant' '(10+10j)' 'False' '10']]\n",
      "\n",
      " [['RAGHAV' '(49+9j)' 'True' '36.69' '36']\n",
      "  ['10.16' 'Prashant' '(19+10j)' 'False' '17']]]\n"
     ]
    }
   ],
   "source": [
    "#Creating 3D Array of Tuples\n",
    "Array3D=array((((\"KESHAV\",45+9j,True,39.69,39),(10.10,'Prashant',10+10j,False,10)),((\"RAGHAV\",49+9j,True,36.69,36),(10.16,'Prashant',19+10j,False,17))))\n",
    "print(Array3D)"
   ]
  },
  {
   "cell_type": "code",
   "execution_count": 329,
   "metadata": {},
   "outputs": [
    {
     "data": {
      "text/plain": [
       "array(['10', 'True'], dtype='<U8')"
      ]
     },
     "execution_count": 329,
     "metadata": {},
     "output_type": "execute_result"
    }
   ],
   "source": [
    "Array3D[[0,1],[1,0],[4,2]] #0th Array, 1st Row & 4th col=10   1st Array, 0th Row & 2nd col=True"
   ]
  },
  {
   "cell_type": "code",
   "execution_count": 330,
   "metadata": {},
   "outputs": [
    {
     "data": {
      "text/plain": [
       "array(['39', '(19+10j)'], dtype='<U8')"
      ]
     },
     "execution_count": 330,
     "metadata": {},
     "output_type": "execute_result"
    }
   ],
   "source": [
    "Array3D[[0,1],[0,1],[4,2]] #0th Array, 0th Row & 4th col=39   1st Array, 1st Row & 2nd col=19+10j"
   ]
  },
  {
   "cell_type": "code",
   "execution_count": 331,
   "metadata": {},
   "outputs": [
    {
     "data": {
      "text/plain": [
       "array(['17', 'True'], dtype='<U8')"
      ]
     },
     "execution_count": 331,
     "metadata": {},
     "output_type": "execute_result"
    }
   ],
   "source": [
    "Array3D[[1,0],[1,0],[4,2]] #1st Array, 1st Row & 4th col=17   0th Array, 0th Row & 2nd col=True"
   ]
  },
  {
   "cell_type": "markdown",
   "metadata": {},
   "source": [
    "### Boolean Indexing"
   ]
  },
  {
   "cell_type": "code",
   "execution_count": 332,
   "metadata": {},
   "outputs": [
    {
     "name": "stdout",
     "output_type": "stream",
     "text": [
      "[[[ 12.   +0.j  31.  +10.j  29.   +0.j -66.69 +0.j  39.   +0.j]\n",
      "  [-10.1  +0.j -89.   +0.j -76.   +0.j 100.   +0.j  10.   +0.j]]\n",
      "\n",
      " [[ 45.   +0.j  54.   +0.j  11.   -9.j -36.69 +0.j  32.   +0.j]\n",
      "  [-10.16 +0.j  29.   +0.j  19.   +0.j -12.   +0.j  17.   +0.j]]]\n"
     ]
    }
   ],
   "source": [
    "#Creating 3D Array of Tuples\n",
    "Array3D=array((((12,31+10j,29,-66.69,39),(-10.10,-89,-76,100,10)),((45,54,11-9j,-36.69,32),(-10.16,29,19,-12,17))))\n",
    "print(Array3D)"
   ]
  },
  {
   "cell_type": "code",
   "execution_count": 333,
   "metadata": {},
   "outputs": [
    {
     "data": {
      "text/plain": [
       "array([ 12. +0.j,  31.+10.j,  29. +0.j,  39. +0.j, 100. +0.j,  10. +0.j,\n",
       "        45. +0.j,  54. +0.j,  11. -9.j,  32. +0.j,  29. +0.j,  19. +0.j,\n",
       "        17. +0.j])"
      ]
     },
     "execution_count": 333,
     "metadata": {},
     "output_type": "execute_result"
    }
   ],
   "source": [
    "Array3D[Array3D>0] #Shows the elements greater then 0"
   ]
  },
  {
   "cell_type": "code",
   "execution_count": 334,
   "metadata": {},
   "outputs": [
    {
     "data": {
      "text/plain": [
       "array([-66.69+0.j, -10.1 +0.j, -89.  +0.j, -76.  +0.j, -36.69+0.j,\n",
       "       -10.16+0.j, -12.  +0.j])"
      ]
     },
     "execution_count": 334,
     "metadata": {},
     "output_type": "execute_result"
    }
   ],
   "source": [
    "Array3D[Array3D<0] #Shows the elements lesser then 0"
   ]
  },
  {
   "cell_type": "code",
   "execution_count": 335,
   "metadata": {},
   "outputs": [
    {
     "name": "stdout",
     "output_type": "stream",
     "text": [
      "[[[ 12.    31.    29.   -66.69  39.  ]\n",
      "  [-10.1  -89.   -76.   100.    10.  ]]\n",
      "\n",
      " [[ 45.    54.    11.   -36.69  32.  ]\n",
      "  [-10.16  29.    19.   -12.    17.  ]]]\n"
     ]
    }
   ],
   "source": [
    "#Creating 3D Array of Tuples\n",
    "Array3D=array((((12,31,29,-66.69,39),(-10.10,-89,-76,100,10)),((45,54,11,-36.69,32),(-10.16,29,19,-12,17))))\n",
    "print(Array3D)"
   ]
  },
  {
   "cell_type": "code",
   "execution_count": 336,
   "metadata": {},
   "outputs": [
    {
     "data": {
      "text/plain": [
       "array([ 12.,  31.,  29.,  39., 100.,  10.,  45.,  54.,  11.,  32.,  29.,\n",
       "        19.,  17.])"
      ]
     },
     "execution_count": 336,
     "metadata": {},
     "output_type": "execute_result"
    }
   ],
   "source": [
    "Array3D[Array3D>0]"
   ]
  },
  {
   "cell_type": "code",
   "execution_count": 337,
   "metadata": {},
   "outputs": [
    {
     "data": {
      "text/plain": [
       "array([-66.69, -10.1 , -89.  , -76.  , -36.69, -10.16, -12.  ])"
      ]
     },
     "execution_count": 337,
     "metadata": {},
     "output_type": "execute_result"
    }
   ],
   "source": [
    "Array3D[Array3D<0]"
   ]
  },
  {
   "cell_type": "markdown",
   "metadata": {},
   "source": [
    "## Airthmatic Operations in Numpy Array"
   ]
  },
  {
   "cell_type": "code",
   "execution_count": 338,
   "metadata": {},
   "outputs": [],
   "source": [
    "#1. At the time of performing Airthmatic operation there shouldn't be any String element\n",
    "#2. Using Scalars\n",
    "#3. B/W Arrays"
   ]
  },
  {
   "cell_type": "markdown",
   "metadata": {},
   "source": [
    "### Using Scalars"
   ]
  },
  {
   "cell_type": "code",
   "execution_count": 339,
   "metadata": {},
   "outputs": [
    {
     "name": "stdout",
     "output_type": "stream",
     "text": [
      "[45.  +9.j  1.  +0.j 39.69+0.j 39.  +0.j]\n"
     ]
    }
   ],
   "source": [
    "#Creating 1D array from 1 list\n",
    "# There is no \"STRING\" element present in the Array1D\n",
    "# So all elements got converted into Complex by default\n",
    "Array1D=array([45+9j,True,39.69,39]) #Convert the list into array\n",
    "print(Array1D)"
   ]
  },
  {
   "cell_type": "code",
   "execution_count": 340,
   "metadata": {},
   "outputs": [
    {
     "name": "stdout",
     "output_type": "stream",
     "text": [
      "[[45.   +9.j  1.   +0.j 39.69 +0.j 39.   +0.j]\n",
      " [10.1  +0.j 10.  +10.j  0.   +0.j 10.   +0.j]\n",
      " [ 1.   +0.j  2.   +0.j  3.   +0.j  4.   +0.j]\n",
      " [ 6.   +0.j  7.   +0.j  8.   +0.j  9.   +0.j]]\n"
     ]
    },
    {
     "data": {
      "text/plain": [
       "(16, 2)"
      ]
     },
     "execution_count": 340,
     "metadata": {},
     "output_type": "execute_result"
    }
   ],
   "source": [
    "#Creating 2D array from 4 lists\n",
    "# There is no \"STRING\" element present in the Array2D\n",
    "# So by default all elements of this 2D Array got converted into Complex\n",
    "Array2D=array([[45+9j,True,39.69,39],[10.10,10+10j,False,10],[1,2,3,4],[6,7,8,9]])\n",
    "print(Array2D)\n",
    "shape(Array2D) #4 rows & 5 coloumns\n",
    "size(Array2D),ndim(Array2D) #Total 20 elements"
   ]
  },
  {
   "cell_type": "code",
   "execution_count": 341,
   "metadata": {},
   "outputs": [
    {
     "data": {
      "text/plain": [
       "2"
      ]
     },
     "execution_count": 341,
     "metadata": {},
     "output_type": "execute_result"
    }
   ],
   "source": [
    "ndim(Array2D)"
   ]
  },
  {
   "cell_type": "code",
   "execution_count": 342,
   "metadata": {},
   "outputs": [
    {
     "data": {
      "text/plain": [
       "array([53.  +9.j,  9.  +0.j, 47.69+0.j, 47.  +0.j])"
      ]
     },
     "execution_count": 342,
     "metadata": {},
     "output_type": "execute_result"
    }
   ],
   "source": [
    "Array1D+8 #All Complex elements of Array1D got increased by 8"
   ]
  },
  {
   "cell_type": "code",
   "execution_count": 343,
   "metadata": {},
   "outputs": [
    {
     "data": {
      "text/plain": [
       "array([360.  +72.j,   8.   +0.j, 317.52 +0.j, 312.   +0.j])"
      ]
     },
     "execution_count": 343,
     "metadata": {},
     "output_type": "execute_result"
    }
   ],
   "source": [
    "Array1D*8 #All Complex elements of Array1D got multiplied by 8"
   ]
  },
  {
   "cell_type": "code",
   "execution_count": 344,
   "metadata": {},
   "outputs": [
    {
     "data": {
      "text/plain": [
       "array([[360.  +72.j,   8.   +0.j, 317.52 +0.j, 312.   +0.j],\n",
       "       [ 80.8  +0.j,  80.  +80.j,   0.   +0.j,  80.   +0.j],\n",
       "       [  8.   +0.j,  16.   +0.j,  24.   +0.j,  32.   +0.j],\n",
       "       [ 48.   +0.j,  56.   +0.j,  64.   +0.j,  72.   +0.j]])"
      ]
     },
     "execution_count": 344,
     "metadata": {},
     "output_type": "execute_result"
    }
   ],
   "source": [
    "Array2D*8 #All Complex elements of Array2D got multiplied by 8"
   ]
  },
  {
   "cell_type": "code",
   "execution_count": 345,
   "metadata": {},
   "outputs": [
    {
     "data": {
      "text/plain": [
       "array([[53.   +9.j,  9.   +0.j, 47.69 +0.j, 47.   +0.j],\n",
       "       [18.1  +0.j, 18.  +10.j,  8.   +0.j, 18.   +0.j],\n",
       "       [ 9.   +0.j, 10.   +0.j, 11.   +0.j, 12.   +0.j],\n",
       "       [14.   +0.j, 15.   +0.j, 16.   +0.j, 17.   +0.j]])"
      ]
     },
     "execution_count": 345,
     "metadata": {},
     "output_type": "execute_result"
    }
   ],
   "source": [
    "Array2D+8 #All Complex elements of Array2D got increased by 8"
   ]
  },
  {
   "cell_type": "code",
   "execution_count": 346,
   "metadata": {},
   "outputs": [
    {
     "data": {
      "text/plain": [
       "array([-1.64610661e+11+1.96706296e+13j,  1.00000000e+00+0.00000000e+00j,\n",
       "        6.15812913e+12+0.00000000e+00j,  5.35200926e+12+0.00000000e+00j])"
      ]
     },
     "execution_count": 346,
     "metadata": {},
     "output_type": "execute_result"
    }
   ],
   "source": [
    "Array1D**8 #All Complex elements of Array1D got powered by 8"
   ]
  },
  {
   "cell_type": "code",
   "execution_count": 347,
   "metadata": {},
   "outputs": [
    {
     "name": "stdout",
     "output_type": "stream",
     "text": [
      "[[[ 12.    31.    29.   -66.69  39.  ]\n",
      "  [-10.1  -89.   -76.   100.    10.  ]]\n",
      "\n",
      " [[ 45.    54.    11.   -36.69  32.  ]\n",
      "  [-10.16  29.    19.   -12.    17.  ]]]\n"
     ]
    },
    {
     "data": {
      "text/plain": [
       "(None, 3, 20, (2, 2, 5), dtype('float64'))"
      ]
     },
     "execution_count": 347,
     "metadata": {},
     "output_type": "execute_result"
    }
   ],
   "source": [
    "#Creating 3D Array of Tuples\n",
    "#All elements of Array3D got converted to float by default\n",
    "Array3D=array((((12,31,29,-66.69,39),(-10.10,-89,-76,100,10)),((45,54,11,-36.69,32),(-10.16,29,19,-12,17))))\n",
    "print(Array3D),ndim(Array3D),size(Array3D),shape(Array3D),Array3D.dtype"
   ]
  },
  {
   "cell_type": "code",
   "execution_count": 348,
   "metadata": {},
   "outputs": [
    {
     "data": {
      "text/plain": [
       "array([[[  60.  ,  155.  ,  145.  , -333.45,  195.  ],\n",
       "        [ -50.5 , -445.  , -380.  ,  500.  ,   50.  ]],\n",
       "\n",
       "       [[ 225.  ,  270.  ,   55.  , -183.45,  160.  ],\n",
       "        [ -50.8 ,  145.  ,   95.  ,  -60.  ,   85.  ]]])"
      ]
     },
     "execution_count": 348,
     "metadata": {},
     "output_type": "execute_result"
    }
   ],
   "source": [
    "Array3D*5 #All float elements of Array3D got multiplied by 5"
   ]
  },
  {
   "cell_type": "code",
   "execution_count": 349,
   "metadata": {},
   "outputs": [
    {
     "data": {
      "text/plain": [
       "array([[[ 2.48832000e+05,  2.86291510e+07,  2.05111490e+07,\n",
       "         -1.31917857e+09,  9.02241990e+07],\n",
       "        [-1.05101005e+05, -5.58405945e+09, -2.53552538e+09,\n",
       "          1.00000000e+10,  1.00000000e+05]],\n",
       "\n",
       "       [[ 1.84528125e+08,  4.59165024e+08,  1.61051000e+05,\n",
       "         -6.64872788e+07,  3.35544320e+07],\n",
       "        [-1.08260129e+05,  2.05111490e+07,  2.47609900e+06,\n",
       "         -2.48832000e+05,  1.41985700e+06]]])"
      ]
     },
     "execution_count": 349,
     "metadata": {},
     "output_type": "execute_result"
    }
   ],
   "source": [
    "Array3D**5 #All float elements of Array3D got powered by 5"
   ]
  },
  {
   "cell_type": "markdown",
   "metadata": {},
   "source": [
    "### B/W Arrays\n",
    "add(a,b), substract(a,b), multiply(a,b), divide(a,b), mod(a,b), power(a,b)"
   ]
  },
  {
   "cell_type": "code",
   "execution_count": 350,
   "metadata": {},
   "outputs": [
    {
     "data": {
      "text/plain": [
       "array([[90.  +18.j,  2.   +0.j, 79.38 +0.j, 78.   +0.j],\n",
       "       [55.1  +9.j, 11.  +10.j, 39.69 +0.j, 49.   +0.j],\n",
       "       [46.   +9.j,  3.   +0.j, 42.69 +0.j, 43.   +0.j],\n",
       "       [51.   +9.j,  8.   +0.j, 47.69 +0.j, 48.   +0.j]])"
      ]
     },
     "execution_count": 350,
     "metadata": {},
     "output_type": "execute_result"
    }
   ],
   "source": [
    "# Array1D got added through all the Rows of Array2D\n",
    "Array1D=array([45+9j,True,39.69,39])\n",
    "Array2D=array([[45+9j,True,39.69,39],[10.10,10+10j,False,10],[1,2,3,4],[6,7,8,9]])\n",
    "AddArray=Array1D+Array2D #Addition of 2 complex Arrays\n",
    "AddArray"
   ]
  },
  {
   "cell_type": "markdown",
   "metadata": {},
   "source": [
    "## Brodcasting"
   ]
  },
  {
   "cell_type": "code",
   "execution_count": 351,
   "metadata": {},
   "outputs": [],
   "source": [
    "#1. When we can't perform airthmatic operation b/W Arrays of different size or shape\n",
    "#2. Size of each dimention should be same\n",
    "#3. Size of one of the dimention should be 1"
   ]
  },
  {
   "cell_type": "code",
   "execution_count": 352,
   "metadata": {},
   "outputs": [
    {
     "name": "stdout",
     "output_type": "stream",
     "text": [
      "[[1 2]\n",
      " [3 4]\n",
      " [5 6]]\n"
     ]
    }
   ],
   "source": [
    "#2D Array made by 3 Lists\n",
    "Array2D=array([[1,2],[3,4],[5,6]])\n",
    "print(Array2D)"
   ]
  },
  {
   "cell_type": "code",
   "execution_count": 353,
   "metadata": {},
   "outputs": [],
   "source": [
    "# 1D Array\n",
    "Array1D=array([10,20])"
   ]
  },
  {
   "cell_type": "code",
   "execution_count": 354,
   "metadata": {},
   "outputs": [
    {
     "data": {
      "text/plain": [
       "array([[11, 22],\n",
       "       [13, 24],\n",
       "       [15, 26]])"
      ]
     },
     "execution_count": 354,
     "metadata": {},
     "output_type": "execute_result"
    }
   ],
   "source": [
    "Array1D+Array2D #Array1D has been added through all the Rows of Array2D"
   ]
  },
  {
   "cell_type": "code",
   "execution_count": 355,
   "metadata": {},
   "outputs": [
    {
     "data": {
      "text/plain": [
       "array([[ 10,  40],\n",
       "       [ 30,  80],\n",
       "       [ 50, 120]])"
      ]
     },
     "execution_count": 355,
     "metadata": {},
     "output_type": "execute_result"
    }
   ],
   "source": [
    "Array1D*Array2D #Array1D has been multiplied through all the Rows of Array2D"
   ]
  },
  {
   "cell_type": "markdown",
   "metadata": {},
   "source": [
    "## Array Manupulation"
   ]
  },
  {
   "cell_type": "code",
   "execution_count": 356,
   "metadata": {},
   "outputs": [],
   "source": [
    "#1. Reshaping Array\n",
    "#2. Array Flattening\n",
    "#3. Dimention Shuffling\n",
    "#4. Joining Arrays\n",
    "#5. Spilitting Arrays\n",
    "#6. Add/Remove elements to Array"
   ]
  },
  {
   "cell_type": "markdown",
   "metadata": {},
   "source": [
    "## Reshaping Array"
   ]
  },
  {
   "cell_type": "code",
   "execution_count": 357,
   "metadata": {},
   "outputs": [],
   "source": [
    "#1. array.reshape() this don't changes the actual array\n",
    "#2. resize(array,()) this don't changes the actual array, filling is always 1 directional Row wise\n",
    "#3. array.resize() this changes the actual array, filling is always 1 directional Row wise\n",
    "#4. Reshaping contains three things... Array, Shape, Order"
   ]
  },
  {
   "cell_type": "code",
   "execution_count": 358,
   "metadata": {},
   "outputs": [
    {
     "name": "stdout",
     "output_type": "stream",
     "text": [
      "Help on function reshape in module numpy:\n",
      "\n",
      "reshape(a, newshape, order='C')\n",
      "    scipy.reshape is deprecated and will be removed in SciPy 2.0.0, use numpy.reshape instead\n",
      "\n"
     ]
    }
   ],
   "source": [
    "help(reshape)"
   ]
  },
  {
   "cell_type": "code",
   "execution_count": 466,
   "metadata": {},
   "outputs": [
    {
     "name": "stdout",
     "output_type": "stream",
     "text": [
      "[['KESHAV' '(45+9j)' 'True' '39.69' '39']\n",
      " ['10.1' 'Prashant' '(10+10j)' 'False' '10']]\n"
     ]
    }
   ],
   "source": [
    "#Creating 2D array from 2 lists\n",
    "#No of elements/length of each list should be same\n",
    "Array2D=array([[\"KESHAV\",45+9j,True,39.69,39],[10.10,'Prashant',10+10j,False,10]]) #Transforming nested list of 2 lists into Array\n",
    "print(Array2D) #2 rows & 5 cols"
   ]
  },
  {
   "cell_type": "code",
   "execution_count": 467,
   "metadata": {},
   "outputs": [
    {
     "data": {
      "text/plain": [
       "array([['KESHAV', '(45+9j)'],\n",
       "       ['True', '39.69'],\n",
       "       ['39', '10.1'],\n",
       "       ['Prashant', '(10+10j)'],\n",
       "       ['False', '10']], dtype='<U8')"
      ]
     },
     "execution_count": 467,
     "metadata": {},
     "output_type": "execute_result"
    }
   ],
   "source": [
    "# reshape to 5 rows & 2 cols\n",
    "Array2D.reshape(5,2) #Row wise filling"
   ]
  },
  {
   "cell_type": "code",
   "execution_count": 468,
   "metadata": {},
   "outputs": [
    {
     "data": {
      "text/plain": [
       "array([['KESHAV', '(10+10j)'],\n",
       "       ['10.1', '39.69'],\n",
       "       ['(45+9j)', 'False'],\n",
       "       ['Prashant', '39'],\n",
       "       ['True', '10']], dtype='<U8')"
      ]
     },
     "execution_count": 468,
     "metadata": {},
     "output_type": "execute_result"
    }
   ],
   "source": [
    "# reshape to 5 rows & 2 cols\n",
    "Array2D.reshape(5,2,order=\"F\") #Colwise filling"
   ]
  },
  {
   "cell_type": "code",
   "execution_count": 469,
   "metadata": {},
   "outputs": [
    {
     "data": {
      "text/plain": [
       "array([['KESHAV', '(45+9j)'],\n",
       "       ['True', '39.69'],\n",
       "       ['39', '10.1'],\n",
       "       ['Prashant', '(10+10j)'],\n",
       "       ['False', '10']], dtype='<U8')"
      ]
     },
     "execution_count": 469,
     "metadata": {},
     "output_type": "execute_result"
    }
   ],
   "source": [
    "# reshape to 5 rows & 2 cols\n",
    "Array2D.reshape(5,2,order=\"A\") #Row wise filling"
   ]
  },
  {
   "cell_type": "code",
   "execution_count": 470,
   "metadata": {},
   "outputs": [
    {
     "data": {
      "text/plain": [
       "array([['KESHAV', '(45+9j)'],\n",
       "       ['True', '39.69'],\n",
       "       ['39', '10.1'],\n",
       "       ['Prashant', '(10+10j)'],\n",
       "       ['False', '10']], dtype='<U8')"
      ]
     },
     "execution_count": 470,
     "metadata": {},
     "output_type": "execute_result"
    }
   ],
   "source": [
    "# reshape to 5 rows & 2 cols\n",
    "Array2D.reshape(5,2,order=\"C\") #Row wise filling"
   ]
  },
  {
   "cell_type": "code",
   "execution_count": 471,
   "metadata": {},
   "outputs": [
    {
     "data": {
      "text/plain": [
       "array([['KESHAV', '(45+9j)', 'True', '39.69'],\n",
       "       ['39', '10.1', 'Prashant', '(10+10j)'],\n",
       "       ['False', '10', 'KESHAV', '(45+9j)'],\n",
       "       ['True', '39.69', '39', '10.1'],\n",
       "       ['Prashant', '(10+10j)', 'False', '10']], dtype='<U8')"
      ]
     },
     "execution_count": 471,
     "metadata": {},
     "output_type": "execute_result"
    }
   ],
   "source": [
    "# resize to 5 rows & 4 cols, 5*4=20 elements\n",
    "# While filling, Array elements get repeated if Row*Col > size(Array)\n",
    "# resize(array,()) this function always do Row wise filling\n",
    "# You can't change the filling process, always 1 directional filling\n",
    "from numpy import resize\n",
    "resize(Array2D,(5,4)) #Row wise filling, Order facility doesn't exist here with resize() function"
   ]
  },
  {
   "cell_type": "code",
   "execution_count": 472,
   "metadata": {},
   "outputs": [
    {
     "data": {
      "text/plain": [
       "array([['KESHAV', '(45+9j)'],\n",
       "       ['True', '39.69'],\n",
       "       ['39', '10.1'],\n",
       "       ['Prashant', '(10+10j)'],\n",
       "       ['False', '10']], dtype='<U8')"
      ]
     },
     "execution_count": 472,
     "metadata": {},
     "output_type": "execute_result"
    }
   ],
   "source": [
    "# resize to 5 rows & 2 cols, 5*2=10 elements\n",
    "Array2D.resize(5,2)\n",
    "Array2D  # Permanent shape change of Array2D"
   ]
  },
  {
   "cell_type": "code",
   "execution_count": 473,
   "metadata": {},
   "outputs": [
    {
     "name": "stdout",
     "output_type": "stream",
     "text": [
      "[['KESHAV' '(45+9j)' 'True' '39.69' '39']\n",
      " ['10.1' 'Prashant' '(10+10j)' 'False' '10']]\n"
     ]
    },
    {
     "data": {
      "text/plain": [
       "(None, dtype('<U8'), (2, 5), 10, 2)"
      ]
     },
     "execution_count": 473,
     "metadata": {},
     "output_type": "execute_result"
    }
   ],
   "source": [
    "#Creating 2D array from 2 lists\n",
    "#No of elements/length of each list should be same\n",
    "New2D=array([[\"KESHAV\",45+9j,True,39.69,39],[10.10,'Prashant',10+10j,False,10]]) #Transforming nested list of 2 lists into Array\n",
    "print(New2D),New2D.dtype,shape(New2D),size(New2D),ndim(New2D) #2 rows & 5 cols"
   ]
  },
  {
   "cell_type": "code",
   "execution_count": 474,
   "metadata": {},
   "outputs": [
    {
     "name": "stdout",
     "output_type": "stream",
     "text": [
      "[['KESHAV' '(45+9j)']\n",
      " ['True' '39.69']\n",
      " ['39' '10.1']\n",
      " ['Prashant' '(10+10j)']\n",
      " ['False' '10']]\n"
     ]
    }
   ],
   "source": [
    "# resize to 5 rows & 2 cols, 5*2=10 elements\n",
    "New2D.resize(5,2) #This kind of reshape always changes the original Array permanently\n",
    "print(New2D)      #Row wise filling"
   ]
  },
  {
   "cell_type": "markdown",
   "metadata": {},
   "source": [
    "## Array Flattening by using flatten() & ravel()"
   ]
  },
  {
   "cell_type": "code",
   "execution_count": 475,
   "metadata": {},
   "outputs": [],
   "source": [
    "#1. Array Flattening by using flatten() & ravel()\n",
    "#2. Flattening means Dimention convertion of Array\n",
    "#3. From 4D, 3D, 2D to 1D conversion\n",
    "#4. Flatten method creates a copy of the Original Array\n",
    "#5. Ravel method just gives you a temporary view\n",
    "#6. You can't write flatten() as this format because this is not a function\n",
    "#7. You can write ravel() as this format, because this is an function"
   ]
  },
  {
   "cell_type": "code",
   "execution_count": 476,
   "metadata": {},
   "outputs": [
    {
     "name": "stdout",
     "output_type": "stream",
     "text": [
      "[['KESHAV' '(45+9j)' 'True' '39.69' '39']\n",
      " ['10.1' 'Prashant' '(10+10j)' 'False' '10']]\n"
     ]
    }
   ],
   "source": [
    "#Creating 2D array from 2 lists\n",
    "#No of elements/length of each list should be same\n",
    "New2D=array([[\"KESHAV\",45+9j,True,39.69,39],[10.10,'Prashant',10+10j,False,10]]) #Transforming nested list of 2 lists into Array\n",
    "print(New2D)"
   ]
  },
  {
   "cell_type": "code",
   "execution_count": 477,
   "metadata": {},
   "outputs": [
    {
     "data": {
      "text/plain": [
       "array(['KESHAV', '(45+9j)', 'True', '39.69', '39', '10.1', 'Prashant',\n",
       "       '(10+10j)', 'False', '10'], dtype='<U8')"
      ]
     },
     "execution_count": 477,
     "metadata": {},
     "output_type": "execute_result"
    }
   ],
   "source": [
    "# Row wise 2D to 1D conversion\n",
    "New2D.flatten() #Row wise flatten"
   ]
  },
  {
   "cell_type": "code",
   "execution_count": 478,
   "metadata": {},
   "outputs": [
    {
     "data": {
      "text/plain": [
       "array(['KESHAV', '10.1', '(45+9j)', 'Prashant', 'True', '(10+10j)',\n",
       "       '39.69', 'False', '39', '10'], dtype='<U8')"
      ]
     },
     "execution_count": 478,
     "metadata": {},
     "output_type": "execute_result"
    }
   ],
   "source": [
    "# Col wise 2D to 1D conversion\n",
    "New2D.flatten(order=\"F\") #Col wise flatten"
   ]
  },
  {
   "cell_type": "code",
   "execution_count": 479,
   "metadata": {},
   "outputs": [
    {
     "name": "stdout",
     "output_type": "stream",
     "text": [
      "[[['KESHAV' '(45+9j)' 'True' '39.69' '39']\n",
      "  ['10.1' 'Prashant' '(10+10j)' 'False' '10']]\n",
      "\n",
      " [['RAGHAV' '(49+9j)' 'True' '36.69' '36']\n",
      "  ['10.16' 'Prashant' '(19+10j)' 'False' '17']]]\n"
     ]
    }
   ],
   "source": [
    "#Creating 3D Array of Tuples\n",
    "Array3D=array((((\"KESHAV\",45+9j,True,39.69,39),(10.10,'Prashant',10+10j,False,10)),((\"RAGHAV\",49+9j,True,36.69,36),(10.16,'Prashant',19+10j,False,17))))\n",
    "print(Array3D)"
   ]
  },
  {
   "cell_type": "code",
   "execution_count": 480,
   "metadata": {},
   "outputs": [
    {
     "data": {
      "text/plain": [
       "array(['KESHAV', '(45+9j)', 'True', '39.69', '39', '10.1', 'Prashant',\n",
       "       '(10+10j)', 'False', '10', 'RAGHAV', '(49+9j)', 'True', '36.69',\n",
       "       '36', '10.16', 'Prashant', '(19+10j)', 'False', '17'], dtype='<U8')"
      ]
     },
     "execution_count": 480,
     "metadata": {},
     "output_type": "execute_result"
    }
   ],
   "source": [
    "# Row wise 3D to 1D conversion\n",
    "Array3D.flatten() #Row wise flatten"
   ]
  },
  {
   "cell_type": "code",
   "execution_count": 481,
   "metadata": {},
   "outputs": [
    {
     "data": {
      "text/plain": [
       "array(['KESHAV', 'RAGHAV', '10.1', '10.16', '(45+9j)', '(49+9j)',\n",
       "       'Prashant', 'Prashant', 'True', 'True', '(10+10j)', '(19+10j)',\n",
       "       '39.69', '36.69', 'False', 'False', '39', '36', '10', '17'],\n",
       "      dtype='<U8')"
      ]
     },
     "execution_count": 481,
     "metadata": {},
     "output_type": "execute_result"
    }
   ],
   "source": [
    "# Col wise 3D to 1D conversion\n",
    "Array3D.flatten(order=\"F\") #Col wise flatten"
   ]
  },
  {
   "cell_type": "code",
   "execution_count": 484,
   "metadata": {},
   "outputs": [
    {
     "data": {
      "text/plain": [
       "array(['KESHAV', '(45+9j)', 'True', '39.69', '39', '10.1', 'Prashant',\n",
       "       '(10+10j)', 'False', '10', 'RAGHAV', '(49+9j)', 'True', '36.69',\n",
       "       '36', '10.16', 'Prashant', '(19+10j)', 'False', '17'], dtype='<U8')"
      ]
     },
     "execution_count": 484,
     "metadata": {},
     "output_type": "execute_result"
    }
   ],
   "source": [
    "# Row wise 3D to 1D conversion\n",
    "from numpy import ravel\n",
    "ravel(Array3D,order=\"c\") #Row wise flatten"
   ]
  },
  {
   "cell_type": "code",
   "execution_count": 485,
   "metadata": {},
   "outputs": [
    {
     "data": {
      "text/plain": [
       "array(['KESHAV', 'RAGHAV', '10.1', '10.16', '(45+9j)', '(49+9j)',\n",
       "       'Prashant', 'Prashant', 'True', 'True', '(10+10j)', '(19+10j)',\n",
       "       '39.69', '36.69', 'False', 'False', '39', '36', '10', '17'],\n",
       "      dtype='<U8')"
      ]
     },
     "execution_count": 485,
     "metadata": {},
     "output_type": "execute_result"
    }
   ],
   "source": [
    "# Col wise 3D to 1D conversion\n",
    "ravel(Array3D,order=\"F\") #Col wise flatten"
   ]
  },
  {
   "cell_type": "code",
   "execution_count": 486,
   "metadata": {},
   "outputs": [
    {
     "data": {
      "text/plain": [
       "array(['KESHAV', '(45+9j)', 'True', '39.69', '39', '10.1', 'Prashant',\n",
       "       '(10+10j)', 'False', '10', 'RAGHAV', '(49+9j)', 'True', '36.69',\n",
       "       '36', '10.16', 'Prashant', '(19+10j)', 'False', '17'], dtype='<U8')"
      ]
     },
     "execution_count": 486,
     "metadata": {},
     "output_type": "execute_result"
    }
   ],
   "source": [
    "# Row wise 3D to 1D conversion\n",
    "ravel(Array3D,order=\"A\") #Row wise flatten"
   ]
  },
  {
   "cell_type": "code",
   "execution_count": 487,
   "metadata": {},
   "outputs": [
    {
     "data": {
      "text/plain": [
       "array(['KESHAV', '(45+9j)', 'True', '39.69', '39', '10.1', 'Prashant',\n",
       "       '(10+10j)', 'False', '10', 'RAGHAV', '(49+9j)', 'True', '36.69',\n",
       "       '36', '10.16', 'Prashant', '(19+10j)', 'False', '17'], dtype='<U8')"
      ]
     },
     "execution_count": 487,
     "metadata": {},
     "output_type": "execute_result"
    }
   ],
   "source": [
    "# Row wise 3D to 1D conversion\n",
    "Array3D.ravel() #Row wise flatten"
   ]
  },
  {
   "cell_type": "code",
   "execution_count": 488,
   "metadata": {},
   "outputs": [
    {
     "data": {
      "text/plain": [
       "array(['KESHAV', '(45+9j)', 'True', '39.69', '39', '10.1', 'Prashant',\n",
       "       '(10+10j)', 'False', '10', 'RAGHAV', '(49+9j)', 'True', '36.69',\n",
       "       '36', '10.16', 'Prashant', '(19+10j)', 'False', '17'], dtype='<U8')"
      ]
     },
     "execution_count": 488,
     "metadata": {},
     "output_type": "execute_result"
    }
   ],
   "source": [
    "# Row wise 3D to 1D conversion\n",
    "Array3D.ravel(order=\"c\") #Row wise flatten"
   ]
  },
  {
   "cell_type": "code",
   "execution_count": 489,
   "metadata": {},
   "outputs": [
    {
     "data": {
      "text/plain": [
       "array(['KESHAV', 'RAGHAV', '10.1', '10.16', '(45+9j)', '(49+9j)',\n",
       "       'Prashant', 'Prashant', 'True', 'True', '(10+10j)', '(19+10j)',\n",
       "       '39.69', '36.69', 'False', 'False', '39', '36', '10', '17'],\n",
       "      dtype='<U8')"
      ]
     },
     "execution_count": 489,
     "metadata": {},
     "output_type": "execute_result"
    }
   ],
   "source": [
    "# Col wise 3D to 1D conversion\n",
    "Array3D.ravel(order=\"F\") #Col wise flatten"
   ]
  },
  {
   "cell_type": "code",
   "execution_count": 490,
   "metadata": {},
   "outputs": [
    {
     "data": {
      "text/plain": [
       "array(['KESHAV', '(45+9j)', 'True', '39.69', '39', '10.1', 'Prashant',\n",
       "       '(10+10j)', 'False', '10', 'RAGHAV', '(49+9j)', 'True', '36.69',\n",
       "       '36', '10.16', 'Prashant', '(19+10j)', 'False', '17'], dtype='<U8')"
      ]
     },
     "execution_count": 490,
     "metadata": {},
     "output_type": "execute_result"
    }
   ],
   "source": [
    "# Row wise 3D to 1D conversion\n",
    "Array3D.ravel(order=\"A\") #Row wise flatten"
   ]
  },
  {
   "cell_type": "markdown",
   "metadata": {},
   "source": [
    "## Dimension Shuffling by using Transpose and Swapaxes"
   ]
  },
  {
   "cell_type": "code",
   "execution_count": 491,
   "metadata": {},
   "outputs": [],
   "source": [
    "#transpose() function, works with all Axises/Dimensions\n",
    "#swapaxes() function, works with any two Axises/Dimensions\n",
    "#For 2D rowAxis=0, colAxis=1\n",
    "#For 3D ArrayAxis=0, RowAxis=1, colAxis=2"
   ]
  },
  {
   "cell_type": "markdown",
   "metadata": {},
   "source": [
    "### transpose()"
   ]
  },
  {
   "cell_type": "code",
   "execution_count": 492,
   "metadata": {},
   "outputs": [
    {
     "name": "stdout",
     "output_type": "stream",
     "text": [
      "[[['KESHAV' '(45+9j)' 'True' '39.69' '39']\n",
      "  ['10.1' 'Prashant' '(10+10j)' 'False' '10']]\n",
      "\n",
      " [['RAGHAV' '(49+9j)' 'True' '36.69' '36']\n",
      "  ['10.16' 'Prashant' '(19+10j)' 'False' '17']]]\n"
     ]
    },
    {
     "data": {
      "text/plain": [
       "(None, (2, 2, 5), 3, 20, dtype('<U8'))"
      ]
     },
     "execution_count": 492,
     "metadata": {},
     "output_type": "execute_result"
    }
   ],
   "source": [
    "#Creating 3D Array of Tuples\n",
    "Array3D=array((((\"KESHAV\",45+9j,True,39.69,39),(10.10,'Prashant',10+10j,False,10)),((\"RAGHAV\",49+9j,True,36.69,36),(10.16,'Prashant',19+10j,False,17))))\n",
    "print(Array3D),shape(Array3D),ndim(Array3D),size(Array3D),Array3D.dtype"
   ]
  },
  {
   "cell_type": "code",
   "execution_count": 493,
   "metadata": {},
   "outputs": [
    {
     "data": {
      "text/plain": [
       "((2, 2, 5), 3, 20, dtype('<U8'))"
      ]
     },
     "execution_count": 493,
     "metadata": {},
     "output_type": "execute_result"
    }
   ],
   "source": [
    "shape(Array3D),ndim(Array3D),size(Array3D),Array3D.dtype #2 Arrays, 2rows, 5 cols"
   ]
  },
  {
   "cell_type": "code",
   "execution_count": 494,
   "metadata": {},
   "outputs": [
    {
     "data": {
      "text/plain": [
       "array([[['KESHAV', 'RAGHAV'],\n",
       "        ['10.1', '10.16']],\n",
       "\n",
       "       [['(45+9j)', '(49+9j)'],\n",
       "        ['Prashant', 'Prashant']],\n",
       "\n",
       "       [['True', 'True'],\n",
       "        ['(10+10j)', '(19+10j)']],\n",
       "\n",
       "       [['39.69', '36.69'],\n",
       "        ['False', 'False']],\n",
       "\n",
       "       [['39', '36'],\n",
       "        ['10', '17']]], dtype='<U8')"
      ]
     },
     "execution_count": 494,
     "metadata": {},
     "output_type": "execute_result"
    }
   ],
   "source": [
    "#5 Arrays, 2 rows, 2 cols\n",
    "#For 3D ArrayAxis=0, RowAxis=1, colAxis=2\n",
    "from numpy import transpose\n",
    "transpose(Array3D) #Reverse the Dimention of Array3D\n",
    "                   #By using transpose() function we can interchange all the axises"
   ]
  },
  {
   "cell_type": "code",
   "execution_count": 495,
   "metadata": {},
   "outputs": [
    {
     "data": {
      "text/plain": [
       "<function ndarray.transpose>"
      ]
     },
     "execution_count": 495,
     "metadata": {},
     "output_type": "execute_result"
    }
   ],
   "source": [
    "#For 3D ArrayAxis=0, RowAxis=1, colAxis=2\n",
    "Array3D.transpose  #Reverse the Dimention of Array3D\n",
    "                   #By using transpose() function we can interchange all the axises"
   ]
  },
  {
   "cell_type": "code",
   "execution_count": 496,
   "metadata": {},
   "outputs": [
    {
     "data": {
      "text/plain": [
       "array([[['KESHAV', 'RAGHAV'],\n",
       "        ['10.1', '10.16']],\n",
       "\n",
       "       [['(45+9j)', '(49+9j)'],\n",
       "        ['Prashant', 'Prashant']],\n",
       "\n",
       "       [['True', 'True'],\n",
       "        ['(10+10j)', '(19+10j)']],\n",
       "\n",
       "       [['39.69', '36.69'],\n",
       "        ['False', 'False']],\n",
       "\n",
       "       [['39', '36'],\n",
       "        ['10', '17']]], dtype='<U8')"
      ]
     },
     "execution_count": 496,
     "metadata": {},
     "output_type": "execute_result"
    }
   ],
   "source": [
    "#5 Arrays, 2 rows, 2 cols\n",
    "#For 3D ArrayAxis=0, RowAxis=1, colAxis=2\n",
    "Array3D.transpose() #Reverse the Dimention of Array3D\n",
    "                    #By using transpose() function we can interchange all the axises"
   ]
  },
  {
   "cell_type": "code",
   "execution_count": 497,
   "metadata": {},
   "outputs": [
    {
     "data": {
      "text/plain": [
       "(5, 2, 2)"
      ]
     },
     "execution_count": 497,
     "metadata": {},
     "output_type": "execute_result"
    }
   ],
   "source": [
    "#5 Arrays, 2 rows, 2 cols\n",
    "#For 3D ArrayAxis=0, RowAxis=1, colAxis=2\n",
    "transpose(Array3D).shape #Reverse the Dimention of Array3D\n",
    "                         #By using transpose() function we can interchange all the axises"
   ]
  },
  {
   "cell_type": "code",
   "execution_count": 498,
   "metadata": {},
   "outputs": [
    {
     "data": {
      "text/plain": [
       "(5, 2, 2)"
      ]
     },
     "execution_count": 498,
     "metadata": {},
     "output_type": "execute_result"
    }
   ],
   "source": [
    "#5 Arrays, 2 rows, 2 cols\n",
    "transpose(Array3D).shape #Reverse the Dimention of Array3D\n",
    "                         #By using transpose() function we can interchange all the axeses\n",
    "                         #For 3D ArrayAxis=0, RowAxis=1, colAxis=2"
   ]
  },
  {
   "cell_type": "code",
   "execution_count": 499,
   "metadata": {},
   "outputs": [
    {
     "data": {
      "text/plain": [
       "array([[['KESHAV', 'RAGHAV'],\n",
       "        ['(45+9j)', '(49+9j)'],\n",
       "        ['True', 'True'],\n",
       "        ['39.69', '36.69'],\n",
       "        ['39', '36']],\n",
       "\n",
       "       [['10.1', '10.16'],\n",
       "        ['Prashant', 'Prashant'],\n",
       "        ['(10+10j)', '(19+10j)'],\n",
       "        ['False', 'False'],\n",
       "        ['10', '17']]], dtype='<U8')"
      ]
     },
     "execution_count": 499,
     "metadata": {},
     "output_type": "execute_result"
    }
   ],
   "source": [
    "#2 Arrays, 5 rows, 2 cols\n",
    "#The transpose axeses always need be put inside extra ()\n",
    "#You need to mention axeses inside a Tuple\n",
    "transpose(Array3D,(1,2,0)) #For 3D ArrayAxis=0, RowAxis=1, colAxis=2"
   ]
  },
  {
   "cell_type": "code",
   "execution_count": 500,
   "metadata": {},
   "outputs": [
    {
     "data": {
      "text/plain": [
       "array([[['KESHAV', 'RAGHAV'],\n",
       "        ['(45+9j)', '(49+9j)'],\n",
       "        ['True', 'True'],\n",
       "        ['39.69', '36.69'],\n",
       "        ['39', '36']],\n",
       "\n",
       "       [['10.1', '10.16'],\n",
       "        ['Prashant', 'Prashant'],\n",
       "        ['(10+10j)', '(19+10j)'],\n",
       "        ['False', 'False'],\n",
       "        ['10', '17']]], dtype='<U8')"
      ]
     },
     "execution_count": 500,
     "metadata": {},
     "output_type": "execute_result"
    }
   ],
   "source": [
    "#2 Arrays, 5 rows, 2 cols\n",
    "#The transpose axeses always need be put inside extra ()\n",
    "#You need to mention axeses inside a Tuple\n",
    "transpose(Array3D,axes=(1,2,0)) #No need to write axes seperately"
   ]
  },
  {
   "cell_type": "code",
   "execution_count": 501,
   "metadata": {},
   "outputs": [
    {
     "name": "stdout",
     "output_type": "stream",
     "text": [
      "[['KESHAV' '(45+9j)' 'True' '39.69' '39']\n",
      " ['10.1' 'Prashant' '(10+10j)' 'False' '10']]\n"
     ]
    },
    {
     "data": {
      "text/plain": [
       "(None, (2, 5), 10, 2, dtype('<U8'))"
      ]
     },
     "execution_count": 501,
     "metadata": {},
     "output_type": "execute_result"
    }
   ],
   "source": [
    "#For 2D rowAxis=0, colAxis=1\n",
    "#Creating 2D array from 2 lists\n",
    "#No of elements/length of each list should be same\n",
    "New2D=array([[\"KESHAV\",45+9j,True,39.69,39],[10.10,'Prashant',10+10j,False,10]]) #Transforming nested list of 2 lists into Array\n",
    "print(New2D),shape(New2D),size(New2D),ndim(New2D),New2D.dtype"
   ]
  },
  {
   "cell_type": "code",
   "execution_count": 502,
   "metadata": {},
   "outputs": [
    {
     "data": {
      "text/plain": [
       "(array([['KESHAV', '10.1'],\n",
       "        ['(45+9j)', 'Prashant'],\n",
       "        ['True', '(10+10j)'],\n",
       "        ['39.69', 'False'],\n",
       "        ['39', '10']], dtype='<U8'),\n",
       " <function ndarray.transpose>,\n",
       " array([['KESHAV', '10.1'],\n",
       "        ['(45+9j)', 'Prashant'],\n",
       "        ['True', '(10+10j)'],\n",
       "        ['39.69', 'False'],\n",
       "        ['39', '10']], dtype='<U8'),\n",
       " (5, 2))"
      ]
     },
     "execution_count": 502,
     "metadata": {},
     "output_type": "execute_result"
    }
   ],
   "source": [
    "# 5 rows, 2 cols\n",
    "transpose(New2D),New2D.transpose,New2D.transpose(),transpose(New2D).shape    #For 2D rowAxis=0, colAxis=1"
   ]
  },
  {
   "cell_type": "code",
   "execution_count": 503,
   "metadata": {},
   "outputs": [
    {
     "data": {
      "text/plain": [
       "array([['KESHAV', '10.1'],\n",
       "       ['(45+9j)', 'Prashant'],\n",
       "       ['True', '(10+10j)'],\n",
       "       ['39.69', 'False'],\n",
       "       ['39', '10']], dtype='<U8')"
      ]
     },
     "execution_count": 503,
     "metadata": {},
     "output_type": "execute_result"
    }
   ],
   "source": [
    "# 5 rows, 2 cols\n",
    "#The transpose axeses always need be put inside extra ()\n",
    "#You need to mention axeses inside a Tuple\n",
    "transpose(New2D,(1,0)) #1,0 is same as reverse\n",
    "                       #For 2D rowAxis=0, colAxis=1"
   ]
  },
  {
   "cell_type": "code",
   "execution_count": 504,
   "metadata": {},
   "outputs": [
    {
     "data": {
      "text/plain": [
       "array([['KESHAV', '10.1'],\n",
       "       ['(45+9j)', 'Prashant'],\n",
       "       ['True', '(10+10j)'],\n",
       "       ['39.69', 'False'],\n",
       "       ['39', '10']], dtype='<U8')"
      ]
     },
     "execution_count": 504,
     "metadata": {},
     "output_type": "execute_result"
    }
   ],
   "source": [
    "# 5 rows, 2 cols\n",
    "#The transpose axeses always need be put inside extra ()\n",
    "#You need to mention axeses inside a Tuple\n",
    "transpose(New2D,axes=(1,0)) #no need to mention axes seperately\n",
    "                            #For 2D rowAxis=0, colAxis=1"
   ]
  },
  {
   "cell_type": "code",
   "execution_count": 505,
   "metadata": {},
   "outputs": [
    {
     "data": {
      "text/plain": [
       "array([['KESHAV', '(45+9j)', 'True', '39.69', '39'],\n",
       "       ['10.1', 'Prashant', '(10+10j)', 'False', '10']], dtype='<U8')"
      ]
     },
     "execution_count": 505,
     "metadata": {},
     "output_type": "execute_result"
    }
   ],
   "source": [
    "# 2 rows, 5 cols\n",
    "#The transpose axeses always need be put inside extra ()\n",
    "#You need to mention axeses inside a Tuple\n",
    "transpose(New2D,(0,1)) #For 2D rowAxis=0, colAxis=1"
   ]
  },
  {
   "cell_type": "code",
   "execution_count": 506,
   "metadata": {},
   "outputs": [
    {
     "data": {
      "text/plain": [
       "array([['KESHAV', '(45+9j)', 'True', '39.69', '39'],\n",
       "       ['10.1', 'Prashant', '(10+10j)', 'False', '10']], dtype='<U8')"
      ]
     },
     "execution_count": 506,
     "metadata": {},
     "output_type": "execute_result"
    }
   ],
   "source": [
    "# 2 rows, 5 cols\n",
    "#The transpose axeses always need be put inside extra ()\n",
    "#You need to mention axeses inside a Tuple\n",
    "transpose(New2D,axes=(0,1)) #don't need to mention axes\n",
    "                            #For 2D rowAxis=0, colAxis=1"
   ]
  },
  {
   "cell_type": "markdown",
   "metadata": {},
   "source": [
    "### swapaxes()"
   ]
  },
  {
   "cell_type": "code",
   "execution_count": 507,
   "metadata": {},
   "outputs": [],
   "source": [
    "#swapaxes()\n",
    "#You can interchange any two axis of given array... Array|Row  Array|Col  Row|Col\n",
    "#In the swapaxes() function we can interchange any 2 axis\n",
    "#Just mention the two axeses by giving comma... dont think about which axis to put first"
   ]
  },
  {
   "cell_type": "code",
   "execution_count": 508,
   "metadata": {},
   "outputs": [
    {
     "data": {
      "text/plain": [
       "((3,), 1)"
      ]
     },
     "execution_count": 508,
     "metadata": {},
     "output_type": "execute_result"
    }
   ],
   "source": [
    "#1D Array\n",
    "Ar1=array([1,2,3])\n",
    "shape(Ar1),ndim(Ar1)"
   ]
  },
  {
   "cell_type": "code",
   "execution_count": 509,
   "metadata": {},
   "outputs": [
    {
     "data": {
      "text/plain": [
       "((1, 3), 2)"
      ]
     },
     "execution_count": 509,
     "metadata": {},
     "output_type": "execute_result"
    }
   ],
   "source": [
    "#2D Array\n",
    "Ar2=array([[1,2,3]])\n",
    "shape(Ar2),ndim(Ar2) #1Row, 3col"
   ]
  },
  {
   "cell_type": "code",
   "execution_count": 510,
   "metadata": {},
   "outputs": [
    {
     "data": {
      "text/plain": [
       "array([[1],\n",
       "       [2],\n",
       "       [3]])"
      ]
     },
     "execution_count": 510,
     "metadata": {},
     "output_type": "execute_result"
    }
   ],
   "source": [
    "# 3 rows, 1 col\n",
    "#For swap you dont need to mention the 2 axeses in a Tuple\n",
    "from numpy import swapaxes\n",
    "swapaxes(Ar2,1,0) #3rows, 1col\n",
    "                  #For 2D rowAxis=0, colAxis=1\n",
    "                  #Row and Col have been swapped"
   ]
  },
  {
   "cell_type": "code",
   "execution_count": 511,
   "metadata": {},
   "outputs": [
    {
     "data": {
      "text/plain": [
       "array([[1],\n",
       "       [2],\n",
       "       [3]])"
      ]
     },
     "execution_count": 511,
     "metadata": {},
     "output_type": "execute_result"
    }
   ],
   "source": [
    "# 3 row, 1 cols\n",
    "#For swap you dont need to mention the 2 axeses in a Tuple\n",
    "swapaxes(Ar2,0,1) #3rows, 1col\n",
    "                  #For 2D rowAxis=0, colAxis=1\n",
    "                  #Here also Row & Col have been swapped"
   ]
  },
  {
   "cell_type": "code",
   "execution_count": 512,
   "metadata": {},
   "outputs": [
    {
     "name": "stdout",
     "output_type": "stream",
     "text": [
      "[[['KESHAV' '(45+9j)' 'True' '39.69' '39']\n",
      "  ['10.1' 'Prashant' '(10+10j)' 'False' '10']]\n",
      "\n",
      " [['RAGHAV' '(49+9j)' 'True' '36.69' '36']\n",
      "  ['10.16' 'Prashant' '(19+10j)' 'False' '17']]]\n"
     ]
    }
   ],
   "source": [
    "#Creating 3D Array made of 4 Tuples\n",
    "#For 3D ArrayAxis=0, RowAxis=1, colAxis=2\n",
    "Array3D=array((((\"KESHAV\",45+9j,True,39.69,39),(10.10,'Prashant',10+10j,False,10)),((\"RAGHAV\",49+9j,True,36.69,36),(10.16,'Prashant',19+10j,False,17))))\n",
    "print(Array3D)"
   ]
  },
  {
   "cell_type": "code",
   "execution_count": 513,
   "metadata": {},
   "outputs": [
    {
     "data": {
      "text/plain": [
       "(3, (2, 2, 5), 20, dtype('<U8'))"
      ]
     },
     "execution_count": 513,
     "metadata": {},
     "output_type": "execute_result"
    }
   ],
   "source": [
    "ndim(Array3D),shape(Array3D),size(Array3D),Array3D.dtype"
   ]
  },
  {
   "cell_type": "code",
   "execution_count": 514,
   "metadata": {},
   "outputs": [
    {
     "data": {
      "text/plain": [
       "(2, 2, 5)"
      ]
     },
     "execution_count": 514,
     "metadata": {},
     "output_type": "execute_result"
    }
   ],
   "source": [
    "#For 3D ArrayAxis=0, RowAxis=1, colAxis=2\n",
    "shape(Array3D) #2 Arrays, 2 rows, 5 cols"
   ]
  },
  {
   "cell_type": "code",
   "execution_count": 515,
   "metadata": {},
   "outputs": [
    {
     "data": {
      "text/plain": [
       "(2, 5, 2)"
      ]
     },
     "execution_count": 515,
     "metadata": {},
     "output_type": "execute_result"
    }
   ],
   "source": [
    "#For swap you dont need to mention the 2 axeses in a Tuple\n",
    "#For 3D ArrayAxis=0, RowAxis=1, colAxis=2\n",
    "#If you want to interchange any two axes of 3D array or 4D array or more you will use swapaxes() function\n",
    "#As there is only 2 axeses you can swap, you don't need to put extra () inside\n",
    "swapaxes(Array3D,2,1).shape #2 Arrays, 5 rows, 2 cols, row & col have been shuffled\n",
    "                            #Only Rows & Columns got shuffled here"
   ]
  },
  {
   "cell_type": "code",
   "execution_count": 516,
   "metadata": {},
   "outputs": [
    {
     "data": {
      "text/plain": [
       "(2, 5, 2)"
      ]
     },
     "execution_count": 516,
     "metadata": {},
     "output_type": "execute_result"
    }
   ],
   "source": [
    "#For swap you dont need to mention the 2 axeses in a Tuple\n",
    "#For 3D ArrayAxis=0, RowAxis=1, colAxis=2\n",
    "#If you want to interchange any two axes of 3D array or 4D array or more you will use swapaxes() function\n",
    "#As there is only 2 axeses you can swap, you don't need to put extra () inside\n",
    "swapaxes(Array3D,1,2).shape #2 Arrays, 5 rows, 2 cols, row & col have been shuffled\n",
    "                            #Here also we can see row & col have been shuffled, shape in same as b4"
   ]
  },
  {
   "cell_type": "markdown",
   "metadata": {},
   "source": [
    "## Splitting & Joining Multiple Arrays"
   ]
  },
  {
   "cell_type": "code",
   "execution_count": 517,
   "metadata": {},
   "outputs": [],
   "source": [
    "# You can't join arrays of different dimention While joining dimention of the arrays should be same\n",
    "#1. concatenete()\n",
    "#2. hstack()\n",
    "#3. vstack()"
   ]
  },
  {
   "cell_type": "code",
   "execution_count": 518,
   "metadata": {},
   "outputs": [
    {
     "name": "stdout",
     "output_type": "stream",
     "text": [
      "Help on function concatenate in module numpy:\n",
      "\n",
      "concatenate(...)\n",
      "    scipy.concatenate is deprecated and will be removed in SciPy 2.0.0, use numpy.concatenate instead\n",
      "\n"
     ]
    }
   ],
   "source": [
    "help(concatenate)"
   ]
  },
  {
   "cell_type": "code",
   "execution_count": 519,
   "metadata": {},
   "outputs": [
    {
     "name": "stdout",
     "output_type": "stream",
     "text": [
      "['KESHAV' '(45+9j)' 'True' '39.69' '39']\n"
     ]
    }
   ],
   "source": [
    "#Creating 1D array from 1 list\n",
    "ArrayX=array([\"KESHAV\",45+9j,True,39.69,39]) #Convert the list into array\n",
    "print(ArrayX)"
   ]
  },
  {
   "cell_type": "code",
   "execution_count": 520,
   "metadata": {},
   "outputs": [
    {
     "name": "stdout",
     "output_type": "stream",
     "text": [
      "['ROOBAL' '(39+9j)' 'False' '30.69' '32']\n"
     ]
    }
   ],
   "source": [
    "ArrayY=array([\"ROOBAL\",39+9j,False,30.69,32]) #Convert the list into array\n",
    "print(ArrayY)"
   ]
  },
  {
   "cell_type": "code",
   "execution_count": 522,
   "metadata": {},
   "outputs": [
    {
     "data": {
      "text/plain": [
       "array(['KESHAV', '(45+9j)', 'True', '39.69', '39', 'ROOBAL', '(39+9j)',\n",
       "       'False', '30.69', '32'], dtype='<U7')"
      ]
     },
     "execution_count": 522,
     "metadata": {},
     "output_type": "execute_result"
    }
   ],
   "source": [
    "#You need to mention Arrays in a Tuple by giving comma\n",
    "from numpy import concatenate\n",
    "ArrayXY=concatenate((ArrayX,ArrayY)) #One dimentional Arrays contain only 1 axis so no need to mention\n",
    "ArrayXY"
   ]
  },
  {
   "cell_type": "code",
   "execution_count": 523,
   "metadata": {},
   "outputs": [
    {
     "data": {
      "text/plain": [
       "array(['BHOOMI', '(29+9j)', 'True', '29.69', '56', '1', '2', '3', '4',\n",
       "       '5'], dtype='<U7')"
      ]
     },
     "execution_count": 523,
     "metadata": {},
     "output_type": "execute_result"
    }
   ],
   "source": [
    "#out= where to store the result of the concatenation\n",
    "ArrayZ=array([\"BHOOMI\",29+9j,True,29.69,56,1,2,3,4,5])\n",
    "ArrayZ"
   ]
  },
  {
   "cell_type": "code",
   "execution_count": 524,
   "metadata": {},
   "outputs": [
    {
     "data": {
      "text/plain": [
       "array(['KESHAV', '(45+9j)', 'True', '39.69', '39', 'ROOBAL', '(39+9j)',\n",
       "       'False', '30.69', '32'], dtype='<U7')"
      ]
     },
     "execution_count": 524,
     "metadata": {},
     "output_type": "execute_result"
    }
   ],
   "source": [
    "concatenate((ArrayX,ArrayY),out=ArrayZ) #We can store the concatination Result into Another Array having similar shape"
   ]
  },
  {
   "cell_type": "code",
   "execution_count": 525,
   "metadata": {},
   "outputs": [
    {
     "name": "stdout",
     "output_type": "stream",
     "text": [
      "['KESHAV' '(45+9j)' 'True' '39.69' '39' 'ROOBAL' '(39+9j)' 'False' '30.69'\n",
      " '32']\n"
     ]
    }
   ],
   "source": [
    "print(ArrayZ) #Elements of ArrayZ got changed by concatenated ArrayX & ArrayY"
   ]
  },
  {
   "cell_type": "code",
   "execution_count": 526,
   "metadata": {},
   "outputs": [
    {
     "name": "stdout",
     "output_type": "stream",
     "text": [
      "[['KESHAV' '(45+9j)' 'True' '39.69' '39']]\n"
     ]
    },
    {
     "data": {
      "text/plain": [
       "(None, 2)"
      ]
     },
     "execution_count": 526,
     "metadata": {},
     "output_type": "execute_result"
    }
   ],
   "source": [
    "#Now we will join 2D Arrays\n",
    "#Creating 2D array from 1 list\n",
    "Array2DX=array([[\"KESHAV\",45+9j,True,39.69,39]]) #Convert the list into array\n",
    "print(Array2DX),ndim(Array2DX)"
   ]
  },
  {
   "cell_type": "code",
   "execution_count": 527,
   "metadata": {},
   "outputs": [
    {
     "name": "stdout",
     "output_type": "stream",
     "text": [
      "[['KESHAV' '(45+9j)' 'True' '39.69' '39']\n",
      " ['10.1' 'Prashant' '(10+10j)' 'False' '10']]\n"
     ]
    }
   ],
   "source": [
    "#For 2D rowAxis=0, colAxis=1\n",
    "#Creating 2D array from 2 lists\n",
    "#No of elements/length of each list should be same\n",
    "Array2DY=array([[\"KESHAV\",45+9j,True,39.69,39],[10.10,'Prashant',10+10j,False,10]]) #Transforming nested list of 2 lists into Array\n",
    "print(Array2DY)"
   ]
  },
  {
   "cell_type": "code",
   "execution_count": 528,
   "metadata": {},
   "outputs": [
    {
     "name": "stdout",
     "output_type": "stream",
     "text": [
      "[['KESHAV' '(45+9j)' 'True' '39.69' '39']\n",
      " ['KESHAV' '(45+9j)' 'True' '39.69' '39']\n",
      " ['10.1' 'Prashant' '(10+10j)' 'False' '10']]\n"
     ]
    }
   ],
   "source": [
    "Concat=concatenate((Array2DX,Array2DY),axis=0) #Row wise concatenation\n",
    "print(Concat)                                  #Array2DX will come to the top place of Rows if place b4 comma (Array2DX,Array2DY)"
   ]
  },
  {
   "cell_type": "code",
   "execution_count": 529,
   "metadata": {},
   "outputs": [],
   "source": [
    "#Creating 2D array from 1 list, having 3 elements\n",
    "New2D=array([[\"KESHAV\",45+9j,True]])"
   ]
  },
  {
   "cell_type": "code",
   "execution_count": 530,
   "metadata": {},
   "outputs": [
    {
     "name": "stdout",
     "output_type": "stream",
     "text": [
      "[['KESHAV' 'KESHAV' '(45+9j)' 'True' '39.69' '39']\n",
      " ['(45+9j)' 'KESHAV' '(45+9j)' 'True' '39.69' '39']\n",
      " ['True' '10.1' 'Prashant' '(10+10j)' 'False' '10']]\n"
     ]
    }
   ],
   "source": [
    "Concat=concatenate((New2D.T,Concat),axis=1) #Col wise concatenation has been done, after Transposing New2D\n",
    "print(Concat)                            #New2D.T will come to the first place of cols if place b4 comma (New2D.T,Concat)"
   ]
  },
  {
   "cell_type": "code",
   "execution_count": 531,
   "metadata": {},
   "outputs": [
    {
     "name": "stdout",
     "output_type": "stream",
     "text": [
      "Help on function vstack in module numpy:\n",
      "\n",
      "vstack(tup)\n",
      "    scipy.vstack is deprecated and will be removed in SciPy 2.0.0, use numpy.vstack instead\n",
      "\n"
     ]
    }
   ],
   "source": [
    "help(vstack) #Row wise concatenation, axis=0"
   ]
  },
  {
   "cell_type": "code",
   "execution_count": 533,
   "metadata": {},
   "outputs": [
    {
     "name": "stdout",
     "output_type": "stream",
     "text": [
      "[['KESHAV' '(45+9j)' 'True' '39.69' '39']\n",
      " ['ROOBAL' '(39+9j)' 'False' '30.69' '32']]\n"
     ]
    }
   ],
   "source": [
    "#When we apply vstack() on 1D Array, it joins 1D Arrays Row wise(axis=0) and Creates a 2D array\n",
    "from numpy import vstack\n",
    "ArrayX=array([\"KESHAV\",45+9j,True,39.69,39])\n",
    "ArrayY=array([\"ROOBAL\",39+9j,False,30.69,32])\n",
    "Vstack=vstack((ArrayX,ArrayY))\n",
    "print(Vstack) #2 1D arrays have been concatenated row wise(axis=0) into a 2D Array"
   ]
  },
  {
   "cell_type": "code",
   "execution_count": 534,
   "metadata": {},
   "outputs": [
    {
     "data": {
      "text/plain": [
       "2"
      ]
     },
     "execution_count": 534,
     "metadata": {},
     "output_type": "execute_result"
    }
   ],
   "source": [
    "ndim(Vstack)"
   ]
  },
  {
   "cell_type": "code",
   "execution_count": 535,
   "metadata": {},
   "outputs": [
    {
     "name": "stdout",
     "output_type": "stream",
     "text": [
      "[['KESHAV' '(45+9j)' 'True' '39.69' '39']]\n"
     ]
    },
    {
     "data": {
      "text/plain": [
       "(None, 2)"
      ]
     },
     "execution_count": 535,
     "metadata": {},
     "output_type": "execute_result"
    }
   ],
   "source": [
    "#Creating 2D array from 1 list\n",
    "Array2DX=array([[\"KESHAV\",45+9j,True,39.69,39]]) #Convert the list into array\n",
    "print(Array2DX),ndim(Array2DX)"
   ]
  },
  {
   "cell_type": "code",
   "execution_count": 536,
   "metadata": {},
   "outputs": [
    {
     "name": "stdout",
     "output_type": "stream",
     "text": [
      "[['RAMAN' '(47+9j)' 'True' '37.69' '37']\n",
      " ['10.1' 'Prashant' '(10+10j)' 'False' '10']]\n"
     ]
    }
   ],
   "source": [
    "#For 2D rowAxis=0, colAxis=1\n",
    "#Creating 2D array from 2 lists\n",
    "#No of elements/length of each list should be same\n",
    "Array2DY=array([[\"RAMAN\",47+9j,True,37.69,37],[10.10,'Prashant',10+10j,False,10]]) #Transforming nested list of 2 lists into Array\n",
    "print(Array2DY)"
   ]
  },
  {
   "cell_type": "code",
   "execution_count": 537,
   "metadata": {},
   "outputs": [
    {
     "name": "stdout",
     "output_type": "stream",
     "text": [
      "[['KESHAV' '(45+9j)' 'True' '39.69' '39']\n",
      " ['RAMAN' '(47+9j)' 'True' '37.69' '37']\n",
      " ['10.1' 'Prashant' '(10+10j)' 'False' '10']]\n"
     ]
    }
   ],
   "source": [
    "Vstack1=vstack((Array2DX,Array2DY)) #Both the 2D Arrays have been concatenated Row wise(axis=0) by using vstack()\n",
    "print(Vstack1)"
   ]
  },
  {
   "cell_type": "code",
   "execution_count": 538,
   "metadata": {},
   "outputs": [
    {
     "name": "stdout",
     "output_type": "stream",
     "text": [
      "Help on function hstack in module numpy:\n",
      "\n",
      "hstack(tup)\n",
      "    scipy.hstack is deprecated and will be removed in SciPy 2.0.0, use numpy.hstack instead\n",
      "\n"
     ]
    }
   ],
   "source": [
    "help(hstack) #Col wise concatenation, axis=1"
   ]
  },
  {
   "cell_type": "code",
   "execution_count": 541,
   "metadata": {},
   "outputs": [
    {
     "name": "stdout",
     "output_type": "stream",
     "text": [
      "['KESHAV' '(45+9j)' 'True' '39.69' '39' 'ROOBAL' '(39+9j)' 'False' '30.69'\n",
      " '32']\n"
     ]
    }
   ],
   "source": [
    "#When we apply hstack() on 1D Array, it joins 1D Arrays col wise\n",
    "from numpy import hstack\n",
    "ArrayX=array([\"KESHAV\",45+9j,True,39.69,39])\n",
    "ArrayY=array([\"ROOBAL\",39+9j,False,30.69,32])\n",
    "Hstack1D=hstack((ArrayX,ArrayY))\n",
    "print(Hstack1D) #Both the 1D arrays have been concatenated col wise(axis=1)"
   ]
  },
  {
   "cell_type": "code",
   "execution_count": 542,
   "metadata": {},
   "outputs": [
    {
     "name": "stdout",
     "output_type": "stream",
     "text": [
      "['KESHAV' '(45+9j)' 'True' '39.69' '39' 'ROOBAL' '(39+9j)' 'False' '30.69'\n",
      " '32']\n"
     ]
    }
   ],
   "source": [
    "#When we apply hstack() on 1D Array, it joins 1D Arrays col wise(axis=1)\n",
    "ArrayX=array([\"KESHAV\",45+9j,True,39.69,39])\n",
    "ArrayY=array([\"ROOBAL\",39+9j,False,30.69,32])\n",
    "Hstack1TD=hstack((ArrayX.T,ArrayY.T))        #hstack of ArrayX.T,ArrayY.T\n",
    "                                             #Transpose of 1D Arrays doesn't make any sense\n",
    "print(Hstack1TD) #Both the 1D arrays have been concatenated col wise(axis=1)"
   ]
  },
  {
   "cell_type": "code",
   "execution_count": 543,
   "metadata": {},
   "outputs": [
    {
     "name": "stdout",
     "output_type": "stream",
     "text": [
      "['KESHAV' '(45+9j)' 'True' '39.69' '39'] ['ROOBAL' '(39+9j)' 'False' '30.69' '32']\n"
     ]
    }
   ],
   "source": [
    "print(ArrayX.T,ArrayY.T)"
   ]
  },
  {
   "cell_type": "code",
   "execution_count": 544,
   "metadata": {},
   "outputs": [
    {
     "name": "stdout",
     "output_type": "stream",
     "text": [
      "[['KESHAV' '(45+9j)' 'True' '39.69' '39']\n",
      " ['10.1' 'Prashant' '(10+10j)' 'False' '10']]\n"
     ]
    }
   ],
   "source": [
    "#For 2D rowAxis=0, colAxis=1\n",
    "#Creating 2D array from 2 lists\n",
    "#No of elements/length of each list should be same\n",
    "Array2DX=array([[\"KESHAV\",45+9j,True,39.69,39],[10.10,'Prashant',10+10j,False,10]]) #Transforming nested list of 2 lists into Array\n",
    "print(Array2DX)"
   ]
  },
  {
   "cell_type": "code",
   "execution_count": 545,
   "metadata": {},
   "outputs": [
    {
     "name": "stdout",
     "output_type": "stream",
     "text": [
      "[['KESHAV' '(45+9j)' 'True' '39.69' '39']]\n"
     ]
    },
    {
     "data": {
      "text/plain": [
       "2"
      ]
     },
     "execution_count": 545,
     "metadata": {},
     "output_type": "execute_result"
    }
   ],
   "source": [
    "#Creating 2D array from 1 list\n",
    "Array2DY=array([[\"KESHAV\",45+9j,True,39.69,39]]) #Convert the list into array\n",
    "print(Array2DY)\n",
    "ndim(Array2DY)"
   ]
  },
  {
   "cell_type": "code",
   "execution_count": 546,
   "metadata": {},
   "outputs": [
    {
     "name": "stdout",
     "output_type": "stream",
     "text": [
      "[['RAMAN' '(47+9j)' 'True' '37.69' '37']\n",
      " ['10.1' 'Prashant' '(10+10j)' 'False' '10']]\n"
     ]
    }
   ],
   "source": [
    "#For 2D rowAxis=0, colAxis=1\n",
    "#Creating 2D array from 2 lists\n",
    "#No of elements/length of each list should be same\n",
    "New2D=array([[\"RAMAN\",47+9j,True,37.69,37],[10.10,'Prashant',10+10j,False,10]]) #Transforming nested list of 2 lists into Array\n",
    "print(New2D)"
   ]
  },
  {
   "cell_type": "code",
   "execution_count": 547,
   "metadata": {},
   "outputs": [
    {
     "name": "stdout",
     "output_type": "stream",
     "text": [
      "[['KESHAV' '10.1' 'RAMAN' '10.1' 'KESHAV']\n",
      " ['(45+9j)' 'Prashant' '(47+9j)' 'Prashant' '(45+9j)']\n",
      " ['True' '(10+10j)' 'True' '(10+10j)' 'True']\n",
      " ['39.69' 'False' '37.69' 'False' '39.69']\n",
      " ['39' '10' '37' '10' '39']]\n"
     ]
    }
   ],
   "source": [
    "HstackT2D=hstack((Array2DX.T,New2D.T,Array2DY.T)) #All transpose of Arrays have been concatenated Col wise(axis=1) by using hstack()\n",
    "print(HstackT2D)"
   ]
  },
  {
   "cell_type": "markdown",
   "metadata": {},
   "source": [
    "## Splitting of an Array into multiple seperate Arrays"
   ]
  },
  {
   "cell_type": "code",
   "execution_count": 548,
   "metadata": {},
   "outputs": [],
   "source": [
    "# split() function\n",
    "#1. Row wise split axis=0\n",
    "#2. Col wise split axis=1\n",
    "#3. split=no of split\n",
    "#4. vsplit() is axis=0, Row wise split\n",
    "#5. hsplit() is axis=1, Col wise split"
   ]
  },
  {
   "cell_type": "code",
   "execution_count": 436,
   "metadata": {},
   "outputs": [
    {
     "name": "stdout",
     "output_type": "stream",
     "text": [
      "Help on function split in module numpy:\n",
      "\n",
      "split(ary, indices_or_sections, axis=0)\n",
      "    scipy.split is deprecated and will be removed in SciPy 2.0.0, use numpy.split instead\n",
      "\n"
     ]
    }
   ],
   "source": [
    "help(split)"
   ]
  },
  {
   "cell_type": "code",
   "execution_count": 549,
   "metadata": {},
   "outputs": [
    {
     "name": "stdout",
     "output_type": "stream",
     "text": [
      "[['RAMAN' '(47+9j)' 'True' '37.69' '37']\n",
      " ['10.1' 'Prashant' '(10+10j)' 'False' '10']]\n"
     ]
    }
   ],
   "source": [
    "# hsplit : Split array into multiple sub-arrays horizontally (column-wise).\n",
    "# vsplit : Split array into multiple sub-arrays vertically (row wise).\n",
    "# dsplit : Split array into multiple sub-arrays along the 3rd axis (depth).\n",
    "\n",
    "#For 2D rowAxis=0, colAxis=1\n",
    "#Creating 2D array from 2 lists\n",
    "#No of elements/length of each list should be same\n",
    "New2D=array([[\"RAMAN\",47+9j,True,37.69,37],[10.10,'Prashant',10+10j,False,10]]) #Transforming nested list of 2 lists into Array\n",
    "print(New2D)"
   ]
  },
  {
   "cell_type": "code",
   "execution_count": 550,
   "metadata": {},
   "outputs": [],
   "source": [
    "New1D=array([[67,80]])"
   ]
  },
  {
   "cell_type": "code",
   "execution_count": 551,
   "metadata": {},
   "outputs": [
    {
     "name": "stdout",
     "output_type": "stream",
     "text": [
      "[['RAMAN' '(47+9j)' 'True' '37.69' '37' '67']\n",
      " ['10.1' 'Prashant' '(10+10j)' 'False' '10' '80']]\n"
     ]
    }
   ],
   "source": [
    "Array2D=concatenate((New2D,New1D.T),axis=1) #Colwise concatination, axis=1\n",
    "print(Array2D)                              #New1D will come at last Column, position after comma (New2D,New1D.T)"
   ]
  },
  {
   "cell_type": "code",
   "execution_count": 552,
   "metadata": {},
   "outputs": [
    {
     "name": "stdout",
     "output_type": "stream",
     "text": [
      "[['RAMAN' '(47+9j)' 'True' '37.69' '37' '67']\n",
      " ['10.1' 'Prashant' '(10+10j)' 'False' '10' '80']]\n"
     ]
    }
   ],
   "source": [
    "Array2D=hstack((New2D,New1D.T)) #Colwise concatination(axis=1), #hstack of New2D,New1D.T\n",
    "print(Array2D)                  #New1D will come at last Column, position after comma (New2D,New1D.T)"
   ]
  },
  {
   "cell_type": "code",
   "execution_count": 553,
   "metadata": {},
   "outputs": [
    {
     "data": {
      "text/plain": [
       "array([[['RAMAN', '(47+9j)'],\n",
       "        ['True', '37.69']],\n",
       "\n",
       "       [['37', '67'],\n",
       "        ['10.1', 'Prashant']],\n",
       "\n",
       "       [['(10+10j)', 'False'],\n",
       "        ['10', '80']]], dtype='<U11')"
      ]
     },
     "execution_count": 553,
     "metadata": {},
     "output_type": "execute_result"
    }
   ],
   "source": [
    "New3D=Array2D.reshape(3,2,2) #Arrays 3, Rows 2, cols 2 by using reshape()\n",
    "New3D"
   ]
  },
  {
   "cell_type": "code",
   "execution_count": 554,
   "metadata": {},
   "outputs": [
    {
     "data": {
      "text/plain": [
       "array([[['RAMAN', '(47+9j)'],\n",
       "        ['True', '37.69']],\n",
       "\n",
       "       [['37', '67'],\n",
       "        ['10.1', 'Prashant']],\n",
       "\n",
       "       [['(10+10j)', 'False'],\n",
       "        ['10', '80']]], dtype='<U11')"
      ]
     },
     "execution_count": 554,
     "metadata": {},
     "output_type": "execute_result"
    }
   ],
   "source": [
    "New3D=resize(Array2D,(3,2,2)) #Arrays 3, Rows 2, cols 2 by using resize(array,())\n",
    "New3D"
   ]
  },
  {
   "cell_type": "code",
   "execution_count": 555,
   "metadata": {},
   "outputs": [
    {
     "data": {
      "text/plain": [
       "(3, 2, 2)"
      ]
     },
     "execution_count": 555,
     "metadata": {},
     "output_type": "execute_result"
    }
   ],
   "source": [
    "shape(New3D) #Arrays 3, Rows 2, cols 2\n",
    "             #3*2*2=12 elements"
   ]
  },
  {
   "cell_type": "code",
   "execution_count": 557,
   "metadata": {},
   "outputs": [
    {
     "data": {
      "text/plain": [
       "[array([[['RAMAN', '(47+9j)'],\n",
       "         ['True', '37.69']]], dtype='<U11'),\n",
       " array([[['37', '67'],\n",
       "         ['10.1', 'Prashant']]], dtype='<U11'),\n",
       " array([[['(10+10j)', 'False'],\n",
       "         ['10', '80']]], dtype='<U11')]"
      ]
     },
     "execution_count": 557,
     "metadata": {},
     "output_type": "execute_result"
    }
   ],
   "source": [
    "from numpy import split\n",
    "split(New3D,3) #axis=0, Row wise split, section=3 Sub Arrays, Row wise filling\n",
    "               #3*2*2=12 elements, Each Sub Array will get 4 elements"
   ]
  },
  {
   "cell_type": "code",
   "execution_count": 558,
   "metadata": {},
   "outputs": [
    {
     "data": {
      "text/plain": [
       "[array([[['RAMAN', '(47+9j)'],\n",
       "         ['True', '37.69']]], dtype='<U11'),\n",
       " array([[['37', '67'],\n",
       "         ['10.1', 'Prashant']]], dtype='<U11'),\n",
       " array([[['(10+10j)', 'False'],\n",
       "         ['10', '80']]], dtype='<U11')]"
      ]
     },
     "execution_count": 558,
     "metadata": {},
     "output_type": "execute_result"
    }
   ],
   "source": [
    "split(New3D,3,axis=0) #Don't need to mention axis=0 seperately\n",
    "                      #axis=0, Row wise split, section=3 Sub Arrays, Row wise filling\n",
    "                      #3*2*2=12 elements, Each Sub Array will get 4 elements"
   ]
  },
  {
   "cell_type": "code",
   "execution_count": 560,
   "metadata": {},
   "outputs": [
    {
     "data": {
      "text/plain": [
       "[array([[['RAMAN', '(47+9j)'],\n",
       "         ['True', '37.69']]], dtype='<U11'),\n",
       " array([[['37', '67'],\n",
       "         ['10.1', 'Prashant']]], dtype='<U11'),\n",
       " array([[['(10+10j)', 'False'],\n",
       "         ['10', '80']]], dtype='<U11')]"
      ]
     },
     "execution_count": 560,
     "metadata": {},
     "output_type": "execute_result"
    }
   ],
   "source": [
    "from numpy import vsplit\n",
    "vsplit(New3D,3) #Vertical split, axis=0, Row wise split, section=3 Sub Arrays, Row wise filling\n",
    "                #3*2*2=12 elements, Each Sub Array will get 4 elements"
   ]
  },
  {
   "cell_type": "code",
   "execution_count": 561,
   "metadata": {},
   "outputs": [
    {
     "data": {
      "text/plain": [
       "[array([[['RAMAN', '(47+9j)']],\n",
       " \n",
       "        [['37', '67']],\n",
       " \n",
       "        [['(10+10j)', 'False']]], dtype='<U11'),\n",
       " array([[['True', '37.69']],\n",
       " \n",
       "        [['10.1', 'Prashant']],\n",
       " \n",
       "        [['10', '80']]], dtype='<U11')]"
      ]
     },
     "execution_count": 561,
     "metadata": {},
     "output_type": "execute_result"
    }
   ],
   "source": [
    "split(New3D,2,axis=1) #Need to mention axis=1 seperately\n",
    "                      #axis=1, Array wise split, section=2 Sub Arrays, Row wise filling\n",
    "                      #3*2*2=12 elements, Each Sub Array will get 6 elements"
   ]
  },
  {
   "cell_type": "code",
   "execution_count": 563,
   "metadata": {},
   "outputs": [
    {
     "data": {
      "text/plain": [
       "[array([[['RAMAN', '(47+9j)']],\n",
       " \n",
       "        [['37', '67']],\n",
       " \n",
       "        [['(10+10j)', 'False']]], dtype='<U11'),\n",
       " array([[['True', '37.69']],\n",
       " \n",
       "        [['10.1', 'Prashant']],\n",
       " \n",
       "        [['10', '80']]], dtype='<U11')]"
      ]
     },
     "execution_count": 563,
     "metadata": {},
     "output_type": "execute_result"
    }
   ],
   "source": [
    "from numpy import hsplit\n",
    "hsplit(New3D,2) #Horizontal split, axis=1, Array wise split, section=2 Sub Arrays, Row wise filling\n",
    "                #3*2*2=12 elements, Each Sub Array will get 6 elements"
   ]
  },
  {
   "cell_type": "code",
   "execution_count": 564,
   "metadata": {},
   "outputs": [
    {
     "data": {
      "text/plain": [
       "[array([[['RAMAN'],\n",
       "         ['True']],\n",
       " \n",
       "        [['37'],\n",
       "         ['10.1']],\n",
       " \n",
       "        [['(10+10j)'],\n",
       "         ['10']]], dtype='<U11'),\n",
       " array([[['(47+9j)'],\n",
       "         ['37.69']],\n",
       " \n",
       "        [['67'],\n",
       "         ['Prashant']],\n",
       " \n",
       "        [['False'],\n",
       "         ['80']]], dtype='<U11')]"
      ]
     },
     "execution_count": 564,
     "metadata": {},
     "output_type": "execute_result"
    }
   ],
   "source": [
    "split(New3D,2,axis=2) #Need to mention axis=2 seperately\n",
    "                      #axis=2, Col wise split, section=2 Sub Arrays, Col wise filling\n",
    "                      #3*2*2=12 elements, Each Sub Array will get 6 elements"
   ]
  },
  {
   "cell_type": "code",
   "execution_count": 566,
   "metadata": {},
   "outputs": [
    {
     "data": {
      "text/plain": [
       "[array([[['RAMAN'],\n",
       "         ['True']],\n",
       " \n",
       "        [['37'],\n",
       "         ['10.1']],\n",
       " \n",
       "        [['(10+10j)'],\n",
       "         ['10']]], dtype='<U11'),\n",
       " array([[['(47+9j)'],\n",
       "         ['37.69']],\n",
       " \n",
       "        [['67'],\n",
       "         ['Prashant']],\n",
       " \n",
       "        [['False'],\n",
       "         ['80']]], dtype='<U11')]"
      ]
     },
     "execution_count": 566,
     "metadata": {},
     "output_type": "execute_result"
    }
   ],
   "source": [
    "from numpy import dsplit\n",
    "dsplit(New3D,2) #axis=2, Col wise split, section=2 Sub Arrays, Col wise filling\n",
    "                #3*2*2=12 elements, Each Sub Array will get 6 elements"
   ]
  },
  {
   "cell_type": "code",
   "execution_count": 567,
   "metadata": {},
   "outputs": [
    {
     "name": "stdout",
     "output_type": "stream",
     "text": [
      "Help on function hsplit in module numpy:\n",
      "\n",
      "hsplit(ary, indices_or_sections)\n",
      "    Split an array into multiple sub-arrays horizontally (column-wise).\n",
      "    \n",
      "    Please refer to the `split` documentation.  `hsplit` is equivalent\n",
      "    to `split` with ``axis=1``, the array is always split along the second\n",
      "    axis regardless of the array dimension.\n",
      "    \n",
      "    See Also\n",
      "    --------\n",
      "    split : Split an array into multiple sub-arrays of equal size.\n",
      "    \n",
      "    Examples\n",
      "    --------\n",
      "    >>> x = np.arange(16.0).reshape(4, 4)\n",
      "    >>> x\n",
      "    array([[ 0.,   1.,   2.,   3.],\n",
      "           [ 4.,   5.,   6.,   7.],\n",
      "           [ 8.,   9.,  10.,  11.],\n",
      "           [12.,  13.,  14.,  15.]])\n",
      "    >>> np.hsplit(x, 2)\n",
      "    [array([[  0.,   1.],\n",
      "           [  4.,   5.],\n",
      "           [  8.,   9.],\n",
      "           [12.,  13.]]),\n",
      "     array([[  2.,   3.],\n",
      "           [  6.,   7.],\n",
      "           [10.,  11.],\n",
      "           [14.,  15.]])]\n",
      "    >>> np.hsplit(x, np.array([3, 6]))\n",
      "    [array([[ 0.,   1.,   2.],\n",
      "           [ 4.,   5.,   6.],\n",
      "           [ 8.,   9.,  10.],\n",
      "           [12.,  13.,  14.]]),\n",
      "     array([[ 3.],\n",
      "           [ 7.],\n",
      "           [11.],\n",
      "           [15.]]),\n",
      "     array([], shape=(4, 0), dtype=float64)]\n",
      "    \n",
      "    With a higher dimensional array the split is still along the second axis.\n",
      "    \n",
      "    >>> x = np.arange(8.0).reshape(2, 2, 2)\n",
      "    >>> x\n",
      "    array([[[0.,  1.],\n",
      "            [2.,  3.]],\n",
      "           [[4.,  5.],\n",
      "            [6.,  7.]]])\n",
      "    >>> np.hsplit(x, 2)\n",
      "    [array([[[0.,  1.]],\n",
      "           [[4.,  5.]]]),\n",
      "     array([[[2.,  3.]],\n",
      "           [[6.,  7.]]])]\n",
      "\n",
      "Help on function vsplit in module numpy:\n",
      "\n",
      "vsplit(ary, indices_or_sections)\n",
      "    Split an array into multiple sub-arrays vertically (row-wise).\n",
      "    \n",
      "    Please refer to the ``split`` documentation.  ``vsplit`` is equivalent\n",
      "    to ``split`` with `axis=0` (default), the array is always split along the\n",
      "    first axis regardless of the array dimension.\n",
      "    \n",
      "    See Also\n",
      "    --------\n",
      "    split : Split an array into multiple sub-arrays of equal size.\n",
      "    \n",
      "    Examples\n",
      "    --------\n",
      "    >>> x = np.arange(16.0).reshape(4, 4)\n",
      "    >>> x\n",
      "    array([[ 0.,   1.,   2.,   3.],\n",
      "           [ 4.,   5.,   6.,   7.],\n",
      "           [ 8.,   9.,  10.,  11.],\n",
      "           [12.,  13.,  14.,  15.]])\n",
      "    >>> np.vsplit(x, 2)\n",
      "    [array([[0., 1., 2., 3.],\n",
      "           [4., 5., 6., 7.]]), array([[ 8.,  9., 10., 11.],\n",
      "           [12., 13., 14., 15.]])]\n",
      "    >>> np.vsplit(x, np.array([3, 6]))\n",
      "    [array([[ 0.,  1.,  2.,  3.],\n",
      "           [ 4.,  5.,  6.,  7.],\n",
      "           [ 8.,  9., 10., 11.]]), array([[12., 13., 14., 15.]]), array([], shape=(0, 4), dtype=float64)]\n",
      "    \n",
      "    With a higher dimensional array the split is still along the first axis.\n",
      "    \n",
      "    >>> x = np.arange(8.0).reshape(2, 2, 2)\n",
      "    >>> x\n",
      "    array([[[0.,  1.],\n",
      "            [2.,  3.]],\n",
      "           [[4.,  5.],\n",
      "            [6.,  7.]]])\n",
      "    >>> np.vsplit(x, 2)\n",
      "    [array([[[0., 1.],\n",
      "            [2., 3.]]]), array([[[4., 5.],\n",
      "            [6., 7.]]])]\n",
      "\n"
     ]
    },
    {
     "data": {
      "text/plain": [
       "(None, None)"
      ]
     },
     "execution_count": 567,
     "metadata": {},
     "output_type": "execute_result"
    }
   ],
   "source": [
    "help(hsplit),help(vsplit)"
   ]
  },
  {
   "cell_type": "markdown",
   "metadata": {},
   "source": [
    "## Insert or Delete elements from given Array"
   ]
  },
  {
   "cell_type": "code",
   "execution_count": 568,
   "metadata": {},
   "outputs": [
    {
     "name": "stdout",
     "output_type": "stream",
     "text": [
      "Help on function insert in module numpy:\n",
      "\n",
      "insert(arr, obj, values, axis=None)\n",
      "    scipy.insert is deprecated and will be removed in SciPy 2.0.0, use numpy.insert instead\n",
      "\n"
     ]
    }
   ],
   "source": [
    "help(insert)"
   ]
  },
  {
   "cell_type": "code",
   "execution_count": 569,
   "metadata": {},
   "outputs": [],
   "source": [
    "#Syntax is insert(arr, obj, values, axis=None)\n",
    "#1. arr is array name\n",
    "#2. obj is desired index place\n",
    "#3. values is mention the datas\n",
    "#4. axis=None is mentioning 0,1,2"
   ]
  },
  {
   "cell_type": "code",
   "execution_count": 570,
   "metadata": {},
   "outputs": [],
   "source": [
    "#Creating 1D Array\n",
    "Array1D=array([\"KESHAV\",45+9j,True,39.69,39])"
   ]
  },
  {
   "cell_type": "code",
   "execution_count": 573,
   "metadata": {},
   "outputs": [
    {
     "name": "stdout",
     "output_type": "stream",
     "text": [
      "['KESHAV' '(45+9j)' 'ANWESH' 'True' '39.69' '39']\n"
     ]
    }
   ],
   "source": [
    "from numpy import insert\n",
    "Insert=insert(Array1D,2,\"ANWESH\",0) #\"ANWESH\" has been inserted at the place of index 2(True)\n",
    "print(Insert)                       # element True got shifted to 3rd index position/location\n",
    "                                    # element True got the new 3rd index location/position\n",
    "                                    #As there is mixed type of data elements in the Array1D So \"ANWESH\" remained \"string\""
   ]
  },
  {
   "cell_type": "code",
   "execution_count": 574,
   "metadata": {},
   "outputs": [
    {
     "name": "stdout",
     "output_type": "stream",
     "text": [
      "['KESHAV' '(45+9j)' 'ANWESH' 'True' '39.69' '39']\n"
     ]
    }
   ],
   "source": [
    "InSert=insert(Array1D,2,\"ANWESH\") # Don't need to mention 0 for 1D Array\n",
    "print(InSert)                     #\"ANWESH\" has been inserted at the place of index 2(True)\n",
    "                                  # element True got shifted to 3rd index position/location\n",
    "                                  # element True got the new 3rd index location/position\n",
    "                                  #As there is mixed type of data elements in the Array1D So \"ANWESH\" remained \"string\""
   ]
  },
  {
   "cell_type": "code",
   "execution_count": 575,
   "metadata": {},
   "outputs": [
    {
     "name": "stdout",
     "output_type": "stream",
     "text": [
      "['KESHAV' '(45+9j)' '(33-7j)' 'ANWESH' 'True' '39.69' '39']\n"
     ]
    }
   ],
   "source": [
    "Innsert=insert(Insert,2,33-7j,0) # 33-7j has been inserted at the place of index 2(\"ANWESH\")\n",
    "print(Innsert)                   # element \"ANWESH\" got shifted to 3rd index position/location\n",
    "                                 # element \"ANWESH\" got the new 3rd index location/position\n",
    "                                 #As there is mixed type of data elements in the Array1D So \"ANWESH\" remained \"string\""
   ]
  },
  {
   "cell_type": "code",
   "execution_count": 576,
   "metadata": {},
   "outputs": [
    {
     "data": {
      "text/plain": [
       "array([1, 2, 3, 4, 5])"
      ]
     },
     "execution_count": 576,
     "metadata": {},
     "output_type": "execute_result"
    }
   ],
   "source": [
    "ArrayInt=array([1,2,3,4,5]) #1D Array made of ints\n",
    "ArrayInt"
   ]
  },
  {
   "cell_type": "code",
   "execution_count": 577,
   "metadata": {},
   "outputs": [
    {
     "ename": "ValueError",
     "evalue": "invalid literal for int() with base 10: 'ANWESH'",
     "output_type": "error",
     "traceback": [
      "\u001b[1;31m---------------------------------------------------------------------------\u001b[0m",
      "\u001b[1;31mValueError\u001b[0m                                Traceback (most recent call last)",
      "\u001b[1;32m<ipython-input-577-ba6a6025cdf6>\u001b[0m in \u001b[0;36m<module>\u001b[1;34m\u001b[0m\n\u001b[1;32m----> 1\u001b[1;33m \u001b[0minsert\u001b[0m\u001b[1;33m(\u001b[0m\u001b[0mArrayInt\u001b[0m\u001b[1;33m,\u001b[0m\u001b[1;36m3\u001b[0m\u001b[1;33m,\u001b[0m\u001b[1;34m\"ANWESH\"\u001b[0m\u001b[1;33m)\u001b[0m \u001b[1;31m#Error because all other elements are integers so string \"ANWESH\" not going\u001b[0m\u001b[1;33m\u001b[0m\u001b[1;33m\u001b[0m\u001b[0m\n\u001b[0m",
      "\u001b[1;32m<__array_function__ internals>\u001b[0m in \u001b[0;36minsert\u001b[1;34m(*args, **kwargs)\u001b[0m\n",
      "\u001b[1;32mD:\\Anwesh\\D_Program_Files\\Miniconda3\\envs\\ML\\lib\\site-packages\\numpy\\lib\\function_base.py\u001b[0m in \u001b[0;36minsert\u001b[1;34m(arr, obj, values, axis)\u001b[0m\n\u001b[0;32m   4564\u001b[0m         \u001b[1;31m# There are some object array corner cases here, but we cannot avoid\u001b[0m\u001b[1;33m\u001b[0m\u001b[1;33m\u001b[0m\u001b[1;33m\u001b[0m\u001b[0m\n\u001b[0;32m   4565\u001b[0m         \u001b[1;31m# that:\u001b[0m\u001b[1;33m\u001b[0m\u001b[1;33m\u001b[0m\u001b[1;33m\u001b[0m\u001b[0m\n\u001b[1;32m-> 4566\u001b[1;33m         \u001b[0mvalues\u001b[0m \u001b[1;33m=\u001b[0m \u001b[0marray\u001b[0m\u001b[1;33m(\u001b[0m\u001b[0mvalues\u001b[0m\u001b[1;33m,\u001b[0m \u001b[0mcopy\u001b[0m\u001b[1;33m=\u001b[0m\u001b[1;32mFalse\u001b[0m\u001b[1;33m,\u001b[0m \u001b[0mndmin\u001b[0m\u001b[1;33m=\u001b[0m\u001b[0marr\u001b[0m\u001b[1;33m.\u001b[0m\u001b[0mndim\u001b[0m\u001b[1;33m,\u001b[0m \u001b[0mdtype\u001b[0m\u001b[1;33m=\u001b[0m\u001b[0marr\u001b[0m\u001b[1;33m.\u001b[0m\u001b[0mdtype\u001b[0m\u001b[1;33m)\u001b[0m\u001b[1;33m\u001b[0m\u001b[1;33m\u001b[0m\u001b[0m\n\u001b[0m\u001b[0;32m   4567\u001b[0m         \u001b[1;32mif\u001b[0m \u001b[0mindices\u001b[0m\u001b[1;33m.\u001b[0m\u001b[0mndim\u001b[0m \u001b[1;33m==\u001b[0m \u001b[1;36m0\u001b[0m\u001b[1;33m:\u001b[0m\u001b[1;33m\u001b[0m\u001b[1;33m\u001b[0m\u001b[0m\n\u001b[0;32m   4568\u001b[0m             \u001b[1;31m# broadcasting is very different here, since a[:,0,:] = ... behaves\u001b[0m\u001b[1;33m\u001b[0m\u001b[1;33m\u001b[0m\u001b[1;33m\u001b[0m\u001b[0m\n",
      "\u001b[1;31mValueError\u001b[0m: invalid literal for int() with base 10: 'ANWESH'"
     ]
    }
   ],
   "source": [
    "insert(ArrayInt,3,\"ANWESH\") #Error because all other elements are integers so string \"ANWESH\" not going"
   ]
  },
  {
   "cell_type": "code",
   "execution_count": 578,
   "metadata": {},
   "outputs": [
    {
     "name": "stdout",
     "output_type": "stream",
     "text": [
      "[ 1  2  3 44  4  5]\n"
     ]
    }
   ],
   "source": [
    "Intinsert=insert(ArrayInt,3,44.44) # 44.44 has been inserted at the place of index 3(4)\n",
    "                                   # element 4 got shifted to 4th index position/location\n",
    "                                   # element 4 got the new 4th index location/position\n",
    "                                   # Along with all other integer elements, 44.44 will be taken as int 44\n",
    "print(Intinsert)                   # data will be placed at 3rd index location in the Array"
   ]
  },
  {
   "cell_type": "code",
   "execution_count": 579,
   "metadata": {},
   "outputs": [
    {
     "name": "stdout",
     "output_type": "stream",
     "text": [
      "[1.+0.j 2.+0.j 3.+0.j 4.+0.j 5.+0.j]\n"
     ]
    }
   ],
   "source": [
    "Complex=array([1,2,3,4,5],complex) #1D Array of Complex Format\n",
    "print(Complex)"
   ]
  },
  {
   "cell_type": "code",
   "execution_count": 580,
   "metadata": {},
   "outputs": [
    {
     "name": "stdout",
     "output_type": "stream",
     "text": [
      "[ 1.+0.j  2.+0.j  3.+0.j 44.+0.j  4.+0.j  5.+0.j]\n"
     ]
    }
   ],
   "source": [
    "CompInsert=insert(Complex,3,44) # 44 has been inserted at the place of index 3(4.+0.j)\n",
    "                                # element 4.+0.j got shifted to 4th index position/location\n",
    "                                # element 4.+0.j got the new 4th index location/position\n",
    "                                # 44 will be taken as complex along with all other complex elements\n",
    "print(CompInsert)               # data will be placed at 3rd index location in the Array"
   ]
  },
  {
   "cell_type": "code",
   "execution_count": 581,
   "metadata": {},
   "outputs": [
    {
     "name": "stdout",
     "output_type": "stream",
     "text": [
      "[10  1  2  3  4 10  5]\n"
     ]
    }
   ],
   "source": [
    "#Insert a value in multiple indexes at a time\n",
    "Array1D=array((1,2,3,4,5))\n",
    "Multinsert=insert(Array1D,(0,4),10) #0th index & 4th index has been taken by 10\n",
    "print(Multinsert)"
   ]
  },
  {
   "cell_type": "code",
   "execution_count": 582,
   "metadata": {},
   "outputs": [
    {
     "name": "stdout",
     "output_type": "stream",
     "text": [
      "[10  1  2  3  4  5 15]\n"
     ]
    }
   ],
   "source": [
    "#Insert multiple values in multiple indexes at a time\n",
    "Array1D=array((1,2,3,4,5))\n",
    "Multi=insert(Array1D,(0,5),(10,15)) #0th index has taken by 10 & after 5th index has taken by 15 value   \n",
    "print(Multi)"
   ]
  },
  {
   "cell_type": "code",
   "execution_count": 583,
   "metadata": {},
   "outputs": [
    {
     "name": "stdout",
     "output_type": "stream",
     "text": [
      "[[33 37]\n",
      " [76 67]]\n"
     ]
    },
    {
     "data": {
      "text/plain": [
       "(None, 2, (2, 2))"
      ]
     },
     "execution_count": 583,
     "metadata": {},
     "output_type": "execute_result"
    }
   ],
   "source": [
    "Array2D=array([[33,37],[76,67]])\n",
    "print(Array2D),ndim(Array2D),shape(Array2D)"
   ]
  },
  {
   "cell_type": "code",
   "execution_count": 584,
   "metadata": {},
   "outputs": [
    {
     "name": "stdout",
     "output_type": "stream",
     "text": [
      "[[33 37]\n",
      " [23 32]\n",
      " [76 67]]\n"
     ]
    }
   ],
   "source": [
    "Rowinsert=insert(Array2D,1,(23,32),0) #Here axis=0, 1st index Row wise insert values 23 & 32\n",
    "print(Rowinsert)                      #Inserting Tuple(23,32) in 1st row index"
   ]
  },
  {
   "cell_type": "code",
   "execution_count": 585,
   "metadata": {},
   "outputs": [
    {
     "name": "stdout",
     "output_type": "stream",
     "text": [
      "[[33 37]\n",
      " [32 23]\n",
      " [76 67]]\n"
     ]
    }
   ],
   "source": [
    "Rowinsert=insert(Array2D,1,[32,23],0) #Here axis=0, 1st index Row wise insert values 32 & 23\n",
    "print(Rowinsert)                      #Inserting Tuple(23,32) in 1st row index"
   ]
  },
  {
   "cell_type": "code",
   "execution_count": 586,
   "metadata": {},
   "outputs": [
    {
     "name": "stdout",
     "output_type": "stream",
     "text": [
      "[[33 37 38]\n",
      " [32 23 50]\n",
      " [76 67 90]]\n"
     ]
    }
   ],
   "source": [
    "Colinsert=insert(Rowinsert,2,(38,50,90),1) #Here axis=1, 2nd index Col wise insert values 38,50 & 90\n",
    "print(Colinsert)                           #Inserting Tuple(38,50,90) in 2nd col index"
   ]
  },
  {
   "cell_type": "code",
   "execution_count": 587,
   "metadata": {},
   "outputs": [
    {
     "name": "stdout",
     "output_type": "stream",
     "text": [
      "[[33 37 83]\n",
      " [32 23 52]\n",
      " [76 67 92]]\n"
     ]
    }
   ],
   "source": [
    "Colinsert=insert(Rowinsert,2,[83,52,92],1) #Here axis=1, 2nd index Col wise insert values 83,52 & 92\n",
    "print(Colinsert)                           #Inserting Tuple(38,50,90) in 2nd col index"
   ]
  },
  {
   "cell_type": "code",
   "execution_count": 588,
   "metadata": {},
   "outputs": [
    {
     "name": "stdout",
     "output_type": "stream",
     "text": [
      "[[33 37 38]\n",
      " [76 67 50]]\n"
     ]
    }
   ],
   "source": [
    "Colinsert=insert(Array2D,2,(38,50),1) #Here axis=1, 2nd index Col wise insert values 38 & 50\n",
    "print(Colinsert)                      #Inserting Tuple(38,50) in 2nd col index"
   ]
  },
  {
   "cell_type": "code",
   "execution_count": 589,
   "metadata": {},
   "outputs": [
    {
     "name": "stdout",
     "output_type": "stream",
     "text": [
      "Help on function append in module numpy:\n",
      "\n",
      "append(arr, values, axis=None)\n",
      "    scipy.append is deprecated and will be removed in SciPy 2.0.0, use numpy.append instead\n",
      "\n"
     ]
    }
   ],
   "source": [
    "help(append)"
   ]
  },
  {
   "cell_type": "code",
   "execution_count": 590,
   "metadata": {},
   "outputs": [],
   "source": [
    "# append() function always add elements at the end of the 1D array\n",
    "# If 2D Array and axis=0 then adds one extra array row at the last\n",
    "# If 2D Array and axis=1 then adds one extra array col at the last\n",
    "# If 3D Array and axis=0 then adds extra Array,if axis=1 then add extra Row,if axis=2 then adds extra col\n",
    "# If axis=None then it flattens all Array dimention to 1D and then adds elements"
   ]
  },
  {
   "cell_type": "code",
   "execution_count": 591,
   "metadata": {},
   "outputs": [
    {
     "name": "stdout",
     "output_type": "stream",
     "text": [
      "[[33 37]\n",
      " [76 67]]\n"
     ]
    },
    {
     "data": {
      "text/plain": [
       "2"
      ]
     },
     "execution_count": 591,
     "metadata": {},
     "output_type": "execute_result"
    }
   ],
   "source": [
    "Array2D=array([[33,37],[76,67]])\n",
    "print(Array2D)\n",
    "ndim(Array2D)"
   ]
  },
  {
   "cell_type": "code",
   "execution_count": 597,
   "metadata": {},
   "outputs": [
    {
     "name": "stdout",
     "output_type": "stream",
     "text": [
      "[33 37 76 67 12 21]\n"
     ]
    }
   ],
   "source": [
    "from numpy import append\n",
    "Append=append(Array2D,(12,21)) #It will flatten the 2D Array and make it 1D\n",
    "ndim(Append)                   #Array2D got flattened and 12,21 got added to the end\n",
    "print(Append)"
   ]
  },
  {
   "cell_type": "code",
   "execution_count": 598,
   "metadata": {},
   "outputs": [
    {
     "name": "stdout",
     "output_type": "stream",
     "text": [
      "[[33 37]\n",
      " [76 67]\n",
      " [12 21]]\n"
     ]
    }
   ],
   "source": [
    "Append2D=append(Array2D,[(12,21)],axis=0) #Insert 2D tuple Row wise, insert the tuple at the last row\n",
    "print(Append2D)"
   ]
  },
  {
   "cell_type": "code",
   "execution_count": 599,
   "metadata": {},
   "outputs": [
    {
     "name": "stdout",
     "output_type": "stream",
     "text": [
      "[[33 37]\n",
      " [76 67]\n",
      " [12 21]]\n"
     ]
    }
   ],
   "source": [
    "Append2D=append(Array2D,[[12,21]],axis=0) #Insert 2D List Array Row wise, insert the tuple at the last row\n",
    "print(Append2D)"
   ]
  },
  {
   "cell_type": "code",
   "execution_count": 600,
   "metadata": {},
   "outputs": [
    {
     "name": "stdout",
     "output_type": "stream",
     "text": [
      "[[33 37]\n",
      " [76 67]]\n"
     ]
    },
    {
     "data": {
      "text/plain": [
       "2"
      ]
     },
     "execution_count": 600,
     "metadata": {},
     "output_type": "execute_result"
    }
   ],
   "source": [
    "Array2D=array([[33,37],[76,67]])\n",
    "print(Array2D)\n",
    "ndim(Array2D)"
   ]
  },
  {
   "cell_type": "code",
   "execution_count": 601,
   "metadata": {},
   "outputs": [
    {
     "name": "stdout",
     "output_type": "stream",
     "text": [
      "[[33 37]\n",
      " [76 67]]\n"
     ]
    },
    {
     "data": {
      "text/plain": [
       "2"
      ]
     },
     "execution_count": 601,
     "metadata": {},
     "output_type": "execute_result"
    }
   ],
   "source": [
    "Array2D=array(((33,37),(76,67)))\n",
    "print(Array2D)\n",
    "ndim(Array2D)"
   ]
  },
  {
   "cell_type": "code",
   "execution_count": 602,
   "metadata": {},
   "outputs": [
    {
     "name": "stdout",
     "output_type": "stream",
     "text": [
      "[[ 33  37  99]\n",
      " [ 76  67 100]]\n"
     ]
    }
   ],
   "source": [
    "Append2D=append(Array2D,[[99],[100]],axis=1) #Insert 2D List col Array col wise\n",
    "print(Append2D)"
   ]
  },
  {
   "cell_type": "code",
   "execution_count": 603,
   "metadata": {},
   "outputs": [
    {
     "name": "stdout",
     "output_type": "stream",
     "text": [
      "[[ 33  37]\n",
      " [ 76  67]\n",
      " [ 69 109]]\n"
     ]
    }
   ],
   "source": [
    "Append2D=append(Array2D,[[69,109]],axis=0) #Insert 2D List Array Row wise\n",
    "print(Append2D)"
   ]
  },
  {
   "cell_type": "code",
   "execution_count": 604,
   "metadata": {},
   "outputs": [
    {
     "name": "stdout",
     "output_type": "stream",
     "text": [
      "Help on function delete in module numpy:\n",
      "\n",
      "delete(arr, obj, axis=None)\n",
      "    scipy.delete is deprecated and will be removed in SciPy 2.0.0, use numpy.delete instead\n",
      "\n"
     ]
    }
   ],
   "source": [
    "help(delete)"
   ]
  },
  {
   "cell_type": "code",
   "execution_count": 605,
   "metadata": {},
   "outputs": [],
   "source": [
    "# delete() function always delete elements as per mentioned indexes\n",
    "# If 2D Array and axis=0 then deletes Row wise\n",
    "# If 2D Array and axis=1 then deletes col wise\n",
    "# If 3D Array and axis=0 then deletes Array,if axis=1 then deletes Row wise,if axis=2 then deletes col wise\n",
    "# If axis=None then it flattens all Array dimention to 1D and then deletes the mentioned indexes"
   ]
  },
  {
   "cell_type": "code",
   "execution_count": 606,
   "metadata": {},
   "outputs": [
    {
     "name": "stdout",
     "output_type": "stream",
     "text": [
      "[1 2 3 4 5]\n"
     ]
    }
   ],
   "source": [
    "Array1D=array((1,2,3,4,5)) #Array of list #Convert the tuple into Array\n",
    "print(Array1D)"
   ]
  },
  {
   "cell_type": "code",
   "execution_count": 607,
   "metadata": {},
   "outputs": [
    {
     "name": "stdout",
     "output_type": "stream",
     "text": [
      "[1 2 3 4 5]\n"
     ]
    }
   ],
   "source": [
    "Array1D=array([1,2,3,4,5]) #Array of list #Convert the tuple into Array\n",
    "print(Array1D)"
   ]
  },
  {
   "cell_type": "code",
   "execution_count": 610,
   "metadata": {},
   "outputs": [
    {
     "data": {
      "text/plain": [
       "array([1, 2, 3, 5])"
      ]
     },
     "execution_count": 610,
     "metadata": {},
     "output_type": "execute_result"
    }
   ],
   "source": [
    "from numpy import delete\n",
    "delete(Array1D,3) #Delete 3rd index element"
   ]
  },
  {
   "cell_type": "code",
   "execution_count": 611,
   "metadata": {},
   "outputs": [
    {
     "data": {
      "text/plain": [
       "array([1, 2, 4])"
      ]
     },
     "execution_count": 611,
     "metadata": {},
     "output_type": "execute_result"
    }
   ],
   "source": [
    "delete(Array1D,(2,4)) #Delete 2nd & 4th index element"
   ]
  },
  {
   "cell_type": "code",
   "execution_count": 612,
   "metadata": {},
   "outputs": [
    {
     "name": "stdout",
     "output_type": "stream",
     "text": [
      "[[33 37]\n",
      " [76 67]]\n"
     ]
    },
    {
     "data": {
      "text/plain": [
       "2"
      ]
     },
     "execution_count": 612,
     "metadata": {},
     "output_type": "execute_result"
    }
   ],
   "source": [
    "Array2D=array([[33,37],[76,67]])\n",
    "print(Array2D)\n",
    "ndim(Array2D)"
   ]
  },
  {
   "cell_type": "code",
   "execution_count": 613,
   "metadata": {},
   "outputs": [
    {
     "data": {
      "text/plain": [
       "array([[33, 37]])"
      ]
     },
     "execution_count": 613,
     "metadata": {},
     "output_type": "execute_result"
    }
   ],
   "source": [
    "delete(Array2D,1,axis=0) #Delete entire 1st Row index\n",
    "                         #Row 76,67 got deleted"
   ]
  },
  {
   "cell_type": "code",
   "execution_count": 614,
   "metadata": {},
   "outputs": [
    {
     "data": {
      "text/plain": [
       "array([[33],\n",
       "       [76]])"
      ]
     },
     "execution_count": 614,
     "metadata": {},
     "output_type": "execute_result"
    }
   ],
   "source": [
    "delete(Array2D,1,axis=1) #Delete the entire 1st index col\n",
    "                         #Col 37,67 got deleted"
   ]
  },
  {
   "cell_type": "code",
   "execution_count": 615,
   "metadata": {},
   "outputs": [
    {
     "data": {
      "text/plain": [
       "array([33, 76, 67])"
      ]
     },
     "execution_count": 615,
     "metadata": {},
     "output_type": "execute_result"
    }
   ],
   "source": [
    "delete(Array2D,1,axis=None) #As axis=None, 1st index element 37 got deleted\n",
    "                            #Array2D has been flatten to 1D"
   ]
  },
  {
   "cell_type": "code",
   "execution_count": 616,
   "metadata": {},
   "outputs": [
    {
     "data": {
      "text/plain": [
       "array([33, 37, 76])"
      ]
     },
     "execution_count": 616,
     "metadata": {},
     "output_type": "execute_result"
    }
   ],
   "source": [
    "delete(Array2D,3,axis=None) #As axis=None, 3rd index element 67 got deleted\n",
    "                            #Array2D has been flatten to 1D"
   ]
  },
  {
   "cell_type": "markdown",
   "metadata": {},
   "source": [
    "## Matrix in Numpy (2D Arrays are Called Matrix)"
   ]
  },
  {
   "cell_type": "code",
   "execution_count": 617,
   "metadata": {},
   "outputs": [],
   "source": [
    "#1. Matrix is nothing but the Rectangular arrangement of data elements.\n",
    "#2. It is a rectangualar Array of Data containing Rows and cols\n",
    "#3. In python we can create this kind of Arrangements by using Nested List/Tuple, Numpy Arrays & Matrix\n",
    "#4. Arithmatic operations With Matrix (Array addition & Matrix addition are Same, Array Multiplication & Matrix Multiplication are different)\n",
    "#5. Transpose of A Matrix\n",
    "#6. We can perform Matrix Multiplication between arrays by using dot() function"
   ]
  },
  {
   "cell_type": "code",
   "execution_count": 618,
   "metadata": {},
   "outputs": [
    {
     "name": "stdout",
     "output_type": "stream",
     "text": [
      "[[[ 11  24]\n",
      "  [ 34  89]]\n",
      "\n",
      " [[ 15  90]\n",
      "  [ 80 100]]]\n"
     ]
    },
    {
     "data": {
      "text/plain": [
       "(3, (2, 2, 2))"
      ]
     },
     "execution_count": 618,
     "metadata": {},
     "output_type": "execute_result"
    }
   ],
   "source": [
    "Array3D=array([[[11,24],[34,89]],[[15,90],[80,100]]])\n",
    "print(Array3D)\n",
    "ndim(Array3D),shape(Array3D)"
   ]
  },
  {
   "cell_type": "code",
   "execution_count": 619,
   "metadata": {},
   "outputs": [
    {
     "name": "stdout",
     "output_type": "stream",
     "text": [
      "[[33 29]\n",
      " [78 89]]\n"
     ]
    },
    {
     "data": {
      "text/plain": [
       "(2, (2, 2))"
      ]
     },
     "execution_count": 619,
     "metadata": {},
     "output_type": "execute_result"
    }
   ],
   "source": [
    "Array2D=array([[33,29],[78,89]])\n",
    "print(Array2D)\n",
    "ndim(Array2D),shape(Array2D)"
   ]
  },
  {
   "cell_type": "code",
   "execution_count": 620,
   "metadata": {},
   "outputs": [
    {
     "name": "stdout",
     "output_type": "stream",
     "text": [
      "[[ 5 10]]\n"
     ]
    },
    {
     "data": {
      "text/plain": [
       "(2, (1, 2))"
      ]
     },
     "execution_count": 620,
     "metadata": {},
     "output_type": "execute_result"
    }
   ],
   "source": [
    "New2D=array([[5,10]])\n",
    "print(New2D)\n",
    "ndim(New2D),shape(New2D)"
   ]
  },
  {
   "cell_type": "code",
   "execution_count": 621,
   "metadata": {},
   "outputs": [
    {
     "data": {
      "text/plain": [
       "array([[38, 39],\n",
       "       [83, 99]])"
      ]
     },
     "execution_count": 621,
     "metadata": {},
     "output_type": "execute_result"
    }
   ],
   "source": [
    "#Performing Matrix Addition/Array Addition\n",
    "Array2D+New2D #New2D has been added to all the rows of Array2D"
   ]
  },
  {
   "cell_type": "code",
   "execution_count": 622,
   "metadata": {},
   "outputs": [
    {
     "data": {
      "text/plain": [
       "array([[[ 49,  63],\n",
       "        [117, 188]],\n",
       "\n",
       "       [[ 53, 129],\n",
       "        [163, 199]]])"
      ]
     },
     "execution_count": 622,
     "metadata": {},
     "output_type": "execute_result"
    }
   ],
   "source": [
    "#Performing Matrix Addition/Array Addition\n",
    "Array3D+Array2D+New2D"
   ]
  },
  {
   "cell_type": "code",
   "execution_count": 623,
   "metadata": {},
   "outputs": [],
   "source": [
    "#Performing Matrix Multiplication between arrays by using dot() function\n",
    "#First row will go through all the cols and adds multiplied value for each col\n",
    "#Second row will go through all the cols and adds multiplied value for each col\n",
    "#Third row will go through all the cols and adds multiplied value for each col"
   ]
  },
  {
   "cell_type": "code",
   "execution_count": 625,
   "metadata": {},
   "outputs": [
    {
     "data": {
      "text/plain": [
       "array([[[ 2235,  2455],\n",
       "        [ 8064,  8907]],\n",
       "\n",
       "       [[ 7515,  8445],\n",
       "        [10440, 11220]]])"
      ]
     },
     "execution_count": 625,
     "metadata": {},
     "output_type": "execute_result"
    }
   ],
   "source": [
    "#Performing Matrix Multiplication between 2 Arrays by using dot() function\n",
    "from numpy import dot\n",
    "dot(Array3D,Array2D) #Shape should be exactly same, 3D*2D"
   ]
  },
  {
   "cell_type": "code",
   "execution_count": 626,
   "metadata": {},
   "outputs": [
    {
     "data": {
      "text/plain": [
       "array([[[ 1349,  3373],\n",
       "        [ 2815,  5870]],\n",
       "\n",
       "       [[ 3884,  9793],\n",
       "        [ 8290, 15920]]])"
      ]
     },
     "execution_count": 626,
     "metadata": {},
     "output_type": "execute_result"
    }
   ],
   "source": [
    "#Performing Matrix Multiplication between 2 Arrays by using dot() function\n",
    "dot(Array2D,Array3D) #Shape should be exactly same, 2D*3D"
   ]
  },
  {
   "cell_type": "code",
   "execution_count": 627,
   "metadata": {},
   "outputs": [
    {
     "data": {
      "text/plain": [
       "array([[ 945, 1035]])"
      ]
     },
     "execution_count": 627,
     "metadata": {},
     "output_type": "execute_result"
    }
   ],
   "source": [
    "#Performing Matrix Multiplication between 2 Arrays by using dot() function\n",
    "dot(New2D,Array2D) #Shape should be exactly same"
   ]
  },
  {
   "cell_type": "code",
   "execution_count": 632,
   "metadata": {},
   "outputs": [
    {
     "ename": "ValueError",
     "evalue": "shapes (2,2) and (1,2) not aligned: 2 (dim 1) != 1 (dim 0)",
     "output_type": "error",
     "traceback": [
      "\u001b[1;31m---------------------------------------------------------------------------\u001b[0m",
      "\u001b[1;31mValueError\u001b[0m                                Traceback (most recent call last)",
      "\u001b[1;32m<ipython-input-632-6000d97d61df>\u001b[0m in \u001b[0;36m<module>\u001b[1;34m\u001b[0m\n\u001b[0;32m      1\u001b[0m \u001b[1;31m#Performing Matrix Multiplication between 2 Arrays by using dot() function\u001b[0m\u001b[1;33m\u001b[0m\u001b[1;33m\u001b[0m\u001b[1;33m\u001b[0m\u001b[0m\n\u001b[1;32m----> 2\u001b[1;33m \u001b[0mdot\u001b[0m\u001b[1;33m(\u001b[0m\u001b[0mArray2D\u001b[0m\u001b[1;33m,\u001b[0m\u001b[0mNew2D\u001b[0m\u001b[1;33m)\u001b[0m \u001b[1;31m#Shape should be exactly same\u001b[0m\u001b[1;33m\u001b[0m\u001b[1;33m\u001b[0m\u001b[0m\n\u001b[0m",
      "\u001b[1;32m<__array_function__ internals>\u001b[0m in \u001b[0;36mdot\u001b[1;34m(*args, **kwargs)\u001b[0m\n",
      "\u001b[1;31mValueError\u001b[0m: shapes (2,2) and (1,2) not aligned: 2 (dim 1) != 1 (dim 0)"
     ]
    }
   ],
   "source": [
    "#Performing Matrix Multiplication between 2 Arrays by using dot() function\n",
    "dot(Array2D,New2D) #Shape should be exactly same"
   ]
  },
  {
   "cell_type": "code",
   "execution_count": 633,
   "metadata": {},
   "outputs": [
    {
     "ename": "ValueError",
     "evalue": "shapes (5,) and (1,2) not aligned: 5 (dim 0) != 1 (dim 0)",
     "output_type": "error",
     "traceback": [
      "\u001b[1;31m---------------------------------------------------------------------------\u001b[0m",
      "\u001b[1;31mValueError\u001b[0m                                Traceback (most recent call last)",
      "\u001b[1;32m<ipython-input-633-596e73c4ff40>\u001b[0m in \u001b[0;36m<module>\u001b[1;34m\u001b[0m\n\u001b[0;32m      1\u001b[0m \u001b[1;31m#Performing Matrix Multiplication between 2 Arrays by using dot() function\u001b[0m\u001b[1;33m\u001b[0m\u001b[1;33m\u001b[0m\u001b[1;33m\u001b[0m\u001b[0m\n\u001b[1;32m----> 2\u001b[1;33m \u001b[0mdot\u001b[0m\u001b[1;33m(\u001b[0m\u001b[0mArray1D\u001b[0m\u001b[1;33m,\u001b[0m\u001b[0mNew2D\u001b[0m\u001b[1;33m)\u001b[0m \u001b[1;31m#Shape should be exactly same\u001b[0m\u001b[1;33m\u001b[0m\u001b[1;33m\u001b[0m\u001b[0m\n\u001b[0m",
      "\u001b[1;32m<__array_function__ internals>\u001b[0m in \u001b[0;36mdot\u001b[1;34m(*args, **kwargs)\u001b[0m\n",
      "\u001b[1;31mValueError\u001b[0m: shapes (5,) and (1,2) not aligned: 5 (dim 0) != 1 (dim 0)"
     ]
    }
   ],
   "source": [
    "#Performing Matrix Multiplication between 2 Arrays by using dot() function\n",
    "dot(Array1D,New2D) #Shape should be exactly same"
   ]
  },
  {
   "cell_type": "code",
   "execution_count": 634,
   "metadata": {},
   "outputs": [
    {
     "ename": "ValueError",
     "evalue": "shapes (1,2) and (5,) not aligned: 2 (dim 1) != 5 (dim 0)",
     "output_type": "error",
     "traceback": [
      "\u001b[1;31m---------------------------------------------------------------------------\u001b[0m",
      "\u001b[1;31mValueError\u001b[0m                                Traceback (most recent call last)",
      "\u001b[1;32m<ipython-input-634-1b764aa430bd>\u001b[0m in \u001b[0;36m<module>\u001b[1;34m\u001b[0m\n\u001b[0;32m      1\u001b[0m \u001b[1;31m#Performing Matrix Multiplication between 2 Arrays by using dot() function\u001b[0m\u001b[1;33m\u001b[0m\u001b[1;33m\u001b[0m\u001b[1;33m\u001b[0m\u001b[0m\n\u001b[1;32m----> 2\u001b[1;33m \u001b[0mdot\u001b[0m\u001b[1;33m(\u001b[0m\u001b[0mNew2D\u001b[0m\u001b[1;33m,\u001b[0m\u001b[0mArray1D\u001b[0m\u001b[1;33m)\u001b[0m\u001b[1;33m\u001b[0m\u001b[1;33m\u001b[0m\u001b[0m\n\u001b[0m",
      "\u001b[1;32m<__array_function__ internals>\u001b[0m in \u001b[0;36mdot\u001b[1;34m(*args, **kwargs)\u001b[0m\n",
      "\u001b[1;31mValueError\u001b[0m: shapes (1,2) and (5,) not aligned: 2 (dim 1) != 5 (dim 0)"
     ]
    }
   ],
   "source": [
    "#Performing Matrix Multiplication between 2 Arrays by using dot() function\n",
    "dot(New2D,Array1D)"
   ]
  },
  {
   "cell_type": "code",
   "execution_count": 635,
   "metadata": {},
   "outputs": [
    {
     "name": "stdout",
     "output_type": "stream",
     "text": [
      "[[[ 11  24]\n",
      "  [ 34  89]]\n",
      "\n",
      " [[ 15  90]\n",
      "  [ 80 100]]]\n"
     ]
    },
    {
     "data": {
      "text/plain": [
       "(None, 3)"
      ]
     },
     "execution_count": 635,
     "metadata": {},
     "output_type": "execute_result"
    }
   ],
   "source": [
    "ArraY3D=array([[[11,24],[34,89]],[[15,90],[80,100]]])\n",
    "print(ArraY3D),ndim(ArraY3D)"
   ]
  },
  {
   "cell_type": "code",
   "execution_count": 636,
   "metadata": {},
   "outputs": [
    {
     "data": {
      "text/plain": [
       "array([[[[  937,  2400],\n",
       "         [ 2085,  3390]],\n",
       "\n",
       "        [[ 3400,  8737],\n",
       "         [ 7630, 11960]]],\n",
       "\n",
       "\n",
       "       [[[ 3225,  8370],\n",
       "         [ 7425, 10350]],\n",
       "\n",
       "        [[ 4280, 10820],\n",
       "         [ 9200, 17200]]]])"
      ]
     },
     "execution_count": 636,
     "metadata": {},
     "output_type": "execute_result"
    }
   ],
   "source": [
    "#Performing Matrix Multiplication between 2 Arrays by using dot() function\n",
    "dot(Array3D,ArraY3D) #Here the shape is same so dot() will get performed"
   ]
  },
  {
   "cell_type": "markdown",
   "metadata": {},
   "source": [
    "### Matrix Class in Numpy"
   ]
  },
  {
   "cell_type": "code",
   "execution_count": 652,
   "metadata": {},
   "outputs": [],
   "source": [
    "# How to create Matrix without using predefined functions\n",
    "#1. Matrix objects are always 2D Array\n",
    "#2. Matrix can be created using String notation, in Array you can't do the same\n",
    "#3. We can use * symbol in Matrix multiplication\n",
    "#4. To perform Matrix multiplication between 2 Arrays we use dot() function"
   ]
  },
  {
   "cell_type": "code",
   "execution_count": 653,
   "metadata": {},
   "outputs": [
    {
     "name": "stdout",
     "output_type": "stream",
     "text": [
      "[[ 11  24]\n",
      " [ 34  89]\n",
      " [ 15  90]\n",
      " [ 80 100]]\n"
     ]
    },
    {
     "data": {
      "text/plain": [
       "(2, (4, 2))"
      ]
     },
     "execution_count": 653,
     "metadata": {},
     "output_type": "execute_result"
    }
   ],
   "source": [
    "# Creating 2D Matrix from 4 int lists\n",
    "Matrix1st=matrix([[11,24],[34,89],[15,90],[80,100]])\n",
    "print(Matrix1st)\n",
    "ndim(Matrix1st),shape(Matrix1st)"
   ]
  },
  {
   "cell_type": "code",
   "execution_count": 654,
   "metadata": {},
   "outputs": [
    {
     "name": "stdout",
     "output_type": "stream",
     "text": [
      "[[33 29]\n",
      " [78 89]]\n"
     ]
    },
    {
     "data": {
      "text/plain": [
       "(2, (2, 2))"
      ]
     },
     "execution_count": 654,
     "metadata": {},
     "output_type": "execute_result"
    }
   ],
   "source": [
    "# Creating 2D Matrix from 2 int lists\n",
    "Matrix2nd=matrix([[33,29],[78,89]])\n",
    "print(Matrix2nd)\n",
    "ndim(Matrix2nd),shape(Matrix2nd)"
   ]
  },
  {
   "cell_type": "code",
   "execution_count": 655,
   "metadata": {},
   "outputs": [
    {
     "name": "stdout",
     "output_type": "stream",
     "text": [
      "[[ 5 10]]\n"
     ]
    },
    {
     "data": {
      "text/plain": [
       "(2, (1, 2))"
      ]
     },
     "execution_count": 655,
     "metadata": {},
     "output_type": "execute_result"
    }
   ],
   "source": [
    "# Creating 2D Matrix from 1 int lists\n",
    "Matrix3rd=matrix([[5,10]])\n",
    "print(Matrix3rd)\n",
    "ndim(Matrix3rd),shape(Matrix3rd)"
   ]
  },
  {
   "cell_type": "code",
   "execution_count": 656,
   "metadata": {},
   "outputs": [
    {
     "data": {
      "text/plain": [
       "matrix([[ 16,  34],\n",
       "        [ 39,  99],\n",
       "        [ 20, 100],\n",
       "        [ 85, 110]])"
      ]
     },
     "execution_count": 656,
     "metadata": {},
     "output_type": "execute_result"
    }
   ],
   "source": [
    "#Performing Matrix Addition\n",
    "Matrix1st+Matrix3rd #Row of Matrix3rd has been added through all rows of Matrix1st"
   ]
  },
  {
   "cell_type": "code",
   "execution_count": 657,
   "metadata": {},
   "outputs": [
    {
     "data": {
      "text/plain": [
       "matrix([[ 16,  34],\n",
       "        [ 39,  99],\n",
       "        [ 20, 100],\n",
       "        [ 85, 110]])"
      ]
     },
     "execution_count": 657,
     "metadata": {},
     "output_type": "execute_result"
    }
   ],
   "source": [
    "#Performing Matrix Addition\n",
    "Matrix3rd+Matrix1st #Row of Matrix1st has been added through all rows of Matrix3rd"
   ]
  },
  {
   "cell_type": "code",
   "execution_count": 658,
   "metadata": {},
   "outputs": [
    {
     "data": {
      "text/plain": [
       "matrix([[38, 39],\n",
       "        [83, 99]])"
      ]
     },
     "execution_count": 658,
     "metadata": {},
     "output_type": "execute_result"
    }
   ],
   "source": [
    "#Performing Matrix Addition\n",
    "Matrix2nd+Matrix3rd #Row of Matrix3rd has been added through all rows of Matrix2nd"
   ]
  },
  {
   "cell_type": "code",
   "execution_count": 659,
   "metadata": {},
   "outputs": [
    {
     "data": {
      "text/plain": [
       "matrix([[38, 39],\n",
       "        [83, 99]])"
      ]
     },
     "execution_count": 659,
     "metadata": {},
     "output_type": "execute_result"
    }
   ],
   "source": [
    "#Performing Matrix Addition\n",
    "Matrix3rd+Matrix2nd #Row of Matrix2nd has been added through all rows of Matrix3rd"
   ]
  },
  {
   "cell_type": "code",
   "execution_count": 660,
   "metadata": {},
   "outputs": [
    {
     "data": {
      "text/plain": [
       "matrix([[ 2235,  2455],\n",
       "        [ 8064,  8907],\n",
       "        [ 7515,  8445],\n",
       "        [10440, 11220]])"
      ]
     },
     "execution_count": 660,
     "metadata": {},
     "output_type": "execute_result"
    }
   ],
   "source": [
    "#Performing Matrix Multiplication\n",
    "#First row of Matrix1st will go through all the cols of Matrix2nd and adds multiplied values for each col\n",
    "#Second row of Matrix1st will go through all the cols of Matrix2nd and adds multiplied values for each col\n",
    "#Third row of Matrix1st will go through all the cols of Matrix2nd and adds multiplied values for each col\n",
    "#Multiplication will go on like this\n",
    "Matrix1st*Matrix2nd"
   ]
  },
  {
   "cell_type": "code",
   "execution_count": 661,
   "metadata": {},
   "outputs": [
    {
     "data": {
      "text/plain": [
       "matrix([[ 2235,  2455],\n",
       "        [ 8064,  8907],\n",
       "        [ 7515,  8445],\n",
       "        [10440, 11220]])"
      ]
     },
     "execution_count": 661,
     "metadata": {},
     "output_type": "execute_result"
    }
   ],
   "source": [
    "#Performing Matrix Multiplication\n",
    "#First row of Matrix1st will go through all the cols of Matrix2nd and adds multiplied values for each col\n",
    "#Second row of Matrix1st will go through all the cols of Matrix2nd and adds multiplied values for each col\n",
    "#Third row of Matrix1st will go through all the cols of Matrix2nd and adds multiplied values for each col\n",
    "#Multiplication will go on like this\n",
    "dot(Matrix1st,Matrix2nd)"
   ]
  },
  {
   "cell_type": "code",
   "execution_count": 662,
   "metadata": {},
   "outputs": [
    {
     "ename": "ValueError",
     "evalue": "shapes (2,2) and (4,2) not aligned: 2 (dim 1) != 4 (dim 0)",
     "output_type": "error",
     "traceback": [
      "\u001b[1;31m---------------------------------------------------------------------------\u001b[0m",
      "\u001b[1;31mValueError\u001b[0m                                Traceback (most recent call last)",
      "\u001b[1;32m<ipython-input-662-3de016edf0d0>\u001b[0m in \u001b[0;36m<module>\u001b[1;34m\u001b[0m\n\u001b[0;32m      1\u001b[0m \u001b[1;31m#Performing Matrix Multiplication\u001b[0m\u001b[1;33m\u001b[0m\u001b[1;33m\u001b[0m\u001b[1;33m\u001b[0m\u001b[0m\n\u001b[1;32m----> 2\u001b[1;33m \u001b[0mMatrix2nd\u001b[0m\u001b[1;33m*\u001b[0m\u001b[0mMatrix1st\u001b[0m \u001b[1;31m#Shape should be exactly same\u001b[0m\u001b[1;33m\u001b[0m\u001b[1;33m\u001b[0m\u001b[0m\n\u001b[0m",
      "\u001b[1;32mD:\\Anwesh\\D_Program_Files\\Miniconda3\\envs\\ML\\lib\\site-packages\\numpy\\matrixlib\\defmatrix.py\u001b[0m in \u001b[0;36m__mul__\u001b[1;34m(self, other)\u001b[0m\n\u001b[0;32m    216\u001b[0m         \u001b[1;32mif\u001b[0m \u001b[0misinstance\u001b[0m\u001b[1;33m(\u001b[0m\u001b[0mother\u001b[0m\u001b[1;33m,\u001b[0m \u001b[1;33m(\u001b[0m\u001b[0mN\u001b[0m\u001b[1;33m.\u001b[0m\u001b[0mndarray\u001b[0m\u001b[1;33m,\u001b[0m \u001b[0mlist\u001b[0m\u001b[1;33m,\u001b[0m \u001b[0mtuple\u001b[0m\u001b[1;33m)\u001b[0m\u001b[1;33m)\u001b[0m \u001b[1;33m:\u001b[0m\u001b[1;33m\u001b[0m\u001b[1;33m\u001b[0m\u001b[0m\n\u001b[0;32m    217\u001b[0m             \u001b[1;31m# This promotes 1-D vectors to row vectors\u001b[0m\u001b[1;33m\u001b[0m\u001b[1;33m\u001b[0m\u001b[1;33m\u001b[0m\u001b[0m\n\u001b[1;32m--> 218\u001b[1;33m             \u001b[1;32mreturn\u001b[0m \u001b[0mN\u001b[0m\u001b[1;33m.\u001b[0m\u001b[0mdot\u001b[0m\u001b[1;33m(\u001b[0m\u001b[0mself\u001b[0m\u001b[1;33m,\u001b[0m \u001b[0masmatrix\u001b[0m\u001b[1;33m(\u001b[0m\u001b[0mother\u001b[0m\u001b[1;33m)\u001b[0m\u001b[1;33m)\u001b[0m\u001b[1;33m\u001b[0m\u001b[1;33m\u001b[0m\u001b[0m\n\u001b[0m\u001b[0;32m    219\u001b[0m         \u001b[1;32mif\u001b[0m \u001b[0misscalar\u001b[0m\u001b[1;33m(\u001b[0m\u001b[0mother\u001b[0m\u001b[1;33m)\u001b[0m \u001b[1;32mor\u001b[0m \u001b[1;32mnot\u001b[0m \u001b[0mhasattr\u001b[0m\u001b[1;33m(\u001b[0m\u001b[0mother\u001b[0m\u001b[1;33m,\u001b[0m \u001b[1;34m'__rmul__'\u001b[0m\u001b[1;33m)\u001b[0m \u001b[1;33m:\u001b[0m\u001b[1;33m\u001b[0m\u001b[1;33m\u001b[0m\u001b[0m\n\u001b[0;32m    220\u001b[0m             \u001b[1;32mreturn\u001b[0m \u001b[0mN\u001b[0m\u001b[1;33m.\u001b[0m\u001b[0mdot\u001b[0m\u001b[1;33m(\u001b[0m\u001b[0mself\u001b[0m\u001b[1;33m,\u001b[0m \u001b[0mother\u001b[0m\u001b[1;33m)\u001b[0m\u001b[1;33m\u001b[0m\u001b[1;33m\u001b[0m\u001b[0m\n",
      "\u001b[1;32m<__array_function__ internals>\u001b[0m in \u001b[0;36mdot\u001b[1;34m(*args, **kwargs)\u001b[0m\n",
      "\u001b[1;31mValueError\u001b[0m: shapes (2,2) and (4,2) not aligned: 2 (dim 1) != 4 (dim 0)"
     ]
    }
   ],
   "source": [
    "#Performing Matrix Multiplication\n",
    "Matrix2nd*Matrix1st #Shape should be exactly same"
   ]
  },
  {
   "cell_type": "code",
   "execution_count": 663,
   "metadata": {},
   "outputs": [
    {
     "ename": "ValueError",
     "evalue": "shapes (2,2) and (4,2) not aligned: 2 (dim 1) != 4 (dim 0)",
     "output_type": "error",
     "traceback": [
      "\u001b[1;31m---------------------------------------------------------------------------\u001b[0m",
      "\u001b[1;31mValueError\u001b[0m                                Traceback (most recent call last)",
      "\u001b[1;32m<ipython-input-663-02c9a12674a0>\u001b[0m in \u001b[0;36m<module>\u001b[1;34m\u001b[0m\n\u001b[1;32m----> 1\u001b[1;33m \u001b[0mdot\u001b[0m\u001b[1;33m(\u001b[0m\u001b[0mMatrix2nd\u001b[0m\u001b[1;33m,\u001b[0m\u001b[0mMatrix1st\u001b[0m\u001b[1;33m)\u001b[0m\u001b[1;33m\u001b[0m\u001b[1;33m\u001b[0m\u001b[0m\n\u001b[0m",
      "\u001b[1;32m<__array_function__ internals>\u001b[0m in \u001b[0;36mdot\u001b[1;34m(*args, **kwargs)\u001b[0m\n",
      "\u001b[1;31mValueError\u001b[0m: shapes (2,2) and (4,2) not aligned: 2 (dim 1) != 4 (dim 0)"
     ]
    }
   ],
   "source": [
    "dot(Matrix2nd,Matrix1st)"
   ]
  },
  {
   "cell_type": "code",
   "execution_count": 664,
   "metadata": {},
   "outputs": [],
   "source": [
    "MultiMat=Matrix1st*Matrix2nd"
   ]
  },
  {
   "cell_type": "code",
   "execution_count": 665,
   "metadata": {},
   "outputs": [
    {
     "name": "stdout",
     "output_type": "stream",
     "text": [
      "[[ 2235  2455]\n",
      " [ 8064  8907]\n",
      " [ 7515  8445]\n",
      " [10440 11220]]\n"
     ]
    }
   ],
   "source": [
    "print(MultiMat) #4 Rows, 2 cols"
   ]
  },
  {
   "cell_type": "code",
   "execution_count": 666,
   "metadata": {},
   "outputs": [
    {
     "name": "stdout",
     "output_type": "stream",
     "text": [
      "[[ 2235  8064  7515 10440]\n",
      " [ 2455  8907  8445 11220]]\n"
     ]
    }
   ],
   "source": [
    "Transpose=transpose(MultiMat)\n",
    "print(Transpose) #2 Rows & 4 cols"
   ]
  },
  {
   "cell_type": "markdown",
   "metadata": {},
   "source": [
    "### Inverse of A Matrix & Linear Algebra"
   ]
  },
  {
   "cell_type": "code",
   "execution_count": 667,
   "metadata": {},
   "outputs": [],
   "source": [
    "# help(linalg)\n",
    "# using linalg we will do\n",
    "#1. Invert of Matrix (for square matrix only)\n",
    "#2. Power of Matrix\n",
    "#3. Linear equation\n",
    "#4. Determinants"
   ]
  },
  {
   "cell_type": "code",
   "execution_count": 668,
   "metadata": {},
   "outputs": [
    {
     "name": "stdout",
     "output_type": "stream",
     "text": [
      "[[ 11  24  56  89]\n",
      " [ 34  89  99  54]\n",
      " [ 15  90  76  72]\n",
      " [ 80 100  63  36]]\n"
     ]
    },
    {
     "data": {
      "text/plain": [
       "(2, (4, 4))"
      ]
     },
     "execution_count": 668,
     "metadata": {},
     "output_type": "execute_result"
    }
   ],
   "source": [
    "# Create a 4by4 2D square Matrix by using 4 int lists\n",
    "SquareMat=matrix([[11,24,56,89],[34,89,99,54],[15,90,76,72],[80,100,63,36]]) #4by4 2D square Matrix\n",
    "print(SquareMat)\n",
    "ndim(SquareMat),shape(SquareMat)"
   ]
  },
  {
   "cell_type": "code",
   "execution_count": 669,
   "metadata": {},
   "outputs": [
    {
     "name": "stdout",
     "output_type": "stream",
     "text": [
      "[[ 0.00927926 -0.0004937  -0.01855657  0.01491328]\n",
      " [-0.01296349 -0.01341465  0.02465484  0.00286092]\n",
      " [ 0.0016098   0.03094397 -0.0204266  -0.00954255]\n",
      " [ 0.01257194 -0.01579191  0.0084977   0.0033896 ]]\n"
     ]
    }
   ],
   "source": [
    "Inverse=linalg.inv(SquareMat) #Inverse of the 4by4 squere matrix\n",
    "print(Inverse)"
   ]
  },
  {
   "cell_type": "code",
   "execution_count": 670,
   "metadata": {},
   "outputs": [
    {
     "name": "stdout",
     "output_type": "stream",
     "text": [
      "[[ 8897 16340 12855  9511]\n",
      " [ 9205 23047 21641 16904]\n",
      " [10125 22410 20062 14259]\n",
      " [ 8105 20090 21436 18352]]\n"
     ]
    }
   ],
   "source": [
    "Power=linalg.matrix_power(SquareMat,2) #Matrix way Muliply, Only Works with Square Matrix\n",
    "print(Power)                           #SquareMat**2"
   ]
  },
  {
   "cell_type": "code",
   "execution_count": 671,
   "metadata": {},
   "outputs": [
    {
     "data": {
      "text/plain": [
       "matrix([[ 8897, 16340, 12855,  9511],\n",
       "        [ 9205, 23047, 21641, 16904],\n",
       "        [10125, 22410, 20062, 14259],\n",
       "        [ 8105, 20090, 21436, 18352]])"
      ]
     },
     "execution_count": 671,
     "metadata": {},
     "output_type": "execute_result"
    }
   ],
   "source": [
    "SquareMat**2"
   ]
  },
  {
   "cell_type": "code",
   "execution_count": 672,
   "metadata": {},
   "outputs": [
    {
     "name": "stdout",
     "output_type": "stream",
     "text": [
      "[[ 8897 16340 12855  9511]\n",
      " [ 9205 23047 21641 16904]\n",
      " [10125 22410 20062 14259]\n",
      " [ 8105 20090 21436 18352]]\n"
     ]
    }
   ],
   "source": [
    "Dot=dot(SquareMat,SquareMat) #Matrix way Multiply\n",
    "print(Dot)"
   ]
  },
  {
   "cell_type": "code",
   "execution_count": 673,
   "metadata": {},
   "outputs": [
    {
     "name": "stdout",
     "output_type": "stream",
     "text": [
      "[[ 8897 16340 12855  9511]\n",
      " [ 9205 23047 21641 16904]\n",
      " [10125 22410 20062 14259]\n",
      " [ 8105 20090 21436 18352]]\n"
     ]
    }
   ],
   "source": [
    "MultiSquare=SquareMat*SquareMat #Direct Multiply * because of Matrix\n",
    "print(MultiSquare)"
   ]
  },
  {
   "cell_type": "markdown",
   "metadata": {},
   "source": [
    "### Linear Algebra"
   ]
  },
  {
   "cell_type": "code",
   "execution_count": 674,
   "metadata": {},
   "outputs": [
    {
     "name": "stdout",
     "output_type": "stream",
     "text": [
      "Help on function solve in module numpy.linalg:\n",
      "\n",
      "solve(a, b)\n",
      "    Solve a linear matrix equation, or system of linear scalar equations.\n",
      "    \n",
      "    Computes the \"exact\" solution, `x`, of the well-determined, i.e., full\n",
      "    rank, linear matrix equation `ax = b`.\n",
      "    \n",
      "    Parameters\n",
      "    ----------\n",
      "    a : (..., M, M) array_like\n",
      "        Coefficient matrix.\n",
      "    b : {(..., M,), (..., M, K)}, array_like\n",
      "        Ordinate or \"dependent variable\" values.\n",
      "    \n",
      "    Returns\n",
      "    -------\n",
      "    x : {(..., M,), (..., M, K)} ndarray\n",
      "        Solution to the system a x = b.  Returned shape is identical to `b`.\n",
      "    \n",
      "    Raises\n",
      "    ------\n",
      "    LinAlgError\n",
      "        If `a` is singular or not square.\n",
      "    \n",
      "    See Also\n",
      "    --------\n",
      "    scipy.linalg.solve : Similar function in SciPy.\n",
      "    \n",
      "    Notes\n",
      "    -----\n",
      "    \n",
      "    .. versionadded:: 1.8.0\n",
      "    \n",
      "    Broadcasting rules apply, see the `numpy.linalg` documentation for\n",
      "    details.\n",
      "    \n",
      "    The solutions are computed using LAPACK routine ``_gesv``.\n",
      "    \n",
      "    `a` must be square and of full-rank, i.e., all rows (or, equivalently,\n",
      "    columns) must be linearly independent; if either is not true, use\n",
      "    `lstsq` for the least-squares best \"solution\" of the\n",
      "    system/equation.\n",
      "    \n",
      "    References\n",
      "    ----------\n",
      "    .. [1] G. Strang, *Linear Algebra and Its Applications*, 2nd Ed., Orlando,\n",
      "           FL, Academic Press, Inc., 1980, pg. 22.\n",
      "    \n",
      "    Examples\n",
      "    --------\n",
      "    Solve the system of equations ``3 * x0 + x1 = 9`` and ``x0 + 2 * x1 = 8``:\n",
      "    \n",
      "    >>> a = np.array([[3,1], [1,2]])\n",
      "    >>> b = np.array([9,8])\n",
      "    >>> x = np.linalg.solve(a, b)\n",
      "    >>> x\n",
      "    array([2.,  3.])\n",
      "    \n",
      "    Check that the solution is correct:\n",
      "    \n",
      "    >>> np.allclose(np.dot(a, x), b)\n",
      "    True\n",
      "\n"
     ]
    }
   ],
   "source": [
    "help(linalg.solve)"
   ]
  },
  {
   "cell_type": "code",
   "execution_count": 675,
   "metadata": {},
   "outputs": [],
   "source": [
    "# linalg.solve(a,b) here a is the coefficients of independent variables and b is the constant values\n",
    "# This function will solve the linear matrix equation or the system of linear scalar equation\n",
    "# We will take the equation in matrix form and will find out the unknown variables"
   ]
  },
  {
   "cell_type": "code",
   "execution_count": 676,
   "metadata": {},
   "outputs": [
    {
     "data": {
      "text/plain": [
       "array([2., 3.])"
      ]
     },
     "execution_count": 676,
     "metadata": {},
     "output_type": "execute_result"
    }
   ],
   "source": [
    "#Linear Equations\n",
    "# 3X+Y=9\n",
    "# X+2Y=8\n",
    "Acoeffs=array([[3,1],[1,2]]) #2D\n",
    "Bconstants=array([9,8]) #1D\n",
    "linalg.solve(Acoeffs,Bconstants) # X=2 & Y=3"
   ]
  },
  {
   "cell_type": "code",
   "execution_count": 677,
   "metadata": {},
   "outputs": [
    {
     "data": {
      "text/plain": [
       "array([2., 3., 1.])"
      ]
     },
     "execution_count": 677,
     "metadata": {},
     "output_type": "execute_result"
    }
   ],
   "source": [
    "# 6X+2Y-5Z=13\n",
    "# 3X+3Y-2Z=13\n",
    "# 7X+5Y-3Z=26\n",
    "Acoeffs=array([[6,2,-5],[3,3,-2],[7,5,-3]]) #2D\n",
    "Bconstants=array([13,13,26]) #1D\n",
    "linalg.solve(Acoeffs,Bconstants) # X=2, Y=3 & Z=1"
   ]
  },
  {
   "cell_type": "markdown",
   "metadata": {},
   "source": [
    "### Determinant of a Matrix"
   ]
  },
  {
   "cell_type": "code",
   "execution_count": 678,
   "metadata": {},
   "outputs": [],
   "source": [
    "# All kind of 2D Arrays are called Matrix\n",
    "# We can create Matrix by using array() & matrix() function"
   ]
  },
  {
   "cell_type": "code",
   "execution_count": 679,
   "metadata": {},
   "outputs": [],
   "source": [
    "# Create a 4by4 2D square Matrix by using 4 int lists\n",
    "SquareMat=matrix([[11,24,56,89],[34,89,99,54],[15,90,76,72],[80,100,63,36]]) #4by4 square Matrix"
   ]
  },
  {
   "cell_type": "code",
   "execution_count": 680,
   "metadata": {},
   "outputs": [
    {
     "data": {
      "text/plain": [
       "13753244.999999978"
      ]
     },
     "execution_count": 680,
     "metadata": {},
     "output_type": "execute_result"
    }
   ],
   "source": [
    "linalg.det(SquareMat)"
   ]
  },
  {
   "cell_type": "code",
   "execution_count": 681,
   "metadata": {},
   "outputs": [
    {
     "data": {
      "text/plain": [
       "13753244"
      ]
     },
     "execution_count": 681,
     "metadata": {},
     "output_type": "execute_result"
    }
   ],
   "source": [
    "int(linalg.det(SquareMat)) #Make the answer integer"
   ]
  },
  {
   "cell_type": "code",
   "execution_count": 682,
   "metadata": {},
   "outputs": [
    {
     "data": {
      "text/plain": [
       "13753245"
      ]
     },
     "execution_count": 682,
     "metadata": {},
     "output_type": "execute_result"
    }
   ],
   "source": [
    "round(linalg.det(SquareMat)) #Make the answer Round"
   ]
  },
  {
   "cell_type": "markdown",
   "metadata": {},
   "source": [
    "## Universal Array Functions\n",
    "Numpy comes with many universal array functions, which are essentially just mathematical operations you can use to perform the operation across the array. Let's show some common ones:"
   ]
  },
  {
   "cell_type": "code",
   "execution_count": 683,
   "metadata": {},
   "outputs": [
    {
     "data": {
      "text/plain": [
       "matrix([[ 11,  24,  56,  89],\n",
       "        [ 34,  89,  99,  54],\n",
       "        [ 15,  90,  76,  72],\n",
       "        [ 80, 100,  63,  36]])"
      ]
     },
     "execution_count": 683,
     "metadata": {},
     "output_type": "execute_result"
    }
   ],
   "source": [
    "# Create a 4by4 2D square Matrix by using 4 int lists\n",
    "SquareMat=matrix([[11,24,56,89],[34,89,99,54],[15,90,76,72],[80,100,63,36]]) #4by4 square Matrix\n",
    "SquareMat"
   ]
  },
  {
   "cell_type": "code",
   "execution_count": 686,
   "metadata": {},
   "outputs": [
    {
     "data": {
      "text/plain": [
       "array([[ 3.31662479,  4.89897949,  7.48331477,  9.43398113],\n",
       "       [ 5.83095189,  9.43398113,  9.94987437,  7.34846923],\n",
       "       [ 3.87298335,  9.48683298,  8.71779789,  8.48528137],\n",
       "       [ 8.94427191, 10.        ,  7.93725393,  6.        ]])"
      ]
     },
     "execution_count": 686,
     "metadata": {},
     "output_type": "execute_result"
    }
   ],
   "source": [
    "#Taking Square Roots of SquareMat\n",
    "from numpy.lib.scimath import sqrt\n",
    "sqrt(SquareMat)"
   ]
  },
  {
   "cell_type": "code",
   "execution_count": 688,
   "metadata": {},
   "outputs": [
    {
     "data": {
      "text/plain": [
       "matrix([[5.98741417e+04, 2.64891221e+10, 2.09165950e+24, 4.48961282e+38],\n",
       "        [5.83461743e+14, 4.48961282e+38, 9.88903032e+42, 2.83075330e+23],\n",
       "        [3.26901737e+06, 1.22040329e+39, 1.01480039e+33, 1.85867175e+31],\n",
       "        [5.54062238e+34, 2.68811714e+43, 2.29378316e+27, 4.31123155e+15]])"
      ]
     },
     "execution_count": 688,
     "metadata": {},
     "output_type": "execute_result"
    }
   ],
   "source": [
    "#Calcualting exponential (e^) of SquareMat\n",
    "from numpy import exp\n",
    "exp(SquareMat)"
   ]
  },
  {
   "cell_type": "code",
   "execution_count": 689,
   "metadata": {},
   "outputs": [
    {
     "data": {
      "text/plain": [
       "100"
      ]
     },
     "execution_count": 689,
     "metadata": {},
     "output_type": "execute_result"
    }
   ],
   "source": [
    "# Shows the element in SquareMat which has maximum value\n",
    "SquareMat.max()"
   ]
  },
  {
   "cell_type": "code",
   "execution_count": 691,
   "metadata": {},
   "outputs": [
    {
     "data": {
      "text/plain": [
       "matrix([[-0.99999021, -0.90557836, -0.521551  ,  0.86006941],\n",
       "        [ 0.52908269,  0.86006941, -0.99920683, -0.55878905],\n",
       "        [ 0.65028784,  0.89399666,  0.56610764,  0.25382336],\n",
       "        [-0.99388865, -0.50636564,  0.1673557 , -0.99177885]])"
      ]
     },
     "execution_count": 691,
     "metadata": {},
     "output_type": "execute_result"
    }
   ],
   "source": [
    "#Shows sin degree value of each element\n",
    "from numpy import sin\n",
    "sin(SquareMat)"
   ]
  },
  {
   "cell_type": "code",
   "execution_count": 693,
   "metadata": {},
   "outputs": [
    {
     "data": {
      "text/plain": [
       "array([[2.39789527, 3.17805383, 4.02535169, 4.48863637],\n",
       "       [3.52636052, 4.48863637, 4.59511985, 3.98898405],\n",
       "       [2.7080502 , 4.49980967, 4.33073334, 4.27666612],\n",
       "       [4.38202663, 4.60517019, 4.14313473, 3.58351894]])"
      ]
     },
     "execution_count": 693,
     "metadata": {},
     "output_type": "execute_result"
    }
   ],
   "source": [
    "#Shows log value of each element\n",
    "from numpy.lib.scimath import log\n",
    "log(SquareMat)"
   ]
  }
 ],
 "metadata": {
  "kernelspec": {
   "display_name": "Python 3",
   "language": "python",
   "name": "python3"
  },
  "language_info": {
   "codemirror_mode": {
    "name": "ipython",
    "version": 3
   },
   "file_extension": ".py",
   "mimetype": "text/x-python",
   "name": "python",
   "nbconvert_exporter": "python",
   "pygments_lexer": "ipython3",
   "version": "3.8.8"
  },
  "toc": {
   "base_numbering": 1,
   "nav_menu": {},
   "number_sections": true,
   "sideBar": true,
   "skip_h1_title": false,
   "title_cell": "Table of Contents",
   "title_sidebar": "Contents",
   "toc_cell": false,
   "toc_position": {},
   "toc_section_display": true,
   "toc_window_display": false
  }
 },
 "nbformat": 4,
 "nbformat_minor": 2
}
