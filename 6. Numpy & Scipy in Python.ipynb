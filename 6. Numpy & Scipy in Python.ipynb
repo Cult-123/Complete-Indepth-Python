{
 "cells": [
  {
   "cell_type": "markdown",
   "metadata": {
    "toc": true
   },
   "source": [
    "<h1>Table of Contents<span class=\"tocSkip\"></span></h1>\n",
    "<div class=\"toc\"><ul class=\"toc-item\"><li><span><a href=\"#Numpy-&amp;-Scipy-in-Python\" data-toc-modified-id=\"Numpy-&amp;-Scipy-in-Python-1\"><span class=\"toc-item-num\">1&nbsp;&nbsp;</span>Numpy &amp; Scipy in Python</a></span></li><li><span><a href=\"#Using-NumPy\" data-toc-modified-id=\"Using-NumPy-2\"><span class=\"toc-item-num\">2&nbsp;&nbsp;</span>Using NumPy</a></span></li><li><span><a href=\"#Agendas-in-Numpy\" data-toc-modified-id=\"Agendas-in-Numpy-3\"><span class=\"toc-item-num\">3&nbsp;&nbsp;</span>Agendas in Numpy</a></span><ul class=\"toc-item\"><li><span><a href=\"#Arrays\" data-toc-modified-id=\"Arrays-3.1\"><span class=\"toc-item-num\">3.1&nbsp;&nbsp;</span>Arrays</a></span></li><li><span><a href=\"#Similarites-between-List-&amp;-Array\" data-toc-modified-id=\"Similarites-between-List-&amp;-Array-3.2\"><span class=\"toc-item-num\">3.2&nbsp;&nbsp;</span>Similarites between List &amp; Array</a></span></li><li><span><a href=\"#Differences-between-List-&amp;-Array\" data-toc-modified-id=\"Differences-between-List-&amp;-Array-3.3\"><span class=\"toc-item-num\">3.3&nbsp;&nbsp;</span>Differences between List &amp; Array</a></span></li><li><span><a href=\"#You-can't-perform-Airthmatic-operations-between-Lists,-Tuple,-Sets-&amp;-Dics\" data-toc-modified-id=\"You-can't-perform-Airthmatic-operations-between-Lists,-Tuple,-Sets-&amp;-Dics-3.4\"><span class=\"toc-item-num\">3.4&nbsp;&nbsp;</span>You can't perform Airthmatic operations between Lists, Tuple, Sets &amp; Dics</a></span></li><li><span><a href=\"#You-can-perform-Airthmatic-operations-between-2-numpy-array\" data-toc-modified-id=\"You-can-perform-Airthmatic-operations-between-2-numpy-array-3.5\"><span class=\"toc-item-num\">3.5&nbsp;&nbsp;</span>You can perform Airthmatic operations between 2 numpy array</a></span></li><li><span><a href=\"#Advantages-of-Array-compared-to-List\" data-toc-modified-id=\"Advantages-of-Array-compared-to-List-3.6\"><span class=\"toc-item-num\">3.6&nbsp;&nbsp;</span>Advantages of Array compared to List</a></span></li><li><span><a href=\"#There-are-different-functions-to-create-numpy-array\" data-toc-modified-id=\"There-are-different-functions-to-create-numpy-array-3.7\"><span class=\"toc-item-num\">3.7&nbsp;&nbsp;</span>There are different functions to create numpy array</a></span></li><li><span><a href=\"#array()-function,-Array-=-array([a,-b,-c,-d,-e])\" data-toc-modified-id=\"array()-function,-Array-=-array([a,-b,-c,-d,-e])-3.8\"><span class=\"toc-item-num\">3.8&nbsp;&nbsp;</span>array() function, Array = array([a, b, c, d, e])</a></span></li><li><span><a href=\"#Convert-List,-Set,-Tuple-&amp;-Dict-into-1D-Array\" data-toc-modified-id=\"Convert-List,-Set,-Tuple-&amp;-Dict-into-1D-Array-3.9\"><span class=\"toc-item-num\">3.9&nbsp;&nbsp;</span>Convert List, Set, Tuple &amp; Dict into 1D Array</a></span></li><li><span><a href=\"#Convert-List,-Set,-Tuple-&amp;-Dict-into-2D-Array-Row\" data-toc-modified-id=\"Convert-List,-Set,-Tuple-&amp;-Dict-into-2D-Array-Row-3.10\"><span class=\"toc-item-num\">3.10&nbsp;&nbsp;</span>Convert List, Set, Tuple &amp; Dict into 2D Array Row</a></span></li><li><span><a href=\"#Creating-MultiDimentional-Arrays-from-List,-Tuple,-Set,-Dict\" data-toc-modified-id=\"Creating-MultiDimentional-Arrays-from-List,-Tuple,-Set,-Dict-3.11\"><span class=\"toc-item-num\">3.11&nbsp;&nbsp;</span>Creating MultiDimentional Arrays from List, Tuple, Set, Dict</a></span></li><li><span><a href=\"#array(object,-dtype=complex)\" data-toc-modified-id=\"array(object,-dtype=complex)-3.12\"><span class=\"toc-item-num\">3.12&nbsp;&nbsp;</span>array(object, dtype=complex)</a></span></li><li><span><a href=\"#arange(start,-stop,-step)-function\" data-toc-modified-id=\"arange(start,-stop,-step)-function-3.13\"><span class=\"toc-item-num\">3.13&nbsp;&nbsp;</span>arange(start, stop, step) function</a></span></li><li><span><a href=\"#array.reshape(num1,-num2)\" data-toc-modified-id=\"array.reshape(num1,-num2)-3.14\"><span class=\"toc-item-num\">3.14&nbsp;&nbsp;</span>array.reshape(num1, num2)</a></span></li><li><span><a href=\"#zeros()-function\" data-toc-modified-id=\"zeros()-function-3.15\"><span class=\"toc-item-num\">3.15&nbsp;&nbsp;</span>zeros() function</a></span></li><li><span><a href=\"#ones()-function\" data-toc-modified-id=\"ones()-function-3.16\"><span class=\"toc-item-num\">3.16&nbsp;&nbsp;</span>ones() function</a></span></li><li><span><a href=\"#linspace()-function\" data-toc-modified-id=\"linspace()-function-3.17\"><span class=\"toc-item-num\">3.17&nbsp;&nbsp;</span>linspace() function</a></span></li><li><span><a href=\"#eye()-function-is-identity-matrix\" data-toc-modified-id=\"eye()-function-is-identity-matrix-3.18\"><span class=\"toc-item-num\">3.18&nbsp;&nbsp;</span>eye() function is identity matrix</a></span></li><li><span><a href=\"#identity()-function,-always-creates-2D-square-array\" data-toc-modified-id=\"identity()-function,-always-creates-2D-square-array-3.19\"><span class=\"toc-item-num\">3.19&nbsp;&nbsp;</span>identity() function, always creates 2D square array</a></span></li><li><span><a href=\"#random()-function\" data-toc-modified-id=\"random()-function-3.20\"><span class=\"toc-item-num\">3.20&nbsp;&nbsp;</span>random() function</a></span></li><li><span><a href=\"#Attributes-of-Array\" data-toc-modified-id=\"Attributes-of-Array-3.21\"><span class=\"toc-item-num\">3.21&nbsp;&nbsp;</span>Attributes of Array</a></span></li><li><span><a href=\"#How-to-change-data-type-elements-of-an-Numpy-Array-by-using-astype()-function-extension,-Array.astype(datatype)\" data-toc-modified-id=\"How-to-change-data-type-elements-of-an-Numpy-Array-by-using-astype()-function-extension,-Array.astype(datatype)-3.22\"><span class=\"toc-item-num\">3.22&nbsp;&nbsp;</span>How to change data type elements of an Numpy Array by using astype() function extension, Array.astype(datatype)</a></span></li><li><span><a href=\"#Indexing-operation-in-Numpy-Array\" data-toc-modified-id=\"Indexing-operation-in-Numpy-Array-3.23\"><span class=\"toc-item-num\">3.23&nbsp;&nbsp;</span>Indexing operation in Numpy Array</a></span><ul class=\"toc-item\"><li><span><a href=\"#Indexing-in-1D-Array-is-Array[-:-]-and-Array[-[0,-1,-2,-3,-4]-]\" data-toc-modified-id=\"Indexing-in-1D-Array-is-Array[-:-]-and-Array[-[0,-1,-2,-3,-4]-]-3.23.1\"><span class=\"toc-item-num\">3.23.1&nbsp;&nbsp;</span>Indexing in 1D Array is Array[ : ] and Array[ [0, 1, 2, 3, 4] ]</a></span></li><li><span><a href=\"#Array[-:-]-means-all-elements\" data-toc-modified-id=\"Array[-:-]-means-all-elements-3.23.2\"><span class=\"toc-item-num\">3.23.2&nbsp;&nbsp;</span>Array[ : ] means all elements</a></span></li><li><span><a href=\"#Indexingin-in-2D-array-is-Array2D[row-index][col-index]\" data-toc-modified-id=\"Indexingin-in-2D-array-is-Array2D[row-index][col-index]-3.23.3\"><span class=\"toc-item-num\">3.23.3&nbsp;&nbsp;</span>Indexingin in 2D array is Array2D[row index][col index]</a></span></li><li><span><a href=\"#Array[-:-,-:-]-means-all-rows-&amp;-all-columns\" data-toc-modified-id=\"Array[-:-,-:-]-means-all-rows-&amp;-all-columns-3.23.4\"><span class=\"toc-item-num\">3.23.4&nbsp;&nbsp;</span>Array[ : , : ] means all rows &amp; all columns</a></span></li><li><span><a href=\"#Indexing-in-3D-Array-is-Array3D[array-index][row-index][col-index]-and\" data-toc-modified-id=\"Indexing-in-3D-Array-is-Array3D[array-index][row-index][col-index]-and-3.23.5\"><span class=\"toc-item-num\">3.23.5&nbsp;&nbsp;</span>Indexing in 3D Array is Array3D[array index][row index][col index] and</a></span></li><li><span><a href=\"#Array[-:-,-:-,-:-]-means-all-arrays,-all-rows-&amp;-all-columns\" data-toc-modified-id=\"Array[-:-,-:-,-:-]-means-all-arrays,-all-rows-&amp;-all-columns-3.23.6\"><span class=\"toc-item-num\">3.23.6&nbsp;&nbsp;</span>Array[ : , : , : ] means all arrays, all rows &amp; all columns</a></span></li><li><span><a href=\"#Slicing-operation-in-Numpy-Array\" data-toc-modified-id=\"Slicing-operation-in-Numpy-Array-3.23.7\"><span class=\"toc-item-num\">3.23.7&nbsp;&nbsp;</span>Slicing operation in Numpy Array</a></span></li><li><span><a href=\"#Slicing-1D-Array\" data-toc-modified-id=\"Slicing-1D-Array-3.23.8\"><span class=\"toc-item-num\">3.23.8&nbsp;&nbsp;</span>Slicing 1D Array</a></span></li><li><span><a href=\"#Slicing-2D-Array\" data-toc-modified-id=\"Slicing-2D-Array-3.23.9\"><span class=\"toc-item-num\">3.23.9&nbsp;&nbsp;</span>Slicing 2D Array</a></span></li></ul></li><li><span><a href=\"#Advanced-indexing-Techniques-in--Numpy-Array\" data-toc-modified-id=\"Advanced-indexing-Techniques-in--Numpy-Array-3.24\"><span class=\"toc-item-num\">3.24&nbsp;&nbsp;</span>Advanced indexing Techniques in  Numpy Array</a></span><ul class=\"toc-item\"><li><span><a href=\"#Integer-Indexing\" data-toc-modified-id=\"Integer-Indexing-3.24.1\"><span class=\"toc-item-num\">3.24.1&nbsp;&nbsp;</span>Integer Indexing</a></span></li><li><span><a href=\"#Indexing-from-1D-Array\" data-toc-modified-id=\"Indexing-from-1D-Array-3.24.2\"><span class=\"toc-item-num\">3.24.2&nbsp;&nbsp;</span>Indexing from 1D Array</a></span></li><li><span><a href=\"#Boolean-Indexing\" data-toc-modified-id=\"Boolean-Indexing-3.24.3\"><span class=\"toc-item-num\">3.24.3&nbsp;&nbsp;</span>Boolean Indexing</a></span></li></ul></li><li><span><a href=\"#Airthmatic-Operations-in-Numpy-Array\" data-toc-modified-id=\"Airthmatic-Operations-in-Numpy-Array-3.25\"><span class=\"toc-item-num\">3.25&nbsp;&nbsp;</span>Airthmatic Operations in Numpy Array</a></span><ul class=\"toc-item\"><li><span><a href=\"#Using-Scalars\" data-toc-modified-id=\"Using-Scalars-3.25.1\"><span class=\"toc-item-num\">3.25.1&nbsp;&nbsp;</span>Using Scalars</a></span></li><li><span><a href=\"#B/W-Arrays\" data-toc-modified-id=\"B/W-Arrays-3.25.2\"><span class=\"toc-item-num\">3.25.2&nbsp;&nbsp;</span>B/W Arrays</a></span></li></ul></li><li><span><a href=\"#Brodcasting\" data-toc-modified-id=\"Brodcasting-3.26\"><span class=\"toc-item-num\">3.26&nbsp;&nbsp;</span>Brodcasting</a></span></li><li><span><a href=\"#Array-Manupulation\" data-toc-modified-id=\"Array-Manupulation-3.27\"><span class=\"toc-item-num\">3.27&nbsp;&nbsp;</span>Array Manupulation</a></span></li><li><span><a href=\"#Reshaping-Array\" data-toc-modified-id=\"Reshaping-Array-3.28\"><span class=\"toc-item-num\">3.28&nbsp;&nbsp;</span>Reshaping Array</a></span></li><li><span><a href=\"#Array-Flattening-to-1D-by-using-flatten()-&amp;-ravel()\" data-toc-modified-id=\"Array-Flattening-to-1D-by-using-flatten()-&amp;-ravel()-3.29\"><span class=\"toc-item-num\">3.29&nbsp;&nbsp;</span>Array Flattening to 1D by using flatten() &amp; ravel()</a></span></li><li><span><a href=\"#Dimension-Shuffling-by-using-Transpose-and-Swapaxes\" data-toc-modified-id=\"Dimension-Shuffling-by-using-Transpose-and-Swapaxes-3.30\"><span class=\"toc-item-num\">3.30&nbsp;&nbsp;</span>Dimension Shuffling by using Transpose and Swapaxes</a></span><ul class=\"toc-item\"><li><span><a href=\"#transpose(Array,-axes=none)-&amp;-ArrayAxis=0,-RowAxis=1,-colAxis=2\" data-toc-modified-id=\"transpose(Array,-axes=none)-&amp;-ArrayAxis=0,-RowAxis=1,-colAxis=2-3.30.1\"><span class=\"toc-item-num\">3.30.1&nbsp;&nbsp;</span>transpose(Array, axes=none) &amp; ArrayAxis=0, RowAxis=1, colAxis=2</a></span></li><li><span><a href=\"#swapaxes()-means-row-to-column-and-column-to-row\" data-toc-modified-id=\"swapaxes()-means-row-to-column-and-column-to-row-3.30.2\"><span class=\"toc-item-num\">3.30.2&nbsp;&nbsp;</span>swapaxes() means row to column and column to row</a></span></li></ul></li><li><span><a href=\"#Splitting-&amp;-Joining-Multiple-Arrays\" data-toc-modified-id=\"Splitting-&amp;-Joining-Multiple-Arrays-3.31\"><span class=\"toc-item-num\">3.31&nbsp;&nbsp;</span>Splitting &amp; Joining Multiple Arrays</a></span></li><li><span><a href=\"#Splitting-of-an-Array-into-multiple-seperate-Arrays\" data-toc-modified-id=\"Splitting-of-an-Array-into-multiple-seperate-Arrays-3.32\"><span class=\"toc-item-num\">3.32&nbsp;&nbsp;</span>Splitting of an Array into multiple seperate Arrays</a></span></li><li><span><a href=\"#Insert-or-Delete-single-or-multiple-elements-from-given-multi-dimentional-Array\" data-toc-modified-id=\"Insert-or-Delete-single-or-multiple-elements-from-given-multi-dimentional-Array-3.33\"><span class=\"toc-item-num\">3.33&nbsp;&nbsp;</span>Insert or Delete single or multiple elements from given multi dimentional Array</a></span></li><li><span><a href=\"#Matrix-in-Numpy-(2D-Arrays-are-Called-Matrix)\" data-toc-modified-id=\"Matrix-in-Numpy-(2D-Arrays-are-Called-Matrix)-3.34\"><span class=\"toc-item-num\">3.34&nbsp;&nbsp;</span>Matrix in Numpy (2D Arrays are Called Matrix)</a></span><ul class=\"toc-item\"><li><span><a href=\"#Matrix-Class-in-Numpy\" data-toc-modified-id=\"Matrix-Class-in-Numpy-3.34.1\"><span class=\"toc-item-num\">3.34.1&nbsp;&nbsp;</span>Matrix Class in Numpy</a></span></li><li><span><a href=\"#Inverse-of-A-Matrix-&amp;-Linear-Algebra\" data-toc-modified-id=\"Inverse-of-A-Matrix-&amp;-Linear-Algebra-3.34.2\"><span class=\"toc-item-num\">3.34.2&nbsp;&nbsp;</span>Inverse of A Matrix &amp; Linear Algebra</a></span></li><li><span><a href=\"#Linear-Algebra\" data-toc-modified-id=\"Linear-Algebra-3.34.3\"><span class=\"toc-item-num\">3.34.3&nbsp;&nbsp;</span>Linear Algebra</a></span></li><li><span><a href=\"#Determinant-of-a-Matrix\" data-toc-modified-id=\"Determinant-of-a-Matrix-3.34.4\"><span class=\"toc-item-num\">3.34.4&nbsp;&nbsp;</span>Determinant of a Matrix</a></span></li></ul></li><li><span><a href=\"#Universal-Array-Functions\" data-toc-modified-id=\"Universal-Array-Functions-3.35\"><span class=\"toc-item-num\">3.35&nbsp;&nbsp;</span>Universal Array Functions</a></span></li></ul></li><li><span><a href=\"#NumPy-Exercises\" data-toc-modified-id=\"NumPy-Exercises-4\"><span class=\"toc-item-num\">4&nbsp;&nbsp;</span>NumPy Exercises</a></span><ul class=\"toc-item\"><li><ul class=\"toc-item\"><li><ul class=\"toc-item\"><li><span><a href=\"#1.-Import-NumPy-as-np\" data-toc-modified-id=\"1.-Import-NumPy-as-np-4.0.0.1\"><span class=\"toc-item-num\">4.0.0.1&nbsp;&nbsp;</span>1. Import NumPy as np</a></span></li><li><span><a href=\"#2.-Create-an-array-of-10-zeros\" data-toc-modified-id=\"2.-Create-an-array-of-10-zeros-4.0.0.2\"><span class=\"toc-item-num\">4.0.0.2&nbsp;&nbsp;</span>2. Create an array of 10 zeros</a></span></li></ul></li></ul></li></ul></li></ul></div>"
   ]
  },
  {
   "cell_type": "markdown",
   "metadata": {},
   "source": [
    "# Numpy & Scipy in Python"
   ]
  },
  {
   "cell_type": "markdown",
   "metadata": {},
   "source": [
    "# Using NumPy\n",
    "Once you've installed NumPy you can import it as a library"
   ]
  },
  {
   "cell_type": "markdown",
   "metadata": {},
   "source": [
    "# Agendas in Numpy\n",
    "1. Arrays\n",
    "2. Linear Algebra\n",
    "3. Random Number Generation\n",
    "4. Broadcasting"
   ]
  },
  {
   "cell_type": "markdown",
   "metadata": {},
   "source": [
    "## Arrays\n",
    "1. Arrays are the collection of Lists/Tuples in multidimentions, each dimention contains a List/Tuple\n",
    "2. Array means arranging something in a particular way\n",
    "3. Array is a collection of same type of data elements\n",
    "4. An array could be 1D, 2D, 3D or more"
   ]
  },
  {
   "cell_type": "markdown",
   "metadata": {},
   "source": [
    "## Similarites between List & Array\n",
    "1. Both are used for storing data elements\n",
    "2. Both are mutable, we can add,remove,insert,shuffle,sort,swap & replace single/multiple elements at a time\n",
    "3. Both can be indexed and itrated through\n",
    "4. slicing is possible for both the cases\n",
    "5. In Arrays advanced indexing is possible"
   ]
  },
  {
   "cell_type": "markdown",
   "metadata": {},
   "source": [
    "## Differences between List & Array\n",
    "1. List contains different data types, Array contains similar data types\n",
    "2. List=[\"KESHAV\",45+9j,True,39.69,39], Array=array([1,2,3,4,5,6,7,8,9,10])\n",
    "3. You cant perform Arithmatic operations between Lists, Tuples, Set or Range... between Arrays you can perform that"
   ]
  },
  {
   "cell_type": "code",
   "execution_count": 1,
   "metadata": {},
   "outputs": [],
   "source": [
    "from numpy import array, dtype, ndim, shape, size, arange, zeros, ones, linspace, eye, identity, random"
   ]
  },
  {
   "cell_type": "code",
   "execution_count": 2,
   "metadata": {},
   "outputs": [
    {
     "name": "stdout",
     "output_type": "stream",
     "text": [
      "Help on built-in function array in module numpy:\n",
      "\n",
      "array(...)\n",
      "    array(object, dtype=None, *, copy=True, order='K', subok=False, ndmin=0,\n",
      "          like=None)\n",
      "    \n",
      "    Create an array.\n",
      "    \n",
      "    Parameters\n",
      "    ----------\n",
      "    object : array_like\n",
      "        An array, any object exposing the array interface, an object whose\n",
      "        __array__ method returns an array, or any (nested) sequence.\n",
      "    dtype : data-type, optional\n",
      "        The desired data-type for the array.  If not given, then the type will\n",
      "        be determined as the minimum type required to hold the objects in the\n",
      "        sequence.\n",
      "    copy : bool, optional\n",
      "        If true (default), then the object is copied.  Otherwise, a copy will\n",
      "        only be made if __array__ returns a copy, if obj is a nested sequence,\n",
      "        or if a copy is needed to satisfy any of the other requirements\n",
      "        (`dtype`, `order`, etc.).\n",
      "    order : {'K', 'A', 'C', 'F'}, optional\n",
      "        Specify the memory layout of the array. If object is not an array, the\n",
      "        newly created array will be in C order (row major) unless 'F' is\n",
      "        specified, in which case it will be in Fortran order (column major).\n",
      "        If object is an array the following holds.\n",
      "    \n",
      "        ===== ========= ===================================================\n",
      "        order  no copy                     copy=True\n",
      "        ===== ========= ===================================================\n",
      "        'K'   unchanged F & C order preserved, otherwise most similar order\n",
      "        'A'   unchanged F order if input is F and not C, otherwise C order\n",
      "        'C'   C order   C order\n",
      "        'F'   F order   F order\n",
      "        ===== ========= ===================================================\n",
      "    \n",
      "        When ``copy=False`` and a copy is made for other reasons, the result is\n",
      "        the same as if ``copy=True``, with some exceptions for 'A', see the\n",
      "        Notes section. The default order is 'K'.\n",
      "    subok : bool, optional\n",
      "        If True, then sub-classes will be passed-through, otherwise\n",
      "        the returned array will be forced to be a base-class array (default).\n",
      "    ndmin : int, optional\n",
      "        Specifies the minimum number of dimensions that the resulting\n",
      "        array should have.  Ones will be pre-pended to the shape as\n",
      "        needed to meet this requirement.\n",
      "    like : array_like\n",
      "        Reference object to allow the creation of arrays which are not\n",
      "        NumPy arrays. If an array-like passed in as ``like`` supports\n",
      "        the ``__array_function__`` protocol, the result will be defined\n",
      "        by it. In this case, it ensures the creation of an array object\n",
      "        compatible with that passed in via this argument.\n",
      "    \n",
      "        .. versionadded:: 1.20.0\n",
      "    \n",
      "    Returns\n",
      "    -------\n",
      "    out : ndarray\n",
      "        An array object satisfying the specified requirements.\n",
      "    \n",
      "    See Also\n",
      "    --------\n",
      "    empty_like : Return an empty array with shape and type of input.\n",
      "    ones_like : Return an array of ones with shape and type of input.\n",
      "    zeros_like : Return an array of zeros with shape and type of input.\n",
      "    full_like : Return a new array with shape of input filled with value.\n",
      "    empty : Return a new uninitialized array.\n",
      "    ones : Return a new array setting values to one.\n",
      "    zeros : Return a new array setting values to zero.\n",
      "    full : Return a new array of given shape filled with value.\n",
      "    \n",
      "    \n",
      "    Notes\n",
      "    -----\n",
      "    When order is 'A' and `object` is an array in neither 'C' nor 'F' order,\n",
      "    and a copy is forced by a change in dtype, then the order of the result is\n",
      "    not necessarily 'C' as expected. This is likely a bug.\n",
      "    \n",
      "    Examples\n",
      "    --------\n",
      "    >>> np.array([1, 2, 3])\n",
      "    array([1, 2, 3])\n",
      "    \n",
      "    Upcasting:\n",
      "    \n",
      "    >>> np.array([1, 2, 3.0])\n",
      "    array([ 1.,  2.,  3.])\n",
      "    \n",
      "    More than one dimension:\n",
      "    \n",
      "    >>> np.array([[1, 2], [3, 4]])\n",
      "    array([[1, 2],\n",
      "           [3, 4]])\n",
      "    \n",
      "    Minimum dimensions 2:\n",
      "    \n",
      "    >>> np.array([1, 2, 3], ndmin=2)\n",
      "    array([[1, 2, 3]])\n",
      "    \n",
      "    Type provided:\n",
      "    \n",
      "    >>> np.array([1, 2, 3], dtype=complex)\n",
      "    array([ 1.+0.j,  2.+0.j,  3.+0.j])\n",
      "    \n",
      "    Data-type consisting of more than one element:\n",
      "    \n",
      "    >>> x = np.array([(1,2),(3,4)],dtype=[('a','<i4'),('b','<i4')])\n",
      "    >>> x['a']\n",
      "    array([1, 3])\n",
      "    \n",
      "    Creating an array from sub-classes:\n",
      "    \n",
      "    >>> np.array(np.mat('1 2; 3 4'))\n",
      "    array([[1, 2],\n",
      "           [3, 4]])\n",
      "    \n",
      "    >>> np.array(np.mat('1 2; 3 4'), subok=True)\n",
      "    matrix([[1, 2],\n",
      "            [3, 4]])\n",
      "\n"
     ]
    }
   ],
   "source": [
    "help(array)"
   ]
  },
  {
   "cell_type": "code",
   "execution_count": 3,
   "metadata": {},
   "outputs": [],
   "source": [
    "#1. Syntax is array(object, dtype=None, copy=True, order='K', subok=False, ndmin=0)\n",
    "#2. object is type the datas\n",
    "#3. dtype=None is mentioning the specific data type format\n",
    "#4. copy=True is create the actual Array or just the copy of it\n",
    "#5. order=\"k\" is memory specific thing, not important\n",
    "#6. subok=False\n",
    "#7. ndim=0 is mentioning the Dimention of Array, 1D,2D or 3D"
   ]
  },
  {
   "cell_type": "markdown",
   "metadata": {},
   "source": [
    "## You can't perform Airthmatic operations between Lists, Tuple, Sets & Dics"
   ]
  },
  {
   "cell_type": "raw",
   "metadata": {},
   "source": [
    "#You cant perform Multiplication between two/more lists\n",
    "List1=[\"KESHAV\",45+9j,True,39.69,39]\n",
    "List2=[10.10,'Prashant',10+10j,False,10]\n",
    "print(List1*List2)"
   ]
  },
  {
   "cell_type": "code",
   "execution_count": 4,
   "metadata": {},
   "outputs": [
    {
     "data": {
      "text/plain": [
       "['KESHAV', (45+9j), True, 39.69, 39, 10.1, 'Prashant', (10+10j), False, 10]"
      ]
     },
     "execution_count": 4,
     "metadata": {},
     "output_type": "execute_result"
    }
   ],
   "source": [
    "List1=[\"KESHAV\",45+9j,True,39.69,39]\n",
    "List2=[10.10,'Prashant',10+10j,False,10]\n",
    "\n",
    "for i in List2:\n",
    "    List1.append(i)\n",
    "List1"
   ]
  },
  {
   "cell_type": "code",
   "execution_count": 5,
   "metadata": {},
   "outputs": [
    {
     "name": "stdout",
     "output_type": "stream",
     "text": [
      "['KESHAV', (45+9j), True, 39.69, 39, 10.1, 'Prashant', (10+10j), False, 10]\n",
      "['KESHAV', (45+9j), True, 39.69, 39, 10.1, 'Prashant', (10+10j), False, 10]\n"
     ]
    }
   ],
   "source": [
    "List1=[\"KESHAV\",45+9j,True,39.69,39]\n",
    "List2=[10.10,'Prashant',10+10j,False,10]\n",
    "print(List1 + List2) # This has become concatinated\n",
    "List1.extend(List2) # this has become extended\n",
    "print(List1)"
   ]
  },
  {
   "cell_type": "raw",
   "metadata": {},
   "source": [
    "#You cant perform Multiplication between Tuples\n",
    "Tuple3=(1,2,3,4,5)\n",
    "Tuple4=(6,7,8,9,10)\n",
    "print(Tuple3*Tuple4)"
   ]
  },
  {
   "cell_type": "code",
   "execution_count": 6,
   "metadata": {},
   "outputs": [
    {
     "name": "stdout",
     "output_type": "stream",
     "text": [
      "(1, 2, 3, 4, 5, 6, 7, 8, 9, 10)\n"
     ]
    }
   ],
   "source": [
    "Tuple3=(1,2,3,4,5)\n",
    "Tuple4=(6,7,8,9,10)\n",
    "print(Tuple3+Tuple4) # This has become concatinated"
   ]
  },
  {
   "cell_type": "raw",
   "metadata": {},
   "source": [
    "#You cant perform Multiplication between sets\n",
    "Set1={1,2,3,4,5}\n",
    "Set2={6,7,8,9,10}\n",
    "print(Set1 * Set2)"
   ]
  },
  {
   "cell_type": "raw",
   "metadata": {},
   "source": [
    "# sets are immutable\n",
    "Set1={1,2,3,4,5}\n",
    "Set2={6,7,8,9,10}\n",
    "print(Set1 + Set2)"
   ]
  },
  {
   "cell_type": "raw",
   "metadata": {},
   "source": [
    "#You cant perform Multiplication between dics\n",
    "Dic1={1:34,\n",
    "      2:22,\n",
    "      3:78,\n",
    "      4:44,\n",
    "      5:50}\n",
    "\n",
    "Dic2={6:72,\n",
    "      7:96,\n",
    "      8:108,\n",
    "      9:99,\n",
    "      10:100}\n",
    "\n",
    "print(Dic1*Dic2)"
   ]
  },
  {
   "cell_type": "raw",
   "metadata": {},
   "source": [
    "Dic1={1:34,\n",
    "      2:22,\n",
    "      3:78,\n",
    "      4:44,\n",
    "      5:50}\n",
    "\n",
    "Dic2={6:72,\n",
    "      7:96,\n",
    "      8:108,\n",
    "      9:99,\n",
    "      10:100}\n",
    "print(Dic1+Dic2)"
   ]
  },
  {
   "cell_type": "code",
   "execution_count": 7,
   "metadata": {},
   "outputs": [
    {
     "name": "stdout",
     "output_type": "stream",
     "text": [
      "{1: 34, 2: 22, 3: 78, 4: 44, 5: 50, 6: 72, 7: 96, 8: 108, 9: 99, 10: 100}\n"
     ]
    }
   ],
   "source": [
    "Dic1={1:34,\n",
    "      2:22,\n",
    "      3:78,\n",
    "      4:44,\n",
    "      5:50}\n",
    "\n",
    "Dic2={6:72,\n",
    "      7:96,\n",
    "      8:108,\n",
    "      9:99,\n",
    "      10:100}\n",
    "Dic1.update(Dic2)\n",
    "print(Dic1)"
   ]
  },
  {
   "cell_type": "markdown",
   "metadata": {},
   "source": [
    "## You can perform Airthmatic operations between 2 numpy array"
   ]
  },
  {
   "cell_type": "code",
   "execution_count": 8,
   "metadata": {},
   "outputs": [
    {
     "name": "stdout",
     "output_type": "stream",
     "text": [
      "<class 'numpy.ndarray'>\n",
      "[ 6 14 24 36 50]\n",
      "[-5 -5 -5 -5 -5]\n",
      "[ 7  9 11 13 15]\n",
      "[0.16666667 0.28571429 0.375      0.44444444 0.5       ]\n",
      "[0 0 0 0 0]\n",
      "[1 2 3 4 5]\n",
      "[      1     128    6561  262144 9765625]\n"
     ]
    }
   ],
   "source": [
    "#You can perform Multiplication between two/more Arrays\n",
    "#You can perform all possible Airthmatic operations between two/more Arrays (Condition Applied)\n",
    "#array(object, dtype=None, copy=True, order='K', subok=False, ndmin=0)\n",
    "#Multiplication output will also be an Array\n",
    "Array1=array([1,2,3,4,5])       # Convert List3 into Array1\n",
    "Array2=array([6,7,8,9,10])      # Convert List4 into Array2\n",
    "print(type(Array1*Array2))\n",
    "\n",
    "#You can perform Multiplication between two/more Arrays\n",
    "#You can perform all possible Airthmatic operations between two/more Arrays (Condition Applied)\n",
    "#array(object, dtype=None, copy=True, order='K', subok=False, ndmin=0)\n",
    "#Multiplication output will also be an Array\n",
    "Array1=array((1,2,3,4,5))       # Convert Tuple3 into Array1\n",
    "Array2=array((6,7,8,9,10))      # Convert Tuple4 into Array2\n",
    "\n",
    "print(Array1*Array2)\n",
    "print(Array1-Array2)\n",
    "print(Array1+Array2)\n",
    "print(Array1/Array2)\n",
    "print(Array1//Array2)\n",
    "print(Array1%Array2)\n",
    "print(Array1**Array2)"
   ]
  },
  {
   "cell_type": "markdown",
   "metadata": {},
   "source": [
    "## Advantages of Array compared to List\n",
    "1. An array consumes less amount of memory than a List\n",
    "2. Calculation with Arrays are fatser than List\n",
    "3. Arrays are convenient to use when we want to perform mathematica & airthmatical operations\n",
    "4. Advanced indexing is possible in Array"
   ]
  },
  {
   "cell_type": "markdown",
   "metadata": {},
   "source": [
    "## There are different functions to create numpy array\n",
    "1. array()\n",
    "2. arange()\n",
    "3. zeros()\n",
    "4. ones()\n",
    "5. linspace()\n",
    "6. eye()\n",
    "7. random()"
   ]
  },
  {
   "cell_type": "markdown",
   "metadata": {},
   "source": [
    "## array() function, Array = array([a, b, c, d, e])"
   ]
  },
  {
   "cell_type": "code",
   "execution_count": 9,
   "metadata": {},
   "outputs": [
    {
     "name": "stdout",
     "output_type": "stream",
     "text": [
      "Help on built-in function array in module numpy:\n",
      "\n",
      "array(...)\n",
      "    array(object, dtype=None, *, copy=True, order='K', subok=False, ndmin=0,\n",
      "          like=None)\n",
      "    \n",
      "    Create an array.\n",
      "    \n",
      "    Parameters\n",
      "    ----------\n",
      "    object : array_like\n",
      "        An array, any object exposing the array interface, an object whose\n",
      "        __array__ method returns an array, or any (nested) sequence.\n",
      "    dtype : data-type, optional\n",
      "        The desired data-type for the array.  If not given, then the type will\n",
      "        be determined as the minimum type required to hold the objects in the\n",
      "        sequence.\n",
      "    copy : bool, optional\n",
      "        If true (default), then the object is copied.  Otherwise, a copy will\n",
      "        only be made if __array__ returns a copy, if obj is a nested sequence,\n",
      "        or if a copy is needed to satisfy any of the other requirements\n",
      "        (`dtype`, `order`, etc.).\n",
      "    order : {'K', 'A', 'C', 'F'}, optional\n",
      "        Specify the memory layout of the array. If object is not an array, the\n",
      "        newly created array will be in C order (row major) unless 'F' is\n",
      "        specified, in which case it will be in Fortran order (column major).\n",
      "        If object is an array the following holds.\n",
      "    \n",
      "        ===== ========= ===================================================\n",
      "        order  no copy                     copy=True\n",
      "        ===== ========= ===================================================\n",
      "        'K'   unchanged F & C order preserved, otherwise most similar order\n",
      "        'A'   unchanged F order if input is F and not C, otherwise C order\n",
      "        'C'   C order   C order\n",
      "        'F'   F order   F order\n",
      "        ===== ========= ===================================================\n",
      "    \n",
      "        When ``copy=False`` and a copy is made for other reasons, the result is\n",
      "        the same as if ``copy=True``, with some exceptions for 'A', see the\n",
      "        Notes section. The default order is 'K'.\n",
      "    subok : bool, optional\n",
      "        If True, then sub-classes will be passed-through, otherwise\n",
      "        the returned array will be forced to be a base-class array (default).\n",
      "    ndmin : int, optional\n",
      "        Specifies the minimum number of dimensions that the resulting\n",
      "        array should have.  Ones will be pre-pended to the shape as\n",
      "        needed to meet this requirement.\n",
      "    like : array_like\n",
      "        Reference object to allow the creation of arrays which are not\n",
      "        NumPy arrays. If an array-like passed in as ``like`` supports\n",
      "        the ``__array_function__`` protocol, the result will be defined\n",
      "        by it. In this case, it ensures the creation of an array object\n",
      "        compatible with that passed in via this argument.\n",
      "    \n",
      "        .. versionadded:: 1.20.0\n",
      "    \n",
      "    Returns\n",
      "    -------\n",
      "    out : ndarray\n",
      "        An array object satisfying the specified requirements.\n",
      "    \n",
      "    See Also\n",
      "    --------\n",
      "    empty_like : Return an empty array with shape and type of input.\n",
      "    ones_like : Return an array of ones with shape and type of input.\n",
      "    zeros_like : Return an array of zeros with shape and type of input.\n",
      "    full_like : Return a new array with shape of input filled with value.\n",
      "    empty : Return a new uninitialized array.\n",
      "    ones : Return a new array setting values to one.\n",
      "    zeros : Return a new array setting values to zero.\n",
      "    full : Return a new array of given shape filled with value.\n",
      "    \n",
      "    \n",
      "    Notes\n",
      "    -----\n",
      "    When order is 'A' and `object` is an array in neither 'C' nor 'F' order,\n",
      "    and a copy is forced by a change in dtype, then the order of the result is\n",
      "    not necessarily 'C' as expected. This is likely a bug.\n",
      "    \n",
      "    Examples\n",
      "    --------\n",
      "    >>> np.array([1, 2, 3])\n",
      "    array([1, 2, 3])\n",
      "    \n",
      "    Upcasting:\n",
      "    \n",
      "    >>> np.array([1, 2, 3.0])\n",
      "    array([ 1.,  2.,  3.])\n",
      "    \n",
      "    More than one dimension:\n",
      "    \n",
      "    >>> np.array([[1, 2], [3, 4]])\n",
      "    array([[1, 2],\n",
      "           [3, 4]])\n",
      "    \n",
      "    Minimum dimensions 2:\n",
      "    \n",
      "    >>> np.array([1, 2, 3], ndmin=2)\n",
      "    array([[1, 2, 3]])\n",
      "    \n",
      "    Type provided:\n",
      "    \n",
      "    >>> np.array([1, 2, 3], dtype=complex)\n",
      "    array([ 1.+0.j,  2.+0.j,  3.+0.j])\n",
      "    \n",
      "    Data-type consisting of more than one element:\n",
      "    \n",
      "    >>> x = np.array([(1,2),(3,4)],dtype=[('a','<i4'),('b','<i4')])\n",
      "    >>> x['a']\n",
      "    array([1, 3])\n",
      "    \n",
      "    Creating an array from sub-classes:\n",
      "    \n",
      "    >>> np.array(np.mat('1 2; 3 4'))\n",
      "    array([[1, 2],\n",
      "           [3, 4]])\n",
      "    \n",
      "    >>> np.array(np.mat('1 2; 3 4'), subok=True)\n",
      "    matrix([[1, 2],\n",
      "            [3, 4]])\n",
      "\n"
     ]
    }
   ],
   "source": [
    "help(array)"
   ]
  },
  {
   "cell_type": "markdown",
   "metadata": {},
   "source": [
    "## Convert List, Set, Tuple & Dict into 1D Array"
   ]
  },
  {
   "cell_type": "code",
   "execution_count": 10,
   "metadata": {},
   "outputs": [
    {
     "name": "stdout",
     "output_type": "stream",
     "text": [
      "['KESHAV' '(45+9j)' 'True' '39.69' '39']\n",
      "<U64\n",
      "<class 'numpy.ndarray'>\n",
      "1\n",
      "5\n",
      "5\n",
      "(5,)\n"
     ]
    }
   ],
   "source": [
    "Array1D=array([\"KESHAV\", 45+9j, True, 39.69, 39]) #Convert the 1D list into array\n",
    "print(Array1D)\n",
    "print(Array1D.dtype)\n",
    "print(type(Array1D))\n",
    "print(ndim(Array1D))\n",
    "print(size(Array1D))\n",
    "print(len(Array1D))\n",
    "# print(Array1D.count()) # 'numpy.ndarray' object has no attribute 'count'\n",
    "print(shape(Array1D))"
   ]
  },
  {
   "cell_type": "code",
   "execution_count": 11,
   "metadata": {},
   "outputs": [
    {
     "name": "stdout",
     "output_type": "stream",
     "text": [
      "{True, 'KESHAV', 39.69, 39, (45+9j)}\n",
      "object\n",
      "<class 'numpy.ndarray'>\n",
      "0\n",
      "1\n",
      "()\n"
     ]
    }
   ],
   "source": [
    "Array1D=array({\"KESHAV\", 45+9j, True, 39.69, 39}) #Convert the 0D set into array\n",
    "print(Array1D)\n",
    "print(Array1D.dtype)\n",
    "print(type(Array1D))\n",
    "print(ndim(Array1D))\n",
    "print(size(Array1D))\n",
    "# print(len(Array1D))\n",
    "print(shape(Array1D))"
   ]
  },
  {
   "cell_type": "code",
   "execution_count": 12,
   "metadata": {},
   "outputs": [
    {
     "name": "stdout",
     "output_type": "stream",
     "text": [
      "[{True, 'KESHAV', 39.69, 39, (45+9j)}]\n",
      "object\n",
      "<class 'numpy.ndarray'>\n",
      "1\n",
      "1\n",
      "1\n",
      "(1,)\n"
     ]
    }
   ],
   "source": [
    "Array1D=array([{\"KESHAV\", 45+9j, True, 39.69, 39}]) #Convert the 0D set into 1D list & then into array\n",
    "print(Array1D)\n",
    "print(Array1D.dtype)\n",
    "print(type(Array1D))\n",
    "print(ndim(Array1D))\n",
    "print(size(Array1D))\n",
    "print(len(Array1D))\n",
    "print(shape(Array1D))"
   ]
  },
  {
   "cell_type": "code",
   "execution_count": 13,
   "metadata": {},
   "outputs": [
    {
     "name": "stdout",
     "output_type": "stream",
     "text": [
      "['KESHAV' '(45+9j)' 'True' '39.69' '39']\n",
      "<U64\n",
      "<class 'numpy.ndarray'>\n",
      "1\n",
      "5\n",
      "5\n",
      "(5,)\n"
     ]
    }
   ],
   "source": [
    "Array1D=array((\"KESHAV\", 45+9j, True, 39.69, 39)) #Convert the 1D Tuple into array\n",
    "print(Array1D)\n",
    "print(Array1D.dtype)\n",
    "print(type(Array1D))\n",
    "print(ndim(Array1D))\n",
    "print(size(Array1D))\n",
    "print(len(Array1D))\n",
    "print(shape(Array1D))"
   ]
  },
  {
   "cell_type": "code",
   "execution_count": 14,
   "metadata": {},
   "outputs": [
    {
     "name": "stdout",
     "output_type": "stream",
     "text": [
      "{'KESHAV': 69, (45+9j): 39, True: 55, 39.69: 87, 39: 88}\n",
      "object\n",
      "<class 'numpy.ndarray'>\n",
      "0\n",
      "1\n",
      "()\n"
     ]
    }
   ],
   "source": [
    "Array1D=array({\"KESHAV\":69, 45+9j:39, True:55, 39.69:87, 39:88}) #Convert the 0D dictionary into array\n",
    "print(Array1D)\n",
    "print(Array1D.dtype)\n",
    "print(type(Array1D))\n",
    "print(ndim(Array1D))\n",
    "print(size(Array1D))\n",
    "# print(len(Array1D))\n",
    "print(shape(Array1D))"
   ]
  },
  {
   "cell_type": "code",
   "execution_count": 15,
   "metadata": {},
   "outputs": [
    {
     "name": "stdout",
     "output_type": "stream",
     "text": [
      "[{'KESHAV': 69, (45+9j): 39, True: 55, 39.69: 87, 39: 88}]\n",
      "object\n",
      "<class 'numpy.ndarray'>\n",
      "1\n",
      "1\n",
      "1\n",
      "(1,)\n"
     ]
    }
   ],
   "source": [
    "Array1D=array([{\"KESHAV\":69, 45+9j:39, True:55, 39.69:87, 39:88}]) #Convert the 0D dictionary into 1D list & then into array\n",
    "print(Array1D)\n",
    "print(Array1D.dtype)\n",
    "print(type(Array1D))\n",
    "print(ndim(Array1D))\n",
    "print(size(Array1D))\n",
    "print(len(Array1D))\n",
    "print(shape(Array1D))"
   ]
  },
  {
   "cell_type": "markdown",
   "metadata": {},
   "source": [
    "## Convert List, Set, Tuple & Dict into 2D Array Row"
   ]
  },
  {
   "cell_type": "code",
   "execution_count": 16,
   "metadata": {},
   "outputs": [
    {
     "name": "stdout",
     "output_type": "stream",
     "text": [
      "[['KESHAV', (45+9j), True, 39.69, 39]]\n",
      "<class 'list'>\n",
      "2\n",
      "5\n",
      "1\n",
      "(1, 5)\n"
     ]
    }
   ],
   "source": [
    "Array2D=[[\"KESHAV\", 45+9j, True, 39.69, 39]] # Convert the 1D list into 2D list [[]]\n",
    "print(Array2D)\n",
    "# print(Array2D.dtype)\n",
    "print(type(Array2D))\n",
    "print(ndim(Array2D))\n",
    "print(size(Array2D))\n",
    "print(len(Array2D))\n",
    "print(shape(Array2D)) # This is 1 Row & 5 columns"
   ]
  },
  {
   "cell_type": "code",
   "execution_count": 17,
   "metadata": {},
   "outputs": [
    {
     "name": "stdout",
     "output_type": "stream",
     "text": [
      "[['KESHAV' '(45+9j)' 'True' '39.69' '39']]\n",
      "<U64\n",
      "<class 'numpy.ndarray'>\n",
      "2\n",
      "5\n",
      "1\n",
      "(1, 5)\n"
     ]
    }
   ],
   "source": [
    "Array2D=array([[\"KESHAV\", 45+9j, True, 39.69, 39]]) # Convert the 1D list into 2D list & then into array, ([[]])\n",
    "print(Array2D)\n",
    "print(Array2D.dtype)\n",
    "print(type(Array2D))\n",
    "print(ndim(Array2D))\n",
    "print(size(Array2D))\n",
    "print(len(Array2D))\n",
    "print(shape(Array2D)) # This is 1 Row & 5 columns"
   ]
  },
  {
   "cell_type": "code",
   "execution_count": 18,
   "metadata": {},
   "outputs": [
    {
     "name": "stdout",
     "output_type": "stream",
     "text": [
      "[('KESHAV', (45+9j), True, 39.69, 39)]\n",
      "<class 'list'>\n",
      "2\n",
      "5\n",
      "1\n",
      "(1, 5)\n"
     ]
    }
   ],
   "source": [
    "Array2D=[(\"KESHAV\",45+9j,True,39.69,39)] # Convert the 1D tuple into 2D list, [()]\n",
    "print(Array2D)\n",
    "# print(Array2D.dtype)\n",
    "print(type(Array2D))\n",
    "print(ndim(Array2D))\n",
    "print(size(Array2D))\n",
    "print(len(Array2D))\n",
    "print(shape(Array2D)) # This is 1 Row & 5 columns"
   ]
  },
  {
   "cell_type": "raw",
   "metadata": {},
   "source": [
    "Array2D=([\"KESHAV\",45+9j,True,39.69,39]) # Convert the tuple into 2D list, [()]\n",
    "print(Array2D)\n",
    "# print(Array2D.dtype)\n",
    "print(type(Array2D))\n",
    "print(ndim(Array2D))"
   ]
  },
  {
   "cell_type": "code",
   "execution_count": 19,
   "metadata": {},
   "outputs": [
    {
     "name": "stdout",
     "output_type": "stream",
     "text": [
      "[['KESHAV' '(45+9j)' 'True' '39.69' '39']]\n",
      "<U64\n",
      "<class 'numpy.ndarray'>\n",
      "2\n",
      "5\n",
      "1\n",
      "(1, 5)\n"
     ]
    }
   ],
   "source": [
    "#1D to 2D array convertion from 1 tuple\n",
    "Array2D=array([(\"KESHAV\",45+9j,True,39.69,39)]) # Convert the 1D tuple into 2D list & then into array, ([()])\n",
    "print(Array2D)\n",
    "print(Array2D.dtype)\n",
    "print(type(Array2D))\n",
    "print(ndim(Array2D))\n",
    "print(size(Array2D))\n",
    "print(len(Array2D))\n",
    "print(shape(Array2D)) # This is 1 Row & 5 columns"
   ]
  },
  {
   "cell_type": "code",
   "execution_count": 20,
   "metadata": {},
   "outputs": [
    {
     "name": "stdout",
     "output_type": "stream",
     "text": [
      "[[{True, 'KESHAV', 39.69, 39, (45+9j)}]]\n",
      "<class 'list'>\n",
      "2\n",
      "1\n",
      "1\n",
      "(1, 1)\n"
     ]
    }
   ],
   "source": [
    "Array=[[{\"KESHAV\", 45+9j, True, 39.69, 39}]] # Convert the 0D set into 1D list & then into 2D list\n",
    "print(Array)\n",
    "# print(Array.dtype)\n",
    "print(type(Array))\n",
    "print(ndim(Array))\n",
    "print(size(Array))\n",
    "print(len(Array))\n",
    "print(shape(Array)) # This is 1 Array, 1 Row"
   ]
  },
  {
   "cell_type": "code",
   "execution_count": 21,
   "metadata": {},
   "outputs": [
    {
     "name": "stdout",
     "output_type": "stream",
     "text": [
      "[[{True, 'KESHAV', 39.69, 39, (45+9j)}]]\n",
      "<class 'numpy.ndarray'>\n",
      "2\n",
      "1\n",
      "1\n",
      "(1, 1)\n"
     ]
    }
   ],
   "source": [
    "Array=array([[{\"KESHAV\", 45+9j, True, 39.69, 39}]]) # Convert the 0D set into 1D list then into 2D list & then into array\n",
    "print(Array)\n",
    "# print(Array.dtype)\n",
    "print(type(Array))\n",
    "print(ndim(Array))\n",
    "print(size(Array))\n",
    "print(len(Array))\n",
    "print(shape(Array)) # This is 1 Array, 1 Row"
   ]
  },
  {
   "cell_type": "code",
   "execution_count": 22,
   "metadata": {},
   "outputs": [
    {
     "name": "stdout",
     "output_type": "stream",
     "text": [
      "[[{'KESHAV': 69, (45+9j): 39, True: 55, 39.69: 87, 39: 88}]]\n",
      "<class 'list'>\n",
      "2\n",
      "1\n",
      "1\n",
      "(1, 1)\n"
     ]
    }
   ],
   "source": [
    "Array=[[{\"KESHAV\":69, 45+9j:39, True:55, 39.69:87, 39:88}]] # Convert the 0D dictionary into 1D list then into 2D list\n",
    "print(Array)\n",
    "# print(Array.dtype)\n",
    "print(type(Array))\n",
    "print(ndim(Array))\n",
    "print(size(Array))\n",
    "print(len(Array))\n",
    "print(shape(Array)) # This is 1 Array, 1 Row"
   ]
  },
  {
   "cell_type": "code",
   "execution_count": 23,
   "metadata": {},
   "outputs": [
    {
     "name": "stdout",
     "output_type": "stream",
     "text": [
      "[[{'KESHAV': 69, (45+9j): 39, True: 55, 39.69: 87, 39: 88}]]\n",
      "object\n",
      "<class 'numpy.ndarray'>\n",
      "2\n",
      "1\n",
      "1\n",
      "(1, 1)\n"
     ]
    }
   ],
   "source": [
    "# How to create Array2DRow ?? #Convert the 0D dict into 1D list then into 2D list & then into array, ([[{}]])\n",
    "Array2DRow=array([[{\"KESHAV\":69, 45+9j:39, True:55, 39.69:87, 39:88}]])\n",
    "print(Array2DRow)\n",
    "print(Array2DRow.dtype)\n",
    "print(type(Array2DRow))\n",
    "print(ndim(Array2DRow))\n",
    "print(size(Array2DRow))\n",
    "print(len(Array2DRow))\n",
    "print(shape(Array2DRow)) # This is 1 Array, 1 Row"
   ]
  },
  {
   "cell_type": "markdown",
   "metadata": {},
   "source": [
    "## Creating MultiDimentional Arrays from List, Tuple, Set, Dict\n",
    "* We will used mixed nested list"
   ]
  },
  {
   "cell_type": "code",
   "execution_count": 24,
   "metadata": {},
   "outputs": [
    {
     "name": "stdout",
     "output_type": "stream",
     "text": [
      "0\n",
      "0\n",
      "1\n",
      "1\n"
     ]
    }
   ],
   "source": [
    "print(ndim({1, 2, 3, 4})) # 0D set\n",
    "print(ndim({\"a\":1, \"b\":2, \"c\":3, \"d\":4})) # 0D dict\n",
    "print(ndim([1, 2, 3, 4])) # 1D List\n",
    "print(ndim((1, 2, 3, 4))) # 1D Tuple"
   ]
  },
  {
   "cell_type": "code",
   "execution_count": 25,
   "metadata": {},
   "outputs": [
    {
     "name": "stdout",
     "output_type": "stream",
     "text": [
      "[[['KESHAV']\n",
      "  ['(45+9j)']\n",
      "  ['True']\n",
      "  ['39.69']\n",
      "  ['39']]]\n",
      "<U64\n",
      "<class 'numpy.ndarray'>\n",
      "3\n",
      "5\n",
      "1\n",
      "(1, 5, 1)\n",
      "2\n"
     ]
    }
   ],
   "source": [
    "# How to create Array2DCol ??\n",
    "Array2DCol=array([[[\"KESHAV\"],\n",
    "                  [45+9j],\n",
    "                  [True],\n",
    "                  [39.69],\n",
    "                  [39]]])\n",
    "print(Array2DCol)\n",
    "print(Array2DCol.dtype)\n",
    "print(type(Array2DCol))\n",
    "print(ndim(Array2DCol))\n",
    "print(size(Array2DCol))\n",
    "print(len(Array2DCol))\n",
    "print(shape(Array2DCol)) # This 1 Array, 5 Rows & 1 Column\n",
    "\n",
    "print(ndim([[\"KESHAV\"],\n",
    "            [45+9j],\n",
    "            [True],\n",
    "            [39.69],\n",
    "            [39]]))"
   ]
  },
  {
   "cell_type": "code",
   "execution_count": 26,
   "metadata": {},
   "outputs": [
    {
     "name": "stdout",
     "output_type": "stream",
     "text": [
      "[[['KESHAV']\n",
      "  ['(45+9j)']\n",
      "  ['True']\n",
      "  ['39.69']\n",
      "  ['39']]]\n",
      "<U64\n",
      "<class 'numpy.ndarray'>\n",
      "3\n",
      "5\n",
      "1\n",
      "(1, 5, 1)\n",
      "2\n"
     ]
    }
   ],
   "source": [
    "# How to create Array2DCol ??\n",
    "Array2DCol=array([([\"KESHAV\"],\n",
    "                  [45+9j],\n",
    "                  [True],\n",
    "                  [39.69],\n",
    "                  [39])])\n",
    "print(Array2DCol)\n",
    "print(Array2DCol.dtype)\n",
    "print(type(Array2DCol))\n",
    "print(ndim(Array2DCol))\n",
    "print(size(Array2DCol))\n",
    "print(len(Array2DCol))\n",
    "print(shape(Array2DCol)) # This 1 Array, 5 Rows & 1 Column\n",
    "\n",
    "print(ndim(([\"KESHAV\"],\n",
    "            [45+9j],\n",
    "            [True],\n",
    "            [39.69],\n",
    "            [39])))"
   ]
  },
  {
   "cell_type": "code",
   "execution_count": 27,
   "metadata": {},
   "outputs": [
    {
     "name": "stdout",
     "output_type": "stream",
     "text": [
      "[[['KESHAV' '33']\n",
      "  ['(45+9j)' '87']\n",
      "  ['True' 'False']\n",
      "  ['(45+9j)' '89']]]\n",
      "<U64\n",
      "<class 'numpy.ndarray'>\n",
      "3\n",
      "8\n",
      "1\n",
      "(1, 4, 2)\n",
      "2\n"
     ]
    }
   ],
   "source": [
    "# How to create Array2DCol ??\n",
    "# Mixed Nested variable types having list & tuples inside a 2D List & then convert that List into array\n",
    "# This is 4 Rows & 2 Columns\n",
    "Array2DCol=array([[[\"KESHAV\", 33],\n",
    "                  [45+9j, 87],\n",
    "                  (True, False),\n",
    "                  (45+9j, 89)]])\n",
    "print(Array2DCol)\n",
    "print(Array2DCol.dtype)\n",
    "print(type(Array2DCol))\n",
    "print(ndim(Array2DCol))\n",
    "print(size(Array2DCol))\n",
    "print(len(Array2DCol))\n",
    "print(shape(Array2DCol)) # This is 1 Array, 4 Rows & 2 Columns\n",
    "\n",
    "print(ndim([[\"KESHAV\", 33],\n",
    "            [45+9j, 87],\n",
    "            (True, False),\n",
    "            (45+9j, 89)]))"
   ]
  },
  {
   "cell_type": "code",
   "execution_count": 28,
   "metadata": {},
   "outputs": [
    {
     "name": "stdout",
     "output_type": "stream",
     "text": [
      "[[['KESHAV' (45+9j) True 39.69 39]\n",
      "  ['China' 'America' 'India' 'Russia' 'Germany']\n",
      "  [34 67 'Chennai' 'London' 89]\n",
      "  [10.1 'Prashant' (10+10j) False 10]]]\n",
      "object\n",
      "<class 'numpy.ndarray'>\n",
      "3\n",
      "20\n",
      "1\n",
      "(1, 4, 5)\n"
     ]
    }
   ],
   "source": [
    "#Creating 2D array from 2 lists\n",
    "# No of elements/length of each nested list/tuple should be same\n",
    "# Create nested variables inside a 2D list & then convert that list into array\n",
    "Array2DL=array([[(\"KESHAV\",45+9j,True,39.69,39),\n",
    "                 [\"China\", \"America\", \"India\", \"Russia\", \"Germany\"],\n",
    "                 (34, 67, \"Chennai\", \"London\", 89),\n",
    "                 (10.10,'Prashant',10+10j,False,10)]], dtype=object) #Transforming nested list of 2 lists into Array\n",
    "\n",
    "print(Array2DL)\n",
    "print(Array2DL.dtype)\n",
    "print(type(Array2DL))\n",
    "print(ndim(Array2DL))\n",
    "print(size(Array2DL))\n",
    "print(len(Array2DL))\n",
    "print(shape(Array2DL)) # This is 1 Array, 4 Rows & 5 Columns"
   ]
  },
  {
   "cell_type": "code",
   "execution_count": 29,
   "metadata": {},
   "outputs": [
    {
     "name": "stdout",
     "output_type": "stream",
     "text": [
      "[[['KESHAV' (45+9j) True 39.69 39]\n",
      "  [34 67 'Chennai' 'London' 89]\n",
      "  [10.1 'Prashant' (10+10j) False 10]\n",
      "  [34 67 'Chennai' 'London' 89]]]\n",
      "object\n",
      "<class 'numpy.ndarray'>\n",
      "3\n",
      "20\n",
      "1\n",
      "(1, 4, 5)\n"
     ]
    }
   ],
   "source": [
    "#Creating 2D array from 2 lists\n",
    "# No of elements/length of each nested list/tuple should be same\n",
    "# Create nested variables inside a 1D list & then convert that list into 2D list & then into array\n",
    "Array2DL=array([[(\"KESHAV\",45+9j,True,39.69,39),\n",
    "                 [34, 67, \"Chennai\", \"London\", 89],\n",
    "                 (10.10,'Prashant',10+10j,False,10),\n",
    "                 [34, 67, \"Chennai\", \"London\", 89]]], dtype=object) #Transforming nested list of 2 lists into Array\n",
    "print(Array2DL)\n",
    "print(Array2DL.dtype)\n",
    "print(type(Array2DL))\n",
    "print(ndim(Array2DL))       # list & dict converts mixed nested list into 1D Array\n",
    "print(size(Array2DL))\n",
    "print(len(Array2DL))\n",
    "print(shape(Array2DL)) # This is 1 array, 4 rows & 5 Columns"
   ]
  },
  {
   "cell_type": "code",
   "execution_count": 30,
   "metadata": {},
   "outputs": [
    {
     "name": "stdout",
     "output_type": "stream",
     "text": [
      "[[[ 1  2  3]\n",
      "  [ 4  5  6]]\n",
      "\n",
      " [[ 7  8  9]\n",
      "  [10 11 12]]]\n",
      "(2, 2, 3)\n"
     ]
    }
   ],
   "source": [
    "Array = array([[[1,2,3],[4,5,6]],[[7,8,9],[10,11,12]]])\n",
    "print(Array)\n",
    "print(shape(Array)) # 2 Arrays, 2 Rows & 3 Columns"
   ]
  },
  {
   "cell_type": "code",
   "execution_count": 31,
   "metadata": {},
   "outputs": [
    {
     "name": "stdout",
     "output_type": "stream",
     "text": [
      "[[('KESHAV', (45+9j), True, 39.69, 39)\n",
      "  {'China': 67, 'America': 68, 'India': 52, 'Russia': 98, 'Germany': 93}\n",
      "  (34, 67, 'Chennai', 'London', 89)\n",
      "  (10.1, 'Prashant', (10+10j), False, 10)]]\n",
      "object\n",
      "<class 'numpy.ndarray'>\n",
      "2\n",
      "4\n",
      "1\n",
      "(1, 4)\n"
     ]
    }
   ],
   "source": [
    "#Creating 2D array from 2 lists\n",
    "# No of elements/length of each nested list/tuple should be same\n",
    "# Create nested variables inside a 1D tuple & then convert that tuple into 2D list & then into array\n",
    "Array2DL=array([(  (\"KESHAV\",45+9j,True,39.69,39),\n",
    "                 {\"China\":67, \"America\":68, \"India\":52, \"Russia\":98, \"Germany\":93},\n",
    "                 (34, 67, \"Chennai\", \"London\", 89),\n",
    "                 (10.10,'Prashant',10+10j,False,10)  )], dtype=object) #Transforming nested list of 2 lists into Array\n",
    "print(Array2DL)\n",
    "print(Array2DL.dtype)\n",
    "print(type(Array2DL))\n",
    "print(ndim(Array2DL))       # list & dict converts mixed nested list into 1D Array\n",
    "print(size(Array2DL))\n",
    "print(len(Array2DL))\n",
    "print(shape(Array2DL)) # This is 1 array & 4 Rows"
   ]
  },
  {
   "cell_type": "code",
   "execution_count": 32,
   "metadata": {},
   "outputs": [
    {
     "name": "stdout",
     "output_type": "stream",
     "text": [
      "[[('KESHAV', (45+9j), True, 39.69, 39)\n",
      "  {'China': 67, 'America': 68, 'India': 52, 'Russia': 98, 'Germany': 93}\n",
      "  {1, 2, 3, 4, 5} (34, 67, 'Chennai', 'London', 89)\n",
      "  (10.1, 'Prashant', (10+10j), False, 10)]]\n",
      "object\n",
      "<class 'numpy.ndarray'>\n",
      "2\n",
      "5\n",
      "1\n",
      "(1, 5)\n"
     ]
    }
   ],
   "source": [
    "#Creating 2D array from 2 lists\n",
    "# No of elements/length of each nested list/tuple should be same\n",
    "# Create nested variables inside a 1D list & then convert that list into 2D list & then into array\n",
    "Array2DL=array([[(\"KESHAV\",45+9j,True,39.69,39),\n",
    "                {\"China\":67, \"America\":68, \"India\":52, \"Russia\":98, \"Germany\":93},\n",
    "                {1, 2, 3, 4, 5},\n",
    "                (34, 67, \"Chennai\", \"London\", 89),\n",
    "                (10.10,'Prashant',10+10j,False,10)]], dtype=object) #Transforming nested list of 2 lists into Array\n",
    "print(Array2DL)\n",
    "print(Array2DL.dtype)\n",
    "print(type(Array2DL))\n",
    "print(ndim(Array2DL))       # list & dict converts mixed nested list into 1D Array\n",
    "print(size(Array2DL))\n",
    "print(len(Array2DL))\n",
    "print(shape(Array2DL)) # This is 1 Array & 5 Rows\n"
   ]
  },
  {
   "cell_type": "code",
   "execution_count": 33,
   "metadata": {},
   "outputs": [
    {
     "name": "stdout",
     "output_type": "stream",
     "text": [
      "[[['KESHAV' '(45+9j)' 'True' '39.69' '39']\n",
      "  ['10.1' 'Prashant' '(10+10j)' 'False' '10']]]\n",
      "<U64\n",
      "<class 'numpy.ndarray'>\n",
      "3\n",
      "10\n",
      "1\n",
      "(1, 2, 5)\n",
      "2\n"
     ]
    }
   ],
   "source": [
    "#Creating 2D array from 2 lists\n",
    "# No of elements/length of each nested list/tuple should be same\n",
    "# Create nested variables inside a 2D list & then convert that list into array\n",
    "Array2DL=array([[[\"KESHAV\",45+9j,True,39.69,39],\n",
    "                [10.10,'Prashant',10+10j,False,10]]]) #Transforming nested list of 2 lists into Array\n",
    "print(Array2DL)\n",
    "print(Array2DL.dtype)\n",
    "print(type(Array2DL))\n",
    "print(ndim(Array2DL))\n",
    "print(size(Array2DL))\n",
    "print(len(Array2DL))\n",
    "print(shape(Array2DL)) # 1 Array, 2 Rows & 5 Columns\n",
    "\n",
    "print(ndim([[\"KESHAV\",45+9j,True,39.69,39],\n",
    "            [10.10,'Prashant',10+10j,False,10]]))"
   ]
  },
  {
   "cell_type": "code",
   "execution_count": 34,
   "metadata": {},
   "outputs": [
    {
     "name": "stdout",
     "output_type": "stream",
     "text": [
      "[[['KESHAV' '(45+9j)' 'True' '39.69' '39']\n",
      "  ['10.1' 'Prashant' '(10+10j)' 'False' '10']]]\n",
      "<U64\n",
      "<class 'numpy.ndarray'>\n",
      "3\n",
      "10\n",
      "1\n",
      "(1, 2, 5)\n",
      "2\n"
     ]
    }
   ],
   "source": [
    "#Creating 2D array from 2 Tuples\n",
    "# No of elements/length of each nested list/tuple should be same\n",
    "# Create nested variables inside a 2D tuple & then convert that tuple into array\n",
    "Array2DL=array([((\"KESHAV\",45+9j,True,39.69,39),\n",
    "                (10.10,'Prashant',10+10j,False,10))]) #Transforming nested Tuple of 2 tuples into Array\n",
    "print(Array2DL)\n",
    "print(Array2DL.dtype)\n",
    "print(type(Array2DL))\n",
    "print(ndim(Array2DL))\n",
    "print(size(Array2DL))\n",
    "print(len(Array2DL))\n",
    "print(shape(Array2DL)) # 1 Array, 2 Rows & 5 Columns\n",
    "\n",
    "print(ndim(((\"KESHAV\",45+9j,True,39.69,39),\n",
    "            (10.10,'Prashant',10+10j,False,10))))"
   ]
  },
  {
   "cell_type": "code",
   "execution_count": 35,
   "metadata": {},
   "outputs": [
    {
     "name": "stdout",
     "output_type": "stream",
     "text": [
      "[[['KESHAV' '(45+9j)' 'True' '39.69' '39']\n",
      "  ['10.1' 'Prashant' '(10+10j)' 'False' '10']]]\n",
      "<U64\n",
      "<class 'numpy.ndarray'>\n",
      "3\n",
      "10\n",
      "1\n",
      "(1, 2, 5)\n",
      "2\n"
     ]
    }
   ],
   "source": [
    "#Creating 2D array from 2 lists\n",
    "# No of elements/length of each nested list/tuple should be same\n",
    "# Create nested variables inside a 2D list & then convert that list into array\n",
    "Array2DL=array([[(\"KESHAV\",45+9j,True,39.69,39),\n",
    "                (10.10,'Prashant',10+10j,False,10)]]) #Transforming nested list of 2 lists into Array\n",
    "print(Array2DL)\n",
    "print(Array2DL.dtype)\n",
    "print(type(Array2DL))\n",
    "print(ndim(Array2DL))\n",
    "print(size(Array2DL))\n",
    "print(len(Array2DL))\n",
    "print(shape(Array2DL)) # 1 array, 2 Rows & 5 Columns\n",
    "\n",
    "print(ndim([(\"KESHAV\",45+9j,True,39.69,39),\n",
    "            (10.10,'Prashant',10+10j,False,10)]))"
   ]
  },
  {
   "cell_type": "code",
   "execution_count": 36,
   "metadata": {},
   "outputs": [
    {
     "name": "stdout",
     "output_type": "stream",
     "text": [
      "[[['KESHAV' '(45+9j)' 'True' '39.69' '39']\n",
      "  ['10.1' 'Prashant' '(10+10j)' 'False' '10']]]\n",
      "<U64\n",
      "<class 'numpy.ndarray'>\n",
      "3\n",
      "10\n",
      "1\n",
      "(1, 2, 5)\n",
      "2\n"
     ]
    }
   ],
   "source": [
    "#Creating 2D array from 2 lists\n",
    "# No of elements/length of each nested list/tuple should be same\n",
    "# Create nested variables inside a 2D list & then convert that list into array\n",
    "Array2DL=array([[(\"KESHAV\",45+9j,True,39.69,39),\n",
    "                (10.10,'Prashant',10+10j,False,10)]]) #Transforming nested list of 2 lists into Array\n",
    "print(Array2DL)\n",
    "print(Array2DL.dtype)\n",
    "print(type(Array2DL))\n",
    "print(ndim(Array2DL))\n",
    "print(size(Array2DL))\n",
    "print(len(Array2DL))\n",
    "print(shape(Array2DL)) # 1 array, 2 Rows & 5 Columns\n",
    "\n",
    "print(ndim([(\"KESHAV\",45+9j,True,39.69,39),\n",
    "            (10.10,'Prashant',10+10j,False,10)]))"
   ]
  },
  {
   "cell_type": "code",
   "execution_count": 37,
   "metadata": {},
   "outputs": [
    {
     "name": "stdout",
     "output_type": "stream",
     "text": [
      "[[['KESHAV' '(45+9j)' 'True' '39.69' '39']\n",
      "  ['China' 'America' 'India' 'Russia' 'Germany']\n",
      "  ['34' '67' 'Chennai' 'London' '89']\n",
      "  ['10.1' 'Prashant' '(10+10j)' 'False' '10']]]\n",
      "<U64\n",
      "<class 'numpy.ndarray'>\n",
      "3\n",
      "20\n",
      "1\n",
      "(1, 4, 5)\n",
      "2\n"
     ]
    }
   ],
   "source": [
    "#Creating 2D array from 2 lists\n",
    "# No of elements/length of each nested list/tuple should be same\n",
    "# Create nested variables inside a 2D list & then convert that list into array\n",
    "Array2DL=array([[(\"KESHAV\",45+9j,True,39.69,39),\n",
    "                [\"China\", \"America\", \"India\", \"Russia\", \"Germany\"],\n",
    "                (34, 67, \"Chennai\", \"London\", 89),\n",
    "                (10.10,'Prashant',10+10j,False,10)]]) #Transforming nested list of 2 lists into Array\n",
    "print(Array2DL)\n",
    "print(Array2DL.dtype)\n",
    "print(type(Array2DL))\n",
    "print(ndim(Array2DL))\n",
    "print(size(Array2DL))\n",
    "print(len(Array2DL))\n",
    "print(shape(Array2DL)) # 1 array, 4 Rows & 5 Columns\n",
    "\n",
    "print(ndim([(\"KESHAV\",45+9j,True,39.69,39),\n",
    "            [\"China\", \"America\", \"India\", \"Russia\", \"Germany\"],\n",
    "            (34, 67, \"Chennai\", \"London\", 89),\n",
    "            (10.10,'Prashant',10+10j,False,10)]))"
   ]
  },
  {
   "cell_type": "code",
   "execution_count": 38,
   "metadata": {},
   "outputs": [
    {
     "name": "stdout",
     "output_type": "stream",
     "text": [
      "[[{'KESHAV': 88, (45+9j): 'Negative', True: False, 39.69: 45, 39: 56}\n",
      "  list(['China', 'America', 'India', 'Russia', 'Germany'])\n",
      "  (34, 67, 'Chennai', 'London', 89)\n",
      "  {False, 10, 'Prashant', (10+10j), 10.1}]]\n",
      "object\n",
      "<class 'numpy.ndarray'>\n",
      "2\n",
      "4\n",
      "1\n",
      "(1, 4)\n",
      "1\n"
     ]
    },
    {
     "name": "stderr",
     "output_type": "stream",
     "text": [
      "D:\\Anwesh\\D_Program_Files\\Miniconda3\\envs\\ML\\lib\\site-packages\\numpy\\core\\fromnumeric.py:3162: VisibleDeprecationWarning: Creating an ndarray from ragged nested sequences (which is a list-or-tuple of lists-or-tuples-or ndarrays with different lengths or shapes) is deprecated. If you meant to do this, you must specify 'dtype=object' when creating the ndarray.\n",
      "  return asarray(a).ndim\n"
     ]
    }
   ],
   "source": [
    "#Creating 2D array from 2 lists\n",
    "# No of elements/length of each nested list/tuple should be same\n",
    "# Create nested variables inside a 1D list & then convert that list into 2D list & then into array\n",
    "Array2DL=array([[{\"KESHAV\":88,45+9j:\"Negative\",True:False,39.69:45,39:56},\n",
    "                 [\"China\", \"America\", \"India\", \"Russia\", \"Germany\"],\n",
    "                 (34, 67, \"Chennai\", \"London\", 89),\n",
    "                 {10.10,'Prashant',10+10j,False,10}]], dtype=object) #Transforming nested list of 2 lists into Array\n",
    "print(Array2DL)\n",
    "print(Array2DL.dtype)\n",
    "print(type(Array2DL))\n",
    "print(ndim(Array2DL))\n",
    "print(size(Array2DL))\n",
    "print(len(Array2DL))\n",
    "print(shape(Array2DL)) # 1 array & 4 Rows\n",
    "\n",
    "print(ndim([{\"KESHAV\":88,45+9j:\"Negative\",True:False,39.69:45,39:56},\n",
    "            [\"China\", \"America\", \"India\", \"Russia\", \"Germany\"],\n",
    "            (34, 67, \"Chennai\", \"London\", 89),\n",
    "            {10.10,'Prashant',10+10j,False,10}]))"
   ]
  },
  {
   "cell_type": "code",
   "execution_count": 39,
   "metadata": {},
   "outputs": [
    {
     "name": "stdout",
     "output_type": "stream",
     "text": [
      "[[{'KESHAV': 88, (45+9j): 'Negative', True: False, 39.69: 45, 39: 56}\n",
      "  list(['China', 'America', 'India', 'Russia', 'Germany'])\n",
      "  (34, 67, 'Chennai', 'London', 89)\n",
      "  {False, 10, 'Prashant', (10+10j), 10.1}]]\n",
      "object\n",
      "<class 'numpy.ndarray'>\n",
      "2\n",
      "4\n",
      "1\n",
      "(1, 4)\n",
      "1\n"
     ]
    }
   ],
   "source": [
    "#Creating 2D array from 2 lists\n",
    "# No of elements/length of each nested list/tuple should be same\n",
    "# Create nested variables inside a 1D Tuple & then convert that tuple into 2D list & then into array\n",
    "Array2DL=array([({\"KESHAV\":88,45+9j:\"Negative\",True:False,39.69:45,39:56},\n",
    "                 [\"China\", \"America\", \"India\", \"Russia\", \"Germany\"],\n",
    "                 (34, 67, \"Chennai\", \"London\", 89),\n",
    "                 {10.10,'Prashant',10+10j,False,10})], dtype=object) #Transforming nested list of 2 lists into Array\n",
    "print(Array2DL)\n",
    "print(Array2DL.dtype)\n",
    "print(type(Array2DL))\n",
    "print(ndim(Array2DL))\n",
    "print(size(Array2DL))\n",
    "print(len(Array2DL))\n",
    "print(shape(Array2DL)) # 1 array & 4 Rows\n",
    "\n",
    "print(ndim(({\"KESHAV\":88,45+9j:\"Negative\",True:False,39.69:45,39:56},\n",
    "            [\"China\", \"America\", \"India\", \"Russia\", \"Germany\"],\n",
    "            (34, 67, \"Chennai\", \"London\", 89),\n",
    "            {10.10,'Prashant',10+10j,False,10})))"
   ]
  },
  {
   "cell_type": "code",
   "execution_count": 40,
   "metadata": {},
   "outputs": [
    {
     "name": "stdout",
     "output_type": "stream",
     "text": [
      "[[{'KESHAV': 88, (45+9j): 'Negative', True: False, 39.69: 45, 39: 56}\n",
      "  list(['China', 'America', 'India', 'Russia', 'Germany'])\n",
      "  (34, 67, 'Chennai', 'London', 89)\n",
      "  {False, 10, 'Prashant', (10+10j), 10.1}]]\n",
      "object\n",
      "<class 'numpy.ndarray'>\n",
      "2\n",
      "4\n",
      "1\n",
      "(1, 4)\n",
      "1\n"
     ]
    }
   ],
   "source": [
    "#Creating 2D array from 2 lists\n",
    "# No of elements/length of each nested list/tuple should be same\n",
    "# Create nested variables inside a 1D Tuple & then convert that tuple into 2D list & then into array\n",
    "Array2DL=array([({\"KESHAV\":88,45+9j:\"Negative\",True:False,39.69:45,39:56},\n",
    "                 [\"China\", \"America\", \"India\", \"Russia\", \"Germany\"],\n",
    "                 (34, 67, \"Chennai\", \"London\", 89),\n",
    "                 {10.10,'Prashant',10+10j,False,10})], dtype=object) #Transforming nested list of 2 lists into Array\n",
    "print(Array2DL)\n",
    "print(Array2DL.dtype)\n",
    "print(type(Array2DL))\n",
    "print(ndim(Array2DL))\n",
    "print(size(Array2DL))\n",
    "print(len(Array2DL))\n",
    "print(shape(Array2DL)) # 1 array & 4 Rows\n",
    "\n",
    "print(ndim(({\"KESHAV\":88,45+9j:\"Negative\",True:False,39.69:45,39:56},\n",
    "            [\"China\", \"America\", \"India\", \"Russia\", \"Germany\"],\n",
    "            (34, 67, \"Chennai\", \"London\", 89),\n",
    "            {10.10,'Prashant',10+10j,False,10})))"
   ]
  },
  {
   "cell_type": "code",
   "execution_count": 41,
   "metadata": {},
   "outputs": [
    {
     "name": "stdout",
     "output_type": "stream",
     "text": [
      "[[{True, 'KESHAV', 39.69, 39, (45+9j)}\n",
      "  {False, 10, 'Prashant', (10+10j), 10.1}]]\n",
      "object\n",
      "<class 'numpy.ndarray'>\n",
      "2\n",
      "2\n",
      "1\n",
      "(1, 2)\n",
      "1\n"
     ]
    }
   ],
   "source": [
    "#Creating 2D array from 2 lists\n",
    "# No of elements/length of each nested list/tuple should be same\n",
    "# Create nested variables inside a 1D list & then convert that list into 2D list & then into array\n",
    "Array2DL=array([[{\"KESHAV\",45+9j,True,39.69,39},\n",
    "                 {10.10,'Prashant',10+10j,False,10}]]) #Transforming nested list of 2 lists into Array\n",
    "print(Array2DL)\n",
    "print(Array2DL.dtype)\n",
    "print(type(Array2DL))\n",
    "print(ndim(Array2DL))\n",
    "print(size(Array2DL))\n",
    "print(len(Array2DL))\n",
    "print(shape(Array2DL)) # 1 array & 2 Rows\n",
    "\n",
    "print(ndim([{\"KESHAV\",45+9j,True,39.69,39},\n",
    "            {10.10,'Prashant',10+10j,False,10}]))"
   ]
  },
  {
   "cell_type": "code",
   "execution_count": 42,
   "metadata": {},
   "outputs": [
    {
     "name": "stdout",
     "output_type": "stream",
     "text": [
      "[[{True, 'KESHAV', 39.69, 39, (45+9j)}\n",
      "  {False, 10, 'Prashant', (10+10j), 10.1}]]\n",
      "object\n",
      "<class 'numpy.ndarray'>\n",
      "2\n",
      "2\n",
      "1\n",
      "(1, 2)\n",
      "1\n"
     ]
    }
   ],
   "source": [
    "#Creating 2D array from 2 lists\n",
    "# No of elements/length of each nested list/tuple should be same\n",
    "# Create nested variables inside a 1D list & then convert that list into 2D list & then into array\n",
    "Array2DL=array([[{\"KESHAV\",45+9j,True,39.69,39},\n",
    "                 {10.10,'Prashant',10+10j,False,10}]]) #Transforming nested list of 2 lists into Array\n",
    "print(Array2DL)\n",
    "print(Array2DL.dtype)\n",
    "print(type(Array2DL))\n",
    "print(ndim(Array2DL))\n",
    "print(size(Array2DL))\n",
    "print(len(Array2DL))\n",
    "print(shape(Array2DL)) # 1 array & 2 Rows\n",
    "\n",
    "print(ndim([{\"KESHAV\",45+9j,True,39.69,39},\n",
    "            {10.10,'Prashant',10+10j,False,10}]))"
   ]
  },
  {
   "cell_type": "code",
   "execution_count": 43,
   "metadata": {},
   "outputs": [
    {
     "name": "stdout",
     "output_type": "stream",
     "text": [
      "[[{'KESHAV': 88, (45+9j): 'Negative', True: False, 39.69: 45, 39: 56}\n",
      "  {10.1: 'colon', 'Prashant': 'Alex', (10+10j): 99, False: True, 10: 56}]]\n",
      "object\n",
      "<class 'numpy.ndarray'>\n",
      "2\n",
      "2\n",
      "1\n",
      "(1, 2)\n",
      "1\n"
     ]
    }
   ],
   "source": [
    "#Creating 2D array from 2 lists\n",
    "# No of elements/length of each nested list/tuple should be same\n",
    "# Create nested variables inside a 1D list & then convert that list into 2D list & then into array\n",
    "Array2DL=array([[{\"KESHAV\":88,45+9j:\"Negative\",True:False,39.69:45,39:56},\n",
    "                 {10.10:\"colon\",'Prashant':\"Alex\",10+10j:99,False:True,10:56}]]) #Transforming nested list of 2 lists into Array\n",
    "print(Array2DL)\n",
    "print(Array2DL.dtype)\n",
    "print(type(Array2DL))\n",
    "print(ndim(Array2DL))\n",
    "print(size(Array2DL))\n",
    "print(len(Array2DL))\n",
    "print(shape(Array2DL)) # 1 array & 2 Rows\n",
    "\n",
    "print(ndim([{\"KESHAV\":88,45+9j:\"Negative\",True:False,39.69:45,39:56},\n",
    "            {10.10:\"colon\",'Prashant':\"Alex\",10+10j:99,False:True,10:56}]))"
   ]
  },
  {
   "cell_type": "code",
   "execution_count": 44,
   "metadata": {},
   "outputs": [
    {
     "name": "stdout",
     "output_type": "stream",
     "text": [
      "[[{'KESHAV': 88, (45+9j): 'Negative', True: False, 39.69: 45, 39: 56}\n",
      "  list(['China', 'America', 'India', 'Russia', 'Germany'])\n",
      "  (34, 67, 'Chennai', 'London', 89)\n",
      "  {False, 10, 'Prashant', (10+10j), 10.1}]]\n",
      "object\n",
      "<class 'numpy.ndarray'>\n",
      "2\n",
      "4\n",
      "1\n",
      "(1, 4)\n",
      "1\n"
     ]
    }
   ],
   "source": [
    "#Creating 2D array from 2 lists\n",
    "# No of elements/length of each nested list/tuple should be same\n",
    "# Create nested variables inside a 1D list & then convert that list into 2D list & then into array\n",
    "Array2DL=array([[{\"KESHAV\":88,45+9j:\"Negative\",True:False,39.69:45,39:56},\n",
    "                 [\"China\", \"America\", \"India\", \"Russia\", \"Germany\"],\n",
    "                 (34, 67, \"Chennai\", \"London\", 89),\n",
    "                 {10.10,'Prashant',10+10j,False,10}]], dtype=object) #Transforming nested list of 2 lists into Array\n",
    "print(Array2DL)\n",
    "print(Array2DL.dtype)\n",
    "print(type(Array2DL))\n",
    "print(ndim(Array2DL))\n",
    "print(size(Array2DL))\n",
    "print(len(Array2DL))\n",
    "print(shape(Array2DL)) # 1 array & 4 Rows\n",
    "\n",
    "print(ndim([{\"KESHAV\":88,45+9j:\"Negative\",True:False,39.69:45,39:56},\n",
    "            [\"China\", \"America\", \"India\", \"Russia\", \"Germany\"],\n",
    "            (34, 67, \"Chennai\", \"London\", 89),\n",
    "            {10.10,'Prashant',10+10j,False,10}]))"
   ]
  },
  {
   "cell_type": "markdown",
   "metadata": {},
   "source": [
    "## array(object, dtype=complex)"
   ]
  },
  {
   "cell_type": "code",
   "execution_count": 45,
   "metadata": {},
   "outputs": [
    {
     "name": "stdout",
     "output_type": "stream",
     "text": [
      "[[[45.  +9.j  1.  +0.j 39.69+0.j 39.  +0.j]]]\n",
      "complex128\n",
      "<class 'numpy.ndarray'>\n",
      "3\n",
      "4\n",
      "1\n",
      "(1, 1, 4)\n"
     ]
    }
   ],
   "source": [
    "#Creating 2D array from 1 list & convert all elements into complex\n",
    "#Dont works with string element\n",
    "# Convert 1D list into 2D list and then into array\n",
    "ArraY2=array([[[45+9j,True,39.69,39]]], dtype=complex) #dtype=complex\n",
    "print(ArraY2)\n",
    "print(ArraY2.dtype)\n",
    "print(type(ArraY2))\n",
    "print(ndim(ArraY2))\n",
    "print(size(ArraY2))\n",
    "print(len(ArraY2))\n",
    "print(shape(ArraY2)) # 1 array, 1 Row & 4 Columns"
   ]
  },
  {
   "cell_type": "code",
   "execution_count": 46,
   "metadata": {},
   "outputs": [
    {
     "name": "stdout",
     "output_type": "stream",
     "text": [
      "[[[45.  +9.j  1.  +0.j 39.69+0.j 39.  +0.j]]]\n",
      "complex128\n",
      "<class 'numpy.ndarray'>\n",
      "3\n",
      "4\n",
      "1\n",
      "(1, 1, 4)\n"
     ]
    }
   ],
   "source": [
    "#Creating 2D array from 1 list & convert all elements into complex\n",
    "#Dont works with string element\n",
    "# Convert 1D tuple into 2D list and then into array\n",
    "ArraY2=array([[(45+9j,True,39.69,39)]], dtype=complex) #dtype=complex\n",
    "print(ArraY2)\n",
    "print(ArraY2.dtype)\n",
    "print(type(ArraY2))\n",
    "print(ndim(ArraY2))\n",
    "print(size(ArraY2))\n",
    "print(len(ArraY2))\n",
    "print(shape(ArraY2)) # 1 array, 1 Row & 4 Columns"
   ]
  },
  {
   "cell_type": "code",
   "execution_count": 47,
   "metadata": {},
   "outputs": [
    {
     "name": "stdout",
     "output_type": "stream",
     "text": [
      "[[[45.  +9.j  1.  +0.j 39.69+0.j 39.  +0.j]]]\n",
      "complex128\n",
      "<class 'numpy.ndarray'>\n",
      "3\n",
      "4\n",
      "1\n",
      "(1, 1, 4)\n"
     ]
    }
   ],
   "source": [
    "#Creating 2D array from 1 Tuple & convert all elements into complex\n",
    "#Dont works with string element\n",
    "# Convert 1D tuple into 2D list and then into array\n",
    "ARray2=array([[(45+9j,True,39.69,39)]], dtype=complex) #dtype=complex\n",
    "print(ARray2)\n",
    "print(ARray2.dtype)\n",
    "print(type(ARray2))\n",
    "print(ndim(ARray2))\n",
    "print(size(ArraY2))\n",
    "print(len(ArraY2))\n",
    "print(shape(ArraY2)) # 1 array, 1 Row & 4 Columns"
   ]
  },
  {
   "cell_type": "code",
   "execution_count": 48,
   "metadata": {},
   "outputs": [
    {
     "name": "stdout",
     "output_type": "stream",
     "text": [
      "[[45.   +9.j  1.   +0.j 39.69 +0.j 39.   +0.j]\n",
      " [10.1  +0.j 10.  +10.j  0.   +0.j 10.   +0.j]]\n",
      "complex128\n",
      "<class 'numpy.ndarray'>\n",
      "2\n",
      "4\n",
      "1\n",
      "(1, 1, 4)\n"
     ]
    }
   ],
   "source": [
    "#Creating 2D array from 2 lists & convert all elements into complex\n",
    "#No of elements/length of each list should be same\n",
    "#Dont works with string element\n",
    "# Create nested lists inside a 2D list & then convert that list into array\n",
    "Array2=array([[45+9j,True,39.69,39],\n",
    "              [10.10,10+10j,False,10]], dtype=complex) #Transforming nested list of 2 lists into Array\n",
    "print(Array2)\n",
    "print(Array2.dtype)\n",
    "print(type(Array2))\n",
    "print(ndim(Array2))          #dtype=complex\n",
    "print(size(ArraY2))\n",
    "print(len(ArraY2))\n",
    "print(shape(ArraY2)) # 1 array, 1 Row & 4 Columns"
   ]
  },
  {
   "cell_type": "code",
   "execution_count": 49,
   "metadata": {},
   "outputs": [
    {
     "name": "stdout",
     "output_type": "stream",
     "text": [
      "[[[45.   +9.j  1.   +0.j 39.69 +0.j 39.   +0.j]\n",
      "  [10.1  +0.j 10.  +10.j  0.   +0.j 10.   +0.j]]]\n",
      "complex128\n",
      "<class 'numpy.ndarray'>\n",
      "3\n",
      "8\n",
      "1\n",
      "(1, 2, 4)\n"
     ]
    }
   ],
   "source": [
    "#Creating 2D array from 2 Tuples & convert elements into complex\n",
    "#No of elements/length of each Tuple should be same\n",
    "#Dont works with string element\n",
    "# Create nested tuple inside a 2D tuple & then convert that tuple into array\n",
    "Array2=array([((45+9j,True,39.69,39),\n",
    "              (10.10,10+10j,False,10))], dtype=complex) #Transforming nested tuple of 2 tuples into Array\n",
    "print(Array2)\n",
    "print(Array2.dtype)\n",
    "print(type(Array2))\n",
    "print(ndim(Array2))              #dtype=complex\n",
    "print(size(Array2))\n",
    "print(len(Array2))\n",
    "print(shape(Array2)) # 1 array, 2 Rows & 4 Columns"
   ]
  },
  {
   "cell_type": "code",
   "execution_count": 50,
   "metadata": {},
   "outputs": [
    {
     "name": "stdout",
     "output_type": "stream",
     "text": [
      "[[[45.  +9.j  1.  +0.j 39.69+0.j 39.  +0.j 78.  +0.j]\n",
      "  [45.  +9.j  1.  +0.j 39.69+0.j 39.  +0.j 78.  +0.j]]]\n",
      "complex128\n",
      "<class 'numpy.ndarray'>\n",
      "3\n",
      "10\n",
      "1\n",
      "(1, 2, 5)\n"
     ]
    }
   ],
   "source": [
    "#Creating 2D array from 2 lists\n",
    "# No of elements/length of each nested list/tuple should be same\n",
    "# Create nested list inside a 2D list & then convert that list into array\n",
    "Array2DL=array([[[45+9j,True,39.69,39,78],\n",
    "                 (45+9j,True,39.69,39,78)]], dtype=complex) #Transforming nested list of 2 lists into Array\n",
    "print(Array2DL)\n",
    "print(Array2DL.dtype)\n",
    "print(type(Array2DL))\n",
    "print(ndim(Array2DL))\n",
    "print(size(Array2DL))\n",
    "print(len(Array2DL))\n",
    "print(shape(Array2DL)) # 1 array, 2 Rows & 5 Columns"
   ]
  },
  {
   "cell_type": "code",
   "execution_count": 51,
   "metadata": {},
   "outputs": [
    {
     "name": "stdout",
     "output_type": "stream",
     "text": [
      "[[[45.  +9.j  1.  +0.j 39.69+0.j 39.  +0.j 78.  +0.j]\n",
      "  [45.  +9.j  1.  +0.j 39.69+0.j 39.  +0.j 78.  +0.j]]]\n",
      "complex128\n",
      "<class 'numpy.ndarray'>\n",
      "3\n",
      "10\n",
      "1\n",
      "(1, 2, 5)\n"
     ]
    }
   ],
   "source": [
    "#Creating 2D array from 2 lists\n",
    "# No of elements/length of each nested list/tuple should be same\n",
    "# Create nested variables inside a 2D list & then convert that list into array\n",
    "Array2DL=array([[[45+9j,True,39.69,39,78],\n",
    "                 (45+9j,True,39.69,39,78)]], dtype=complex) #Transforming nested list of 2 lists into Array\n",
    "print(Array2DL)\n",
    "print(Array2DL.dtype)\n",
    "print(type(Array2DL))\n",
    "print(ndim(Array2DL))\n",
    "print(size(Array2DL))\n",
    "print(len(Array2DL))\n",
    "print(shape(Array2DL)) # 1 array, 2 Rows & 5 Columns"
   ]
  },
  {
   "cell_type": "raw",
   "metadata": {},
   "source": [
    "#Creating 2D array from 2 lists\n",
    "# No of elements/length of each nested list/tuple should be same\n",
    "# Create nested list inside a Tuple & then convert that tuple into array\n",
    "Array2DL=array([([45+9j,True,39.69,39,78],\n",
    "                 (45+9j,True,39.69,39,78))],dtype=complex) #Transforming nested list of 2 lists into Array\n",
    "print(Array2DL)\n",
    "print(Array2DL.dtype)\n",
    "print(type(Array2DL))\n",
    "print(ndim(Array2DL))"
   ]
  },
  {
   "cell_type": "markdown",
   "metadata": {},
   "source": [
    "## arange(start, stop, step) function\n",
    "Almost like range() variable, for particular data you need to mention dtype="
   ]
  },
  {
   "cell_type": "code",
   "execution_count": 52,
   "metadata": {},
   "outputs": [
    {
     "name": "stdout",
     "output_type": "stream",
     "text": [
      "Help on built-in function arange in module numpy:\n",
      "\n",
      "arange(...)\n",
      "    arange([start,] stop[, step,], dtype=None, *, like=None)\n",
      "    \n",
      "    Return evenly spaced values within a given interval.\n",
      "    \n",
      "    Values are generated within the half-open interval ``[start, stop)``\n",
      "    (in other words, the interval including `start` but excluding `stop`).\n",
      "    For integer arguments the function is equivalent to the Python built-in\n",
      "    `range` function, but returns an ndarray rather than a list.\n",
      "    \n",
      "    When using a non-integer step, such as 0.1, the results will often not\n",
      "    be consistent.  It is better to use `numpy.linspace` for these cases.\n",
      "    \n",
      "    Parameters\n",
      "    ----------\n",
      "    start : integer or real, optional\n",
      "        Start of interval.  The interval includes this value.  The default\n",
      "        start value is 0.\n",
      "    stop : integer or real\n",
      "        End of interval.  The interval does not include this value, except\n",
      "        in some cases where `step` is not an integer and floating point\n",
      "        round-off affects the length of `out`.\n",
      "    step : integer or real, optional\n",
      "        Spacing between values.  For any output `out`, this is the distance\n",
      "        between two adjacent values, ``out[i+1] - out[i]``.  The default\n",
      "        step size is 1.  If `step` is specified as a position argument,\n",
      "        `start` must also be given.\n",
      "    dtype : dtype\n",
      "        The type of the output array.  If `dtype` is not given, infer the data\n",
      "        type from the other input arguments.\n",
      "    like : array_like\n",
      "        Reference object to allow the creation of arrays which are not\n",
      "        NumPy arrays. If an array-like passed in as ``like`` supports\n",
      "        the ``__array_function__`` protocol, the result will be defined\n",
      "        by it. In this case, it ensures the creation of an array object\n",
      "        compatible with that passed in via this argument.\n",
      "    \n",
      "        .. versionadded:: 1.20.0\n",
      "    \n",
      "    Returns\n",
      "    -------\n",
      "    arange : ndarray\n",
      "        Array of evenly spaced values.\n",
      "    \n",
      "        For floating point arguments, the length of the result is\n",
      "        ``ceil((stop - start)/step)``.  Because of floating point overflow,\n",
      "        this rule may result in the last element of `out` being greater\n",
      "        than `stop`.\n",
      "    \n",
      "    See Also\n",
      "    --------\n",
      "    numpy.linspace : Evenly spaced numbers with careful handling of endpoints.\n",
      "    numpy.ogrid: Arrays of evenly spaced numbers in N-dimensions.\n",
      "    numpy.mgrid: Grid-shaped arrays of evenly spaced numbers in N-dimensions.\n",
      "    \n",
      "    Examples\n",
      "    --------\n",
      "    >>> np.arange(3)\n",
      "    array([0, 1, 2])\n",
      "    >>> np.arange(3.0)\n",
      "    array([ 0.,  1.,  2.])\n",
      "    >>> np.arange(3,7)\n",
      "    array([3, 4, 5, 6])\n",
      "    >>> np.arange(3,7,2)\n",
      "    array([3, 5])\n",
      "\n"
     ]
    }
   ],
   "source": [
    "help(arange)"
   ]
  },
  {
   "cell_type": "code",
   "execution_count": 53,
   "metadata": {},
   "outputs": [],
   "source": [
    "#This is array created by single range/multiple range unlike List,Tuple\n",
    "#arange([start,] stop[, step,], dtype=None)"
   ]
  },
  {
   "cell_type": "code",
   "execution_count": 54,
   "metadata": {},
   "outputs": [
    {
     "name": "stdout",
     "output_type": "stream",
     "text": [
      "[ 0.+0.j  1.+0.j  2.+0.j  3.+0.j  4.+0.j  5.+0.j  6.+0.j  7.+0.j  8.+0.j\n",
      "  9.+0.j 10.+0.j 11.+0.j 12.+0.j 13.+0.j 14.+0.j 15.+0.j 16.+0.j 17.+0.j\n",
      " 18.+0.j 19.+0.j]\n",
      "complex128\n",
      "<class 'numpy.ndarray'>\n",
      "1\n",
      "20\n",
      "20\n",
      "(20,)\n"
     ]
    }
   ],
   "source": [
    "#Creating 1D array from 1 range of complex elements\n",
    "# start=0 by default\n",
    "# stop=20\n",
    "# step=1 by default\n",
    "Array1=arange(start=0, stop=20, dtype=complex) #From 0 to 19 complex numbers\n",
    "print(Array1)\n",
    "print(Array1.dtype)\n",
    "print(type(Array1))\n",
    "print(ndim(Array1))\n",
    "print(size(Array1))\n",
    "print(len(Array1))\n",
    "print(shape(Array1))"
   ]
  },
  {
   "cell_type": "markdown",
   "metadata": {},
   "source": [
    "## array.reshape(num1, num2)\n",
    "* array.dtype option works with array only"
   ]
  },
  {
   "cell_type": "code",
   "execution_count": 55,
   "metadata": {},
   "outputs": [
    {
     "name": "stdout",
     "output_type": "stream",
     "text": [
      "[[[ 1.+0.j  2.+0.j  3.+0.j  4.+0.j  5.+0.j]\n",
      "  [ 6.+0.j  7.+0.j  8.+0.j  9.+0.j 10.+0.j]\n",
      "  [11.+0.j 12.+0.j 13.+0.j 14.+0.j 15.+0.j]\n",
      "  [16.+0.j 17.+0.j 18.+0.j 19.+0.j 20.+0.j]]]\n",
      "complex128\n",
      "<class 'numpy.ndarray'>\n",
      "3\n",
      "20\n",
      "1\n",
      "(1, 4, 5)\n"
     ]
    }
   ],
   "source": [
    "#Creating 2D array from 1 range having complex elements\n",
    "#We will use reshape() function to give the Array2 2D structure\n",
    "#No of elements/length of each range should be same\n",
    "#Dont works with string element\n",
    "# start=1\n",
    "# stop=21\n",
    "# step=1\n",
    "Array2=arange(start=1, stop=21, step=1, dtype=complex).reshape(1,4,5) #4 rows & 5 columns, from 1 to 20 complex numbers\n",
    "print(Array2)\n",
    "print(Array2.dtype)\n",
    "print(type(Array2))\n",
    "print(ndim(Array2))\n",
    "print(size(Array2))\n",
    "print(len(Array2))\n",
    "print(shape(Array2)) # 1 array, 4 Rows & 5 Columns"
   ]
  },
  {
   "cell_type": "markdown",
   "metadata": {},
   "source": [
    "## zeros() function"
   ]
  },
  {
   "cell_type": "code",
   "execution_count": 56,
   "metadata": {},
   "outputs": [
    {
     "name": "stdout",
     "output_type": "stream",
     "text": [
      "Help on built-in function zeros in module numpy:\n",
      "\n",
      "zeros(...)\n",
      "    zeros(shape, dtype=float, order='C', *, like=None)\n",
      "    \n",
      "    Return a new array of given shape and type, filled with zeros.\n",
      "    \n",
      "    Parameters\n",
      "    ----------\n",
      "    shape : int or tuple of ints\n",
      "        Shape of the new array, e.g., ``(2, 3)`` or ``2``.\n",
      "    dtype : data-type, optional\n",
      "        The desired data-type for the array, e.g., `numpy.int8`.  Default is\n",
      "        `numpy.float64`.\n",
      "    order : {'C', 'F'}, optional, default: 'C'\n",
      "        Whether to store multi-dimensional data in row-major\n",
      "        (C-style) or column-major (Fortran-style) order in\n",
      "        memory.\n",
      "    like : array_like\n",
      "        Reference object to allow the creation of arrays which are not\n",
      "        NumPy arrays. If an array-like passed in as ``like`` supports\n",
      "        the ``__array_function__`` protocol, the result will be defined\n",
      "        by it. In this case, it ensures the creation of an array object\n",
      "        compatible with that passed in via this argument.\n",
      "    \n",
      "        .. versionadded:: 1.20.0\n",
      "    \n",
      "    Returns\n",
      "    -------\n",
      "    out : ndarray\n",
      "        Array of zeros with the given shape, dtype, and order.\n",
      "    \n",
      "    See Also\n",
      "    --------\n",
      "    zeros_like : Return an array of zeros with shape and type of input.\n",
      "    empty : Return a new uninitialized array.\n",
      "    ones : Return a new array setting values to one.\n",
      "    full : Return a new array of given shape filled with value.\n",
      "    \n",
      "    Examples\n",
      "    --------\n",
      "    >>> np.zeros(5)\n",
      "    array([ 0.,  0.,  0.,  0.,  0.])\n",
      "    \n",
      "    >>> np.zeros((5,), dtype=int)\n",
      "    array([0, 0, 0, 0, 0])\n",
      "    \n",
      "    >>> np.zeros((2, 1))\n",
      "    array([[ 0.],\n",
      "           [ 0.]])\n",
      "    \n",
      "    >>> s = (2,2)\n",
      "    >>> np.zeros(s)\n",
      "    array([[ 0.,  0.],\n",
      "           [ 0.,  0.]])\n",
      "    \n",
      "    >>> np.zeros((2,), dtype=[('x', 'i4'), ('y', 'i4')]) # custom dtype\n",
      "    array([(0, 0), (0, 0)],\n",
      "          dtype=[('x', '<i4'), ('y', '<i4')])\n",
      "\n"
     ]
    }
   ],
   "source": [
    "help(zeros)"
   ]
  },
  {
   "cell_type": "code",
   "execution_count": 57,
   "metadata": {},
   "outputs": [],
   "source": [
    "#zeros(shape, dtype=float, order='C')\n",
    "#zeros() function creates array filled with zeros\n",
    "#You should mention the shape of the array\n",
    "#You can mention the data type, otherwise default data type will be Float\n",
    "#You can mention the multidimentional data storing order but we will ignore it"
   ]
  },
  {
   "cell_type": "code",
   "execution_count": 58,
   "metadata": {},
   "outputs": [
    {
     "name": "stdout",
     "output_type": "stream",
     "text": [
      "[[[0. 0. 0. 0. 0.]]]\n",
      "float64\n",
      "<class 'numpy.ndarray'>\n",
      "3\n",
      "5\n",
      "1\n",
      "(1, 1, 5)\n"
     ]
    }
   ],
   "source": [
    "#Creating 1D zeros Array\n",
    "from numpy import zeros\n",
    "Zeros1=zeros((1,1,5),float)   #Zeros Array, containing 5 elements, Float type\n",
    "print(Zeros1)\n",
    "print(Zeros1.dtype)\n",
    "print(type(Zeros1))\n",
    "print(ndim(Zeros1))\n",
    "print(size(Zeros1))\n",
    "print(len(Zeros1))\n",
    "print(shape(Zeros1)) # 1 array, 1 Row & 5 Columns"
   ]
  },
  {
   "cell_type": "code",
   "execution_count": 59,
   "metadata": {},
   "outputs": [
    {
     "name": "stdout",
     "output_type": "stream",
     "text": [
      "[[[0.+0.j 0.+0.j 0.+0.j 0.+0.j 0.+0.j]]]\n",
      "complex128\n",
      "<class 'numpy.ndarray'>\n",
      "3\n",
      "5\n",
      "1\n",
      "(1, 1, 5)\n"
     ]
    }
   ],
   "source": [
    "#Creating 1D zeros Array\n",
    "Zeros1=zeros((1,1,5),complex)   #Zeros Array, containing 5 elements, Complex type\n",
    "print(Zeros1)\n",
    "print(Zeros1.dtype)\n",
    "print(type(Zeros1))\n",
    "print(ndim(Zeros1))\n",
    "print(size(Zeros1))\n",
    "print(len(Zeros1))\n",
    "print(shape(Zeros1)) # 1 array, 1 Row & 5 Columns"
   ]
  },
  {
   "cell_type": "code",
   "execution_count": 60,
   "metadata": {},
   "outputs": [
    {
     "name": "stdout",
     "output_type": "stream",
     "text": [
      "[[[0 0 0 0]\n",
      "  [0 0 0 0]\n",
      "  [0 0 0 0]\n",
      "  [0 0 0 0]\n",
      "  [0 0 0 0]]]\n",
      "int32\n",
      "<class 'numpy.ndarray'>\n",
      "3\n",
      "20\n",
      "1\n",
      "(1, 5, 4)\n"
     ]
    }
   ],
   "source": [
    "#Creating 2D zeros Array of tuples\n",
    "Zeros2=zeros((1,5,4),int) #(5,4) is shape tuple of ints, containing 5*4=20 elements, integer type\n",
    "print(Zeros2)\n",
    "print(Zeros2.dtype)\n",
    "print(type(Zeros2))\n",
    "print(ndim(Zeros2))\n",
    "print(size(Zeros2))\n",
    "print(len(Zeros2))\n",
    "print(shape(Zeros2)) # 1 array, 5 Rows & 4 Columns"
   ]
  },
  {
   "cell_type": "code",
   "execution_count": 61,
   "metadata": {},
   "outputs": [
    {
     "name": "stdout",
     "output_type": "stream",
     "text": [
      "[[[0.+0.j 0.+0.j 0.+0.j 0.+0.j]\n",
      "  [0.+0.j 0.+0.j 0.+0.j 0.+0.j]\n",
      "  [0.+0.j 0.+0.j 0.+0.j 0.+0.j]\n",
      "  [0.+0.j 0.+0.j 0.+0.j 0.+0.j]\n",
      "  [0.+0.j 0.+0.j 0.+0.j 0.+0.j]]]\n",
      "complex128\n",
      "<class 'numpy.ndarray'>\n",
      "3\n",
      "20\n",
      "1\n",
      "(1, 5, 4)\n"
     ]
    }
   ],
   "source": [
    "#Creating 2D zeros Array of tuples\n",
    "Zeros2=zeros((1,5,4),complex) #(5,4) is shape tuple of ints, containing 5*4=20 elements, Complex type\n",
    "print(Zeros2)\n",
    "print(Zeros2.dtype)\n",
    "print(type(Zeros2))\n",
    "print(ndim(Zeros2))\n",
    "print(size(Zeros2))\n",
    "print(len(Zeros2))\n",
    "print(shape(Zeros2)) # 1 array, 5 Rows & 4 Columns"
   ]
  },
  {
   "cell_type": "code",
   "execution_count": 62,
   "metadata": {},
   "outputs": [
    {
     "name": "stdout",
     "output_type": "stream",
     "text": [
      "[[[0. 0. 0. 0. 0.]\n",
      "  [0. 0. 0. 0. 0.]\n",
      "  [0. 0. 0. 0. 0.]\n",
      "  [0. 0. 0. 0. 0.]]]\n",
      "float64\n",
      "<class 'numpy.ndarray'>\n",
      "3\n",
      "20\n",
      "1\n",
      "(1, 4, 5)\n"
     ]
    }
   ],
   "source": [
    "#Creating 2D zeros Array of tuples\n",
    "Zeros2=zeros((1,4,5),float) #(4,5) is shape tuple of float, containing 4*5=20 elements, Float type\n",
    "print(Zeros2)\n",
    "print(Zeros2.dtype)\n",
    "print(type(Zeros2))\n",
    "print(ndim(Zeros2))\n",
    "print(size(Zeros2))\n",
    "print(len(Zeros2))\n",
    "print(shape(Zeros2)) # 1 array, 4 Rows & 5 Columns"
   ]
  },
  {
   "cell_type": "code",
   "execution_count": 63,
   "metadata": {},
   "outputs": [
    {
     "name": "stdout",
     "output_type": "stream",
     "text": [
      "[[[0 0 0 0]\n",
      "  [0 0 0 0]\n",
      "  [0 0 0 0]\n",
      "  [0 0 0 0]\n",
      "  [0 0 0 0]]]\n",
      "int32\n",
      "<class 'numpy.ndarray'>\n",
      "3\n",
      "20\n",
      "1\n",
      "(1, 5, 4)\n"
     ]
    }
   ],
   "source": [
    "#Creating 2D zeros Array of lists\n",
    "Zeros2=zeros([1,5,4],int) #[5,4] is shape list of ints, containing 5*4=20 elements, integer type\n",
    "print(Zeros2)\n",
    "print(Zeros2.dtype)\n",
    "print(type(Zeros2))\n",
    "print(ndim(Zeros2))\n",
    "print(size(Zeros2))\n",
    "print(len(Zeros2))\n",
    "print(shape(Zeros2)) # 1 array, 5 Rows & 4 Columns"
   ]
  },
  {
   "cell_type": "code",
   "execution_count": 64,
   "metadata": {},
   "outputs": [
    {
     "name": "stdout",
     "output_type": "stream",
     "text": [
      "[[[0. 0. 0. 0. 0.]\n",
      "  [0. 0. 0. 0. 0.]\n",
      "  [0. 0. 0. 0. 0.]\n",
      "  [0. 0. 0. 0. 0.]]]\n",
      "float64\n",
      "<class 'numpy.ndarray'>\n",
      "3\n",
      "20\n",
      "1\n",
      "(1, 4, 5)\n"
     ]
    }
   ],
   "source": [
    "#Creating 2D zeros Array of lists\n",
    "Zeros2=zeros([1,4,5],float) #[4,5] is shape list of float, containing 4*5=20 elements, float type\n",
    "print(Zeros2)\n",
    "print(Zeros2.dtype)\n",
    "print(type(Zeros2))\n",
    "print(ndim(Zeros2))\n",
    "print(size(Zeros2))\n",
    "print(len(Zeros2))\n",
    "print(shape(Zeros2)) # 1 array, 4 Rows & 5 Columns"
   ]
  },
  {
   "cell_type": "markdown",
   "metadata": {},
   "source": [
    "## ones() function"
   ]
  },
  {
   "cell_type": "code",
   "execution_count": 65,
   "metadata": {},
   "outputs": [
    {
     "name": "stdout",
     "output_type": "stream",
     "text": [
      "Help on function ones in module numpy:\n",
      "\n",
      "ones(shape, dtype=None, order='C', *, like=None)\n",
      "    Return a new array of given shape and type, filled with ones.\n",
      "    \n",
      "    Parameters\n",
      "    ----------\n",
      "    shape : int or sequence of ints\n",
      "        Shape of the new array, e.g., ``(2, 3)`` or ``2``.\n",
      "    dtype : data-type, optional\n",
      "        The desired data-type for the array, e.g., `numpy.int8`.  Default is\n",
      "        `numpy.float64`.\n",
      "    order : {'C', 'F'}, optional, default: C\n",
      "        Whether to store multi-dimensional data in row-major\n",
      "        (C-style) or column-major (Fortran-style) order in\n",
      "        memory.\n",
      "    like : array_like\n",
      "        Reference object to allow the creation of arrays which are not\n",
      "        NumPy arrays. If an array-like passed in as ``like`` supports\n",
      "        the ``__array_function__`` protocol, the result will be defined\n",
      "        by it. In this case, it ensures the creation of an array object\n",
      "        compatible with that passed in via this argument.\n",
      "    \n",
      "        .. versionadded:: 1.20.0\n",
      "    \n",
      "    Returns\n",
      "    -------\n",
      "    out : ndarray\n",
      "        Array of ones with the given shape, dtype, and order.\n",
      "    \n",
      "    See Also\n",
      "    --------\n",
      "    ones_like : Return an array of ones with shape and type of input.\n",
      "    empty : Return a new uninitialized array.\n",
      "    zeros : Return a new array setting values to zero.\n",
      "    full : Return a new array of given shape filled with value.\n",
      "    \n",
      "    \n",
      "    Examples\n",
      "    --------\n",
      "    >>> np.ones(5)\n",
      "    array([1., 1., 1., 1., 1.])\n",
      "    \n",
      "    >>> np.ones((5,), dtype=int)\n",
      "    array([1, 1, 1, 1, 1])\n",
      "    \n",
      "    >>> np.ones((2, 1))\n",
      "    array([[1.],\n",
      "           [1.]])\n",
      "    \n",
      "    >>> s = (2,2)\n",
      "    >>> np.ones(s)\n",
      "    array([[1.,  1.],\n",
      "           [1.,  1.]])\n",
      "\n"
     ]
    }
   ],
   "source": [
    "help(ones)"
   ]
  },
  {
   "cell_type": "code",
   "execution_count": 66,
   "metadata": {},
   "outputs": [],
   "source": [
    "#ones(shape, dtype=None, order='C')\n",
    "#ones() function creates array filled with 1\n",
    "#You should mention the shape of the array\n",
    "#You can mention the data type, otherwise default data type will be Float\n",
    "#You can mention the multidimentional data storing order but we will ignore it"
   ]
  },
  {
   "cell_type": "code",
   "execution_count": 67,
   "metadata": {},
   "outputs": [
    {
     "name": "stdout",
     "output_type": "stream",
     "text": [
      "[[[1. 1. 1. 1. 1.]]]\n",
      "float64\n",
      "<class 'numpy.ndarray'>\n",
      "3\n",
      "5\n",
      "1\n",
      "(1, 1, 5)\n"
     ]
    }
   ],
   "source": [
    "#Creating 1D ones Array\n",
    "Ones1=ones((1,1,5),float)    #Ones Array, containing 5 elements, Float type\n",
    "print(Ones1)\n",
    "print(Ones1.dtype)\n",
    "print(type(Ones1))\n",
    "print(ndim(Ones1))\n",
    "print(size(Ones1))\n",
    "print(len(Ones1))\n",
    "print(shape(Ones1)) # 1 array, 1 Row & 5 Columns"
   ]
  },
  {
   "cell_type": "code",
   "execution_count": 68,
   "metadata": {},
   "outputs": [
    {
     "name": "stdout",
     "output_type": "stream",
     "text": [
      "[[[1 1 1 1]\n",
      "  [1 1 1 1]\n",
      "  [1 1 1 1]\n",
      "  [1 1 1 1]\n",
      "  [1 1 1 1]]]\n",
      "int32\n",
      "<class 'numpy.ndarray'>\n",
      "3\n",
      "20\n",
      "1\n",
      "(1, 5, 4)\n"
     ]
    }
   ],
   "source": [
    "#Creating 2D ones Array of tuples\n",
    "Ones2=ones((1,5,4),int) #(5,4) is tuple of ints, containing 5*4=20 elements, integer type\n",
    "print(Ones2)\n",
    "print(Ones2.dtype)\n",
    "print(type(Ones2))\n",
    "print(ndim(Ones2))\n",
    "print(size(Ones2))\n",
    "print(len(Ones2))\n",
    "print(shape(Ones2)) # 1 array, 5 Rows & 4 Columns"
   ]
  },
  {
   "cell_type": "code",
   "execution_count": 69,
   "metadata": {},
   "outputs": [
    {
     "name": "stdout",
     "output_type": "stream",
     "text": [
      "[[[1. 1. 1. 1. 1.]\n",
      "  [1. 1. 1. 1. 1.]\n",
      "  [1. 1. 1. 1. 1.]\n",
      "  [1. 1. 1. 1. 1.]]]\n",
      "float64\n",
      "<class 'numpy.ndarray'>\n",
      "3\n",
      "20\n",
      "1\n",
      "(1, 4, 5)\n"
     ]
    }
   ],
   "source": [
    "#Creating 2D ones Array of tuples\n",
    "Ones2=ones((1,4,5),float) #(4,5) is tuple of float, containing 4*5=20 elements, float type\n",
    "print(Ones2)\n",
    "print(Ones2.dtype)\n",
    "print(type(Ones2))\n",
    "print(ndim(Ones2))\n",
    "print(size(Ones2))\n",
    "print(len(Ones2))\n",
    "print(shape(Ones2)) # 1 array, 4 Rows & 5 Columns"
   ]
  },
  {
   "cell_type": "code",
   "execution_count": 70,
   "metadata": {},
   "outputs": [
    {
     "name": "stdout",
     "output_type": "stream",
     "text": [
      "[[[1.+0.j 1.+0.j 1.+0.j 1.+0.j 1.+0.j]\n",
      "  [1.+0.j 1.+0.j 1.+0.j 1.+0.j 1.+0.j]\n",
      "  [1.+0.j 1.+0.j 1.+0.j 1.+0.j 1.+0.j]\n",
      "  [1.+0.j 1.+0.j 1.+0.j 1.+0.j 1.+0.j]]]\n",
      "complex128\n",
      "<class 'numpy.ndarray'>\n",
      "3\n",
      "20\n",
      "1\n",
      "(1, 4, 5)\n"
     ]
    }
   ],
   "source": [
    "#Creating 2D ones Array of tuples\n",
    "Ones2=ones((1,4,5),complex) #(4,5) is tuple of complex, containing 4*5=20 elements, complex type\n",
    "print(Ones2)\n",
    "print(Ones2.dtype)\n",
    "print(type(Ones2))\n",
    "print(ndim(Ones2))\n",
    "print(size(Ones2))\n",
    "print(len(Ones2))\n",
    "print(shape(Ones2)) # 1 array, 4 Rows & 5 Columns"
   ]
  },
  {
   "cell_type": "code",
   "execution_count": 71,
   "metadata": {},
   "outputs": [
    {
     "name": "stdout",
     "output_type": "stream",
     "text": [
      "[[[1 1 1 1]\n",
      "  [1 1 1 1]\n",
      "  [1 1 1 1]\n",
      "  [1 1 1 1]\n",
      "  [1 1 1 1]]]\n",
      "int32\n",
      "<class 'numpy.ndarray'>\n",
      "3\n",
      "20\n",
      "1\n",
      "(1, 5, 4)\n"
     ]
    }
   ],
   "source": [
    "#Creating 2D ones Array of lists\n",
    "Ones2=ones([1,5,4],int) #[5,4] is list of ints, containing 5*4=20 elements, integer type\n",
    "print(Ones2)\n",
    "print(Ones2.dtype)\n",
    "print(type(Ones2))\n",
    "print(ndim(Ones2))\n",
    "print(size(Ones2))\n",
    "print(len(Ones2))\n",
    "print(shape(Ones2)) # 1 array, 5 Rows & 4 Columns"
   ]
  },
  {
   "cell_type": "code",
   "execution_count": 72,
   "metadata": {},
   "outputs": [
    {
     "name": "stdout",
     "output_type": "stream",
     "text": [
      "[[[1. 1. 1. 1. 1.]\n",
      "  [1. 1. 1. 1. 1.]\n",
      "  [1. 1. 1. 1. 1.]\n",
      "  [1. 1. 1. 1. 1.]]]\n",
      "float64\n",
      "<class 'numpy.ndarray'>\n",
      "3\n",
      "20\n",
      "1\n",
      "(1, 4, 5)\n"
     ]
    }
   ],
   "source": [
    "#Creating 2D ones Array of lists\n",
    "Ones2=ones([1,4,5],float) #[4,5] is list of float, containing 4*5=20 elements, float type\n",
    "print(Ones2)\n",
    "print(Ones2.dtype)\n",
    "print(type(Ones2))\n",
    "print(ndim(Ones2))\n",
    "print(size(Ones2))\n",
    "print(len(Ones2))\n",
    "print(shape(Ones2)) # 1 array, 4 Rows & 5 Columns"
   ]
  },
  {
   "cell_type": "markdown",
   "metadata": {},
   "source": [
    "## linspace() function"
   ]
  },
  {
   "cell_type": "code",
   "execution_count": 73,
   "metadata": {},
   "outputs": [
    {
     "name": "stdout",
     "output_type": "stream",
     "text": [
      "Help on function linspace in module numpy:\n",
      "\n",
      "linspace(start, stop, num=50, endpoint=True, retstep=False, dtype=None, axis=0)\n",
      "    Return evenly spaced numbers over a specified interval.\n",
      "    \n",
      "    Returns `num` evenly spaced samples, calculated over the\n",
      "    interval [`start`, `stop`].\n",
      "    \n",
      "    The endpoint of the interval can optionally be excluded.\n",
      "    \n",
      "    .. versionchanged:: 1.16.0\n",
      "        Non-scalar `start` and `stop` are now supported.\n",
      "    \n",
      "    .. versionchanged:: 1.20.0\n",
      "        Values are rounded towards ``-inf`` instead of ``0`` when an\n",
      "        integer ``dtype`` is specified. The old behavior can\n",
      "        still be obtained with ``np.linspace(start, stop, num).astype(int)``\n",
      "    \n",
      "    Parameters\n",
      "    ----------\n",
      "    start : array_like\n",
      "        The starting value of the sequence.\n",
      "    stop : array_like\n",
      "        The end value of the sequence, unless `endpoint` is set to False.\n",
      "        In that case, the sequence consists of all but the last of ``num + 1``\n",
      "        evenly spaced samples, so that `stop` is excluded.  Note that the step\n",
      "        size changes when `endpoint` is False.\n",
      "    num : int, optional\n",
      "        Number of samples to generate. Default is 50. Must be non-negative.\n",
      "    endpoint : bool, optional\n",
      "        If True, `stop` is the last sample. Otherwise, it is not included.\n",
      "        Default is True.\n",
      "    retstep : bool, optional\n",
      "        If True, return (`samples`, `step`), where `step` is the spacing\n",
      "        between samples.\n",
      "    dtype : dtype, optional\n",
      "        The type of the output array.  If `dtype` is not given, the data type\n",
      "        is inferred from `start` and `stop`. The inferred dtype will never be\n",
      "        an integer; `float` is chosen even if the arguments would produce an\n",
      "        array of integers.\n",
      "    \n",
      "        .. versionadded:: 1.9.0\n",
      "    \n",
      "    axis : int, optional\n",
      "        The axis in the result to store the samples.  Relevant only if start\n",
      "        or stop are array-like.  By default (0), the samples will be along a\n",
      "        new axis inserted at the beginning. Use -1 to get an axis at the end.\n",
      "    \n",
      "        .. versionadded:: 1.16.0\n",
      "    \n",
      "    Returns\n",
      "    -------\n",
      "    samples : ndarray\n",
      "        There are `num` equally spaced samples in the closed interval\n",
      "        ``[start, stop]`` or the half-open interval ``[start, stop)``\n",
      "        (depending on whether `endpoint` is True or False).\n",
      "    step : float, optional\n",
      "        Only returned if `retstep` is True\n",
      "    \n",
      "        Size of spacing between samples.\n",
      "    \n",
      "    \n",
      "    See Also\n",
      "    --------\n",
      "    arange : Similar to `linspace`, but uses a step size (instead of the\n",
      "             number of samples).\n",
      "    geomspace : Similar to `linspace`, but with numbers spaced evenly on a log\n",
      "                scale (a geometric progression).\n",
      "    logspace : Similar to `geomspace`, but with the end points specified as\n",
      "               logarithms.\n",
      "    \n",
      "    Examples\n",
      "    --------\n",
      "    >>> np.linspace(2.0, 3.0, num=5)\n",
      "    array([2.  , 2.25, 2.5 , 2.75, 3.  ])\n",
      "    >>> np.linspace(2.0, 3.0, num=5, endpoint=False)\n",
      "    array([2. ,  2.2,  2.4,  2.6,  2.8])\n",
      "    >>> np.linspace(2.0, 3.0, num=5, retstep=True)\n",
      "    (array([2.  ,  2.25,  2.5 ,  2.75,  3.  ]), 0.25)\n",
      "    \n",
      "    Graphical illustration:\n",
      "    \n",
      "    >>> import matplotlib.pyplot as plt\n",
      "    >>> N = 8\n",
      "    >>> y = np.zeros(N)\n",
      "    >>> x1 = np.linspace(0, 10, N, endpoint=True)\n",
      "    >>> x2 = np.linspace(0, 10, N, endpoint=False)\n",
      "    >>> plt.plot(x1, y, 'o')\n",
      "    [<matplotlib.lines.Line2D object at 0x...>]\n",
      "    >>> plt.plot(x2, y + 0.5, 'o')\n",
      "    [<matplotlib.lines.Line2D object at 0x...>]\n",
      "    >>> plt.ylim([-0.5, 1])\n",
      "    (-0.5, 1)\n",
      "    >>> plt.show()\n",
      "\n"
     ]
    }
   ],
   "source": [
    "#Returns evenly spaced numbers over a specified interval.\n",
    "#Creates array filled with evenly spaced/sequenced values\n",
    "#It almost works like arange() function\n",
    "#With linspace we provide start value, stop value and no of desired elements\n",
    "#linspace automatically adjusts the step/interval for getting the no of desired elements sequence\n",
    "#linspace stands for linear-space/interval/step\n",
    "#In linspace we can include the stop value (optional), unlike range & arange\n",
    "#We can exclude the stop value by doing endpoint=False\n",
    "#We can also get the print of space/interval/step by doing retstep=True\n",
    "#retstep=True it converts the result into Tuple\n",
    "#.reshape() & array.dtype commands dont works along with retstep=True command\n",
    "from numpy import linspace\n",
    "help(linspace)"
   ]
  },
  {
   "cell_type": "code",
   "execution_count": 74,
   "metadata": {},
   "outputs": [
    {
     "name": "stdout",
     "output_type": "stream",
     "text": [
      "[[[ 5.  8. 11.]]]\n",
      "float64\n",
      "<class 'numpy.ndarray'>\n",
      "3\n",
      "3\n",
      "1\n",
      "(1, 1, 3)\n"
     ]
    }
   ],
   "source": [
    "# Hey you, Check the output result here.. They are inside a 1D List Array\n",
    "Linspace=linspace(start=5, stop=11, num=3).reshape([1,1,3]) #5 is start, 11 is stop, 3 is no of elements, endpoint=True by default (include endpoint)\n",
    "print(Linspace)\n",
    "print(Linspace.dtype)\n",
    "print(type(Linspace))\n",
    "print(ndim(Linspace))\n",
    "print(size(Linspace))\n",
    "print(len(Linspace))\n",
    "print(shape(Linspace))  # 1 array, 1 Row & 3 Columns"
   ]
  },
  {
   "cell_type": "code",
   "execution_count": 75,
   "metadata": {},
   "outputs": [
    {
     "name": "stdout",
     "output_type": "stream",
     "text": [
      "[[[ 5.  8. 11.]]]\n",
      "float64\n",
      "<class 'numpy.ndarray'>\n",
      "3\n",
      "3\n",
      "1\n",
      "(1, 1, 3)\n"
     ]
    }
   ],
   "source": [
    "# Hey you, Check the output result here.. They are inside a 1D List Array\n",
    "Linspace2=linspace(start=5, stop=11, num=3, endpoint=False).reshape([1,1,3]) #5 is start, 11 is stop, 3 is no of elements, endpoint=False (exclude endpoint)\n",
    "print(Linspace)\n",
    "print(Linspace.dtype)\n",
    "print(type(Linspace))\n",
    "print(ndim(Linspace))\n",
    "print(size(Linspace))\n",
    "print(len(Linspace))\n",
    "print(shape(Linspace)) # 1 array, 1 Row & 3 Columns    #11 endpoint has been excluded #by default outcomes are in float"
   ]
  },
  {
   "cell_type": "code",
   "execution_count": 76,
   "metadata": {},
   "outputs": [
    {
     "name": "stdout",
     "output_type": "stream",
     "text": [
      "(array([5.0, 8.0, 11.0], dtype=object), 3.0)\n",
      "<class 'tuple'>\n",
      "1\n",
      "2\n",
      "2\n",
      "(2,)\n"
     ]
    },
    {
     "name": "stderr",
     "output_type": "stream",
     "text": [
      "D:\\Anwesh\\D_Program_Files\\Miniconda3\\envs\\ML\\lib\\site-packages\\numpy\\core\\fromnumeric.py:3208: VisibleDeprecationWarning: Creating an ndarray from ragged nested sequences (which is a list-or-tuple of lists-or-tuples-or ndarrays with different lengths or shapes) is deprecated. If you meant to do this, you must specify 'dtype=object' when creating the ndarray.\n",
      "  return asarray(a).size\n",
      "D:\\Anwesh\\D_Program_Files\\Miniconda3\\envs\\ML\\lib\\site-packages\\numpy\\core\\fromnumeric.py:1970: VisibleDeprecationWarning: Creating an ndarray from ragged nested sequences (which is a list-or-tuple of lists-or-tuples-or ndarrays with different lengths or shapes) is deprecated. If you meant to do this, you must specify 'dtype=object' when creating the ndarray.\n",
      "  result = asarray(a).shape\n"
     ]
    }
   ],
   "source": [
    "#retstep=True it converts the result into a 1D Tuple Array\n",
    "#If you provide retstep=True command, .reshape() & array.dtype commands don't work\n",
    "#.reshape() command dont works with Tuple Array\n",
    "#array.dtype commands dont works along with retstep=True command when the output is in Tuple Array\n",
    "#.reshape() & retstep=True commands never work together at any circumstances of linspace() function\n",
    "Linspace3=linspace(start=5, stop=11, num=3, retstep=True, dtype=object) #5 is start, 11 is stop, 3 is no of elements, retstep=True will show the step value\n",
    "print(Linspace3)\n",
    "# print(Linspace3.dtype)\n",
    "print(type(Linspace3))\n",
    "print(ndim(Linspace3))\n",
    "print(size(Linspace3))\n",
    "print(len(Linspace3))\n",
    "print(shape(Linspace3)) #3.0 is Step value     #by default outcomes are in float"
   ]
  },
  {
   "cell_type": "code",
   "execution_count": 77,
   "metadata": {},
   "outputs": [
    {
     "name": "stdout",
     "output_type": "stream",
     "text": [
      "(array([ 5.,  8., 11.]), 3.0)\n",
      "<class 'tuple'>\n",
      "1\n",
      "2\n",
      "2\n",
      "(2,)\n"
     ]
    }
   ],
   "source": [
    "#Linspace3.dtype this command has been removed\n",
    "#retstep=True it converts the result into a 1D Tuple Array\n",
    "#If you provide retstep=True command, .reshape() & array.dtype commands don't work\n",
    "#.reshape() command dont works with Tuple Array\n",
    "#array.dtype commands dont works along with retstep=True command when the output is in Tuple Array\n",
    "#.reshape() & retstep=True commands never work together at any circumstances of linspace() function\n",
    "Linspace3=linspace(5, 11, 3, retstep=True) #5 is start, 11 is stop, 3 is no of elements, retstep=True will show the step value\n",
    "print(Linspace3)\n",
    "print(type(Linspace3))\n",
    "print(ndim(Linspace3))\n",
    "print(size(Linspace3))\n",
    "print(len(Linspace3))\n",
    "print(shape(Linspace3)) #3.0 is Step value     #by default outcomes are in float"
   ]
  },
  {
   "cell_type": "code",
   "execution_count": 78,
   "metadata": {},
   "outputs": [
    {
     "name": "stdout",
     "output_type": "stream",
     "text": [
      "(array([ 5.,  8., 11.]), 3.0)\n",
      "<class 'tuple'>\n",
      "1\n",
      "2\n",
      "2\n",
      "(2,)\n"
     ]
    }
   ],
   "source": [
    "#If you provide retstep=True command, .reshape() & array.dtype commands don't work\n",
    "#retstep=True it converts the result into a 1D Tuple Array\n",
    "# Linspace3.dtype this command has been removed\n",
    "Linspace3=linspace(5, 11, 3, retstep=True) #5 is start, 11 is stop, 3 is no of elements, retstep=True will show the step value\n",
    "print(Linspace3)\n",
    "print(type(Linspace3))\n",
    "print(ndim(Linspace3))\n",
    "print(size(Linspace3))\n",
    "print(len(Linspace3))\n",
    "print(shape(Linspace3))    #3.0 is Step value   #by default outcomes are in float"
   ]
  },
  {
   "cell_type": "code",
   "execution_count": 79,
   "metadata": {},
   "outputs": [
    {
     "name": "stdout",
     "output_type": "stream",
     "text": [
      "(array([ 5.,  8., 11.]), 3.0)\n",
      "<class 'tuple'>\n",
      "1\n",
      "2\n",
      "2\n",
      "(2,)\n"
     ]
    }
   ],
   "source": [
    "#If you provide retstep=True command, .reshape() & array.dtype commands don't work\n",
    "#retstep=True it converts the result into a 1D Tuple Array\n",
    "Linspace3=linspace(5, 11, 3, retstep=True) #5 is start, 11 is stop, 3 is no of elements, retstep=True will show the step\n",
    "print(Linspace3)\n",
    "print(type(Linspace3))\n",
    "print(ndim(Linspace3))\n",
    "print(size(Linspace3))\n",
    "print(len(Linspace3))\n",
    "print(shape(Linspace3))    #3.0 is Step, #by default outcomes are in float"
   ]
  },
  {
   "cell_type": "code",
   "execution_count": 80,
   "metadata": {},
   "outputs": [
    {
     "name": "stdout",
     "output_type": "stream",
     "text": [
      "(array([ 5.,  8., 11.]), 3.0)\n",
      "<class 'tuple'>\n",
      "1\n",
      "2\n",
      "2\n",
      "(2,)\n"
     ]
    }
   ],
   "source": [
    "#If you provide retstep=True command, .reshape() & array.dtype commands don't work\n",
    "#retstep=True it converts the result into a 1D Tuple Array\n",
    "Linspace4=linspace(5, 11, 3, retstep=True, dtype=int) #5 is start, 11 is stop, 3 is no of elements, retstep=True will show the step\n",
    "print(Linspace3)\n",
    "print(type(Linspace4))\n",
    "print(ndim(Linspace4))\n",
    "print(size(Linspace4))\n",
    "print(len(Linspace4))\n",
    "print(shape(Linspace4))  #Showing 3 integers along with step"
   ]
  },
  {
   "cell_type": "code",
   "execution_count": 81,
   "metadata": {},
   "outputs": [
    {
     "name": "stdout",
     "output_type": "stream",
     "text": [
      "[[[ 1.         11.        ]\n",
      "  [ 1.44444444 10.33333333]\n",
      "  [ 1.88888889  9.66666667]\n",
      "  [ 2.33333333  9.        ]\n",
      "  [ 2.77777778  8.33333333]\n",
      "  [ 3.22222222  7.66666667]\n",
      "  [ 3.66666667  7.        ]\n",
      "  [ 4.11111111  6.33333333]\n",
      "  [ 4.55555556  5.66666667]\n",
      "  [ 5.          5.        ]]]\n",
      "<class 'numpy.ndarray'>\n",
      "3\n",
      "20\n",
      "1\n",
      "(1, 10, 2)\n"
     ]
    }
   ],
   "source": [
    "# Hey you, Check the output result here.. They are inside a 2D List Array\n",
    "#retstep=True it converts the result into a 2D Tuple Array\n",
    "#You cant use retstep=True command along with array.dtype command\n",
    "#If you provide retstep=True command, .reshape() & array.dtype commands don't work\n",
    "#.reshape() & retstep=True commands never work together at any circumstances of linspace() function\n",
    "Linspace=linspace([1,11], 5, num=10).reshape([1,10,2])                               #2D linspace array with 2 Lists\n",
    "print(Linspace)\n",
    "print(type(Linspace))\n",
    "print(ndim(Linspace))\n",
    "print(size(Linspace))\n",
    "print(len(Linspace))\n",
    "print(shape(Linspace)) #start=1, stop=5, num=10 for 1st List\n",
    "                       #start=11, stop=5, num=10 for 2nd List\n",
    "                       # 1 array, 10 Rows & 2 Columns"
   ]
  },
  {
   "cell_type": "code",
   "execution_count": 82,
   "metadata": {},
   "outputs": [
    {
     "name": "stdout",
     "output_type": "stream",
     "text": [
      "[[[ 1.          6.        ]\n",
      "  [ 1.08163265  6.08163265]\n",
      "  [ 1.16326531  6.16326531]\n",
      "  [ 1.24489796  6.24489796]\n",
      "  [ 1.32653061  6.32653061]\n",
      "  [ 1.40816327  6.40816327]\n",
      "  [ 1.48979592  6.48979592]\n",
      "  [ 1.57142857  6.57142857]\n",
      "  [ 1.65306122  6.65306122]\n",
      "  [ 1.73469388  6.73469388]\n",
      "  [ 1.81632653  6.81632653]\n",
      "  [ 1.89795918  6.89795918]\n",
      "  [ 1.97959184  6.97959184]\n",
      "  [ 2.06122449  7.06122449]\n",
      "  [ 2.14285714  7.14285714]\n",
      "  [ 2.2244898   7.2244898 ]\n",
      "  [ 2.30612245  7.30612245]\n",
      "  [ 2.3877551   7.3877551 ]\n",
      "  [ 2.46938776  7.46938776]\n",
      "  [ 2.55102041  7.55102041]\n",
      "  [ 2.63265306  7.63265306]\n",
      "  [ 2.71428571  7.71428571]\n",
      "  [ 2.79591837  7.79591837]\n",
      "  [ 2.87755102  7.87755102]\n",
      "  [ 2.95918367  7.95918367]\n",
      "  [ 3.04081633  8.04081633]\n",
      "  [ 3.12244898  8.12244898]\n",
      "  [ 3.20408163  8.20408163]\n",
      "  [ 3.28571429  8.28571429]\n",
      "  [ 3.36734694  8.36734694]\n",
      "  [ 3.44897959  8.44897959]\n",
      "  [ 3.53061224  8.53061224]\n",
      "  [ 3.6122449   8.6122449 ]\n",
      "  [ 3.69387755  8.69387755]\n",
      "  [ 3.7755102   8.7755102 ]\n",
      "  [ 3.85714286  8.85714286]\n",
      "  [ 3.93877551  8.93877551]\n",
      "  [ 4.02040816  9.02040816]\n",
      "  [ 4.10204082  9.10204082]\n",
      "  [ 4.18367347  9.18367347]\n",
      "  [ 4.26530612  9.26530612]\n",
      "  [ 4.34693878  9.34693878]\n",
      "  [ 4.42857143  9.42857143]\n",
      "  [ 4.51020408  9.51020408]\n",
      "  [ 4.59183673  9.59183673]\n",
      "  [ 4.67346939  9.67346939]\n",
      "  [ 4.75510204  9.75510204]\n",
      "  [ 4.83673469  9.83673469]\n",
      "  [ 4.91836735  9.91836735]\n",
      "  [ 5.         10.        ]]]\n",
      "<class 'numpy.ndarray'>\n",
      "3\n",
      "100\n",
      "1\n",
      "(1, 50, 2)\n"
     ]
    }
   ],
   "source": [
    "# Hey you, Check the output result here.. They are inside a 2D List Array\n",
    "#retstep=True it converts the result into a 2D Tuple Array\n",
    "#You cant use retstep=True command along with array.dtype command\n",
    "#If you provide retstep=True command, .reshape() & array.dtype commands don't work\n",
    "#.reshape() & retstep=True commands never work together at any circumstances of linspace() function\n",
    "# By default num=50\n",
    "Linspace=linspace([1,6], [5,10], num=50).reshape([1, 50, 2])                              #2D linspace array with 2 Lists\n",
    "print(Linspace)\n",
    "print(type(Linspace))\n",
    "print(ndim(Linspace))\n",
    "print(size(Linspace))\n",
    "print(len(Linspace))\n",
    "print(shape(Linspace)) #start=1, stop=5, num=50 for 1st List\n",
    "                       #start=6, stop=10, num=50 for 2nd List\n",
    "                       # 1 array, 50 Rows & 2 Columns"
   ]
  },
  {
   "cell_type": "code",
   "execution_count": 83,
   "metadata": {},
   "outputs": [
    {
     "name": "stdout",
     "output_type": "stream",
     "text": [
      "[[[ 1.          6.        ]\n",
      "  [ 1.08163265  6.08163265]\n",
      "  [ 1.16326531  6.16326531]\n",
      "  [ 1.24489796  6.24489796]\n",
      "  [ 1.32653061  6.32653061]\n",
      "  [ 1.40816327  6.40816327]\n",
      "  [ 1.48979592  6.48979592]\n",
      "  [ 1.57142857  6.57142857]\n",
      "  [ 1.65306122  6.65306122]\n",
      "  [ 1.73469388  6.73469388]\n",
      "  [ 1.81632653  6.81632653]\n",
      "  [ 1.89795918  6.89795918]\n",
      "  [ 1.97959184  6.97959184]\n",
      "  [ 2.06122449  7.06122449]\n",
      "  [ 2.14285714  7.14285714]\n",
      "  [ 2.2244898   7.2244898 ]\n",
      "  [ 2.30612245  7.30612245]\n",
      "  [ 2.3877551   7.3877551 ]\n",
      "  [ 2.46938776  7.46938776]\n",
      "  [ 2.55102041  7.55102041]\n",
      "  [ 2.63265306  7.63265306]\n",
      "  [ 2.71428571  7.71428571]\n",
      "  [ 2.79591837  7.79591837]\n",
      "  [ 2.87755102  7.87755102]\n",
      "  [ 2.95918367  7.95918367]\n",
      "  [ 3.04081633  8.04081633]\n",
      "  [ 3.12244898  8.12244898]\n",
      "  [ 3.20408163  8.20408163]\n",
      "  [ 3.28571429  8.28571429]\n",
      "  [ 3.36734694  8.36734694]\n",
      "  [ 3.44897959  8.44897959]\n",
      "  [ 3.53061224  8.53061224]\n",
      "  [ 3.6122449   8.6122449 ]\n",
      "  [ 3.69387755  8.69387755]\n",
      "  [ 3.7755102   8.7755102 ]\n",
      "  [ 3.85714286  8.85714286]\n",
      "  [ 3.93877551  8.93877551]\n",
      "  [ 4.02040816  9.02040816]\n",
      "  [ 4.10204082  9.10204082]\n",
      "  [ 4.18367347  9.18367347]\n",
      "  [ 4.26530612  9.26530612]\n",
      "  [ 4.34693878  9.34693878]\n",
      "  [ 4.42857143  9.42857143]\n",
      "  [ 4.51020408  9.51020408]\n",
      "  [ 4.59183673  9.59183673]\n",
      "  [ 4.67346939  9.67346939]\n",
      "  [ 4.75510204  9.75510204]\n",
      "  [ 4.83673469  9.83673469]\n",
      "  [ 4.91836735  9.91836735]\n",
      "  [ 5.         10.        ]]]\n",
      "<class 'numpy.ndarray'>\n",
      "3\n",
      "100\n",
      "1\n",
      "(1, 50, 2)\n"
     ]
    }
   ],
   "source": [
    "# Hey you, Check the output result here.. They are inside a 2D List Array\n",
    "#retstep=True it converts the result into a 2D Tuple Array\n",
    "#You cant use retstep=True command along with array.dtype command\n",
    "#If you provide retstep=True command, .reshape() & array.dtype commands don't work\n",
    "#.reshape() & retstep=True commands never work together at any circumstances of linspace() function\n",
    "Linspace=linspace([1,6], [5,10], num=50).reshape([1, 50, 2])                               #2D linspace array with 2 Lists\n",
    "print(Linspace)\n",
    "print(type(Linspace))\n",
    "print(ndim(Linspace))\n",
    "print(size(Linspace))\n",
    "print(len(Linspace))\n",
    "print(shape(Linspace))  #start=1, stop=5, num=50 for 1st List\n",
    "                        #start=6, stop=10, num=50 for 2nd List\n",
    "                        # 1 array, 50 Rows & 2 Columns"
   ]
  },
  {
   "cell_type": "code",
   "execution_count": 84,
   "metadata": {},
   "outputs": [
    {
     "name": "stdout",
     "output_type": "stream",
     "text": [
      "[[[ 1.         11.          1.44444444 10.33333333  1.88888889]\n",
      "  [ 9.66666667  2.33333333  9.          2.77777778  8.33333333]\n",
      "  [ 3.22222222  7.66666667  3.66666667  7.          4.11111111]\n",
      "  [ 6.33333333  4.55555556  5.66666667  5.          5.        ]]]\n",
      "<class 'numpy.ndarray'>\n",
      "3\n",
      "20\n",
      "1\n",
      "(1, 4, 5)\n"
     ]
    }
   ],
   "source": [
    "# Hey you, Check the output result here.. They are inside a 2D List Array\n",
    "#retstep=True it converts the result into a 2D Tuple Array\n",
    "#If you provide retstep=True command, .reshape() & array.dtype commands don't work\n",
    "#You cant use retstep=True command along with array.dtype command\n",
    "#.reshape() & retstep=True commands never work together at any circumstances of linspace() function\n",
    "Linspace=linspace([1,11], 5, num=10).reshape([1,4,5])     #2D linspace array with 2 Lists\n",
    "print(Linspace)\n",
    "print(type(Linspace))\n",
    "print(ndim(Linspace))    \n",
    "print(size(Linspace))\n",
    "print(len(Linspace))\n",
    "print(shape(Linspace)) #start=1, stop=5, num=10 for 1st List, step value=0.44444444\n",
    "                       #start=11, stop=5, num=10 for 2nd List, step value=-0.66666667\n",
    "                       # 1 Array, 4 Rows & 5 Columns"
   ]
  },
  {
   "cell_type": "code",
   "execution_count": 85,
   "metadata": {},
   "outputs": [
    {
     "name": "stdout",
     "output_type": "stream",
     "text": [
      "(array([[ 1.        , 11.        ],\n",
      "       [ 1.44444444, 10.33333333],\n",
      "       [ 1.88888889,  9.66666667],\n",
      "       [ 2.33333333,  9.        ],\n",
      "       [ 2.77777778,  8.33333333],\n",
      "       [ 3.22222222,  7.66666667],\n",
      "       [ 3.66666667,  7.        ],\n",
      "       [ 4.11111111,  6.33333333],\n",
      "       [ 4.55555556,  5.66666667],\n",
      "       [ 5.        ,  5.        ]]), array([ 0.44444444, -0.66666667]))\n",
      "<class 'tuple'>\n",
      "1\n",
      "2\n",
      "2\n",
      "(2,)\n"
     ]
    }
   ],
   "source": [
    "# .reshape() command got removed\n",
    "# Hey you, Check the output result here.. They are inside a 2D List Array\n",
    "#retstep=True it converts the result into a 2D Tuple Array\n",
    "#If you provide retstep=True command, .reshape() & array.dtype commands don't work\n",
    "#You cant use retstep=True command along with array.dtype command\n",
    "#.reshape() & retstep=True commands never work together at any circumstances of linspace() function\n",
    "Linspace=linspace([1,11], 5, 10, retstep=True)                  #2D linspace array with 2 Lists\n",
    "print(Linspace)\n",
    "print(type(Linspace))\n",
    "print(ndim(Linspace))    \n",
    "print(size(Linspace))\n",
    "print(len(Linspace))\n",
    "print(shape(Linspace)) #start=1, stop=5, num=10 for 1st List, step value=0.44444444\n",
    "                                                             #start=11, stop=5, num=10 for 2nd List, step value=-0.66666667"
   ]
  },
  {
   "cell_type": "code",
   "execution_count": 86,
   "metadata": {},
   "outputs": [
    {
     "name": "stdout",
     "output_type": "stream",
     "text": [
      "[[[ 1.         11.          1.44444444 10.33333333  1.88888889]\n",
      "  [ 9.66666667  2.33333333  9.          2.77777778  8.33333333]\n",
      "  [ 3.22222222  7.66666667  3.66666667  7.          4.11111111]\n",
      "  [ 6.33333333  4.55555556  5.66666667  5.          5.        ]]]\n",
      "<class 'numpy.ndarray'>\n",
      "3\n",
      "20\n",
      "1\n",
      "(1, 4, 5)\n"
     ]
    }
   ],
   "source": [
    "# retstep=True command got removed\n",
    "# Hey you, Check the output result here.. They are inside a 2D List Array\n",
    "#retstep=True it converts the result into a 2D Tuple Array\n",
    "#If you provide retstep=True command, .reshape() & array.dtype commands don't work\n",
    "#You cant use retstep=True command along with array.dtype command\n",
    "#.reshape() & retstep=True commands never work together at any circumstances of linspace() function\n",
    "Linspace=linspace([1,11], 5, 10).reshape([1,4,5])     #2D linspace array with 2 Lists\n",
    "print(Linspace)\n",
    "print(type(Linspace))\n",
    "print(ndim(Linspace))    \n",
    "print(size(Linspace))   # 1 Array, 4 Rows & 5 Columns\n",
    "print(len(Linspace))\n",
    "print(shape(Linspace)) #start=1, stop=5, num=10 for 1st List, step value=0.44444444\n",
    "                                                             #start=11, stop=5, num=10 for 2nd List, step value=-0.66666667"
   ]
  },
  {
   "cell_type": "code",
   "execution_count": 87,
   "metadata": {},
   "outputs": [
    {
     "name": "stdout",
     "output_type": "stream",
     "text": [
      "(array([[ 1.        +0.j, 11.        +0.j],\n",
      "       [ 1.44444444+0.j, 10.33333333+0.j],\n",
      "       [ 1.88888889+0.j,  9.66666667+0.j],\n",
      "       [ 2.33333333+0.j,  9.        +0.j],\n",
      "       [ 2.77777778+0.j,  8.33333333+0.j],\n",
      "       [ 3.22222222+0.j,  7.66666667+0.j],\n",
      "       [ 3.66666667+0.j,  7.        +0.j],\n",
      "       [ 4.11111111+0.j,  6.33333333+0.j],\n",
      "       [ 4.55555556+0.j,  5.66666667+0.j],\n",
      "       [ 5.        +0.j,  5.        +0.j]]), array([ 0.44444444, -0.66666667]))\n",
      "<class 'tuple'>\n",
      "1\n",
      "2\n",
      "2\n",
      "(2,)\n"
     ]
    }
   ],
   "source": [
    "# Hey you, Check the output result here.. They are inside a 2D List Array\n",
    "#retstep=True it converts the result into a 2D Tuple Array\n",
    "#If you provide retstep=True command, .reshape() & array.dtype commands don't work\n",
    "Linspace=linspace([1,11], 5, 10, retstep=True, dtype=complex) #2D linspace array with 2 Lists, dtype=complex\n",
    "print(Linspace)\n",
    "print(type(Linspace))\n",
    "print(ndim(Linspace))    \n",
    "print(size(Linspace))\n",
    "print(len(Linspace))\n",
    "print(shape(Linspace))                                           #start=1, stop=5, num=10 for 1st List, step value=0.44444444\n",
    "                                                          #start=11, stop=5, num=10 for 2nd List, step value=-0.66666667"
   ]
  },
  {
   "cell_type": "code",
   "execution_count": 88,
   "metadata": {},
   "outputs": [
    {
     "name": "stdout",
     "output_type": "stream",
     "text": [
      "(array([[ 1.        , 11.        ],\n",
      "       [ 1.44444444, 10.33333333],\n",
      "       [ 1.88888889,  9.66666667],\n",
      "       [ 2.33333333,  9.        ],\n",
      "       [ 2.77777778,  8.33333333],\n",
      "       [ 3.22222222,  7.66666667],\n",
      "       [ 3.66666667,  7.        ],\n",
      "       [ 4.11111111,  6.33333333],\n",
      "       [ 4.55555556,  5.66666667],\n",
      "       [ 5.        ,  5.        ]]), array([ 0.44444444, -0.66666667]))\n",
      "<class 'tuple'>\n",
      "1\n",
      "2\n",
      "2\n",
      "(2,)\n"
     ]
    }
   ],
   "source": [
    "# Hey you, Check the output result here.. They are inside a 2D List Array\n",
    "#retstep=True it converts the result into a 2D Tuple Array\n",
    "#If you provide retstep=True command, .reshape() & array.dtype commands don't work\n",
    "Linspace=linspace((1,11), 5, 10, retstep=True) #2D linspace array with 2 Tuples\n",
    "print(Linspace)\n",
    "print(type(Linspace))\n",
    "print(ndim(Linspace))    \n",
    "print(size(Linspace))\n",
    "print(len(Linspace))\n",
    "print(shape(Linspace))                      #start=1, stop=5, num=10 for 1st Tuple, step value=0.44444444\n",
    "                                            #start=11, stop=5, num=10 for 2nd Tuple, step value=-0.66666667"
   ]
  },
  {
   "cell_type": "code",
   "execution_count": 89,
   "metadata": {},
   "outputs": [
    {
     "name": "stdout",
     "output_type": "stream",
     "text": [
      "(array([[ 1.        , 11.        ],\n",
      "       [ 1.44444444, 10.33333333],\n",
      "       [ 1.88888889,  9.66666667],\n",
      "       [ 2.33333333,  9.        ],\n",
      "       [ 2.77777778,  8.33333333],\n",
      "       [ 3.22222222,  7.66666667],\n",
      "       [ 3.66666667,  7.        ],\n",
      "       [ 4.11111111,  6.33333333],\n",
      "       [ 4.55555556,  5.66666667],\n",
      "       [ 5.        ,  5.        ]]), array([ 0.44444444, -0.66666667]))\n",
      "<class 'tuple'>\n",
      "1\n",
      "2\n",
      "2\n",
      "(2,)\n"
     ]
    }
   ],
   "source": [
    "# Hey you, Check the output result here.. They are inside a 2D List Array\n",
    "#retstep=True it converts the result into a 2D Tuple Array\n",
    "#If you provide retstep=True command, .reshape() & array.dtype commands don't work\n",
    "Linspace=linspace((1,11), 5, 10, retstep=True) #2D linspace array with 2 Tuples\n",
    "print(Linspace)\n",
    "print(type(Linspace))\n",
    "print(ndim(Linspace))    \n",
    "print(size(Linspace))\n",
    "print(len(Linspace))\n",
    "print(shape(Linspace))                               #start=1, stop=5, num=10 for 1st Tuple, step value=0.44444444\n",
    "                                            #start=11, stop=5, num=10 for 2nd Tuple, step value=-0.66666667"
   ]
  },
  {
   "cell_type": "code",
   "execution_count": 90,
   "metadata": {},
   "outputs": [
    {
     "name": "stdout",
     "output_type": "stream",
     "text": [
      "[[[ 1.        +0.j 11.        +0.j  1.44444444+0.j 10.33333333+0.j\n",
      "    1.88888889+0.j]\n",
      "  [ 9.66666667+0.j  2.33333333+0.j  9.        +0.j  2.77777778+0.j\n",
      "    8.33333333+0.j]\n",
      "  [ 3.22222222+0.j  7.66666667+0.j  3.66666667+0.j  7.        +0.j\n",
      "    4.11111111+0.j]\n",
      "  [ 6.33333333+0.j  4.55555556+0.j  5.66666667+0.j  5.        +0.j\n",
      "    5.        +0.j]]]\n",
      "<class 'numpy.ndarray'>\n",
      "3\n",
      "20\n",
      "1\n",
      "(1, 4, 5)\n"
     ]
    }
   ],
   "source": [
    "# Hey you, Check the output result here.. They are inside a 2D List Array\n",
    "#retstep=True it converts the result into a 2D Tuple Array\n",
    "#If you provide retstep=True command, .reshape() & array.dtype commands don't work\n",
    "Linspace=linspace([1,11], 5, 10, dtype=complex).reshape([1,4,5]) #2D linspace array with 2 Lists, dtype=complex\n",
    "print(Linspace)\n",
    "print(type(Linspace))\n",
    "print(ndim(Linspace))    \n",
    "print(size(Linspace))   # 1 array, 4 Rows & 5 Columns\n",
    "print(len(Linspace))\n",
    "print(shape(Linspace))                                            #start=1, stop=5, num=10 for 1st List\n",
    "                                                          #start=11, stop=5, num=10 for 2nd List\n",
    "                                                          #4 rows & 5 columns"
   ]
  },
  {
   "cell_type": "code",
   "execution_count": 91,
   "metadata": {},
   "outputs": [
    {
     "name": "stdout",
     "output_type": "stream",
     "text": [
      "(array([[ 1.        , 11.        ],\n",
      "       [ 1.44444444, 10.33333333],\n",
      "       [ 1.88888889,  9.66666667],\n",
      "       [ 2.33333333,  9.        ],\n",
      "       [ 2.77777778,  8.33333333],\n",
      "       [ 3.22222222,  7.66666667],\n",
      "       [ 3.66666667,  7.        ],\n",
      "       [ 4.11111111,  6.33333333],\n",
      "       [ 4.55555556,  5.66666667],\n",
      "       [ 5.        ,  5.        ]]), array([ 0.44444444, -0.66666667]))\n",
      "<class 'tuple'>\n",
      "1\n",
      "2\n",
      "2\n",
      "(2,)\n"
     ]
    }
   ],
   "source": [
    "# Hey you, Check the output result here.. They are inside a 2D List Array\n",
    "#retstep=True it converts the result into a 2D Tuple Array\n",
    "#If you provide retstep=True command, .reshape() & array.dtype commands don't work\n",
    "Linspace=linspace([1,11], 5, 10, retstep=True) #2D linspace array with 2 Lists\n",
    "print(Linspace)\n",
    "print(type(Linspace))\n",
    "print(ndim(Linspace))    \n",
    "print(size(Linspace))\n",
    "print(len(Linspace))\n",
    "print(shape(Linspace))                                            #start=1, stop=5, num=10 for 1st List\n",
    "                                                         #start=11, stop=5, num=10 for 2nd List\n",
    "                                                         #4 rows & 5 columns"
   ]
  },
  {
   "cell_type": "code",
   "execution_count": 92,
   "metadata": {},
   "outputs": [
    {
     "name": "stdout",
     "output_type": "stream",
     "text": [
      "[[[ 1.         11.          1.44444444 10.33333333  1.88888889]\n",
      "  [ 9.66666667  2.33333333  9.          2.77777778  8.33333333]\n",
      "  [ 3.22222222  7.66666667  3.66666667  7.          4.11111111]\n",
      "  [ 6.33333333  4.55555556  5.66666667  5.          5.        ]]]\n",
      "<class 'numpy.ndarray'>\n",
      "3\n",
      "20\n",
      "1\n",
      "(1, 4, 5)\n"
     ]
    }
   ],
   "source": [
    "# Hey you, Check the output result here.. They are inside a 2D List Array\n",
    "#retstep=True it converts the result into a 2D Tuple Array\n",
    "#If you provide retstep=True command, .reshape() & array.dtype commands don't work\n",
    "Linspace=linspace((1,11), 5, 10).reshape([1,4,5]) #2D linspace array with 2 Tuples\n",
    "print(Linspace)\n",
    "print(type(Linspace))\n",
    "print(ndim(Linspace))    \n",
    "print(size(Linspace))  # 1 array, 4 Rows & 5 Columns\n",
    "print(len(Linspace))\n",
    "print(shape(Linspace))                              #start=1, stop=5, num=10 for 1st Tuple\n",
    "                                            #start=11, stop=5, num=10 for 2nd Tuple\n",
    "                                            #4 rows & 5 columns"
   ]
  },
  {
   "cell_type": "code",
   "execution_count": 93,
   "metadata": {},
   "outputs": [
    {
     "name": "stdout",
     "output_type": "stream",
     "text": [
      "(array([[ 1.        , 11.        ],\n",
      "       [ 1.44444444, 10.33333333],\n",
      "       [ 1.88888889,  9.66666667],\n",
      "       [ 2.33333333,  9.        ],\n",
      "       [ 2.77777778,  8.33333333],\n",
      "       [ 3.22222222,  7.66666667],\n",
      "       [ 3.66666667,  7.        ],\n",
      "       [ 4.11111111,  6.33333333],\n",
      "       [ 4.55555556,  5.66666667],\n",
      "       [ 5.        ,  5.        ]]), array([ 0.44444444, -0.66666667]))\n",
      "<class 'tuple'>\n",
      "1\n",
      "2\n",
      "2\n",
      "(2,)\n"
     ]
    }
   ],
   "source": [
    "# Hey you, Check the output result here.. They are inside a 2D List Array\n",
    "#retstep=True it converts the result into a 2D Tuple Array\n",
    "#If you provide retstep=True command, .reshape() & array.dtype commands don't work\n",
    "\n",
    "Linspace=linspace([1,11], 5, 10, retstep=True)\n",
    "print(Linspace)\n",
    "print(type(Linspace))\n",
    "print(ndim(Linspace))    \n",
    "print(size(Linspace))\n",
    "print(len(Linspace))\n",
    "print(shape(Linspace))   #Step 0.44444444 for 1st List, Step -0.66666667 for 2nd List"
   ]
  },
  {
   "cell_type": "code",
   "execution_count": 94,
   "metadata": {},
   "outputs": [
    {
     "name": "stdout",
     "output_type": "stream",
     "text": [
      "(array([[ 1.        , 11.        ],\n",
      "       [ 1.44444444, 10.33333333],\n",
      "       [ 1.88888889,  9.66666667],\n",
      "       [ 2.33333333,  9.        ],\n",
      "       [ 2.77777778,  8.33333333],\n",
      "       [ 3.22222222,  7.66666667],\n",
      "       [ 3.66666667,  7.        ],\n",
      "       [ 4.11111111,  6.33333333],\n",
      "       [ 4.55555556,  5.66666667],\n",
      "       [ 5.        ,  5.        ]]), array([ 0.44444444, -0.66666667]))\n",
      "<class 'tuple'>\n",
      "1\n",
      "2\n",
      "2\n",
      "(2,)\n"
     ]
    }
   ],
   "source": [
    "# Hey you, Check the output result here.. They are inside a 2D List Array\n",
    "#retstep=True it converts the result into a 2D Tuple Array\n",
    "#If you provide retstep=True command, .reshape() & array.dtype commands don't work\n",
    "Linspace=linspace((1,11), 5, 10, retstep=True)\n",
    "print(Linspace)\n",
    "print(type(Linspace))\n",
    "print(ndim(Linspace))    \n",
    "print(size(Linspace))\n",
    "print(len(Linspace))\n",
    "print(shape(Linspace))   #Step 0.44444444 for 1st Tuple, Step -0.66666667 for 2nd Tuple"
   ]
  },
  {
   "cell_type": "code",
   "execution_count": 95,
   "metadata": {},
   "outputs": [
    {
     "name": "stdout",
     "output_type": "stream",
     "text": [
      "(array([[ 1.        , 11.        ],\n",
      "       [ 2.11111111, 12.11111111],\n",
      "       [ 3.22222222, 13.22222222],\n",
      "       [ 4.33333333, 14.33333333],\n",
      "       [ 5.44444444, 15.44444444],\n",
      "       [ 6.55555556, 16.55555556],\n",
      "       [ 7.66666667, 17.66666667],\n",
      "       [ 8.77777778, 18.77777778],\n",
      "       [ 9.88888889, 19.88888889],\n",
      "       [11.        , 21.        ]]), array([1.11111111, 1.11111111]))\n",
      "<class 'tuple'>\n",
      "1\n",
      "2\n",
      "2\n",
      "(2,)\n"
     ]
    }
   ],
   "source": [
    "# Hey you, Check the output result here.. They are inside a 2D List Array\n",
    "#retstep=True it converts the result into a 2D Tuple Array\n",
    "#If you provide retstep=True command, .reshape() & array.dtype commands don't work\n",
    "Linspace=linspace((1,11), (11,21), 10, retstep=True)  #2D linspace array with 2 Tuples\n",
    "print(Linspace)\n",
    "print(type(Linspace))\n",
    "print(ndim(Linspace))    \n",
    "print(size(Linspace))\n",
    "print(len(Linspace))\n",
    "print(shape(Linspace))                                      #start=1, stop=11, num=10 for 1st Tuple, step value=1.11111111\n",
    "                                                   #start=11, stop=21, num=10 for 2nd Tuple, step value=1.11111111"
   ]
  },
  {
   "cell_type": "code",
   "execution_count": 96,
   "metadata": {},
   "outputs": [
    {
     "name": "stdout",
     "output_type": "stream",
     "text": [
      "[[[ 1.         11.          2.11111111 12.11111111  3.22222222]\n",
      "  [13.22222222  4.33333333 14.33333333  5.44444444 15.44444444]\n",
      "  [ 6.55555556 16.55555556  7.66666667 17.66666667  8.77777778]\n",
      "  [18.77777778  9.88888889 19.88888889 11.         21.        ]]]\n",
      "<class 'numpy.ndarray'>\n",
      "3\n",
      "20\n",
      "1\n",
      "(1, 4, 5)\n"
     ]
    }
   ],
   "source": [
    "# Hey you, Check the output result here.. They are inside a 2D List Array\n",
    "#retstep=True it converts the result into a 2D Tuple Array\n",
    "#If you provide retstep=True command, .reshape() & array.dtype commands don't work\n",
    "Linspace=linspace((1,11), (11,21), num=10).reshape([1,4,5])  #2D linspace array with 2 Tuples\n",
    "print(Linspace)\n",
    "print(type(Linspace))\n",
    "print(ndim(Linspace))    \n",
    "print(size(Linspace))  # 1 array, 4 Rows & 5 Columns\n",
    "print(len(Linspace))\n",
    "print(shape(Linspace))                                      #start=1, stop=11, num=10 for 1st Tuple, step value=1.11111111\n",
    "                                                   #start=11, stop=21, num=10 for 2nd Tuple, step value=1.11111111"
   ]
  },
  {
   "cell_type": "code",
   "execution_count": 97,
   "metadata": {},
   "outputs": [
    {
     "name": "stdout",
     "output_type": "stream",
     "text": [
      "[[[ 1.         11.          2.11111111 12.11111111  3.22222222]\n",
      "  [13.22222222  4.33333333 14.33333333  5.44444444 15.44444444]\n",
      "  [ 6.55555556 16.55555556  7.66666667 17.66666667  8.77777778]\n",
      "  [18.77777778  9.88888889 19.88888889 11.         21.        ]]]\n",
      "<class 'numpy.ndarray'>\n",
      "3\n",
      "20\n",
      "1\n",
      "(1, 4, 5)\n"
     ]
    }
   ],
   "source": [
    "# Hey you, Check the output result here.. They are inside a 2D List Array\n",
    "#retstep=True it converts the result into a 2D Tuple Array\n",
    "#If you provide retstep=True command, .reshape() & array.dtype commands don't work\n",
    "Linspace=linspace((1,11), (11,21), num=10).reshape([1,4,5])  #2D linspace array with 2 Tuples\n",
    "print(Linspace)\n",
    "print(type(Linspace))\n",
    "print(ndim(Linspace))    \n",
    "print(size(Linspace)) # 1 array, 4 Rows & 5 Columns\n",
    "print(len(Linspace))\n",
    "print(shape(Linspace))                                     #start=1, stop=11, num=10 for 1st Tuple, step value=1.11111111\n",
    "                                                   #start=11, stop=21, num=10 for 2nd Tuple, step value=1.11111111\n",
    "                                                   #4 rows & 5 columns"
   ]
  },
  {
   "cell_type": "code",
   "execution_count": 98,
   "metadata": {},
   "outputs": [
    {
     "name": "stdout",
     "output_type": "stream",
     "text": [
      "[[[ 1.         11.          2.11111111 12.11111111]\n",
      "  [ 3.22222222 13.22222222  4.33333333 14.33333333]\n",
      "  [ 5.44444444 15.44444444  6.55555556 16.55555556]\n",
      "  [ 7.66666667 17.66666667  8.77777778 18.77777778]\n",
      "  [ 9.88888889 19.88888889 11.         21.        ]]]\n",
      "<class 'numpy.ndarray'>\n",
      "3\n",
      "20\n",
      "1\n",
      "(1, 5, 4)\n"
     ]
    }
   ],
   "source": [
    "# Hey you, Check the output result here.. They are inside a 2D List Array\n",
    "#retstep=True it converts the result into a 2D Tuple Array\n",
    "#If you provide retstep=True command, .reshape() & array.dtype commands don't work\n",
    "Linspace=linspace((1,11), (11,21), num=10).reshape([1,5,4])  #2D linspace array with 2 Tuples\n",
    "print(Linspace)\n",
    "print(type(Linspace))\n",
    "print(ndim(Linspace))    \n",
    "print(size(Linspace)) # 1 array, 5 Rows & 4 Columns\n",
    "print(len(Linspace))\n",
    "print(shape(Linspace))                                     #start=1, stop=11, num=10 for 1st Tuple, step value=1.11111111\n",
    "                                                   #start=11, stop=21, num=10 for 2nd Tuple, step value=1.11111111\n",
    "                                                   #4 rows & 5 columns"
   ]
  },
  {
   "cell_type": "code",
   "execution_count": 99,
   "metadata": {},
   "outputs": [
    {
     "name": "stdout",
     "output_type": "stream",
     "text": [
      "[[[ 1.         11.          1.20408163 11.20408163  1.40816327\n",
      "   11.40816327  1.6122449  11.6122449   1.81632653 11.81632653]\n",
      "  [ 2.02040816 12.02040816  2.2244898  12.2244898   2.42857143\n",
      "   12.42857143  2.63265306 12.63265306  2.83673469 12.83673469]\n",
      "  [ 3.04081633 13.04081633  3.24489796 13.24489796  3.44897959\n",
      "   13.44897959  3.65306122 13.65306122  3.85714286 13.85714286]\n",
      "  [ 4.06122449 14.06122449  4.26530612 14.26530612  4.46938776\n",
      "   14.46938776  4.67346939 14.67346939  4.87755102 14.87755102]\n",
      "  [ 5.08163265 15.08163265  5.28571429 15.28571429  5.48979592\n",
      "   15.48979592  5.69387755 15.69387755  5.89795918 15.89795918]\n",
      "  [ 6.10204082 16.10204082  6.30612245 16.30612245  6.51020408\n",
      "   16.51020408  6.71428571 16.71428571  6.91836735 16.91836735]\n",
      "  [ 7.12244898 17.12244898  7.32653061 17.32653061  7.53061224\n",
      "   17.53061224  7.73469388 17.73469388  7.93877551 17.93877551]\n",
      "  [ 8.14285714 18.14285714  8.34693878 18.34693878  8.55102041\n",
      "   18.55102041  8.75510204 18.75510204  8.95918367 18.95918367]\n",
      "  [ 9.16326531 19.16326531  9.36734694 19.36734694  9.57142857\n",
      "   19.57142857  9.7755102  19.7755102   9.97959184 19.97959184]\n",
      "  [10.18367347 20.18367347 10.3877551  20.3877551  10.59183673\n",
      "   20.59183673 10.79591837 20.79591837 11.         21.        ]]]\n",
      "<class 'numpy.ndarray'>\n",
      "3\n",
      "100\n",
      "1\n",
      "(1, 10, 10)\n"
     ]
    }
   ],
   "source": [
    "# Hey you, Check the output result here.. They are inside a 2D List Array\n",
    "#retstep=True it converts the result into a 2D Tuple Array\n",
    "#If you provide retstep=True command, .reshape() & array.dtype commands don't work\n",
    "Linspace=linspace((1,11), (11,21), num=50).reshape([1,10,10])  #2D linspace array with 2 Tuples\n",
    "print(Linspace)\n",
    "print(type(Linspace))\n",
    "print(ndim(Linspace))    \n",
    "print(size(Linspace)) # 1 array, 10 Rows & 10 Columns\n",
    "print(len(Linspace))\n",
    "print(shape(Linspace))                                     #start=1, stop=11, num=10 for 1st Tuple, step value=1.11111111\n",
    "                                                   #start=11, stop=21, num=10 for 2nd Tuple, step value=1.11111111\n",
    "                                                   #4 rows & 5 columns"
   ]
  },
  {
   "cell_type": "code",
   "execution_count": 100,
   "metadata": {},
   "outputs": [
    {
     "name": "stdout",
     "output_type": "stream",
     "text": [
      "[[[ 1.         11.          2.11111111 12.11111111]\n",
      "  [ 3.22222222 13.22222222  4.33333333 14.33333333]\n",
      "  [ 5.44444444 15.44444444  6.55555556 16.55555556]\n",
      "  [ 7.66666667 17.66666667  8.77777778 18.77777778]\n",
      "  [ 9.88888889 19.88888889 11.         21.        ]]]\n",
      "<class 'numpy.ndarray'>\n",
      "3\n",
      "20\n",
      "1\n",
      "(1, 5, 4)\n"
     ]
    }
   ],
   "source": [
    "# Hey you, Check the output result here.. They are inside a 2D List Array\n",
    "#retstep=True it converts the result into a 2D Tuple Array\n",
    "#If you provide retstep=True command, .reshape() & array.dtype commands don't work\n",
    "Linspace=linspace((1,11), (11,21), num=10).reshape([1,5,4])  #2D linspace array with 2 Tuples\n",
    "print(Linspace)\n",
    "print(type(Linspace))\n",
    "print(ndim(Linspace))    \n",
    "print(size(Linspace)) # 1 array, 5 Rows & 4 Columns\n",
    "print(len(Linspace))\n",
    "print(shape(Linspace))                                     #start=1, stop=11, num=10 for 1st Tuple, step value=1.11111111\n",
    "                                                   #start=11, stop=21, num=10 for 2nd Tuple, step value=1.11111111\n",
    "                                                   #4 rows & 5 columns"
   ]
  },
  {
   "cell_type": "code",
   "execution_count": 101,
   "metadata": {},
   "outputs": [
    {
     "name": "stdout",
     "output_type": "stream",
     "text": [
      "[[[ 1.        +0.j 11.        +0.j  2.11111111+0.j 12.11111111+0.j\n",
      "    3.22222222+0.j]\n",
      "  [13.22222222+0.j  4.33333333+0.j 14.33333333+0.j  5.44444444+0.j\n",
      "   15.44444444+0.j]\n",
      "  [ 6.55555556+0.j 16.55555556+0.j  7.66666667+0.j 17.66666667+0.j\n",
      "    8.77777778+0.j]\n",
      "  [18.77777778+0.j  9.88888889+0.j 19.88888889+0.j 11.        +0.j\n",
      "   21.        +0.j]]]\n",
      "<class 'numpy.ndarray'>\n",
      "3\n",
      "20\n",
      "1\n",
      "(1, 4, 5)\n"
     ]
    }
   ],
   "source": [
    "# Hey you, Check the output result here.. They are inside a 2D List Array\n",
    "#retstep=True it converts the result into a 2D Tuple Array\n",
    "#If you provide retstep=True command, .reshape() & array.dtype commands don't work\n",
    "Linspace=linspace((1,11), (11,21), num=10, dtype=complex).reshape([1,4,5])  #2D linspace array with 2 Tuples, dtype=complex\n",
    "print(Linspace)\n",
    "print(type(Linspace))\n",
    "print(ndim(Linspace))    \n",
    "print(size(Linspace)) # 1 array, 4 Rows & 5 Columns\n",
    "print(len(Linspace))\n",
    "print(shape(Linspace))                                                   #start=1, stop=11, num=10 for 1st Tuple, step value=1.11111111\n",
    "                                                                 #start=11, stop=21, num=10 for 2nd Tuple, step value=1.11111111\n",
    "                                                                 #4 rows & 5 columns"
   ]
  },
  {
   "cell_type": "code",
   "execution_count": 102,
   "metadata": {},
   "outputs": [
    {
     "name": "stdout",
     "output_type": "stream",
     "text": [
      "[[[ 1.         11.        ]\n",
      "  [ 2.11111111 12.11111111]\n",
      "  [ 3.22222222 13.22222222]\n",
      "  [ 4.33333333 14.33333333]\n",
      "  [ 5.44444444 15.44444444]\n",
      "  [ 6.55555556 16.55555556]\n",
      "  [ 7.66666667 17.66666667]\n",
      "  [ 8.77777778 18.77777778]\n",
      "  [ 9.88888889 19.88888889]\n",
      "  [11.         21.        ]]]\n",
      "<class 'numpy.ndarray'>\n",
      "3\n",
      "20\n",
      "1\n",
      "(1, 10, 2)\n"
     ]
    }
   ],
   "source": [
    "# Hey you, Check the output result here.. They are inside a 2D List Array\n",
    "#retstep=True it converts the result into a 2D Tuple Array\n",
    "#If you provide retstep=True command, .reshape() & array.dtype commands don't work\n",
    "Linspace=linspace(start=[1,11], stop=[11,21], num=10).reshape([1,10,2]) #2D linspace array with 2 Lists\n",
    "print(Linspace)\n",
    "print(type(Linspace))\n",
    "print(ndim(Linspace))    \n",
    "print(size(Linspace)) # 1 array, 10 Rows & 2 Columns\n",
    "print(len(Linspace))\n",
    "print(shape(Linspace))                       #start=1, stop=11, num=10 for 1st List\n",
    "                                     #start=11, stop=21, num=10 for 2nd List"
   ]
  },
  {
   "cell_type": "code",
   "execution_count": 103,
   "metadata": {},
   "outputs": [
    {
     "name": "stdout",
     "output_type": "stream",
     "text": [
      "[[[ 1.         11.          1.20408163 11.20408163  1.40816327\n",
      "   11.40816327  1.6122449  11.6122449   1.81632653 11.81632653]\n",
      "  [ 2.02040816 12.02040816  2.2244898  12.2244898   2.42857143\n",
      "   12.42857143  2.63265306 12.63265306  2.83673469 12.83673469]\n",
      "  [ 3.04081633 13.04081633  3.24489796 13.24489796  3.44897959\n",
      "   13.44897959  3.65306122 13.65306122  3.85714286 13.85714286]\n",
      "  [ 4.06122449 14.06122449  4.26530612 14.26530612  4.46938776\n",
      "   14.46938776  4.67346939 14.67346939  4.87755102 14.87755102]\n",
      "  [ 5.08163265 15.08163265  5.28571429 15.28571429  5.48979592\n",
      "   15.48979592  5.69387755 15.69387755  5.89795918 15.89795918]\n",
      "  [ 6.10204082 16.10204082  6.30612245 16.30612245  6.51020408\n",
      "   16.51020408  6.71428571 16.71428571  6.91836735 16.91836735]\n",
      "  [ 7.12244898 17.12244898  7.32653061 17.32653061  7.53061224\n",
      "   17.53061224  7.73469388 17.73469388  7.93877551 17.93877551]\n",
      "  [ 8.14285714 18.14285714  8.34693878 18.34693878  8.55102041\n",
      "   18.55102041  8.75510204 18.75510204  8.95918367 18.95918367]\n",
      "  [ 9.16326531 19.16326531  9.36734694 19.36734694  9.57142857\n",
      "   19.57142857  9.7755102  19.7755102   9.97959184 19.97959184]\n",
      "  [10.18367347 20.18367347 10.3877551  20.3877551  10.59183673\n",
      "   20.59183673 10.79591837 20.79591837 11.         21.        ]]]\n",
      "<class 'numpy.ndarray'>\n",
      "3\n",
      "100\n",
      "1\n",
      "(1, 10, 10)\n"
     ]
    }
   ],
   "source": [
    "# Hey you, Check the output result here.. They are inside a 2D List Array\n",
    "#retstep=True it converts the result into a 2D Tuple Array\n",
    "#If you provide retstep=True command, .reshape() & array.dtype commands don't work\n",
    "# By default num=50\n",
    "Linspace=linspace([1,11], [11,21]).reshape([1,10,10])    #2D linspace array with 2 Lists\n",
    "print(Linspace)\n",
    "print(type(Linspace))\n",
    "print(ndim(Linspace))    \n",
    "print(size(Linspace))  # 1 array, 10 Rows & 10 Columns\n",
    "print(len(Linspace))\n",
    "print(shape(Linspace))                       #start=1, stop=11, num=50 for 1st List\n",
    "                                     #start=11, stop=21, num=50 for 2nd List"
   ]
  },
  {
   "cell_type": "code",
   "execution_count": 104,
   "metadata": {},
   "outputs": [
    {
     "name": "stdout",
     "output_type": "stream",
     "text": [
      "(array([[ 1., 11.],\n",
      "       [ 2., 12.],\n",
      "       [ 3., 13.],\n",
      "       [ 4., 14.],\n",
      "       [ 5., 15.],\n",
      "       [ 6., 16.],\n",
      "       [ 7., 17.],\n",
      "       [ 8., 18.],\n",
      "       [ 9., 19.],\n",
      "       [10., 20.]]), array([1., 1.]))\n",
      "<class 'tuple'>\n",
      "1\n",
      "2\n",
      "2\n",
      "(2,)\n"
     ]
    }
   ],
   "source": [
    "# Hey you, Check the output result here.. They are inside a 2D List Array\n",
    "#retstep=True it converts the result into a 2D Tuple Array\n",
    "#If you provide retstep=True command, .reshape() & array.dtype commands don't work\n",
    "Linspace=linspace((1,11), (11,21), num=10, endpoint=False, retstep=True) #2D linspace array with 2 Tuples\n",
    "print(Linspace)\n",
    "print(type(Linspace))\n",
    "print(ndim(Linspace))    \n",
    "print(size(Linspace))\n",
    "print(len(Linspace))\n",
    "print(shape(Linspace))                                   #start=1, stop=11, num=10 for 1st Tuple, step value=1.\n",
    "                                                #start=11, stop=21, num=10 for 2nd Tuple, step value=1.\n",
    "                                                #endpoint=False\n",
    "                                                #retstep=True"
   ]
  },
  {
   "cell_type": "code",
   "execution_count": 105,
   "metadata": {},
   "outputs": [
    {
     "name": "stdout",
     "output_type": "stream",
     "text": [
      "(array([[ 1., 11.],\n",
      "       [ 2., 12.],\n",
      "       [ 3., 13.],\n",
      "       [ 4., 14.],\n",
      "       [ 5., 15.],\n",
      "       [ 6., 16.],\n",
      "       [ 7., 17.],\n",
      "       [ 8., 18.],\n",
      "       [ 9., 19.],\n",
      "       [10., 20.]]), array([1., 1.]))\n",
      "<class 'tuple'>\n",
      "1\n",
      "2\n",
      "2\n",
      "(2,)\n"
     ]
    }
   ],
   "source": [
    "# Hey you, Check the output result here.. They are inside a 2D List Array\n",
    "#retstep=True it converts the result into a 2D Tuple Array\n",
    "#If you provide retstep=True command, .reshape() & array.dtype commands don't work\n",
    "Linspace=linspace([1,11], [11,21], num=10, endpoint=False, retstep=True) #2D linspace array with 2 Lists\n",
    "print(Linspace)\n",
    "print(type(Linspace))\n",
    "print(ndim(Linspace))    \n",
    "print(size(Linspace))\n",
    "print(len(Linspace))\n",
    "print(shape(Linspace))                                   #start=1, stop=11, num=10 for 1st List, step value=1.\n",
    "                                                #start=11, stop=21, num=10 for 2nd List, step value=1.\n",
    "                                                #endpoint=False\n",
    "                                                #retstep=True"
   ]
  },
  {
   "cell_type": "markdown",
   "metadata": {},
   "source": [
    "## eye() function is identity matrix"
   ]
  },
  {
   "cell_type": "code",
   "execution_count": 106,
   "metadata": {},
   "outputs": [
    {
     "name": "stdout",
     "output_type": "stream",
     "text": [
      "Help on function eye in module numpy:\n",
      "\n",
      "eye(N, M=None, k=0, dtype=<class 'float'>, order='C', *, like=None)\n",
      "    Return a 2-D array with ones on the diagonal and zeros elsewhere.\n",
      "    \n",
      "    Parameters\n",
      "    ----------\n",
      "    N : int\n",
      "      Number of rows in the output.\n",
      "    M : int, optional\n",
      "      Number of columns in the output. If None, defaults to `N`.\n",
      "    k : int, optional\n",
      "      Index of the diagonal: 0 (the default) refers to the main diagonal,\n",
      "      a positive value refers to an upper diagonal, and a negative value\n",
      "      to a lower diagonal.\n",
      "    dtype : data-type, optional\n",
      "      Data-type of the returned array.\n",
      "    order : {'C', 'F'}, optional\n",
      "        Whether the output should be stored in row-major (C-style) or\n",
      "        column-major (Fortran-style) order in memory.\n",
      "    \n",
      "        .. versionadded:: 1.14.0\n",
      "    like : array_like\n",
      "        Reference object to allow the creation of arrays which are not\n",
      "        NumPy arrays. If an array-like passed in as ``like`` supports\n",
      "        the ``__array_function__`` protocol, the result will be defined\n",
      "        by it. In this case, it ensures the creation of an array object\n",
      "        compatible with that passed in via this argument.\n",
      "    \n",
      "        .. versionadded:: 1.20.0\n",
      "    \n",
      "    Returns\n",
      "    -------\n",
      "    I : ndarray of shape (N,M)\n",
      "      An array where all elements are equal to zero, except for the `k`-th\n",
      "      diagonal, whose values are equal to one.\n",
      "    \n",
      "    See Also\n",
      "    --------\n",
      "    identity : (almost) equivalent function\n",
      "    diag : diagonal 2-D array from a 1-D array specified by the user.\n",
      "    \n",
      "    Examples\n",
      "    --------\n",
      "    >>> np.eye(2, dtype=int)\n",
      "    array([[1, 0],\n",
      "           [0, 1]])\n",
      "    >>> np.eye(3, k=1)\n",
      "    array([[0.,  1.,  0.],\n",
      "           [0.,  0.,  1.],\n",
      "           [0.,  0.,  0.]])\n",
      "\n"
     ]
    }
   ],
   "source": [
    "#Eye() function creates array filled with zeros except in the K-th diagonal, whos values are equal to 1\n",
    "#First parametre is row, 2nd parametre is column, 3rd parametre is K diagonal value, 4th parametre is data type\n",
    "#If you dont give column value then it will take the same row value for column\n",
    "#K positive is upper diagonal, K negative means lower diagonal\n",
    "#Diagonal always run from Left to right down\n",
    "from numpy import eye\n",
    "help(eye)"
   ]
  },
  {
   "cell_type": "code",
   "execution_count": 107,
   "metadata": {},
   "outputs": [
    {
     "name": "stdout",
     "output_type": "stream",
     "text": [
      "[[[1. 0. 0. 0. 0.]\n",
      "  [0. 1. 0. 0. 0.]\n",
      "  [0. 0. 1. 0. 0.]\n",
      "  [0. 0. 0. 1. 0.]\n",
      "  [0. 0. 0. 0. 1.]]]\n",
      "<class 'numpy.ndarray'>\n",
      "3\n",
      "25\n",
      "1\n",
      "(1, 5, 5)\n"
     ]
    }
   ],
   "source": [
    "#eye() function creates 2D Array\n",
    "Eye=eye(5).reshape([1,5,5])                               #Eye array made of row=5, col=5 \n",
    "print(Eye)\n",
    "print(type(Eye))\n",
    "print(ndim(Eye))    \n",
    "print(size(Eye)) # 1 array, 5 Rows & 5 Columns\n",
    "print(len(Eye))\n",
    "print(shape(Eye))    #Ones are in the main diagonal, diagonally 5 eyes"
   ]
  },
  {
   "cell_type": "code",
   "execution_count": 108,
   "metadata": {},
   "outputs": [
    {
     "name": "stdout",
     "output_type": "stream",
     "text": [
      "[[[1.+0.j 0.+0.j 0.+0.j 0.+0.j 0.+0.j]\n",
      "  [0.+0.j 1.+0.j 0.+0.j 0.+0.j 0.+0.j]\n",
      "  [0.+0.j 0.+0.j 1.+0.j 0.+0.j 0.+0.j]\n",
      "  [0.+0.j 0.+0.j 0.+0.j 1.+0.j 0.+0.j]\n",
      "  [0.+0.j 0.+0.j 0.+0.j 0.+0.j 1.+0.j]]]\n",
      "<class 'numpy.ndarray'>\n",
      "3\n",
      "25\n",
      "1\n",
      "(1, 5, 5)\n"
     ]
    }
   ],
   "source": [
    "#eye() function creates 2D Array\n",
    "Eye=eye(5, 5, dtype=complex).reshape([1,5,5])            #Eye array made of row=5, col=5, dtype=complex \n",
    "print(Eye)\n",
    "print(type(Eye))\n",
    "print(ndim(Eye))    \n",
    "print(size(Eye)) # 1 array, 5 Rows & 5 Columns\n",
    "print(len(Eye))\n",
    "print(shape(Eye)) #Ones are in the main diagonal"
   ]
  },
  {
   "cell_type": "code",
   "execution_count": 109,
   "metadata": {},
   "outputs": [
    {
     "name": "stdout",
     "output_type": "stream",
     "text": [
      "[[[1.+0.j 0.+0.j 0.+0.j 0.+0.j 0.+0.j]\n",
      "  [0.+0.j 1.+0.j 0.+0.j 0.+0.j 0.+0.j]\n",
      "  [0.+0.j 0.+0.j 1.+0.j 0.+0.j 0.+0.j]\n",
      "  [0.+0.j 0.+0.j 0.+0.j 1.+0.j 0.+0.j]\n",
      "  [0.+0.j 0.+0.j 0.+0.j 0.+0.j 1.+0.j]]]\n",
      "<class 'numpy.ndarray'>\n",
      "3\n",
      "25\n",
      "1\n",
      "(1, 5, 5)\n"
     ]
    }
   ],
   "source": [
    "#eye() function creates 2D Array\n",
    "Eye=eye(5, dtype=complex).reshape([1,5,5])               #Eye array made of row=5, col=5, dtype=complex \n",
    "print(Eye)\n",
    "print(type(Eye))\n",
    "print(ndim(Eye))    \n",
    "print(size(Eye)) # 1 array, 5 Rows & 5 Columns\n",
    "print(len(Eye))\n",
    "print(shape(Eye)) #Ones are in the main diagonal"
   ]
  },
  {
   "cell_type": "code",
   "execution_count": 110,
   "metadata": {},
   "outputs": [
    {
     "name": "stdout",
     "output_type": "stream",
     "text": [
      "[[[1. 0. 0. 0.]\n",
      "  [0. 1. 0. 0.]\n",
      "  [0. 0. 1. 0.]\n",
      "  [0. 0. 0. 1.]\n",
      "  [0. 0. 0. 0.]]]\n",
      "<class 'numpy.ndarray'>\n",
      "3\n",
      "20\n",
      "1\n",
      "(1, 5, 4)\n"
     ]
    }
   ],
   "source": [
    "#eye() function creates 2D Array\n",
    "Eye=eye(5,4).reshape([1,5,4])                             #Eye array made of row=5, col=4 \n",
    "print(Eye)\n",
    "print(type(Eye))\n",
    "print(ndim(Eye))    \n",
    "print(size(Eye)) # 1 array, 5 Rows & 4 Columns\n",
    "print(len(Eye))\n",
    "print(shape(Eye)) #Ones are in the main diagonal"
   ]
  },
  {
   "cell_type": "code",
   "execution_count": 111,
   "metadata": {},
   "outputs": [
    {
     "name": "stdout",
     "output_type": "stream",
     "text": [
      "[[[1. 0. 0. 0. 0.]\n",
      "  [0. 1. 0. 0. 0.]\n",
      "  [0. 0. 1. 0. 0.]\n",
      "  [0. 0. 0. 1. 0.]]]\n",
      "<class 'numpy.ndarray'>\n",
      "3\n",
      "20\n",
      "1\n",
      "(1, 4, 5)\n"
     ]
    }
   ],
   "source": [
    "#eye() function creates 2D Array\n",
    "Eye=eye(4,5).reshape([1,4,5])                            #Eye array made of row=4, col=5 \n",
    "print(Eye)\n",
    "print(type(Eye))\n",
    "print(ndim(Eye))    \n",
    "print(size(Eye))  # 1 array, 4 Rows & 5 Columns\n",
    "print(len(Eye))\n",
    "print(shape(Eye)) #Ones are in the main diagonal"
   ]
  },
  {
   "cell_type": "code",
   "execution_count": 112,
   "metadata": {},
   "outputs": [
    {
     "name": "stdout",
     "output_type": "stream",
     "text": [
      "[[[1. 0. 0. 0. 0.]\n",
      "  [0. 1. 0. 0. 0.]\n",
      "  [0. 0. 1. 0. 0.]\n",
      "  [0. 0. 0. 1. 0.]\n",
      "  [0. 0. 0. 0. 1.]]]\n",
      "<class 'numpy.ndarray'>\n",
      "3\n",
      "25\n",
      "1\n",
      "(1, 5, 5)\n"
     ]
    }
   ],
   "source": [
    "#eye() function creates 2D Array\n",
    "Eye=eye(5,5).reshape([1,5,5])                             #Eye array made of row=5, col=5 \n",
    "print(Eye)\n",
    "print(type(Eye))\n",
    "print(ndim(Eye))    \n",
    "print(size(Eye)) # 1 array, 5 Rows & 5 Columns\n",
    "print(len(Eye))\n",
    "print(shape(Eye)) #Ones are in the main diagonal"
   ]
  },
  {
   "cell_type": "code",
   "execution_count": 113,
   "metadata": {},
   "outputs": [
    {
     "name": "stdout",
     "output_type": "stream",
     "text": [
      "[[[1 0 0 0 0]\n",
      "  [0 1 0 0 0]\n",
      "  [0 0 1 0 0]\n",
      "  [0 0 0 1 0]\n",
      "  [0 0 0 0 1]]]\n",
      "<class 'numpy.ndarray'>\n",
      "3\n",
      "25\n",
      "1\n",
      "(1, 5, 5)\n"
     ]
    }
   ],
   "source": [
    "#eye() function creates 2D Array\n",
    "Eye=eye(5, dtype=int).reshape([1,5,5])                     #All elements are in integer form\n",
    "print(Eye)\n",
    "print(type(Eye))\n",
    "print(ndim(Eye))    \n",
    "print(size(Eye)) # 1 array, 5 Rows & 5 Columns\n",
    "print(len(Eye))\n",
    "print(shape(Eye)) #Int Ones are in the main diagonal"
   ]
  },
  {
   "cell_type": "code",
   "execution_count": 114,
   "metadata": {},
   "outputs": [
    {
     "name": "stdout",
     "output_type": "stream",
     "text": [
      "[[[0 0 0 0 1]\n",
      "  [0 0 0 0 0]\n",
      "  [0 0 0 0 0]\n",
      "  [0 0 0 0 0]\n",
      "  [0 0 0 0 0]]]\n",
      "<class 'numpy.ndarray'>\n",
      "3\n",
      "25\n",
      "1\n",
      "(1, 5, 5)\n"
     ]
    }
   ],
   "source": [
    "#eye() function creates 2D Array\n",
    "Eye=eye(5, 5, k=4, dtype=int).reshape([1,5,5])                 #All elements are in integer form\n",
    "print(Eye)\n",
    "print(type(Eye))\n",
    "print(ndim(Eye))    \n",
    "print(size(Eye)) # 1 array, 5 Rows & 5 Columns\n",
    "print(len(Eye))\n",
    "print(shape(Eye)) #Int Ones are in the main diagonal\n",
    "                                         #Diagonal value K=4\n",
    "                                         #5by5 array"
   ]
  },
  {
   "cell_type": "code",
   "execution_count": 115,
   "metadata": {},
   "outputs": [
    {
     "name": "stdout",
     "output_type": "stream",
     "text": [
      "[[[1 0 0 0 0]\n",
      "  [0 1 0 0 0]\n",
      "  [0 0 1 0 0]\n",
      "  [0 0 0 1 0]\n",
      "  [0 0 0 0 1]]]\n",
      "<class 'numpy.ndarray'>\n",
      "3\n",
      "25\n",
      "1\n",
      "(1, 5, 5)\n"
     ]
    }
   ],
   "source": [
    "#eye() function creates 2D Array\n",
    "Eye=eye(5, 5, k=0, dtype=int).reshape([1,5,5])                 #All elements are in integer form\n",
    "print(Eye)\n",
    "print(type(Eye))\n",
    "print(ndim(Eye))    \n",
    "print(size(Eye)) # 1 array, 5 Rows & 5 Columns\n",
    "print(len(Eye))\n",
    "print(shape(Eye)) #Int Ones are in the main diagonal\n",
    "                                         #Diagonal value K=4\n",
    "                                         #5by5 array"
   ]
  },
  {
   "cell_type": "code",
   "execution_count": 116,
   "metadata": {},
   "outputs": [
    {
     "name": "stdout",
     "output_type": "stream",
     "text": [
      "[[[0 0 0 0 0]\n",
      "  [0 0 0 0 0]\n",
      "  [0 0 0 0 0]\n",
      "  [0 0 0 0 0]\n",
      "  [1 0 0 0 0]]]\n",
      "<class 'numpy.ndarray'>\n",
      "3\n",
      "25\n",
      "1\n",
      "(1, 5, 5)\n"
     ]
    }
   ],
   "source": [
    "#eye() function creates 2D Array\n",
    "Eye=eye(5, 5, k=-4, dtype=int).reshape([1,5,5])                 #All elements are in integer form\n",
    "print(Eye)\n",
    "print(type(Eye))\n",
    "print(ndim(Eye))    \n",
    "print(size(Eye))  # 1 array, 5 Rows & 5 Columns\n",
    "print(len(Eye))\n",
    "print(shape(Eye)) #Int Ones are in the main diagonal\n",
    "                  #Diagonal value K=4\n",
    "                  #5by5 array"
   ]
  },
  {
   "cell_type": "markdown",
   "metadata": {},
   "source": [
    "## identity() function, always creates 2D square array"
   ]
  },
  {
   "cell_type": "code",
   "execution_count": 117,
   "metadata": {},
   "outputs": [
    {
     "name": "stdout",
     "output_type": "stream",
     "text": [
      "Help on function identity in module numpy:\n",
      "\n",
      "identity(n, dtype=None, *, like=None)\n",
      "    Return the identity array.\n",
      "    \n",
      "    The identity array is a square array with ones on\n",
      "    the main diagonal.\n",
      "    \n",
      "    Parameters\n",
      "    ----------\n",
      "    n : int\n",
      "        Number of rows (and columns) in `n` x `n` output.\n",
      "    dtype : data-type, optional\n",
      "        Data-type of the output.  Defaults to ``float``.\n",
      "    like : array_like\n",
      "        Reference object to allow the creation of arrays which are not\n",
      "        NumPy arrays. If an array-like passed in as ``like`` supports\n",
      "        the ``__array_function__`` protocol, the result will be defined\n",
      "        by it. In this case, it ensures the creation of an array object\n",
      "        compatible with that passed in via this argument.\n",
      "    \n",
      "        .. versionadded:: 1.20.0\n",
      "    \n",
      "    Returns\n",
      "    -------\n",
      "    out : ndarray\n",
      "        `n` x `n` array with its main diagonal set to one,\n",
      "        and all other elements 0.\n",
      "    \n",
      "    Examples\n",
      "    --------\n",
      "    >>> np.identity(3)\n",
      "    array([[1.,  0.,  0.],\n",
      "           [0.,  1.,  0.],\n",
      "           [0.,  0.,  1.]])\n",
      "\n"
     ]
    }
   ],
   "source": [
    "#identity() function creates 2D square array, rest of the things are just like eye() function\n",
    "#Its kind of Square Array of eye() function\n",
    "from numpy import identity\n",
    "help(identity)"
   ]
  },
  {
   "cell_type": "code",
   "execution_count": 118,
   "metadata": {},
   "outputs": [
    {
     "name": "stdout",
     "output_type": "stream",
     "text": [
      "[[[1. 0. 0. 0. 0.]\n",
      "  [0. 1. 0. 0. 0.]\n",
      "  [0. 0. 1. 0. 0.]\n",
      "  [0. 0. 0. 1. 0.]\n",
      "  [0. 0. 0. 0. 1.]]]\n",
      "<class 'numpy.ndarray'>\n",
      "3\n",
      "25\n",
      "1\n",
      "(1, 5, 5)\n"
     ]
    }
   ],
   "source": [
    "#identity() function creates 2D square array\n",
    "Identity=identity(5).reshape([1,5,5])  #Square array made of row=5, col=5\n",
    "print(Identity)\n",
    "print(type(Identity))\n",
    "print(ndim(Identity))    \n",
    "print(size(Identity)) # 1 array, 5 Rows & 5 Columns\n",
    "print(len(Identity))\n",
    "print(shape(Identity))      #Ones are in the main diagonal"
   ]
  },
  {
   "cell_type": "code",
   "execution_count": 119,
   "metadata": {},
   "outputs": [
    {
     "name": "stdout",
     "output_type": "stream",
     "text": [
      "[[[1 0 0 0 0]\n",
      "  [0 1 0 0 0]\n",
      "  [0 0 1 0 0]\n",
      "  [0 0 0 1 0]\n",
      "  [0 0 0 0 1]]]\n",
      "<class 'numpy.ndarray'>\n",
      "3\n",
      "25\n",
      "1\n",
      "(1, 5, 5)\n"
     ]
    }
   ],
   "source": [
    "#identity() function creates 2D square array\n",
    "Identity=identity(5, dtype=int).reshape([1,5,5]) #All elements are in integer form\n",
    "print(Identity)\n",
    "print(type(Identity))\n",
    "print(ndim(Identity))    \n",
    "print(size(Identity)) # 1 array, 5 Rows & 5 Columns\n",
    "print(len(Identity))\n",
    "print(shape(Identity))                 #Int Ones are in the main diagonal\n",
    "                               #Square array made of row=5, col=5"
   ]
  },
  {
   "cell_type": "code",
   "execution_count": 120,
   "metadata": {},
   "outputs": [
    {
     "name": "stdout",
     "output_type": "stream",
     "text": [
      "[[[1 0 0 0 0]\n",
      "  [0 1 0 0 0]\n",
      "  [0 0 1 0 0]\n",
      "  [0 0 0 1 0]\n",
      "  [0 0 0 0 1]]]\n",
      "<class 'numpy.ndarray'>\n",
      "3\n",
      "25\n",
      "1\n",
      "(1, 5, 5)\n"
     ]
    }
   ],
   "source": [
    "#identity() function creates 2D square array\n",
    "Identity=identity(5, dtype=int).reshape([1,5,5]) #All elements are in integer form\n",
    "print(Identity)\n",
    "print(type(Identity))\n",
    "print(ndim(Identity))    \n",
    "print(size(Identity)) # 1 array, 5 Rows & 5 Columns\n",
    "print(len(Identity))\n",
    "print(shape(Identity))                 #Int Ones are in the main diagonal\n",
    "                               #Diagonal value K=4\n",
    "                               #5by5 array"
   ]
  },
  {
   "cell_type": "code",
   "execution_count": 121,
   "metadata": {},
   "outputs": [
    {
     "name": "stdout",
     "output_type": "stream",
     "text": [
      "[[[1.+0.j 0.+0.j 0.+0.j 0.+0.j 0.+0.j]\n",
      "  [0.+0.j 1.+0.j 0.+0.j 0.+0.j 0.+0.j]\n",
      "  [0.+0.j 0.+0.j 1.+0.j 0.+0.j 0.+0.j]\n",
      "  [0.+0.j 0.+0.j 0.+0.j 1.+0.j 0.+0.j]\n",
      "  [0.+0.j 0.+0.j 0.+0.j 0.+0.j 1.+0.j]]]\n",
      "<class 'numpy.ndarray'>\n",
      "3\n",
      "25\n",
      "1\n",
      "(1, 5, 5)\n"
     ]
    }
   ],
   "source": [
    "#identity() function creates 2D square array\n",
    "Identity=identity(5, dtype=complex).reshape([1,5,5]) #All elements are in complex form\n",
    "print(Identity)\n",
    "print(type(Identity))\n",
    "print(ndim(Identity))    \n",
    "print(size(Identity)) # 1 array, 5 Rows & 5 Columns\n",
    "print(len(Identity))\n",
    "print(shape(Identity))                    #Int Ones are in the main diagonal\n",
    "                                  #Diagonal value K=4\n",
    "                                  #5by5 array"
   ]
  },
  {
   "cell_type": "markdown",
   "metadata": {},
   "source": [
    "## random() function\n",
    "1. rand()\n",
    "2. randn()\n",
    "3. randint()\n",
    "4. ranf()"
   ]
  },
  {
   "cell_type": "code",
   "execution_count": 122,
   "metadata": {},
   "outputs": [],
   "source": [
    "#When we want to create an array with Random elements then we use random()\n",
    "#Used for random no generation\n",
    "#rand() always gives values between 0 & 1"
   ]
  },
  {
   "cell_type": "code",
   "execution_count": 123,
   "metadata": {},
   "outputs": [
    {
     "name": "stdout",
     "output_type": "stream",
     "text": [
      "[[[0.74415781 0.23175812 0.97004154 0.23986385 0.53343476]]]\n",
      "<class 'numpy.ndarray'>\n",
      "3\n",
      "5\n",
      "1\n",
      "(1, 1, 5)\n"
     ]
    }
   ],
   "source": [
    "from numpy import random\n",
    "Random=random.rand(1,1,5) #1D random array\n",
    "print(Random)\n",
    "print(type(Random))\n",
    "print(ndim(Random))    \n",
    "print(size(Random)) # 1 array, 1 Row & 5 Columns\n",
    "print(len(Random))\n",
    "print(shape(Random)) #rand() always gives values between 0 & 1\n",
    "                     #5 random values between 0 & 1"
   ]
  },
  {
   "cell_type": "code",
   "execution_count": 124,
   "metadata": {},
   "outputs": [
    {
     "name": "stdout",
     "output_type": "stream",
     "text": [
      "[[[0.0844064  0.89840587 0.06251219 0.415324   0.16720865]]]\n",
      "<class 'numpy.ndarray'>\n",
      "3\n",
      "5\n",
      "1\n",
      "(1, 1, 5)\n"
     ]
    }
   ],
   "source": [
    "from numpy import random\n",
    "Random=random.rand(1,1,5) #1D random array\n",
    "print(Random)\n",
    "print(type(Random))\n",
    "print(ndim(Random))    \n",
    "print(size(Random)) # 1 array, 1 Row & 5 Columns\n",
    "print(len(Random))\n",
    "print(shape(Random)) #rand() always gives values between 0 & 1\n",
    "                     #5 random values between 0 & 1"
   ]
  },
  {
   "cell_type": "code",
   "execution_count": 125,
   "metadata": {},
   "outputs": [
    {
     "name": "stdout",
     "output_type": "stream",
     "text": [
      "[[[0.06639374 0.12273696 0.74881913 0.68534476 0.9932415 ]\n",
      "  [0.02508096 0.63008142 0.13905106 0.36479038 0.0817908 ]\n",
      "  [0.78603568 0.4228516  0.45291958 0.01171536 0.80486903]]]\n",
      "<class 'numpy.ndarray'>\n",
      "3\n",
      "15\n",
      "1\n",
      "(1, 3, 5)\n"
     ]
    }
   ],
   "source": [
    "Random=random.rand(1,3,5)                              #2D random array 3by5\n",
    "print(Random)\n",
    "print(type(Random))\n",
    "print(ndim(Random))    \n",
    "print(size(Random)) # 1 array, 3 Rows & 5 Columns\n",
    "print(len(Random))\n",
    "print(shape(Random)) #3*5=15 random values between 0 & 1"
   ]
  },
  {
   "cell_type": "code",
   "execution_count": 126,
   "metadata": {},
   "outputs": [
    {
     "name": "stdout",
     "output_type": "stream",
     "text": [
      "[[[0.57125363 0.62620172 0.10026293 0.21566564 0.10532789]\n",
      "  [0.18474514 0.58575872 0.98757909 0.02831933 0.29223199]\n",
      "  [0.05553069 0.09739266 0.16722078 0.60396374 0.09232765]\n",
      "  [0.48563558 0.95050394 0.01652956 0.07210459 0.41708713]\n",
      "  [0.06862514 0.57660525 0.58965295 0.27787615 0.76396455]]]\n",
      "<class 'numpy.ndarray'>\n",
      "3\n",
      "25\n",
      "1\n",
      "(1, 5, 5)\n"
     ]
    }
   ],
   "source": [
    "Random=random.rand(1,5,5)                              #2D random array 3by5\n",
    "print(Random)\n",
    "print(type(Random))\n",
    "print(ndim(Random))    \n",
    "print(size(Random)) # 1 array, 5 Rows & 5 Columns\n",
    "print(len(Random))\n",
    "print(shape(Random)) #3*5=15 random values between 0 & 1"
   ]
  },
  {
   "cell_type": "code",
   "execution_count": 127,
   "metadata": {},
   "outputs": [
    {
     "name": "stdout",
     "output_type": "stream",
     "text": [
      "[[[ 1 -4 -3]\n",
      "  [-3 -5  2]\n",
      "  [-3  0 -3]\n",
      "  [ 3  4 -1]]]\n",
      "<class 'numpy.ndarray'>\n",
      "3\n",
      "12\n",
      "1\n",
      "(1, 4, 3)\n"
     ]
    }
   ],
   "source": [
    "# array.dtype doesn't work with randint()\n",
    "#The randint() method returns an integer number selected element from the specified range.\n",
    "Random=random.randint(low=-5, high=5, size=12).reshape([1,4,3])             #1D random array start=3, stop(upper bound)=10\n",
    "print(Random)\n",
    "print(type(Random))\n",
    "print(ndim(Random))    \n",
    "print(size(Random)) # 1 array, 4 Rows & 3 Columns\n",
    "print(len(Random))\n",
    "print(shape(Random)) #Any single Random integer between 3 & 10"
   ]
  },
  {
   "cell_type": "code",
   "execution_count": 128,
   "metadata": {},
   "outputs": [
    {
     "name": "stdout",
     "output_type": "stream",
     "text": [
      "[[[-4 -5  2]\n",
      "  [ 0 -5  3]\n",
      "  [-4  3  4]\n",
      "  [ 4  1 -2]]]\n",
      "<class 'numpy.ndarray'>\n",
      "3\n",
      "12\n",
      "1\n",
      "(1, 4, 3)\n"
     ]
    }
   ],
   "source": [
    "# array.dtype doesn't work with randint()\n",
    "#The randint() method returns an integer number selected element from the specified range.\n",
    "Random=random.randint(low=-5, high=5, size=12).reshape([1,4,3])             #1D random array start=3, stop(upper bound)=10\n",
    "print(Random)\n",
    "print(type(Random))\n",
    "print(ndim(Random))    \n",
    "print(size(Random)) # 1 array, 4 Rows & 3 Coloumns\n",
    "print(len(Random))\n",
    "print(shape(Random)) #Any single Random integer between 3 & 10"
   ]
  },
  {
   "cell_type": "code",
   "execution_count": 129,
   "metadata": {},
   "outputs": [
    {
     "name": "stdout",
     "output_type": "stream",
     "text": [
      "[[[-11  51 -69 -79 -55  87 -22  83  85  62]]]\n",
      "<class 'numpy.ndarray'>\n",
      "3\n",
      "10\n",
      "1\n",
      "(1, 1, 10)\n"
     ]
    }
   ],
   "source": [
    "# array.dtype doesn't work with randint()\n",
    "#The randint() method returns an integer number selected element from the specified range.\n",
    "#Return any 10 Random integers between 1 & 100\n",
    "Random=random.randint(low=-100, high=100, size=10).reshape(1,1,10)         #1D random array start=1, stop(upper bound)=100\n",
    "print(Random)\n",
    "print(type(Random))\n",
    "print(ndim(Random))    \n",
    "print(size(Random)) # 1 array, 1 Row & 10 Columns\n",
    "print(len(Random))\n",
    "print(shape(Random)) #Any 10 Random integers between 1 & 100"
   ]
  },
  {
   "cell_type": "code",
   "execution_count": 130,
   "metadata": {},
   "outputs": [
    {
     "name": "stdout",
     "output_type": "stream",
     "text": [
      "[[[ 72  -3  85  16  78   6 -56  89  -8  48]\n",
      "  [ 53 -13  76 -69 -43 -90 -41  67  82 -86]\n",
      "  [-21  78 -14  20  73 -96 -86 -99 -42  85]\n",
      "  [-29   0  49 -34  47 -44  54 -18 -87 -87]\n",
      "  [ 20 -27  -8 -43  65 -87 -76 -69  -9  17]\n",
      "  [ 66 -36  19 -47  68 -99  39  52  26 -14]\n",
      "  [-27  33  73 -79 -85  57 -95  82  98  73]\n",
      "  [-46   9 -46  -2 -31  43  44  61 -78   7]\n",
      "  [-32 -13 -59  67  42  45 -70  82  86 -42]\n",
      "  [ 31  90 -41 -97  74 -82  50  67 -44  63]]]\n",
      "<class 'numpy.ndarray'>\n",
      "3\n",
      "100\n",
      "1\n",
      "(1, 10, 10)\n"
     ]
    }
   ],
   "source": [
    "# array.dtype doesn't work with randint()\n",
    "#The randint() method returns an integer number selected element from the specified range.\n",
    "#Return any 10 Random integers between 1 & 100\n",
    "Random=random.randint(low=-100, high=100, size=100).reshape(1,10,10)         #1D random array start=1, stop(upper bound)=100\n",
    "print(Random)\n",
    "print(type(Random))\n",
    "print(ndim(Random))    \n",
    "print(size(Random)) # 1 array, 10 Rows & 10 Columns\n",
    "print(len(Random))\n",
    "print(shape(Random)) #Any 10 Random integers between 1 & 100"
   ]
  },
  {
   "cell_type": "code",
   "execution_count": 131,
   "metadata": {},
   "outputs": [
    {
     "name": "stdout",
     "output_type": "stream",
     "text": [
      "[[[-0.27815668 -1.70494558 -0.82353173 -0.06098386  0.4650686 ]]]\n",
      "<class 'numpy.ndarray'>\n",
      "3\n",
      "5\n",
      "1\n",
      "(1, 1, 5)\n"
     ]
    }
   ],
   "source": [
    "Random=random.randn(1,1,5)                 #1D random array\n",
    "print(Random)\n",
    "print(type(Random))\n",
    "print(ndim(Random))    \n",
    "print(size(Random)) # 1 array, 1 Row & 5 Columns\n",
    "print(len(Random))\n",
    "print(shape(Random)) #5 random float values between +1 & -1"
   ]
  },
  {
   "cell_type": "code",
   "execution_count": 132,
   "metadata": {},
   "outputs": [
    {
     "name": "stdout",
     "output_type": "stream",
     "text": [
      "[[[-0.09786286  0.13965953 -0.59946469  1.24831203  0.84572412]\n",
      "  [ 0.87435179 -1.13048073 -1.35787244  0.72678059  0.12890181]\n",
      "  [ 0.00229088  1.86614157 -0.3139753   0.92306548  1.45271512]]]\n",
      "<class 'numpy.ndarray'>\n",
      "3\n",
      "15\n",
      "1\n",
      "(1, 3, 5)\n"
     ]
    }
   ],
   "source": [
    "Random=random.randn(1,3,5)               #2D random array, made of row=3, col=5\n",
    "print(Random)\n",
    "print(type(Random))\n",
    "print(ndim(Random))    \n",
    "print(size(Random)) # 1 array, 3 Rows & 5 Columns\n",
    "print(len(Random))\n",
    "print(shape(Random)) #3*5=15 random float values between +1 & -1"
   ]
  },
  {
   "cell_type": "code",
   "execution_count": 133,
   "metadata": {},
   "outputs": [
    {
     "name": "stdout",
     "output_type": "stream",
     "text": [
      "[[[-0.22429576  1.33569865  0.87995035  0.20937419  1.10752145\n",
      "    1.29047578  0.82430751 -0.63463255  1.26907033  1.0416258 ]\n",
      "  [-0.07059116  0.94293382  0.35200107 -0.09671827  0.52138471\n",
      "   -1.38559224  0.84540246  0.45640603  0.21940135 -1.76723441]\n",
      "  [ 0.94785936  0.09613776 -0.24120052  0.50428208 -0.13888633\n",
      "    1.16611194  0.92440147  0.12397537  1.37665694  0.86459263]\n",
      "  [-0.38135523  0.84858926  1.03478829 -1.31270648 -0.23405444\n",
      "    1.11956648 -0.36101434  0.64527316 -0.35762334 -1.82054668]\n",
      "  [ 1.80336549 -0.58732432  1.84661147 -0.3128744   0.02613633\n",
      "    2.03403206  0.1906652  -1.64884066  1.54285907 -2.77044453]\n",
      "  [ 0.37934371  0.20304675  1.63693526 -1.36559132  0.26505866\n",
      "   -0.55062293 -0.59560394 -1.07299242  1.12449434  1.02904074]\n",
      "  [ 1.14812497 -0.63092523  0.46796055 -0.47660112 -1.2395375\n",
      "   -1.38281213 -0.20082411  1.06094544  0.18295528 -1.14637313]\n",
      "  [-0.03616101  1.06260903 -0.66063458 -0.97021245 -0.26043467\n",
      "    0.60363562  1.28100328  0.6399587  -1.0302101   0.40465111]\n",
      "  [ 0.39270404 -1.7377281   0.05357505 -0.24626089 -1.88540847\n",
      "   -1.39365225 -0.98445899 -1.24083045 -0.1277321  -1.67830608]\n",
      "  [-0.10916618  0.85910327  1.29972863  0.88132376 -0.14438988\n",
      "   -0.42295298  0.11089657 -0.84679038  0.37360449 -1.59275942]]]\n",
      "<class 'numpy.ndarray'>\n",
      "3\n",
      "100\n",
      "1\n",
      "(1, 10, 10)\n",
      "(1, 10, 10)\n"
     ]
    }
   ],
   "source": [
    "Random=random.randn(1,10,10)               #2D random array, made of row=3, col=5\n",
    "print(Random)\n",
    "print(type(Random))\n",
    "print(ndim(Random))    \n",
    "print(size(Random)) # 1 array, 10 Rows & 10 Columns\n",
    "print(len(Random))\n",
    "print(shape(Random)) #3*5=15 random float values between +1 & -1\n",
    "print(Random.shape)"
   ]
  },
  {
   "cell_type": "markdown",
   "metadata": {},
   "source": [
    "## Attributes of Array\n",
    "1. ndim() #Tells the dimention\n",
    "2. shape() #no of rows & no of cols\n",
    "3. reshape() #edit the no of rows & no of cols\n",
    "4. size() #Tells total no of elements\n",
    "5. itemsize() #Tells the memory consumed"
   ]
  },
  {
   "cell_type": "code",
   "execution_count": 134,
   "metadata": {},
   "outputs": [],
   "source": [
    "#1. ndim() #Tells the dimention\n",
    "#2. shape() #no of rows & no of cols\n",
    "#3. reshape() #edit the no of rows & no of cols\n",
    "#4. size() #Tells total no of elements\n",
    "#5. itemsize() #Tells the memory consumed"
   ]
  },
  {
   "cell_type": "code",
   "execution_count": 135,
   "metadata": {},
   "outputs": [],
   "source": [
    "#To check the Dimention of an Array, we use ndim() function"
   ]
  },
  {
   "cell_type": "code",
   "execution_count": 136,
   "metadata": {},
   "outputs": [
    {
     "name": "stdout",
     "output_type": "stream",
     "text": [
      "[[[ 1.         11.         21.        ]\n",
      "  [ 2.11111111 12.11111111 22.11111111]\n",
      "  [ 3.22222222 13.22222222 23.22222222]\n",
      "  [ 4.33333333 14.33333333 24.33333333]\n",
      "  [ 5.44444444 15.44444444 25.44444444]\n",
      "  [ 6.55555556 16.55555556 26.55555556]\n",
      "  [ 7.66666667 17.66666667 27.66666667]\n",
      "  [ 8.77777778 18.77777778 28.77777778]\n",
      "  [ 9.88888889 19.88888889 29.88888889]\n",
      "  [11.         21.         31.        ]]]\n",
      "<class 'numpy.ndarray'>\n",
      "3\n",
      "30\n",
      "1\n",
      "(1, 10, 3)\n"
     ]
    }
   ],
   "source": [
    "# Hey you, Check the output result here.. They are inside a 2D List Array\n",
    "#retstep=True it converts the result into a 2D Tuple Array\n",
    "#If you provide retstep=True command, .reshape() & array.dtype commands don't work\n",
    "Linspace1=linspace(start=(1,11,21), stop=(11,21,31), num=10).reshape([1,10,3]) #2D linspace array with 3 Tuples\n",
    "print(Linspace1)\n",
    "print(type(Linspace1))\n",
    "print(ndim(Linspace1))    \n",
    "print(size(Linspace1)) # 1 array, 10 Rows & 3 Columns\n",
    "print(len(Linspace1))\n",
    "print(shape(Linspace1))                             #start=1, stop=11, num=10 for 1st Tuple\n",
    "                                            #start=11, stop=21, num=10 for 2nd Tuple\n",
    "                                            #start=21, stop=31, num=10 for 2nd Tuple\n"
   ]
  },
  {
   "cell_type": "code",
   "execution_count": 137,
   "metadata": {},
   "outputs": [
    {
     "name": "stdout",
     "output_type": "stream",
     "text": [
      "(array([[1.0, 11.0, 21.0],\n",
      "       [2.111111111111111, 12.11111111111111, 22.11111111111111],\n",
      "       [3.2222222222222223, 13.222222222222221, 23.22222222222222],\n",
      "       [4.333333333333334, 14.333333333333334, 24.333333333333332],\n",
      "       [5.444444444444445, 15.444444444444445, 25.444444444444443],\n",
      "       [6.555555555555555, 16.555555555555557, 26.555555555555557],\n",
      "       [7.666666666666667, 17.666666666666668, 27.666666666666668],\n",
      "       [8.777777777777779, 18.77777777777778, 28.77777777777778],\n",
      "       [9.88888888888889, 19.88888888888889, 29.88888888888889],\n",
      "       [11.0, 21.0, 31.0]], dtype=object), array([1.11111111, 1.11111111, 1.11111111]))\n",
      "<class 'tuple'>\n",
      "1\n",
      "2\n",
      "2\n",
      "(2,)\n"
     ]
    }
   ],
   "source": [
    "# Hey you, Check the output result here.. They are inside a 2D List Array\n",
    "#retstep=True it converts the result into a 2D Tuple Array\n",
    "#If you provide retstep=True command, .reshape() & array.dtype commands don't work\n",
    "Linspace2=linspace(start=(1,11,21), stop=(11,21,31), num=10, retstep=True, dtype=object) #2D linspace array with 3 Tuples\n",
    "print(Linspace2)\n",
    "print(type(Linspace2))\n",
    "print(ndim(Linspace2))    \n",
    "print(size(Linspace2))\n",
    "print(len(Linspace2))\n",
    "print(shape(Linspace2))                                          #start=1, stop=11, num=10 for 1st Tuple, step value=1.11111111\n",
    "                                                         #start=11, stop=21, num=10 for 2nd Tuple, step value=1.11111111\n",
    "                                                         #start=21, stop=31, num=10 for 2nd Tuple, step value=1.11111111\n"
   ]
  },
  {
   "cell_type": "code",
   "execution_count": 138,
   "metadata": {},
   "outputs": [
    {
     "name": "stdout",
     "output_type": "stream",
     "text": [
      "(array([[ 1.        , 11.        , 21.        ],\n",
      "       [ 2.11111111, 12.11111111, 22.11111111],\n",
      "       [ 3.22222222, 13.22222222, 23.22222222],\n",
      "       [ 4.33333333, 14.33333333, 24.33333333],\n",
      "       [ 5.44444444, 15.44444444, 25.44444444],\n",
      "       [ 6.55555556, 16.55555556, 26.55555556],\n",
      "       [ 7.66666667, 17.66666667, 27.66666667],\n",
      "       [ 8.77777778, 18.77777778, 28.77777778],\n",
      "       [ 9.88888889, 19.88888889, 29.88888889],\n",
      "       [11.        , 21.        , 31.        ]]), array([1.11111111, 1.11111111, 1.11111111]))\n",
      "<class 'tuple'>\n",
      "1\n",
      "2\n",
      "2\n",
      "(2,)\n"
     ]
    }
   ],
   "source": [
    "# Hey you, Check the output result here.. They are inside a 2D List Array\n",
    "#retstep=True it converts the result into a 2D Tuple Array\n",
    "#If you provide retstep=True command, .reshape() & array.dtype commands don't work\n",
    "Linspace2=linspace(start=(1,11,21), stop=(11,21,31), num=10, retstep=True) #2D linspace array with 3 Tuples\n",
    "print(Linspace2)\n",
    "print(type(Linspace2))\n",
    "print(ndim(Linspace2))    \n",
    "print(size(Linspace2))\n",
    "print(len(Linspace2))\n",
    "print(shape(Linspace2))                                          #start=1, stop=11, num=10 for 1st Tuple, step value=1.11111111\n",
    "                                                         #start=11, stop=21, num=10 for 2nd Tuple, step value=1.11111111\n",
    "                                                         #start=21, stop=31, num=10 for 2nd Tuple, step value=1.11111111\n"
   ]
  },
  {
   "cell_type": "code",
   "execution_count": 139,
   "metadata": {},
   "outputs": [
    {
     "name": "stdout",
     "output_type": "stream",
     "text": [
      "[[[5 5 5]\n",
      "  [5 5 5]\n",
      "  [5 5 5]]\n",
      "\n",
      " [[5 5 5]\n",
      "  [5 5 5]\n",
      "  [5 5 5]]\n",
      "\n",
      " [[5 5 5]\n",
      "  [5 5 5]\n",
      "  [5 5 5]]]\n",
      "<class 'numpy.ndarray'>\n",
      "3\n",
      "27\n",
      "3\n",
      "(3, 3, 3)\n"
     ]
    }
   ],
   "source": [
    "Array3D = array([[[5 for k in range(3)]for j in range(3)]for i in range(3)])\n",
    "print(Array3D)\n",
    "print(type(Array3D))\n",
    "print(ndim(Array3D))    \n",
    "print(size(Array3D))    # 3 arrays, 3 Rows & 3 Columns\n",
    "print(len(Array3D))\n",
    "print(shape(Array3D))  #Total 27 elements,#shape=3 Arrays, 3 rows, 3 cols"
   ]
  },
  {
   "cell_type": "code",
   "execution_count": 140,
   "metadata": {},
   "outputs": [
    {
     "name": "stdout",
     "output_type": "stream",
     "text": [
      "[[[0 0 0 0 0]\n",
      "  [0 0 0 0 0]\n",
      "  [0 0 0 0 0]]\n",
      "\n",
      " [[0 0 0 0 0]\n",
      "  [0 0 0 0 0]\n",
      "  [0 0 0 0 0]]\n",
      "\n",
      " [[0 0 0 0 0]\n",
      "  [0 0 0 0 0]\n",
      "  [0 0 0 0 0]]\n",
      "\n",
      " [[0 0 0 0 0]\n",
      "  [0 0 0 0 0]\n",
      "  [0 0 0 0 0]]]\n",
      "<class 'numpy.ndarray'>\n",
      "3\n",
      "60\n",
      "4\n",
      "(4, 3, 5)\n"
     ]
    }
   ],
   "source": [
    "#Creating 3D zeros Array of tuples\n",
    "Zeros3D=zeros((4,3,5), dtype=int) #(4,3,5) is shape tuple of ints\n",
    "print(Zeros3D)\n",
    "print(type(Zeros3D))\n",
    "print(ndim(Zeros3D))    \n",
    "print(size(Zeros3D)) # 4 arrays, 3 Rows & 5 Columns\n",
    "print(len(Zeros3D))\n",
    "print(shape(Zeros3D))             #4 arrays, 3 rows, 5 cols\n",
    "                                  #Total 4*3*5=60 elements"
   ]
  },
  {
   "cell_type": "code",
   "execution_count": 141,
   "metadata": {},
   "outputs": [
    {
     "name": "stdout",
     "output_type": "stream",
     "text": [
      "[[[0 0 0 0 0]\n",
      "  [0 0 0 0 0]\n",
      "  [0 0 0 0 0]]\n",
      "\n",
      " [[0 0 0 0 0]\n",
      "  [0 0 0 0 0]\n",
      "  [0 0 0 0 0]]\n",
      "\n",
      " [[0 0 0 0 0]\n",
      "  [0 0 0 0 0]\n",
      "  [0 0 0 0 0]]\n",
      "\n",
      " [[0 0 0 0 0]\n",
      "  [0 0 0 0 0]\n",
      "  [0 0 0 0 0]]]\n",
      "<class 'numpy.ndarray'>\n",
      "3\n",
      "60\n",
      "4\n",
      "(4, 3, 5)\n"
     ]
    }
   ],
   "source": [
    "#Creating 3D zeros Array of Lists\n",
    "Zeros3D=zeros([4,3,5], dtype=int) #(4,3,5) is shape Lists of ints\n",
    "print(Zeros3D)\n",
    "print(type(Zeros3D))\n",
    "print(ndim(Zeros3D))    \n",
    "print(size(Zeros3D)) # 4 arrays, 3 Rows & 5 Columns\n",
    "print(len(Zeros3D))\n",
    "print(shape(Zeros3D))             #4 arrays, each having 3 rows & 5 cols\n",
    "#Total 60 elements"
   ]
  },
  {
   "cell_type": "markdown",
   "metadata": {},
   "source": [
    "## How to change data type elements of an Numpy Array by using astype() function extension, Array.astype(datatype)"
   ]
  },
  {
   "cell_type": "code",
   "execution_count": 142,
   "metadata": {},
   "outputs": [
    {
     "name": "stdout",
     "output_type": "stream",
     "text": [
      "[[[ 1.+0.j  2.+0.j  3.+0.j  4.+0.j  5.+0.j]\n",
      "  [ 6.+0.j  7.+0.j  8.+0.j  9.+0.j 10.+0.j]\n",
      "  [11.+0.j 12.+0.j 13.+0.j 14.+0.j 15.+0.j]\n",
      "  [16.+0.j 17.+0.j 18.+0.j 19.+0.j 20.+0.j]]]\n",
      "<class 'numpy.ndarray'>\n",
      "3\n",
      "20\n",
      "1\n",
      "(1, 4, 5)\n"
     ]
    }
   ],
   "source": [
    "#Creating 2D array from 2 ranges having complex elements\n",
    "#No of elements/length of each range should be same\n",
    "#Dont works with string element\n",
    "Array2=arange(start=1, stop=21, dtype=complex).reshape(1,4,5) #4 rows & 5 columns\n",
    "print(Array2)\n",
    "print(type(Array2))\n",
    "print(ndim(Array2))    \n",
    "print(size(Array2)) # 1 array, 4 Rows & 5 Columns\n",
    "print(len(Array2))\n",
    "print(shape(Array2))"
   ]
  },
  {
   "cell_type": "code",
   "execution_count": 143,
   "metadata": {},
   "outputs": [
    {
     "name": "stdout",
     "output_type": "stream",
     "text": [
      "[[[ 1.+0.j  2.+0.j  3.+0.j  4.+0.j  5.+0.j]\n",
      "  [ 6.+0.j  7.+0.j  8.+0.j  9.+0.j 10.+0.j]\n",
      "  [11.+0.j 12.+0.j 13.+0.j 14.+0.j 15.+0.j]\n",
      "  [16.+0.j 17.+0.j 18.+0.j 19.+0.j 20.+0.j]]]\n",
      "<class 'numpy.ndarray'>\n",
      "3\n",
      "20\n",
      "1\n",
      "(1, 4, 5)\n"
     ]
    },
    {
     "name": "stderr",
     "output_type": "stream",
     "text": [
      "C:\\Users\\Morphine-691\\AppData\\Local\\Temp\\ipykernel_9400\\2242523684.py:2: ComplexWarning: Casting complex values to real discards the imaginary part\n",
      "  Array2.astype(int)\n"
     ]
    }
   ],
   "source": [
    "# We can change data type elements of an Array by using astype() function\n",
    "Array2.astype(int)\n",
    "print(Array2)\n",
    "print(type(Array2))\n",
    "print(ndim(Array2))    \n",
    "print(size(Array2))\n",
    "print(len(Array2))\n",
    "print(shape(Array2))"
   ]
  },
  {
   "cell_type": "markdown",
   "metadata": {},
   "source": [
    "## Indexing operation in Numpy Array"
   ]
  },
  {
   "cell_type": "code",
   "execution_count": 144,
   "metadata": {},
   "outputs": [],
   "source": [
    "#By using indexing you can access any single element from an Array\n",
    "#Basic indexing only gives you the view of the data"
   ]
  },
  {
   "cell_type": "code",
   "execution_count": 145,
   "metadata": {},
   "outputs": [
    {
     "name": "stdout",
     "output_type": "stream",
     "text": [
      "['KESHAV' '(45+9j)' 'True' '39.69' '39']\n",
      "<class 'numpy.ndarray'>\n",
      "1\n",
      "5\n",
      "5\n",
      "(5,)\n"
     ]
    }
   ],
   "source": [
    "#Creating 1D array from 1 list\n",
    "Array1=array([\"KESHAV\",45+9j,True,39.69,39]) #Convert the 1D list into array\n",
    "print(Array1)\n",
    "print(type(Array1))\n",
    "print(ndim(Array1))    \n",
    "print(size(Array1))\n",
    "print(len(Array1))\n",
    "print(shape(Array1))"
   ]
  },
  {
   "cell_type": "markdown",
   "metadata": {},
   "source": [
    "### Indexing in 1D Array is Array[ : ] and Array[ [0, 1, 2, 3, 4] ]\n",
    "### Array[ : ] means all elements"
   ]
  },
  {
   "cell_type": "code",
   "execution_count": 146,
   "metadata": {},
   "outputs": [
    {
     "name": "stdout",
     "output_type": "stream",
     "text": [
      "['KESHAV' '(45+9j)' 'True' '39.69' '39']\n",
      "<class 'numpy.ndarray'>\n",
      "1\n",
      "5\n",
      "5\n",
      "(5,)\n"
     ]
    }
   ],
   "source": [
    "#Creating 1D array from 1 list\n",
    "Array1=array([\"KESHAV\",45+9j,True,39.69,39]) #Convert the 1D list into array\n",
    "print(Array1)\n",
    "print(type(Array1))\n",
    "print(ndim(Array1))    \n",
    "print(size(Array1))\n",
    "print(len(Array1))\n",
    "print(shape(Array1))"
   ]
  },
  {
   "cell_type": "code",
   "execution_count": 147,
   "metadata": {},
   "outputs": [
    {
     "name": "stdout",
     "output_type": "stream",
     "text": [
      "['39.69' '39']\n"
     ]
    }
   ],
   "source": [
    "#Indexing in 1D Array is Array[]\n",
    "print(Array1[[3,4]]) #Shows the 3rd & 4th index element of the Array"
   ]
  },
  {
   "cell_type": "code",
   "execution_count": 148,
   "metadata": {},
   "outputs": [
    {
     "name": "stdout",
     "output_type": "stream",
     "text": [
      "39.69\n"
     ]
    }
   ],
   "source": [
    "#Indexing in 1D Array is Array[]\n",
    "print(Array1[3]) #Shows the 3rd index element of the Array"
   ]
  },
  {
   "cell_type": "code",
   "execution_count": 149,
   "metadata": {},
   "outputs": [
    {
     "name": "stdout",
     "output_type": "stream",
     "text": [
      "39.69\n"
     ]
    }
   ],
   "source": [
    "print(Array1[-2]) #Shows the 2nd index element from RHS"
   ]
  },
  {
   "cell_type": "code",
   "execution_count": 150,
   "metadata": {},
   "outputs": [
    {
     "name": "stdout",
     "output_type": "stream",
     "text": [
      "KESHAV\n"
     ]
    }
   ],
   "source": [
    "print(Array1[0]) #Shows the 0th index element of the Array"
   ]
  },
  {
   "cell_type": "code",
   "execution_count": 151,
   "metadata": {},
   "outputs": [
    {
     "name": "stdout",
     "output_type": "stream",
     "text": [
      "KESHAV\n"
     ]
    }
   ],
   "source": [
    "print(Array1[-5]) #Shows the 5th index element from RHS"
   ]
  },
  {
   "cell_type": "code",
   "execution_count": 152,
   "metadata": {},
   "outputs": [],
   "source": [
    "Tuple=\"KESHAV\",45+9j,True,39.69,39"
   ]
  },
  {
   "cell_type": "code",
   "execution_count": 153,
   "metadata": {},
   "outputs": [
    {
     "name": "stdout",
     "output_type": "stream",
     "text": [
      "KESHAV\n"
     ]
    }
   ],
   "source": [
    "#Indexing in Tuple\n",
    "print(Tuple[0]) #Shows the 0th index element"
   ]
  },
  {
   "cell_type": "code",
   "execution_count": 154,
   "metadata": {},
   "outputs": [
    {
     "name": "stdout",
     "output_type": "stream",
     "text": [
      "H\n"
     ]
    }
   ],
   "source": [
    "print(Tuple[0][3]) #Shows the 3rd index element of the 0th index element (\"KESHAV\"), ie letter H"
   ]
  },
  {
   "cell_type": "code",
   "execution_count": 155,
   "metadata": {},
   "outputs": [],
   "source": [
    "List=[\"KESHAV\",45+9j,True,39.69,39]"
   ]
  },
  {
   "cell_type": "code",
   "execution_count": 156,
   "metadata": {},
   "outputs": [
    {
     "name": "stdout",
     "output_type": "stream",
     "text": [
      "KESHAV\n"
     ]
    }
   ],
   "source": [
    "#Indexing in List\n",
    "print(List[0]) #Shows the 0th index element"
   ]
  },
  {
   "cell_type": "code",
   "execution_count": 157,
   "metadata": {},
   "outputs": [
    {
     "name": "stdout",
     "output_type": "stream",
     "text": [
      "H\n"
     ]
    }
   ],
   "source": [
    "print(List[0][3]) #Shows the 3rd index element of the 0th index element (\"KESHAV\"), ie letter H"
   ]
  },
  {
   "cell_type": "code",
   "execution_count": 158,
   "metadata": {},
   "outputs": [
    {
     "name": "stdout",
     "output_type": "stream",
     "text": [
      "[['KESHAV' '(45+9j)' 'True' '39.69' '39']\n",
      " ['10.1' 'Prashant' '(10+10j)' 'False' '10']]\n",
      "<class 'numpy.ndarray'>\n",
      "2\n",
      "10\n",
      "2\n",
      "(2, 5)\n"
     ]
    }
   ],
   "source": [
    "#Creating 2D array from 2 nested lists\n",
    "#No of elements/length of each list should be same\n",
    "#Create 2D list using 2 nested lists & then convert that list into array\n",
    "Array2D=array([[\"KESHAV\",45+9j,True,39.69,39],[10.10,'Prashant',10+10j,False,10]]) #Transforming nested list of 2 lists into Array\n",
    "print(Array2D)\n",
    "print(type(Array2D))\n",
    "print(ndim(Array2D))    \n",
    "print(size(Array2D))\n",
    "print(len(Array2D))\n",
    "print(shape(Array2D))"
   ]
  },
  {
   "cell_type": "code",
   "execution_count": 159,
   "metadata": {},
   "outputs": [
    {
     "name": "stdout",
     "output_type": "stream",
     "text": [
      "[['KESHAV' '(45+9j)' 'True' '39.69' '39']\n",
      " ['10.1' 'Prashant' '(10+10j)' 'False' '10']]\n",
      "<class 'numpy.ndarray'>\n",
      "2\n",
      "10\n",
      "2\n",
      "(2, 5)\n"
     ]
    }
   ],
   "source": [
    "#Creating 2D array from 2 lists\n",
    "#No of elements/length of each list should be same\n",
    "#Create 2D list using 2 nested lists & then convert that list into array\n",
    "Array2D=array([[\"KESHAV\",45+9j,True,39.69,39],[10.10,'Prashant',10+10j,False,10]]) #Transforming nested list of 2 lists into Array\n",
    "print(Array2D)\n",
    "print(type(Array2D))\n",
    "print(ndim(Array2D))    \n",
    "print(size(Array2D))\n",
    "print(len(Array2D))\n",
    "print(shape(Array2D))"
   ]
  },
  {
   "cell_type": "code",
   "execution_count": 160,
   "metadata": {},
   "outputs": [
    {
     "name": "stdout",
     "output_type": "stream",
     "text": [
      "Prashant\n",
      "\n",
      "Prashant\n",
      "\n",
      "['Prashant']\n"
     ]
    }
   ],
   "source": [
    "print(Array2D[1,1]) # 1st row & then 1st index element of that row\n",
    "print()\n",
    "print(Array2D[1][1])\n",
    "print()\n",
    "print(Array2D[1,[1]])"
   ]
  },
  {
   "cell_type": "code",
   "execution_count": 161,
   "metadata": {},
   "outputs": [
    {
     "name": "stdout",
     "output_type": "stream",
     "text": [
      "[['(45+9j)' 'True']\n",
      " ['Prashant' '(10+10j)']]\n",
      "\n",
      "[['(45+9j)' 'True']\n",
      " ['Prashant' '(10+10j)']]\n",
      "\n",
      "[['(45+9j)']\n",
      " ['Prashant']]\n",
      "\n"
     ]
    }
   ],
   "source": [
    "print(Array2D[:,1:3]) # all rows & then column indexes from 1 to 3\n",
    "print()\n",
    "print(Array2D[:,[1,2]]) # all rows & then column indexes 1 & 2\n",
    "print()\n",
    "print(Array2D[:,[1]]) # all rows & then column indexe 1\n",
    "print()"
   ]
  },
  {
   "cell_type": "code",
   "execution_count": 162,
   "metadata": {},
   "outputs": [
    {
     "name": "stdout",
     "output_type": "stream",
     "text": [
      "[[['Faluda' '(49+9j)' 'False' '99.69' '69']\n",
      "  ['Madhav' '(48+9j)' 'True' '39.68' '39']]\n",
      "\n",
      " [['10.1' 'Prashant' '(10+10j)' 'False' '10']\n",
      "  ['10.12' 'Pramod' '(19+10j)' 'True' '19']]]\n",
      "<class 'numpy.ndarray'>\n",
      "3\n",
      "20\n",
      "2\n",
      "(2, 2, 5)\n"
     ]
    }
   ],
   "source": [
    "Array3D=array([[[\"Faluda\",49+9j,False,99.69,69],\n",
    "                [\"Madhav\",48+9j,True,39.68,39]],\n",
    "               [[10.10,'Prashant',10+10j,False,10],\n",
    "                [10.12,'Pramod',19+10j,True,19]]])\n",
    "print(Array3D)\n",
    "print(type(Array3D))\n",
    "print(ndim(Array3D))    \n",
    "print(size(Array3D))\n",
    "print(len(Array3D))\n",
    "print(shape(Array3D)) # Array[:, :, :] all array, all rows, all columns"
   ]
  },
  {
   "cell_type": "code",
   "execution_count": 163,
   "metadata": {},
   "outputs": [
    {
     "name": "stdout",
     "output_type": "stream",
     "text": [
      "Prashant\n"
     ]
    }
   ],
   "source": [
    "print(Array3D[1,0,1]) # 1st index array then 0th index row the 1st index element"
   ]
  },
  {
   "cell_type": "code",
   "execution_count": 164,
   "metadata": {},
   "outputs": [
    {
     "name": "stdout",
     "output_type": "stream",
     "text": [
      "[['False' 'True']\n",
      " ['(10+10j)' '(19+10j)']]\n"
     ]
    }
   ],
   "source": [
    "print(Array3D[:,:,2]) # All arrays then all rows then column index 2"
   ]
  },
  {
   "cell_type": "code",
   "execution_count": 165,
   "metadata": {},
   "outputs": [
    {
     "name": "stdout",
     "output_type": "stream",
     "text": [
      "[['(49+9j)' 'False']\n",
      " ['Prashant' '(10+10j)']]\n"
     ]
    }
   ],
   "source": [
    "print(Array3D[:,0,1:3]) # All arrays then 0th index rows of all arrays then column index range 1 to 3"
   ]
  },
  {
   "cell_type": "code",
   "execution_count": 166,
   "metadata": {},
   "outputs": [
    {
     "name": "stdout",
     "output_type": "stream",
     "text": [
      "[[['(49+9j)' 'False']\n",
      "  ['(48+9j)' 'True']]\n",
      "\n",
      " [['Prashant' '(10+10j)']\n",
      "  ['Pramod' '(19+10j)']]]\n"
     ]
    }
   ],
   "source": [
    "print(Array3D[:,[0,1],1:3]) # All arrays then 0th & 1st index rows of all arrays then column index range 1 to 3"
   ]
  },
  {
   "cell_type": "code",
   "execution_count": 167,
   "metadata": {},
   "outputs": [
    {
     "name": "stdout",
     "output_type": "stream",
     "text": [
      "[[['(49+9j)' 'False']\n",
      "  ['(48+9j)' 'True']]\n",
      "\n",
      " [['Prashant' '(10+10j)']\n",
      "  ['Pramod' '(19+10j)']]]\n"
     ]
    }
   ],
   "source": [
    "print(Array3D[:,0:2,1:3]) # All arrays then 0th to 2nd index range rows of all arrays then column index range 1 to 3"
   ]
  },
  {
   "cell_type": "code",
   "execution_count": 168,
   "metadata": {},
   "outputs": [
    {
     "name": "stdout",
     "output_type": "stream",
     "text": [
      "[['Faluda' '(49+9j)' 'False' '99.69' '69']\n",
      " ['10.1' 'Prashant' '(10+10j)' 'False' '10']]\n"
     ]
    }
   ],
   "source": [
    "print(Array3D[:,0,:]) # All arrays then 0th row index of all arrays then all columns"
   ]
  },
  {
   "cell_type": "code",
   "execution_count": 169,
   "metadata": {},
   "outputs": [
    {
     "name": "stdout",
     "output_type": "stream",
     "text": [
      "[['Madhav' '(48+9j)' 'True' '39.68' '39']\n",
      " ['10.12' 'Pramod' '(19+10j)' 'True' '19']]\n"
     ]
    }
   ],
   "source": [
    "print(Array3D[:,1,:]) # All arrays then 1st row index of all arrays then all columns"
   ]
  },
  {
   "cell_type": "code",
   "execution_count": 170,
   "metadata": {},
   "outputs": [
    {
     "name": "stdout",
     "output_type": "stream",
     "text": [
      "[[['KESHAV' '(45+9j)' 'True' '39.69' '39']]\n",
      "\n",
      " [['10.1' 'Prashant' '(10+10j)' 'False' '10']]]\n",
      "<class 'numpy.ndarray'>\n",
      "3\n",
      "10\n",
      "2\n",
      "(2, 1, 5)\n"
     ]
    }
   ],
   "source": [
    "Array3D=array([[[\"KESHAV\",45+9j,True,39.69,39]],[[10.10,'Prashant',10+10j,False,10]]]) #Transforming nested list of 3 lists into Array\n",
    "print(Array3D)\n",
    "print(type(Array3D))\n",
    "print(ndim(Array3D))    \n",
    "print(size(Array3D))\n",
    "print(len(Array3D))\n",
    "print(shape(Array3D))"
   ]
  },
  {
   "cell_type": "code",
   "execution_count": 171,
   "metadata": {},
   "outputs": [
    {
     "name": "stdout",
     "output_type": "stream",
     "text": [
      "Prashant\n"
     ]
    }
   ],
   "source": [
    "print(Array3D[1,0,1]) # 1st array then 0th row index then 1st index element"
   ]
  },
  {
   "cell_type": "code",
   "execution_count": 172,
   "metadata": {},
   "outputs": [
    {
     "name": "stdout",
     "output_type": "stream",
     "text": [
      "[['True']\n",
      " ['(10+10j)']]\n"
     ]
    }
   ],
   "source": [
    "print(Array3D[:,:,2]) # all arrays then all rows then 2nd column index"
   ]
  },
  {
   "cell_type": "code",
   "execution_count": 173,
   "metadata": {},
   "outputs": [
    {
     "name": "stdout",
     "output_type": "stream",
     "text": [
      "[[['KESHAV' '(45+9j)' 'True' '39.69' '39']\n",
      "  ['10.1' 'Prashant' '(10+10j)' 'False' '10']]]\n",
      "<class 'numpy.ndarray'>\n",
      "3\n",
      "10\n",
      "1\n",
      "(1, 2, 5)\n"
     ]
    }
   ],
   "source": [
    "Array3D=array([[[\"KESHAV\",45+9j,True,39.69,39],[10.10,'Prashant',10+10j,False,10]]]) #Transforming nested list of 3 lists into Array\n",
    "print(Array3D)\n",
    "print(type(Array3D))\n",
    "print(ndim(Array3D))    \n",
    "print(size(Array3D))\n",
    "print(len(Array3D))\n",
    "print(shape(Array3D))"
   ]
  },
  {
   "cell_type": "code",
   "execution_count": 174,
   "metadata": {},
   "outputs": [
    {
     "name": "stdout",
     "output_type": "stream",
     "text": [
      "Prashant\n"
     ]
    }
   ],
   "source": [
    "print(Array3D[0,1,1]) # 0th index array then 1st row index then 1st column index"
   ]
  },
  {
   "cell_type": "code",
   "execution_count": 175,
   "metadata": {},
   "outputs": [
    {
     "name": "stdout",
     "output_type": "stream",
     "text": [
      "[[['True']\n",
      "  ['(10+10j)']]]\n"
     ]
    }
   ],
   "source": [
    "print(Array3D[:,:,[2]]) # all arrays then all rows then 2nd index column"
   ]
  },
  {
   "cell_type": "code",
   "execution_count": 176,
   "metadata": {},
   "outputs": [
    {
     "name": "stdout",
     "output_type": "stream",
     "text": [
      "[['KESHAV' '(45+9j)' 'True' '39.69' '39']\n",
      " ['10.1' 'Prashant' '(10+10j)' 'False' '10']]\n",
      "<class 'numpy.ndarray'>\n",
      "2\n",
      "10\n",
      "2\n",
      "(2, 5)\n"
     ]
    }
   ],
   "source": [
    "Array2D=array([[\"KESHAV\",45+9j,True,39.69,39],[10.10,'Prashant',10+10j,False,10]]) #Transforming nested list of 3 lists into Array\n",
    "print(Array2D)\n",
    "print(type(Array2D))\n",
    "print(ndim(Array2D))    \n",
    "print(size(Array2D))\n",
    "print(len(Array2D))\n",
    "print(shape(Array2D))"
   ]
  },
  {
   "cell_type": "code",
   "execution_count": 177,
   "metadata": {},
   "outputs": [
    {
     "name": "stdout",
     "output_type": "stream",
     "text": [
      "Prashant\n"
     ]
    }
   ],
   "source": [
    "print(Array2D[1,1]) # 1st row index then 1st index element"
   ]
  },
  {
   "cell_type": "code",
   "execution_count": 178,
   "metadata": {},
   "outputs": [
    {
     "name": "stdout",
     "output_type": "stream",
     "text": [
      "[['True']\n",
      " ['(10+10j)']]\n"
     ]
    }
   ],
   "source": [
    "print(Array2D[:,[2]]) # all rows then 2nd column index"
   ]
  },
  {
   "cell_type": "markdown",
   "metadata": {},
   "source": [
    "### Indexingin in 2D array is Array2D[row index][col index]\n",
    "### Array[ : , : ] means all rows & all columns"
   ]
  },
  {
   "cell_type": "code",
   "execution_count": 179,
   "metadata": {},
   "outputs": [
    {
     "name": "stdout",
     "output_type": "stream",
     "text": [
      "[['KESHAV' '(45+9j)' 'True' '39.69' '39']\n",
      " ['10.1' 'Prashant' '(10+10j)' 'False' '10']]\n",
      "<class 'numpy.ndarray'>\n",
      "2\n",
      "10\n",
      "2\n",
      "(2, 5)\n",
      "(10+10j)\n",
      "(10+10j)\n"
     ]
    }
   ],
   "source": [
    "Array2D=array([[\"KESHAV\",45+9j,True,39.69,39],[10.10,'Prashant',10+10j,False,10]]) #Transforming nested list of 3 lists into Array\n",
    "print(Array2D)\n",
    "print(type(Array2D))\n",
    "print(ndim(Array2D))    \n",
    "print(size(Array2D))\n",
    "print(len(Array2D))\n",
    "print(shape(Array2D))\n",
    "print(Array2D[1][2]) # 1st Row index & 2nd Column index intersect\n",
    "print(Array2D[1,2]) # 1st Row index & 2nd Column index intersect"
   ]
  },
  {
   "cell_type": "code",
   "execution_count": 180,
   "metadata": {},
   "outputs": [
    {
     "data": {
      "text/plain": [
       "'(10+10j)'"
      ]
     },
     "execution_count": 180,
     "metadata": {},
     "output_type": "execute_result"
    }
   ],
   "source": [
    "Array2D[1,2] # 1st Row index then 2nd Column index"
   ]
  },
  {
   "cell_type": "code",
   "execution_count": 181,
   "metadata": {},
   "outputs": [
    {
     "name": "stdout",
     "output_type": "stream",
     "text": [
      "[['KESHAV' '(45+9j)' 'True' '39.69' '39']\n",
      " ['10.1' 'Prashant' '(10+10j)' 'False' '10']]\n",
      "\n",
      "[['KESHAV' '(45+9j)' 'True' '39.69' '39']\n",
      " ['10.1' 'Prashant' '(10+10j)' 'False' '10']]\n",
      "\n",
      "[['KESHAV' '(45+9j)' 'True' '39.69' '39']\n",
      " ['10.1' 'Prashant' '(10+10j)' 'False' '10']]\n",
      "\n",
      "[['KESHAV' '(45+9j)' 'True' '39.69' '39']\n",
      " ['10.1' 'Prashant' '(10+10j)' 'False' '10']]\n",
      "\n",
      "[['KESHAV' '(45+9j)' 'True' '39.69' '39']\n",
      " ['10.1' 'Prashant' '(10+10j)' 'False' '10']]\n",
      "\n",
      "[['KESHAV' '(45+9j)' 'True' '39.69' '39']\n",
      " ['10.1' 'Prashant' '(10+10j)' 'False' '10']]\n",
      "\n",
      "[['KESHAV' '(45+9j)' 'True' '39.69' '39']\n",
      " ['10.1' 'Prashant' '(10+10j)' 'False' '10']]\n",
      "\n",
      "[['KESHAV' '(45+9j)' 'True' '39.69' '39']\n",
      " ['10.1' 'Prashant' '(10+10j)' 'False' '10']]\n",
      "\n",
      "[['KESHAV' '(45+9j)' 'True' '39.69' '39']\n",
      " ['10.1' 'Prashant' '(10+10j)' 'False' '10']]\n"
     ]
    }
   ],
   "source": [
    "print(Array2D[:]) # all rows\n",
    "print()\n",
    "print(Array2D[:,:]) # all rows & all columns\n",
    "print()\n",
    "print(Array2D[0:2,:]) # row index range from 0 to 2 & then all columns\n",
    "print()\n",
    "print(Array2D[[0,1],:]) # row index 0 & 1 & then all columns\n",
    "print()\n",
    "print(Array2D[[0,1],0:5]) # row index 0 & 1 & then column index range from 0 to 5\n",
    "print()\n",
    "print(Array2D[[0,1]]) # row index 0 & 1\n",
    "print()\n",
    "print(Array2D[[0,1]]) #Shows 0th Row & 1st Row for Array2D\n",
    "print()\n",
    "print(Array2D[[0,1],]) #Shows 0th Row & 1st Row for Array2D\n",
    "print()\n",
    "print(Array2D[:,[0,1,2,3,4]]) #Shows all Rows & 0th,1st,2nd,3rd & 4th cols"
   ]
  },
  {
   "cell_type": "code",
   "execution_count": 182,
   "metadata": {},
   "outputs": [
    {
     "name": "stdout",
     "output_type": "stream",
     "text": [
      "['True' 'False']\n",
      "\n",
      "[['True' '39.69' '39']\n",
      " ['(10+10j)' 'False' '10']]\n",
      "\n",
      "[['True' '39.69' '39']\n",
      " ['(10+10j)' 'False' '10']]\n",
      "\n"
     ]
    }
   ],
   "source": [
    "print(Array2D[[0,1],[2,3]]) #0th Row index with 2nd element, True\n",
    "                            #1st Row index with 3rd element, False\n",
    "print()\n",
    "print(Array2D[:, 2:]) # all rows then columns range from 2 to till end\n",
    "print()\n",
    "print(Array2D[:, [2,3,4]]) # all rows then columns are 2, 3 & 4\n",
    "print()"
   ]
  },
  {
   "cell_type": "code",
   "execution_count": 183,
   "metadata": {},
   "outputs": [
    {
     "name": "stdout",
     "output_type": "stream",
     "text": [
      "[['True' '39.69']\n",
      " ['(10+10j)' 'False']]\n",
      "\n",
      "[['True' '39.69']\n",
      " ['(10+10j)' 'False']]\n",
      "\n",
      "[['True' '39.69']\n",
      " ['(10+10j)' 'False']]\n",
      "\n"
     ]
    }
   ],
   "source": [
    "print(Array2D[0:2,2:4]) # 0 to 2 row index range & then 2 to 4 columns index range\n",
    "                 #here 2nd is upper boundary of Row index & 4th is upper boundary of Column index\n",
    "print()\n",
    "print(Array2D[0:2,[2,3]]) # 0 to 2 row index range & then column index 2 & 3\n",
    "print()\n",
    "print(Array2D[[0,1],2:4]) # 0 & 1 row index & then 2 to 4 columns index range\n",
    "print()"
   ]
  },
  {
   "cell_type": "code",
   "execution_count": 184,
   "metadata": {},
   "outputs": [
    {
     "name": "stdout",
     "output_type": "stream",
     "text": [
      "[['True']\n",
      " ['(10+10j)']]\n",
      "\n",
      "[['True']\n",
      " ['(10+10j)']]\n"
     ]
    }
   ],
   "source": [
    "print(Array2D[[0,1],2:3]) #0th & 1st row index & then column index range from 2 to 3\n",
    "print()\n",
    "print(Array2D[:,[2]]) # all rows then 2nd column index"
   ]
  },
  {
   "cell_type": "code",
   "execution_count": 185,
   "metadata": {},
   "outputs": [
    {
     "name": "stdout",
     "output_type": "stream",
     "text": [
      "['True' '(10+10j)']\n",
      "\n",
      "['True' '(10+10j)']\n",
      "\n",
      "['True' '(10+10j)']\n",
      "\n",
      "[['True']\n",
      " ['(10+10j)']]\n"
     ]
    }
   ],
   "source": [
    "print(Array2D[[0,1],[2]]) # 0th row then 2nd index element & 1st row then 2nd index element\n",
    "print()\n",
    "print(Array2D[[0,1],2]) # 0th & 1st row index & then 2nd column index\n",
    "print()\n",
    "print(Array2D[:,2]) # all rows & then 2nd column index\n",
    "print()\n",
    "print(Array2D[:,[2]]) # all rows & then 2nd column index"
   ]
  },
  {
   "cell_type": "code",
   "execution_count": 186,
   "metadata": {},
   "outputs": [
    {
     "name": "stdout",
     "output_type": "stream",
     "text": [
      "[['KESHAV' '(45+9j)' 'True' '39.69' '39']\n",
      " ['10.1' 'Prashant' '(10+10j)' 'False' '10']]\n",
      "\n",
      "[['KESHAV' '(45+9j)' 'True' '39.69' '39']\n",
      " ['10.1' 'Prashant' '(10+10j)' 'False' '10']]\n",
      "\n",
      "[['KESHAV' '(45+9j)' 'True' '39.69' '39']\n",
      " ['10.1' 'Prashant' '(10+10j)' 'False' '10']]\n",
      "\n",
      "[['KESHAV' '(45+9j)' 'True' '39.69' '39']\n",
      " ['10.1' 'Prashant' '(10+10j)' 'False' '10']]\n"
     ]
    }
   ],
   "source": [
    "print(Array2D[[0,1],0:5]) # 0th & 1st row index & then 0 to 5 column index range\n",
    "print()\n",
    "print(Array2D[0:2,0:5]) # 0 to 2 row index range & then 0 to 5 column index range\n",
    "                        #2nd is Row index upper boundary & 5th is Column index upper boundary\n",
    "print()\n",
    "print(Array2D[0:2,[0,1,2,3,4]]) # 0 to 2 row index range & then 0,1,2,3 & 4 column indexes\n",
    "print()\n",
    "print(Array2D[:,0:5]) # all rows & then 0 to 5 column index range"
   ]
  },
  {
   "cell_type": "code",
   "execution_count": 187,
   "metadata": {},
   "outputs": [
    {
     "name": "stdout",
     "output_type": "stream",
     "text": [
      "[['True' '39.69']\n",
      " ['(10+10j)' 'False']]\n",
      "\n",
      "[['True' '39.69']\n",
      " ['(10+10j)' 'False']]\n"
     ]
    }
   ],
   "source": [
    "print(Array2D[:,[2,3]]) # all rows & then 2 & 3 column indexes\n",
    "print()\n",
    "print(Array2D[:, 2:4]) # all rows & then 2 to 4 column indexes range"
   ]
  },
  {
   "cell_type": "code",
   "execution_count": 188,
   "metadata": {},
   "outputs": [
    {
     "name": "stdout",
     "output_type": "stream",
     "text": [
      "[['KESHAV' '39']\n",
      " ['10.1' '10']]\n",
      "\n",
      "[['KESHAV' '39']\n",
      " ['10.1' '10']]\n"
     ]
    }
   ],
   "source": [
    "print(Array2D[:,[0,4]]) # all rows then 0 & 4 column indexes\n",
    "print()\n",
    "print(Array2D[[0,1],0:5:4]) # Rows indexes 0 & 1 and then 0 to 5 column indexes range with step 4"
   ]
  },
  {
   "cell_type": "code",
   "execution_count": 189,
   "metadata": {},
   "outputs": [
    {
     "name": "stdout",
     "output_type": "stream",
     "text": [
      "[['39']\n",
      " ['10']]\n"
     ]
    }
   ],
   "source": [
    "print(Array2D[:,4:5]) # all rows & then column indexes range from 4 to 5"
   ]
  },
  {
   "cell_type": "code",
   "execution_count": 190,
   "metadata": {},
   "outputs": [
    {
     "name": "stdout",
     "output_type": "stream",
     "text": [
      "[['39']\n",
      " ['10']]\n"
     ]
    }
   ],
   "source": [
    "print(Array2D[:,[4]]) # all rows & then 4th column index"
   ]
  },
  {
   "cell_type": "code",
   "execution_count": 191,
   "metadata": {},
   "outputs": [
    {
     "name": "stdout",
     "output_type": "stream",
     "text": [
      "(10+10j)\n"
     ]
    }
   ],
   "source": [
    "print(Array2D[1][-3]) # 1st row index & then -3 index element"
   ]
  },
  {
   "cell_type": "code",
   "execution_count": 192,
   "metadata": {},
   "outputs": [
    {
     "name": "stdout",
     "output_type": "stream",
     "text": [
      "['(10+10j)']\n"
     ]
    }
   ],
   "source": [
    "print(Array2D[[1],[-3]]) # 1st row index & then -3 index element"
   ]
  },
  {
   "cell_type": "code",
   "execution_count": 193,
   "metadata": {},
   "outputs": [
    {
     "name": "stdout",
     "output_type": "stream",
     "text": [
      "(10+10j)\n"
     ]
    }
   ],
   "source": [
    "print(Array2D[1,-3]) # 1st row index & then -3 index element"
   ]
  },
  {
   "cell_type": "code",
   "execution_count": 194,
   "metadata": {},
   "outputs": [
    {
     "name": "stdout",
     "output_type": "stream",
     "text": [
      "(10+10j)\n"
     ]
    }
   ],
   "source": [
    "print(Array2D[-1][2]) # last row index & then 2nd index element"
   ]
  },
  {
   "cell_type": "code",
   "execution_count": 195,
   "metadata": {},
   "outputs": [
    {
     "name": "stdout",
     "output_type": "stream",
     "text": [
      "['(10+10j)']\n"
     ]
    }
   ],
   "source": [
    "print(Array2D[[-1],[2]]) # last row index & then 2nd index element"
   ]
  },
  {
   "cell_type": "code",
   "execution_count": 196,
   "metadata": {},
   "outputs": [
    {
     "name": "stdout",
     "output_type": "stream",
     "text": [
      "(10+10j)\n"
     ]
    }
   ],
   "source": [
    "print(Array2D[-1,2]) # last row index & then 2nd index element"
   ]
  },
  {
   "cell_type": "code",
   "execution_count": 197,
   "metadata": {},
   "outputs": [
    {
     "name": "stdout",
     "output_type": "stream",
     "text": [
      "(10+10j)\n"
     ]
    }
   ],
   "source": [
    "print(Array2D[-1][-3]) # last row index & then -3 index element ie last 3rd element form RHS"
   ]
  },
  {
   "cell_type": "code",
   "execution_count": 198,
   "metadata": {},
   "outputs": [
    {
     "name": "stdout",
     "output_type": "stream",
     "text": [
      "['(10+10j)']\n"
     ]
    }
   ],
   "source": [
    "print(Array2D[[-1],[-3]]) # last row index & then -3 index element ie last 3rd element form RHS"
   ]
  },
  {
   "cell_type": "code",
   "execution_count": 199,
   "metadata": {},
   "outputs": [
    {
     "name": "stdout",
     "output_type": "stream",
     "text": [
      "(10+10j)\n"
     ]
    }
   ],
   "source": [
    "print(Array2D[-1,-3]) # last row index & then -3 index element ie last 3rd element form RHS"
   ]
  },
  {
   "cell_type": "markdown",
   "metadata": {},
   "source": [
    "### Indexing in 3D Array is Array3D[array index][row index][col index] and\n",
    "### Array[ : , : , : ] means all arrays, all rows & all columns"
   ]
  },
  {
   "cell_type": "code",
   "execution_count": 200,
   "metadata": {},
   "outputs": [
    {
     "name": "stdout",
     "output_type": "stream",
     "text": [
      "[[['KESHAV' '(45+9j)' 'True' '39.69' '39']\n",
      "  ['10.1' 'Prashant' '(10+10j)' 'False' '10']]\n",
      "\n",
      " [['RAGHAV' '(49+9j)' 'True' '36.69' '36']\n",
      "  ['10.16' 'Prashant' '(19+10j)' 'False' '17']]]\n",
      "<class 'numpy.ndarray'>\n",
      "3\n",
      "20\n",
      "2\n",
      "(2, 2, 5)\n"
     ]
    }
   ],
   "source": [
    "#Creating 3D Array of Lists\n",
    "Array3D=array([[[\"KESHAV\",45+9j,True,39.69,39],[10.10,'Prashant',10+10j,False,10]],[[\"RAGHAV\",49+9j,True,36.69,36],[10.16,'Prashant',19+10j,False,17]]])\n",
    "print(Array3D)\n",
    "print(type(Array3D))\n",
    "print(ndim(Array3D))    \n",
    "print(size(Array3D))\n",
    "print(len(Array3D))\n",
    "print(shape(Array3D))"
   ]
  },
  {
   "cell_type": "code",
   "execution_count": 201,
   "metadata": {},
   "outputs": [
    {
     "name": "stdout",
     "output_type": "stream",
     "text": [
      "(19+10j)\n",
      "\n",
      "(19+10j)\n",
      "\n",
      "['17']\n"
     ]
    }
   ],
   "source": [
    "print(Array3D[1][1][2]) # 1st array then 1st row then 2nd index element\n",
    "print()\n",
    "print(Array3D[1,1,2]) # 1st array then 1st row then 2nd index element\n",
    "print()\n",
    "print(Array3D[1,1,[4]]) # 1st array then 1st row then 4th index element"
   ]
  },
  {
   "cell_type": "code",
   "execution_count": 202,
   "metadata": {},
   "outputs": [
    {
     "data": {
      "text/plain": [
       "array([[['KESHAV', '(45+9j)', 'True', '39.69', '39'],\n",
       "        ['10.1', 'Prashant', '(10+10j)', 'False', '10']],\n",
       "\n",
       "       [['RAGHAV', '(49+9j)', 'True', '36.69', '36'],\n",
       "        ['10.16', 'Prashant', '(19+10j)', 'False', '17']]], dtype='<U64')"
      ]
     },
     "execution_count": 202,
     "metadata": {},
     "output_type": "execute_result"
    }
   ],
   "source": [
    "Array3D[[0,1]] # 0th array index & 1st array index"
   ]
  },
  {
   "cell_type": "code",
   "execution_count": 203,
   "metadata": {},
   "outputs": [
    {
     "data": {
      "text/plain": [
       "array([[['KESHAV', '(45+9j)', 'True', '39.69', '39'],\n",
       "        ['10.1', 'Prashant', '(10+10j)', 'False', '10']],\n",
       "\n",
       "       [['RAGHAV', '(49+9j)', 'True', '36.69', '36'],\n",
       "        ['10.16', 'Prashant', '(19+10j)', 'False', '17']]], dtype='<U64')"
      ]
     },
     "execution_count": 203,
     "metadata": {},
     "output_type": "execute_result"
    }
   ],
   "source": [
    "Array3D[[0,1],:,:] # 0th array index & 1st array index then all rows & all coloumns"
   ]
  },
  {
   "cell_type": "code",
   "execution_count": 204,
   "metadata": {},
   "outputs": [
    {
     "data": {
      "text/plain": [
       "array([[['KESHAV', '(45+9j)', 'True', '39.69', '39'],\n",
       "        ['10.1', 'Prashant', '(10+10j)', 'False', '10']],\n",
       "\n",
       "       [['RAGHAV', '(49+9j)', 'True', '36.69', '36'],\n",
       "        ['10.16', 'Prashant', '(19+10j)', 'False', '17']]], dtype='<U64')"
      ]
     },
     "execution_count": 204,
     "metadata": {},
     "output_type": "execute_result"
    }
   ],
   "source": [
    "Array3D[0:2] # 0 to 2 array index range"
   ]
  },
  {
   "cell_type": "code",
   "execution_count": 205,
   "metadata": {},
   "outputs": [
    {
     "data": {
      "text/plain": [
       "array([[['KESHAV', '(45+9j)', 'True', '39.69', '39'],\n",
       "        ['10.1', 'Prashant', '(10+10j)', 'False', '10']],\n",
       "\n",
       "       [['RAGHAV', '(49+9j)', 'True', '36.69', '36'],\n",
       "        ['10.16', 'Prashant', '(19+10j)', 'False', '17']]], dtype='<U64')"
      ]
     },
     "execution_count": 205,
     "metadata": {},
     "output_type": "execute_result"
    }
   ],
   "source": [
    "Array3D[0:2,:,:] # 0 to 2 array index range then all rows & all coloumns"
   ]
  },
  {
   "cell_type": "code",
   "execution_count": 206,
   "metadata": {},
   "outputs": [
    {
     "data": {
      "text/plain": [
       "array(['10.1', 'Prashant', '(10+10j)', 'False', '10'], dtype='<U64')"
      ]
     },
     "execution_count": 206,
     "metadata": {},
     "output_type": "execute_result"
    }
   ],
   "source": [
    "Array3D[0,1] #0th array index & then 1st row index"
   ]
  },
  {
   "cell_type": "code",
   "execution_count": 207,
   "metadata": {},
   "outputs": [
    {
     "data": {
      "text/plain": [
       "array(['KESHAV', '(45+9j)', 'True', '39.69', '39'], dtype='<U64')"
      ]
     },
     "execution_count": 207,
     "metadata": {},
     "output_type": "execute_result"
    }
   ],
   "source": [
    "Array3D[0,0] #0th Array index & 0th Row index of it"
   ]
  },
  {
   "cell_type": "code",
   "execution_count": 208,
   "metadata": {},
   "outputs": [
    {
     "data": {
      "text/plain": [
       "array(['10.16', 'Prashant', '(19+10j)', 'False', '17'], dtype='<U64')"
      ]
     },
     "execution_count": 208,
     "metadata": {},
     "output_type": "execute_result"
    }
   ],
   "source": [
    "Array3D[1,1] #1st Array index & 1st Row index of it"
   ]
  },
  {
   "cell_type": "code",
   "execution_count": 209,
   "metadata": {},
   "outputs": [
    {
     "data": {
      "text/plain": [
       "array(['RAGHAV', '(49+9j)', 'True', '36.69', '36'], dtype='<U64')"
      ]
     },
     "execution_count": 209,
     "metadata": {},
     "output_type": "execute_result"
    }
   ],
   "source": [
    "Array3D[1,0] #1st Array index & 0th Row index of it"
   ]
  },
  {
   "cell_type": "code",
   "execution_count": 210,
   "metadata": {},
   "outputs": [
    {
     "data": {
      "text/plain": [
       "array([[['True', '39.69'],\n",
       "        ['(10+10j)', 'False']],\n",
       "\n",
       "       [['True', '36.69'],\n",
       "        ['(19+10j)', 'False']]], dtype='<U64')"
      ]
     },
     "execution_count": 210,
     "metadata": {},
     "output_type": "execute_result"
    }
   ],
   "source": [
    "Array3D[:,:,[2,3]] # all arrays & all rows & then 2 & 3 column indexes"
   ]
  },
  {
   "cell_type": "code",
   "execution_count": 211,
   "metadata": {},
   "outputs": [
    {
     "data": {
      "text/plain": [
       "array([[['KESHAV', '(45+9j)', 'True', '39.69', '39'],\n",
       "        ['10.1', 'Prashant', '(10+10j)', 'False', '10']],\n",
       "\n",
       "       [['RAGHAV', '(49+9j)', 'True', '36.69', '36'],\n",
       "        ['10.16', 'Prashant', '(19+10j)', 'False', '17']]], dtype='<U64')"
      ]
     },
     "execution_count": 211,
     "metadata": {},
     "output_type": "execute_result"
    }
   ],
   "source": [
    "Array3D[:,0:2] # all arrays & then 0 to 2 row indexes range"
   ]
  },
  {
   "cell_type": "code",
   "execution_count": 212,
   "metadata": {},
   "outputs": [
    {
     "data": {
      "text/plain": [
       "array([[['KESHAV', '(45+9j)', 'True', '39.69', '39'],\n",
       "        ['10.1', 'Prashant', '(10+10j)', 'False', '10']],\n",
       "\n",
       "       [['RAGHAV', '(49+9j)', 'True', '36.69', '36'],\n",
       "        ['10.16', 'Prashant', '(19+10j)', 'False', '17']]], dtype='<U64')"
      ]
     },
     "execution_count": 212,
     "metadata": {},
     "output_type": "execute_result"
    }
   ],
   "source": [
    "Array3D[:,0:2,:] # all arrays & then 0 to 2 row indexes range & then all columns"
   ]
  },
  {
   "cell_type": "code",
   "execution_count": 213,
   "metadata": {},
   "outputs": [
    {
     "data": {
      "text/plain": [
       "array([[['KESHAV', '(45+9j)', 'True', '39.69', '39'],\n",
       "        ['10.1', 'Prashant', '(10+10j)', 'False', '10']],\n",
       "\n",
       "       [['RAGHAV', '(49+9j)', 'True', '36.69', '36'],\n",
       "        ['10.16', 'Prashant', '(19+10j)', 'False', '17']]], dtype='<U64')"
      ]
     },
     "execution_count": 213,
     "metadata": {},
     "output_type": "execute_result"
    }
   ],
   "source": [
    "Array3D[:,[0,1],:] # all arrays then 0 & 1 row indexes of them & then all coloumns"
   ]
  },
  {
   "cell_type": "code",
   "execution_count": 214,
   "metadata": {},
   "outputs": [
    {
     "data": {
      "text/plain": [
       "array([[['KESHAV', '39'],\n",
       "        ['10.1', '10']],\n",
       "\n",
       "       [['RAGHAV', '36'],\n",
       "        ['10.16', '17']]], dtype='<U64')"
      ]
     },
     "execution_count": 214,
     "metadata": {},
     "output_type": "execute_result"
    }
   ],
   "source": [
    "Array3D[:,:,[0,4]] #all arrays then all rows & then 0 & 4 column indexes of them"
   ]
  },
  {
   "cell_type": "code",
   "execution_count": 215,
   "metadata": {},
   "outputs": [
    {
     "data": {
      "text/plain": [
       "array([[['KESHAV', '(45+9j)', 'True', '39.69', '39']],\n",
       "\n",
       "       [['RAGHAV', '(49+9j)', 'True', '36.69', '36']]], dtype='<U64')"
      ]
     },
     "execution_count": 215,
     "metadata": {},
     "output_type": "execute_result"
    }
   ],
   "source": [
    "Array3D[:,[0]] # all arrays & then 0th row index of them"
   ]
  },
  {
   "cell_type": "code",
   "execution_count": 216,
   "metadata": {},
   "outputs": [
    {
     "data": {
      "text/plain": [
       "array([['KESHAV', '(45+9j)', 'True', '39.69', '39'],\n",
       "       ['RAGHAV', '(49+9j)', 'True', '36.69', '36']], dtype='<U64')"
      ]
     },
     "execution_count": 216,
     "metadata": {},
     "output_type": "execute_result"
    }
   ],
   "source": [
    "Array3D[:,0] # all arrays & then 0th row index of them"
   ]
  },
  {
   "cell_type": "code",
   "execution_count": 217,
   "metadata": {},
   "outputs": [
    {
     "data": {
      "text/plain": [
       "array([['10.1', 'Prashant', '(10+10j)', 'False', '10'],\n",
       "       ['10.16', 'Prashant', '(19+10j)', 'False', '17']], dtype='<U64')"
      ]
     },
     "execution_count": 217,
     "metadata": {},
     "output_type": "execute_result"
    }
   ],
   "source": [
    "Array3D[:,1] # all arrays & then 1st row index of them"
   ]
  },
  {
   "cell_type": "code",
   "execution_count": 218,
   "metadata": {},
   "outputs": [
    {
     "data": {
      "text/plain": [
       "array([[['10.1', 'Prashant', '(10+10j)', 'False', '10']],\n",
       "\n",
       "       [['10.16', 'Prashant', '(19+10j)', 'False', '17']]], dtype='<U64')"
      ]
     },
     "execution_count": 218,
     "metadata": {},
     "output_type": "execute_result"
    }
   ],
   "source": [
    "Array3D[:,[1]] # all arrays & then 1st row index of them"
   ]
  },
  {
   "cell_type": "code",
   "execution_count": 219,
   "metadata": {},
   "outputs": [
    {
     "data": {
      "text/plain": [
       "array([[['KESHAV', '(45+9j)', 'True', '39.69', '39'],\n",
       "        ['10.1', 'Prashant', '(10+10j)', 'False', '10']],\n",
       "\n",
       "       [['RAGHAV', '(49+9j)', 'True', '36.69', '36'],\n",
       "        ['10.16', 'Prashant', '(19+10j)', 'False', '17']]], dtype='<U64')"
      ]
     },
     "execution_count": 219,
     "metadata": {},
     "output_type": "execute_result"
    }
   ],
   "source": [
    "Array3D[:,:,0:5] # all arrays then all rows & then column index range from 0 to 5"
   ]
  },
  {
   "cell_type": "code",
   "execution_count": 220,
   "metadata": {},
   "outputs": [
    {
     "data": {
      "text/plain": [
       "array([[['39.69'],\n",
       "        ['False']],\n",
       "\n",
       "       [['36.69'],\n",
       "        ['False']]], dtype='<U64')"
      ]
     },
     "execution_count": 220,
     "metadata": {},
     "output_type": "execute_result"
    }
   ],
   "source": [
    "Array3D[:,:,3:4] # # all arrays then all rows & then column index range from 3 to 4"
   ]
  },
  {
   "cell_type": "code",
   "execution_count": 221,
   "metadata": {},
   "outputs": [
    {
     "data": {
      "text/plain": [
       "array([[['39.69'],\n",
       "        ['False']],\n",
       "\n",
       "       [['36.69'],\n",
       "        ['False']]], dtype='<U64')"
      ]
     },
     "execution_count": 221,
     "metadata": {},
     "output_type": "execute_result"
    }
   ],
   "source": [
    "Array3D[:,:,[3]] # all arrays then all rows & then 3rd column index of them"
   ]
  },
  {
   "cell_type": "code",
   "execution_count": 222,
   "metadata": {},
   "outputs": [
    {
     "data": {
      "text/plain": [
       "array([[['39.69', '39'],\n",
       "        ['False', '10']],\n",
       "\n",
       "       [['36.69', '36'],\n",
       "        ['False', '17']]], dtype='<U64')"
      ]
     },
     "execution_count": 222,
     "metadata": {},
     "output_type": "execute_result"
    }
   ],
   "source": [
    "Array3D[:,:,[3,4]] # all arrays then all rows & then 3rd & 4th column index of them"
   ]
  },
  {
   "cell_type": "code",
   "execution_count": 223,
   "metadata": {},
   "outputs": [
    {
     "data": {
      "text/plain": [
       "array(['True', 'False'], dtype='<U64')"
      ]
     },
     "execution_count": 223,
     "metadata": {},
     "output_type": "execute_result"
    }
   ],
   "source": [
    "Array3D[[0,1],[0,1],[2,3]] #0th index Array then 0th index row then 2nd index element, True\n",
    "                           #1st index Array then 1st index row then 3rd index element, False"
   ]
  },
  {
   "cell_type": "code",
   "execution_count": 224,
   "metadata": {},
   "outputs": [
    {
     "data": {
      "text/plain": [
       "array([['KESHAV', '(45+9j)', 'True', '39.69', '39'],\n",
       "       ['10.16', 'Prashant', '(19+10j)', 'False', '17']], dtype='<U64')"
      ]
     },
     "execution_count": 224,
     "metadata": {},
     "output_type": "execute_result"
    }
   ],
   "source": [
    "Array3D[[0,1],[0,1],0:5] #0th Array index with 0th Row index of it & from 0th col to 4th col index range\n",
    "                         #1st Array index with 1st Row index of it & from 0th col to 4th col index range"
   ]
  },
  {
   "cell_type": "code",
   "execution_count": 225,
   "metadata": {},
   "outputs": [
    {
     "data": {
      "text/plain": [
       "array(['(19+10j)'], dtype='<U64')"
      ]
     },
     "execution_count": 225,
     "metadata": {},
     "output_type": "execute_result"
    }
   ],
   "source": [
    "Array3D[[1],[1],[2]] #1st Array index with 1st Row index with 2nd col index"
   ]
  },
  {
   "cell_type": "code",
   "execution_count": 226,
   "metadata": {},
   "outputs": [
    {
     "data": {
      "text/plain": [
       "'(19+10j)'"
      ]
     },
     "execution_count": 226,
     "metadata": {},
     "output_type": "execute_result"
    }
   ],
   "source": [
    "Array3D[1,1,2] #1st Array index with 1st Row index with 2nd col index"
   ]
  },
  {
   "cell_type": "code",
   "execution_count": 227,
   "metadata": {},
   "outputs": [
    {
     "data": {
      "text/plain": [
       "'(19+10j)'"
      ]
     },
     "execution_count": 227,
     "metadata": {},
     "output_type": "execute_result"
    }
   ],
   "source": [
    "Array3D[1,1,2]"
   ]
  },
  {
   "cell_type": "code",
   "execution_count": 228,
   "metadata": {},
   "outputs": [
    {
     "data": {
      "text/plain": [
       "'(19+10j)'"
      ]
     },
     "execution_count": 228,
     "metadata": {},
     "output_type": "execute_result"
    }
   ],
   "source": [
    "Array3D[-1][-1][-3] # last index array then last row index & then 3rd last element"
   ]
  },
  {
   "cell_type": "code",
   "execution_count": 229,
   "metadata": {},
   "outputs": [
    {
     "data": {
      "text/plain": [
       "array(['(19+10j)'], dtype='<U64')"
      ]
     },
     "execution_count": 229,
     "metadata": {},
     "output_type": "execute_result"
    }
   ],
   "source": [
    "Array3D[[-1],[-1],[-3]] # last index array then last row index & then 3rd last element"
   ]
  },
  {
   "cell_type": "code",
   "execution_count": 230,
   "metadata": {},
   "outputs": [
    {
     "data": {
      "text/plain": [
       "'(19+10j)'"
      ]
     },
     "execution_count": 230,
     "metadata": {},
     "output_type": "execute_result"
    }
   ],
   "source": [
    "Array3D[-1,-1,-3] # last index array then last row index & then 3rd last element"
   ]
  },
  {
   "cell_type": "code",
   "execution_count": 231,
   "metadata": {},
   "outputs": [
    {
     "data": {
      "text/plain": [
       "'(19+10j)'"
      ]
     },
     "execution_count": 231,
     "metadata": {},
     "output_type": "execute_result"
    }
   ],
   "source": [
    "Array3D[1][-1][2] # 1st index array then last row then 2nd index element"
   ]
  },
  {
   "cell_type": "code",
   "execution_count": 232,
   "metadata": {},
   "outputs": [
    {
     "data": {
      "text/plain": [
       "array(['(19+10j)'], dtype='<U64')"
      ]
     },
     "execution_count": 232,
     "metadata": {},
     "output_type": "execute_result"
    }
   ],
   "source": [
    "Array3D[[1],[-1],[2]] # 1st index array then last row then 2nd index element"
   ]
  },
  {
   "cell_type": "code",
   "execution_count": 233,
   "metadata": {},
   "outputs": [
    {
     "data": {
      "text/plain": [
       "'(19+10j)'"
      ]
     },
     "execution_count": 233,
     "metadata": {},
     "output_type": "execute_result"
    }
   ],
   "source": [
    "Array3D[1,-1,2] # 1st index array then last row then 2nd index element"
   ]
  },
  {
   "cell_type": "code",
   "execution_count": 234,
   "metadata": {},
   "outputs": [
    {
     "data": {
      "text/plain": [
       "'(19+10j)'"
      ]
     },
     "execution_count": 234,
     "metadata": {},
     "output_type": "execute_result"
    }
   ],
   "source": [
    "Array3D[-1][1][-3] # last index array then 1st row then 3rd last index element"
   ]
  },
  {
   "cell_type": "code",
   "execution_count": 235,
   "metadata": {},
   "outputs": [
    {
     "data": {
      "text/plain": [
       "array(['(19+10j)'], dtype='<U64')"
      ]
     },
     "execution_count": 235,
     "metadata": {},
     "output_type": "execute_result"
    }
   ],
   "source": [
    "Array3D[[-1],[1],[-3]] # last index array then 1st row then 3rd last index element"
   ]
  },
  {
   "cell_type": "code",
   "execution_count": 236,
   "metadata": {},
   "outputs": [
    {
     "data": {
      "text/plain": [
       "'(19+10j)'"
      ]
     },
     "execution_count": 236,
     "metadata": {},
     "output_type": "execute_result"
    }
   ],
   "source": [
    "Array3D[-1,1,-3] # last index array then 1st row then 3rd last index element"
   ]
  },
  {
   "cell_type": "code",
   "execution_count": 237,
   "metadata": {},
   "outputs": [
    {
     "name": "stdout",
     "output_type": "stream",
     "text": [
      "(19+10j) ['(19+10j)'] (19+10j) (19+10j) ['(19+10j)'] (19+10j) (19+10j) ['(19+10j)'] (19+10j) (19+10j) ['(19+10j)'] (19+10j)\n"
     ]
    }
   ],
   "source": [
    "print(Array3D[1][1][2],Array3D[[1],[1],[2]],Array3D[1,1,2],Array3D[-1][-1][-3],Array3D[[-1],[-1],[-3]],Array3D[-1,-1,-3],Array3D[1][-1][2],Array3D[[1],[-1],[2]],Array3D[1,-1,2],Array3D[-1][1][-3],Array3D[[-1],[1],[-3]],Array3D[-1,1,-3])"
   ]
  },
  {
   "cell_type": "code",
   "execution_count": 238,
   "metadata": {},
   "outputs": [
    {
     "name": "stdout",
     "output_type": "stream",
     "text": [
      "[[['KESHAV' '(45+9j)' 'True' '39.69' '39']\n",
      "  ['10.1' 'Prashant' '(10+10j)' 'False' '10']]\n",
      "\n",
      " [['RAGHAV' '(49+9j)' 'True' '36.69' '36']\n",
      "  ['10.16' 'Prashant' '(19+10j)' 'False' '17']]]\n",
      "<class 'numpy.ndarray'>\n",
      "3\n",
      "20\n",
      "2\n",
      "(2, 2, 5)\n"
     ]
    }
   ],
   "source": [
    "#Creating 3D Array of Tuples\n",
    "Array3D=array((((\"KESHAV\",45+9j,True,39.69,39),(10.10,'Prashant',10+10j,False,10)),((\"RAGHAV\",49+9j,True,36.69,36),(10.16,'Prashant',19+10j,False,17))))\n",
    "print(Array3D)\n",
    "print(type(Array3D))\n",
    "print(ndim(Array3D))    \n",
    "print(size(Array3D))\n",
    "print(len(Array3D))\n",
    "print(shape(Array3D))"
   ]
  },
  {
   "cell_type": "code",
   "execution_count": 239,
   "metadata": {},
   "outputs": [
    {
     "data": {
      "text/plain": [
       "'(19+10j)'"
      ]
     },
     "execution_count": 239,
     "metadata": {},
     "output_type": "execute_result"
    }
   ],
   "source": [
    "Array3D[1][1][2] # 1st index array then 1st row index then 2nd index element"
   ]
  },
  {
   "cell_type": "code",
   "execution_count": 240,
   "metadata": {},
   "outputs": [
    {
     "data": {
      "text/plain": [
       "array([[['KESHAV', '(45+9j)', 'True', '39.69', '39'],\n",
       "        ['10.1', 'Prashant', '(10+10j)', 'False', '10']],\n",
       "\n",
       "       [['RAGHAV', '(49+9j)', 'True', '36.69', '36'],\n",
       "        ['10.16', 'Prashant', '(19+10j)', 'False', '17']]], dtype='<U64')"
      ]
     },
     "execution_count": 240,
     "metadata": {},
     "output_type": "execute_result"
    }
   ],
   "source": [
    "Array3D[[0,1]] # 0th array & 1st array"
   ]
  },
  {
   "cell_type": "code",
   "execution_count": 241,
   "metadata": {},
   "outputs": [
    {
     "data": {
      "text/plain": [
       "array([[['KESHAV', '(45+9j)', 'True', '39.69', '39'],\n",
       "        ['10.1', 'Prashant', '(10+10j)', 'False', '10']],\n",
       "\n",
       "       [['RAGHAV', '(49+9j)', 'True', '36.69', '36'],\n",
       "        ['10.16', 'Prashant', '(19+10j)', 'False', '17']]], dtype='<U64')"
      ]
     },
     "execution_count": 241,
     "metadata": {},
     "output_type": "execute_result"
    }
   ],
   "source": [
    "Array3D[0:2] # from 0 to 2 array index range"
   ]
  },
  {
   "cell_type": "code",
   "execution_count": 242,
   "metadata": {},
   "outputs": [
    {
     "data": {
      "text/plain": [
       "array(['10.1', 'Prashant', '(10+10j)', 'False', '10'], dtype='<U64')"
      ]
     },
     "execution_count": 242,
     "metadata": {},
     "output_type": "execute_result"
    }
   ],
   "source": [
    "Array3D[0,1] #0th index array then 1st row index"
   ]
  },
  {
   "cell_type": "code",
   "execution_count": 243,
   "metadata": {},
   "outputs": [
    {
     "data": {
      "text/plain": [
       "array(['KESHAV', '(45+9j)', 'True', '39.69', '39'], dtype='<U64')"
      ]
     },
     "execution_count": 243,
     "metadata": {},
     "output_type": "execute_result"
    }
   ],
   "source": [
    "Array3D[0,0] #0th index array then 0th row index"
   ]
  },
  {
   "cell_type": "code",
   "execution_count": 244,
   "metadata": {},
   "outputs": [
    {
     "data": {
      "text/plain": [
       "array(['10.16', 'Prashant', '(19+10j)', 'False', '17'], dtype='<U64')"
      ]
     },
     "execution_count": 244,
     "metadata": {},
     "output_type": "execute_result"
    }
   ],
   "source": [
    "Array3D[1,1] #1st Array index & 1st Row index of it"
   ]
  },
  {
   "cell_type": "code",
   "execution_count": 245,
   "metadata": {},
   "outputs": [
    {
     "data": {
      "text/plain": [
       "array(['RAGHAV', '(49+9j)', 'True', '36.69', '36'], dtype='<U64')"
      ]
     },
     "execution_count": 245,
     "metadata": {},
     "output_type": "execute_result"
    }
   ],
   "source": [
    "Array3D[1,0] #1st Array index & 0th Row index of it"
   ]
  },
  {
   "cell_type": "code",
   "execution_count": 246,
   "metadata": {},
   "outputs": [
    {
     "data": {
      "text/plain": [
       "array([[['True', '39.69'],\n",
       "        ['(10+10j)', 'False']],\n",
       "\n",
       "       [['True', '36.69'],\n",
       "        ['(19+10j)', 'False']]], dtype='<U64')"
      ]
     },
     "execution_count": 246,
     "metadata": {},
     "output_type": "execute_result"
    }
   ],
   "source": [
    "Array3D[:,:,[2,3]] # all arrays then all rows then column indexes 2 & 3"
   ]
  },
  {
   "cell_type": "code",
   "execution_count": 247,
   "metadata": {},
   "outputs": [
    {
     "data": {
      "text/plain": [
       "array([[['KESHAV', '(45+9j)', 'True', '39.69', '39'],\n",
       "        ['10.1', 'Prashant', '(10+10j)', 'False', '10']],\n",
       "\n",
       "       [['RAGHAV', '(49+9j)', 'True', '36.69', '36'],\n",
       "        ['10.16', 'Prashant', '(19+10j)', 'False', '17']]], dtype='<U64')"
      ]
     },
     "execution_count": 247,
     "metadata": {},
     "output_type": "execute_result"
    }
   ],
   "source": [
    "Array3D[:,0:2] # All arrays then rows index range 0 to 2 for all of them"
   ]
  },
  {
   "cell_type": "code",
   "execution_count": 248,
   "metadata": {},
   "outputs": [
    {
     "data": {
      "text/plain": [
       "array([[['KESHAV', '(45+9j)', 'True', '39.69', '39'],\n",
       "        ['10.1', 'Prashant', '(10+10j)', 'False', '10']],\n",
       "\n",
       "       [['RAGHAV', '(49+9j)', 'True', '36.69', '36'],\n",
       "        ['10.16', 'Prashant', '(19+10j)', 'False', '17']]], dtype='<U64')"
      ]
     },
     "execution_count": 248,
     "metadata": {},
     "output_type": "execute_result"
    }
   ],
   "source": [
    "Array3D[:,0:2,:] #All arrays then rows indexes range 0 to 2 then all columns"
   ]
  },
  {
   "cell_type": "code",
   "execution_count": 249,
   "metadata": {},
   "outputs": [
    {
     "data": {
      "text/plain": [
       "array([[['10.1', 'Prashant', '(10+10j)', 'False', '10']],\n",
       "\n",
       "       [['10.16', 'Prashant', '(19+10j)', 'False', '17']]], dtype='<U64')"
      ]
     },
     "execution_count": 249,
     "metadata": {},
     "output_type": "execute_result"
    }
   ],
   "source": [
    "Array3D[:,[1],:] #all arrays then 1st row index of them then all columns"
   ]
  },
  {
   "cell_type": "code",
   "execution_count": 250,
   "metadata": {},
   "outputs": [
    {
     "data": {
      "text/plain": [
       "array([['10.1', 'Prashant', '(10+10j)', 'False', '10'],\n",
       "       ['10.16', 'Prashant', '(19+10j)', 'False', '17']], dtype='<U64')"
      ]
     },
     "execution_count": 250,
     "metadata": {},
     "output_type": "execute_result"
    }
   ],
   "source": [
    "Array3D[:,1,:] #all arrays then 1st row index of them then all columns"
   ]
  },
  {
   "cell_type": "code",
   "execution_count": 251,
   "metadata": {},
   "outputs": [
    {
     "data": {
      "text/plain": [
       "array([[['KESHAV', '(45+9j)', 'True', '39.69', '39']],\n",
       "\n",
       "       [['RAGHAV', '(49+9j)', 'True', '36.69', '36']]], dtype='<U64')"
      ]
     },
     "execution_count": 251,
     "metadata": {},
     "output_type": "execute_result"
    }
   ],
   "source": [
    "Array3D[:,[0],:] #all arrays then 0th row index of them then all columns"
   ]
  },
  {
   "cell_type": "code",
   "execution_count": 252,
   "metadata": {},
   "outputs": [
    {
     "data": {
      "text/plain": [
       "array([[['KESHAV', '(45+9j)', 'True', '39.69', '39'],\n",
       "        ['10.1', 'Prashant', '(10+10j)', 'False', '10']],\n",
       "\n",
       "       [['RAGHAV', '(49+9j)', 'True', '36.69', '36'],\n",
       "        ['10.16', 'Prashant', '(19+10j)', 'False', '17']]], dtype='<U64')"
      ]
     },
     "execution_count": 252,
     "metadata": {},
     "output_type": "execute_result"
    }
   ],
   "source": [
    "Array3D[:,[0,1],:] #all arrays then 0th & 1st row indexes of them then all columns"
   ]
  },
  {
   "cell_type": "code",
   "execution_count": 253,
   "metadata": {},
   "outputs": [
    {
     "data": {
      "text/plain": [
       "array([[['KESHAV', '(45+9j)', 'True', '39.69', '39'],\n",
       "        ['10.1', 'Prashant', '(10+10j)', 'False', '10']],\n",
       "\n",
       "       [['RAGHAV', '(49+9j)', 'True', '36.69', '36'],\n",
       "        ['10.16', 'Prashant', '(19+10j)', 'False', '17']]], dtype='<U64')"
      ]
     },
     "execution_count": 253,
     "metadata": {},
     "output_type": "execute_result"
    }
   ],
   "source": [
    "Array3D[:, :, :] # all arrays then all rows then all columns"
   ]
  },
  {
   "cell_type": "code",
   "execution_count": 254,
   "metadata": {},
   "outputs": [
    {
     "data": {
      "text/plain": [
       "array([[['KESHAV', '39'],\n",
       "        ['10.1', '10']],\n",
       "\n",
       "       [['RAGHAV', '36'],\n",
       "        ['10.16', '17']]], dtype='<U64')"
      ]
     },
     "execution_count": 254,
     "metadata": {},
     "output_type": "execute_result"
    }
   ],
   "source": [
    "Array3D[:,:,[0,4]] # all arrays then all rows then column indexes 0th & 4th"
   ]
  },
  {
   "cell_type": "code",
   "execution_count": 255,
   "metadata": {},
   "outputs": [
    {
     "data": {
      "text/plain": [
       "array([[['39'],\n",
       "        ['10']],\n",
       "\n",
       "       [['36'],\n",
       "        ['17']]], dtype='<U64')"
      ]
     },
     "execution_count": 255,
     "metadata": {},
     "output_type": "execute_result"
    }
   ],
   "source": [
    "Array3D[:,:,[4]] #all arrays then all rows then 4th column index"
   ]
  },
  {
   "cell_type": "code",
   "execution_count": 256,
   "metadata": {},
   "outputs": [
    {
     "data": {
      "text/plain": [
       "array([[['KESHAV', '(45+9j)', 'True', '39.69', '39']],\n",
       "\n",
       "       [['RAGHAV', '(49+9j)', 'True', '36.69', '36']]], dtype='<U64')"
      ]
     },
     "execution_count": 256,
     "metadata": {},
     "output_type": "execute_result"
    }
   ],
   "source": [
    "Array3D[:,[0]] #all arrays then 0th row index of them"
   ]
  },
  {
   "cell_type": "code",
   "execution_count": 257,
   "metadata": {},
   "outputs": [
    {
     "data": {
      "text/plain": [
       "array([[['KESHAV', '(45+9j)', 'True', '39.69', '39'],\n",
       "        ['10.1', 'Prashant', '(10+10j)', 'False', '10']],\n",
       "\n",
       "       [['RAGHAV', '(49+9j)', 'True', '36.69', '36'],\n",
       "        ['10.16', 'Prashant', '(19+10j)', 'False', '17']]], dtype='<U64')"
      ]
     },
     "execution_count": 257,
     "metadata": {},
     "output_type": "execute_result"
    }
   ],
   "source": [
    "Array3D[:,:,0:5] #all arrays then all rows then column indexes range from 0 to 5"
   ]
  },
  {
   "cell_type": "code",
   "execution_count": 258,
   "metadata": {},
   "outputs": [
    {
     "data": {
      "text/plain": [
       "array([[['KESHAV', '(45+9j)', 'True', '39.69', '39'],\n",
       "        ['10.1', 'Prashant', '(10+10j)', 'False', '10']],\n",
       "\n",
       "       [['RAGHAV', '(49+9j)', 'True', '36.69', '36'],\n",
       "        ['10.16', 'Prashant', '(19+10j)', 'False', '17']]], dtype='<U64')"
      ]
     },
     "execution_count": 258,
     "metadata": {},
     "output_type": "execute_result"
    }
   ],
   "source": [
    "Array3D[:,:,[0, 1, 2, 3, 4]] #all arrays then all rows then column indexes 0, 1, 2, 3 & 4"
   ]
  },
  {
   "cell_type": "code",
   "execution_count": 259,
   "metadata": {},
   "outputs": [
    {
     "data": {
      "text/plain": [
       "array([[['KESHAV', '39'],\n",
       "        ['10.1', '10']],\n",
       "\n",
       "       [['RAGHAV', '36'],\n",
       "        ['10.16', '17']]], dtype='<U64')"
      ]
     },
     "execution_count": 259,
     "metadata": {},
     "output_type": "execute_result"
    }
   ],
   "source": [
    "Array3D[:,:,[0,4]] ##all arrays then all rows then column indexes 0 & 4"
   ]
  },
  {
   "cell_type": "code",
   "execution_count": 260,
   "metadata": {},
   "outputs": [
    {
     "data": {
      "text/plain": [
       "array([[['KESHAV', '39'],\n",
       "        ['10.1', '10']],\n",
       "\n",
       "       [['RAGHAV', '36'],\n",
       "        ['10.16', '17']]], dtype='<U64')"
      ]
     },
     "execution_count": 260,
     "metadata": {},
     "output_type": "execute_result"
    }
   ],
   "source": [
    "Array3D[:, :, ::4] #all arrays then all rows then column indexes range by step 4"
   ]
  },
  {
   "cell_type": "code",
   "execution_count": 261,
   "metadata": {},
   "outputs": [
    {
     "data": {
      "text/plain": [
       "array([[['KESHAV', '(45+9j)', 'True', '39.69', '39']],\n",
       "\n",
       "       [['RAGHAV', '(49+9j)', 'True', '36.69', '36']]], dtype='<U64')"
      ]
     },
     "execution_count": 261,
     "metadata": {},
     "output_type": "execute_result"
    }
   ],
   "source": [
    "Array3D[:,[0],:] #all arrays then 0th row index then all columns"
   ]
  },
  {
   "cell_type": "code",
   "execution_count": 262,
   "metadata": {},
   "outputs": [
    {
     "data": {
      "text/plain": [
       "array([['KESHAV', '(45+9j)', 'True', '39.69', '39'],\n",
       "       ['RAGHAV', '(49+9j)', 'True', '36.69', '36']], dtype='<U64')"
      ]
     },
     "execution_count": 262,
     "metadata": {},
     "output_type": "execute_result"
    }
   ],
   "source": [
    "Array3D[:,0,:] #all arrays then 0th row index then all columns"
   ]
  },
  {
   "cell_type": "code",
   "execution_count": 263,
   "metadata": {},
   "outputs": [
    {
     "data": {
      "text/plain": [
       "array([[['39.69'],\n",
       "        ['False']],\n",
       "\n",
       "       [['36.69'],\n",
       "        ['False']]], dtype='<U64')"
      ]
     },
     "execution_count": 263,
     "metadata": {},
     "output_type": "execute_result"
    }
   ],
   "source": [
    "Array3D[:,:,3:4] #all arrays then all rows then column indexes range from 3 to 4"
   ]
  },
  {
   "cell_type": "code",
   "execution_count": 264,
   "metadata": {},
   "outputs": [
    {
     "data": {
      "text/plain": [
       "array([[['39.69', '39'],\n",
       "        ['False', '10']],\n",
       "\n",
       "       [['36.69', '36'],\n",
       "        ['False', '17']]], dtype='<U64')"
      ]
     },
     "execution_count": 264,
     "metadata": {},
     "output_type": "execute_result"
    }
   ],
   "source": [
    "Array3D[:,:,[3,4]] #all arrays then all rows then column indexes 3 & 4"
   ]
  },
  {
   "cell_type": "code",
   "execution_count": 265,
   "metadata": {},
   "outputs": [
    {
     "data": {
      "text/plain": [
       "array(['True', 'False'], dtype='<U64')"
      ]
     },
     "execution_count": 265,
     "metadata": {},
     "output_type": "execute_result"
    }
   ],
   "source": [
    "Array3D[[0,1],[0,1],[2,3]] #0th Array index with 0th Row index with 2nd index element, True\n",
    "                           #1st Array index with 1st Row index with 3rd index element, False"
   ]
  },
  {
   "cell_type": "code",
   "execution_count": 266,
   "metadata": {},
   "outputs": [
    {
     "data": {
      "text/plain": [
       "array(['(19+10j)'], dtype='<U64')"
      ]
     },
     "execution_count": 266,
     "metadata": {},
     "output_type": "execute_result"
    }
   ],
   "source": [
    "Array3D[[1],[1],[2]] # 1st array then 1st row then 2nd index element"
   ]
  },
  {
   "cell_type": "code",
   "execution_count": 267,
   "metadata": {},
   "outputs": [
    {
     "data": {
      "text/plain": [
       "'(19+10j)'"
      ]
     },
     "execution_count": 267,
     "metadata": {},
     "output_type": "execute_result"
    }
   ],
   "source": [
    "Array3D[1,1,2] # 1st array then 1st row then 2nd index element"
   ]
  },
  {
   "cell_type": "code",
   "execution_count": 268,
   "metadata": {},
   "outputs": [
    {
     "data": {
      "text/plain": [
       "array([[['KESHAV', '(45+9j)', 'True', '39.69', '39'],\n",
       "        ['10.1', 'Prashant', '(10+10j)', 'False', '10']],\n",
       "\n",
       "       [['RAGHAV', '(49+9j)', 'True', '36.69', '36'],\n",
       "        ['10.16', 'Prashant', '(19+10j)', 'False', '17']]], dtype='<U64')"
      ]
     },
     "execution_count": 268,
     "metadata": {},
     "output_type": "execute_result"
    }
   ],
   "source": [
    "Array3D[[0,1]] # 0th index Array & 1st index Array"
   ]
  },
  {
   "cell_type": "code",
   "execution_count": 269,
   "metadata": {},
   "outputs": [
    {
     "data": {
      "text/plain": [
       "'(19+10j)'"
      ]
     },
     "execution_count": 269,
     "metadata": {},
     "output_type": "execute_result"
    }
   ],
   "source": [
    "Array3D[-1][-1][-3] # last array index then last row index then 3rd last index element"
   ]
  },
  {
   "cell_type": "code",
   "execution_count": 270,
   "metadata": {},
   "outputs": [
    {
     "data": {
      "text/plain": [
       "array(['(19+10j)'], dtype='<U64')"
      ]
     },
     "execution_count": 270,
     "metadata": {},
     "output_type": "execute_result"
    }
   ],
   "source": [
    "Array3D[[-1],[-1],[-3]] # last array index then last row index then 3rd last index element"
   ]
  },
  {
   "cell_type": "code",
   "execution_count": 271,
   "metadata": {},
   "outputs": [
    {
     "data": {
      "text/plain": [
       "'(19+10j)'"
      ]
     },
     "execution_count": 271,
     "metadata": {},
     "output_type": "execute_result"
    }
   ],
   "source": [
    "Array3D[-1,-1,-3] # last array index then last row index then 3rd last index element"
   ]
  },
  {
   "cell_type": "code",
   "execution_count": 272,
   "metadata": {},
   "outputs": [
    {
     "data": {
      "text/plain": [
       "'(19+10j)'"
      ]
     },
     "execution_count": 272,
     "metadata": {},
     "output_type": "execute_result"
    }
   ],
   "source": [
    "Array3D[1][-1][2] # 1st array then last row index then 2nd index element"
   ]
  },
  {
   "cell_type": "code",
   "execution_count": 273,
   "metadata": {},
   "outputs": [
    {
     "data": {
      "text/plain": [
       "array(['(19+10j)'], dtype='<U64')"
      ]
     },
     "execution_count": 273,
     "metadata": {},
     "output_type": "execute_result"
    }
   ],
   "source": [
    "Array3D[[1],[-1],[2]] # 1st array then last row index then 2nd index element"
   ]
  },
  {
   "cell_type": "code",
   "execution_count": 274,
   "metadata": {},
   "outputs": [
    {
     "data": {
      "text/plain": [
       "'(19+10j)'"
      ]
     },
     "execution_count": 274,
     "metadata": {},
     "output_type": "execute_result"
    }
   ],
   "source": [
    "Array3D[1,-1,2] # 1st array then last row index then 2nd index element"
   ]
  },
  {
   "cell_type": "code",
   "execution_count": 275,
   "metadata": {},
   "outputs": [
    {
     "data": {
      "text/plain": [
       "'(19+10j)'"
      ]
     },
     "execution_count": 275,
     "metadata": {},
     "output_type": "execute_result"
    }
   ],
   "source": [
    "Array3D[-1][1][-3] # last array then 1st row index then 3rd last index element"
   ]
  },
  {
   "cell_type": "code",
   "execution_count": 276,
   "metadata": {},
   "outputs": [
    {
     "data": {
      "text/plain": [
       "array(['(19+10j)'], dtype='<U64')"
      ]
     },
     "execution_count": 276,
     "metadata": {},
     "output_type": "execute_result"
    }
   ],
   "source": [
    "Array3D[[-1],[1],[-3]] # last array then 1st row index then 3rd last index element"
   ]
  },
  {
   "cell_type": "code",
   "execution_count": 277,
   "metadata": {},
   "outputs": [
    {
     "data": {
      "text/plain": [
       "'(19+10j)'"
      ]
     },
     "execution_count": 277,
     "metadata": {},
     "output_type": "execute_result"
    }
   ],
   "source": [
    "Array3D[-1,1,-3] # last array then 1st row index then 3rd last index element"
   ]
  },
  {
   "cell_type": "code",
   "execution_count": 278,
   "metadata": {},
   "outputs": [
    {
     "name": "stdout",
     "output_type": "stream",
     "text": [
      "(19+10j) ['(19+10j)'] (19+10j) (19+10j) ['(19+10j)'] (19+10j) (19+10j) ['(19+10j)'] (19+10j) (19+10j) ['(19+10j)'] (19+10j)\n"
     ]
    }
   ],
   "source": [
    "print(Array3D[1][1][2],Array3D[[1],[1],[2]],Array3D[1,1,2],Array3D[-1][-1][-3],Array3D[[-1],[-1],[-3]],Array3D[-1,-1,-3],Array3D[1][-1][2],Array3D[[1],[-1],[2]],Array3D[1,-1,2],Array3D[-1][1][-3],Array3D[[-1],[1],[-3]],Array3D[-1,1,-3])"
   ]
  },
  {
   "cell_type": "markdown",
   "metadata": {},
   "source": [
    "### Slicing operation in Numpy Array"
   ]
  },
  {
   "cell_type": "code",
   "execution_count": 279,
   "metadata": {},
   "outputs": [],
   "source": [
    "#By using Slicing you can access multiple elements from an Array"
   ]
  },
  {
   "cell_type": "markdown",
   "metadata": {},
   "source": [
    "### Slicing 1D Array"
   ]
  },
  {
   "cell_type": "code",
   "execution_count": 280,
   "metadata": {},
   "outputs": [
    {
     "data": {
      "text/plain": [
       "array(['(45+9j)', 'True', '39.69', '39'], dtype='<U64')"
      ]
     },
     "execution_count": 280,
     "metadata": {},
     "output_type": "execute_result"
    }
   ],
   "source": [
    "#Slicing 1D Array\n",
    "Array1[1:5:1] #index1 to index4, step1, 5 is upper bound\n",
    "# index element range 1 to 5 with step 1"
   ]
  },
  {
   "cell_type": "code",
   "execution_count": 281,
   "metadata": {},
   "outputs": [
    {
     "data": {
      "text/plain": [
       "array(['(45+9j)', '39.69'], dtype='<U64')"
      ]
     },
     "execution_count": 281,
     "metadata": {},
     "output_type": "execute_result"
    }
   ],
   "source": [
    "#Slicing 1D Array\n",
    "Array1[1:5:2] #index1 to index4, step1, 5 is upper bound\n",
    "# index element range 1 to 5 with step 2"
   ]
  },
  {
   "cell_type": "code",
   "execution_count": 282,
   "metadata": {},
   "outputs": [
    {
     "data": {
      "text/plain": [
       "array(['KESHAV', '(45+9j)', 'True', '39.69', '39'], dtype='<U64')"
      ]
     },
     "execution_count": 282,
     "metadata": {},
     "output_type": "execute_result"
    }
   ],
   "source": [
    "Array1[0:5] #index1 to index4, 5 is upper bound\n",
    "# index element range 0 to 5"
   ]
  },
  {
   "cell_type": "code",
   "execution_count": 283,
   "metadata": {},
   "outputs": [
    {
     "data": {
      "text/plain": [
       "array(['(45+9j)', 'True', '39.69', '39'], dtype='<U64')"
      ]
     },
     "execution_count": 283,
     "metadata": {},
     "output_type": "execute_result"
    }
   ],
   "source": [
    "#Slicing 1D Array\n",
    "Array1[1::1] #From index1 to end index, step1\n",
    "# index element range 1 to last with step 1"
   ]
  },
  {
   "cell_type": "code",
   "execution_count": 284,
   "metadata": {},
   "outputs": [
    {
     "data": {
      "text/plain": [
       "array(['(45+9j)', '39.69'], dtype='<U64')"
      ]
     },
     "execution_count": 284,
     "metadata": {},
     "output_type": "execute_result"
    }
   ],
   "source": [
    "Array1[1::2] #From index1 to end index, step2\n",
    "# index element range 1 to last with step 2"
   ]
  },
  {
   "cell_type": "code",
   "execution_count": 285,
   "metadata": {},
   "outputs": [
    {
     "data": {
      "text/plain": [
       "array(['KESHAV', 'True', '39'], dtype='<U64')"
      ]
     },
     "execution_count": 285,
     "metadata": {},
     "output_type": "execute_result"
    }
   ],
   "source": [
    "Array1[0::2] #From index0 to end index, step2\n",
    "# index element range 0 to last with step 2"
   ]
  },
  {
   "cell_type": "code",
   "execution_count": 286,
   "metadata": {},
   "outputs": [
    {
     "data": {
      "text/plain": [
       "array(['KESHAV', 'True', '39'], dtype='<U64')"
      ]
     },
     "execution_count": 286,
     "metadata": {},
     "output_type": "execute_result"
    }
   ],
   "source": [
    "Array1[::2] #From index0 to end index, step2\n",
    "# index element range 0 to last with step 2"
   ]
  },
  {
   "cell_type": "markdown",
   "metadata": {},
   "source": [
    "### Slicing 2D Array"
   ]
  },
  {
   "cell_type": "code",
   "execution_count": 287,
   "metadata": {},
   "outputs": [
    {
     "name": "stdout",
     "output_type": "stream",
     "text": [
      "[[['KESHAV' '(45+9j)' 'True' '39.69' '39']\n",
      "  ['10.1' 'Prashant' '(10+10j)' 'False' '10']]]\n",
      "<class 'numpy.ndarray'>\n",
      "3\n",
      "10\n",
      "1\n",
      "(1, 2, 5)\n"
     ]
    }
   ],
   "source": [
    "#Creating 2D array from 2 lists\n",
    "#No of elements/length of each list should be same\n",
    "Array2D=array([[\"KESHAV\",45+9j,True,39.69,39],[10.10,'Prashant',10+10j,False,10]]).reshape(1,2,5) #Transforming nested list of 2 lists into Array\n",
    "print(Array2D)\n",
    "print(type(Array2D))\n",
    "print(ndim(Array2D))    \n",
    "print(size(Array2D)) # 1 array, 2 Rows & 5 Columns\n",
    "print(len(Array2D))\n",
    "print(shape(Array2D))"
   ]
  },
  {
   "cell_type": "code",
   "execution_count": 288,
   "metadata": {},
   "outputs": [
    {
     "name": "stdout",
     "output_type": "stream",
     "text": [
      "[['KESHAV' '(45+9j)' 'True' '39.69' '39']\n",
      " ['10.1' 'Prashant' '(10+10j)' 'False' '10']]\n",
      "<class 'numpy.ndarray'>\n",
      "2\n",
      "10\n",
      "2\n",
      "(2, 5)\n"
     ]
    }
   ],
   "source": [
    "Array2D=array([[\"KESHAV\",45+9j,True,39.69,39],[10.10,'Prashant',10+10j,False,10]]) #Transforming nested list of 2 lists into Array\n",
    "print(Array2D)\n",
    "print(type(Array2D))\n",
    "print(ndim(Array2D))    \n",
    "print(size(Array2D)) # 2 Rows & 5 Columns\n",
    "print(len(Array2D))\n",
    "print(shape(Array2D))"
   ]
  },
  {
   "cell_type": "code",
   "execution_count": 289,
   "metadata": {},
   "outputs": [
    {
     "data": {
      "text/plain": [
       "array([['True'],\n",
       "       ['(10+10j)']], dtype='<U64')"
      ]
     },
     "execution_count": 289,
     "metadata": {},
     "output_type": "execute_result"
    }
   ],
   "source": [
    "#Array2D[row(start:stop:step),col(start:stop:step)]\n",
    "Array2D[0:,2:3] #Rows index range from 0 to last then column index range from 2 to 3"
   ]
  },
  {
   "cell_type": "code",
   "execution_count": 290,
   "metadata": {},
   "outputs": [
    {
     "data": {
      "text/plain": [
       "array([['True'],\n",
       "       ['(10+10j)']], dtype='<U64')"
      ]
     },
     "execution_count": 290,
     "metadata": {},
     "output_type": "execute_result"
    }
   ],
   "source": [
    "#Array2D[row(start:stop:step),col(start:stop:step)]\n",
    "Array2D[0:,[2]] #rows index range from 0 to last & then 2nd cloumn index"
   ]
  },
  {
   "cell_type": "code",
   "execution_count": 291,
   "metadata": {},
   "outputs": [
    {
     "data": {
      "text/plain": [
       "array([['True'],\n",
       "       ['(10+10j)']], dtype='<U64')"
      ]
     },
     "execution_count": 291,
     "metadata": {},
     "output_type": "execute_result"
    }
   ],
   "source": [
    "#Array2D[row(start:stop:step),col(start:stop:step)]\n",
    "Array2D[0:,[2]] ##rows index range from 0 to last & then 2nd cloumn index"
   ]
  },
  {
   "cell_type": "code",
   "execution_count": 292,
   "metadata": {},
   "outputs": [
    {
     "data": {
      "text/plain": [
       "array(['True', '(10+10j)'], dtype='<U64')"
      ]
     },
     "execution_count": 292,
     "metadata": {},
     "output_type": "execute_result"
    }
   ],
   "source": [
    "#Array2D[row(start:stop:step),col(start:stop:step)]\n",
    "Array2D[[0,1],[2]] #Row index 0th & 1st and then 2nd column index"
   ]
  },
  {
   "cell_type": "code",
   "execution_count": 293,
   "metadata": {},
   "outputs": [
    {
     "data": {
      "text/plain": [
       "array(['True', '(10+10j)'], dtype='<U64')"
      ]
     },
     "execution_count": 293,
     "metadata": {},
     "output_type": "execute_result"
    }
   ],
   "source": [
    "#Array2D[row(start:stop:step),col(start:stop:step)]\n",
    "Array2D[[0,1],2] #Shows only 2nd col index along with All Rows"
   ]
  },
  {
   "cell_type": "code",
   "execution_count": 294,
   "metadata": {},
   "outputs": [
    {
     "data": {
      "text/plain": [
       "'+'"
      ]
     },
     "execution_count": 294,
     "metadata": {},
     "output_type": "execute_result"
    }
   ],
   "source": [
    "#Array2D[row(start:stop:step),col(start:stop:step)]\n",
    "Array2D[0,1][3] # 0th row then 1st index element and then 3rd index charecter"
   ]
  },
  {
   "cell_type": "code",
   "execution_count": 295,
   "metadata": {},
   "outputs": [
    {
     "data": {
      "text/plain": [
       "'+'"
      ]
     },
     "execution_count": 295,
     "metadata": {},
     "output_type": "execute_result"
    }
   ],
   "source": [
    "#Array2D[row(start:stop:step),col(start:stop:step)]\n",
    "Array2D[0][1][3] # 0th row then 1st index element and then 3rd index charecter"
   ]
  },
  {
   "cell_type": "code",
   "execution_count": 296,
   "metadata": {},
   "outputs": [
    {
     "data": {
      "text/plain": [
       "array(['True', '(10+10j)'], dtype='<U64')"
      ]
     },
     "execution_count": 296,
     "metadata": {},
     "output_type": "execute_result"
    }
   ],
   "source": [
    "#Array2D[row(start:stop:step),col(start:stop:step)]\n",
    "Array2D[[0,1],2] #0th row & 1st row then 2nd index column"
   ]
  },
  {
   "cell_type": "code",
   "execution_count": 297,
   "metadata": {},
   "outputs": [
    {
     "data": {
      "text/plain": [
       "array([['39.69', '39'],\n",
       "       ['False', '10']], dtype='<U64')"
      ]
     },
     "execution_count": 297,
     "metadata": {},
     "output_type": "execute_result"
    }
   ],
   "source": [
    "#Array2D[row(start:stop:step),col(start:stop:step)]\n",
    "Array2D[0:,[3,4]] # from 0th to last rows index range and then columns 3 & 4"
   ]
  },
  {
   "cell_type": "code",
   "execution_count": 298,
   "metadata": {},
   "outputs": [
    {
     "data": {
      "text/plain": [
       "array(['True'], dtype='<U64')"
      ]
     },
     "execution_count": 298,
     "metadata": {},
     "output_type": "execute_result"
    }
   ],
   "source": [
    "#Array2D[row(start:stop:step),col(start:stop:step)]\n",
    "Array2D[0][2:3] # 0th Row index and then row elements range from 2 to 3"
   ]
  },
  {
   "cell_type": "code",
   "execution_count": 299,
   "metadata": {},
   "outputs": [
    {
     "data": {
      "text/plain": [
       "array(['KESHAV', '(45+9j)', 'True', '39.69', '39'], dtype='<U64')"
      ]
     },
     "execution_count": 299,
     "metadata": {},
     "output_type": "execute_result"
    }
   ],
   "source": [
    "#Array2D[row(start:stop:step),col(start:stop:step)]\n",
    "Array2D[0][0:] #0th index row and then row elements range from 0 to last index"
   ]
  },
  {
   "cell_type": "code",
   "execution_count": 300,
   "metadata": {},
   "outputs": [
    {
     "data": {
      "text/plain": [
       "array([['True'],\n",
       "       ['(10+10j)']], dtype='<U64')"
      ]
     },
     "execution_count": 300,
     "metadata": {},
     "output_type": "execute_result"
    }
   ],
   "source": [
    "#Array2D[row(start:stop:step),col(start:stop:step)]\n",
    "Array2D[[0,1],2:3] #0th row index & 1st row index and then columns index range from 2 to 3"
   ]
  },
  {
   "cell_type": "code",
   "execution_count": 301,
   "metadata": {},
   "outputs": [
    {
     "data": {
      "text/plain": [
       "array(['True', '(10+10j)'], dtype='<U64')"
      ]
     },
     "execution_count": 301,
     "metadata": {},
     "output_type": "execute_result"
    }
   ],
   "source": [
    "#Array2D[row(start:stop:step),col(start:stop:step)]\n",
    "Array2D[[0,1],[2]] #0th row index & 1st row index and then 2nd column index"
   ]
  },
  {
   "cell_type": "code",
   "execution_count": 302,
   "metadata": {},
   "outputs": [
    {
     "data": {
      "text/plain": [
       "array(['True', '(10+10j)'], dtype='<U64')"
      ]
     },
     "execution_count": 302,
     "metadata": {},
     "output_type": "execute_result"
    }
   ],
   "source": [
    "#Array2D[row(start:stop:step),col(start:stop:step)]\n",
    "Array2D[[0,1],2] #0th row index & 1st row index and then 2nd column index"
   ]
  },
  {
   "cell_type": "code",
   "execution_count": 303,
   "metadata": {},
   "outputs": [
    {
     "data": {
      "text/plain": [
       "'True'"
      ]
     },
     "execution_count": 303,
     "metadata": {},
     "output_type": "execute_result"
    }
   ],
   "source": [
    "#Array2D[row(start:stop:step),col(start:stop:step)]\n",
    "Array2D[0][2] # 0th row index and then 2nd element"
   ]
  },
  {
   "cell_type": "code",
   "execution_count": 304,
   "metadata": {},
   "outputs": [
    {
     "data": {
      "text/plain": [
       "array(['KESHAV', '(45+9j)', 'True', '39.69', '39'], dtype='<U64')"
      ]
     },
     "execution_count": 304,
     "metadata": {},
     "output_type": "execute_result"
    }
   ],
   "source": [
    "#Array2D[row(start:stop:step),col(start:stop:step)]\n",
    "Array2D[0][0:5] # 0th row index and then index elements range from 0 to 5"
   ]
  },
  {
   "cell_type": "code",
   "execution_count": 305,
   "metadata": {},
   "outputs": [
    {
     "data": {
      "text/plain": [
       "'(45+9j)'"
      ]
     },
     "execution_count": 305,
     "metadata": {},
     "output_type": "execute_result"
    }
   ],
   "source": [
    "#Array2D[row(start:stop:step),col(start:stop:step)]\n",
    "Array2D[0,1][0:] # 0th row index and it's 1st index element then its charecters range from 0 to last index"
   ]
  },
  {
   "cell_type": "code",
   "execution_count": 306,
   "metadata": {},
   "outputs": [
    {
     "data": {
      "text/plain": [
       "array(['KESHAV', '(45+9j)', 'True', '39.69', '39'], dtype='<U64')"
      ]
     },
     "execution_count": 306,
     "metadata": {},
     "output_type": "execute_result"
    }
   ],
   "source": [
    "#Array2D[row(start:stop:step),col(start:stop:step)]\n",
    "Array2D[0,0:5] #0th row index and then elements range from 0 to 5"
   ]
  },
  {
   "cell_type": "code",
   "execution_count": 307,
   "metadata": {},
   "outputs": [
    {
     "data": {
      "text/plain": [
       "array([['KESHAV', '(45+9j)', 'True', '39.69', '39']], dtype='<U64')"
      ]
     },
     "execution_count": 307,
     "metadata": {},
     "output_type": "execute_result"
    }
   ],
   "source": [
    "#Array2D[row(start:stop:step),col(start:stop:step)]\n",
    "Array2D[[0][0:5]] #0th row index and then elements range from 0 to 5"
   ]
  },
  {
   "cell_type": "code",
   "execution_count": 308,
   "metadata": {},
   "outputs": [
    {
     "data": {
      "text/plain": [
       "array([['KESHAV', '(45+9j)', 'True', '39.69', '39']], dtype='<U64')"
      ]
     },
     "execution_count": 308,
     "metadata": {},
     "output_type": "execute_result"
    }
   ],
   "source": [
    "#Array2D[row(start:stop:step),col(start:stop:step)]\n",
    "Array2D[[0],0:5] #0th row index and then elements range from 0 to 5"
   ]
  },
  {
   "cell_type": "code",
   "execution_count": 309,
   "metadata": {},
   "outputs": [
    {
     "data": {
      "text/plain": [
       "array([['KESHAV', '(45+9j)', 'True', '39.69', '39'],\n",
       "       ['10.1', 'Prashant', '(10+10j)', 'False', '10']], dtype='<U64')"
      ]
     },
     "execution_count": 309,
     "metadata": {},
     "output_type": "execute_result"
    }
   ],
   "source": [
    "#Array2D[row(start:stop:step),col(start:stop:step)]\n",
    "Array2D[[0,1],0:5] #0th row index & 1st row index then columns index range from 0 to 5"
   ]
  },
  {
   "cell_type": "code",
   "execution_count": 310,
   "metadata": {},
   "outputs": [
    {
     "data": {
      "text/plain": [
       "array([['True'],\n",
       "       ['(10+10j)']], dtype='<U64')"
      ]
     },
     "execution_count": 310,
     "metadata": {},
     "output_type": "execute_result"
    }
   ],
   "source": [
    "#Array2D[row(start:stop:step),col(start:stop:step)]\n",
    "Array2D[:,2:3] # All rows then column indexes range from 2 to 3"
   ]
  },
  {
   "cell_type": "code",
   "execution_count": 311,
   "metadata": {},
   "outputs": [
    {
     "data": {
      "text/plain": [
       "array([['True'],\n",
       "       ['(10+10j)']], dtype='<U64')"
      ]
     },
     "execution_count": 311,
     "metadata": {},
     "output_type": "execute_result"
    }
   ],
   "source": [
    "#Array2D[row(start:stop:step),col(start:stop:step)]\n",
    "Array2D[:,[2]] # # All rows then 2nd column index"
   ]
  },
  {
   "cell_type": "code",
   "execution_count": 312,
   "metadata": {},
   "outputs": [
    {
     "name": "stdout",
     "output_type": "stream",
     "text": [
      "[[['KESHAV' '(45+9j)' 'True' '38.69' '34']\n",
      "  ['10.1' 'Prashant' '(10+10j)' 'False' '18']]\n",
      "\n",
      " [['RAGHAV' '(49+9j)' 'True' '37.69' '36']\n",
      "  ['10.16' 'Pushkar' '(19+10j)' 'False' '17']]]\n",
      "<class 'numpy.ndarray'>\n",
      "3\n",
      "20\n",
      "2\n",
      "(2, 2, 5)\n"
     ]
    }
   ],
   "source": [
    "#Creating 3D Array of Tuples\n",
    "Array3D=array((((\"KESHAV\",45+9j,True,38.69,34),(10.10,\"Prashant\",10+10j,False,18)),((\"RAGHAV\",49+9j,True,37.69,36),(10.16,\"Pushkar\",19+10j,False,17))))\n",
    "print(Array3D)\n",
    "print(type(Array3D))\n",
    "print(ndim(Array3D))    \n",
    "print(size(Array3D)) # 2 array, 2 Rows & 5 Columns\n",
    "print(len(Array3D))\n",
    "print(shape(Array3D))"
   ]
  },
  {
   "cell_type": "code",
   "execution_count": 313,
   "metadata": {},
   "outputs": [
    {
     "data": {
      "text/plain": [
       "array([[['True'],\n",
       "        ['(10+10j)']],\n",
       "\n",
       "       [['True'],\n",
       "        ['(19+10j)']]], dtype='<U64')"
      ]
     },
     "execution_count": 313,
     "metadata": {},
     "output_type": "execute_result"
    }
   ],
   "source": [
    "#Array3D[array(start:stop:step),row(start:stop:step),col(start:stop:step)]\n",
    "Array3D[:,:,2:3] # All arrays then all rows then column indexes range from 2 to 3"
   ]
  },
  {
   "cell_type": "code",
   "execution_count": 314,
   "metadata": {},
   "outputs": [
    {
     "data": {
      "text/plain": [
       "array([['True', '(10+10j)'],\n",
       "       ['True', '(19+10j)']], dtype='<U64')"
      ]
     },
     "execution_count": 314,
     "metadata": {},
     "output_type": "execute_result"
    }
   ],
   "source": [
    "#Array3D[array(start:stop:step),row(start:stop:step),col(start:stop:step)]\n",
    "Array3D[:,:,2] # all arrays then all rows then 2nd column index"
   ]
  },
  {
   "cell_type": "code",
   "execution_count": 315,
   "metadata": {},
   "outputs": [
    {
     "data": {
      "text/plain": [
       "array([[['True'],\n",
       "        ['(10+10j)']],\n",
       "\n",
       "       [['True'],\n",
       "        ['(19+10j)']]], dtype='<U64')"
      ]
     },
     "execution_count": 315,
     "metadata": {},
     "output_type": "execute_result"
    }
   ],
   "source": [
    "#Array3D[array(start:stop:step),row(start:stop:step),col(start:stop:step)]\n",
    "Array3D[:,:,[2]] # all arrays then all rows then 2nd column index"
   ]
  },
  {
   "cell_type": "markdown",
   "metadata": {},
   "source": [
    "## Advanced indexing Techniques in  Numpy Array\n",
    "Advanced indexing works with Array only, neither with Tuple nor with List or any other Variables"
   ]
  },
  {
   "cell_type": "markdown",
   "metadata": {},
   "source": [
    "### Integer Indexing"
   ]
  },
  {
   "cell_type": "code",
   "execution_count": 316,
   "metadata": {},
   "outputs": [
    {
     "name": "stdout",
     "output_type": "stream",
     "text": [
      "['KESHAV' '(45+9j)' 'True' '39.69' '39']\n",
      "(5,)\n",
      "1\n",
      "\n"
     ]
    }
   ],
   "source": [
    "#Creating 1D array from 1 list\n",
    "Array1=array([\"KESHAV\",45+9j,True,39.69,39]) #Convert the 1D list into array\n",
    "print(Array1)\n",
    "print(shape(Array1))\n",
    "print(ndim(Array1))\n",
    "print()"
   ]
  },
  {
   "cell_type": "markdown",
   "metadata": {},
   "source": [
    "### Indexing from 1D Array"
   ]
  },
  {
   "cell_type": "code",
   "execution_count": 317,
   "metadata": {},
   "outputs": [
    {
     "data": {
      "text/plain": [
       "array(['KESHAV', '(45+9j)', 'True'], dtype='<U64')"
      ]
     },
     "execution_count": 317,
     "metadata": {},
     "output_type": "execute_result"
    }
   ],
   "source": [
    "#Indexing from 1D Array\n",
    "#Array1[[mention indexes]]\n",
    "Array1[[0,1,2]] #Accessing index 0th,1st,2nd elements"
   ]
  },
  {
   "cell_type": "code",
   "execution_count": 318,
   "metadata": {},
   "outputs": [
    {
     "data": {
      "text/plain": [
       "array(['(45+9j)', '39.69'], dtype='<U64')"
      ]
     },
     "execution_count": 318,
     "metadata": {},
     "output_type": "execute_result"
    }
   ],
   "source": [
    "Array1[[1,3]] #Accessing index 1st,3rd elements"
   ]
  },
  {
   "cell_type": "code",
   "execution_count": 319,
   "metadata": {},
   "outputs": [
    {
     "name": "stdout",
     "output_type": "stream",
     "text": [
      "[['KESHAV' '(45+9j)' 'True' '39.69' '39']\n",
      " ['10.1' 'Prashant' '(10+10j)' 'False' '10']]\n",
      "2\n",
      "(2, 5)\n"
     ]
    }
   ],
   "source": [
    "#Creating 2D array from 2 lists\n",
    "#No of elements/length of each list should be same\n",
    "Array2D=array([[\"KESHAV\",45+9j,True,39.69,39],[10.10,'Prashant',10+10j,False,10]]) #Transforming nested list of 2 lists into Array\n",
    "print(Array2D)\n",
    "print(ndim(Array2D))\n",
    "print(shape(Array2D)) # 1 array, 2 Rows & 5 Columns"
   ]
  },
  {
   "cell_type": "code",
   "execution_count": 320,
   "metadata": {},
   "outputs": [
    {
     "data": {
      "text/plain": [
       "array(['Prashant'], dtype='<U64')"
      ]
     },
     "execution_count": 320,
     "metadata": {},
     "output_type": "execute_result"
    }
   ],
   "source": [
    "#Array2D[[mention rows],[mention cols]]\n",
    "Array2D[[1],[1]] #1st row index then 1st index element"
   ]
  },
  {
   "cell_type": "code",
   "execution_count": 321,
   "metadata": {},
   "outputs": [
    {
     "data": {
      "text/plain": [
       "'Prashant'"
      ]
     },
     "execution_count": 321,
     "metadata": {},
     "output_type": "execute_result"
    }
   ],
   "source": [
    "Array2D[1,1] #1st row index then 1st index element"
   ]
  },
  {
   "cell_type": "code",
   "execution_count": 322,
   "metadata": {},
   "outputs": [
    {
     "data": {
      "text/plain": [
       "'Prashant'"
      ]
     },
     "execution_count": 322,
     "metadata": {},
     "output_type": "execute_result"
    }
   ],
   "source": [
    "Array2D[1][1] #1st row index then 1st index element"
   ]
  },
  {
   "cell_type": "code",
   "execution_count": 323,
   "metadata": {},
   "outputs": [
    {
     "data": {
      "text/plain": [
       "array(['(45+9j)', '10'], dtype='<U64')"
      ]
     },
     "execution_count": 323,
     "metadata": {},
     "output_type": "execute_result"
    }
   ],
   "source": [
    "Array2D[[0,1],[1,4]] # 0th row then 1st index element & 1st row then 4th index element"
   ]
  },
  {
   "cell_type": "code",
   "execution_count": 324,
   "metadata": {},
   "outputs": [
    {
     "data": {
      "text/plain": [
       "array([['KESHAV', '(45+9j)', 'True', '39.69', '39'],\n",
       "       ['10.1', 'Prashant', '(10+10j)', 'False', '10']], dtype='<U64')"
      ]
     },
     "execution_count": 324,
     "metadata": {},
     "output_type": "execute_result"
    }
   ],
   "source": [
    "Array2D[[0,1]] #0th Row & 1st Row of Array2D"
   ]
  },
  {
   "cell_type": "code",
   "execution_count": 325,
   "metadata": {},
   "outputs": [
    {
     "name": "stdout",
     "output_type": "stream",
     "text": [
      "[[['KESHAV' '(45+9j)' 'True' '39.69' '39']\n",
      "  ['10.1' 'Prashant' '(10+10j)' 'False' '10']]\n",
      "\n",
      " [['RAGHAV' '(49+9j)' 'True' '36.69' '36']\n",
      "  ['10.16' 'Prashant' '(19+10j)' 'False' '17']]]\n"
     ]
    }
   ],
   "source": [
    "#Creating 3D Array of Tuples\n",
    "Array3D=array((((\"KESHAV\",45+9j,True,39.69,39),(10.10,'Prashant',10+10j,False,10)),((\"RAGHAV\",49+9j,True,36.69,36),(10.16,'Prashant',19+10j,False,17))))\n",
    "print(Array3D)"
   ]
  },
  {
   "cell_type": "code",
   "execution_count": 326,
   "metadata": {},
   "outputs": [
    {
     "data": {
      "text/plain": [
       "array(['10', 'True'], dtype='<U64')"
      ]
     },
     "execution_count": 326,
     "metadata": {},
     "output_type": "execute_result"
    }
   ],
   "source": [
    "Array3D[[0,1],[1,0],[4,2]] #0th Array then 1st row then 4th index element & then 1st array then 0th row then 2nd index element"
   ]
  },
  {
   "cell_type": "code",
   "execution_count": 327,
   "metadata": {},
   "outputs": [
    {
     "data": {
      "text/plain": [
       "array(['39', '(19+10j)'], dtype='<U64')"
      ]
     },
     "execution_count": 327,
     "metadata": {},
     "output_type": "execute_result"
    }
   ],
   "source": [
    "Array3D[[0,1],[0,1],[4,2]] #0th Array then 0th row then 4th index element & then 1st array then 1st row then 2nd index element"
   ]
  },
  {
   "cell_type": "code",
   "execution_count": 328,
   "metadata": {},
   "outputs": [
    {
     "data": {
      "text/plain": [
       "array(['17', 'True'], dtype='<U64')"
      ]
     },
     "execution_count": 328,
     "metadata": {},
     "output_type": "execute_result"
    }
   ],
   "source": [
    "Array3D[[1,0],[1,0],[4,2]] #1st Array then 1st row then 4th index element & then 0th array then 0th row then 2nd index element"
   ]
  },
  {
   "cell_type": "markdown",
   "metadata": {},
   "source": [
    "### Boolean Indexing"
   ]
  },
  {
   "cell_type": "code",
   "execution_count": 329,
   "metadata": {},
   "outputs": [
    {
     "name": "stdout",
     "output_type": "stream",
     "text": [
      "[[[ 12.   +0.j  31.  +10.j  29.   +0.j -66.69 +0.j  39.   +0.j]\n",
      "  [-10.1  +0.j -89.   +0.j -76.   +0.j 100.   +0.j  10.   +0.j]]\n",
      "\n",
      " [[ 45.   +0.j  54.   +0.j  11.   -9.j -36.69 +0.j  32.   +0.j]\n",
      "  [-10.16 +0.j  29.   +0.j  19.   +0.j -12.   +0.j  17.   +0.j]]]\n",
      "<class 'numpy.ndarray'>\n",
      "complex128\n",
      "(2, 2, 5)\n",
      "20\n",
      "2\n",
      "3\n"
     ]
    }
   ],
   "source": [
    "#Creating 3D Array of Tuples\n",
    "Array3D=array((((12,31+10j,29,-66.69,39),(-10.10,-89,-76,100,10)),((45,54,11-9j,-36.69,32),(-10.16,29,19,-12,17))))\n",
    "print(Array3D)\n",
    "print(type(Array3D))\n",
    "print(Array3D.dtype)\n",
    "print(shape(Array3D)) # 2 arrays, 2 Rows & 5 Columns\n",
    "print(size(Array3D))\n",
    "print(len(Array3D))\n",
    "print(ndim(Array3D))"
   ]
  },
  {
   "cell_type": "code",
   "execution_count": 330,
   "metadata": {},
   "outputs": [
    {
     "data": {
      "text/plain": [
       "array([ 12. +0.j,  31.+10.j,  29. +0.j,  39. +0.j, 100. +0.j,  10. +0.j,\n",
       "        45. +0.j,  54. +0.j,  11. -9.j,  32. +0.j,  29. +0.j,  19. +0.j,\n",
       "        17. +0.j])"
      ]
     },
     "execution_count": 330,
     "metadata": {},
     "output_type": "execute_result"
    }
   ],
   "source": [
    "Array3D[Array3D>0] #Shows the elements greater then 0"
   ]
  },
  {
   "cell_type": "code",
   "execution_count": 331,
   "metadata": {},
   "outputs": [
    {
     "data": {
      "text/plain": [
       "array([-66.69+0.j, -10.1 +0.j, -89.  +0.j, -76.  +0.j, -36.69+0.j,\n",
       "       -10.16+0.j, -12.  +0.j])"
      ]
     },
     "execution_count": 331,
     "metadata": {},
     "output_type": "execute_result"
    }
   ],
   "source": [
    "Array3D[Array3D<0] #Shows the elements lesser then 0"
   ]
  },
  {
   "cell_type": "code",
   "execution_count": 332,
   "metadata": {},
   "outputs": [
    {
     "name": "stdout",
     "output_type": "stream",
     "text": [
      "[[[ 12.    31.    29.   -66.69  39.  ]\n",
      "  [-10.1  -89.   -76.   100.    10.  ]]\n",
      "\n",
      " [[ 45.    54.    11.   -36.69  32.  ]\n",
      "  [-10.16  29.    19.   -12.    17.  ]]]\n"
     ]
    }
   ],
   "source": [
    "#Creating 3D Array of Tuples\n",
    "Array3D=array((((12,31,29,-66.69,39),(-10.10,-89,-76,100,10)),((45,54,11,-36.69,32),(-10.16,29,19,-12,17))))\n",
    "print(Array3D)"
   ]
  },
  {
   "cell_type": "code",
   "execution_count": 333,
   "metadata": {},
   "outputs": [
    {
     "data": {
      "text/plain": [
       "array([ 12.,  31.,  29.,  39., 100.,  10.,  45.,  54.,  11.,  32.,  29.,\n",
       "        19.,  17.])"
      ]
     },
     "execution_count": 333,
     "metadata": {},
     "output_type": "execute_result"
    }
   ],
   "source": [
    "Array3D[Array3D>0]"
   ]
  },
  {
   "cell_type": "code",
   "execution_count": 334,
   "metadata": {},
   "outputs": [
    {
     "data": {
      "text/plain": [
       "array([-66.69, -10.1 , -89.  , -76.  , -36.69, -10.16, -12.  ])"
      ]
     },
     "execution_count": 334,
     "metadata": {},
     "output_type": "execute_result"
    }
   ],
   "source": [
    "Array3D[Array3D<0]"
   ]
  },
  {
   "cell_type": "markdown",
   "metadata": {},
   "source": [
    "## Airthmatic Operations in Numpy Array\n",
    "1. At the time of performing Airthmatic operation there shouldn't be any String element\n",
    "2. Using Scalars\n",
    "3. B/W Arrays"
   ]
  },
  {
   "cell_type": "code",
   "execution_count": 335,
   "metadata": {},
   "outputs": [],
   "source": [
    "#1. At the time of performing Airthmatic operation there shouldn't be any String element\n",
    "#2. Using Scalars\n",
    "#3. B/W Arrays"
   ]
  },
  {
   "cell_type": "markdown",
   "metadata": {},
   "source": [
    "### Using Scalars"
   ]
  },
  {
   "cell_type": "code",
   "execution_count": 336,
   "metadata": {},
   "outputs": [
    {
     "name": "stdout",
     "output_type": "stream",
     "text": [
      "[45.  +9.j  1.  +0.j 39.69+0.j 39.  +0.j]\n",
      "<class 'numpy.ndarray'>\n",
      "1\n",
      "4\n",
      "4\n",
      "(4,)\n"
     ]
    }
   ],
   "source": [
    "#Creating 1D array from 1 list\n",
    "# There is no \"STRING\" element present in the Array1D\n",
    "# So all elements got converted into Complex by default\n",
    "Array1D=array([45+9j,True,39.69,39]) #Convert the 1D list into array\n",
    "print(Array1D)\n",
    "print(type(Array1D))\n",
    "print(ndim(Array1D))    \n",
    "print(size(Array1D))\n",
    "print(len(Array1D))\n",
    "print(shape(Array1D))"
   ]
  },
  {
   "cell_type": "code",
   "execution_count": 337,
   "metadata": {},
   "outputs": [
    {
     "name": "stdout",
     "output_type": "stream",
     "text": [
      "[[[45.   +9.j  1.   +0.j 39.69 +0.j 39.   +0.j]\n",
      "  [10.1  +0.j 10.  +10.j  0.   +0.j 10.   +0.j]\n",
      "  [ 1.   +0.j  2.   +0.j  3.   +0.j  4.   +0.j]\n",
      "  [ 6.   +0.j  7.   +0.j  8.   +0.j  9.   +0.j]]]\n",
      "<class 'numpy.ndarray'>\n",
      "3\n",
      "16\n",
      "1\n",
      "(1, 4, 4)\n"
     ]
    }
   ],
   "source": [
    "#Creating 2D array from 4 lists\n",
    "# There is no \"STRING\" element present in the Array2D\n",
    "# So by default all elements of this 2D Array got converted into Complex\n",
    "Array2D=array([[[45+9j,True,39.69,39],[10.10,10+10j,False,10],[1,2,3,4],[6,7,8,9]]])\n",
    "print(Array2D)\n",
    "print(type(Array2D))\n",
    "print(ndim(Array2D))    \n",
    "print(size(Array2D)) # 1 array, 4 Rows & 4 Columns\n",
    "print(len(Array2D))\n",
    "print(shape(Array2D))\n",
    "#4 rows & 5 coloumns\n",
    "#Total 20 elements"
   ]
  },
  {
   "cell_type": "code",
   "execution_count": 338,
   "metadata": {},
   "outputs": [
    {
     "data": {
      "text/plain": [
       "array([53.  +9.j,  9.  +0.j, 47.69+0.j, 47.  +0.j])"
      ]
     },
     "execution_count": 338,
     "metadata": {},
     "output_type": "execute_result"
    }
   ],
   "source": [
    "Array1D+8 #All Complex elements of Array1D got increased by 8"
   ]
  },
  {
   "cell_type": "code",
   "execution_count": 339,
   "metadata": {},
   "outputs": [
    {
     "data": {
      "text/plain": [
       "array([360.  +72.j,   8.   +0.j, 317.52 +0.j, 312.   +0.j])"
      ]
     },
     "execution_count": 339,
     "metadata": {},
     "output_type": "execute_result"
    }
   ],
   "source": [
    "Array1D*8 #All Complex elements of Array1D got multiplied by 8"
   ]
  },
  {
   "cell_type": "code",
   "execution_count": 340,
   "metadata": {},
   "outputs": [
    {
     "data": {
      "text/plain": [
       "array([[[360.  +72.j,   8.   +0.j, 317.52 +0.j, 312.   +0.j],\n",
       "        [ 80.8  +0.j,  80.  +80.j,   0.   +0.j,  80.   +0.j],\n",
       "        [  8.   +0.j,  16.   +0.j,  24.   +0.j,  32.   +0.j],\n",
       "        [ 48.   +0.j,  56.   +0.j,  64.   +0.j,  72.   +0.j]]])"
      ]
     },
     "execution_count": 340,
     "metadata": {},
     "output_type": "execute_result"
    }
   ],
   "source": [
    "Array2D*8 #All Complex elements of Array2D got multiplied by 8"
   ]
  },
  {
   "cell_type": "code",
   "execution_count": 341,
   "metadata": {},
   "outputs": [
    {
     "data": {
      "text/plain": [
       "array([[[53.   +9.j,  9.   +0.j, 47.69 +0.j, 47.   +0.j],\n",
       "        [18.1  +0.j, 18.  +10.j,  8.   +0.j, 18.   +0.j],\n",
       "        [ 9.   +0.j, 10.   +0.j, 11.   +0.j, 12.   +0.j],\n",
       "        [14.   +0.j, 15.   +0.j, 16.   +0.j, 17.   +0.j]]])"
      ]
     },
     "execution_count": 341,
     "metadata": {},
     "output_type": "execute_result"
    }
   ],
   "source": [
    "Array2D+8 #All Complex elements of Array2D got increased by 8"
   ]
  },
  {
   "cell_type": "code",
   "execution_count": 342,
   "metadata": {},
   "outputs": [
    {
     "data": {
      "text/plain": [
       "array([-1.64610661e+11+1.96706296e+13j,  1.00000000e+00+0.00000000e+00j,\n",
       "        6.15812913e+12+0.00000000e+00j,  5.35200926e+12+0.00000000e+00j])"
      ]
     },
     "execution_count": 342,
     "metadata": {},
     "output_type": "execute_result"
    }
   ],
   "source": [
    "Array1D**8 #All Complex elements of Array1D got powered by 8"
   ]
  },
  {
   "cell_type": "code",
   "execution_count": 343,
   "metadata": {},
   "outputs": [
    {
     "name": "stdout",
     "output_type": "stream",
     "text": [
      "[[[ 12.    31.    29.   -66.69  39.  ]\n",
      "  [-10.1  -89.   -76.   100.    10.  ]]\n",
      "\n",
      " [[ 45.    54.    11.   -36.69  32.  ]\n",
      "  [-10.16  29.    19.   -12.    17.  ]]]\n",
      "<class 'numpy.ndarray'>\n",
      "3\n",
      "20\n",
      "2\n",
      "(2, 2, 5)\n"
     ]
    }
   ],
   "source": [
    "#Creating 3D Array of Tuples\n",
    "#All elements of Array3D got converted to float by default\n",
    "Array3D=array((((12,31,29,-66.69,39),(-10.10,-89,-76,100,10)),((45,54,11,-36.69,32),(-10.16,29,19,-12,17))))\n",
    "print(Array3D)\n",
    "print(type(Array3D))\n",
    "print(ndim(Array3D))    \n",
    "print(size(Array3D))\n",
    "print(len(Array3D))\n",
    "print(shape(Array3D)) # 2 arrays, 2 Rows & 5 Columns"
   ]
  },
  {
   "cell_type": "code",
   "execution_count": 344,
   "metadata": {},
   "outputs": [
    {
     "data": {
      "text/plain": [
       "array([[[  60.  ,  155.  ,  145.  , -333.45,  195.  ],\n",
       "        [ -50.5 , -445.  , -380.  ,  500.  ,   50.  ]],\n",
       "\n",
       "       [[ 225.  ,  270.  ,   55.  , -183.45,  160.  ],\n",
       "        [ -50.8 ,  145.  ,   95.  ,  -60.  ,   85.  ]]])"
      ]
     },
     "execution_count": 344,
     "metadata": {},
     "output_type": "execute_result"
    }
   ],
   "source": [
    "Array3D*5 #All float elements of Array3D got multiplied by 5"
   ]
  },
  {
   "cell_type": "code",
   "execution_count": 345,
   "metadata": {},
   "outputs": [
    {
     "data": {
      "text/plain": [
       "array([[[ 2.48832000e+05,  2.86291510e+07,  2.05111490e+07,\n",
       "         -1.31917857e+09,  9.02241990e+07],\n",
       "        [-1.05101005e+05, -5.58405945e+09, -2.53552538e+09,\n",
       "          1.00000000e+10,  1.00000000e+05]],\n",
       "\n",
       "       [[ 1.84528125e+08,  4.59165024e+08,  1.61051000e+05,\n",
       "         -6.64872788e+07,  3.35544320e+07],\n",
       "        [-1.08260129e+05,  2.05111490e+07,  2.47609900e+06,\n",
       "         -2.48832000e+05,  1.41985700e+06]]])"
      ]
     },
     "execution_count": 345,
     "metadata": {},
     "output_type": "execute_result"
    }
   ],
   "source": [
    "Array3D**5 #All float elements of Array3D got powered by 5"
   ]
  },
  {
   "cell_type": "markdown",
   "metadata": {},
   "source": [
    "### B/W Arrays\n",
    "add(a,b), substract(a,b), multiply(a,b), divide(a,b), mod(a,b), power(a,b)"
   ]
  },
  {
   "cell_type": "code",
   "execution_count": 346,
   "metadata": {},
   "outputs": [
    {
     "name": "stdout",
     "output_type": "stream",
     "text": [
      "[[[90.  +18.j  2.   +0.j 79.38 +0.j 78.   +0.j]\n",
      "  [55.1  +9.j 11.  +10.j 39.69 +0.j 49.   +0.j]\n",
      "  [46.   +9.j  3.   +0.j 42.69 +0.j 43.   +0.j]\n",
      "  [51.   +9.j  8.   +0.j 47.69 +0.j 48.   +0.j]]]\n",
      "1\n",
      "<class 'numpy.ndarray'>\n",
      "16\n",
      "(1, 4, 4)\n",
      "3\n",
      "complex128\n"
     ]
    }
   ],
   "source": [
    "# Array1D got added through all the Rows of Array3D\n",
    "Array1D=array([45+9j,True,39.69,39])\n",
    "Array3D=array([[[45+9j,True,39.69,39],\n",
    "               [10.10,10+10j,False,10],\n",
    "               [1,2,3,4],\n",
    "               [6,7,8,9]]])\n",
    "AddArray=Array1D+Array3D #Addition of 2 complex Arrays\n",
    "print(AddArray)\n",
    "print(len(AddArray))\n",
    "print(type(AddArray))\n",
    "print(size(AddArray))\n",
    "print(shape(AddArray)) # 1 array, 4 Rows & 4 Columns\n",
    "print(AddArray.ndim)\n",
    "print(AddArray.dtype)"
   ]
  },
  {
   "cell_type": "markdown",
   "metadata": {},
   "source": [
    "## Brodcasting\n",
    "1. When we can't perform airthmatic operation b/W Arrays of different size or shape\n",
    "2. Size of each dimention should be same\n",
    "3. Size of one of the dimention should be 1"
   ]
  },
  {
   "cell_type": "code",
   "execution_count": 347,
   "metadata": {},
   "outputs": [],
   "source": [
    "#1. When we can't perform airthmatic operation b/W Arrays of different size or shape\n",
    "#2. Size of each dimention should be same\n",
    "#3. Size of one of the dimention should be 1"
   ]
  },
  {
   "cell_type": "code",
   "execution_count": 348,
   "metadata": {},
   "outputs": [
    {
     "name": "stdout",
     "output_type": "stream",
     "text": [
      "[[1 2]\n",
      " [3 4]\n",
      " [5 6]]\n",
      "(3, 2)\n"
     ]
    }
   ],
   "source": [
    "#2D Array made by 3 Lists\n",
    "Array2D=array([[1,2],\n",
    "               [3,4],\n",
    "               [5,6]])\n",
    "print(Array2D)\n",
    "print(shape(Array2D))"
   ]
  },
  {
   "cell_type": "code",
   "execution_count": 349,
   "metadata": {},
   "outputs": [],
   "source": [
    "# 1D Array\n",
    "Array1D=array([10,20])"
   ]
  },
  {
   "cell_type": "code",
   "execution_count": 350,
   "metadata": {},
   "outputs": [
    {
     "data": {
      "text/plain": [
       "array([[11, 22],\n",
       "       [13, 24],\n",
       "       [15, 26]])"
      ]
     },
     "execution_count": 350,
     "metadata": {},
     "output_type": "execute_result"
    }
   ],
   "source": [
    "Array1D+Array2D #Array1D has been added through all the Rows of Array2D"
   ]
  },
  {
   "cell_type": "code",
   "execution_count": 351,
   "metadata": {},
   "outputs": [
    {
     "data": {
      "text/plain": [
       "array([[ 10,  40],\n",
       "       [ 30,  80],\n",
       "       [ 50, 120]])"
      ]
     },
     "execution_count": 351,
     "metadata": {},
     "output_type": "execute_result"
    }
   ],
   "source": [
    "Array1D*Array2D #Array1D has been multiplied through all the Rows of Array2D"
   ]
  },
  {
   "cell_type": "markdown",
   "metadata": {},
   "source": [
    "## Array Manupulation\n",
    "1. Reshaping Array\n",
    "2. Array Flattening\n",
    "3. Dimention Shuffling\n",
    "4. Joining Arrays\n",
    "5. Spilitting Arrays\n",
    "6. Add/Remove elements to/from Array"
   ]
  },
  {
   "cell_type": "markdown",
   "metadata": {},
   "source": [
    "## Reshaping Array\n",
    "1. array.reshape() this don't changes the actual array\n",
    "2. resize(array,()) this don't changes the actual array, filling is always 1 directional Row wise\n",
    "3. array.resize() this changes the actual array, filling is always 1 directional Row wise\n",
    "4. Reshaping contains three things... Array, Shape, Order"
   ]
  },
  {
   "cell_type": "code",
   "execution_count": 352,
   "metadata": {},
   "outputs": [
    {
     "name": "stdout",
     "output_type": "stream",
     "text": [
      "Help on function reshape in module numpy:\n",
      "\n",
      "reshape(a, newshape, order='C')\n",
      "    Gives a new shape to an array without changing its data.\n",
      "    \n",
      "    Parameters\n",
      "    ----------\n",
      "    a : array_like\n",
      "        Array to be reshaped.\n",
      "    newshape : int or tuple of ints\n",
      "        The new shape should be compatible with the original shape. If\n",
      "        an integer, then the result will be a 1-D array of that length.\n",
      "        One shape dimension can be -1. In this case, the value is\n",
      "        inferred from the length of the array and remaining dimensions.\n",
      "    order : {'C', 'F', 'A'}, optional\n",
      "        Read the elements of `a` using this index order, and place the\n",
      "        elements into the reshaped array using this index order.  'C'\n",
      "        means to read / write the elements using C-like index order,\n",
      "        with the last axis index changing fastest, back to the first\n",
      "        axis index changing slowest. 'F' means to read / write the\n",
      "        elements using Fortran-like index order, with the first index\n",
      "        changing fastest, and the last index changing slowest. Note that\n",
      "        the 'C' and 'F' options take no account of the memory layout of\n",
      "        the underlying array, and only refer to the order of indexing.\n",
      "        'A' means to read / write the elements in Fortran-like index\n",
      "        order if `a` is Fortran *contiguous* in memory, C-like order\n",
      "        otherwise.\n",
      "    \n",
      "    Returns\n",
      "    -------\n",
      "    reshaped_array : ndarray\n",
      "        This will be a new view object if possible; otherwise, it will\n",
      "        be a copy.  Note there is no guarantee of the *memory layout* (C- or\n",
      "        Fortran- contiguous) of the returned array.\n",
      "    \n",
      "    See Also\n",
      "    --------\n",
      "    ndarray.reshape : Equivalent method.\n",
      "    \n",
      "    Notes\n",
      "    -----\n",
      "    It is not always possible to change the shape of an array without\n",
      "    copying the data. If you want an error to be raised when the data is copied,\n",
      "    you should assign the new shape to the shape attribute of the array::\n",
      "    \n",
      "     >>> a = np.zeros((10, 2))\n",
      "    \n",
      "     # A transpose makes the array non-contiguous\n",
      "     >>> b = a.T\n",
      "    \n",
      "     # Taking a view makes it possible to modify the shape without modifying\n",
      "     # the initial object.\n",
      "     >>> c = b.view()\n",
      "     >>> c.shape = (20)\n",
      "     Traceback (most recent call last):\n",
      "        ...\n",
      "     AttributeError: Incompatible shape for in-place modification. Use\n",
      "     `.reshape()` to make a copy with the desired shape.\n",
      "    \n",
      "    The `order` keyword gives the index ordering both for *fetching* the values\n",
      "    from `a`, and then *placing* the values into the output array.\n",
      "    For example, let's say you have an array:\n",
      "    \n",
      "    >>> a = np.arange(6).reshape((3, 2))\n",
      "    >>> a\n",
      "    array([[0, 1],\n",
      "           [2, 3],\n",
      "           [4, 5]])\n",
      "    \n",
      "    You can think of reshaping as first raveling the array (using the given\n",
      "    index order), then inserting the elements from the raveled array into the\n",
      "    new array using the same kind of index ordering as was used for the\n",
      "    raveling.\n",
      "    \n",
      "    >>> np.reshape(a, (2, 3)) # C-like index ordering\n",
      "    array([[0, 1, 2],\n",
      "           [3, 4, 5]])\n",
      "    >>> np.reshape(np.ravel(a), (2, 3)) # equivalent to C ravel then C reshape\n",
      "    array([[0, 1, 2],\n",
      "           [3, 4, 5]])\n",
      "    >>> np.reshape(a, (2, 3), order='F') # Fortran-like index ordering\n",
      "    array([[0, 4, 3],\n",
      "           [2, 1, 5]])\n",
      "    >>> np.reshape(np.ravel(a, order='F'), (2, 3), order='F')\n",
      "    array([[0, 4, 3],\n",
      "           [2, 1, 5]])\n",
      "    \n",
      "    Examples\n",
      "    --------\n",
      "    >>> a = np.array([[1,2,3], [4,5,6]])\n",
      "    >>> np.reshape(a, 6)\n",
      "    array([1, 2, 3, 4, 5, 6])\n",
      "    >>> np.reshape(a, 6, order='F')\n",
      "    array([1, 4, 2, 5, 3, 6])\n",
      "    \n",
      "    >>> np.reshape(a, (3,-1))       # the unspecified value is inferred to be 2\n",
      "    array([[1, 2],\n",
      "           [3, 4],\n",
      "           [5, 6]])\n",
      "\n"
     ]
    }
   ],
   "source": [
    "from numpy import reshape\n",
    "help(reshape)"
   ]
  },
  {
   "cell_type": "code",
   "execution_count": 353,
   "metadata": {},
   "outputs": [
    {
     "name": "stdout",
     "output_type": "stream",
     "text": [
      "[['KESHAV' '(45+9j)' 'True' '39.69' '39']\n",
      " ['10.1' 'Prashant' '(10+10j)' 'False' '10']]\n",
      "<class 'numpy.ndarray'>\n",
      "2\n",
      "10\n",
      "2\n",
      "(2, 5)\n"
     ]
    }
   ],
   "source": [
    "#Creating 2D array from 2 lists\n",
    "#No of elements/length of each list should be same\n",
    "Array2D=array([[\"KESHAV\",45+9j,True,39.69,39],[10.10,'Prashant',10+10j,False,10]]) #Transforming nested list of 2 lists into Array\n",
    "print(Array2D)\n",
    "print(type(Array2D))\n",
    "print(ndim(Array2D))    \n",
    "print(size(Array2D))\n",
    "print(len(Array2D))\n",
    "print(shape(Array2D)) #2 rows & 5 cols"
   ]
  },
  {
   "cell_type": "code",
   "execution_count": 354,
   "metadata": {},
   "outputs": [
    {
     "name": "stdout",
     "output_type": "stream",
     "text": [
      "[[['KESHAV' '(45+9j)' 'True' '39.69' '39']\n",
      "  ['10.1' 'Prashant' '(10+10j)' 'False' '10']]]\n",
      "<class 'numpy.ndarray'>\n",
      "3\n",
      "10\n",
      "1\n",
      "(1, 2, 5)\n"
     ]
    }
   ],
   "source": [
    "#Creating 2D array from 2 lists\n",
    "#No of elements/length of each list should be same\n",
    "Array2D=array([[[\"KESHAV\",45+9j,True,39.69,39],[10.10,'Prashant',10+10j,False,10]]]) #Transforming nested list of 2 lists into Array\n",
    "print(Array2D)\n",
    "print(type(Array2D))\n",
    "print(ndim(Array2D))    \n",
    "print(size(Array2D))\n",
    "print(len(Array2D))\n",
    "print(shape(Array2D)) #1 array, 2 rows & 5 cols"
   ]
  },
  {
   "cell_type": "code",
   "execution_count": 355,
   "metadata": {},
   "outputs": [
    {
     "data": {
      "text/plain": [
       "array([['KESHAV', '(45+9j)'],\n",
       "       ['True', '39.69'],\n",
       "       ['39', '10.1'],\n",
       "       ['Prashant', '(10+10j)'],\n",
       "       ['False', '10']], dtype='<U64')"
      ]
     },
     "execution_count": 355,
     "metadata": {},
     "output_type": "execute_result"
    }
   ],
   "source": [
    "# reshape to 5 rows & 2 cols\n",
    "Array2D.reshape(5,2) #Row wise filling"
   ]
  },
  {
   "cell_type": "code",
   "execution_count": 356,
   "metadata": {},
   "outputs": [
    {
     "data": {
      "text/plain": [
       "array([['KESHAV', '(10+10j)'],\n",
       "       ['10.1', '39.69'],\n",
       "       ['(45+9j)', 'False'],\n",
       "       ['Prashant', '39'],\n",
       "       ['True', '10']], dtype='<U64')"
      ]
     },
     "execution_count": 356,
     "metadata": {},
     "output_type": "execute_result"
    }
   ],
   "source": [
    "# reshape to 5 rows & 2 cols\n",
    "Array2D.reshape(5,2,order=\"F\") #Colwise filling"
   ]
  },
  {
   "cell_type": "code",
   "execution_count": 357,
   "metadata": {},
   "outputs": [
    {
     "data": {
      "text/plain": [
       "array([['KESHAV', '(45+9j)'],\n",
       "       ['True', '39.69'],\n",
       "       ['39', '10.1'],\n",
       "       ['Prashant', '(10+10j)'],\n",
       "       ['False', '10']], dtype='<U64')"
      ]
     },
     "execution_count": 357,
     "metadata": {},
     "output_type": "execute_result"
    }
   ],
   "source": [
    "# reshape to 5 rows & 2 cols\n",
    "Array2D.reshape(5,2,order=\"A\") #Row wise filling"
   ]
  },
  {
   "cell_type": "code",
   "execution_count": 358,
   "metadata": {},
   "outputs": [
    {
     "data": {
      "text/plain": [
       "array([['KESHAV', '(45+9j)'],\n",
       "       ['True', '39.69'],\n",
       "       ['39', '10.1'],\n",
       "       ['Prashant', '(10+10j)'],\n",
       "       ['False', '10']], dtype='<U64')"
      ]
     },
     "execution_count": 358,
     "metadata": {},
     "output_type": "execute_result"
    }
   ],
   "source": [
    "# reshape to 5 rows & 2 cols\n",
    "Array2D.reshape(5,2,order=\"C\") #Row wise filling"
   ]
  },
  {
   "cell_type": "code",
   "execution_count": 359,
   "metadata": {},
   "outputs": [
    {
     "data": {
      "text/plain": [
       "array([['KESHAV', '(45+9j)', 'True', '39.69'],\n",
       "       ['39', '10.1', 'Prashant', '(10+10j)'],\n",
       "       ['False', '10', 'KESHAV', '(45+9j)'],\n",
       "       ['True', '39.69', '39', '10.1'],\n",
       "       ['Prashant', '(10+10j)', 'False', '10']], dtype='<U64')"
      ]
     },
     "execution_count": 359,
     "metadata": {},
     "output_type": "execute_result"
    }
   ],
   "source": [
    "# resize to 5 rows & 4 cols, 5*4=20 elements\n",
    "# While filling, Array elements get repeated if Row*Col > size(Array)\n",
    "# resize(array,()) this function always do Row wise filling\n",
    "# You can't change the filling process, always 1 directional filling\n",
    "from numpy import resize\n",
    "resize(Array2D,(5,4)) #Row wise filling, Order facility doesn't exist here with resize() function"
   ]
  },
  {
   "cell_type": "code",
   "execution_count": 360,
   "metadata": {},
   "outputs": [
    {
     "data": {
      "text/plain": [
       "array([['KESHAV', '(45+9j)'],\n",
       "       ['True', '39.69'],\n",
       "       ['39', '10.1'],\n",
       "       ['Prashant', '(10+10j)'],\n",
       "       ['False', '10']], dtype='<U64')"
      ]
     },
     "execution_count": 360,
     "metadata": {},
     "output_type": "execute_result"
    }
   ],
   "source": [
    "# resize to 5 rows & 2 cols, 5*2=10 elements\n",
    "Array2D.resize(5,2)\n",
    "Array2D  # Permanent shape change of Array2D"
   ]
  },
  {
   "cell_type": "code",
   "execution_count": 361,
   "metadata": {},
   "outputs": [
    {
     "name": "stdout",
     "output_type": "stream",
     "text": [
      "[['KESHAV' '(45+9j)' 'True' '39.69' '39']\n",
      " ['10.1' 'Prashant' '(10+10j)' 'False' '10']]\n"
     ]
    },
    {
     "data": {
      "text/plain": [
       "(None, dtype('<U64'), (2, 5), 10, 2)"
      ]
     },
     "execution_count": 361,
     "metadata": {},
     "output_type": "execute_result"
    }
   ],
   "source": [
    "#Creating 2D array from 2 lists\n",
    "#No of elements/length of each list should be same\n",
    "New2D=array([[\"KESHAV\",45+9j,True,39.69,39],[10.10,'Prashant',10+10j,False,10]]) #Transforming nested list of 2 lists into Array\n",
    "print(New2D),New2D.dtype,shape(New2D),size(New2D),ndim(New2D) #2 rows & 5 cols"
   ]
  },
  {
   "cell_type": "code",
   "execution_count": 362,
   "metadata": {},
   "outputs": [
    {
     "name": "stdout",
     "output_type": "stream",
     "text": [
      "[['KESHAV' '(45+9j)']\n",
      " ['True' '39.69']\n",
      " ['39' '10.1']\n",
      " ['Prashant' '(10+10j)']\n",
      " ['False' '10']]\n"
     ]
    }
   ],
   "source": [
    "# resize to 5 rows & 2 cols, 5*2=10 elements\n",
    "New2D.resize(5,2) #This kind of reshape always changes the original Array permanently\n",
    "print(New2D)      #Row wise filling"
   ]
  },
  {
   "cell_type": "markdown",
   "metadata": {},
   "source": [
    "## Array Flattening to 1D by using flatten() & ravel()\n",
    "1. Array Flattening by using flatten() & ravel()\n",
    "2. Flattening means Dimention convertion of Array\n",
    "3. From 4D, 3D, 2D to 1D conversion\n",
    "4. Flatten method creates a copy of the Original Array\n",
    "5. Ravel method just gives you a temporary view\n",
    "6. You can't write flatten() as this format because this is not a function\n",
    "7. You can write ravel() as this format, because this is an function"
   ]
  },
  {
   "cell_type": "code",
   "execution_count": 363,
   "metadata": {},
   "outputs": [
    {
     "name": "stdout",
     "output_type": "stream",
     "text": [
      "[['KESHAV' '(45+9j)' 'True' '39.69' '39']\n",
      " ['10.1' 'Prashant' '(10+10j)' 'False' '10']]\n",
      "<class 'numpy.ndarray'>\n",
      "2\n",
      "10\n",
      "2\n",
      "(2, 5)\n"
     ]
    }
   ],
   "source": [
    "#Creating 2D array from 2 lists\n",
    "#No of elements/length of each list should be same\n",
    "New2D=array([[\"KESHAV\",45+9j,True,39.69,39],[10.10,'Prashant',10+10j,False,10]]) #Transforming nested list of 2 lists into Array\n",
    "print(New2D)\n",
    "print(type(New2D))\n",
    "print(ndim(New2D))    \n",
    "print(size(New2D))\n",
    "print(len(New2D))\n",
    "print(shape(New2D)) # 2 Rows & 5 Columns"
   ]
  },
  {
   "cell_type": "code",
   "execution_count": 364,
   "metadata": {},
   "outputs": [
    {
     "name": "stdout",
     "output_type": "stream",
     "text": [
      "['KESHAV' '(45+9j)' 'True' '39.69' '39' '10.1' 'Prashant' '(10+10j)'\n",
      " 'False' '10']\n",
      "1\n",
      "(10,)\n"
     ]
    }
   ],
   "source": [
    "# Row wise 2D to 1D conversion\n",
    "print(New2D.flatten()) #Row wise flatten\n",
    "print(ndim(New2D.flatten()))\n",
    "print(shape(New2D.flatten()))"
   ]
  },
  {
   "cell_type": "code",
   "execution_count": 365,
   "metadata": {},
   "outputs": [
    {
     "name": "stdout",
     "output_type": "stream",
     "text": [
      "['KESHAV' '10.1' '(45+9j)' 'Prashant' 'True' '(10+10j)' '39.69' 'False'\n",
      " '39' '10']\n",
      "1\n",
      "(10,)\n"
     ]
    }
   ],
   "source": [
    "# Col wise 2D to 1D conversion\n",
    "print(New2D.flatten(order=\"F\")) #Col wise flatten\n",
    "print(ndim(New2D.flatten(order=\"F\")))\n",
    "print(shape(New2D.flatten(order=\"F\")))"
   ]
  },
  {
   "cell_type": "code",
   "execution_count": 366,
   "metadata": {},
   "outputs": [
    {
     "name": "stdout",
     "output_type": "stream",
     "text": [
      "[[['KESHAV' '(45+9j)' 'True' '39.69' '39']\n",
      "  ['10.1' 'Prashant' '(10+10j)' 'False' '10']]\n",
      "\n",
      " [['RAGHAV' '(49+9j)' 'True' '36.69' '36']\n",
      "  ['10.16' 'Prashant' '(19+10j)' 'False' '17']]]\n"
     ]
    }
   ],
   "source": [
    "#Creating 3D Array of Tuples\n",
    "Array3D=array((((\"KESHAV\",45+9j,True,39.69,39),(10.10,'Prashant',10+10j,False,10)),((\"RAGHAV\",49+9j,True,36.69,36),(10.16,'Prashant',19+10j,False,17))))\n",
    "print(Array3D)"
   ]
  },
  {
   "cell_type": "code",
   "execution_count": 367,
   "metadata": {},
   "outputs": [
    {
     "name": "stdout",
     "output_type": "stream",
     "text": [
      "['KESHAV' '(45+9j)' 'True' '39.69' '39' '10.1' 'Prashant' '(10+10j)'\n",
      " 'False' '10' 'RAGHAV' '(49+9j)' 'True' '36.69' '36' '10.16' 'Prashant'\n",
      " '(19+10j)' 'False' '17']\n",
      "1\n",
      "(20,)\n"
     ]
    }
   ],
   "source": [
    "# Row wise 3D to 1D conversion\n",
    "print(Array3D.flatten()) #Row wise flatten\n",
    "print(ndim(Array3D.flatten()))\n",
    "print(shape(Array3D.flatten()))"
   ]
  },
  {
   "cell_type": "code",
   "execution_count": 368,
   "metadata": {},
   "outputs": [
    {
     "name": "stdout",
     "output_type": "stream",
     "text": [
      "['KESHAV' 'RAGHAV' '10.1' '10.16' '(45+9j)' '(49+9j)' 'Prashant'\n",
      " 'Prashant' 'True' 'True' '(10+10j)' '(19+10j)' '39.69' '36.69' 'False'\n",
      " 'False' '39' '36' '10' '17']\n",
      "1\n",
      "(20,)\n"
     ]
    }
   ],
   "source": [
    "# Col wise 3D to 1D conversion\n",
    "print(Array3D.flatten(order=\"F\")) #Col wise flatten\n",
    "print(ndim(Array3D.flatten(order=\"F\")))\n",
    "print(shape(Array3D.flatten(order=\"F\")))"
   ]
  },
  {
   "cell_type": "code",
   "execution_count": 369,
   "metadata": {},
   "outputs": [
    {
     "name": "stdout",
     "output_type": "stream",
     "text": [
      "['KESHAV' '(45+9j)' 'True' '39.69' '39' '10.1' 'Prashant' '(10+10j)'\n",
      " 'False' '10' 'RAGHAV' '(49+9j)' 'True' '36.69' '36' '10.16' 'Prashant'\n",
      " '(19+10j)' 'False' '17']\n",
      "(20,)\n",
      "1\n"
     ]
    }
   ],
   "source": [
    "# Row wise 3D to 1D conversion\n",
    "from numpy import ravel\n",
    "print(Array3D.ravel(order=\"c\")) #Row wise flatten\n",
    "print(shape(Array3D.ravel(order=\"c\")))\n",
    "print(ndim(Array3D.ravel(order=\"c\")))"
   ]
  },
  {
   "cell_type": "code",
   "execution_count": 370,
   "metadata": {},
   "outputs": [
    {
     "name": "stdout",
     "output_type": "stream",
     "text": [
      "['KESHAV' 'RAGHAV' '10.1' '10.16' '(45+9j)' '(49+9j)' 'Prashant'\n",
      " 'Prashant' 'True' 'True' '(10+10j)' '(19+10j)' '39.69' '36.69' 'False'\n",
      " 'False' '39' '36' '10' '17']\n",
      "(20,)\n",
      "1\n"
     ]
    }
   ],
   "source": [
    "# Col wise 3D to 1D conversion\n",
    "print(Array3D.ravel(order=\"F\")) #Col wise flatten\n",
    "print(shape(Array3D.ravel(order=\"F\")))\n",
    "print(ndim(Array3D.ravel(order=\"F\")))"
   ]
  },
  {
   "cell_type": "code",
   "execution_count": 371,
   "metadata": {},
   "outputs": [
    {
     "name": "stdout",
     "output_type": "stream",
     "text": [
      "['KESHAV' '(45+9j)' 'True' '39.69' '39' '10.1' 'Prashant' '(10+10j)'\n",
      " 'False' '10' 'RAGHAV' '(49+9j)' 'True' '36.69' '36' '10.16' 'Prashant'\n",
      " '(19+10j)' 'False' '17']\n",
      "(20,)\n",
      "1\n"
     ]
    }
   ],
   "source": [
    "# Row wise 3D to 1D conversion\n",
    "print(Array3D.ravel(order=\"A\")) #Row wise flatten\n",
    "print(shape(Array3D.ravel(order=\"A\")))\n",
    "print(ndim(Array3D.ravel(order=\"A\")))"
   ]
  },
  {
   "cell_type": "code",
   "execution_count": 372,
   "metadata": {},
   "outputs": [
    {
     "name": "stdout",
     "output_type": "stream",
     "text": [
      "['KESHAV' '(45+9j)' 'True' '39.69' '39' '10.1' 'Prashant' '(10+10j)'\n",
      " 'False' '10' 'RAGHAV' '(49+9j)' 'True' '36.69' '36' '10.16' 'Prashant'\n",
      " '(19+10j)' 'False' '17']\n",
      "(20,)\n",
      "1\n"
     ]
    }
   ],
   "source": [
    "# Row wise 3D to 1D conversion\n",
    "print(Array3D.ravel()) #Row wise flatten\n",
    "print(shape(Array3D.ravel()))\n",
    "print(ndim(Array3D.ravel()))"
   ]
  },
  {
   "cell_type": "code",
   "execution_count": 373,
   "metadata": {},
   "outputs": [
    {
     "name": "stdout",
     "output_type": "stream",
     "text": [
      "['KESHAV' '(45+9j)' 'True' '39.69' '39' '10.1' 'Prashant' '(10+10j)'\n",
      " 'False' '10' 'RAGHAV' '(49+9j)' 'True' '36.69' '36' '10.16' 'Prashant'\n",
      " '(19+10j)' 'False' '17']\n",
      "(20,)\n",
      "1\n"
     ]
    }
   ],
   "source": [
    "# Row wise 3D to 1D conversion\n",
    "print(Array3D.ravel(order=\"c\")) #Row wise flatten\n",
    "print(shape(Array3D.ravel(order=\"c\")))\n",
    "print(ndim(Array3D.ravel(order=\"c\")))"
   ]
  },
  {
   "cell_type": "code",
   "execution_count": 374,
   "metadata": {},
   "outputs": [
    {
     "name": "stdout",
     "output_type": "stream",
     "text": [
      "['KESHAV' 'RAGHAV' '10.1' '10.16' '(45+9j)' '(49+9j)' 'Prashant'\n",
      " 'Prashant' 'True' 'True' '(10+10j)' '(19+10j)' '39.69' '36.69' 'False'\n",
      " 'False' '39' '36' '10' '17']\n",
      "(20,)\n",
      "1\n"
     ]
    }
   ],
   "source": [
    "# Col wise 3D to 1D conversion\n",
    "print(Array3D.ravel(order=\"F\")) #Col wise flatten\n",
    "print(shape(Array3D.ravel(order=\"F\")))\n",
    "print(ndim(Array3D.ravel(order=\"F\")))"
   ]
  },
  {
   "cell_type": "code",
   "execution_count": 375,
   "metadata": {},
   "outputs": [
    {
     "name": "stdout",
     "output_type": "stream",
     "text": [
      "['KESHAV' '(45+9j)' 'True' '39.69' '39' '10.1' 'Prashant' '(10+10j)'\n",
      " 'False' '10' 'RAGHAV' '(49+9j)' 'True' '36.69' '36' '10.16' 'Prashant'\n",
      " '(19+10j)' 'False' '17']\n",
      "(20,)\n",
      "1\n"
     ]
    }
   ],
   "source": [
    "# Row wise 3D to 1D conversion\n",
    "print(Array3D.ravel(order=\"A\")) #Row wise flatten\n",
    "print(shape(Array3D.ravel(order=\"A\")))\n",
    "print(ndim(Array3D.ravel(order=\"A\")))"
   ]
  },
  {
   "cell_type": "markdown",
   "metadata": {},
   "source": [
    "## Dimension Shuffling by using Transpose and Swapaxes\n",
    "* transpose() function, works with all Axises/Dimensions\n",
    "* swapaxes() function, works with any two Axises/Dimensions\n",
    "* For 2D rowAxis=0, colAxis=1\n",
    "* For 3D ArrayAxis=0, RowAxis=1, colAxis=2"
   ]
  },
  {
   "cell_type": "code",
   "execution_count": 376,
   "metadata": {},
   "outputs": [],
   "source": [
    "#transpose() function, works with all Axises/Dimensions\n",
    "#swapaxes() function, works with any two Axises/Dimensions\n",
    "#For 2D rowAxis=0, colAxis=1\n",
    "#For 3D ArrayAxis=0, RowAxis=1, colAxis=2"
   ]
  },
  {
   "cell_type": "markdown",
   "metadata": {},
   "source": [
    "### transpose(Array, axes=none) & ArrayAxis=0, RowAxis=1, colAxis=2"
   ]
  },
  {
   "cell_type": "code",
   "execution_count": 377,
   "metadata": {},
   "outputs": [
    {
     "name": "stdout",
     "output_type": "stream",
     "text": [
      "[[['KESHAV' '(45+9j)' 'True' '39.69' '39']\n",
      "  ['10.1' 'Prashant' '(10+10j)' 'False' '10']]\n",
      "\n",
      " [['RAGHAV' '(49+9j)' 'True' '36.69' '36']\n",
      "  ['10.16' 'Prashant' '(19+10j)' 'False' '17']]]\n",
      "<class 'numpy.ndarray'>\n",
      "3\n",
      "20\n",
      "2\n",
      "(2, 2, 5)\n"
     ]
    }
   ],
   "source": [
    "#Creating 3D Array of Tuples\n",
    "Array3D=array((((\"KESHAV\",45+9j,True,39.69,39),(10.10,'Prashant',10+10j,False,10)),((\"RAGHAV\",49+9j,True,36.69,36),(10.16,'Prashant',19+10j,False,17))))\n",
    "print(Array3D)\n",
    "print(type(Array3D))\n",
    "print(ndim(Array3D))    \n",
    "print(size(Array3D))\n",
    "print(len(Array3D))\n",
    "print(shape(Array3D)) # 2 Arrays, 2 Rows & 5 Columns"
   ]
  },
  {
   "cell_type": "code",
   "execution_count": 378,
   "metadata": {},
   "outputs": [
    {
     "name": "stdout",
     "output_type": "stream",
     "text": [
      "[[['KESHAV' 'RAGHAV']\n",
      "  ['10.1' '10.16']]\n",
      "\n",
      " [['(45+9j)' '(49+9j)']\n",
      "  ['Prashant' 'Prashant']]\n",
      "\n",
      " [['True' 'True']\n",
      "  ['(10+10j)' '(19+10j)']]\n",
      "\n",
      " [['39.69' '36.69']\n",
      "  ['False' 'False']]\n",
      "\n",
      " [['39' '36']\n",
      "  ['10' '17']]]\n",
      "[[['KESHAV' 'RAGHAV']\n",
      "  ['10.1' '10.16']]\n",
      "\n",
      " [['(45+9j)' '(49+9j)']\n",
      "  ['Prashant' 'Prashant']]\n",
      "\n",
      " [['True' 'True']\n",
      "  ['(10+10j)' '(19+10j)']]\n",
      "\n",
      " [['39.69' '36.69']\n",
      "  ['False' 'False']]\n",
      "\n",
      " [['39' '36']\n",
      "  ['10' '17']]]\n",
      "<class 'numpy.ndarray'>\n",
      "3\n",
      "20\n",
      "5\n",
      "(5, 2, 2)\n",
      "(5, 2, 2)\n"
     ]
    }
   ],
   "source": [
    "#5 Arrays, 2 rows, 2 cols\n",
    "#For 3D ArrayAxis=0, RowAxis=1, colAxis=2\n",
    "from numpy import transpose\n",
    "print(Array3D.transpose())\n",
    "print(transpose(Array3D)) #Reverse the Dimention of Array3D\n",
    "                   #By using transpose() function we can interchange all the axises\n",
    "# print(transpose(Array3D))\n",
    "print(type(transpose(Array3D)))\n",
    "print(ndim(transpose(Array3D)))    \n",
    "print(size(transpose(Array3D)))\n",
    "print(len(transpose(Array3D)))\n",
    "print(shape(transpose(Array3D))) # 5 arrays, 2 Rows & 2 Columns\n",
    "print(shape(Array3D.T)) # 5 arrays, 2 Rows & 2 Columns"
   ]
  },
  {
   "cell_type": "code",
   "execution_count": 379,
   "metadata": {},
   "outputs": [
    {
     "data": {
      "text/plain": [
       "<function ndarray.transpose>"
      ]
     },
     "execution_count": 379,
     "metadata": {},
     "output_type": "execute_result"
    }
   ],
   "source": [
    "#For 3D ArrayAxis=0, RowAxis=1, colAxis=2\n",
    "Array3D.transpose  #Reverse the Dimention of Array3D\n",
    "                   #By using transpose() function we can interchange all the axises"
   ]
  },
  {
   "cell_type": "code",
   "execution_count": 380,
   "metadata": {},
   "outputs": [
    {
     "name": "stdout",
     "output_type": "stream",
     "text": [
      "[[['KESHAV' 'RAGHAV']\n",
      "  ['10.1' '10.16']]\n",
      "\n",
      " [['(45+9j)' '(49+9j)']\n",
      "  ['Prashant' 'Prashant']]\n",
      "\n",
      " [['True' 'True']\n",
      "  ['(10+10j)' '(19+10j)']]\n",
      "\n",
      " [['39.69' '36.69']\n",
      "  ['False' 'False']]\n",
      "\n",
      " [['39' '36']\n",
      "  ['10' '17']]]\n"
     ]
    }
   ],
   "source": [
    "#5 Arrays, 2 rows, 2 cols\n",
    "#For 3D ArrayAxis=0, RowAxis=1, colAxis=2\n",
    "print(Array3D.transpose()) #Reverse the Dimention of Array3D\n",
    "                    #By using transpose() function we can interchange all the axises"
   ]
  },
  {
   "cell_type": "code",
   "execution_count": 381,
   "metadata": {},
   "outputs": [
    {
     "data": {
      "text/plain": [
       "(5, 2, 2)"
      ]
     },
     "execution_count": 381,
     "metadata": {},
     "output_type": "execute_result"
    }
   ],
   "source": [
    "#5 Arrays, 2 rows, 2 cols\n",
    "#For 3D ArrayAxis=0, RowAxis=1, colAxis=2\n",
    "transpose(Array3D).shape #Reverse the Dimention of Array3D\n",
    "                         #By using transpose() function we can interchange all the axises"
   ]
  },
  {
   "cell_type": "code",
   "execution_count": 382,
   "metadata": {},
   "outputs": [
    {
     "data": {
      "text/plain": [
       "(5, 2, 2)"
      ]
     },
     "execution_count": 382,
     "metadata": {},
     "output_type": "execute_result"
    }
   ],
   "source": [
    "#5 Arrays, 2 rows, 2 cols\n",
    "transpose(Array3D).shape #Reverse the Dimention of Array3D\n",
    "                         #By using transpose() function we can interchange all the axeses\n",
    "                         #For 3D ArrayAxis=0, RowAxis=1, colAxis=2"
   ]
  },
  {
   "cell_type": "code",
   "execution_count": 383,
   "metadata": {},
   "outputs": [
    {
     "name": "stdout",
     "output_type": "stream",
     "text": [
      "(2, 2, 5)\n",
      "(2, 5, 2)\n"
     ]
    }
   ],
   "source": [
    "#2 Arrays, 5 rows, 2 cols\n",
    "#The transpose axeses always need be put inside extra ()\n",
    "#You need to mention axeses inside a Tuple\n",
    "# ArrayAxis 0 : 2, RowAxis 1 : 2, colAxis 2 : 5\n",
    "print(shape(Array3D)) # 2 arrays, 2 Rows & 5 Columns\n",
    "transpose(Array3D,(1,2,0)) #For 3D ArrayAxis=0, RowAxis=1, colAxis=2\n",
    "\n",
    "print(shape(transpose(Array3D,(1,2,0))))"
   ]
  },
  {
   "cell_type": "code",
   "execution_count": 384,
   "metadata": {},
   "outputs": [
    {
     "data": {
      "text/plain": [
       "array([[['KESHAV', 'RAGHAV'],\n",
       "        ['(45+9j)', '(49+9j)'],\n",
       "        ['True', 'True'],\n",
       "        ['39.69', '36.69'],\n",
       "        ['39', '36']],\n",
       "\n",
       "       [['10.1', '10.16'],\n",
       "        ['Prashant', 'Prashant'],\n",
       "        ['(10+10j)', '(19+10j)'],\n",
       "        ['False', 'False'],\n",
       "        ['10', '17']]], dtype='<U64')"
      ]
     },
     "execution_count": 384,
     "metadata": {},
     "output_type": "execute_result"
    }
   ],
   "source": [
    "#2 Arrays, 5 rows, 2 cols\n",
    "#The transpose axeses always need be put inside extra ()\n",
    "#You need to mention axeses inside a Tuple\n",
    "transpose(Array3D,axes=(1,2,0)) #No need to write axes seperately"
   ]
  },
  {
   "cell_type": "code",
   "execution_count": 385,
   "metadata": {},
   "outputs": [
    {
     "name": "stdout",
     "output_type": "stream",
     "text": [
      "[['KESHAV' '(45+9j)' 'True' '39.69' '39']\n",
      " ['10.1' 'Prashant' '(10+10j)' 'False' '10']]\n",
      "(2, 5)\n",
      "10\n",
      "2\n",
      "2\n",
      "<U64\n"
     ]
    }
   ],
   "source": [
    "#For 2D rowAxis=0, colAxis=1\n",
    "#Creating 2D array from 2 lists\n",
    "#No of elements/length of each list should be same\n",
    "New2D=array([[\"KESHAV\",45+9j,True,39.69,39],[10.10,'Prashant',10+10j,False,10]]) #Transforming nested list of 2 lists into Array\n",
    "print(New2D)\n",
    "print(shape(New2D)) # 2 Rows & 5 Columns\n",
    "print(size(New2D))\n",
    "print(len(New2D))\n",
    "print(ndim(New2D))\n",
    "print(New2D.dtype)"
   ]
  },
  {
   "cell_type": "code",
   "execution_count": 386,
   "metadata": {},
   "outputs": [
    {
     "data": {
      "text/plain": [
       "(array([['KESHAV', '10.1'],\n",
       "        ['(45+9j)', 'Prashant'],\n",
       "        ['True', '(10+10j)'],\n",
       "        ['39.69', 'False'],\n",
       "        ['39', '10']], dtype='<U64'),\n",
       " <function ndarray.transpose>,\n",
       " array([['KESHAV', '10.1'],\n",
       "        ['(45+9j)', 'Prashant'],\n",
       "        ['True', '(10+10j)'],\n",
       "        ['39.69', 'False'],\n",
       "        ['39', '10']], dtype='<U64'),\n",
       " (5, 2))"
      ]
     },
     "execution_count": 386,
     "metadata": {},
     "output_type": "execute_result"
    }
   ],
   "source": [
    "# 5 rows, 2 cols\n",
    "transpose(New2D),New2D.transpose,New2D.transpose(),transpose(New2D).shape    #For 2D rowAxis=0, colAxis=1"
   ]
  },
  {
   "cell_type": "code",
   "execution_count": 387,
   "metadata": {},
   "outputs": [
    {
     "data": {
      "text/plain": [
       "array([['KESHAV', '10.1'],\n",
       "       ['(45+9j)', 'Prashant'],\n",
       "       ['True', '(10+10j)'],\n",
       "       ['39.69', 'False'],\n",
       "       ['39', '10']], dtype='<U64')"
      ]
     },
     "execution_count": 387,
     "metadata": {},
     "output_type": "execute_result"
    }
   ],
   "source": [
    "# 5 rows, 2 cols\n",
    "#The transpose axeses always need be put inside extra ()\n",
    "#You need to mention axeses inside a Tuple\n",
    "transpose(New2D,(1,0)) #1,0 is same as reverse\n",
    "                       #For 2D rowAxis=0, colAxis=1"
   ]
  },
  {
   "cell_type": "code",
   "execution_count": 388,
   "metadata": {},
   "outputs": [
    {
     "data": {
      "text/plain": [
       "array([['KESHAV', '10.1'],\n",
       "       ['(45+9j)', 'Prashant'],\n",
       "       ['True', '(10+10j)'],\n",
       "       ['39.69', 'False'],\n",
       "       ['39', '10']], dtype='<U64')"
      ]
     },
     "execution_count": 388,
     "metadata": {},
     "output_type": "execute_result"
    }
   ],
   "source": [
    "# 5 rows, 2 cols\n",
    "#The transpose axeses always need be put inside extra ()\n",
    "#You need to mention axeses inside a Tuple\n",
    "transpose(New2D,axes=(1,0)) #no need to mention axes seperately\n",
    "                            #For 2D rowAxis=0, colAxis=1"
   ]
  },
  {
   "cell_type": "code",
   "execution_count": 389,
   "metadata": {},
   "outputs": [
    {
     "data": {
      "text/plain": [
       "array([['KESHAV', '(45+9j)', 'True', '39.69', '39'],\n",
       "       ['10.1', 'Prashant', '(10+10j)', 'False', '10']], dtype='<U64')"
      ]
     },
     "execution_count": 389,
     "metadata": {},
     "output_type": "execute_result"
    }
   ],
   "source": [
    "# 2 rows, 5 cols\n",
    "#The transpose axeses always need be put inside extra ()\n",
    "#You need to mention axeses inside a Tuple\n",
    "transpose(New2D,(0,1)) #For 2D rowAxis=0, colAxis=1"
   ]
  },
  {
   "cell_type": "code",
   "execution_count": 390,
   "metadata": {},
   "outputs": [
    {
     "data": {
      "text/plain": [
       "array([['KESHAV', '(45+9j)', 'True', '39.69', '39'],\n",
       "       ['10.1', 'Prashant', '(10+10j)', 'False', '10']], dtype='<U64')"
      ]
     },
     "execution_count": 390,
     "metadata": {},
     "output_type": "execute_result"
    }
   ],
   "source": [
    "# 2 rows, 5 cols\n",
    "#The transpose axeses always need be put inside extra ()\n",
    "#You need to mention axeses inside a Tuple\n",
    "transpose(New2D,axes=(0,1)) #don't need to mention axes\n",
    "                            #For 2D rowAxis=0, colAxis=1"
   ]
  },
  {
   "cell_type": "markdown",
   "metadata": {},
   "source": [
    "### swapaxes() means row to column and column to row\n",
    "* you can swap any two axes at a time for a 3D array"
   ]
  },
  {
   "cell_type": "code",
   "execution_count": 391,
   "metadata": {},
   "outputs": [],
   "source": [
    "#swapaxes()\n",
    "#You can interchange any two axis of given array... Array|Row  Array|Col  Row|Col\n",
    "#In the swapaxes() function we can interchange any 2 axis\n",
    "#Just mention the two axeses by giving comma... dont think about which axis to put first"
   ]
  },
  {
   "cell_type": "code",
   "execution_count": 392,
   "metadata": {},
   "outputs": [
    {
     "name": "stdout",
     "output_type": "stream",
     "text": [
      "[1 2 3]\n",
      "(3,)\n",
      "1\n"
     ]
    }
   ],
   "source": [
    "#1D Array\n",
    "Ar1=array([1,2,3])\n",
    "print(Ar1)\n",
    "print(shape(Ar1)) # 3 columns\n",
    "print(ndim(Ar1))"
   ]
  },
  {
   "cell_type": "code",
   "execution_count": 393,
   "metadata": {},
   "outputs": [
    {
     "name": "stdout",
     "output_type": "stream",
     "text": [
      "[[1 2 3]]\n",
      "(1, 3)\n",
      "2\n"
     ]
    }
   ],
   "source": [
    "#2D Array\n",
    "Ar2=array([[1,2,3]])\n",
    "print(Ar2) #1Row, 3col\n",
    "print(shape(Ar2)) # 1 Row & 3 Columns\n",
    "print(ndim(Ar2))"
   ]
  },
  {
   "cell_type": "code",
   "execution_count": 394,
   "metadata": {},
   "outputs": [
    {
     "name": "stdout",
     "output_type": "stream",
     "text": [
      "[[1 2 3]]\n",
      "(1, 3)\n",
      "[[1]\n",
      " [2]\n",
      " [3]]\n",
      "(3, 1)\n",
      "[[1]\n",
      " [2]\n",
      " [3]]\n",
      "(3, 1)\n"
     ]
    }
   ],
   "source": [
    "# 3 rows, 1 col\n",
    "#For swap you dont need to mention the 2 axeses in a Tuple\n",
    "from numpy import swapaxes\n",
    "print(Ar2)\n",
    "print(shape(Ar2))\n",
    "print(swapaxes(Ar2,1,0)) #3rows, 1col\n",
    "                  #For 2D rowAxis=0, colAxis=1\n",
    "                  #Row and Col have been swapped\n",
    "print(shape(swapaxes(Ar2,1,0)))\n",
    "print(Ar2.T)\n",
    "print(shape(Ar2.T))"
   ]
  },
  {
   "cell_type": "code",
   "execution_count": 395,
   "metadata": {},
   "outputs": [
    {
     "name": "stdout",
     "output_type": "stream",
     "text": [
      "[[1]\n",
      " [2]\n",
      " [3]]\n",
      "[[1]\n",
      " [2]\n",
      " [3]]\n",
      "[[1 2 3]]\n"
     ]
    }
   ],
   "source": [
    "# 3 row, 1 cols\n",
    "#For swap you dont need to mention the 2 axeses in a Tuple\n",
    "print(swapaxes(Ar2,0,1)) #3rows, 1col\n",
    "                  #For 2D rowAxis=0, colAxis=1\n",
    "                  #Here also Row & Col have been swapped\n",
    "print(swapaxes(Ar2,1,0))\n",
    "print(Ar2)"
   ]
  },
  {
   "cell_type": "code",
   "execution_count": 396,
   "metadata": {},
   "outputs": [
    {
     "name": "stdout",
     "output_type": "stream",
     "text": [
      "[[['KESHAV' '(45+9j)' 'True' '39.69' '39']\n",
      "  ['10.1' 'Prashant' '(10+10j)' 'False' '10']]\n",
      "\n",
      " [['RAGHAV' '(49+9j)' 'True' '36.69' '36']\n",
      "  ['10.16' 'Prashant' '(19+10j)' 'False' '17']]]\n",
      "(2, 2, 5)\n"
     ]
    }
   ],
   "source": [
    "#Creating 3D Array made of 4 Tuples\n",
    "#For 3D ArrayAxis=0, RowAxis=1, colAxis=2\n",
    "Array3D=array((((\"KESHAV\",45+9j,True,39.69,39),(10.10,'Prashant',10+10j,False,10)),((\"RAGHAV\",49+9j,True,36.69,36),(10.16,'Prashant',19+10j,False,17))))\n",
    "print(Array3D)\n",
    "print(shape(Array3D)) # 2 Arrays(0), 2 Rows(1) & 5 Columns(2)"
   ]
  },
  {
   "cell_type": "code",
   "execution_count": 397,
   "metadata": {},
   "outputs": [
    {
     "data": {
      "text/plain": [
       "(2, 5, 2)"
      ]
     },
     "execution_count": 397,
     "metadata": {},
     "output_type": "execute_result"
    }
   ],
   "source": [
    "#For swap you dont need to mention the 2 axeses in a Tuple\n",
    "#For 3D ArrayAxis=0, RowAxis=1, colAxis=2\n",
    "#If you want to interchange any two axes of 3D array or 4D array or more you will use swapaxes() function\n",
    "#As there is only 2 axeses you can swap, you don't need to put extra () inside\n",
    "swapaxes(Array3D,2,1).shape #2 Arrays, 5 rows, 2 cols, row & col have been shuffled\n",
    "                            #Only Rows & Columns got shuffled here"
   ]
  },
  {
   "cell_type": "code",
   "execution_count": 398,
   "metadata": {},
   "outputs": [
    {
     "data": {
      "text/plain": [
       "(2, 5, 2)"
      ]
     },
     "execution_count": 398,
     "metadata": {},
     "output_type": "execute_result"
    }
   ],
   "source": [
    "#For swap you dont need to mention the 2 axeses in a Tuple\n",
    "#For 3D ArrayAxis=0, RowAxis=1, colAxis=2\n",
    "#If you want to interchange any two axes of 3D array or 4D array or more you will use swapaxes() function\n",
    "#As there is only 2 axeses you can swap, you don't need to put extra () inside\n",
    "swapaxes(Array3D,1,2).shape #2 Arrays, 5 rows, 2 cols, row & col have been shuffled\n",
    "                            #Here also we can see row & col have been shuffled, shape in same as b4"
   ]
  },
  {
   "cell_type": "code",
   "execution_count": 399,
   "metadata": {},
   "outputs": [
    {
     "data": {
      "text/plain": [
       "(2, 2, 5)"
      ]
     },
     "execution_count": 399,
     "metadata": {},
     "output_type": "execute_result"
    }
   ],
   "source": [
    "swapaxes(Array3D,0,1).shape"
   ]
  },
  {
   "cell_type": "code",
   "execution_count": 400,
   "metadata": {},
   "outputs": [
    {
     "data": {
      "text/plain": [
       "(2, 2, 5)"
      ]
     },
     "execution_count": 400,
     "metadata": {},
     "output_type": "execute_result"
    }
   ],
   "source": [
    "swapaxes(Array3D,1,0).shape"
   ]
  },
  {
   "cell_type": "code",
   "execution_count": 401,
   "metadata": {},
   "outputs": [
    {
     "data": {
      "text/plain": [
       "(5, 2, 2)"
      ]
     },
     "execution_count": 401,
     "metadata": {},
     "output_type": "execute_result"
    }
   ],
   "source": [
    "swapaxes(Array3D,0,2).shape"
   ]
  },
  {
   "cell_type": "code",
   "execution_count": 402,
   "metadata": {},
   "outputs": [
    {
     "data": {
      "text/plain": [
       "(5, 2, 2)"
      ]
     },
     "execution_count": 402,
     "metadata": {},
     "output_type": "execute_result"
    }
   ],
   "source": [
    "swapaxes(Array3D,2,0).shape"
   ]
  },
  {
   "cell_type": "markdown",
   "metadata": {},
   "source": [
    "## Splitting & Joining Multiple Arrays\n",
    "* concatenate([ArrayX, ArrayY], axis=0) Row wise concatination\n",
    "* concatenate([ArrayX, ArrayY], axis=1) Column wise concatination\n",
    "* vstack([ArrayX, ArrayY])\n",
    "* hstack([ArrayX, ArrayY])\n",
    "* Append=append(Array2D, (12,21), axis=0) add to the last Row\n",
    "* Append=append(Array2D, (12,21), axis=1) add to the last Column"
   ]
  },
  {
   "cell_type": "code",
   "execution_count": 403,
   "metadata": {},
   "outputs": [],
   "source": [
    "# You can't join arrays of different dimention While joining dimention of the arrays should be same\n",
    "#1. concatenete()\n",
    "#2. hstack()\n",
    "#3. vstack()"
   ]
  },
  {
   "cell_type": "code",
   "execution_count": 404,
   "metadata": {},
   "outputs": [
    {
     "name": "stdout",
     "output_type": "stream",
     "text": [
      "Help on function concatenate in module numpy:\n",
      "\n",
      "concatenate(...)\n",
      "    concatenate((a1, a2, ...), axis=0, out=None, dtype=None, casting=\"same_kind\")\n",
      "    \n",
      "    Join a sequence of arrays along an existing axis.\n",
      "    \n",
      "    Parameters\n",
      "    ----------\n",
      "    a1, a2, ... : sequence of array_like\n",
      "        The arrays must have the same shape, except in the dimension\n",
      "        corresponding to `axis` (the first, by default).\n",
      "    axis : int, optional\n",
      "        The axis along which the arrays will be joined.  If axis is None,\n",
      "        arrays are flattened before use.  Default is 0.\n",
      "    out : ndarray, optional\n",
      "        If provided, the destination to place the result. The shape must be\n",
      "        correct, matching that of what concatenate would have returned if no\n",
      "        out argument were specified.\n",
      "    dtype : str or dtype\n",
      "        If provided, the destination array will have this dtype. Cannot be\n",
      "        provided together with `out`.\n",
      "    \n",
      "        .. versionadded:: 1.20.0\n",
      "    \n",
      "    casting : {'no', 'equiv', 'safe', 'same_kind', 'unsafe'}, optional\n",
      "        Controls what kind of data casting may occur. Defaults to 'same_kind'.\n",
      "    \n",
      "        .. versionadded:: 1.20.0\n",
      "    \n",
      "    Returns\n",
      "    -------\n",
      "    res : ndarray\n",
      "        The concatenated array.\n",
      "    \n",
      "    See Also\n",
      "    --------\n",
      "    ma.concatenate : Concatenate function that preserves input masks.\n",
      "    array_split : Split an array into multiple sub-arrays of equal or\n",
      "                  near-equal size.\n",
      "    split : Split array into a list of multiple sub-arrays of equal size.\n",
      "    hsplit : Split array into multiple sub-arrays horizontally (column wise).\n",
      "    vsplit : Split array into multiple sub-arrays vertically (row wise).\n",
      "    dsplit : Split array into multiple sub-arrays along the 3rd axis (depth).\n",
      "    stack : Stack a sequence of arrays along a new axis.\n",
      "    block : Assemble arrays from blocks.\n",
      "    hstack : Stack arrays in sequence horizontally (column wise).\n",
      "    vstack : Stack arrays in sequence vertically (row wise).\n",
      "    dstack : Stack arrays in sequence depth wise (along third dimension).\n",
      "    column_stack : Stack 1-D arrays as columns into a 2-D array.\n",
      "    \n",
      "    Notes\n",
      "    -----\n",
      "    When one or more of the arrays to be concatenated is a MaskedArray,\n",
      "    this function will return a MaskedArray object instead of an ndarray,\n",
      "    but the input masks are *not* preserved. In cases where a MaskedArray\n",
      "    is expected as input, use the ma.concatenate function from the masked\n",
      "    array module instead.\n",
      "    \n",
      "    Examples\n",
      "    --------\n",
      "    >>> a = np.array([[1, 2], [3, 4]])\n",
      "    >>> b = np.array([[5, 6]])\n",
      "    >>> np.concatenate((a, b), axis=0)\n",
      "    array([[1, 2],\n",
      "           [3, 4],\n",
      "           [5, 6]])\n",
      "    >>> np.concatenate((a, b.T), axis=1)\n",
      "    array([[1, 2, 5],\n",
      "           [3, 4, 6]])\n",
      "    >>> np.concatenate((a, b), axis=None)\n",
      "    array([1, 2, 3, 4, 5, 6])\n",
      "    \n",
      "    This function will not preserve masking of MaskedArray inputs.\n",
      "    \n",
      "    >>> a = np.ma.arange(3)\n",
      "    >>> a[1] = np.ma.masked\n",
      "    >>> b = np.arange(2, 5)\n",
      "    >>> a\n",
      "    masked_array(data=[0, --, 2],\n",
      "                 mask=[False,  True, False],\n",
      "           fill_value=999999)\n",
      "    >>> b\n",
      "    array([2, 3, 4])\n",
      "    >>> np.concatenate([a, b])\n",
      "    masked_array(data=[0, 1, 2, 2, 3, 4],\n",
      "                 mask=False,\n",
      "           fill_value=999999)\n",
      "    >>> np.ma.concatenate([a, b])\n",
      "    masked_array(data=[0, --, 2, 2, 3, 4],\n",
      "                 mask=[False,  True, False, False, False, False],\n",
      "           fill_value=999999)\n",
      "\n"
     ]
    }
   ],
   "source": [
    "from numpy import concatenate\n",
    "help(concatenate)"
   ]
  },
  {
   "cell_type": "code",
   "execution_count": 405,
   "metadata": {},
   "outputs": [
    {
     "name": "stdout",
     "output_type": "stream",
     "text": [
      "['KESHAV' '(45+9j)' 'True' '39.69' '39']\n"
     ]
    }
   ],
   "source": [
    "#Creating 1D array from 1 list\n",
    "ArrayX=array([\"KESHAV\",45+9j,True,39.69,39]) #Convert the list into array\n",
    "print(ArrayX)"
   ]
  },
  {
   "cell_type": "code",
   "execution_count": 406,
   "metadata": {},
   "outputs": [
    {
     "name": "stdout",
     "output_type": "stream",
     "text": [
      "['ROOBAL' '(39+9j)' 'False' '30.69' '32']\n"
     ]
    }
   ],
   "source": [
    "ArrayY=array([\"ROOBAL\",39+9j,False,30.69,32]) #Convert the list into array\n",
    "print(ArrayY)"
   ]
  },
  {
   "cell_type": "code",
   "execution_count": 407,
   "metadata": {},
   "outputs": [
    {
     "name": "stdout",
     "output_type": "stream",
     "text": [
      "['KESHAV' '(45+9j)' 'True' '39.69' '39' 'ROOBAL' '(39+9j)' 'False' '30.69'\n",
      " '32']\n",
      "(10,)\n"
     ]
    }
   ],
   "source": [
    "#You need to mention Arrays in a Tuple by giving comma\n",
    "from numpy import concatenate\n",
    "ArrayXY=concatenate([ArrayX,ArrayY]) #One dimentional Arrays contain only 1 axis so no need to mention\n",
    "print(ArrayXY)\n",
    "print(shape(ArrayXY)) # 10 columns"
   ]
  },
  {
   "cell_type": "code",
   "execution_count": 408,
   "metadata": {},
   "outputs": [
    {
     "name": "stdout",
     "output_type": "stream",
     "text": [
      "['KESHAV' '(45+9j)' 'True' '39.69' '39' 'ROOBAL' '(39+9j)' 'False' '30.69'\n",
      " '32']\n",
      "(10,)\n"
     ]
    }
   ],
   "source": [
    "#You need to mention Arrays in a Tuple by giving comma\n",
    "from numpy import hstack\n",
    "ArrayXY=hstack([ArrayX,ArrayY]) #One dimentional Arrays contain only 1 axis so no need to mention\n",
    "print(ArrayXY)\n",
    "print(shape(ArrayXY)) # 10 columns"
   ]
  },
  {
   "cell_type": "code",
   "execution_count": 409,
   "metadata": {},
   "outputs": [
    {
     "name": "stdout",
     "output_type": "stream",
     "text": [
      "['KESHAV' '(45+9j)' 'True' '39.69' '39' 'ROOBAL' '(39+9j)' 'False' '30.69'\n",
      " '32']\n",
      "\n",
      "['KESHAV' '(45+9j)' 'True' '39.69' '39' 'ROOBAL' '(39+9j)' 'False' '30.69'\n",
      " '32' 'Biku' '(78-6j)' 'False' '4.6' '52']\n",
      "(15,)\n"
     ]
    }
   ],
   "source": [
    "from numpy import append\n",
    "ArrayXY=append(ArrayX,ArrayY)\n",
    "print(ArrayXY)\n",
    "print()\n",
    "ArrayZ = array(['Biku', 78-6j, False, 4.6, 52])\n",
    "ArrayXYZ=append(ArrayX,[ArrayY, ArrayZ])\n",
    "print(ArrayXYZ)\n",
    "print(shape(ArrayXYZ)) # 10 columns"
   ]
  },
  {
   "cell_type": "code",
   "execution_count": 410,
   "metadata": {},
   "outputs": [
    {
     "data": {
      "text/plain": [
       "array(['KESHAV', '(45+9j)', 'True', '39.69', '39', 'ROOBAL', '(39+9j)',\n",
       "       'False', '30.69', '32'], dtype='<U64')"
      ]
     },
     "execution_count": 410,
     "metadata": {},
     "output_type": "execute_result"
    }
   ],
   "source": [
    "ArrayXY=append(ArrayX,ArrayY)\n",
    "ArrayXY"
   ]
  },
  {
   "cell_type": "code",
   "execution_count": 411,
   "metadata": {},
   "outputs": [
    {
     "data": {
      "text/plain": [
       "array(['BHOOMI', '(29+9j)', 'True', '29.69', '56', '1', '2', '3', '4',\n",
       "       '5'], dtype='<U64')"
      ]
     },
     "execution_count": 411,
     "metadata": {},
     "output_type": "execute_result"
    }
   ],
   "source": [
    "#out= where to store the result of the concatenation\n",
    "ArrayZ=array([\"BHOOMI\",29+9j,True,29.69,56,1,2,3,4,5])\n",
    "ArrayZ"
   ]
  },
  {
   "cell_type": "code",
   "execution_count": 412,
   "metadata": {},
   "outputs": [
    {
     "name": "stdout",
     "output_type": "stream",
     "text": [
      "['KESHAV' '(45+9j)' 'True' '39.69' '39' 'ROOBAL' '(39+9j)' 'False' '30.69'\n",
      " '32']\n"
     ]
    }
   ],
   "source": [
    "concatenate([ArrayX,ArrayY], out=ArrayZ) #We can store the concatination Result into Another Array having similar shape\n",
    "print(ArrayZ)"
   ]
  },
  {
   "cell_type": "code",
   "execution_count": 413,
   "metadata": {},
   "outputs": [
    {
     "name": "stdout",
     "output_type": "stream",
     "text": [
      "['KESHAV' '(45+9j)' 'True' '39.69' '39' 'ROOBAL' '(39+9j)' 'False' '30.69'\n",
      " '32']\n"
     ]
    }
   ],
   "source": [
    "print(ArrayZ) #Elements of ArrayZ got changed by concatenated ArrayX & ArrayY"
   ]
  },
  {
   "cell_type": "code",
   "execution_count": 414,
   "metadata": {},
   "outputs": [
    {
     "name": "stdout",
     "output_type": "stream",
     "text": [
      "[['KESHAV' '(45+9j)' 'True' '39.69' '39']]\n",
      "2\n"
     ]
    }
   ],
   "source": [
    "#Now we will join 2D Arrays\n",
    "#Creating 2D array from 1 list\n",
    "Array2DX=array([[\"KESHAV\",45+9j,True,39.69,39]]) #Convert the 1D list into 2D & then into array\n",
    "print(Array2DX)\n",
    "print(ndim(Array2DX))"
   ]
  },
  {
   "cell_type": "code",
   "execution_count": 415,
   "metadata": {},
   "outputs": [
    {
     "name": "stdout",
     "output_type": "stream",
     "text": [
      "[['KESHAV' '(45+9j)' 'True' '39.69' '39']\n",
      " ['10.1' 'Prashant' '(10+10j)' 'False' '10']]\n"
     ]
    }
   ],
   "source": [
    "#For 2D rowAxis=0, colAxis=1\n",
    "#Creating 2D array from 2 lists\n",
    "#No of elements/length of each list should be same\n",
    "Array2DY=array([[\"KESHAV\",45+9j,True,39.69,39],[10.10,'Prashant',10+10j,False,10]]) #Transforming nested list of 2 lists into Array\n",
    "print(Array2DY)"
   ]
  },
  {
   "cell_type": "code",
   "execution_count": 416,
   "metadata": {},
   "outputs": [
    {
     "name": "stdout",
     "output_type": "stream",
     "text": [
      "[['KESHAV' '(45+9j)' 'True' '39.69' '39']\n",
      " ['KESHAV' '(45+9j)' 'True' '39.69' '39']\n",
      " ['10.1' 'Prashant' '(10+10j)' 'False' '10']]\n",
      "<class 'numpy.ndarray'>\n",
      "(3, 5)\n"
     ]
    }
   ],
   "source": [
    "XY=concatenate([Array2DX,Array2DY],axis=0) #Row wise concatenation\n",
    "print(XY)                                  #Array2DX will come to the top place of Rows if place b4 comma (Array2DX,Array2DY)\n",
    "print(type(XY))\n",
    "print(shape(XY))"
   ]
  },
  {
   "cell_type": "code",
   "execution_count": 417,
   "metadata": {},
   "outputs": [
    {
     "name": "stdout",
     "output_type": "stream",
     "text": [
      "[['KESHAV' '(45+9j)' 'True' '39.69' '39']\n",
      " ['KESHAV' '(45+9j)' 'True' '39.69' '39']\n",
      " ['10.1' 'Prashant' '(10+10j)' 'False' '10']]\n",
      "<class 'numpy.ndarray'>\n",
      "(3, 5)\n"
     ]
    }
   ],
   "source": [
    "XY=append(Array2DX,Array2DY,axis=0) #Row wise concatenation\n",
    "print(XY)\n",
    "print(type(XY))\n",
    "print(shape(XY))"
   ]
  },
  {
   "cell_type": "code",
   "execution_count": 418,
   "metadata": {},
   "outputs": [],
   "source": [
    "#Creating 2D array from 1 list, having 3 elements\n",
    "New2D=array([[\"KESHAV\",45+9j,True]])"
   ]
  },
  {
   "cell_type": "code",
   "execution_count": 419,
   "metadata": {},
   "outputs": [
    {
     "name": "stdout",
     "output_type": "stream",
     "text": [
      "[['KESHAV' 'KESHAV' '(45+9j)' 'True' '39.69' '39']\n",
      " ['(45+9j)' 'KESHAV' '(45+9j)' 'True' '39.69' '39']\n",
      " ['True' '10.1' 'Prashant' '(10+10j)' 'False' '10']]\n"
     ]
    }
   ],
   "source": [
    "New=concatenate([New2D.T,XY],axis=1) #Col wise concatenation has been done, after Transposing New2D\n",
    "print(New)                            #New2D.T will come to the first place of cols if place b4 comma (New2D.T,Concat)"
   ]
  },
  {
   "cell_type": "code",
   "execution_count": 420,
   "metadata": {},
   "outputs": [
    {
     "name": "stdout",
     "output_type": "stream",
     "text": [
      "[['KESHAV' '(45+9j)' 'True' '39.69' '39' 'KESHAV']\n",
      " ['KESHAV' '(45+9j)' 'True' '39.69' '39' '(45+9j)']\n",
      " ['10.1' 'Prashant' '(10+10j)' 'False' '10' 'True']]\n"
     ]
    }
   ],
   "source": [
    "change = append(XY,New2D.T,axis=1)\n",
    "print(change)"
   ]
  },
  {
   "cell_type": "code",
   "execution_count": 421,
   "metadata": {},
   "outputs": [
    {
     "name": "stdout",
     "output_type": "stream",
     "text": [
      "[[[ 1  2  3  4]\n",
      "  [ 5  6  7  8]]\n",
      "\n",
      " [[ 9 10 11 12]\n",
      "  [13 14 15 16]]]\n",
      "(2, 2, 4)\n"
     ]
    }
   ],
   "source": [
    "Array2 = array([[[1,2,3,4],[5,6,7,8]],[[9,10,11,12],[13,14,15,16]]])\n",
    "print(Array2)\n",
    "print(shape(Array2)) # 2 arrays, 2 Rows & 4 Columns"
   ]
  },
  {
   "cell_type": "code",
   "execution_count": 422,
   "metadata": {},
   "outputs": [
    {
     "name": "stdout",
     "output_type": "stream",
     "text": [
      "[[[17 18 19 20]\n",
      "  [21 22 23 24]]]\n",
      "(1, 2, 4)\n"
     ]
    }
   ],
   "source": [
    "Array1 = array([[[17,18,19,20],[21,22,23,24]]])\n",
    "print(Array1)\n",
    "print(shape(Array1)) # 1 array, 2 Rows & 4 Columns"
   ]
  },
  {
   "cell_type": "code",
   "execution_count": 423,
   "metadata": {},
   "outputs": [
    {
     "name": "stdout",
     "output_type": "stream",
     "text": [
      "[[[17 18 19 20]\n",
      "  [21 22 23 24]]\n",
      "\n",
      " [[ 1  2  3  4]\n",
      "  [ 5  6  7  8]]\n",
      "\n",
      " [[ 9 10 11 12]\n",
      "  [13 14 15 16]]]\n",
      "(3, 2, 4)\n"
     ]
    }
   ],
   "source": [
    "Array3 = concatenate([Array1, Array2], axis=0) # array axis=0 concatenate\n",
    "print(Array3)\n",
    "print(shape(Array3)) # 3 Arrays, 2 Rows & 4 Columns"
   ]
  },
  {
   "cell_type": "code",
   "execution_count": 424,
   "metadata": {},
   "outputs": [
    {
     "name": "stdout",
     "output_type": "stream",
     "text": [
      "[[[17 18 19 20]\n",
      "  [21 22 23 24]]\n",
      "\n",
      " [[ 1  2  3  4]\n",
      "  [ 5  6  7  8]]\n",
      "\n",
      " [[ 9 10 11 12]\n",
      "  [13 14 15 16]]]\n",
      "(3, 2, 4)\n"
     ]
    }
   ],
   "source": [
    "Array3 = append(Array1, Array2, axis=0) # array axis=0 append\n",
    "print(Array3)\n",
    "print(shape(Array3)) # 3 Arrays, 2 Rows & 4 Columns"
   ]
  },
  {
   "cell_type": "code",
   "execution_count": 425,
   "metadata": {},
   "outputs": [
    {
     "name": "stdout",
     "output_type": "stream",
     "text": [
      "[[[17 18 19 20]\n",
      "  [21 22 23 24]]\n",
      "\n",
      " [[ 1  2  3  4]\n",
      "  [ 5  6  7  8]]\n",
      "\n",
      " [[ 9 10 11 12]\n",
      "  [13 14 15 16]]]\n",
      "(3, 2, 4)\n"
     ]
    }
   ],
   "source": [
    "from numpy import vstack\n",
    "Array3 = vstack([Array1, Array2]) # array axis=0 append\n",
    "print(Array3)\n",
    "print(shape(Array3)) # 3 Arrays, 2 Rows & 4 Columns"
   ]
  },
  {
   "cell_type": "code",
   "execution_count": 426,
   "metadata": {},
   "outputs": [
    {
     "name": "stdout",
     "output_type": "stream",
     "text": [
      "[[['alpha']\n",
      "  ['beta']]\n",
      "\n",
      " [['gamma']\n",
      "  ['theta']]\n",
      "\n",
      " [['sigma']\n",
      "  ['xeta']]]\n",
      "(3, 2, 1)\n"
     ]
    }
   ],
   "source": [
    "col4 = array([[['alpha'], ['beta']], [['gamma'], ['theta']], [['sigma'], ['xeta']]])\n",
    "print(col4)\n",
    "print(shape(col4)) # 3 Arrays, 2 Rows & 1 Columns"
   ]
  },
  {
   "cell_type": "code",
   "execution_count": 427,
   "metadata": {},
   "outputs": [
    {
     "name": "stdout",
     "output_type": "stream",
     "text": [
      "[[['17' '18' '19' '20' 'alpha']\n",
      "  ['21' '22' '23' '24' 'beta']]\n",
      "\n",
      " [['1' '2' '3' '4' 'gamma']\n",
      "  ['5' '6' '7' '8' 'theta']]\n",
      "\n",
      " [['9' '10' '11' '12' 'sigma']\n",
      "  ['13' '14' '15' '16' 'xeta']]]\n",
      "(3, 2, 5)\n"
     ]
    }
   ],
   "source": [
    "# using concatenate()\n",
    "col5 = concatenate([Array3, col4], axis=2)\n",
    "print(col5)\n",
    "print(shape(col5)) # 3 Arrays, 2 Rows & 5 Columns"
   ]
  },
  {
   "cell_type": "code",
   "execution_count": 428,
   "metadata": {},
   "outputs": [
    {
     "name": "stdout",
     "output_type": "stream",
     "text": [
      "[[['17' '18' '19' '20' 'alpha']\n",
      "  ['21' '22' '23' '24' 'beta']]\n",
      "\n",
      " [['1' '2' '3' '4' 'gamma']\n",
      "  ['5' '6' '7' '8' 'theta']]\n",
      "\n",
      " [['9' '10' '11' '12' 'sigma']\n",
      "  ['13' '14' '15' '16' 'xeta']]]\n",
      "(3, 2, 5)\n"
     ]
    }
   ],
   "source": [
    "# using append()\n",
    "col5 = append(Array3, col4, axis=2)\n",
    "print(col5)\n",
    "print(shape(col5)) # 3 Arrays, 2 Rows & 5 Columns"
   ]
  },
  {
   "cell_type": "code",
   "execution_count": 429,
   "metadata": {},
   "outputs": [
    {
     "name": "stdout",
     "output_type": "stream",
     "text": [
      "[[['alpha' 'neon' '78' '(67+9j)']\n",
      "  ['beta' '88' 'element' '(89-8j)']]\n",
      "\n",
      " [['gamma' 'canon' 'nikon' 'sony']\n",
      "  ['theta' '69' '96' '(100-5j)']]\n",
      "\n",
      " [['sigma' 'puma' '98' '(61-8j)']\n",
      "  ['xeta' 'neon' 'pixar' '81']]]\n",
      "(3, 2, 4)\n"
     ]
    }
   ],
   "source": [
    "Mixed = array([[['alpha','neon',78,67+9j],\n",
    "                ['beta',88,'element',89-8j]],\n",
    "               [['gamma','canon','nikon','sony'],\n",
    "                ['theta',69,96,100-5j]],\n",
    "               [['sigma','puma',98,61-8j],\n",
    "                ['xeta','neon','pixar',81]]])\n",
    "print(Mixed)\n",
    "print(shape(Mixed)) # 3 Arrays, 2 Rows & 4 Columns"
   ]
  },
  {
   "cell_type": "code",
   "execution_count": 430,
   "metadata": {},
   "outputs": [
    {
     "name": "stdout",
     "output_type": "stream",
     "text": [
      "[[['17' '18' '19' '20']\n",
      "  ['21' '22' '23' '24']]\n",
      "\n",
      " [['1' '2' '3' '4']\n",
      "  ['5' '6' '7' '8']]\n",
      "\n",
      " [['9' '10' '11' '12']\n",
      "  ['13' '14' '15' '16']]\n",
      "\n",
      " [['alpha' 'neon' '78' '(67+9j)']\n",
      "  ['beta' '88' 'element' '(89-8j)']]\n",
      "\n",
      " [['gamma' 'canon' 'nikon' 'sony']\n",
      "  ['theta' '69' '96' '(100-5j)']]\n",
      "\n",
      " [['sigma' 'puma' '98' '(61-8j)']\n",
      "  ['xeta' 'neon' 'pixar' '81']]]\n",
      "(6, 2, 4)\n"
     ]
    }
   ],
   "source": [
    "# using vstack()\n",
    "Hybrid = vstack([Array3, Mixed])\n",
    "print(Hybrid)\n",
    "print(shape(Hybrid))"
   ]
  },
  {
   "cell_type": "code",
   "execution_count": 431,
   "metadata": {},
   "outputs": [
    {
     "name": "stdout",
     "output_type": "stream",
     "text": [
      "[[['17' '18' '19' '20']\n",
      "  ['21' '22' '23' '24']]\n",
      "\n",
      " [['1' '2' '3' '4']\n",
      "  ['5' '6' '7' '8']]\n",
      "\n",
      " [['9' '10' '11' '12']\n",
      "  ['13' '14' '15' '16']]\n",
      "\n",
      " [['alpha' 'neon' '78' '(67+9j)']\n",
      "  ['beta' '88' 'element' '(89-8j)']]\n",
      "\n",
      " [['gamma' 'canon' 'nikon' 'sony']\n",
      "  ['theta' '69' '96' '(100-5j)']]\n",
      "\n",
      " [['sigma' 'puma' '98' '(61-8j)']\n",
      "  ['xeta' 'neon' 'pixar' '81']]]\n",
      "(6, 2, 4)\n"
     ]
    }
   ],
   "source": [
    "# using concatenate(), Array wise concat\n",
    "Hybrid = concatenate([Array3, Mixed], axis=0)\n",
    "print(Hybrid)\n",
    "print(shape(Hybrid))"
   ]
  },
  {
   "cell_type": "code",
   "execution_count": 432,
   "metadata": {},
   "outputs": [
    {
     "name": "stdout",
     "output_type": "stream",
     "text": [
      "[[['17' '18' '19' '20']\n",
      "  ['21' '22' '23' '24']\n",
      "  ['alpha' 'neon' '78' '(67+9j)']\n",
      "  ['beta' '88' 'element' '(89-8j)']]\n",
      "\n",
      " [['1' '2' '3' '4']\n",
      "  ['5' '6' '7' '8']\n",
      "  ['gamma' 'canon' 'nikon' 'sony']\n",
      "  ['theta' '69' '96' '(100-5j)']]\n",
      "\n",
      " [['9' '10' '11' '12']\n",
      "  ['13' '14' '15' '16']\n",
      "  ['sigma' 'puma' '98' '(61-8j)']\n",
      "  ['xeta' 'neon' 'pixar' '81']]]\n",
      "(3, 4, 4)\n"
     ]
    }
   ],
   "source": [
    "# using concatenate(), Row wise concat\n",
    "Hybrid = concatenate([Array3, Mixed], axis=1)\n",
    "print(Hybrid)\n",
    "print(shape(Hybrid))"
   ]
  },
  {
   "cell_type": "code",
   "execution_count": 433,
   "metadata": {},
   "outputs": [
    {
     "name": "stdout",
     "output_type": "stream",
     "text": [
      "[[['17' '18' '19' '20' 'alpha' 'neon' '78' '(67+9j)']\n",
      "  ['21' '22' '23' '24' 'beta' '88' 'element' '(89-8j)']]\n",
      "\n",
      " [['1' '2' '3' '4' 'gamma' 'canon' 'nikon' 'sony']\n",
      "  ['5' '6' '7' '8' 'theta' '69' '96' '(100-5j)']]\n",
      "\n",
      " [['9' '10' '11' '12' 'sigma' 'puma' '98' '(61-8j)']\n",
      "  ['13' '14' '15' '16' 'xeta' 'neon' 'pixar' '81']]]\n",
      "(3, 2, 8)\n"
     ]
    }
   ],
   "source": [
    "# using concatenate(), Column wise concat\n",
    "Hybrid = concatenate([Array3, Mixed], axis=2)\n",
    "print(Hybrid)\n",
    "print(shape(Hybrid))"
   ]
  },
  {
   "cell_type": "code",
   "execution_count": 434,
   "metadata": {},
   "outputs": [
    {
     "name": "stdout",
     "output_type": "stream",
     "text": [
      "[[['17' '18' '19' '20']\n",
      "  ['21' '22' '23' '24']]\n",
      "\n",
      " [['1' '2' '3' '4']\n",
      "  ['5' '6' '7' '8']]\n",
      "\n",
      " [['9' '10' '11' '12']\n",
      "  ['13' '14' '15' '16']]\n",
      "\n",
      " [['alpha' 'neon' '78' '(67+9j)']\n",
      "  ['beta' '88' 'element' '(89-8j)']]\n",
      "\n",
      " [['gamma' 'canon' 'nikon' 'sony']\n",
      "  ['theta' '69' '96' '(100-5j)']]\n",
      "\n",
      " [['sigma' 'puma' '98' '(61-8j)']\n",
      "  ['xeta' 'neon' 'pixar' '81']]]\n",
      "(6, 2, 4)\n"
     ]
    }
   ],
   "source": [
    "# using append(), Array wise append\n",
    "Hybrid = append(Array3, Mixed, axis=0)\n",
    "print(Hybrid)\n",
    "print(shape(Hybrid))"
   ]
  },
  {
   "cell_type": "code",
   "execution_count": 435,
   "metadata": {},
   "outputs": [
    {
     "name": "stdout",
     "output_type": "stream",
     "text": [
      "[[['17' '18' '19' '20']\n",
      "  ['21' '22' '23' '24']\n",
      "  ['alpha' 'neon' '78' '(67+9j)']\n",
      "  ['beta' '88' 'element' '(89-8j)']]\n",
      "\n",
      " [['1' '2' '3' '4']\n",
      "  ['5' '6' '7' '8']\n",
      "  ['gamma' 'canon' 'nikon' 'sony']\n",
      "  ['theta' '69' '96' '(100-5j)']]\n",
      "\n",
      " [['9' '10' '11' '12']\n",
      "  ['13' '14' '15' '16']\n",
      "  ['sigma' 'puma' '98' '(61-8j)']\n",
      "  ['xeta' 'neon' 'pixar' '81']]]\n",
      "(3, 4, 4)\n"
     ]
    }
   ],
   "source": [
    "# using append(), Row wise append\n",
    "Hybrid = append(Array3, Mixed, axis=1)\n",
    "print(Hybrid)\n",
    "print(shape(Hybrid))"
   ]
  },
  {
   "cell_type": "code",
   "execution_count": 436,
   "metadata": {},
   "outputs": [
    {
     "name": "stdout",
     "output_type": "stream",
     "text": [
      "[[['17' '18' '19' '20' 'alpha' 'neon' '78' '(67+9j)']\n",
      "  ['21' '22' '23' '24' 'beta' '88' 'element' '(89-8j)']]\n",
      "\n",
      " [['1' '2' '3' '4' 'gamma' 'canon' 'nikon' 'sony']\n",
      "  ['5' '6' '7' '8' 'theta' '69' '96' '(100-5j)']]\n",
      "\n",
      " [['9' '10' '11' '12' 'sigma' 'puma' '98' '(61-8j)']\n",
      "  ['13' '14' '15' '16' 'xeta' 'neon' 'pixar' '81']]]\n",
      "(3, 2, 8)\n"
     ]
    }
   ],
   "source": [
    "# using append(), Column wise append\n",
    "Hybrid = append(Array3, Mixed, axis=2)\n",
    "print(Hybrid)\n",
    "print(shape(Hybrid))"
   ]
  },
  {
   "cell_type": "code",
   "execution_count": 437,
   "metadata": {},
   "outputs": [
    {
     "name": "stdout",
     "output_type": "stream",
     "text": [
      "Help on function vstack in module numpy:\n",
      "\n",
      "vstack(tup)\n",
      "    Stack arrays in sequence vertically (row wise).\n",
      "    \n",
      "    This is equivalent to concatenation along the first axis after 1-D arrays\n",
      "    of shape `(N,)` have been reshaped to `(1,N)`. Rebuilds arrays divided by\n",
      "    `vsplit`.\n",
      "    \n",
      "    This function makes most sense for arrays with up to 3 dimensions. For\n",
      "    instance, for pixel-data with a height (first axis), width (second axis),\n",
      "    and r/g/b channels (third axis). The functions `concatenate`, `stack` and\n",
      "    `block` provide more general stacking and concatenation operations.\n",
      "    \n",
      "    Parameters\n",
      "    ----------\n",
      "    tup : sequence of ndarrays\n",
      "        The arrays must have the same shape along all but the first axis.\n",
      "        1-D arrays must have the same length.\n",
      "    \n",
      "    Returns\n",
      "    -------\n",
      "    stacked : ndarray\n",
      "        The array formed by stacking the given arrays, will be at least 2-D.\n",
      "    \n",
      "    See Also\n",
      "    --------\n",
      "    concatenate : Join a sequence of arrays along an existing axis.\n",
      "    stack : Join a sequence of arrays along a new axis.\n",
      "    block : Assemble an nd-array from nested lists of blocks.\n",
      "    hstack : Stack arrays in sequence horizontally (column wise).\n",
      "    dstack : Stack arrays in sequence depth wise (along third axis).\n",
      "    column_stack : Stack 1-D arrays as columns into a 2-D array.\n",
      "    vsplit : Split an array into multiple sub-arrays vertically (row-wise).\n",
      "    \n",
      "    Examples\n",
      "    --------\n",
      "    >>> a = np.array([1, 2, 3])\n",
      "    >>> b = np.array([4, 5, 6])\n",
      "    >>> np.vstack((a,b))\n",
      "    array([[1, 2, 3],\n",
      "           [4, 5, 6]])\n",
      "    \n",
      "    >>> a = np.array([[1], [2], [3]])\n",
      "    >>> b = np.array([[4], [5], [6]])\n",
      "    >>> np.vstack((a,b))\n",
      "    array([[1],\n",
      "           [2],\n",
      "           [3],\n",
      "           [4],\n",
      "           [5],\n",
      "           [6]])\n",
      "\n"
     ]
    }
   ],
   "source": [
    "from numpy import vstack\n",
    "help(vstack) #Row wise concatenation, axis=0"
   ]
  },
  {
   "cell_type": "code",
   "execution_count": 438,
   "metadata": {},
   "outputs": [
    {
     "name": "stdout",
     "output_type": "stream",
     "text": [
      "[['KESHAV' '(45+9j)' 'True' '39.69' '39']\n",
      " ['ROOBAL' '(39+9j)' 'False' '30.69' '32']]\n",
      "(2, 5)\n"
     ]
    }
   ],
   "source": [
    "#When we apply vstack() on 1D Array, it joins 1D Arrays Row wise(axis=0) and Creates a 2D array\n",
    "from numpy import vstack\n",
    "ArrayX=array([\"KESHAV\",45+9j,True,39.69,39])\n",
    "ArrayY=array([\"ROOBAL\",39+9j,False,30.69,32])\n",
    "Vstack=vstack([ArrayX,ArrayY])\n",
    "print(Vstack) #2 1D arrays have been concatenated row wise(axis=0) into a 2D Array\n",
    "print(shape(Vstack)) # 2 Rows & 5 Columns"
   ]
  },
  {
   "cell_type": "code",
   "execution_count": 439,
   "metadata": {},
   "outputs": [
    {
     "name": "stdout",
     "output_type": "stream",
     "text": [
      "[['KESHAV' '(45+9j)' 'True' '39.69' '39']]\n",
      "(1, 5)\n"
     ]
    }
   ],
   "source": [
    "#Creating 2D array from 1 list\n",
    "Array2DX=array([[\"KESHAV\",45+9j,True,39.69,39]]) #Convert the list into array\n",
    "print(Array2DX)\n",
    "print(shape(Array2DX)) # 1 Row & 5 Columns"
   ]
  },
  {
   "cell_type": "code",
   "execution_count": 440,
   "metadata": {},
   "outputs": [
    {
     "name": "stdout",
     "output_type": "stream",
     "text": [
      "[['RAMAN' '(47+9j)' 'True' '37.69' '37']\n",
      " ['10.1' 'Prashant' '(10+10j)' 'False' '10']]\n",
      "(2, 5)\n"
     ]
    }
   ],
   "source": [
    "#For 2D rowAxis=0, colAxis=1\n",
    "#Creating 2D array from 2 lists\n",
    "#No of elements/length of each list should be same\n",
    "Array2DY=array([[\"RAMAN\",47+9j,True,37.69,37],[10.10,'Prashant',10+10j,False,10]]) #Transforming nested list of 2 lists into Array\n",
    "print(Array2DY)\n",
    "print(shape(Array2DY)) # 2 Rows & 5 Columns"
   ]
  },
  {
   "cell_type": "code",
   "execution_count": 441,
   "metadata": {},
   "outputs": [
    {
     "name": "stdout",
     "output_type": "stream",
     "text": [
      "[['KESHAV' '(45+9j)' 'True' '39.69' '39']\n",
      " ['RAMAN' '(47+9j)' 'True' '37.69' '37']\n",
      " ['10.1' 'Prashant' '(10+10j)' 'False' '10']]\n",
      "(3, 5)\n"
     ]
    }
   ],
   "source": [
    "Vstack1=vstack([Array2DX,Array2DY]) #Both the 2D Arrays have been concatenated Row wise(axis=0) by using vstack()\n",
    "print(Vstack1)\n",
    "print(shape(Vstack1)) # 3 Rows & 5 Columns"
   ]
  },
  {
   "cell_type": "code",
   "execution_count": 442,
   "metadata": {},
   "outputs": [
    {
     "name": "stdout",
     "output_type": "stream",
     "text": [
      "Help on function hstack in module numpy:\n",
      "\n",
      "hstack(tup)\n",
      "    Stack arrays in sequence horizontally (column wise).\n",
      "    \n",
      "    This is equivalent to concatenation along the second axis, except for 1-D\n",
      "    arrays where it concatenates along the first axis. Rebuilds arrays divided\n",
      "    by `hsplit`.\n",
      "    \n",
      "    This function makes most sense for arrays with up to 3 dimensions. For\n",
      "    instance, for pixel-data with a height (first axis), width (second axis),\n",
      "    and r/g/b channels (third axis). The functions `concatenate`, `stack` and\n",
      "    `block` provide more general stacking and concatenation operations.\n",
      "    \n",
      "    Parameters\n",
      "    ----------\n",
      "    tup : sequence of ndarrays\n",
      "        The arrays must have the same shape along all but the second axis,\n",
      "        except 1-D arrays which can be any length.\n",
      "    \n",
      "    Returns\n",
      "    -------\n",
      "    stacked : ndarray\n",
      "        The array formed by stacking the given arrays.\n",
      "    \n",
      "    See Also\n",
      "    --------\n",
      "    concatenate : Join a sequence of arrays along an existing axis.\n",
      "    stack : Join a sequence of arrays along a new axis.\n",
      "    block : Assemble an nd-array from nested lists of blocks.\n",
      "    vstack : Stack arrays in sequence vertically (row wise).\n",
      "    dstack : Stack arrays in sequence depth wise (along third axis).\n",
      "    column_stack : Stack 1-D arrays as columns into a 2-D array.\n",
      "    hsplit : Split an array into multiple sub-arrays horizontally (column-wise).\n",
      "    \n",
      "    Examples\n",
      "    --------\n",
      "    >>> a = np.array((1,2,3))\n",
      "    >>> b = np.array((4,5,6))\n",
      "    >>> np.hstack((a,b))\n",
      "    array([1, 2, 3, 4, 5, 6])\n",
      "    >>> a = np.array([[1],[2],[3]])\n",
      "    >>> b = np.array([[4],[5],[6]])\n",
      "    >>> np.hstack((a,b))\n",
      "    array([[1, 4],\n",
      "           [2, 5],\n",
      "           [3, 6]])\n",
      "\n"
     ]
    }
   ],
   "source": [
    "from numpy import hstack\n",
    "help(hstack) #Col wise concatenation, axis=1"
   ]
  },
  {
   "cell_type": "code",
   "execution_count": 443,
   "metadata": {},
   "outputs": [
    {
     "name": "stdout",
     "output_type": "stream",
     "text": [
      "['KESHAV' '(45+9j)' 'True' '39.69' '39' 'ROOBAL' '(39+9j)' 'False' '30.69'\n",
      " '32']\n",
      "(10,)\n"
     ]
    }
   ],
   "source": [
    "#When we apply hstack() on 1D Array, it joins 1D Arrays col wise\n",
    "from numpy import hstack\n",
    "ArrayX=array([\"KESHAV\",45+9j,True,39.69,39])\n",
    "ArrayY=array([\"ROOBAL\",39+9j,False,30.69,32])\n",
    "Hstack1D=hstack([ArrayX,ArrayY])\n",
    "print(Hstack1D) #Both the 1D arrays have been concatenated col wise(axis=1)\n",
    "print(shape(Hstack1D)) # 10 Columns"
   ]
  },
  {
   "cell_type": "code",
   "execution_count": 444,
   "metadata": {},
   "outputs": [
    {
     "name": "stdout",
     "output_type": "stream",
     "text": [
      "['KESHAV' '(45+9j)' 'True' '39.69' '39' 'ROOBAL' '(39+9j)' 'False' '30.69'\n",
      " '32']\n",
      "(10,)\n"
     ]
    }
   ],
   "source": [
    "#When we apply hstack() on 1D Array, it joins 1D Arrays col wise(axis=1)\n",
    "ArrayX=array([\"KESHAV\",45+9j,True,39.69,39])\n",
    "ArrayY=array([\"ROOBAL\",39+9j,False,30.69,32])\n",
    "Hstack1TD=hstack([ArrayX.T,ArrayY.T])        #hstack of ArrayX.T,ArrayY.T\n",
    "                                             #Transpose of 1D Arrays doesn't make any sense\n",
    "print(Hstack1TD) #Both the 1D arrays have been concatenated col wise(axis=1)\n",
    "print(shape(Hstack1TD))"
   ]
  },
  {
   "cell_type": "code",
   "execution_count": 445,
   "metadata": {},
   "outputs": [
    {
     "name": "stdout",
     "output_type": "stream",
     "text": [
      "['KESHAV' '(45+9j)' 'True' '39.69' '39'] ['ROOBAL' '(39+9j)' 'False' '30.69' '32']\n"
     ]
    }
   ],
   "source": [
    "print(ArrayX.T,ArrayY.T)"
   ]
  },
  {
   "cell_type": "code",
   "execution_count": 446,
   "metadata": {},
   "outputs": [
    {
     "name": "stdout",
     "output_type": "stream",
     "text": [
      "[['KESHAV' '(45+9j)' 'True' '39.69' '39']\n",
      " ['10.1' 'Prashant' '(10+10j)' 'False' '10']]\n",
      "(2, 5)\n"
     ]
    }
   ],
   "source": [
    "#For 2D rowAxis=0, colAxis=1\n",
    "#Creating 2D array from 2 lists\n",
    "#No of elements/length of each list should be same\n",
    "Array2DX=array([[\"KESHAV\",45+9j,True,39.69,39],[10.10,'Prashant',10+10j,False,10]]) #Transforming nested list of 2 lists into Array\n",
    "print(Array2DX)\n",
    "print(shape(Array2DX)) # 2 Rows & 5 Columns"
   ]
  },
  {
   "cell_type": "code",
   "execution_count": 447,
   "metadata": {},
   "outputs": [
    {
     "name": "stdout",
     "output_type": "stream",
     "text": [
      "[['KESHAV' '(45+9j)' 'True' '39.69' '39']]\n",
      "2\n",
      "(1, 5)\n"
     ]
    }
   ],
   "source": [
    "#Creating 2D array from 1 list\n",
    "Array2DY=array([[\"KESHAV\",45+9j,True,39.69,39]]) #Convert the list into array\n",
    "print(Array2DY)\n",
    "print(ndim(Array2DY))\n",
    "print(shape(Array2DY))"
   ]
  },
  {
   "cell_type": "code",
   "execution_count": 448,
   "metadata": {},
   "outputs": [
    {
     "name": "stdout",
     "output_type": "stream",
     "text": [
      "[['RAMAN' '(47+9j)' 'True' '37.69' '37']\n",
      " ['10.1' 'Prashant' '(10+10j)' 'False' '10']]\n",
      "(2, 5)\n"
     ]
    }
   ],
   "source": [
    "#For 2D rowAxis=0, colAxis=1\n",
    "#Creating 2D array from 2 lists\n",
    "#No of elements/length of each list should be same\n",
    "New2D=array([[\"RAMAN\",47+9j,True,37.69,37],[10.10,'Prashant',10+10j,False,10]]) #Transforming nested list of 2 lists into Array\n",
    "print(New2D)\n",
    "print(shape(New2D))"
   ]
  },
  {
   "cell_type": "code",
   "execution_count": 449,
   "metadata": {},
   "outputs": [
    {
     "name": "stdout",
     "output_type": "stream",
     "text": [
      "[['KESHAV' '10.1' 'RAMAN' '10.1' 'KESHAV']\n",
      " ['(45+9j)' 'Prashant' '(47+9j)' 'Prashant' '(45+9j)']\n",
      " ['True' '(10+10j)' 'True' '(10+10j)' 'True']\n",
      " ['39.69' 'False' '37.69' 'False' '39.69']\n",
      " ['39' '10' '37' '10' '39']]\n",
      "(5, 5)\n"
     ]
    }
   ],
   "source": [
    "HstackT2D=hstack([Array2DX.T,New2D.T,Array2DY.T]) #All transpose of Arrays have been concatenated Col wise(axis=1) by using hstack()\n",
    "print(HstackT2D)\n",
    "print(shape(HstackT2D))"
   ]
  },
  {
   "cell_type": "markdown",
   "metadata": {},
   "source": [
    "## Splitting of an Array into multiple seperate Arrays\n",
    "* split() function\n",
    "1. Row wise split axis=0\n",
    "2. Col wise split axis=1\n",
    "3. split=no of split\n",
    "4. vsplit() is axis=0, Row wise split\n",
    "5. hsplit() is axis=1, Col wise split"
   ]
  },
  {
   "cell_type": "code",
   "execution_count": 450,
   "metadata": {},
   "outputs": [
    {
     "name": "stdout",
     "output_type": "stream",
     "text": [
      "Help on function split in module numpy:\n",
      "\n",
      "split(ary, indices_or_sections, axis=0)\n",
      "    Split an array into multiple sub-arrays as views into `ary`.\n",
      "    \n",
      "    Parameters\n",
      "    ----------\n",
      "    ary : ndarray\n",
      "        Array to be divided into sub-arrays.\n",
      "    indices_or_sections : int or 1-D array\n",
      "        If `indices_or_sections` is an integer, N, the array will be divided\n",
      "        into N equal arrays along `axis`.  If such a split is not possible,\n",
      "        an error is raised.\n",
      "    \n",
      "        If `indices_or_sections` is a 1-D array of sorted integers, the entries\n",
      "        indicate where along `axis` the array is split.  For example,\n",
      "        ``[2, 3]`` would, for ``axis=0``, result in\n",
      "    \n",
      "          - ary[:2]\n",
      "          - ary[2:3]\n",
      "          - ary[3:]\n",
      "    \n",
      "        If an index exceeds the dimension of the array along `axis`,\n",
      "        an empty sub-array is returned correspondingly.\n",
      "    axis : int, optional\n",
      "        The axis along which to split, default is 0.\n",
      "    \n",
      "    Returns\n",
      "    -------\n",
      "    sub-arrays : list of ndarrays\n",
      "        A list of sub-arrays as views into `ary`.\n",
      "    \n",
      "    Raises\n",
      "    ------\n",
      "    ValueError\n",
      "        If `indices_or_sections` is given as an integer, but\n",
      "        a split does not result in equal division.\n",
      "    \n",
      "    See Also\n",
      "    --------\n",
      "    array_split : Split an array into multiple sub-arrays of equal or\n",
      "                  near-equal size.  Does not raise an exception if\n",
      "                  an equal division cannot be made.\n",
      "    hsplit : Split array into multiple sub-arrays horizontally (column-wise).\n",
      "    vsplit : Split array into multiple sub-arrays vertically (row wise).\n",
      "    dsplit : Split array into multiple sub-arrays along the 3rd axis (depth).\n",
      "    concatenate : Join a sequence of arrays along an existing axis.\n",
      "    stack : Join a sequence of arrays along a new axis.\n",
      "    hstack : Stack arrays in sequence horizontally (column wise).\n",
      "    vstack : Stack arrays in sequence vertically (row wise).\n",
      "    dstack : Stack arrays in sequence depth wise (along third dimension).\n",
      "    \n",
      "    Examples\n",
      "    --------\n",
      "    >>> x = np.arange(9.0)\n",
      "    >>> np.split(x, 3)\n",
      "    [array([0.,  1.,  2.]), array([3.,  4.,  5.]), array([6.,  7.,  8.])]\n",
      "    \n",
      "    >>> x = np.arange(8.0)\n",
      "    >>> np.split(x, [3, 5, 6, 10])\n",
      "    [array([0.,  1.,  2.]),\n",
      "     array([3.,  4.]),\n",
      "     array([5.]),\n",
      "     array([6.,  7.]),\n",
      "     array([], dtype=float64)]\n",
      "\n"
     ]
    }
   ],
   "source": [
    "from numpy import split\n",
    "help(split)"
   ]
  },
  {
   "cell_type": "code",
   "execution_count": 451,
   "metadata": {},
   "outputs": [
    {
     "name": "stdout",
     "output_type": "stream",
     "text": [
      "[['RAMAN' '(47+9j)' 'True' '37.69' '37']\n",
      " ['10.1' 'Prashant' '(10+10j)' 'False' '10']]\n",
      "(2, 5)\n"
     ]
    }
   ],
   "source": [
    "# hsplit : Split array into multiple sub-arrays horizontally (column-wise).\n",
    "# vsplit : Split array into multiple sub-arrays vertically (row wise).\n",
    "# dsplit : Split array into multiple sub-arrays along the 3rd axis (depth).\n",
    "\n",
    "#For 2D rowAxis=0, colAxis=1\n",
    "#Creating 2D array from 2 lists\n",
    "#No of elements/length of each list should be same\n",
    "New2D=array([[\"RAMAN\",47+9j,True,37.69,37],[10.10,'Prashant',10+10j,False,10]]) #Transforming nested list of 2 lists into Array\n",
    "print(New2D)\n",
    "print(shape(New2D))"
   ]
  },
  {
   "cell_type": "code",
   "execution_count": 452,
   "metadata": {},
   "outputs": [],
   "source": [
    "New1D=array([[67,80]])"
   ]
  },
  {
   "cell_type": "code",
   "execution_count": 453,
   "metadata": {},
   "outputs": [
    {
     "name": "stdout",
     "output_type": "stream",
     "text": [
      "[['RAMAN' '(47+9j)' 'True' '37.69' '37' '67']\n",
      " ['10.1' 'Prashant' '(10+10j)' 'False' '10' '80']]\n"
     ]
    }
   ],
   "source": [
    "Array2D=concatenate([New2D,New1D.T],axis=1) #Colwise concatination, axis=1\n",
    "print(Array2D)                              #New1D will come at last Column, position after comma (New2D,New1D.T)"
   ]
  },
  {
   "cell_type": "code",
   "execution_count": 454,
   "metadata": {},
   "outputs": [
    {
     "name": "stdout",
     "output_type": "stream",
     "text": [
      "[['RAMAN' '(47+9j)' 'True' '37.69' '37' '67']\n",
      " ['10.1' 'Prashant' '(10+10j)' 'False' '10' '80']]\n"
     ]
    }
   ],
   "source": [
    "Array2D=hstack([New2D,New1D.T]) #Colwise concatination(axis=1), #hstack of New2D,New1D.T\n",
    "print(Array2D)                  #New1D will come at last Column, position after comma (New2D,New1D.T)"
   ]
  },
  {
   "cell_type": "code",
   "execution_count": 455,
   "metadata": {},
   "outputs": [
    {
     "data": {
      "text/plain": [
       "array([[['RAMAN', '(47+9j)'],\n",
       "        ['True', '37.69']],\n",
       "\n",
       "       [['37', '67'],\n",
       "        ['10.1', 'Prashant']],\n",
       "\n",
       "       [['(10+10j)', 'False'],\n",
       "        ['10', '80']]], dtype='<U64')"
      ]
     },
     "execution_count": 455,
     "metadata": {},
     "output_type": "execute_result"
    }
   ],
   "source": [
    "New3D=Array2D.reshape(3,2,2) #Arrays 3, Rows 2, cols 2 by using reshape()\n",
    "New3D"
   ]
  },
  {
   "cell_type": "code",
   "execution_count": 456,
   "metadata": {},
   "outputs": [
    {
     "data": {
      "text/plain": [
       "array([[['RAMAN', '(47+9j)'],\n",
       "        ['True', '37.69']],\n",
       "\n",
       "       [['37', '67'],\n",
       "        ['10.1', 'Prashant']],\n",
       "\n",
       "       [['(10+10j)', 'False'],\n",
       "        ['10', '80']]], dtype='<U64')"
      ]
     },
     "execution_count": 456,
     "metadata": {},
     "output_type": "execute_result"
    }
   ],
   "source": [
    "from numpy import resize\n",
    "New3D=resize(Array2D,(3,2,2)) #Arrays 3, Rows 2, cols 2 by using resize(array,())\n",
    "New3D"
   ]
  },
  {
   "cell_type": "code",
   "execution_count": 457,
   "metadata": {},
   "outputs": [
    {
     "data": {
      "text/plain": [
       "(3, 2, 2)"
      ]
     },
     "execution_count": 457,
     "metadata": {},
     "output_type": "execute_result"
    }
   ],
   "source": [
    "shape(New3D) #Arrays 3, Rows 2, cols 2\n",
    "             #3*2*2=12 elements"
   ]
  },
  {
   "cell_type": "code",
   "execution_count": 458,
   "metadata": {},
   "outputs": [
    {
     "data": {
      "text/plain": [
       "[array([[['RAMAN', '(47+9j)'],\n",
       "         ['True', '37.69']]], dtype='<U64'),\n",
       " array([[['37', '67'],\n",
       "         ['10.1', 'Prashant']]], dtype='<U64'),\n",
       " array([[['(10+10j)', 'False'],\n",
       "         ['10', '80']]], dtype='<U64')]"
      ]
     },
     "execution_count": 458,
     "metadata": {},
     "output_type": "execute_result"
    }
   ],
   "source": [
    "from numpy import split\n",
    "split(New3D,3) #axis=0, Row wise split, section=3 Sub Arrays, Row wise filling\n",
    "               #3*2*2=12 elements, Each Sub Array will get 4 elements"
   ]
  },
  {
   "cell_type": "code",
   "execution_count": 459,
   "metadata": {},
   "outputs": [
    {
     "data": {
      "text/plain": [
       "[array([[['RAMAN', '(47+9j)'],\n",
       "         ['True', '37.69']]], dtype='<U64'),\n",
       " array([[['37', '67'],\n",
       "         ['10.1', 'Prashant']]], dtype='<U64'),\n",
       " array([[['(10+10j)', 'False'],\n",
       "         ['10', '80']]], dtype='<U64')]"
      ]
     },
     "execution_count": 459,
     "metadata": {},
     "output_type": "execute_result"
    }
   ],
   "source": [
    "split(New3D,3,axis=0) #Don't need to mention axis=0 seperately\n",
    "                      #axis=0, Row wise split, section=3 Sub Arrays, Row wise filling\n",
    "                      #3*2*2=12 elements, Each Sub Array will get 4 elements"
   ]
  },
  {
   "cell_type": "code",
   "execution_count": 460,
   "metadata": {},
   "outputs": [
    {
     "data": {
      "text/plain": [
       "[array([[['RAMAN', '(47+9j)'],\n",
       "         ['True', '37.69']]], dtype='<U64'),\n",
       " array([[['37', '67'],\n",
       "         ['10.1', 'Prashant']]], dtype='<U64'),\n",
       " array([[['(10+10j)', 'False'],\n",
       "         ['10', '80']]], dtype='<U64')]"
      ]
     },
     "execution_count": 460,
     "metadata": {},
     "output_type": "execute_result"
    }
   ],
   "source": [
    "from numpy import vsplit\n",
    "vsplit(New3D,3) #Vertical split, axis=0, Row wise split, section=3 Sub Arrays, Row wise filling\n",
    "                #3*2*2=12 elements, Each Sub Array will get 4 elements"
   ]
  },
  {
   "cell_type": "code",
   "execution_count": 461,
   "metadata": {},
   "outputs": [
    {
     "data": {
      "text/plain": [
       "[array([[['RAMAN', '(47+9j)']],\n",
       " \n",
       "        [['37', '67']],\n",
       " \n",
       "        [['(10+10j)', 'False']]], dtype='<U64'),\n",
       " array([[['True', '37.69']],\n",
       " \n",
       "        [['10.1', 'Prashant']],\n",
       " \n",
       "        [['10', '80']]], dtype='<U64')]"
      ]
     },
     "execution_count": 461,
     "metadata": {},
     "output_type": "execute_result"
    }
   ],
   "source": [
    "split(New3D,2,axis=1) #Need to mention axis=1 seperately\n",
    "                      #axis=1, Array wise split, section=2 Sub Arrays, Row wise filling\n",
    "                      #3*2*2=12 elements, Each Sub Array will get 6 elements"
   ]
  },
  {
   "cell_type": "code",
   "execution_count": 462,
   "metadata": {},
   "outputs": [
    {
     "data": {
      "text/plain": [
       "[array([[['RAMAN', '(47+9j)']],\n",
       " \n",
       "        [['37', '67']],\n",
       " \n",
       "        [['(10+10j)', 'False']]], dtype='<U64'),\n",
       " array([[['True', '37.69']],\n",
       " \n",
       "        [['10.1', 'Prashant']],\n",
       " \n",
       "        [['10', '80']]], dtype='<U64')]"
      ]
     },
     "execution_count": 462,
     "metadata": {},
     "output_type": "execute_result"
    }
   ],
   "source": [
    "from numpy import hsplit\n",
    "hsplit(New3D,2) #Horizontal split, axis=1, Array wise split, section=2 Sub Arrays, Row wise filling\n",
    "                #3*2*2=12 elements, Each Sub Array will get 6 elements"
   ]
  },
  {
   "cell_type": "code",
   "execution_count": 463,
   "metadata": {},
   "outputs": [
    {
     "data": {
      "text/plain": [
       "array([[['RAMAN', '(47+9j)'],\n",
       "        ['True', '37.69']],\n",
       "\n",
       "       [['37', '67'],\n",
       "        ['10.1', 'Prashant']],\n",
       "\n",
       "       [['(10+10j)', 'False'],\n",
       "        ['10', '80']]], dtype='<U64')"
      ]
     },
     "execution_count": 463,
     "metadata": {},
     "output_type": "execute_result"
    }
   ],
   "source": [
    "New3D"
   ]
  },
  {
   "cell_type": "code",
   "execution_count": 464,
   "metadata": {},
   "outputs": [
    {
     "data": {
      "text/plain": [
       "[array([[['RAMAN'],\n",
       "         ['True']],\n",
       " \n",
       "        [['37'],\n",
       "         ['10.1']],\n",
       " \n",
       "        [['(10+10j)'],\n",
       "         ['10']]], dtype='<U64'),\n",
       " array([[['(47+9j)'],\n",
       "         ['37.69']],\n",
       " \n",
       "        [['67'],\n",
       "         ['Prashant']],\n",
       " \n",
       "        [['False'],\n",
       "         ['80']]], dtype='<U64')]"
      ]
     },
     "execution_count": 464,
     "metadata": {},
     "output_type": "execute_result"
    }
   ],
   "source": [
    "split(New3D,2,axis=2) #Need to mention axis=2 seperately\n",
    "                      #axis=2, Col wise split, section=2 Sub Arrays, Col wise filling\n",
    "                      #3*2*2=12 elements, Each Sub Array will get 6 elements"
   ]
  },
  {
   "cell_type": "code",
   "execution_count": 465,
   "metadata": {},
   "outputs": [
    {
     "name": "stdout",
     "output_type": "stream",
     "text": [
      "(2, 3, 2, 1)\n"
     ]
    }
   ],
   "source": [
    "print(shape(split(New3D,2,axis=2))) # 2 array, each having 3 sub arrays, each sub array having 2 Rows & 1 Column"
   ]
  },
  {
   "cell_type": "code",
   "execution_count": 466,
   "metadata": {},
   "outputs": [
    {
     "data": {
      "text/plain": [
       "[array([[['RAMAN'],\n",
       "         ['True']],\n",
       " \n",
       "        [['37'],\n",
       "         ['10.1']],\n",
       " \n",
       "        [['(10+10j)'],\n",
       "         ['10']]], dtype='<U64'),\n",
       " array([[['(47+9j)'],\n",
       "         ['37.69']],\n",
       " \n",
       "        [['67'],\n",
       "         ['Prashant']],\n",
       " \n",
       "        [['False'],\n",
       "         ['80']]], dtype='<U64')]"
      ]
     },
     "execution_count": 466,
     "metadata": {},
     "output_type": "execute_result"
    }
   ],
   "source": [
    "from numpy import dsplit\n",
    "# dsplit is \n",
    "dsplit(New3D,2) #axis=2, Col wise split, section=2 Sub Arrays, Col wise filling\n",
    "                #3*2*2=12 elements, Each Sub Array will get 6 elements"
   ]
  },
  {
   "cell_type": "code",
   "execution_count": 467,
   "metadata": {},
   "outputs": [
    {
     "name": "stdout",
     "output_type": "stream",
     "text": [
      "(2, 3, 2, 1)\n"
     ]
    }
   ],
   "source": [
    "print(shape(dsplit(New3D,2))) # 2 array, each having 3 sub arrays, each sub array having 2 Rows & 1 Column"
   ]
  },
  {
   "cell_type": "code",
   "execution_count": 468,
   "metadata": {},
   "outputs": [
    {
     "name": "stdout",
     "output_type": "stream",
     "text": [
      "Help on function hsplit in module numpy:\n",
      "\n",
      "hsplit(ary, indices_or_sections)\n",
      "    Split an array into multiple sub-arrays horizontally (column-wise).\n",
      "    \n",
      "    Please refer to the `split` documentation.  `hsplit` is equivalent\n",
      "    to `split` with ``axis=1``, the array is always split along the second\n",
      "    axis regardless of the array dimension.\n",
      "    \n",
      "    See Also\n",
      "    --------\n",
      "    split : Split an array into multiple sub-arrays of equal size.\n",
      "    \n",
      "    Examples\n",
      "    --------\n",
      "    >>> x = np.arange(16.0).reshape(4, 4)\n",
      "    >>> x\n",
      "    array([[ 0.,   1.,   2.,   3.],\n",
      "           [ 4.,   5.,   6.,   7.],\n",
      "           [ 8.,   9.,  10.,  11.],\n",
      "           [12.,  13.,  14.,  15.]])\n",
      "    >>> np.hsplit(x, 2)\n",
      "    [array([[  0.,   1.],\n",
      "           [  4.,   5.],\n",
      "           [  8.,   9.],\n",
      "           [12.,  13.]]),\n",
      "     array([[  2.,   3.],\n",
      "           [  6.,   7.],\n",
      "           [10.,  11.],\n",
      "           [14.,  15.]])]\n",
      "    >>> np.hsplit(x, np.array([3, 6]))\n",
      "    [array([[ 0.,   1.,   2.],\n",
      "           [ 4.,   5.,   6.],\n",
      "           [ 8.,   9.,  10.],\n",
      "           [12.,  13.,  14.]]),\n",
      "     array([[ 3.],\n",
      "           [ 7.],\n",
      "           [11.],\n",
      "           [15.]]),\n",
      "     array([], shape=(4, 0), dtype=float64)]\n",
      "    \n",
      "    With a higher dimensional array the split is still along the second axis.\n",
      "    \n",
      "    >>> x = np.arange(8.0).reshape(2, 2, 2)\n",
      "    >>> x\n",
      "    array([[[0.,  1.],\n",
      "            [2.,  3.]],\n",
      "           [[4.,  5.],\n",
      "            [6.,  7.]]])\n",
      "    >>> np.hsplit(x, 2)\n",
      "    [array([[[0.,  1.]],\n",
      "           [[4.,  5.]]]),\n",
      "     array([[[2.,  3.]],\n",
      "           [[6.,  7.]]])]\n",
      "\n",
      "Help on function vsplit in module numpy:\n",
      "\n",
      "vsplit(ary, indices_or_sections)\n",
      "    Split an array into multiple sub-arrays vertically (row-wise).\n",
      "    \n",
      "    Please refer to the ``split`` documentation.  ``vsplit`` is equivalent\n",
      "    to ``split`` with `axis=0` (default), the array is always split along the\n",
      "    first axis regardless of the array dimension.\n",
      "    \n",
      "    See Also\n",
      "    --------\n",
      "    split : Split an array into multiple sub-arrays of equal size.\n",
      "    \n",
      "    Examples\n",
      "    --------\n",
      "    >>> x = np.arange(16.0).reshape(4, 4)\n",
      "    >>> x\n",
      "    array([[ 0.,   1.,   2.,   3.],\n",
      "           [ 4.,   5.,   6.,   7.],\n",
      "           [ 8.,   9.,  10.,  11.],\n",
      "           [12.,  13.,  14.,  15.]])\n",
      "    >>> np.vsplit(x, 2)\n",
      "    [array([[0., 1., 2., 3.],\n",
      "           [4., 5., 6., 7.]]), array([[ 8.,  9., 10., 11.],\n",
      "           [12., 13., 14., 15.]])]\n",
      "    >>> np.vsplit(x, np.array([3, 6]))\n",
      "    [array([[ 0.,  1.,  2.,  3.],\n",
      "           [ 4.,  5.,  6.,  7.],\n",
      "           [ 8.,  9., 10., 11.]]), array([[12., 13., 14., 15.]]), array([], shape=(0, 4), dtype=float64)]\n",
      "    \n",
      "    With a higher dimensional array the split is still along the first axis.\n",
      "    \n",
      "    >>> x = np.arange(8.0).reshape(2, 2, 2)\n",
      "    >>> x\n",
      "    array([[[0.,  1.],\n",
      "            [2.,  3.]],\n",
      "           [[4.,  5.],\n",
      "            [6.,  7.]]])\n",
      "    >>> np.vsplit(x, 2)\n",
      "    [array([[[0., 1.],\n",
      "            [2., 3.]]]), array([[[4., 5.],\n",
      "            [6., 7.]]])]\n",
      "\n"
     ]
    },
    {
     "data": {
      "text/plain": [
       "(None, None)"
      ]
     },
     "execution_count": 468,
     "metadata": {},
     "output_type": "execute_result"
    }
   ],
   "source": [
    "help(hsplit),help(vsplit)"
   ]
  },
  {
   "cell_type": "markdown",
   "metadata": {},
   "source": [
    "## Insert or Delete single or multiple elements from given multi dimentional Array\n",
    "* insert(Array, index, 'new element')\n",
    "* Append=append(Array2D,(12,21))"
   ]
  },
  {
   "cell_type": "code",
   "execution_count": 469,
   "metadata": {},
   "outputs": [
    {
     "name": "stdout",
     "output_type": "stream",
     "text": [
      "Help on function insert in module numpy:\n",
      "\n",
      "insert(arr, obj, values, axis=None)\n",
      "    Insert values along the given axis before the given indices.\n",
      "    \n",
      "    Parameters\n",
      "    ----------\n",
      "    arr : array_like\n",
      "        Input array.\n",
      "    obj : int, slice or sequence of ints\n",
      "        Object that defines the index or indices before which `values` is\n",
      "        inserted.\n",
      "    \n",
      "        .. versionadded:: 1.8.0\n",
      "    \n",
      "        Support for multiple insertions when `obj` is a single scalar or a\n",
      "        sequence with one element (similar to calling insert multiple\n",
      "        times).\n",
      "    values : array_like\n",
      "        Values to insert into `arr`. If the type of `values` is different\n",
      "        from that of `arr`, `values` is converted to the type of `arr`.\n",
      "        `values` should be shaped so that ``arr[...,obj,...] = values``\n",
      "        is legal.\n",
      "    axis : int, optional\n",
      "        Axis along which to insert `values`.  If `axis` is None then `arr`\n",
      "        is flattened first.\n",
      "    \n",
      "    Returns\n",
      "    -------\n",
      "    out : ndarray\n",
      "        A copy of `arr` with `values` inserted.  Note that `insert`\n",
      "        does not occur in-place: a new array is returned. If\n",
      "        `axis` is None, `out` is a flattened array.\n",
      "    \n",
      "    See Also\n",
      "    --------\n",
      "    append : Append elements at the end of an array.\n",
      "    concatenate : Join a sequence of arrays along an existing axis.\n",
      "    delete : Delete elements from an array.\n",
      "    \n",
      "    Notes\n",
      "    -----\n",
      "    Note that for higher dimensional inserts `obj=0` behaves very different\n",
      "    from `obj=[0]` just like `arr[:,0,:] = values` is different from\n",
      "    `arr[:,[0],:] = values`.\n",
      "    \n",
      "    Examples\n",
      "    --------\n",
      "    >>> a = np.array([[1, 1], [2, 2], [3, 3]])\n",
      "    >>> a\n",
      "    array([[1, 1],\n",
      "           [2, 2],\n",
      "           [3, 3]])\n",
      "    >>> np.insert(a, 1, 5)\n",
      "    array([1, 5, 1, ..., 2, 3, 3])\n",
      "    >>> np.insert(a, 1, 5, axis=1)\n",
      "    array([[1, 5, 1],\n",
      "           [2, 5, 2],\n",
      "           [3, 5, 3]])\n",
      "    \n",
      "    Difference between sequence and scalars:\n",
      "    \n",
      "    >>> np.insert(a, [1], [[1],[2],[3]], axis=1)\n",
      "    array([[1, 1, 1],\n",
      "           [2, 2, 2],\n",
      "           [3, 3, 3]])\n",
      "    >>> np.array_equal(np.insert(a, 1, [1, 2, 3], axis=1),\n",
      "    ...                np.insert(a, [1], [[1],[2],[3]], axis=1))\n",
      "    True\n",
      "    \n",
      "    >>> b = a.flatten()\n",
      "    >>> b\n",
      "    array([1, 1, 2, 2, 3, 3])\n",
      "    >>> np.insert(b, [2, 2], [5, 6])\n",
      "    array([1, 1, 5, ..., 2, 3, 3])\n",
      "    \n",
      "    >>> np.insert(b, slice(2, 4), [5, 6])\n",
      "    array([1, 1, 5, ..., 2, 3, 3])\n",
      "    \n",
      "    >>> np.insert(b, [2, 2], [7.13, False]) # type casting\n",
      "    array([1, 1, 7, ..., 2, 3, 3])\n",
      "    \n",
      "    >>> x = np.arange(8).reshape(2, 4)\n",
      "    >>> idx = (1, 3)\n",
      "    >>> np.insert(x, idx, 999, axis=1)\n",
      "    array([[  0, 999,   1,   2, 999,   3],\n",
      "           [  4, 999,   5,   6, 999,   7]])\n",
      "\n"
     ]
    }
   ],
   "source": [
    "from numpy import insert\n",
    "help(insert)"
   ]
  },
  {
   "cell_type": "code",
   "execution_count": 470,
   "metadata": {},
   "outputs": [],
   "source": [
    "#Syntax is insert(arr, obj, values, axis=None)\n",
    "#1. arr is array name\n",
    "#2. obj is desired index place\n",
    "#3. values is mention the datas\n",
    "#4. axis=None is mentioning 0,1,2"
   ]
  },
  {
   "cell_type": "code",
   "execution_count": 471,
   "metadata": {},
   "outputs": [],
   "source": [
    "#Creating 1D Array\n",
    "Array1D=array([\"KESHAV\",45+9j,True,39.69,39]) # convert 1D list into array"
   ]
  },
  {
   "cell_type": "code",
   "execution_count": 472,
   "metadata": {},
   "outputs": [
    {
     "name": "stdout",
     "output_type": "stream",
     "text": [
      "['KESHAV' '(45+9j)' 'ANWESH' 'True' '39.69' '39']\n"
     ]
    }
   ],
   "source": [
    "from numpy import insert\n",
    "Insert=insert(Array1D, 2, \"ANWESH\", axis=0) #\"ANWESH\" has been inserted at the place of index 2(True)\n",
    "print(Insert)                       # element True got shifted to 3rd index position/location\n",
    "                                    # element True got the new 3rd index location/position\n",
    "                                    #As there is mixed type of data elements in the Array1D So \"ANWESH\" remained \"string\""
   ]
  },
  {
   "cell_type": "code",
   "execution_count": 473,
   "metadata": {},
   "outputs": [
    {
     "name": "stdout",
     "output_type": "stream",
     "text": [
      "['KESHAV' '(45+9j)' 'ANWESH' 'True' '39.69' '39']\n"
     ]
    }
   ],
   "source": [
    "InSert=insert(Array1D, 2, \"ANWESH\") # Don't need to mention 0 for 1D Array\n",
    "print(InSert)                     #\"ANWESH\" has been inserted at the place of index 2(True)\n",
    "                                  # element True got shifted to 3rd index position/location\n",
    "                                  # element True got the new 3rd index location/position\n",
    "                                  #As there is mixed type of data elements in the Array1D So \"ANWESH\" remained \"string\""
   ]
  },
  {
   "cell_type": "code",
   "execution_count": 474,
   "metadata": {},
   "outputs": [
    {
     "name": "stdout",
     "output_type": "stream",
     "text": [
      "['KESHAV' '(45+9j)' '(33-7j)' 'ANWESH' 'True' '39.69' '39']\n"
     ]
    }
   ],
   "source": [
    "Innsert=insert(Insert, 2, 33-7j, axis=0) # 33-7j has been inserted at the place of index 2(\"ANWESH\")\n",
    "print(Innsert)                   # element \"ANWESH\" got shifted to 3rd index position/location\n",
    "                                 # element \"ANWESH\" got the new 3rd index location/position\n",
    "                                 #As there is mixed type of data elements in the Array1D So \"ANWESH\" remained \"string\""
   ]
  },
  {
   "cell_type": "code",
   "execution_count": 475,
   "metadata": {},
   "outputs": [
    {
     "data": {
      "text/plain": [
       "array([1, 2, 3, 4, 5])"
      ]
     },
     "execution_count": 475,
     "metadata": {},
     "output_type": "execute_result"
    }
   ],
   "source": [
    "ArrayInt=array([1,2,3,4,5]) #1D Array made of ints\n",
    "ArrayInt"
   ]
  },
  {
   "cell_type": "raw",
   "metadata": {},
   "source": [
    "insert(ArrayInt,3,\"ANWESH\") #Error because all other elements are integers so string \"ANWESH\" not going"
   ]
  },
  {
   "cell_type": "code",
   "execution_count": 476,
   "metadata": {},
   "outputs": [
    {
     "name": "stdout",
     "output_type": "stream",
     "text": [
      "[ 1  2  3 44  4  5]\n"
     ]
    }
   ],
   "source": [
    "Intinsert=insert(ArrayInt,3,44.44) # 44.44 has been inserted at the place of index 3(4)\n",
    "                                   # element 4 got shifted to 4th index position/location\n",
    "                                   # element 4 got the new 4th index location/position\n",
    "                                   # Along with all other integer elements, 44.44 will be taken as int 44\n",
    "print(Intinsert)                   # data will be placed at 3rd index location in the Array"
   ]
  },
  {
   "cell_type": "code",
   "execution_count": 477,
   "metadata": {},
   "outputs": [
    {
     "name": "stdout",
     "output_type": "stream",
     "text": [
      "[1.+0.j 2.+0.j 3.+0.j 4.+0.j 5.+0.j]\n"
     ]
    }
   ],
   "source": [
    "Complex=array([1,2,3,4,5], dtype=complex) #1D Array of Complex Format\n",
    "print(Complex)"
   ]
  },
  {
   "cell_type": "code",
   "execution_count": 478,
   "metadata": {},
   "outputs": [
    {
     "name": "stdout",
     "output_type": "stream",
     "text": [
      "[ 1.+0.j  2.+0.j  3.+0.j 44.+0.j  4.+0.j  5.+0.j]\n"
     ]
    }
   ],
   "source": [
    "CompInsert=insert(Complex,3,44) # 44 has been inserted at the place of index 3(4.+0.j)\n",
    "                                # element 4.+0.j got shifted to 4th index position/location\n",
    "                                # element 4.+0.j got the new 4th index location/position\n",
    "                                # 44 will be taken as complex along with all other complex elements\n",
    "print(CompInsert)               # data will be placed at 3rd index location in the Array"
   ]
  },
  {
   "cell_type": "code",
   "execution_count": 479,
   "metadata": {},
   "outputs": [
    {
     "name": "stdout",
     "output_type": "stream",
     "text": [
      "[10  1  2  3  4 10  5]\n"
     ]
    }
   ],
   "source": [
    "#Insert a value in multiple indexes at a time\n",
    "Array1D=array((1,2,3,4,5))\n",
    "Multinsert=insert(Array1D,[0,4],10) #0th index & 4th index has been taken by 10\n",
    "print(Multinsert)"
   ]
  },
  {
   "cell_type": "code",
   "execution_count": 480,
   "metadata": {},
   "outputs": [
    {
     "name": "stdout",
     "output_type": "stream",
     "text": [
      "[10  1  2  3  4  5 15]\n"
     ]
    }
   ],
   "source": [
    "#Insert multiple values in multiple indexes at a time\n",
    "Array1D=array((1,2,3,4,5))\n",
    "Multi=insert(Array1D,(0,5),(10,15)) #0th index has taken by 10 & after 5th index has taken by 15 value   \n",
    "print(Multi)"
   ]
  },
  {
   "cell_type": "code",
   "execution_count": 481,
   "metadata": {},
   "outputs": [
    {
     "name": "stdout",
     "output_type": "stream",
     "text": [
      "[[33 37]\n",
      " [76 67]]\n",
      "(2, 2)\n"
     ]
    }
   ],
   "source": [
    "Array2D=array([[33,37],[76,67]])\n",
    "print(Array2D)\n",
    "print(shape(Array2D)) # 2 Rows & 2 Columns"
   ]
  },
  {
   "cell_type": "code",
   "execution_count": 482,
   "metadata": {},
   "outputs": [
    {
     "name": "stdout",
     "output_type": "stream",
     "text": [
      "[[33 37]\n",
      " [23 32]\n",
      " [76 67]]\n"
     ]
    }
   ],
   "source": [
    "Rowinsert=insert(Array2D,1,(23,32),axis=0) #Here axis=0, 1st index Row wise insert values 23 & 32\n",
    "print(Rowinsert)                      #Inserting Tuple(23,32) in 1st row index"
   ]
  },
  {
   "cell_type": "code",
   "execution_count": 483,
   "metadata": {},
   "outputs": [
    {
     "name": "stdout",
     "output_type": "stream",
     "text": [
      "[[ 33  99  37]\n",
      " [ 76 101  67]]\n"
     ]
    }
   ],
   "source": [
    "Rowinsert=insert(Array2D,1,(99,101),axis=1) #Here axis=1, 1st index Column wise insert values 99 & 101\n",
    "print(Rowinsert)                      #Inserting Tuple(99,101) in 1st row index"
   ]
  },
  {
   "cell_type": "code",
   "execution_count": 484,
   "metadata": {},
   "outputs": [
    {
     "name": "stdout",
     "output_type": "stream",
     "text": [
      "[[33 37]\n",
      " [32 23]\n",
      " [76 67]]\n"
     ]
    }
   ],
   "source": [
    "Rowinsert=insert(Array2D,1,[32,23],axis=0) #Here axis=0, 1st index Row wise insert values 32 & 23\n",
    "print(Rowinsert)                      #Inserting Tuple(23,32) in 1st row index"
   ]
  },
  {
   "cell_type": "code",
   "execution_count": 485,
   "metadata": {},
   "outputs": [
    {
     "name": "stdout",
     "output_type": "stream",
     "text": [
      "[[33 37 38]\n",
      " [32 23 50]\n",
      " [76 67 90]]\n"
     ]
    }
   ],
   "source": [
    "Colinsert=insert(Rowinsert,2,(38,50,90),axis=1) #Here axis=1, 2nd index Col wise insert values 38,50 & 90\n",
    "print(Colinsert)                           #Inserting Tuple(38,50,90) in 2nd col index"
   ]
  },
  {
   "cell_type": "code",
   "execution_count": 486,
   "metadata": {},
   "outputs": [
    {
     "name": "stdout",
     "output_type": "stream",
     "text": [
      "[[33 37 83]\n",
      " [32 23 52]\n",
      " [76 67 92]]\n"
     ]
    }
   ],
   "source": [
    "Colinsert=insert(Rowinsert,2,[83,52,92],axis=1) #Here axis=1, 2nd index Col wise insert values 83,52 & 92\n",
    "print(Colinsert)                           #Inserting Tuple(38,50,90) in 2nd col index"
   ]
  },
  {
   "cell_type": "code",
   "execution_count": 487,
   "metadata": {},
   "outputs": [
    {
     "name": "stdout",
     "output_type": "stream",
     "text": [
      "[[33 37 38]\n",
      " [76 67 50]]\n"
     ]
    }
   ],
   "source": [
    "Colinsert=insert(Array2D,2,(38,50),axis=1) #Here axis=1, 2nd index Col wise insert values 38 & 50\n",
    "print(Colinsert)                      #Inserting Tuple(38,50) in 2nd col index"
   ]
  },
  {
   "cell_type": "code",
   "execution_count": 488,
   "metadata": {},
   "outputs": [
    {
     "name": "stdout",
     "output_type": "stream",
     "text": [
      "Help on function append in module numpy:\n",
      "\n",
      "append(arr, values, axis=None)\n",
      "    Append values to the end of an array.\n",
      "    \n",
      "    Parameters\n",
      "    ----------\n",
      "    arr : array_like\n",
      "        Values are appended to a copy of this array.\n",
      "    values : array_like\n",
      "        These values are appended to a copy of `arr`.  It must be of the\n",
      "        correct shape (the same shape as `arr`, excluding `axis`).  If\n",
      "        `axis` is not specified, `values` can be any shape and will be\n",
      "        flattened before use.\n",
      "    axis : int, optional\n",
      "        The axis along which `values` are appended.  If `axis` is not\n",
      "        given, both `arr` and `values` are flattened before use.\n",
      "    \n",
      "    Returns\n",
      "    -------\n",
      "    append : ndarray\n",
      "        A copy of `arr` with `values` appended to `axis`.  Note that\n",
      "        `append` does not occur in-place: a new array is allocated and\n",
      "        filled.  If `axis` is None, `out` is a flattened array.\n",
      "    \n",
      "    See Also\n",
      "    --------\n",
      "    insert : Insert elements into an array.\n",
      "    delete : Delete elements from an array.\n",
      "    \n",
      "    Examples\n",
      "    --------\n",
      "    >>> np.append([1, 2, 3], [[4, 5, 6], [7, 8, 9]])\n",
      "    array([1, 2, 3, ..., 7, 8, 9])\n",
      "    \n",
      "    When `axis` is specified, `values` must have the correct shape.\n",
      "    \n",
      "    >>> np.append([[1, 2, 3], [4, 5, 6]], [[7, 8, 9]], axis=0)\n",
      "    array([[1, 2, 3],\n",
      "           [4, 5, 6],\n",
      "           [7, 8, 9]])\n",
      "    >>> np.append([[1, 2, 3], [4, 5, 6]], [7, 8, 9], axis=0)\n",
      "    Traceback (most recent call last):\n",
      "        ...\n",
      "    ValueError: all the input arrays must have same number of dimensions, but\n",
      "    the array at index 0 has 2 dimension(s) and the array at index 1 has 1\n",
      "    dimension(s)\n",
      "\n"
     ]
    }
   ],
   "source": [
    "from numpy import append\n",
    "help(append)"
   ]
  },
  {
   "cell_type": "code",
   "execution_count": 489,
   "metadata": {},
   "outputs": [],
   "source": [
    "# append() function always add elements at the end of the 1D array\n",
    "# If 2D Array and axis=0 then adds one extra array row at the last\n",
    "# If 2D Array and axis=1 then adds one extra array col at the last\n",
    "# If 3D Array and axis=0 then adds extra Array,if axis=1 then add extra Row,if axis=2 then adds extra col\n",
    "# If axis=None then it flattens all Array dimention to 1D and then adds elements"
   ]
  },
  {
   "cell_type": "code",
   "execution_count": 490,
   "metadata": {},
   "outputs": [
    {
     "name": "stdout",
     "output_type": "stream",
     "text": [
      "[[33 37]\n",
      " [76 67]]\n"
     ]
    },
    {
     "data": {
      "text/plain": [
       "2"
      ]
     },
     "execution_count": 490,
     "metadata": {},
     "output_type": "execute_result"
    }
   ],
   "source": [
    "Array2D=array([[33,37],[76,67]])\n",
    "print(Array2D)\n",
    "ndim(Array2D)"
   ]
  },
  {
   "cell_type": "code",
   "execution_count": 491,
   "metadata": {},
   "outputs": [
    {
     "name": "stdout",
     "output_type": "stream",
     "text": [
      "[33 37 76 67 12 21]\n"
     ]
    }
   ],
   "source": [
    "from numpy import append\n",
    "Append=append(Array2D,(12,21)) #It will flatten the 2D Array and make it 1D\n",
    "ndim(Append)                   #Array2D got flattened and 12,21 got added to the end\n",
    "print(Append)"
   ]
  },
  {
   "cell_type": "code",
   "execution_count": 492,
   "metadata": {},
   "outputs": [
    {
     "name": "stdout",
     "output_type": "stream",
     "text": [
      "[[33 37]\n",
      " [76 67]\n",
      " [12 21]]\n"
     ]
    }
   ],
   "source": [
    "Append2D=append(Array2D,[(12,21)],axis=0) #Insert 2D tuple Row wise, insert the tuple at the last row\n",
    "print(Append2D)"
   ]
  },
  {
   "cell_type": "code",
   "execution_count": 493,
   "metadata": {},
   "outputs": [
    {
     "name": "stdout",
     "output_type": "stream",
     "text": [
      "[[33 37]\n",
      " [76 67]\n",
      " [12 21]]\n"
     ]
    }
   ],
   "source": [
    "Append2D=append(Array2D,[[12,21]],axis=0) #Insert 2D List Array Row wise, insert the tuple at the last row\n",
    "print(Append2D)"
   ]
  },
  {
   "cell_type": "code",
   "execution_count": 494,
   "metadata": {},
   "outputs": [
    {
     "name": "stdout",
     "output_type": "stream",
     "text": [
      "[[33 37]\n",
      " [76 67]]\n"
     ]
    },
    {
     "data": {
      "text/plain": [
       "2"
      ]
     },
     "execution_count": 494,
     "metadata": {},
     "output_type": "execute_result"
    }
   ],
   "source": [
    "Array2D=array([[33,37],[76,67]])\n",
    "print(Array2D)\n",
    "ndim(Array2D)"
   ]
  },
  {
   "cell_type": "code",
   "execution_count": 495,
   "metadata": {},
   "outputs": [
    {
     "name": "stdout",
     "output_type": "stream",
     "text": [
      "[[33 37]\n",
      " [76 67]]\n"
     ]
    },
    {
     "data": {
      "text/plain": [
       "2"
      ]
     },
     "execution_count": 495,
     "metadata": {},
     "output_type": "execute_result"
    }
   ],
   "source": [
    "Array2D=array(((33,37),(76,67)))\n",
    "print(Array2D)\n",
    "ndim(Array2D)"
   ]
  },
  {
   "cell_type": "code",
   "execution_count": 496,
   "metadata": {},
   "outputs": [
    {
     "name": "stdout",
     "output_type": "stream",
     "text": [
      "[[ 33  37  99]\n",
      " [ 76  67 100]]\n"
     ]
    }
   ],
   "source": [
    "Append2D=append(Array2D,[[99],[100]],axis=1) #Insert 2D List col Array col wise\n",
    "print(Append2D)"
   ]
  },
  {
   "cell_type": "code",
   "execution_count": 497,
   "metadata": {},
   "outputs": [
    {
     "name": "stdout",
     "output_type": "stream",
     "text": [
      "[[ 33  37]\n",
      " [ 76  67]\n",
      " [ 69 109]]\n"
     ]
    }
   ],
   "source": [
    "Append2D=append(Array2D,[[69,109]],axis=0) #Insert 2D List Array Row wise\n",
    "print(Append2D)"
   ]
  },
  {
   "cell_type": "code",
   "execution_count": 498,
   "metadata": {},
   "outputs": [
    {
     "name": "stdout",
     "output_type": "stream",
     "text": [
      "Help on function delete in module numpy:\n",
      "\n",
      "delete(arr, obj, axis=None)\n",
      "    Return a new array with sub-arrays along an axis deleted. For a one\n",
      "    dimensional array, this returns those entries not returned by\n",
      "    `arr[obj]`.\n",
      "    \n",
      "    Parameters\n",
      "    ----------\n",
      "    arr : array_like\n",
      "        Input array.\n",
      "    obj : slice, int or array of ints\n",
      "        Indicate indices of sub-arrays to remove along the specified axis.\n",
      "    \n",
      "        .. versionchanged:: 1.19.0\n",
      "            Boolean indices are now treated as a mask of elements to remove,\n",
      "            rather than being cast to the integers 0 and 1.\n",
      "    \n",
      "    axis : int, optional\n",
      "        The axis along which to delete the subarray defined by `obj`.\n",
      "        If `axis` is None, `obj` is applied to the flattened array.\n",
      "    \n",
      "    Returns\n",
      "    -------\n",
      "    out : ndarray\n",
      "        A copy of `arr` with the elements specified by `obj` removed. Note\n",
      "        that `delete` does not occur in-place. If `axis` is None, `out` is\n",
      "        a flattened array.\n",
      "    \n",
      "    See Also\n",
      "    --------\n",
      "    insert : Insert elements into an array.\n",
      "    append : Append elements at the end of an array.\n",
      "    \n",
      "    Notes\n",
      "    -----\n",
      "    Often it is preferable to use a boolean mask. For example:\n",
      "    \n",
      "    >>> arr = np.arange(12) + 1\n",
      "    >>> mask = np.ones(len(arr), dtype=bool)\n",
      "    >>> mask[[0,2,4]] = False\n",
      "    >>> result = arr[mask,...]\n",
      "    \n",
      "    Is equivalent to `np.delete(arr, [0,2,4], axis=0)`, but allows further\n",
      "    use of `mask`.\n",
      "    \n",
      "    Examples\n",
      "    --------\n",
      "    >>> arr = np.array([[1,2,3,4], [5,6,7,8], [9,10,11,12]])\n",
      "    >>> arr\n",
      "    array([[ 1,  2,  3,  4],\n",
      "           [ 5,  6,  7,  8],\n",
      "           [ 9, 10, 11, 12]])\n",
      "    >>> np.delete(arr, 1, 0)\n",
      "    array([[ 1,  2,  3,  4],\n",
      "           [ 9, 10, 11, 12]])\n",
      "    \n",
      "    >>> np.delete(arr, np.s_[::2], 1)\n",
      "    array([[ 2,  4],\n",
      "           [ 6,  8],\n",
      "           [10, 12]])\n",
      "    >>> np.delete(arr, [1,3,5], None)\n",
      "    array([ 1,  3,  5,  7,  8,  9, 10, 11, 12])\n",
      "\n"
     ]
    }
   ],
   "source": [
    "from numpy import delete\n",
    "help(delete)"
   ]
  },
  {
   "cell_type": "code",
   "execution_count": 499,
   "metadata": {},
   "outputs": [],
   "source": [
    "# delete() function always delete elements as per mentioned indexes\n",
    "# If 2D Array and axis=0 then deletes Row wise\n",
    "# If 2D Array and axis=1 then deletes col wise\n",
    "# If 3D Array and axis=0 then deletes Array,if axis=1 then deletes Row wise,if axis=2 then deletes col wise\n",
    "# If axis=None then it flattens all Array dimention to 1D and then deletes the mentioned indexes"
   ]
  },
  {
   "cell_type": "code",
   "execution_count": 500,
   "metadata": {},
   "outputs": [
    {
     "name": "stdout",
     "output_type": "stream",
     "text": [
      "[1 2 3 4 5]\n"
     ]
    }
   ],
   "source": [
    "Array1D=array((1,2,3,4,5)) #Array of list #Convert the tuple into Array\n",
    "print(Array1D)"
   ]
  },
  {
   "cell_type": "code",
   "execution_count": 501,
   "metadata": {},
   "outputs": [
    {
     "name": "stdout",
     "output_type": "stream",
     "text": [
      "[1 2 3 4 5]\n"
     ]
    }
   ],
   "source": [
    "Array1D=array([1,2,3,4,5]) #Array of list #Convert the tuple into Array\n",
    "print(Array1D)"
   ]
  },
  {
   "cell_type": "code",
   "execution_count": 502,
   "metadata": {},
   "outputs": [
    {
     "data": {
      "text/plain": [
       "array([1, 2, 3, 5])"
      ]
     },
     "execution_count": 502,
     "metadata": {},
     "output_type": "execute_result"
    }
   ],
   "source": [
    "from numpy import delete\n",
    "delete(Array1D,3) #Delete 3rd index element"
   ]
  },
  {
   "cell_type": "code",
   "execution_count": 503,
   "metadata": {},
   "outputs": [
    {
     "data": {
      "text/plain": [
       "array([1, 2, 4])"
      ]
     },
     "execution_count": 503,
     "metadata": {},
     "output_type": "execute_result"
    }
   ],
   "source": [
    "delete(Array1D,(2,4)) #Delete 2nd & 4th index element"
   ]
  },
  {
   "cell_type": "code",
   "execution_count": 504,
   "metadata": {},
   "outputs": [
    {
     "name": "stdout",
     "output_type": "stream",
     "text": [
      "[[33 37]\n",
      " [76 67]]\n"
     ]
    },
    {
     "data": {
      "text/plain": [
       "2"
      ]
     },
     "execution_count": 504,
     "metadata": {},
     "output_type": "execute_result"
    }
   ],
   "source": [
    "Array2D=array([[33,37],[76,67]])\n",
    "print(Array2D)\n",
    "ndim(Array2D)"
   ]
  },
  {
   "cell_type": "code",
   "execution_count": 505,
   "metadata": {},
   "outputs": [
    {
     "data": {
      "text/plain": [
       "array([[33, 37]])"
      ]
     },
     "execution_count": 505,
     "metadata": {},
     "output_type": "execute_result"
    }
   ],
   "source": [
    "delete(Array2D,1,axis=0) #Delete entire 1st Row index\n",
    "                         #Row 76,67 got deleted"
   ]
  },
  {
   "cell_type": "code",
   "execution_count": 506,
   "metadata": {},
   "outputs": [
    {
     "data": {
      "text/plain": [
       "array([[33],\n",
       "       [76]])"
      ]
     },
     "execution_count": 506,
     "metadata": {},
     "output_type": "execute_result"
    }
   ],
   "source": [
    "delete(Array2D,1,axis=1) #Delete the entire 1st index col\n",
    "                         #Col 37,67 got deleted"
   ]
  },
  {
   "cell_type": "code",
   "execution_count": 507,
   "metadata": {},
   "outputs": [
    {
     "data": {
      "text/plain": [
       "array([33, 76, 67])"
      ]
     },
     "execution_count": 507,
     "metadata": {},
     "output_type": "execute_result"
    }
   ],
   "source": [
    "delete(Array2D,1,axis=None) #As axis=None, 1st index element 37 got deleted\n",
    "                            #Array2D has been flatten to 1D"
   ]
  },
  {
   "cell_type": "code",
   "execution_count": 508,
   "metadata": {},
   "outputs": [
    {
     "data": {
      "text/plain": [
       "array([33, 37, 76])"
      ]
     },
     "execution_count": 508,
     "metadata": {},
     "output_type": "execute_result"
    }
   ],
   "source": [
    "delete(Array2D,3,axis=None) #As axis=None, 3rd index element 67 got deleted\n",
    "                            #Array2D has been flatten to 1D"
   ]
  },
  {
   "cell_type": "markdown",
   "metadata": {},
   "source": [
    "## Matrix in Numpy (2D Arrays are Called Matrix)"
   ]
  },
  {
   "cell_type": "code",
   "execution_count": 509,
   "metadata": {},
   "outputs": [],
   "source": [
    "#1. Matrix is nothing but the Rectangular arrangement of data elements.\n",
    "#2. It is a rectangualar Array of Data containing Rows and cols\n",
    "#3. In python we can create this kind of Arrangements by using Nested List/Tuple, Numpy Arrays & Matrix\n",
    "#4. Arithmatic operations With Matrix (Array addition & Matrix addition are Same, Array Multiplication & Matrix Multiplication are different)\n",
    "#5. Transpose of A Matrix\n",
    "#6. We can perform Matrix Multiplication between arrays by using dot() function"
   ]
  },
  {
   "cell_type": "code",
   "execution_count": 510,
   "metadata": {},
   "outputs": [
    {
     "name": "stdout",
     "output_type": "stream",
     "text": [
      "[[[ 11  24]\n",
      "  [ 34  89]]\n",
      "\n",
      " [[ 15  90]\n",
      "  [ 80 100]]]\n",
      "<class 'numpy.ndarray'>\n",
      "8\n",
      "2\n",
      "int32\n",
      "(2, 2, 2)\n",
      "3\n"
     ]
    }
   ],
   "source": [
    "Array3D=array([[[11,24],[34,89]],[[15,90],[80,100]]])\n",
    "print(Array3D)\n",
    "print(type(Array3D))\n",
    "print(size(Array3D))\n",
    "print(len(Array3D))\n",
    "print(Array3D.dtype)\n",
    "print(shape(Array3D)) # 2 Arrays, 2 Rows & 2 Columns\n",
    "print(ndim(Array3D))"
   ]
  },
  {
   "cell_type": "code",
   "execution_count": 511,
   "metadata": {},
   "outputs": [
    {
     "name": "stdout",
     "output_type": "stream",
     "text": [
      "[[33 29]\n",
      " [78 89]]\n"
     ]
    },
    {
     "data": {
      "text/plain": [
       "(2, (2, 2))"
      ]
     },
     "execution_count": 511,
     "metadata": {},
     "output_type": "execute_result"
    }
   ],
   "source": [
    "Array2D=array([[33,29],[78,89]])\n",
    "print(Array2D)\n",
    "ndim(Array2D),shape(Array2D)"
   ]
  },
  {
   "cell_type": "code",
   "execution_count": 512,
   "metadata": {},
   "outputs": [
    {
     "name": "stdout",
     "output_type": "stream",
     "text": [
      "[[ 5 10]]\n"
     ]
    },
    {
     "data": {
      "text/plain": [
       "(2, (1, 2))"
      ]
     },
     "execution_count": 512,
     "metadata": {},
     "output_type": "execute_result"
    }
   ],
   "source": [
    "New2D=array([[5,10]])\n",
    "print(New2D)\n",
    "ndim(New2D),shape(New2D)"
   ]
  },
  {
   "cell_type": "code",
   "execution_count": 513,
   "metadata": {},
   "outputs": [
    {
     "data": {
      "text/plain": [
       "array([[38, 39],\n",
       "       [83, 99]])"
      ]
     },
     "execution_count": 513,
     "metadata": {},
     "output_type": "execute_result"
    }
   ],
   "source": [
    "#Performing Matrix Addition/Array Addition\n",
    "Array2D+New2D #New2D has been added to all the rows of Array2D"
   ]
  },
  {
   "cell_type": "code",
   "execution_count": 514,
   "metadata": {},
   "outputs": [
    {
     "data": {
      "text/plain": [
       "array([[[ 49,  63],\n",
       "        [117, 188]],\n",
       "\n",
       "       [[ 53, 129],\n",
       "        [163, 199]]])"
      ]
     },
     "execution_count": 514,
     "metadata": {},
     "output_type": "execute_result"
    }
   ],
   "source": [
    "#Performing Matrix Addition/Array Addition\n",
    "Array3D+Array2D+New2D"
   ]
  },
  {
   "cell_type": "code",
   "execution_count": 515,
   "metadata": {},
   "outputs": [],
   "source": [
    "#Performing Matrix Multiplication between arrays by using dot() function\n",
    "#First row will go through all the cols and adds multiplied value for each col\n",
    "#Second row will go through all the cols and adds multiplied value for each col\n",
    "#Third row will go through all the cols and adds multiplied value for each col"
   ]
  },
  {
   "cell_type": "code",
   "execution_count": 516,
   "metadata": {},
   "outputs": [
    {
     "data": {
      "text/plain": [
       "array([[[ 2235,  2455],\n",
       "        [ 8064,  8907]],\n",
       "\n",
       "       [[ 7515,  8445],\n",
       "        [10440, 11220]]])"
      ]
     },
     "execution_count": 516,
     "metadata": {},
     "output_type": "execute_result"
    }
   ],
   "source": [
    "#Performing Matrix Multiplication between 2 Arrays by using dot() function\n",
    "from numpy import dot\n",
    "dot(Array3D,Array2D) #Shape should be exactly same, 3D*2D"
   ]
  },
  {
   "cell_type": "code",
   "execution_count": 517,
   "metadata": {},
   "outputs": [
    {
     "data": {
      "text/plain": [
       "array([[[ 1349,  3373],\n",
       "        [ 2815,  5870]],\n",
       "\n",
       "       [[ 3884,  9793],\n",
       "        [ 8290, 15920]]])"
      ]
     },
     "execution_count": 517,
     "metadata": {},
     "output_type": "execute_result"
    }
   ],
   "source": [
    "#Performing Matrix Multiplication between 2 Arrays by using dot() function\n",
    "dot(Array2D,Array3D) #Shape should be exactly same, 2D*3D"
   ]
  },
  {
   "cell_type": "code",
   "execution_count": 518,
   "metadata": {},
   "outputs": [
    {
     "data": {
      "text/plain": [
       "array([[ 945, 1035]])"
      ]
     },
     "execution_count": 518,
     "metadata": {},
     "output_type": "execute_result"
    }
   ],
   "source": [
    "#Performing Matrix Multiplication between 2 Arrays by using dot() function\n",
    "dot(New2D,Array2D) #Shape should be exactly same"
   ]
  },
  {
   "cell_type": "raw",
   "metadata": {},
   "source": [
    "#Performing Matrix Multiplication between 2 Arrays by using dot() function\n",
    "dot(Array2D,New2D) #Shape should be exactly same"
   ]
  },
  {
   "cell_type": "raw",
   "metadata": {},
   "source": [
    "#Performing Matrix Multiplication between 2 Arrays by using dot() function\n",
    "dot(Array1D,New2D) #Shape should be exactly same"
   ]
  },
  {
   "cell_type": "raw",
   "metadata": {},
   "source": [
    "#Performing Matrix Multiplication between 2 Arrays by using dot() function\n",
    "dot(New2D,Array1D)"
   ]
  },
  {
   "cell_type": "code",
   "execution_count": 519,
   "metadata": {},
   "outputs": [
    {
     "name": "stdout",
     "output_type": "stream",
     "text": [
      "[[[ 11  24]\n",
      "  [ 34  89]]\n",
      "\n",
      " [[ 15  90]\n",
      "  [ 80 100]]]\n",
      "3\n",
      "(2, 2, 2)\n"
     ]
    }
   ],
   "source": [
    "ArraY3D=array([[[11,24],[34,89]],[[15,90],[80,100]]])\n",
    "print(ArraY3D)\n",
    "print(ndim(ArraY3D))\n",
    "print(shape(ArraY3D)) # 2 Arrays, 2 Rows & 2 Columns"
   ]
  },
  {
   "cell_type": "code",
   "execution_count": 520,
   "metadata": {},
   "outputs": [
    {
     "data": {
      "text/plain": [
       "array([[[[  937,  2400],\n",
       "         [ 2085,  3390]],\n",
       "\n",
       "        [[ 3400,  8737],\n",
       "         [ 7630, 11960]]],\n",
       "\n",
       "\n",
       "       [[[ 3225,  8370],\n",
       "         [ 7425, 10350]],\n",
       "\n",
       "        [[ 4280, 10820],\n",
       "         [ 9200, 17200]]]])"
      ]
     },
     "execution_count": 520,
     "metadata": {},
     "output_type": "execute_result"
    }
   ],
   "source": [
    "#Performing Matrix Multiplication between 2 Arrays by using dot() function\n",
    "dot(Array3D,ArraY3D) #Here the shape is same so dot() will get performed"
   ]
  },
  {
   "cell_type": "markdown",
   "metadata": {},
   "source": [
    "### Matrix Class in Numpy"
   ]
  },
  {
   "cell_type": "code",
   "execution_count": 521,
   "metadata": {},
   "outputs": [],
   "source": [
    "# How to create Matrix without using predefined functions\n",
    "#1. Matrix objects are always 2D Array\n",
    "#2. Matrix can be created using String notation, in Array you can't do the same\n",
    "#3. We can use * symbol in Matrix multiplication\n",
    "#4. To perform Matrix multiplication between 2 Arrays we use dot() function"
   ]
  },
  {
   "cell_type": "code",
   "execution_count": 522,
   "metadata": {},
   "outputs": [
    {
     "name": "stdout",
     "output_type": "stream",
     "text": [
      "[[ 11  24]\n",
      " [ 34  89]\n",
      " [ 15  90]\n",
      " [ 80 100]]\n"
     ]
    },
    {
     "data": {
      "text/plain": [
       "(2, (4, 2))"
      ]
     },
     "execution_count": 522,
     "metadata": {},
     "output_type": "execute_result"
    }
   ],
   "source": [
    "# Creating 2D Matrix from 4 int lists\n",
    "from numpy import matrix\n",
    "Matrix1st=matrix([[11,24],[34,89],[15,90],[80,100]])\n",
    "print(Matrix1st)\n",
    "ndim(Matrix1st),shape(Matrix1st)"
   ]
  },
  {
   "cell_type": "code",
   "execution_count": 523,
   "metadata": {},
   "outputs": [
    {
     "name": "stdout",
     "output_type": "stream",
     "text": [
      "[[33 29]\n",
      " [78 89]]\n"
     ]
    },
    {
     "data": {
      "text/plain": [
       "(2, (2, 2))"
      ]
     },
     "execution_count": 523,
     "metadata": {},
     "output_type": "execute_result"
    }
   ],
   "source": [
    "# Creating 2D Matrix from 2 int lists\n",
    "Matrix2nd=matrix([[33,29],[78,89]])\n",
    "print(Matrix2nd)\n",
    "ndim(Matrix2nd),shape(Matrix2nd)"
   ]
  },
  {
   "cell_type": "code",
   "execution_count": 524,
   "metadata": {},
   "outputs": [
    {
     "name": "stdout",
     "output_type": "stream",
     "text": [
      "[[ 5 10]]\n"
     ]
    },
    {
     "data": {
      "text/plain": [
       "(2, (1, 2))"
      ]
     },
     "execution_count": 524,
     "metadata": {},
     "output_type": "execute_result"
    }
   ],
   "source": [
    "# Creating 2D Matrix from 1 int lists\n",
    "Matrix3rd=matrix([[5,10]])\n",
    "print(Matrix3rd)\n",
    "ndim(Matrix3rd),shape(Matrix3rd)"
   ]
  },
  {
   "cell_type": "code",
   "execution_count": 525,
   "metadata": {},
   "outputs": [
    {
     "data": {
      "text/plain": [
       "matrix([[ 16,  34],\n",
       "        [ 39,  99],\n",
       "        [ 20, 100],\n",
       "        [ 85, 110]])"
      ]
     },
     "execution_count": 525,
     "metadata": {},
     "output_type": "execute_result"
    }
   ],
   "source": [
    "#Performing Matrix Addition\n",
    "Matrix1st+Matrix3rd #Row of Matrix3rd has been added through all rows of Matrix1st"
   ]
  },
  {
   "cell_type": "code",
   "execution_count": 526,
   "metadata": {},
   "outputs": [
    {
     "data": {
      "text/plain": [
       "matrix([[ 16,  34],\n",
       "        [ 39,  99],\n",
       "        [ 20, 100],\n",
       "        [ 85, 110]])"
      ]
     },
     "execution_count": 526,
     "metadata": {},
     "output_type": "execute_result"
    }
   ],
   "source": [
    "#Performing Matrix Addition\n",
    "Matrix3rd+Matrix1st #Row of Matrix1st has been added through all rows of Matrix3rd"
   ]
  },
  {
   "cell_type": "code",
   "execution_count": 527,
   "metadata": {},
   "outputs": [
    {
     "data": {
      "text/plain": [
       "matrix([[38, 39],\n",
       "        [83, 99]])"
      ]
     },
     "execution_count": 527,
     "metadata": {},
     "output_type": "execute_result"
    }
   ],
   "source": [
    "#Performing Matrix Addition\n",
    "Matrix2nd+Matrix3rd #Row of Matrix3rd has been added through all rows of Matrix2nd"
   ]
  },
  {
   "cell_type": "code",
   "execution_count": 528,
   "metadata": {},
   "outputs": [
    {
     "data": {
      "text/plain": [
       "matrix([[38, 39],\n",
       "        [83, 99]])"
      ]
     },
     "execution_count": 528,
     "metadata": {},
     "output_type": "execute_result"
    }
   ],
   "source": [
    "#Performing Matrix Addition\n",
    "Matrix3rd+Matrix2nd #Row of Matrix2nd has been added through all rows of Matrix3rd"
   ]
  },
  {
   "cell_type": "code",
   "execution_count": 529,
   "metadata": {},
   "outputs": [
    {
     "data": {
      "text/plain": [
       "matrix([[ 2235,  2455],\n",
       "        [ 8064,  8907],\n",
       "        [ 7515,  8445],\n",
       "        [10440, 11220]])"
      ]
     },
     "execution_count": 529,
     "metadata": {},
     "output_type": "execute_result"
    }
   ],
   "source": [
    "#Performing Matrix Multiplication\n",
    "#First row of Matrix1st will go through all the cols of Matrix2nd and adds multiplied values for each col\n",
    "#Second row of Matrix1st will go through all the cols of Matrix2nd and adds multiplied values for each col\n",
    "#Third row of Matrix1st will go through all the cols of Matrix2nd and adds multiplied values for each col\n",
    "#Multiplication will go on like this\n",
    "Matrix1st*Matrix2nd"
   ]
  },
  {
   "cell_type": "code",
   "execution_count": 530,
   "metadata": {},
   "outputs": [
    {
     "data": {
      "text/plain": [
       "matrix([[ 2235,  2455],\n",
       "        [ 8064,  8907],\n",
       "        [ 7515,  8445],\n",
       "        [10440, 11220]])"
      ]
     },
     "execution_count": 530,
     "metadata": {},
     "output_type": "execute_result"
    }
   ],
   "source": [
    "#Performing Matrix Multiplication\n",
    "#First row of Matrix1st will go through all the cols of Matrix2nd and adds multiplied values for each col\n",
    "#Second row of Matrix1st will go through all the cols of Matrix2nd and adds multiplied values for each col\n",
    "#Third row of Matrix1st will go through all the cols of Matrix2nd and adds multiplied values for each col\n",
    "#Multiplication will go on like this\n",
    "dot(Matrix1st,Matrix2nd)"
   ]
  },
  {
   "cell_type": "raw",
   "metadata": {},
   "source": [
    "#Performing Matrix Multiplication\n",
    "Matrix2nd*Matrix1st #Shape should be exactly same"
   ]
  },
  {
   "cell_type": "raw",
   "metadata": {},
   "source": [
    "dot(Matrix2nd,Matrix1st)"
   ]
  },
  {
   "cell_type": "code",
   "execution_count": 531,
   "metadata": {},
   "outputs": [],
   "source": [
    "MultiMat=Matrix1st*Matrix2nd"
   ]
  },
  {
   "cell_type": "code",
   "execution_count": 532,
   "metadata": {},
   "outputs": [
    {
     "name": "stdout",
     "output_type": "stream",
     "text": [
      "[[ 2235  2455]\n",
      " [ 8064  8907]\n",
      " [ 7515  8445]\n",
      " [10440 11220]]\n"
     ]
    }
   ],
   "source": [
    "print(MultiMat) #4 Rows, 2 cols"
   ]
  },
  {
   "cell_type": "code",
   "execution_count": 562,
   "metadata": {},
   "outputs": [
    {
     "name": "stdout",
     "output_type": "stream",
     "text": [
      "[[ 2235  8064  7515 10440]\n",
      " [ 2455  8907  8445 11220]]\n"
     ]
    }
   ],
   "source": [
    "Transpose=transpose(MultiMat)\n",
    "print(Transpose) #2 Rows & 4 cols"
   ]
  },
  {
   "cell_type": "markdown",
   "metadata": {},
   "source": [
    "### Inverse of A Matrix & Linear Algebra"
   ]
  },
  {
   "cell_type": "code",
   "execution_count": 563,
   "metadata": {},
   "outputs": [],
   "source": [
    "# help(linalg)\n",
    "# using linalg we will do\n",
    "#1. Invert of Matrix (for square matrix only)\n",
    "#2. Power of Matrix\n",
    "#3. Linear equation\n",
    "#4. Determinants"
   ]
  },
  {
   "cell_type": "code",
   "execution_count": 564,
   "metadata": {},
   "outputs": [
    {
     "name": "stdout",
     "output_type": "stream",
     "text": [
      "[[ 11  24  56  89]\n",
      " [ 34  89  99  54]\n",
      " [ 15  90  76  72]\n",
      " [ 80 100  63  36]]\n",
      "2\n",
      "(4, 4)\n"
     ]
    }
   ],
   "source": [
    "# Create a 4by4 2D square Matrix by using 4 int lists\n",
    "SquareMat=matrix([[11,24,56,89],[34,89,99,54],[15,90,76,72],[80,100,63,36]]) #4by4 2D square Matrix\n",
    "print(SquareMat)\n",
    "print(ndim(SquareMat))\n",
    "print(shape(SquareMat))"
   ]
  },
  {
   "cell_type": "code",
   "execution_count": 565,
   "metadata": {},
   "outputs": [
    {
     "name": "stdout",
     "output_type": "stream",
     "text": [
      "[[ 0.00927926 -0.0004937  -0.01855657  0.01491328]\n",
      " [-0.01296349 -0.01341465  0.02465484  0.00286092]\n",
      " [ 0.0016098   0.03094397 -0.0204266  -0.00954255]\n",
      " [ 0.01257194 -0.01579191  0.0084977   0.0033896 ]]\n"
     ]
    }
   ],
   "source": [
    "from scipy import linalg\n",
    "Inverse=linalg.inv(SquareMat) #Inverse of the 4by4 squere matrix\n",
    "print(Inverse)"
   ]
  },
  {
   "cell_type": "code",
   "execution_count": 566,
   "metadata": {},
   "outputs": [
    {
     "name": "stdout",
     "output_type": "stream",
     "text": [
      "[[ 8897 16340 12855  9511]\n",
      " [ 9205 23047 21641 16904]\n",
      " [10125 22410 20062 14259]\n",
      " [ 8105 20090 21436 18352]]\n"
     ]
    }
   ],
   "source": [
    "import numpy\n",
    "Power=numpy.linalg.matrix_power(SquareMat,2) #Matrix way Muliply, Only Works with Square Matrix\n",
    "print(Power)                           #SquareMat**2"
   ]
  },
  {
   "cell_type": "code",
   "execution_count": 567,
   "metadata": {},
   "outputs": [
    {
     "data": {
      "text/plain": [
       "matrix([[ 8897, 16340, 12855,  9511],\n",
       "        [ 9205, 23047, 21641, 16904],\n",
       "        [10125, 22410, 20062, 14259],\n",
       "        [ 8105, 20090, 21436, 18352]])"
      ]
     },
     "execution_count": 567,
     "metadata": {},
     "output_type": "execute_result"
    }
   ],
   "source": [
    "SquareMat**2"
   ]
  },
  {
   "cell_type": "code",
   "execution_count": 568,
   "metadata": {},
   "outputs": [
    {
     "name": "stdout",
     "output_type": "stream",
     "text": [
      "[[ 8897 16340 12855  9511]\n",
      " [ 9205 23047 21641 16904]\n",
      " [10125 22410 20062 14259]\n",
      " [ 8105 20090 21436 18352]]\n"
     ]
    }
   ],
   "source": [
    "Dot=dot(SquareMat,SquareMat) #Matrix way Multiply\n",
    "print(Dot)"
   ]
  },
  {
   "cell_type": "code",
   "execution_count": 569,
   "metadata": {},
   "outputs": [
    {
     "name": "stdout",
     "output_type": "stream",
     "text": [
      "[[ 8897 16340 12855  9511]\n",
      " [ 9205 23047 21641 16904]\n",
      " [10125 22410 20062 14259]\n",
      " [ 8105 20090 21436 18352]]\n"
     ]
    }
   ],
   "source": [
    "MultiSquare=SquareMat*SquareMat #Direct Multiply * because of Matrix\n",
    "print(MultiSquare)"
   ]
  },
  {
   "cell_type": "markdown",
   "metadata": {},
   "source": [
    "### Linear Algebra"
   ]
  },
  {
   "cell_type": "code",
   "execution_count": 570,
   "metadata": {},
   "outputs": [
    {
     "name": "stdout",
     "output_type": "stream",
     "text": [
      "Help on function solve in module scipy.linalg.basic:\n",
      "\n",
      "solve(a, b, sym_pos=False, lower=False, overwrite_a=False, overwrite_b=False, debug=None, check_finite=True, assume_a='gen', transposed=False)\n",
      "    Solves the linear equation set ``a * x = b`` for the unknown ``x``\n",
      "    for square ``a`` matrix.\n",
      "    \n",
      "    If the data matrix is known to be a particular type then supplying the\n",
      "    corresponding string to ``assume_a`` key chooses the dedicated solver.\n",
      "    The available options are\n",
      "    \n",
      "    ===================  ========\n",
      "     generic matrix       'gen'\n",
      "     symmetric            'sym'\n",
      "     hermitian            'her'\n",
      "     positive definite    'pos'\n",
      "    ===================  ========\n",
      "    \n",
      "    If omitted, ``'gen'`` is the default structure.\n",
      "    \n",
      "    The datatype of the arrays define which solver is called regardless\n",
      "    of the values. In other words, even when the complex array entries have\n",
      "    precisely zero imaginary parts, the complex solver will be called based\n",
      "    on the data type of the array.\n",
      "    \n",
      "    Parameters\n",
      "    ----------\n",
      "    a : (N, N) array_like\n",
      "        Square input data\n",
      "    b : (N, NRHS) array_like\n",
      "        Input data for the right hand side.\n",
      "    sym_pos : bool, optional\n",
      "        Assume `a` is symmetric and positive definite. This key is deprecated\n",
      "        and assume_a = 'pos' keyword is recommended instead. The functionality\n",
      "        is the same. It will be removed in the future.\n",
      "    lower : bool, optional\n",
      "        If True, only the data contained in the lower triangle of `a`. Default\n",
      "        is to use upper triangle. (ignored for ``'gen'``)\n",
      "    overwrite_a : bool, optional\n",
      "        Allow overwriting data in `a` (may enhance performance).\n",
      "        Default is False.\n",
      "    overwrite_b : bool, optional\n",
      "        Allow overwriting data in `b` (may enhance performance).\n",
      "        Default is False.\n",
      "    check_finite : bool, optional\n",
      "        Whether to check that the input matrices contain only finite numbers.\n",
      "        Disabling may give a performance gain, but may result in problems\n",
      "        (crashes, non-termination) if the inputs do contain infinities or NaNs.\n",
      "    assume_a : str, optional\n",
      "        Valid entries are explained above.\n",
      "    transposed: bool, optional\n",
      "        If True, ``a^T x = b`` for real matrices, raises `NotImplementedError`\n",
      "        for complex matrices (only for True).\n",
      "    \n",
      "    Returns\n",
      "    -------\n",
      "    x : (N, NRHS) ndarray\n",
      "        The solution array.\n",
      "    \n",
      "    Raises\n",
      "    ------\n",
      "    ValueError\n",
      "        If size mismatches detected or input a is not square.\n",
      "    LinAlgError\n",
      "        If the matrix is singular.\n",
      "    LinAlgWarning\n",
      "        If an ill-conditioned input a is detected.\n",
      "    NotImplementedError\n",
      "        If transposed is True and input a is a complex matrix.\n",
      "    \n",
      "    Examples\n",
      "    --------\n",
      "    Given `a` and `b`, solve for `x`:\n",
      "    \n",
      "    >>> a = np.array([[3, 2, 0], [1, -1, 0], [0, 5, 1]])\n",
      "    >>> b = np.array([2, 4, -1])\n",
      "    >>> from scipy import linalg\n",
      "    >>> x = linalg.solve(a, b)\n",
      "    >>> x\n",
      "    array([ 2., -2.,  9.])\n",
      "    >>> np.dot(a, x) == b\n",
      "    array([ True,  True,  True], dtype=bool)\n",
      "    \n",
      "    Notes\n",
      "    -----\n",
      "    If the input b matrix is a 1-D array with N elements, when supplied\n",
      "    together with an NxN input a, it is assumed as a valid column vector\n",
      "    despite the apparent size mismatch. This is compatible with the\n",
      "    numpy.dot() behavior and the returned result is still 1-D array.\n",
      "    \n",
      "    The generic, symmetric, Hermitian and positive definite solutions are\n",
      "    obtained via calling ?GESV, ?SYSV, ?HESV, and ?POSV routines of\n",
      "    LAPACK respectively.\n",
      "\n"
     ]
    }
   ],
   "source": [
    "help(linalg.solve)"
   ]
  },
  {
   "cell_type": "code",
   "execution_count": 571,
   "metadata": {},
   "outputs": [],
   "source": [
    "# linalg.solve(a,b) here a is the coefficients of independent variables and b is the constant values\n",
    "# This function will solve the linear matrix equation or the system of linear scalar equation\n",
    "# We will take the equation in matrix form and will find out the unknown variables"
   ]
  },
  {
   "cell_type": "code",
   "execution_count": 572,
   "metadata": {},
   "outputs": [
    {
     "data": {
      "text/plain": [
       "array([2., 3.])"
      ]
     },
     "execution_count": 572,
     "metadata": {},
     "output_type": "execute_result"
    }
   ],
   "source": [
    "#Linear Equations\n",
    "# 3X+Y=9\n",
    "# X+2Y=8\n",
    "Acoeffs=array([[3,1],[1,2]]) #2D\n",
    "Bconstants=array([9,8]) #1D\n",
    "linalg.solve(Acoeffs,Bconstants) # X=2 & Y=3"
   ]
  },
  {
   "cell_type": "code",
   "execution_count": 573,
   "metadata": {},
   "outputs": [
    {
     "data": {
      "text/plain": [
       "array([2., 3., 1.])"
      ]
     },
     "execution_count": 573,
     "metadata": {},
     "output_type": "execute_result"
    }
   ],
   "source": [
    "# 6X+2Y-5Z=13\n",
    "# 3X+3Y-2Z=13\n",
    "# 7X+5Y-3Z=26\n",
    "Acoeffs=array([[6,2,-5],[3,3,-2],[7,5,-3]]) #2D\n",
    "Bconstants=array([13,13,26]) #1D\n",
    "linalg.solve(Acoeffs,Bconstants) # X=2, Y=3 & Z=1"
   ]
  },
  {
   "cell_type": "markdown",
   "metadata": {},
   "source": [
    "### Determinant of a Matrix"
   ]
  },
  {
   "cell_type": "code",
   "execution_count": 574,
   "metadata": {},
   "outputs": [],
   "source": [
    "# All kind of 2D Arrays are called Matrix\n",
    "# We can create Matrix by using array() & matrix() function"
   ]
  },
  {
   "cell_type": "code",
   "execution_count": 575,
   "metadata": {},
   "outputs": [],
   "source": [
    "# Create a 4by4 2D square Matrix by using 4 int lists\n",
    "SquareMat=matrix([[11,24,56,89],[34,89,99,54],[15,90,76,72],[80,100,63,36]]) #4by4 square Matrix"
   ]
  },
  {
   "cell_type": "code",
   "execution_count": 576,
   "metadata": {},
   "outputs": [
    {
     "data": {
      "text/plain": [
       "13753244.999999996"
      ]
     },
     "execution_count": 576,
     "metadata": {},
     "output_type": "execute_result"
    }
   ],
   "source": [
    "linalg.det(SquareMat)"
   ]
  },
  {
   "cell_type": "code",
   "execution_count": 577,
   "metadata": {},
   "outputs": [
    {
     "data": {
      "text/plain": [
       "13753244"
      ]
     },
     "execution_count": 577,
     "metadata": {},
     "output_type": "execute_result"
    }
   ],
   "source": [
    "int(linalg.det(SquareMat)) #Make the answer integer"
   ]
  },
  {
   "cell_type": "code",
   "execution_count": 578,
   "metadata": {},
   "outputs": [
    {
     "data": {
      "text/plain": [
       "13753245"
      ]
     },
     "execution_count": 578,
     "metadata": {},
     "output_type": "execute_result"
    }
   ],
   "source": [
    "round(linalg.det(SquareMat)) #Make the answer Round"
   ]
  },
  {
   "cell_type": "markdown",
   "metadata": {},
   "source": [
    "## Universal Array Functions\n",
    "Numpy comes with many universal array functions, which are essentially just mathematical operations you can use to perform the operation across the array. Let's show some common ones:"
   ]
  },
  {
   "cell_type": "code",
   "execution_count": 579,
   "metadata": {},
   "outputs": [
    {
     "data": {
      "text/plain": [
       "matrix([[ 11,  24,  56,  89],\n",
       "        [ 34,  89,  99,  54],\n",
       "        [ 15,  90,  76,  72],\n",
       "        [ 80, 100,  63,  36]])"
      ]
     },
     "execution_count": 579,
     "metadata": {},
     "output_type": "execute_result"
    }
   ],
   "source": [
    "# Create a 4by4 2D square Matrix by using 4 int lists\n",
    "SquareMat=matrix([[11,24,56,89],[34,89,99,54],[15,90,76,72],[80,100,63,36]]) #4by4 square Matrix\n",
    "SquareMat"
   ]
  },
  {
   "cell_type": "code",
   "execution_count": 580,
   "metadata": {},
   "outputs": [
    {
     "data": {
      "text/plain": [
       "array([[ 3.31662479,  4.89897949,  7.48331477,  9.43398113],\n",
       "       [ 5.83095189,  9.43398113,  9.94987437,  7.34846923],\n",
       "       [ 3.87298335,  9.48683298,  8.71779789,  8.48528137],\n",
       "       [ 8.94427191, 10.        ,  7.93725393,  6.        ]])"
      ]
     },
     "execution_count": 580,
     "metadata": {},
     "output_type": "execute_result"
    }
   ],
   "source": [
    "#Taking Square Roots of SquareMat\n",
    "from numpy.lib.scimath import sqrt\n",
    "sqrt(SquareMat)"
   ]
  },
  {
   "cell_type": "code",
   "execution_count": 581,
   "metadata": {},
   "outputs": [
    {
     "data": {
      "text/plain": [
       "matrix([[5.98741417e+04, 2.64891221e+10, 2.09165950e+24, 4.48961282e+38],\n",
       "        [5.83461743e+14, 4.48961282e+38, 9.88903032e+42, 2.83075330e+23],\n",
       "        [3.26901737e+06, 1.22040329e+39, 1.01480039e+33, 1.85867175e+31],\n",
       "        [5.54062238e+34, 2.68811714e+43, 2.29378316e+27, 4.31123155e+15]])"
      ]
     },
     "execution_count": 581,
     "metadata": {},
     "output_type": "execute_result"
    }
   ],
   "source": [
    "#Calcualting exponential (e^) of SquareMat\n",
    "from numpy import exp\n",
    "exp(SquareMat)"
   ]
  },
  {
   "cell_type": "code",
   "execution_count": 582,
   "metadata": {},
   "outputs": [
    {
     "data": {
      "text/plain": [
       "100"
      ]
     },
     "execution_count": 582,
     "metadata": {},
     "output_type": "execute_result"
    }
   ],
   "source": [
    "# Shows the element in SquareMat which has maximum value\n",
    "SquareMat.max()"
   ]
  },
  {
   "cell_type": "code",
   "execution_count": 583,
   "metadata": {},
   "outputs": [
    {
     "data": {
      "text/plain": [
       "matrix([[-0.99999021, -0.90557836, -0.521551  ,  0.86006941],\n",
       "        [ 0.52908269,  0.86006941, -0.99920683, -0.55878905],\n",
       "        [ 0.65028784,  0.89399666,  0.56610764,  0.25382336],\n",
       "        [-0.99388865, -0.50636564,  0.1673557 , -0.99177885]])"
      ]
     },
     "execution_count": 583,
     "metadata": {},
     "output_type": "execute_result"
    }
   ],
   "source": [
    "#Shows sin degree value of each element\n",
    "from numpy import sin\n",
    "sin(SquareMat)"
   ]
  },
  {
   "cell_type": "code",
   "execution_count": 584,
   "metadata": {},
   "outputs": [
    {
     "data": {
      "text/plain": [
       "array([[2.39789527, 3.17805383, 4.02535169, 4.48863637],\n",
       "       [3.52636052, 4.48863637, 4.59511985, 3.98898405],\n",
       "       [2.7080502 , 4.49980967, 4.33073334, 4.27666612],\n",
       "       [4.38202663, 4.60517019, 4.14313473, 3.58351894]])"
      ]
     },
     "execution_count": 584,
     "metadata": {},
     "output_type": "execute_result"
    }
   ],
   "source": [
    "#Shows log value of each element\n",
    "from numpy.lib.scimath import log\n",
    "log(SquareMat)"
   ]
  },
  {
   "cell_type": "code",
   "execution_count": 585,
   "metadata": {},
   "outputs": [
    {
     "name": "stdout",
     "output_type": "stream",
     "text": [
      "[ 0.   0.1  0.2  0.3  0.4  0.5  0.6  0.7  0.8  0.9  1.   1.1  1.2  1.3\n",
      "  1.4  1.5  1.6  1.7  1.8  1.9  2.   2.1  2.2  2.3  2.4  2.5  2.6  2.7\n",
      "  2.8  2.9  3.   3.1  3.2  3.3  3.4  3.5  3.6  3.7  3.8  3.9  4.   4.1\n",
      "  4.2  4.3  4.4  4.5  4.6  4.7  4.8  4.9  5.   5.1  5.2  5.3  5.4  5.5\n",
      "  5.6  5.7  5.8  5.9  6.   6.1  6.2  6.3  6.4  6.5  6.6  6.7  6.8  6.9\n",
      "  7.   7.1  7.2  7.3  7.4  7.5  7.6  7.7  7.8  7.9  8.   8.1  8.2  8.3\n",
      "  8.4  8.5  8.6  8.7  8.8  8.9  9.   9.1  9.2  9.3  9.4  9.5  9.6  9.7\n",
      "  9.8  9.9 10. ]\n",
      "101\n",
      "101\n"
     ]
    }
   ],
   "source": [
    "# TASK: Create a numpy array called myarray which consists of 101 evenly linearly spaced points between 0 and 10.\n",
    "# MAKE SURE TO READ THE FULL INSTRUCTIONS ABOVE CAREFULLY, AS THE EVALUATION SCRIPT IS VERY STRICT.\n",
    "# Link to Solution: https://gist.github.com/Pierian-Data/ea9c4d2fc6c98ac74af18134cd924867\n",
    "# import ?\n",
    "# myarray = ?\n",
    "myarray=linspace(start=0, stop=10, num=101)\n",
    "print(myarray)\n",
    "print(len(myarray))\n",
    "print(size(myarray))"
   ]
  },
  {
   "cell_type": "code",
   "execution_count": 586,
   "metadata": {},
   "outputs": [
    {
     "name": "stdout",
     "output_type": "stream",
     "text": [
      "19\n"
     ]
    }
   ],
   "source": [
    "# TASK: Use numpy to check how many rolls were greater than 2. For example if dice_rolls=[1,2,3] then the answer is 1.\n",
    "# NOTE: Many different ways to do this! Your final answer should be an integer.\n",
    "# MAKE SURE TO READ THE FULL INSTRUCTIONS ABOVE CAREFULLY, AS THE EVALUATION SCRIPT IS VERY STRICT.\n",
    "# Link to Solution: https://gist.github.com/Pierian-Data/ea3121efac5dd3338c280ff10068f9c8\n",
    "\n",
    "\n",
    "dice_rolls = array([3, 1, 5, 2, 5, 1, 1, 5, 1, 4, 2, 1, 4, 5, 3, 4, 5, 2, 4, 2, 6, 6, 3, 6, 2, 3, 5, 6, 5])\n",
    "\n",
    "total_rolls_over_two = size(dice_rolls[dice_rolls > 2])\n",
    "\n",
    "print(total_rolls_over_two)"
   ]
  },
  {
   "cell_type": "code",
   "execution_count": 587,
   "metadata": {},
   "outputs": [
    {
     "name": "stdout",
     "output_type": "stream",
     "text": [
      "2720\n"
     ]
    }
   ],
   "source": [
    "# TASK: Use numpy to check the total remaining in the account after the series of transactions.\n",
    "# NOTE: Many different ways to do this! \n",
    "# MAKE SURE TO READ THE FULL INSTRUCTIONS ABOVE CAREFULLY, AS THE EVALUATION SCRIPT IS VERY STRICT.\n",
    "# Link to Solution: https://gist.github.com/Pierian-Data/225a449484e12e0535fbbac2231b426b\n",
    "\n",
    "\n",
    "account_transactions = array([100,-200,300,-400,100,100,-230,450,500,2000])\n",
    "\n",
    "account_total = sum(account_transactions)\n",
    "\n",
    "print(account_total)"
   ]
  },
  {
   "cell_type": "markdown",
   "metadata": {},
   "source": [
    "# NumPy Exercises\n",
    "\n",
    "Now that we've learned about NumPy let's test your knowledge. We'll start off with a few simple tasks and then you'll be asked some more complicated questions.\n",
    "\n",
    "<div class=\"alert alert-danger\" style=\"margin: 10px\"><strong>IMPORTANT NOTE!</strong> Make sure you don't run the cells directly above the example output shown, <br>otherwise you will end up writing over the example output!</div>"
   ]
  },
  {
   "cell_type": "markdown",
   "metadata": {},
   "source": [
    "#### 1. Import NumPy as np"
   ]
  },
  {
   "cell_type": "code",
   "execution_count": null,
   "metadata": {},
   "outputs": [],
   "source": []
  },
  {
   "cell_type": "markdown",
   "metadata": {},
   "source": [
    "#### 2. Create an array of 10 zeros "
   ]
  },
  {
   "cell_type": "code",
   "execution_count": 588,
   "metadata": {},
   "outputs": [],
   "source": [
    "# CODE HERE\n"
   ]
  }
 ],
 "metadata": {
  "kernelspec": {
   "display_name": "Python 3 (ipykernel)",
   "language": "python",
   "name": "python3"
  },
  "language_info": {
   "codemirror_mode": {
    "name": "ipython",
    "version": 3
   },
   "file_extension": ".py",
   "mimetype": "text/x-python",
   "name": "python",
   "nbconvert_exporter": "python",
   "pygments_lexer": "ipython3",
   "version": "3.9.12"
  },
  "toc": {
   "base_numbering": 1,
   "nav_menu": {},
   "number_sections": true,
   "sideBar": true,
   "skip_h1_title": false,
   "title_cell": "Table of Contents",
   "title_sidebar": "Contents",
   "toc_cell": true,
   "toc_position": {
    "height": "calc(100% - 180px)",
    "left": "10px",
    "top": "150px",
    "width": "303.825px"
   },
   "toc_section_display": true,
   "toc_window_display": true
  }
 },
 "nbformat": 4,
 "nbformat_minor": 2
}
