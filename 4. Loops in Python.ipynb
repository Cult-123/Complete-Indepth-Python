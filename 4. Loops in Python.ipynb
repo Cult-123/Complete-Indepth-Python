{
 "cells": [
  {
   "cell_type": "markdown",
   "metadata": {
    "toc": true
   },
   "source": [
    "<h1>Table of Contents<span class=\"tocSkip\"></span></h1>\n",
    "<div class=\"toc\"><ul class=\"toc-item\"><li><span><a href=\"#Loops-in-Python\" data-toc-modified-id=\"Loops-in-Python-1\"><span class=\"toc-item-num\">1&nbsp;&nbsp;</span>Loops in Python</a></span><ul class=\"toc-item\"><li><span><a href=\"#For-Loop-iteration-through-List\" data-toc-modified-id=\"For-Loop-iteration-through-List-1.1\"><span class=\"toc-item-num\">1.1&nbsp;&nbsp;</span>For Loop iteration through List</a></span></li><li><span><a href=\"#For-Loop-iteration-through-Tuple\" data-toc-modified-id=\"For-Loop-iteration-through-Tuple-1.2\"><span class=\"toc-item-num\">1.2&nbsp;&nbsp;</span>For Loop iteration through Tuple</a></span></li><li><span><a href=\"#For-Loop-iteration-through-Range\" data-toc-modified-id=\"For-Loop-iteration-through-Range-1.3\"><span class=\"toc-item-num\">1.3&nbsp;&nbsp;</span>For Loop iteration through Range</a></span></li><li><span><a href=\"#Nested-For-Loop\" data-toc-modified-id=\"Nested-For-Loop-1.4\"><span class=\"toc-item-num\">1.4&nbsp;&nbsp;</span>Nested For Loop</a></span></li><li><span><a href=\"#Logical-For-Loop\" data-toc-modified-id=\"Logical-For-Loop-1.5\"><span class=\"toc-item-num\">1.5&nbsp;&nbsp;</span>Logical For Loop</a></span></li><li><span><a href=\"#User-Input-(typecasting)-in-Logical-For-Loop\" data-toc-modified-id=\"User-Input-(typecasting)-in-Logical-For-Loop-1.6\"><span class=\"toc-item-num\">1.6&nbsp;&nbsp;</span>User Input (typecasting) in Logical For Loop</a></span></li><li><span><a href=\"#List-Comprehension\" data-toc-modified-id=\"List-Comprehension-1.7\"><span class=\"toc-item-num\">1.7&nbsp;&nbsp;</span>List Comprehension</a></span></li><li><span><a href=\"#Dictionary-Comprehensions\" data-toc-modified-id=\"Dictionary-Comprehensions-1.8\"><span class=\"toc-item-num\">1.8&nbsp;&nbsp;</span>Dictionary Comprehensions</a></span></li><li><span><a href=\"#Set-Comprehensions\" data-toc-modified-id=\"Set-Comprehensions-1.9\"><span class=\"toc-item-num\">1.9&nbsp;&nbsp;</span>Set Comprehensions</a></span></li><li><span><a href=\"#Accessing-elements-and-their-index-values-from-a-List/Tuple\" data-toc-modified-id=\"Accessing-elements-and-their-index-values-from-a-List/Tuple-1.10\"><span class=\"toc-item-num\">1.10&nbsp;&nbsp;</span>Accessing elements and their index values from a List/Tuple</a></span></li></ul></li><li><span><a href=\"#While-Loop\" data-toc-modified-id=\"While-Loop-2\"><span class=\"toc-item-num\">2&nbsp;&nbsp;</span>While Loop</a></span></li><li><span><a href=\"#For-Loop\" data-toc-modified-id=\"For-Loop-3\"><span class=\"toc-item-num\">3&nbsp;&nbsp;</span>For Loop</a></span></li></ul></div>"
   ]
  },
  {
   "cell_type": "markdown",
   "metadata": {},
   "source": [
    "## Loops in Python"
   ]
  },
  {
   "cell_type": "code",
   "execution_count": 1,
   "metadata": {},
   "outputs": [
    {
     "name": "stdout",
     "output_type": "stream",
     "text": [
      "range(1, 11)\n"
     ]
    }
   ],
   "source": [
    "Range=range(1,11) #Start=1, Stop=11 upper bound, Step=NA\n",
    "print(Range)"
   ]
  },
  {
   "cell_type": "code",
   "execution_count": 2,
   "metadata": {},
   "outputs": [
    {
     "name": "stdout",
     "output_type": "stream",
     "text": [
      "[1, 2, 3, 4, 5, 6, 7, 8, 9, 10]\n"
     ]
    }
   ],
   "source": [
    "Range=list(Range) #Convert Range into List\n",
    "print(Range)"
   ]
  },
  {
   "cell_type": "code",
   "execution_count": 3,
   "metadata": {},
   "outputs": [
    {
     "name": "stdout",
     "output_type": "stream",
     "text": [
      "1 2 3 4 5 6 7 8 9 10\n"
     ]
    }
   ],
   "source": [
    "# Simply write the integers inside print command for getting the print from 1 to 10\n",
    "print(1,2,3,4,5,6,7,8,9,10)"
   ]
  },
  {
   "cell_type": "markdown",
   "metadata": {},
   "source": [
    "### For Loop iteration through List"
   ]
  },
  {
   "cell_type": "code",
   "execution_count": 4,
   "metadata": {},
   "outputs": [
    {
     "name": "stdout",
     "output_type": "stream",
     "text": [
      "Hello\n",
      "Hello\n",
      "Hello\n",
      "Hello\n",
      "Hello\n"
     ]
    },
    {
     "data": {
      "text/plain": [
       "list"
      ]
     },
     "execution_count": 4,
     "metadata": {},
     "output_type": "execute_result"
    }
   ],
   "source": [
    "# Print the string \"Hello\" 5 times by iterating i through the assigned List range of 5\n",
    "for i in list(range(5)):\n",
    "    print(\"Hello\")\n",
    "type(list(range(5)))"
   ]
  },
  {
   "cell_type": "code",
   "execution_count": 5,
   "metadata": {},
   "outputs": [
    {
     "name": "stdout",
     "output_type": "stream",
     "text": [
      "Hello\n",
      "Hello\n",
      "Hello\n",
      "Hello\n",
      "Hello\n"
     ]
    },
    {
     "data": {
      "text/plain": [
       "list"
      ]
     },
     "execution_count": 5,
     "metadata": {},
     "output_type": "execute_result"
    }
   ],
   "source": [
    "# Print the string \"Hello\" 5 times by iterating string through the assigned List range of 5\n",
    "for string in list(range(5)):\n",
    "    print(\"Hello\")\n",
    "type(list(range(5)))"
   ]
  },
  {
   "cell_type": "code",
   "execution_count": 6,
   "metadata": {},
   "outputs": [
    {
     "name": "stdout",
     "output_type": "stream",
     "text": [
      "2\n",
      "4\n",
      "6\n",
      "8\n",
      "10\n"
     ]
    }
   ],
   "source": [
    "#Print odd numbers/elements from the list\n",
    "List=[1,2,3,4,5,6,7,8,9,10]\n",
    "for i in List:\n",
    "    if i%2==0:\n",
    "        print(i)"
   ]
  },
  {
   "cell_type": "code",
   "execution_count": 7,
   "metadata": {},
   "outputs": [
    {
     "name": "stdout",
     "output_type": "stream",
     "text": [
      "2\n",
      "4\n",
      "6\n",
      "8\n",
      "10\n"
     ]
    }
   ],
   "source": [
    "#Print odd numbers/elements from the list\n",
    "List=[1,2,3,4,5,6,7,8,9,10]\n",
    "for odd in List:\n",
    "    if odd%2==0:\n",
    "        print(odd)"
   ]
  },
  {
   "cell_type": "markdown",
   "metadata": {},
   "source": [
    "### For Loop iteration through Tuple"
   ]
  },
  {
   "cell_type": "code",
   "execution_count": 8,
   "metadata": {},
   "outputs": [
    {
     "name": "stdout",
     "output_type": "stream",
     "text": [
      "Hello\n",
      "Hello\n",
      "Hello\n",
      "Hello\n",
      "Hello\n"
     ]
    },
    {
     "data": {
      "text/plain": [
       "tuple"
      ]
     },
     "execution_count": 8,
     "metadata": {},
     "output_type": "execute_result"
    }
   ],
   "source": [
    "# Print the string \"Hello\" 5 times by iterating i through the assigned Tuple range of 5\n",
    "for i in tuple(range(5)):\n",
    "    print(\"Hello\")\n",
    "type(tuple(range(5)))"
   ]
  },
  {
   "cell_type": "code",
   "execution_count": 9,
   "metadata": {},
   "outputs": [
    {
     "name": "stdout",
     "output_type": "stream",
     "text": [
      "Hello\n",
      "Hello\n",
      "Hello\n",
      "Hello\n",
      "Hello\n"
     ]
    },
    {
     "data": {
      "text/plain": [
       "tuple"
      ]
     },
     "execution_count": 9,
     "metadata": {},
     "output_type": "execute_result"
    }
   ],
   "source": [
    "# Print the string \"Hello\" 5 times by iterating string through the assigned Tuple range of 5\n",
    "for string in tuple(range(5)):\n",
    "    print(\"Hello\")\n",
    "type(tuple(range(5)))"
   ]
  },
  {
   "cell_type": "code",
   "execution_count": 10,
   "metadata": {},
   "outputs": [
    {
     "name": "stdout",
     "output_type": "stream",
     "text": [
      "2\n",
      "4\n",
      "6\n",
      "8\n",
      "10\n"
     ]
    }
   ],
   "source": [
    "#Print odd numbers/elements from the Tuple\n",
    "Tuple=1,2,3,4,5,6,7,8,9,10\n",
    "for i in Tuple:\n",
    "    if i%2==0:\n",
    "        print(i)"
   ]
  },
  {
   "cell_type": "code",
   "execution_count": 11,
   "metadata": {},
   "outputs": [
    {
     "name": "stdout",
     "output_type": "stream",
     "text": [
      "2\n",
      "4\n",
      "6\n",
      "8\n",
      "10\n"
     ]
    }
   ],
   "source": [
    "#Print odd numbers/elements from the Tuple\n",
    "Tuple=1,2,3,4,5,6,7,8,9,10\n",
    "for odd in Tuple:\n",
    "    if odd%2==0:\n",
    "        print(odd)"
   ]
  },
  {
   "cell_type": "markdown",
   "metadata": {},
   "source": [
    "### For Loop iteration through Range"
   ]
  },
  {
   "cell_type": "code",
   "execution_count": 12,
   "metadata": {},
   "outputs": [
    {
     "name": "stdout",
     "output_type": "stream",
     "text": [
      "Hello\n",
      "Hello\n",
      "Hello\n",
      "Hello\n",
      "Hello\n"
     ]
    }
   ],
   "source": [
    "# Print the string \"Hello\" 5 times by iterating i through the assigned range of 0 to 5\n",
    "# 5 is upper bound value\n",
    "for i in range(5):\n",
    "    print(\"Hello\")"
   ]
  },
  {
   "cell_type": "code",
   "execution_count": 13,
   "metadata": {},
   "outputs": [
    {
     "name": "stdout",
     "output_type": "stream",
     "text": [
      "Hello\n",
      "Hello\n",
      "Hello\n",
      "Hello\n",
      "Hello\n"
     ]
    }
   ],
   "source": [
    "# Print the string \"Hello\" 5 times by iterating string through the assigned range of 0 to 5\n",
    "# 5 is upper bound value\n",
    "for string in range(5):\n",
    "    print(\"Hello\")"
   ]
  },
  {
   "cell_type": "code",
   "execution_count": 14,
   "metadata": {},
   "outputs": [
    {
     "name": "stdout",
     "output_type": "stream",
     "text": [
      "Hello 0\n",
      "Hello 1\n",
      "Hello 2\n",
      "Hello 3\n",
      "Hello 4\n"
     ]
    }
   ],
   "source": [
    "# Print the string \"Hello\" 5 times by iterating i through the assigned range of 0 to 5\n",
    "# 5 is upper bound value\n",
    "# Print each iteration value of i along with string \"Hello\"\n",
    "for i in range(5):\n",
    "    print(\"Hello\",i)"
   ]
  },
  {
   "cell_type": "code",
   "execution_count": 15,
   "metadata": {},
   "outputs": [
    {
     "name": "stdout",
     "output_type": "stream",
     "text": [
      "Hello 4\n",
      "Hello 4\n",
      "Hello 4\n",
      "Hello 4\n",
      "Hello 4\n"
     ]
    }
   ],
   "source": [
    "# Print the string \"Hello\" 5 times by iterating number through the assigned range of 0 to 5\n",
    "# 5 is upper bound value\n",
    "# Print each iteration value of number along with string \"Hello\"\n",
    "for number in range(5):\n",
    "    print(\"Hello\",i)"
   ]
  },
  {
   "cell_type": "code",
   "execution_count": 16,
   "metadata": {},
   "outputs": [
    {
     "name": "stdout",
     "output_type": "stream",
     "text": [
      "Hello\n",
      "Hello\n",
      "Hello\n",
      "Hello\n",
      "Hello\n"
     ]
    }
   ],
   "source": [
    "# Print the string \"Hello\" 5 times by iterating i through the assigned range of 5 to 0\n",
    "# 0 is upper bound value\n",
    "# Step=-1\n",
    "for i in range(5,0,-1):\n",
    "    print(\"Hello\")"
   ]
  },
  {
   "cell_type": "code",
   "execution_count": 17,
   "metadata": {},
   "outputs": [
    {
     "name": "stdout",
     "output_type": "stream",
     "text": [
      "Hello 5\n",
      "Hello 4\n",
      "Hello 3\n",
      "Hello 2\n",
      "Hello 1\n"
     ]
    }
   ],
   "source": [
    "# Print the string \"Hello\" 5 times by iterating i through the assigned range of 5 to 0\n",
    "# 0 is upper bound value\n",
    "# Step=-1\n",
    "# Print each iteration value of i along with string \"Hello\"\n",
    "for i in range(5,0,-1):\n",
    "    print(\"Hello\",i)"
   ]
  },
  {
   "cell_type": "code",
   "execution_count": 18,
   "metadata": {},
   "outputs": [
    {
     "name": "stdout",
     "output_type": "stream",
     "text": [
      "Hello\n",
      "Hello\n",
      "Hello\n",
      "Hello\n",
      "Hello\n"
     ]
    }
   ],
   "source": [
    "# First send i in the assigned range of 5\n",
    "# Then assign i=\"hello\"\n",
    "# Then print(i)\n",
    "for i in range(5):\n",
    "    i=\"Hello\"\n",
    "    print(i)"
   ]
  },
  {
   "cell_type": "code",
   "execution_count": 19,
   "metadata": {},
   "outputs": [
    {
     "name": "stdout",
     "output_type": "stream",
     "text": [
      "Welcome 0\n",
      "Welcome 1\n",
      "Welcome 2\n"
     ]
    }
   ],
   "source": [
    "for number in range(3):      #By default it will start from 0, 3 is upper bound value\n",
    "     print(\"Welcome\",number) #Number is counting variable \n",
    "                             #You dont need to create range and convert it to List\n",
    "                             #Print each iteration value of number along with string \"Welcome\""
   ]
  },
  {
   "cell_type": "code",
   "execution_count": 20,
   "metadata": {},
   "outputs": [
    {
     "name": "stdout",
     "output_type": "stream",
     "text": [
      "Welcome 0\n",
      "Welcome 1\n",
      "Welcome 2\n"
     ]
    }
   ],
   "source": [
    "for i in range(3):      #i is counting variable\n",
    "     print(\"Welcome\",i) #By default it will start from 0, 3 is upper bound value\n",
    "                        #You dont need to create range and convert it to List\n",
    "                        #Print each iteration value of i along with string \"Welcome\""
   ]
  },
  {
   "cell_type": "code",
   "execution_count": 21,
   "metadata": {},
   "outputs": [
    {
     "name": "stdout",
     "output_type": "stream",
     "text": [
      "Welcome 1\n",
      "Welcome 2\n",
      "Welcome 3\n",
      "Welcome 4\n",
      "Welcome 5\n",
      "Welcome 6\n",
      "Welcome 7\n",
      "Welcome 8\n",
      "Welcome 9\n",
      "Welcome 10\n"
     ]
    }
   ],
   "source": [
    "for number in range(0, 10):   #Start from 0, 10 is upper bound value\n",
    "    print(\"Welcome\",number+1) #You dont need to create range and convert it to List\n",
    "                              #number is counting variable\n",
    "                              # Print the increased value of i by 1 at each iteration along with string \"Welcome\""
   ]
  },
  {
   "cell_type": "code",
   "execution_count": 22,
   "metadata": {},
   "outputs": [
    {
     "name": "stdout",
     "output_type": "stream",
     "text": [
      "Welcome 1\n",
      "Welcome 2\n",
      "Welcome 3\n",
      "Welcome 4\n",
      "Welcome 5\n",
      "Welcome 6\n",
      "Welcome 7\n",
      "Welcome 8\n",
      "Welcome 9\n",
      "Welcome 10\n"
     ]
    }
   ],
   "source": [
    "for number in range(1, 11): #Start from 0, 11 is upper bound value\n",
    "    print(\"Welcome\",number)"
   ]
  },
  {
   "cell_type": "code",
   "execution_count": 23,
   "metadata": {},
   "outputs": [
    {
     "name": "stdout",
     "output_type": "stream",
     "text": [
      "Welcome 1\n",
      "Welcome 2\n",
      "Welcome 3\n",
      "Welcome 4\n",
      "Welcome 5\n",
      "Welcome 6\n",
      "Welcome 7\n",
      "Welcome 8\n",
      "Welcome 9\n",
      "Welcome 10\n"
     ]
    }
   ],
   "source": [
    "for i in range(0, 10):   #Start from 0, 10 is upper bound value\n",
    "    print(\"Welcome\",i+1) #i is counting variable\n",
    "                         # Print the increased value of i by 1 at each iteration along with string \"Welcome\""
   ]
  },
  {
   "cell_type": "code",
   "execution_count": 24,
   "metadata": {},
   "outputs": [
    {
     "name": "stdout",
     "output_type": "stream",
     "text": [
      "Welcome 1\n",
      "Welcome 2\n",
      "Welcome 3\n",
      "Welcome 4\n",
      "Welcome 5\n",
      "Welcome 6\n",
      "Welcome 7\n",
      "Welcome 8\n",
      "Welcome 9\n",
      "Welcome 10\n"
     ]
    }
   ],
   "source": [
    "for i in range(1, 11): #Start from 1, 11 is upper bound value\n",
    "    print(\"Welcome\",i) #i is counting variable"
   ]
  },
  {
   "cell_type": "code",
   "execution_count": 25,
   "metadata": {},
   "outputs": [
    {
     "name": "stdout",
     "output_type": "stream",
     "text": [
      "Welcome 0\n",
      "Welcome 1\n",
      "Welcome 2\n"
     ]
    }
   ],
   "source": [
    "#Remember upper bound in my yesterdays lecture\n",
    "for number in range(0,3):\n",
    "    print(\"Welcome\",number)"
   ]
  },
  {
   "cell_type": "code",
   "execution_count": 26,
   "metadata": {},
   "outputs": [
    {
     "name": "stdout",
     "output_type": "stream",
     "text": [
      "Welcome 0\n",
      "Welcome 1\n",
      "Welcome 2\n"
     ]
    }
   ],
   "source": [
    "#Remember upper bound in my yesterdays lecture\n",
    "for number in range(0,3):\n",
    "    print(\"Welcome\",+number)"
   ]
  },
  {
   "cell_type": "code",
   "execution_count": 27,
   "metadata": {},
   "outputs": [
    {
     "name": "stdout",
     "output_type": "stream",
     "text": [
      "1\n",
      "2\n",
      "3\n",
      "4\n",
      "5\n",
      "6\n",
      "7\n",
      "8\n",
      "9\n",
      "10\n"
     ]
    }
   ],
   "source": [
    "start = 1 #Start from 1\n",
    "stop = 11 #Upper bound\n",
    "step = 1  #step/interval=1\n",
    "for i in range(start,stop,step):\n",
    "    print(i)"
   ]
  },
  {
   "cell_type": "code",
   "execution_count": 28,
   "metadata": {},
   "outputs": [
    {
     "name": "stdout",
     "output_type": "stream",
     "text": [
      "-1\n",
      "-2\n",
      "-3\n",
      "-4\n",
      "-5\n",
      "-6\n",
      "-7\n",
      "-8\n",
      "-9\n",
      "-10\n"
     ]
    }
   ],
   "source": [
    "start = 1 #Start from 1\n",
    "stop = 11 #Upper bound\n",
    "step = 1  #step/interval=1\n",
    "for i in range(start,stop,step):\n",
    "    print(-i) # Print each iteration value of i in negative integer"
   ]
  },
  {
   "cell_type": "code",
   "execution_count": 29,
   "metadata": {},
   "outputs": [
    {
     "name": "stdout",
     "output_type": "stream",
     "text": [
      "-10\n",
      "-9\n",
      "-8\n",
      "-7\n",
      "-6\n",
      "-5\n",
      "-4\n",
      "-3\n",
      "-2\n",
      "-1\n"
     ]
    }
   ],
   "source": [
    "start = -10 #Start from -10\n",
    "stop = 0 #Upper bound\n",
    "step = 1  #step/interval=1\n",
    "for i in range(start,stop,step):\n",
    "    print(i) # Print each iteration value of i"
   ]
  },
  {
   "cell_type": "code",
   "execution_count": 30,
   "metadata": {},
   "outputs": [
    {
     "name": "stdout",
     "output_type": "stream",
     "text": [
      "6\n",
      "7\n",
      "8\n",
      "9\n",
      "10\n",
      "11\n",
      "12\n",
      "13\n",
      "14\n",
      "15\n"
     ]
    }
   ],
   "source": [
    "#Increase each element by 5\n",
    "#Print the increased value of i by 5 at each iteration\n",
    "start = 1\n",
    "stop = 11\n",
    "for i in range(start,stop):\n",
    "    print(i+5)"
   ]
  },
  {
   "cell_type": "code",
   "execution_count": 31,
   "metadata": {},
   "outputs": [
    {
     "name": "stdout",
     "output_type": "stream",
     "text": [
      "6\n",
      "7\n",
      "8\n",
      "9\n",
      "10\n",
      "11\n",
      "12\n",
      "13\n",
      "14\n",
      "15\n"
     ]
    }
   ],
   "source": [
    "#Increase each element by 5\n",
    "#Print the increased value of i by 5 at each iteration\n",
    "start = 1\n",
    "stop = 11\n",
    "for i in range(start,stop):\n",
    "    i=i+5 #keep increasing the value of i by 5 at each iteration step\n",
    "    print(i)"
   ]
  },
  {
   "cell_type": "code",
   "execution_count": 32,
   "metadata": {},
   "outputs": [
    {
     "name": "stdout",
     "output_type": "stream",
     "text": [
      "6\n",
      "7\n",
      "8\n",
      "9\n",
      "10\n",
      "11\n",
      "12\n",
      "13\n",
      "14\n",
      "15\n"
     ]
    }
   ],
   "source": [
    "#Increase each element by 5\n",
    "#Print the increased value of i by 5 at each iteration\n",
    "start = 1\n",
    "stop = 11\n",
    "for i in range(start,stop):\n",
    "    i+=5 #keep increasing the value of i by 5 at each iteration step\n",
    "    print(i)"
   ]
  },
  {
   "cell_type": "code",
   "execution_count": 33,
   "metadata": {},
   "outputs": [
    {
     "name": "stdout",
     "output_type": "stream",
     "text": [
      "2\n",
      "4\n",
      "6\n",
      "8\n",
      "10\n",
      "12\n",
      "14\n",
      "16\n",
      "18\n",
      "20\n"
     ]
    }
   ],
   "source": [
    "# Print each iteration value of i multiplied by 2\n",
    "# Write the table of 2 upto integer 10\n",
    "counter = 0\n",
    "for num in range(1,11): #Start from 1 & 11 is upper bound value\n",
    "        counter=counter+1\n",
    "        num=num+counter\n",
    "        print(num)"
   ]
  },
  {
   "cell_type": "code",
   "execution_count": 34,
   "metadata": {},
   "outputs": [
    {
     "name": "stdout",
     "output_type": "stream",
     "text": [
      "2\n",
      "4\n",
      "6\n",
      "8\n",
      "10\n",
      "12\n",
      "14\n",
      "16\n",
      "18\n",
      "20\n"
     ]
    }
   ],
   "source": [
    "# Print each iteration value of i multiplied by 2\n",
    "# Write the table of 2 upto integer 10\n",
    "for num in range(1,11): #Start from 1 & 11 is upper bound value\n",
    "        num=num*2\n",
    "        print(num)"
   ]
  },
  {
   "cell_type": "code",
   "execution_count": 35,
   "metadata": {},
   "outputs": [
    {
     "name": "stdout",
     "output_type": "stream",
     "text": [
      "2\n",
      "4\n",
      "6\n",
      "8\n",
      "10\n",
      "12\n",
      "14\n",
      "16\n",
      "18\n",
      "20\n"
     ]
    }
   ],
   "source": [
    "# Print each iteration value of i multiplied by 4\n",
    "# Write the table of 4 upto integer 10\n",
    "count=0\n",
    "for num in range(1,11): #Start from 1 & 11 is upper bound value\n",
    "        count+=number\n",
    "        print(count)"
   ]
  },
  {
   "cell_type": "markdown",
   "metadata": {},
   "source": [
    "### Nested For Loop"
   ]
  },
  {
   "cell_type": "code",
   "execution_count": 36,
   "metadata": {},
   "outputs": [
    {
     "name": "stdout",
     "output_type": "stream",
     "text": [
      "00\n",
      "01\n",
      "02\n",
      "03\n",
      "04\n",
      "10\n",
      "11\n",
      "12\n",
      "13\n",
      "14\n",
      "20\n",
      "21\n",
      "22\n",
      "23\n",
      "24\n",
      "30\n",
      "31\n",
      "32\n",
      "33\n",
      "34\n",
      "40\n",
      "41\n",
      "42\n",
      "43\n",
      "44\n"
     ]
    }
   ],
   "source": [
    "#Nested loops\n",
    "for outer in range(5):      #5*5 = 25 combination output\n",
    "    for inner in range(5):\n",
    "        print(\"{}{}\".format(outer,inner))"
   ]
  },
  {
   "cell_type": "markdown",
   "metadata": {},
   "source": [
    "### Logical For Loop"
   ]
  },
  {
   "cell_type": "code",
   "execution_count": 37,
   "metadata": {},
   "outputs": [
    {
     "name": "stdout",
     "output_type": "stream",
     "text": [
      "2\n",
      "4\n",
      "6\n",
      "8\n",
      "10\n",
      "We have 5 even numbers\n",
      "We have 5 even numbers\n"
     ]
    }
   ],
   "source": [
    "# Accept start value and end upper bound value from user\n",
    "# Print all even numbers from the range\n",
    "# Your output must look like shown\n",
    "counter = 0\n",
    "for num in range(1,11): #Start from 1 & 11 is upper bound value\n",
    "    if num % 2 == 0:\n",
    "        print(num)\n",
    "        counter=counter+1\n",
    "print('We have '+str(counter)+' even numbers')\n",
    "print('We have {} even numbers'.format(counter))"
   ]
  },
  {
   "cell_type": "code",
   "execution_count": 38,
   "metadata": {},
   "outputs": [
    {
     "name": "stdout",
     "output_type": "stream",
     "text": [
      "2\n",
      "4\n",
      "6\n",
      "8\n",
      "10\n",
      "We have 5 even numbers\n",
      "We have 5 even numbers\n"
     ]
    }
   ],
   "source": [
    "# Accept start value and end upper bound value from user\n",
    "# Print all even numbers from the range\n",
    "# Your output must look like shown\n",
    "counter = 0\n",
    "for num in range(1,11): #Start from 1 & 11 is upper bound value\n",
    "    if num % 2 == 0:\n",
    "        print(num)\n",
    "        counter+=1\n",
    "print('We have '+str(counter)+' even numbers')\n",
    "print('We have {} even numbers'.format(counter))"
   ]
  },
  {
   "cell_type": "code",
   "execution_count": 39,
   "metadata": {},
   "outputs": [
    {
     "name": "stdout",
     "output_type": "stream",
     "text": [
      "2\n",
      "4\n",
      "6\n",
      "8\n",
      "10\n",
      "We have 5 even numbers\n",
      "We have 5 even numbers\n"
     ]
    }
   ],
   "source": [
    "# Accept start value and end upper bound value from user\n",
    "# Print all even numbers from the range\n",
    "# Your output must look like shown\n",
    "counter = 0\n",
    "for num in range(1,11,1): #Start from 1 & 11 is upper bound value, step/interval=1\n",
    "    if num % 2 == 0:\n",
    "        print(num)\n",
    "        counter=counter+1\n",
    "print('We have '+str(counter)+' even numbers')\n",
    "print('We have {} even numbers'.format(counter))"
   ]
  },
  {
   "cell_type": "code",
   "execution_count": 40,
   "metadata": {},
   "outputs": [
    {
     "name": "stdout",
     "output_type": "stream",
     "text": [
      "2\n",
      "4\n",
      "6\n",
      "8\n",
      "10\n",
      "We have 5 even numbers\n",
      "We have 5 even numbers\n"
     ]
    }
   ],
   "source": [
    "# Accept start value and end upper bound value from user\n",
    "# Print all even numbers from the range\n",
    "# Your output must look like shown\n",
    "counter = 0\n",
    "for num in range(1,11,1): #Start from 1 & 11 is upper bound value, step/interval=1\n",
    "    if num % 2 == 0:\n",
    "        print(num)\n",
    "        counter+=1\n",
    "print('We have '+str(counter)+' even numbers')\n",
    "print('We have {} even numbers'.format(counter))"
   ]
  },
  {
   "cell_type": "markdown",
   "metadata": {},
   "source": [
    "### User Input (typecasting) in Logical For Loop"
   ]
  },
  {
   "cell_type": "code",
   "execution_count": 41,
   "metadata": {},
   "outputs": [
    {
     "name": "stdout",
     "output_type": "stream",
     "text": [
      "Enter start value:78\n",
      "Enter end value:89\n",
      "78\n",
      "80\n",
      "82\n",
      "84\n",
      "86\n",
      "88\n",
      "We have 6 even numbers\n"
     ]
    }
   ],
   "source": [
    "#Accept the range from user and display even numbers. Your output must look like shown\n",
    "# eg 1 - 10\n",
    "# Enter start range : 1\n",
    "# Enter end range : 10\n",
    "start = int(input(\"Enter start value:\"))\n",
    "end = int(input(\"Enter end value:\"))\n",
    "counter = 0\n",
    "for num in range(start,end+1):\n",
    "    if num % 2 == 0:\n",
    "        print(num)\n",
    "        counter += 1\n",
    "print(\"We have \"+str(counter)+\" even numbers\")\n",
    "\n",
    "#Output:\n",
    "# 2\n",
    "# 4\n",
    "# 6\n",
    "# 8\n",
    "# 10\n",
    "# We have 5 even numbers"
   ]
  },
  {
   "cell_type": "code",
   "execution_count": 42,
   "metadata": {},
   "outputs": [
    {
     "name": "stdout",
     "output_type": "stream",
     "text": [
      "Enter start value:88\n",
      "Enter end value:90\n",
      "88\n",
      "90\n",
      "We have 2 even numbers\n"
     ]
    }
   ],
   "source": [
    "# Accept the range from user and display even numbers. Your output must look like shown\n",
    "# eg 1 - 10\n",
    "# Enter start range : 1\n",
    "# Enter end range : 10\n",
    "start = eval(input(\"Enter start value:\"))\n",
    "end = eval(input(\"Enter end value:\"))\n",
    "counter = 0\n",
    "for num in range(start,end+1):\n",
    "    if num % 2 == 0:\n",
    "        print(num)\n",
    "        counter = counter+1\n",
    "print(\"We have \"+str(counter)+\" even numbers\")\n",
    "\n",
    "#Output:\n",
    "# 2\n",
    "# 4\n",
    "# 6\n",
    "# 8\n",
    "# 10\n",
    "# We have 5 even numbers"
   ]
  },
  {
   "cell_type": "code",
   "execution_count": 43,
   "metadata": {},
   "outputs": [
    {
     "name": "stdout",
     "output_type": "stream",
     "text": [
      "Enter start value:56\n",
      "Enter end value:98\n",
      "56\n",
      "58\n",
      "60\n",
      "62\n",
      "64\n",
      "66\n",
      "68\n",
      "70\n",
      "72\n",
      "74\n",
      "76\n",
      "78\n",
      "80\n",
      "82\n",
      "84\n",
      "86\n",
      "88\n",
      "90\n",
      "92\n",
      "94\n",
      "96\n",
      "98\n",
      "We have 22 even numbers\n",
      "We have 22 even numbers\n"
     ]
    }
   ],
   "source": [
    "start = int(input(\"Enter start value:\"))\n",
    "end = int(input(\"Enter end value:\"))\n",
    "#Option1 -- Use counter variable\n",
    "#Option2 -- Use list to store output and get the length of list\n",
    "count = 0\n",
    "result=[]\n",
    "for i in range(start,end+1):\n",
    "    if i % 2 == 0:\n",
    "        print(i)\n",
    "        count = count + 1\n",
    "        result.append(i)\n",
    "\n",
    "print(\"We have {} even numbers\".format(count))\n",
    "print(\"We have {} even numbers\".format(len(result)))"
   ]
  },
  {
   "cell_type": "code",
   "execution_count": 44,
   "metadata": {},
   "outputs": [
    {
     "name": "stdout",
     "output_type": "stream",
     "text": [
      "Enter start value:67\n",
      "Enter end value:99\n",
      "68\n",
      "70\n",
      "72\n",
      "74\n",
      "76\n",
      "78\n",
      "80\n",
      "82\n",
      "84\n",
      "86\n",
      "88\n",
      "90\n",
      "92\n",
      "94\n",
      "96\n",
      "98\n",
      "We have 16 even numbers\n"
     ]
    }
   ],
   "source": [
    "start = int(input(\"Enter start value:\"))\n",
    "end = int(input(\"Enter end value:\"))\n",
    "#Option2 -- Use list to store output and get the length of list\n",
    "result=[]\n",
    "for i in range(start,end+1):\n",
    "    if i % 2 == 0:\n",
    "        print(i)\n",
    "        result.append(i)\n",
    "print(\"We have {} even numbers\".format(len(result)))"
   ]
  },
  {
   "cell_type": "markdown",
   "metadata": {},
   "source": [
    "### List Comprehension"
   ]
  },
  {
   "cell_type": "code",
   "execution_count": 45,
   "metadata": {},
   "outputs": [
    {
     "name": "stdout",
     "output_type": "stream",
     "text": [
      "1\n",
      "2\n",
      "3\n",
      "4\n",
      "[1, 4, 9, 16]\n"
     ]
    },
    {
     "data": {
      "text/plain": [
       "[1, 4, 9, 16]"
      ]
     },
     "execution_count": 45,
     "metadata": {},
     "output_type": "execute_result"
    }
   ],
   "source": [
    "#List Comprehension\n",
    "# I want 'n**2' for each 'n' in IntList\n",
    "IntList = [1,2,3,4]\n",
    "IntSqreList = [] #It is a blank List\n",
    "for j in IntList:\n",
    "    IntSqreList.append(j**2)\n",
    "    print(j)       #Shows the Elements in IntList\n",
    "print(IntSqreList) #Shows the appended format of IntSqreList\n",
    "\n",
    "[item**2 for item in IntList] #One Liner List Comprehension"
   ]
  },
  {
   "cell_type": "code",
   "execution_count": 46,
   "metadata": {},
   "outputs": [
    {
     "name": "stdout",
     "output_type": "stream",
     "text": [
      "[1, 4, 9, 16]\n"
     ]
    }
   ],
   "source": [
    "# Using a map + lambda\n",
    "IntSqreList=map(lambda item: item*item, IntList)\n",
    "print(list(IntSqreList))"
   ]
  },
  {
   "cell_type": "code",
   "execution_count": 47,
   "metadata": {},
   "outputs": [
    {
     "name": "stdout",
     "output_type": "stream",
     "text": [
      "[2]\n",
      "[4]\n"
     ]
    },
    {
     "data": {
      "text/plain": [
       "[2, 4]"
      ]
     },
     "execution_count": 47,
     "metadata": {},
     "output_type": "execute_result"
    }
   ],
   "source": [
    "# I want 'n' for each 'n' in IntList if 'n' is even\n",
    "for even in IntList:\n",
    "    if even%2==0:\n",
    "        EvenList=[]\n",
    "        EvenList.append(even)\n",
    "        print(EvenList) #Shows the appended format of EvenList\n",
    "[even for even in IntList if even%2==0] #One Liner List Comprehension"
   ]
  },
  {
   "cell_type": "code",
   "execution_count": 48,
   "metadata": {},
   "outputs": [
    {
     "name": "stdout",
     "output_type": "stream",
     "text": [
      "[2, 4]\n"
     ]
    }
   ],
   "source": [
    "# Using a filter + lambda\n",
    "EvenList=filter(lambda even: even%2==0, IntList)\n",
    "print(list((EvenList)))"
   ]
  },
  {
   "cell_type": "markdown",
   "metadata": {},
   "source": [
    "### Dictionary Comprehensions"
   ]
  },
  {
   "cell_type": "code",
   "execution_count": 49,
   "metadata": {},
   "outputs": [
    {
     "name": "stdout",
     "output_type": "stream",
     "text": [
      "[('Bruce', 'Batman'), ('Clark', 'Superman'), ('Peter', 'Spiderman'), ('Logan', 'Wolverine'), ('Wade', 'Deadpool')]\n"
     ]
    }
   ],
   "source": [
    "# Dictionary Comprehensions\n",
    "Names=[\"Bruce\",\"Clark\",\"Peter\",\"Logan\",\"Wade\"]\n",
    "Heros=[\"Batman\",\"Superman\",\"Spiderman\",\"Wolverine\",\"Deadpool\"]\n",
    "print(list(zip(Names,Heros)))"
   ]
  },
  {
   "cell_type": "code",
   "execution_count": 50,
   "metadata": {},
   "outputs": [
    {
     "name": "stdout",
     "output_type": "stream",
     "text": [
      "{'Bruce': 'Batman', 'Clark': 'Superman', 'Peter': 'Spiderman', 'Logan': 'Wolverine', 'Wade': 'Deadpool'}\n"
     ]
    },
    {
     "data": {
      "text/plain": [
       "{'Bruce': 'Batman',\n",
       " 'Clark': 'Superman',\n",
       " 'Peter': 'Spiderman',\n",
       " 'Logan': 'Wolverine',\n",
       " 'Wade': 'Deadpool'}"
      ]
     },
     "execution_count": 50,
     "metadata": {},
     "output_type": "execute_result"
    }
   ],
   "source": [
    "# I want a dict{'Name': 'Hero'} for each Name,Hero in zip(Names, Heros)\n",
    "My_Dict={}\n",
    "for Name,Hero in zip(Names,Heros):\n",
    "    My_Dict[Name]=Hero\n",
    "print(My_Dict)\n",
    "{Name:Hero for Name,Hero in zip(Names,Heros)} #One Liner Dictionary Comprehension"
   ]
  },
  {
   "cell_type": "code",
   "execution_count": 51,
   "metadata": {},
   "outputs": [
    {
     "data": {
      "text/plain": [
       "{'Bruce': 'Batman',\n",
       " 'Clark': 'Superman',\n",
       " 'Peter': 'Spiderman',\n",
       " 'Logan': 'Wolverine',\n",
       " 'Wade': 'Deadpool'}"
      ]
     },
     "execution_count": 51,
     "metadata": {},
     "output_type": "execute_result"
    }
   ],
   "source": [
    "My_Dict={Name:Hero for Name,Hero in zip(Names,Heros)} #One Liner Dictionary Comprehension\n",
    "My_Dict"
   ]
  },
  {
   "cell_type": "markdown",
   "metadata": {},
   "source": [
    "### Set Comprehensions"
   ]
  },
  {
   "cell_type": "code",
   "execution_count": 52,
   "metadata": {},
   "outputs": [
    {
     "name": "stdout",
     "output_type": "stream",
     "text": [
      "{1, 2, 3, 4, 5, 6, 7, 8, 9}\n"
     ]
    },
    {
     "data": {
      "text/plain": [
       "{1, 2, 3, 4, 5, 6, 7, 8, 9}"
      ]
     },
     "execution_count": 52,
     "metadata": {},
     "output_type": "execute_result"
    }
   ],
   "source": [
    "# Set Comprehensions\n",
    "# It's like converting the IntList into set() named as Unique_Set by using for loop\n",
    "IntList = [1,1,2,1,3,4,3,4,5,5,6,7,8,7,9,9]\n",
    "Unique_Set = set()\n",
    "for set in IntList:\n",
    "    Unique_Set.add(set)\n",
    "print(Unique_Set)\n",
    "{set for set in IntList} #One Liner Set Comprehension"
   ]
  },
  {
   "cell_type": "code",
   "execution_count": 54,
   "metadata": {},
   "outputs": [
    {
     "ename": "TypeError",
     "evalue": "'int' object is not callable",
     "output_type": "error",
     "traceback": [
      "\u001b[1;31m---------------------------------------------------------------------------\u001b[0m",
      "\u001b[1;31mTypeError\u001b[0m                                 Traceback (most recent call last)",
      "\u001b[1;32m<ipython-input-54-c0a82c4cc2cc>\u001b[0m in \u001b[0;36m<module>\u001b[1;34m\u001b[0m\n\u001b[0;32m      1\u001b[0m \u001b[1;31m# converting the IntList into set() & named as Unique_Set\u001b[0m\u001b[1;33m\u001b[0m\u001b[1;33m\u001b[0m\u001b[1;33m\u001b[0m\u001b[0m\n\u001b[0;32m      2\u001b[0m \u001b[0mIntList\u001b[0m \u001b[1;33m=\u001b[0m \u001b[1;33m[\u001b[0m\u001b[1;36m1\u001b[0m\u001b[1;33m,\u001b[0m\u001b[1;36m1\u001b[0m\u001b[1;33m,\u001b[0m\u001b[1;36m2\u001b[0m\u001b[1;33m,\u001b[0m\u001b[1;36m1\u001b[0m\u001b[1;33m,\u001b[0m\u001b[1;36m3\u001b[0m\u001b[1;33m,\u001b[0m\u001b[1;36m4\u001b[0m\u001b[1;33m,\u001b[0m\u001b[1;36m3\u001b[0m\u001b[1;33m,\u001b[0m\u001b[1;36m4\u001b[0m\u001b[1;33m,\u001b[0m\u001b[1;36m5\u001b[0m\u001b[1;33m,\u001b[0m\u001b[1;36m5\u001b[0m\u001b[1;33m,\u001b[0m\u001b[1;36m6\u001b[0m\u001b[1;33m,\u001b[0m\u001b[1;36m7\u001b[0m\u001b[1;33m,\u001b[0m\u001b[1;36m8\u001b[0m\u001b[1;33m,\u001b[0m\u001b[1;36m7\u001b[0m\u001b[1;33m,\u001b[0m\u001b[1;36m9\u001b[0m\u001b[1;33m,\u001b[0m\u001b[1;36m9\u001b[0m\u001b[1;33m]\u001b[0m\u001b[1;33m\u001b[0m\u001b[1;33m\u001b[0m\u001b[0m\n\u001b[1;32m----> 3\u001b[1;33m \u001b[0mUnique_Set\u001b[0m \u001b[1;33m=\u001b[0m \u001b[0mset\u001b[0m\u001b[1;33m(\u001b[0m\u001b[0mIntList\u001b[0m\u001b[1;33m)\u001b[0m\u001b[1;33m\u001b[0m\u001b[1;33m\u001b[0m\u001b[0m\n\u001b[0m\u001b[0;32m      4\u001b[0m \u001b[0mUnique_Set\u001b[0m\u001b[1;33m\u001b[0m\u001b[1;33m\u001b[0m\u001b[0m\n",
      "\u001b[1;31mTypeError\u001b[0m: 'int' object is not callable"
     ]
    }
   ],
   "source": [
    "# converting the IntList into set() & named as Unique_Set\n",
    "IntList = [1,1,2,1,3,4,3,4,5,5,6,7,8,7,9,9]\n",
    "Unique_Set = set(IntList)\n",
    "Unique_Set"
   ]
  },
  {
   "cell_type": "markdown",
   "metadata": {},
   "source": [
    "### Accessing elements and their index values from a List/Tuple"
   ]
  },
  {
   "cell_type": "code",
   "execution_count": 55,
   "metadata": {},
   "outputs": [],
   "source": [
    "# Accessing elements and their index values from a List/Tuple\n",
    "Tuple=\"KESHAV\",45+9j,True,39.69,39\n",
    "List=[\"KESHAV\",45+9j,True,39.69,39]"
   ]
  },
  {
   "cell_type": "code",
   "execution_count": 56,
   "metadata": {},
   "outputs": [
    {
     "name": "stdout",
     "output_type": "stream",
     "text": [
      "Original list is: ['KESHAV', (45+9j), True, 39.69, 39]\n",
      "Original tuple is: ('KESHAV', (45+9j), True, 39.69, 39)\n"
     ]
    }
   ],
   "source": [
    "print(\"Original list is: \"+str(List))\n",
    "print(\"Original tuple is: \"+str(Tuple))"
   ]
  },
  {
   "cell_type": "code",
   "execution_count": 57,
   "metadata": {},
   "outputs": [
    {
     "name": "stdout",
     "output_type": "stream",
     "text": [
      "List index-values are:\n",
      "0 KESHAV\n",
      "1 (45+9j)\n",
      "2 True\n",
      "3 39.69\n",
      "4 39\n"
     ]
    }
   ],
   "source": [
    "print(\"List index-values are:\")\n",
    "for i in range(len(List)): # length value of the List has been transformed into range\n",
    "    print(i,List[i])    # i has been passed through the range and then through the list"
   ]
  },
  {
   "cell_type": "code",
   "execution_count": 58,
   "metadata": {},
   "outputs": [
    {
     "name": "stdout",
     "output_type": "stream",
     "text": [
      "List index-values are:\n",
      "[[0, 'KESHAV'], [1, (45+9j)], [2, True], [3, 39.69], [4, 39]]\n"
     ]
    }
   ],
   "source": [
    "print(\"List index-values are:\")\n",
    "print([list((i,List[i])) for i in range(len(List))])"
   ]
  },
  {
   "cell_type": "code",
   "execution_count": 59,
   "metadata": {},
   "outputs": [
    {
     "name": "stdout",
     "output_type": "stream",
     "text": [
      "List index-value are:\n",
      "0 KESHAV\n",
      "1 (45+9j)\n",
      "2 True\n",
      "3 39.69\n",
      "4 39\n"
     ]
    }
   ],
   "source": [
    "print(\"List index-value are:\")\n",
    "for index, value in enumerate(List): #by using enumerate\n",
    "    print(index,value)"
   ]
  },
  {
   "cell_type": "code",
   "execution_count": 60,
   "metadata": {},
   "outputs": [
    {
     "name": "stdout",
     "output_type": "stream",
     "text": [
      "List index-value are:\n",
      "0 KESHAV\n",
      "1 (45+9j)\n",
      "2 True\n",
      "3 39.69\n",
      "4 39\n"
     ]
    }
   ],
   "source": [
    "print(\"List index-value are:\")\n",
    "for index, value in zip(range(len(List)),List): #by using zip\n",
    "    print(index,value)"
   ]
  },
  {
   "cell_type": "code",
   "execution_count": 61,
   "metadata": {},
   "outputs": [
    {
     "name": "stdout",
     "output_type": "stream",
     "text": [
      "Tuple index-values are:\n",
      "0 KESHAV\n",
      "1 (45+9j)\n",
      "2 True\n",
      "3 39.69\n",
      "4 39\n"
     ]
    }
   ],
   "source": [
    "print(\"Tuple index-values are:\")\n",
    "for i in range(len(Tuple)): # length value of the tuple has been transformed into range\n",
    "    print(i,Tuple[i])    # i has been passed through the range & then through the list"
   ]
  },
  {
   "cell_type": "code",
   "execution_count": 62,
   "metadata": {},
   "outputs": [
    {
     "name": "stdout",
     "output_type": "stream",
     "text": [
      "Tuple index-values are:\n",
      "[(0, 'KESHAV'), (1, (45+9j)), (2, True), (3, 39.69), (4, 39)]\n"
     ]
    }
   ],
   "source": [
    "print(\"Tuple index-values are:\")\n",
    "print([tuple((i,Tuple[i])) for i in range(len(Tuple))])"
   ]
  },
  {
   "cell_type": "code",
   "execution_count": 63,
   "metadata": {},
   "outputs": [
    {
     "name": "stdout",
     "output_type": "stream",
     "text": [
      "Tuple index-value are:\n",
      "0 KESHAV\n",
      "1 (45+9j)\n",
      "2 True\n",
      "3 39.69\n",
      "4 39\n"
     ]
    }
   ],
   "source": [
    "print(\"Tuple index-value are:\")\n",
    "for index, value in enumerate(Tuple): #by using enumerate\n",
    "    print(index, value)"
   ]
  },
  {
   "cell_type": "code",
   "execution_count": 64,
   "metadata": {},
   "outputs": [
    {
     "name": "stdout",
     "output_type": "stream",
     "text": [
      "Tuple index-value are:\n",
      "0 KESHAV\n",
      "1 (45+9j)\n",
      "2 True\n",
      "3 39.69\n",
      "4 39\n"
     ]
    }
   ],
   "source": [
    "print(\"Tuple index-value are:\")\n",
    "for index, value in zip(range(len(Tuple)),Tuple): #by using zip\n",
    "    print(index,value)"
   ]
  },
  {
   "cell_type": "markdown",
   "metadata": {},
   "source": [
    "## While Loop"
   ]
  },
  {
   "cell_type": "code",
   "execution_count": 65,
   "metadata": {},
   "outputs": [],
   "source": [
    "#Take a counting variable\n",
    "##Steps\n",
    " #initialization\n",
    " #Condition\n",
    " #increment/decrement"
   ]
  },
  {
   "cell_type": "code",
   "execution_count": 66,
   "metadata": {},
   "outputs": [
    {
     "name": "stdout",
     "output_type": "stream",
     "text": [
      "Telusko Rocks Rocks Rocks Rocks Rocks \n",
      "Telusko Rocks Rocks Rocks Rocks Rocks \n",
      "Telusko Rocks Rocks Rocks Rocks Rocks \n",
      "Telusko Rocks Rocks Rocks Rocks Rocks \n",
      "Telusko Rocks Rocks Rocks Rocks Rocks \n",
      "Telusko Rocks Rocks Rocks Rocks Rocks \n"
     ]
    }
   ],
   "source": [
    "i=0\n",
    "while i<=5:\n",
    "    print(\"Telusko \",end=\"\")\n",
    "    j=0\n",
    "    while j<=4:\n",
    "        print(\"Rocks \",end=\"\")\n",
    "        j=j+1\n",
    "    i=i+1\n",
    "    print()"
   ]
  },
  {
   "cell_type": "markdown",
   "metadata": {},
   "source": [
    "## For Loop"
   ]
  },
  {
   "cell_type": "code",
   "execution_count": 67,
   "metadata": {},
   "outputs": [
    {
     "name": "stdout",
     "output_type": "stream",
     "text": [
      "KESHAV\n",
      "(45+9j)\n",
      "True\n",
      "39.69\n",
      "39\n"
     ]
    }
   ],
   "source": [
    "#For Loop works with sequences/Range\n",
    "#Print the elements of a Tuple by using for loop\n",
    "Tuple=\"KESHAV\",45+9j,True,39.69,39\n",
    "for i in Tuple:\n",
    "    print(i)"
   ]
  },
  {
   "cell_type": "code",
   "execution_count": 68,
   "metadata": {},
   "outputs": [
    {
     "name": "stdout",
     "output_type": "stream",
     "text": [
      "KESHAV\n",
      "(45+9j)\n",
      "True\n",
      "39.69\n",
      "39\n"
     ]
    }
   ],
   "source": [
    "for i in \"KESHAV\",45+9j,True,39.69,39:\n",
    "    print(i)"
   ]
  },
  {
   "cell_type": "code",
   "execution_count": 69,
   "metadata": {},
   "outputs": [
    {
     "name": "stdout",
     "output_type": "stream",
     "text": [
      "N\n",
      "A\n",
      "V\n",
      "I\n",
      "N\n"
     ]
    }
   ],
   "source": [
    "for i in \"NAVIN\":\n",
    "    print(i)"
   ]
  },
  {
   "cell_type": "code",
   "execution_count": 70,
   "metadata": {},
   "outputs": [
    {
     "name": "stdout",
     "output_type": "stream",
     "text": [
      "0\n",
      "1\n",
      "2\n",
      "3\n",
      "4\n",
      "5\n",
      "6\n",
      "7\n",
      "8\n",
      "9\n"
     ]
    }
   ],
   "source": [
    "for i in range(10):\n",
    "    print(i)"
   ]
  },
  {
   "cell_type": "code",
   "execution_count": 71,
   "metadata": {},
   "outputs": [
    {
     "name": "stdout",
     "output_type": "stream",
     "text": [
      "10\n",
      "11\n",
      "12\n",
      "13\n",
      "14\n",
      "15\n",
      "16\n",
      "17\n",
      "18\n",
      "19\n",
      "20\n"
     ]
    }
   ],
   "source": [
    "for i in range(10,21): #In python range(1,10) #In R range(1:10)\n",
    "    print(i)"
   ]
  },
  {
   "cell_type": "code",
   "execution_count": 72,
   "metadata": {},
   "outputs": [
    {
     "name": "stdout",
     "output_type": "stream",
     "text": [
      "0\n",
      "1\n",
      "2\n",
      "3\n",
      "4\n",
      "5\n",
      "6\n",
      "7\n",
      "8\n",
      "9\n",
      "10\n",
      "11\n",
      "12\n",
      "13\n",
      "14\n",
      "15\n",
      "16\n",
      "17\n",
      "18\n",
      "19\n",
      "20\n"
     ]
    }
   ],
   "source": [
    "for i in range(0,21,1): #Start=0, Stop=21, Step/interval=1\n",
    "    print(i)"
   ]
  },
  {
   "cell_type": "code",
   "execution_count": 73,
   "metadata": {},
   "outputs": [
    {
     "name": "stdout",
     "output_type": "stream",
     "text": [
      "0\n",
      "2\n",
      "4\n",
      "6\n",
      "8\n",
      "10\n",
      "12\n",
      "14\n",
      "16\n",
      "18\n",
      "20\n"
     ]
    }
   ],
   "source": [
    "for i in range(0,21,2): #Start=0, Stop=21, Step/interval=2\n",
    "    print(i)"
   ]
  },
  {
   "cell_type": "code",
   "execution_count": 74,
   "metadata": {},
   "outputs": [
    {
     "name": "stdout",
     "output_type": "stream",
     "text": [
      "0\n",
      "3\n",
      "5\n",
      "6\n",
      "9\n",
      "10\n",
      "12\n",
      "15\n",
      "18\n",
      "20\n",
      "21\n",
      "24\n",
      "25\n",
      "27\n",
      "30\n",
      "33\n",
      "35\n",
      "36\n",
      "39\n",
      "40\n",
      "42\n",
      "45\n",
      "48\n"
     ]
    }
   ],
   "source": [
    "#print the numbers which are divisible by eith 3 or 5 or by both\n",
    "for i in range(0,50):\n",
    "    if i%5==0 or i%3==0:\n",
    "        print(i)"
   ]
  },
  {
   "cell_type": "code",
   "execution_count": 75,
   "metadata": {},
   "outputs": [
    {
     "name": "stdout",
     "output_type": "stream",
     "text": [
      "0\n",
      "15\n",
      "30\n",
      "45\n"
     ]
    }
   ],
   "source": [
    "#print the numbers which are divisible by 15 or multiple of 15\n",
    "for i in range(0,50):\n",
    "    if i%5==0 and i%3==0:\n",
    "        print(i)"
   ]
  },
  {
   "cell_type": "code",
   "execution_count": 76,
   "metadata": {},
   "outputs": [
    {
     "name": "stdout",
     "output_type": "stream",
     "text": [
      "0\n",
      "15\n",
      "30\n",
      "45\n"
     ]
    }
   ],
   "source": [
    "#print the numbers which are divisible by 15 or multiple of 15\n",
    "for i in range(0,50):\n",
    "    if i%15==0:\n",
    "        print(i)"
   ]
  },
  {
   "cell_type": "code",
   "execution_count": 77,
   "metadata": {},
   "outputs": [
    {
     "name": "stdout",
     "output_type": "stream",
     "text": [
      "1\n",
      "2\n",
      "4\n",
      "7\n",
      "8\n",
      "11\n",
      "13\n",
      "14\n",
      "16\n",
      "17\n",
      "19\n",
      "22\n",
      "23\n",
      "26\n",
      "28\n",
      "29\n",
      "31\n",
      "32\n",
      "34\n",
      "37\n",
      "38\n",
      "41\n",
      "43\n",
      "44\n",
      "46\n",
      "47\n",
      "49\n"
     ]
    }
   ],
   "source": [
    "#Do not print the numbers which are divisible by eith 3 or 5 or by both\n",
    "for i in range(0,50):\n",
    "    if i%5!=0 and i%3!=0:\n",
    "        print(i)"
   ]
  }
 ],
 "metadata": {
  "kernelspec": {
   "display_name": "Python 3",
   "language": "python",
   "name": "python3"
  },
  "language_info": {
   "codemirror_mode": {
    "name": "ipython",
    "version": 3
   },
   "file_extension": ".py",
   "mimetype": "text/x-python",
   "name": "python",
   "nbconvert_exporter": "python",
   "pygments_lexer": "ipython3",
   "version": "3.8.8"
  },
  "toc": {
   "base_numbering": 1,
   "nav_menu": {},
   "number_sections": true,
   "sideBar": true,
   "skip_h1_title": false,
   "title_cell": "Table of Contents",
   "title_sidebar": "Contents",
   "toc_cell": true,
   "toc_position": {},
   "toc_section_display": true,
   "toc_window_display": false
  }
 },
 "nbformat": 4,
 "nbformat_minor": 2
}
