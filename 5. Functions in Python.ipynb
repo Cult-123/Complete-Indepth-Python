{
 "cells": [
  {
   "cell_type": "markdown",
   "metadata": {
    "toc": true
   },
   "source": [
    "<h1>Table of Contents<span class=\"tocSkip\"></span></h1>\n",
    "<div class=\"toc\"><ul class=\"toc-item\"><li><span><a href=\"#User-defined-Functions\" data-toc-modified-id=\"User-defined-Functions-1\"><span class=\"toc-item-num\">1&nbsp;&nbsp;</span>User-defined Functions</a></span></li><li><span><a href=\"#Python-&quot;String&quot;-Methods\" data-toc-modified-id=\"Python-&quot;String&quot;-Methods-2\"><span class=\"toc-item-num\">2&nbsp;&nbsp;</span>Python \"String\" Methods</a></span></li></ul></div>"
   ]
  },
  {
   "cell_type": "code",
   "execution_count": 1,
   "metadata": {},
   "outputs": [],
   "source": [
    "#Functions are reusable codes.\n",
    "# There exists two types of functions\n",
    "# 1. Pre-defined Functions/Built in Functions: str(), int(), float(), range(), append(), sort(), bool()\n",
    "# 2. User-defined Functions\n",
    "# 3. Python \"String\" Methods"
   ]
  },
  {
   "cell_type": "markdown",
   "metadata": {},
   "source": [
    "# User-defined Functions"
   ]
  },
  {
   "cell_type": "code",
   "execution_count": 2,
   "metadata": {},
   "outputs": [],
   "source": [
    "#Farenheit to Celcious transform\n",
    "def FtoCtemp(F):\n",
    "    print(\"Celcious =\",((F-32)*5/9))"
   ]
  },
  {
   "cell_type": "code",
   "execution_count": 3,
   "metadata": {},
   "outputs": [
    {
     "name": "stdout",
     "output_type": "stream",
     "text": [
      "Enter the Farenheit Temp 100\n",
      "Celcious = 37.77777777777778\n"
     ]
    }
   ],
   "source": [
    "F=float(input(\"Enter the Farenheit Temp \")) #Take the Farenheit input as float\n",
    "FtoCtemp(F)                                 #Apply the User-defined Function FtoCtemp() on that F value"
   ]
  },
  {
   "cell_type": "code",
   "execution_count": 4,
   "metadata": {},
   "outputs": [],
   "source": [
    "#Farenheit to Celcious transform\n",
    "def FtoCtemp(F):\n",
    "    return \"Celcious =\",(F-32)*5/9"
   ]
  },
  {
   "cell_type": "code",
   "execution_count": 5,
   "metadata": {},
   "outputs": [
    {
     "name": "stdout",
     "output_type": "stream",
     "text": [
      "Enter the Farenheit Temp 100\n"
     ]
    },
    {
     "data": {
      "text/plain": [
       "('Celcious =', 37.77777777777778)"
      ]
     },
     "execution_count": 5,
     "metadata": {},
     "output_type": "execute_result"
    }
   ],
   "source": [
    "F=float(input(\"Enter the Farenheit Temp \"))\n",
    "FtoCtemp(F)"
   ]
  },
  {
   "cell_type": "code",
   "execution_count": 6,
   "metadata": {},
   "outputs": [
    {
     "name": "stdout",
     "output_type": "stream",
     "text": [
      "Enter the Farenheit Temp 100\n",
      "Celcious = 37.77777777777778\n"
     ]
    }
   ],
   "source": [
    "#Farenheit to Celcious transform by using lambda\n",
    "F=float(input(\"Enter the Farenheit Temp \"))\n",
    "FtoCtemp=lambda F:(F-32)*5/9\n",
    "print(\"Celcious =\",FtoCtemp(F))"
   ]
  },
  {
   "cell_type": "code",
   "execution_count": 7,
   "metadata": {},
   "outputs": [],
   "source": [
    "#Celcious to Farenheit transform\n",
    "def CtoFtemp(C):\n",
    "    print(\"Farenheit =\",(C*9/5)+32)"
   ]
  },
  {
   "cell_type": "code",
   "execution_count": 8,
   "metadata": {},
   "outputs": [
    {
     "name": "stdout",
     "output_type": "stream",
     "text": [
      "Enter the Celcious Temp 37.77777777777778\n",
      "Farenheit = 100.0\n"
     ]
    }
   ],
   "source": [
    "C=float(input(\"Enter the Celcious Temp \"))\n",
    "CtoFtemp(C)"
   ]
  },
  {
   "cell_type": "code",
   "execution_count": 9,
   "metadata": {},
   "outputs": [],
   "source": [
    "#Celcious to Farenheit transform\n",
    "def CtoFtemp(C):\n",
    "    return \"Farenheit =\",(C*9/5)+32"
   ]
  },
  {
   "cell_type": "code",
   "execution_count": 10,
   "metadata": {},
   "outputs": [
    {
     "name": "stdout",
     "output_type": "stream",
     "text": [
      "Enter the Celcious Temp 37.77777777777778\n"
     ]
    },
    {
     "data": {
      "text/plain": [
       "('Farenheit =', 100.0)"
      ]
     },
     "execution_count": 10,
     "metadata": {},
     "output_type": "execute_result"
    }
   ],
   "source": [
    "C=float(input(\"Enter the Celcious Temp \"))\n",
    "CtoFtemp(C)"
   ]
  },
  {
   "cell_type": "code",
   "execution_count": 11,
   "metadata": {},
   "outputs": [
    {
     "name": "stdout",
     "output_type": "stream",
     "text": [
      "Enter the Celcious Temp 37.77777777777778\n",
      "Farenheit = 100.0\n"
     ]
    }
   ],
   "source": [
    "#Celcious to Farenheit transform by using lambda\n",
    "C=float(input(\"Enter the Celcious Temp \"))\n",
    "CtoFtemp=lambda C:(C*9/5)+32\n",
    "print(\"Farenheit =\",CtoFtemp(C))"
   ]
  },
  {
   "cell_type": "code",
   "execution_count": 12,
   "metadata": {},
   "outputs": [
    {
     "data": {
      "text/plain": [
       "([1.1111111111111112,\n",
       "  7.222222222222222,\n",
       "  11.666666666666666,\n",
       "  18.88888888888889,\n",
       "  24.444444444444443],\n",
       " [1.1111111111111112,\n",
       "  7.222222222222222,\n",
       "  11.666666666666666,\n",
       "  18.88888888888889,\n",
       "  24.444444444444443],\n",
       " [77.0, 93.2, 107.6, 127.4, 134.6],\n",
       " [77.0, 93.2, 107.6, 127.4, 134.6])"
      ]
     },
     "execution_count": 12,
     "metadata": {},
     "output_type": "execute_result"
    }
   ],
   "source": [
    "# map() function\n",
    "# Apply User-defined Function to multiple values at a time by using map() function\n",
    "\n",
    "Farenheit=34,45,53,66,76 #Collection of Farenheit temperatures, Convert all to Celcious\n",
    "Celcious=25,34,42,53,57  #Collection of Celcious temperatures, Convert all to farenheit\n",
    "list(map(FtoCtemp,Farenheit)),list(map(lambda F:(F-32)*5/9,Farenheit)),list(map(CtoFtemp,Celcious)),list(map(lambda C:(C*9/5)+32,Celcious))"
   ]
  },
  {
   "cell_type": "code",
   "execution_count": 11,
   "metadata": {},
   "outputs": [],
   "source": [
    "def addNumber(num1,num2):\n",
    "    print(\"addition is \",num1+num2)"
   ]
  },
  {
   "cell_type": "code",
   "execution_count": 14,
   "metadata": {},
   "outputs": [
    {
     "name": "stdout",
     "output_type": "stream",
     "text": [
      "addition is  3\n"
     ]
    }
   ],
   "source": [
    "addNumber(1,2)"
   ]
  },
  {
   "cell_type": "code",
   "execution_count": 15,
   "metadata": {},
   "outputs": [
    {
     "data": {
      "text/plain": [
       "21"
      ]
     },
     "execution_count": 15,
     "metadata": {},
     "output_type": "execute_result"
    }
   ],
   "source": [
    "def multiply(num1,num2):\n",
    "    return num1*num2     #Return always gives the value only, no other statements\n",
    "multiply(3,7)"
   ]
  },
  {
   "cell_type": "code",
   "execution_count": 8,
   "metadata": {},
   "outputs": [],
   "source": [
    "def EvenOddIndicator(num1):\n",
    "    '''\n",
    "        Author: Prashant Nair\n",
    "        Usage: evenOddIndicator(num1)\n",
    "        where num1 can be any whole number\n",
    "\n",
    "        Output:\n",
    "        0 - Even\n",
    "        1 - Odd\n",
    "    \n",
    "        Example:\n",
    "        evenOddIndicator(2) return 0 which indicate given number is EVEN\n",
    "    '''\n",
    "    if num1 % 2 == 0:\n",
    "        return 0\n",
    "    else:\n",
    "        return 1"
   ]
  },
  {
   "cell_type": "code",
   "execution_count": 9,
   "metadata": {},
   "outputs": [],
   "source": [
    "?EvenOddIndicator"
   ]
  },
  {
   "cell_type": "code",
   "execution_count": 12,
   "metadata": {},
   "outputs": [
    {
     "name": "stdout",
     "output_type": "stream",
     "text": [
      "addition is  11\n",
      "None\n"
     ]
    }
   ],
   "source": [
    "result = addNumber(9,2)\n",
    "print(result)"
   ]
  },
  {
   "cell_type": "code",
   "execution_count": 19,
   "metadata": {},
   "outputs": [],
   "source": [
    "#Will learn how to write your own functions\n",
    "'''\n",
    "def functionname(parameters):\n",
    "    function body(logic)\n",
    "    \n",
    "A function must perform one of the following:\n",
    "1. Perform a task\n",
    "2. Return a value\n",
    "\n",
    "'''\n",
    "def GreetName(name):\n",
    "    print('Welcome '+name)\n"
   ]
  },
  {
   "cell_type": "code",
   "execution_count": 20,
   "metadata": {},
   "outputs": [
    {
     "name": "stdout",
     "output_type": "stream",
     "text": [
      "Welcome Prashant\n"
     ]
    }
   ],
   "source": [
    "GreetName('Prashant')"
   ]
  },
  {
   "cell_type": "code",
   "execution_count": 21,
   "metadata": {},
   "outputs": [],
   "source": [
    "def GreetName(name):\n",
    "    print('Welcome ',name)"
   ]
  },
  {
   "cell_type": "code",
   "execution_count": 22,
   "metadata": {},
   "outputs": [
    {
     "name": "stdout",
     "output_type": "stream",
     "text": [
      "Welcome  Prashant\n"
     ]
    }
   ],
   "source": [
    "GreetName('Prashant')"
   ]
  },
  {
   "cell_type": "code",
   "execution_count": 23,
   "metadata": {},
   "outputs": [],
   "source": [
    "def AddOne(num):\n",
    "    return num + 1"
   ]
  },
  {
   "cell_type": "code",
   "execution_count": 24,
   "metadata": {},
   "outputs": [
    {
     "data": {
      "text/plain": [
       "30"
      ]
     },
     "execution_count": 24,
     "metadata": {},
     "output_type": "execute_result"
    }
   ],
   "source": [
    "AddOne(29)"
   ]
  },
  {
   "cell_type": "code",
   "execution_count": 25,
   "metadata": {},
   "outputs": [
    {
     "data": {
      "text/plain": [
       "[2, 3, 4, 5, 6]"
      ]
     },
     "execution_count": 25,
     "metadata": {},
     "output_type": "execute_result"
    }
   ],
   "source": [
    "list1 = [1,2,3,4,5]\n",
    "list2 = []\n",
    "for number in list1:\n",
    "    list2.append(AddOne(number))\n",
    "list2"
   ]
  },
  {
   "cell_type": "code",
   "execution_count": 26,
   "metadata": {},
   "outputs": [
    {
     "name": "stdout",
     "output_type": "stream",
     "text": [
      "1\n",
      "3\n",
      "5\n",
      "7\n",
      "9\n"
     ]
    }
   ],
   "source": [
    "#Write a function that can seperate odd numbers from given below list\n",
    "listExample = [1,2,3,4,5,6,7,8,9,10]\n",
    "#Ensure your function name is oddNumbers and ensure function has one parameter\n",
    "# Also ensure function returns booleans\n",
    "# The output must look like this\n",
    "'''\n",
    "1\n",
    "3\n",
    "5\n",
    "7\n",
    "9\n",
    "'''\n",
    "\n",
    "\n",
    "def OddNumbers(num):\n",
    "    if num % 2 != 0:\n",
    "        return True\n",
    "    else:\n",
    "        return False\n",
    "\n",
    "for number in listExample:\n",
    "    if OddNumbers(number):\n",
    "        print(number)\n",
    " \n",
    "\n"
   ]
  },
  {
   "cell_type": "code",
   "execution_count": 27,
   "metadata": {},
   "outputs": [],
   "source": [
    "def OddNumber2(num):\n",
    "    if num % 2 != 0:\n",
    "        return \"Odd\"\n",
    "    else:\n",
    "        return \"Even\""
   ]
  },
  {
   "cell_type": "code",
   "execution_count": 28,
   "metadata": {},
   "outputs": [
    {
     "name": "stdout",
     "output_type": "stream",
     "text": [
      "Odd\n",
      "Even\n",
      "Odd\n",
      "Even\n",
      "Odd\n",
      "Even\n",
      "Odd\n",
      "Even\n",
      "Odd\n",
      "Even\n"
     ]
    }
   ],
   "source": [
    "listExample = [1,2,3,4,5,6,7,8,9,10]\n",
    "for i in listExample:\n",
    "    print(OddNumber2(i))\n",
    "    "
   ]
  },
  {
   "cell_type": "code",
   "execution_count": 29,
   "metadata": {},
   "outputs": [
    {
     "name": "stdout",
     "output_type": "stream",
     "text": [
      "1 Odd\n",
      "2 Even\n",
      "3 Odd\n",
      "4 Even\n",
      "5 Odd\n",
      "6 Even\n",
      "7 Odd\n",
      "8 Even\n",
      "9 Odd\n",
      "10 Even\n"
     ]
    }
   ],
   "source": [
    "#User defined function inside loop\n",
    "listExample = [1,2,3,4,5,6,7,8,9,10]\n",
    "for i in listExample:\n",
    "    print(i,OddNumber2(i))\n",
    "    "
   ]
  },
  {
   "cell_type": "code",
   "execution_count": 30,
   "metadata": {},
   "outputs": [
    {
     "name": "stdout",
     "output_type": "stream",
     "text": [
      "1\n",
      "3\n",
      "5\n",
      "7\n",
      "9\n"
     ]
    }
   ],
   "source": [
    "#To print odd nos\n",
    "listExample = [1,2,3,4,5,6,7,8,9,10]\n",
    "for i in listExample:\n",
    "    if OddNumbers(i):\n",
    "        print(i)"
   ]
  },
  {
   "cell_type": "code",
   "execution_count": 31,
   "metadata": {},
   "outputs": [
    {
     "data": {
      "text/plain": [
       "[34, 76, 56, 88, 100, 22, 50]"
      ]
     },
     "execution_count": 31,
     "metadata": {},
     "output_type": "execute_result"
    }
   ],
   "source": [
    "# filter() function\n",
    "# Apply User-defined Function to multiple values at a time for filtering desired values from them\n",
    "\n",
    "def DetectOddNumber(num):\n",
    "    if num % 2 == 0:\n",
    "        return num\n",
    "Num=34,76,45,75,56,88,99,100,22,50\n",
    "list(filter(DetectOddNumber,Num))"
   ]
  },
  {
   "cell_type": "code",
   "execution_count": 32,
   "metadata": {},
   "outputs": [
    {
     "data": {
      "text/plain": [
       "[34, 76, 56, 88, 100, 22, 50]"
      ]
     },
     "execution_count": 32,
     "metadata": {},
     "output_type": "execute_result"
    }
   ],
   "source": [
    "# filter() function\n",
    "# Apply User-defined Function to multiple values at a time for filtering desired values from them\n",
    "\n",
    "DetectOddNumber=lambda num:num%2==0\n",
    "Num=34,76,45,75,56,88,99,100,22,50\n",
    "list(filter(DetectOddNumber,Num))"
   ]
  },
  {
   "cell_type": "code",
   "execution_count": 33,
   "metadata": {},
   "outputs": [
    {
     "name": "stdout",
     "output_type": "stream",
     "text": [
      "Yes\n"
     ]
    }
   ],
   "source": [
    "if True:\n",
    "    print('Yes')"
   ]
  },
  {
   "cell_type": "code",
   "execution_count": 34,
   "metadata": {},
   "outputs": [
    {
     "name": "stdout",
     "output_type": "stream",
     "text": [
      "2\n",
      "4\n",
      "6\n",
      "8\n",
      "10\n"
     ]
    }
   ],
   "source": [
    "#To print even nos\n",
    "listExample = [1,2,3,4,5,6,7,8,9,10]\n",
    "for i in listExample:\n",
    "    if not OddNumbers(i):\n",
    "        print(i)"
   ]
  },
  {
   "cell_type": "markdown",
   "metadata": {},
   "source": [
    "# Python \"String\" Methods"
   ]
  },
  {
   "cell_type": "code",
   "execution_count": 35,
   "metadata": {},
   "outputs": [
    {
     "data": {
      "text/plain": [
       "('Splinter Cell Chaos Theory, I am Sam Fisher', str)"
      ]
     },
     "execution_count": 35,
     "metadata": {},
     "output_type": "execute_result"
    }
   ],
   "source": [
    "Movie = \"Splinter Cell Chaos Theory, I am Sam Fisher\"\n",
    "Movie,type(Movie)"
   ]
  },
  {
   "cell_type": "code",
   "execution_count": 36,
   "metadata": {},
   "outputs": [
    {
     "data": {
      "text/plain": [
       "('Ravindra', 'Jadeja', 'Akshay', 'Ashok', 'Komal')"
      ]
     },
     "execution_count": 36,
     "metadata": {},
     "output_type": "execute_result"
    }
   ],
   "source": [
    "Names= \"Ravindra\", \"Jadeja\", \"Akshay\", \"Ashok\", \"Komal\"\n",
    "Names"
   ]
  },
  {
   "cell_type": "code",
   "execution_count": 37,
   "metadata": {},
   "outputs": [
    {
     "data": {
      "text/plain": [
       "'splinter cell chaos theory, i am sam fisher'"
      ]
     },
     "execution_count": 37,
     "metadata": {},
     "output_type": "execute_result"
    }
   ],
   "source": [
    "Movie.lower() #Shows the Movie string into all small letter"
   ]
  },
  {
   "cell_type": "code",
   "execution_count": 38,
   "metadata": {},
   "outputs": [
    {
     "data": {
      "text/plain": [
       "(['RAVINDRA', 'JADEJA', 'AKSHAY', 'ASHOK', 'KOMAL'], list)"
      ]
     },
     "execution_count": 38,
     "metadata": {},
     "output_type": "execute_result"
    }
   ],
   "source": [
    "#Convert all string elements of tuple Names into Upper Case & take them into a List\n",
    "Names=[x.upper() for x in Names]\n",
    "Names,type(Names)"
   ]
  },
  {
   "cell_type": "code",
   "execution_count": 39,
   "metadata": {},
   "outputs": [
    {
     "data": {
      "text/plain": [
       "'SPLINTER CELL CHAOS THEORY, I AM SAM FISHER'"
      ]
     },
     "execution_count": 39,
     "metadata": {},
     "output_type": "execute_result"
    }
   ],
   "source": [
    "Movie.upper() #Shows the Movie string into all capital letter"
   ]
  },
  {
   "cell_type": "code",
   "execution_count": 40,
   "metadata": {},
   "outputs": [
    {
     "data": {
      "text/plain": [
       "'Splinter Cell Chaos Theory, I Am Sam Fisher'"
      ]
     },
     "execution_count": 40,
     "metadata": {},
     "output_type": "execute_result"
    }
   ],
   "source": [
    "Movie.title() #Shows First letter of each word in Capital & rest in small"
   ]
  },
  {
   "cell_type": "code",
   "execution_count": 41,
   "metadata": {},
   "outputs": [
    {
     "data": {
      "text/plain": [
       "['Splinter', 'Cell', 'Chaos', 'Theory,', 'I', 'am', 'Sam', 'Fisher']"
      ]
     },
     "execution_count": 41,
     "metadata": {},
     "output_type": "execute_result"
    }
   ],
   "source": [
    "Movie.split() #Split the Movie string based on given spaces"
   ]
  },
  {
   "cell_type": "code",
   "execution_count": 42,
   "metadata": {},
   "outputs": [],
   "source": [
    "Movie = \"Splinter Cell Chaos Theory, I am #Sam Fisher\""
   ]
  },
  {
   "cell_type": "code",
   "execution_count": 43,
   "metadata": {},
   "outputs": [
    {
     "data": {
      "text/plain": [
       "['Splinter Cell Chaos Theory, I am ', 'Sam Fisher']"
      ]
     },
     "execution_count": 43,
     "metadata": {},
     "output_type": "execute_result"
    }
   ],
   "source": [
    "Movie.split('#') #Split the Movie string based on given #"
   ]
  },
  {
   "cell_type": "code",
   "execution_count": 44,
   "metadata": {},
   "outputs": [
    {
     "data": {
      "text/plain": [
       "'Sam Fisher'"
      ]
     },
     "execution_count": 44,
     "metadata": {},
     "output_type": "execute_result"
    }
   ],
   "source": [
    "Movie.split('#')[1] # The part of Movie after # symbol, comes under 1st index"
   ]
  },
  {
   "cell_type": "code",
   "execution_count": 45,
   "metadata": {},
   "outputs": [
    {
     "data": {
      "text/plain": [
       "'Splinter Cell Chaos Theory, I am '"
      ]
     },
     "execution_count": 45,
     "metadata": {},
     "output_type": "execute_result"
    }
   ],
   "source": [
    "Movie.split('#')[0] #The part of Movie before # symbol, comes under 0th index"
   ]
  },
  {
   "cell_type": "code",
   "execution_count": null,
   "metadata": {},
   "outputs": [],
   "source": []
  }
 ],
 "metadata": {
  "kernelspec": {
   "display_name": "Python 3",
   "language": "python",
   "name": "python3"
  },
  "language_info": {
   "codemirror_mode": {
    "name": "ipython",
    "version": 3
   },
   "file_extension": ".py",
   "mimetype": "text/x-python",
   "name": "python",
   "nbconvert_exporter": "python",
   "pygments_lexer": "ipython3",
   "version": "3.8.8"
  },
  "toc": {
   "base_numbering": 1,
   "nav_menu": {},
   "number_sections": true,
   "sideBar": true,
   "skip_h1_title": false,
   "title_cell": "Table of Contents",
   "title_sidebar": "Contents",
   "toc_cell": true,
   "toc_position": {},
   "toc_section_display": true,
   "toc_window_display": false
  }
 },
 "nbformat": 4,
 "nbformat_minor": 2
}
