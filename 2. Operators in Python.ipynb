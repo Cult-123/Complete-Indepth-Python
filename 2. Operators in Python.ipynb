{
 "cells": [
  {
   "cell_type": "markdown",
   "metadata": {
    "toc": true
   },
   "source": [
    "<h1>Table of Contents<span class=\"tocSkip\"></span></h1>\n",
    "<div class=\"toc\"><ul class=\"toc-item\"><li><span><a href=\"#Operators\" data-toc-modified-id=\"Operators-1\"><span class=\"toc-item-num\">1&nbsp;&nbsp;</span>Operators</a></span><ul class=\"toc-item\"><li><span><a href=\"#Numeric-/-Arithmetic-Operations\" data-toc-modified-id=\"Numeric-/-Arithmetic-Operations-1.1\"><span class=\"toc-item-num\">1.1&nbsp;&nbsp;</span>Numeric / Arithmetic Operations</a></span></li><li><span><a href=\"#Assignment-Operator\" data-toc-modified-id=\"Assignment-Operator-1.2\"><span class=\"toc-item-num\">1.2&nbsp;&nbsp;</span>Assignment Operator</a></span></li><li><span><a href=\"#Relational/Comparison-Operator\" data-toc-modified-id=\"Relational/Comparison-Operator-1.3\"><span class=\"toc-item-num\">1.3&nbsp;&nbsp;</span>Relational/Comparison Operator</a></span></li><li><span><a href=\"#Logical-Operator/Conditional-Operator\" data-toc-modified-id=\"Logical-Operator/Conditional-Operator-1.4\"><span class=\"toc-item-num\">1.4&nbsp;&nbsp;</span>Logical Operator/Conditional Operator</a></span></li><li><span><a href=\"#Logical-Operator/Conditional-Operator\" data-toc-modified-id=\"Logical-Operator/Conditional-Operator-1.5\"><span class=\"toc-item-num\">1.5&nbsp;&nbsp;</span>Logical Operator/Conditional Operator</a></span></li><li><span><a href=\"#User-Input-(typecasting)\" data-toc-modified-id=\"User-Input-(typecasting)-1.6\"><span class=\"toc-item-num\">1.6&nbsp;&nbsp;</span>User Input (typecasting)</a></span></li><li><span><a href=\"#Ternary-Operator\" data-toc-modified-id=\"Ternary-Operator-1.7\"><span class=\"toc-item-num\">1.7&nbsp;&nbsp;</span>Ternary Operator</a></span></li><li><span><a href=\"#Chaining-comparison\" data-toc-modified-id=\"Chaining-comparison-1.8\"><span class=\"toc-item-num\">1.8&nbsp;&nbsp;</span>Chaining comparison</a></span></li><li><span><a href=\"#Identity-Operators\" data-toc-modified-id=\"Identity-Operators-1.9\"><span class=\"toc-item-num\">1.9&nbsp;&nbsp;</span>Identity Operators</a></span></li><li><span><a href=\"#Membership-Operators\" data-toc-modified-id=\"Membership-Operators-1.10\"><span class=\"toc-item-num\">1.10&nbsp;&nbsp;</span>Membership Operators</a></span></li><li><span><a href=\"#Bitwise-Operator\" data-toc-modified-id=\"Bitwise-Operator-1.11\"><span class=\"toc-item-num\">1.11&nbsp;&nbsp;</span>Bitwise Operator</a></span></li><li><span><a href=\"#Unery-Operator\" data-toc-modified-id=\"Unery-Operator-1.12\"><span class=\"toc-item-num\">1.12&nbsp;&nbsp;</span>Unery Operator</a></span></li></ul></li></ul></div>"
   ]
  },
  {
   "cell_type": "markdown",
   "metadata": {},
   "source": [
    "# Operators"
   ]
  },
  {
   "cell_type": "code",
   "execution_count": 1,
   "metadata": {},
   "outputs": [],
   "source": [
    "#1. Arithmatic operators\n",
    "#2. Assignment operators\n",
    "#3. Relational operators\n",
    "#4. Logical operators\n",
    "#5. Unary operators\n",
    "#6. Bitwise operator\n",
    "#7. Ternery operator"
   ]
  },
  {
   "cell_type": "markdown",
   "metadata": {},
   "source": [
    "## Numeric / Arithmetic Operations"
   ]
  },
  {
   "cell_type": "code",
   "execution_count": 2,
   "metadata": {},
   "outputs": [],
   "source": [
    "# Addition +\n",
    "# Subtraction -\n",
    "# Multiplication *\n",
    "# Division /\n",
    "# Modulus (Reminder of Division) %\n",
    "# Indices (Raise to) **\n",
    "# BODMAS --> Python"
   ]
  },
  {
   "cell_type": "code",
   "execution_count": 3,
   "metadata": {},
   "outputs": [],
   "source": [
    "x=10\n",
    "y=20"
   ]
  },
  {
   "cell_type": "code",
   "execution_count": 4,
   "metadata": {},
   "outputs": [
    {
     "data": {
      "text/plain": [
       "30"
      ]
     },
     "execution_count": 4,
     "metadata": {},
     "output_type": "execute_result"
    }
   ],
   "source": [
    "#Addition\n",
    "x+y"
   ]
  },
  {
   "cell_type": "code",
   "execution_count": 5,
   "metadata": {},
   "outputs": [
    {
     "data": {
      "text/plain": [
       "10"
      ]
     },
     "execution_count": 5,
     "metadata": {},
     "output_type": "execute_result"
    }
   ],
   "source": [
    "#Substraction\n",
    "y-x"
   ]
  },
  {
   "cell_type": "code",
   "execution_count": 6,
   "metadata": {},
   "outputs": [
    {
     "data": {
      "text/plain": [
       "200"
      ]
     },
     "execution_count": 6,
     "metadata": {},
     "output_type": "execute_result"
    }
   ],
   "source": [
    "#Multiplication\n",
    "x*y"
   ]
  },
  {
   "cell_type": "code",
   "execution_count": 7,
   "metadata": {},
   "outputs": [
    {
     "data": {
      "text/plain": [
       "100000000000000000000"
      ]
     },
     "execution_count": 7,
     "metadata": {},
     "output_type": "execute_result"
    }
   ],
   "source": [
    "#To the power\n",
    "x**y"
   ]
  },
  {
   "cell_type": "code",
   "execution_count": 8,
   "metadata": {},
   "outputs": [
    {
     "data": {
      "text/plain": [
       "0.5"
      ]
     },
     "execution_count": 8,
     "metadata": {},
     "output_type": "execute_result"
    }
   ],
   "source": [
    "#Division\n",
    "x/y"
   ]
  },
  {
   "cell_type": "code",
   "execution_count": 9,
   "metadata": {},
   "outputs": [
    {
     "data": {
      "text/plain": [
       "0"
      ]
     },
     "execution_count": 9,
     "metadata": {},
     "output_type": "execute_result"
    }
   ],
   "source": [
    "#Floor Division\n",
    "x//y"
   ]
  },
  {
   "cell_type": "code",
   "execution_count": 10,
   "metadata": {},
   "outputs": [
    {
     "data": {
      "text/plain": [
       "10"
      ]
     },
     "execution_count": 10,
     "metadata": {},
     "output_type": "execute_result"
    }
   ],
   "source": [
    "#Modulus(Remainder), Bhagsesh\n",
    "x%y"
   ]
  },
  {
   "cell_type": "markdown",
   "metadata": {},
   "source": [
    "## Assignment Operator"
   ]
  },
  {
   "cell_type": "code",
   "execution_count": 11,
   "metadata": {},
   "outputs": [],
   "source": [
    "a=5"
   ]
  },
  {
   "cell_type": "code",
   "execution_count": 12,
   "metadata": {},
   "outputs": [
    {
     "name": "stdout",
     "output_type": "stream",
     "text": [
      "10\n"
     ]
    }
   ],
   "source": [
    "a+=5     #a+5, a is 5  #addition, increase a by 5\n",
    "print(a)"
   ]
  },
  {
   "cell_type": "code",
   "execution_count": 13,
   "metadata": {},
   "outputs": [
    {
     "name": "stdout",
     "output_type": "stream",
     "text": [
      "5\n"
     ]
    }
   ],
   "source": [
    "a-=5     #a-5, a is 10  #Substraction, decrease a by 5\n",
    "print(a)"
   ]
  },
  {
   "cell_type": "code",
   "execution_count": 14,
   "metadata": {},
   "outputs": [
    {
     "name": "stdout",
     "output_type": "stream",
     "text": [
      "3125\n"
     ]
    }
   ],
   "source": [
    "a**=5   #a**5, a is 5   #To the power, increase a to the power of 5\n",
    "print(a)"
   ]
  },
  {
   "cell_type": "code",
   "execution_count": 15,
   "metadata": {},
   "outputs": [
    {
     "name": "stdout",
     "output_type": "stream",
     "text": [
      "5\n"
     ]
    }
   ],
   "source": [
    "a%=20    #a%20, a is 3125   #Remainder is 5, Bhagsesh\n",
    "print(a)"
   ]
  },
  {
   "cell_type": "code",
   "execution_count": 16,
   "metadata": {},
   "outputs": [
    {
     "name": "stdout",
     "output_type": "stream",
     "text": [
      "0\n"
     ]
    }
   ],
   "source": [
    "a//=25   #a//25, a is 5    #Floor Division\n",
    "print(a)"
   ]
  },
  {
   "cell_type": "code",
   "execution_count": 17,
   "metadata": {},
   "outputs": [
    {
     "name": "stdout",
     "output_type": "stream",
     "text": [
      "20\n"
     ]
    }
   ],
   "source": [
    "a|=20  #a|20, a is 0\n",
    "print(a)"
   ]
  },
  {
   "cell_type": "code",
   "execution_count": 18,
   "metadata": {},
   "outputs": [
    {
     "name": "stdout",
     "output_type": "stream",
     "text": [
      "27\n"
     ]
    }
   ],
   "source": [
    "a^=15   #a^15, a is 20\n",
    "print(a)"
   ]
  },
  {
   "cell_type": "code",
   "execution_count": 19,
   "metadata": {},
   "outputs": [
    {
     "name": "stdout",
     "output_type": "stream",
     "text": [
      "8\n"
     ]
    }
   ],
   "source": [
    "a&=12    #a&12, a is 27\n",
    "print(a)"
   ]
  },
  {
   "cell_type": "markdown",
   "metadata": {},
   "source": [
    "## Relational/Comparison Operator"
   ]
  },
  {
   "cell_type": "code",
   "execution_count": 20,
   "metadata": {},
   "outputs": [],
   "source": [
    "# == check if equal\n",
    "# != check if not equal\n",
    "# > Greater than\n",
    "# < Less than\n",
    "# >=\n",
    "# <="
   ]
  },
  {
   "cell_type": "code",
   "execution_count": 21,
   "metadata": {},
   "outputs": [],
   "source": [
    "Int1=10\n",
    "Int2=20"
   ]
  },
  {
   "cell_type": "code",
   "execution_count": 22,
   "metadata": {},
   "outputs": [],
   "source": [
    "Compare=Int1==Int2"
   ]
  },
  {
   "cell_type": "code",
   "execution_count": 23,
   "metadata": {},
   "outputs": [
    {
     "name": "stdout",
     "output_type": "stream",
     "text": [
      "False\n"
     ]
    }
   ],
   "source": [
    "print(Compare)"
   ]
  },
  {
   "cell_type": "code",
   "execution_count": 24,
   "metadata": {},
   "outputs": [],
   "source": [
    "Compare=Int1!=Int2 #Check if Int1 not equal to Int2"
   ]
  },
  {
   "cell_type": "code",
   "execution_count": 25,
   "metadata": {},
   "outputs": [
    {
     "name": "stdout",
     "output_type": "stream",
     "text": [
      "True\n"
     ]
    }
   ],
   "source": [
    "print(Compare)"
   ]
  },
  {
   "cell_type": "code",
   "execution_count": 26,
   "metadata": {},
   "outputs": [
    {
     "name": "stdout",
     "output_type": "stream",
     "text": [
      "False\n"
     ]
    }
   ],
   "source": [
    "Compare=Int1>Int2\n",
    "print(Compare)"
   ]
  },
  {
   "cell_type": "code",
   "execution_count": 27,
   "metadata": {},
   "outputs": [
    {
     "name": "stdout",
     "output_type": "stream",
     "text": [
      "True\n"
     ]
    }
   ],
   "source": [
    "Compare=Int1<Int2\n",
    "print(Compare)"
   ]
  },
  {
   "cell_type": "code",
   "execution_count": 28,
   "metadata": {},
   "outputs": [
    {
     "name": "stdout",
     "output_type": "stream",
     "text": [
      "False\n"
     ]
    }
   ],
   "source": [
    "Compare=Int1>=Int2\n",
    "print(Compare)"
   ]
  },
  {
   "cell_type": "code",
   "execution_count": 29,
   "metadata": {},
   "outputs": [
    {
     "name": "stdout",
     "output_type": "stream",
     "text": [
      "True\n"
     ]
    }
   ],
   "source": [
    "Compare=Int1<=Int2\n",
    "print(Compare)"
   ]
  },
  {
   "cell_type": "markdown",
   "metadata": {},
   "source": [
    "## Logical Operator/Conditional Operator"
   ]
  },
  {
   "cell_type": "code",
   "execution_count": 30,
   "metadata": {},
   "outputs": [],
   "source": [
    "# Logical Operators are used to combine conditional statements\n",
    "# if statement\n",
    "# elif statement\n",
    "# else statement"
   ]
  },
  {
   "cell_type": "code",
   "execution_count": 31,
   "metadata": {},
   "outputs": [
    {
     "name": "stdout",
     "output_type": "stream",
     "text": [
      "High\n",
      "Highest\n"
     ]
    }
   ],
   "source": [
    "#Code for handling single condition\n",
    "temp=36\n",
    "if temp>35:\n",
    "    print(\"High\")\n",
    "    print(\"Highest\")"
   ]
  },
  {
   "cell_type": "code",
   "execution_count": 32,
   "metadata": {},
   "outputs": [
    {
     "name": "stdout",
     "output_type": "stream",
     "text": [
      "Low\n"
     ]
    }
   ],
   "source": [
    "#Code for handling two conditions together\n",
    "temp=30\n",
    "if temp>35:\n",
    "    print('High')\n",
    "else:\n",
    "    print('Low')"
   ]
  },
  {
   "cell_type": "code",
   "execution_count": 33,
   "metadata": {},
   "outputs": [
    {
     "name": "stdout",
     "output_type": "stream",
     "text": [
      "Medium\n"
     ]
    }
   ],
   "source": [
    "#More than 2 conditions\n",
    "temp=30\n",
    "if temp>35:\n",
    "    print(\"High\")\n",
    "elif temp>10 and temp<=35:\n",
    "    print(\"Medium\")\n",
    "elif temp>5 and temp<=10:\n",
    "    print(\"Low\")\n",
    "else:\n",
    "    print(\"Lowest\")"
   ]
  },
  {
   "cell_type": "code",
   "execution_count": 34,
   "metadata": {},
   "outputs": [
    {
     "name": "stdout",
     "output_type": "stream",
     "text": [
      "Low\n"
     ]
    }
   ],
   "source": [
    "#More than 2 conditions\n",
    "temp=10\n",
    "if temp>35:\n",
    "    print(\"High\")\n",
    "elif 10<temp<=35:\n",
    "    print(\"Medium\")\n",
    "elif 5<temp<=10:\n",
    "    print(\"Low\")\n",
    "else:\n",
    "    print(\"Lowest\")"
   ]
  },
  {
   "cell_type": "markdown",
   "metadata": {},
   "source": [
    "## Logical Operator/Conditional Operator\n",
    "and<br>\n",
    "or<br>\n",
    "not<br>"
   ]
  },
  {
   "cell_type": "code",
   "execution_count": 35,
   "metadata": {},
   "outputs": [
    {
     "name": "stdout",
     "output_type": "stream",
     "text": [
      "Eligible\n"
     ]
    }
   ],
   "source": [
    "#Loan app example\n",
    "income = 9000\n",
    "credit = 590\n",
    "if income >= 8000 and credit < 700:\n",
    "    print(\"Eligible\")\n",
    "else:\n",
    "    print(\"Not eligible\")"
   ]
  },
  {
   "cell_type": "code",
   "execution_count": 36,
   "metadata": {},
   "outputs": [
    {
     "name": "stdout",
     "output_type": "stream",
     "text": [
      "Eligible\n"
     ]
    }
   ],
   "source": [
    "#Loan app example\n",
    "income = 9000\n",
    "credit = 690\n",
    "message=\"Eligible\" if income>=8000 and credit<700 else \"Not Eligible\" #Use of Ternary operator\n",
    "print(message)"
   ]
  },
  {
   "cell_type": "code",
   "execution_count": 37,
   "metadata": {},
   "outputs": [
    {
     "name": "stdout",
     "output_type": "stream",
     "text": [
      "Eligible\n"
     ]
    }
   ],
   "source": [
    "#Loan app example\n",
    "income = 9000\n",
    "credit = 600\n",
    "\n",
    "if income >= 8000 or credit <= 700:\n",
    "    print(\"Eligible\")\n",
    "else:\n",
    "    print(\"Not eligible\")"
   ]
  },
  {
   "cell_type": "code",
   "execution_count": 38,
   "metadata": {},
   "outputs": [
    {
     "name": "stdout",
     "output_type": "stream",
     "text": [
      "Eligible\n"
     ]
    }
   ],
   "source": [
    "#Loan app example\n",
    "income = 9000\n",
    "credit = 600\n",
    "message=\"Eligible\" if income>=8000 or credit<700 else \"Not eligible\" #Use of Ternary operator\n",
    "print(message)"
   ]
  },
  {
   "cell_type": "code",
   "execution_count": 39,
   "metadata": {},
   "outputs": [
    {
     "name": "stdout",
     "output_type": "stream",
     "text": [
      "Eligible\n"
     ]
    }
   ],
   "source": [
    "#Loan app example\n",
    "income = 9000\n",
    "credit = 600\n",
    "student = False\n",
    "if not student:\n",
    "    message=\"Eligible\"if income >= 8000 or credit <= 700 else \"Not eligible\" #Use of Ternary operator\n",
    "    print(message)\n",
    "else:\n",
    "    print(\"Students can't apply for loan\")"
   ]
  },
  {
   "cell_type": "code",
   "execution_count": 40,
   "metadata": {},
   "outputs": [
    {
     "name": "stdout",
     "output_type": "stream",
     "text": [
      "Students can't apply for loan\n"
     ]
    }
   ],
   "source": [
    "#Loan app example\n",
    "income = 9000\n",
    "credit = 600\n",
    "student = True\n",
    "if not student:\n",
    "    message=\"Eligible\"if income >= 8000 or credit <= 700 else \"Not eligible\" #Use of Ternary operator\n",
    "    print(message)\n",
    "else:\n",
    "    print(\"Students can't apply for loan\")"
   ]
  },
  {
   "cell_type": "code",
   "execution_count": 41,
   "metadata": {},
   "outputs": [
    {
     "name": "stdout",
     "output_type": "stream",
     "text": [
      "Students can't apply for loan\n"
     ]
    }
   ],
   "source": [
    "#Loan app example\n",
    "income = 9000\n",
    "credit = 600\n",
    "student = True\n",
    "if not student:\n",
    "    message=\"Eligible\"if income >= 8000 and credit <= 700 else \"Not eligible\" #Use of Ternary operator\n",
    "    print(message)\n",
    "else:\n",
    "    print(\"Students can't apply for loan\")"
   ]
  },
  {
   "cell_type": "code",
   "execution_count": 42,
   "metadata": {},
   "outputs": [
    {
     "name": "stdout",
     "output_type": "stream",
     "text": [
      "Eligible\n"
     ]
    }
   ],
   "source": [
    "#Loan app example\n",
    "income = 9000\n",
    "credit = 600\n",
    "student = False\n",
    "if not student:\n",
    "    message=\"Eligible\"if income >= 8000 and credit <= 700 else \"Not eligible\" #Use of Ternary operator\n",
    "    print(message)\n",
    "else:\n",
    "    print(\"Students can't apply for loan\")"
   ]
  },
  {
   "cell_type": "code",
   "execution_count": 43,
   "metadata": {},
   "outputs": [
    {
     "name": "stdout",
     "output_type": "stream",
     "text": [
      "Not eligible\n"
     ]
    }
   ],
   "source": [
    "#Another way\n",
    "income = 9000\n",
    "credit = 600\n",
    "student = True\n",
    "\n",
    "if income > 8000 and credit > 700 and not student:\n",
    "    print(\"Eligible\")\n",
    "else:\n",
    "    print(\"Not eligible\")"
   ]
  },
  {
   "cell_type": "code",
   "execution_count": 44,
   "metadata": {},
   "outputs": [
    {
     "name": "stdout",
     "output_type": "stream",
     "text": [
      "Eligible\n"
     ]
    }
   ],
   "source": [
    "#Another way\n",
    "income = 9000\n",
    "credit = 600\n",
    "student = False\n",
    "\n",
    "if income > 8000 or credit > 700 and not student:\n",
    "    print(\"Eligible\")\n",
    "else:\n",
    "    print(\"Not eligible\")"
   ]
  },
  {
   "cell_type": "code",
   "execution_count": 47,
   "metadata": {},
   "outputs": [
    {
     "name": "stdout",
     "output_type": "stream",
     "text": [
      "Enter radius69\n",
      "14957.122623741005\n"
     ]
    }
   ],
   "source": [
    "#Write a program that can accept radius from user \n",
    "#and print area of circle\n",
    "from math import pi\n",
    "radius = int(input(\"Enter radius\"))\n",
    "area = pi*radius**2\n",
    "print(area)"
   ]
  },
  {
   "cell_type": "code",
   "execution_count": 48,
   "metadata": {},
   "outputs": [
    {
     "name": "stdout",
     "output_type": "stream",
     "text": [
      "Enter radius89\n",
      "24871.940000000002\n"
     ]
    }
   ],
   "source": [
    "#Write a program that can accept radius from user \n",
    "#and print area of circle\n",
    "pi=3.14\n",
    "radius = int(input(\"Enter radius\"))\n",
    "area = pi*radius**2\n",
    "print(area)"
   ]
  },
  {
   "cell_type": "code",
   "execution_count": 49,
   "metadata": {},
   "outputs": [
    {
     "name": "stdout",
     "output_type": "stream",
     "text": [
      "Enter radius1045\n",
      "3428958.5\n"
     ]
    }
   ],
   "source": [
    "radius =float(input(\"Enter radius\"))\n",
    "area = pi*radius**2\n",
    "print(area)"
   ]
  },
  {
   "cell_type": "markdown",
   "metadata": {},
   "source": [
    "## User Input (typecasting)"
   ]
  },
  {
   "cell_type": "code",
   "execution_count": 50,
   "metadata": {},
   "outputs": [
    {
     "name": "stdout",
     "output_type": "stream",
     "text": [
      "Enter Number 67\n",
      "Given number 67  is ODD\n",
      "Given number 67  is ODD\n"
     ]
    }
   ],
   "source": [
    "#Write a program that can print whether the number is even or odd.\n",
    "#User input always use input functioin\n",
    "#Ensure the output must look like shown below:\n",
    "# Given number 2 is EVEN !!! --- for even case\n",
    "# Given number 3 is ODD !!! --- for odd case\n",
    "\n",
    "number = int(input(\"Enter Number \")) # typecasting is called user input, by default input creates \"string\" input\n",
    "                                      # Enter Number: will be prompted\n",
    "                                      # If you want any other value except string then convert the \"string\" first\n",
    "                                      # We have Converted the \"string\" into int\n",
    "if number % 2 != 0:\n",
    "    print(\"Given number {}  is ODD\".format(number)) #Set the if output\n",
    "else:\n",
    "    print(\"Given number {}  is EVEN\".format(number)) #Set the else output\n",
    "\n",
    "\n",
    "if number % 2 == 0:\n",
    "    print(\"Given number {}  is EVEN\".format(number)) #Set the if output\n",
    "else:\n",
    "    print(\"Given number {}  is ODD\".format(number)) #Set the else output    \n",
    "    \n",
    "    \n",
    "    # .format(number) provides the no instead of {}"
   ]
  },
  {
   "cell_type": "code",
   "execution_count": 51,
   "metadata": {},
   "outputs": [
    {
     "name": "stdout",
     "output_type": "stream",
     "text": [
      "Enter your Name Angad\n",
      "Given name Angad is False\n"
     ]
    }
   ],
   "source": [
    "name = input(\"Enter your Name \") #typecasting, user input is \"string\"\n",
    "                                 #Enter Name: will be prompted\n",
    "if name == \"Anwesh\":\n",
    "    print(\"Given name {} is True\".format(name)) #Set the if output\n",
    "else:\n",
    "    print(\"Given name {} is False\".format(name)) #Set the else output"
   ]
  },
  {
   "cell_type": "code",
   "execution_count": 53,
   "metadata": {},
   "outputs": [
    {
     "name": "stdout",
     "output_type": "stream",
     "text": [
      "Enter your Name Katrina\n",
      "Enter your Gender as Male/Female Female\n",
      "Miss Katrina is a Cute Lady\n"
     ]
    }
   ],
   "source": [
    "Name = input(\"Enter your Name \") #typecasting, user input is \"Name\"\n",
    "                                 #Enter Name: will be prompted\n",
    "Gender=input(\"Enter your Gender as Male/Female \")  #typecasting, user input is \"Gender\"\n",
    "                                                   #Enter your Gender: Will be prompted\n",
    "if Gender ==\"Male\":\n",
    "    print(\"Mr. {} is Handsome Man\".format(Name)) #Set the if output for Gender\n",
    "\n",
    "elif Gender==\"Female\":\n",
    "    print(\"Miss {} is a Cute Lady\".format(Name)) #Set the elif output for Gender\n",
    "\n",
    "else:\n",
    "    print(\"{} Please enter your correct Gender\".format(Name)) #Set the else output"
   ]
  },
  {
   "cell_type": "code",
   "execution_count": 54,
   "metadata": {},
   "outputs": [
    {
     "name": "stdout",
     "output_type": "stream",
     "text": [
      "Enter your Name Katrina\n",
      "Enter your Age 22\n",
      "Enter your Gender as Male/Female Female\n",
      "Miss Katrina is a Sexy Lady\n"
     ]
    }
   ],
   "source": [
    "Name = input(\"Enter your Name \") #typecasting, user input is \"Name\"\n",
    "                                 #Enter Name: will be prompted\n",
    "Age=int(input(\"Enter your Age \")) #Input \"String\" has been changed into integer\n",
    "                                  #Enter your Age: will be prompted\n",
    "Gender=input(\"Enter your Gender as Male/Female \") #typecasting, user input is \"Gender\"\n",
    "                                                   #Enter your Gender: Will be prompted\n",
    "if Gender ==\"Male\" and Age>=18:\n",
    "    print(\"Mr. {} is a Handsome Man\".format(Name)) #Set the if output for Gender\n",
    "elif Gender ==\"Male\":\n",
    "    print(\"{} is a Sweet boy\".format(Name)) #Set the elif output for Gender\n",
    "\n",
    "elif Gender==\"Female\" and Age>=18:\n",
    "    print(\"Miss {} is a Sexy Lady\".format(Name)) #Set the elif output for Gender\n",
    "elif Gender == \"Female\":\n",
    "    print(\"{} is a Cute Girl\".format(Name)) #Set the elif output for Gender\n",
    "\n",
    "else:\n",
    "    print(\"{} Please enter your correct Gender\".format(Name))"
   ]
  },
  {
   "cell_type": "code",
   "execution_count": 55,
   "metadata": {},
   "outputs": [
    {
     "name": "stdout",
     "output_type": "stream",
     "text": [
      "Enter Number 3691\n",
      "Given number 3691  is ODD\n",
      "Given number 3691  is ODD\n"
     ]
    }
   ],
   "source": [
    "number=int(input(\"Enter Number \"))\n",
    "if number % 2 != 0:\n",
    "    print(\"Given number {}  is ODD\".format(number))\n",
    "else:\n",
    "    print(\"Given number {}  is EVEN\".format(number))\n",
    "if number % 2 == 0:\n",
    "    print(\"Given number {}  is EVEN\".format(number)) #Set the if output\n",
    "else:\n",
    "    print(\"Given number {}  is ODD\".format(number)) #Set the else output  "
   ]
  },
  {
   "cell_type": "code",
   "execution_count": 56,
   "metadata": {},
   "outputs": [
    {
     "name": "stdout",
     "output_type": "stream",
     "text": [
      "Enter first number 67\n",
      "Enter second number 98\n",
      "The addition of 67 and 98 is 165\n"
     ]
    }
   ],
   "source": [
    "# User interaction--- input() -------> The default datatype is string\n",
    "# Typecasting ----> conversion of the datatype from one form to another considering the fact the constant supports the same\n",
    "num1 = int(input('Enter first number '))\n",
    "num2 = int(input('Enter second number '))\n",
    "Addition = num1 + num2\n",
    "print(\"The addition of {} and {} is {}\".format(num1,num2,Addition))"
   ]
  },
  {
   "cell_type": "code",
   "execution_count": 57,
   "metadata": {},
   "outputs": [
    {
     "name": "stdout",
     "output_type": "stream",
     "text": [
      "Enter first number 89\n",
      "Enter second number 69\n",
      "89 + 69 = 158\n"
     ]
    }
   ],
   "source": [
    "# User interaction--- input() -------> The default datatype is string\n",
    "# Typecasting ----> conversion of the datatype from one form to another considering the fact the constant supports the same\n",
    "num1 = int(input('Enter first number '))\n",
    "num2 = int(input('Enter second number '))\n",
    "Addition = num1 + num2\n",
    "print(\"{} + {} = {}\".format(num1,num2,Addition))"
   ]
  },
  {
   "cell_type": "code",
   "execution_count": 61,
   "metadata": {},
   "outputs": [
    {
     "name": "stdout",
     "output_type": "stream",
     "text": [
      "Enter 1st number 89\n",
      "Enter 2nd number 59\n",
      "1st number is 89 + 2nd number is 59 = Total is 148\n"
     ]
    }
   ],
   "source": [
    "#By default input func converts every input as \"string\"\n",
    "#You need to convert input before assigning the input values\n",
    "x=int(input(\"Enter 1st number \"))\n",
    "y=int(input(\"Enter 2nd number \"))\n",
    "z=x+y\n",
    "print(\"1st number is {} + 2nd number is {} = Total is {}\".format(x,y,z))"
   ]
  },
  {
   "cell_type": "code",
   "execution_count": 62,
   "metadata": {},
   "outputs": [
    {
     "name": "stdout",
     "output_type": "stream",
     "text": [
      "Enter 1st number 68\n",
      "Enter 2nd number 79\n",
      "1st number is 68 + 2nd number is 79 = Total is 147\n"
     ]
    }
   ],
   "source": [
    "#Automatic evaluation/detection of input data type by using eval func\n",
    "x=eval(input(\"Enter 1st number \"))\n",
    "y=eval(input(\"Enter 2nd number \"))\n",
    "z=x+y\n",
    "print(\"1st number is {} + 2nd number is {} = Total is {}\".format(x,y,z))"
   ]
  },
  {
   "cell_type": "markdown",
   "metadata": {},
   "source": [
    "## Ternary Operator"
   ]
  },
  {
   "cell_type": "code",
   "execution_count": 64,
   "metadata": {},
   "outputs": [
    {
     "name": "stdout",
     "output_type": "stream",
     "text": [
      "Enter your Name Anwesh\n",
      "Enter your Age 27\n",
      "Anwesh you are Eligible for licence\n"
     ]
    }
   ],
   "source": [
    "#licence eligibility\n",
    "Name = input(\"Enter your Name \") #typecasting, user input is \"Name\"\n",
    "                                 #Enter Name: will be prompted\n",
    "\n",
    "Age=int(input(\"Enter your Age \")) #Input \"String\" has been changed into integer\n",
    "                                  #Enter your Age: will be prompted\n",
    "\n",
    "if Age >= 18:\n",
    "    print(\"{} you are Eligible for licence\".format(Name))\n",
    "else:\n",
    "    print(\"{} you please try again when your {} wll be 18+\".format(Name,Age))"
   ]
  },
  {
   "cell_type": "code",
   "execution_count": 65,
   "metadata": {},
   "outputs": [
    {
     "name": "stdout",
     "output_type": "stream",
     "text": [
      "Enter your Name Anwesh\n",
      "Enter your Age 48\n",
      "Anwesh you are Eligible for licence\n"
     ]
    }
   ],
   "source": [
    "#licence eligibility\n",
    "Name = input(\"Enter your Name \")\n",
    "Age=int(input(\"Enter your Age \"))\n",
    "if Age >= 18:\n",
    "    message = \"{} you are Eligible for licence\".format(Name) #Set the if message for Age\n",
    "else:\n",
    "    message = \"{} you please try again when your {} wll be 18+\".format(Name,Age) #Set the else message for Age\n",
    "\n",
    "print(message)"
   ]
  },
  {
   "cell_type": "code",
   "execution_count": 66,
   "metadata": {},
   "outputs": [
    {
     "name": "stdout",
     "output_type": "stream",
     "text": [
      "Enter your Name Anwesh\n",
      "Enter your Age 34\n",
      "Anwesh you are Eligible for licence\n"
     ]
    }
   ],
   "source": [
    "# Good way --- use ternary operator\n",
    "Name = input(\"Enter your Name \")\n",
    "Age = int(input(\"Enter your Age \"))\n",
    "message = \"{} you are Eligible for licence\".format(Name) if Age >= 18 else \"{} you please try again when your {} wll be 18+\".format(Name,Age)\n",
    "print(message)"
   ]
  },
  {
   "cell_type": "code",
   "execution_count": 68,
   "metadata": {},
   "outputs": [
    {
     "name": "stdout",
     "output_type": "stream",
     "text": [
      "Enter your Name Anwesh\n",
      "Enter your Age 32\n",
      "Eligible\n"
     ]
    }
   ],
   "source": [
    "# Good way --- use ternary operator\n",
    "Name = input(\"Enter your Name \")\n",
    "Age=int(input(\"Enter your Age \"))\n",
    "message = \"Eligible\" if Age >= 18 else \"Not Eligible\"\n",
    "print(message)"
   ]
  },
  {
   "cell_type": "code",
   "execution_count": 69,
   "metadata": {},
   "outputs": [
    {
     "name": "stdout",
     "output_type": "stream",
     "text": [
      "ODD\n"
     ]
    }
   ],
   "source": [
    "number = 9\n",
    "result = \"ODD\" if number % 2 != 0 else \"EVEN\"\n",
    "print(result)"
   ]
  },
  {
   "cell_type": "markdown",
   "metadata": {},
   "source": [
    "## Chaining comparison"
   ]
  },
  {
   "cell_type": "code",
   "execution_count": 70,
   "metadata": {},
   "outputs": [
    {
     "name": "stdout",
     "output_type": "stream",
     "text": [
      "Please enter your Name Anwesh\n",
      "Please enter your Age 34\n",
      "Anwesh your Age 34 is too old and you are Not Eligible for the IAS exam\n"
     ]
    }
   ],
   "source": [
    "# IAS Exam age criteria 21-32 open\n",
    "Name=input(\"Please enter your Name \")\n",
    "Age=int(input(\"Please enter your Age \"))\n",
    "\n",
    "if Age >= 18 and Age <= 32:\n",
    "    print(\"{} you are Eligible for the IAS Exam\".format(Name))\n",
    "elif Age>32:\n",
    "    print(\"{} your Age {} is too old and you are Not Eligible for the IAS exam\".format(Name, Age))\n",
    "else:\n",
    "    print(\"{} your Age {} is too young and you are Not Eligible for the IAS exam\".format(Name, Age))"
   ]
  },
  {
   "cell_type": "code",
   "execution_count": 71,
   "metadata": {},
   "outputs": [
    {
     "name": "stdout",
     "output_type": "stream",
     "text": [
      "26 is Eligible for Exam\n"
     ]
    }
   ],
   "source": [
    "Age = 26\n",
    "\n",
    "if 18 <= Age <= 32:\n",
    "    print(\"{} is Eligible for Exam\".format(Age))\n",
    "else:\n",
    "    print(\"{} is Not Eligible for exam\".format(Age))"
   ]
  },
  {
   "cell_type": "markdown",
   "metadata": {},
   "source": [
    "## Identity Operators\n",
    "Identity operators are used to compare objects"
   ]
  },
  {
   "cell_type": "code",
   "execution_count": 72,
   "metadata": {},
   "outputs": [],
   "source": [
    "List1=[10,20,30]\n",
    "List2=[10,20,30]"
   ]
  },
  {
   "cell_type": "code",
   "execution_count": 73,
   "metadata": {},
   "outputs": [],
   "source": [
    "x=List1\n",
    "y=List2"
   ]
  },
  {
   "cell_type": "code",
   "execution_count": 74,
   "metadata": {},
   "outputs": [
    {
     "data": {
      "text/plain": [
       "True"
      ]
     },
     "execution_count": 74,
     "metadata": {},
     "output_type": "execute_result"
    }
   ],
   "source": [
    "x is List1"
   ]
  },
  {
   "cell_type": "code",
   "execution_count": 75,
   "metadata": {},
   "outputs": [
    {
     "data": {
      "text/plain": [
       "True"
      ]
     },
     "execution_count": 75,
     "metadata": {},
     "output_type": "execute_result"
    }
   ],
   "source": [
    "y is List2"
   ]
  },
  {
   "cell_type": "code",
   "execution_count": 76,
   "metadata": {},
   "outputs": [
    {
     "data": {
      "text/plain": [
       "True"
      ]
     },
     "execution_count": 76,
     "metadata": {},
     "output_type": "execute_result"
    }
   ],
   "source": [
    "x is not y"
   ]
  },
  {
   "cell_type": "code",
   "execution_count": 77,
   "metadata": {},
   "outputs": [
    {
     "data": {
      "text/plain": [
       "True"
      ]
     },
     "execution_count": 77,
     "metadata": {},
     "output_type": "execute_result"
    }
   ],
   "source": [
    "List1 is not List2"
   ]
  },
  {
   "cell_type": "code",
   "execution_count": 78,
   "metadata": {},
   "outputs": [
    {
     "data": {
      "text/plain": [
       "False"
      ]
     },
     "execution_count": 78,
     "metadata": {},
     "output_type": "execute_result"
    }
   ],
   "source": [
    "x is y"
   ]
  },
  {
   "cell_type": "code",
   "execution_count": 79,
   "metadata": {},
   "outputs": [
    {
     "data": {
      "text/plain": [
       "False"
      ]
     },
     "execution_count": 79,
     "metadata": {},
     "output_type": "execute_result"
    }
   ],
   "source": [
    "List1 is List2"
   ]
  },
  {
   "cell_type": "markdown",
   "metadata": {},
   "source": [
    "## Membership Operators\n",
    "Membership operators are used to check if a sequence is present in the object"
   ]
  },
  {
   "cell_type": "code",
   "execution_count": 80,
   "metadata": {},
   "outputs": [],
   "source": [
    "List1=[10,20,30]\n",
    "List2=[10,20,30]"
   ]
  },
  {
   "cell_type": "code",
   "execution_count": 81,
   "metadata": {},
   "outputs": [
    {
     "data": {
      "text/plain": [
       "True"
      ]
     },
     "execution_count": 81,
     "metadata": {},
     "output_type": "execute_result"
    }
   ],
   "source": [
    "10 in List1 #Check if the element 10 is in list1"
   ]
  },
  {
   "cell_type": "code",
   "execution_count": 82,
   "metadata": {},
   "outputs": [
    {
     "data": {
      "text/plain": [
       "True"
      ]
     },
     "execution_count": 82,
     "metadata": {},
     "output_type": "execute_result"
    }
   ],
   "source": [
    "10 in List2 #Check if the element 10 is in list2"
   ]
  },
  {
   "cell_type": "code",
   "execution_count": 83,
   "metadata": {},
   "outputs": [
    {
     "data": {
      "text/plain": [
       "(10, 20, True)"
      ]
     },
     "execution_count": 83,
     "metadata": {},
     "output_type": "execute_result"
    }
   ],
   "source": [
    "10,20,30 in List1"
   ]
  },
  {
   "cell_type": "code",
   "execution_count": 84,
   "metadata": {},
   "outputs": [
    {
     "data": {
      "text/plain": [
       "(10, 20, True)"
      ]
     },
     "execution_count": 84,
     "metadata": {},
     "output_type": "execute_result"
    }
   ],
   "source": [
    "10,20,30 in List2"
   ]
  },
  {
   "cell_type": "code",
   "execution_count": 85,
   "metadata": {},
   "outputs": [
    {
     "data": {
      "text/plain": [
       "False"
      ]
     },
     "execution_count": 85,
     "metadata": {},
     "output_type": "execute_result"
    }
   ],
   "source": [
    "List1 in List2"
   ]
  },
  {
   "cell_type": "code",
   "execution_count": 86,
   "metadata": {},
   "outputs": [
    {
     "data": {
      "text/plain": [
       "True"
      ]
     },
     "execution_count": 86,
     "metadata": {},
     "output_type": "execute_result"
    }
   ],
   "source": [
    "List1==List2"
   ]
  },
  {
   "cell_type": "markdown",
   "metadata": {},
   "source": [
    "## Bitwise Operator\n",
    "Bitwise Operators are used to compare binary Numbers"
   ]
  },
  {
   "cell_type": "code",
   "execution_count": 87,
   "metadata": {},
   "outputs": [],
   "source": [
    "#Complement(~)\n",
    "#And(&)\n",
    "#Or(|)\n",
    "#XOR(^)\n",
    "#Left Shift(<<)\n",
    "#Right Shift(>>)"
   ]
  },
  {
   "cell_type": "code",
   "execution_count": 88,
   "metadata": {},
   "outputs": [
    {
     "name": "stdout",
     "output_type": "stream",
     "text": [
      "-13\n"
     ]
    }
   ],
   "source": [
    "#Complement(~)\n",
    "x=~12\n",
    "print(x) #compliment of decimal 12(Compliment of binary 12+1)"
   ]
  },
  {
   "cell_type": "code",
   "execution_count": 89,
   "metadata": {},
   "outputs": [
    {
     "name": "stdout",
     "output_type": "stream",
     "text": [
      "12\n"
     ]
    }
   ],
   "source": [
    "#Complement(~)\n",
    "x=~-13\n",
    "print(x) #compliment of decimal -13(compliment of binary -13+1)"
   ]
  },
  {
   "cell_type": "code",
   "execution_count": 90,
   "metadata": {},
   "outputs": [
    {
     "ename": "TypeError",
     "evalue": "bad operand type for unary ~: 'float'",
     "output_type": "error",
     "traceback": [
      "\u001b[1;31m---------------------------------------------------------------------------\u001b[0m",
      "\u001b[1;31mTypeError\u001b[0m                                 Traceback (most recent call last)",
      "\u001b[1;32m<ipython-input-90-b94beceefd92>\u001b[0m in \u001b[0;36m<module>\u001b[1;34m\u001b[0m\n\u001b[0;32m      1\u001b[0m \u001b[1;31m#Complement(~)\u001b[0m\u001b[1;33m\u001b[0m\u001b[1;33m\u001b[0m\u001b[1;33m\u001b[0m\u001b[0m\n\u001b[1;32m----> 2\u001b[1;33m \u001b[0mx\u001b[0m\u001b[1;33m=\u001b[0m\u001b[1;33m~\u001b[0m\u001b[1;36m12.35\u001b[0m\u001b[1;33m\u001b[0m\u001b[1;33m\u001b[0m\u001b[0m\n\u001b[0m\u001b[0;32m      3\u001b[0m \u001b[0mprint\u001b[0m\u001b[1;33m(\u001b[0m\u001b[0mx\u001b[0m\u001b[1;33m)\u001b[0m\u001b[1;33m\u001b[0m\u001b[1;33m\u001b[0m\u001b[0m\n",
      "\u001b[1;31mTypeError\u001b[0m: bad operand type for unary ~: 'float'"
     ]
    }
   ],
   "source": [
    "#Complement(~)\n",
    "x=~12.35\n",
    "print(x)"
   ]
  },
  {
   "cell_type": "code",
   "execution_count": 91,
   "metadata": {},
   "outputs": [
    {
     "name": "stdout",
     "output_type": "stream",
     "text": [
      "12\n"
     ]
    }
   ],
   "source": [
    "#And(&)\n",
    "x=12&13\n",
    "print(x) #Binary of 12+Binary of 13=if both of place values have 1 then only 1 otherwise 0"
   ]
  },
  {
   "cell_type": "code",
   "execution_count": 92,
   "metadata": {},
   "outputs": [
    {
     "name": "stdout",
     "output_type": "stream",
     "text": [
      "13\n"
     ]
    }
   ],
   "source": [
    "#Or(|)\n",
    "x=12|13\n",
    "print(x) #Binary of 12+Binary of 13=if both of place values have 0 then only 0 otherwise 1"
   ]
  },
  {
   "cell_type": "code",
   "execution_count": 93,
   "metadata": {},
   "outputs": [
    {
     "name": "stdout",
     "output_type": "stream",
     "text": [
      "1\n"
     ]
    }
   ],
   "source": [
    "#XOR(^)\n",
    "x=12^13\n",
    "print(x)#Binary of 12+Binary of 13=if both of the place values are different then only 1 otherwise 0"
   ]
  },
  {
   "cell_type": "code",
   "execution_count": 94,
   "metadata": {},
   "outputs": [
    {
     "name": "stdout",
     "output_type": "stream",
     "text": [
      "40\n"
     ]
    }
   ],
   "source": [
    "#Left Shift(<<)\n",
    "x=10<<2\n",
    "print(x) #Binary format of 10 ie 1010 gains 2 bits and becomes 101000 [int/decimal(101000)=40]"
   ]
  },
  {
   "cell_type": "code",
   "execution_count": 95,
   "metadata": {},
   "outputs": [
    {
     "name": "stdout",
     "output_type": "stream",
     "text": [
      "2\n"
     ]
    }
   ],
   "source": [
    "#Right Shift(>>)\n",
    "x=10>>2\n",
    "print(x) #Binary format of 10 ie 1010 looses 2 bits and become 10 [int/decimal(10)=2]"
   ]
  },
  {
   "cell_type": "markdown",
   "metadata": {},
   "source": [
    "## Unery Operator"
   ]
  },
  {
   "cell_type": "code",
   "execution_count": 96,
   "metadata": {},
   "outputs": [],
   "source": [
    "int=7"
   ]
  },
  {
   "cell_type": "code",
   "execution_count": 97,
   "metadata": {},
   "outputs": [
    {
     "data": {
      "text/plain": [
       "7"
      ]
     },
     "execution_count": 97,
     "metadata": {},
     "output_type": "execute_result"
    }
   ],
   "source": [
    "int"
   ]
  },
  {
   "cell_type": "code",
   "execution_count": 98,
   "metadata": {},
   "outputs": [
    {
     "data": {
      "text/plain": [
       "-7"
      ]
     },
     "execution_count": 98,
     "metadata": {},
     "output_type": "execute_result"
    }
   ],
   "source": [
    "-int"
   ]
  },
  {
   "cell_type": "code",
   "execution_count": 99,
   "metadata": {},
   "outputs": [],
   "source": [
    "int=-int"
   ]
  },
  {
   "cell_type": "code",
   "execution_count": 100,
   "metadata": {},
   "outputs": [
    {
     "data": {
      "text/plain": [
       "-7"
      ]
     },
     "execution_count": 100,
     "metadata": {},
     "output_type": "execute_result"
    }
   ],
   "source": [
    "int"
   ]
  }
 ],
 "metadata": {
  "kernelspec": {
   "display_name": "Python 3",
   "language": "python",
   "name": "python3"
  },
  "language_info": {
   "codemirror_mode": {
    "name": "ipython",
    "version": 3
   },
   "file_extension": ".py",
   "mimetype": "text/x-python",
   "name": "python",
   "nbconvert_exporter": "python",
   "pygments_lexer": "ipython3",
   "version": "3.8.8"
  },
  "toc": {
   "base_numbering": 1,
   "nav_menu": {},
   "number_sections": true,
   "sideBar": true,
   "skip_h1_title": false,
   "title_cell": "Table of Contents",
   "title_sidebar": "Contents",
   "toc_cell": true,
   "toc_position": {
    "height": "calc(100% - 180px)",
    "left": "10px",
    "top": "150px",
    "width": "273.188px"
   },
   "toc_section_display": true,
   "toc_window_display": false
  }
 },
 "nbformat": 4,
 "nbformat_minor": 2
}
