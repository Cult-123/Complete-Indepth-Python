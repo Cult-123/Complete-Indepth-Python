{
 "cells": [
  {
   "cell_type": "markdown",
   "id": "f7c1dce3",
   "metadata": {
    "toc": true
   },
   "source": [
    "<h1>Table of Contents<span class=\"tocSkip\"></span></h1>\n",
    "<div class=\"toc\"><ul class=\"toc-item\"><li><span><a href=\"#Series(data=[],-index=[])-creates-indexes-by-default-in-the-Data-structure\" data-toc-modified-id=\"Series(data=[],-index=[])-creates-indexes-by-default-in-the-Data-structure-1\"><span class=\"toc-item-num\">1&nbsp;&nbsp;</span>Series(data=[], index=[]) creates indexes by default in the Data structure</a></span><ul class=\"toc-item\"><li><span><a href=\"#Series-is-always-1D-data-structure-(one-dimentional)\" data-toc-modified-id=\"Series-is-always-1D-data-structure-(one-dimentional)-1.1\"><span class=\"toc-item-num\">1.1&nbsp;&nbsp;</span>Series is always 1D data structure (one dimentional)</a></span></li><li><span><a href=\"#Creating-a-Series-from-Python-Objects-like-list,-tuple,-set-&amp;-dict\" data-toc-modified-id=\"Creating-a-Series-from-Python-Objects-like-list,-tuple,-set-&amp;-dict-1.2\"><span class=\"toc-item-num\">1.2&nbsp;&nbsp;</span>Creating a Series from Python Objects like list, tuple, set &amp; dict</a></span></li><li><span><a href=\"#Index-and-Data-Lists\" data-toc-modified-id=\"Index-and-Data-Lists-1.3\"><span class=\"toc-item-num\">1.3&nbsp;&nbsp;</span>Index and Data Lists</a></span></li><li><span><a href=\"#Creating-Series-From-a--Dictionary,-series(data={},-index={}.keys())\" data-toc-modified-id=\"Creating-Series-From-a--Dictionary,-series(data={},-index={}.keys())-1.4\"><span class=\"toc-item-num\">1.4&nbsp;&nbsp;</span>Creating Series From a  Dictionary, series(data={}, index={}.keys())</a></span></li><li><span><a href=\"#indexing-of-series[-:-,-:-]-&amp;-naming-of-the-series-and-it's-index-using..-series.name-=-&quot;series_name&quot;-&amp;-series.index.name-=-&quot;index_name&quot;\" data-toc-modified-id=\"indexing-of-series[-:-,-:-]-&amp;-naming-of-the-series-and-it's-index-using..-series.name-=-&quot;series_name&quot;-&amp;-series.index.name-=-&quot;index_name&quot;-1.5\"><span class=\"toc-item-num\">1.5&nbsp;&nbsp;</span>indexing of series[ : , : ] &amp; naming of the series and it's index using.. series.name = \"series_name\" &amp; series.index.name = \"index_name\"</a></span></li><li><span><a href=\"#adding-preffix-&amp;-suffix-to-series-index,-series=series.add_prefix(&quot;before_&quot;)-&amp;-series=series.add_suffix(&quot;_after&quot;)\" data-toc-modified-id=\"adding-preffix-&amp;-suffix-to-series-index,-series=series.add_prefix(&quot;before_&quot;)-&amp;-series=series.add_suffix(&quot;_after&quot;)-1.6\"><span class=\"toc-item-num\">1.6&nbsp;&nbsp;</span>adding preffix &amp; suffix to series index, series=series.add_prefix(\"before_\") &amp; series=series.add_suffix(\"_after\")</a></span></li><li><span><a href=\"#series.iloc[-:-,-:-]-&amp;-series.loc[-:-,-:-]-for-default-indexing-&amp;-defined-indexing-&amp;-boolean-series.loc[[True,False,True]]\" data-toc-modified-id=\"series.iloc[-:-,-:-]-&amp;-series.loc[-:-,-:-]-for-default-indexing-&amp;-defined-indexing-&amp;-boolean-series.loc[[True,False,True]]-1.7\"><span class=\"toc-item-num\">1.7&nbsp;&nbsp;</span>series.iloc[ : , : ] &amp; series.loc[ : , : ] for default indexing &amp; defined indexing &amp; boolean series.loc[[True,False,True]]</a></span></li><li><span><a href=\"#Boolean-Masks-with-.loc[-]-&amp;-iloc[-]-indexer\" data-toc-modified-id=\"Boolean-Masks-with-.loc[-]-&amp;-iloc[-]-indexer-1.8\"><span class=\"toc-item-num\">1.8&nbsp;&nbsp;</span>Boolean Masks with .loc[ ] &amp; iloc[ ] indexer</a></span></li><li><span><a href=\"#series-indexing-using-.iloc[-]-&amp;-.loc[-]-combining-with-lambda\" data-toc-modified-id=\"series-indexing-using-.iloc[-]-&amp;-.loc[-]-combining-with-lambda-1.9\"><span class=\"toc-item-num\">1.9&nbsp;&nbsp;</span>series indexing using .iloc[ ] &amp; .loc[ ] combining with lambda</a></span></li><li><span><a href=\"#seriesindexing-using-series.get()\" data-toc-modified-id=\"seriesindexing-using-series.get()-1.10\"><span class=\"toc-item-num\">1.10&nbsp;&nbsp;</span>seriesindexing using series.get()</a></span></li><li><span><a href=\"#Converting-1D-Array-into-Series,-only-1D-array-can-be-converted-into-series\" data-toc-modified-id=\"Converting-1D-Array-into-Series,-only-1D-array-can-be-converted-into-series-1.11\"><span class=\"toc-item-num\">1.11&nbsp;&nbsp;</span>Converting 1D Array into Series, only 1D array can be converted into series</a></span></li></ul></li><li><span><a href=\"#Key-Ideas-of-a-Series\" data-toc-modified-id=\"Key-Ideas-of-a-Series-2\"><span class=\"toc-item-num\">2&nbsp;&nbsp;</span>Key Ideas of a Series</a></span><ul class=\"toc-item\"><li><span><a href=\"#Operations\" data-toc-modified-id=\"Operations-2.1\"><span class=\"toc-item-num\">2.1&nbsp;&nbsp;</span>Operations</a></span></li><li><span><a href=\"#Dictionary-works-with-both-dict.keys()-&amp;-dict.values()-but-series-works-with-series.keys()-&amp;-series.values\" data-toc-modified-id=\"Dictionary-works-with-both-dict.keys()-&amp;-dict.values()-but-series-works-with-series.keys()-&amp;-series.values-2.2\"><span class=\"toc-item-num\">2.2&nbsp;&nbsp;</span>Dictionary works with both dict.keys() &amp; dict.values() but series works with series.keys() &amp; series.values</a></span></li><li><span><a href=\"#Operations-Between-Series\" data-toc-modified-id=\"Operations-Between-Series-2.3\"><span class=\"toc-item-num\">2.3&nbsp;&nbsp;</span>Operations Between Series</a></span></li></ul></li><li><span><a href=\"#DataFrames-has-both-row-indexes-&amp;-column-indexes\" data-toc-modified-id=\"DataFrames-has-both-row-indexes-&amp;-column-indexes-3\"><span class=\"toc-item-num\">3&nbsp;&nbsp;</span>DataFrames has both row indexes &amp; column indexes</a></span><ul class=\"toc-item\"><li><span><a href=\"#DataFrame(data=[],-index=[],-columns=[])-and-DataFrame-only-works-with-2D-data-structure\" data-toc-modified-id=\"DataFrame(data=[],-index=[],-columns=[])-and-DataFrame-only-works-with-2D-data-structure-3.1\"><span class=\"toc-item-num\">3.1&nbsp;&nbsp;</span>DataFrame(data=[], index=[], columns=[]) and DataFrame only works with 2D data structure</a></span></li><li><span><a href=\"#Creating-a-DataFrame-from-Python-Objects\" data-toc-modified-id=\"Creating-a-DataFrame-from-Python-Objects-3.2\"><span class=\"toc-item-num\">3.2&nbsp;&nbsp;</span>Creating a DataFrame from Python Objects</a></span></li><li><span><a href=\"#What-Is-A-DataFrame?\" data-toc-modified-id=\"What-Is-A-DataFrame?-3.3\"><span class=\"toc-item-num\">3.3&nbsp;&nbsp;</span>What Is A DataFrame?</a></span></li></ul></li><li><span><a href=\"#Reading-a-.csv-file-for-a-DataFrame\" data-toc-modified-id=\"Reading-a-.csv-file-for-a-DataFrame-4\"><span class=\"toc-item-num\">4&nbsp;&nbsp;</span>Reading a .csv file for a DataFrame</a></span><ul class=\"toc-item\"><li><span><a href=\"#NOTE:-We-will-go-over-all-kinds-of-data-inputs-and-outputs-(.html,-.csv,-.xlxs-,-etc...)-later-on-in-the-course!-For-now-we-just-need-to-read-in-a-simple-.csv-file.\" data-toc-modified-id=\"NOTE:-We-will-go-over-all-kinds-of-data-inputs-and-outputs-(.html,-.csv,-.xlxs-,-etc...)-later-on-in-the-course!-For-now-we-just-need-to-read-in-a-simple-.csv-file.-4.1\"><span class=\"toc-item-num\">4.1&nbsp;&nbsp;</span>NOTE: We will go over all kinds of data inputs and outputs (.html, .csv, .xlxs , etc...) later on in the course! For now we just need to read in a simple .csv file.</a></span></li><li><span><a href=\"#CSV\" data-toc-modified-id=\"CSV-4.2\"><span class=\"toc-item-num\">4.2&nbsp;&nbsp;</span>CSV</a></span></li><li><span><a href=\"#Understanding-File-Paths\" data-toc-modified-id=\"Understanding-File-Paths-4.3\"><span class=\"toc-item-num\">4.3&nbsp;&nbsp;</span>Understanding File Paths</a></span></li></ul></li><li><span><a href=\"#DataFrame-Axes\" data-toc-modified-id=\"DataFrame-Axes-5\"><span class=\"toc-item-num\">5&nbsp;&nbsp;</span>DataFrame Axes</a></span><ul class=\"toc-item\"><li><span><a href=\"#3-Changing-DataFrame-index-dtype\" data-toc-modified-id=\"3-Changing-DataFrame-index-dtype-5.1\"><span class=\"toc-item-num\">5.1&nbsp;&nbsp;</span>3 Changing DataFrame index dtype</a></span></li><li><span><a href=\"#DataFrame-Extraction-By-Position\" data-toc-modified-id=\"DataFrame-Extraction-By-Position-5.2\"><span class=\"toc-item-num\">5.2&nbsp;&nbsp;</span>DataFrame Extraction By Position</a></span><ul class=\"toc-item\"><li><span><a href=\"#boolean-indexing\" data-toc-modified-id=\"boolean-indexing-5.2.1\"><span class=\"toc-item-num\">5.2.1&nbsp;&nbsp;</span>boolean indexing</a></span></li></ul></li><li><span><a href=\"#More-Cleanup:-Going-Numeric\" data-toc-modified-id=\"More-Cleanup:-Going-Numeric-5.3\"><span class=\"toc-item-num\">5.3&nbsp;&nbsp;</span>More Cleanup: Going Numeric</a></span></li><li><span><a href=\"#The-astype()-Method\" data-toc-modified-id=\"The-astype()-Method-5.4\"><span class=\"toc-item-num\">5.4&nbsp;&nbsp;</span>The astype() Method</a></span></li><li><span><a href=\"#DataFrame-replace()-+-A-Glimpse-At-Regex\" data-toc-modified-id=\"DataFrame-replace()-+-A-Glimpse-At-Regex-5.5\"><span class=\"toc-item-num\">5.5&nbsp;&nbsp;</span>DataFrame replace() + A Glimpse At Regex</a></span></li><li><span><a href=\"#Part-I:-Collecting-the-Units\" data-toc-modified-id=\"Part-I:-Collecting-the-Units-5.6\"><span class=\"toc-item-num\">5.6&nbsp;&nbsp;</span>Part I: Collecting the Units</a></span></li><li><span><a href=\"#The-rename()-Method\" data-toc-modified-id=\"The-rename()-Method-5.7\"><span class=\"toc-item-num\">5.7&nbsp;&nbsp;</span>The rename() Method</a></span></li><li><span><a href=\"#series.size,-series.shape,-len(series)\" data-toc-modified-id=\"series.size,-series.shape,-len(series)-5.8\"><span class=\"toc-item-num\">5.8&nbsp;&nbsp;</span>series.size, series.shape, len(series)</a></span></li><li><span><a href=\"#Unique-Values-and-Series-Monotonicity-Direction\" data-toc-modified-id=\"Unique-Values-and-Series-Monotonicity-Direction-5.9\"><span class=\"toc-item-num\">5.9&nbsp;&nbsp;</span>Unique Values and Series Monotonicity Direction</a></span></li><li><span><a href=\"#The-element-frequency-count()-Method-for-a-series\" data-toc-modified-id=\"The-element-frequency-count()-Method-for-a-series-5.10\"><span class=\"toc-item-num\">5.10&nbsp;&nbsp;</span>The element frequency count() Method for a series</a></span></li><li><span><a href=\"#Accessing-And-Counting-NA's-using-series.isnull(-)-&amp;-series.isna(-)-&amp;-isnan(series)\" data-toc-modified-id=\"Accessing-And-Counting-NA's-using-series.isnull(-)-&amp;-series.isna(-)-&amp;-isnan(series)-5.11\"><span class=\"toc-item-num\">5.11&nbsp;&nbsp;</span>Accessing And Counting NA's using series.isnull( ) &amp; series.isna( ) &amp; isnan(series)</a></span></li><li><span><a href=\"#The-Other-Side:-notnull(-)-And-notna(-)\" data-toc-modified-id=\"The-Other-Side:-notnull(-)-And-notna(-)-5.12\"><span class=\"toc-item-num\">5.12&nbsp;&nbsp;</span>The Other Side: notnull( ) And notna( )</a></span></li><li><span><a href=\"#BONUS:-Booleans-Are-Literally-Numbers-In-Python\" data-toc-modified-id=\"BONUS:-Booleans-Are-Literally-Numbers-In-Python-5.13\"><span class=\"toc-item-num\">5.13&nbsp;&nbsp;</span>BONUS: Booleans Are Literally Numbers In Python</a></span></li><li><span><a href=\"#Dropping-And-Filling-NAs-using-series.dropna(-)-&amp;-series.fillna(-)\" data-toc-modified-id=\"Dropping-And-Filling-NAs-using-series.dropna(-)-&amp;-series.fillna(-)-5.14\"><span class=\"toc-item-num\">5.14&nbsp;&nbsp;</span>Dropping And Filling NAs using series.dropna( ) &amp; series.fillna( )</a></span></li><li><span><a href=\"#Descriptive-Statistics\" data-toc-modified-id=\"Descriptive-Statistics-5.15\"><span class=\"toc-item-num\">5.15&nbsp;&nbsp;</span>Descriptive Statistics</a></span></li><li><span><a href=\"#idxmax()-And-idxmin()\" data-toc-modified-id=\"idxmax()-And-idxmin()-5.16\"><span class=\"toc-item-num\">5.16&nbsp;&nbsp;</span>idxmax() And idxmin()</a></span></li><li><span><a href=\"#Sorting-With-sort_values()\" data-toc-modified-id=\"Sorting-With-sort_values()-5.17\"><span class=\"toc-item-num\">5.17&nbsp;&nbsp;</span>Sorting With sort_values()</a></span></li><li><span><a href=\"#Series-Arithmetics-And-fill_value(-)-,-adding-new-indexes-&amp;-values-to-a-series-using-series1.add(series2,-fill_value=0)\" data-toc-modified-id=\"Series-Arithmetics-And-fill_value(-)-,-adding-new-indexes-&amp;-values-to-a-series-using-series1.add(series2,-fill_value=0)-5.18\"><span class=\"toc-item-num\">5.18&nbsp;&nbsp;</span>Series Arithmetics And fill_value( ) , adding new indexes &amp; values to a series using series1.add(series2, fill_value=0)</a></span></li><li><span><a href=\"#BONUS:-Calculating-Variance-And-Standard-Deviation\" data-toc-modified-id=\"BONUS:-Calculating-Variance-And-Standard-Deviation-5.19\"><span class=\"toc-item-num\">5.19&nbsp;&nbsp;</span>BONUS: Calculating Variance And Standard Deviation</a></span></li><li><span><a href=\"#Cumulative-Operations\" data-toc-modified-id=\"Cumulative-Operations-5.20\"><span class=\"toc-item-num\">5.20&nbsp;&nbsp;</span>Cumulative Operations</a></span></li><li><span><a href=\"#Pairwise-Differences-With-diff()\" data-toc-modified-id=\"Pairwise-Differences-With-diff()-5.21\"><span class=\"toc-item-num\">5.21&nbsp;&nbsp;</span>Pairwise Differences With diff()</a></span></li><li><span><a href=\"#Series-Iteration-is-like-Dictionary-iteration,-we-will-use-Series.items(-),-Series.iteritems(-),-Dict.items(-)\" data-toc-modified-id=\"Series-Iteration-is-like-Dictionary-iteration,-we-will-use-Series.items(-),-Series.iteritems(-),-Dict.items(-)-5.22\"><span class=\"toc-item-num\">5.22&nbsp;&nbsp;</span>Series Iteration is like Dictionary iteration, we will use Series.items( ), Series.iteritems( ), Dict.items( )</a></span></li><li><span><a href=\"#Filtering:-Series.filter(-),-Series.where(-),-And-Series.mask(-)-for-labelled-indexes\" data-toc-modified-id=\"Filtering:-Series.filter(-),-Series.where(-),-And-Series.mask(-)-for-labelled-indexes-5.23\"><span class=\"toc-item-num\">5.23&nbsp;&nbsp;</span>Filtering: Series.filter( ), Series.where( ), And Series.mask( ) for labelled indexes</a></span></li><li><span><a href=\"#the-where()-method\" data-toc-modified-id=\"the-where()-method-5.24\"><span class=\"toc-item-num\">5.24&nbsp;&nbsp;</span>the where() method</a></span></li><li><span><a href=\"#the-mask()-method\" data-toc-modified-id=\"the-mask()-method-5.25\"><span class=\"toc-item-num\">5.25&nbsp;&nbsp;</span>the mask() method</a></span></li><li><span><a href=\"#Transforming-With-Series1.update(Series2),-Series.apply()-And-Series.map()\" data-toc-modified-id=\"Transforming-With-Series1.update(Series2),-Series.apply()-And-Series.map()-5.26\"><span class=\"toc-item-num\">5.26&nbsp;&nbsp;</span>Transforming With Series1.update(Series2), Series.apply() And Series.map()</a></span></li></ul></li><li><span><a href=\"#DataFrames(data=[],-index=[],-columns=[])\" data-toc-modified-id=\"DataFrames(data=[],-index=[],-columns=[])-6\"><span class=\"toc-item-num\">6&nbsp;&nbsp;</span>DataFrames(data=[], index=[], columns=[])</a></span><ul class=\"toc-item\"><li><span><a href=\"#Obtaining-Basic-Information-About-DataFrame\" data-toc-modified-id=\"Obtaining-Basic-Information-About-DataFrame-6.1\"><span class=\"toc-item-num\">6.1&nbsp;&nbsp;</span>Obtaining Basic Information About DataFrame</a></span></li><li><span><a href=\"#Selection-and-Indexing\" data-toc-modified-id=\"Selection-and-Indexing-6.2\"><span class=\"toc-item-num\">6.2&nbsp;&nbsp;</span>Selection and Indexing</a></span></li><li><span><a href=\"#COLUMNS\" data-toc-modified-id=\"COLUMNS-6.3\"><span class=\"toc-item-num\">6.3&nbsp;&nbsp;</span>COLUMNS</a></span></li><li><span><a href=\"#Grab-a-Single-Column\" data-toc-modified-id=\"Grab-a-Single-Column-6.4\"><span class=\"toc-item-num\">6.4&nbsp;&nbsp;</span>Grab a Single Column</a></span></li><li><span><a href=\"#Grab-Multiple-Columns-using-columns-list-[-]\" data-toc-modified-id=\"Grab-Multiple-Columns-using-columns-list-[-]-6.5\"><span class=\"toc-item-num\">6.5&nbsp;&nbsp;</span>Grab Multiple Columns using columns list [ ]</a></span></li><li><span><a href=\"#Create-New-Columns\" data-toc-modified-id=\"Create-New-Columns-6.6\"><span class=\"toc-item-num\">6.6&nbsp;&nbsp;</span>Create New Columns</a></span></li><li><span><a href=\"#Adjust-Existing-Columns-by-rounding-off-decimals-round()\" data-toc-modified-id=\"Adjust-Existing-Columns-by-rounding-off-decimals-round()-6.7\"><span class=\"toc-item-num\">6.7&nbsp;&nbsp;</span>Adjust Existing Columns by rounding off decimals round()</a></span></li><li><span><a href=\"#Remove-Columns\" data-toc-modified-id=\"Remove-Columns-6.8\"><span class=\"toc-item-num\">6.8&nbsp;&nbsp;</span>Remove Columns</a></span></li></ul></li><li><span><a href=\"#Row-&amp;-Column-Indexes-of-a-DataFrame\" data-toc-modified-id=\"Row-&amp;-Column-Indexes-of-a-DataFrame-7\"><span class=\"toc-item-num\">7&nbsp;&nbsp;</span>Row &amp; Column Indexes of a DataFrame</a></span><ul class=\"toc-item\"><li><span><a href=\"#Grab-a-Single-Row-from-the-DataFrame\" data-toc-modified-id=\"Grab-a-Single-Row-from-the-DataFrame-7.1\"><span class=\"toc-item-num\">7.1&nbsp;&nbsp;</span>Grab a Single Row from the DataFrame</a></span></li><li><span><a href=\"#Grab-Multiple-Rows-using-row-index-list-[-]\" data-toc-modified-id=\"Grab-Multiple-Rows-using-row-index-list-[-]-7.2\"><span class=\"toc-item-num\">7.2&nbsp;&nbsp;</span>Grab Multiple Rows using row index list [ ]</a></span></li><li><span><a href=\"#Drop-Single-Row-&amp;-Multiple-Row-using-either-default-Row-index-or-user-defined-Row-index\" data-toc-modified-id=\"Drop-Single-Row-&amp;-Multiple-Row-using-either-default-Row-index-or-user-defined-Row-index-7.3\"><span class=\"toc-item-num\">7.3&nbsp;&nbsp;</span>Drop Single Row &amp; Multiple Row using either default Row index or user defined Row index</a></span></li></ul></li><li><span><a href=\"#Conditional-Filtering-for-DataFrame\" data-toc-modified-id=\"Conditional-Filtering-for-DataFrame-8\"><span class=\"toc-item-num\">8&nbsp;&nbsp;</span>Conditional Filtering for DataFrame</a></span><ul class=\"toc-item\"><li><span><a href=\"#Conditions\" data-toc-modified-id=\"Conditions-8.1\"><span class=\"toc-item-num\">8.1&nbsp;&nbsp;</span>Conditions</a></span></li><li><span><a href=\"#Multiple-Conditions\" data-toc-modified-id=\"Multiple-Conditions-8.2\"><span class=\"toc-item-num\">8.2&nbsp;&nbsp;</span>Multiple Conditions</a></span></li><li><span><a href=\"#Filtering-using-Conditional-Operator-isin()\" data-toc-modified-id=\"Filtering-using-Conditional-Operator-isin()-8.3\"><span class=\"toc-item-num\">8.3&nbsp;&nbsp;</span>Filtering using Conditional Operator isin()</a></span></li></ul></li><li><span><a href=\"#Useful-Methods\" data-toc-modified-id=\"Useful-Methods-9\"><span class=\"toc-item-num\">9&nbsp;&nbsp;</span>Useful Methods</a></span><ul class=\"toc-item\"><li><span><a href=\"#The-.apply()-method\" data-toc-modified-id=\"The-.apply()-method-9.1\"><span class=\"toc-item-num\">9.1&nbsp;&nbsp;</span>The .apply() method</a></span></li><li><span><a href=\"#apply-with-a-function\" data-toc-modified-id=\"apply-with-a-function-9.2\"><span class=\"toc-item-num\">9.2&nbsp;&nbsp;</span>apply with a function</a></span></li><li><span><a href=\"#Using-.apply()-with-more-complex-functions\" data-toc-modified-id=\"Using-.apply()-with-more-complex-functions-9.3\"><span class=\"toc-item-num\">9.3&nbsp;&nbsp;</span>Using .apply() with more complex functions</a></span></li><li><span><a href=\"#apply-with-lambda-function\" data-toc-modified-id=\"apply-with-lambda-function-9.4\"><span class=\"toc-item-num\">9.4&nbsp;&nbsp;</span>apply with lambda function</a></span></li><li><span><a href=\"#apply-that-uses-multiple-columns-for-filtering\" data-toc-modified-id=\"apply-that-uses-multiple-columns-for-filtering-9.5\"><span class=\"toc-item-num\">9.5&nbsp;&nbsp;</span>apply that uses multiple columns for filtering</a></span><ul class=\"toc-item\"><li><span><a href=\"#DataFrame.describe()-for-statistical-summaries\" data-toc-modified-id=\"DataFrame.describe()-for-statistical-summaries-9.5.1\"><span class=\"toc-item-num\">9.5.1&nbsp;&nbsp;</span>DataFrame.describe() for statistical summaries</a></span></li><li><span><a href=\"#DataFrame.sort_values(&quot;Column&quot;)\" data-toc-modified-id=\"DataFrame.sort_values(&quot;Column&quot;)-9.5.2\"><span class=\"toc-item-num\">9.5.2&nbsp;&nbsp;</span>DataFrame.sort_values(\"Column\")</a></span></li><li><span><a href=\"#idxmin-and-idxmax\" data-toc-modified-id=\"idxmin-and-idxmax-9.5.3\"><span class=\"toc-item-num\">9.5.3&nbsp;&nbsp;</span>idxmin and idxmax</a></span></li></ul></li><li><span><a href=\"#df.corr(-)-for-correlation-checks\" data-toc-modified-id=\"df.corr(-)-for-correlation-checks-9.6\"><span class=\"toc-item-num\">9.6&nbsp;&nbsp;</span>df.corr( ) for correlation checks</a></span><ul class=\"toc-item\"><li><span><a href=\"#DataFrame[&quot;Column&quot;].value_counts()-or-frequency-count\" data-toc-modified-id=\"DataFrame[&quot;Column&quot;].value_counts()-or-frequency-count-9.6.1\"><span class=\"toc-item-num\">9.6.1&nbsp;&nbsp;</span>DataFrame[\"Column\"].value_counts() or frequency count</a></span></li><li><span><a href=\"#unique\" data-toc-modified-id=\"unique-9.6.2\"><span class=\"toc-item-num\">9.6.2&nbsp;&nbsp;</span>unique</a></span></li><li><span><a href=\"#.replace(-to_replace=val1,-value=val2)\" data-toc-modified-id=\".replace(-to_replace=val1,-value=val2)-9.6.3\"><span class=\"toc-item-num\">9.6.3&nbsp;&nbsp;</span>.replace( to_replace=val1, value=val2)</a></span></li><li><span><a href=\"#.map(-)\" data-toc-modified-id=\".map(-)-9.6.4\"><span class=\"toc-item-num\">9.6.4&nbsp;&nbsp;</span>.map( )</a></span></li></ul></li><li><span><a href=\"#Duplicates\" data-toc-modified-id=\"Duplicates-9.7\"><span class=\"toc-item-num\">9.7&nbsp;&nbsp;</span>Duplicates</a></span><ul class=\"toc-item\"><li><span><a href=\"#.duplicated(-)-and-.drop_duplicates(-)\" data-toc-modified-id=\".duplicated(-)-and-.drop_duplicates(-)-9.7.1\"><span class=\"toc-item-num\">9.7.1&nbsp;&nbsp;</span>.duplicated( ) and .drop_duplicates( )</a></span></li></ul></li><li><span><a href=\"#.between(-)\" data-toc-modified-id=\".between(-)-9.8\"><span class=\"toc-item-num\">9.8&nbsp;&nbsp;</span>.between( )</a></span></li><li><span><a href=\"#.sample()\" data-toc-modified-id=\".sample()-9.9\"><span class=\"toc-item-num\">9.9&nbsp;&nbsp;</span>.sample()</a></span></li><li><span><a href=\"#nlargest-and-nsmallest\" data-toc-modified-id=\"nlargest-and-nsmallest-9.10\"><span class=\"toc-item-num\">9.10&nbsp;&nbsp;</span>nlargest and nsmallest</a></span></li></ul></li><li><span><a href=\"#Missing-Data-(Keep,-Replace-or-Drop)\" data-toc-modified-id=\"Missing-Data-(Keep,-Replace-or-Drop)-10\"><span class=\"toc-item-num\">10&nbsp;&nbsp;</span>Missing Data (Keep, Replace or Drop)</a></span><ul class=\"toc-item\"><li><span><a href=\"#What-Null/NA/nan-objects-look-like:\" data-toc-modified-id=\"What-Null/NA/nan-objects-look-like:-10.1\"><span class=\"toc-item-num\">10.1&nbsp;&nbsp;</span>What Null/NA/nan objects look like:</a></span></li><li><span><a href=\"#Note!-Typical-comparisons-should-be-avoided-with-Missing-Values\" data-toc-modified-id=\"Note!-Typical-comparisons-should-be-avoided-with-Missing-Values-10.2\"><span class=\"toc-item-num\">10.2&nbsp;&nbsp;</span>Note! Typical comparisons should be avoided with Missing Values</a></span></li><li><span><a href=\"#Data\" data-toc-modified-id=\"Data-10.3\"><span class=\"toc-item-num\">10.3&nbsp;&nbsp;</span>Data</a></span></li><li><span><a href=\"#Checking-and-Selecting-for-Null-Values\" data-toc-modified-id=\"Checking-and-Selecting-for-Null-Values-10.4\"><span class=\"toc-item-num\">10.4&nbsp;&nbsp;</span>Checking and Selecting for Null Values</a></span></li><li><span><a href=\"#Drop-Data\" data-toc-modified-id=\"Drop-Data-10.5\"><span class=\"toc-item-num\">10.5&nbsp;&nbsp;</span>Drop Data</a></span></li><li><span><a href=\"#Fill-Data\" data-toc-modified-id=\"Fill-Data-10.6\"><span class=\"toc-item-num\">10.6&nbsp;&nbsp;</span>Fill Data</a></span></li><li><span><a href=\"#Filling-with-Interpolation\" data-toc-modified-id=\"Filling-with-Interpolation-10.7\"><span class=\"toc-item-num\">10.7&nbsp;&nbsp;</span>Filling with Interpolation</a></span></li></ul></li><li><span><a href=\"#Groupby-Operations-and-Multi-level-Index-in-Pandas-DataFrame\" data-toc-modified-id=\"Groupby-Operations-and-Multi-level-Index-in-Pandas-DataFrame-11\"><span class=\"toc-item-num\">11&nbsp;&nbsp;</span>Groupby Operations and Multi-level Index in Pandas DataFrame</a></span><ul class=\"toc-item\"><li><span><a href=\"#groupby()-method\" data-toc-modified-id=\"groupby()-method-11.1\"><span class=\"toc-item-num\">11.1&nbsp;&nbsp;</span>groupby() method</a></span></li><li><span><a href=\"#Groupby-Multiple-Columns\" data-toc-modified-id=\"Groupby-Multiple-Columns-11.2\"><span class=\"toc-item-num\">11.2&nbsp;&nbsp;</span>Groupby Multiple Columns</a></span></li></ul></li><li><span><a href=\"#MultiIndex-(-multi-index-created-by-groupby()-function-)\" data-toc-modified-id=\"MultiIndex-(-multi-index-created-by-groupby()-function-)-12\"><span class=\"toc-item-num\">12&nbsp;&nbsp;</span>MultiIndex ( multi index created by groupby() function )</a></span><ul class=\"toc-item\"><li><span><a href=\"#The-MultiIndex-Object,-Outer-groupby()-index-&amp;-inner-groupby()-index\" data-toc-modified-id=\"The-MultiIndex-Object,-Outer-groupby()-index-&amp;-inner-groupby()-index-12.1\"><span class=\"toc-item-num\">12.1&nbsp;&nbsp;</span>The MultiIndex Object, Outer groupby() index &amp; inner groupby() index</a></span></li></ul></li><li><span><a href=\"#Indexing-with-the-Hierarchical-Index\" data-toc-modified-id=\"Indexing-with-the-Hierarchical-Index-13\"><span class=\"toc-item-num\">13&nbsp;&nbsp;</span>Indexing with the Hierarchical Index</a></span><ul class=\"toc-item\"><li><span><a href=\"#Grab-Based-on-Most-Outside-iloc[-]-index\" data-toc-modified-id=\"Grab-Based-on-Most-Outside-iloc[-]-index-13.1\"><span class=\"toc-item-num\">13.1&nbsp;&nbsp;</span>Grab Based on Most Outside iloc[ ] index</a></span></li><li><span><a href=\"#Grab,-Based-on-groupby-created-Outer-index\" data-toc-modified-id=\"Grab,-Based-on-groupby-created-Outer-index-13.2\"><span class=\"toc-item-num\">13.2&nbsp;&nbsp;</span>Grab, Based on groupby created Outer index</a></span></li><li><span><a href=\"#Grab-a-Single-Row-by-combining-groupby-created-Outer-&amp;-inner-index\" data-toc-modified-id=\"Grab-a-Single-Row-by-combining-groupby-created-Outer-&amp;-inner-index-13.3\"><span class=\"toc-item-num\">13.3&nbsp;&nbsp;</span>Grab a Single Row by combining groupby created Outer &amp; inner index</a></span></li></ul></li><li><span><a href=\"#Grab-Based-on-Cross-section-with-.xs()\" data-toc-modified-id=\"Grab-Based-on-Cross-section-with-.xs()-14\"><span class=\"toc-item-num\">14&nbsp;&nbsp;</span>Grab Based on Cross-section with .xs()</a></span><ul class=\"toc-item\"><li><span><a href=\"#Parameters\" data-toc-modified-id=\"Parameters-14.1\"><span class=\"toc-item-num\">14.1&nbsp;&nbsp;</span>Parameters</a></span></li><li><span><a href=\"#Careful-note!\" data-toc-modified-id=\"Careful-note!-14.2\"><span class=\"toc-item-num\">14.2&nbsp;&nbsp;</span>Careful note!</a></span></li><li><span><a href=\"#Swap-Levels\" data-toc-modified-id=\"Swap-Levels-14.3\"><span class=\"toc-item-num\">14.3&nbsp;&nbsp;</span>Swap Levels</a></span></li><li><span><a href=\"#Sorting-MultiIndex\" data-toc-modified-id=\"Sorting-MultiIndex-14.4\"><span class=\"toc-item-num\">14.4&nbsp;&nbsp;</span>Sorting MultiIndex</a></span></li></ul></li><li><span><a href=\"#Advanced:-agg()-method\" data-toc-modified-id=\"Advanced:-agg()-method-15\"><span class=\"toc-item-num\">15&nbsp;&nbsp;</span>Advanced: agg() method</a></span><ul class=\"toc-item\"><li><span><a href=\"#Specify-aggregate-methods-per-column\" data-toc-modified-id=\"Specify-aggregate-methods-per-column-15.1\"><span class=\"toc-item-num\">15.1&nbsp;&nbsp;</span>Specify aggregate methods per column</a></span></li><li><span><a href=\"#agg()-with-groupby()\" data-toc-modified-id=\"agg()-with-groupby()-15.2\"><span class=\"toc-item-num\">15.2&nbsp;&nbsp;</span>agg() with groupby()</a></span></li></ul></li><li><span><a href=\"#Combining-DataFrames\" data-toc-modified-id=\"Combining-DataFrames-16\"><span class=\"toc-item-num\">16&nbsp;&nbsp;</span>Combining DataFrames</a></span><ul class=\"toc-item\"><li><span><a href=\"#Full-Official-Guide-(Lots-of-examples!)\" data-toc-modified-id=\"Full-Official-Guide-(Lots-of-examples!)-16.1\"><span class=\"toc-item-num\">16.1&nbsp;&nbsp;</span>Full Official Guide (Lots of examples!)</a></span><ul class=\"toc-item\"><li><span><a href=\"#https://pandas.pydata.org/pandas-docs/stable/user_guide/merging.html\" data-toc-modified-id=\"https://pandas.pydata.org/pandas-docs/stable/user_guide/merging.html-16.1.1\"><span class=\"toc-item-num\">16.1.1&nbsp;&nbsp;</span><a href=\"https://pandas.pydata.org/pandas-docs/stable/user_guide/merging.html\" rel=\"nofollow\" target=\"_blank\">https://pandas.pydata.org/pandas-docs/stable/user_guide/merging.html</a></a></span></li></ul></li><li><span><a href=\"#Concatenation\" data-toc-modified-id=\"Concatenation-16.2\"><span class=\"toc-item-num\">16.2&nbsp;&nbsp;</span>Concatenation</a></span></li><li><span><a href=\"#Axis-=-1\" data-toc-modified-id=\"Axis-=-1-16.3\"><span class=\"toc-item-num\">16.3&nbsp;&nbsp;</span>Axis = 1</a></span><ul class=\"toc-item\"><li><span><a href=\"#Concatenate-along-columns\" data-toc-modified-id=\"Concatenate-along-columns-16.3.1\"><span class=\"toc-item-num\">16.3.1&nbsp;&nbsp;</span>Concatenate along columns</a></span></li></ul></li><li><span><a href=\"#Axis-=-0\" data-toc-modified-id=\"Axis-=-0-16.4\"><span class=\"toc-item-num\">16.4&nbsp;&nbsp;</span>Axis = 0</a></span><ul class=\"toc-item\"><li><span><a href=\"#Concatenate-along-rows\" data-toc-modified-id=\"Concatenate-along-rows-16.4.1\"><span class=\"toc-item-num\">16.4.1&nbsp;&nbsp;</span>Concatenate along rows</a></span></li></ul></li></ul></li><li><span><a href=\"#Merge-(When-DataFrames-have-different-shapes)\" data-toc-modified-id=\"Merge-(When-DataFrames-have-different-shapes)-17\"><span class=\"toc-item-num\">17&nbsp;&nbsp;</span>Merge (When DataFrames have different shapes)</a></span><ul class=\"toc-item\"><li><span><a href=\"#Data-Tables\" data-toc-modified-id=\"Data-Tables-17.1\"><span class=\"toc-item-num\">17.1&nbsp;&nbsp;</span>Data Tables</a></span></li></ul></li><li><span><a href=\"#pd.merge()\" data-toc-modified-id=\"pd.merge()-18\"><span class=\"toc-item-num\">18&nbsp;&nbsp;</span>pd.merge()</a></span></li><li><span><a href=\"#Inner,Left,-Right,-and-Outer-Joins\" data-toc-modified-id=\"Inner,Left,-Right,-and-Outer-Joins-19\"><span class=\"toc-item-num\">19&nbsp;&nbsp;</span>Inner,Left, Right, and Outer Joins</a></span><ul class=\"toc-item\"><li><span><a href=\"#Inner-Join\" data-toc-modified-id=\"Inner-Join-19.1\"><span class=\"toc-item-num\">19.1&nbsp;&nbsp;</span>Inner Join</a></span></li><li><span><a href=\"#Left-Join\" data-toc-modified-id=\"Left-Join-19.2\"><span class=\"toc-item-num\">19.2&nbsp;&nbsp;</span>Left Join</a></span></li><li><span><a href=\"#Right-Join\" data-toc-modified-id=\"Right-Join-19.3\"><span class=\"toc-item-num\">19.3&nbsp;&nbsp;</span>Right Join</a></span></li><li><span><a href=\"#Outer-Join\" data-toc-modified-id=\"Outer-Join-19.4\"><span class=\"toc-item-num\">19.4&nbsp;&nbsp;</span>Outer Join</a></span></li><li><span><a href=\"#Join-on-Index-or-Column\" data-toc-modified-id=\"Join-on-Index-or-Column-19.5\"><span class=\"toc-item-num\">19.5&nbsp;&nbsp;</span>Join on Index or Column</a></span><ul class=\"toc-item\"><li><span><a href=\"#Dealing-with-differing-key-column-names-in-joined-tables\" data-toc-modified-id=\"Dealing-with-differing-key-column-names-in-joined-tables-19.5.1\"><span class=\"toc-item-num\">19.5.1&nbsp;&nbsp;</span>Dealing with differing key column names in joined tables</a></span></li><li><span><a href=\"#Pandas-automatically-tags-duplicate-columns\" data-toc-modified-id=\"Pandas-automatically-tags-duplicate-columns-19.5.2\"><span class=\"toc-item-num\">19.5.2&nbsp;&nbsp;</span>Pandas automatically tags duplicate columns</a></span></li></ul></li></ul></li><li><span><a href=\"#Text-Methods\" data-toc-modified-id=\"Text-Methods-20\"><span class=\"toc-item-num\">20&nbsp;&nbsp;</span>Text Methods</a></span></li><li><span><a href=\"#Pandas-and-Text\" data-toc-modified-id=\"Pandas-and-Text-21\"><span class=\"toc-item-num\">21&nbsp;&nbsp;</span>Pandas and Text</a></span><ul class=\"toc-item\"><li><span><a href=\"#Text-Methods-on-Pandas-String-Column\" data-toc-modified-id=\"Text-Methods-on-Pandas-String-Column-21.1\"><span class=\"toc-item-num\">21.1&nbsp;&nbsp;</span>Text Methods on Pandas String Column</a></span></li><li><span><a href=\"#Splitting-,-Grabbing,-and-Expanding\" data-toc-modified-id=\"Splitting-,-Grabbing,-and-Expanding-21.2\"><span class=\"toc-item-num\">21.2&nbsp;&nbsp;</span>Splitting , Grabbing, and Expanding</a></span></li><li><span><a href=\"#Cleaning-or-Editing-Strings\" data-toc-modified-id=\"Cleaning-or-Editing-Strings-21.3\"><span class=\"toc-item-num\">21.3&nbsp;&nbsp;</span>Cleaning or Editing Strings</a></span></li><li><span><a href=\"#Alternative-with-Custom-apply()-call\" data-toc-modified-id=\"Alternative-with-Custom-apply()-call-21.4\"><span class=\"toc-item-num\">21.4&nbsp;&nbsp;</span>Alternative with Custom apply() call</a></span></li><li><span><a href=\"#Which-one-is-more-efficient?\" data-toc-modified-id=\"Which-one-is-more-efficient?-21.5\"><span class=\"toc-item-num\">21.5&nbsp;&nbsp;</span>Which one is more efficient?</a></span></li></ul></li><li><span><a href=\"#Time-Methods\" data-toc-modified-id=\"Time-Methods-22\"><span class=\"toc-item-num\">22&nbsp;&nbsp;</span>Time Methods</a></span><ul class=\"toc-item\"><li><span><a href=\"#Python-Datetime-Review\" data-toc-modified-id=\"Python-Datetime-Review-22.1\"><span class=\"toc-item-num\">22.1&nbsp;&nbsp;</span>Python Datetime Review</a></span></li></ul></li><li><span><a href=\"#Pandas\" data-toc-modified-id=\"Pandas-23\"><span class=\"toc-item-num\">23&nbsp;&nbsp;</span>Pandas</a></span></li><li><span><a href=\"#Converting-to-datetime\" data-toc-modified-id=\"Converting-to-datetime-24\"><span class=\"toc-item-num\">24&nbsp;&nbsp;</span>Converting to datetime</a></span><ul class=\"toc-item\"><li><ul class=\"toc-item\"><li><span><a href=\"#pd.to_datetime()\" data-toc-modified-id=\"pd.to_datetime()-24.0.1\"><span class=\"toc-item-num\">24.0.1&nbsp;&nbsp;</span>pd.to_datetime()</a></span></li></ul></li><li><span><a href=\"#Custom-Time-String-Formatting\" data-toc-modified-id=\"Custom-Time-String-Formatting-24.1\"><span class=\"toc-item-num\">24.1&nbsp;&nbsp;</span>Custom Time String Formatting</a></span></li><li><span><a href=\"#Data\" data-toc-modified-id=\"Data-24.2\"><span class=\"toc-item-num\">24.2&nbsp;&nbsp;</span>Data</a></span></li><li><span><a href=\"#Attempt-to-Parse-Dates-Automatically\" data-toc-modified-id=\"Attempt-to-Parse-Dates-Automatically-24.3\"><span class=\"toc-item-num\">24.3&nbsp;&nbsp;</span>Attempt to Parse Dates Automatically</a></span></li><li><span><a href=\"#Resample\" data-toc-modified-id=\"Resample-24.4\"><span class=\"toc-item-num\">24.4&nbsp;&nbsp;</span>Resample</a></span></li></ul></li><li><span><a href=\"#.dt-Method-Calls\" data-toc-modified-id=\".dt-Method-Calls-25\"><span class=\"toc-item-num\">25&nbsp;&nbsp;</span>.dt Method Calls</a></span></li><li><span><a href=\"#Inputs-and-Outputs\" data-toc-modified-id=\"Inputs-and-Outputs-26\"><span class=\"toc-item-num\">26&nbsp;&nbsp;</span>Inputs and Outputs</a></span><ul class=\"toc-item\"><li><span><a href=\"#Data-Input-and-Output\" data-toc-modified-id=\"Data-Input-and-Output-26.1\"><span class=\"toc-item-num\">26.1&nbsp;&nbsp;</span>Data Input and Output</a></span></li><li><span><a href=\"#Check-out-the-references-here!\" data-toc-modified-id=\"Check-out-the-references-here!-26.2\"><span class=\"toc-item-num\">26.2&nbsp;&nbsp;</span>Check out the references here!</a></span></li></ul></li><li><span><a href=\"#Reading-in-a--CSV\" data-toc-modified-id=\"Reading-in-a--CSV-27\"><span class=\"toc-item-num\">27&nbsp;&nbsp;</span>Reading in a  CSV</a></span><ul class=\"toc-item\"><li><span><a href=\"#Understanding-File-Paths\" data-toc-modified-id=\"Understanding-File-Paths-27.1\"><span class=\"toc-item-num\">27.1&nbsp;&nbsp;</span>Understanding File Paths</a></span><ul class=\"toc-item\"><li><ul class=\"toc-item\"><li><span><a href=\"#Print-your-current-directory-file-path-with-pwd\" data-toc-modified-id=\"Print-your-current-directory-file-path-with-pwd-27.1.0.1\"><span class=\"toc-item-num\">27.1.0.1&nbsp;&nbsp;</span>Print your current directory file path with pwd</a></span></li><li><span><a href=\"#List-the-files-in-your-current-directory-with-ls\" data-toc-modified-id=\"List-the-files-in-your-current-directory-with-ls-27.1.0.2\"><span class=\"toc-item-num\">27.1.0.2&nbsp;&nbsp;</span>List the files in your current directory with ls</a></span></li><li><span><a href=\"#NOTE!-Common-confusion-point!-Take-note-that-all-read-input-methods-are-called-directly-from-pandas-with-pd.read_--,-all-output-methods-are-called-directly-off-the-dataframe-with-df.to_\" data-toc-modified-id=\"NOTE!-Common-confusion-point!-Take-note-that-all-read-input-methods-are-called-directly-from-pandas-with-pd.read_--,-all-output-methods-are-called-directly-off-the-dataframe-with-df.to_-27.1.0.3\"><span class=\"toc-item-num\">27.1.0.3&nbsp;&nbsp;</span>NOTE! Common confusion point! Take note that all read input methods are called directly from pandas with pd.read_  , all output methods are called directly off the dataframe with df.to_</a></span></li></ul></li><li><span><a href=\"#CSV-Input\" data-toc-modified-id=\"CSV-Input-27.1.1\"><span class=\"toc-item-num\">27.1.1&nbsp;&nbsp;</span>CSV Input</a></span></li><li><span><a href=\"#CSV-Output\" data-toc-modified-id=\"CSV-Output-27.1.2\"><span class=\"toc-item-num\">27.1.2&nbsp;&nbsp;</span>CSV Output</a></span></li></ul></li><li><span><a href=\"#HTML\" data-toc-modified-id=\"HTML-27.2\"><span class=\"toc-item-num\">27.2&nbsp;&nbsp;</span>HTML</a></span></li><li><span><a href=\"#read_html\" data-toc-modified-id=\"read_html-27.3\"><span class=\"toc-item-num\">27.3&nbsp;&nbsp;</span>read_html</a></span><ul class=\"toc-item\"><li><span><a href=\"#HTML-Input\" data-toc-modified-id=\"HTML-Input-27.3.1\"><span class=\"toc-item-num\">27.3.1&nbsp;&nbsp;</span>HTML Input</a></span></li><li><span><a href=\"#Not-Useful-Tables\" data-toc-modified-id=\"Not-Useful-Tables-27.3.2\"><span class=\"toc-item-num\">27.3.2&nbsp;&nbsp;</span>Not Useful Tables</a></span></li></ul></li></ul></li><li><span><a href=\"#Pivot-Tables\" data-toc-modified-id=\"Pivot-Tables-28\"><span class=\"toc-item-num\">28&nbsp;&nbsp;</span>Pivot Tables</a></span><ul class=\"toc-item\"><li><span><a href=\"#Data\" data-toc-modified-id=\"Data-28.1\"><span class=\"toc-item-num\">28.1&nbsp;&nbsp;</span>Data</a></span></li></ul></li><li><span><a href=\"#The-pivot()-method\" data-toc-modified-id=\"The-pivot()-method-29\"><span class=\"toc-item-num\">29&nbsp;&nbsp;</span>The pivot() method</a></span><ul class=\"toc-item\"><li><ul class=\"toc-item\"><li><ul class=\"toc-item\"><li><span><a href=\"#Note:-Common-Point-of-Confusion:-Students-often-just-randomly-pass-in-index,column,-and-value-choices-in-an-attempt-to-see-the-changes.-This-often-just-leads-to-formatting-errors.-You-should-first-go-through-this-checklist-BEFORE-running-a-pivot():\" data-toc-modified-id=\"Note:-Common-Point-of-Confusion:-Students-often-just-randomly-pass-in-index,column,-and-value-choices-in-an-attempt-to-see-the-changes.-This-often-just-leads-to-formatting-errors.-You-should-first-go-through-this-checklist-BEFORE-running-a-pivot():-29.0.0.1\"><span class=\"toc-item-num\">29.0.0.1&nbsp;&nbsp;</span>Note: Common Point of Confusion: Students often just randomly pass in index,column, and value choices in an attempt to see the changes. This often just leads to formatting errors. You should first go through this checklist BEFORE running a pivot():</a></span></li></ul></li></ul></li><li><span><a href=\"#The-pivot_table()-method\" data-toc-modified-id=\"The-pivot_table()-method-29.1\"><span class=\"toc-item-num\">29.1&nbsp;&nbsp;</span>The pivot_table() method</a></span></li></ul></li></ul></div>"
   ]
  },
  {
   "cell_type": "markdown",
   "id": "88adb1de",
   "metadata": {},
   "source": [
    "# Series(data=[], index=[]) creates indexes by default in the Data structure\n",
    "## Series is always 1D data structure (one dimentional)"
   ]
  },
  {
   "cell_type": "raw",
   "id": "7373d3d6",
   "metadata": {},
   "source": [
    "The first main data type we will learn about for pandas is the Series data type. Let's import Pandas and explore the Series object.\n",
    "\n",
    "A Series is very similar to a NumPy array (in fact it is built on top of the NumPy array object). What differentiates the NumPy array from a Series, is that a Series can have axis labels, meaning it can be indexed by a label, instead of just a number location. It also doesn't need to hold numeric data, it can hold any arbitrary Python Object.\n",
    "\n",
    "Let's explore this concept through some examples:"
   ]
  },
  {
   "cell_type": "markdown",
   "id": "a97a9218",
   "metadata": {},
   "source": [
    "## Creating a Series from Python Objects like list, tuple, set & dict"
   ]
  },
  {
   "cell_type": "markdown",
   "id": "427f582c",
   "metadata": {},
   "source": [
    "## Index and Data Lists\n",
    "\n",
    "* We can create a Series from Python lists (also from NumPy arrays)\n",
    "* series.count()\n",
    "* len(series)\n",
    "* size(series)"
   ]
  },
  {
   "cell_type": "code",
   "execution_count": 2,
   "id": "3e0e7cb8",
   "metadata": {},
   "outputs": [],
   "source": [
    "from pandas import Series as series\n",
    "from pandas import DataFrame, read_csv\n",
    "from numpy import array, dtype, ndim, shape, size, arange, zeros, ones, linspace, eye, identity, random"
   ]
  },
  {
   "cell_type": "code",
   "execution_count": 3,
   "id": "47602688",
   "metadata": {},
   "outputs": [
    {
     "name": "stdout",
     "output_type": "stream",
     "text": [
      "0    0\n",
      "1    1\n",
      "2    2\n",
      "3    3\n",
      "4    4\n",
      "5    5\n",
      "dtype: int64\n",
      "int64\n",
      "<class 'pandas.core.series.Series'>\n",
      "1\n",
      "6\n",
      "6\n",
      "6\n",
      "(6,)\n"
     ]
    }
   ],
   "source": [
    "Num = [0, 1, 2, 3, 4, 5]\n",
    "series(data=Num) # Converting 1D list into 1D series\n",
    "\n",
    "print(series(data=Num))\n",
    "print(series(data=Num).dtype)\n",
    "print(type(series(data=Num)))\n",
    "print(ndim(series(data=Num)))\n",
    "print(size(series(data=Num)))\n",
    "print(series(data=Num).count())\n",
    "print(len(series(data=Num)))\n",
    "print(shape(series(data=Num)))"
   ]
  },
  {
   "cell_type": "code",
   "execution_count": 4,
   "id": "ea33bda5",
   "metadata": {},
   "outputs": [
    {
     "name": "stdout",
     "output_type": "stream",
     "text": [
      "India        hindi\n",
      "France      french\n",
      "China      chinese\n",
      "Nepal       nepali\n",
      "America    english\n",
      "Bhutan       utang\n",
      "dtype: object\n",
      "<class 'pandas.core.series.Series'>\n",
      "1\n",
      "6\n",
      "6\n",
      "6\n",
      "(6,)\n"
     ]
    }
   ],
   "source": [
    "Country = [\"India\", \"France\", \"China\", \"Nepal\", \"America\", \"Bhutan\"]\n",
    "Lang = [\"hindi\", \"french\", \"chinese\", \"nepali\", \"english\", \"utang\"]\n",
    "NewSeries = series(data=Lang, index=Country) # creating 1D series by using the lists Country & Lang.\n",
    "                                             # Makung Country as labelled index\n",
    "print(NewSeries)\n",
    "print(type(NewSeries))\n",
    "print(ndim(NewSeries))\n",
    "print(size(NewSeries))\n",
    "print(len(NewSeries))\n",
    "print(NewSeries.count())\n",
    "print(shape(NewSeries))"
   ]
  },
  {
   "cell_type": "code",
   "execution_count": 5,
   "id": "dde76164",
   "metadata": {},
   "outputs": [
    {
     "data": {
      "text/plain": [
       "Index(['India', 'France', 'China', 'Nepal', 'America', 'Bhutan'], dtype='object')"
      ]
     },
     "execution_count": 5,
     "metadata": {},
     "output_type": "execute_result"
    }
   ],
   "source": [
    "# showing labelled indexes\n",
    "NewSeries.index"
   ]
  },
  {
   "cell_type": "code",
   "execution_count": 6,
   "id": "a0cbd85c",
   "metadata": {},
   "outputs": [
    {
     "data": {
      "text/plain": [
       "Index(['India', 'France', 'China', 'Nepal', 'America', 'Bhutan'], dtype='object')"
      ]
     },
     "execution_count": 6,
     "metadata": {},
     "output_type": "execute_result"
    }
   ],
   "source": [
    "# shows keys as labelled indexes\n",
    "NewSeries.keys()"
   ]
  },
  {
   "cell_type": "code",
   "execution_count": 7,
   "id": "83721029",
   "metadata": {},
   "outputs": [
    {
     "data": {
      "text/plain": [
       "array(['hindi', 'french', 'chinese', 'nepali', 'english', 'utang'],\n",
       "      dtype=object)"
      ]
     },
     "execution_count": 7,
     "metadata": {},
     "output_type": "execute_result"
    }
   ],
   "source": [
    "NewSeries.values # element values of the series"
   ]
  },
  {
   "cell_type": "code",
   "execution_count": 8,
   "id": "f772b12c",
   "metadata": {},
   "outputs": [
    {
     "name": "stdout",
     "output_type": "stream",
     "text": [
      "hindi\n",
      "french\n",
      "chinese\n",
      "nepali\n",
      "english\n",
      "utang\n",
      "\n",
      "India        hindi\n",
      "France      french\n",
      "China      chinese\n",
      "Nepal       nepali\n",
      "America    english\n",
      "Bhutan       utang\n",
      "dtype: object\n",
      "\n",
      "hindi\n",
      "french\n",
      "chinese\n",
      "nepali\n",
      "english\n",
      "utang\n",
      "\n",
      "India        hindi\n",
      "France      french\n",
      "China      chinese\n",
      "Nepal       nepali\n",
      "America    english\n",
      "Bhutan       utang\n",
      "dtype: object\n"
     ]
    }
   ],
   "source": [
    "# Default index & user defined index\n",
    "# Default Numeric indexes\n",
    "print(NewSeries[0])\n",
    "print(NewSeries[1])\n",
    "print(NewSeries[2])\n",
    "print(NewSeries[3])\n",
    "print(NewSeries[4])\n",
    "print(NewSeries[5])\n",
    "print()\n",
    "print(NewSeries[0:6])\n",
    "print()\n",
    "# User defined labelled indexes\n",
    "print(NewSeries[\"India\"])\n",
    "print(NewSeries[\"France\"])\n",
    "print(NewSeries[\"China\"])\n",
    "print(NewSeries[\"Nepal\"])\n",
    "print(NewSeries[\"America\"])\n",
    "print(NewSeries[\"Bhutan\"])\n",
    "print()\n",
    "print(NewSeries[\"India\":\"Bhutan\"])"
   ]
  },
  {
   "cell_type": "markdown",
   "id": "144c5268",
   "metadata": {},
   "source": [
    "## Creating Series From a  Dictionary, series(data={}, index={}.keys())"
   ]
  },
  {
   "cell_type": "code",
   "execution_count": 9,
   "id": "bbea2f66",
   "metadata": {},
   "outputs": [
    {
     "name": "stdout",
     "output_type": "stream",
     "text": [
      "{0: 'India', 1: 'France', 2: 'China', 3: 'Nepal', 4: 'America', 5: 'Bhutan'}\n",
      "<class 'dict'>\n",
      "0\n",
      "1\n",
      "6\n",
      "()\n",
      "0      India\n",
      "1     France\n",
      "2      China\n",
      "3      Nepal\n",
      "4    America\n",
      "5     Bhutan\n",
      "dtype: object\n",
      "<class 'pandas.core.series.Series'>\n",
      "1\n",
      "6\n",
      "6\n",
      "6\n",
      "(6,)\n"
     ]
    }
   ],
   "source": [
    "# Converting 0D dictionary into 1D series\n",
    "Dict = {0:\"India\", 1:\"France\", 2:\"China\", 3:\"Nepal\", 4:\"America\", 5:\"Bhutan\"}\n",
    "print(Dict)\n",
    "print(type(Dict))\n",
    "print(ndim(Dict))\n",
    "print(size(Dict))\n",
    "print(len(Dict))\n",
    "# print(Dict.count())\n",
    "print(shape(Dict))\n",
    "\n",
    "NewDict = series(data=Dict) # converting 0D dictionary to 1D series\n",
    "print(NewDict)\n",
    "print(type(NewDict))\n",
    "print(ndim(NewDict))\n",
    "print(size(NewDict))\n",
    "print(len(NewDict))\n",
    "print(NewDict.count())\n",
    "print(shape(NewDict))"
   ]
  },
  {
   "cell_type": "code",
   "execution_count": 10,
   "id": "a355e5f6",
   "metadata": {},
   "outputs": [
    {
     "name": "stdout",
     "output_type": "stream",
     "text": [
      "Jhonny       Indian\n",
      "Rob          Nepali\n",
      "Suzain     Japanese\n",
      "Atif      Pakistani\n",
      "dtype: object\n",
      "<class 'pandas.core.series.Series'>\n",
      "1\n",
      "4\n",
      "4\n",
      "4\n",
      "(4,)\n",
      "\n",
      "Indian\n",
      "Nepali\n",
      "Japanese\n",
      "Pakistani\n",
      "\n",
      "Jhonny       Indian\n",
      "Rob          Nepali\n",
      "Suzain     Japanese\n",
      "Atif      Pakistani\n",
      "dtype: object\n",
      "\n",
      "Indian\n",
      "Nepali\n",
      "Japanese\n",
      "Pakistani\n",
      "\n",
      "Jhonny       Indian\n",
      "Rob          Nepali\n",
      "Suzain     Japanese\n",
      "Atif      Pakistani\n",
      "dtype: object\n"
     ]
    }
   ],
   "source": [
    "# Converting 0D dictionary into 1D series\n",
    "\n",
    "Origin = {\"Jhonny\":\"Indian\", \"Rob\":\"Nepali\", \"Suzain\":\"Japanese\", \"Atif\":\"Pakistani\"}\n",
    "Seri = series(data=Origin)\n",
    "print(Seri)\n",
    "print(type(Seri))\n",
    "print(ndim(Seri))\n",
    "print(size(Seri))\n",
    "print(len(Seri))\n",
    "print(Seri.count())\n",
    "print(shape(Seri))\n",
    "\n",
    "print()\n",
    "\n",
    "# Series Default index & dic default index\n",
    "\n",
    "print(Seri[0])\n",
    "print(Seri[1])\n",
    "print(Seri[2])\n",
    "print(Seri[3])\n",
    "print()\n",
    "print(Seri[0:4])\n",
    "\n",
    "print()\n",
    "# labelled indexes\n",
    "print(Seri[\"Jhonny\"])\n",
    "print(Seri[\"Rob\"])\n",
    "print(Seri[\"Suzain\"])\n",
    "print(Seri[\"Atif\"])\n",
    "print()\n",
    "print(Seri[\"Jhonny\":\"Atif\"])"
   ]
  },
  {
   "cell_type": "code",
   "execution_count": 11,
   "id": "ec51a17d",
   "metadata": {},
   "outputs": [
    {
     "data": {
      "text/plain": [
       "dict_keys(['Jhonny', 'Rob', 'Suzain', 'Atif'])"
      ]
     },
     "execution_count": 11,
     "metadata": {},
     "output_type": "execute_result"
    }
   ],
   "source": [
    "Origin.keys() #keys  of dict Origin"
   ]
  },
  {
   "cell_type": "code",
   "execution_count": 12,
   "id": "ba291a41",
   "metadata": {},
   "outputs": [
    {
     "data": {
      "text/plain": [
       "dict_values(['Indian', 'Nepali', 'Japanese', 'Pakistani'])"
      ]
     },
     "execution_count": 12,
     "metadata": {},
     "output_type": "execute_result"
    }
   ],
   "source": [
    "Origin.values() # values of dict Origin"
   ]
  },
  {
   "cell_type": "code",
   "execution_count": 13,
   "id": "88db9b12",
   "metadata": {},
   "outputs": [
    {
     "data": {
      "text/plain": [
       "Index(['Jhonny', 'Rob', 'Suzain', 'Atif'], dtype='object')"
      ]
     },
     "execution_count": 13,
     "metadata": {},
     "output_type": "execute_result"
    }
   ],
   "source": [
    "Seri.keys() # labelled indexes of series Seri"
   ]
  },
  {
   "cell_type": "code",
   "execution_count": 14,
   "id": "574b0437",
   "metadata": {},
   "outputs": [
    {
     "data": {
      "text/plain": [
       "Index(['Jhonny', 'Rob', 'Suzain', 'Atif'], dtype='object')"
      ]
     },
     "execution_count": 14,
     "metadata": {},
     "output_type": "execute_result"
    }
   ],
   "source": [
    "Seri.index # labelled indexes of series Seri"
   ]
  },
  {
   "cell_type": "code",
   "execution_count": 15,
   "id": "28900baf",
   "metadata": {},
   "outputs": [
    {
     "data": {
      "text/plain": [
       "array(['Indian', 'Nepali', 'Japanese', 'Pakistani'], dtype=object)"
      ]
     },
     "execution_count": 15,
     "metadata": {},
     "output_type": "execute_result"
    }
   ],
   "source": [
    "Seri.values # element values of series Seri"
   ]
  },
  {
   "cell_type": "code",
   "execution_count": 16,
   "id": "8bc76431",
   "metadata": {},
   "outputs": [],
   "source": [
    "# Creating 1D lists\n",
    "myindex = ['USA','Canada','Mexico']\n",
    "\n",
    "mydata = [1776,1867,1821]"
   ]
  },
  {
   "cell_type": "code",
   "execution_count": 17,
   "id": "067cbf74",
   "metadata": {},
   "outputs": [
    {
     "name": "stdout",
     "output_type": "stream",
     "text": [
      "USA       1776\n",
      "Canada    1867\n",
      "Mexico    1821\n",
      "dtype: int64\n",
      "<class 'pandas.core.series.Series'>\n",
      "1\n",
      "3\n",
      "3\n",
      "3\n",
      "(3,)\n"
     ]
    }
   ],
   "source": [
    "# creating 1D series\n",
    "myser = series(data=mydata, index=myindex)\n",
    "\n",
    "print(myser)\n",
    "print(type(myser))\n",
    "print(ndim(myser))\n",
    "print(size(myser))\n",
    "print(len(myser))\n",
    "print(myser.count())\n",
    "print(shape(myser)) # 3 columns"
   ]
  },
  {
   "cell_type": "code",
   "execution_count": 18,
   "id": "565ba147",
   "metadata": {},
   "outputs": [
    {
     "name": "stdout",
     "output_type": "stream",
     "text": [
      "[99 54  4 59]\n",
      "<class 'numpy.ndarray'>\n",
      "(4,)\n",
      "int32\n",
      "\n",
      "Andrew    99\n",
      "Bobo      54\n",
      "Claire     4\n",
      "David     59\n",
      "dtype: int32\n",
      "\n",
      "{'Sammy': 5, 'Frank': 10, 'Spike': 7}\n",
      "\n",
      "Sammy     5\n",
      "Frank    10\n",
      "Spike     7\n",
      "dtype: int64\n"
     ]
    }
   ],
   "source": [
    "ran_data = random.randint(low=0, high=100, size=4)\n",
    "\n",
    "print(ran_data)\n",
    "print(type(ran_data))\n",
    "print(shape(ran_data))\n",
    "print(ran_data.dtype)\n",
    "\n",
    "print()\n",
    "\n",
    "names = ['Andrew','Bobo','Claire','David']\n",
    "\n",
    "ages1 = series(data=ran_data, index=names)\n",
    "\n",
    "print(ages1)\n",
    "\n",
    "print()\n",
    "\n",
    "### From a  Dictionary\n",
    "\n",
    "ages2 = {'Sammy':5,'Frank':10,'Spike':7}\n",
    "\n",
    "print(ages2)\n",
    "\n",
    "print()\n",
    "\n",
    "print(series(ages2))"
   ]
  },
  {
   "cell_type": "code",
   "execution_count": 19,
   "id": "09b69303",
   "metadata": {},
   "outputs": [],
   "source": [
    "students = [\"Kanika\", \"Adnan\", \"Lucifer\", \"Angella\"]"
   ]
  },
  {
   "cell_type": "code",
   "execution_count": 20,
   "id": "9fdf51dc",
   "metadata": {},
   "outputs": [
    {
     "data": {
      "text/plain": [
       "0     Kanika\n",
       "1      Adnan\n",
       "2    Lucifer\n",
       "3    Angella\n",
       "dtype: object"
      ]
     },
     "execution_count": 20,
     "metadata": {},
     "output_type": "execute_result"
    }
   ],
   "source": [
    "Students = series(students)\n",
    "Students"
   ]
  },
  {
   "cell_type": "code",
   "execution_count": 21,
   "id": "d3122e79",
   "metadata": {},
   "outputs": [
    {
     "name": "stdout",
     "output_type": "stream",
     "text": [
      "0    1\n",
      "1    2\n",
      "2    3\n",
      "3    4\n",
      "dtype: int64\n",
      "(4,)\n",
      "<class 'pandas.core.series.Series'>\n"
     ]
    }
   ],
   "source": [
    "Series1 = series([1,2,3,4]) # 1D list to series\n",
    "print(Series1)\n",
    "print(shape(Series1))\n",
    "print(type(Series1))"
   ]
  },
  {
   "cell_type": "code",
   "execution_count": 22,
   "id": "d10deb30",
   "metadata": {},
   "outputs": [
    {
     "name": "stdout",
     "output_type": "stream",
     "text": [
      "0    1\n",
      "1    2\n",
      "2    3\n",
      "3    4\n",
      "dtype: int64\n",
      "(4,)\n",
      "<class 'pandas.core.series.Series'>\n"
     ]
    }
   ],
   "source": [
    "Series2 = series((1,2,3,4)) # 1D list to series\n",
    "print(Series2)\n",
    "print(shape(Series2))\n",
    "print(type(Series2))"
   ]
  },
  {
   "cell_type": "code",
   "execution_count": 23,
   "id": "ca509ccd",
   "metadata": {},
   "outputs": [
    {
     "name": "stdout",
     "output_type": "stream",
     "text": [
      "inki     1\n",
      "minki    2\n",
      "ponki    3\n",
      "donki    4\n",
      "dtype: int64\n",
      "(4,)\n",
      "<class 'pandas.core.series.Series'>\n"
     ]
    }
   ],
   "source": [
    "Series3 = series({'inki':1, 'minki':2, 'ponki':3, 'donki':4}) # 0D dict to series\n",
    "print(Series3)\n",
    "print(shape(Series3))\n",
    "print(type(Series3))"
   ]
  },
  {
   "cell_type": "raw",
   "id": "661beaee",
   "metadata": {},
   "source": [
    "Series4 = series({'inki', 'minki', 'ponki', 'donki'}) # you can't convert 0D set to series\n",
    "                                                      # Because set is unordered & don't have index\n",
    "print(Series4)\n",
    "print(shape(Series4))\n",
    "print(type(Series4))"
   ]
  },
  {
   "cell_type": "markdown",
   "id": "57e9baf3",
   "metadata": {},
   "source": [
    "## indexing of series[ : , : ] & naming of the series and it's index using.. series.name = \"series_name\" & series.index.name = \"index_name\""
   ]
  },
  {
   "cell_type": "code",
   "execution_count": 24,
   "id": "d1423acd",
   "metadata": {},
   "outputs": [],
   "source": [
    "MixList = [\"Adnan\", 54+8j, 56, 45.39, {\"A\":78.99}, {87}]"
   ]
  },
  {
   "cell_type": "code",
   "execution_count": 25,
   "id": "f89b0e2b",
   "metadata": {},
   "outputs": [
    {
     "data": {
      "text/plain": [
       "0           Adnan\n",
       "1         (54+8j)\n",
       "2              56\n",
       "3           45.39\n",
       "4    {'A': 78.99}\n",
       "5            {87}\n",
       "dtype: object"
      ]
     },
     "execution_count": 25,
     "metadata": {},
     "output_type": "execute_result"
    }
   ],
   "source": [
    "Mix = series(MixList)\n",
    "Mix"
   ]
  },
  {
   "cell_type": "code",
   "execution_count": 26,
   "id": "6b05295a",
   "metadata": {},
   "outputs": [
    {
     "data": {
      "text/plain": [
       "string            Adnan\n",
       "Complex         (54+8j)\n",
       "int                  56\n",
       "float             45.39\n",
       "dict       {'A': 78.99}\n",
       "set                {87}\n",
       "dtype: object"
      ]
     },
     "execution_count": 26,
     "metadata": {},
     "output_type": "execute_result"
    }
   ],
   "source": [
    "Mix = series(data=MixList, index=[\"string\",\"Complex\",\"int\",\"float\",\"dict\",\"set\"])\n",
    "Mix"
   ]
  },
  {
   "cell_type": "code",
   "execution_count": 27,
   "id": "4eac554c",
   "metadata": {},
   "outputs": [
    {
     "data": {
      "text/plain": [
       "Index(['string', 'Complex', 'int', 'float', 'dict', 'set'], dtype='object')"
      ]
     },
     "execution_count": 27,
     "metadata": {},
     "output_type": "execute_result"
    }
   ],
   "source": [
    "Mix.keys() # labelled indexes of a the series"
   ]
  },
  {
   "cell_type": "code",
   "execution_count": 28,
   "id": "ec297f15",
   "metadata": {},
   "outputs": [
    {
     "data": {
      "text/plain": [
       "Index(['string', 'Complex', 'int', 'float', 'dict', 'set'], dtype='object')"
      ]
     },
     "execution_count": 28,
     "metadata": {},
     "output_type": "execute_result"
    }
   ],
   "source": [
    "Mix.index # labelled indexes of a the series"
   ]
  },
  {
   "cell_type": "code",
   "execution_count": 29,
   "id": "8d782b04",
   "metadata": {},
   "outputs": [
    {
     "data": {
      "text/plain": [
       "array(['Adnan', (54+8j), 56, 45.39, {'A': 78.99}, {87}], dtype=object)"
      ]
     },
     "execution_count": 29,
     "metadata": {},
     "output_type": "execute_result"
    }
   ],
   "source": [
    "Mix.values"
   ]
  },
  {
   "cell_type": "code",
   "execution_count": 30,
   "id": "7c44926e",
   "metadata": {},
   "outputs": [
    {
     "name": "stdout",
     "output_type": "stream",
     "text": [
      "6\n",
      "6\n",
      "6\n"
     ]
    }
   ],
   "source": [
    "print(Mix.size)\n",
    "print(len(Mix))\n",
    "print(Mix.count())"
   ]
  },
  {
   "cell_type": "code",
   "execution_count": 31,
   "id": "e71047e2",
   "metadata": {},
   "outputs": [
    {
     "data": {
      "text/plain": [
       "string            Adnan\n",
       "Complex         (54+8j)\n",
       "int                  56\n",
       "float             45.39\n",
       "dict       {'A': 78.99}\n",
       "dtype: object"
      ]
     },
     "execution_count": 31,
     "metadata": {},
     "output_type": "execute_result"
    }
   ],
   "source": [
    "Mix[0:5] # from numeric index 0 to 5"
   ]
  },
  {
   "cell_type": "code",
   "execution_count": 32,
   "id": "e1d87200",
   "metadata": {},
   "outputs": [
    {
     "data": {
      "text/plain": [
       "string            Adnan\n",
       "Complex         (54+8j)\n",
       "int                  56\n",
       "float             45.39\n",
       "dict       {'A': 78.99}\n",
       "dtype: object"
      ]
     },
     "execution_count": 32,
     "metadata": {},
     "output_type": "execute_result"
    }
   ],
   "source": [
    "Mix[\"string\":\"dict\"] # from labelled index \"string\" to \"dict\""
   ]
  },
  {
   "cell_type": "markdown",
   "id": "919c88f5",
   "metadata": {},
   "source": [
    "## adding preffix & suffix to series index, series=series.add_prefix(\"before_\") & series=series.add_suffix(\"_after\")"
   ]
  },
  {
   "cell_type": "code",
   "execution_count": 33,
   "id": "0b076ed0",
   "metadata": {},
   "outputs": [
    {
     "data": {
      "text/plain": [
       "dtypes\n",
       "dtype_string-->            Adnan\n",
       "dtype_Complex-->         (54+8j)\n",
       "dtype_int-->                  56\n",
       "dtype_float-->             45.39\n",
       "dtype_dict-->       {'A': 78.99}\n",
       "dtype_set-->                {87}\n",
       "dtype: string"
      ]
     },
     "execution_count": 33,
     "metadata": {},
     "output_type": "execute_result"
    }
   ],
   "source": [
    "Mix = series(data=MixList, index=[\"string\",\"Complex\",\"int\",\"float\",\"dict\",\"set\"], dtype=\"string\")\n",
    "Mix.index.name = \"dtypes\" # give name to the labelled indexes\n",
    "Mix = Mix.add_prefix('dtype_')\n",
    "Mix = Mix.add_suffix('-->')\n",
    "Mix"
   ]
  },
  {
   "cell_type": "code",
   "execution_count": 34,
   "id": "052a7f68",
   "metadata": {},
   "outputs": [
    {
     "name": "stdout",
     "output_type": "stream",
     "text": [
      "string\n",
      "6\n",
      "6\n",
      "6\n",
      "(6,)\n",
      "1\n"
     ]
    }
   ],
   "source": [
    "print(Mix.dtype)\n",
    "print(Mix.count())\n",
    "print(len(Mix))\n",
    "print(size(Mix))\n",
    "print(Mix.shape)\n",
    "print(Mix.ndim)"
   ]
  },
  {
   "cell_type": "code",
   "execution_count": 35,
   "id": "9fb3ffa2",
   "metadata": {},
   "outputs": [
    {
     "data": {
      "text/plain": [
       "0    True\n",
       "1    True\n",
       "2    True\n",
       "3    True\n",
       "dtype: bool"
      ]
     },
     "execution_count": 35,
     "metadata": {},
     "output_type": "execute_result"
    }
   ],
   "source": [
    "s1 = series(data=[\"A\",\"B\",\"C\",\"D\"])\n",
    "s2 = series(data=[\"A\",\"B\",\"C\",\"D\"])\n",
    "s1 == s2 # element to element equality check"
   ]
  },
  {
   "cell_type": "code",
   "execution_count": 36,
   "id": "f185986c",
   "metadata": {},
   "outputs": [
    {
     "data": {
      "text/plain": [
       "True"
      ]
     },
     "execution_count": 36,
     "metadata": {},
     "output_type": "execute_result"
    }
   ],
   "source": [
    "s1.equals(s2)"
   ]
  },
  {
   "cell_type": "code",
   "execution_count": 37,
   "id": "93c33d7c",
   "metadata": {},
   "outputs": [
    {
     "data": {
      "text/plain": [
       "0    A\n",
       "1    B\n",
       "2    C\n",
       "3    D\n",
       "Name: My series, dtype: object"
      ]
     },
     "execution_count": 37,
     "metadata": {},
     "output_type": "execute_result"
    }
   ],
   "source": [
    "s1.name = \"My series\"\n",
    "s1"
   ]
  },
  {
   "cell_type": "code",
   "execution_count": 38,
   "id": "6db77f54",
   "metadata": {},
   "outputs": [
    {
     "data": {
      "text/plain": [
       "index\n",
       "0    A\n",
       "1    B\n",
       "2    C\n",
       "3    D\n",
       "Name: My series, dtype: object"
      ]
     },
     "execution_count": 38,
     "metadata": {},
     "output_type": "execute_result"
    }
   ],
   "source": [
    "s1.index.name = \"index\"\n",
    "s1"
   ]
  },
  {
   "cell_type": "code",
   "execution_count": 39,
   "id": "5b08bff6",
   "metadata": {},
   "outputs": [
    {
     "data": {
      "text/plain": [
       "Actors\n",
       "Alex     51\n",
       "Tom      34\n",
       "Jerry    62\n",
       "Rock     56\n",
       "dtype: int64"
      ]
     },
     "execution_count": 39,
     "metadata": {},
     "output_type": "execute_result"
    }
   ],
   "source": [
    "Actors = [\"Alex\", \"Tom\", \"Jerry\", \"Rock\"]\n",
    "Ages = [51, 34, 62, 56]\n",
    "Cinema = series(data=Ages, index=Actors)\n",
    "Cinema.index.name=\"Actors\"\n",
    "Cinema"
   ]
  },
  {
   "cell_type": "code",
   "execution_count": 40,
   "id": "9f48cebc",
   "metadata": {},
   "outputs": [
    {
     "name": "stdout",
     "output_type": "stream",
     "text": [
      "[ 10   9   8   7   6   5   4   3   2   1   0  -1  -2  -3  -4  -5  -6  -7\n",
      "  -8  -9 -10]\n"
     ]
    },
    {
     "data": {
      "text/plain": [
       "numpy.ndarray"
      ]
     },
     "execution_count": 40,
     "metadata": {},
     "output_type": "execute_result"
    }
   ],
   "source": [
    "print(arange(start=10, stop=-11, step=-1)) # array\n",
    "type(arange(start=10, stop=-11, step=-1))"
   ]
  },
  {
   "cell_type": "code",
   "execution_count": 41,
   "id": "06721922",
   "metadata": {},
   "outputs": [
    {
     "name": "stdout",
     "output_type": "stream",
     "text": [
      "RangeIndex(start=10, stop=-11, step=-1)\n"
     ]
    },
    {
     "data": {
      "text/plain": [
       "pandas.core.indexes.range.RangeIndex"
      ]
     },
     "execution_count": 41,
     "metadata": {},
     "output_type": "execute_result"
    }
   ],
   "source": [
    "from pandas import RangeIndex\n",
    "print(RangeIndex(start=10, stop=-11, step=-1))\n",
    "type(RangeIndex(start=10, stop=-11, step=-1))"
   ]
  },
  {
   "cell_type": "code",
   "execution_count": 42,
   "id": "15f2b2ec",
   "metadata": {},
   "outputs": [
    {
     "name": "stdout",
     "output_type": "stream",
     "text": [
      "abcdefghijklmnopqrstuvwxyz\n",
      "ABCDEFGHIJKLMNOPQRSTUVWXYZ\n",
      "26\n",
      "26\n",
      "['a', 'b', 'c', 'd', 'e', 'f', 'g', 'h', 'i', 'j', 'k', 'l', 'm', 'n', 'o', 'p', 'q', 'r', 's', 't', 'u', 'v', 'w', 'x', 'y', 'z']\n",
      "['A', 'B', 'C', 'D', 'E', 'F', 'G', 'H', 'I', 'J', 'K', 'L', 'M', 'N', 'O', 'P', 'Q', 'R', 'S', 'T', 'U', 'V', 'W', 'X', 'Y', 'Z']\n"
     ]
    }
   ],
   "source": [
    "alpha = 'abcdefghijklmnopqrstuvwxyz'\n",
    "ALPHA = alpha.upper()\n",
    "print(alpha)\n",
    "print(ALPHA)\n",
    "print(len(alpha))\n",
    "print(len(ALPHA))\n",
    "print(list(alpha))\n",
    "print(list(ALPHA))"
   ]
  },
  {
   "cell_type": "code",
   "execution_count": 43,
   "id": "efda6a98",
   "metadata": {},
   "outputs": [
    {
     "data": {
      "text/plain": [
       "a    A\n",
       "b    B\n",
       "c    C\n",
       "d    D\n",
       "e    E\n",
       "f    F\n",
       "g    G\n",
       "h    H\n",
       "i    I\n",
       "j    J\n",
       "k    K\n",
       "l    L\n",
       "m    M\n",
       "n    N\n",
       "o    O\n",
       "p    P\n",
       "q    Q\n",
       "r    R\n",
       "s    S\n",
       "t    T\n",
       "u    U\n",
       "v    V\n",
       "w    W\n",
       "x    X\n",
       "y    Y\n",
       "z    Z\n",
       "dtype: object"
      ]
     },
     "execution_count": 43,
     "metadata": {},
     "output_type": "execute_result"
    }
   ],
   "source": [
    "alpha26 = series(data=list(ALPHA), index=list(alpha))\n",
    "alpha26"
   ]
  },
  {
   "cell_type": "code",
   "execution_count": 44,
   "id": "d513b63e",
   "metadata": {},
   "outputs": [],
   "source": [
    "from string import ascii_lowercase "
   ]
  },
  {
   "cell_type": "code",
   "execution_count": 45,
   "id": "20f8ddff",
   "metadata": {},
   "outputs": [
    {
     "data": {
      "text/plain": [
       "'abcdefghijklmnopqrstuvwxyz'"
      ]
     },
     "execution_count": 45,
     "metadata": {},
     "output_type": "execute_result"
    }
   ],
   "source": [
    "ascii_lowercase"
   ]
  },
  {
   "cell_type": "code",
   "execution_count": 46,
   "id": "0aa78fba",
   "metadata": {},
   "outputs": [
    {
     "data": {
      "text/plain": [
       "0    Andy\n",
       "dtype: object"
      ]
     },
     "execution_count": 46,
     "metadata": {},
     "output_type": "execute_result"
    }
   ],
   "source": [
    "series('Andy')"
   ]
  },
  {
   "cell_type": "code",
   "execution_count": 47,
   "id": "f794ab1c",
   "metadata": {},
   "outputs": [
    {
     "data": {
      "text/plain": [
       "0    abcdefghijklmnopqrstuvwxyz\n",
       "dtype: object"
      ]
     },
     "execution_count": 47,
     "metadata": {},
     "output_type": "execute_result"
    }
   ],
   "source": [
    "series(ascii_lowercase)"
   ]
  },
  {
   "cell_type": "code",
   "execution_count": 48,
   "id": "1bd61a0a",
   "metadata": {},
   "outputs": [
    {
     "name": "stdout",
     "output_type": "stream",
     "text": [
      "26\n"
     ]
    }
   ],
   "source": [
    "print(len(ascii_lowercase))"
   ]
  },
  {
   "cell_type": "code",
   "execution_count": 49,
   "id": "fbb2cdc5",
   "metadata": {},
   "outputs": [
    {
     "name": "stdout",
     "output_type": "stream",
     "text": [
      "['a', 'b', 'c', 'd', 'e', 'f', 'g', 'h', 'i', 'j', 'k', 'l', 'm', 'n', 'o', 'p', 'q', 'r', 's', 't', 'u', 'v', 'w', 'x', 'y', 'z']\n"
     ]
    }
   ],
   "source": [
    "letters = list(ascii_lowercase)\n",
    "print(letters)"
   ]
  },
  {
   "cell_type": "code",
   "execution_count": 50,
   "id": "a36e3126",
   "metadata": {},
   "outputs": [],
   "source": [
    "alphabet = series(letters)"
   ]
  },
  {
   "cell_type": "code",
   "execution_count": 51,
   "id": "1f6ecc7d",
   "metadata": {},
   "outputs": [
    {
     "data": {
      "text/plain": [
       "0    a\n",
       "1    b\n",
       "2    c\n",
       "3    d\n",
       "4    e\n",
       "5    f\n",
       "dtype: object"
      ]
     },
     "execution_count": 51,
     "metadata": {},
     "output_type": "execute_result"
    }
   ],
   "source": [
    "alphabet.head(6)"
   ]
  },
  {
   "cell_type": "code",
   "execution_count": 52,
   "id": "3d0a3942",
   "metadata": {},
   "outputs": [],
   "source": [
    "from string import ascii_uppercase"
   ]
  },
  {
   "cell_type": "code",
   "execution_count": 53,
   "id": "cd78e609",
   "metadata": {},
   "outputs": [
    {
     "data": {
      "text/plain": [
       "label_A    a\n",
       "label_B    b\n",
       "label_C    c\n",
       "label_D    d\n",
       "label_E    e\n",
       "label_F    f\n",
       "label_G    g\n",
       "label_H    h\n",
       "label_I    i\n",
       "label_J    j\n",
       "label_K    k\n",
       "label_L    l\n",
       "label_M    m\n",
       "label_N    n\n",
       "label_O    o\n",
       "label_P    p\n",
       "label_Q    q\n",
       "label_R    r\n",
       "label_S    s\n",
       "label_T    t\n",
       "label_U    u\n",
       "label_V    v\n",
       "label_W    w\n",
       "label_X    x\n",
       "label_Y    y\n",
       "label_Z    z\n",
       "dtype: object"
      ]
     },
     "execution_count": 53,
     "metadata": {},
     "output_type": "execute_result"
    }
   ],
   "source": [
    "labelled_alphabet = series(data=list(ascii_lowercase), index=map(lambda x: 'label_' + x, list(ascii_uppercase)))\n",
    "labelled_alphabet"
   ]
  },
  {
   "cell_type": "code",
   "execution_count": 54,
   "id": "75a0171d",
   "metadata": {},
   "outputs": [
    {
     "data": {
      "text/plain": [
       "label_A    a\n",
       "label_B    b\n",
       "label_C    c\n",
       "label_D    d\n",
       "label_E    e\n",
       "label_F    f\n",
       "label_G    g\n",
       "label_H    h\n",
       "label_I    i\n",
       "label_J    j\n",
       "label_K    k\n",
       "label_L    l\n",
       "label_M    m\n",
       "label_N    n\n",
       "label_O    o\n",
       "label_P    p\n",
       "label_Q    q\n",
       "label_R    r\n",
       "label_S    s\n",
       "label_T    t\n",
       "label_U    u\n",
       "label_V    v\n",
       "label_W    w\n",
       "label_X    x\n",
       "label_Y    y\n",
       "label_Z    z\n",
       "dtype: object"
      ]
     },
     "execution_count": 54,
     "metadata": {},
     "output_type": "execute_result"
    }
   ],
   "source": [
    "labelled_alphabet = series(data=list(ascii_lowercase), index=list(ascii_uppercase))\n",
    "labelled_alphabet=labelled_alphabet.add_prefix('label_')\n",
    "labelled_alphabet"
   ]
  },
  {
   "cell_type": "code",
   "execution_count": 55,
   "id": "e08864fc",
   "metadata": {},
   "outputs": [
    {
     "data": {
      "text/plain": [
       "label_A    a\n",
       "label_B    b\n",
       "label_C    c\n",
       "dtype: object"
      ]
     },
     "execution_count": 55,
     "metadata": {},
     "output_type": "execute_result"
    }
   ],
   "source": [
    "labelled_alphabet.head(3)"
   ]
  },
  {
   "cell_type": "code",
   "execution_count": 56,
   "id": "b941c8de",
   "metadata": {},
   "outputs": [
    {
     "data": {
      "text/plain": [
       "'a'"
      ]
     },
     "execution_count": 56,
     "metadata": {},
     "output_type": "execute_result"
    }
   ],
   "source": [
    "labelled_alphabet[0]"
   ]
  },
  {
   "cell_type": "code",
   "execution_count": 57,
   "id": "3ff4abe5",
   "metadata": {},
   "outputs": [
    {
     "data": {
      "text/plain": [
       "'a'"
      ]
     },
     "execution_count": 57,
     "metadata": {},
     "output_type": "execute_result"
    }
   ],
   "source": [
    "labelled_alphabet['label_A']"
   ]
  },
  {
   "cell_type": "code",
   "execution_count": 58,
   "id": "83476559",
   "metadata": {},
   "outputs": [
    {
     "data": {
      "text/plain": [
       "'k'"
      ]
     },
     "execution_count": 58,
     "metadata": {},
     "output_type": "execute_result"
    }
   ],
   "source": [
    "labelled_alphabet[10]"
   ]
  },
  {
   "cell_type": "code",
   "execution_count": 59,
   "id": "96377c52",
   "metadata": {},
   "outputs": [
    {
     "data": {
      "text/plain": [
       "'k'"
      ]
     },
     "execution_count": 59,
     "metadata": {},
     "output_type": "execute_result"
    }
   ],
   "source": [
    "labelled_alphabet['label_K']"
   ]
  },
  {
   "cell_type": "code",
   "execution_count": 60,
   "id": "a74e5745",
   "metadata": {},
   "outputs": [
    {
     "data": {
      "text/plain": [
       "label_A    a\n",
       "label_B    b\n",
       "label_C    c\n",
       "dtype: object"
      ]
     },
     "execution_count": 60,
     "metadata": {},
     "output_type": "execute_result"
    }
   ],
   "source": [
    "labelled_alphabet[0:3]"
   ]
  },
  {
   "cell_type": "code",
   "execution_count": 61,
   "id": "a58585cd",
   "metadata": {},
   "outputs": [
    {
     "data": {
      "text/plain": [
       "label_A    a\n",
       "label_B    b\n",
       "label_C    c\n",
       "dtype: object"
      ]
     },
     "execution_count": 61,
     "metadata": {},
     "output_type": "execute_result"
    }
   ],
   "source": [
    "labelled_alphabet['label_A':'label_C']"
   ]
  },
  {
   "cell_type": "code",
   "execution_count": 62,
   "id": "42a8aaa1",
   "metadata": {},
   "outputs": [
    {
     "data": {
      "text/plain": [
       "label_F    f\n",
       "label_G    g\n",
       "label_H    h\n",
       "label_I    i\n",
       "label_J    j\n",
       "dtype: object"
      ]
     },
     "execution_count": 62,
     "metadata": {},
     "output_type": "execute_result"
    }
   ],
   "source": [
    "labelled_alphabet[5:10]"
   ]
  },
  {
   "cell_type": "code",
   "execution_count": 63,
   "id": "f1490e1e",
   "metadata": {},
   "outputs": [
    {
     "data": {
      "text/plain": [
       "label_F    f\n",
       "label_G    g\n",
       "label_H    h\n",
       "label_I    i\n",
       "label_J    j\n",
       "dtype: object"
      ]
     },
     "execution_count": 63,
     "metadata": {},
     "output_type": "execute_result"
    }
   ],
   "source": [
    "labelled_alphabet['label_F':'label_J']"
   ]
  },
  {
   "cell_type": "code",
   "execution_count": 64,
   "id": "188f24f4",
   "metadata": {},
   "outputs": [
    {
     "data": {
      "text/plain": [
       "label_A    a\n",
       "label_B    b\n",
       "label_C    c\n",
       "label_D    d\n",
       "label_E    e\n",
       "label_F    f\n",
       "label_G    g\n",
       "dtype: object"
      ]
     },
     "execution_count": 64,
     "metadata": {},
     "output_type": "execute_result"
    }
   ],
   "source": [
    "labelled_alphabet[:'label_G']"
   ]
  },
  {
   "cell_type": "code",
   "execution_count": 65,
   "id": "d3f9db05",
   "metadata": {},
   "outputs": [
    {
     "data": {
      "text/plain": [
       "label_F    f\n",
       "label_G    g\n",
       "label_H    h\n",
       "label_I    i\n",
       "label_J    j\n",
       "dtype: object"
      ]
     },
     "execution_count": 65,
     "metadata": {},
     "output_type": "execute_result"
    }
   ],
   "source": [
    "labelled_alphabet['label_F':'label_J']"
   ]
  },
  {
   "cell_type": "code",
   "execution_count": null,
   "id": "befe6583",
   "metadata": {},
   "outputs": [
    {
     "data": {
      "text/plain": [
       "label_U    u\n",
       "label_V    v\n",
       "label_W    w\n",
       "label_X    x\n",
       "label_Y    y\n",
       "label_Z    z\n",
       "dtype: object"
      ]
     },
     "execution_count": 66,
     "metadata": {},
     "output_type": "execute_result"
    }
   ],
   "source": [
    "labelled_alphabet[-6:] # last six elements of series"
   ]
  },
  {
   "cell_type": "code",
   "execution_count": null,
   "id": "95a4cd6c",
   "metadata": {},
   "outputs": [],
   "source": [
    "labelled_alphabet['label_U':] # last six elements of series"
   ]
  },
  {
   "cell_type": "markdown",
   "id": "3ce16bdb",
   "metadata": {},
   "source": [
    "## series.iloc[ : , : ] & series.loc[ : , : ] for default indexing & defined indexing & boolean series.loc[[True,False,True]]"
   ]
  },
  {
   "cell_type": "code",
   "execution_count": null,
   "id": "7b25b301",
   "metadata": {},
   "outputs": [],
   "source": [
    "MixList = [\"Adnan\", 54+8j, 56, 45.39, {\"A\":78.99}, {87}]\n",
    "Mix = series(data=MixList, index=[\"string\",\"Complex\",\"int\",\"float\",\"dict\",\"set\"], dtype=\"string\")\n",
    "Mix.index.name = \"dtypes\"\n",
    "Mix = Mix.add_prefix('dtype_')\n",
    "Mix = Mix.add_suffix('-->')\n",
    "Mix"
   ]
  },
  {
   "cell_type": "code",
   "execution_count": null,
   "id": "2b17a338",
   "metadata": {},
   "outputs": [],
   "source": [
    "Mix[0:6] # default numeric indexing"
   ]
  },
  {
   "cell_type": "code",
   "execution_count": null,
   "id": "dbbeb203",
   "metadata": {},
   "outputs": [],
   "source": [
    "Mix[\"dtype_string-->\":\"dtype_set-->\"] # defined labelled indexing"
   ]
  },
  {
   "cell_type": "code",
   "execution_count": null,
   "id": "8ce952da",
   "metadata": {},
   "outputs": [],
   "source": [
    "Mix.iloc[0:6] # default numeric indexing using iloc"
   ]
  },
  {
   "cell_type": "code",
   "execution_count": null,
   "id": "ffd375c7",
   "metadata": {},
   "outputs": [],
   "source": [
    "Mix.loc[\"dtype_string-->\":\"dtype_set-->\"] # defined labelled indexing"
   ]
  },
  {
   "cell_type": "code",
   "execution_count": null,
   "id": "80e46d93",
   "metadata": {},
   "outputs": [],
   "source": [
    "Mix.iloc[1:3]"
   ]
  },
  {
   "cell_type": "code",
   "execution_count": null,
   "id": "feae298f",
   "metadata": {},
   "outputs": [],
   "source": [
    "Mix.iloc[[1,2]]"
   ]
  },
  {
   "cell_type": "code",
   "execution_count": null,
   "id": "58f05edf",
   "metadata": {},
   "outputs": [],
   "source": [
    "Mix[[1,2]]"
   ]
  },
  {
   "cell_type": "markdown",
   "id": "f4f198ca",
   "metadata": {},
   "source": [
    "## Boolean Masks with .loc[ ] & iloc[ ] indexer"
   ]
  },
  {
   "cell_type": "code",
   "execution_count": null,
   "id": "7e0aaa96",
   "metadata": {},
   "outputs": [],
   "source": [
    "Mix.loc[[True,True,True,True,True,True]] # indexing with boolean loc[[]]"
   ]
  },
  {
   "cell_type": "code",
   "execution_count": null,
   "id": "5cc2073e",
   "metadata": {},
   "outputs": [],
   "source": [
    "Mix.iloc[[True,True,True,True,True,True]] # indexing with boolean iloc[[]]"
   ]
  },
  {
   "cell_type": "code",
   "execution_count": null,
   "id": "fea596e4",
   "metadata": {},
   "outputs": [],
   "source": [
    "Mix.loc[[True for i in range(6)]] # indexing with boolean loc[[]]"
   ]
  },
  {
   "cell_type": "code",
   "execution_count": null,
   "id": "e55b83cf",
   "metadata": {},
   "outputs": [],
   "source": [
    "Mix.iloc[[True for i in range(6)]] # indexing with boolean loc[[]]"
   ]
  },
  {
   "cell_type": "code",
   "execution_count": null,
   "id": "b4c059e6",
   "metadata": {},
   "outputs": [],
   "source": [
    "Mix.loc[[True,False,True,False,True,False]] # indexing with boolean loc[[]]"
   ]
  },
  {
   "cell_type": "code",
   "execution_count": null,
   "id": "267a37ba",
   "metadata": {},
   "outputs": [],
   "source": [
    "Mix.iloc[[True,False,True,False,True,False]] # indexing with boolean iloc[[]]"
   ]
  },
  {
   "cell_type": "code",
   "execution_count": null,
   "id": "b25571ba",
   "metadata": {},
   "outputs": [],
   "source": [
    "Mix.loc[[True for i in range(Mix.size)]] # indexing with boolean loc[[]]"
   ]
  },
  {
   "cell_type": "code",
   "execution_count": null,
   "id": "7c6b1ea0",
   "metadata": {},
   "outputs": [],
   "source": [
    "Mix.iloc[[True for i in range(Mix.size)]] # indexing with boolean iloc[[]]"
   ]
  },
  {
   "cell_type": "code",
   "execution_count": null,
   "id": "95db5b71",
   "metadata": {},
   "outputs": [],
   "source": [
    "Mix.loc[[True if i%2==0 else False for i in range(len(Mix))]] # indexing with boolean loc[[]]\n",
    "                                                              # select only even indexes"
   ]
  },
  {
   "cell_type": "code",
   "execution_count": null,
   "id": "048fa1f0",
   "metadata": {},
   "outputs": [],
   "source": [
    "Mix.iloc[[True if i%2==0 else False for i in range(len(Mix))]] # indexing with boolean iloc[[]]\n",
    "                                                              # select only even indexes"
   ]
  },
  {
   "cell_type": "code",
   "execution_count": null,
   "id": "765bcc8f",
   "metadata": {},
   "outputs": [],
   "source": [
    "Mix.loc[[True if i%2==0 else False for i in range(Mix.size)]] # indexing with boolean loc[[]]\n",
    "                                                              # select only even indexes"
   ]
  },
  {
   "cell_type": "code",
   "execution_count": null,
   "id": "6b6b4a14",
   "metadata": {},
   "outputs": [],
   "source": [
    "Mix.iloc[[True if i%2==0 else False for i in range(Mix.size)]] # indexing with boolean iloc[[]]\n",
    "                                                               # select only even indexes"
   ]
  },
  {
   "cell_type": "markdown",
   "id": "e5e9ac04",
   "metadata": {},
   "source": [
    "## series indexing using .iloc[ ] & .loc[ ] combining with lambda"
   ]
  },
  {
   "cell_type": "code",
   "execution_count": null,
   "id": "2412e787",
   "metadata": {},
   "outputs": [],
   "source": [
    "labelled_alphabet.loc[lambda x: 'label_V'] # applying lambda on labelled index"
   ]
  },
  {
   "cell_type": "code",
   "execution_count": null,
   "id": "ab1e0606",
   "metadata": {},
   "outputs": [],
   "source": [
    "labelled_alphabet.loc[lambda x: ['label_V', 'label_A']] # applying lambda on labelled index"
   ]
  },
  {
   "cell_type": "code",
   "execution_count": null,
   "id": "e18afb4d",
   "metadata": {},
   "outputs": [],
   "source": [
    "labelled_alphabet.loc[lambda x: [True for i in range(x.size)]] # applying lambda on boolean mask with .loc[[]]"
   ]
  },
  {
   "cell_type": "code",
   "execution_count": null,
   "id": "5aa456ca",
   "metadata": {},
   "outputs": [],
   "source": [
    "labelled_alphabet.iloc[lambda x: [True for i in range(x.size)]] # applying lambda on boolean mask with .iloc[[]]"
   ]
  },
  {
   "cell_type": "code",
   "execution_count": null,
   "id": "ae06ef6e",
   "metadata": {},
   "outputs": [],
   "source": [
    "def every5th(series):\n",
    "    return [True if i%5==0 else False for i in range(series.size)]"
   ]
  },
  {
   "cell_type": "code",
   "execution_count": null,
   "id": "171cc0ef",
   "metadata": {},
   "outputs": [],
   "source": [
    "labelled_alphabet.iloc[every5th]"
   ]
  },
  {
   "cell_type": "code",
   "execution_count": null,
   "id": "68cb8334",
   "metadata": {},
   "outputs": [],
   "source": [
    "labelled_alphabet.loc[every5th]"
   ]
  },
  {
   "cell_type": "markdown",
   "id": "16180a2d",
   "metadata": {},
   "source": [
    "## seriesindexing using series.get()"
   ]
  },
  {
   "cell_type": "code",
   "execution_count": null,
   "id": "b4569cbe",
   "metadata": {},
   "outputs": [],
   "source": [
    "labelled_alphabet.get(0)"
   ]
  },
  {
   "cell_type": "code",
   "execution_count": null,
   "id": "d5efafe7",
   "metadata": {},
   "outputs": [],
   "source": [
    "labelled_alphabet.get([0,1,2])"
   ]
  },
  {
   "cell_type": "code",
   "execution_count": null,
   "id": "31115f8f",
   "metadata": {},
   "outputs": [],
   "source": [
    "labelled_alphabet.get('label_A')"
   ]
  },
  {
   "cell_type": "code",
   "execution_count": null,
   "id": "c942695e",
   "metadata": {},
   "outputs": [],
   "source": [
    "labelled_alphabet.get(['label_A','label_B','label_C'])"
   ]
  },
  {
   "cell_type": "code",
   "execution_count": null,
   "id": "b266fedb",
   "metadata": {},
   "outputs": [],
   "source": [
    "labelled_alphabet.get('Monkey', default=None) # no response"
   ]
  },
  {
   "cell_type": "code",
   "execution_count": null,
   "id": "b0aa9248",
   "metadata": {},
   "outputs": [],
   "source": [
    "labelled_alphabet.get('Monkey', default=\"it doesn't exist\") # no response"
   ]
  },
  {
   "cell_type": "markdown",
   "id": "bfbe32c8",
   "metadata": {},
   "source": [
    "## Converting 1D Array into Series, only 1D array can be converted into series\n",
    "* series is always 1D (one dimentional)"
   ]
  },
  {
   "cell_type": "code",
   "execution_count": null,
   "id": "9c544d16",
   "metadata": {},
   "outputs": [],
   "source": [
    "Array1D=array([\"KESHAV\", 45+9j, True, 39.69, 39]) # This is 1D array\n",
    "Series3D = series(data=Array1D) # converting 1D array into 1D series\n",
    "Series3D"
   ]
  },
  {
   "cell_type": "code",
   "execution_count": null,
   "id": "322e6327",
   "metadata": {},
   "outputs": [],
   "source": [
    "Array1D=array([{'Brazil': 100,'China': 500, 'India': 210,'USA': 260}]) # Convert 0D dict to 1D list & then array\n",
    "print(ndim(Array1D))\n",
    "Series3D = series(data=Array1D) # converting 1D array into 1D series\n",
    "print(Series3D)\n",
    "print(ndim(Series3D))"
   ]
  },
  {
   "cell_type": "code",
   "execution_count": null,
   "id": "852afee7",
   "metadata": {},
   "outputs": [],
   "source": [
    "Series3D = series(data={'Brazil': 100,'China': 500, 'India': 210,'USA': 260}) # converting 0D dict into 1D series\n",
    "print(Series3D)\n",
    "print(ndim(Series3D))"
   ]
  },
  {
   "cell_type": "markdown",
   "id": "36ea5875",
   "metadata": {},
   "source": [
    "# Key Ideas of a Series"
   ]
  },
  {
   "cell_type": "code",
   "execution_count": null,
   "id": "34582976",
   "metadata": {},
   "outputs": [],
   "source": [
    "# Key Ideas of a Series\n",
    "\n",
    "## Named Index\n",
    "\n",
    "# Imaginary Sales Data for 1st and 2nd Quarters for Global Company\n",
    "# created 2 dictionaries\n",
    "Q1 = {'Japan': 80, 'China': 450, 'India': 200, 'USA': 250}\n",
    "Q2 = {'Brazil': 100,'China': 500, 'India': 210,'USA': 260}\n",
    "\n",
    "# Convert 0D dictionaries into 1D Pandas Series\n",
    "sales_Q1 = series(Q1)\n",
    "sales_Q2 = series(Q2)\n",
    "\n",
    "print(sales_Q1)\n",
    "print()\n",
    "print(sales_Q2)\n",
    "print()\n",
    "# Call values based on Named Index\n",
    "print(sales_Q1['Japan'])\n",
    "print(sales_Q1[0])\n",
    "\n",
    "# Integer Based Location information also retained!\n",
    "\n",
    "# **Be careful with potential errors!**\n",
    "\n",
    "# Wrong Name\n",
    "# sales_Q1['France']\n",
    "\n",
    "# Accidental Extra Space\n",
    "# sales_Q1['USA ']\n",
    "\n",
    "# Capitalization Mistake\n",
    "# sales_Q1['usa']"
   ]
  },
  {
   "cell_type": "markdown",
   "id": "6bc09872",
   "metadata": {},
   "source": [
    "## Operations\n",
    "## Dictionary works with both dict.keys() & dict.values() but series works with series.keys() & series.values"
   ]
  },
  {
   "cell_type": "code",
   "execution_count": null,
   "id": "f0b71e59",
   "metadata": {},
   "outputs": [],
   "source": [
    "Array2DL = array([[1,2,3],[4,5,6]])\n",
    "print(Array2DL)\n",
    "print(shape(Array2DL))\n",
    "\n",
    "Array2DR = array([[7,8,9],[10,11,12]])\n",
    "print(Array2DR)\n",
    "print(shape(Array2DR))"
   ]
  },
  {
   "cell_type": "code",
   "execution_count": null,
   "id": "dadad30e",
   "metadata": {},
   "outputs": [],
   "source": [
    "Array3D = array([Array2DL, Array2DR], dtype=object)\n",
    "\n",
    "print(Array3D)\n",
    "print(Array3D.dtype)\n",
    "print(type(Array3D))\n",
    "print(ndim(Array3D))\n",
    "print(shape(Array3D)) # 2 Arrays, 2 Rows & 3 Columns"
   ]
  },
  {
   "cell_type": "code",
   "execution_count": null,
   "id": "514663e2",
   "metadata": {},
   "outputs": [],
   "source": [
    "Array3D = array([[[1,2,3],[4,5,6]], [[7,8,9],[10,11,12]]], dtype=object)\n",
    "\n",
    "print(Array3D)\n",
    "print(Array3D.dtype)\n",
    "print(type(Array3D))\n",
    "print(ndim(Array3D))\n",
    "print(shape(Array3D)) # 2 Arrays, 2 Rows & 3 Columns"
   ]
  },
  {
   "cell_type": "code",
   "execution_count": null,
   "id": "f1328fbd",
   "metadata": {},
   "outputs": [],
   "source": [
    "Array3D = array([[[1,2,3],[4,5,6],[7,8,9]],\n",
    "                 [[10,11,12],[13,14,15],[16,17,18]],\n",
    "                 [[19,20,21],[22,23,24],[25,26,27]]])\n",
    "print(Array3D)\n",
    "print(ndim(Array3D))\n",
    "print(Array3D.dtype)\n",
    "print(type(Array3D))\n",
    "print(Array3D.shape) # 3 Arrays, 3 Rows & 3 Columns"
   ]
  },
  {
   "cell_type": "code",
   "execution_count": null,
   "id": "6e8928d7",
   "metadata": {},
   "outputs": [],
   "source": [
    "# Grab just the index keys from dictionary and series\n",
    "print(Q1.keys())\n",
    "print()\n",
    "print(Q1.values())\n",
    "print()\n",
    "print(Q2.keys())\n",
    "print()\n",
    "print(Q2.values())\n",
    "print()\n",
    "print(sales_Q1.keys())\n",
    "print()\n",
    "print(sales_Q1.values)\n",
    "# print(sales_Q1.values())\n",
    "print()\n",
    "print(sales_Q2.keys())\n",
    "print()\n",
    "print(sales_Q2.values)\n",
    "# print(sales_Q2.values())"
   ]
  },
  {
   "cell_type": "code",
   "execution_count": null,
   "id": "af77b22a",
   "metadata": {},
   "outputs": [],
   "source": [
    "Array3D = linspace(start=0, stop=100, num=27, dtype=int).reshape([3,3,3])\n",
    "print(Array3D)\n",
    "print(ndim(Array3D))\n",
    "print(Array3D.dtype)\n",
    "print(type(Array3D))\n",
    "print(Array3D.shape) # 3 Arrays, 3 Rows & 3 Columns"
   ]
  },
  {
   "cell_type": "code",
   "execution_count": null,
   "id": "f57f06ed",
   "metadata": {},
   "outputs": [],
   "source": [
    "# Can Perform Operations Broadcasted across entire Series\n",
    "print(sales_Q1 * 2)"
   ]
  },
  {
   "cell_type": "code",
   "execution_count": null,
   "id": "feca141f",
   "metadata": {},
   "outputs": [],
   "source": [
    "# showing series indexes\n",
    "print(sales_Q1.index)\n",
    "print(sales_Q1.keys())"
   ]
  },
  {
   "cell_type": "code",
   "execution_count": null,
   "id": "934bcd01",
   "metadata": {},
   "outputs": [],
   "source": [
    "print(sales_Q2 / 100)"
   ]
  },
  {
   "cell_type": "markdown",
   "id": "9c58d52d",
   "metadata": {},
   "source": [
    "## Operations Between Series"
   ]
  },
  {
   "cell_type": "code",
   "execution_count": null,
   "id": "2d7076b6",
   "metadata": {},
   "outputs": [],
   "source": [
    "# Notice how Pandas informs you of mismatch with NaN\n",
    "# keys \"Japan\" & \"Brazil\" will missmatch\n",
    "print(sales_Q1)\n",
    "print()\n",
    "print(sales_Q2)\n",
    "print()\n",
    "print(sales_Q1 + sales_Q2)"
   ]
  },
  {
   "cell_type": "code",
   "execution_count": null,
   "id": "5a6d1b1a",
   "metadata": {},
   "outputs": [],
   "source": [
    "print((sales_Q1 + sales_Q2).keys())"
   ]
  },
  {
   "cell_type": "code",
   "execution_count": null,
   "id": "8989b878",
   "metadata": {},
   "outputs": [],
   "source": [
    "# You can fill these with any value you want\n",
    "print(sales_Q1.add(sales_Q2, fill_value=0))"
   ]
  },
  {
   "cell_type": "markdown",
   "id": "c938efe7",
   "metadata": {},
   "source": [
    "# DataFrames has both row indexes & column indexes\n",
    "## DataFrame(data=[], index=[], columns=[]) and DataFrame only works with 2D data structure\n",
    "\n",
    "Throughout the course, most of our data exploration will be done with DataFrames. DataFrames are an extremely powerful tool and a natural extension of the Pandas Series. By definition all a DataFrame is:\n",
    "\n",
    "**A Pandas DataFrame consists of multiple Pandas Series that share index values.**"
   ]
  },
  {
   "cell_type": "markdown",
   "id": "27e6d5f5",
   "metadata": {},
   "source": [
    "## Creating a DataFrame from Python Objects"
   ]
  },
  {
   "cell_type": "code",
   "execution_count": null,
   "id": "8d1e47d9",
   "metadata": {},
   "outputs": [],
   "source": [
    "# some python lists\n",
    "names = array([['Olga', 'Andrew', 'Brian', 'Telulah', 'Nicole', 'Tilda']]) # converting 2D list into array\n",
    "ages = array([[29, 21, 45, 23, 39, 46]]) # converting 2D list into array\n",
    "married = array([[False, True, True, True, False, True]]) # converting 2D list into array"
   ]
  },
  {
   "cell_type": "code",
   "execution_count": null,
   "id": "cfef8b46",
   "metadata": {},
   "outputs": [],
   "source": [
    "print(shape(names.T))\n",
    "print(shape(ages.T))\n",
    "print(shape(married.T))"
   ]
  },
  {
   "cell_type": "code",
   "execution_count": null,
   "id": "853e80a9",
   "metadata": {},
   "outputs": [],
   "source": [
    "# Ways to Create 2D arrays with multiple rows & collumns\n",
    "\n",
    "from numpy import concatenate, hstack, append, stack\n",
    "\n",
    "frame = stack([names, ages, married], axis=2)\n",
    "print(type(frame))\n",
    "print(shape(frame))\n",
    "\n",
    "frame = concatenate([names.T, ages.T, married.T], axis=1)\n",
    "print(type(frame))\n",
    "print(shape(frame))\n",
    "\n",
    "frame = hstack([names.T, ages.T, married.T])\n",
    "print(type(frame))\n",
    "print(shape(frame))\n",
    "\n",
    "# frame = append(names.T, append(ages.T, married.T, axis=1), axis=1)\n",
    "# print(shape(frame))\n",
    "# frame"
   ]
  },
  {
   "cell_type": "code",
   "execution_count": null,
   "id": "d7051e93",
   "metadata": {},
   "outputs": [],
   "source": [
    "# pandas dataframe\n",
    "print(frame)\n",
    "print(type(frame))\n",
    "df = DataFrame(data=frame, columns=['name', 'age', 'married'])\n",
    "print(shape(df))\n",
    "df"
   ]
  },
  {
   "cell_type": "code",
   "execution_count": null,
   "id": "d10e4c8d",
   "metadata": {},
   "outputs": [],
   "source": [
    "# some python lists\n",
    "names = ['Olga', 'Andrew', 'Brian', 'Telulah', 'Nicole', 'Tilda'] # 1D list\n",
    "ages = [29, 21, 45, 23, 39, 46] # 1D list\n",
    "married = [False, True, True, True, False, True] # 1D list\n",
    "\n",
    "# pandas dataframe\n",
    "df = DataFrame({'name': names, 'age': ages, 'married': married})\n",
    "print(shape(df))\n",
    "df"
   ]
  },
  {
   "cell_type": "code",
   "execution_count": null,
   "id": "baf5ad55",
   "metadata": {},
   "outputs": [],
   "source": [
    "tuple_names = tuple(names) # 1D tuple\n",
    "tuple_ages = tuple(ages) # 1D tuple\n",
    "tuple_married = tuple(married) # 1D tuple\n",
    "\n",
    "df = DataFrame({'name': tuple_names,\n",
    "                'ages': tuple_ages,\n",
    "                'married': tuple_married})\n",
    "print(shape(df))\n",
    "df"
   ]
  },
  {
   "cell_type": "code",
   "execution_count": null,
   "id": "7d1fbf9e",
   "metadata": {},
   "outputs": [],
   "source": [
    "series_names = series(names) # 1D series\n",
    "series_ages = series(ages) # 1D series\n",
    "series_married = series(married) # 1D series\n",
    "\n",
    "df = DataFrame({'name': series_names,\n",
    "                'ages': series_ages,\n",
    "                'married': series_married})\n",
    "print(shape(df))\n",
    "df"
   ]
  },
  {
   "cell_type": "code",
   "execution_count": null,
   "id": "f14a7b98",
   "metadata": {},
   "outputs": [],
   "source": [
    "dict_names = dict(series(names)) # 0D dict\n",
    "dict_ages = dict(series(ages)) # 0D dict\n",
    "dict_married = dict(series(married)) # 0D dict\n",
    "\n",
    "df = DataFrame({'name': dict_names,\n",
    "                'ages': dict_ages,\n",
    "                'married': dict_married})\n",
    "print(shape(df))\n",
    "df"
   ]
  },
  {
   "cell_type": "code",
   "execution_count": null,
   "id": "34fb9cc2",
   "metadata": {},
   "outputs": [],
   "source": [
    "frame=list(zip(names, ages, married))\n",
    "print(frame) # List having nested tuples\n",
    "print(type(frame))\n",
    "\n",
    "# pandas dataframe\n",
    "df = DataFrame(data=frame, columns=['name', 'age', 'married'])\n",
    "print(shape(df))\n",
    "df"
   ]
  },
  {
   "cell_type": "code",
   "execution_count": null,
   "id": "a2351cfe",
   "metadata": {},
   "outputs": [],
   "source": [
    "frame=array(list(zip(names, ages, married)))\n",
    "print(frame) # List having nested tuples\n",
    "print(type(frame))\n",
    "\n",
    "# pandas dataframe\n",
    "df = DataFrame(data=frame, columns=['name', 'age', 'married'])\n",
    "print(shape(df))\n",
    "df"
   ]
  },
  {
   "cell_type": "code",
   "execution_count": null,
   "id": "ba889ace",
   "metadata": {},
   "outputs": [],
   "source": [
    "df.iloc[[2],[0]]"
   ]
  },
  {
   "cell_type": "code",
   "execution_count": null,
   "id": "05483150",
   "metadata": {},
   "outputs": [],
   "source": [
    "df.iloc[[2]]"
   ]
  },
  {
   "cell_type": "code",
   "execution_count": null,
   "id": "9ecebdd5",
   "metadata": {},
   "outputs": [],
   "source": [
    "df[['name']]"
   ]
  },
  {
   "cell_type": "code",
   "execution_count": null,
   "id": "b58a8328",
   "metadata": {},
   "outputs": [],
   "source": [
    "df.dtypes"
   ]
  },
  {
   "cell_type": "code",
   "execution_count": null,
   "id": "6e450329",
   "metadata": {},
   "outputs": [],
   "source": [
    "df.info()"
   ]
  },
  {
   "cell_type": "code",
   "execution_count": null,
   "id": "3061bd5a",
   "metadata": {},
   "outputs": [],
   "source": [
    "print(names)\n",
    "print(ages)\n",
    "print(married)"
   ]
  },
  {
   "cell_type": "code",
   "execution_count": null,
   "id": "2bef9010",
   "metadata": {},
   "outputs": [],
   "source": [
    "list(enumerate(names))"
   ]
  },
  {
   "cell_type": "code",
   "execution_count": null,
   "id": "6f8796f4",
   "metadata": {},
   "outputs": [],
   "source": [
    "def convert_list_to_dict(List: list):\n",
    "    return {k:v for k,v in enumerate(List)}"
   ]
  },
  {
   "cell_type": "code",
   "execution_count": null,
   "id": "ddbb2817",
   "metadata": {},
   "outputs": [],
   "source": [
    "dict_names = convert_list_to_dict(names)\n",
    "dict_names"
   ]
  },
  {
   "cell_type": "code",
   "execution_count": null,
   "id": "a96c4b1c",
   "metadata": {},
   "outputs": [],
   "source": [
    "dict_ages = convert_list_to_dict(ages)\n",
    "dict_married = convert_list_to_dict(married)\n",
    "print(dict_ages)\n",
    "print(dict_married)"
   ]
  },
  {
   "cell_type": "code",
   "execution_count": null,
   "id": "30b7fc34",
   "metadata": {},
   "outputs": [],
   "source": [
    "df = DataFrame({'name': dict_names,\n",
    "                'ages': dict_ages,\n",
    "                'married': dict_married})\n",
    "\n",
    "df"
   ]
  },
  {
   "cell_type": "code",
   "execution_count": null,
   "id": "378c6b39",
   "metadata": {},
   "outputs": [],
   "source": [
    "rowwise = [{'name': name, 'age': ages, 'married': married} for name, ages, married in zip(names, ages, married)]\n",
    "DataFrame(rowwise)"
   ]
  },
  {
   "cell_type": "code",
   "execution_count": null,
   "id": "65a8f79f",
   "metadata": {},
   "outputs": [],
   "source": [
    "random.seed(101)\n",
    "mydata = random.randint(low=0, high=101, size=[1,4,3])\n",
    "print(mydata) # 1 array, 4 rows & 3 Columns\n",
    "print(shape(mydata))\n",
    "# 2D arrays\n",
    "print()\n",
    "random.seed(101)\n",
    "mydata = random.randint(low=0, high=101, size=12).reshape([1,4,3])\n",
    "print(mydata)\n",
    "print(shape(mydata)) # 1 array, 4 rows & 3 Columns"
   ]
  },
  {
   "cell_type": "code",
   "execution_count": null,
   "id": "4b4f638d",
   "metadata": {},
   "outputs": [],
   "source": [
    "Rowindex = ['CA','NY','AZ','TX']\n",
    "\n",
    "Colindex = ['Jan','Feb','Mar']"
   ]
  },
  {
   "cell_type": "code",
   "execution_count": null,
   "id": "f8f81547",
   "metadata": {},
   "outputs": [],
   "source": [
    "mydata = random.randint(low=0, high=101, size=12).reshape([4,3])\n",
    "DF = DataFrame(data=mydata, index=Rowindex ,columns=Colindex)\n",
    "print(DF)\n",
    "print(type(DF))\n",
    "print(ndim(DF))\n",
    "print(size(DF))\n",
    "print(len(DF))\n",
    "print(shape(DF)) # 4 Rows & 3 Columns"
   ]
  },
  {
   "cell_type": "code",
   "execution_count": null,
   "id": "54d81f33",
   "metadata": {},
   "outputs": [],
   "source": [
    "print(DF.info())"
   ]
  },
  {
   "cell_type": "code",
   "execution_count": null,
   "id": "eaf62b3e",
   "metadata": {},
   "outputs": [],
   "source": [
    "mydata = random.randint(low=0, high=101, size=180).reshape([3,10,6])\n",
    "print(mydata)\n",
    "print(shape(mydata)) # 3 Arrays, 10 Rows & 6 Columns"
   ]
  },
  {
   "cell_type": "code",
   "execution_count": null,
   "id": "9bda29d3",
   "metadata": {},
   "outputs": [],
   "source": [
    "Rowindex = ['CA','NY','AZ','TX', 'LX', 'MX', 'ZX', '98', '89', '10']\n",
    "\n",
    "Colindex = ['Jan','Feb','Mar', 'Apr', 'May', 'June']\n",
    "# selecting 1st Array index\n",
    "DF = DataFrame(data=mydata[1], index=Rowindex ,columns=Colindex)\n",
    "print(DF)\n",
    "print(type(DF))\n",
    "print(ndim(DF))\n",
    "print(size(DF))\n",
    "print(len(DF))\n",
    "print(shape(DF)) # 10 Rows & 6 Columns"
   ]
  },
  {
   "cell_type": "markdown",
   "id": "75b8c6af",
   "metadata": {},
   "source": [
    "## What Is A DataFrame?"
   ]
  },
  {
   "cell_type": "code",
   "execution_count": null,
   "id": "edf39eba",
   "metadata": {},
   "outputs": [],
   "source": [
    "# some python lists\n",
    "names = ['Olga', 'Andrew', 'Brian', 'Telulah', 'Nicole', 'Tilda']\n",
    "ages = [29, 21, 45, 23, 39, 46]\n",
    "married = [False, True, True, True, False, True]"
   ]
  },
  {
   "cell_type": "code",
   "execution_count": null,
   "id": "78d6db64",
   "metadata": {},
   "outputs": [],
   "source": [
    "# pandas series\n",
    "ser = series(data=names)\n",
    "ser"
   ]
  },
  {
   "cell_type": "code",
   "execution_count": null,
   "id": "26bf0ecc",
   "metadata": {},
   "outputs": [],
   "source": [
    "# pandas dataframe\n",
    "df = DataFrame({'name': names, 'age': ages, 'married': married}) # 0D dict into 2D DataFrame\n",
    "df"
   ]
  },
  {
   "cell_type": "markdown",
   "id": "a2f64ff6",
   "metadata": {},
   "source": [
    "\n",
    "# Reading a .csv file for a DataFrame\n",
    "\n",
    "----\n",
    "\n",
    "## NOTE: We will go over all kinds of data inputs and outputs (.html, .csv, .xlxs , etc...) later on in the course! For now we just need to read in a simple .csv file.\n",
    "\n",
    "----"
   ]
  },
  {
   "cell_type": "code",
   "execution_count": null,
   "id": "14fe4a9e",
   "metadata": {},
   "outputs": [],
   "source": [
    "pwd"
   ]
  },
  {
   "cell_type": "code",
   "execution_count": null,
   "id": "5ee8f6fd",
   "metadata": {},
   "outputs": [],
   "source": [
    "ls"
   ]
  },
  {
   "cell_type": "markdown",
   "id": "d82fd8ee",
   "metadata": {},
   "source": [
    "## CSV\n",
    "Comma Separated Values files are text files that use commas as field delimeters.<br>\n",
    "Unless you're running the virtual environment included with the course, you may need to install <tt>xlrd</tt> and <tt>openpyxl</tt>.<br>\n",
    "In your terminal/command prompt run:\n",
    "\n",
    "    conda install xlrd\n",
    "    conda install openpyxl\n",
    "\n",
    "Then restart Jupyter Notebook.\n",
    "(or use pip install if you aren't using the Anaconda Distribution)\n",
    "\n",
    "## Understanding File Paths\n",
    "\n",
    "You have two options when reading a file with pandas:\n",
    "\n",
    "1. If your .py file or .ipynb notebook is located in the **exact** same folder location as the .csv file you want to read, simply pass in the file name as a string, for example:\n",
    "    \n",
    "        df = pd.read_csv('some_file.csv')\n",
    "        \n",
    "2. Pass in the entire file path if you are located in a different directory. The file path must be 100% correct in order for this to work. For example:\n",
    "\n",
    "        df = pd.read_csv(\"C:\\\\Users\\\\myself\\\\files\\\\some_file.csv\")"
   ]
  },
  {
   "cell_type": "code",
   "execution_count": null,
   "id": "5f8c71c7",
   "metadata": {},
   "outputs": [],
   "source": [
    "dataurl = 'https://andybek.com/pandas-nutrition'"
   ]
  },
  {
   "cell_type": "code",
   "execution_count": null,
   "id": "2484c943",
   "metadata": {},
   "outputs": [],
   "source": [
    "nutrition = read_csv(dataurl)"
   ]
  },
  {
   "cell_type": "code",
   "execution_count": null,
   "id": "d1fd8e87",
   "metadata": {},
   "outputs": [],
   "source": [
    "nutrition.head(10)"
   ]
  },
  {
   "cell_type": "code",
   "execution_count": null,
   "id": "de2fb352",
   "metadata": {},
   "outputs": [],
   "source": [
    "nutrition.head()"
   ]
  },
  {
   "cell_type": "code",
   "execution_count": null,
   "id": "0193ba19",
   "metadata": {},
   "outputs": [],
   "source": [
    "nutrition.drop('Unnamed: 0', axis=1)"
   ]
  },
  {
   "cell_type": "code",
   "execution_count": null,
   "id": "52dc863e",
   "metadata": {},
   "outputs": [],
   "source": [
    "nutrition.drop('Unnamed: 0', axis=1, inplace=True)"
   ]
  },
  {
   "cell_type": "code",
   "execution_count": null,
   "id": "4e5fee16",
   "metadata": {},
   "outputs": [],
   "source": [
    "nutrition"
   ]
  },
  {
   "cell_type": "code",
   "execution_count": null,
   "id": "fae51aa7",
   "metadata": {},
   "outputs": [],
   "source": [
    "nutrition = read_csv(dataurl, index_col=[0])\n",
    "nutrition"
   ]
  },
  {
   "cell_type": "code",
   "execution_count": null,
   "id": "bb2922dd",
   "metadata": {},
   "outputs": [],
   "source": [
    "nutrition.sample() # randomly select a single row as a sample"
   ]
  },
  {
   "cell_type": "code",
   "execution_count": null,
   "id": "9b9b8adc",
   "metadata": {},
   "outputs": [],
   "source": [
    "nutrition.sample(random_state=12)"
   ]
  },
  {
   "cell_type": "code",
   "execution_count": null,
   "id": "bedd945d",
   "metadata": {},
   "outputs": [],
   "source": [
    "nutrition.sample(n=3) # randomly select 3 Rows as sample"
   ]
  },
  {
   "cell_type": "code",
   "execution_count": null,
   "id": "4d8de0be",
   "metadata": {},
   "outputs": [],
   "source": [
    "nutrition.sample(frac=0.01) # randomly select 1% as sample"
   ]
  },
  {
   "cell_type": "code",
   "execution_count": null,
   "id": "84f06d66",
   "metadata": {},
   "outputs": [],
   "source": [
    "nutrition.shape[0] * 0.01 # 10% of total number of rows is 87.89 rows"
   ]
  },
  {
   "cell_type": "code",
   "execution_count": null,
   "id": "8609f958",
   "metadata": {},
   "outputs": [],
   "source": [
    "# with or without replacement while random sampling\n",
    "nutrition.sample(n=3, replace=True)"
   ]
  },
  {
   "cell_type": "markdown",
   "id": "7d55d9c7",
   "metadata": {},
   "source": [
    "# DataFrame Axes"
   ]
  },
  {
   "cell_type": "code",
   "execution_count": null,
   "id": "46939261",
   "metadata": {},
   "outputs": [],
   "source": [
    "nutrition.axes # DataFrame rows & columns"
   ]
  },
  {
   "cell_type": "code",
   "execution_count": null,
   "id": "a6a9d227",
   "metadata": {},
   "outputs": [],
   "source": [
    "nutrition.index\n",
    "\n",
    "nutrition.axes[0]"
   ]
  },
  {
   "cell_type": "code",
   "execution_count": null,
   "id": "51787215",
   "metadata": {},
   "outputs": [],
   "source": [
    "nutrition.columns\n",
    "\n",
    "nutrition.keys()\n",
    "\n",
    "nutrition.axes[1]"
   ]
  },
  {
   "cell_type": "code",
   "execution_count": null,
   "id": "5273e931",
   "metadata": {},
   "outputs": [],
   "source": [
    "nutrition.axes[0][3]\n",
    "\n",
    "nutrition.index[3]"
   ]
  },
  {
   "cell_type": "code",
   "execution_count": null,
   "id": "47bc9a81",
   "metadata": {},
   "outputs": [],
   "source": [
    "nutrition.axes[1][3]\n",
    "\n",
    "nutrition.columns[3]"
   ]
  },
  {
   "cell_type": "markdown",
   "id": "fa33bba5",
   "metadata": {},
   "source": [
    "## 3 Changing DataFrame index dtype"
   ]
  },
  {
   "cell_type": "code",
   "execution_count": null,
   "id": "b669ba06",
   "metadata": {},
   "outputs": [],
   "source": [
    "print(type(nutrition.index))\n",
    "print(type(nutrition.columns))"
   ]
  },
  {
   "cell_type": "code",
   "execution_count": null,
   "id": "ea699f4e",
   "metadata": {},
   "outputs": [],
   "source": [
    "from pandas import RangeIndex\n",
    "nutrition.index = RangeIndex(start=0, stop=8789, step=1)"
   ]
  },
  {
   "cell_type": "code",
   "execution_count": null,
   "id": "6d81ddab",
   "metadata": {},
   "outputs": [],
   "source": [
    "print(type(nutrition.index))"
   ]
  },
  {
   "cell_type": "code",
   "execution_count": null,
   "id": "7ba69bca",
   "metadata": {},
   "outputs": [],
   "source": [
    "nutrition.set_index('name', inplace=True) # user defined set column as index"
   ]
  },
  {
   "cell_type": "code",
   "execution_count": null,
   "id": "e8fcea71",
   "metadata": {},
   "outputs": [],
   "source": [
    "print(type(nutrition.index))"
   ]
  },
  {
   "cell_type": "code",
   "execution_count": null,
   "id": "79aa2664",
   "metadata": {},
   "outputs": [],
   "source": [
    "nutrition.head()"
   ]
  },
  {
   "cell_type": "code",
   "execution_count": null,
   "id": "946457af",
   "metadata": {},
   "outputs": [],
   "source": [
    "# setting multi index for nutrition DataFrame ie 'name' & 'folic_acid'\n",
    "\n",
    "nutrition.set_index('folic_acid', drop=False, append=True, verify_integrity=False).head()"
   ]
  },
  {
   "cell_type": "code",
   "execution_count": null,
   "id": "9d6f894a",
   "metadata": {},
   "outputs": [],
   "source": [
    "nutrition.calories.value_counts()"
   ]
  },
  {
   "cell_type": "code",
   "execution_count": null,
   "id": "f5357da5",
   "metadata": {},
   "outputs": [],
   "source": [
    "nutrition.count()"
   ]
  },
  {
   "cell_type": "code",
   "execution_count": null,
   "id": "38341ca1",
   "metadata": {},
   "outputs": [],
   "source": [
    "nutrition.set_index('calories', verify_integrity=False) # verify unique or repeated"
   ]
  },
  {
   "cell_type": "code",
   "execution_count": null,
   "id": "9cb329ca",
   "metadata": {},
   "outputs": [],
   "source": [
    "nutrition"
   ]
  },
  {
   "cell_type": "code",
   "execution_count": null,
   "id": "0e54a342",
   "metadata": {},
   "outputs": [],
   "source": [
    "nutrition.loc[['Eggplant, raw']]"
   ]
  },
  {
   "cell_type": "code",
   "execution_count": null,
   "id": "408789d4",
   "metadata": {},
   "outputs": [],
   "source": [
    "nutrition.loc[['Eggplant, raw'],['calories']]"
   ]
  },
  {
   "cell_type": "code",
   "execution_count": null,
   "id": "e6e159b3",
   "metadata": {},
   "outputs": [],
   "source": [
    "nutrition.loc['Eggplant, raw':'Sherbet, orange', 'calories':'cholesterol']"
   ]
  },
  {
   "cell_type": "code",
   "execution_count": null,
   "id": "a369607a",
   "metadata": {},
   "outputs": [],
   "source": [
    "nutrition.loc[['Raspberries, raw', 'Blackberries, raw'],['protein', 'vitamin_b6', 'water']]"
   ]
  },
  {
   "cell_type": "markdown",
   "id": "f65f669f",
   "metadata": {},
   "source": [
    "## DataFrame Extraction By Position"
   ]
  },
  {
   "cell_type": "code",
   "execution_count": null,
   "id": "1ac3f148",
   "metadata": {},
   "outputs": [],
   "source": [
    "nutrition.iloc[[3]]"
   ]
  },
  {
   "cell_type": "code",
   "execution_count": null,
   "id": "907a63fe",
   "metadata": {},
   "outputs": [],
   "source": [
    "nutrition.iloc[[3], :]"
   ]
  },
  {
   "cell_type": "code",
   "execution_count": null,
   "id": "880a29a4",
   "metadata": {},
   "outputs": [],
   "source": [
    "nutrition.iloc[[4,6,9], :]"
   ]
  },
  {
   "cell_type": "code",
   "execution_count": null,
   "id": "f38a67f9",
   "metadata": {},
   "outputs": [],
   "source": [
    "nutrition.iloc[[4,6,9]]"
   ]
  },
  {
   "cell_type": "code",
   "execution_count": null,
   "id": "98cf9289",
   "metadata": {},
   "outputs": [],
   "source": [
    "nutrition.iloc[[4,6,9], [2]]"
   ]
  },
  {
   "cell_type": "code",
   "execution_count": null,
   "id": "be96b404",
   "metadata": {},
   "outputs": [],
   "source": [
    "nutrition.iloc[[4,6,9], 2:5]"
   ]
  },
  {
   "cell_type": "markdown",
   "id": "379f1f10",
   "metadata": {},
   "source": [
    "### boolean indexing"
   ]
  },
  {
   "cell_type": "code",
   "execution_count": null,
   "id": "2652e6c1",
   "metadata": {},
   "outputs": [],
   "source": [
    "# boolean indexing\n",
    "\n",
    "new_nutr = nutrition.iloc[[True if i%2==0 else False for i in range(8789)],[True if i%2==0 else False for i in range(75)]]"
   ]
  },
  {
   "cell_type": "code",
   "execution_count": null,
   "id": "b95a29fa",
   "metadata": {},
   "outputs": [],
   "source": [
    "new_nutr"
   ]
  },
  {
   "cell_type": "code",
   "execution_count": null,
   "id": "97b3983a",
   "metadata": {},
   "outputs": [],
   "source": [
    "nutrition.iloc[[9],[1]]"
   ]
  },
  {
   "cell_type": "code",
   "execution_count": null,
   "id": "61169dc4",
   "metadata": {},
   "outputs": [],
   "source": [
    "nutrition.loc[['Nuts, pecans'], ['calories']]"
   ]
  },
  {
   "cell_type": "code",
   "execution_count": null,
   "id": "7296a809",
   "metadata": {},
   "outputs": [],
   "source": [
    "nutrition.iloc[[1],[1]]"
   ]
  },
  {
   "cell_type": "code",
   "execution_count": null,
   "id": "a248c309",
   "metadata": {},
   "outputs": [],
   "source": [
    "nutrition.columns.get_loc('vitamin_k') # iloc of 'vitamin_k'"
   ]
  },
  {
   "cell_type": "markdown",
   "id": "1572d388",
   "metadata": {},
   "source": [
    "## More Cleanup: Going Numeric"
   ]
  },
  {
   "cell_type": "code",
   "execution_count": null,
   "id": "e1d34792",
   "metadata": {},
   "outputs": [],
   "source": [
    "nutrition[['total_fat']].head()"
   ]
  },
  {
   "cell_type": "code",
   "execution_count": null,
   "id": "b6bd4e5e",
   "metadata": {},
   "outputs": [],
   "source": [
    "nutrition[['total_fat']].sum()"
   ]
  },
  {
   "cell_type": "markdown",
   "id": "26006cd8",
   "metadata": {},
   "source": [
    "## The astype() Method"
   ]
  },
  {
   "cell_type": "code",
   "execution_count": null,
   "id": "03dceec5",
   "metadata": {},
   "outputs": [],
   "source": [
    "df = DataFrame({\n",
    "    'age': [12, 13, 14, 16], \n",
    "    'weight': [41.1, 34.5, 83.2, 90.1], \n",
    "    'height': ['1.72', '1.74', '1.91', '1.54']\n",
    "    })\n",
    "\n",
    "df"
   ]
  },
  {
   "cell_type": "code",
   "execution_count": null,
   "id": "ab1e7625",
   "metadata": {},
   "outputs": [],
   "source": [
    "df.info()"
   ]
  },
  {
   "cell_type": "code",
   "execution_count": null,
   "id": "4ae8543f",
   "metadata": {},
   "outputs": [],
   "source": [
    "df = df.astype(float)\n",
    "df"
   ]
  },
  {
   "cell_type": "code",
   "execution_count": null,
   "id": "8facd205",
   "metadata": {},
   "outputs": [],
   "source": [
    "df.astype({'age': int})"
   ]
  },
  {
   "cell_type": "code",
   "execution_count": null,
   "id": "650b5dd1",
   "metadata": {},
   "outputs": [],
   "source": [
    "from numpy import int16\n",
    "df.astype({'age': int16})"
   ]
  },
  {
   "cell_type": "markdown",
   "id": "a975c17a",
   "metadata": {},
   "source": [
    "## DataFrame replace() + A Glimpse At Regex"
   ]
  },
  {
   "cell_type": "code",
   "execution_count": null,
   "id": "9389373d",
   "metadata": {},
   "outputs": [],
   "source": [
    "dfm = nutrition.iloc[:6, :1]\n",
    "dfm"
   ]
  },
  {
   "cell_type": "code",
   "execution_count": null,
   "id": "54644f21",
   "metadata": {},
   "outputs": [],
   "source": [
    "dfm.info()"
   ]
  },
  {
   "cell_type": "code",
   "execution_count": null,
   "id": "ac407a42",
   "metadata": {},
   "outputs": [],
   "source": [
    "dfm.replace('100 g', 100)"
   ]
  },
  {
   "cell_type": "code",
   "execution_count": null,
   "id": "a590d4ef",
   "metadata": {},
   "outputs": [],
   "source": [
    "dfm.replace('g', '')"
   ]
  },
  {
   "cell_type": "code",
   "execution_count": null,
   "id": "0eb3fa2a",
   "metadata": {},
   "outputs": [],
   "source": [
    "# regex -> regular expressions\n",
    "dfm.replace(' g', '', regex=True).astype(int)"
   ]
  },
  {
   "cell_type": "markdown",
   "id": "aa9e44e7",
   "metadata": {},
   "source": [
    "## Part I: Collecting the Units"
   ]
  },
  {
   "cell_type": "code",
   "execution_count": null,
   "id": "2a5f79f9",
   "metadata": {},
   "outputs": [],
   "source": [
    "nutrition"
   ]
  },
  {
   "cell_type": "code",
   "execution_count": null,
   "id": "df3415ef",
   "metadata": {},
   "outputs": [],
   "source": [
    "clean = nutrition.astype(str).replace('[ ^a-zA-Z]', '', regex=True)"
   ]
  },
  {
   "cell_type": "code",
   "execution_count": null,
   "id": "ad8b67fb",
   "metadata": {},
   "outputs": [],
   "source": [
    "clean"
   ]
  },
  {
   "cell_type": "code",
   "execution_count": null,
   "id": "13d8312c",
   "metadata": {},
   "outputs": [],
   "source": [
    "nutrition[['saturated_fat']].value_counts()"
   ]
  },
  {
   "cell_type": "code",
   "execution_count": null,
   "id": "82d36a24",
   "metadata": {},
   "outputs": [],
   "source": [
    "clean[['saturated_fat']].value_counts()"
   ]
  },
  {
   "cell_type": "code",
   "execution_count": null,
   "id": "2ddf54ff",
   "metadata": {},
   "outputs": [],
   "source": [
    "clean.mode()"
   ]
  },
  {
   "cell_type": "markdown",
   "id": "fd610c06",
   "metadata": {},
   "source": [
    "## The rename() Method"
   ]
  },
  {
   "cell_type": "code",
   "execution_count": null,
   "id": "a7f4099e",
   "metadata": {},
   "outputs": [],
   "source": [
    "df"
   ]
  },
  {
   "cell_type": "code",
   "execution_count": null,
   "id": "bb6e30dc",
   "metadata": {},
   "outputs": [],
   "source": [
    "df.rename(index={0:'Pikachu'})"
   ]
  },
  {
   "cell_type": "code",
   "execution_count": null,
   "id": "c003947d",
   "metadata": {},
   "outputs": [],
   "source": [
    "df.rename(index={0:'Pikachu', 1: 'Andy'})"
   ]
  },
  {
   "cell_type": "code",
   "execution_count": null,
   "id": "380425e7",
   "metadata": {},
   "outputs": [],
   "source": [
    "df.rename(columns={'weight': 'Weight (kg)'})"
   ]
  },
  {
   "cell_type": "code",
   "execution_count": null,
   "id": "9a9feab4",
   "metadata": {},
   "outputs": [],
   "source": [
    "df.rename(columns={'weight': 'Weight (kg)'}, index={0: 'Pikachu'})"
   ]
  },
  {
   "cell_type": "code",
   "execution_count": null,
   "id": "1d8b9bdf",
   "metadata": {},
   "outputs": [],
   "source": [
    "df"
   ]
  },
  {
   "cell_type": "code",
   "execution_count": null,
   "id": "2227c4de",
   "metadata": {},
   "outputs": [],
   "source": [
    "df.rename(mapper={'height': 'Height (m)'}, axis=1)\n",
    "\n",
    "df.rename(mapper={'height': 'Height (m)'}, axis='column')"
   ]
  },
  {
   "cell_type": "code",
   "execution_count": null,
   "id": "012e0bf5",
   "metadata": {},
   "outputs": [],
   "source": [
    "df.axes[1]\n",
    "\n",
    "df.keys()\n",
    "\n",
    "df.columns"
   ]
  },
  {
   "cell_type": "code",
   "execution_count": null,
   "id": "b56fe57c",
   "metadata": {},
   "outputs": [],
   "source": [
    "df.axes[0]\n",
    "\n",
    "df.index"
   ]
  },
  {
   "cell_type": "code",
   "execution_count": null,
   "id": "57f42ec4",
   "metadata": {},
   "outputs": [],
   "source": []
  },
  {
   "cell_type": "code",
   "execution_count": null,
   "id": "2f5dcc0d",
   "metadata": {},
   "outputs": [],
   "source": []
  },
  {
   "cell_type": "code",
   "execution_count": null,
   "id": "17bd3622",
   "metadata": {},
   "outputs": [],
   "source": []
  },
  {
   "cell_type": "code",
   "execution_count": null,
   "id": "065738ac",
   "metadata": {},
   "outputs": [],
   "source": [
    "Wine = read_csv('https://andybek.com/pandas-drinks') # read Wine csva\n",
    "Wine"
   ]
  },
  {
   "cell_type": "code",
   "execution_count": null,
   "id": "74c200a9",
   "metadata": {},
   "outputs": [],
   "source": [
    "Wine = read_csv('https://andybek.com/pandas-drinks', usecols=['country','wine_servings'])\n",
    "Wine # take 'country','wine_servings' columns"
   ]
  },
  {
   "cell_type": "code",
   "execution_count": null,
   "id": "6fb686f2",
   "metadata": {},
   "outputs": [],
   "source": [
    "Wine = read_csv('https://andybek.com/pandas-drinks', usecols=['country','wine_servings'], index_col=['country'])\n",
    "Wine # set user defined index is 'country'"
   ]
  },
  {
   "cell_type": "code",
   "execution_count": null,
   "id": "291dc4f5",
   "metadata": {},
   "outputs": [],
   "source": [
    "Wine = read_csv('https://andybek.com/pandas-drinks', usecols=['country','wine_servings'])\n",
    "Wine.set_index('country') # set user defined index"
   ]
  },
  {
   "cell_type": "markdown",
   "id": "e058128d",
   "metadata": {},
   "source": [
    "## series.size, series.shape, len(series)"
   ]
  },
  {
   "cell_type": "code",
   "execution_count": null,
   "id": "03faf307",
   "metadata": {},
   "outputs": [],
   "source": [
    "Wine.size"
   ]
  },
  {
   "cell_type": "code",
   "execution_count": null,
   "id": "ab7a90a6",
   "metadata": {},
   "outputs": [],
   "source": [
    "Wine.shape"
   ]
  },
  {
   "cell_type": "code",
   "execution_count": null,
   "id": "d652ccbc",
   "metadata": {},
   "outputs": [],
   "source": [
    "len(Wine)"
   ]
  },
  {
   "cell_type": "markdown",
   "id": "7cbac36a",
   "metadata": {},
   "source": [
    "## Unique Values and Series Monotonicity Direction"
   ]
  },
  {
   "cell_type": "code",
   "execution_count": null,
   "id": "9b394f7f",
   "metadata": {},
   "outputs": [],
   "source": [
    "Wine = read_csv('https://andybek.com/pandas-drinks', usecols=['country', 'wine_servings'], index_col='country', squeeze=True)\n",
    "Wine"
   ]
  },
  {
   "cell_type": "code",
   "execution_count": null,
   "id": "436e2c1e",
   "metadata": {},
   "outputs": [],
   "source": [
    "print(type(Wine))\n",
    "Wine.is_unique # are the values unique ?? Wine is series"
   ]
  },
  {
   "cell_type": "code",
   "execution_count": null,
   "id": "09054902",
   "metadata": {},
   "outputs": [],
   "source": [
    "Wine.values # wine is series here"
   ]
  },
  {
   "cell_type": "code",
   "execution_count": null,
   "id": "a97cff6a",
   "metadata": {},
   "outputs": [],
   "source": [
    "Wine.unique() # unique values of series Wine"
   ]
  },
  {
   "cell_type": "code",
   "execution_count": null,
   "id": "de7cadeb",
   "metadata": {},
   "outputs": [],
   "source": [
    "print(len(Wine.unique()))\n",
    "print(size(Wine.unique()))"
   ]
  },
  {
   "cell_type": "code",
   "execution_count": null,
   "id": "61e8b7ab",
   "metadata": {},
   "outputs": [],
   "source": [
    "print(Wine.size)\n",
    "print(len(Wine.values))"
   ]
  },
  {
   "cell_type": "code",
   "execution_count": null,
   "id": "577661d8",
   "metadata": {},
   "outputs": [],
   "source": [
    "Wine.index"
   ]
  },
  {
   "cell_type": "code",
   "execution_count": null,
   "id": "e9fe2c5e",
   "metadata": {},
   "outputs": [],
   "source": [
    "Wine.keys()"
   ]
  },
  {
   "cell_type": "code",
   "execution_count": null,
   "id": "6853ceec",
   "metadata": {},
   "outputs": [],
   "source": [
    "Wine.values.size == Wine.index.size"
   ]
  },
  {
   "cell_type": "code",
   "execution_count": null,
   "id": "cfd44750",
   "metadata": {},
   "outputs": [],
   "source": [
    "Wine.shape"
   ]
  },
  {
   "cell_type": "code",
   "execution_count": null,
   "id": "d0b7606f",
   "metadata": {},
   "outputs": [],
   "source": [
    "Wine.size == Wine.shape[0] # [0] Represents number of rows"
   ]
  },
  {
   "cell_type": "code",
   "execution_count": null,
   "id": "3958f879",
   "metadata": {},
   "outputs": [],
   "source": [
    "len(Wine)"
   ]
  },
  {
   "cell_type": "code",
   "execution_count": null,
   "id": "059e21e2",
   "metadata": {},
   "outputs": [],
   "source": [
    "Wine.is_unique # are all values are unique ??"
   ]
  },
  {
   "cell_type": "code",
   "execution_count": null,
   "id": "ec3b389d",
   "metadata": {},
   "outputs": [],
   "source": [
    "Wine.head().is_unique # are first five values unique ??"
   ]
  },
  {
   "cell_type": "code",
   "execution_count": null,
   "id": "135defe3",
   "metadata": {},
   "outputs": [],
   "source": [
    "Wine.nunique() # total unique values ??"
   ]
  },
  {
   "cell_type": "code",
   "execution_count": null,
   "id": "c5f54f37",
   "metadata": {},
   "outputs": [],
   "source": [
    "Wine.nunique(dropna=False) # total unique values including NaN/None ??"
   ]
  },
  {
   "cell_type": "code",
   "execution_count": null,
   "id": "01dcdd88",
   "metadata": {},
   "outputs": [],
   "source": [
    "# monotonicity"
   ]
  },
  {
   "cell_type": "code",
   "execution_count": null,
   "id": "cd302316",
   "metadata": {},
   "outputs": [],
   "source": [
    "series([1,2,3]).is_monotonic # values direction check"
   ]
  },
  {
   "cell_type": "code",
   "execution_count": null,
   "id": "5012c3e7",
   "metadata": {},
   "outputs": [],
   "source": [
    "series([1,2,3,3,3,3]).is_monotonic # values direction check"
   ]
  },
  {
   "cell_type": "code",
   "execution_count": null,
   "id": "a763667a",
   "metadata": {},
   "outputs": [],
   "source": [
    "series([1,2,3,3,3,3,4,10,79,100]).is_monotonic_increasing # values direction increasing ??"
   ]
  },
  {
   "cell_type": "code",
   "execution_count": null,
   "id": "bf560b3e",
   "metadata": {},
   "outputs": [],
   "source": [
    "series(reversed([1,2,3,3,3,3,4,10,79,100])).is_monotonic_decreasing # values direction decreasing ??"
   ]
  },
  {
   "cell_type": "markdown",
   "id": "a41300cf",
   "metadata": {},
   "source": [
    "## The element frequency count() Method for a series"
   ]
  },
  {
   "cell_type": "code",
   "execution_count": null,
   "id": "80690f6b",
   "metadata": {},
   "outputs": [],
   "source": [
    "Wine.count()"
   ]
  },
  {
   "cell_type": "code",
   "execution_count": null,
   "id": "4eeade42",
   "metadata": {},
   "outputs": [],
   "source": [
    "len(Wine)"
   ]
  },
  {
   "cell_type": "code",
   "execution_count": null,
   "id": "2292c668",
   "metadata": {},
   "outputs": [],
   "source": [
    "Wine.size"
   ]
  },
  {
   "cell_type": "code",
   "execution_count": null,
   "id": "81c61622",
   "metadata": {},
   "outputs": [],
   "source": [
    "Wine.hasnans # do the series have NaN/None values"
   ]
  },
  {
   "cell_type": "markdown",
   "id": "9304e98a",
   "metadata": {},
   "source": [
    "## Accessing And Counting NA's using series.isnull( ) & series.isna( ) & isnan(series)"
   ]
  },
  {
   "cell_type": "code",
   "execution_count": null,
   "id": "842154f7",
   "metadata": {},
   "outputs": [],
   "source": [
    "Wine.count() # count total number of values excluding NaN/None"
   ]
  },
  {
   "cell_type": "code",
   "execution_count": null,
   "id": "af15608c",
   "metadata": {},
   "outputs": [],
   "source": [
    "Wine.isnull() # Check NaN values are present or not"
   ]
  },
  {
   "cell_type": "code",
   "execution_count": null,
   "id": "f4ccf67e",
   "metadata": {},
   "outputs": [],
   "source": [
    "Wine.isna() # Check NaN values are present or not"
   ]
  },
  {
   "cell_type": "code",
   "execution_count": null,
   "id": "1f016162",
   "metadata": {},
   "outputs": [],
   "source": [
    "from numpy import isnan\n",
    "isnan(Wine) # Check NaN values are present or not"
   ]
  },
  {
   "cell_type": "code",
   "execution_count": null,
   "id": "5ba1d7c9",
   "metadata": {},
   "outputs": [],
   "source": [
    "Wine.isnull().index"
   ]
  },
  {
   "cell_type": "code",
   "execution_count": null,
   "id": "f139a02c",
   "metadata": {},
   "outputs": [],
   "source": [
    "Wine[Wine.isnull()].index # which indexes have NaN/None values ??"
   ]
  },
  {
   "cell_type": "code",
   "execution_count": null,
   "id": "ebf12940",
   "metadata": {},
   "outputs": [],
   "source": [
    "Wine.isna().index"
   ]
  },
  {
   "cell_type": "code",
   "execution_count": null,
   "id": "e3e52833",
   "metadata": {},
   "outputs": [],
   "source": [
    "Wine[Wine.isna()].index # which indexes have NaN/None values ??"
   ]
  },
  {
   "cell_type": "code",
   "execution_count": null,
   "id": "4933e3db",
   "metadata": {},
   "outputs": [],
   "source": [
    "isnan(Wine).index"
   ]
  },
  {
   "cell_type": "code",
   "execution_count": null,
   "id": "cdb5989b",
   "metadata": {},
   "outputs": [],
   "source": [
    "Wine[isnan(Wine)].index # which indexes have NaN/None values ??"
   ]
  },
  {
   "cell_type": "code",
   "execution_count": null,
   "id": "4b5a524e",
   "metadata": {},
   "outputs": [],
   "source": [
    "Wine.isnull().keys()"
   ]
  },
  {
   "cell_type": "code",
   "execution_count": null,
   "id": "c9569fc7",
   "metadata": {},
   "outputs": [],
   "source": [
    "Wine[Wine.isnull()].keys() # which indexes have NaN/None values ??"
   ]
  },
  {
   "cell_type": "code",
   "execution_count": null,
   "id": "90508002",
   "metadata": {},
   "outputs": [],
   "source": [
    "Wine.isna().keys()"
   ]
  },
  {
   "cell_type": "code",
   "execution_count": null,
   "id": "e7b0d7c0",
   "metadata": {},
   "outputs": [],
   "source": [
    "Wine[Wine.isna()].keys() # which indexes have NaN/None values ??"
   ]
  },
  {
   "cell_type": "code",
   "execution_count": null,
   "id": "6634d69d",
   "metadata": {},
   "outputs": [],
   "source": [
    "isnan(Wine).keys()"
   ]
  },
  {
   "cell_type": "code",
   "execution_count": null,
   "id": "6fe4813b",
   "metadata": {},
   "outputs": [],
   "source": [
    "Wine[isnan(Wine)].keys() # which indexes have NaN/None values ??"
   ]
  },
  {
   "cell_type": "code",
   "execution_count": null,
   "id": "792f1e95",
   "metadata": {},
   "outputs": [],
   "source": [
    "len(Wine[Wine.isnull()].index) # total NaN/None values"
   ]
  },
  {
   "cell_type": "code",
   "execution_count": null,
   "id": "b9b7580f",
   "metadata": {},
   "outputs": [],
   "source": [
    "len(Wine[Wine.isnull()].keys()) # total NaN/None values"
   ]
  },
  {
   "cell_type": "code",
   "execution_count": null,
   "id": "d6af4190",
   "metadata": {},
   "outputs": [],
   "source": [
    "len(Wine[Wine.isna()].index) # total NaN/None values"
   ]
  },
  {
   "cell_type": "code",
   "execution_count": null,
   "id": "8c574fa6",
   "metadata": {},
   "outputs": [],
   "source": [
    "len(Wine[Wine.isna()].keys()) # total NaN/None values"
   ]
  },
  {
   "cell_type": "code",
   "execution_count": null,
   "id": "be9c6bcd",
   "metadata": {},
   "outputs": [],
   "source": [
    "len(Wine[isnan(Wine)].index) # total NaN/None values"
   ]
  },
  {
   "cell_type": "code",
   "execution_count": null,
   "id": "f35c81b8",
   "metadata": {},
   "outputs": [],
   "source": [
    "len(Wine[isnan(Wine)].keys()) # total NaN/None values"
   ]
  },
  {
   "cell_type": "code",
   "execution_count": null,
   "id": "59bae564",
   "metadata": {},
   "outputs": [],
   "source": [
    "list(Wine[Wine.isnull()].index)\n",
    "list(Wine[Wine.isnull()].keys())\n",
    "list(Wine[Wine.isna()].index)\n",
    "list(Wine[Wine.isna()].keys())\n",
    "list(Wine[isnan(Wine)].index)\n",
    "list(Wine[isnan(Wine)].keys())"
   ]
  },
  {
   "cell_type": "code",
   "execution_count": null,
   "id": "ed699727",
   "metadata": {},
   "outputs": [],
   "source": [
    "# cumbersome: very difficult to work with"
   ]
  },
  {
   "cell_type": "code",
   "execution_count": null,
   "id": "c34dfce7",
   "metadata": {},
   "outputs": [],
   "source": [
    "# antonym: pandorable -> adorable and involving pandas"
   ]
  },
  {
   "cell_type": "code",
   "execution_count": null,
   "id": "c27cf0e1",
   "metadata": {},
   "outputs": [],
   "source": [
    "print(Wine.isnull().sum())\n",
    "print(Wine.isna().sum())\n",
    "print(isnan(Wine).sum())"
   ]
  },
  {
   "cell_type": "code",
   "execution_count": null,
   "id": "388a7bac",
   "metadata": {},
   "outputs": [],
   "source": [
    "Wine.isnull().values\n",
    "Wine.isna().values\n",
    "isnan(Wine).values"
   ]
  },
  {
   "cell_type": "code",
   "execution_count": null,
   "id": "0ab78483",
   "metadata": {},
   "outputs": [],
   "source": [
    "# Total number of NaN/None values\n",
    "print(Wine.isnull().values.sum())\n",
    "print(Wine.isna().values.sum())\n",
    "print(isnan(Wine).values.sum())"
   ]
  },
  {
   "cell_type": "code",
   "execution_count": null,
   "id": "00dfd48f",
   "metadata": {},
   "outputs": [],
   "source": [
    "# booleans are integers in python"
   ]
  },
  {
   "cell_type": "code",
   "execution_count": null,
   "id": "b55067ba",
   "metadata": {},
   "outputs": [],
   "source": [
    "sum([True, False, True])"
   ]
  },
  {
   "cell_type": "code",
   "execution_count": null,
   "id": "bb84b900",
   "metadata": {},
   "outputs": [],
   "source": [
    "all = Wine.size # total number of elemen objects"
   ]
  },
  {
   "cell_type": "code",
   "execution_count": null,
   "id": "64e2e43e",
   "metadata": {},
   "outputs": [],
   "source": [
    "nonnulls = Wine.count() # excluding NaN/None values"
   ]
  },
  {
   "cell_type": "code",
   "execution_count": null,
   "id": "5fd0b87d",
   "metadata": {},
   "outputs": [],
   "source": [
    "nulls = Wine.isna().sum() # total NaN/None values"
   ]
  },
  {
   "cell_type": "code",
   "execution_count": null,
   "id": "f21a9efc",
   "metadata": {},
   "outputs": [],
   "source": [
    "all == nonnulls + nulls"
   ]
  },
  {
   "cell_type": "markdown",
   "id": "24076597",
   "metadata": {},
   "source": [
    "## The Other Side: notnull( ) And notna( )"
   ]
  },
  {
   "cell_type": "code",
   "execution_count": null,
   "id": "c84efc88",
   "metadata": {},
   "outputs": [],
   "source": [
    "from pandas import notnull, notna"
   ]
  },
  {
   "cell_type": "code",
   "execution_count": null,
   "id": "65022d43",
   "metadata": {},
   "outputs": [],
   "source": [
    "Wine.notnull()"
   ]
  },
  {
   "cell_type": "code",
   "execution_count": null,
   "id": "0ca3fc8b",
   "metadata": {},
   "outputs": [],
   "source": [
    "Wine.notna()"
   ]
  },
  {
   "cell_type": "code",
   "execution_count": null,
   "id": "43ea6583",
   "metadata": {},
   "outputs": [],
   "source": [
    "Wine.notnull().index "
   ]
  },
  {
   "cell_type": "code",
   "execution_count": null,
   "id": "e64c911a",
   "metadata": {},
   "outputs": [],
   "source": [
    "Wine.notna().index"
   ]
  },
  {
   "cell_type": "code",
   "execution_count": null,
   "id": "35199977",
   "metadata": {},
   "outputs": [],
   "source": [
    "Wine.notnull().keys()"
   ]
  },
  {
   "cell_type": "code",
   "execution_count": null,
   "id": "224415a1",
   "metadata": {},
   "outputs": [],
   "source": [
    "Wine.notna().keys()"
   ]
  },
  {
   "cell_type": "code",
   "execution_count": null,
   "id": "6e49bd98",
   "metadata": {},
   "outputs": [],
   "source": [
    "Wine.loc[Wine.notna()] # labelled series.loc[] boolean conditional indexing"
   ]
  },
  {
   "cell_type": "code",
   "execution_count": null,
   "id": "176a2d34",
   "metadata": {},
   "outputs": [],
   "source": [
    "Wine.loc[Wine.notna().values] # labelled series.loc[] boolean conditional indexing"
   ]
  },
  {
   "cell_type": "code",
   "execution_count": null,
   "id": "9eec32fa",
   "metadata": {},
   "outputs": [],
   "source": [
    "Wine.loc[list(Wine.notna())] # labelled series.loc[] boolean conditional indexing"
   ]
  },
  {
   "cell_type": "code",
   "execution_count": null,
   "id": "35afe42b",
   "metadata": {},
   "outputs": [],
   "source": [
    "Wine.iloc[Wine.notna().values] # labelled series.iloc[] boolean conditional indexing"
   ]
  },
  {
   "cell_type": "code",
   "execution_count": null,
   "id": "fbacb052",
   "metadata": {},
   "outputs": [],
   "source": [
    "Wine[Wine.notna()]"
   ]
  },
  {
   "cell_type": "code",
   "execution_count": null,
   "id": "780181fe",
   "metadata": {},
   "outputs": [],
   "source": [
    "Wine.notnull()"
   ]
  },
  {
   "cell_type": "code",
   "execution_count": null,
   "id": "c6b579ad",
   "metadata": {},
   "outputs": [],
   "source": [
    "Wine.loc[Wine.notnull()] # labelled series.loc[] conditional indexing"
   ]
  },
  {
   "cell_type": "code",
   "execution_count": null,
   "id": "0aa204f2",
   "metadata": {},
   "outputs": [],
   "source": [
    "Wine.loc[list(Wine.notnull())] # labelled series.loc[] conditional indexing"
   ]
  },
  {
   "cell_type": "code",
   "execution_count": null,
   "id": "68a20234",
   "metadata": {},
   "outputs": [],
   "source": [
    "Wine.loc[Wine.notnull().values] # labelled series.loc[] conditional indexing"
   ]
  },
  {
   "cell_type": "code",
   "execution_count": null,
   "id": "6ec6f81b",
   "metadata": {},
   "outputs": [],
   "source": [
    "Wine.iloc[Wine.notnull().values] # labelled series.iloc[] conditional indexing"
   ]
  },
  {
   "cell_type": "code",
   "execution_count": null,
   "id": "b0c527e8",
   "metadata": {},
   "outputs": [],
   "source": [
    "Wine[Wine.notnull()] # labelled series.loc[] conditional indexing"
   ]
  },
  {
   "cell_type": "code",
   "execution_count": null,
   "id": "19c3fcfe",
   "metadata": {},
   "outputs": [],
   "source": [
    "Wine.notnull()"
   ]
  },
  {
   "cell_type": "code",
   "execution_count": null,
   "id": "9830f19b",
   "metadata": {},
   "outputs": [],
   "source": [
    "Wine[Wine.notnull().values] # labelled series.loc[] conditional indexing"
   ]
  },
  {
   "cell_type": "code",
   "execution_count": null,
   "id": "d2733116",
   "metadata": {},
   "outputs": [],
   "source": [
    "Wine[list(Wine.notnull())] # labelled series.loc[] conditional indexing"
   ]
  },
  {
   "cell_type": "code",
   "execution_count": null,
   "id": "74ef0c28",
   "metadata": {},
   "outputs": [],
   "source": [
    "Tips['size'] > 3"
   ]
  },
  {
   "cell_type": "code",
   "execution_count": null,
   "id": "0817582b",
   "metadata": {},
   "outputs": [],
   "source": [
    "Wine[[0,1,2]] # labelled series.loc[] conditional indexing"
   ]
  },
  {
   "cell_type": "code",
   "execution_count": null,
   "id": "3f786731",
   "metadata": {},
   "outputs": [],
   "source": [
    "Wine[['Albania','Algeria','Andorra']] # labelled series.loc[] conditional indexing"
   ]
  },
  {
   "cell_type": "code",
   "execution_count": null,
   "id": "967088fa",
   "metadata": {},
   "outputs": [],
   "source": [
    "Wine.notna().sum()"
   ]
  },
  {
   "cell_type": "code",
   "execution_count": null,
   "id": "e81444a0",
   "metadata": {},
   "outputs": [],
   "source": [
    "Wine.notnull().sum()"
   ]
  },
  {
   "cell_type": "code",
   "execution_count": null,
   "id": "00f09cd3",
   "metadata": {},
   "outputs": [],
   "source": [
    "Wine.count() # Total by excluding NaN/None object elements"
   ]
  },
  {
   "cell_type": "code",
   "execution_count": null,
   "id": "c391b3c9",
   "metadata": {},
   "outputs": [],
   "source": [
    "Wine.notnull().sum() + Wine.isnull().sum() == Wine.size"
   ]
  },
  {
   "cell_type": "markdown",
   "id": "fd38e9af",
   "metadata": {},
   "source": [
    "## BONUS: Booleans Are Literally Numbers In Python"
   ]
  },
  {
   "cell_type": "code",
   "execution_count": null,
   "id": "ccaad1c3",
   "metadata": {},
   "outputs": [],
   "source": [
    "print(int(True))\n",
    "print(int(False))"
   ]
  },
  {
   "cell_type": "code",
   "execution_count": null,
   "id": "a979fe09",
   "metadata": {},
   "outputs": [],
   "source": [
    "True + 19"
   ]
  },
  {
   "cell_type": "code",
   "execution_count": null,
   "id": "4066b8a5",
   "metadata": {},
   "outputs": [],
   "source": [
    "True + True - False + True * 3"
   ]
  },
  {
   "cell_type": "code",
   "execution_count": null,
   "id": "97486c5d",
   "metadata": {},
   "outputs": [],
   "source": [
    "# 5 / False\n",
    "\n",
    "print(type(True))\n",
    "\n",
    "print(type(False))"
   ]
  },
  {
   "cell_type": "code",
   "execution_count": null,
   "id": "b4946a30",
   "metadata": {},
   "outputs": [],
   "source": [
    "bool.__mro__"
   ]
  },
  {
   "cell_type": "code",
   "execution_count": null,
   "id": "4052d107",
   "metadata": {},
   "outputs": [],
   "source": [
    "wine_servings = Wine[Wine.notnull()]\n",
    "wine_servings"
   ]
  },
  {
   "cell_type": "code",
   "execution_count": null,
   "id": "ff938398",
   "metadata": {},
   "outputs": [],
   "source": [
    "wine_servings.sum()"
   ]
  },
  {
   "cell_type": "code",
   "execution_count": null,
   "id": "eb8b0ac4",
   "metadata": {},
   "outputs": [],
   "source": [
    "wine_servings < 100"
   ]
  },
  {
   "cell_type": "code",
   "execution_count": null,
   "id": "02d9b5af",
   "metadata": {},
   "outputs": [],
   "source": [
    "wine_servings[wine_servings < 100].sum()"
   ]
  },
  {
   "cell_type": "code",
   "execution_count": null,
   "id": "21caf10b",
   "metadata": {},
   "outputs": [],
   "source": [
    "wine_servings[wine_servings < 100] # showing labelled indexes having serve less than 100"
   ]
  },
  {
   "cell_type": "markdown",
   "id": "422c8bca",
   "metadata": {},
   "source": [
    "## Dropping And Filling NAs using series.dropna( ) & series.fillna( )"
   ]
  },
  {
   "cell_type": "code",
   "execution_count": null,
   "id": "248cd4d9",
   "metadata": {},
   "outputs": [],
   "source": [
    "Wine.dropna()"
   ]
  },
  {
   "cell_type": "code",
   "execution_count": null,
   "id": "b0522141",
   "metadata": {},
   "outputs": [],
   "source": [
    "Wine"
   ]
  },
  {
   "cell_type": "code",
   "execution_count": null,
   "id": "598a9c35",
   "metadata": {},
   "outputs": [],
   "source": [
    "Wine.fillna(100, inplace=False)"
   ]
  },
  {
   "cell_type": "markdown",
   "id": "ea644f47",
   "metadata": {},
   "source": [
    "## Descriptive Statistics"
   ]
  },
  {
   "cell_type": "code",
   "execution_count": null,
   "id": "9e68ce49",
   "metadata": {},
   "outputs": [],
   "source": [
    "Wine.sum()"
   ]
  },
  {
   "cell_type": "code",
   "execution_count": null,
   "id": "0a015b42",
   "metadata": {},
   "outputs": [],
   "source": [
    "print(Wine.count())\n",
    "print(Wine.size)\n",
    "print(len(Wine))"
   ]
  },
  {
   "cell_type": "code",
   "execution_count": null,
   "id": "c9c79512",
   "metadata": {},
   "outputs": [],
   "source": [
    "Wine.sum() / Wine.count()"
   ]
  },
  {
   "cell_type": "code",
   "execution_count": null,
   "id": "5845168e",
   "metadata": {},
   "outputs": [],
   "source": [
    "Wine.mean()"
   ]
  },
  {
   "cell_type": "code",
   "execution_count": null,
   "id": "9df8ccf1",
   "metadata": {},
   "outputs": [],
   "source": [
    "Wine.median()"
   ]
  },
  {
   "cell_type": "code",
   "execution_count": null,
   "id": "063614b6",
   "metadata": {},
   "outputs": [],
   "source": [
    "Wine.quantile(.5) # this Q2"
   ]
  },
  {
   "cell_type": "code",
   "execution_count": null,
   "id": "8adaa29f",
   "metadata": {},
   "outputs": [],
   "source": [
    "Wine.hist() # bin bucket is 10"
   ]
  },
  {
   "cell_type": "code",
   "execution_count": null,
   "id": "7e462d37",
   "metadata": {},
   "outputs": [],
   "source": [
    "# IQR = Q3 - Q1\n",
    "IQR = Wine.quantile(.75) - Wine.quantile(.25)\n",
    "IQR"
   ]
  },
  {
   "cell_type": "code",
   "execution_count": null,
   "id": "5d4f5367",
   "metadata": {},
   "outputs": [],
   "source": [
    "Wine.max()"
   ]
  },
  {
   "cell_type": "code",
   "execution_count": null,
   "id": "b21909e8",
   "metadata": {},
   "outputs": [],
   "source": [
    "Wine.min()"
   ]
  },
  {
   "cell_type": "code",
   "execution_count": null,
   "id": "df32fd44",
   "metadata": {},
   "outputs": [],
   "source": [
    "Wine.std()"
   ]
  },
  {
   "cell_type": "code",
   "execution_count": null,
   "id": "1770e9b0",
   "metadata": {},
   "outputs": [],
   "source": [
    "Wine.var()"
   ]
  },
  {
   "cell_type": "code",
   "execution_count": null,
   "id": "7b21b5cc",
   "metadata": {},
   "outputs": [],
   "source": [
    "Wine.std()**2 == Wine.var()"
   ]
  },
  {
   "cell_type": "code",
   "execution_count": null,
   "id": "83da31a6",
   "metadata": {},
   "outputs": [],
   "source": [
    "Wine.describe()"
   ]
  },
  {
   "cell_type": "code",
   "execution_count": null,
   "id": "f5b2fe8b",
   "metadata": {},
   "outputs": [],
   "source": [
    "Wine.mode() # The value which have highest frequency of occurance"
   ]
  },
  {
   "cell_type": "code",
   "execution_count": null,
   "id": "ecdd8500",
   "metadata": {},
   "outputs": [],
   "source": [
    "len(Wine[Wine == 1])"
   ]
  },
  {
   "cell_type": "code",
   "execution_count": null,
   "id": "4884c234",
   "metadata": {},
   "outputs": [],
   "source": [
    "Wine[Wine == 1].value_counts()"
   ]
  },
  {
   "cell_type": "code",
   "execution_count": null,
   "id": "b5d06f45",
   "metadata": {},
   "outputs": [],
   "source": [
    "Wine[Wine == 1].size"
   ]
  },
  {
   "cell_type": "code",
   "execution_count": null,
   "id": "ca73f15d",
   "metadata": {},
   "outputs": [],
   "source": [
    "Wine.value_counts() # value wise frequencies"
   ]
  },
  {
   "cell_type": "code",
   "execution_count": null,
   "id": "aaff12ce",
   "metadata": {},
   "outputs": [],
   "source": [
    "print(Wine.unique())\n",
    "print(len(Wine.unique()))\n",
    "print(Wine.nunique())"
   ]
  },
  {
   "cell_type": "code",
   "execution_count": null,
   "id": "804ef013",
   "metadata": {},
   "outputs": [],
   "source": [
    "Wine.value_counts().iloc[0]"
   ]
  },
  {
   "cell_type": "code",
   "execution_count": null,
   "id": "2a7e2a24",
   "metadata": {},
   "outputs": [],
   "source": [
    "Wine.value_counts(normalize=True) # value wise frequency %"
   ]
  },
  {
   "cell_type": "markdown",
   "id": "22f5dfa2",
   "metadata": {},
   "source": [
    "## idxmax() And idxmin()"
   ]
  },
  {
   "cell_type": "code",
   "execution_count": null,
   "id": "860a8e12",
   "metadata": {},
   "outputs": [],
   "source": [
    "Wine.max()"
   ]
  },
  {
   "cell_type": "code",
   "execution_count": null,
   "id": "d91c1a74",
   "metadata": {},
   "outputs": [],
   "source": [
    "Wine[Wine == Wine.max()]"
   ]
  },
  {
   "cell_type": "code",
   "execution_count": null,
   "id": "ca7de90f",
   "metadata": {},
   "outputs": [],
   "source": [
    "Wine[Wine == Wine.max()].index"
   ]
  },
  {
   "cell_type": "code",
   "execution_count": null,
   "id": "60c4b070",
   "metadata": {},
   "outputs": [],
   "source": [
    "Wine[Wine == Wine.max()].keys()"
   ]
  },
  {
   "cell_type": "code",
   "execution_count": null,
   "id": "4cabdf77",
   "metadata": {},
   "outputs": [],
   "source": [
    "type(Wine[Wine == Wine.max()].index)"
   ]
  },
  {
   "cell_type": "code",
   "execution_count": null,
   "id": "92ed27e7",
   "metadata": {},
   "outputs": [],
   "source": [
    "Wine[Wine == Wine.max()].index[0]"
   ]
  },
  {
   "cell_type": "code",
   "execution_count": null,
   "id": "3e3330db",
   "metadata": {},
   "outputs": [],
   "source": [
    "Wine.idxmax()"
   ]
  },
  {
   "cell_type": "code",
   "execution_count": null,
   "id": "0a45d5b4",
   "metadata": {},
   "outputs": [],
   "source": [
    "Wine.idxmin()"
   ]
  },
  {
   "cell_type": "code",
   "execution_count": null,
   "id": "e0a5612b",
   "metadata": {},
   "outputs": [],
   "source": [
    "Wine.min()"
   ]
  },
  {
   "cell_type": "code",
   "execution_count": null,
   "id": "cb826990",
   "metadata": {},
   "outputs": [],
   "source": [
    "Wine.value_counts().head(1) # frequency of each unique value"
   ]
  },
  {
   "cell_type": "code",
   "execution_count": null,
   "id": "dd93e281",
   "metadata": {},
   "outputs": [],
   "source": [
    "Wine[Wine == Wine.min()]"
   ]
  },
  {
   "cell_type": "code",
   "execution_count": null,
   "id": "9b6a90a8",
   "metadata": {},
   "outputs": [],
   "source": [
    "Wine[Wine == Wine.max()]"
   ]
  },
  {
   "cell_type": "code",
   "execution_count": null,
   "id": "b41ef831",
   "metadata": {},
   "outputs": [],
   "source": [
    "Wine[Wine.idxmax()]"
   ]
  },
  {
   "cell_type": "code",
   "execution_count": null,
   "id": "f793dc1c",
   "metadata": {},
   "outputs": [],
   "source": [
    "Wine.max()"
   ]
  },
  {
   "cell_type": "code",
   "execution_count": null,
   "id": "867ac030",
   "metadata": {},
   "outputs": [],
   "source": [
    "Wine[Wine == Wine.max()]"
   ]
  },
  {
   "cell_type": "code",
   "execution_count": null,
   "id": "5a82246b",
   "metadata": {},
   "outputs": [],
   "source": [
    "Wine[Wine == Wine.min()]"
   ]
  },
  {
   "cell_type": "code",
   "execution_count": null,
   "id": "75aca03d",
   "metadata": {},
   "outputs": [],
   "source": [
    "Wine[Wine == Wine.min()].keys()"
   ]
  },
  {
   "cell_type": "code",
   "execution_count": null,
   "id": "0d15f336",
   "metadata": {},
   "outputs": [],
   "source": [
    "Wine[Wine == Wine.min()].index"
   ]
  },
  {
   "cell_type": "markdown",
   "id": "066261ee",
   "metadata": {},
   "source": [
    "## Sorting With sort_values()"
   ]
  },
  {
   "cell_type": "code",
   "execution_count": null,
   "id": "9b925fb0",
   "metadata": {},
   "outputs": [],
   "source": [
    "Wine.sort_values()"
   ]
  },
  {
   "cell_type": "code",
   "execution_count": null,
   "id": "520502cb",
   "metadata": {},
   "outputs": [],
   "source": [
    "Wine.sort_values(ascending=False, na_position='last', kind='quicksort', inplace=True) # mergesort, heapsort"
   ]
  },
  {
   "cell_type": "code",
   "execution_count": null,
   "id": "4122ad26",
   "metadata": {},
   "outputs": [],
   "source": [
    "Wine.head()"
   ]
  },
  {
   "cell_type": "markdown",
   "id": "53cc851a",
   "metadata": {},
   "source": [
    "## Series Arithmetics And fill_value( ) , adding new indexes & values to a series using series1.add(series2, fill_value=0)\n",
    "\n",
    "* series1.substract(series2, fill_value=0)\n",
    "* series1.divide(series2, fill_value=0)\n",
    "* series1.multiply(series2, fill_value=1)\n",
    "* series1.add(series2, fill_value=0)"
   ]
  },
  {
   "cell_type": "code",
   "execution_count": null,
   "id": "babb02f1",
   "metadata": {},
   "outputs": [],
   "source": [
    "Wine + 2"
   ]
  },
  {
   "cell_type": "code",
   "execution_count": null,
   "id": "d82a59f6",
   "metadata": {},
   "outputs": [],
   "source": [
    "(Wine -10) * 2"
   ]
  },
  {
   "cell_type": "code",
   "execution_count": null,
   "id": "71de71b5",
   "metadata": {},
   "outputs": [],
   "source": [
    "Wine.head()"
   ]
  },
  {
   "cell_type": "code",
   "execution_count": null,
   "id": "1bfce70b",
   "metadata": {},
   "outputs": [],
   "source": [
    "Wine.sort_index(inplace=True)"
   ]
  },
  {
   "cell_type": "code",
   "execution_count": null,
   "id": "6924e335",
   "metadata": {},
   "outputs": [],
   "source": [
    "Wine.head()"
   ]
  },
  {
   "cell_type": "code",
   "execution_count": null,
   "id": "fa19fb29",
   "metadata": {},
   "outputs": [],
   "source": [
    "more_drinks = series({'Albania': 6, 'Alberia': 19, 'Algeria': 10, 'Afghanistan': 100, 'Yemen': 101}) # 0D dict to 1D series\n",
    "print(ndim(more_drinks))"
   ]
  },
  {
   "cell_type": "code",
   "execution_count": null,
   "id": "8388020d",
   "metadata": {},
   "outputs": [],
   "source": [
    "Wine + more_drinks"
   ]
  },
  {
   "cell_type": "code",
   "execution_count": null,
   "id": "b6947156",
   "metadata": {},
   "outputs": [],
   "source": [
    "Wine.add(more_drinks, fill_value=0)"
   ]
  },
  {
   "cell_type": "code",
   "execution_count": null,
   "id": "c2d61b9c",
   "metadata": {},
   "outputs": [],
   "source": [
    "Wine - more_drinks"
   ]
  },
  {
   "cell_type": "code",
   "execution_count": null,
   "id": "0a71991b",
   "metadata": {},
   "outputs": [],
   "source": [
    "Wine.subtract(more_drinks, fill_value=0)"
   ]
  },
  {
   "cell_type": "code",
   "execution_count": null,
   "id": "29ddf4aa",
   "metadata": {},
   "outputs": [],
   "source": [
    "Wine.divide(more_drinks, fill_value=1)"
   ]
  },
  {
   "cell_type": "code",
   "execution_count": null,
   "id": "389b165a",
   "metadata": {},
   "outputs": [],
   "source": [
    "Wine.multiply(more_drinks, fill_value=1)"
   ]
  },
  {
   "cell_type": "code",
   "execution_count": null,
   "id": "19e31ba6",
   "metadata": {},
   "outputs": [],
   "source": [
    "Wine.head()"
   ]
  },
  {
   "cell_type": "code",
   "execution_count": null,
   "id": "eb77ecf5",
   "metadata": {},
   "outputs": [],
   "source": [
    "more_drinks.head()"
   ]
  },
  {
   "cell_type": "markdown",
   "id": "ff2015e1",
   "metadata": {},
   "source": [
    "## BONUS: Calculating Variance And Standard Deviation"
   ]
  },
  {
   "cell_type": "code",
   "execution_count": null,
   "id": "94854281",
   "metadata": {},
   "outputs": [],
   "source": [
    "Wine.var()"
   ]
  },
  {
   "cell_type": "code",
   "execution_count": null,
   "id": "a4a6d80b",
   "metadata": {},
   "outputs": [],
   "source": [
    "(Wine.subtract(Wine.mean())**2).sum()/(Wine.count()-1)"
   ]
  },
  {
   "cell_type": "code",
   "execution_count": null,
   "id": "ca50f442",
   "metadata": {},
   "outputs": [],
   "source": [
    "Wine.std()"
   ]
  },
  {
   "cell_type": "code",
   "execution_count": null,
   "id": "f57c5f85",
   "metadata": {},
   "outputs": [],
   "source": [
    "((Wine.subtract(Wine.mean())**2).sum()/(Wine.count()-1))**(1/2)"
   ]
  },
  {
   "cell_type": "markdown",
   "id": "e5395951",
   "metadata": {},
   "source": [
    "## Cumulative Operations"
   ]
  },
  {
   "cell_type": "code",
   "execution_count": null,
   "id": "18bb0ab2",
   "metadata": {},
   "outputs": [],
   "source": [
    "Wine.sum()"
   ]
  },
  {
   "cell_type": "code",
   "execution_count": null,
   "id": "bb3be54e",
   "metadata": {},
   "outputs": [],
   "source": [
    "Wine.dropna().cumsum()"
   ]
  },
  {
   "cell_type": "code",
   "execution_count": null,
   "id": "a1b7f231",
   "metadata": {},
   "outputs": [],
   "source": [
    "from numpy import NaN\n",
    "NaN + 123192380912"
   ]
  },
  {
   "cell_type": "code",
   "execution_count": null,
   "id": "142810b5",
   "metadata": {},
   "outputs": [],
   "source": [
    "from pandas import NA\n",
    "NA + 12312"
   ]
  },
  {
   "cell_type": "code",
   "execution_count": null,
   "id": "ca1af486",
   "metadata": {},
   "outputs": [],
   "source": [
    "print(NA)\n",
    "print(NaN)"
   ]
  },
  {
   "cell_type": "code",
   "execution_count": null,
   "id": "d5ed590f",
   "metadata": {},
   "outputs": [],
   "source": [
    "Wine.prod()"
   ]
  },
  {
   "cell_type": "code",
   "execution_count": null,
   "id": "18edd924",
   "metadata": {},
   "outputs": [],
   "source": [
    "print(int(Wine.prod()))"
   ]
  },
  {
   "cell_type": "code",
   "execution_count": null,
   "id": "5b368dbe",
   "metadata": {},
   "outputs": [],
   "source": [
    "Wine.dropna().cumprod()"
   ]
  },
  {
   "cell_type": "code",
   "execution_count": null,
   "id": "175bd7c5",
   "metadata": {},
   "outputs": [],
   "source": [
    "Wine.cumprod()[-1] == Wine.prod()"
   ]
  },
  {
   "cell_type": "code",
   "execution_count": null,
   "id": "012b75d8",
   "metadata": {},
   "outputs": [],
   "source": [
    "# cummin cummax"
   ]
  },
  {
   "cell_type": "code",
   "execution_count": null,
   "id": "fba54ea5",
   "metadata": {},
   "outputs": [],
   "source": [
    "Wine.min()"
   ]
  },
  {
   "cell_type": "code",
   "execution_count": null,
   "id": "165cfbda",
   "metadata": {},
   "outputs": [],
   "source": [
    "Wine.cummin()"
   ]
  },
  {
   "cell_type": "code",
   "execution_count": null,
   "id": "9d56fb51",
   "metadata": {},
   "outputs": [],
   "source": [
    "Wine.max()"
   ]
  },
  {
   "cell_type": "code",
   "execution_count": null,
   "id": "f74a043c",
   "metadata": {},
   "outputs": [],
   "source": [
    "Wine.cummax()"
   ]
  },
  {
   "cell_type": "code",
   "execution_count": null,
   "id": "bacfac52",
   "metadata": {},
   "outputs": [],
   "source": [
    "Wine.head()"
   ]
  },
  {
   "cell_type": "code",
   "execution_count": null,
   "id": "159bc7ba",
   "metadata": {},
   "outputs": [],
   "source": [
    "series({'a':'v1', 'b':'v2', 'c':'v3'}) # 0D dict to 1D series"
   ]
  },
  {
   "cell_type": "markdown",
   "id": "1ad60b43",
   "metadata": {},
   "source": [
    "## Pairwise Differences With diff()"
   ]
  },
  {
   "cell_type": "code",
   "execution_count": null,
   "id": "a1709862",
   "metadata": {},
   "outputs": [],
   "source": [
    "Wine.dropna().head()"
   ]
  },
  {
   "cell_type": "code",
   "execution_count": null,
   "id": "726de18e",
   "metadata": {},
   "outputs": [],
   "source": [
    "Wine.dropna().diff().head()"
   ]
  },
  {
   "cell_type": "code",
   "execution_count": null,
   "id": "64cd75c7",
   "metadata": {},
   "outputs": [],
   "source": [
    "Wine.diff(periods=2).head()"
   ]
  },
  {
   "cell_type": "markdown",
   "id": "014e399f",
   "metadata": {},
   "source": [
    "## Series Iteration is like Dictionary iteration, we will use Series.items( ), Series.iteritems( ), Dict.items( )"
   ]
  },
  {
   "cell_type": "code",
   "execution_count": null,
   "id": "94911971",
   "metadata": {},
   "outputs": [],
   "source": [
    "mini_alc = Wine[:10]"
   ]
  },
  {
   "cell_type": "code",
   "execution_count": null,
   "id": "5ac69619",
   "metadata": {},
   "outputs": [],
   "source": [
    "mini_alc"
   ]
  },
  {
   "cell_type": "code",
   "execution_count": null,
   "id": "8df2353b",
   "metadata": {},
   "outputs": [],
   "source": [
    "mini_alc = Wine.iloc[:10]\n",
    "mini_alc"
   ]
  },
  {
   "cell_type": "code",
   "execution_count": null,
   "id": "7da50cc2",
   "metadata": {},
   "outputs": [],
   "source": [
    "for i in mini_alc:\n",
    "    print(i)"
   ]
  },
  {
   "cell_type": "code",
   "execution_count": null,
   "id": "41c5681a",
   "metadata": {},
   "outputs": [],
   "source": [
    "for i in mini_alc.values:\n",
    "    print(i)"
   ]
  },
  {
   "cell_type": "code",
   "execution_count": null,
   "id": "61d778f6",
   "metadata": {},
   "outputs": [],
   "source": [
    "for i in mini_alc.index:\n",
    "    print(i)"
   ]
  },
  {
   "cell_type": "code",
   "execution_count": null,
   "id": "3b7cc237",
   "metadata": {},
   "outputs": [],
   "source": [
    "for i in mini_alc.index:\n",
    "    print(mini_alc.loc[i])"
   ]
  },
  {
   "cell_type": "code",
   "execution_count": null,
   "id": "c2924c35",
   "metadata": {},
   "outputs": [],
   "source": [
    "for i in mini_alc.index:\n",
    "    print(i, mini_alc[i])"
   ]
  },
  {
   "cell_type": "code",
   "execution_count": null,
   "id": "280ef12d",
   "metadata": {},
   "outputs": [],
   "source": [
    "for i in mini_alc.iteritems():\n",
    "    print(i)"
   ]
  },
  {
   "cell_type": "code",
   "execution_count": null,
   "id": "7270d40d",
   "metadata": {},
   "outputs": [],
   "source": [
    "for i in mini_alc.items():\n",
    "    print(i)"
   ]
  },
  {
   "cell_type": "code",
   "execution_count": null,
   "id": "1176f590",
   "metadata": {},
   "outputs": [],
   "source": [
    "for i,j in mini_alc.items():\n",
    "    print(i,j)"
   ]
  },
  {
   "cell_type": "code",
   "execution_count": null,
   "id": "8e4543a4",
   "metadata": {},
   "outputs": [],
   "source": [
    "Dick = {'kuchu':99, 'puchu':89, 'nochu':51}\n",
    "for i,j in Dick.items():\n",
    "    print(i,j)\n",
    "    \n",
    "    \n",
    "for i in Dick.items():\n",
    "    print(i)"
   ]
  },
  {
   "cell_type": "markdown",
   "id": "64e23509",
   "metadata": {},
   "source": [
    "## Filtering: Series.filter( ), Series.where( ), And Series.mask( ) for labelled indexes"
   ]
  },
  {
   "cell_type": "code",
   "execution_count": null,
   "id": "3d19d674",
   "metadata": {},
   "outputs": [],
   "source": [
    "Wine.filter(regex='^V') # filter labelled indexes starts with letter 'V'\n",
    "                        # regex is regular expressions"
   ]
  },
  {
   "cell_type": "code",
   "execution_count": null,
   "id": "85784f82",
   "metadata": {},
   "outputs": [],
   "source": [
    "Wine.filter(like='stan') # filter labelled indexes contains the word 'stan'"
   ]
  },
  {
   "cell_type": "code",
   "execution_count": null,
   "id": "e0ff93bc",
   "metadata": {},
   "outputs": [],
   "source": [
    "Wine[Wine > 200]"
   ]
  },
  {
   "cell_type": "code",
   "execution_count": null,
   "id": "c25b18c0",
   "metadata": {},
   "outputs": [],
   "source": [
    "Wine.loc[Wine > 200]"
   ]
  },
  {
   "cell_type": "code",
   "execution_count": null,
   "id": "fb2723d0",
   "metadata": {},
   "outputs": [],
   "source": [
    "Wine.iloc[(Wine > 200).values]"
   ]
  },
  {
   "cell_type": "code",
   "execution_count": null,
   "id": "0ff11f45",
   "metadata": {},
   "outputs": [],
   "source": [
    "Wine.iloc[list(Wine > 200)]"
   ]
  },
  {
   "cell_type": "code",
   "execution_count": null,
   "id": "e1f232c6",
   "metadata": {},
   "outputs": [],
   "source": [
    "def gt200(x):\n",
    "    return x > 200"
   ]
  },
  {
   "cell_type": "code",
   "execution_count": null,
   "id": "049eaff7",
   "metadata": {},
   "outputs": [],
   "source": [
    "Wine[gt200]"
   ]
  },
  {
   "cell_type": "markdown",
   "id": "c08d7943",
   "metadata": {},
   "source": [
    "## the where() method"
   ]
  },
  {
   "cell_type": "code",
   "execution_count": null,
   "id": "7ca6fe2e",
   "metadata": {},
   "outputs": [],
   "source": [
    "Wine.where(lambda x: x>200).dropna()"
   ]
  },
  {
   "cell_type": "code",
   "execution_count": null,
   "id": "38b59e9a",
   "metadata": {},
   "outputs": [],
   "source": [
    "Wine.where(lambda x: x<=200).dropna()"
   ]
  },
  {
   "cell_type": "markdown",
   "id": "7264a58c",
   "metadata": {},
   "source": [
    "## the mask() method"
   ]
  },
  {
   "cell_type": "code",
   "execution_count": null,
   "id": "7476baaa",
   "metadata": {},
   "outputs": [],
   "source": [
    "Wine.mask(lambda x: x>200).dropna()"
   ]
  },
  {
   "cell_type": "markdown",
   "id": "7d2468b3",
   "metadata": {},
   "source": [
    "## Transforming With Series1.update(Series2), Series.apply() And Series.map()\n",
    "* similar like Dict1.update.(Dict2)"
   ]
  },
  {
   "cell_type": "code",
   "execution_count": null,
   "id": "70a51195",
   "metadata": {},
   "outputs": [],
   "source": [
    "Wine.head(10)"
   ]
  },
  {
   "cell_type": "code",
   "execution_count": null,
   "id": "33cbf98b",
   "metadata": {},
   "outputs": [],
   "source": [
    "# spot v global transforms"
   ]
  },
  {
   "cell_type": "code",
   "execution_count": null,
   "id": "e85c7518",
   "metadata": {},
   "outputs": [],
   "source": [
    "Wine.loc['Algeria'] = 19 # change the value of labelled index 'Algeria'"
   ]
  },
  {
   "cell_type": "code",
   "execution_count": null,
   "id": "d86773a3",
   "metadata": {},
   "outputs": [],
   "source": [
    "Wine.head(10)"
   ]
  },
  {
   "cell_type": "code",
   "execution_count": null,
   "id": "41028913",
   "metadata": {},
   "outputs": [],
   "source": [
    "Wine.loc['Albania'] = 190\n",
    "Wine.loc['Afghanistan'] = 20\n",
    "Wine.loc['Andorra'] = 29"
   ]
  },
  {
   "cell_type": "code",
   "execution_count": null,
   "id": "b41a0673",
   "metadata": {},
   "outputs": [],
   "source": [
    "Wine.head(10)"
   ]
  },
  {
   "cell_type": "code",
   "execution_count": null,
   "id": "a545c4d2",
   "metadata": {},
   "outputs": [],
   "source": [
    "# the update() method"
   ]
  },
  {
   "cell_type": "code",
   "execution_count": null,
   "id": "b6781244",
   "metadata": {},
   "outputs": [],
   "source": [
    "employee_salaries = {\n",
    "    \"Guido\": 100000,\n",
    "    \"James\": 500000,\n",
    "    \"Brandon\": 900000\n",
    "}\n",
    "\n",
    "extra_employee_salaries = {\n",
    "    \"Yukihiro\": 1000000,\n",
    "    \"Guido\": [333333, 45000]\n",
    "}\n",
    "\n",
    "employee_salaries.update(extra_employee_salaries)\n",
    "extra_employee_salaries.update(employee_salaries)\n",
    "\n",
    "print(employee_salaries)\n",
    "print(extra_employee_salaries)"
   ]
  },
  {
   "cell_type": "code",
   "execution_count": null,
   "id": "3fc32c99",
   "metadata": {},
   "outputs": [],
   "source": [
    "Wine.update(series(data=[200, 20], index=['Albania', 'Algeria']))"
   ]
  },
  {
   "cell_type": "code",
   "execution_count": null,
   "id": "a12ea0a9",
   "metadata": {},
   "outputs": [],
   "source": [
    "Wine.head(10)"
   ]
  },
  {
   "cell_type": "code",
   "execution_count": null,
   "id": "bf2d560e",
   "metadata": {},
   "outputs": [],
   "source": [
    "# the apply() method"
   ]
  },
  {
   "cell_type": "code",
   "execution_count": null,
   "id": "3bac1168",
   "metadata": {},
   "outputs": [],
   "source": [
    "Wine.map(lambda x: x**2)"
   ]
  },
  {
   "cell_type": "markdown",
   "id": "e5b9d3e2",
   "metadata": {},
   "source": [
    "Wine.map(numpy.square)"
   ]
  },
  {
   "cell_type": "code",
   "execution_count": null,
   "id": "866fef3f",
   "metadata": {},
   "outputs": [],
   "source": [
    "def multiply_by_self(x):\n",
    "    return x*x"
   ]
  },
  {
   "cell_type": "code",
   "execution_count": null,
   "id": "e6d25dde",
   "metadata": {},
   "outputs": [],
   "source": [
    "Wine.apply(multiply_by_self)"
   ]
  },
  {
   "cell_type": "code",
   "execution_count": null,
   "id": "db887e15",
   "metadata": {},
   "outputs": [],
   "source": [
    "def multiply_by_self_with_min(x, min_servings):\n",
    "    if x < min_servings:\n",
    "        return x**2\n",
    "    return x"
   ]
  },
  {
   "cell_type": "code",
   "execution_count": null,
   "id": "3e1863b3",
   "metadata": {},
   "outputs": [],
   "source": [
    "# Wine.map(multiply_by_self_with_min, args=(200,))"
   ]
  },
  {
   "cell_type": "code",
   "execution_count": null,
   "id": "37f62b41",
   "metadata": {},
   "outputs": [],
   "source": [
    "Wine.head()"
   ]
  },
  {
   "cell_type": "code",
   "execution_count": null,
   "id": "b4d2a489",
   "metadata": {},
   "outputs": [],
   "source": [
    "Wine.apply(multiply_by_self_with_min, min_servings=200)"
   ]
  },
  {
   "cell_type": "code",
   "execution_count": null,
   "id": "6737bfae",
   "metadata": {},
   "outputs": [],
   "source": [
    "# the map() method"
   ]
  },
  {
   "cell_type": "code",
   "execution_count": null,
   "id": "bf34144c",
   "metadata": {},
   "outputs": [],
   "source": [
    "#### Skill Challenge"
   ]
  },
  {
   "cell_type": "code",
   "execution_count": null,
   "id": "6d041fe6",
   "metadata": {},
   "outputs": [],
   "source": [
    "###### **1**."
   ]
  },
  {
   "cell_type": "markdown",
   "id": "1838973b",
   "metadata": {},
   "source": [
    "Read the drinks.csv dataset again, this time bringing in the beer_servings sequence into a new <ins>series</ins> with country again acting as the index. Assign this series to the variable *beers*.\n",
    "\n",
    "Link to data: https://andybek.com/pandas-drinks"
   ]
  },
  {
   "cell_type": "code",
   "execution_count": null,
   "id": "52f195a7",
   "metadata": {},
   "outputs": [],
   "source": [
    "###### **2**."
   ]
  },
  {
   "cell_type": "markdown",
   "id": "0299b372",
   "metadata": {},
   "source": [
    "Calculate the mean, median, and standard deviation of beer servings in *beers*. Is the distribution right or left skewed?"
   ]
  },
  {
   "cell_type": "code",
   "execution_count": null,
   "id": "5aaf1da7",
   "metadata": {},
   "outputs": [],
   "source": [
    "###### **3**."
   ]
  },
  {
   "cell_type": "markdown",
   "id": "bf75b485",
   "metadata": {},
   "source": [
    "Slice the first 10 countriees from *beers*. Are these relatively large or small relative to the rest of the sample?\n",
    "\n",
    "**BONUS**: To answer that, we could compare each value to the mean or median. An even\n",
    "better approach would be to calculate standard scores, or z-scores as they \n",
    "are known."
   ]
  },
  {
   "cell_type": "code",
   "execution_count": null,
   "id": "16d2c6ff",
   "metadata": {},
   "outputs": [],
   "source": [
    "###### **BONUS 4**."
   ]
  },
  {
   "cell_type": "markdown",
   "id": "b267e2d8",
   "metadata": {},
   "source": [
    "Create a new series that uses series arithmetics to calculate the z-score \n",
    "for each serving by subtracting from each the mean and dividing the difference\n",
    "by the standard deviation. Point the variable *z_scores* to this series.\n",
    "\n",
    "Which country has the largest absolute z-score? Is this a positive or negative deviation? "
   ]
  },
  {
   "cell_type": "code",
   "execution_count": null,
   "id": "a9556fc4",
   "metadata": {},
   "outputs": [],
   "source": [
    "#### Solution I - Reading Data\n",
    "\n",
    "data_url = 'https://andybek.com/pandas-drinks'\n",
    "\n",
    "beers = read_csv(data_url, usecols=['country', 'beer_servings'], index_col='country', squeeze=True)\n",
    "\n",
    "beers.head()"
   ]
  },
  {
   "cell_type": "code",
   "execution_count": null,
   "id": "fbe38a71",
   "metadata": {},
   "outputs": [],
   "source": [
    "type(beers)"
   ]
  },
  {
   "cell_type": "code",
   "execution_count": null,
   "id": "203cc744",
   "metadata": {},
   "outputs": [],
   "source": [
    "#### Solution II - Mean, Median, And Standard Deviation"
   ]
  },
  {
   "cell_type": "code",
   "execution_count": null,
   "id": "0dfdeabb",
   "metadata": {},
   "outputs": [],
   "source": [
    "beers.mean()"
   ]
  },
  {
   "cell_type": "code",
   "execution_count": null,
   "id": "63804eff",
   "metadata": {},
   "outputs": [],
   "source": [
    "beers.median()"
   ]
  },
  {
   "cell_type": "code",
   "execution_count": null,
   "id": "6b78cec1",
   "metadata": {},
   "outputs": [],
   "source": [
    "beers.quantile(.5)"
   ]
  },
  {
   "cell_type": "code",
   "execution_count": null,
   "id": "e13598ef",
   "metadata": {},
   "outputs": [],
   "source": [
    "beers.std()"
   ]
  },
  {
   "cell_type": "code",
   "execution_count": null,
   "id": "5402b007",
   "metadata": {},
   "outputs": [],
   "source": [
    "beers.var()**(1/2)"
   ]
  },
  {
   "cell_type": "code",
   "execution_count": null,
   "id": "9689ece7",
   "metadata": {},
   "outputs": [],
   "source": [
    "from numpy import sqrt\n",
    "sqrt(beers.var())"
   ]
  },
  {
   "cell_type": "code",
   "execution_count": null,
   "id": "2afc07a1",
   "metadata": {},
   "outputs": [],
   "source": [
    "beers.hist();"
   ]
  },
  {
   "cell_type": "code",
   "execution_count": null,
   "id": "8a31b07a",
   "metadata": {},
   "outputs": [],
   "source": [
    "beers.describe()"
   ]
  },
  {
   "cell_type": "code",
   "execution_count": null,
   "id": "c1aad4e7",
   "metadata": {},
   "outputs": [],
   "source": [
    "#### Solution III - Z-scores"
   ]
  },
  {
   "cell_type": "code",
   "execution_count": null,
   "id": "ab96a0c6",
   "metadata": {},
   "outputs": [],
   "source": [
    "print(type(beers))"
   ]
  },
  {
   "cell_type": "code",
   "execution_count": null,
   "id": "0e288bcb",
   "metadata": {},
   "outputs": [],
   "source": [
    "beers[:10]"
   ]
  },
  {
   "cell_type": "code",
   "execution_count": null,
   "id": "0a063d42",
   "metadata": {},
   "outputs": [],
   "source": [
    "beers.iloc[:10]"
   ]
  },
  {
   "cell_type": "code",
   "execution_count": null,
   "id": "00b890e8",
   "metadata": {},
   "outputs": [],
   "source": [
    "beers.loc[:beers.index[9]]"
   ]
  },
  {
   "cell_type": "code",
   "execution_count": null,
   "id": "3eb9597e",
   "metadata": {},
   "outputs": [],
   "source": [
    "# beers.head(10)"
   ]
  },
  {
   "cell_type": "code",
   "execution_count": null,
   "id": "f94d6c56",
   "metadata": {},
   "outputs": [],
   "source": [
    "beers.mean()"
   ]
  },
  {
   "cell_type": "code",
   "execution_count": null,
   "id": "4398d5c8",
   "metadata": {},
   "outputs": [],
   "source": [
    "beers[:10] - beers.mean()"
   ]
  },
  {
   "cell_type": "code",
   "execution_count": null,
   "id": "2d6c2f25",
   "metadata": {},
   "outputs": [],
   "source": [
    "(beers[:10] - beers.mean()).apply(lambda x: 'low' if x<0 else 'high')"
   ]
  },
  {
   "cell_type": "code",
   "execution_count": null,
   "id": "1ca55532",
   "metadata": {},
   "outputs": [],
   "source": [
    "(beers - beers.mean()).apply(lambda x: 'low' if x<0 else 'high').value_counts()"
   ]
  },
  {
   "cell_type": "code",
   "execution_count": null,
   "id": "4263d8f0",
   "metadata": {},
   "outputs": [],
   "source": [
    "z_scores = (beers - beers.mean())/beers.std()"
   ]
  },
  {
   "cell_type": "code",
   "execution_count": null,
   "id": "de8bd817",
   "metadata": {},
   "outputs": [],
   "source": [
    "z_scores.head(10)"
   ]
  },
  {
   "cell_type": "code",
   "execution_count": null,
   "id": "fdefca36",
   "metadata": {},
   "outputs": [],
   "source": [
    "z_scores.min()"
   ]
  },
  {
   "cell_type": "code",
   "execution_count": null,
   "id": "baf8e06e",
   "metadata": {},
   "outputs": [],
   "source": [
    "z_scores.max()"
   ]
  },
  {
   "cell_type": "code",
   "execution_count": null,
   "id": "8350246b",
   "metadata": {},
   "outputs": [],
   "source": [
    "z_scores.abs().max()"
   ]
  },
  {
   "cell_type": "code",
   "execution_count": null,
   "id": "d34731d9",
   "metadata": {},
   "outputs": [],
   "source": [
    "beers.idxmax()"
   ]
  },
  {
   "cell_type": "code",
   "execution_count": null,
   "id": "b11eaa46",
   "metadata": {},
   "outputs": [],
   "source": [
    "beers['Namibia']"
   ]
  },
  {
   "cell_type": "code",
   "execution_count": null,
   "id": "edc4ce55",
   "metadata": {},
   "outputs": [],
   "source": [
    "beers[beers.idxmax()]"
   ]
  },
  {
   "cell_type": "code",
   "execution_count": null,
   "id": "afc421ff",
   "metadata": {},
   "outputs": [],
   "source": [
    "z_scores.abs().max() * beers.std() + beers.mean()"
   ]
  },
  {
   "cell_type": "code",
   "execution_count": null,
   "id": "cbabf4aa",
   "metadata": {},
   "outputs": [],
   "source": [
    "DF = read_csv('tips.csv')\n",
    "DF"
   ]
  },
  {
   "cell_type": "markdown",
   "id": "5e92352b",
   "metadata": {},
   "source": [
    "----\n",
    "About this DataSet (in case you are interested)\n",
    "\n",
    "* Description\n",
    "    * One waiter recorded information about each tip he received over a period of a few months working in one restaurant. He collected several variables:\n",
    "\n",
    "* Format\n",
    "    * A data frame with 244 rows and 7 variables\n",
    "\n",
    "* Details\n",
    "    * tip in dollars,\n",
    "    * bill in dollars,\n",
    "    * sex of the bill payer,\n",
    "    * whether there were smokers in the party,\n",
    "    * day of the week,\n",
    "    * time of day,\n",
    "    * size of the party.\n",
    "\n",
    "In all he recorded 244 tips. The data was reported in a collection of case studies for business statistics (Bryant & Smith 1995).\n",
    "\n",
    "* References\n",
    "    * Bryant, P. G. and Smith, M (1995) Practical Data Analysis: Case Studies in Business Statistics. Homewood, IL: Richard D. Irwin Publishing:\n",
    "    \n",
    "* Note: We created some additional columns with Fake data, including Name, CC Number, and Payment ID.\n",
    "\n",
    "----"
   ]
  },
  {
   "cell_type": "code",
   "execution_count": null,
   "id": "933eb961",
   "metadata": {},
   "outputs": [],
   "source": [
    "print(type(DF))\n",
    "print(DF.dtypes)\n",
    "print(ndim(DF))\n",
    "print(size(DF))\n",
    "print(len(DF))\n",
    "print(shape(DF))"
   ]
  },
  {
   "cell_type": "markdown",
   "id": "b66588de",
   "metadata": {},
   "source": [
    "# DataFrames(data=[], index=[], columns=[])"
   ]
  },
  {
   "cell_type": "markdown",
   "id": "9e5afaf8",
   "metadata": {},
   "source": [
    "## Obtaining Basic Information About DataFrame"
   ]
  },
  {
   "cell_type": "code",
   "execution_count": null,
   "id": "be5c56ad",
   "metadata": {},
   "outputs": [],
   "source": [
    "print(DF.columns) # columns is attribute"
   ]
  },
  {
   "cell_type": "code",
   "execution_count": null,
   "id": "7c550997",
   "metadata": {},
   "outputs": [],
   "source": [
    "print(DF.index) # index is attribute"
   ]
  },
  {
   "cell_type": "code",
   "execution_count": null,
   "id": "2c77066c",
   "metadata": {},
   "outputs": [],
   "source": [
    "DF.head() # first 5 rows by default"
   ]
  },
  {
   "cell_type": "code",
   "execution_count": null,
   "id": "01c7df17",
   "metadata": {},
   "outputs": [],
   "source": [
    "DF.head(10) # first 10 rows "
   ]
  },
  {
   "cell_type": "code",
   "execution_count": null,
   "id": "162be2ac",
   "metadata": {},
   "outputs": [],
   "source": [
    "print(DF.info())"
   ]
  },
  {
   "cell_type": "code",
   "execution_count": null,
   "id": "c5dd0e2f",
   "metadata": {},
   "outputs": [],
   "source": [
    "DF.describe() # statistical briefs"
   ]
  },
  {
   "cell_type": "code",
   "execution_count": null,
   "id": "3cb55aae",
   "metadata": {},
   "outputs": [],
   "source": [
    "DF.describe().T # transpose the result"
   ]
  },
  {
   "cell_type": "markdown",
   "id": "e6c7a6a9",
   "metadata": {},
   "source": [
    "## Selection and Indexing\n",
    "\n",
    "Let's learn how to retrieve information from a DataFrame."
   ]
  },
  {
   "cell_type": "markdown",
   "id": "b5d0e064",
   "metadata": {},
   "source": [
    "## COLUMNS"
   ]
  },
  {
   "cell_type": "raw",
   "id": "2606d5d0",
   "metadata": {},
   "source": [
    "We will begin be learning how to extract information based on the columns"
   ]
  },
  {
   "cell_type": "markdown",
   "id": "55f10baf",
   "metadata": {},
   "source": [
    "## Grab a Single Column"
   ]
  },
  {
   "cell_type": "code",
   "execution_count": null,
   "id": "55a1c627",
   "metadata": {},
   "outputs": [],
   "source": [
    "# showing \"total_bill\" column\n",
    "print(DF[\"total_bill\"])"
   ]
  },
  {
   "cell_type": "code",
   "execution_count": null,
   "id": "2a5daacf",
   "metadata": {},
   "outputs": [],
   "source": [
    "# showing \"total_bill\" column\n",
    "DF[[\"total_bill\"]]"
   ]
  },
  {
   "cell_type": "markdown",
   "id": "b8c8b271",
   "metadata": {},
   "source": [
    "## Grab Multiple Columns using columns list [ ]"
   ]
  },
  {
   "cell_type": "code",
   "execution_count": null,
   "id": "408a29f5",
   "metadata": {},
   "outputs": [],
   "source": [
    "colindexes = [\"total_bill\", \"tip\"]\n",
    "DF[colindexes]"
   ]
  },
  {
   "cell_type": "code",
   "execution_count": null,
   "id": "34c5561e",
   "metadata": {},
   "outputs": [],
   "source": [
    "DF[[\"total_bill\", \"tip\"]]"
   ]
  },
  {
   "cell_type": "code",
   "execution_count": null,
   "id": "e0695f5e",
   "metadata": {},
   "outputs": [],
   "source": [
    "DF[\"Tip_%\"] = 100 * (DF[\"tip\"] / DF[\"total_bill\"]) # creating new column \"Tip_%\"\n",
    "DF[[\"Tip_%\"]]"
   ]
  },
  {
   "cell_type": "code",
   "execution_count": null,
   "id": "96c9309a",
   "metadata": {},
   "outputs": [],
   "source": [
    "print(type(DF[[\"Tip_%\"]]))"
   ]
  },
  {
   "cell_type": "code",
   "execution_count": null,
   "id": "1713afe0",
   "metadata": {},
   "outputs": [],
   "source": [
    "DF.head()"
   ]
  },
  {
   "cell_type": "markdown",
   "id": "6b35c772",
   "metadata": {},
   "source": [
    "## Create New Columns"
   ]
  },
  {
   "cell_type": "code",
   "execution_count": null,
   "id": "f60826ff",
   "metadata": {},
   "outputs": [],
   "source": [
    "DF['price_per_person'] = DF['total_bill'] / DF['size'] # Just overwrites existing column\n",
    "DF.head()"
   ]
  },
  {
   "cell_type": "markdown",
   "id": "69269d44",
   "metadata": {},
   "source": [
    "## Adjust Existing Columns by rounding off decimals round()"
   ]
  },
  {
   "cell_type": "code",
   "execution_count": null,
   "id": "141eced1",
   "metadata": {},
   "outputs": [],
   "source": [
    "from numpy import round\n",
    "DF['price_per_person'] = round(DF['total_bill'] / DF['size'], 2) # Just overwrites existing column\n",
    "DF.head()"
   ]
  },
  {
   "cell_type": "markdown",
   "id": "f4260135",
   "metadata": {},
   "source": [
    "## Remove Columns\n",
    "* axis = 1 or 0\n",
    "* inplace = True or False"
   ]
  },
  {
   "cell_type": "code",
   "execution_count": null,
   "id": "8f16311b",
   "metadata": {},
   "outputs": [],
   "source": [
    "DF.drop([\"Tip_%\",\"price_per_person\"], axis=1) # This is temporary drop of columns"
   ]
  },
  {
   "cell_type": "code",
   "execution_count": null,
   "id": "299011cd",
   "metadata": {},
   "outputs": [],
   "source": [
    "DF.index"
   ]
  },
  {
   "cell_type": "code",
   "execution_count": null,
   "id": "7ad15305",
   "metadata": {},
   "outputs": [],
   "source": [
    "DF.columns"
   ]
  },
  {
   "cell_type": "code",
   "execution_count": null,
   "id": "b73d635a",
   "metadata": {},
   "outputs": [],
   "source": [
    "DF.keys()"
   ]
  },
  {
   "cell_type": "code",
   "execution_count": null,
   "id": "140abb39",
   "metadata": {},
   "outputs": [],
   "source": [
    "DF.values"
   ]
  },
  {
   "cell_type": "code",
   "execution_count": null,
   "id": "9dd152c9",
   "metadata": {},
   "outputs": [],
   "source": [
    "# We are checking Numpy Array or Pandas DataFrame shape\n",
    "\n",
    "print(DF.shape[0]) # Rows\n",
    "print(DF.shape[1]) # Columns"
   ]
  },
  {
   "cell_type": "markdown",
   "id": "2922ebfe",
   "metadata": {},
   "source": [
    "# Row & Column Indexes of a DataFrame\n",
    "\n",
    "Before going over the same retrieval tasks for rows, let's build some basic understanding of the pandas DataFrame Index."
   ]
  },
  {
   "cell_type": "code",
   "execution_count": null,
   "id": "7a0f94d2",
   "metadata": {},
   "outputs": [],
   "source": [
    "DF = read_csv(\"tips.csv\")"
   ]
  },
  {
   "cell_type": "code",
   "execution_count": null,
   "id": "b0759838",
   "metadata": {},
   "outputs": [],
   "source": [
    "print(DF.index)\n",
    "print()\n",
    "print(DF.columns)"
   ]
  },
  {
   "cell_type": "code",
   "execution_count": null,
   "id": "25735144",
   "metadata": {},
   "outputs": [],
   "source": [
    "DF = DF.set_index(\"Payment ID\") # setting user defined row index\n",
    "DF.head()"
   ]
  },
  {
   "cell_type": "code",
   "execution_count": null,
   "id": "8e6533a8",
   "metadata": {},
   "outputs": [],
   "source": [
    "DF.index"
   ]
  },
  {
   "cell_type": "code",
   "execution_count": null,
   "id": "6c0d7f08",
   "metadata": {},
   "outputs": [],
   "source": [
    "DF.columns"
   ]
  },
  {
   "cell_type": "code",
   "execution_count": null,
   "id": "d171ed48",
   "metadata": {},
   "outputs": [],
   "source": [
    "DF.keys()"
   ]
  },
  {
   "cell_type": "markdown",
   "id": "cd9f4873",
   "metadata": {},
   "source": [
    "## Grab a Single Row from the DataFrame"
   ]
  },
  {
   "cell_type": "code",
   "execution_count": null,
   "id": "35d00939",
   "metadata": {},
   "outputs": [],
   "source": [
    "DF.iloc[0] # default Row index location"
   ]
  },
  {
   "cell_type": "code",
   "execution_count": null,
   "id": "2d54eda9",
   "metadata": {},
   "outputs": [],
   "source": [
    "DF.iloc[[0]] # default Row index location"
   ]
  },
  {
   "cell_type": "code",
   "execution_count": null,
   "id": "4f7b8771",
   "metadata": {},
   "outputs": [],
   "source": [
    "DF[0:1]"
   ]
  },
  {
   "cell_type": "code",
   "execution_count": null,
   "id": "8bbc971d",
   "metadata": {},
   "outputs": [],
   "source": [
    "DF[ :'Sun2959']"
   ]
  },
  {
   "cell_type": "code",
   "execution_count": null,
   "id": "fba14bbc",
   "metadata": {},
   "outputs": [],
   "source": [
    "DF['Sun2959':'Sun4608']"
   ]
  },
  {
   "cell_type": "code",
   "execution_count": null,
   "id": "8d63ec1b",
   "metadata": {},
   "outputs": [],
   "source": [
    "DF.loc[\"Sun2959\"] # user defined Row index location"
   ]
  },
  {
   "cell_type": "code",
   "execution_count": null,
   "id": "4cfb01f8",
   "metadata": {},
   "outputs": [],
   "source": [
    "DF.loc[[\"Sun2959\"]] # user defined Row index location"
   ]
  },
  {
   "cell_type": "markdown",
   "id": "88f220f5",
   "metadata": {},
   "source": [
    "## Grab Multiple Rows using row index list [ ]"
   ]
  },
  {
   "cell_type": "code",
   "execution_count": null,
   "id": "1c77a300",
   "metadata": {},
   "outputs": [],
   "source": [
    "DF.iloc[[0,1,2,3,4]] # Row indexes location as a list"
   ]
  },
  {
   "cell_type": "code",
   "execution_count": null,
   "id": "368b2be7",
   "metadata": {},
   "outputs": [],
   "source": [
    "DF.iloc[0:5] # Row indexes location as a list"
   ]
  },
  {
   "cell_type": "code",
   "execution_count": null,
   "id": "fe5c3b12",
   "metadata": {},
   "outputs": [],
   "source": [
    "DF[0:5]"
   ]
  },
  {
   "cell_type": "code",
   "execution_count": null,
   "id": "cc2f928b",
   "metadata": {},
   "outputs": [],
   "source": [
    "DF['Sun2959':'Sun2251']"
   ]
  },
  {
   "cell_type": "code",
   "execution_count": null,
   "id": "df692d68",
   "metadata": {},
   "outputs": [],
   "source": [
    "DF.loc['Sun2959':'Sun2251']"
   ]
  },
  {
   "cell_type": "code",
   "execution_count": null,
   "id": "ff26b63e",
   "metadata": {},
   "outputs": [],
   "source": [
    "# DataFrame.loc[:,:] user defined Rows indexes first & then Column indexes\n",
    "# 0th Rows index and all Columns\n",
    "# row 0, all columns\n",
    "# .loc always includes Range upper boundary\n",
    "DF.loc[['Sun2959','Sun5260','Sun4608','Sun4458','Sun2251'], :] # user defined Row indexes location as a list"
   ]
  },
  {
   "cell_type": "code",
   "execution_count": null,
   "id": "f9335a2e",
   "metadata": {},
   "outputs": [],
   "source": [
    "# DataFrame.iloc[:,:] Rows indexes first & then Column indexes\n",
    "DF.iloc[0:5]# Row index location range from 0 to 5"
   ]
  },
  {
   "cell_type": "code",
   "execution_count": null,
   "id": "73f9abb7",
   "metadata": {},
   "outputs": [],
   "source": [
    "DF.loc[\"Sun2959\":\"Sun3775\"] # user defined Row index location range from Sun2959 to Sun3775"
   ]
  },
  {
   "cell_type": "markdown",
   "id": "7b71f5a1",
   "metadata": {},
   "source": [
    "## Drop Single Row & Multiple Row using either default Row index or user defined Row index\n",
    "\n",
    "Typically are datasets will be large enough that we won't remove rows like this since we won't know thier row location for some specific condition, instead, we drop rows based on conditions such as missing data or column values. The next lecture will cover this in a lot more detail."
   ]
  },
  {
   "cell_type": "raw",
   "id": "33a7a9e0",
   "metadata": {},
   "source": [
    "DF = DF.reset_index() while Dropping Single Row & Multiple Rows using default Row index"
   ]
  },
  {
   "cell_type": "code",
   "execution_count": null,
   "id": "fb0b9cba",
   "metadata": {},
   "outputs": [],
   "source": [
    "DF = DF.reset_index()"
   ]
  },
  {
   "cell_type": "code",
   "execution_count": null,
   "id": "2201e6c2",
   "metadata": {},
   "outputs": [],
   "source": [
    "DF.drop([0,1,2,3,4], axis=0) # drop first 5 rows temporary using default row index list"
   ]
  },
  {
   "cell_type": "code",
   "execution_count": null,
   "id": "59cbedd5",
   "metadata": {},
   "outputs": [],
   "source": [
    "DF.drop(index=[0,1,2,3,4]) # drop first 5 rows temporary using default row index list"
   ]
  },
  {
   "cell_type": "code",
   "execution_count": null,
   "id": "f2db4c7b",
   "metadata": {},
   "outputs": [],
   "source": [
    "DF.drop(range(0,5), axis=0) # drop first 5 rows temporary using range from 0 to 5"
   ]
  },
  {
   "cell_type": "raw",
   "id": "55a81e68",
   "metadata": {},
   "source": [
    "DF = DF.set_index(\"Payment ID\") while Dropping Single Row & Multiple Rows using user defined Row index"
   ]
  },
  {
   "cell_type": "code",
   "execution_count": null,
   "id": "3f259588",
   "metadata": {},
   "outputs": [],
   "source": [
    "DF = DF.set_index(\"Payment ID\")"
   ]
  },
  {
   "cell_type": "code",
   "execution_count": null,
   "id": "7603afa9",
   "metadata": {},
   "outputs": [],
   "source": [
    "DF.drop(['Sun2959','Sun5260','Sun4608','Sun4458','Sun2251'], axis=0) # drop first 5 rows temporary using user defined row index list"
   ]
  },
  {
   "cell_type": "code",
   "execution_count": null,
   "id": "165231d2",
   "metadata": {},
   "outputs": [],
   "source": [
    "DF.drop(index=['Sun2959','Sun5260','Sun4608','Sun4458','Sun2251']) # drop first 5 rows temporary using default row index list"
   ]
  },
  {
   "cell_type": "code",
   "execution_count": null,
   "id": "431854af",
   "metadata": {},
   "outputs": [],
   "source": [
    "DF.loc[DF['price_per_person'] > 6]\n",
    "\n",
    "DF.loc[list(DF['price_per_person'] > 6)]\n",
    "\n",
    "DF.loc[(DF['price_per_person'] > 6).values]\n",
    "\n",
    "# DF.loc[(DF['price_per_person'] > 6).keys()]"
   ]
  },
  {
   "cell_type": "code",
   "execution_count": null,
   "id": "33d18732",
   "metadata": {},
   "outputs": [],
   "source": [
    "DF[DF['price_per_person'] > 6]\n",
    "\n",
    "DF[list(DF['price_per_person'] > 6)]\n",
    "\n",
    "DF[(DF['price_per_person'] > 6).values]"
   ]
  },
  {
   "cell_type": "code",
   "execution_count": null,
   "id": "2aae192c",
   "metadata": {},
   "outputs": [],
   "source": [
    "# DF.iloc[DF['price_per_person'] > 6]\n",
    "\n",
    "DF.iloc[list(DF['price_per_person'] > 6)]\n",
    "\n",
    "DF.iloc[(DF['price_per_person'] > 6).values]"
   ]
  },
  {
   "cell_type": "code",
   "execution_count": null,
   "id": "2ac2d1ac",
   "metadata": {},
   "outputs": [],
   "source": [
    "Row0 = DF.iloc[[0]]\n",
    "Row0"
   ]
  },
  {
   "cell_type": "code",
   "execution_count": null,
   "id": "bd3e1e39",
   "metadata": {},
   "outputs": [],
   "source": [
    "Row0 = DF.loc[['Sun2959']]\n",
    "Row0"
   ]
  },
  {
   "cell_type": "code",
   "execution_count": null,
   "id": "e4ebf9f0",
   "metadata": {},
   "outputs": [],
   "source": [
    "Row0 = DF[:'Sun2959']\n",
    "Row0"
   ]
  },
  {
   "cell_type": "markdown",
   "id": "f6ba3b0c",
   "metadata": {},
   "source": [
    "# Conditional Filtering for DataFrame"
   ]
  },
  {
   "cell_type": "code",
   "execution_count": null,
   "id": "04bb8789",
   "metadata": {},
   "outputs": [],
   "source": [
    "Tips = read_csv('tips.csv')"
   ]
  },
  {
   "cell_type": "code",
   "execution_count": null,
   "id": "3e8c7d5c",
   "metadata": {},
   "outputs": [],
   "source": [
    "Tips.head()"
   ]
  },
  {
   "cell_type": "code",
   "execution_count": null,
   "id": "fad2721b",
   "metadata": {},
   "outputs": [],
   "source": [
    "Tips.iloc[[0]]"
   ]
  },
  {
   "cell_type": "markdown",
   "id": "aea1e723",
   "metadata": {},
   "source": [
    "## Conditions"
   ]
  },
  {
   "cell_type": "code",
   "execution_count": null,
   "id": "83fa6b6b",
   "metadata": {},
   "outputs": [],
   "source": [
    "bool_series = Tips['total_bill'] > 30\n",
    "bool_series"
   ]
  },
  {
   "cell_type": "code",
   "execution_count": null,
   "id": "92eba07d",
   "metadata": {},
   "outputs": [],
   "source": [
    "Tips[bool_series]\n",
    "\n",
    "Tips[bool_series.values]\n",
    "\n",
    "Tips[list(bool_series)]\n",
    "\n",
    "Tips[Tips['total_bill'] > 30]"
   ]
  },
  {
   "cell_type": "code",
   "execution_count": null,
   "id": "f8341e8c",
   "metadata": {},
   "outputs": [],
   "source": [
    "Tips[Tips['size'] > 3]\n",
    "\n",
    "Tips[list(Tips['size'] > 3)]\n",
    "\n",
    "Tips[(Tips['size'] > 3).values]"
   ]
  },
  {
   "cell_type": "code",
   "execution_count": null,
   "id": "a57c6b55",
   "metadata": {},
   "outputs": [],
   "source": [
    "Tips.loc[Tips['size'] > 3]\n",
    "\n",
    "Tips.loc[list(Tips['size'] > 3)]\n",
    "\n",
    "Tips.loc[(Tips['size'] > 3).values]"
   ]
  },
  {
   "cell_type": "code",
   "execution_count": null,
   "id": "69637156",
   "metadata": {},
   "outputs": [],
   "source": [
    "#Tips.iloc[Tips['size'] > 3]\n",
    "\n",
    "Tips.iloc[list(Tips['size'] > 3)]\n",
    "\n",
    "Tips.iloc[(Tips['size'] > 3).values]"
   ]
  },
  {
   "cell_type": "code",
   "execution_count": null,
   "id": "f136665e",
   "metadata": {},
   "outputs": [],
   "source": [
    "Tips[Tips['sex'] == \"Male\"]\n",
    "\n",
    "Tips[list(Tips['sex'] == \"Male\")]\n",
    "\n",
    "Tips[(Tips['sex'] == \"Male\").values]"
   ]
  },
  {
   "cell_type": "code",
   "execution_count": null,
   "id": "fa231404",
   "metadata": {},
   "outputs": [],
   "source": [
    "Tips.loc[Tips['total_bill'] > 30]\n",
    "\n",
    "Tips.loc[list(Tips['total_bill'] > 30)]\n",
    "\n",
    "Tips.loc[(Tips['total_bill'] > 30).values]"
   ]
  },
  {
   "cell_type": "code",
   "execution_count": null,
   "id": "e1812276",
   "metadata": {},
   "outputs": [],
   "source": [
    "Tips.loc[Tips['sex'] == \"Male\"]\n",
    "\n",
    "Tips.loc[list(Tips['sex'] == \"Male\")]\n",
    "\n",
    "Tips.loc[(Tips['sex'] == \"Male\").values]"
   ]
  },
  {
   "cell_type": "markdown",
   "id": "bfa14c78",
   "metadata": {},
   "source": [
    "## Multiple Conditions\n",
    "\n",
    "Recall the steps:\n",
    "\n",
    "* Get the conditions\n",
    "* Wrap each condition in parenthesis\n",
    "* Use the | or & operator, depending if you want an \n",
    "    * OR | (either condition is True)\n",
    "    * AND & (both conditions must be True)\n",
    "* You can also use the ~ operator as a NOT operation"
   ]
  },
  {
   "cell_type": "code",
   "execution_count": null,
   "id": "2ccae854",
   "metadata": {},
   "outputs": [],
   "source": [
    "Tips[(Tips['total_bill'] > 30) & (Tips['sex']=='Male')] # boolean condition intersection\n",
    "\n",
    "Tips[list((Tips['total_bill'] > 30) & (Tips['sex']=='Male'))]\n",
    "\n",
    "Tips[((Tips['total_bill'] > 30) & (Tips['sex']=='Male')).values]"
   ]
  },
  {
   "cell_type": "code",
   "execution_count": null,
   "id": "dc9318b6",
   "metadata": {},
   "outputs": [],
   "source": [
    "Tips.loc[(Tips['total_bill'] > 30) & (Tips['sex']=='Male')] # boolean condition intersection\n",
    "\n",
    "Tips.loc[list((Tips['total_bill'] > 30) & (Tips['sex']=='Male'))]\n",
    "\n",
    "Tips.loc[((Tips['total_bill'] > 30) & (Tips['sex']=='Male')).values]"
   ]
  },
  {
   "cell_type": "code",
   "execution_count": null,
   "id": "76a18d34",
   "metadata": {},
   "outputs": [],
   "source": [
    "Tips[(Tips['total_bill'] > 30) | (Tips['sex']=='Male')] # boolean condition union\n",
    "\n",
    "Tips[list((Tips['total_bill'] > 30) | (Tips['sex']=='Male'))]\n",
    "\n",
    "Tips[((Tips['total_bill'] > 30) | (Tips['sex']=='Male')).values]"
   ]
  },
  {
   "cell_type": "code",
   "execution_count": null,
   "id": "4395827f",
   "metadata": {},
   "outputs": [],
   "source": [
    "Tips.loc[(Tips['total_bill'] > 30) | (Tips['sex']=='Male')] # boolean condition union\n",
    "\n",
    "Tips.loc[list((Tips['total_bill'] > 30) | (Tips['sex']=='Male'))]\n",
    "\n",
    "Tips.loc[((Tips['total_bill'] > 30) | (Tips['sex']=='Male')).values]"
   ]
  },
  {
   "cell_type": "code",
   "execution_count": null,
   "id": "cc0addf4",
   "metadata": {},
   "outputs": [],
   "source": [
    "# Tips.iloc[(Tips['total_bill'] > 30) | (Tips['sex']=='Male')] # boolean condition union\n",
    "\n",
    "Tips.iloc[list((Tips['total_bill'] > 30) | (Tips['sex']=='Male'))]\n",
    "\n",
    "Tips.iloc[((Tips['total_bill'] > 30) | (Tips['sex']=='Male')).values]"
   ]
  },
  {
   "cell_type": "code",
   "execution_count": null,
   "id": "dc3c2f35",
   "metadata": {},
   "outputs": [],
   "source": [
    "Tips[(Tips['total_bill'] > 30) & ~(Tips['sex']=='Male')]\n",
    "\n",
    "Tips[list((Tips['total_bill'] > 30) & ~(Tips['sex']=='Male'))]\n",
    "\n",
    "Tips[((Tips['total_bill'] > 30) & ~(Tips['sex']=='Male')).values]"
   ]
  },
  {
   "cell_type": "code",
   "execution_count": null,
   "id": "ea2cf767",
   "metadata": {},
   "outputs": [],
   "source": [
    "Tips.loc[(Tips['total_bill'] > 30) & ~(Tips['sex']=='Male')]\n",
    "\n",
    "Tips.loc[list((Tips['total_bill'] > 30) & ~(Tips['sex']=='Male'))]\n",
    "\n",
    "Tips.loc[((Tips['total_bill'] > 30) & ~(Tips['sex']=='Male')).values]\n",
    "\n",
    "# Tips.loc[((Tips['total_bill'] > 30) & ~(Tips['sex']=='Male')).keys]"
   ]
  },
  {
   "cell_type": "code",
   "execution_count": null,
   "id": "4618976f",
   "metadata": {},
   "outputs": [],
   "source": [
    "Tips.iloc[list((Tips['total_bill'] > 30) & ~(Tips['sex']=='Male'))]\n",
    "\n",
    "Tips.iloc[((Tips['total_bill'] > 30) & ~(Tips['sex']=='Male')).values]"
   ]
  },
  {
   "cell_type": "markdown",
   "id": "c2a00926",
   "metadata": {},
   "source": [
    "## Filtering using Conditional Operator isin()\n",
    "\n",
    "We can use .isin() operator to filter by a list of options."
   ]
  },
  {
   "cell_type": "code",
   "execution_count": null,
   "id": "a5f0b14d",
   "metadata": {},
   "outputs": [],
   "source": [
    "Tips[\"day\"].isin([\"Sat\", \"Sun\"])"
   ]
  },
  {
   "cell_type": "code",
   "execution_count": null,
   "id": "dab200d1",
   "metadata": {},
   "outputs": [],
   "source": [
    "Tips[Tips[\"day\"].isin([\"Sat\", \"Sun\"])]\n",
    "\n",
    "Tips[list(Tips[\"day\"].isin([\"Sat\", \"Sun\"]))]\n",
    "\n",
    "Tips[(Tips[\"day\"].isin([\"Sat\", \"Sun\"])).values]"
   ]
  },
  {
   "cell_type": "code",
   "execution_count": null,
   "id": "987fc786",
   "metadata": {},
   "outputs": [],
   "source": [
    "Tips.loc[Tips[\"day\"].isin([\"Sat\", \"Sun\"])]\n",
    "\n",
    "Tips.loc[list(Tips[\"day\"].isin([\"Sat\", \"Sun\"]))]\n",
    "\n",
    "Tips.loc[(Tips[\"day\"].isin([\"Sat\", \"Sun\"])).values]"
   ]
  },
  {
   "cell_type": "code",
   "execution_count": null,
   "id": "23e9bd08",
   "metadata": {},
   "outputs": [],
   "source": [
    "# Tips.iloc[Tips[\"day\"].isin([\"Sat\", \"Sun\"])]\n",
    "\n",
    "Tips.iloc[list(Tips[\"day\"].isin([\"Sat\", \"Sun\"]))]\n",
    "\n",
    "Tips.iloc[(Tips[\"day\"].isin([\"Sat\", \"Sun\"])).values]"
   ]
  },
  {
   "cell_type": "markdown",
   "id": "e949e29f",
   "metadata": {},
   "source": [
    "# Useful Methods\n",
    "\n",
    "Let's cover some useful methods and functions built in to pandas. This is actually just a small sampling of the functions and methods available in Pandas, but they are some of the most commonly used.\n",
    "The [documentation](https://pandas.pydata.org/pandas-docs/stable/reference/index.html) is a great resource to continue exploring more methods and functions (we will introduce more further along in the course).\n",
    "Here is a list of functions and methods we'll cover here (click on one to jump to that section in this notebook.):\n",
    "\n",
    "* [apply() method](#apply_method)\n",
    "* [apply() with a function](#apply_function)\n",
    "* [apply() with a lambda expression](#apply_lambda)\n",
    "* [apply() on multiple columns](#apply_multiple)\n",
    "* [describe()](#describe)\n",
    "* [sort_values()](#sort)\n",
    "* [corr()](#corr)\n",
    "* [idxmin and idxmax](#idx)\n",
    "* [value_counts](#v_c)\n",
    "* [replace](#replace)\n",
    "* [unique and nunique](#uni)\n",
    "* [map](#map)\n",
    "* [duplicated and drop_duplicates](#dup)\n",
    "* [between](#bet)\n",
    "* [sample](#sample)\n",
    "* [nlargest](#n)\n",
    "\n",
    "Make sure to view the video lessons to get the full explanation!"
   ]
  },
  {
   "cell_type": "markdown",
   "id": "e331caac",
   "metadata": {},
   "source": [
    "<a id='apply_method'></a>\n",
    "\n",
    "## The .apply() method\n",
    "\n",
    "Here we will learn about a very useful method known as **apply** on a DataFrame. This allows us to apply and broadcast custom functions on a DataFrame column"
   ]
  },
  {
   "cell_type": "markdown",
   "id": "c2bb69c6",
   "metadata": {},
   "source": [
    "<a id='apply_function'></a>\n",
    "## apply with a function"
   ]
  },
  {
   "cell_type": "code",
   "execution_count": null,
   "id": "b45a3be8",
   "metadata": {},
   "outputs": [],
   "source": [
    "def last_four(num: float):\n",
    "    return str(int(num))[-4:]"
   ]
  },
  {
   "cell_type": "code",
   "execution_count": null,
   "id": "a37c48ee",
   "metadata": {},
   "outputs": [],
   "source": [
    "Tips[['CC Number']]"
   ]
  },
  {
   "cell_type": "code",
   "execution_count": null,
   "id": "807411c5",
   "metadata": {},
   "outputs": [],
   "source": [
    "Tips[['CC Number']][0:]"
   ]
  },
  {
   "cell_type": "code",
   "execution_count": null,
   "id": "2f66a9dd",
   "metadata": {},
   "outputs": [],
   "source": [
    "Tips['CC Number'].apply(last_four)"
   ]
  },
  {
   "cell_type": "code",
   "execution_count": null,
   "id": "12230096",
   "metadata": {},
   "outputs": [],
   "source": [
    "Tips['last_four'] = Tips['CC Number'].apply(last_four)\n",
    "Tips.head()"
   ]
  },
  {
   "cell_type": "markdown",
   "id": "e9a1c458",
   "metadata": {},
   "source": [
    "## Using .apply() with more complex functions"
   ]
  },
  {
   "cell_type": "code",
   "execution_count": null,
   "id": "3fa1f411",
   "metadata": {},
   "outputs": [],
   "source": [
    "def pricy(price: float):\n",
    "    if price < 10:\n",
    "        return \"$\"\n",
    "    elif 30 > price >= 10:\n",
    "        return \"$$\"\n",
    "    return \"$$$\"\n",
    "\n",
    "Tips['Pricy'] = Tips['total_bill'].apply(pricy)\n",
    "Tips.head(15)\n",
    "\n",
    "Tips[Tips['Pricy'] == \"$$$\"].head(12)\n",
    "\n",
    "Tips[list(Tips['Pricy'] == \"$$$\")].head(12)\n",
    "\n",
    "Tips[(Tips['Pricy'] == \"$$$\").values].head(12)\n",
    "\n",
    "Tips.loc[Tips['Pricy'] == \"$$$\"].head(12)\n",
    "\n",
    "Tips.loc[list(Tips['Pricy'] == \"$$$\")].head(12)\n",
    "\n",
    "Tips.loc[(Tips['Pricy'] == \"$$$\").values].head(12)\n",
    "\n",
    "Tips.iloc[list(Tips['Pricy'] == \"$$$\")].head(12)\n",
    "\n",
    "Tips.iloc[(Tips['Pricy'] == \"$$$\").values].head(12)"
   ]
  },
  {
   "cell_type": "markdown",
   "id": "681aa1a7",
   "metadata": {},
   "source": [
    "<a id='apply_lambda'></a>\n",
    "## apply with lambda function"
   ]
  },
  {
   "cell_type": "code",
   "execution_count": null,
   "id": "568e1ebe",
   "metadata": {},
   "outputs": [],
   "source": [
    "def simple(num):\n",
    "    return num*2"
   ]
  },
  {
   "cell_type": "code",
   "execution_count": null,
   "id": "09c57e57",
   "metadata": {},
   "outputs": [],
   "source": [
    "lambda num: num*2"
   ]
  },
  {
   "cell_type": "code",
   "execution_count": null,
   "id": "5b6f7329",
   "metadata": {},
   "outputs": [],
   "source": [
    "Tips[['total_bill']].apply(lambda total_bill: total_bill*0.18)"
   ]
  },
  {
   "cell_type": "code",
   "execution_count": null,
   "id": "124905e8",
   "metadata": {},
   "outputs": [],
   "source": [
    "Tips.head()"
   ]
  },
  {
   "cell_type": "markdown",
   "id": "46ddc754",
   "metadata": {},
   "source": [
    "<a id='apply_multiple'></a>\n",
    "## apply that uses multiple columns for filtering\n",
    "\n",
    "Note, there are several ways to do this:\n",
    "\n",
    "https://stackoverflow.com/questions/19914937/applying-function-with-multiple-arguments-to-create-a-new-pandas-column"
   ]
  },
  {
   "cell_type": "code",
   "execution_count": null,
   "id": "f46e5670",
   "metadata": {},
   "outputs": [],
   "source": [
    "def quality(total_bill: float, tip: float):\n",
    "    if (tip/total_bill)*100  > 25:\n",
    "        return \"Generous\"\n",
    "    return \"Other\"\n",
    "\n",
    "Tips[\"Tip_%\"] = Tips[['total_bill','tip']].apply(lambda Tips: quality(Tips['total_bill'], Tips['tip']), axis=1)\n",
    "Tips.head()"
   ]
  },
  {
   "cell_type": "code",
   "execution_count": null,
   "id": "934f08f5",
   "metadata": {},
   "outputs": [],
   "source": [
    "from numpy import vectorize\n",
    "Tips[\"Tip_%\"] = vectorize(quality)(Tips['total_bill'], Tips['tip'])\n",
    "Tips.head()"
   ]
  },
  {
   "cell_type": "markdown",
   "id": "355f7816",
   "metadata": {},
   "source": [
    "<a id='describe'></a>\n",
    "### DataFrame.describe() for statistical summaries\n",
    "Only for numeric columns"
   ]
  },
  {
   "cell_type": "code",
   "execution_count": null,
   "id": "0702c6e1",
   "metadata": {},
   "outputs": [],
   "source": [
    "Tips.describe()"
   ]
  },
  {
   "cell_type": "code",
   "execution_count": null,
   "id": "bf8eb50f",
   "metadata": {},
   "outputs": [],
   "source": [
    "Tips.describe().transpose()"
   ]
  },
  {
   "cell_type": "code",
   "execution_count": null,
   "id": "63fffd90",
   "metadata": {},
   "outputs": [],
   "source": [
    "Tips.describe().T"
   ]
  },
  {
   "cell_type": "markdown",
   "id": "72609803",
   "metadata": {},
   "source": [
    "<a id='sort'></a>\n",
    "### DataFrame.sort_values(\"Column\")"
   ]
  },
  {
   "cell_type": "code",
   "execution_count": null,
   "id": "2751e386",
   "metadata": {},
   "outputs": [],
   "source": [
    "Tips.sort_values('tip')"
   ]
  },
  {
   "cell_type": "code",
   "execution_count": null,
   "id": "82bdbf75",
   "metadata": {},
   "outputs": [],
   "source": [
    "Tips.sort_values([\"total_bill\", \"tip\"])"
   ]
  },
  {
   "cell_type": "markdown",
   "id": "273a1b0a",
   "metadata": {},
   "source": [
    "<a id='idx'></a>\n",
    "### idxmin and idxmax"
   ]
  },
  {
   "cell_type": "code",
   "execution_count": null,
   "id": "8622541e",
   "metadata": {},
   "outputs": [],
   "source": [
    "Tips[\"total_bill\"].max()"
   ]
  },
  {
   "cell_type": "code",
   "execution_count": null,
   "id": "7bf9fc68",
   "metadata": {},
   "outputs": [],
   "source": [
    "Tips[\"total_bill\"].idxmax()"
   ]
  },
  {
   "cell_type": "code",
   "execution_count": null,
   "id": "f195708f",
   "metadata": {},
   "outputs": [],
   "source": [
    "Tips.iloc[[170]]"
   ]
  },
  {
   "cell_type": "code",
   "execution_count": null,
   "id": "49b2afb2",
   "metadata": {},
   "outputs": [],
   "source": [
    "Tips[170:171]"
   ]
  },
  {
   "cell_type": "code",
   "execution_count": null,
   "id": "56781049",
   "metadata": {},
   "outputs": [],
   "source": [
    "Tips.iloc[[Tips[\"total_bill\"].idxmin()]]"
   ]
  },
  {
   "cell_type": "markdown",
   "id": "ea7774fd",
   "metadata": {},
   "source": [
    "<a id='corr'></a>\n",
    "## df.corr( ) for correlation checks\n",
    "\n",
    "[Wikipedia on Correlation](https://en.wikipedia.org/wiki/Correlation_and_dependence)"
   ]
  },
  {
   "cell_type": "code",
   "execution_count": null,
   "id": "dde8c85a",
   "metadata": {},
   "outputs": [],
   "source": [
    "Tips.corr() # between only numeric columns"
   ]
  },
  {
   "cell_type": "code",
   "execution_count": null,
   "id": "f753ae60",
   "metadata": {},
   "outputs": [],
   "source": [
    "Tips[['total_bill','tip']].corr()"
   ]
  },
  {
   "cell_type": "code",
   "execution_count": null,
   "id": "d126dbd6",
   "metadata": {},
   "outputs": [],
   "source": [
    "Tips['total_bill'].max()"
   ]
  },
  {
   "cell_type": "code",
   "execution_count": null,
   "id": "a0e400e3",
   "metadata": {},
   "outputs": [],
   "source": [
    "Tips['total_bill'].idxmax()"
   ]
  },
  {
   "cell_type": "code",
   "execution_count": null,
   "id": "9f851c9b",
   "metadata": {},
   "outputs": [],
   "source": [
    "Tips['total_bill'].idxmin()"
   ]
  },
  {
   "cell_type": "code",
   "execution_count": null,
   "id": "36a6cc7e",
   "metadata": {},
   "outputs": [],
   "source": [
    "Tips.iloc[[67]]"
   ]
  },
  {
   "cell_type": "code",
   "execution_count": null,
   "id": "6b7bbffa",
   "metadata": {},
   "outputs": [],
   "source": [
    "Tips.iloc[[170]]"
   ]
  },
  {
   "cell_type": "code",
   "execution_count": null,
   "id": "b64742fe",
   "metadata": {},
   "outputs": [],
   "source": [
    "Tips[170:171]"
   ]
  },
  {
   "cell_type": "markdown",
   "id": "a33b7492",
   "metadata": {},
   "source": [
    "<a id='v_c'></a>\n",
    "### DataFrame[\"Column\"].value_counts() or frequency count\n",
    "\n",
    "Nice method to quickly get a count per category. Only makes sense on categorical columns."
   ]
  },
  {
   "cell_type": "code",
   "execution_count": null,
   "id": "85eb1c2c",
   "metadata": {},
   "outputs": [],
   "source": [
    "Tips['sex'].value_counts()"
   ]
  },
  {
   "cell_type": "markdown",
   "id": "1a72356a",
   "metadata": {},
   "source": [
    "<a id='uni'></a>\n",
    "### unique"
   ]
  },
  {
   "cell_type": "code",
   "execution_count": null,
   "id": "e534d864",
   "metadata": {},
   "outputs": [],
   "source": [
    "Tips['sex'].unique()"
   ]
  },
  {
   "cell_type": "code",
   "execution_count": null,
   "id": "b12ab552",
   "metadata": {},
   "outputs": [],
   "source": [
    "Tips['sex'].nunique()"
   ]
  },
  {
   "cell_type": "code",
   "execution_count": null,
   "id": "c3440c5e",
   "metadata": {},
   "outputs": [],
   "source": [
    "len(Tips['sex'].unique())"
   ]
  },
  {
   "cell_type": "markdown",
   "id": "e58a460b",
   "metadata": {},
   "source": [
    "<a id='replace'></a>\n",
    "\n",
    "### .replace( to_replace=val1, value=val2)\n",
    "\n",
    "Quickly replace values with another one."
   ]
  },
  {
   "cell_type": "code",
   "execution_count": null,
   "id": "779a1992",
   "metadata": {},
   "outputs": [],
   "source": [
    "Tips[['Tip_%']].replace(to_replace='Other', value='Ok')"
   ]
  },
  {
   "cell_type": "code",
   "execution_count": null,
   "id": "1cb0b8f1",
   "metadata": {},
   "outputs": [],
   "source": [
    "Tips[['sex']].replace(to_replace=[\"Female\", \"Male\"], value=[\"F\", \"M\"])"
   ]
  },
  {
   "cell_type": "markdown",
   "id": "2b919960",
   "metadata": {},
   "source": [
    "<a id='map'></a>\n",
    "### .map( )"
   ]
  },
  {
   "cell_type": "code",
   "execution_count": null,
   "id": "49523798",
   "metadata": {},
   "outputs": [],
   "source": [
    "my_map = {'Dinner':'D','Lunch':'L'}"
   ]
  },
  {
   "cell_type": "code",
   "execution_count": null,
   "id": "8fa2270a",
   "metadata": {},
   "outputs": [],
   "source": [
    "Tips[\"time\"].map(my_map)"
   ]
  },
  {
   "cell_type": "markdown",
   "id": "667ecc05",
   "metadata": {},
   "source": [
    "<a id='dup'></a>\n",
    "## Duplicates\n",
    "\n",
    "### .duplicated( ) and .drop_duplicates( )"
   ]
  },
  {
   "cell_type": "code",
   "execution_count": null,
   "id": "ac091dc9",
   "metadata": {},
   "outputs": [],
   "source": [
    "# Returns True for the 1st instance of a duplicated row\n",
    "Tips.duplicated()"
   ]
  },
  {
   "cell_type": "code",
   "execution_count": null,
   "id": "01b71208",
   "metadata": {},
   "outputs": [],
   "source": [
    "print(type(Tips))"
   ]
  },
  {
   "cell_type": "code",
   "execution_count": null,
   "id": "1e865497",
   "metadata": {},
   "outputs": [],
   "source": [
    "Tips.duplicated().isin([True])"
   ]
  },
  {
   "cell_type": "code",
   "execution_count": null,
   "id": "38a1027e",
   "metadata": {},
   "outputs": [],
   "source": [
    "# shows only that rows & row indexes which have duplicate rows\n",
    "Tips[Tips.duplicated().isin([True])]\n",
    "\n",
    "Tips[list(Tips.duplicated().isin([True]))]\n",
    "\n",
    "Tips[(Tips.duplicated().isin([True])).values]\n",
    "\n",
    "Tips.loc[Tips.duplicated().isin([True])]\n",
    "\n",
    "Tips.loc[list(Tips.duplicated().isin([True]))]\n",
    "\n",
    "Tips.loc[(Tips.duplicated().isin([True])).values]\n",
    "\n",
    "Tips.iloc[list(Tips.duplicated().isin([True]))]\n",
    "\n",
    "Tips.iloc[(Tips.duplicated().isin([True])).values]"
   ]
  },
  {
   "cell_type": "code",
   "execution_count": null,
   "id": "a8b2699e",
   "metadata": {},
   "outputs": [],
   "source": [
    "# shows only that rows & row indexes which don't have duplicate rows\n",
    "Tips[Tips.duplicated().isin([False])]\n",
    "\n",
    "Tips[list(Tips.duplicated().isin([False]))]\n",
    "\n",
    "Tips[(Tips.duplicated().isin([False])).values]\n",
    "\n",
    "Tips.loc[Tips.duplicated().isin([False])]\n",
    "\n",
    "Tips.loc[list(Tips.duplicated().isin([False]))]\n",
    "\n",
    "Tips.loc[(Tips.duplicated().isin([False])).values]\n",
    "\n",
    "Tips.iloc[list(Tips.duplicated().isin([False]))]\n",
    "\n",
    "Tips.iloc[(Tips.duplicated().isin([False])).values]"
   ]
  },
  {
   "cell_type": "code",
   "execution_count": null,
   "id": "22c67e6a",
   "metadata": {},
   "outputs": [],
   "source": [
    "simple_df = DataFrame(data=[1,2,2], index=['a','b','c']) # creating DataFrame having duplicate rows"
   ]
  },
  {
   "cell_type": "code",
   "execution_count": null,
   "id": "6d96a7b0",
   "metadata": {},
   "outputs": [],
   "source": [
    "simple_df"
   ]
  },
  {
   "cell_type": "code",
   "execution_count": null,
   "id": "f37cbcb5",
   "metadata": {},
   "outputs": [],
   "source": [
    "simple_df.duplicated() # shows duplicate rows"
   ]
  },
  {
   "cell_type": "code",
   "execution_count": null,
   "id": "58a7350a",
   "metadata": {},
   "outputs": [],
   "source": [
    "# shows only that rows & row indexes which have duplicate rows\n",
    "# shows only that rows & row indexes which have duplicate rows\n",
    "simple_df[simple_df.duplicated().isin([True])]\n",
    "\n",
    "simple_df[list(simple_df.duplicated().isin([True]))]\n",
    "\n",
    "simple_df[(simple_df.duplicated().isin([True])).values]\n",
    "\n",
    "simple_df.loc[simple_df.duplicated().isin([True])]\n",
    "\n",
    "simple_df.loc[list(simple_df.duplicated().isin([True]))]\n",
    "\n",
    "simple_df.loc[(simple_df.duplicated().isin([True])).values]\n",
    "\n",
    "simple_df.iloc[list(simple_df.duplicated().isin([True]))]\n",
    "\n",
    "simple_df.iloc[(simple_df.duplicated().isin([True])).values]"
   ]
  },
  {
   "cell_type": "code",
   "execution_count": null,
   "id": "4af0a8f9",
   "metadata": {},
   "outputs": [],
   "source": [
    "# shows only that rows & row indexes which don't have duplicate rows\n",
    "simple_df[simple_df.duplicated().isin([False])]\n",
    "\n",
    "simple_df[list(simple_df.duplicated().isin([False]))]\n",
    "\n",
    "simple_df[(simple_df.duplicated().isin([False])).values]\n",
    "\n",
    "simple_df.loc[simple_df.duplicated().isin([False])]\n",
    "\n",
    "simple_df.loc[list(simple_df.duplicated().isin([False]))]\n",
    "\n",
    "simple_df.loc[(simple_df.duplicated().isin([False])).values]\n",
    "\n",
    "simple_df.iloc[list(simple_df.duplicated().isin([False]))]\n",
    "\n",
    "simple_df.iloc[(simple_df.duplicated().isin([False])).values]"
   ]
  },
  {
   "cell_type": "code",
   "execution_count": null,
   "id": "7f29fe5a",
   "metadata": {},
   "outputs": [],
   "source": [
    "simple_df.drop_duplicates() # temporary drop duplicate rows"
   ]
  },
  {
   "cell_type": "markdown",
   "id": "6e5fb195",
   "metadata": {},
   "source": [
    "<a id='bet'></a>\n",
    "## .between( )\n",
    "\n",
    "left: A scalar value that defines the left boundary\n",
    "right: A scalar value that defines the right boundary\n",
    "inclusive: A Boolean value which is True by default. If False, it excludes the two passed arguments while checking."
   ]
  },
  {
   "cell_type": "code",
   "execution_count": null,
   "id": "05cc5bf4",
   "metadata": {},
   "outputs": [],
   "source": [
    "# Tips['total_bill'].between(10, 20, inclusive=True)  # This one has been deprecated\n",
    "Tips['total_bill'].between(10, 20, inclusive=\"both\")"
   ]
  },
  {
   "cell_type": "code",
   "execution_count": null,
   "id": "84eb0e7b",
   "metadata": {},
   "outputs": [],
   "source": [
    "# Tips[Tips['total_bill'].between(10, 20, inclusive=True)] # This one has been deprecated\n",
    "Tips[Tips['total_bill'].between(10, 20, inclusive=\"both\")]"
   ]
  },
  {
   "cell_type": "markdown",
   "id": "cd1e3c9e",
   "metadata": {},
   "source": [
    "<a id='sample'></a>\n",
    "## .sample()"
   ]
  },
  {
   "cell_type": "code",
   "execution_count": null,
   "id": "d787cef3",
   "metadata": {},
   "outputs": [],
   "source": [
    "Tips.sample(5) # random sampling of 5 rows"
   ]
  },
  {
   "cell_type": "code",
   "execution_count": null,
   "id": "3c5cae0e",
   "metadata": {},
   "outputs": [],
   "source": [
    "Tips.sample(frac=0.1) # random sampling of 10 % rows"
   ]
  },
  {
   "cell_type": "code",
   "execution_count": null,
   "id": "cf1a0f03",
   "metadata": {},
   "outputs": [],
   "source": [
    "shape(Tips.sample(frac=0.1))"
   ]
  },
  {
   "cell_type": "markdown",
   "id": "a7e1e936",
   "metadata": {},
   "source": [
    "<a id='n'></a>\n",
    "## nlargest and nsmallest"
   ]
  },
  {
   "cell_type": "code",
   "execution_count": null,
   "id": "e0a676b6",
   "metadata": {},
   "outputs": [],
   "source": [
    "Tips.nlargest(10,'tip')"
   ]
  },
  {
   "cell_type": "code",
   "execution_count": null,
   "id": "07fcca00",
   "metadata": {},
   "outputs": [],
   "source": [
    "Tips.nsmallest(10,'tip')"
   ]
  },
  {
   "cell_type": "code",
   "execution_count": null,
   "id": "97bcdb24",
   "metadata": {},
   "outputs": [],
   "source": [
    "Tips[\"tip\"].sort_values(ascending=False).head(10)"
   ]
  },
  {
   "cell_type": "code",
   "execution_count": null,
   "id": "365a70b6",
   "metadata": {},
   "outputs": [],
   "source": [
    "Tips[\"tip\"].sort_values(ascending=True).head(10)"
   ]
  },
  {
   "cell_type": "code",
   "execution_count": null,
   "id": "fa90b911",
   "metadata": {},
   "outputs": [],
   "source": [
    "Tips.sort_values(\"tip\", ascending=False).head(10)"
   ]
  },
  {
   "cell_type": "code",
   "execution_count": null,
   "id": "7d707db8",
   "metadata": {},
   "outputs": [],
   "source": [
    "Tips.sort_values(\"tip\", ascending=True).head(10)"
   ]
  },
  {
   "cell_type": "code",
   "execution_count": null,
   "id": "95a87ff1",
   "metadata": {},
   "outputs": [],
   "source": [
    "Tips.sort_values(\"tip\", ascending=True).iloc[0:11]\n",
    "\n",
    "Tips.sort_values(\"tip\", ascending=True)[0:11]"
   ]
  },
  {
   "cell_type": "code",
   "execution_count": null,
   "id": "c8ef6073",
   "metadata": {},
   "outputs": [],
   "source": [
    "Tips.sort_values(\"tip\", ascending=False).iloc[0:11]\n",
    "\n",
    "Tips.sort_values(\"tip\", ascending=False)[0:11]"
   ]
  },
  {
   "cell_type": "code",
   "execution_count": null,
   "id": "ea2b05a2",
   "metadata": {},
   "outputs": [],
   "source": [
    "Tips.sort_values(\"tip\", ascending=True).iloc[0:]\n",
    "\n",
    "Tips.sort_values(\"tip\", ascending=True)[0:]"
   ]
  },
  {
   "cell_type": "code",
   "execution_count": null,
   "id": "88430018",
   "metadata": {},
   "outputs": [],
   "source": [
    "Tips.sort_values(\"tip\", ascending=False).iloc[0:]\n",
    "\n",
    "Tips.sort_values(\"tip\", ascending=False)[0:]"
   ]
  },
  {
   "cell_type": "markdown",
   "id": "35fbcc3d",
   "metadata": {},
   "source": [
    "# Missing Data (Keep, Replace or Drop)\n",
    "\n",
    "Make sure to review the video for a full discussion on the strategies of dealing with missing data.\n",
    "\n",
    "--------\n",
    "\n",
    "\n",
    "## What Null/NA/nan objects look like:\n",
    "\n",
    "Source: https://github.com/pandas-dev/pandas/issues/28095\n",
    "\n",
    "A new pd.NA value (singleton) is introduced to represent scalar missing values. Up to now, pandas used several values to represent missing data: np.nan is used for this for float data, np.nan or None for object-dtype data and pd.NaT for datetime-like data. The goal of pd.NA is to provide a “missing” indicator that can be used consistently across data types. pd.NA is currently used by the nullable integer and boolean data types and the new string data type"
   ]
  },
  {
   "cell_type": "markdown",
   "id": "84d07d1e",
   "metadata": {},
   "source": [
    "----\n",
    "------\n",
    "## Note! Typical comparisons should be avoided with Missing Values\n",
    "\n",
    "* https://towardsdatascience.com/navigating-the-hell-of-nans-in-python-71b12558895b\n",
    "* https://stackoverflow.com/questions/20320022/why-in-numpy-nan-nan-is-false-while-nan-in-nan-is-true\n",
    "\n",
    "This is generally because the logic here is, since we don't know these values, we can't know if they are equal to each other."
   ]
  },
  {
   "cell_type": "code",
   "execution_count": null,
   "id": "4030bcd9",
   "metadata": {},
   "outputs": [],
   "source": [
    "from numpy import nan\n",
    "from pandas import NaT, NA, read_csv"
   ]
  },
  {
   "cell_type": "markdown",
   "id": "da9273fa",
   "metadata": {},
   "source": [
    "## Data\n",
    "\n",
    "People were asked to score their opinions of actors from a 1-10 scale before and after watching one of their movies. However, some data is missing."
   ]
  },
  {
   "cell_type": "code",
   "execution_count": null,
   "id": "b1b655a3",
   "metadata": {},
   "outputs": [],
   "source": [
    "Movie = read_csv('movie_scores.csv')"
   ]
  },
  {
   "cell_type": "code",
   "execution_count": null,
   "id": "6540e96d",
   "metadata": {},
   "outputs": [],
   "source": [
    "Movie"
   ]
  },
  {
   "cell_type": "markdown",
   "id": "9a82219d",
   "metadata": {},
   "source": [
    "## Checking and Selecting for Null Values"
   ]
  },
  {
   "cell_type": "code",
   "execution_count": null,
   "id": "525bd55b",
   "metadata": {},
   "outputs": [],
   "source": [
    "Movie.info()"
   ]
  },
  {
   "cell_type": "code",
   "execution_count": null,
   "id": "c30ef318",
   "metadata": {},
   "outputs": [],
   "source": [
    "Movie.isnull()\n",
    "\n",
    "Movie.isna()\n",
    "\n",
    "# isnan(Movie)"
   ]
  },
  {
   "cell_type": "code",
   "execution_count": null,
   "id": "fc581e05",
   "metadata": {},
   "outputs": [],
   "source": [
    "# tells us about the cells having NaNb\n",
    "Movie[Movie.isnull().isin([True, False])]"
   ]
  },
  {
   "cell_type": "code",
   "execution_count": null,
   "id": "79cc715c",
   "metadata": {},
   "outputs": [],
   "source": [
    "# tells us about the cells having NaN\n",
    "Movie[Movie.notnull().isin([True, False])]"
   ]
  },
  {
   "cell_type": "code",
   "execution_count": null,
   "id": "9ee69264",
   "metadata": {},
   "outputs": [],
   "source": [
    "Movie.notnull()\n",
    "Movie.notna()"
   ]
  },
  {
   "cell_type": "code",
   "execution_count": null,
   "id": "f6b1ebce",
   "metadata": {},
   "outputs": [],
   "source": [
    "Movie[['first_name']]"
   ]
  },
  {
   "cell_type": "code",
   "execution_count": null,
   "id": "9df6a482",
   "metadata": {},
   "outputs": [],
   "source": [
    "Movie[Movie['first_name'].notnull()]"
   ]
  },
  {
   "cell_type": "code",
   "execution_count": null,
   "id": "030c3deb",
   "metadata": {},
   "outputs": [],
   "source": [
    "Movie[Movie['first_name'].isnull()]"
   ]
  },
  {
   "cell_type": "code",
   "execution_count": null,
   "id": "a5070741",
   "metadata": {},
   "outputs": [],
   "source": [
    "Movie[(Movie['pre_movie_score'].isnull()) & (Movie['first_name'].notnull())]"
   ]
  },
  {
   "cell_type": "code",
   "execution_count": null,
   "id": "a8e6dff7",
   "metadata": {},
   "outputs": [],
   "source": [
    "Movie[(Movie['pre_movie_score'].isnull()) & Movie['sex'].notnull()]"
   ]
  },
  {
   "cell_type": "markdown",
   "id": "f4e4756f",
   "metadata": {},
   "source": [
    "## Drop Data"
   ]
  },
  {
   "cell_type": "code",
   "execution_count": null,
   "id": "75859282",
   "metadata": {},
   "outputs": [],
   "source": [
    "help(Movie.dropna)"
   ]
  },
  {
   "cell_type": "code",
   "execution_count": null,
   "id": "cdf0791c",
   "metadata": {},
   "outputs": [],
   "source": [
    "Movie.dropna(axis=0) # drop rows having at least 1 NaN/None value, temporary drop\n",
    "Movie.dropna(how='any', axis=0)\n",
    "Movie.dropna(axis=0, thresh=1)"
   ]
  },
  {
   "cell_type": "code",
   "execution_count": null,
   "id": "d0f55a0c",
   "metadata": {},
   "outputs": [],
   "source": [
    "# drop rows having all NaN/None values, temporary drop\n",
    "Movie.dropna(how='all', axis=0)"
   ]
  },
  {
   "cell_type": "code",
   "execution_count": null,
   "id": "e1809fc5",
   "metadata": {},
   "outputs": [],
   "source": [
    "Movie.dropna(how='any', axis=1) # drop columns having at least 1 NaN/None value, temporary drop"
   ]
  },
  {
   "cell_type": "code",
   "execution_count": null,
   "id": "bbd23eff",
   "metadata": {},
   "outputs": [],
   "source": [
    "# drop those rows only having \"sex\" column NaN\n",
    "Movie.dropna(subset=[\"sex\"])\n",
    "Movie.dropna(axis=0, how='any', subset=['sex'])"
   ]
  },
  {
   "cell_type": "code",
   "execution_count": null,
   "id": "4492808b",
   "metadata": {},
   "outputs": [],
   "source": [
    "Movie.dropna(axis=0, how='any', subset=['age'])"
   ]
  },
  {
   "cell_type": "code",
   "execution_count": null,
   "id": "8a17852d",
   "metadata": {},
   "outputs": [],
   "source": [
    "Movie.dropna(subset=Movie.columns)"
   ]
  },
  {
   "cell_type": "code",
   "execution_count": null,
   "id": "f1e45f58",
   "metadata": {},
   "outputs": [],
   "source": [
    "Movie.dropna(subset=list(Movie.columns))"
   ]
  },
  {
   "cell_type": "code",
   "execution_count": null,
   "id": "81fc4bf9",
   "metadata": {},
   "outputs": [],
   "source": [
    "Movie.dropna(subset=['first_name', 'last_name', 'age', 'sex', 'pre_movie_score', 'post_movie_score'])"
   ]
  },
  {
   "cell_type": "code",
   "execution_count": null,
   "id": "c190249d",
   "metadata": {},
   "outputs": [],
   "source": [
    "Movie.dropna(axis=1, how='any', subset=[0, 1, 2, 3, 4])"
   ]
  },
  {
   "cell_type": "code",
   "execution_count": null,
   "id": "0f36d59f",
   "metadata": {},
   "outputs": [],
   "source": [
    "Movie.dropna()"
   ]
  },
  {
   "cell_type": "code",
   "execution_count": null,
   "id": "e3c95e3d",
   "metadata": {},
   "outputs": [],
   "source": [
    "print(type(Movie.columns))"
   ]
  },
  {
   "cell_type": "code",
   "execution_count": null,
   "id": "f9311167",
   "metadata": {},
   "outputs": [],
   "source": [
    "Movie.columns"
   ]
  },
  {
   "cell_type": "code",
   "execution_count": null,
   "id": "1a3903cb",
   "metadata": {},
   "outputs": [],
   "source": [
    "print(Movie.columns)"
   ]
  },
  {
   "cell_type": "code",
   "execution_count": null,
   "id": "ee0c3823",
   "metadata": {},
   "outputs": [],
   "source": [
    "print(Movie.index)"
   ]
  },
  {
   "cell_type": "code",
   "execution_count": null,
   "id": "076649c9",
   "metadata": {},
   "outputs": [],
   "source": [
    "print(type(list(Movie.columns)))"
   ]
  },
  {
   "cell_type": "markdown",
   "id": "efc814a7",
   "metadata": {},
   "source": [
    "## Fill Data"
   ]
  },
  {
   "cell_type": "code",
   "execution_count": null,
   "id": "527f93ac",
   "metadata": {},
   "outputs": [],
   "source": [
    "Movie"
   ]
  },
  {
   "cell_type": "code",
   "execution_count": null,
   "id": "f47ff411",
   "metadata": {},
   "outputs": [],
   "source": [
    "Movie.fillna(\"BLANK\")"
   ]
  },
  {
   "cell_type": "code",
   "execution_count": null,
   "id": "c07a5832",
   "metadata": {},
   "outputs": [],
   "source": [
    "Movie[['first_name']].fillna(\"BLANK_NAME\")"
   ]
  },
  {
   "cell_type": "code",
   "execution_count": null,
   "id": "b947f8b5",
   "metadata": {},
   "outputs": [],
   "source": [
    "Movie[[\"pre_movie_score\"]].fillna(Movie[\"pre_movie_score\"].mean())"
   ]
  },
  {
   "cell_type": "code",
   "execution_count": null,
   "id": "97327108",
   "metadata": {},
   "outputs": [],
   "source": [
    "Movie[['first_name']].fillna(\"BAD_NAME\")"
   ]
  },
  {
   "cell_type": "code",
   "execution_count": null,
   "id": "07c32112",
   "metadata": {},
   "outputs": [],
   "source": [
    "Movie.pre_movie_score.fillna(Movie.pre_movie_score.mean())"
   ]
  },
  {
   "cell_type": "code",
   "execution_count": null,
   "id": "021ec5bf",
   "metadata": {},
   "outputs": [],
   "source": [
    "Movie.fillna(Movie.mean(numeric_only=True))"
   ]
  },
  {
   "cell_type": "markdown",
   "id": "2becaca6",
   "metadata": {},
   "source": [
    "## Filling with Interpolation\n",
    "\n",
    "Be careful with this technique, you should try to really understand whether or not this is a valid choice for your data. You should also note there are several methods available, the default is a linear method.\n",
    "\n",
    "Full Docs on this Method:\n",
    "https://pandas.pydata.org/docs/reference/api/pandas.DataFrame.interpolate.html"
   ]
  },
  {
   "cell_type": "code",
   "execution_count": null,
   "id": "2c746b79",
   "metadata": {},
   "outputs": [],
   "source": [
    "airline_tix = {\"first\":100, \"business\":nan, \"economy_plus\":50, \"economy\":30}\n",
    "ser = series(airline_tix)\n",
    "ser"
   ]
  },
  {
   "cell_type": "code",
   "execution_count": null,
   "id": "06058c3f",
   "metadata": {},
   "outputs": [],
   "source": [
    "ser.interpolate()"
   ]
  },
  {
   "cell_type": "code",
   "execution_count": null,
   "id": "d9c06df0",
   "metadata": {},
   "outputs": [],
   "source": [
    "dser = DataFrame(data=ser, index=ser.keys())\n",
    "dser"
   ]
  },
  {
   "cell_type": "code",
   "execution_count": null,
   "id": "95ae6880",
   "metadata": {},
   "outputs": [],
   "source": [
    "dser = DataFrame(data=airline_tix.values(), index=airline_tix.keys())\n",
    "dser"
   ]
  },
  {
   "cell_type": "markdown",
   "id": "ff8a4d8f",
   "metadata": {},
   "source": [
    "# Groupby Operations and Multi-level Index in Pandas DataFrame"
   ]
  },
  {
   "cell_type": "code",
   "execution_count": null,
   "id": "e460d8fe",
   "metadata": {},
   "outputs": [],
   "source": [
    "car = read_csv('mpg.csv')\n",
    "print(type(car))\n",
    "print(ndim(car))\n",
    "print(size(car))\n",
    "print(len(car))\n",
    "print(shape(car))"
   ]
  },
  {
   "cell_type": "code",
   "execution_count": null,
   "id": "d65924b5",
   "metadata": {},
   "outputs": [],
   "source": [
    "car"
   ]
  },
  {
   "cell_type": "markdown",
   "id": "0325b9ad",
   "metadata": {},
   "source": [
    "## groupby() method"
   ]
  },
  {
   "cell_type": "code",
   "execution_count": null,
   "id": "b1a35992",
   "metadata": {},
   "outputs": [],
   "source": [
    "# Creates a groupby object waiting for an aggregate method\n",
    "# grouping of year in the dataframe\n",
    "car.groupby('model_year')"
   ]
  },
  {
   "cell_type": "code",
   "execution_count": null,
   "id": "a58fe2fb",
   "metadata": {},
   "outputs": [],
   "source": [
    "# model_year becomes the index! It is NOT a column name,it is now the name of the index\n",
    "# year wise grouping has been done then mean() has been performed upon all numeric columns\n",
    "car.groupby('model_year').mean() # apply groupby on 'model_year' column & apply maen() on all other numeric columns"
   ]
  },
  {
   "cell_type": "code",
   "execution_count": null,
   "id": "f4134e7f",
   "metadata": {},
   "outputs": [],
   "source": [
    "# year wise grouping has been done then mean() has been performed upon 'mpg' column\n",
    "car.groupby('model_year').mean()[['mpg']]"
   ]
  },
  {
   "cell_type": "code",
   "execution_count": null,
   "id": "ceca2651",
   "metadata": {},
   "outputs": [],
   "source": [
    "car_mean = car.groupby('model_year').mean()\n",
    "car_mean"
   ]
  },
  {
   "cell_type": "code",
   "execution_count": null,
   "id": "f407b98d",
   "metadata": {},
   "outputs": [],
   "source": [
    "car_mean.index"
   ]
  },
  {
   "cell_type": "code",
   "execution_count": null,
   "id": "0bf932fc",
   "metadata": {},
   "outputs": [],
   "source": [
    "car_mean.columns # only numeric columns"
   ]
  },
  {
   "cell_type": "code",
   "execution_count": null,
   "id": "97541ee9",
   "metadata": {},
   "outputs": [],
   "source": [
    "car_mean[['mpg']] # showing mean of 'mpg' column for year wise grouping"
   ]
  },
  {
   "cell_type": "code",
   "execution_count": null,
   "id": "203b7cb4",
   "metadata": {},
   "outputs": [],
   "source": [
    "car.groupby('model_year').mean()[['mpg']]"
   ]
  },
  {
   "cell_type": "code",
   "execution_count": null,
   "id": "3cb5ced4",
   "metadata": {},
   "outputs": [],
   "source": [
    "car.groupby('model_year').describe()"
   ]
  },
  {
   "cell_type": "code",
   "execution_count": null,
   "id": "8ab9fbee",
   "metadata": {},
   "outputs": [],
   "source": [
    "car.groupby('model_year').describe().transpose()"
   ]
  },
  {
   "cell_type": "code",
   "execution_count": null,
   "id": "be5d4af9",
   "metadata": {},
   "outputs": [],
   "source": [
    "car.groupby('model_year').describe().T"
   ]
  },
  {
   "cell_type": "markdown",
   "id": "f709badb",
   "metadata": {},
   "source": [
    "## Groupby Multiple Columns\n",
    "Let's explore average mpg per year per cylinder count"
   ]
  },
  {
   "cell_type": "code",
   "execution_count": null,
   "id": "4141e694",
   "metadata": {},
   "outputs": [],
   "source": [
    "car.groupby(['model_year','cylinders']).mean()"
   ]
  },
  {
   "cell_type": "code",
   "execution_count": null,
   "id": "69599500",
   "metadata": {},
   "outputs": [],
   "source": [
    "car.groupby(['model_year','cylinders']).mean().index"
   ]
  },
  {
   "cell_type": "code",
   "execution_count": null,
   "id": "49aae426",
   "metadata": {},
   "outputs": [],
   "source": [
    "# We get column indexes as columns using .columns\n",
    "car.groupby(['model_year','cylinders']).mean().columns"
   ]
  },
  {
   "cell_type": "code",
   "execution_count": null,
   "id": "277a2191",
   "metadata": {},
   "outputs": [],
   "source": [
    "# We get column indexes as columns using keys() \n",
    "car.groupby(['model_year','cylinders']).mean().keys()"
   ]
  },
  {
   "cell_type": "code",
   "execution_count": null,
   "id": "ed82603d",
   "metadata": {},
   "outputs": [],
   "source": [
    "# car.groupby(['model_year','cylinders']).mean().keys()"
   ]
  },
  {
   "cell_type": "code",
   "execution_count": null,
   "id": "96fba4df",
   "metadata": {},
   "outputs": [],
   "source": [
    "car.groupby(['model_year','cylinders']).mean()[['acceleration']]"
   ]
  },
  {
   "cell_type": "code",
   "execution_count": null,
   "id": "79991fe6",
   "metadata": {},
   "outputs": [],
   "source": [
    "# We get column indexes as columns using .keys()\n",
    "car.groupby(['model_year','cylinders']).mean()[['acceleration']].keys()"
   ]
  },
  {
   "cell_type": "code",
   "execution_count": null,
   "id": "e8d57153",
   "metadata": {},
   "outputs": [],
   "source": [
    "# We get column indexes as columns using .columns\n",
    "car.groupby(['model_year','cylinders']).mean()[['acceleration']].columns"
   ]
  },
  {
   "cell_type": "code",
   "execution_count": null,
   "id": "306fbd98",
   "metadata": {},
   "outputs": [],
   "source": [
    "car.groupby(['model_year','cylinders']).mean()[['acceleration']].index"
   ]
  },
  {
   "cell_type": "code",
   "execution_count": null,
   "id": "89357d65",
   "metadata": {},
   "outputs": [],
   "source": [
    "car.groupby(['model_year','cylinders']).mean()[['acceleration']].values"
   ]
  },
  {
   "cell_type": "markdown",
   "id": "085deb09",
   "metadata": {},
   "source": [
    "# MultiIndex ( multi index created by groupby() function )\n",
    "\n",
    "## The MultiIndex Object, Outer groupby() index & inner groupby() index"
   ]
  },
  {
   "cell_type": "code",
   "execution_count": null,
   "id": "df27d264",
   "metadata": {},
   "outputs": [],
   "source": [
    "year_cyl = car.groupby(['model_year','cylinders']).mean()\n",
    "year_cyl"
   ]
  },
  {
   "cell_type": "code",
   "execution_count": null,
   "id": "b66e6a8e",
   "metadata": {},
   "outputs": [],
   "source": [
    "year_cyl.index"
   ]
  },
  {
   "cell_type": "code",
   "execution_count": null,
   "id": "767b851a",
   "metadata": {},
   "outputs": [],
   "source": [
    "year_cyl.columns"
   ]
  },
  {
   "cell_type": "code",
   "execution_count": null,
   "id": "6b4f83e8",
   "metadata": {},
   "outputs": [],
   "source": [
    "year_cyl.index.names"
   ]
  },
  {
   "cell_type": "code",
   "execution_count": null,
   "id": "aa983f82",
   "metadata": {},
   "outputs": [],
   "source": [
    "year_cyl.index.levels"
   ]
  },
  {
   "cell_type": "markdown",
   "id": "f0901e72",
   "metadata": {},
   "source": [
    "# Indexing with the Hierarchical Index\n",
    "\n",
    "Full Documentation: https://pandas.pydata.org/pandas-docs/stable/user_guide/advanced.html"
   ]
  },
  {
   "cell_type": "code",
   "execution_count": null,
   "id": "e206f972",
   "metadata": {},
   "outputs": [],
   "source": [
    "year_cyl.head(10)"
   ]
  },
  {
   "cell_type": "markdown",
   "id": "b0049eb7",
   "metadata": {},
   "source": [
    "## Grab Based on Most Outside iloc[ ] index"
   ]
  },
  {
   "cell_type": "code",
   "execution_count": null,
   "id": "70e59c88",
   "metadata": {},
   "outputs": [],
   "source": [
    "year_cyl.iloc[[0,1,2,3,4,5]]"
   ]
  },
  {
   "cell_type": "markdown",
   "id": "b49115f1",
   "metadata": {},
   "source": [
    "## Grab, Based on groupby created Outer index"
   ]
  },
  {
   "cell_type": "code",
   "execution_count": null,
   "id": "fef9697d",
   "metadata": {},
   "outputs": [],
   "source": [
    "year_cyl.loc[[70, 71]]"
   ]
  },
  {
   "cell_type": "markdown",
   "id": "90b3898b",
   "metadata": {},
   "source": [
    "## Grab a Single Row by combining groupby created Outer & inner index"
   ]
  },
  {
   "cell_type": "code",
   "execution_count": null,
   "id": "c9414a40",
   "metadata": {},
   "outputs": [],
   "source": [
    "year_cyl.loc[[[70,4], [70,6], [70,8], [71,4], [71,6], [71,8]]]"
   ]
  },
  {
   "cell_type": "code",
   "execution_count": null,
   "id": "620be9b0",
   "metadata": {},
   "outputs": [],
   "source": [
    "year_cyl.loc[[[70,4], [70,8], [71,6], [71,8]]]"
   ]
  },
  {
   "cell_type": "code",
   "execution_count": null,
   "id": "be59cba4",
   "metadata": {},
   "outputs": [],
   "source": [
    "year_cyl.loc[[[70,4], [70,8], [71,6], [71,8]], ['mpg','displacement','weight','acceleration','origin']]"
   ]
  },
  {
   "cell_type": "code",
   "execution_count": null,
   "id": "9ddffd69",
   "metadata": {},
   "outputs": [],
   "source": [
    "year_cyl.loc[[[70,4]], ['mpg','displacement','weight','acceleration','origin']]"
   ]
  },
  {
   "cell_type": "code",
   "execution_count": null,
   "id": "d457aac3",
   "metadata": {},
   "outputs": [],
   "source": [
    "year_cyl.loc[[70,71], ['mpg','displacement','weight','acceleration','origin']]"
   ]
  },
  {
   "cell_type": "markdown",
   "id": "cccd86c4",
   "metadata": {},
   "source": [
    "# Grab Based on Cross-section with .xs()\n",
    "\n",
    "This method takes a `key` argument to select data at a particular\n",
    "level of a MultiIndex.\n",
    "\n",
    "Parameters\n",
    "----------\n",
    "    key : label or tuple of label\n",
    "        Label contained in the index, or partially in a MultiIndex.\n",
    "    axis : {0 or 'index', 1 or 'columns'}, default 0\n",
    "        Axis to retrieve cross-section on.\n",
    "    level : object, defaults to first n levels (n=1 or len(key))\n",
    "        In case of a key partially contained in a MultiIndex, indicate\n",
    "        which levels are used. Levels can be referred by label or position."
   ]
  },
  {
   "cell_type": "code",
   "execution_count": null,
   "id": "2fec4555",
   "metadata": {},
   "outputs": [],
   "source": [
    "# filtering only 'model_year' 70\n",
    "year_cyl.xs(level='model_year', key=70, axis=0)"
   ]
  },
  {
   "cell_type": "code",
   "execution_count": null,
   "id": "36ec5396",
   "metadata": {},
   "outputs": [],
   "source": [
    "# filtering only cylinders 4\n",
    "year_cyl.loc[[[70,4], [71,4], [72,4], [73,4], [74,4], [75,4], [76,4],\n",
    "             [77,4], [78,4], [79,4], [80,4], [81,4], [82,4]], ['mpg','displacement','weight','acceleration','origin']]"
   ]
  },
  {
   "cell_type": "code",
   "execution_count": null,
   "id": "d0cadca7",
   "metadata": {},
   "outputs": [],
   "source": [
    "# Mean column values for 4 cylinders per year\n",
    "year_cyl.xs(level='cylinders', key=4, axis=0)"
   ]
  },
  {
   "cell_type": "markdown",
   "id": "a492ae14",
   "metadata": {},
   "source": [
    "## Careful note!\n",
    "\n",
    "Keep in mind, its usually much easier to filter out values **before** running a groupby() call, so you should attempt to filter out any values/categories you don't want to use. For example, its much easier to remove **4** cylinder cars before the groupby() call, very difficult to this sort of thing after a group by."
   ]
  },
  {
   "cell_type": "code",
   "execution_count": null,
   "id": "512d5a3a",
   "metadata": {},
   "outputs": [],
   "source": [
    "car[car['cylinders'].isin([6,8])].groupby(['model_year','cylinders']).mean()"
   ]
  },
  {
   "cell_type": "markdown",
   "id": "60bd71f8",
   "metadata": {},
   "source": [
    "## Swap Levels\n",
    "\n",
    "* Swapping Levels: https://pandas.pydata.org/pandas-docs/stable/user_guide/advanced.html#swapping-levels-with-swaplevel\n",
    "* Generalized Method is reorder_levels: https://pandas.pydata.org/pandas-docs/stable/user_guide/advanced.html#reordering-levels-with-reorder-levels"
   ]
  },
  {
   "cell_type": "code",
   "execution_count": null,
   "id": "7544ca88",
   "metadata": {},
   "outputs": [],
   "source": [
    "year_cyl.swaplevel().head()"
   ]
  },
  {
   "cell_type": "markdown",
   "id": "9a1e5ebd",
   "metadata": {},
   "source": [
    "## Sorting MultiIndex\n",
    "\n",
    "* https://pandas.pydata.org/pandas-docs/stable/user_guide/advanced.html#sorting-a-multiindex "
   ]
  },
  {
   "cell_type": "code",
   "execution_count": null,
   "id": "2776037e",
   "metadata": {},
   "outputs": [],
   "source": [
    "year_cyl.sort_index(level='model_year',ascending=False)"
   ]
  },
  {
   "cell_type": "code",
   "execution_count": null,
   "id": "5312cca1",
   "metadata": {},
   "outputs": [],
   "source": [
    "year_cyl.sort_index(level='cylinders',ascending=False)"
   ]
  },
  {
   "cell_type": "markdown",
   "id": "279b9b9a",
   "metadata": {},
   "source": [
    "# Advanced: agg() method\n",
    "\n",
    "The agg() method allows you to customize what aggregate functions you want per category"
   ]
  },
  {
   "cell_type": "code",
   "execution_count": null,
   "id": "2fe4c9d9",
   "metadata": {},
   "outputs": [],
   "source": [
    "car.agg(['std', 'mean'])"
   ]
  },
  {
   "cell_type": "code",
   "execution_count": null,
   "id": "3189a47a",
   "metadata": {},
   "outputs": [],
   "source": [
    "car.agg(['std', 'mean'])[['mpg','cylinders']]"
   ]
  },
  {
   "cell_type": "markdown",
   "id": "4fe2015d",
   "metadata": {},
   "source": [
    "## Specify aggregate methods per column\n",
    "\n",
    "**agg()** is very powerful,allowing you to pass in a dictionary where the keys are the columns and the values are a list of aggregate methods."
   ]
  },
  {
   "cell_type": "code",
   "execution_count": null,
   "id": "02c3f36f",
   "metadata": {},
   "outputs": [],
   "source": [
    "car.agg({'mpg':['median','mean'],'weight':['mean','std']})"
   ]
  },
  {
   "cell_type": "markdown",
   "id": "df689354",
   "metadata": {},
   "source": [
    "## agg() with groupby()"
   ]
  },
  {
   "cell_type": "code",
   "execution_count": null,
   "id": "62d9030b",
   "metadata": {},
   "outputs": [],
   "source": [
    "car.groupby('model_year').agg({'mpg':['median','mean'],'weight':['mean','std']})"
   ]
  },
  {
   "cell_type": "markdown",
   "id": "4fa6e46d",
   "metadata": {},
   "source": [
    "# Combining DataFrames\n",
    "\n",
    "## Full Official Guide (Lots of examples!)\n",
    "\n",
    "### https://pandas.pydata.org/pandas-docs/stable/user_guide/merging.html\n",
    "\n",
    "-------\n",
    "-------"
   ]
  },
  {
   "cell_type": "markdown",
   "id": "5158c803",
   "metadata": {},
   "source": [
    "## Concatenation\n",
    "\n",
    "Directly  \"glue\" together dataframes."
   ]
  },
  {
   "cell_type": "code",
   "execution_count": null,
   "id": "33f60e59",
   "metadata": {},
   "outputs": [],
   "source": [
    "dic1 = {'A': ['A0', 'A1', 'A2', 'A3'],'B': ['B0', 'B1', 'B2', 'B3']}\n",
    "\n",
    "dic2 = {'C': ['C0', 'C1', 'C2', 'C3'], 'D': ['D0', 'D1', 'D2', 'D3']}"
   ]
  },
  {
   "cell_type": "code",
   "execution_count": null,
   "id": "0d057a00",
   "metadata": {},
   "outputs": [],
   "source": [
    "one = DataFrame(dic1) # converting 0D dict1 into 2D DataFrame\n",
    "s1 = series(dic1) # converting 0D dict1 into 1D series\n",
    "A1 = array(dic1) # converting 0D dict1 into 0D array\n",
    "print(ndim(one))\n",
    "print(ndim(s1))\n",
    "print(ndim(A1))\n",
    "two = DataFrame(dic2) # converting 0D dict2 into 2D DataFrame\n",
    "s2 = series(dic2) # converting 0D dict1 into 1D series\n",
    "A2 = array(dic2) # converting 0D dict1 into 0D array\n",
    "print(ndim(two))\n",
    "print(ndim(s2))\n",
    "print(ndim(A2))"
   ]
  },
  {
   "cell_type": "code",
   "execution_count": null,
   "id": "743720a2",
   "metadata": {},
   "outputs": [],
   "source": [
    "one"
   ]
  },
  {
   "cell_type": "code",
   "execution_count": null,
   "id": "924f3b92",
   "metadata": {},
   "outputs": [],
   "source": [
    "two"
   ]
  },
  {
   "cell_type": "markdown",
   "id": "c7a85b17",
   "metadata": {},
   "source": [
    "## Axis = 1\n",
    "\n",
    "### Concatenate along columns"
   ]
  },
  {
   "cell_type": "code",
   "execution_count": null,
   "id": "3c655944",
   "metadata": {},
   "outputs": [],
   "source": [
    "from pandas import concat\n",
    "concat([one, two], axis=1)"
   ]
  },
  {
   "cell_type": "code",
   "execution_count": null,
   "id": "027b5543",
   "metadata": {},
   "outputs": [],
   "source": [
    "concat([two, one], axis=1)"
   ]
  },
  {
   "cell_type": "markdown",
   "id": "60ace6b3",
   "metadata": {},
   "source": [
    "## Axis = 0 \n",
    "\n",
    "### Concatenate along rows"
   ]
  },
  {
   "cell_type": "code",
   "execution_count": null,
   "id": "3bcd7e33",
   "metadata": {},
   "outputs": [],
   "source": [
    "two.columns=one.columns"
   ]
  },
  {
   "cell_type": "code",
   "execution_count": null,
   "id": "eb0ef76d",
   "metadata": {},
   "outputs": [],
   "source": [
    "two"
   ]
  },
  {
   "cell_type": "code",
   "execution_count": null,
   "id": "06b11721",
   "metadata": {},
   "outputs": [],
   "source": [
    "concat([one, two], axis=0)"
   ]
  },
  {
   "cell_type": "code",
   "execution_count": null,
   "id": "f466faa7",
   "metadata": {},
   "outputs": [],
   "source": [
    "DF = concat([one, two], axis=0)\n",
    "DF.index = range(len(DF))\n",
    "DF"
   ]
  },
  {
   "cell_type": "markdown",
   "id": "fd2d3580",
   "metadata": {},
   "source": [
    "# Merge (When DataFrames have different shapes)\n",
    "\n",
    "## Data Tables"
   ]
  },
  {
   "cell_type": "code",
   "execution_count": null,
   "id": "5cf26d5e",
   "metadata": {},
   "outputs": [],
   "source": [
    "# converting 0D dicts to 2D Dataframes\n",
    "registrations = DataFrame({'reg_id':[1,2,3,4],'name':['Andrew','Bobo','Claire','David']})\n",
    "logins = DataFrame({'log_id':[1,2,3,4],'name':['Xavier','Andrew','Yolanda','Bobo']})"
   ]
  },
  {
   "cell_type": "code",
   "execution_count": null,
   "id": "9a12c634",
   "metadata": {},
   "outputs": [],
   "source": [
    "registrations"
   ]
  },
  {
   "cell_type": "code",
   "execution_count": null,
   "id": "61821f44",
   "metadata": {},
   "outputs": [],
   "source": [
    "logins"
   ]
  },
  {
   "cell_type": "markdown",
   "id": "59174e32",
   "metadata": {},
   "source": [
    "# pd.merge()\n",
    "\n",
    "Merge pandas DataFrames based on key columns, similar to a SQL join. Results based on the **how** parameter."
   ]
  },
  {
   "cell_type": "code",
   "execution_count": null,
   "id": "e3082b4c",
   "metadata": {},
   "outputs": [],
   "source": [
    "from pandas import merge\n",
    "help(merge)"
   ]
  },
  {
   "cell_type": "markdown",
   "id": "8ee3ac8a",
   "metadata": {},
   "source": [
    "-----\n",
    "\n",
    "# Inner,Left, Right, and Outer Joins"
   ]
  },
  {
   "cell_type": "markdown",
   "id": "72e88999",
   "metadata": {},
   "source": [
    "## Inner Join\n",
    "\n",
    "**Match up where the key is present in BOTH tables. There should be no NaNs due to the join, since by definition to be part of the Inner Join they need info in both tables.**\n",
    "**Only Andrew and Bobo both registered and logged in.**"
   ]
  },
  {
   "cell_type": "code",
   "execution_count": null,
   "id": "b6d91b59",
   "metadata": {},
   "outputs": [],
   "source": [
    "# Notice pd.merge doesn't take in a list like concat\n",
    "merge(registrations,logins,how='inner',on='name')"
   ]
  },
  {
   "cell_type": "code",
   "execution_count": null,
   "id": "617746e4",
   "metadata": {},
   "outputs": [],
   "source": [
    "# Pandas smart enough to figure out key column (on parameter) if only one column name matches up\n",
    "merge(registrations,logins,how='inner')"
   ]
  },
  {
   "cell_type": "code",
   "execution_count": null,
   "id": "2d31b2ca",
   "metadata": {},
   "outputs": [],
   "source": [
    "# Pandas reports an error if \"on\" key column isn't in both dataframes\n",
    "# pd.merge(registrations,logins,how='inner',on='reg_id')"
   ]
  },
  {
   "cell_type": "markdown",
   "id": "63da2ca2",
   "metadata": {},
   "source": [
    "## Left Join\n",
    "\n",
    "**Match up AND include all rows from Left Table.**\n",
    "**Show everyone who registered on Left Table, if they don't have login info, then fill with NaN.**"
   ]
  },
  {
   "cell_type": "code",
   "execution_count": null,
   "id": "769bb8e8",
   "metadata": {},
   "outputs": [],
   "source": [
    "merge(registrations,logins,how='left')"
   ]
  },
  {
   "cell_type": "markdown",
   "id": "c1062818",
   "metadata": {},
   "source": [
    "## Right Join\n",
    "**Match up AND include all rows from Right Table.**\n",
    "**Show everyone who logged in on the Right Table, if they don't have registration info, then fill with NaN.**"
   ]
  },
  {
   "cell_type": "code",
   "execution_count": null,
   "id": "aeaa9fe7",
   "metadata": {},
   "outputs": [],
   "source": [
    "merge(registrations,logins,how='right')"
   ]
  },
  {
   "cell_type": "markdown",
   "id": "e80bc960",
   "metadata": {},
   "source": [
    "## Outer Join\n",
    "\n",
    "**Match up on all info found in either Left or Right Table.**\n",
    "**Show everyone that's in the Log in table and the registrations table. Fill any missing info with NaN**"
   ]
  },
  {
   "cell_type": "code",
   "execution_count": null,
   "id": "f8d92d8c",
   "metadata": {},
   "outputs": [],
   "source": [
    "merge(registrations,logins,how='outer')"
   ]
  },
  {
   "cell_type": "markdown",
   "id": "3c4f81ea",
   "metadata": {},
   "source": [
    "## Join on Index or Column\n",
    "\n",
    "**Use combinations of left_on,right_on,left_index,right_index to merge a column or index on each other**"
   ]
  },
  {
   "cell_type": "code",
   "execution_count": null,
   "id": "2a57a4d1",
   "metadata": {},
   "outputs": [],
   "source": [
    "registrations"
   ]
  },
  {
   "cell_type": "code",
   "execution_count": null,
   "id": "f99a8eea",
   "metadata": {},
   "outputs": [],
   "source": [
    "logins"
   ]
  },
  {
   "cell_type": "code",
   "execution_count": null,
   "id": "6f4e58f9",
   "metadata": {},
   "outputs": [],
   "source": [
    "registrations = registrations.set_index(\"name\")"
   ]
  },
  {
   "cell_type": "code",
   "execution_count": null,
   "id": "3757651f",
   "metadata": {},
   "outputs": [],
   "source": [
    "registrations"
   ]
  },
  {
   "cell_type": "code",
   "execution_count": null,
   "id": "2774a787",
   "metadata": {},
   "outputs": [],
   "source": [
    "merge(registrations,logins,left_index=True,right_on='name',how='inner')"
   ]
  },
  {
   "cell_type": "code",
   "execution_count": null,
   "id": "99cfae92",
   "metadata": {},
   "outputs": [],
   "source": [
    "merge(logins,registrations,right_index=True,left_on='name')"
   ]
  },
  {
   "cell_type": "markdown",
   "id": "6034a32d",
   "metadata": {},
   "source": [
    "### Dealing with differing key column names in joined tables"
   ]
  },
  {
   "cell_type": "code",
   "execution_count": null,
   "id": "8878f30e",
   "metadata": {},
   "outputs": [],
   "source": [
    "registrations = registrations.reset_index()"
   ]
  },
  {
   "cell_type": "code",
   "execution_count": null,
   "id": "d0187c00",
   "metadata": {},
   "outputs": [],
   "source": [
    "registrations"
   ]
  },
  {
   "cell_type": "code",
   "execution_count": null,
   "id": "dbe811b1",
   "metadata": {},
   "outputs": [],
   "source": [
    "logins"
   ]
  },
  {
   "cell_type": "code",
   "execution_count": null,
   "id": "344e94d8",
   "metadata": {},
   "outputs": [],
   "source": [
    "registrations.columns = ['reg_name','reg_id']"
   ]
  },
  {
   "cell_type": "code",
   "execution_count": null,
   "id": "a95181ff",
   "metadata": {},
   "outputs": [],
   "source": [
    "registrations"
   ]
  },
  {
   "cell_type": "code",
   "execution_count": null,
   "id": "0d1a371c",
   "metadata": {},
   "outputs": [],
   "source": [
    "# ERROR\n",
    "# pd.merge(registrations,logins)"
   ]
  },
  {
   "cell_type": "code",
   "execution_count": null,
   "id": "9b035d72",
   "metadata": {},
   "outputs": [],
   "source": [
    "merge(registrations,logins,left_on='reg_name',right_on='name',how='inner')"
   ]
  },
  {
   "cell_type": "code",
   "execution_count": null,
   "id": "48d5b49d",
   "metadata": {},
   "outputs": [],
   "source": [
    "merge(registrations,logins,left_on='reg_name',right_on='name',how='inner').drop('reg_name',axis=1)"
   ]
  },
  {
   "cell_type": "markdown",
   "id": "5cfc7999",
   "metadata": {},
   "source": [
    "### Pandas automatically tags duplicate columns"
   ]
  },
  {
   "cell_type": "code",
   "execution_count": null,
   "id": "2e7fcf5d",
   "metadata": {},
   "outputs": [],
   "source": [
    "registrations.columns = ['name','id'] # renaming columns\n",
    "logins.columns = ['id','name'] # renaming columns"
   ]
  },
  {
   "cell_type": "code",
   "execution_count": null,
   "id": "205b0654",
   "metadata": {},
   "outputs": [],
   "source": [
    "registrations"
   ]
  },
  {
   "cell_type": "code",
   "execution_count": null,
   "id": "28dc74a7",
   "metadata": {},
   "outputs": [],
   "source": [
    "logins"
   ]
  },
  {
   "cell_type": "code",
   "execution_count": null,
   "id": "d4a39b12",
   "metadata": {},
   "outputs": [],
   "source": [
    "# _x is for left\n",
    "# _y is for right\n",
    "merge(registrations,logins,on='name')"
   ]
  },
  {
   "cell_type": "code",
   "execution_count": null,
   "id": "724fe8ea",
   "metadata": {},
   "outputs": [],
   "source": [
    "merge(registrations,logins,on='name',suffixes=('_reg','_log'))"
   ]
  },
  {
   "cell_type": "markdown",
   "id": "52e0bf88",
   "metadata": {},
   "source": [
    "# Text Methods"
   ]
  },
  {
   "cell_type": "markdown",
   "id": "fdb0e771",
   "metadata": {},
   "source": [
    "A normal Python string has a variety of method calls available:"
   ]
  },
  {
   "cell_type": "code",
   "execution_count": null,
   "id": "cd0dfb2f",
   "metadata": {},
   "outputs": [],
   "source": [
    "mystring = 'hello'"
   ]
  },
  {
   "cell_type": "code",
   "execution_count": null,
   "id": "cf66d76c",
   "metadata": {},
   "outputs": [],
   "source": [
    "mystring.capitalize()"
   ]
  },
  {
   "cell_type": "code",
   "execution_count": null,
   "id": "cebb9212",
   "metadata": {},
   "outputs": [],
   "source": [
    "mystring.isdigit()"
   ]
  },
  {
   "cell_type": "code",
   "execution_count": null,
   "id": "2ed2846e",
   "metadata": {},
   "outputs": [],
   "source": [
    "email = 'linkman343@gmail.com'\n",
    "email.isdigit()"
   ]
  },
  {
   "cell_type": "code",
   "execution_count": null,
   "id": "5e358bcd",
   "metadata": {},
   "outputs": [],
   "source": [
    "email=email.split('@')\n",
    "print(email)\n",
    "print(type(email))"
   ]
  },
  {
   "cell_type": "code",
   "execution_count": null,
   "id": "5f062a24",
   "metadata": {},
   "outputs": [],
   "source": [
    "help(str)"
   ]
  },
  {
   "cell_type": "markdown",
   "id": "ec15ef8f",
   "metadata": {},
   "source": [
    "# Pandas and Text\n",
    "\n",
    "Pandas can do a lot more than what we show here. Full online documentation on things like advanced string indexing and regular expressions with pandas can be found here: https://pandas.pydata.org/docs/user_guide/text.html\n",
    "\n",
    "## Text Methods on Pandas String Column"
   ]
  },
  {
   "cell_type": "code",
   "execution_count": null,
   "id": "fff1047b",
   "metadata": {},
   "outputs": [],
   "source": [
    "names = series(['andrew','bobo','claire','david','4']) # converting 1D list into 1D series\n",
    "print(ndim(names))"
   ]
  },
  {
   "cell_type": "code",
   "execution_count": null,
   "id": "70f946dc",
   "metadata": {},
   "outputs": [],
   "source": [
    "names"
   ]
  },
  {
   "cell_type": "code",
   "execution_count": null,
   "id": "f72a3aed",
   "metadata": {},
   "outputs": [],
   "source": [
    "names.str.capitalize() # capitalize letter string elements only from the series"
   ]
  },
  {
   "cell_type": "code",
   "execution_count": null,
   "id": "e566789a",
   "metadata": {},
   "outputs": [],
   "source": [
    "names.str.isdigit() # is there any digit type string element in the series"
   ]
  },
  {
   "cell_type": "code",
   "execution_count": null,
   "id": "fdbf590c",
   "metadata": {},
   "outputs": [],
   "source": [
    "names[names.str.isdigit().isin([True])]"
   ]
  },
  {
   "cell_type": "code",
   "execution_count": null,
   "id": "12300e68",
   "metadata": {},
   "outputs": [],
   "source": [
    "names[names.str.isdigit().isin([False])]"
   ]
  },
  {
   "cell_type": "code",
   "execution_count": null,
   "id": "be58f11e",
   "metadata": {},
   "outputs": [],
   "source": [
    "names[names.str.isdigit().isin([True, False])]"
   ]
  },
  {
   "cell_type": "code",
   "execution_count": null,
   "id": "5522c6a1",
   "metadata": {},
   "outputs": [],
   "source": [
    "names.str.upper() # make all strings upper case"
   ]
  },
  {
   "cell_type": "markdown",
   "id": "7bc52742",
   "metadata": {},
   "source": [
    "## Splitting , Grabbing, and Expanding"
   ]
  },
  {
   "cell_type": "code",
   "execution_count": null,
   "id": "a50b7402",
   "metadata": {},
   "outputs": [],
   "source": [
    "tech_finance = ['GOOG,APPL,AMZN','JPM,BAC,GS'] # 1D list of strings"
   ]
  },
  {
   "cell_type": "code",
   "execution_count": null,
   "id": "0067411f",
   "metadata": {},
   "outputs": [],
   "source": [
    "len(tech_finance)"
   ]
  },
  {
   "cell_type": "code",
   "execution_count": null,
   "id": "7204b73b",
   "metadata": {},
   "outputs": [],
   "source": [
    "tickers = series(tech_finance) # convert 1D list into 1D series"
   ]
  },
  {
   "cell_type": "code",
   "execution_count": null,
   "id": "598c034d",
   "metadata": {},
   "outputs": [],
   "source": [
    "tickers"
   ]
  },
  {
   "cell_type": "code",
   "execution_count": null,
   "id": "0754fff8",
   "metadata": {},
   "outputs": [],
   "source": [
    "tickers.str.split(',')"
   ]
  },
  {
   "cell_type": "code",
   "execution_count": null,
   "id": "de85ec2a",
   "metadata": {},
   "outputs": [],
   "source": [
    "tickers.str.split(',').iloc[[0]]"
   ]
  },
  {
   "cell_type": "code",
   "execution_count": null,
   "id": "d6f04831",
   "metadata": {},
   "outputs": [],
   "source": [
    "tickers.str.split(',').iloc[0][2]"
   ]
  },
  {
   "cell_type": "code",
   "execution_count": null,
   "id": "79e35d11",
   "metadata": {},
   "outputs": [],
   "source": [
    "tech = 'GOOG,AMZN,TVS'\n",
    "print(tech.split(','))\n",
    "tech.split(',')[0]"
   ]
  },
  {
   "cell_type": "code",
   "execution_count": null,
   "id": "e447a0a5",
   "metadata": {},
   "outputs": [],
   "source": [
    "tickers.str.split(',').str[1]"
   ]
  },
  {
   "cell_type": "code",
   "execution_count": null,
   "id": "079a69eb",
   "metadata": {},
   "outputs": [],
   "source": [
    "tickers.str.split(',',expand=True)"
   ]
  },
  {
   "cell_type": "code",
   "execution_count": null,
   "id": "1670db69",
   "metadata": {},
   "outputs": [],
   "source": [
    "tickers.str.split(',',expand=True).iloc[ [0,1] , 2 ]"
   ]
  },
  {
   "cell_type": "code",
   "execution_count": null,
   "id": "89c25701",
   "metadata": {},
   "outputs": [],
   "source": [
    "tickers.str.split(',',expand=True).loc[ [0,1] , 2 ]"
   ]
  },
  {
   "cell_type": "markdown",
   "id": "21e1cc39",
   "metadata": {},
   "source": [
    "## Cleaning or Editing Strings"
   ]
  },
  {
   "cell_type": "code",
   "execution_count": null,
   "id": "3f390e27",
   "metadata": {},
   "outputs": [],
   "source": [
    "messy_names = series([\"andrew  \",\"bo;bo\",\"  claire  \"])"
   ]
  },
  {
   "cell_type": "code",
   "execution_count": null,
   "id": "adae3198",
   "metadata": {},
   "outputs": [],
   "source": [
    "# Notice the \"mis-alignment\" on the right hand side due to spacing in \"andrew  \" and \"  claire  \"\n",
    "messy_names"
   ]
  },
  {
   "cell_type": "code",
   "execution_count": null,
   "id": "c3c6be71",
   "metadata": {},
   "outputs": [],
   "source": [
    "messy_names.str.replace(\";\",\"\")"
   ]
  },
  {
   "cell_type": "code",
   "execution_count": null,
   "id": "248674ac",
   "metadata": {},
   "outputs": [],
   "source": [
    "messy_names.str.strip()"
   ]
  },
  {
   "cell_type": "code",
   "execution_count": null,
   "id": "5591fbcd",
   "metadata": {},
   "outputs": [],
   "source": [
    "messy_names.str.replace(\";\",\"\").str.strip()"
   ]
  },
  {
   "cell_type": "code",
   "execution_count": null,
   "id": "f63dacc2",
   "metadata": {},
   "outputs": [],
   "source": [
    "messy_names.str.replace(\";\",\"\").str.strip().str.capitalize()"
   ]
  },
  {
   "cell_type": "markdown",
   "id": "a98d85e9",
   "metadata": {},
   "source": [
    "## Alternative with Custom apply() call"
   ]
  },
  {
   "cell_type": "code",
   "execution_count": null,
   "id": "9c7e0c03",
   "metadata": {},
   "outputs": [],
   "source": [
    "def cleanup(name):\n",
    "    name = name.replace(\";\",\"\")\n",
    "    name = name.strip()\n",
    "    name = name.capitalize()\n",
    "    return name"
   ]
  },
  {
   "cell_type": "code",
   "execution_count": null,
   "id": "7da63f94",
   "metadata": {},
   "outputs": [],
   "source": [
    "messy_names"
   ]
  },
  {
   "cell_type": "code",
   "execution_count": null,
   "id": "496048ee",
   "metadata": {},
   "outputs": [],
   "source": [
    "messy_names.apply(cleanup)"
   ]
  },
  {
   "cell_type": "markdown",
   "id": "985890d6",
   "metadata": {},
   "source": [
    "## Which one is more efficient?"
   ]
  },
  {
   "cell_type": "code",
   "execution_count": null,
   "id": "09121ffd",
   "metadata": {},
   "outputs": [],
   "source": [
    "import timeit \n",
    "  \n",
    "# code snippet to be executed only once \n",
    "setup = '''\n",
    "import pandas as pd\n",
    "import numpy as np\n",
    "messy_names = pd.Series([\"andrew  \",\"bo;bo\",\"  claire  \"])\n",
    "def cleanup(name):\n",
    "    name = name.replace(\";\",\"\")\n",
    "    name = name.strip()\n",
    "    name = name.capitalize()\n",
    "    return name\n",
    "'''\n",
    "  \n",
    "# code snippet whose execution time is to be measured \n",
    "stmt_pandas_str = ''' \n",
    "messy_names.str.replace(\";\",\"\").str.strip().str.capitalize()\n",
    "'''\n",
    "\n",
    "stmt_pandas_apply = '''\n",
    "messy_names.apply(cleanup)\n",
    "'''\n",
    "\n",
    "stmt_pandas_vectorize='''\n",
    "np.vectorize(cleanup)(messy_names)\n",
    "'''"
   ]
  },
  {
   "cell_type": "code",
   "execution_count": null,
   "id": "ed234f5e",
   "metadata": {},
   "outputs": [],
   "source": [
    "timeit.timeit(setup = setup, \n",
    "                    stmt = stmt_pandas_str, \n",
    "                    number = 10000)"
   ]
  },
  {
   "cell_type": "code",
   "execution_count": null,
   "id": "7cc1b568",
   "metadata": {},
   "outputs": [],
   "source": [
    "timeit.timeit(setup = setup, \n",
    "                    stmt = stmt_pandas_apply, \n",
    "                    number = 10000)"
   ]
  },
  {
   "cell_type": "code",
   "execution_count": null,
   "id": "19c03695",
   "metadata": {},
   "outputs": [],
   "source": [
    "timeit.timeit(setup = setup, \n",
    "                    stmt = stmt_pandas_vectorize, \n",
    "                    number = 10000) "
   ]
  },
  {
   "cell_type": "markdown",
   "id": "039095b0",
   "metadata": {},
   "source": [
    "Wow! While .str() methods can be extremely convienent, when it comes to performance, don't forget about np.vectorize()! Review the \"Useful Methods\" lecture for a deeper discussion on np.vectorize()"
   ]
  },
  {
   "cell_type": "markdown",
   "id": "7503072c",
   "metadata": {},
   "source": [
    "# Time Methods"
   ]
  },
  {
   "cell_type": "markdown",
   "id": "a47a2f2c",
   "metadata": {},
   "source": [
    "## Python Datetime Review\n",
    "\n",
    "Basic Python outside of Pandas contains a datetime library:"
   ]
  },
  {
   "cell_type": "code",
   "execution_count": null,
   "id": "bb373b70",
   "metadata": {},
   "outputs": [],
   "source": [
    "from datetime import datetime"
   ]
  },
  {
   "cell_type": "code",
   "execution_count": null,
   "id": "6d8ed5c1",
   "metadata": {},
   "outputs": [],
   "source": [
    "# To illustrate the order of arguments\n",
    "my_year = 2017\n",
    "my_month = 1\n",
    "my_day = 2\n",
    "my_hour = 13\n",
    "my_minute = 30\n",
    "my_second = 15"
   ]
  },
  {
   "cell_type": "code",
   "execution_count": null,
   "id": "749846dc",
   "metadata": {},
   "outputs": [],
   "source": [
    "# January 2nd, 2017\n",
    "my_date = datetime(my_year,my_month,my_day)"
   ]
  },
  {
   "cell_type": "code",
   "execution_count": null,
   "id": "87263b99",
   "metadata": {},
   "outputs": [],
   "source": [
    "print(my_date)"
   ]
  },
  {
   "cell_type": "code",
   "execution_count": null,
   "id": "65fd3eea",
   "metadata": {},
   "outputs": [],
   "source": [
    "# January 2nd, 2017 at 13:30:15\n",
    "my_date_time = datetime(my_year,my_month,my_day,my_hour,my_minute,my_second)"
   ]
  },
  {
   "cell_type": "code",
   "execution_count": null,
   "id": "cb523310",
   "metadata": {},
   "outputs": [],
   "source": [
    "print(my_date_time)"
   ]
  },
  {
   "cell_type": "markdown",
   "id": "acbcd9fb",
   "metadata": {},
   "source": [
    "You can grab any part of the datetime object you want"
   ]
  },
  {
   "cell_type": "code",
   "execution_count": null,
   "id": "596d0044",
   "metadata": {},
   "outputs": [],
   "source": [
    "my_date.day"
   ]
  },
  {
   "cell_type": "code",
   "execution_count": null,
   "id": "d5554f86",
   "metadata": {},
   "outputs": [],
   "source": [
    "my_date_time.hour"
   ]
  },
  {
   "cell_type": "markdown",
   "id": "6301f814",
   "metadata": {},
   "source": [
    "# Pandas\n",
    "\n",
    "# Converting to datetime\n",
    "\n",
    "Often when data sets are stored, the time component may be a string. Pandas easily converts strings to datetime objects."
   ]
  },
  {
   "cell_type": "code",
   "execution_count": null,
   "id": "d7f85dab",
   "metadata": {},
   "outputs": [],
   "source": [
    "myser = series(['Nov 3, 2000', '2000-01-01', None]) # converting 1D list to 1D series"
   ]
  },
  {
   "cell_type": "code",
   "execution_count": null,
   "id": "1ca66363",
   "metadata": {},
   "outputs": [],
   "source": [
    "myser"
   ]
  },
  {
   "cell_type": "code",
   "execution_count": null,
   "id": "2aa83b47",
   "metadata": {},
   "outputs": [],
   "source": [
    "myser[0]"
   ]
  },
  {
   "cell_type": "markdown",
   "id": "4edf637c",
   "metadata": {},
   "source": [
    "### pd.to_datetime()\n",
    "\n",
    "https://pandas.pydata.org/pandas-docs/stable/user_guide/timeseries.html#converting-to-timestamps"
   ]
  },
  {
   "cell_type": "code",
   "execution_count": null,
   "id": "6bdb5ef0",
   "metadata": {},
   "outputs": [],
   "source": [
    "from pandas import to_datetime\n",
    "to_datetime(myser)"
   ]
  },
  {
   "cell_type": "code",
   "execution_count": null,
   "id": "4d211de3",
   "metadata": {},
   "outputs": [],
   "source": [
    "to_datetime(myser)[[0]]"
   ]
  },
  {
   "cell_type": "code",
   "execution_count": null,
   "id": "9916a493",
   "metadata": {},
   "outputs": [],
   "source": [
    "obvi_euro_date = '31-12-2000'"
   ]
  },
  {
   "cell_type": "code",
   "execution_count": null,
   "id": "b90bd61f",
   "metadata": {},
   "outputs": [],
   "source": [
    "to_datetime(obvi_euro_date) "
   ]
  },
  {
   "cell_type": "code",
   "execution_count": null,
   "id": "b3fb2911",
   "metadata": {},
   "outputs": [],
   "source": [
    "# 10th of Dec OR 12th of October?\n",
    "# We may need to tell pandas\n",
    "euro_date = '10-12-2000'"
   ]
  },
  {
   "cell_type": "code",
   "execution_count": null,
   "id": "c906911b",
   "metadata": {},
   "outputs": [],
   "source": [
    "to_datetime(euro_date) "
   ]
  },
  {
   "cell_type": "code",
   "execution_count": null,
   "id": "d8a8cfee",
   "metadata": {},
   "outputs": [],
   "source": [
    "to_datetime(euro_date,dayfirst=True) "
   ]
  },
  {
   "cell_type": "markdown",
   "id": "9ceb0a7f",
   "metadata": {},
   "source": [
    "## Custom Time String Formatting\n",
    "\n",
    "Sometimes dates can have a non standard format, luckily you can always specify to pandas the format. You should also note this could speed up the conversion, so it may be worth doing even if pandas can parse on its own."
   ]
  },
  {
   "cell_type": "markdown",
   "id": "de68632c",
   "metadata": {},
   "source": [
    "A full table of codes can be found here: https://docs.python.org/3/library/datetime.html#strftime-and-strptime-format-codes"
   ]
  },
  {
   "cell_type": "code",
   "execution_count": null,
   "id": "07df165b",
   "metadata": {},
   "outputs": [],
   "source": [
    "style_date = '12--Dec--2000'"
   ]
  },
  {
   "cell_type": "code",
   "execution_count": null,
   "id": "4ada10f1",
   "metadata": {},
   "outputs": [],
   "source": [
    "to_datetime(style_date, format='%d--%b--%Y')"
   ]
  },
  {
   "cell_type": "code",
   "execution_count": null,
   "id": "d45ced93",
   "metadata": {},
   "outputs": [],
   "source": [
    "strange_date = '12th of Dec 2000'"
   ]
  },
  {
   "cell_type": "code",
   "execution_count": null,
   "id": "2e3eec6e",
   "metadata": {},
   "outputs": [],
   "source": [
    "to_datetime(strange_date)"
   ]
  },
  {
   "cell_type": "markdown",
   "id": "cf5ef676",
   "metadata": {},
   "source": [
    "## Data\n",
    "\n",
    "Retail Sales: Beer, Wine, and Liquor Stores\n",
    "\n",
    "Units:  Millions of Dollars, Not Seasonally Adjusted\n",
    "\n",
    "Frequency:  Monthly\n",
    "\n",
    "\n",
    "U.S. Census Bureau, Retail Sales: Beer, Wine, and Liquor Stores [MRTSSM4453USN], retrieved from FRED, Federal Reserve Bank of St. Louis; https://fred.stlouisfed.org/series/MRTSSM4453USN, July 2, 2020."
   ]
  },
  {
   "cell_type": "code",
   "execution_count": null,
   "id": "a8ecf1c6",
   "metadata": {},
   "outputs": [],
   "source": [
    "sales = read_csv('RetailSales_BeerWineLiquor.csv')"
   ]
  },
  {
   "cell_type": "code",
   "execution_count": null,
   "id": "65e741d7",
   "metadata": {},
   "outputs": [],
   "source": [
    "sales"
   ]
  },
  {
   "cell_type": "code",
   "execution_count": null,
   "id": "36eb3a5f",
   "metadata": {},
   "outputs": [],
   "source": [
    "sales.iloc[0]['DATE']"
   ]
  },
  {
   "cell_type": "code",
   "execution_count": null,
   "id": "85380e20",
   "metadata": {},
   "outputs": [],
   "source": [
    "type(sales.iloc[0]['DATE'])"
   ]
  },
  {
   "cell_type": "code",
   "execution_count": null,
   "id": "2447cf01",
   "metadata": {},
   "outputs": [],
   "source": [
    "sales['DATE'] = to_datetime(sales['DATE'])"
   ]
  },
  {
   "cell_type": "code",
   "execution_count": null,
   "id": "ebb853af",
   "metadata": {},
   "outputs": [],
   "source": [
    "sales"
   ]
  },
  {
   "cell_type": "code",
   "execution_count": null,
   "id": "f032f33a",
   "metadata": {},
   "outputs": [],
   "source": [
    "sales.iloc[0]['DATE']"
   ]
  },
  {
   "cell_type": "code",
   "execution_count": null,
   "id": "697c80a2",
   "metadata": {},
   "outputs": [],
   "source": [
    "type(sales.iloc[0]['DATE'])"
   ]
  },
  {
   "cell_type": "markdown",
   "id": "0bda4662",
   "metadata": {},
   "source": [
    "## Attempt to Parse Dates Automatically\n",
    "\n",
    "**parse_dates** - bool or list of int or names or list of lists or dict, default False\n",
    "The behavior is as follows:\n",
    "\n",
    "    boolean. If True -> try parsing the index.\n",
    "\n",
    "    list of int or names. e.g. If [1, 2, 3] -> try parsing columns 1, 2, 3 each as a separate date column.\n",
    "\n",
    "    list of lists. e.g. If [[1, 3]] -> combine columns 1 and 3 and parse as a single date column.\n",
    "\n",
    "    dict, e.g. {‘foo’ : [1, 3]} -> parse columns 1, 3 as date and call result ‘foo’\n",
    "\n",
    "    If a column or index cannot be represented as an array of datetimes, say because of an unparseable value or a mixture of timezones, the column or index will be returned unaltered as an object data type. For non-standard datetime parsing, use pd.to_datetime after pd.read_csv. To parse an index or column with a mixture of timezones, specify date_parser to be a partially-applied pandas.to_datetime() with utc=True. See Parsing a CSV with mixed timezones for more."
   ]
  },
  {
   "cell_type": "code",
   "execution_count": null,
   "id": "a433f211",
   "metadata": {},
   "outputs": [],
   "source": [
    "# Parse Column at Index 0 as Datetime\n",
    "sales = read_csv('RetailSales_BeerWineLiquor.csv',parse_dates=[0])"
   ]
  },
  {
   "cell_type": "code",
   "execution_count": null,
   "id": "5889662f",
   "metadata": {},
   "outputs": [],
   "source": [
    "sales"
   ]
  },
  {
   "cell_type": "code",
   "execution_count": null,
   "id": "bba5e0e9",
   "metadata": {},
   "outputs": [],
   "source": [
    "type(sales.iloc[0]['DATE'])"
   ]
  },
  {
   "cell_type": "markdown",
   "id": "080651bd",
   "metadata": {},
   "source": [
    "## Resample"
   ]
  },
  {
   "cell_type": "markdown",
   "id": "40def9d2",
   "metadata": {},
   "source": [
    "A common operation with time series data is resampling based on the time series index. Let's see how to use the resample() method. [[reference](https://pandas.pydata.org/pandas-docs/stable/generated/pandas.DataFrame.resample.html)]"
   ]
  },
  {
   "cell_type": "code",
   "execution_count": null,
   "id": "864d3739",
   "metadata": {},
   "outputs": [],
   "source": [
    "# Our index\n",
    "sales.index"
   ]
  },
  {
   "cell_type": "code",
   "execution_count": null,
   "id": "7126fdfd",
   "metadata": {},
   "outputs": [],
   "source": [
    "# Reset DATE to index"
   ]
  },
  {
   "cell_type": "code",
   "execution_count": null,
   "id": "ebf4d086",
   "metadata": {},
   "outputs": [],
   "source": [
    "sales = sales.set_index(\"DATE\")"
   ]
  },
  {
   "cell_type": "code",
   "execution_count": null,
   "id": "d2732552",
   "metadata": {},
   "outputs": [],
   "source": [
    "sales"
   ]
  },
  {
   "cell_type": "markdown",
   "id": "0f0e1f7b",
   "metadata": {},
   "source": [
    "When calling `.resample()` you first need to pass in a **rule** parameter, then you need to call some sort of aggregation function.\n",
    "\n",
    "The **rule** parameter describes the frequency with which to apply the aggregation function (daily, monthly, yearly, etc.)<br>\n",
    "It is passed in using an \"offset alias\" - refer to the table below. [[reference](http://pandas.pydata.org/pandas-docs/stable/user_guide/timeseries.html#offset-aliases)]\n",
    "\n",
    "The aggregation function is needed because, due to resampling, we need some sort of mathematical rule to join the rows (mean, sum, count, etc.)"
   ]
  },
  {
   "cell_type": "markdown",
   "id": "d21950bf",
   "metadata": {},
   "source": [
    "<table style=\"display: inline-block\">\n",
    "    <caption style=\"text-align: center\"><strong>TIME SERIES OFFSET ALIASES</strong></caption>\n",
    "<tr><th>ALIAS</th><th>DESCRIPTION</th></tr>\n",
    "<tr><td>B</td><td>business day frequency</td></tr>\n",
    "<tr><td>C</td><td>custom business day frequency (experimental)</td></tr>\n",
    "<tr><td>D</td><td>calendar day frequency</td></tr>\n",
    "<tr><td>W</td><td>weekly frequency</td></tr>\n",
    "<tr><td>M</td><td>month end frequency</td></tr>\n",
    "<tr><td>SM</td><td>semi-month end frequency (15th and end of month)</td></tr>\n",
    "<tr><td>BM</td><td>business month end frequency</td></tr>\n",
    "<tr><td>CBM</td><td>custom business month end frequency</td></tr>\n",
    "<tr><td>MS</td><td>month start frequency</td></tr>\n",
    "<tr><td>SMS</td><td>semi-month start frequency (1st and 15th)</td></tr>\n",
    "<tr><td>BMS</td><td>business month start frequency</td></tr>\n",
    "<tr><td>CBMS</td><td>custom business month start frequency</td></tr>\n",
    "<tr><td>Q</td><td>quarter end frequency</td></tr>\n",
    "<tr><td></td><td><font color=white>intentionally left blank</font></td></tr></table>\n",
    "\n",
    "<table style=\"display: inline-block; margin-left: 40px\">\n",
    "<caption style=\"text-align: center\"></caption>\n",
    "<tr><th>ALIAS</th><th>DESCRIPTION</th></tr>\n",
    "<tr><td>BQ</td><td>business quarter endfrequency</td></tr>\n",
    "<tr><td>QS</td><td>quarter start frequency</td></tr>\n",
    "<tr><td>BQS</td><td>business quarter start frequency</td></tr>\n",
    "<tr><td>A</td><td>year end frequency</td></tr>\n",
    "<tr><td>BA</td><td>business year end frequency</td></tr>\n",
    "<tr><td>AS</td><td>year start frequency</td></tr>\n",
    "<tr><td>BAS</td><td>business year start frequency</td></tr>\n",
    "<tr><td>BH</td><td>business hour frequency</td></tr>\n",
    "<tr><td>H</td><td>hourly frequency</td></tr>\n",
    "<tr><td>T, min</td><td>minutely frequency</td></tr>\n",
    "<tr><td>S</td><td>secondly frequency</td></tr>\n",
    "<tr><td>L, ms</td><td>milliseconds</td></tr>\n",
    "<tr><td>U, us</td><td>microseconds</td></tr>\n",
    "<tr><td>N</td><td>nanoseconds</td></tr></table>"
   ]
  },
  {
   "cell_type": "code",
   "execution_count": null,
   "id": "21c9ed60",
   "metadata": {},
   "outputs": [],
   "source": [
    "# Yearly Means\n",
    "sales.resample(rule='A').mean()"
   ]
  },
  {
   "cell_type": "markdown",
   "id": "3a9ff86e",
   "metadata": {},
   "source": [
    "Resampling rule 'A' takes all of the data points in a given year, applies the aggregation function (in this case we calculate the mean), and reports the result as the last day of that year. Note 2020 in this data set was not complete."
   ]
  },
  {
   "cell_type": "markdown",
   "id": "ece2fd6b",
   "metadata": {},
   "source": [
    "# .dt Method Calls\n",
    "\n",
    "Once a column or index is ina  datetime format, you can call a variety of methods off of the .dt library inside pandas:\n",
    "\n",
    "https://pandas.pydata.org/pandas-docs/stable/reference/api/pandas.Series.dt.html"
   ]
  },
  {
   "cell_type": "code",
   "execution_count": null,
   "id": "d1e1149f",
   "metadata": {},
   "outputs": [],
   "source": [
    "sales = sales.reset_index()"
   ]
  },
  {
   "cell_type": "code",
   "execution_count": null,
   "id": "c7d12210",
   "metadata": {},
   "outputs": [],
   "source": [
    "sales"
   ]
  },
  {
   "cell_type": "code",
   "execution_count": null,
   "id": "d8ecf243",
   "metadata": {},
   "outputs": [],
   "source": [
    "help(sales['DATE'].dt)"
   ]
  },
  {
   "cell_type": "code",
   "execution_count": null,
   "id": "f3df40f3",
   "metadata": {},
   "outputs": [],
   "source": [
    "sales['DATE'].dt.month"
   ]
  },
  {
   "cell_type": "code",
   "execution_count": null,
   "id": "83ed6258",
   "metadata": {},
   "outputs": [],
   "source": [
    "sales['DATE'].dt.is_leap_year"
   ]
  },
  {
   "cell_type": "markdown",
   "id": "5eb1709f",
   "metadata": {},
   "source": [
    "# Inputs and Outputs\n",
    "\n",
    "**NOTE: Typically we will just be either reading csv files directly or using pandas-datareader to pull data from the web. Consider this lecture just a quick overview of what is possible with pandas (we won't be working with SQL or Excel files in this course)**"
   ]
  },
  {
   "cell_type": "markdown",
   "id": "c4cf1da5",
   "metadata": {},
   "source": [
    "## Data Input and Output\n",
    "\n",
    "This notebook is the reference code for getting input and output, pandas can read a variety of file types using its pd.read_ methods. Let's take a look at the most common data types:"
   ]
  },
  {
   "cell_type": "markdown",
   "id": "d4352e77",
   "metadata": {},
   "source": [
    "## Check out the references here! \n",
    "\n",
    "**This is the best online resource for how to read/write to a variety of data sources!**\n",
    "\n",
    "https://pandas.pydata.org/pandas-docs/stable/user_guide/io.html\n",
    "\n",
    "----\n",
    "----"
   ]
  },
  {
   "cell_type": "markdown",
   "id": "611b84cd",
   "metadata": {},
   "source": [
    "# Reading in a  CSV\n",
    "Comma Separated Values files are text files that use commas as field delimeters.<br>\n",
    "Unless you're running the virtual environment included with the course, you may need to install <tt>xlrd</tt> and <tt>openpyxl</tt>.<br>\n",
    "In your terminal/command prompt run:\n",
    "\n",
    "    conda install xlrd\n",
    "    conda install openpyxl\n",
    "\n",
    "Then restart Jupyter Notebook.\n",
    "(or use pip install if you aren't using the Anaconda Distribution)\n",
    "\n",
    "## Understanding File Paths\n",
    "\n",
    "You have two options when reading a file with pandas:\n",
    "\n",
    "1. If your .py file or .ipynb notebook is located in the **exact** same folder location as the .csv file you want to read, simply pass in the file name as a string, for example:\n",
    "    \n",
    "        df = pd.read_csv('some_file.csv')\n",
    "        \n",
    "2. Pass in the entire file path if you are located in a different directory. The file path must be 100% correct in order for this to work. For example:\n",
    "\n",
    "        df = pd.read_csv(\"C:\\\\Users\\\\myself\\\\files\\\\some_file.csv\")"
   ]
  },
  {
   "cell_type": "markdown",
   "id": "a8cb0ea3",
   "metadata": {},
   "source": [
    "#### Print your current directory file path with pwd"
   ]
  },
  {
   "cell_type": "code",
   "execution_count": null,
   "id": "81c7edf0",
   "metadata": {},
   "outputs": [],
   "source": [
    "pwd"
   ]
  },
  {
   "cell_type": "markdown",
   "id": "c42af6df",
   "metadata": {},
   "source": [
    "#### List the files in your current directory with ls"
   ]
  },
  {
   "cell_type": "code",
   "execution_count": null,
   "id": "a7c1b3e9",
   "metadata": {},
   "outputs": [],
   "source": [
    "ls"
   ]
  },
  {
   "cell_type": "markdown",
   "id": "fb6b8799",
   "metadata": {},
   "source": [
    "-----\n",
    "#### NOTE! Common confusion point! Take note that all read input methods are called directly from pandas with pd.read_  , all output methods are called directly off the dataframe with df.to_\n",
    "\n",
    "-------"
   ]
  },
  {
   "cell_type": "code",
   "execution_count": null,
   "id": "ce74ec32",
   "metadata": {},
   "outputs": [],
   "source": [
    "import os"
   ]
  },
  {
   "cell_type": "code",
   "execution_count": null,
   "id": "a97786eb",
   "metadata": {},
   "outputs": [],
   "source": [
    "os.getcwd()"
   ]
  },
  {
   "cell_type": "markdown",
   "id": "efda0d6c",
   "metadata": {},
   "source": [
    "### CSV Input"
   ]
  },
  {
   "cell_type": "code",
   "execution_count": null,
   "id": "d7d827d6",
   "metadata": {},
   "outputs": [],
   "source": [
    "df = read_csv('example.csv')\n",
    "df"
   ]
  },
  {
   "cell_type": "code",
   "execution_count": null,
   "id": "ad916e56",
   "metadata": {},
   "outputs": [],
   "source": [
    "df.index"
   ]
  },
  {
   "cell_type": "code",
   "execution_count": null,
   "id": "10e66952",
   "metadata": {},
   "outputs": [],
   "source": [
    "df.columns"
   ]
  },
  {
   "cell_type": "code",
   "execution_count": null,
   "id": "decb3cc4",
   "metadata": {},
   "outputs": [],
   "source": [
    "df.keys()"
   ]
  },
  {
   "cell_type": "code",
   "execution_count": null,
   "id": "7c63aae8",
   "metadata": {},
   "outputs": [],
   "source": [
    "read_csv('example.csv', header=None)"
   ]
  },
  {
   "cell_type": "code",
   "execution_count": null,
   "id": "11b7767a",
   "metadata": {},
   "outputs": [],
   "source": [
    "read_csv('example.csv', index_col=0)"
   ]
  },
  {
   "cell_type": "code",
   "execution_count": null,
   "id": "102dc6a8",
   "metadata": {},
   "outputs": [],
   "source": [
    "read_csv('example.csv').set_index('a').index"
   ]
  },
  {
   "cell_type": "code",
   "execution_count": null,
   "id": "a583d808",
   "metadata": {},
   "outputs": [],
   "source": [
    "read_csv('example.csv').set_index('a').keys()"
   ]
  },
  {
   "cell_type": "code",
   "execution_count": null,
   "id": "bef36e98",
   "metadata": {},
   "outputs": [],
   "source": [
    "read_csv('example.csv').set_index('a').columns"
   ]
  },
  {
   "cell_type": "markdown",
   "id": "3588e0e5",
   "metadata": {},
   "source": [
    "### CSV Output\n",
    "\n",
    "Set index=False if you do not want to save the index , otherwise it will add a new column to the .csv file that includes your index and call it \"Unnamed: 0\" if your index did not have a name. If you do want to save your index, simply set it to True (the default value)."
   ]
  },
  {
   "cell_type": "code",
   "execution_count": null,
   "id": "ee57bf6a",
   "metadata": {},
   "outputs": [],
   "source": [
    "df.to_csv('new_file.csv',index=False)"
   ]
  },
  {
   "cell_type": "markdown",
   "id": "e6f9ef8c",
   "metadata": {},
   "source": [
    "## HTML\n",
    "\n",
    "Pandas can read table tabs off of HTML. This only works if your firewall isn't blocking pandas from accessing the internet!\n",
    "\n",
    "Unless you're running the virtual environment included with the course, you may need to install <tt>lxml</tt>, <tt>htmllib5</tt>, and <tt>BeautifulSoup4</tt>.<br>\n",
    "In your terminal/command prompt run:\n",
    "\n",
    "    conda install lxml\n",
    "    \n",
    "    or\n",
    "    \n",
    "    pip install lxml\n",
    "    \n",
    "Then restart Jupyter Notebook (you may need to restart your computer).\n",
    "(or use pip install if you aren't using the Anaconda Distribution)"
   ]
  },
  {
   "cell_type": "markdown",
   "id": "1a911962",
   "metadata": {},
   "source": [
    "## read_html\n",
    "\n",
    "### HTML Input\n",
    "\n",
    "Pandas read_html function will read tables off of a webpage and return a list of DataFrame objects. NOTE: This only works with well defined <table> objects in the html on the page, this can not magically read in tables that are images on a page."
   ]
  },
  {
   "cell_type": "code",
   "execution_count": null,
   "id": "7a754086",
   "metadata": {},
   "outputs": [],
   "source": [
    "from pandas import read_html\n",
    "tables = read_html('https://en.wikipedia.org/wiki/World_population')"
   ]
  },
  {
   "cell_type": "code",
   "execution_count": null,
   "id": "6cae1deb",
   "metadata": {},
   "outputs": [],
   "source": [
    "len(tables) #tables"
   ]
  },
  {
   "cell_type": "markdown",
   "id": "fac4cd21",
   "metadata": {},
   "source": [
    "### Not Useful Tables\n",
    "Pandas found 26 tables on that page. Some are not useful:"
   ]
  },
  {
   "cell_type": "code",
   "execution_count": null,
   "id": "82eb809c",
   "metadata": {},
   "outputs": [],
   "source": [
    "tables[0]"
   ]
  },
  {
   "cell_type": "code",
   "execution_count": null,
   "id": "07bbf96a",
   "metadata": {},
   "outputs": [],
   "source": [
    "from pandas import pivot, pivot_table"
   ]
  },
  {
   "cell_type": "markdown",
   "id": "cc2f3d6e",
   "metadata": {},
   "source": [
    "# Pivot Tables\n",
    "\n",
    "Pivoting data can sometimes help clarify relationships and connections.\n",
    "\n",
    "Full documentation on a variety of related pivot methods: https://pandas.pydata.org/docs/user_guide/reshaping.html\n",
    "\n",
    "## Data"
   ]
  },
  {
   "cell_type": "code",
   "execution_count": null,
   "id": "3d90cb25",
   "metadata": {},
   "outputs": [],
   "source": [
    "sales = read_csv('Sales_Funnel_CRM.csv')\n",
    "sales"
   ]
  },
  {
   "cell_type": "markdown",
   "id": "6d38f7a7",
   "metadata": {},
   "source": [
    "# The pivot() method\n",
    "\n",
    "The pivot method reshapes data based on column values and reassignment of the index. Keep in mind, it doesn't always make sense to pivot data. In our machine learning lessons, we will see that our data doesn't need to be pivoted. Pivot methods are mainly for data analysis,visualization, and exploration.\n",
    "\n",
    "----\n",
    "\n",
    "Here is an image showing the idea behind a pivot() call:\n",
    "\n",
    "<img src='reshaping_pivot.png'>"
   ]
  },
  {
   "cell_type": "code",
   "execution_count": null,
   "id": "3417c56a",
   "metadata": {},
   "outputs": [],
   "source": [
    "help(pivot)"
   ]
  },
  {
   "cell_type": "markdown",
   "id": "0841dd5c",
   "metadata": {},
   "source": [
    "----\n",
    "#### Note: Common Point of Confusion: Students often just randomly pass in index,column, and value choices in an attempt to see the changes. This often just leads to formatting errors. You should first go through this checklist BEFORE running a pivot():\n",
    "\n",
    "* What question are you trying to answer?\n",
    "* What would a dataframe that answers the question look like? Does it need a pivot()\n",
    "* What you want the resulting pivot to look like? Do you need all the original columns?\n",
    "\n",
    "-----"
   ]
  },
  {
   "cell_type": "markdown",
   "id": "86dcd61b",
   "metadata": {},
   "source": [
    "--------\n",
    "** What type of question does a pivot help answer?**\n",
    "\n",
    "**Imagine we wanted to know, how many licenses of each product type did Google purchase? Currently the way the data is formatted is hard to read. Let's pivot it so this is clearer, we will take a subset of the data for the question at hand.**"
   ]
  },
  {
   "cell_type": "code",
   "execution_count": null,
   "id": "9705abd3",
   "metadata": {},
   "outputs": [],
   "source": [
    "# Let's take a subset, otherwise we'll get an error due to duplicate rows and data\n",
    "licenses = sales[['Company','Product','Licenses']]\n",
    "licenses"
   ]
  },
  {
   "cell_type": "code",
   "execution_count": null,
   "id": "9abb4580",
   "metadata": {},
   "outputs": [],
   "source": [
    "pivot(data=licenses,index='Company',columns='Product',values='Licenses')"
   ]
  },
  {
   "cell_type": "markdown",
   "id": "48d06f9d",
   "metadata": {},
   "source": [
    "## The pivot_table() method\n",
    "\n",
    "Similar to the pivot() method, the pivot_table() can add aggregation functions to a pivot call."
   ]
  },
  {
   "cell_type": "code",
   "execution_count": null,
   "id": "6974d84c",
   "metadata": {},
   "outputs": [],
   "source": [
    "# Notice Account Number sum() doesn't make sense to keep/use\n",
    "pivot_table(data=sales, index=\"Company\", aggfunc='sum')"
   ]
  },
  {
   "cell_type": "code",
   "execution_count": null,
   "id": "63e2f045",
   "metadata": {},
   "outputs": [],
   "source": [
    "# Either grab the columns\n",
    "pivot_table(data=sales,index=\"Company\",aggfunc='sum')[['Licenses','Sale Price']]"
   ]
  },
  {
   "cell_type": "code",
   "execution_count": null,
   "id": "35b261ff",
   "metadata": {},
   "outputs": [],
   "source": [
    "# Or state them as wanted values\n",
    "pivot_table(data=sales, index=\"Company\", aggfunc='sum', values=['Licenses','Sale Price'])"
   ]
  },
  {
   "cell_type": "code",
   "execution_count": null,
   "id": "d5e899b9",
   "metadata": {},
   "outputs": [],
   "source": [
    "sales.groupby('Company').sum()[['Licenses','Sale Price']]"
   ]
  },
  {
   "cell_type": "code",
   "execution_count": null,
   "id": "621ea066",
   "metadata": {},
   "outputs": [],
   "source": [
    "pivot_table(data=sales,index=[\"Account Manager\",\"Contact\"],values=['Sale Price'],aggfunc='sum')"
   ]
  },
  {
   "cell_type": "markdown",
   "id": "8621bd82",
   "metadata": {},
   "source": [
    "Columns are optional - they provide an additional way to segment the actual values you care about. The aggregation functions are applied to the values you list."
   ]
  },
  {
   "cell_type": "code",
   "execution_count": null,
   "id": "9d5f53da",
   "metadata": {},
   "outputs": [],
   "source": [
    "pivot_table(data=sales,index=[\"Account Manager\",\"Contact\"],values=[\"Sale Price\"],columns=[\"Product\"],aggfunc=[sum])"
   ]
  },
  {
   "cell_type": "code",
   "execution_count": null,
   "id": "a201a4ca",
   "metadata": {},
   "outputs": [],
   "source": [
    "pivot_table(data=sales,index=[\"Account Manager\",\"Contact\"],values=[\"Sale Price\"],columns=[\"Product\"],aggfunc=[sum],fill_value=0)"
   ]
  },
  {
   "cell_type": "code",
   "execution_count": null,
   "id": "ec9bb301",
   "metadata": {},
   "outputs": [],
   "source": [
    "# Can add multiple agg functions\n",
    "from statistics import mean\n",
    "pivot_table(data=sales,index=[\"Account Manager\",\"Contact\"],values=[\"Sale Price\"],columns=[\"Product\"],\n",
    "               aggfunc=[sum, mean], fill_value=0)"
   ]
  },
  {
   "cell_type": "code",
   "execution_count": null,
   "id": "d6cac95c",
   "metadata": {},
   "outputs": [],
   "source": [
    "# Can add on multiple columns\n",
    "pivot_table(data=sales,index=[\"Account Manager\",\"Contact\",\"Product\"],values=[\"Sale Price\",\"Licenses\"],\n",
    "               aggfunc=[sum],fill_value=0)"
   ]
  },
  {
   "cell_type": "code",
   "execution_count": null,
   "id": "13d19138",
   "metadata": {},
   "outputs": [],
   "source": [
    "# get Final \"ALL\" with margins = True\n",
    "# Can add on multiple columns\n",
    "pivot_table(data=sales,index=[\"Account Manager\",\"Contact\",\"Product\"],values=[\"Sale Price\",\"Licenses\"],\n",
    "               aggfunc=[sum],fill_value=0,margins=True)"
   ]
  },
  {
   "cell_type": "code",
   "execution_count": null,
   "id": "771fc253",
   "metadata": {},
   "outputs": [],
   "source": [
    "pivot_table(data=sales,index=[\"Account Manager\",\"Status\"],values=[\"Sale Price\"],\n",
    "               aggfunc=[sum],fill_value=0,margins=True)"
   ]
  },
  {
   "cell_type": "code",
   "execution_count": null,
   "id": "e4368285",
   "metadata": {},
   "outputs": [],
   "source": []
  }
 ],
 "metadata": {
  "kernelspec": {
   "display_name": "Python 3 (ipykernel)",
   "language": "python",
   "name": "python3"
  },
  "language_info": {
   "codemirror_mode": {
    "name": "ipython",
    "version": 3
   },
   "file_extension": ".py",
   "mimetype": "text/x-python",
   "name": "python",
   "nbconvert_exporter": "python",
   "pygments_lexer": "ipython3",
   "version": "3.9.12"
  },
  "toc": {
   "base_numbering": 1,
   "nav_menu": {},
   "number_sections": true,
   "sideBar": true,
   "skip_h1_title": false,
   "title_cell": "Table of Contents",
   "title_sidebar": "Contents",
   "toc_cell": true,
   "toc_position": {
    "height": "calc(100% - 180px)",
    "left": "10px",
    "top": "150px",
    "width": "303.825px"
   },
   "toc_section_display": true,
   "toc_window_display": false
  }
 },
 "nbformat": 4,
 "nbformat_minor": 5
}
