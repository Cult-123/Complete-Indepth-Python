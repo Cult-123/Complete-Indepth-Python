{
 "cells": [
  {
   "cell_type": "markdown",
   "metadata": {
    "toc": true
   },
   "source": [
    "<h1>Table of Contents (Everything in Python is an Object)<span class=\"tocSkip\"></span></h1>\n",
    "<div class=\"toc\"><ul class=\"toc-item\"><li><span><a href=\"#Variables-&amp;-Data-Types-In-Python\" data-toc-modified-id=\"Variables-&amp;-Data-Types-In-Python-1\"><span class=\"toc-item-num\">1&nbsp;&nbsp;</span>Variables &amp; Data Types In Python</a></span><ul class=\"toc-item\"><li><span><a href=\"#Data-Types\" data-toc-modified-id=\"Data-Types-1.1\"><span class=\"toc-item-num\">1.1&nbsp;&nbsp;</span>Data Types</a></span><ul class=\"toc-item\"><li><ul class=\"toc-item\"><li><span><a href=\"#You-can-perform-Airthmatic-Operations-between-Numerical-datas-including-Complex-data\" data-toc-modified-id=\"You-can-perform-Airthmatic-Operations-between-Numerical-datas-including-Complex-data-1.1.0.1\"><span class=\"toc-item-num\">1.1.0.1&nbsp;&nbsp;</span>You can perform Airthmatic Operations between Numerical datas including Complex data</a></span></li></ul></li></ul></li><li><span><a href=\"#Data-types-Conversion\" data-toc-modified-id=\"Data-types-Conversion-1.2\"><span class=\"toc-item-num\">1.2&nbsp;&nbsp;</span>Data types Conversion</a></span></li></ul></li><li><span><a href=\"#Variables\" data-toc-modified-id=\"Variables-2\"><span class=\"toc-item-num\">2&nbsp;&nbsp;</span>Variables</a></span><ul class=\"toc-item\"><li><span><a href=\"#Lists\" data-toc-modified-id=\"Lists-2.1\"><span class=\"toc-item-num\">2.1&nbsp;&nbsp;</span>Lists</a></span><ul class=\"toc-item\"><li><span><a href=\"#Perform-Insert,-Remove-&amp;-Replace-task-at-a-time\" data-toc-modified-id=\"Perform-Insert,-Remove-&amp;-Replace-task-at-a-time-2.1.1\"><span class=\"toc-item-num\">2.1.1&nbsp;&nbsp;</span>Perform Insert, Remove &amp; Replace task at a time</a></span></li></ul></li><li><span><a href=\"#Tuples\" data-toc-modified-id=\"Tuples-2.2\"><span class=\"toc-item-num\">2.2&nbsp;&nbsp;</span>Tuples</a></span></li><li><span><a href=\"#Set\" data-toc-modified-id=\"Set-2.3\"><span class=\"toc-item-num\">2.3&nbsp;&nbsp;</span>Set</a></span></li><li><span><a href=\"#Dictionary\" data-toc-modified-id=\"Dictionary-2.4\"><span class=\"toc-item-num\">2.4&nbsp;&nbsp;</span>Dictionary</a></span></li><li><span><a href=\"#Range\" data-toc-modified-id=\"Range-2.5\"><span class=\"toc-item-num\">2.5&nbsp;&nbsp;</span>Range</a></span></li></ul></li></ul></div>"
   ]
  },
  {
   "cell_type": "markdown",
   "metadata": {},
   "source": [
    "# Variable, Data, Charecter Types & Range In Python"
   ]
  },
  {
   "cell_type": "markdown",
   "metadata": {},
   "source": [
    "## Data Types\n",
    "#### You can perform Airthmatic Operations between Integer, Float, Complex and Boolean data also.\n",
    "1. Integer\n",
    "2. Float\n",
    "3. Complex\n",
    "4. Bool\n",
    "5. Word String\n",
    "6. Int String\n",
    "7. Float String\n",
    "8. Complex String\n",
    "9. None"
   ]
  },
  {
   "cell_type": "code",
   "execution_count": 1,
   "metadata": {},
   "outputs": [
    {
     "name": "stdout",
     "output_type": "stream",
     "text": [
      "10\n",
      "<class 'int'>\n"
     ]
    },
    {
     "data": {
      "text/plain": [
       "10"
      ]
     },
     "execution_count": 1,
     "metadata": {},
     "output_type": "execute_result"
    }
   ],
   "source": [
    "Integer = 10            # Integer variable\n",
    "print(10)               # Expression got calculated & printed by print() command\n",
    "print(type(10))         # Check the type\n",
    "10                      # Last line expression got printed by default"
   ]
  },
  {
   "cell_type": "code",
   "execution_count": 2,
   "metadata": {},
   "outputs": [
    {
     "name": "stdout",
     "output_type": "stream",
     "text": [
      "(44.5+12j)\n",
      "(45.5+22j)\n",
      "0j\n",
      "0j\n",
      "(0.10666666666666667-0.08j)\n",
      "(6+4.5j)\n",
      "81\n",
      "(12+9j)\n",
      "(12+0j)\n",
      "(936+702j) (8-9j) (0.27645333552466145+0.3425391766826218j) (6-7j) (89+9j) (1.3444806027305514+0.4268282812305955j) (-4.526470816370585e+130-4.596458833614331e+130j)\n",
      "(3-4.6j)\n",
      "(0.004936666705797526+0.006116771012189675j)\n",
      "(936+702j)\n",
      "(936+702j) (936+702j) (1.4267857142857143-1.7678571428571428j) (0.27645333552466145+0.3425391766826218j)\n",
      "(0.27645333552466145+0.3425391766826218j)\n",
      "(0.11538461538461539+0.07692307692307693j)\n",
      "(13+10j)\n"
     ]
    }
   ],
   "source": [
    "# Airthmatic operations can be performed with Integer, Float, Boolean & Complex data types\n",
    "# Plus (+), Minus (-), Multiplication (*), Division (/), Floor Division (//), Remainder (%), Power (**)\n",
    "\n",
    "\n",
    "\n",
    "print((10 + 1j) + (22.5 + 2j) + (False + 0j) + (12+9j))        # Addition of Integer, Float, Boolean, Complex\n",
    "print((10 + 3j) + (22.5 + 4j) + (True + 6j) + (12+9j))         # Addition of Integer, Float, Boolean, Complex\n",
    "print(0 * (12+9j))                                             # 0 will be multiplied with 12 Real part\n",
    "print((12+9j) * 0)          # 0 will be multiplied with 9j imaginary part\n",
    "print(2 / (12+9j))          # 2 will be divided by 12 Real part\n",
    "print((12+9j) / 2)          # 9j imaginary part will be divided by 2\n",
    "print(9 ** 2)               # 9 square is 81\n",
    "\n",
    "print(10 * 22.5 * False + 12+9j * True)\n",
    "print(10 * 22.5 * False + 12+9j * False)\n",
    "print((12+9j) * 78, True * (8-9j), 56 / (79.9-99j), (8-7j) - 2, (89+7j) + 2j, True / (79.9-99j) * 69.78 + True, (78-6j) ** (69+5j))\n",
    "print(78 // 25-4.6j)      # 78 got floor divided by 25 Real part\n",
    "print(True / (79.9-99j))    # True as 1 got divided by 79.9 Real part\n",
    "print((12+9j) * 78)       # 12 Real part got multiplied by 78 & 9j Imaginary part got multiplied by 78\n",
    "\n",
    "print((12+9j) * 78, (12+9j) * 78, (79.9-99j) / 56, 56 / (79.9-99j))\n",
    "print(56 / (79.9-99j))      # 56 / (79.9 - 99j) = [56 (79.9 + 99j)] / [(79.9 - 99j) (79.9 + 99j)] = (4474.4 + 5544j) / (79.9^2 - (99j)^2)\n",
    "                            #                    = (4474.4 + 5544j) / (79.9^2 - (99j)^2) = (4474.4 + 5544j) / (6384.01 + 9801)\n",
    "                            #                                                            = (4474.4 + 5544j) / (16185.01)\n",
    "                            #                                                            = (4474.4 / 16185.01) + (5544j / 16185.01)\n",
    "                            #                                                            = 0.27645333552466145+0.3425391766826218j\n",
    "\n",
    "print(2 / (12-8j))          # 2 / (12-8j) = [2 (12 + 8j)] / [(12 - 8j) (12 + 8j)] = (24 + 16j) / (12^2 - (8j)^2)\n",
    "                            #                                                     = (24 + 16j) / (144 + 64)\n",
    "                            #                                                     = (24 + 16j) / (208)\n",
    "                            #                                                     = 0.11538461538461539+0.07692307692307693j\n",
    "\n",
    "print((1 + 1j) + (12 + 9j))\n",
    "# print(4.6j // 2) imaginary part is not floor divisible by any number\n",
    "# print(9j % 2) imaginary part is not remainder divisible by any number"
   ]
  },
  {
   "cell_type": "code",
   "execution_count": 3,
   "metadata": {},
   "outputs": [
    {
     "name": "stdout",
     "output_type": "stream",
     "text": [
      "(99.97+7j)\n",
      "20 47 60\n",
      "(90+9j)\n"
     ]
    },
    {
     "data": {
      "text/plain": [
       "(20, 47.0, 60)"
      ]
     },
     "execution_count": 3,
     "metadata": {},
     "output_type": "execute_result"
    }
   ],
   "source": [
    "10 + 44                                  # Expression got calculated but thrown away\n",
    "print(10 + 55.97 + True + (33+7j))        # Expression got calculated & printed by print() command\n",
    "24 + 23                                       # Expression got calculated but thrown away\n",
    "print(10 + 10, 24 + 23, 30 + 30 * True)              # Expression got calculated & printed by print() command\n",
    "print(24 + (66+9j))                          # Expression got calculated & printed by print() command\n",
    "10 + 10, (24 + 23) / True, 30 + 30                     # Last line expression got printed by default\n",
    "                                    # Boolean can perform arithmetic operations also.\n",
    "                                    # True acts as 1 and False acts as 0"
   ]
  },
  {
   "cell_type": "code",
   "execution_count": 4,
   "metadata": {},
   "outputs": [
    {
     "name": "stdout",
     "output_type": "stream",
     "text": [
      "(-18+0j)\n",
      "(-77-36j)\n",
      "(4091.8791304844663-183.68772823922546j)\n",
      "(63+216j)\n"
     ]
    }
   ],
   "source": [
    "print(9j * 2j)          # = 18j^2 = 18 * (-1) = -18\n",
    "print((2-9j) ** 2)      # = 2^2 - 2 * 2 * 9j + (9j)^2 = 4 - 36j + 81j^2 = 4 - 36j + 81(-1) = -77 - 36j\n",
    "print(2 ** (12+9j))     # 2^12 + 9j = 4096 + 9j\n",
    "print((12+9j) ** 2)     # 12^2 + 2 * 12 * 9j + (9j)^2 = 144 + 216j + 81j^2 = 144 + 216j + 81(-1) = 144 - 81 + 216j = 63 + 216j"
   ]
  },
  {
   "cell_type": "code",
   "execution_count": 5,
   "metadata": {},
   "outputs": [
    {
     "name": "stdout",
     "output_type": "stream",
     "text": [
      "(67.89-8j)\n",
      "(6-4j)\n",
      "8\n",
      "(-0.24257327518098384-0.9701330868329204j)\n",
      "(-46656+0j)\n",
      "1\n",
      "0\n"
     ]
    }
   ],
   "source": [
    "print((10 + 45.89 + (12-8j)) / True)     # Numbers got added with the Real part of the Complex number, j = sqrt(-1)\n",
    "                                       # Imaginary part got devided by boolean True as integer value 1\n",
    "\n",
    "print((12-8j) / 2)                     # Both Real & Imaginary part got devided by 2\n",
    "\n",
    "print(2**3)                            # 2 to the power 3\n",
    "\n",
    "print(6**(6j))                         # 6 to the power 6j\n",
    "\n",
    "print((6j)**6)                         # 6j to the power 6 means 6^6 * j^6\n",
    "\n",
    "print(True**6)                        # Boolean can perform arithmetic operations also.\n",
    "                                      # True acts as 1 and False acts as 0\n",
    "\n",
    "print(False**6)"
   ]
  },
  {
   "cell_type": "code",
   "execution_count": 6,
   "metadata": {},
   "outputs": [
    {
     "name": "stdout",
     "output_type": "stream",
     "text": [
      "(-48+16j)\n",
      "\n",
      "(7+4j)\n",
      "\n",
      "(7+17j)\n",
      "\n",
      "(1-16.970562748477143j)\n",
      "\n",
      "(1.9739888359315634-1.7468101635497426j)\n",
      "\n",
      "(-104-34j)\n",
      "\n",
      "(-1.0561797752808988+0.0898876404494382j)\n",
      "\n",
      "(-2.08+0.56j)\n",
      "\n",
      "(-3+68j)\n",
      "\n",
      "(21-4j)\n",
      "\n",
      "(511+320j)\n",
      "\n",
      "(1.959184876257771e+60+2.594847567247802e+59j)\n"
     ]
    }
   ],
   "source": [
    "from math import sqrt\n",
    "\n",
    "print((8+7j) - (56-9j))\n",
    "print()\n",
    "\n",
    "print((3 + 6j) + (4 - 2j))\n",
    "print()\n",
    "\n",
    "print((5 + 8j) + (2 + 9j))\n",
    "print()\n",
    "\n",
    "print((3 - (sqrt(2)*6j)) - (2 + (sqrt(2)*6j)))\n",
    "print()\n",
    "\n",
    "print((3 - (sqrt(2)**6j)) - (2 + (sqrt(2)**6j)))\n",
    "print()\n",
    "\n",
    "print((-8 + 10j) * (3 + 8j))\n",
    "print()\n",
    "\n",
    "print((-8 + 6j) / (8 - 5j))\n",
    "print()\n",
    "\n",
    "print((10 + 4j) / (-4 - 3j))\n",
    "print()\n",
    "\n",
    "print((8 + 7j) * (4 + 5j))\n",
    "print()\n",
    "\n",
    "print((9 - 6j) + (12 + 2j))\n",
    "print()\n",
    "\n",
    "print((8+7j) * (56-9j))\n",
    "print()\n",
    "\n",
    "print((8+7j) ** (56-9j))"
   ]
  },
  {
   "cell_type": "markdown",
   "metadata": {},
   "source": [
    "### Data types Conversion or Type Casting\n",
    "1. Integer, Float, Boolean, None, Complex are convertible to String (all data types are convertible to String)\n",
    "2. Integer, Float, Boolean, Int String, Float String are convertible to Complex (word string, None, blank string \"\", space string \" \" are not convertible to Complex)\n",
    "3. Word String, Int String, Float String, Complex String, Empty String, Symbolic String, Complex, None, Integer, Float are convertible to Boolean (all data types are convertible to Boolean)\n",
    "4. Float, Boolean, Int String are convertible to Integer (Complex, word string, None, float string, blank string \"\", space string \" \" are not convertible to Integer)\n",
    "5. Integer, Boolean, Int String are convertible to Float (Complex, word string, None, Empty String \"\", space string \" \" are not convertible to Float)\n",
    "6. Boolean is convertible to Word String, Integer, Float & Complex\n",
    "7. Word String is convertible to Boolean only\n",
    "8. Empty String is convertible to Boolean only\n",
    "9. Symbolic String is convertible to Boolean only\n",
    "10. Int String is convertible to Boolean, Complex, Integer & Float\n",
    "11. Float String is convertible to Boolean, Complex & Float\n",
    "12. Complex String is convertible to Boolean & Complex only\n",
    "13. Complex is convertibe to Boolean & Complex String\n",
    "14. Float is convertible to Boolean, Complex, Integer & Float String\n",
    "15. Integer is convertible to Boolean, Complex, Int String & Float\n",
    "16. None is convertible to Boolean & String"
   ]
  },
  {
   "cell_type": "code",
   "execution_count": 73,
   "metadata": {},
   "outputs": [
    {
     "name": "stdout",
     "output_type": "stream",
     "text": [
      "2\n",
      "(1+0j) 1\n",
      "0\n",
      "0\n",
      "2\n",
      "2\n",
      "True True True True False True True True True True False False True True\n",
      "<class 'bool'> <class 'bool'> <class 'bool'> <class 'bool'> <class 'bool'> <class 'bool'> <class 'bool'> <class 'bool'> <class 'bool'> <class 'bool'> <class 'bool'> <class 'bool'> <class 'bool'> <class 'bool'>\n",
      "\n",
      "(3+9j) 56 78.99 True None 365 365 365\n",
      "<class 'str'> <class 'str'> <class 'str'> <class 'str'> <class 'str'> <class 'str'> <class 'str'> <class 'str'>\n",
      "\n",
      "(45+0j) (22.22+0j) (1+0j) (56+0j) (22.22+0j) (5-9j) (365+0j) (365+0j) (365+0j)\n",
      "<class 'complex'> <class 'complex'> <class 'complex'> <class 'complex'> <class 'complex'> <class 'complex'> <class 'complex'> <class 'complex'> <class 'complex'>\n",
      "\n",
      "34 1 34 365 365 365\n",
      "<class 'int'> <class 'int'> <class 'int'> <class 'int'> <class 'int'> <class 'int'>\n",
      "\n",
      "45.0 1.0 56.44 49.0 365.0 365.0 365.0\n",
      "<class 'float'> <class 'float'> <class 'float'> <class 'float'> <class 'float'> <class 'float'> <class 'float'>\n",
      "\n",
      "True False 1 0 0.0 1.0 (1+0j) 0j 0b1 0b0 0x1 0x0 0o1 0o0\n",
      "<class 'str'> <class 'str'> <class 'int'> <class 'int'> <class 'float'> <class 'float'> <class 'complex'> <class 'complex'> <class 'str'> <class 'str'> <class 'str'> <class 'str'> <class 'str'> <class 'str'>\n",
      "\n",
      "True\n",
      "<class 'bool'>\n",
      "\n",
      "False\n",
      "<class 'bool'>\n",
      "\n",
      "True\n",
      "<class 'bool'>\n",
      "\n",
      "True (49+0j) 49 49.0\n",
      "<class 'bool'> <class 'complex'> <class 'int'> <class 'float'>\n",
      "\n",
      "True (33.33+0j) 33.33\n",
      "<class 'bool'> <class 'complex'> <class 'float'>\n",
      "\n",
      "True (9-5j)\n",
      "<class 'bool'> <class 'complex'>\n",
      "\n",
      "True (9-5j)\n",
      "<class 'bool'> <class 'str'>\n",
      "\n",
      "0b101101101 True 0o555 365 365.0 (365+0j) 365\n",
      "<class 'str'> <class 'bool'> <class 'str'> <class 'int'> <class 'float'> <class 'complex'> <class 'str'>\n",
      "\n",
      "True 0o555 365 365.0 0x16d (365+0j) 365\n",
      "<class 'bool'> <class 'str'> <class 'int'> <class 'float'> <class 'str'> <class 'complex'> <class 'str'>\n",
      "\n",
      "True 0b101101101 365 365.0 0x16d (365+0j) 365\n",
      "<class 'bool'> <class 'str'> <class 'int'> <class 'float'> <class 'str'> <class 'complex'> <class 'str'>\n",
      "\n",
      "True (78.68+0j) 78 78.68\n",
      "<class 'bool'> <class 'complex'> <class 'int'> <class 'str'>\n",
      "\n",
      "True (55+0j) 55 55.0 0x37 0b110111 0o67\n",
      "<class 'bool'> <class 'complex'> <class 'str'> <class 'float'> <class 'str'> <class 'str'> <class 'str'>\n",
      "\n",
      "False None\n",
      "<class 'bool'> <class 'str'>\n",
      "\n"
     ]
    }
   ],
   "source": [
    "print(False + False + True + True)\n",
    "print(True + 0j, True * True)\n",
    "print(False + False)\n",
    "print(int(False) + int(False))\n",
    "print(True + True)\n",
    "print(int(True) + int(True))\n",
    "\n",
    "\n",
    "# Word String, Int String, Float String, Complex String, Empty String, Symbolic String, Binary String, Hex String, Octal String, Complex, None, Integer, Float are convertible to Boolean\n",
    "print(bool(\"String\"), bool(\"49\"), bool(\"99.99\"), bool(\"8-3j\"), bool(\"\"), bool(\"0b101101101\"), bool(\"0x16d\"), bool(\"0o555\"), bool(\"%$#@\"), bool(3+9j), bool(None), bool(0), bool(-2), bool(-99.89))\n",
    "print(type(bool(\"String\")), type(bool(\"49\")), type(bool(\"99.99\")), type(bool(\"8-3j\")), type(bool(\"\")), type(bool(\"0b101101101\")), type(bool(\"0x16d\")), type(bool(\"0o555\")), type(bool(\"%$#@\")), type(bool(3+9j)), type(bool(None)), type(bool(0)), type(bool(-2)), type(bool(-99.89)))\n",
    "print()\n",
    "\n",
    "# Integer, Float, Binary, Hex, Octal, Boolean, None, Complex are convertible to String\n",
    "print(str(3+9j), str(56), str(78.99), str(True), str(None), str(0b101101101), str(0x16d), str(0o555))\n",
    "print(type(str(3+9j)), type(str(56)), type(str(78.99)), type(str(True)), type(str(None)), type(str(0b101101101)), type(str(0x16d)), type(str(0o555)))\n",
    "print()\n",
    "\n",
    "# Integer, Float, Binary, Hex, Octal, Boolean, Int String, Float String & Complex String are convertible to Complex\n",
    "print(complex(45), complex(22.22), complex(True), complex(\"56\"), complex(\"22.22\"), complex(\"5-9j\"), complex(0b101101101), complex(0x16d), complex(0o555))\n",
    "print(type(complex(45)), type(complex(22.22)), type(complex(True)), type(complex(\"56\")), type(complex(\"22.22\")), type(complex(\"5-9j\")), type(complex(0b101101101)), type(complex(0x16d)), type(complex(0o555)))\n",
    "print()\n",
    "\n",
    "# Float, Boolean, Binary, Hex, Octal, Int String are convertible to Integer\n",
    "print(int(34.33), int(True), int(\"34\"), int(0b101101101), int(0x16d), int(0o555))\n",
    "print(type(int(34.33)), type(int(True)), type(int(\"34\")), type(int(0b101101101)), type(int(0x16d)), type(int(0o555)))\n",
    "print()\n",
    "\n",
    "# Integer, Boolean, Binary, Hex, Octal, Float String, Int String are convertible to Float\n",
    "print(float(45), float(True), float(\"56.44\"), float(\"49\"), float(0b101101101), float(0x16d), float(0o555))\n",
    "print(type(float(45)), type(float(True)), type(float(\"56.44\")), type(float(\"49\")), type(float(0b101101101)), type(float(0x16d)), type(float(0o555)))\n",
    "print()\n",
    "\n",
    "# Boolean is convertible to Word String, Integer, Float, Binary, Hex, Octal & Complex\n",
    "print(str(True), str(False), int(True), int(False), float(False), float(True), complex(True), complex(False), bin(True), bin(False), hex(True), hex(False), oct(True), oct(False))\n",
    "print(type(str(True)), type(str(False)), type(int(True)), type(int(False)), type(float(False)), type(float(True)), type(complex(True)), type(complex(False)), type(bin(False)), type(bin(True)), type(hex(False)), type(hex(True)), type(oct(True)), type(oct(False)))\n",
    "print()\n",
    "\n",
    "# Word String is convertible to Boolean only\n",
    "print(bool(\"String\"))\n",
    "print(type(bool(\"String\")))\n",
    "print()\n",
    "\n",
    "# Empty String is convertible to Boolean only\n",
    "print(bool(\"\"))\n",
    "print(type(bool(\"\")))\n",
    "print()\n",
    "\n",
    "# Symbolic String is convertible to Boolean only\n",
    "print(bool(\"%$#@\"))\n",
    "print(type(bool(\"%$#@\")))\n",
    "print()\n",
    "\n",
    "# Int String is convertible to Boolean, Complex, Integer & Float\n",
    "print(bool(\"49\"), complex(\"49\"), int(\"49\"), float(\"49\"))\n",
    "print(type(bool(\"49\")), type(complex(\"49\")), type(int(\"49\")), type(float(\"49\")))\n",
    "print()\n",
    "\n",
    "# Float String is convertible to Boolean, Complex & Float\n",
    "print(bool(\"33.33\"), complex(\"33.33\"), float(\"33.33\"))\n",
    "print(type(bool(\"33.33\")), type(complex(\"33.33\")), type(float(\"33.33\")))\n",
    "print()\n",
    "\n",
    "# Complex String is convertible to Boolean & Complex only\n",
    "print(bool(\"9-5j\"), complex(\"9-5j\"))\n",
    "print(type(bool(\"9-5j\")), type(complex(\"9-5j\")))\n",
    "print()\n",
    "\n",
    "# Complex is convertibe to Boolean & Complex String\n",
    "print(bool(9-5j), str(9-5j))\n",
    "print(type(bool(9-5j)), type(str(9-5j)))\n",
    "print()\n",
    "\n",
    "# Hex is convertible to Bin, Boolean, Octal, Integer, Float, Complex & Hex String\n",
    "print(bin(0x16d), bool(0x16d), oct(0x16d), int(0x16d), float(0x16d), complex(0x16d), str(0x16d))\n",
    "print(type(bin(0x16d)), type(bool(0x16d)), type(oct(0x16d)), type(int(0x16d)), type(float(0x16d)), type(complex(0x16d)), type(str(0x16d)))\n",
    "print()\n",
    "\n",
    "# Binary is convertible to Boolean, Octal, Integer, Float, Hex, Complex & Binary String\n",
    "print(bool(0b101101101), oct(0b101101101), int(0b101101101), float(0b101101101), hex(0b101101101), complex(0b101101101), str(0b101101101))\n",
    "print(type(bool(0b101101101)), type(oct(0b101101101)), type(int(0b101101101)), type(float(0b101101101)), type(hex(0b101101101)), type(complex(0b101101101)), type(str(0b101101101)))\n",
    "print()\n",
    "\n",
    "# Octal is Convertible to Boolean, Binary, Integer, Float, Hex, Complex & Octal String\n",
    "print(bool(0o555), bin(0o555), int(0o555), float(0o555), hex(0o555), complex(0o555), str(0o555))\n",
    "print(type(bool(0o555)), type(bin(0o555)), type(int(0o555)), type(float(0o555)), type(hex(0o555)), type(complex(0o555)), type(str(0o555)))\n",
    "print()\n",
    "\n",
    "# Float is convertible to Boolean, Complex, Integer & Float String\n",
    "print(bool(78.68), complex(78.68), int(78.68), str(78.68))\n",
    "print(type(bool(78.68)), type(complex(78.68)), type(int(78.68)), type(str(78.68)))\n",
    "print()\n",
    "\n",
    "# Integer is convertible to Boolean, Complex, Int String, Float, Hex, Binary & Octal\n",
    "print(bool(55), complex(55), str(55), float(55), hex(55), bin(55), oct(55))\n",
    "print(type(bool(55)), type(complex(55)), type(str(55)), type(float(55)), type(hex(55)), type(bin(55)), type(oct(55)))\n",
    "print()\n",
    "\n",
    "# None is convertible to Boolean & String\n",
    "print(bool(None), str(None))\n",
    "print(type(bool(None)), type(str(None)))\n",
    "print()"
   ]
  },
  {
   "cell_type": "code",
   "execution_count": null,
   "metadata": {},
   "outputs": [],
   "source": [
    "Integer = 365                   # int 365 is in Integer format\n",
    "\n",
    "Binary = bin(Decimal)           # Convert 365 into binary format\n",
    "\n",
    "Float = float(Decimal)          # Convert 365 into float format\n",
    "\n",
    "Hexadecimal = hex(Decimal)      # Convert 365 into Hex format\n",
    "\n",
    "Octal = oct(Decimal)            # Convert 365 into Octal format\n",
    "\n",
    "Complex = complex(Decimal)      # Convert 365 into Complex format\n",
    "\n",
    "print(Binary), print(Float), print(Hexadecimal), print(Octal), print(Complex)"
   ]
  },
  {
   "cell_type": "code",
   "execution_count": 11,
   "metadata": {},
   "outputs": [
    {
     "name": "stdout",
     "output_type": "stream",
     "text": [
      "0b101101101\n",
      "0x16d\n",
      "0o555\n"
     ]
    }
   ],
   "source": [
    "Integer = 365\n",
    "\n",
    "Binary = bin(Integer)\n",
    "\n",
    "Hex = hex(Integer)\n",
    "\n",
    "Octal = oct(Integer)\n",
    "\n",
    "print(Binary)\n",
    "\n",
    "print(Hex)\n",
    "\n",
    "print(Octal)"
   ]
  },
  {
   "cell_type": "markdown",
   "metadata": {},
   "source": [
    "### String indexing & Slicing, Strings are immutable\n",
    "1. String variables are immutable, You can't add(Element), append([E1, E2, E3]) List[] format, extend([E1, E2, E3]), pop(Index), remove(Element), discard(Element), insert(Index, [E1, E2, E3]) List[] format, swapindex, sort(), sorted(), shuffle() letters of string without converting into List[] or Set{} as applicable.\n",
    "2. *\n",
    "3. String_Split_List = list(String) #Converting & splitting String variable into List[]\n",
    "4.       String = \"\".join(String_Split_List) #Rejoined List[] string elements into a single String variable.\n",
    "5. *\n",
    "6. String_Split_Tuple = tuple(String) #Converting & splitting String variable into Tuple()\n",
    "7.       String = \"\".join(String_Split_Tuple) #Rejoined Tuple() string elements into a single String variable.\n",
    "8. *\n",
    "9. String_Split_Set = set(String) #Converting & splitting String variable into Set{} with shuffeled unique elements only\n",
    "10.       String = \"\".join(String_Split_Set) #Rejoined Set{} string elements into a single String variable.\n",
    "11.       Converting into Set{} shuffles the string elements because Set{} elements dont have indexes.\n",
    "12. *\n",
    "13. Additionaly add(Element), discard(Element) is applicable for Sets only.\n",
    "14. *\n",
    "15. RandSamp_String_Split_List = random.sample(String, len(String)) #Randomly picks len(String) no of sample items from String & saves it as List[], RandSampString = \"\".join(RandSamp_String_Split_List) #Rejoined random sample List[] string elements into a single String variable\n",
    "16. *\n",
    "17. String[:] #String indexing\n",
    "18. String[::3] #String indexing from start to end by hopping 3 elements cycle\n",
    "19. String[3:8:2] #String indexing from index 3 to index 8 upperbound by hopping 2 elements cycle\n",
    "20. *\n",
    "21. For String elements swapping... String_Split_List = list(String) #Converting & splitting String variable into List[]\n",
    "22.       String_Split_List[index2], String_Split_List[index4] = String_Split_List[index6], String_Split_List[index8]\n",
    "23.       SwapIndexJoin = \"\".join(String_Split_List) #List[] index elements got swapped & rejoined as string variable.\n",
    "24. *\n",
    "25. String_Split_List = list(String) #Converting & splitting String variable into List[]\n",
    "26.       random.shuffle(String_Split_List) #List[] string elements got shuffled randomly,\n",
    "27.       ShuffleJoin = \"\".join(String_Split_List) #shuffeled List[] string elements got rejoined to form String variable.\n",
    "28. *\n",
    "29. String_Split_List = list(String) #Converting & splitting String variable into List[]\n",
    "30.       String_Split_List.sort() #List[] string elements get sorted,\n",
    "31.       SortJoin = \"\".join(String_Split_List) #sorted List[] string elements got rejoined into a single String variable.\n",
    "32.       sort() works with Integer, Float, Boolean mix data types simultaneously & with String seperately. sort() sequence priority\n",
    "33.       to the String Integers -> Uppercase alphabets -> lowercase alphabets.\n",
    "34. *\n",
    "35. Sorted_String_Split_List = sorted(String) #String variable got converted, splitted & sorted() into List[]\n",
    "36.       SortedJoin = \"\".join(Sorted) #sorted List[] string elements got rejoined into a single String variable.\n",
    "37.       sorted() works with Integer, Float, Boolean mix data types simultaneously & with String seperately. sorted() sequence\n",
    "38.       priority to the String Integers -> Uppercase alphabets -> lowercase alphabets.\n",
    "39. *\n",
    "40. Sorted_String_Split_List = sorted(String_Split_Tuple) #Tuple() string elements got converted into sorted List[],\n",
    "41.       Sorted_String_Split_Tuple = tuple(Sorted_String_Split_List) #sorted List[] got converted back into Tuple() but now it is\n",
    "42.       sorted.\n",
    "43. *\n",
    "44. New_Name = String.replace(\"Oldtxt\", \"Newtxt\").replace(\"Oldtxt1\", \"Newtxt1\") #replace() works with String variable only.\n",
    "45. *\n",
    "46. String.index(\"E1\") #Index of a single String element at a time. First occurance of the letter will be treated as it's index.\n",
    "47. *\n",
    "48. String.count(\"ab\") #Count the repeatations of \"ab\" in the String variable.\n",
    "49. *\n",
    "50. String_Split_Set = set(String) #Converting & splitting String variable into Set{} with shuffeled unique elements only\n",
    "51.       String_Split_Set.discard(\"A\") #Unique element String \"A\" got deleted, one at a time\n",
    "52.       String = \"\".join(String_Split_Set) #Rejoined Set{} string elements into a single String variable\n",
    "53. *\n",
    "54. String_Split_Set = set(String) #Converting & splitting String variable into Set{} with shuffeled unique elements only\n",
    "55.       String_Split_Set.remove(\"A\"), String_Split_Set.remove(\"n\"), String_Split_Set.remove(\"w\") #Set.remove() deletes one unique\n",
    "56.       element at a time. String = \"\".join(String_Split_Set) #Rejoined Set{} string elements into a single String variable\n",
    "57. *\n",
    "58. String_Split_List = list(String) #Converting & splitting String variable into List[]\n",
    "59.       String_Split_List.remove(\"A\"), String_Split_List.remove(\"n\"), String_Split_List.remove(\"w\") #List.remove() deletes\n",
    "60.       one element at a time.\n",
    "61.       String = \"\".join(String_Split_List) #Rejoined List[] string elements into a single String variable\n",
    "62. *\n",
    "63. String_Split_List = list(String) #Converting & splitting String variable into List[]\n",
    "64.       String_Split_List.pop(String_Split_List.index(\"A\")), String_Split_List.pop(String_Split_List.index(\"n\")),\n",
    "65.       String_Split_List.pop(String_Split_List.index(\"w\")) #List.pop(index) deletes the mentioned index element, one element\n",
    "66.       at a time.\n",
    "67.       String = \"\".join(String_Split_List) #Rejoined List[] string elements into a single String variable.\n",
    "68. *\n",
    "69. String_Split_List = list(String) #Converting & splitting String variable into List[]\n",
    "70.       String_Split_List.append(\"_GAMO_\"), String_Split_List.append(\"LETTER\")\n",
    "71.       #List[] got inserted by two new elements \"GAMO\" & \"LETTER\" at the end\n",
    "72.       String = \"\".join(String_Split_List) #Rejoined List[] string elements into a single String variable.\n",
    "73. *\n",
    "74. String_Split_List = list(String) #Converting & splitting String variable into List[]\n",
    "75.       String_Split_List.append(\"_GAMO_\"), String_Split_List.append([\"L\", \"E\", \"T\", \"T\", \"E\", \"R\"]) #List[] got inserted by\n",
    "76.       two new elements at the end.\n",
    "77.       String_Split_List[String_Split_List.index([\"L\", \"E\", \"T\", \"T\", \"E\", \"R\"])] =\n",
    "78.       \"\".join(String_Split_List[String_Split_List.index([\"L\", \"E\", \"T\", \"T\", \"E\", \"R\"])])\n",
    "79.       #List[] element [\"L\", \"E\", \"T\", \"T\", \"E\", \"R\"] got joined & replaced as \"LETTER\" string element\n",
    "80.       String = \"\".join(String_Split_List) #Rejoined List[] string elements into a single String variable.\n",
    "81. *\n",
    "82. String = \"Word\"\n",
    "83.       String_Split_List = list(String) #Converting & splitting String variable into List[]\n",
    "84.       String_Split_List.append(e1) #Insert new single element e1 at the List[] end position\n",
    "85.       String_Split_List.append([e2, e3, e4, e5]) #Insert new elements in List[] format at the end position.\n",
    "86.       String_Split_List.append((e6, e7, e8, e9)) #Insert new elements in Tuple() format at the end position.\n",
    "87.       String_Split_List.append({e10, e11, e12, e13}) #Insert new elements in Set{} format at the end position.\n",
    "88.       String_Split_List[String_Split_List.index(\"W\"):String_Split_List.index(\"d\")+1] =\n",
    "89.       [\"\".join(String_Split_List[String_Split_List.index(\"W\"):String_Split_List.index(\"d\")+1])]\n",
    "90.       #List[] string elements \"W\", \"o\", \"r\", \"d\" got joined & replaced as \"Word\" string element as Array[]\n",
    "91. *\n",
    "92. String_Split_List = list(String) #Converting & splitting String variable into List[]\n",
    "93.       String_Split_List.insert(index, e1) #Insert new single element e1 at the place of mentioned index\n",
    "94.       String_Split_List.insert(index, [e2, e3, e4, e5]) #Insert new elements in List[] format at the place of mentioned index\n",
    "95.       String_Split_List.insert(index, (e6, e7, e8, e9)) #Insert new elements in Tuple() format at the place of mentioned index\n",
    "96.       String_Split_List.insert(index, {e10, e11, e12, e13}) #Insert new elements in Set{} format at the place of mentioned index\n",
    "97. *\n",
    "98. String_Split_List = list(String) #Converting & splitting String variable into List[]\n",
    "99.       String_Split_List.insert(len(String_Split_List), \"_GAMO_\"),\n",
    "100.       String_Split_List.insert(len(String_Split_List), [\"L\", \"E\", \"T\", \"T\", \"E\", \"R\"])\n",
    "101.       #List[] got inserted by two new elements \"GAMO\" & [\"L\", \"E\", \"T\", \"T\", \"E\", \"R\"] at the end\n",
    "102.       String_Split_List[String_Split_List.index([\"L\", \"E\", \"T\", \"T\", \"E\", \"R\"])] =\n",
    "103.       \"\".join(String_Split_List[String_Split_List.index([\"L\", \"E\", \"T\", \"T\", \"E\", \"R\"])])\n",
    "104.       #List[] element [\"L\", \"E\", \"T\", \"T\", \"E\", \"R\"] got joined & replaced as \"LETTER\" string element\n",
    "105.       String = \"\".join(String_Split_List) #Rejoined List[] string elements into a single String variable.\n",
    "106. *\n",
    "107. String_Split_List = list(String) #Converting & splitting String variable into List[]\n",
    "108.       String_Split_List[index:0] = [\"_GAMO_\"] #List[] got inserted 1 new string element as Array[] at the mentioned index\n",
    "109.       String_Split_List[index:0] = \"SPLIT\" #List[] got inserted 5 new seperate String elements \"S\", \"P\", \"L\", \"I\", \"T\"\n",
    "110.       String = \"\".join(String_Split_List) #Rejoined List[] string elements into a single String variable.\n",
    "111. *\n",
    "112. String_Split_List = list(String) #Converting & splitting String variable into List[]\n",
    "113.       String_Split_List[index:0] = [[e1, e2, e3, e4]] #Insert 4 new elements in List[] format at the mentioned index\n",
    "115.       String_Split_List[index:0] = [(e1, e2, e3, e4)] #Insert 4 new elements in Tuple() format at the mentioned index\n",
    "117.       String_Split_List[index:0] = [{e1, e2, e3, e4}] #Insert 4 new elements in Set{} format at the mentioned index\n",
    "119.       String_Split_List[index:0] = e1, e2, (e3, e4), [e5, e6], {e7, e8} #Insert 5 new elements at the place of\n",
    "120.       mentioned index as Plain, List[], Tuple() & Set{} format.\n",
    "121.       String_Split_List[index:0] = \"_GAMO_\", [\"S\", \"P\", \"L\", \"I\", \"T\"] #List[] got inserted by 2 new elements\n",
    "93.       \"GAMO\" & [\"S\", \"P\", \"L\", \"I\", \"T\"] at the mentioned index.\n",
    "94.       String_Split_List[String_Split_List.index([\"S\", \"P\", \"L\", \"I\", \"T\"])] =\n",
    "95.       \"\".join(String_Split_List[String_Split_List.index([\"S\", \"P\", \"L\", \"I\", \"T\"])])\n",
    "108.       #List[] element [\"S\", \"P\", \"L\", \"I\", \"T\"] got joined & replaced as \"SPLIT\" string element.\n",
    "114. *\n",
    "115. String_Split_List = list(String) #Converting & splitting String variable into List[]\n",
    "116.       String_Split_List.extend([e1]) #Single element got inserted at the end position as Array[]\n",
    "117.       String_Split_List.extend(\"SPLIT\") #Single string element got inserted as \"S\", \"P\", \"L\", \"I\", \"T\" at the end position\n",
    "118.       String_Split_List.extend([[e2, e3]]) #Elements got inserted at the end position as List[] format\n",
    "119.       String_Split_List.extend([(e4, e5)]) #Elements got inserted at the end position as Tuple() format\n",
    "120.       String_Split_List.extend([{e6, e7}]) #Elements got inserted at the end position as Set{} format\n",
    "121.       String_Split_List.extend([e8, e9, [e10, e11], (e12, e13), {e14, e15}]) #Elements got inserted as\n",
    "122.       Plain, List[], Tuple() & Set{} format\n",
    "124. *\n",
    "125. String_Split_List = list(String) #Converting & splitting String variable into List[]\n",
    "126.       String_Split_List[index3:(index5)+1] = [\"_Alone_\"] #From index 3 to 5 elements got replaced by a single string as Array[]\n",
    "127.       String = \"\".join(String_Split_List) #Rejoined List[] string elements into a single String variable.\n",
    "128. *\n",
    "129. String_Split_List = list(String) #Converting & splitting String variable into List[]\n",
    "130.       String_Split_List[index3:(index5)+1] = \"_SPLIT_\" #From index 3 to 5 elements got replaced by 7 new seperate\n",
    "131.       String elements \"_\", \"S\", \"P\", \"L\", \"I\", \"T\", \"_\"\n",
    "132.       String = \"\".join(String_Split_List) #Rejoined List[] string elements into a single String variable.\n",
    "133. *\n",
    "134. String_Split_List = list(String) #Converting & splitting String variable into List[]\n",
    "135.       String_Split_List[index3:(index5)+1] = \"_Alone_\", \"S\", \"P\", \"L\", \"I\", \"T_\" #From index 3 to 5 elements got replaced by\n",
    "136.       6 new seperate String elements \"_Alone_\", \"S\", \"P\", \"L\", \"I\", \"T_\"\n",
    "137.       String = \"\".join(String_Split_List) #Rejoined List[] string elements into a single String variable.\n",
    "138. *\n",
    "139. String_Split_List = list(String) #Converting & splitting String variable into List[]\n",
    "140.       String_Split_List[index3:(index5)+1] = \"_Alone_\", [\"S\", \"P\", \"L\", \"I\", \"T_\"] #From index 3 to 5 elements got replaced by 2\n",
    "141.       new elements \"_Alone_\" & [\"S\", \"P\", \"L\", \"I\", \"T_\"]\n",
    "143.       String_Split_List[String_Split_List.index([\"S\", \"P\", \"L\", \"I\", \"T_\"])] =\n",
    "144.       \"\".join(String_Split_List[String_Split_List.index([\"S\", \"P\", \"L\", \"I\", \"T_\"])])\n",
    "145.       #List[] element [\"S\", \"P\", \"L\", \"I\", \"T_\"] got joined & replaced as \"SPLIT_\" string element\n",
    "146.       String = \"\".join(String_Split_List) #Rejoined List[] string elements into a single String variable.\n",
    "147. *\n",
    "58. String_Split_List = list(String) #Converting & splitting String variable into List[]\n",
    "59.       String_Split_List[index] = \"_e1_\" #Mentioned single index element got replaced by single alone \"GAMO\" string element\n",
    "60.       String_Split_List[index] = \"_e2_\", \"NEW\", \"_MAGNUM_\" #Mentioned single index element got replaced by 3 new string\n",
    "61.       elements as Tuple() format.\n",
    "63.       String_Split_List[index] = [\"_e3_\", \"e4\", \"_e5_\"] #Mentioned single index element got replaced by 3 new string\n",
    "64.       elements as List[] format.\n",
    "65.       String_Split_List[index] = {\"_e6_\", \"e7\", \"_e8_\"} #Mentioned single index element got replaced by 3 new string\n",
    "66.       elements as Set{} format.\n",
    "68.       String_Split_List[index] = \"e9\", \"e10\", [\"e11\", \"e12\"], {\"e13\", \"e14\"} #Mentioned single index element got replaced by\n",
    "69.       elements as Tuple() format.\n",
    "74. *\n",
    "75. String_Split_List = list(String) #Converting & splitting String variable into List[]\n",
    "76.       String_Split_List[index2] = \"_GAMO_\", \"NEW\", \"_MAGNUM_\" #Mentioned single index2 element got replaced by 3 new string\n",
    "77.       elements in Tuple() format. String_Split_List[index2] = \"\".join(String_Split_List[index2]) #index2 Tuple() elements\n",
    "78.       got joined to form a single string & replaced by that string.\n",
    "79.       String = \"\".join(String_Split_List) #Rejoined List[] string elements into a single String variable.\n",
    "81. *\n",
    "82. String_Split_List = list(String) #Converting & splitting String variable into List[]\n",
    "83.       String_Split_List[index2] = [\"_GAMO_\", \"NEW\", \"_MAGNUM_\"] #Mentioned single index2 element got replaced by 3 new string\n",
    "84.       elements in List[] format. String_Split_List[index2] = \"\".join(String_Split_List[index2]) #index2 List[] elements got\n",
    "85.       joined to form a single string & replaced by that string.\n",
    "87.       String = \"\".join(String_Split_List) #Rejoined List[] string elements into a single String variable.\n",
    "88. *\n",
    "89. String_Split_List = list(String) #Converting & splitting String variable into List[]\n",
    "90.       String_Split_List[4:8] = [e1] #While replacing elements from index 4 to exclusive index 8 upperbound by single element\n",
    "91.                                                                                                               as Array[]\n",
    "92.       String_Split_List[4:8] = e1, e2, e3, e4 #While replacing elements from index 4 to exclusive index 8 upperbound\n",
    "93.       String_Split_List[4:8] = [[e1, e2, e3, e4]] #While replacing elements from index 4 to exclusive index 8 upperbound as\n",
    "94.                                                                                                             List[] format\n",
    "95.       String_Split_List[4:8] = [(e1, e2, e3, e4)] #While replacing elements from index 4 to exclusive index 8 upperbound as\n",
    "96.                                                                                                             Tuple() format\n",
    "97.       String_Split_List[4:8] = [{e1, e2, e3, e4}] #While replacing elements from index 4 to exclusive index 8 upperbound as\n",
    "98.                                                                                                               Set{} format\n",
    "99.       String_Split_List[4:8] = e1, e2, [e3, e4], (e5, e6), {e7, e8} #While replacing elements from index 4 to exclusive index 8\n",
    "100.                                                                       upperbound as Plain, List[], Tuple() & Set{} format\n",
    "102. *\n",
    "103. String_Split_List = list(String) #Converting & splitting String variable into List[]\n",
    "104.       String_Split_List[len(String_Split_List):0] = [\"_GAMO_\"] ; String_Split_List[len(String_Split_List):0] = \"LETTER\"\n",
    "105.       #List[] got inserted by 7 new elements \"GAMO\" & \"L\", \"E\", \"T\", \"T\", \"E\", \"R\" at the end\n",
    "106.       String = \"\".join(String_Split_List) #Rejoined List[] string elements into a single String variable.\n",
    "107. *\n",
    "108. String_Split_List = list(String) #Converting & splitting String variable into List[]\n",
    "109.       String_Split_List[len(String_Split_List):0] = \"_GAMO_\", \"L\", \"E\", \"T\", \"T\", \"E\", \"R\"\n",
    "110.       #List[] got inserted by 7 new elements \"GAMO\" & \"L\", \"E\", \"T\", \"T\", \"E\", \"R\" at the end.\n",
    "111.       String = \"\".join(String_Split_List) #Rejoined List[] string elements into a single String variable.\n",
    "112. *\n",
    "113. String_Split_List = list(String) #Converting & splitting String variable into List[]\n",
    "114.       String_Split_List[len(String_Split_List):0] = \"_GAMO_\", [\"L\", \"E\", \"T\", \"T\", \"E\", \"R\"]\n",
    "115.       #List[] got inserted by two new elements \"GAMO\" & [\"L\", \"E\", \"T\", \"T\", \"E\", \"R\"] at the end.\n",
    "116.       String_Split_List[String_Split_List.index([\"L\", \"E\", \"T\", \"T\", \"E\", \"R\"])] =\n",
    "117.       \"\".join(String_Split_List[String_Split_List.index([\"L\", \"E\", \"T\", \"T\", \"E\", \"R\"])])\n",
    "118.       #List[] element [\"L\", \"E\", \"T\", \"T\", \"E\", \"R\"] got joined & replaced as \"LETTER\" string element.\n",
    "119.       String = \"\".join(String_Split_List) #Rejoined List[] string elements into a single String variable.\n",
    "120. *\n",
    "121. String_Split_Set = set(String) #Converting & splitting String variable into Set{} with shuffeled unique elements only\n",
    "122.       String_Split_Set.add(\"A\"), String_Split_Set.add(\"KB\")\n",
    "123.       #.add() has added two new string elements at random locations in the Set{}\n",
    "124.       String = \"\".join(String_Split_Set) #Rejoined Set{} string elements into a single String variable\n",
    "125. *\n",
    "126. String_Split_List = list(String) #Converting & splitting String variable into List[]\n",
    "127.       String_Split_List.remove(\"e\") #Deletes first appearance of the mentioned String element\n",
    "128.       String = \"\".join(String_Split_List) #Rejoined List[] String elements into a single String variable\n",
    "129. *\n",
    "130. String_Split_List = list(String) #Converting & splitting String variable into List[]\n",
    "131.       String_Split_List.reverse() #This has reversed the placement of List[] string elements in Backward direction\n",
    "132.       String_Backward = \"\".join(String_Split_List) #Rejoined List[] String elements into a single String variable\n",
    "133. *\n",
    "134. String_Split_Set = set(String) #Converting & splitting String variable into Set{} with shuffeled unique elements only\n",
    "135.       String_Split_Set.add(\"e1\")  #Single new String element has been inserted\n",
    "136.       String_Split_Set.add((\"e2\", \"e3\"))  #Inserting new String elements as Tuple() format\n",
    "137.       String_Split_Set.add(frozenset({\"e4\", \"e5\"}))  #Inserting new String elements as frozenset({}) format\n",
    "138.       String_Split_List = list(String_Split_Set)   #Set{} has been converted into List[]\n",
    "139.       String_Split_List[String_Split_List.index((\"e2\", \"e3\"))] =\n",
    "140.       \"\".join(String_Split_List[String_Split_List.index((\"e2\", \"e3\"))])\n",
    "141.       #Tuple() String elements got replaced by join()\n",
    "142.       String_Split_List[String_Split_List.index(frozenset({\"e4\", \"e5\"}))] =\n",
    "143.       \"\".join(String_Split_List[String_Split_List.index(frozenset({\"e4\", \"e5\"}))])\n",
    "144.       #frozenset({}) String elements got replaced by join()\n",
    "145.       String = \"\".join(String_Split_List) #Rejoined List[] String elements into a single String variable\n",
    "146. *\n",
    "147. Variable.remove(Element) is applicable for List[] & Set{} only. Deletes first appearance & one element at a time.\n",
    "148. String3 = String1 + String2 #Concatination of String1 & String2 variable to create String3 variable.\n",
    "149. New_String = String_Variable + \"New_Word\"  #Concatination of String_Variable & \"New_Word\" to create New_String variable.\n",
    "150. String_Variable += \"New_Word\" #AdVanced Concatination of String.\n",
    "151. New_String = f\"{String_Variable}New_Word\"\n",
    "152. New_String = \"%sNew_Word\" % String_Variable\n",
    "153. New_String = \"{}Nicolai\".format(String_String)"
   ]
  },
  {
   "cell_type": "code",
   "execution_count": 8,
   "metadata": {},
   "outputs": [
    {
     "name": "stdout",
     "output_type": "stream",
     "text": [
      "['7', 'e', 'A', 'F', '1', 'c', 'B', '3', 'd', '5', 'G', 'C', 'b', '4', 'E', 'g', '2', 'a', 'D', 'f', '6']\n",
      "7eAF1cB3d5GCb4Eg2aDf6\n",
      "<class 'str'>\n"
     ]
    }
   ],
   "source": [
    "Alphanumeric_String = \"7eAF1cB3d5GCb4Eg2aDf6\"            # String are in alphanumeric forms\n",
    "\n",
    "String_Split_List = list(Alphanumeric_String)                # Converting & splitting String variable into List[]\n",
    "\n",
    "print(String_Split_List)\n",
    "\n",
    "Alphanumeric_String = \"\".join(String_Split_List)        # Rejoined List[] string elements into a single String variable\n",
    "\n",
    "print(Alphanumeric_String)\n",
    "\n",
    "print(type(Alphanumeric_String))"
   ]
  },
  {
   "cell_type": "code",
   "execution_count": 9,
   "metadata": {},
   "outputs": [
    {
     "name": "stdout",
     "output_type": "stream",
     "text": [
      "('7', 'e', 'A', 'F', '1', 'c', 'B', '3', 'd', '5', 'G', 'C', 'b', '4', 'E', 'g', '2', 'a', 'D', 'f', '6')\n",
      "7eAF1cB3d5GCb4Eg2aDf6\n",
      "<class 'str'>\n"
     ]
    }
   ],
   "source": [
    "Alphanumeric_String = \"7eAF1cB3d5GCb4Eg2aDf6\"\n",
    "\n",
    "String_Split_Tuple = tuple(Alphanumeric_String)             # Converting & splitting String variable into Tuple()\n",
    "\n",
    "print(String_Split_Tuple)\n",
    "\n",
    "Alphanumeric_String = \"\".join(String_Split_Tuple)           # Rejoined Tuple() string elements into a single String variable.\n",
    "\n",
    "print(Alphanumeric_String)\n",
    "\n",
    "print(type(Alphanumeric_String))"
   ]
  },
  {
   "cell_type": "code",
   "execution_count": 10,
   "metadata": {},
   "outputs": [
    {
     "name": "stdout",
     "output_type": "stream",
     "text": [
      "{'c', 'f', 'E', '6', '5', 'A', 'C', 'F', 'b', 'B', 'e', '3', 'a', '7', '1', 'g', 'D', '4', 'd', 'G', '2'}\n",
      "cfE65ACFbBe3a71gD4dG2\n",
      "<class 'str'>\n"
     ]
    }
   ],
   "source": [
    "Alphanumeric_String = \"7eAF1cB3d5GCb4Eg2aDf6\"\n",
    "\n",
    "String_Split_Set = set(Alphanumeric_String)   # Converting & splitting String variable into Set{} with shuffeled unique elements only\n",
    "\n",
    "print(String_Split_Set)                      # Converting into Set{} shuffle the string elemenst because Set{} elements dont have indexes\n",
    "\n",
    "Alphanumeric_String = \"\".join(String_Split_Set)       # Rejoined Set{} string elements into a single String variable\n",
    "\n",
    "print(Alphanumeric_String)\n",
    "\n",
    "print(type(Alphanumeric_String))"
   ]
  },
  {
   "cell_type": "code",
   "execution_count": 11,
   "metadata": {},
   "outputs": [
    {
     "name": "stdout",
     "output_type": "stream",
     "text": [
      "['|', '!', 'E', '=', '3', 'F', 'g', '&', '<', '1', '%', '}', '>', '-', '#', 'D', 'f', '6']\n",
      "18\n",
      "|!E=3Fg&<1%}>-#Df6\n",
      "<class 'str'>\n"
     ]
    }
   ],
   "source": [
    "import random\n",
    "\n",
    "String = \"7eAF1cB3d5GCb4Eg2aDf6~!@#$%^&*()_+{}|-=[]\\;:',<.>/?\"\n",
    "\n",
    "RandSamp_String_Split_List = random.sample(String, 18)      # Randomly picks 18 no of sample items from String & saves it as List[]\n",
    "\n",
    "print(RandSamp_String_Split_List)\n",
    "\n",
    "print(len(RandSamp_String_Split_List))\n",
    "\n",
    "RandSampString = \"\".join(RandSamp_String_Split_List)       # Rejoined random sample List[] string elements into a single String variable\n",
    "\n",
    "print(RandSampString)\n",
    "\n",
    "print(type(RandSampString))"
   ]
  },
  {
   "cell_type": "code",
   "execution_count": 12,
   "metadata": {},
   "outputs": [
    {
     "name": "stdout",
     "output_type": "stream",
     "text": [
      "[':', '3', '*', 'F', 'b', '}', '^', 'a', '>', '%', 'e', '!', '#', '=', ')', '.', 'g', '1', '\\\\', '|', '&', '2', 'C', ';', \"'\", 'c', 'f', 'D', 'E', '/', '(', '6', '4', '<', 'G', ']', '$', 'd', '7', '+', '5', '@', '_', '[', '?', ',', '-', '~', 'A', 'B', '{']\n",
      "51\n",
      ":3*Fb}^a>%e!#=).g1\\|&2C;'cfDE/(64<G]$d7+5@_[?,-~AB{\n",
      "<class 'str'>\n"
     ]
    }
   ],
   "source": [
    "String = \"7eAF1cB3d5GCb4Eg2aDf6~!@#$%^&*()_+{}|-=[]\\;:',<.>/?\"\n",
    "\n",
    "RandSamp_String_Split_List = random.sample(String, len(String))   # Randomly picks len(String) no of sample items from String & saves it as List[]\n",
    "\n",
    "print(RandSamp_String_Split_List)\n",
    "\n",
    "print(len(RandSamp_String_Split_List))\n",
    "\n",
    "RandSampString = \"\".join(RandSamp_String_Split_List)       # Rejoined random sample List[] string elements into a single String variable\n",
    "\n",
    "print(RandSampString)\n",
    "\n",
    "print(type(RandSampString))"
   ]
  },
  {
   "cell_type": "code",
   "execution_count": 13,
   "metadata": {},
   "outputs": [
    {
     "name": "stdout",
     "output_type": "stream",
     "text": [
      "F1cB3\n",
      "7FB5bgD~#^(+|[;,>\n",
      "Fc3\n"
     ]
    }
   ],
   "source": [
    "String = \"7eAF1cB3d5GCb4Eg2aDf6~!@#$%^&*()_+{}|-=[]\\;:',<.>/?\"\n",
    "print(String[3:8])         # String indexing from index 3 to index 8 upperbound\n",
    "\n",
    "print(String[::3])         # String indexing from start to end by hopping 3 elements cycle\n",
    "\n",
    "print(String[3:8:2])       # String indexing from index 3 to index 8 upperbound by hopping 2 elements cycle"
   ]
  },
  {
   "cell_type": "code",
   "execution_count": 14,
   "metadata": {},
   "outputs": [
    {
     "name": "stdout",
     "output_type": "stream",
     "text": [
      "['S', 'p', 'i', 'd', 'e', 'r', 'M', 'a', 'n']\n",
      "['M', 'p', 'i', 'd', 'e', 'r', 'S', 'a', 'n']\n",
      "MpiderSan\n",
      "<class 'str'>\n"
     ]
    }
   ],
   "source": [
    "# Swap/interchange index location of the element letters in a String\n",
    "\n",
    "Spider = \"SpiderMan\"\n",
    "\n",
    "String_Split_List = list(Spider)          # Converting & splitting String variable into List[]\n",
    "\n",
    "print(String_Split_List)\n",
    "\n",
    "String_Split_List[0], String_Split_List[6] = String_Split_List[6], String_Split_List[0]     # List[] index elements got swapped\n",
    "\n",
    "print(String_Split_List)\n",
    "\n",
    "SwapIndexJoinvariable = \"\".join(String_Split_List)          # Rejoined swapped List[] index string elements into a single String variable\n",
    "\n",
    "print(SwapIndexJoinvariable)\n",
    "\n",
    "print(type(SwapIndexJoinvariable))"
   ]
  },
  {
   "cell_type": "code",
   "execution_count": 15,
   "metadata": {},
   "outputs": [
    {
     "name": "stdout",
     "output_type": "stream",
     "text": [
      "['7', 'e', 'A', 'F', '1', 'c', 'B', '3', 'd', '5', 'G', 'C', 'b', '4', 'E', 'g', '2', 'a', 'D', 'f', '6', '~', '!', '@', '#', '$', '%', '^', '&', '*', '(', ')', '_', '+', '{', '}', '|', '-', '=', '[', ']', '\\\\', ';', ':', \"'\", ',', '<', '.', '>', '/', '?']\n",
      "['1', 'd', 'A', ',', '*', '3', ']', '{', '(', '5', '%', 'B', '?', '|', '~', '\\\\', '&', '7', '_', '}', 'e', '<', 'D', '2', '>', 'F', ';', 'a', '=', 'g', '!', 'b', 'G', '.', ':', '[', '+', '4', '^', '-', 'f', 'E', '/', '@', ')', '#', '$', 'C', '6', \"'\", 'c']\n",
      "1dA,*3]{(5%B?|~\\&7_}e<D2>F;a=g!bG.:[+4^-fE/@)#$C6'c\n",
      "<class 'str'>\n"
     ]
    }
   ],
   "source": [
    "String = \"7eAF1cB3d5GCb4Eg2aDf6~!@#$%^&*()_+{}|-=[]\\;:',<.>/?\"\n",
    "\n",
    "String_Split_List = list(String)              # Converting & splitting String variable into List[]\n",
    "\n",
    "print(String_Split_List)\n",
    "\n",
    "random.shuffle(String_Split_List)             # List[] string elements got shuffled randomly\n",
    "\n",
    "print(String_Split_List)\n",
    "\n",
    "ShuffleJoin = \"\".join(String_Split_List)            # shuffeled List[] string elements got rejoined into a single String variable\n",
    "\n",
    "print(ShuffleJoin)\n",
    "\n",
    "print(type(ShuffleJoin))"
   ]
  },
  {
   "cell_type": "code",
   "execution_count": 16,
   "metadata": {},
   "outputs": [
    {
     "name": "stdout",
     "output_type": "stream",
     "text": [
      "['7', 'e', 'A', 'F', '1', 'c', 'B', '3', 'd', '5', 'G', 'C', 'b', '4', 'E', 'g', '2', 'a', 'D', 'f', '6', '~', '!', '@', '#', '$', '%', '^', '&', '*', '(', ')', '_', '+', '{', '}', '|', '-', '=', '[', ']', '\\\\', ';', ':', \"'\", ',', '<', '.', '>', '/', '?']\n",
      "['!', '#', '$', '%', '&', \"'\", '(', ')', '*', '+', ',', '-', '.', '/', '1', '2', '3', '4', '5', '6', '7', ':', ';', '<', '=', '>', '?', '@', 'A', 'B', 'C', 'D', 'E', 'F', 'G', '[', '\\\\', ']', '^', '_', 'a', 'b', 'c', 'd', 'e', 'f', 'g', '{', '|', '}', '~']\n",
      "!#$%&'()*+,-./1234567:;<=>?@ABCDEFG[\\]^_abcdefg{|}~\n",
      "<class 'str'>\n"
     ]
    }
   ],
   "source": [
    "String = \"7eAF1cB3d5GCb4Eg2aDf6~!@#$%^&*()_+{}|-=[]\\;:',<.>/?\"\n",
    "\n",
    "String_Split_List = list(String)              # Converting & splitting String variable into List[]\n",
    "\n",
    "print(String_Split_List)\n",
    "\n",
    "String_Split_List.sort()                      # List[] string elements got sorted\n",
    "                                              # sort() works with Integer, Float, Boolean mix data types simultaneously & with String seperately\n",
    "                                              # sort() sequence priority to the String Integers -> Uppercase alphabets -> lowercase alphabets.\n",
    "print(String_Split_List)\n",
    "\n",
    "SortJoin = \"\".join(String_Split_List)            # sorted List[] string elements got rejoined into a single String variable\n",
    "\n",
    "print(SortJoin)\n",
    "\n",
    "print(type(SortJoin))"
   ]
  },
  {
   "cell_type": "code",
   "execution_count": 17,
   "metadata": {},
   "outputs": [
    {
     "name": "stdout",
     "output_type": "stream",
     "text": [
      "['!', '#', '$', '%', '&', \"'\", '(', ')', '*', '+', ',', '-', '.', '/', '1', '2', '3', '4', '5', '6', '7', ':', ';', '<', '=', '>', '?', '@', 'A', 'B', 'C', 'D', 'E', 'F', 'G', '[', '\\\\', ']', '^', '_', 'a', 'b', 'c', 'd', 'e', 'f', 'g', '{', '|', '}', '~']\n",
      "!#$%&'()*+,-./1234567:;<=>?@ABCDEFG[\\]^_abcdefg{|}~\n",
      "<class 'str'>\n"
     ]
    }
   ],
   "source": [
    "String = \"7eAF1cB3d5GCb4Eg2aDf6~!@#$%^&*()_+{}|-=[]\\;:',<.>/?\"\n",
    "\n",
    "Sorted_String_Split_List = sorted(String)     # String variable got converted, splitted & sorted() into List[]\n",
    "                                           # sorted() works with Integer, Float, Boolean mix data types simultaneously & with String seperately.\n",
    "                                           # sorted() sequence priority to the String Integers -> Uppercase alphabets -> lowercase alphabets.\n",
    "\n",
    "print(Sorted_String_Split_List)\n",
    "\n",
    "SortedJoin = \"\".join(Sorted_String_Split_List)       # sorted List[] string elements got rejoined into a single String variable\n",
    "\n",
    "print(SortedJoin)\n",
    "\n",
    "print(type(SortedJoin))"
   ]
  },
  {
   "cell_type": "code",
   "execution_count": 18,
   "metadata": {},
   "outputs": [
    {
     "name": "stdout",
     "output_type": "stream",
     "text": [
      "('7', 'e', 'A', 'F', '1', 'c', 'B', '3', 'd', '5', 'G', 'C', 'b', '4', 'E', 'g', '2', 'a', 'D', 'f', '6', '~', '!', '@', '#', '$', '%', '^', '&', '*', '(', ')', '_', '+', '{', '}', '|', '-', '=', '[', ']', '\\\\', ';', ':', \"'\", ',', '<', '.', '>', '/', '?')\n",
      "['!', '#', '$', '%', '&', \"'\", '(', ')', '*', '+', ',', '-', '.', '/', '1', '2', '3', '4', '5', '6', '7', ':', ';', '<', '=', '>', '?', '@', 'A', 'B', 'C', 'D', 'E', 'F', 'G', '[', '\\\\', ']', '^', '_', 'a', 'b', 'c', 'd', 'e', 'f', 'g', '{', '|', '}', '~']\n",
      "('!', '#', '$', '%', '&', \"'\", '(', ')', '*', '+', ',', '-', '.', '/', '1', '2', '3', '4', '5', '6', '7', ':', ';', '<', '=', '>', '?', '@', 'A', 'B', 'C', 'D', 'E', 'F', 'G', '[', '\\\\', ']', '^', '_', 'a', 'b', 'c', 'd', 'e', 'f', 'g', '{', '|', '}', '~')\n"
     ]
    }
   ],
   "source": [
    "String = \"7eAF1cB3d5GCb4Eg2aDf6~!@#$%^&*()_+{}|-=[]\\;:',<.>/?\"\n",
    "\n",
    "String_Split_Tuple = tuple(String)     # Converting & splitting String variable into Tuple()\n",
    "\n",
    "print(String_Split_Tuple)\n",
    "\n",
    "Sorted_String_Split_List = sorted(String_Split_Tuple)               # Tuple() string elements got converted into sorted List[]\n",
    "\n",
    "print(Sorted_String_Split_List)\n",
    "\n",
    "Sorted_String_Split_Tuple = tuple(Sorted_String_Split_List)          # sorted List[] got converted back into Tuple() but now it is sorted.\n",
    "\n",
    "print(Sorted_String_Split_Tuple)"
   ]
  },
  {
   "cell_type": "code",
   "execution_count": 19,
   "metadata": {},
   "outputs": [
    {
     "name": "stdout",
     "output_type": "stream",
     "text": [
      "Spider Man Home Coming\n",
      "Black Venom Last Dance\n",
      "Spider Man Home Coming\n",
      "Black Venom Last Dance\n"
     ]
    }
   ],
   "source": [
    "String = \"Spider Man Home Coming\"\n",
    "print(String)\n",
    "Replaced_String = String.replace(\"Spider\", \"Black\").replace(\"Man\", \"Venom\").replace(\"Home\", \"Last\").replace(\"Coming\", \"Dance\")    # replace() works with String variable only.\n",
    "print(Replaced_String)\n",
    "\n",
    "String = \"Spider Man Home Coming\"\n",
    "print(String)\n",
    "Replaced_String = String.replace(\"Spider Man Home Coming\", \"Black Venom Last Dance\")     # replace() works with String variable only.\n",
    "print(Replaced_String)"
   ]
  },
  {
   "cell_type": "code",
   "execution_count": 20,
   "metadata": {},
   "outputs": [
    {
     "name": "stdout",
     "output_type": "stream",
     "text": [
      "0 7 8\n"
     ]
    }
   ],
   "source": [
    "String = \"AnwneAnshA\"\n",
    "print(String.index(\"A\"), String.index(\"s\"), String.index(\"h\"))  # Index of a single String element at a time.\n",
    "                                                                # First occurance of the letter will be treated as it's index.\n",
    "                                                                # It doesn't include repeatations."
   ]
  },
  {
   "cell_type": "code",
   "execution_count": 21,
   "metadata": {},
   "outputs": [
    {
     "name": "stdout",
     "output_type": "stream",
     "text": [
      "2 3 3\n",
      "0\n"
     ]
    }
   ],
   "source": [
    "# Type the Element value & you will get its frequency/repeatation\n",
    "# Here the Single String is \"AnwneAnshA\"\n",
    "# count() is applicable for String variable only\n",
    "# Type any sigle alphabet/part of the String inside String.count() and you will get the repeatation of that alphabet/part\n",
    "String = \"AnwneAnshA\"\n",
    "# String.count(\"An\")   How many times \"An\" is within the word \"AnwneAnshA\"\n",
    "print(String.count(\"An\"), String.count(\"n\"), String.count(\"A\"))\n",
    "print(String.count(\"AAA\"))"
   ]
  },
  {
   "cell_type": "code",
   "execution_count": 22,
   "metadata": {},
   "outputs": [
    {
     "name": "stdout",
     "output_type": "stream",
     "text": [
      "{'c', 'f', 'E', '6', '5', 'A', 'C', 'F', 'b', 'B', 'e', '3', 'a', '7', '1', 'g', 'D', '4', 'd', 'G', '2'}\n",
      "cfE65CFbBe3a71gD4dG2\n"
     ]
    }
   ],
   "source": [
    "Alphanumeric_String = \"7eAF1cB3d5GCb4Eg2aDf6\"\n",
    "\n",
    "String_Split_Set = set(Alphanumeric_String)   # Converting & splitting String variable into Set{} with shuffeled unique elements only\n",
    "\n",
    "print(String_Split_Set)\n",
    "\n",
    "String_Split_Set.discard(\"A\")                # Unique element String \"A\" got deleted, one at a time\n",
    "\n",
    "Discarted_Alphanumeric_String = \"\".join(String_Split_Set)       # Rejoined Set{} string elements into a single String variable\n",
    "\n",
    "print(Discarted_Alphanumeric_String)"
   ]
  },
  {
   "cell_type": "code",
   "execution_count": 23,
   "metadata": {},
   "outputs": [
    {
     "name": "stdout",
     "output_type": "stream",
     "text": [
      "{'c', 'f', 'E', '6', '5', 'A', 'C', 'F', 'b', 'B', 'e', '3', 'a', '7', '1', 'g', 'D', '4', 'd', 'G', '2'}\n",
      "cf65CFbe3a71gD4dG2\n"
     ]
    }
   ],
   "source": [
    "Alphanumeric_String = \"7eAF1cB3d5GCb4Eg2aDf6\"\n",
    "\n",
    "String_Split_Set = set(Alphanumeric_String)   # Converting & splitting String variable into Set{} with shuffeled unique elements only\n",
    "\n",
    "print(String_Split_Set)\n",
    "\n",
    "String_Split_Set.remove(\"A\"), String_Split_Set.remove(\"B\"), String_Split_Set.remove(\"E\")    # Set.remove() deletes one unique element at a time\n",
    "\n",
    "Removed_Alphanumeric_String = \"\".join(String_Split_Set)         # Rejoined Set{} string elements into a single String variable\n",
    "\n",
    "print(Removed_Alphanumeric_String)"
   ]
  },
  {
   "cell_type": "code",
   "execution_count": 24,
   "metadata": {},
   "outputs": [
    {
     "name": "stdout",
     "output_type": "stream",
     "text": [
      "['7', 'e', 'A', 'F', '1', 'c', 'B', '3', 'd', '5', 'G', 'C', 'b', '4', 'E', 'g', '2', 'a', 'D', 'f', '6']\n",
      "7eF1c3d5GCb4g2aDf6\n"
     ]
    }
   ],
   "source": [
    "Alphanumeric_String = \"7eAF1cB3d5GCb4Eg2aDf6\"\n",
    "\n",
    "String_Split_List = list(Alphanumeric_String)      # Converting & splitting String variable into List[]\n",
    "\n",
    "print(String_Split_List)\n",
    "\n",
    "String_Split_List.remove(\"A\"), String_Split_List.remove(\"B\"), String_Split_List.remove(\"E\")     # List.remove() deletes one element at a time\n",
    "\n",
    "Removed_Alphanumeric_String = \"\".join(String_Split_List)         # Rejoined List[] string elements into a single String variable\n",
    "\n",
    "print(Removed_Alphanumeric_String)"
   ]
  },
  {
   "cell_type": "code",
   "execution_count": 25,
   "metadata": {},
   "outputs": [
    {
     "name": "stdout",
     "output_type": "stream",
     "text": [
      "['7', 'e', 'A', 'F', '1', 'c', 'B', '3', 'd', '5', 'G', 'C', 'b', '4', 'E', 'g', '2', 'a', 'D', 'f', '6']\n",
      "cf65CFbe3a71gD4dG2\n"
     ]
    }
   ],
   "source": [
    "Alphanumeric_String = \"7eAF1cB3d5GCb4Eg2aDf6\"\n",
    "\n",
    "String_Split_List = list(Alphanumeric_String)      # Converting & splitting String variable into List[]\n",
    "\n",
    "print(String_Split_List)\n",
    "\n",
    "\n",
    "# List.pop(index) deletes the mentioned index element, one element at a time\n",
    "String_Split_List.pop(String_Split_List.index(\"A\")), String_Split_List.pop(String_Split_List.index(\"B\")), String_Split_List.pop(String_Split_List.index(\"E\"))\n",
    "\n",
    "\n",
    "Popped_Alphanumeric_String = \"\".join(String_Split_Set)         # Rejoined List[] string elements into a single String variable\n",
    "\n",
    "print(Popped_Alphanumeric_String)"
   ]
  },
  {
   "cell_type": "code",
   "execution_count": 26,
   "metadata": {},
   "outputs": [
    {
     "name": "stdout",
     "output_type": "stream",
     "text": [
      "['7', 'e', 'A', 'F', '1', 'c', 'B', '3', 'd', '5', 'G', 'C', 'b', '4', 'E', 'g', '2', 'a', 'D', 'f', '6']\n",
      "7eAF1cB3d5GCb4Eg2aDf6_GAMO_LETTER\n"
     ]
    }
   ],
   "source": [
    "Alphanumeric_String = \"7eAF1cB3d5GCb4Eg2aDf6\"\n",
    "\n",
    "String_Split_List = list(Alphanumeric_String)          # Converting & splitting String variable into List[]\n",
    "\n",
    "print(String_Split_List)\n",
    "\n",
    "String_Split_List.append(\"_GAMO_\"), String_Split_List.append(\"LETTER\")    # List[] got inserted by two new elements \"GAMO\" & \"LETTER\" at the end\n",
    "\n",
    "Appended_Alphanumeric_String = \"\".join(String_Split_List)     # Rejoined List[] string elements into a single String variable\n",
    "\n",
    "print(Appended_Alphanumeric_String)"
   ]
  },
  {
   "cell_type": "code",
   "execution_count": 27,
   "metadata": {},
   "outputs": [
    {
     "name": "stdout",
     "output_type": "stream",
     "text": [
      "['7', 'e', 'A', 'F', '1', 'c', 'B', '3', 'd', '5', 'G', 'C', 'b', '4', 'E', 'g', '2', 'a', 'D', 'f', '6']\n",
      "['7', 'e', 'A', 'F', '1', 'c', 'B', '3', 'd', '5', 'G', 'C', 'b', '4', 'E', 'g', '2', 'a', 'D', 'f', '6', '_GAMO_', ['L', 'E', 'T', 'T', 'E', 'R']]\n",
      "['7', 'e', 'A', 'F', '1', 'c', 'B', '3', 'd', '5', 'G', 'C', 'b', '4', 'E', 'g', '2', 'a', 'D', 'f', '6', '_GAMO_', 'LETTER']\n",
      "\n",
      "7eAF1cB3d5GCb4Eg2aDf6_GAMO_LETTER\n"
     ]
    }
   ],
   "source": [
    "Alphanumeric_String = \"7eAF1cB3d5GCb4Eg2aDf6\"\n",
    "\n",
    "String_Split_List = list(Alphanumeric_String)    # Converting & splitting String variable into List[]\n",
    "\n",
    "print(String_Split_List)\n",
    "\n",
    "String_Split_List.append(\"_GAMO_\"), String_Split_List.append([\"L\", \"E\", \"T\", \"T\", \"E\", \"R\"])  # List[] got inserted by two new elements at the end\n",
    "\n",
    "print(String_Split_List)\n",
    "\n",
    "# List[] element [\"L\", \"E\", \"T\", \"T\", \"E\", \"R\"] got joined & replaced as \"LETTER\" string element\n",
    "String_Split_List[String_Split_List.index([\"L\", \"E\", \"T\", \"T\", \"E\", \"R\"])] = \"\".join(String_Split_List[String_Split_List.index([\"L\", \"E\", \"T\", \"T\", \"E\", \"R\"])])\n",
    "\n",
    "print(String_Split_List)\n",
    "print()\n",
    "\n",
    "Appended_Alphanumeric_String = \"\".join(String_Split_List)    # Rejoined List[] string elements into a single String variable\n",
    "\n",
    "print(Appended_Alphanumeric_String)"
   ]
  },
  {
   "cell_type": "code",
   "execution_count": 28,
   "metadata": {},
   "outputs": [
    {
     "name": "stdout",
     "output_type": "stream",
     "text": [
      "['7', 'e', 'A', 'F', '1', 'c', 'B', '3', 'd', '5', 'G', 'C', 'b', '4', 'E', 'g', '2', 'a', 'D', 'f', '6']\n",
      "['7', 'e', 'A', 'F', '1', 'c', 'B', '3', 'd', '5', 'G', 'C', 'b', '4', 'E', 'g', '2', 'a', 'D', 'f', '6', (88-6j), ['List', 77.99, None, False], (45, True, 'Tuple', (66+4j)), {None, (88-5j), 'Set', False}]\n",
      "\n",
      "['7eAF1cB3d5GCb4Eg2aDf6', (88-6j), ['List', 77.99, None, False], (45, True, 'Tuple', (66+4j)), {None, (88-5j), 'Set', False}]\n"
     ]
    }
   ],
   "source": [
    "Alphanumeric_String = \"7eAF1cB3d5GCb4Eg2aDf6\"\n",
    "\n",
    "String_Split_List = list(Alphanumeric_String)                # Converting & splitting String variable into List[]\n",
    "\n",
    "print(String_Split_List)\n",
    "\n",
    "String_Split_List.append(88-6j)\n",
    "\n",
    "String_Split_List.append([\"List\", 77.99, None, False])      # Insert List[] format at the end position.\n",
    "\n",
    "String_Split_List.append((45, True, \"Tuple\", 66+4j))        # Insert Tuple() format at the end position.\n",
    "\n",
    "String_Split_List.append({\"Set\", 88-5j, None, False})              # Insert Set{} format at the end position.\n",
    "\n",
    "print(String_Split_List)\n",
    "print()\n",
    "\n",
    "# List[] string elements '7', 'e', 'A', 'F', '1', 'c', 'B', '3', 'd', '5', 'G', 'C', 'b', '4', 'E', 'g', '2', 'a', 'D', 'f', '6'\n",
    "# got joined & replaced as \"7eAF1cB3d5GCb4Eg2aDf6\" string element as Array[]\n",
    "String_Split_List[String_Split_List.index(\"7\"):String_Split_List.index(\"6\")+1] = [\"\".join(String_Split_List[String_Split_List.index(\"7\"):String_Split_List.index(\"6\")+1])]\n",
    "\n",
    "print(String_Split_List)"
   ]
  },
  {
   "cell_type": "code",
   "execution_count": 29,
   "metadata": {},
   "outputs": [
    {
     "name": "stdout",
     "output_type": "stream",
     "text": [
      "['7', 'e', 'A', 'F', '1', 'c', 'B', '3', 'd', '5', 'G', 'C', 'b', '4', 'E', 'g', '2', 'a', 'D', 'f', '6']\n",
      "['7', 'e', 'A', (88-7j), 'F', '1', ['List', 55, 77.89, None], 'c', ((55+9j), 'Tuple', 66.99, False), 'B', {None, True, 'Set', 77}, '3', 'd', '5', 'G', 'C', 'b', '4', 'E', 'g', '2', 'a', 'D', 'f', '6']\n"
     ]
    }
   ],
   "source": [
    "Alphanumeric_String = \"7eAF1cB3d5GCb4Eg2aDf6\"\n",
    "\n",
    "String_Split_List = list(Alphanumeric_String)                # Converting & splitting String variable into List[]\n",
    "\n",
    "print(String_Split_List)\n",
    "\n",
    "String_Split_List.insert(3, 88-7j)     # Insert new single element e1 at the place of mentioned index\n",
    "\n",
    "String_Split_List.insert(6, [\"List\", 55, 77.89, None])     # Insert new elements in List[] format at the place of mentioned index\n",
    "\n",
    "String_Split_List.insert(8, (55+9j, \"Tuple\", 66.99, False))     # Insert new elements in Tuple() format at the place of mentioned index\n",
    "\n",
    "String_Split_List.insert(10, {None, True, \"Set\", 77})        # Insert new elements in Set{} format at the place of mentioned index\n",
    "\n",
    "print(String_Split_List)"
   ]
  },
  {
   "cell_type": "code",
   "execution_count": 30,
   "metadata": {},
   "outputs": [
    {
     "name": "stdout",
     "output_type": "stream",
     "text": [
      "['7', 'e', 'A', 'F', '1', 'c', 'B', '3', 'd', '5', 'G', 'C', 'b', '4', 'E', 'g', '2', 'a', 'D', 'f', '6']\n",
      "['7', 'e', 'A', 'F', '1', 'c', 'B', '3', 'd', '5', 'G', 'C', 'b', '4', 'E', 'g', '2', 'a', 'D', 'f', '6', '_GAMO_', ['L', 'E', 'T', 'T', 'E', 'R']]\n",
      "['7', 'e', 'A', 'F', '1', 'c', 'B', '3', 'd', '5', 'G', 'C', 'b', '4', 'E', 'g', '2', 'a', 'D', 'f', '6', '_GAMO_', 'LETTER']\n",
      "\n",
      "7eAF1cB3d5GCb4Eg2aDf6_GAMO_LETTER\n"
     ]
    }
   ],
   "source": [
    "Alphanumeric_String = \"7eAF1cB3d5GCb4Eg2aDf6\"\n",
    "\n",
    "String_Split_List = list(Alphanumeric_String)                # Converting & splitting String variable into List[]\n",
    "\n",
    "print(String_Split_List)\n",
    "\n",
    "\n",
    "# List[] got inserted by two new elements \"GAMO\" & [\"L\", \"E\", \"T\", \"T\", \"E\", \"R\"] at the end\n",
    "String_Split_List.insert(len(String_Split_List), \"_GAMO_\"), String_Split_List.insert(len(String_Split_List), [\"L\", \"E\", \"T\", \"T\", \"E\", \"R\"])\n",
    "\n",
    "print(String_Split_List)\n",
    "\n",
    "# List[] element [\"L\", \"E\", \"T\", \"T\", \"E\", \"R\"] got joined & replaced as \"LETTER\" string element\n",
    "String_Split_List[String_Split_List.index([\"L\", \"E\", \"T\", \"T\", \"E\", \"R\"])] = \"\".join(String_Split_List[String_Split_List.index([\"L\", \"E\", \"T\", \"T\", \"E\", \"R\"])])\n",
    "\n",
    "print(String_Split_List)\n",
    "print()\n",
    "\n",
    "Alphanumeric_String = \"\".join(String_Split_List)          # Rejoined List[] string elements into a single String variable\n",
    "\n",
    "print(Alphanumeric_String)"
   ]
  },
  {
   "cell_type": "code",
   "execution_count": 31,
   "metadata": {},
   "outputs": [
    {
     "name": "stdout",
     "output_type": "stream",
     "text": [
      "['7', 'e', 'A', 'F', '1', 'c', 'B', '3', 'd', '5', 'G', 'C', 'b', '4', 'E', 'g', '2', 'a', 'D', 'f', '6']\n",
      "['7', 'e', 'A', '_GAMO_', 'S', 'P', 'L', 'I', 'T', '_', 'F', '1', 'c', 'B', '3', 'd', '5', 'G', 'C', 'b', '4', 'E', 'g', '2', 'a', 'D', 'f', '6']\n",
      "7eA_GAMO_SPLIT_F1cB3d5GCb4Eg2aDf6\n"
     ]
    }
   ],
   "source": [
    "Alphanumeric_String = \"7eAF1cB3d5GCb4Eg2aDf6\"\n",
    "\n",
    "String_Split_List = list(Alphanumeric_String)                # Converting & splitting String variable into List[]\n",
    "\n",
    "print(String_Split_List)\n",
    "\n",
    "String_Split_List[3:0] = [\"_GAMO_\"]             # List[] got inserted 1 new string element as Array[] at the mentioned index\n",
    "\n",
    "String_Split_List[4:0] = \"SPLIT_\"    # List[] got inserted 5 new seperate String elements \"S\", \"P\", \"L\", \"I\", \"T_\" at the mentioned index\n",
    "\n",
    "print(String_Split_List)\n",
    "\n",
    "Alphanumeric_String = \"\".join(String_Split_List)         # Rejoined List[] string elements into a single String variable.\n",
    "\n",
    "print(Alphanumeric_String)"
   ]
  },
  {
   "cell_type": "code",
   "execution_count": 32,
   "metadata": {},
   "outputs": [
    {
     "name": "stdout",
     "output_type": "stream",
     "text": [
      "['7', 'e', 'A', 'F', '1', 'c', 'B', '3', 'd', '5', 'G', 'C', 'b', '4', 'E', 'g', '2', 'a', 'D', 'f', '6']\n",
      "\n",
      "['7', 'e', 'A', '_GAMO_', ['S', 'P', 'L', 'I', 'T'], 'F', '1', 'c', [(88-7j), None, 'List', True], 'B', (87.67, 'Tuple', 47, False), '3', {None, 'Set', (49+4j), 55}, 'd', '5', 20, 'Plain', ('Tup2', 67.55), ['List2', (45-7j)], {None, 'Set2'}, 'G', 'C', 'b', '4', 'E', 'g', '2', 'a', 'D', 'f', '6']\n",
      "\n",
      "['7', 'e', 'A', '_GAMO_', 'SPLIT', 'F', '1', 'c', [(88-7j), None, 'List', True], 'B', (87.67, 'Tuple', 47, False), '3', {None, 'Set', (49+4j), 55}, 'd', '5', 20, 'Plain', ('Tup2', 67.55), ['List2', (45-7j)], {None, 'Set2'}, 'G', 'C', 'b', '4', 'E', 'g', '2', 'a', 'D', 'f', '6']\n"
     ]
    }
   ],
   "source": [
    "Alphanumeric_String = \"7eAF1cB3d5GCb4Eg2aDf6\"\n",
    "\n",
    "String_Split_List = list(Alphanumeric_String)                # Converting & splitting String variable into List[]\n",
    "\n",
    "print(String_Split_List)\n",
    "print()\n",
    "\n",
    "String_Split_List[6:0] = [[88-7j, None, \"List\", True]]   # List[] got inserted 4 new elements at the place of mentioned index as List[] format\n",
    "\n",
    "String_Split_List[8:0] = [(87.67, \"Tuple\", 47, False)]   # List[] got inserted 4 new elements at the place of mentioned index as Tuple() format\n",
    "\n",
    "String_Split_List[10:0] = [{55, \"Set\", 49+4j, None}]     # List[] got inserted 4 new elements at the place of mentioned index as set{} format\n",
    "\n",
    "\n",
    "# List[] got inserted 5 new elements at the place of mentioned index as Plain, List[], Tuple() & Set{} format\n",
    "String_Split_List[13:0] = 20, \"Plain\", (\"Tup2\", 67.55), [\"List2\", 45-7j], {\"Set2\", None}\n",
    "\n",
    "\n",
    "# List[] got inserted by 2 new elements \"GAMO\" & [\"S\", \"P\", \"L\", \"I\", \"T\"] at the mentioned index\n",
    "String_Split_List[3:0] = \"_GAMO_\", [\"S\", \"P\", \"L\", \"I\", \"T\"]\n",
    "\n",
    "print(String_Split_List)\n",
    "print()\n",
    "\n",
    "# List[] element [\"S\", \"P\", \"L\", \"I\", \"T\"] got joined & replaced as \"SPLIT\" string element\n",
    "String_Split_List[String_Split_List.index([\"S\", \"P\", \"L\", \"I\", \"T\"])] = \"\".join(String_Split_List[String_Split_List.index([\"S\", \"P\", \"L\", \"I\", \"T\"])])\n",
    "\n",
    "print(String_Split_List)"
   ]
  },
  {
   "cell_type": "code",
   "execution_count": 33,
   "metadata": {},
   "outputs": [
    {
     "name": "stdout",
     "output_type": "stream",
     "text": [
      "['7', 'e', 'A', 'F', '1', 'c', 'B', '3', 'd', '5', 'G', 'C', 'b', '4', 'E', 'g', '2', 'a', 'D', 'f', '6']\n",
      "\n",
      "['7', 'e', 'A', 'F', '1', 'c', 'B', '3', 'd', '5', 'G', 'C', 'b', '4', 'E', 'g', '2', 'a', 'D', 'f', '6', (67+5j), 'S', 'P', 'L', 'I', 'T', [56, True, 'List'], (None, (33-8j), 'Tuple'), {False, 'Set'}, 57, 88, [None, 'List2'], ('Tuple2', (55-8j)), {99, 'Set2'}]\n"
     ]
    }
   ],
   "source": [
    "Alphanumeric_String = \"7eAF1cB3d5GCb4Eg2aDf6\"\n",
    "\n",
    "String_Split_List = list(Alphanumeric_String)                # Converting & splitting String variable into List[]\n",
    "\n",
    "print(String_Split_List)\n",
    "print()\n",
    "\n",
    "String_Split_List.extend([67+5j])     # Single element got inserted at the end position as Array[]\n",
    "\n",
    "String_Split_List.extend(\"SPLIT\")       # Single string element got inserted as \"S\", \"P\", \"L\", \"I\", \"T\" at the end position\n",
    "\n",
    "String_Split_List.extend([[56, True, \"List\"]])        # Elements got inserted at the end position as List[] format\n",
    "\n",
    "String_Split_List.extend([(None, 33-8j, \"Tuple\")])       # Elements got inserted at the end position as Tuple() format\n",
    "\n",
    "String_Split_List.extend([{False, \"Set\"}])            # Elements got inserted at the end position as Set{} format\n",
    "\n",
    "String_Split_List.extend([57, 88, [None, \"List2\"], (\"Tuple2\", 55-8j), {99, \"Set2\"}])      # Elements got inserted as Plain, List[], Tuple() & Set{} format\n",
    "\n",
    "print(String_Split_List)"
   ]
  },
  {
   "cell_type": "code",
   "execution_count": 34,
   "metadata": {},
   "outputs": [
    {
     "name": "stdout",
     "output_type": "stream",
     "text": [
      "['7', 'e', 'A', 'F', '1', 'c', 'B', '3', 'd', '5', 'G', 'C', 'b', '4', 'E', 'g', '2', 'a', 'D', 'f', '6']\n",
      "\n",
      "['7', 'e', 'A', '_Alone_', 'B', '3', 'd', '5', 'G', 'C', 'b', '4', 'E', 'g', '2', 'a', 'D', 'f', '6']\n",
      "\n",
      "7eA_Alone_B3d5GCb4Eg2aDf6\n"
     ]
    }
   ],
   "source": [
    "Alphanumeric_String = \"7eAF1cB3d5GCb4Eg2aDf6\"\n",
    "\n",
    "String_Split_List = list(Alphanumeric_String)                # Converting & splitting String variable into List[]\n",
    "\n",
    "print(String_Split_List)\n",
    "print()\n",
    "\n",
    "String_Split_List[3:(5)+1] = [\"_Alone_\"]      # From index 3 to 5 elements got replaced by a single string as Array[]\n",
    "\n",
    "print(String_Split_List)\n",
    "print()\n",
    "\n",
    "Alphanumeric_String = \"\".join(String_Split_List)    # Rejoined List[] string elements into a single String variable\n",
    "\n",
    "print(Alphanumeric_String)"
   ]
  },
  {
   "cell_type": "code",
   "execution_count": 35,
   "metadata": {},
   "outputs": [
    {
     "name": "stdout",
     "output_type": "stream",
     "text": [
      "['7', 'e', 'A', 'F', '1', 'c', 'B', '3', 'd', '5', 'G', 'C', 'b', '4', 'E', 'g', '2', 'a', 'D', 'f', '6']\n",
      "\n",
      "['7', 'e', 'A', '_', 'S', 'P', 'L', 'I', 'T', '_', 'B', '3', 'd', '5', 'G', 'C', 'b', '4', 'E', 'g', '2', 'a', 'D', 'f', '6']\n",
      "\n",
      "7eA_SPLIT_B3d5GCb4Eg2aDf6\n"
     ]
    }
   ],
   "source": [
    "Alphanumeric_String = \"7eAF1cB3d5GCb4Eg2aDf6\"\n",
    "\n",
    "String_Split_List = list(Alphanumeric_String)                # Converting & splitting String variable into List[]\n",
    "\n",
    "print(String_Split_List)\n",
    "print()\n",
    "\n",
    "\n",
    "# From index 3 to 5 elements got replaced by 7 new seperate String elements \"_\", \"S\", \"P\", \"L\", \"I\", \"T\", \"_\"\n",
    "String_Split_List[3:(5)+1] = \"_SPLIT_\"\n",
    "\n",
    "print(String_Split_List)\n",
    "print()\n",
    "\n",
    "Alphanumeric_String = \"\".join(String_Split_List)      # Rejoined List[] string elements into a single String variable\n",
    "\n",
    "print(Alphanumeric_String)"
   ]
  },
  {
   "cell_type": "code",
   "execution_count": 36,
   "metadata": {},
   "outputs": [
    {
     "name": "stdout",
     "output_type": "stream",
     "text": [
      "['7', 'e', 'A', 'F', '1', 'c', 'B', '3', 'd', '5', 'G', 'C', 'b', '4', 'E', 'g', '2', 'a', 'D', 'f', '6']\n",
      "\n",
      "7eA_Alone_SPLIT_B3d5GCb4Eg2aDf6\n"
     ]
    }
   ],
   "source": [
    "Alphanumeric_String = \"7eAF1cB3d5GCb4Eg2aDf6\"\n",
    "\n",
    "String_Split_List = list(Alphanumeric_String)                # Converting & splitting String variable into List[]\n",
    "\n",
    "print(String_Split_List)\n",
    "print()\n",
    "\n",
    "# From index 3 to 5 elements got replaced by 6 new seperate String elements \"_Alone_\", \"S\", \"P\", \"L\", \"I\", \"T_\"\n",
    "String_Split_List[3:(5)+1] = \"_Alone_\", \"S\", \"P\", \"L\", \"I\", \"T_\"\n",
    "\n",
    "Alphanumeric_String = \"\".join(String_Split_List)        # Rejoined List[] string elements into a single String variable\n",
    "\n",
    "print(Alphanumeric_String)"
   ]
  },
  {
   "cell_type": "code",
   "execution_count": 37,
   "metadata": {},
   "outputs": [
    {
     "name": "stdout",
     "output_type": "stream",
     "text": [
      "['7', 'e', 'A', 'F', '1', 'c', 'B', '3', 'd', '5', 'G', 'C', 'b', '4', 'E', 'g', '2', 'a', 'D', 'f', '6']\n",
      "\n",
      "['7', 'e', 'A', '_Alone_', ['S', 'P', 'L', 'I', 'T_'], 'B', '3', 'd', '5', 'G', 'C', 'b', '4', 'E', 'g', '2', 'a', 'D', 'f', '6']\n",
      "\n",
      "7eA_Alone_SPLIT_B3d5GCb4Eg2aDf6\n"
     ]
    }
   ],
   "source": [
    "Alphanumeric_String = \"7eAF1cB3d5GCb4Eg2aDf6\"\n",
    "\n",
    "String_Split_List = list(Alphanumeric_String)                # Converting & splitting String variable into List[]\n",
    "\n",
    "print(String_Split_List)\n",
    "print()\n",
    "\n",
    "# From index 3 to 5 elements got replaced by 2 new elements \"_Alone_\" & [\"S\", \"P\", \"L\", \"I\", \"T_\"]\n",
    "String_Split_List[3:(5)+1] = \"_Alone_\", [\"S\", \"P\", \"L\", \"I\", \"T_\"]\n",
    "\n",
    "print(String_Split_List)\n",
    "print()\n",
    "\n",
    "#List[] element [\"S\", \"P\", \"L\", \"I\", \"T_\"] got joined & replaced as \"SPLIT_\" string element\n",
    "String_Split_List[String_Split_List.index([\"S\", \"P\", \"L\", \"I\", \"T_\"])] = \"\".join(String_Split_List[String_Split_List.index([\"S\", \"P\", \"L\", \"I\", \"T_\"])])\n",
    "\n",
    "Alphanumeric_String = \"\".join(String_Split_List)     # Rejoined List[] string elements into a single String variable.\n",
    "\n",
    "print(Alphanumeric_String)"
   ]
  },
  {
   "cell_type": "code",
   "execution_count": 38,
   "metadata": {},
   "outputs": [
    {
     "name": "stdout",
     "output_type": "stream",
     "text": [
      "['7', 'e', 'A', 'F', '1', 'c', 'B', '3', 'd', '5', 'G', 'C', 'b', '4', 'E', 'g', '2', 'a', 'D', 'f', '6']\n",
      "\n",
      "['7', 'e', 'A', 'F', '_e1_', 'c', 'B', ('_e2_', 'NEW', '_MAGNUM_'), 'd', '5', ['_e3_', 'e4', '_e5_'], {'_e6_', '_e8_', 'e7'}, ('e9', 'e10', ['e11', 'e12'], {'e13', 'e14'}), '4', 'E', 'g', '2', 'a', 'D', 'f', '6']\n",
      "\n",
      "['7', 'e', 'A', 'F', '_e1_', 'c', 'B', ('_e2_', 'NEW', '_MAGNUM_'), 'd', '5', ['_e3_', 'e4', '_e5_'], {'_e6_', '_e8_', 'e7'}, ['e9', 'e10', ['e11', 'e12'], {'e13', 'e14'}], '4', 'E', 'g', '2', 'a', 'D', 'f', '6']\n",
      "\n",
      "['e11', 'e12']\n",
      "{'e13', 'e14'}\n",
      "\n",
      "['7', 'e', 'A', 'F', '_e1_', 'c', 'B', ('_e2_', 'NEW', '_MAGNUM_'), 'd', '5', ['_e3_', 'e4', '_e5_'], {'_e6_', '_e8_', 'e7'}, ('e9', 'e10', 'e11_e12', 'e13_e14'), '4', 'E', 'g', '2', 'a', 'D', 'f', '6']\n",
      "\n",
      "7eAF_e1_cB_e2_NEW_MAGNUM_d5_e3_e4_e5__e6__e8_e7e9e10e11_e12e13_e144Eg2aDf6\n"
     ]
    }
   ],
   "source": [
    "Alphanumeric_String = \"7eAF1cB3d5GCb4Eg2aDf6\"\n",
    "\n",
    "String_Split_List = list(Alphanumeric_String)                # Converting & splitting String variable into List[]\n",
    "\n",
    "print(String_Split_List)\n",
    "print()\n",
    "\n",
    "String_Split_List[4] = \"_e1_\"      # Mentioned single index element got replaced by single alone \"_e1_\" string element\n",
    "\n",
    "\n",
    "# Mentioned single index element got replaced by 3 new string elements as Tuple() format\n",
    "String_Split_List[7] = \"_e2_\", \"NEW\", \"_MAGNUM_\"\n",
    "\n",
    "# Mentioned single index element got replaced by 3 new string elements as List[] format\n",
    "String_Split_List[10] = [\"_e3_\", \"e4\", \"_e5_\"]\n",
    "\n",
    "# Mentioned single index element got replaced by 3 new string elements as Set{} format\n",
    "String_Split_List[11] = {\"_e6_\", \"e7\", \"_e8_\"}\n",
    "\n",
    "# Mentioned single index element got replaced by elements as Tuple() format\n",
    "String_Split_List[12] = \"e9\", \"e10\", [\"e11\", \"e12\"], {\"e13\", \"e14\"}\n",
    "\n",
    "print(String_Split_List)\n",
    "print()\n",
    "\n",
    "String_Split_List[12] = list(String_Split_List[12])\n",
    "\n",
    "print(String_Split_List)\n",
    "print()\n",
    "\n",
    "print(String_Split_List[12][2])\n",
    "print(String_Split_List[12][3])\n",
    "\n",
    "print()\n",
    "\n",
    "String_Split_List[12][2] = \"_\".join(String_Split_List[12][2])\n",
    "String_Split_List[12][3] = \"_\".join(String_Split_List[12][3])\n",
    "\n",
    "String_Split_List[12] = tuple(String_Split_List[12])\n",
    "\n",
    "print(String_Split_List)\n",
    "print()\n",
    "\n",
    "String_Split_List[7] = \"\".join(String_Split_List[7])\n",
    "String_Split_List[10] = \"\".join(String_Split_List[10])\n",
    "String_Split_List[11] = \"\".join(String_Split_List[11])\n",
    "String_Split_List[12] = \"\".join(String_Split_List[12])\n",
    "\n",
    "Alphanumeric_String = \"\".join(String_Split_List)    # Rejoined List[] string elements into a single String variable\n",
    "\n",
    "print(Alphanumeric_String)"
   ]
  },
  {
   "cell_type": "code",
   "execution_count": 39,
   "metadata": {},
   "outputs": [
    {
     "name": "stdout",
     "output_type": "stream",
     "text": [
      "['7', 'e', 'A', 'F', '1', 'c', 'B', '3', 'd', '5', 'G', 'C', 'b', '4', 'E', 'g', '2', 'a', 'D', 'f', '6']\n",
      "\n",
      "7e_GAMO_NEW_MAGNUM_F1cB3d5GCb4Eg2aDf6\n"
     ]
    }
   ],
   "source": [
    "Alphanumeric_String = \"7eAF1cB3d5GCb4Eg2aDf6\"\n",
    "\n",
    "String_Split_List = list(Alphanumeric_String)                # Converting & splitting String variable into List[]\n",
    "\n",
    "print(String_Split_List)\n",
    "print()\n",
    "\n",
    "\n",
    "#Mentioned single index2 element got replaced by 3 new string elements in Tuple() format\n",
    "String_Split_List[2] = \"_GAMO_\", \"NEW\", \"_MAGNUM_\"\n",
    "\n",
    "# index 2 Tuple() elements got joined to form a single string & replaced by that string\n",
    "String_Split_List[2] = \"\".join(String_Split_List[2])\n",
    "\n",
    "Alphanumeric_String = \"\".join(String_Split_List)     # Rejoined List[] string elements into a single String variable\n",
    "\n",
    "print(Alphanumeric_String)"
   ]
  },
  {
   "cell_type": "code",
   "execution_count": 40,
   "metadata": {},
   "outputs": [
    {
     "name": "stdout",
     "output_type": "stream",
     "text": [
      "['7', 'e', 'A', 'F', '1', 'c', 'B', '3', 'd', '5', 'G', 'C', 'b', '4', 'E', 'g', '2', 'a', 'D', 'f', '6']\n",
      "\n",
      "['7', 'e', ['_GAMO_', 'NEW', '_MAGNUM_'], 'F', '1', 'c', 'B', '3', 'd', '5', 'G', 'C', 'b', '4', 'E', 'g', '2', 'a', 'D', 'f', '6']\n",
      "\n",
      "['7', 'e', '_GAMO_NEW_MAGNUM_', 'F', '1', 'c', 'B', '3', 'd', '5', 'G', 'C', 'b', '4', 'E', 'g', '2', 'a', 'D', 'f', '6']\n",
      "\n",
      "7e_GAMO_NEW_MAGNUM_F1cB3d5GCb4Eg2aDf6\n"
     ]
    }
   ],
   "source": [
    "Alphanumeric_String = \"7eAF1cB3d5GCb4Eg2aDf6\"\n",
    "\n",
    "String_Split_List = list(Alphanumeric_String)                # Converting & splitting String variable into List[]\n",
    "\n",
    "print(String_Split_List)\n",
    "print()\n",
    "\n",
    "# Mentioned single index 2 element got replaced by 3 new string elements in List[] format\n",
    "String_Split_List[2] = [\"_GAMO_\", \"NEW\", \"_MAGNUM_\"]\n",
    "\n",
    "print(String_Split_List)\n",
    "print()\n",
    "\n",
    "# index 2 List[] elements got joined to form a single string & replaced by that string\n",
    "String_Split_List[2] = \"\".join(String_Split_List[2])\n",
    "\n",
    "print(String_Split_List)\n",
    "print()\n",
    "\n",
    "Alphanumeric_String = \"\".join(String_Split_List) # Rejoined List[] string elements into a single String variable\n",
    "\n",
    "print(Alphanumeric_String)"
   ]
  },
  {
   "cell_type": "code",
   "execution_count": 41,
   "metadata": {},
   "outputs": [
    {
     "name": "stdout",
     "output_type": "stream",
     "text": [
      "['7', 'e', 'A', 'F', '1', 'c', 'B', '3', 'd', '5', 'G', 'C', 'b', '4', 'E', 'g', '2', 'a', 'D', 'f', '6']\n",
      "\n",
      "['7', 'e', 'A', 'F', 55, 'd', '5', 'G', 'Techno', None, {'set'}, False, 'g', ['Nested', 'List', (-0-7j), True], 'f', '6', ('Tuple', (-0-5j), 43, 3.9), {frozenset({False, (-0-22j)}), 'Set'}, 29, (-0-66j), [None, 5.5], ((8-6j), 90), {False, 42j}]\n"
     ]
    }
   ],
   "source": [
    "Alphanumeric_String = \"7eAF1cB3d5GCb4Eg2aDf6\"\n",
    "\n",
    "String_Split_List = list(Alphanumeric_String)                # Converting & splitting String variable into List[]\n",
    "\n",
    "print(String_Split_List)\n",
    "print()\n",
    "\n",
    "String_Split_List[4:8] = [55]   # While replacing elements from index 4 to exclusive index 8 upperbound by single element\n",
    "\n",
    "String_Split_List[8:12] = \"Techno\", None, {\"set\"} , False   # While replacing elements from index 8 to exclusive index 12 upperbound\n",
    "\n",
    "String_Split_List[13:16] = [[\"Nested\", \"List\", -7j, True]] # While replacing elements from index 13 to exclusive index 16 upperbound as List[] format\n",
    "\n",
    "String_Split_List[17:20] = [(\"Tuple\", -5j, 43, 3.9)]  # While replacing elements from index 17 to exclusive index 20 upperbound as Tuple() format\n",
    "\n",
    "String_Split_List[21:24] = [{\"Set\", frozenset({-22j, False})}] # While replacing elements from index 21 to exclusive index 24 upperbound as Set{} format\n",
    "\n",
    "String_Split_List[25:27] = 29, -66j, [None, 5.5], (8-6j, 90), {+42j, False} # While replacing elements from index 25 to exclusive index 27 upperbound as Plain, List[], Tuple() & Set{} format\n",
    "\n",
    "print(String_Split_List)"
   ]
  },
  {
   "cell_type": "code",
   "execution_count": 42,
   "metadata": {},
   "outputs": [
    {
     "name": "stdout",
     "output_type": "stream",
     "text": [
      "['7', 'e', 'A', 'F', '1', 'c', 'B', '3', 'd', '5', 'G', 'C', 'b', '4', 'E', 'g', '2', 'a', 'D', 'f', '6']\n",
      "\n",
      "['7', 'e', 'A', 'F', '1', 'c', 'B', '3', 'd', '5', 'G', 'C', 'b', '4', 'E', 'g', '2', 'a', 'D', 'f', '6', '_GAMO_', 'L', 'E', 'T', 'T', 'E', 'R']\n",
      "\n",
      "7eAF1cB3d5GCb4Eg2aDf6_GAMO_LETTER\n"
     ]
    }
   ],
   "source": [
    "Alphanumeric_String = \"7eAF1cB3d5GCb4Eg2aDf6\"\n",
    "\n",
    "String_Split_List = list(Alphanumeric_String)                # Converting & splitting String variable into List[]\n",
    "\n",
    "print(String_Split_List)\n",
    "print()\n",
    "\n",
    "#List[] got inserted by 7 new elements \"GAMO\" & \"L\", \"E\", \"T\", \"T\", \"E\", \"R\" at the end\n",
    "String_Split_List[len(String_Split_List):0] = [\"_GAMO_\"] ; String_Split_List[len(String_Split_List):0] = \"LETTER\"\n",
    "\n",
    "print(String_Split_List)\n",
    "print()\n",
    "\n",
    "Alphanumeric_String = \"\".join(String_Split_List)    # Rejoined List[] string elements into a single String variable\n",
    "\n",
    "print(Alphanumeric_String)"
   ]
  },
  {
   "cell_type": "code",
   "execution_count": 43,
   "metadata": {},
   "outputs": [
    {
     "name": "stdout",
     "output_type": "stream",
     "text": [
      "['7', 'e', 'A', 'F', '1', 'c', 'B', '3', 'd', '5', 'G', 'C', 'b', '4', 'E', 'g', '2', 'a', 'D', 'f', '6']\n",
      "\n",
      "['7', 'e', 'A', 'F', '1', 'c', 'B', '3', 'd', '5', 'G', 'C', 'b', '4', 'E', 'g', '2', 'a', 'D', 'f', '6', '_GAMO_', 'L', 'E', 'T', 'T', 'E', 'R']\n",
      "\n",
      "7eAF1cB3d5GCb4Eg2aDf6_GAMO_LETTER\n"
     ]
    }
   ],
   "source": [
    "Alphanumeric_String = \"7eAF1cB3d5GCb4Eg2aDf6\"\n",
    "\n",
    "String_Split_List = list(Alphanumeric_String)                # Converting & splitting String variable into List[]\n",
    "\n",
    "print(String_Split_List)\n",
    "print()\n",
    "\n",
    "# List[] got inserted by 7 new elements \"GAMO\" & \"L\", \"E\", \"T\", \"T\", \"E\", \"R\" at the end\n",
    "String_Split_List[len(String_Split_List):0] = \"_GAMO_\", \"L\", \"E\", \"T\", \"T\", \"E\", \"R\"\n",
    "\n",
    "print(String_Split_List)\n",
    "print()\n",
    "\n",
    "Alphanumeric_String = \"\".join(String_Split_List) # Rejoined List[] string elements into a single String variable\n",
    "\n",
    "print(Alphanumeric_String)"
   ]
  },
  {
   "cell_type": "code",
   "execution_count": 44,
   "metadata": {},
   "outputs": [
    {
     "name": "stdout",
     "output_type": "stream",
     "text": [
      "['7', 'e', 'A', 'F', '1', 'c', 'B', '3', 'd', '5', 'G', 'C', 'b', '4', 'E', 'g', '2', 'a', 'D', 'f', '6']\n",
      "\n",
      "['7', 'e', 'A', 'F', '1', 'c', 'B', '3', 'd', '5', 'G', 'C', 'b', '4', 'E', 'g', '2', 'a', 'D', 'f', '6', '_GAMO_', ['L', 'E', 'T', 'T', 'E', 'R']]\n",
      "\n",
      "['7', 'e', 'A', 'F', '1', 'c', 'B', '3', 'd', '5', 'G', 'C', 'b', '4', 'E', 'g', '2', 'a', 'D', 'f', '6', '_GAMO_', 'LETTER']\n",
      "\n",
      "7eAF1cB3d5GCb4Eg2aDf6_GAMO_LETTER\n"
     ]
    }
   ],
   "source": [
    "Alphanumeric_String = \"7eAF1cB3d5GCb4Eg2aDf6\"\n",
    "\n",
    "String_Split_List = list(Alphanumeric_String)                # Converting & splitting String variable into List[]\n",
    "\n",
    "print(String_Split_List)\n",
    "print()\n",
    "\n",
    "# List[] got inserted by two new elements \"GAMO\" & [\"L\", \"E\", \"T\", \"T\", \"E\", \"R\"] at the end\n",
    "String_Split_List[len(String_Split_List):0] = \"_GAMO_\", [\"L\", \"E\", \"T\", \"T\", \"E\", \"R\"]\n",
    "\n",
    "print(String_Split_List)\n",
    "print()\n",
    "\n",
    "# List[] element [\"L\", \"E\", \"T\", \"T\", \"E\", \"R\"] got joined & replaced as \"LETTER\" string element\n",
    "String_Split_List[String_Split_List.index([\"L\", \"E\", \"T\", \"T\", \"E\", \"R\"])] = \"\".join(String_Split_List[String_Split_List.index([\"L\", \"E\", \"T\", \"T\", \"E\", \"R\"])])\n",
    "\n",
    "print(String_Split_List)\n",
    "print()\n",
    "\n",
    "Alphanumeric_String = \"\".join(String_Split_List) # Rejoined List[] string elements into a single String variable\n",
    "\n",
    "print(Alphanumeric_String)"
   ]
  },
  {
   "cell_type": "code",
   "execution_count": 45,
   "metadata": {},
   "outputs": [
    {
     "name": "stdout",
     "output_type": "stream",
     "text": [
      "{'c', 'f', 'E', '6', '5', 'A', 'C', 'F', 'b', 'B', 'e', '3', 'a', '7', '1', 'g', 'D', '4', 'd', 'G', '2'}\n",
      "\n",
      "{'c', 'f', 'E', '6', '5', 'A', 'C', 'F', 'b', 'B', 'e', '3', 'a', '7', 'KB', '1', 'g', 'D', '4', 'd', 'G', '2'}\n",
      "\n",
      "cfE65ACFbBe3a7KB1gD4dG2\n"
     ]
    }
   ],
   "source": [
    "Alphanumeric_String = \"7eAF1cB3d5GCb4Eg2aDf6\"\n",
    "\n",
    "String_Split_Set = set(Alphanumeric_String) # Converting & splitting String variable into Set{} with shuffeled unique elements only\n",
    "\n",
    "print(String_Split_Set)\n",
    "print()\n",
    "\n",
    "#.add() has added two new string elements at random locations in the Set{}\n",
    "String_Split_Set.add(\"A\"), String_Split_Set.add(\"KB\")\n",
    "\n",
    "print(String_Split_Set)\n",
    "print()\n",
    "\n",
    "Alphanumeric_String = \"\".join(String_Split_Set) # Rejoined Set{} string elements into a single String variable\n",
    "\n",
    "print(Alphanumeric_String)"
   ]
  },
  {
   "cell_type": "code",
   "execution_count": 46,
   "metadata": {},
   "outputs": [
    {
     "name": "stdout",
     "output_type": "stream",
     "text": [
      "['7', 'e', 'A', 'F', '1', 'c', 'B', '3', 'd', '5', 'G', 'C', 'b', '4', 'E', 'g', '2', 'a', 'D', 'f', '6']\n",
      "\n",
      "7AF1cB3d5GCb4Eg2aDf6\n"
     ]
    }
   ],
   "source": [
    "Alphanumeric_String = \"7eAF1cB3d5GCb4Eg2aDf6\"\n",
    "\n",
    "String_Split_List = list(Alphanumeric_String)                # Converting & splitting String variable into List[]\n",
    "\n",
    "print(String_Split_List)\n",
    "print()\n",
    "\n",
    "String_Split_List.remove(\"e\") # Deletes first appearance of the mentioned String element\n",
    "\n",
    "Alphanumeric_String = \"\".join(String_Split_List) # Rejoined List[] String elements into a single String variable\n",
    "\n",
    "print(Alphanumeric_String)"
   ]
  },
  {
   "cell_type": "code",
   "execution_count": 47,
   "metadata": {},
   "outputs": [
    {
     "name": "stdout",
     "output_type": "stream",
     "text": [
      "['7', 'e', 'A', 'F', '1', 'c', 'B', '3', 'd', '5', 'G', 'C', 'b', '4', 'E', 'g', '2', 'a', 'D', 'f', '6']\n",
      "\n",
      "['6', 'f', 'D', 'a', '2', 'g', 'E', '4', 'b', 'C', 'G', '5', 'd', '3', 'B', 'c', '1', 'F', 'A', 'e', '7']\n",
      "\n",
      "6fDa2gE4bCG5d3Bc1FAe7\n"
     ]
    }
   ],
   "source": [
    "Alphanumeric_String = \"7eAF1cB3d5GCb4Eg2aDf6\"\n",
    "\n",
    "String_Split_List = list(Alphanumeric_String)                # Converting & splitting String variable into List[]\n",
    "\n",
    "print(String_Split_List)\n",
    "print()\n",
    "\n",
    "String_Split_List.reverse()     # This has reversed the placement of List[] string elements in Backward direction\n",
    "\n",
    "print(String_Split_List)\n",
    "print()\n",
    "\n",
    "String_Backward = \"\".join(String_Split_List)     # Rejoined List[] String elements into a single String variable\n",
    "\n",
    "print(String_Backward)"
   ]
  },
  {
   "cell_type": "code",
   "execution_count": 48,
   "metadata": {},
   "outputs": [
    {
     "name": "stdout",
     "output_type": "stream",
     "text": [
      "{'c', 'f', 'E', '6', '5', 'A', 'C', 'F', 'b', 'B', 'e', '3', 'a', '7', '1', 'g', 'D', '4', 'd', 'G', '2'}\n",
      "\n",
      "{'c', 'f', 'E', '6', 'e1', '5', 'A', 'C', 'F', 'b', 'B', 'e', ('e2', 'e3'), '3', 'a', '7', '1', 'g', 'D', frozenset({'e4', 'e5'}), '4', 'd', 'G', '2'}\n",
      "\n",
      "cfE6e15ACFbBee2e33a71gDe4e54dG2\n"
     ]
    }
   ],
   "source": [
    "Alphanumeric_String = \"7eAF1cB3d5GCb4Eg2aDf6\"\n",
    "\n",
    "String_Split_Set = set(Alphanumeric_String) # Converting & splitting String variable into Set{} with shuffeled unique elements only\n",
    "\n",
    "print(String_Split_Set)\n",
    "print()\n",
    "\n",
    "String_Split_Set.add(\"e1\")                             # Single new String element has been inserted\n",
    "\n",
    "String_Split_Set.add((\"e2\", \"e3\"))                    # Inserting new String elements as Tuple() format\n",
    "\n",
    "String_Split_Set.add(frozenset({\"e4\", \"e5\"}))        # Inserting new String elements as frozenset({}) format\n",
    "\n",
    "print(String_Split_Set)\n",
    "print()\n",
    "\n",
    "String_Split_List = list(String_Split_Set)            # Set{} has been converted into List[]\n",
    "\n",
    "# Tuple() String elements got replaced by join()\n",
    "String_Split_List[String_Split_List.index((\"e2\", \"e3\"))] = \"\".join(String_Split_List[String_Split_List.index((\"e2\", \"e3\"))])\n",
    "\n",
    "# frozenset({}) String elements got replaced by join()\n",
    "String_Split_List[String_Split_List.index(frozenset({\"e4\", \"e5\"}))] = \"\".join(String_Split_List[String_Split_List.index(frozenset({\"e4\", \"e5\"}))])\n",
    "\n",
    "Alphanumeric_String = \"\".join(String_Split_List)       # Rejoined List[] String elements into a single String variable\n",
    "\n",
    "print(Alphanumeric_String)"
   ]
  },
  {
   "cell_type": "code",
   "execution_count": 49,
   "metadata": {},
   "outputs": [
    {
     "name": "stdout",
     "output_type": "stream",
     "text": [
      "Anwesh Bhattacharyya\n"
     ]
    }
   ],
   "source": [
    "# Concatination of String1 & String2 variable to create String3 variable\n",
    "String1 = \"Anwesh\"\n",
    "String2 = \"Bhattacharyya\"\n",
    "String3 = String1 + \" \" + String2\n",
    "print(String3)"
   ]
  },
  {
   "cell_type": "code",
   "execution_count": 50,
   "metadata": {},
   "outputs": [
    {
     "name": "stdout",
     "output_type": "stream",
     "text": [
      "Anwesh Bhattacharyya Data Scientist\n"
     ]
    }
   ],
   "source": [
    "# Concatination of String_Variable & \"New_Word\" to create New_String variable\n",
    "New_String1 = String3 + \" \" + \"Data Scientist\"\n",
    "print(New_String1)"
   ]
  },
  {
   "cell_type": "code",
   "execution_count": 51,
   "metadata": {},
   "outputs": [
    {
     "name": "stdout",
     "output_type": "stream",
     "text": [
      "Anwesh Bhattacharyya Data Scientist\n"
     ]
    }
   ],
   "source": [
    "# AdVanced Concatination of String\n",
    "String3 += \" \" + \"Data Scientist\"\n",
    "print(String3)"
   ]
  },
  {
   "cell_type": "code",
   "execution_count": 52,
   "metadata": {},
   "outputs": [
    {
     "name": "stdout",
     "output_type": "stream",
     "text": [
      "Anwesh Bhattacharyya Data Scientist Artificial Intelligence\n"
     ]
    }
   ],
   "source": [
    "New_String2 = f\"{String3} Artificial Intelligence\"\n",
    "print(New_String2)"
   ]
  },
  {
   "cell_type": "code",
   "execution_count": 53,
   "metadata": {},
   "outputs": [
    {
     "name": "stdout",
     "output_type": "stream",
     "text": [
      "Anwesh Bhattacharyya Data Scientist Artificial Intelligence\n"
     ]
    }
   ],
   "source": [
    "New_String3 = \"%s Artificial Intelligence\" % String3\n",
    "print(New_String3)"
   ]
  },
  {
   "cell_type": "code",
   "execution_count": 54,
   "metadata": {},
   "outputs": [
    {
     "name": "stdout",
     "output_type": "stream",
     "text": [
      "Anwesh Bhattacharyya Data Scientist Nicolai\n"
     ]
    }
   ],
   "source": [
    "New_String4 = \"{} Nicolai\".format(String3)\n",
    "print(New_String4)"
   ]
  },
  {
   "cell_type": "code",
   "execution_count": 55,
   "metadata": {},
   "outputs": [
    {
     "name": "stdout",
     "output_type": "stream",
     "text": [
      "This is single quote string\n",
      "This is double quote string\n",
      "This is 'Single Quote' inside 'double' quote\n",
      "Hello! \"I am Jaspreet\". How's is your Mother?\n",
      "This is Multi-Line paragraph.\n",
      "It starts with \"Triple Quotes\" symbol &\n",
      "also end's with the same.\n",
      "Thanking you Anwesh!!!\n"
     ]
    },
    {
     "data": {
      "text/plain": [
       "(27, 27, 44, 45, 118)"
      ]
     },
     "execution_count": 55,
     "metadata": {},
     "output_type": "execute_result"
    }
   ],
   "source": [
    "SingleQT = 'This is single quote string'\n",
    "print(SingleQT)\n",
    "\n",
    "DoubleQT = \"This is double quote string\"\n",
    "print(DoubleQT)\n",
    "\n",
    "InsideQT = \"This is 'Single Quote' inside 'double' quote\"\n",
    "print(InsideQT)\n",
    "\n",
    "Backlash = \"Hello! \\\"I am Jaspreet\\\". How's is your Mother?\"\n",
    "print(Backlash)\n",
    "\n",
    "Multi_Line = \"\"\"This is Multi-Line paragraph.\n",
    "It starts with \"Triple Quotes\" symbol &\n",
    "also end's with the same.\n",
    "Thanking you Anwesh!!!\"\"\"\n",
    "print(Multi_Line)\n",
    "len(SingleQT), len(DoubleQT), len(InsideQT), len(Backlash), len(Multi_Line)"
   ]
  },
  {
   "cell_type": "markdown",
   "metadata": {},
   "source": [
    "# Variables\n",
    "1. Lists\n",
    "2. Dictionaries\n",
    "3. Tuple\n",
    "4. Sets\n",
    "5. Range"
   ]
  },
  {
   "cell_type": "markdown",
   "metadata": {},
   "source": [
    "## Lists\n",
    "1. List.index(Element) #See the Index of mentioned List[] element. One element at a time.\n",
    "2. List[:] #List[] Indexing\n",
    "3. List[::3] #List[] Indexing from start to end by hopping 3 elements cycle\n",
    "4. List[3:8:2] #List[] indexing from index 3 to index 8 upperbound by hopping 2 elements cycle\n",
    "5. List[8], List[3], List[5] = List[4], List[6], List[10] #List[] 8, 3, 5 index elements got swapped with 4, 6, 10 index elements\n",
    "6. List.append(e1) #Insert new single element e1 at the List[] end position\n",
    "7. List.append([e2, e3, e4])   #Insert new elements in List[] format at the end position\n",
    "8. List.append((e5, e6, e7))   #Insert new elements in Tuple() format at the end position\n",
    "9. List.append({e8, e9, e10})   #Insert new elements in Set{} format at the end position\n",
    "10. List.insert(index, e1) #Insert new single element e1 at the place of mentioned index\n",
    "11. List.insert(index, [e2, e3, e4, e5]) #Insert new elements in List[] format at the place of mentioned index\n",
    "12. List.insert(index, (e6, e7, e8, e9)) #Insert new elements in Tuple() format at the place of mentioned index\n",
    "13. List.insert(index, {e10, e11, e12, e13}) #Insert new elements in Set{} format at the place of mentioned index\n",
    "14. List[Index:0] = [e1] #Insert single element e1 as Array[] at the place of mentioned index\n",
    "15. List[Index:0] = \"LETTER\" #Insert new String alphabet elements \"L\", \"E\", \"T\", \"T\", \"E\", \"R\" at the place of mentioned index\n",
    "16. List[Index:0] = e2, e3, e4, e5 #Insert new elements at the place of mentioned index\n",
    "17. List[Index:0] = [[e6, e7, e8, e9]] #Insert new elements at the place of mentioned index as List[] format\n",
    "18. List[Index:0] = [(e10, e11, e12, e13)] #Insert new elements at the place of mentioned index as Tuple() format\n",
    "19. List[Index:0] = [{e14, e15, e16, e17}] #Insert new elements at the place of mentioned index as Set{} format\n",
    "20. List[Index:0] = e18, e19, [e20, e21], (e22, e23), {e24, e25} #Insert new elements at the place of mentioned index as Plain, List[], Tuple()\n",
    "21.                                                                                                              & Set{} format\n",
    "22. List[index] = e1 #Mentioned single index element got replaced by single alone e1 element\n",
    "23. List[index] = e1, e2, e3, e4 #Mentioned single index element got replaced by e1, e2, e3, e4 elements. Tuple() format\n",
    "24. List[index] = [e1, e2, e3, e4] #Mentioned single index element got replaced by e1, e2, e3, e4 elements. List[] format\n",
    "25. List[index] = {e1, e2, e3, e4} #Mentioned single index element got replaced by e1, e2, e3, e4 elements. Set{} format\n",
    "26. List[index] = e1, e2, [e3, e4], {e5, e6} #Mentioned single index element got replaced by elements as Tuple() format\n",
    "27. List[4:8] = e1, e2, e3, e4 #While replacing elements from index 4 to exclusive index 8 upperbound\n",
    "28. List[4:8] = [e1] #While replacing elements from index 4 to exclusive index 8 upperbound by single element as Array[]\n",
    "29. List[4:8] = [[e1, e2, e3, e4]] #While replacing elements from index 4 to exclusive index 8 upperbound as List[] format\n",
    "30. List[4:8] = [(e1, e2, e3, e4)] #While replacing elements from index 4 to exclusive index 8 upperbound as Tuple() format\n",
    "31. List[4:8] = [{e1, e2, e3, e4}] #While replacing elements from index 4 to exclusive index 8 upperbound as Set{} format\n",
    "32. List[4:8] = e1, e2, [e3, e4], (e5, e6), {e7, e8} #While replacing elements from index 4 to exclusive index 8 upperbound as Plain, List[], Tuple()\n",
    "33.                                                                                                               & Set{} format\n",
    "34. List.extend([e1]) #Insert single indivisual elements to the end position as Array[]\n",
    "35. List.extend(\"SPLIT\") #Single string element got inserted as indivisual letters \"S\", \"P\", \"L\", \"I\", \"T\" at the end position\n",
    "36. List.extend([e2, e3, e4, e5]) #Insert multiple indivisual elements to the end position\n",
    "37. List.extend([[e6, e7, e8, e9]]) #Insert multiple indivisual elements to the end position as List[] format\n",
    "38. List.extend([(e10, e11, e12, e13)]) #Insert multiple indivisual elements to the end position as Tuple() format\n",
    "39. List.extend([{e14, e15, e16, e17}]) #Insert multiple indivisual elements to the end position as Set{} format\n",
    "40. List.extend([e18, e19, [e20, e21], (e22, e23), {e24, e25}]) #Insert multiple indivisual elements to the end position as Plain, List[], Tuple() & Set{} format\n",
    "41. List[len(List):0] = e1, e2, e3, e4 #Insert new multiple elements at the end position\n",
    "42. List[len(List):0] = [e5] #Insert single element e5 at the end position as Array[]\n",
    "43. Concated_List = List1 + List2 + List3 #List Concatination saved to another new List[] variable\n",
    "44. List1 += List2 + List3 #Advanced concatination happened within List1\n",
    "45. random.shuffle(List) #Shuffle the list elements Randomly\n",
    "46. List.reverse() #This will reverse the placement of List[] elements in Backward\n",
    "47. *\n",
    "48. list_reverseiterator = reversed(List) #This will reverse the placement of List[] elements in Backward & convert into list_reverseiterator\n",
    "49. Reversed_List = list(list_reverseiterator) #list_reverseiterator got converted back into List[]\n",
    "50. *\n",
    "51. RandSamp_List = random.sample(List, len(List)) #Pick randomly len(List) no of sample elements\n",
    "52. List.pop() #By default delete the last Index element\n",
    "53. List.pop(index) #delete the mentioned Index element\n",
    "54. List.count(Element) #Count the mentioned Element frequency, count single element at a time.\n",
    "55. List.remove(Element) #delete the mentioned Element, remove() is applicable for List & Set only. Removes first appearance & one element at a time.\n",
    "56. Additionally add(), discard() only works for Set #They don't work for List until you convert them from List[] to Set{} & convert back later.\n",
    "57. *\n",
    "58. MixVarList = [e1, e2, (e3, e4), frozenset({e5, e6})] #List[] must not have any nested List[] & Set{} inside, instead frozenset({}) & Tuple() is allowed\n",
    "59. MixVarList_Set = set(MixVarList) #Convert List[] into Set{}, shuffles & selects unique elements only,\n",
    "60.       MixVarList_Set.add(e1) #Insert one element at a time in the Set{},\n",
    "61.       MixVarList_Set.add((e2, e3)) #Insert multiple elements as Tuple() format\n",
    "62.       MixVarList_Set.add(frozenset({e4, e5})) #Insert multiple elements as frozenset({}) format\n",
    "63.       MixVarList = list(MList_Set) #Convert back Set{} into List[].\n",
    "64. *\n",
    "65. MixVarList = [e1, e2, (e3, e4), frozenset({e5, e6})] #List[] must not have any nested List[] & Set{} inside, instead frozenset({}) & Tuple() is allowed\n",
    "66. MixVarList_Set = set(MixVarList) #Convert List[] into Set{}, shuffles & selects unique elements only,\n",
    "67.       MixVarList_Set.discard(Element) #Delete one element at a time from the Set{},\n",
    "68.       MixVarList = list(MList_Set) #Convert back Set{} into List[].\n",
    "71. *\n",
    "72. MixList.sort() #List[] must not have any nested List[], Tuple() & Set{} inside.\n",
    "73.       #sort() works with Integer, Float, Boolean mix plain List element data types simultaneously & with String seperately.\n",
    "74.       #sort() sequence priority to the String Integers -> Uppercase alphabets -> lowercase alphabets\n",
    "75. *\n",
    "76. MixList2 = sorted(MixList1) #List[] must not have any nested List[], Tuple() & Set{} inside.\n",
    "77.       #sorted() works with Integer, Float, Boolean mix plain List element data types simultaneously & with String seperately.\n",
    "78.       #sorted() sequence priority to the String Integers -> Uppercase alphabets -> lowercase alphabets\n",
    "79. *\n",
    "80. min(MixList), max(MixList), sum(MixList) #When the List element data types are Integer, Float, Bool\n",
    "81.       #List[] must not have any nested List[], Tuple() & Set{} inside"
   ]
  },
  {
   "cell_type": "code",
   "execution_count": 56,
   "metadata": {},
   "outputs": [
    {
     "name": "stdout",
     "output_type": "stream",
     "text": [
      "[1, 2, 3, 4, 5, 6, 7, 8, 9, 10]\n",
      "['KESHAV', ((45+9j), True), [39.69, 39], {88.58, 'Set'}]\n",
      "['KESHAV', ((45+9j), True), [39.69, 39], {88.58, 'Set'}, [1, 2, 3, 4, 5, 6, 7, 8, 9, 10]]\n"
     ]
    }
   ],
   "source": [
    "# You can't perform Arithmatic operations between lists, only concatination is possible\n",
    "# Creation of list ---- [], all elements of list come inside square bracket\n",
    "# [] Write everything inside Square bracket, which creates list\n",
    "# Whenever you want to fetch any specific value from List, mention the positional/location/index val inside List[] square bracket\n",
    "# You can't perform Arithmatic operations between 2 or more Lists\n",
    "# Homogenous list ----- list following only one datatype\n",
    "# Nested List----- When you create multiple List inside a List\n",
    "# You can't perform advanced indexing with List\n",
    "# List is mutable variable, you can add, remove, insert, swap, sort, shuffle & replace elements of List\n",
    "\n",
    "HomoList = [1, 2, 3, 4, 5, 6, 7, 8, 9, 10]           # List[] containing only integers\n",
    "print(HomoList)\n",
    "\n",
    "MixVarList = [\"KESHAV\", (45+9j, True), [39.69, 39], {\"Set\", 88.58}]          # List[] containing all type of datas & variables\n",
    "print(MixVarList)\n",
    "\n",
    "NestedList = [\"KESHAV\", (45+9j, True), [39.69, 39], {\"Set\", 88.58}, HomoList]       # HomoList has been taken inside as NestedList\n",
    "print(NestedList)"
   ]
  },
  {
   "cell_type": "code",
   "execution_count": 57,
   "metadata": {},
   "outputs": [
    {
     "name": "stdout",
     "output_type": "stream",
     "text": [
      "4\n",
      "4\n"
     ]
    }
   ],
   "source": [
    "print(NestedList.index([1, 2, 3, 4, 5, 6, 7, 8, 9, 10]))    # See the index of mentioned List[] element. One element at a time.\n",
    "print(NestedList.index(HomoList))"
   ]
  },
  {
   "cell_type": "code",
   "execution_count": 58,
   "metadata": {},
   "outputs": [
    {
     "name": "stdout",
     "output_type": "stream",
     "text": [
      "[{88.58, 'Set'}, [1, 2, 3, 4, 5, 6, 7, 8, 9, 10]]\n",
      "['KESHAV', {88.58, 'Set'}]\n",
      "[{88.58, 'Set'}]\n"
     ]
    }
   ],
   "source": [
    "print(NestedList[3:7])   # List[] indexing from index 3 to index 7 upperbound\n",
    "print(NestedList[::3])   # List[] indexing from start to end by hopping 3 elements cycle\n",
    "print(NestedList[3:8:2])   # List[] indexing from index 3 to index 8 upperbound by hopping 2 elements cycle"
   ]
  },
  {
   "cell_type": "code",
   "execution_count": 59,
   "metadata": {},
   "outputs": [
    {
     "name": "stdout",
     "output_type": "stream",
     "text": [
      "[88, True, None, {88.67}, (66+4j), frozenset({frozenset({55.88}), 'Set'}), {88.67}, 555, (66+4j), ('Tuple', (76-8j)), frozenset({frozenset({55.88}), 'Set'})]\n"
     ]
    }
   ],
   "source": [
    "MixVarList = [88, True, None, [None, \"List\"], 66+4j, False, {88.67}, 555, 29, (\"Tuple\", 76-8j), frozenset({(\"Set\"), frozenset({55.88})})]\n",
    "\n",
    "# List[] 8, 3, 5 index elements got swapped with 4, 6, 10 index elements\n",
    "MixVarList[8], MixVarList[3], MixVarList[5] = MixVarList[4], MixVarList[6], MixVarList[10]\n",
    "\n",
    "print(MixVarList)"
   ]
  },
  {
   "cell_type": "code",
   "execution_count": 60,
   "metadata": {},
   "outputs": [
    {
     "name": "stdout",
     "output_type": "stream",
     "text": [
      "[88, True, None, [None, 'List'], (66+4j), False, {88.67}, 555, 29, ('Tuple', (76-8j)), frozenset({frozenset({55.88}), 'Set'}), (66+8j), [5, 8, {'String', 22}], ('Tuple', 99), {(88-8j), 'Set'}]\n"
     ]
    }
   ],
   "source": [
    "MixVarList = [88, True, None, [None, \"List\"], 66+4j, False, {88.67}, 555, 29, (\"Tuple\", 76-8j), frozenset({(\"Set\"), frozenset({55.88})})]\n",
    "\n",
    "MixVarList.append(66+8j)                     # Insert element e1 at the end position\n",
    "\n",
    "MixVarList.append([5, 8, {\"String\", 22}])    # Insert in List[] format at the end position\n",
    "\n",
    "MixVarList.append((\"Tuple\", 99))             # Insert in Tuple() format at the end position\n",
    "\n",
    "MixVarList.append({\"Set\", 88-8j})            # Insert in Set{} format at the end position\n",
    "\n",
    "print(MixVarList)"
   ]
  },
  {
   "cell_type": "code",
   "execution_count": 61,
   "metadata": {},
   "outputs": [
    {
     "name": "stdout",
     "output_type": "stream",
     "text": [
      "[88, True, (22-9j), (78, 'Neutron', None, 'Amethyst'), None, [None, 'List'], [None, 'Mix', 67.66, True], (66+4j), {False, 68, None, 'Curly'}, False, {88.67}, 555, 29, ('Tuple', (76-8j)), frozenset({frozenset({55.88}), 'Set'})]\n"
     ]
    }
   ],
   "source": [
    "MixVarList = [88, True, None, [None, \"List\"], 66+4j, False, {88.67}, 555, 29, (\"Tuple\", 76-8j), frozenset({(\"Set\"), frozenset({55.88})})]\n",
    "\n",
    "MixVarList.insert(2, 22-9j)     # Insert new single element e1 at the place of mentioned index\n",
    "\n",
    "MixVarList.insert(5, [None, \"Mix\", 67.66, True])     # Insert new elements in List[] format at the place of mentioned index\n",
    "\n",
    "MixVarList.insert(3, (78, \"Neutron\", None, \"Amethyst\"))     # Insert new elements in Tuple() format at the place of mentioned index\n",
    "\n",
    "MixVarList.insert(8, {68, \"Curly\", False, None})      # Insert new elements in Set{} format at the place of mentioned index\n",
    "\n",
    "print(MixVarList)"
   ]
  },
  {
   "cell_type": "code",
   "execution_count": 62,
   "metadata": {},
   "outputs": [
    {
     "name": "stdout",
     "output_type": "stream",
     "text": [
      "[88, True, '3', 8, True, 1689, None, None, [11, 'ReMix', (23-6j), (77-8j)], [None, 'List'], (45, None, 'Opal', 13), 'L', {17, 'Nest', frozenset({33, 44}), 'Braces'}, 21, (11-4j), [None, True], (33.33, 97), {65, (7-8j)}, 'E', 'T', 'T', 'E', 'R', (66+4j), False, {88.67}, 555, 29, ('Tuple', (76-8j)), frozenset({frozenset({55.88}), 'Set'})]\n"
     ]
    }
   ],
   "source": [
    "MixVarList = [88, True, None, [None, \"List\"], 66+4j, False, {88.67}, 555, 29, (\"Tuple\", 76-8j), frozenset({(\"Set\"), frozenset({55.88})})]\n",
    "\n",
    "MixVarList[2:0] = [\"3\"]     # Insert single element e1 as Array[] at the place of mentioned index\n",
    "\n",
    "MixVarList[5:0] = \"LETTER\"     # Insert new String alphabet elements \"L\", \"E\", \"T\", \"T\", \"E\", \"R\" at the place of mentioned index\n",
    "\n",
    "MixVarList[3:0] = 8, True, 1689, None     # Insert new elements at the place of mentioned index\n",
    "\n",
    "MixVarList[8:0] = [[11, \"ReMix\", 23-6j, 77-8j]]      # Insert new elements at the place of mentioned index as List[] format\n",
    "\n",
    "MixVarList[10:0] = [(45, None, \"Opal\", 13)]      # Insert new elements at the place of mentioned index as Tuple() format\n",
    "\n",
    "MixVarList[12:0] = [{\"Braces\", \"Nest\", (17), frozenset({33,44})}]      # Insert new elements at the place of mentioned index as Set{} format\n",
    "\n",
    "MixVarList[13:0] = 21, 11-4j, [None, True], (33.33, 97), {7-8j, 65}   # Insert new elements at the place of mentioned index as Plain, List[], Tuple() & Set{} format\n",
    "\n",
    "print(MixVarList)"
   ]
  },
  {
   "cell_type": "code",
   "execution_count": 63,
   "metadata": {},
   "outputs": [
    {
     "name": "stdout",
     "output_type": "stream",
     "text": [
      "[88, True, 59, [7j, False, 12, True], (66+4j), (21, None, (81-6j), 'Index'), {88.67}, 555, {(-0-88j), 57.45, 13, None}, ('Tuple', (76-8j)), (55.99, 3.14, [44, 62], {(-0-48j), 'Euclid'})]\n"
     ]
    }
   ],
   "source": [
    "MixVarList = [88, True, None, [None, \"List\"], 66+4j, False, {88.67}, 555, 29, (\"Tuple\", 76-8j), frozenset({(\"Set\"), frozenset({55.88})})]\n",
    "\n",
    "MixVarList[2] = 59      # Mentioned single index element got replaced by single alone e1 element\n",
    "MixVarList[5] = 21, None, 81-6j, \"Index\"     # Mentioned single index element got replaced by e1, e2, e3, e4 elements. Tuple() format\n",
    "MixVarList[3] = [7j, False, 12, True]      # Mentioned single index element got replaced by e1, e2, e3, e4 elements. List[] format\n",
    "MixVarList[8] = {57.45, 13, -88j, None}     # Mentioned single index element got replaced by e1, e2, e3, e4 elements. Set{} format\n",
    "MixVarList[10] = 55.99, 3.14, [44, 62], {\"Euclid\", -48j}    # Mentioned single index element got replaced by elements as Tuple() format\n",
    "\n",
    "print(MixVarList)"
   ]
  },
  {
   "cell_type": "code",
   "execution_count": 64,
   "metadata": {},
   "outputs": [
    {
     "name": "stdout",
     "output_type": "stream",
     "text": [
      "[88, True, 23, (4+5j), [87, 38j], (None, False), {True, 'Phantom'}, (88-4j), None, 'Plain', 41, 29, 'Arnold', ['Black', False, 'Tesla', (56+3j)], ((-0-66j), None, 37, True), {(-0-77j), 50, 12, 47}]\n"
     ]
    }
   ],
   "source": [
    "MixVarList = [88, True, None, [None, \"List\"], 66+4j, False, {88.67}, 555, 29, (\"Tuple\", 76-8j), frozenset({(\"Set\"), frozenset({55.88})})]\n",
    "\n",
    "MixVarList[4:8] = 88-4j, None, \"Plain\", 41 # While replacing elements from index 4 to exclusive index 8 upperbound\n",
    "MixVarList[9:12] = [\"Arnold\"]      # From 9 to 12 exclusive upperbound multiple index elements will be replaced by single element e1 as Array[]\n",
    "MixVarList[13:16] = [[\"Black\", False, \"Tesla\", 56+3j]]   # While replacing elements from index 13 to exclusive index 16 upperbound as List[] format\n",
    "MixVarList[22:29] = [(-66j, None, 37, True)]   # While replacing elements from index 22 to exclusive index 29 upperbound as Tuple() format\n",
    "MixVarList[24:28] = [{12, 50, 47, -77j}]   # While replacing elements from index 24 to exclusive index 28 upperbound as Set{} format\n",
    "\n",
    "# While replacing elements from index 2 to index 4 as Plain, List[], Tuple(), & Set{} format\n",
    "MixVarList[2:4] = 23, 4+5j, [87, 38j], (None, False), {\"Phantom\", True}\n",
    "\n",
    "print(MixVarList)"
   ]
  },
  {
   "cell_type": "code",
   "execution_count": 65,
   "metadata": {},
   "outputs": [
    {
     "name": "stdout",
     "output_type": "stream",
     "text": [
      "[88, True, None, [None, 'List'], (66+4j), False, {88.67}, 555, 29, ('Tuple', (76-8j)), frozenset({frozenset({55.88}), 'Set'}), 'Extend', 'S', 'P', 'L', 'I', 'T', 24, (-0-77j), 100, False, [67, (79-9j), (99-6j), None], ('Alpha', 73, 11.34, (-0-84j)), {True, 44, 61, 'Mid'}, 59, (-0-49j), [(-0-99j), 58], (True, 'Mouse'), {False, 'String'}]\n"
     ]
    }
   ],
   "source": [
    "MixVarList = [88, True, None, [None, \"List\"], 66+4j, False, {88.67}, 555, 29, (\"Tuple\", 76-8j), frozenset({(\"Set\"), frozenset({55.88})})]\n",
    "\n",
    "MixVarList.extend([\"Extend\"])    # Insert single indivisual elements to the end position as Array[]\n",
    "MixVarList.extend(\"SPLIT\")        # Single string element got inserted as indivisual letters \"S\", \"P\", \"L\", \"I\", \"T\" at the end position\n",
    "MixVarList.extend([24, -77j, 100, False])   # Insert multiple indivisual elements to the end position\n",
    "MixVarList.extend([[67, 79-9j, 99-6j, None]])     # Insert multiple indivisual elements to the end position as List[] format\n",
    "MixVarList.extend([(\"Alpha\", 73, 11.34, -84j)])     # Insert multiple indivisual elements to the end position as Tuple() format\n",
    "MixVarList.extend([{True, 44, 61, \"Mid\"}])     # Insert multiple indivisual elements to the end position as Set{} format\n",
    "\n",
    "# Insert multiple indivisual elements to the end position as Plain, List[], Tuple() & Set{} format\n",
    "MixVarList.extend([59, -49j, [-99j, 58], (True, \"Mouse\"), {\"String\", False}])\n",
    "\n",
    "print(MixVarList)"
   ]
  },
  {
   "cell_type": "code",
   "execution_count": 66,
   "metadata": {},
   "outputs": [
    {
     "name": "stdout",
     "output_type": "stream",
     "text": [
      "[88, True, None, [None, 'List'], (66+4j), False, {88.67}, 555, 29, ('Tuple', (76-8j)), frozenset({frozenset({55.88}), 'Set'}), 43, (-0-34j), None, True, 'Alaska']\n"
     ]
    }
   ],
   "source": [
    "MixVarList = [88, True, None, [None, \"List\"], 66+4j, False, {88.67}, 555, 29, (\"Tuple\", 76-8j), frozenset({(\"Set\"), frozenset({55.88})})]\n",
    "\n",
    "MixVarList[len(MixVarList):0] = 43, -34j, None, True    # Insert new multiple elements at the end position\n",
    "MixVarList[len(MixVarList):0] = [\"Alaska\"]            # Insert single element e5 at the end position as Array[]\n",
    "\n",
    "print(MixVarList)"
   ]
  },
  {
   "cell_type": "code",
   "execution_count": 67,
   "metadata": {},
   "outputs": [
    {
     "name": "stdout",
     "output_type": "stream",
     "text": [
      "[56, None, (7-9j), 'List1', True, [77, (-0-89j)], ('Tuple', (6-1j)), {None, 60}, 52.45, False, ['Topaz', (-0-68j)], ('Mix', 75.19), {49.69, (-0-51j)}]\n",
      "\n",
      "[56, None, (7-9j), 'List1', True, [77, (-0-89j)], ('Tuple', (6-1j)), {None, 60}, 52.45, False, ['Topaz', (-0-68j)], ('Mix', 75.19), {49.69, (-0-51j)}]\n",
      "True\n"
     ]
    }
   ],
   "source": [
    "List1 = [56, None, 7-9j, \"List1\", True]\n",
    "List2 = [[77, -89j], (\"Tuple\", 6-1j), {None, 60}]\n",
    "List3 = [52.45, False, [\"Topaz\", -68j], (\"Mix\", 75.19), {-51j, 49.69}]\n",
    "\n",
    "Concated_List = List1 + List2 + List3   # List Concatination saved to another new List[] variable\n",
    "\n",
    "print(Concated_List)\n",
    "print()\n",
    "\n",
    "List1 += List2 + List3   # Advanced concatination happened within List1\n",
    "\n",
    "print(List1)\n",
    "\n",
    "print(Concated_List == List1)"
   ]
  },
  {
   "cell_type": "code",
   "execution_count": 68,
   "metadata": {},
   "outputs": [
    {
     "name": "stdout",
     "output_type": "stream",
     "text": [
      "[False, True, frozenset({frozenset({55.88}), 'Set'}), ('Tuple', (76-8j)), (66+4j), [None, 'List'], None, 555, {88.67}, 29, 88]\n"
     ]
    }
   ],
   "source": [
    "import random\n",
    "\n",
    "MixVarList = [88, True, None, [None, \"List\"], 66+4j, False, {88.67}, 555, 29, (\"Tuple\", 76-8j), frozenset({(\"Set\"), frozenset({55.88})})]\n",
    "\n",
    "random.shuffle(MixVarList)       # Shuffle the list elements Randomly\n",
    "\n",
    "print(MixVarList)"
   ]
  },
  {
   "cell_type": "code",
   "execution_count": 69,
   "metadata": {},
   "outputs": [
    {
     "name": "stdout",
     "output_type": "stream",
     "text": [
      "[88, True, None, [None, 'List'], (66+4j), False, {88.67}, 555, 29, ('Tuple', (76-8j)), frozenset({frozenset({55.88}), 'Set'})]\n",
      "[frozenset({frozenset({55.88}), 'Set'}), ('Tuple', (76-8j)), 29, 555, {88.67}, False, (66+4j), [None, 'List'], None, True, 88]\n"
     ]
    }
   ],
   "source": [
    "MixVarList = [88, True, None, [None, \"List\"], 66+4j, False, {88.67}, 555, 29, (\"Tuple\", 76-8j), frozenset({(\"Set\"), frozenset({55.88})})]\n",
    "\n",
    "print(MixVarList)\n",
    "\n",
    "MixVarList.reverse()    # This will reverse the placement of List[] elements in Backward\n",
    "\n",
    "print(MixVarList)"
   ]
  },
  {
   "cell_type": "code",
   "execution_count": 70,
   "metadata": {},
   "outputs": [
    {
     "name": "stdout",
     "output_type": "stream",
     "text": [
      "[frozenset({frozenset({55.88}), 'Set'}), ('Tuple', (76-8j)), 29, 555, {88.67}, False, (66+4j), [None, 'List'], None, True, 88]\n"
     ]
    }
   ],
   "source": [
    "MixVarList = [88, True, None, [None, \"List\"], 66+4j, False, {88.67}, 555, 29, (\"Tuple\", 76-8j), frozenset({(\"Set\"), frozenset({55.88})})]\n",
    "\n",
    "MixVarList = reversed(MixVarList)    # It reversed the placement of List[] elements in Backward & save it as itrator\n",
    "\n",
    "MixVarList = list(MixVarList)   # Itrator got converted back into List[]\n",
    "\n",
    "print(MixVarList)"
   ]
  },
  {
   "cell_type": "code",
   "execution_count": 71,
   "metadata": {},
   "outputs": [
    {
     "name": "stdout",
     "output_type": "stream",
     "text": [
      "[{88.67}, None, [None, 'List'], 88, False, True, 29, ('Tuple', (76-8j)), frozenset({frozenset({55.88}), 'Set'}), 555, (66+4j)]\n"
     ]
    }
   ],
   "source": [
    "MixVarList = [88, True, None, [None, \"List\"], 66+4j, False, {88.67}, 555, 29, (\"Tuple\", 76-8j), frozenset({(\"Set\"), frozenset({55.88})})]\n",
    "\n",
    "RandSamp_MixVarList = random.sample(MixVarList, len(MixVarList))    # Pick randomly len(List) no of sample elements\n",
    "\n",
    "print(RandSamp_MixVarList)"
   ]
  },
  {
   "cell_type": "code",
   "execution_count": 72,
   "metadata": {},
   "outputs": [
    {
     "name": "stdout",
     "output_type": "stream",
     "text": [
      "[88, True, None, [None, 'List'], (66+4j), False, {88.67}, 555, 29, ('Tuple', (76-8j))]\n",
      "\n",
      "[88, True, None, [None, 'List'], False, {88.67}, 555, 29, ('Tuple', (76-8j))]\n"
     ]
    }
   ],
   "source": [
    "MixVarList = [88, True, None, [None, \"List\"], 66+4j, False, {88.67}, 555, 29, (\"Tuple\", 76-8j), frozenset({(\"Set\"), frozenset({55.88})})]\n",
    "\n",
    "MixVarList.pop()    # By default delete the last index element\n",
    "\n",
    "print(MixVarList)\n",
    "print()\n",
    "\n",
    "MixVarList.pop(4)    # delete the mentioned index element\n",
    "print(MixVarList)"
   ]
  },
  {
   "cell_type": "code",
   "execution_count": 73,
   "metadata": {},
   "outputs": [
    {
     "name": "stdout",
     "output_type": "stream",
     "text": [
      "1\n"
     ]
    }
   ],
   "source": [
    "MixVarList = [88, True, None, [None, \"List\"], 66+4j, False, {88.67}, 555, 29, (\"Tuple\", 76-8j), frozenset({(\"Set\"), frozenset({55.88})})]\n",
    "\n",
    "print(MixVarList.count(None))  # Count the mentioned Element frequency, count single element at a time."
   ]
  },
  {
   "cell_type": "code",
   "execution_count": 74,
   "metadata": {},
   "outputs": [
    {
     "name": "stdout",
     "output_type": "stream",
     "text": [
      "[88, True, None, [None, 'List'], (66+4j), False, {88.67}, 29, ('Tuple', (76-8j)), frozenset({frozenset({55.88}), 'Set'})]\n"
     ]
    }
   ],
   "source": [
    "MixVarList = [88, True, None, [None, \"List\"], 66+4j, False, {88.67}, 555, 29, (\"Tuple\", 76-8j), frozenset({(\"Set\"), frozenset({55.88})})]\n",
    "\n",
    "# delete the mentioned Element, remove() is applicable for List & Set only. Removes first appearance & one element at a time.\n",
    "MixVarList.remove(555)\n",
    "\n",
    "print(MixVarList)"
   ]
  },
  {
   "cell_type": "code",
   "execution_count": 75,
   "metadata": {},
   "outputs": [
    {
     "name": "stdout",
     "output_type": "stream",
     "text": [
      "{False, True, None, 555, (66+4j), frozenset({frozenset({55.88}), 'Set'}), ('Tuple', (76-8j)), 88, 88.67, 29}\n",
      "[False, True, ('Loop', (-0-37j)), None, 555, (66+4j), frozenset({'Frozen', (88+5j)}), frozenset({frozenset({55.88}), 'Set'}), ('Tuple', (76-8j)), (69-5j), 88, 88.67, 29]\n"
     ]
    }
   ],
   "source": [
    "MixVarList = [88, True, None, 66+4j, False, 88.67, 555, 29, (\"Tuple\", 76-8j), frozenset({(\"Set\"), frozenset({55.88})})]\n",
    "\n",
    "                         # List[] must not contains any nested List{} & Set{} inside, instead frozenset({}) & Tuple() is allowed\n",
    "MixVarList_Set = set(MixVarList)   # Convert List[] into Set{}, shuffles & selects unique elements only\n",
    "\n",
    "print(MixVarList_Set)\n",
    "\n",
    "MixVarList_Set.add(69-5j)            # Insert one element at a time in the Set{}\n",
    "\n",
    "MixVarList_Set.add((\"Loop\", -37j))      # Insert multiple elements as Tuple() format\n",
    "\n",
    "MixVarList_Set.add(frozenset({\"Frozen\", 88+5j}))       # Insert multiple elements as frozenset({}) format\n",
    "\n",
    "MixVarList = list(MixVarList_Set)                  # Convert back Set{} into List[]\n",
    "\n",
    "print(MixVarList)"
   ]
  },
  {
   "cell_type": "code",
   "execution_count": 76,
   "metadata": {},
   "outputs": [
    {
     "name": "stdout",
     "output_type": "stream",
     "text": [
      "{False, True, None, 555, (66+4j), frozenset({frozenset({55.88}), 'Set'}), ('Tuple', (76-8j)), 88, 88.67, 29}\n",
      "[False, True, None, (66+4j), frozenset({frozenset({55.88}), 'Set'}), ('Tuple', (76-8j)), 88, 88.67, 29]\n"
     ]
    }
   ],
   "source": [
    "MixVarList = [88, True, None, 66+4j, False, 88.67, 555, 29, (\"Tuple\", 76-8j), frozenset({(\"Set\"), frozenset({55.88})})]\n",
    "\n",
    "                         # List[] must not contains any nested List{} & Set{} inside, instead frozenset({}) & Tuple() is allowed\n",
    "MixVarList_Set = set(MixVarList)   # Convert List[] into Set{}, shuffles & selects unique elements only\n",
    "\n",
    "print(MixVarList_Set)\n",
    "\n",
    "MixVarList_Set.discard(555)         # Delete one element at a time from the Set{}\n",
    "\n",
    "MixVarList = list(MixVarList_Set)         # Convert back Set{} into List[]\n",
    "\n",
    "print(MixVarList)"
   ]
  },
  {
   "cell_type": "code",
   "execution_count": 77,
   "metadata": {},
   "outputs": [
    {
     "name": "stdout",
     "output_type": "stream",
     "text": [
      "[False, True, 29, 88, 88.67, 555]\n"
     ]
    }
   ],
   "source": [
    "MixList = [88, True, False, 88.67, 555, 29]     # List[] must not have any nested List[], Tuple() & Set{} inside\n",
    "\n",
    "MixList.sort()     # sort() works with Integer, Float, Boolean mix plain List element data types simultaneously & with String seperately\n",
    "                      # sort() sequence priority to the String Integers -> Uppercase alphabets -> lowercase alphabets\n",
    "print(MixList)"
   ]
  },
  {
   "cell_type": "code",
   "execution_count": 78,
   "metadata": {},
   "outputs": [
    {
     "name": "stdout",
     "output_type": "stream",
     "text": [
      "[False, True, 29, 88, 88.67, 555]\n"
     ]
    }
   ],
   "source": [
    "MixList = [88, True, False, 88.67, 555, 29]    # List[] must not have any nested List[], Tuple() & Set{} inside\n",
    "\n",
    "Sorted_MixList = sorted(MixList)   # sorted() works with Integer, Float, Boolean mix plain List element data types simultaneously & with String seperately\n",
    "                                   # sorted() sequence priority to the String Integers -> Uppercase alphabets -> lowercase alphabets\n",
    "print(Sorted_MixList)"
   ]
  },
  {
   "cell_type": "code",
   "execution_count": 79,
   "metadata": {},
   "outputs": [
    {
     "name": "stdout",
     "output_type": "stream",
     "text": [
      "False\n",
      "555\n",
      "761.6700000000001\n"
     ]
    }
   ],
   "source": [
    "MixList = [88, True, False, 88.67, 555, 29]    # List[] must not have any nested List[], Tuple() & Set{} inside\n",
    "                                               # When the List element data types are Integer, Float, Bool\n",
    "print(min(MixList))\n",
    "\n",
    "print(max(MixList))\n",
    "\n",
    "print(sum(MixList))"
   ]
  },
  {
   "cell_type": "markdown",
   "metadata": {},
   "source": [
    "## Tuples are immutable in nature\n",
    "1. Tuple is immutable variable, you can't add(Element), append([E1, E2, E3]) List[] format, extend([E1, E2, E3]), remove(Element), pop(Index), discard(Element), insert(Index, [E1, E2, E3]) List[] format, swap, sort(), shuffle() & replace() elements of Tuple\n",
    "2. Additionally add(Element), discard(Element) is applicable for Set only\n",
    "3. remove() is applicable for List & Set only. It removes first appearance & one element at a time.\n",
    "4. Tuple.index(Element) #Check the Index of mentioned element. One element at a time.\n",
    "5. Tuple[:] #Tuple() indexing\n",
    "6. Tuple[::3] #Tuple() indexing from start to end by hopping 3 elements cycle\n",
    "7. Tuple[3:8:2] #Tuple() indexing from index 3 to index 8 upperbound by hopping 2 elements cycle\n",
    "8. *\n",
    "9. Tuple_List = list(Tuple) #Tuple() got converted into List[]\n",
    "10.       Tuple_List[7], Tuple_List[3] = Tuple_List[5], Tuple_List[9] #List[] 7th index element, 3rd index element got\n",
    "11.                                                              swapped with 5th index element & 9th index element.\n",
    "12.       Swapped_Tuple = tuple(Tuple_List) #Swapped List[] got converted back into Tuple()\n",
    "13. *\n",
    "14. Tuple_List = list(Tuple) #Convert Tuple() into List[],\n",
    "15.       Tuple_List.append(e1) #Insert element e1 at the end position,\n",
    "16.       Tuple_List.append([e2, e3, e4, e5]) #Insert multiple elements in List[] format at the end position,\n",
    "17.       Tuple_List.append((e6, e7, e8, e9)) #Insert multiple elements in Tuple() format at the end position,\n",
    "18.       Tuple_List.append({e10, e11, e12, e13}) #Insert multiple elements in Set{} format at the end position\n",
    "19.       Tuple = tuple(Tuple_List) #Convert back List[] into Tuple().\n",
    "20. *\n",
    "21. Tuple_List = list(Tuple) #Convert Tuple() into List[],\n",
    "22.       Tuple_List.insert(index, e1) #Insert new single element e1 at the place of mentioned index,\n",
    "23.       Tuple_List.insert(index, [e2, e3, e4, e5]) #Insert new elements in List[] format at the place of mentioned index,\n",
    "24.       Tuple_List.insert(index, (e6, e7, e8, e9)) #Insert new elements in Tuple() format at the place of mentioned index,\n",
    "25.       Tuple_List.insert(index, {e10, e11, e12, e13}) #Insert new elements in Set{} fromat at the place of mentioned index\n",
    "26.       Tuple = tuple(Tuple_List) #Convert back List[] into Tuple().\n",
    "27. *\n",
    "28. Tuple_List = list(Tuple) #Convert Tuple() into List[],\n",
    "29.       Tuple_List[Index:0] = [e1] #Insert single element e1 as Array[] at the place of mentioned index,\n",
    "30.       Tuple_List[Index:0] = \"SPLIT\" #At the place of mentioned index, inserted word will be splitted as \"S\", \"P\", \"L\", \"I\",\n",
    "31.                                                                                                                             \"T\"\n",
    "32.       Tuple_List[index:0] = e2, e3, e4, e5 #Insert new multiple elements at the place of mentioned index\n",
    "33.       Tuple_List[index:0] = [[e6, e7, e8, e9]] #New multiple elements got inserted at the place of mentioned index\n",
    "34.                                                                                                       as List[] format.\n",
    "35.       Tuple_List[index:0] = [(e10, e11, e12, e13)] #New multiple elements got inserted at the place of mentioned\n",
    "36.                                                                                               index as Tuple() format.\n",
    "37.       Tuple_List[index:0] = [{e14, e15, e16, e17}] #New multiple elements got inserted at the place of mentioned\n",
    "38.                                                                                                 index as Set{} format.\n",
    "39.       Tuple_List[index:0] = e18, e19, [e20, e21], (e22, e23), {e24, e25} #Insert new elements at the place of mentioned\n",
    "40.                                                                             index as Plain, List[], Tuple(), & Set{} format.\n",
    "41.       Tuple_List[index:0] = e26, e27, e28, e29, [e30, e31, e32] #Insert new multiple elements along with nested list elements\n",
    "42.                                                                                             at the place of mentioned index.\n",
    "43.       Tuple = tuple(Tuple_List) #Convert back List[] into Tuple().\n",
    "44. *\n",
    "45. Tuple_List = list(Tuple) #Convert Tuple() into List[],\n",
    "46.       Tuple_List.extend([e1]) #Single element got inserted at the end position as Array[]\n",
    "47.       Tuple_List.extend(\"SPLIT\") #Single string element got inserted as \"S\", \"P\", \"L\", \"I\", \"T\" at the end position\n",
    "48.       Tuple_List.extend([[e2, e3]]) #Elements got inserted at the end position as List[] format\n",
    "49.       Tuple_List.extend([(e4, e5)]) #Elements got inserted at the end position as Tuple() format\n",
    "50.       Tuple_List.extend([{e6, e7}]) #Elements got inserted at the end position as Set{} format\n",
    "51.       Tuple_List.extend([e8, e9, [e10, e11], (e12, e13), {e14, e15}]) #Elements got inserted as Plain, List[], Tuple() & Set{}\n",
    "52.                                                                                                                       format\n",
    "53.       Tuple = tuple(Tuple_List) #Convert back List[] into Tuple()\n",
    "54. *\n",
    "55. Tuple_List = list(Tuple) #Convert Tuple() into List[],\n",
    "56.       Tuple_List[4:8] = [e1] #While replacing elements from index 4 to exclusive index 8 upperbound by single element as Array[]\n",
    "57.       Tuple_List[4:8] = e1, e2, e3, e4 #While replacing elements from index 4 to exclusive index 8 upperbound\n",
    "58.       Tuple_List[4:8] = [[e1, e2, e3, e4]] #While replacing elements from index 4 to exclusive index 8 upperbound as\n",
    "59.                                                                                                        List[] format\n",
    "60.       Tuple_List[4:8] = [(e1, e2, e3, e4)] #While replacing elements from index 4 to exclusive index 8 upperbound as\n",
    "61.                                                                                                       Tuple() format\n",
    "62.       Tuple_List[4:8] = [{e1, e2, e3, e4}] #While replacing elements from index 4 to exclusive index 8 upperbound as Set{} format\n",
    "63.       Tuple_List[4:8] = e1, e2, [e3, e4], (e5, e6), {e7, e8} #While replacing elements from index 4 to exclusive index 8\n",
    "64.                                                                     upperbound as Plain, List[], Tuple() & Set{} format\n",
    "65.       Tuple = tuple(Tuple_List) #Convert back List[] into Tuple()\n",
    "66. *\n",
    "67. Tuple_List = list(Tuple) #Convert Tuple() into List[],\n",
    "68.       Tuple_List[index] = e1 #Mentioned single index element got replaced by single alone e1 element,\n",
    "69.       Tuple_List[index] = e2, e3, e4, e5 #Mentioned single index element got replaced by e2, e3, e4, e5 elements as Tuple()\n",
    "70.                                                                                                                       format,\n",
    "71.       Tuple_List[index] = [e6, e7, e8, e9] #Mentioned single index element got replaced by e6, e7, e8, e9 elements as List[]\n",
    "72.                                                                                                                        format,\n",
    "73.       Tuple_List[index] = {e10, e11, e12, e13} #Mentioned single index element got replaced by new elements as Set{} format,\n",
    "74.       Tuple_List[index] = e14, e15, [e16, e17], {e18, e19} #Mentioned single index element got replaced by new elements\n",
    "75.                                                                                                     as Tuple() format.\n",
    "76.       Tuple = tuple(Tuple_List) #Convert back List[] into Tuple().\n",
    "77. *\n",
    "78. Tuple3 = Tuple1 + Tuple2 #Tuple Concatination.\n",
    "79. Tuple.count(Element) #Count Element frequency, count one element at a time.\n",
    "80. *\n",
    "81. RandSamp_Tuple_List = random.sample(Tuple, len(Tuple)) #Pick randomly len(Tuple) no of sample elements from Tuple() &\n",
    "82.                                                                                                  convert it to List[].\n",
    "83.       RandSamp_Tuple = tuple(RandSamp_Tuple_List) #Convert back that random sample List[] into Tuple() random sample.\n",
    "84. *\n",
    "85. Tuple_List = list(Tuple) #Convert Tuple() into List[],\n",
    "86.       random.shuffle(Tuple_List) #Shuffle the Tuple_List elements Randomly,\n",
    "87.       Shuffle_Tuple = tuple(Tuple_List) #Convert back List[] into Tuple().\n",
    "88. *\n",
    "89. Tuple_List = list(Tuple) #Convert Tuple() into List[],\n",
    "90.       Tuple_List.pop() #By default delete the last Index element,\n",
    "91.       Tuple_List.pop(index) #delete the mentioned Index element,\n",
    "92.       Tuple = tuple(Tuple_List) #Convert back List[] into Tuple().\n",
    "93. *\n",
    "94. MixTuple_List = list(MixTuple) #Convert plain Tuple() into List[], Tuple() must not have any nested List[], Tuple() & Set{} inside\n",
    "95.       MixTuple_List.sort() #When the List[] element mix data types are Integer, Float, Bool, simultaneously & String seperately.\n",
    "96.       MixTuple = tuple(MixTuple_List) #Convert back List[] into Tuple(), sort() sequence priority to the\n",
    "97.                                   String Integers -> Uppercase alphabets -> lowercasealphabets.\n",
    "98. *\n",
    "99. Sorted_MixTuple_List = sorted(MixTuple) #Convert plain Tuple() into sorted List[], Tuple() must not have any nested List[], Tuple() & Set{} inside.\n",
    "100.       #When the Tuple() element mix data types are Integer, Float, Bool, simultaneously & String seperately.\n",
    "101.       Sorted_MixTuple = tuple(Sorted_MixTuple_List) #Convert back List[] into Tuple(), sorted() sequence priority to the\n",
    "102.                                    String Integers -> Uppercase alphabets -> lowercasealphabets.\n",
    "103. *\n",
    "104. MixVarTuple = [e1, e2, (e3, e4), frozenset({e5, e6})] #Tuple() must not have any nested List[] & Set{} inside, instead frozenset({}) & Tuple() is\n",
    "105.                                                                                                                    allowed\n",
    "106. MixVarTuple_Set = set(MixVarTuple) #Convert Tuple() into Set{}, shuffles & selects unique elements only\n",
    "56.       MixVarTuple_Set.add(Element) #Insert one element at a time in the Set{},\n",
    "57.       MixVarTuple_Set.add((e1, e2)) #Insert multiple elements as Tuple() format\n",
    "58.       MixVarTuple_Set.add(frozenset({e3, e4})) #Insert multiple elements as frozenset({}) format\n",
    "59.       MixVarTuple = tuple(Tuple_Set) #Convert back Set{} into Tuple().\n",
    "96. *\n",
    "97. Tuple_List = list(Tuple) #Convert Tuple() into List[],\n",
    "98.       Tuple_List.reverse() #This will reverse the placement of List[] elements in Backward\n",
    "99.       Tuple = tuple(Tuple_List) #Convert back List[] into Tuple()\n",
    "100. *\n",
    "101. Tuple_List = list(Tuple) #Convert Tuple() into List[],\n",
    "102.       list_reverseiterator = reversed(Tuple_List) #This will reverse the placement of List[] elements in Backward & convert into\n",
    "103.                                                                                                            list_reverseiterator\n",
    "104.       Reversed_Tuple_List = list(list_reverseiterator) #list_reverseiterator got converted back into List[]\n",
    "105.       Reversed_Tuple = tuple(Reversed_List) #Convert back List[] into Tuple()\n",
    "106. *\n",
    "107. Tuple_List = list(Tuple) #Convert Tuple() into List[],\n",
    "48.       Tuple_List.remove(Element) #delete the mentioned List[] element,\n",
    "49.       Tuple = tuple(Tuple_List) #Convert back List[] into Tuple()\n",
    "62. *\n",
    "63. MixVarTuple = [e1, e2, (e3, e4), frozenset({e5, e6})] #Tuple() must not have any nested List[] & Set{} inside, instead frozenset({}) & Tuple() is\n",
    "64.                                                                                                                          allowed\n",
    "97. MixVarTuple_Set = set(MixVarTuple) #Convert Tuple() into Set{}, shuffles & selects unique elements only\n",
    "65.       MixVarTuple_Set.discard(Element) #delete the mentioned Set{} element,\n",
    "66.       MixVarTuple = tuple(MixVarTuple_Set) #Convert back Set{} into Tuple()\n",
    "66. *\n",
    "67. Concated_Tuple = Tuple1 + Tuple2 + Tuple3 #Concatination of multiple Tuple() variables & saved into a new Tuple() variable.\n",
    "68. Tuple1 += Tuple2 + Tuple3 #Advanced concatination of Tuple2 & Tuple3 happened within Tuple1\n",
    "74. *\n",
    "75. min(Tuple), max(Tuple), sum(Tuple) #When the Tuple element data types are Integer, Float, Bool\n",
    "76.       #Tuple() must not have any nested List[], Tuple() & Set{} inside"
   ]
  },
  {
   "cell_type": "code",
   "execution_count": 80,
   "metadata": {},
   "outputs": [
    {
     "name": "stdout",
     "output_type": "stream",
     "text": [
      "(88, True, ((33-8j), {None}, [45]), {False, 'Set'}, [['List'], 35.79, {(-0-8j)}], frozenset({frozenset({55.88}), 'Set'}))\n"
     ]
    }
   ],
   "source": [
    "# For tuple creation ----> ()\n",
    "# Round bracket is meant for Tuple\n",
    "# It is not mandartory to provide elements inside () for Tuple\n",
    "# We can create tuples without using any brackets also\n",
    "# Tuple is almost similar like List but Tuples are not editable (immutable)\n",
    "# Iteration in tuple is faster than list, reduce time in forming Algorithm\n",
    "# You can't perform Arithmatic operations between Tuples\n",
    "# Round Bracket crestes Tuples\n",
    "# Nested Tuple----- When you create a Tuple inside a Tuple\n",
    "# Homogenous Tuple ----- Tuple following only one datatype\n",
    "# You can't perform Advanced indexing with Tuple\n",
    "# Tuple is immutable variable, you cant add, remove, insert, swap, sort, shuffle & replace elements of Tuple\n",
    "\n",
    "MixVarTuple = (88, True, ((33-8j), {None}, [45]), {(False), \"Set\"}, [[\"List\"], (35.79), {-8j}], frozenset({(\"Set\"), frozenset({55.88})}))   # Tuple() is containing Tuple(), Set{}, List[] inside of it\n",
    "\n",
    "print(MixVarTuple)"
   ]
  },
  {
   "cell_type": "code",
   "execution_count": 81,
   "metadata": {},
   "outputs": [
    {
     "name": "stdout",
     "output_type": "stream",
     "text": [
      "('KESHAV', (45+9j), True, 39.69, 39, 89)\n"
     ]
    },
    {
     "data": {
      "text/plain": [
       "(tuple, 6)"
      ]
     },
     "execution_count": 81,
     "metadata": {},
     "output_type": "execute_result"
    }
   ],
   "source": [
    "Tuple2 = \"KESHAV\", 45+9j, True, 39.69, 39, 89              # Tuple without round bracket\n",
    "print(Tuple2)\n",
    "type(Tuple2), len(Tuple2)                             # It is not mandartory to provide elements inside () for Tuple"
   ]
  },
  {
   "cell_type": "code",
   "execution_count": 82,
   "metadata": {},
   "outputs": [
    {
     "name": "stdout",
     "output_type": "stream",
     "text": [
      "6\n",
      "2 3 4\n"
     ]
    }
   ],
   "source": [
    "MixVarTuple = (88, True, ((33-8j), {None}, [45]), {(False), \"Set\"}, [[\"List\"], (35.79), {-8j}], frozenset({(\"Set\"), frozenset({55.88})}))\n",
    "\n",
    "print(len(MixVarTuple))\n",
    "\n",
    "print(MixVarTuple.index(((33-8j), {None}, [45])), MixVarTuple.index({(False), \"Set\"}), MixVarTuple.index([[\"List\"], (35.79), {-8j}]))"
   ]
  },
  {
   "cell_type": "code",
   "execution_count": 83,
   "metadata": {},
   "outputs": [
    {
     "name": "stdout",
     "output_type": "stream",
     "text": [
      "({False, 'Set'}, [['List'], 35.79, {(-0-8j)}], frozenset({frozenset({55.88}), 'Set'}))\n",
      "(88, {False, 'Set'})\n",
      "({False, 'Set'},)\n"
     ]
    }
   ],
   "source": [
    "print(MixVarTuple[3:6])   # Tuple() indexing from index 3 to index 6 upperbound\n",
    "\n",
    "print(MixVarTuple[::3])   # Tuple() indexing from start to end by hopping 3 elements cycle\n",
    "\n",
    "print(MixVarTuple[3:4:2])      # Tuple() indexing from index 3 to index 4 upperbound by hopping 2 elements cycle"
   ]
  },
  {
   "cell_type": "code",
   "execution_count": 84,
   "metadata": {},
   "outputs": [
    {
     "name": "stdout",
     "output_type": "stream",
     "text": [
      "(56, (99-8j), True, None, 78.68)\n",
      "(77, 68.89, (78-9j), None, 'Panna')\n",
      "\n",
      "(56, None, True, None, 56)\n",
      "(77, None, (78-9j), None, 77)\n"
     ]
    }
   ],
   "source": [
    "MixTuple1 = 56, 99-8j, True, None, 78.68       # Create Tuple\n",
    "MixTuple2 = 77, 68.89, 78-9j, None, \"Panna\"     # Create Tuple\n",
    "\n",
    "print(MixTuple1)\n",
    "print(MixTuple2)\n",
    "\n",
    "print()\n",
    "# Tuple() got converted into list[]\n",
    "# Tuple_List[] index element 1, 4 got swapped with index element 3, 0\n",
    "# swapped list[] got converted back into swapped tuple()\n",
    "\n",
    "MixTuple1_List = list(MixTuple1) ; MixTuple1_List[1], MixTuple1_List[4] = MixTuple1_List[3], MixTuple1_List[0] ; Swapped_MixTuple1 = tuple(MixTuple1_List)\n",
    "MixTuple2_List = list(MixTuple2) ; MixTuple2_List[1], MixTuple2_List[4] = MixTuple2_List[3], MixTuple2_List[0] ; Swapped_MixTuple2 = tuple(MixTuple2_List)\n",
    "\n",
    "print(Swapped_MixTuple1)\n",
    "print(Swapped_MixTuple2)"
   ]
  },
  {
   "cell_type": "code",
   "execution_count": 85,
   "metadata": {},
   "outputs": [
    {
     "name": "stdout",
     "output_type": "stream",
     "text": [
      "[88, True, ((33-8j), {None}, [45]), {False, 'Set'}, [['List'], 35.79, {(-0-8j)}], frozenset({frozenset({55.88}), 'Set'})]\n",
      "\n",
      "[88, True, ((33-8j), {None}, [45]), {False, 'Set'}, [['List'], 35.79, {(-0-8j)}], frozenset({frozenset({55.88}), 'Set'}), 'End']\n",
      "\n",
      "[88, True, ((33-8j), {None}, [45]), {False, 'Set'}, [['List'], 35.79, {(-0-8j)}], frozenset({frozenset({55.88}), 'Set'}), 'End', [34, 'List', (67.9+6j), (-56-4j)]]\n",
      "\n",
      "[88, True, ((33-8j), {None}, [45]), {False, 'Set'}, [['List'], 35.79, {(-0-8j)}], frozenset({frozenset({55.88}), 'Set'}), 'End', [34, 'List', (67.9+6j), (-56-4j)], ('Tuple', [87.56], None, {True})]\n",
      "\n",
      "[88, True, ((33-8j), {None}, [45]), {False, 'Set'}, [['List'], 35.79, {(-0-8j)}], frozenset({frozenset({55.88}), 'Set'}), 'End', [34, 'List', (67.9+6j), (-56-4j)], ('Tuple', [87.56], None, {True}), {False, 74, (67-5j), 63}]\n",
      "\n",
      "(88, True, ((33-8j), {None}, [45]), {False, 'Set'}, [['List'], 35.79, {(-0-8j)}], frozenset({frozenset({55.88}), 'Set'}), 'End', [34, 'List', (67.9+6j), (-56-4j)], ('Tuple', [87.56], None, {True}), {False, 74, (67-5j), 63})\n"
     ]
    }
   ],
   "source": [
    "MixVarTuple = (88, True, ((33-8j), {None}, [45]), {(False), \"Set\"}, [[\"List\"], (35.79), {-8j}], frozenset({(\"Set\"), frozenset({55.88})}))\n",
    "\n",
    "MixVarTuple_List = list(MixVarTuple)       # Tuple() got converted into List[]\n",
    "print(MixVarTuple_List)\n",
    "print()\n",
    "\n",
    "MixVarTuple_List.append(\"End\")       # Insert single element at the end position\n",
    "print(MixVarTuple_List)\n",
    "print()\n",
    "\n",
    "MixVarTuple_List.append([34, \"List\", 67.9 + 6j, -56 - 4j])  # Insert multiple elements in List[] format at the end position\n",
    "print(MixVarTuple_List)\n",
    "print()\n",
    "\n",
    "MixVarTuple_List.append((\"Tuple\", [87.56], (None), {True}))      # Insert multiple elements in Tuple() format at the end position\n",
    "print(MixVarTuple_List)\n",
    "print()\n",
    "\n",
    "MixVarTuple_List.append({67-5j, 74, False, 63})     # Insert multiple elements in Set{} format at the end position\n",
    "print(MixVarTuple_List)\n",
    "print()\n",
    "\n",
    "MixVarTuple = tuple(MixVarTuple_List)         # Convert back List[] into Tuple()\n",
    "print(MixVarTuple)"
   ]
  },
  {
   "cell_type": "code",
   "execution_count": 86,
   "metadata": {},
   "outputs": [
    {
     "name": "stdout",
     "output_type": "stream",
     "text": [
      "[88, True, ((33-8j), {None}, [45]), {False, 'Set'}, [['List'], 35.79, {(-0-8j)}], frozenset({frozenset({55.88}), 'Set'})]\n",
      "\n",
      "[88, 'One', True, ((33-8j), {None}, [45]), {False, 'Set'}, [['List'], 35.79, {(-0-8j)}], frozenset({frozenset({55.88}), 'Set'})]\n",
      "\n",
      "[88, 'One', True, [66, [23], None, {(-0-8j)}], ((33-8j), {None}, [45]), {False, 'Set'}, [['List'], 35.79, {(-0-8j)}], frozenset({frozenset({55.88}), 'Set'})]\n",
      "\n",
      "[88, 'One', True, [66, [23], None, {(-0-8j)}], ((33-8j), {None}, [45]), (19, [77], False, {(-0-11j)}), {False, 'Set'}, [['List'], 35.79, {(-0-8j)}], frozenset({frozenset({55.88}), 'Set'})]\n",
      "\n",
      "[88, 'One', True, [66, [23], None, {(-0-8j)}], ((33-8j), {None}, [45]), (19, [77], False, {(-0-11j)}), {False, 'Set'}, {False, 19, frozenset({19j})}, [['List'], 35.79, {(-0-8j)}], frozenset({frozenset({55.88}), 'Set'})]\n",
      "\n",
      "(88, 'One', True, [66, [23], None, {(-0-8j)}], ((33-8j), {None}, [45]), (19, [77], False, {(-0-11j)}), {False, 'Set'}, {False, 19, frozenset({19j})}, [['List'], 35.79, {(-0-8j)}], frozenset({frozenset({55.88}), 'Set'}))\n"
     ]
    }
   ],
   "source": [
    "MixVarTuple = (88, True, ((33-8j), {None}, [45]), {(False), \"Set\"}, [[\"List\"], (35.79), {-8j}], frozenset({(\"Set\"), frozenset({55.88})}))\n",
    "\n",
    "MixVarTuple_List = list(MixVarTuple)       # Tuple() got converted into List[]\n",
    "print(MixVarTuple_List)\n",
    "print()\n",
    "\n",
    "MixVarTuple_List.insert(1, \"One\")    # Insert new single element at the place of mentioned index\n",
    "print(MixVarTuple_List)\n",
    "print()\n",
    "\n",
    "MixVarTuple_List.insert(3, [66, [23], (None), {-8j}])   # Insert new elements in List[] format at the place of mentioned index\n",
    "print(MixVarTuple_List)\n",
    "print()\n",
    "\n",
    "MixVarTuple_List.insert(5, (19, [77], (False), {-11j}))   # Insert new elements in Tuple() format at the place of mentioned index\n",
    "print(MixVarTuple_List)\n",
    "print()\n",
    "\n",
    "MixVarTuple_List.insert(7, {19, (False), frozenset({19j})})   # Insert new elements in Set{} format at the place of mentioned index\n",
    "print(MixVarTuple_List)\n",
    "print()\n",
    "\n",
    "MixVarTuple = tuple(MixVarTuple_List)         # Convert back List[] into Tuple()\n",
    "print(MixVarTuple)"
   ]
  },
  {
   "cell_type": "code",
   "execution_count": 87,
   "metadata": {},
   "outputs": [
    {
     "name": "stdout",
     "output_type": "stream",
     "text": [
      "[88, True, ((33-8j), {None}, [45]), {False, 'Set'}, [['List'], 35.79, {(-0-8j)}], frozenset({frozenset({55.88}), 'Set'})]\n",
      "\n",
      "[88, True, '3', 8, True, 1689, None, ((33-8j), {None}, [45]), [11, 'ReMix', (23-6j), (77-8j)], {False, 'Set'}, (45, None, 'Opal', 13), 'L', {17, 'Nest', frozenset({33, 44}), 'Braces'}, 21, (11-4j), [None, True], (33.33, 97), {65, (7-8j)}, 'E', 'T', 'T', 'E', 'R', [['List'], 35.79, {(-0-8j)}], frozenset({frozenset({55.88}), 'Set'})]\n",
      "\n",
      "(88, True, '3', 8, True, 1689, None, ((33-8j), {None}, [45]), [11, 'ReMix', (23-6j), (77-8j)], {False, 'Set'}, (45, None, 'Opal', 13), 'L', {17, 'Nest', frozenset({33, 44}), 'Braces'}, 21, (11-4j), [None, True], (33.33, 97), {65, (7-8j)}, 'E', 'T', 'T', 'E', 'R', [['List'], 35.79, {(-0-8j)}], frozenset({frozenset({55.88}), 'Set'}))\n"
     ]
    }
   ],
   "source": [
    "MixVarTuple = (88, True, ((33-8j), {None}, [45]), {(False), \"Set\"}, [[\"List\"], (35.79), {-8j}], frozenset({(\"Set\"), frozenset({55.88})}))\n",
    "\n",
    "MixVarTuple_List = list(MixVarTuple)       # Tuple() got converted into List[]\n",
    "print(MixVarTuple_List)\n",
    "print()\n",
    "\n",
    "MixVarTuple_List[2:0] = [\"3\"]     # Insert single element e1 as Array[] at the place of mentioned index\n",
    "\n",
    "MixVarTuple_List[5:0] = \"LETTER\"     # Insert new String alphabet elements \"L\", \"E\", \"T\", \"T\", \"E\", \"R\" at the place of mentioned index\n",
    "\n",
    "MixVarTuple_List[3:0] = 8, True, 1689, None     # Insert new elements at the place of mentioned index\n",
    "\n",
    "MixVarTuple_List[8:0] = [[11, \"ReMix\", 23-6j, 77-8j]]      # Insert new elements at the place of mentioned index as List[] format\n",
    "\n",
    "MixVarTuple_List[10:0] = [(45, None, \"Opal\", 13)]      # Insert new elements at the place of mentioned index as Tuple() format\n",
    "\n",
    "MixVarTuple_List[12:0] = [{\"Braces\", \"Nest\", (17), frozenset({33,44})}]      # Insert new elements at the place of mentioned index as Set{} format\n",
    "\n",
    "MixVarTuple_List[13:0] = 21, 11-4j, [None, True], (33.33, 97), {7-8j, 65}   # Insert new elements at the place of mentioned index as Plain, List[], Tuple() & Set{} format\n",
    "\n",
    "print(MixVarTuple_List)\n",
    "print()\n",
    "\n",
    "MixVarTuple = tuple(MixVarTuple_List)         # Convert back List[] into Tuple()\n",
    "print(MixVarTuple)"
   ]
  },
  {
   "cell_type": "code",
   "execution_count": 88,
   "metadata": {},
   "outputs": [
    {
     "name": "stdout",
     "output_type": "stream",
     "text": [
      "[88, True, ((33-8j), {None}, [45]), {False, 'Set'}, [['List'], 35.79, {(-0-8j)}], frozenset({frozenset({55.88}), 'Set'})]\n",
      "\n",
      "[88, True, ((33-8j), {None}, [45]), {False, 'Set'}, [['List'], 35.79, {(-0-8j)}], frozenset({frozenset({55.88}), 'Set'}), 'Extend', 'S', 'P', 'L', 'I', 'T', 24, (-0-77j), 100, False, [67, (79-9j), (99-6j), None], ('Alpha', 73, 11.34, (-0-84j)), {True, 44, 61, 'Mid'}, 59, (-0-49j), [(-0-99j), 58], (True, 'Mouse'), {False, 'String'}]\n",
      "\n",
      "(88, True, ((33-8j), {None}, [45]), {False, 'Set'}, [['List'], 35.79, {(-0-8j)}], frozenset({frozenset({55.88}), 'Set'}), 'Extend', 'S', 'P', 'L', 'I', 'T', 24, (-0-77j), 100, False, [67, (79-9j), (99-6j), None], ('Alpha', 73, 11.34, (-0-84j)), {True, 44, 61, 'Mid'}, 59, (-0-49j), [(-0-99j), 58], (True, 'Mouse'), {False, 'String'})\n"
     ]
    }
   ],
   "source": [
    "MixVarTuple = (88, True, ((33-8j), {None}, [45]), {(False), \"Set\"}, [[\"List\"], (35.79), {-8j}], frozenset({(\"Set\"), frozenset({55.88})}))\n",
    "\n",
    "MixVarTuple_List = list(MixVarTuple)       # Tuple() got converted into List[]\n",
    "print(MixVarTuple_List)\n",
    "print()\n",
    "\n",
    "MixVarTuple_List.extend([\"Extend\"])    # Insert single indivisual elements to the end position as Array[]\n",
    "\n",
    "MixVarTuple_List.extend(\"SPLIT\")        # Single string element got inserted as indivisual letters \"S\", \"P\", \"L\", \"I\", \"T\" at the end position\n",
    "\n",
    "MixVarTuple_List.extend([24, -77j, 100, False])   # Insert multiple indivisual elements to the end position\n",
    "\n",
    "MixVarTuple_List.extend([[67, 79-9j, 99-6j, None]])     # Insert multiple indivisual elements to the end position as List[] format\n",
    "\n",
    "MixVarTuple_List.extend([(\"Alpha\", 73, 11.34, -84j)])     # Insert multiple indivisual elements to the end position as Tuple() format\n",
    "\n",
    "MixVarTuple_List.extend([{True, 44, 61, \"Mid\"}])     # Insert multiple indivisual elements to the end position as Set{} format\n",
    "\n",
    "# Insert multiple indivisual elements to the end position as Plain, List[], Tuple() & Set{} format\n",
    "MixVarTuple_List.extend([59, -49j, [-99j, 58], (True, \"Mouse\"), {\"String\", False}])\n",
    "\n",
    "print(MixVarTuple_List)\n",
    "print()\n",
    "\n",
    "MixVarTuple = tuple(MixVarTuple_List)         # Convert back List[] into Tuple()\n",
    "print(MixVarTuple)"
   ]
  },
  {
   "cell_type": "code",
   "execution_count": 89,
   "metadata": {},
   "outputs": [
    {
     "name": "stdout",
     "output_type": "stream",
     "text": [
      "[88, True, ((33-8j), {None}, [45]), {False, 'Set'}, [['List'], 35.79, {(-0-8j)}], frozenset({frozenset({55.88}), 'Set'})]\n",
      "\n",
      "[88, True, ((33-8j), {None}, [45]), {False, 'Set'}, (88-4j), None, 'Plain', 41, 'Arnold', ['Black', False, 'Tesla', (56+3j)], ((-0-66j), None, 37, True), {(-0-77j), 50, 12, 47}]\n",
      "\n",
      "(88, True, ((33-8j), {None}, [45]), {False, 'Set'}, (88-4j), None, 'Plain', 41, 'Arnold', ['Black', False, 'Tesla', (56+3j)], ((-0-66j), None, 37, True), {(-0-77j), 50, 12, 47})\n"
     ]
    }
   ],
   "source": [
    "MixVarTuple = (88, True, ((33-8j), {None}, [45]), {(False), \"Set\"}, [[\"List\"], (35.79), {-8j}], frozenset({(\"Set\"), frozenset({55.88})}))\n",
    "\n",
    "MixVarTuple_List = list(MixVarTuple)       # Tuple() got converted into List[]\n",
    "print(MixVarTuple_List)\n",
    "print()\n",
    "\n",
    "MixVarTuple_List[4:8] = 88-4j, None, \"Plain\", 41 # While replacing elements from index 4 to exclusive index 8 upperbound\n",
    "MixVarTuple_List[9:12] = [\"Arnold\"]      # From 9 to 12 exclusive upperbound multiple index elements will be replaced by single element e1 as Array[]\n",
    "MixVarTuple_List[13:16] = [[\"Black\", False, \"Tesla\", 56+3j]]   # While replacing elements from index 13 to exclusive index 16 upperbound as List[] format\n",
    "MixVarTuple_List[22:29] = [(-66j, None, 37, True)]   # While replacing elements from index 22 to exclusive index 29 upperbound as Tuple() format\n",
    "MixVarTuple_List[24:28] = [{12, 50, 47, -77j}]   # While replacing elements from index 24 to exclusive index 28 upperbound as Set{} format\n",
    "\n",
    "print(MixVarTuple_List)\n",
    "print()\n",
    "\n",
    "MixVarTuple = tuple(MixVarTuple_List)         # Convert back List[] into Tuple()\n",
    "print(MixVarTuple)"
   ]
  },
  {
   "cell_type": "code",
   "execution_count": 90,
   "metadata": {},
   "outputs": [
    {
     "name": "stdout",
     "output_type": "stream",
     "text": [
      "[88, True, None, [None, 'List'], (66+4j), False, 88.67, 555, 29, ('Tuple', (76-8j)), {'Set', 55.88}, frozenset({frozenset({55.88}), 'Set'})]\n",
      "\n",
      "[88, True, 59, [7j, False, 12, True], (66+4j), (21, None, (81-6j), 'Index'), 88.67, 555, {(-0-88j), 57.45, 13, None}, ('Tuple', (76-8j)), (55.99, 3.14, [44, 62], {(-0-48j), 'Euclid'}), frozenset({frozenset({55.88}), 'Set'})]\n",
      "\n",
      "(88, True, 59, [7j, False, 12, True], (66+4j), (21, None, (81-6j), 'Index'), 88.67, 555, {(-0-88j), 57.45, 13, None}, ('Tuple', (76-8j)), (55.99, 3.14, [44, 62], {(-0-48j), 'Euclid'}), frozenset({frozenset({55.88}), 'Set'}))\n"
     ]
    }
   ],
   "source": [
    "MixVarTuple = (88, True, None, [None, \"List\"], 66+4j, False, 88.67, 555, 29, (\"Tuple\", 76-8j), {\"Set\", 55.88}, frozenset({(\"Set\"), frozenset({55.88})}))\n",
    "\n",
    "MixVarTuple_List = list(MixVarTuple)       # Tuple() got converted into List[]\n",
    "print(MixVarTuple_List)\n",
    "print()\n",
    "\n",
    "MixVarTuple_List[2] = 59      # Mentioned single index element got replaced by single alone e1 element\n",
    "MixVarTuple_List[5] = 21, None, 81-6j, \"Index\"     # Mentioned single index element got replaced by e1, e2, e3, e4 elements. Tuple() format\n",
    "MixVarTuple_List[3] = [7j, False, 12, True]      # Mentioned single index element got replaced by e1, e2, e3, e4 elements. List[] format\n",
    "MixVarTuple_List[8] = {57.45, 13, -88j, None}     # Mentioned single index element got replaced by e1, e2, e3, e4 elements. Set{} format\n",
    "MixVarTuple_List[10] = 55.99, 3.14, [44, 62], {\"Euclid\", -48j}    # Mentioned single index element got replaced by elements as Tuple() format\n",
    "\n",
    "print(MixVarTuple_List)\n",
    "print()\n",
    "\n",
    "MixVarTuple = tuple(MixVarTuple_List)         # Convert back List[] into Tuple()\n",
    "print(MixVarTuple)"
   ]
  },
  {
   "cell_type": "code",
   "execution_count": 91,
   "metadata": {},
   "outputs": [
    {
     "name": "stdout",
     "output_type": "stream",
     "text": [
      "(1, 2, 3, 4, 5, 6, 7, 8, 9, 10, 11, 12)\n",
      "(1, 2, 3, 4, 5, 6, 7, 8, 9, 10, 11, 12)\n"
     ]
    }
   ],
   "source": [
    "Tup1 = 1, 2, 3, 4\n",
    "Tup2 = 5, 6, 7, 8\n",
    "Tup3 = 9, 10, 11, 12\n",
    "\n",
    "Concated_Tuple = Tup1 + Tup2 + Tup3         # Multiple Tuple() got concatinated into a new Tuple() variable\n",
    "\n",
    "print(Concated_Tuple)\n",
    "\n",
    "Tup1 += Tup2 + Tup3          # Advanced concatination of Tuple2 & Tuple3 happened within Tuple1\n",
    "\n",
    "print(Tup1)"
   ]
  },
  {
   "cell_type": "code",
   "execution_count": 92,
   "metadata": {},
   "outputs": [
    {
     "name": "stdout",
     "output_type": "stream",
     "text": [
      "1\n"
     ]
    }
   ],
   "source": [
    "MixVarTuple = (88, True, None, [None, \"List\"], 66+4j, False, 88.67, 555, 29, (\"Tuple\", 76-8j), {\"Set\", 55.88}, frozenset({(\"Set\"), frozenset({55.88})}))\n",
    "\n",
    "print(MixVarTuple.count(88.67))    # Count the mentioned Element frequency, count one element at a time"
   ]
  },
  {
   "cell_type": "code",
   "execution_count": 93,
   "metadata": {},
   "outputs": [
    {
     "name": "stdout",
     "output_type": "stream",
     "text": [
      "(frozenset({frozenset({55.88}), 'Set'}), (66+4j), 555, 88.67, None, [None, 'List'], False, 29, 88, {'Set', 55.88}, ('Tuple', (76-8j)), True)\n"
     ]
    }
   ],
   "source": [
    "import random\n",
    "\n",
    "MixVarTuple = (88, True, None, [None, \"List\"], 66+4j, False, 88.67, 555, 29, (\"Tuple\", 76-8j), {\"Set\", 55.88}, frozenset({(\"Set\"), frozenset({55.88})}))\n",
    "\n",
    "# Pick randomly len(Tuple) no of sample elements from Tuple() & convert it to List[]\n",
    "RandSamp_MixVarTuple_List = random.sample(MixVarTuple, len(MixVarTuple))\n",
    "\n",
    "MixVarTuple = tuple(RandSamp_MixVarTuple_List)   # Convert back List[] into Tuple()\n",
    "print(MixVarTuple)"
   ]
  },
  {
   "cell_type": "code",
   "execution_count": 94,
   "metadata": {},
   "outputs": [
    {
     "name": "stdout",
     "output_type": "stream",
     "text": [
      "[88, True, None, [None, 'List'], (66+4j), False, 88.67, 555, 29, ('Tuple', (76-8j)), {'Set', 55.88}, frozenset({frozenset({55.88}), 'Set'})]\n",
      "\n",
      "({'Set', 55.88}, ('Tuple', (76-8j)), 88, (66+4j), 29, frozenset({frozenset({55.88}), 'Set'}), True, 555, [None, 'List'], None, False, 88.67)\n"
     ]
    }
   ],
   "source": [
    "MixVarTuple = (88, True, None, [None, \"List\"], 66+4j, False, 88.67, 555, 29, (\"Tuple\", 76-8j), {\"Set\", 55.88}, frozenset({(\"Set\"), frozenset({55.88})}))\n",
    "\n",
    "MixVarTuple_List = list(MixVarTuple)       # Tuple() got converted into List[]\n",
    "print(MixVarTuple_List)\n",
    "print()\n",
    "\n",
    "random.shuffle(MixVarTuple_List) # Shuffle the List[] elements Randomly\n",
    "\n",
    "MixVarTuple = tuple(MixVarTuple_List)         # Convert back List[] into Tuple()\n",
    "print(MixVarTuple)"
   ]
  },
  {
   "cell_type": "code",
   "execution_count": 95,
   "metadata": {},
   "outputs": [
    {
     "name": "stdout",
     "output_type": "stream",
     "text": [
      "[88, True, None, [None, 'List'], (66+4j), False, 88.67, 555, 29, ('Tuple', (76-8j)), {'Set', 55.88}, frozenset({frozenset({55.88}), 'Set'})]\n",
      "\n",
      "(88, True, None, [None, 'List'], (66+4j), False, 555, 29, ('Tuple', (76-8j)), {'Set', 55.88})\n"
     ]
    }
   ],
   "source": [
    "MixVarTuple = (88, True, None, [None, \"List\"], 66+4j, False, 88.67, 555, 29, (\"Tuple\", 76-8j), {\"Set\", 55.88}, frozenset({(\"Set\"), frozenset({55.88})}))\n",
    "\n",
    "MixVarTuple_List = list(MixVarTuple)       # Tuple() got converted into List[]\n",
    "print(MixVarTuple_List)\n",
    "print()\n",
    "\n",
    "MixVarTuple_List.pop()                      # By default delete the last index element\n",
    "MixVarTuple_List.pop(6)                     # delete the mentioned index element\n",
    "MixVarTuple = tuple(MixVarTuple_List)      # Convert back List[] into Tuple()\n",
    "print(MixVarTuple)"
   ]
  },
  {
   "cell_type": "code",
   "execution_count": 96,
   "metadata": {},
   "outputs": [
    {
     "name": "stdout",
     "output_type": "stream",
     "text": [
      "[88, True, False, 88.67, 555, 29]\n",
      "\n",
      "[False, True, 29, 88, 88.67, 555]\n",
      "\n",
      "(False, True, 29, 88, 88.67, 555)\n"
     ]
    }
   ],
   "source": [
    "MixTuple = (88, True, False, 88.67, 555, 29)    # Tuple() must not have any nested List[], Tuple() & Set{} inside\n",
    "\n",
    "MixTuple_List = list(MixTuple)       # Tuple() got converted into List[]\n",
    "print(MixTuple_List)\n",
    "print()\n",
    "\n",
    "MixTuple_List.sort()     # sort() works with Integer, Float, Boolean mix plain List element data types simultaneously & with String seperately\n",
    "                   # sort() sequence priority to the String Integers -> Uppercase alphabets -> lowercase alphabets\n",
    "print(MixTuple_List)\n",
    "print()\n",
    "\n",
    "MixTuple = tuple(MixTuple_List)         # Convert back List[] into Tuple()\n",
    "print(MixTuple)"
   ]
  },
  {
   "cell_type": "code",
   "execution_count": 97,
   "metadata": {},
   "outputs": [
    {
     "name": "stdout",
     "output_type": "stream",
     "text": [
      "[False, True, 29, 88, 88.67, 555]\n",
      "(False, True, 29, 88, 88.67, 555)\n"
     ]
    }
   ],
   "source": [
    "MixTuple = (88, True, False, 88.67, 555, 29)     # Tuple() must not have any nested List[], Tuple() & Set{} inside\n",
    "\n",
    "\n",
    "# sorted() works with Integer, Float, Boolean mix plain List element data types simultaneously & with String seperately\n",
    "# sorted() sequence priority to the String Integers -> Uppercase alphabets -> lowercase alphabets\n",
    "\n",
    "Sorted_MixTuple_List = sorted(MixTuple)     # Tuple() got converted into sorted List[]\n",
    "\n",
    "print(Sorted_MixTuple_List)\n",
    "\n",
    "Sorted_MixTuple = tuple(Sorted_MixTuple_List)    # Convert back List[] into Tuple()\n",
    "\n",
    "print(Sorted_MixTuple)"
   ]
  },
  {
   "cell_type": "code",
   "execution_count": 98,
   "metadata": {},
   "outputs": [
    {
     "name": "stdout",
     "output_type": "stream",
     "text": [
      "{False, True, None, 555, (66+4j), frozenset({'Set', 55.88}), ('Tuple', (76-8j)), 88, 88.67, 29}\n",
      "\n",
      "(False, True, ('Loop', (-0-37j)), None, 555, (66+4j), frozenset({'Set', 55.88}), frozenset({'Frozen', (88+5j)}), ('Tuple', (76-8j)), (69-5j), 88, 88.67, 29)\n"
     ]
    }
   ],
   "source": [
    "# Tuple() must not have any nested List[] & Set{} inside, instead frozenset({}) & Tuple() is allowed\n",
    "MixVarTuple = (88, True, None, 66+4j, False, 88.67, 555, 29, (\"Tuple\", 76-8j), frozenset({\"Set\", 55.88}))\n",
    "\n",
    "MixVarTuple_Set = set(MixVarTuple)   # Convert Tuple() into Set{}, shuffles & selects unique elements only\n",
    "\n",
    "print(MixVarTuple_Set)\n",
    "print()\n",
    "\n",
    "MixVarTuple_Set.add(69-5j)            # Insert one element at a time in the Set{}\n",
    "\n",
    "MixVarTuple_Set.add((\"Loop\", -37j))      # Insert multiple elements as Tuple() format\n",
    "\n",
    "MixVarTuple_Set.add(frozenset({\"Frozen\", 88+5j}))       # Insert multiple elements as frozenset({}) format\n",
    "\n",
    "MixVarTuple = tuple(MixVarTuple_Set)                  # Convert back Set{} into Tuple()\n",
    "\n",
    "print(MixVarTuple)"
   ]
  },
  {
   "cell_type": "code",
   "execution_count": 99,
   "metadata": {},
   "outputs": [
    {
     "name": "stdout",
     "output_type": "stream",
     "text": [
      "[88, True, None, [None, 'List'], (66+4j), False, 88.67, 555, 29, ('Tuple', (76-8j)), {'Set', 55.88}, frozenset({frozenset({55.88}), 'Set'})]\n",
      "\n",
      "[frozenset({frozenset({55.88}), 'Set'}), {'Set', 55.88}, ('Tuple', (76-8j)), 29, 555, 88.67, False, (66+4j), [None, 'List'], None, True, 88]\n",
      "\n",
      "(frozenset({frozenset({55.88}), 'Set'}), {'Set', 55.88}, ('Tuple', (76-8j)), 29, 555, 88.67, False, (66+4j), [None, 'List'], None, True, 88)\n"
     ]
    }
   ],
   "source": [
    "MixVarTuple = (88, True, None, [None, \"List\"], 66+4j, False, 88.67, 555, 29, (\"Tuple\", 76-8j), {\"Set\", 55.88}, frozenset({(\"Set\"), frozenset({55.88})}))\n",
    "\n",
    "MixVarTuple_List = list(MixVarTuple)       # Tuple() got converted into List[]\n",
    "print(MixVarTuple_List)\n",
    "print()\n",
    "\n",
    "MixVarTuple_List.reverse()     # This will reverse the placement of List[] elements in Backward\n",
    "\n",
    "print(MixVarTuple_List)\n",
    "print()\n",
    "\n",
    "MixVarTuple = tuple(MixVarTuple_List)         # Convert back List[] into Tuple()\n",
    "print(MixVarTuple)"
   ]
  },
  {
   "cell_type": "code",
   "execution_count": 100,
   "metadata": {},
   "outputs": [
    {
     "name": "stdout",
     "output_type": "stream",
     "text": [
      "[88, True, None, [None, 'List'], (66+4j), False, 88.67, 555, 29, ('Tuple', (76-8j)), {'Set', 55.88}, frozenset({frozenset({55.88}), 'Set'})]\n",
      "\n",
      "<list_reverseiterator object at 0x7f3bc86f9220>\n",
      "<class 'list_reverseiterator'>\n",
      "(frozenset({frozenset({55.88}), 'Set'}), {'Set', 55.88}, ('Tuple', (76-8j)), 29, 555, 88.67, False, (66+4j), [None, 'List'], None, True, 88)\n"
     ]
    }
   ],
   "source": [
    "MixVarTuple = (88, True, None, [None, \"List\"], 66+4j, False, 88.67, 555, 29, (\"Tuple\", 76-8j), {\"Set\", 55.88}, frozenset({(\"Set\"), frozenset({55.88})}))\n",
    "\n",
    "MixVarTuple_List = list(MixVarTuple)       # Tuple() got converted into List[]\n",
    "print(MixVarTuple_List)\n",
    "print()\n",
    "\n",
    "Reversed_MixVarTuple_List_Iterator = reversed(MixVarTuple_List)    # It reversed the placement of List[] elements in Backward & save it as itrator\n",
    "print(Reversed_MixVarTuple_List_Iterator)\n",
    "print(type(Reversed_MixVarTuple_List_Iterator))\n",
    "Reversed_MixVarTuple_List = list(Reversed_MixVarTuple_List_Iterator)   # Itrator got converted back into List[]\n",
    "\n",
    "Reversed_MixVarTuple = tuple(Reversed_MixVarTuple_List)    # List[] got converted back into Tuple()\n",
    "\n",
    "print(Reversed_MixVarTuple)"
   ]
  },
  {
   "cell_type": "code",
   "execution_count": 101,
   "metadata": {},
   "outputs": [
    {
     "name": "stdout",
     "output_type": "stream",
     "text": [
      "[88, True, None, [None, 'List'], (66+4j), False, 88.67, 555, 29, ('Tuple', (76-8j)), {'Set', 55.88}, frozenset({frozenset({55.88}), 'Set'})]\n",
      "\n",
      "(88, True, None, [None, 'List'], False, 88.67, 555, 29, ('Tuple', (76-8j)), {'Set', 55.88}, frozenset({frozenset({55.88}), 'Set'}))\n"
     ]
    }
   ],
   "source": [
    "MixVarTuple = (88, True, None, [None, \"List\"], 66+4j, False, 88.67, 555, 29, (\"Tuple\", 76-8j), {\"Set\", 55.88}, frozenset({(\"Set\"), frozenset({55.88})}))\n",
    "\n",
    "MixVarTuple_List = list(MixVarTuple)       # Tuple() got converted into List[]\n",
    "print(MixVarTuple_List)\n",
    "print()\n",
    "\n",
    "MixVarTuple_List.remove(66+4j)      # delete the mentioned List[] element, delete one element at a time\n",
    "\n",
    "MixVarTuple = tuple(MixVarTuple_List)      # Convert back List[] into Tuple()\n",
    "\n",
    "print(MixVarTuple)"
   ]
  },
  {
   "cell_type": "code",
   "execution_count": 102,
   "metadata": {},
   "outputs": [
    {
     "name": "stdout",
     "output_type": "stream",
     "text": [
      "(True, None, frozenset({'Set', 55.88}), frozenset({frozenset({55.88}), 'Set'}), ('Tuple', (76-8j)), 88, ((66+4j), False), 88.67, 29)\n"
     ]
    }
   ],
   "source": [
    "# Tuple() must not have any nested List[] & Set{} inside, instead frozenset({}) & Tuple() is allowed\n",
    "MixVarTuple = (88, True, None, (66+4j, False), 88.67, 555, 29, (\"Tuple\", 76-8j), frozenset({\"Set\", 55.88}), frozenset({(\"Set\"), frozenset({55.88})}))\n",
    "\n",
    "MixVarTuple_Set = set(MixVarTuple)    # Convert Tuple() into Set{}, shuffles & selects unique elements only\n",
    "                                     # While converting into Set{}, the variable must not contain any List[] or set{}.\n",
    "                                     # Instead frozenset({}) & Tuple() is allowed within the variable\n",
    "\n",
    "MixVarTuple_Set.discard(555)   # delete the mentioned Set{} element, delete one element at a time\n",
    "MixVarTuple = tuple(MixVarTuple_Set)     # Convert back List[] into Tuple().\n",
    "\n",
    "print(MixVarTuple)"
   ]
  },
  {
   "cell_type": "code",
   "execution_count": 103,
   "metadata": {},
   "outputs": [
    {
     "name": "stdout",
     "output_type": "stream",
     "text": [
      "False\n",
      "555\n",
      "761.6700000000001\n"
     ]
    }
   ],
   "source": [
    "MixTuple = (88, True, False, 88.67, 555, 29)   # Tuple() must not have any nested List[], Tuple() & Set{} inside\n",
    "                                               # When the Tuple element data types are Integer, Float, Bool\n",
    "\n",
    "print(min(MixTuple))\n",
    "\n",
    "print(max(MixTuple))\n",
    "\n",
    "print(sum(MixTuple))"
   ]
  },
  {
   "cell_type": "code",
   "execution_count": 104,
   "metadata": {},
   "outputs": [],
   "source": [
    "# Tuples Doc ----> https://www.w3schools.com/python/python_tuples.asp"
   ]
  },
  {
   "cell_type": "markdown",
   "metadata": {},
   "source": [
    "## Set{} always has unique elements without repeatations and has no index element sequence, arrangement & order. Set{} never has nested List[] & Set{} inside, instead only nested Tuple() & frozenset({}) are allowed inside.\n",
    "1. There is no data type sequence & index in Set. Set is a collection of Unique Elements, it doesnt takes duplicate values\n",
    "2. You can't append([E1, E2, E3]) List[] format, extend([E1, E2, E3]), insert(Index, [E1, E2, E3]) List[] format, swap, sort(), sorted(), random.shuffle() & replace() elements of Set.\n",
    "3. Additionally add(Element), discard(Element) is applicable for Set{} only\n",
    "1. set.add(Element) #add one Element at a time\n",
    "2. set.discard(Element) #delete one unique Element at a time\n",
    "3. set.pop() #delete the first 1st Element of Set{}\n",
    "4. *\n",
    "5. set.remove(Element) #delete one unique Element at a time\n",
    "6.       #remove() is applicable for List[] & Set{} only\n",
    "9. *\n",
    "10. Set_List = list(Set) #Set{} got converted into List[], Set_List.append() #Converted List[] got append().\n",
    "11.       Set_List.append(e1) #Single element got inserted at the end position\n",
    "12.       Set_List.append((e2, e3, e4)) #Multiple elements got inserted as Tuple() format at the end position\n",
    "13.       Set_List.append(frozenset({e5, e6, e7, e8})) #Multiple elements got inserted as frozenset({}) format at the end position\n",
    "14.       print(Set_List)\n",
    "15.       Set_append = set(Set_List) #Appended List[] got converted back into Set{}, elements don't have index now\n",
    "16. *\n",
    "17. Set_List = list(Set) #Set{} got converted into List[]\n",
    "18.       Set_List.extend([e1]) #Insert new single element e1 at the end position as Array[]\n",
    "19.       Set_List.extend(\"SPLIT\") #Single string element got inserted as \"S\", \"P\", \"L\", \"I\", \"T\" at the end position\n",
    "20.       Set_List.extend([(e2, e3, e4)]) #Multiple elements got inserted as Tuple() format at the end position\n",
    "21.       Set_List.extend([frozenset({})]) #Multiple elements got inserted as frozenset({}) format at the end position\n",
    "22.       Set_List.extend([e5, e6, (e7, e8), frozenset({e9, e10})]) #Multiple elements got inserted as Plain, Tuple() &\n",
    "23.                                                                                                 frozenSet({}) format\n",
    "24.       print(Set_List)\n",
    "25.       Set_extend = set(Set_List) #Extended List[] got converted back into Set{}, elements don't have index now\n",
    "26. *\n",
    "27. set.discard(Element) #delete one unique Element at a time\n",
    "28. set.pop() #delete the first 1st Element of Set{}\n",
    "29. Set only consist unique values\n",
    "31. *\n",
    "32. RandSamp_Set_List = random.sample(Set, k=5) #Random sample collected from Set{} & saved as List[].\n",
    "33.       RandSamp_Set = set(RandSamp_List) #Random sample List[] got convert back into Set{}\n",
    "34. *\n",
    "35. Set_List = list(Set) #Convert Set{} into List[]. Set_List.insert(index, E1) #Single element E1 got inserted.\n",
    "36.       Set_List.insert(index, e1) #Insert new single element e1 at the place of mentioned index\n",
    "37.       Set_List.insert(index, frozenset({E2, E3, E4, E5})) #List[] got inserted nested frozenSet({}) of elements at the\n",
    "38.                                                                                                  place of mentioned index.\n",
    "39.       Set_List.insert(index, (E6, E7, E8)) #List[] got inserted multiple elements as nested Tuple() format at the\n",
    "40.                                                                                            place of mentioned index.\n",
    "41.       Set_inserted = set(Set_List) #List[] got converted back into Set{}, elements don't have index now\n",
    "42. *\n",
    "43. Set_List = list(Set) #Convert Set{} into List[]\n",
    "44.       Set_List[index] = e1    #Mentioned single index element got replaced by a new single element e1\n",
    "45.       Set_List[index] = e2, e3, e4, e5   #Mentioned single index element got replaced by multiple elements as Tuple() format\n",
    "46.       Set_List[index] = frozenset({e6, e7, e8, e9})   #Mentioned single index element got replaced by multiple elements as\n",
    "47.                                                                                                           frozenset({}) format\n",
    "48.       Set_List[index] = e10, e11, (e12, e13), frozenset({e14, e15}) #Mentioned single index element got replaced by multiple\n",
    "49.                                                                                                     elements as Tuple() format\n",
    "50.       print(Set_List)\n",
    "51.       Set_indexed = set(Set_List)    #List[] has been converted back into Set{}\n",
    "54. *\n",
    "55. Set_List = list(Set) #Convert Set{} into List[]\n",
    "56.       Set_List[index:0] = [e1]  #New single element got inserted at the place of mentioned index\n",
    "57.       Set_List[index:0] = \"SPLIT\"  #Single string element got inserted as \"S\", \"P\", \"L\", \"I\", \"T\" at the mentioned\n",
    "58.                                                                                                        index position\n",
    "59.       Set_List[index:0] = e2, e3  #New elements got inserted at the place of mentioned index\n",
    "60.       Set_List[index:0] = [(e4, e5)] #New elements got inserted at the place of mentioned index as Tuple() format\n",
    "61.       Set_List[index:0] = frozenset({e6, e7}) #New elements got inserted at the place of mentioned index as\n",
    "62.                                                                                           frozenset({}) format\n",
    "63.       Set_List[index:0] = e8, e9, (e10, e11), frozenset({e12, e13})  # New elements got inserted at the place of\n",
    "64.                                                           mentioned index as Plain, Tuple(), & frozenSet({}) format\n",
    "65.       print(Set_List)\n",
    "66.       New_Set = set(Set_List)  #Convert back List[] into Set{}\n",
    "67.       print(New_Set)\n",
    "69. *\n",
    "70. Set_List = list(Set) #Convert Set{} into List[]\n",
    "71.       Set_List[4:8] = [e1] #While replacing elements from index 4 to exclusive index 8 upperbound by single element as Array[]\n",
    "72.       Set_List[4:8] = e1, e2, e3, e4 #While replacing elements from index 4 to exclusive index 8 upperbound\n",
    "73.       Set_List[4:8] = [(e1, e2, e3, e4)] #While replacing elements from index 4 to exclusive index 8 upperbound as Tuple() format\n",
    "74.       Set_List[4:8] = [frozenset({e1, e2, e3, e4})] #While replacing elements from index 4 to exclusive index 8 upperbound as\n",
    "75.                                                                                                         frozenset({}) format\n",
    "76.       Set_List[4:8] = e1, e2, (e3, e4), frozenset({e5, e6}) #While replacing elements from index 4 to exclusive index 8\n",
    "77.                                                                    upperbound as Plain, Tuple() & frozenset({}) format\n",
    "78.       New_Set = set(Set_List)  #Convert back List[] into Set{}\n",
    "79. *\n",
    "80. Set = {56, 89.67, True, \"Michiko\", None, -98-8j}\n",
    "81.       print(Set)\n",
    "82.       Set.add(85)                                   # Insert one element at a time in the Set{}\n",
    "83.       Set.add((\"Tuple\", 33-8j))                     # Insert multiple elements as Tuple() format\n",
    "84.       Set.add(frozenset({\"frozen\", 78+5j}))         # Insert multiple elements as frozenset({}) format\n",
    "85.       print(Set)\n",
    "86. *\n",
    "87. s1 = {10,frozenset({20,30,40}),50}   #Nested frozenset({}) inside Set{}\n",
    "88. s2 = {60,(70,80,90),100}             #Nested Tuple() inside Set{}\n",
    "89. NewSet1 = s2.union(s1)       #merging two different Set{} elements & Save it into one new Set{}\n",
    "66. NewSet2 = s1.union(s2)       #merging two different Set{} elements & Save it into one new Set{}\n",
    "68. *\n",
    "69. Set1 = {1, frozenset({2, 3}), 4, 5, (44, 69)}  #Nested frozenset({}) & Tuple() inside Set{}\n",
    "70. List2 = [6, (7, 8), frozenset({15, 19})]       #Nested frozenset({}) & Tuple() inside List[]\n",
    "71. Tuple3 = (10, (11, 12), 13, 22, frozenset({66, 19}))    #Nested frozenset({}) & Tuple() inside Tuple()\n",
    "72. Set1.update(List2)     # merging element of List2 into Set1\n",
    "73. Set1.update(Tuple3)    # merging element of Tuple3 into Set1\n",
    "74. *\n",
    "75. min(Set), max(Set), sum(Set) #When the Set element data types are Integer, Float, Bool\n",
    "76.       #Set{} must not have any nested List[], Tuple() & Set{} inside"
   ]
  },
  {
   "cell_type": "code",
   "execution_count": 105,
   "metadata": {},
   "outputs": [
    {
     "name": "stdout",
     "output_type": "stream",
     "text": [
      "{frozenset({3, 4}), 1, 2, 33, 4, (33, 33)}\n",
      "{'Jenny', 56, frozenset({(89-5j), 11.11}), (89, True)}\n",
      "{True, 45.77, 50, frozenset({(67+9j)}), 'String'}\n",
      "{True, frozenset({(68+9j)}), (46.77, 51), 'String'}\n",
      "{True, 46.77, 51, 'String', (68+9j)}\n"
     ]
    }
   ],
   "source": [
    "# Sets ---> {} ------->\n",
    "# Set is a collection of Unique Elements, it doesnt takes duplicate values\n",
    "# There is no fixed index values of elements\n",
    "# Curly bracket is meant for Set, anything {element} inside curly bracket comes under set\n",
    "# There is no specific sequence of elements in set\n",
    "# Set uses the concept of hash\n",
    "# You can't perform Arithmatic operations between Sets\n",
    "# Set doesnt support duplicate values\n",
    "# Index/Location value doesnt work in set\n",
    "# Concatination is not possible between two sets\n",
    "# Indexing is not possible in set\n",
    "# Set is mutable variable, you can add & remove elements\n",
    "# You can't perform swap, sort, shuffle & replace elements of Set\n",
    "\n",
    "MixVarS1 = {1, 2, 33, (33, 33), 4, frozenset({4, 3, 3})}\n",
    "print(MixVarS1)                                                       # Exclude repeated values\n",
    "\n",
    "MixVarS2 = {\"Jenny\", (89, True), 56, frozenset({89-5j, 11.11})}\n",
    "print(MixVarS2)\n",
    "\n",
    "MixVarS3 = {True, (\"String\"), frozenset({67+9j}), 45.77, 50}\n",
    "print(MixVarS3)\n",
    "\n",
    "MixVarS4 = {True, (46.77, 51), \"String\", frozenset({68+9j})}          # data type sequence in set. Boolean, Float, Integer, String, Complex\n",
    "print(MixVarS4)\n",
    "\n",
    "MixS5 = {True, 46.77, 51, \"String\", 68+9j}          # data type sequence in set. Boolean, Float, Integer, String, Complex\n",
    "print(MixS5)"
   ]
  },
  {
   "cell_type": "code",
   "execution_count": 106,
   "metadata": {},
   "outputs": [
    {
     "name": "stdout",
     "output_type": "stream",
     "text": [
      "{5, frozenset({55}), 21, (25, 14), 22}\n"
     ]
    },
    {
     "data": {
      "text/plain": [
       "(set, 5)"
      ]
     },
     "execution_count": 106,
     "metadata": {},
     "output_type": "execute_result"
    }
   ],
   "source": [
    "MixVarS6 = {22, (25, 14), 21, frozenset({55}), 5}\n",
    "print(MixVarS6)\n",
    "type(MixVarS6), len(MixVarS6)"
   ]
  },
  {
   "cell_type": "code",
   "execution_count": 107,
   "metadata": {},
   "outputs": [
    {
     "name": "stdout",
     "output_type": "stream",
     "text": [
      "{(12+10j), 11, 10.1, 'Prashant', frozenset({False})}\n"
     ]
    }
   ],
   "source": [
    "MixVarS7 = {10.10, 'Prashant', (12+10j), frozenset({False}), 11}      # Elements dont have specific & fixed index value & Sequence\n",
    "print(MixVarS7)"
   ]
  },
  {
   "cell_type": "code",
   "execution_count": 108,
   "metadata": {},
   "outputs": [
    {
     "name": "stdout",
     "output_type": "stream",
     "text": [
      "{False, (12+10j), 10.1, 11, 'Prashant'}\n",
      "[False, (12+10j), 10.1, None, frozenset({'Set', 67.77, 89, (85-9j), 'Nested'}), (77, (89-3j), 'Tuple'), 11, 'Prashant']\n",
      "{False, frozenset({'Set', 67.77, 89, (85-9j), 'Nested'}), (12+10j), 10.1, 11, None, 'Prashant', (77, (89-3j), 'Tuple')}\n"
     ]
    }
   ],
   "source": [
    "MixSet = {10.10, 'Prashant', 12+10j, False, 11}        # Elements dont have specific & fixed index value & Sequence\n",
    "print(MixSet)\n",
    "\n",
    "MixSet_List = list(MixSet) # Converting set{} into list[]\n",
    "\n",
    "MixSet_List.insert(3, None) # Converted list[] got inserted None at 3rd index position\n",
    "\n",
    "MixSet_List.insert(4, frozenset({\"Nested\", 67.77, \"Set\", 89, 85-9j})) # Converted list[] got inserted frozenset{} at 4th index position\n",
    "\n",
    "MixSet_List.insert(5, (77, 89-3j, \"Tuple\"))  # Converted list[] got inserted Tuple() at 5th index position\n",
    "\n",
    "print(MixSet_List)\n",
    "\n",
    "MixSet = set(MixSet_List) # list[] got converted back into set{}, elements don't have index now\n",
    "print(MixSet)"
   ]
  },
  {
   "cell_type": "code",
   "execution_count": 109,
   "metadata": {},
   "outputs": [
    {
     "name": "stdout",
     "output_type": "stream",
     "text": [
      "{False, (12+10j), 10.1, 11, 'Prashant'}\n",
      "[False, (12+10j), 10.1, 11, 'Prashant', 69, ('Tuple', (67-5j)), frozenset({'Frozen', (89+7j)})]\n",
      "{False, frozenset({'Frozen', (89+7j)}), 69, (12+10j), 11, 10.1, ('Tuple', (67-5j)), 'Prashant'}\n"
     ]
    }
   ],
   "source": [
    "MixSeT = {10.10, 'Prashant', 12+10j, False, 11} # Elements dont have specific & fixed index value & Sequence\n",
    "print(MixSeT)\n",
    "MixSeT_List = list(MixSeT)                          # Converting set{} into list[]\n",
    "MixSeT_List.append(69)                            # Single element got inserted at the end position\n",
    "MixSeT_List.append((\"Tuple\", 67-5j))              # Multiple elements got inserted as Tuple() format at the end position\n",
    "MixSeT_List.append(frozenset({\"Frozen\", 89+7j}))  # Multiple elements got inserted as frozenset({}) format at the end position\n",
    "print(MixSeT_List)\n",
    "MixSeT_append = set(MixSeT_List)   # Convert back List[] into Set{}, elements don't have index now\n",
    "print(MixSeT_append)"
   ]
  },
  {
   "cell_type": "code",
   "execution_count": 110,
   "metadata": {},
   "outputs": [
    {
     "name": "stdout",
     "output_type": "stream",
     "text": [
      "{False, (12+10j), 10.1, 11, 'Prashant'}\n",
      "[False, (12+10j), 10.1, 11, 'Prashant', 88, 'S', 'P', 'L', 'I', 'T', ('Tuple', (69+5j), 77), frozenset({'Frozen', (89+7j)}), 66, 55, ('Nested', True), frozenset({(44+7j), 'Sigma'})]\n",
      "{False, 'P', ('Tuple', (69+5j), 77), frozenset({'Frozen', (89+7j)}), 66, ('Nested', True), frozenset({(44+7j), 'Sigma'}), (12+10j), 11, 10.1, 'I', 'T', 'S', 'L', 55, 88, 'Prashant'}\n"
     ]
    }
   ],
   "source": [
    "MixSeT = {10.10, 'Prashant', 12+10j, False, 11} # Elements dont have specific & fixed index value & Sequence\n",
    "print(MixSeT)\n",
    "MixSeT_List = list(MixSeT)                      # Converting set{} into list[]\n",
    "MixSeT_List.extend([88])                     # Insert new single element at the end position as Array[]\n",
    "MixSeT_List.extend(\"SPLIT\")                  # Single string element got inserted as \"S\", \"P\", \"L\", \"I\", \"T\" at the end position\n",
    "MixSeT_List.extend([(\"Tuple\", 69+5j, 77)])   # Multiple elements got inserted as Tuple() format at the end position\n",
    "MixSeT_List.extend([frozenset({\"Frozen\", 89+7j})])     # Multiple elements got inserted as frozenset({}) format at the end position\n",
    "MixSeT_List.extend([66, 55, (\"Nested\", True), frozenset({\"Sigma\", 44+7j})])    #Multiple elements got inserted as Plain, Tuple() & frozenSet({}) format\n",
    "print(MixSeT_List)\n",
    "MixSeT_extend = set(MixSeT_List)    # Convert back List[] into Set{}, elements don't have index now\n",
    "print(MixSeT_extend)"
   ]
  },
  {
   "cell_type": "code",
   "execution_count": 111,
   "metadata": {},
   "outputs": [
    {
     "name": "stdout",
     "output_type": "stream",
     "text": [
      "[(66, 73, ('nested', 'tuple'), frozenset({88, (4-3j)})), frozenset({(49-3j), 'Frozen'}), 12, 'Three', ('Tuple', (67-8j), 56.88, True, None), None]\n",
      "\n",
      "{12, frozenset({(49-3j), 'Frozen'}), ('Tuple', (67-8j), 56.88, True, None), (66, 73, ('nested', 'tuple'), frozenset({88, (4-3j)})), None, 'Three'}\n"
     ]
    }
   ],
   "source": [
    "MixSeT = {12, 45.99, None, True, 6-9j, \"Set\"}\n",
    "MixSeT_List = list(MixSeT)  # Convert Set{} into List[]\n",
    "MixSeT_List[3] = \"Three\"   # Mentioned single index element got replaced by a new single element\n",
    "MixSeT_List[4] = \"Tuple\", 67-8j, 56.88, True, None     # Mentioned single index element got replaced by multiple elements as Tuple() format\n",
    "MixSeT_List[1] = frozenset({\"Frozen\", 49-3j})          # Mentioned single index element got replaced by multiple elements as frozenset({}) format\n",
    "MixSeT_List[0] = 66, 73, (\"nested\", \"tuple\"), frozenset({88, 4-3j})  # Mentioned single index element got replaced by multiple elements as Tuple() format\n",
    "print(MixSeT_List)\n",
    "print()\n",
    "MixSeT_indexed = set(MixSeT_List)       # Convert back List[] into Set{}, elements don't have index now\n",
    "print(MixSeT_indexed)"
   ]
  },
  {
   "cell_type": "code",
   "execution_count": 112,
   "metadata": {},
   "outputs": [
    {
     "name": "stdout",
     "output_type": "stream",
     "text": [
      "[True, (6-9j), frozenset({'Zigma', 87}), 12, 'Three', 'S', 77, 45, ('Tuple', (-0-8j)), 'P', 'L', 'I', 'T', 45.99, 'Set', None, 56, 87, (True, None), frozenset({'Frozen', (77-8j)})]\n",
      "\n",
      "{True, ('Tuple', (-0-8j)), 12, frozenset({'Frozen', (77-8j)}), (6-9j), 45, 45.99, 'S', 'L', 56, frozenset({'Zigma', 87}), 77, (True, None), 87, None, 'P', 'I', 'T', 'Set', 'Three'}\n"
     ]
    }
   ],
   "source": [
    "MixSeT = {12, 45.99, None, True, 6-9j, \"Set\"}\n",
    "MixSeT_List = list(MixSeT)  # Convert Set{} into List[]\n",
    "MixSeT_List[3:0] = [\"Three\"]   # New string element got inserted as Array[] at the place of mentioned index\n",
    "MixSeT_List[4:0] = \"SPLIT\"    # \"S\", \"P\", \"L\", \"I\", \"T\" new indivisual string element letters got inserted at the place of mentioned index\n",
    "MixSeT_List[5:0] = 77, 45    # New elements got inserted at the place of mentioned index\n",
    "MixSeT_List[7:0] = [(\"Tuple\", -8j)]      # New elements got inserted as Tuple() format at the place of mentioned index\n",
    "MixSeT_List[2:0] = [frozenset({\"Zigma\", 87})]    # New elements got inserted as frozenset({}) format at the place of mentioned index\n",
    "MixSeT_List[len(MixSeT_List):0] = 56, 87, (True, None), frozenset({\"Frozen\", 77-8j})   # New elements got inserted at the place of mentioned index as Plain, Tuple(), & frozenSet({}) format\n",
    "print(MixSeT_List)\n",
    "print()\n",
    "New_MixSet = set(MixSeT_List)  # Converted back List[] into Set{}, elements don't have index now\n",
    "print(New_MixSet)"
   ]
  },
  {
   "cell_type": "code",
   "execution_count": 113,
   "metadata": {},
   "outputs": [
    {
     "name": "stdout",
     "output_type": "stream",
     "text": [
      "[True, (6-9j), frozenset({'Zigma', 87}), 12, 'Three', 'S', 77, 45, ('Tuple', (-0-8j)), 'P', 'L', 'I', 'T', 45.99, 'Set', None, 56, 87, (True, None), frozenset({'Frozen', (77-8j)})]\n",
      "\n",
      "{True, ('Tuple', (-0-8j)), 12, frozenset({'Frozen', (77-8j)}), (6-9j), 45, 45.99, 'S', 'L', 56, frozenset({'Zigma', 87}), 77, (True, None), 87, None, 'P', 'I', 'T', 'Set', 'Three'}\n"
     ]
    }
   ],
   "source": [
    "MixSet = {12, 45.99, None, True, 6-9j, \"Set\"}\n",
    "MixSet_List = list(MixSet)  # Convert Set{} into List[]\n",
    "\n",
    "MixSet_List[4:8] = 88-4j, None, \"Plain\", 41 # While replacing elements from index 4 to exclusive index 8 upperbound\n",
    "MixSet_List[9:12] = [\"Arnold\"]      # From 9 to 12 exclusive upperbound multiple index elements will be replaced by single element e1 as Array[]\n",
    "MixSet_List[13:16] = [[\"Black\", False, \"Tesla\", 56+3j]]   # While replacing elements from index 13 to exclusive index 16 upperbound as List[] format\n",
    "MixSet_List[22:29] = [(-66j, None, 37, True)]   # While replacing elements from index 22 to exclusive index 29 upperbound as Tuple() format\n",
    "MixSet_List[24:28] = [{12, 50, 47, -77j}]   # While replacing elements from index 24 to exclusive index 28 upperbound as Set{} format\n",
    "\n",
    "print(MixSeT_List)\n",
    "print()\n",
    "New_MixSet = set(MixSeT_List)  # Converted back List[] into Set{}, elements don't have index now\n",
    "print(New_MixSet)"
   ]
  },
  {
   "cell_type": "code",
   "execution_count": 114,
   "metadata": {},
   "outputs": [
    {
     "name": "stdout",
     "output_type": "stream",
     "text": [
      "{True, (6-9j), 12, 45.99, 'Set', None}\n",
      "{True, (6-9j), 12, 45.99, 'Set', None, 'Single'}\n",
      "{True, (6-9j), 12, 45.99, 'Set', None, 'Single', (77, (89-3j), 'Tuple')}\n",
      "{True, (6-9j), 12, 45.99, 'Set', frozenset({59, 'Nested'}), None, 'Single', (77, (89-3j), 'Tuple')}\n"
     ]
    }
   ],
   "source": [
    "MixSet = {12, 45.99, None, True, 6-9j, \"Set\"}\n",
    "MixTuple = (77, 89-3j, \"Tuple\")\n",
    "MixFrozenset = frozenset({\"Nested\", 59})\n",
    "print(MixSet)\n",
    "MixSet.add(\"Single\")     # Insert one element at a time in the Set{}\n",
    "print(MixSet)\n",
    "MixSet.add(MixTuple)        # Insert multiple elements as Tuple() format\n",
    "print(MixSet)\n",
    "MixSet.add(MixFrozenset)        # Insert multiple elements as frozenset({}) format\n",
    "print(MixSet)"
   ]
  },
  {
   "cell_type": "code",
   "execution_count": 115,
   "metadata": {},
   "outputs": [
    {
     "name": "stdout",
     "output_type": "stream",
     "text": [
      "{67.89, frozenset({40, 20, 30}), 10, (8-9j), ('Tuple', False, None)}\n",
      "{100, frozenset({True, 'String', None, (20-9j), 30.78}), 60, (70, 80, 90)}\n",
      "{67.89, 100, frozenset({40, 20, 30}), 10, (70, 80, 90), (8-9j), frozenset({True, 'String', None, (20-9j), 30.78}), ('Tuple', False, None), 60}\n",
      "{67.89, 100, frozenset({40, 20, 30}), 10, (70, 80, 90), (8-9j), ('Tuple', False, None), frozenset({True, 'String', None, (20-9j), 30.78}), 60}\n"
     ]
    }
   ],
   "source": [
    "MixVarSet1 = {10, 67.89, 8-9j, frozenset({20, 30, 40}), (\"Tuple\", False, None)}\n",
    "MixVarSet2 = {60, (70, 80, 90), 100, frozenset({20-9j, 30.78, True, None, \"String\"})}\n",
    "print(MixVarSet1)\n",
    "print(MixVarSet2)\n",
    "\n",
    "NewMixVarSet1 = MixVarSet2.union(MixVarSet1)        # merging two different Set{} elements & Save it into one new Set{}\n",
    "print(NewMixVarSet1)\n",
    "\n",
    "NewMixVarSet2 = MixVarSet1.union(MixVarSet2)        # merging two different Set{} elements & Save it into one new Set{}\n",
    "print(NewMixVarSet2)"
   ]
  },
  {
   "cell_type": "code",
   "execution_count": 116,
   "metadata": {},
   "outputs": [
    {
     "name": "stdout",
     "output_type": "stream",
     "text": [
      "{1, frozenset({2, 3}), 5, 4, 6, 10, frozenset({19, 15}), 13, (11, 12), frozenset({66, 19}), 22, (44, 69), (7, 8)}\n"
     ]
    }
   ],
   "source": [
    "Set1 = {1, frozenset({2, 3}), 4, 5, (44, 69)}\n",
    "List2 = [6, (7, 8), frozenset({15, 19})]\n",
    "Tuple3 = (10, (11, 12), 13, 22, frozenset({66, 19}))\n",
    "\n",
    "Set1.update(List2)     # merging element of List2 into Set1\n",
    "Set1.update(Tuple3)    # merging element of Tuple3 into Set1\n",
    "print(Set1)"
   ]
  },
  {
   "cell_type": "code",
   "execution_count": 117,
   "metadata": {},
   "outputs": [
    {
     "name": "stdout",
     "output_type": "stream",
     "text": [
      "{'apple', 'google', 'microsoft', 'cherry', 'banana'}\n",
      "{'google', 'apple', 'microsoft'}\n",
      "{'google', 'apple', 'microsoft', 'cherry', 'banana'}\n",
      "{'apple', 'banana', 'cherry'}\n",
      "{'google', 'apple', 'microsoft', 'cherry', 'banana'}\n",
      "{'apple', 'google', 'microsoft', 'cherry', 'banana'}\n"
     ]
    }
   ],
   "source": [
    "x = {\"apple\", \"banana\", \"cherry\"}\n",
    "y = {\"google\", \"microsoft\", \"apple\"}\n",
    "a = {\"apple\", \"banana\", \"cherry\"}\n",
    "b = {\"google\", \"microsoft\", \"apple\"}\n",
    "x.update(y)                                       # merging element of set2 into set1 or vice versa\n",
    "print(x)\n",
    "print(y)\n",
    "\n",
    "b.update(a)\n",
    "print(b)\n",
    "print(a)\n",
    "\n",
    "x1 = {\"apple\", \"banana\", \"cherry\"}\n",
    "y1 = {\"google\", \"microsoft\", \"apple\"}\n",
    "a1 = {\"apple\", \"banana\", \"cherry\"}\n",
    "b1 = {\"google\", \"microsoft\", \"apple\"}\n",
    "\n",
    "NewSetA = y1.union(x1) # merging two different set elements into one new set\n",
    "print(NewSetA)\n",
    "\n",
    "NewSetB = a1.union(b1) # merging two different sets elements into one new set\n",
    "print(NewSetB)"
   ]
  },
  {
   "cell_type": "code",
   "execution_count": 118,
   "metadata": {},
   "outputs": [
    {
     "name": "stdout",
     "output_type": "stream",
     "text": [
      "{(12+10j), 11, 10.1, 'Prashant', frozenset({False})}\n",
      "[11, 10.1, 'Prashant', (12+10j), frozenset({False})]\n",
      "<class 'list'>\n",
      "{10.1, 11, (12+10j), 'Prashant', frozenset({False})}\n",
      "<class 'set'>\n"
     ]
    }
   ],
   "source": [
    "import random\n",
    "\n",
    "MixVarS7 = {10.10, 'Prashant', (12+10j), frozenset({False}), 11}      # Elements dont have specific & fixed index value & Sequence\n",
    "print(MixVarS7)\n",
    "\n",
    "RandSamp_Set_List = random.sample(MixVarS7, k=len(MixVarS7))           # randomly pick any 3 elements from set{} s2 & saved it as list[]\n",
    "print(RandSamp_Set_List)\n",
    "print(type(RandSamp_Set_List))\n",
    "\n",
    "RandSamp_Set = set(RandSamp_Set_List)    # Convert back that sample list[] into set{}\n",
    "print(RandSamp_Set)\n",
    "print(type(RandSamp_Set))"
   ]
  },
  {
   "cell_type": "code",
   "execution_count": 119,
   "metadata": {},
   "outputs": [
    {
     "name": "stdout",
     "output_type": "stream",
     "text": [
      "{(12+10j), 11, 10.1, 'Prashant', frozenset({False})}\n",
      "{(12+10j), 10.1, 'Prashant', frozenset({False})}\n",
      "{(12+10j), 10.1, frozenset({False})}\n"
     ]
    }
   ],
   "source": [
    "MixVarS7 = {10.10, 'Prashant', (12+10j), frozenset({False}), 11}\n",
    "print(MixVarS7)\n",
    "\n",
    "MixVarS7.remove(11)                   # delete element 11 from Set{}, one element at a time\n",
    "print(MixVarS7)\n",
    "\n",
    "MixVarS7.remove(\"Prashant\")           # delete element \"Prashant\" from Set{}, one element at a time\n",
    "print(MixVarS7)"
   ]
  },
  {
   "cell_type": "code",
   "execution_count": 120,
   "metadata": {},
   "outputs": [
    {
     "name": "stdout",
     "output_type": "stream",
     "text": [
      "{(12+10j), 11, 10.1, 'Prashant', frozenset({False})}\n",
      "{(12+10j), 10.1, 'Prashant', frozenset({False})}\n",
      "{(12+10j), 10.1, frozenset({False})}\n"
     ]
    }
   ],
   "source": [
    "MixVarS7 = {10.10, 'Prashant', (12+10j), frozenset({False}), 11}\n",
    "print(MixVarS7)\n",
    "\n",
    "MixVarS7.discard(11)                   # delete element 11 from Set{}, one element at a time\n",
    "print(MixVarS7)\n",
    "\n",
    "MixVarS7.discard(\"Prashant\")           # delete element \"Prashant\" from Set{}, one element at a time\n",
    "print(MixVarS7)"
   ]
  },
  {
   "cell_type": "code",
   "execution_count": 121,
   "metadata": {},
   "outputs": [
    {
     "name": "stdout",
     "output_type": "stream",
     "text": [
      "{True, (89-5j), 11.11, 'Jenny', 56, 89}\n",
      "{(89-5j), 11.11, 'Jenny', 56, 89}\n",
      "{11.11, 'Jenny', 56, 89}\n",
      "{'Jenny', 56, 89}\n"
     ]
    }
   ],
   "source": [
    "Set1 = {\"Jenny\", 89, True, 56, 89-5j, 11.11}\n",
    "print(Set1)\n",
    "Set1.pop() # By default delete the first 1st Element of set\n",
    "print(Set1)\n",
    "Set1.pop() # By default delete the first 1st Element of set\n",
    "print(Set1)\n",
    "Set1.pop() # By default delete the first 1st Element of set\n",
    "print(Set1)"
   ]
  },
  {
   "cell_type": "code",
   "execution_count": 122,
   "metadata": {},
   "outputs": [
    {
     "name": "stdout",
     "output_type": "stream",
     "text": [
      "(1, 2, 3, 4.9, 5, 78.4, True, 68, 33, 22, False, 12)\n"
     ]
    },
    {
     "data": {
      "text/plain": [
       "(tuple, 12, False, 78.4, 230.3)"
      ]
     },
     "execution_count": 122,
     "metadata": {},
     "output_type": "execute_result"
    }
   ],
   "source": [
    "NumSet = (1, 2, 3, 4.9, 5, 78.4, True, 68, 33, 22, False, 12)   # When the Set element data types are Integer, Float, Bool\n",
    "                                                                #Set{} must not have any nested List[], Tuple() & Set{} inside\n",
    "print(NumSet)\n",
    "\n",
    "type(NumSet), len(NumSet), min(NumSet), max(NumSet), sum(NumSet)"
   ]
  },
  {
   "cell_type": "raw",
   "metadata": {},
   "source": [
    "s1+s2  # Addition of two/more sets are not possible because indexing is not fixed... There is no sequence in elements\n",
    "       # Concatination of two/more sets are not possible because indexing is not fixed\n",
    "\n",
    "s1*s2  # Multiplication of two/more sets are not possible because indexing is not fixed\n",
    "\n",
    "s1/s2  # Division of two/more sets are not possible because indexing is not fixed"
   ]
  },
  {
   "cell_type": "code",
   "execution_count": 123,
   "metadata": {},
   "outputs": [],
   "source": [
    "# Sets always maintain unique values\n",
    "# https://www.w3schools.com/python/python_sets.asp"
   ]
  },
  {
   "cell_type": "markdown",
   "metadata": {},
   "source": [
    "## Dictionary is Collection of Key:Element Pair Combinations. Keys always should be String, Float, Integer, Complex, Boolean, None, Tuple() & frozenset({}) data types. All immutable objects could be Key in python dictionary.\n",
    "1. For Dict Key : List[] pair combinations, all charecteristics of List[] will be applicable\n",
    "2. For Dict Key : Tuple() pair combinations, all charecteristics of Tuple() will be applicable\n",
    "3. For Dict Key : Set{} pair combinations, all charecteristics of set{} will be applicable\n",
    "4. For Dict Key : frozenset({}) pair combinations, all charecteristics of frozenset({}) will be applicable\n",
    "1. Dictioneries are Unordered\n",
    "2. Dictioneries don't allow duplicate Keys\n",
    "4. Dict[Key] #Shows Elements of the mentioned Key\n",
    "5. Dict.get(Key) #Shows Elements of the mentioned Key\n",
    "6. Dict[Key].index(Element) #See Index of the mentioned Dict Key List[] Element. One element at a time.\n",
    "7. Dict[Key][:] #Dict Key List[] Element indexing\n",
    "8. Dict[Key][::3] #Dict Key ist[] Element indexing from start to end by hopping 3 elements cycle\n",
    "9. Dict[Key][3:8:2] #Dict Key List[] Element indexing from index 3 to index 8 upperbound by hopping 2 elements cycle\n",
    "10. Dict[Key].append(e1) #Insert new single element e1 at the Dict Key List[] end position\n",
    "11. Dict[Key].append([e2, e3, e4]) #Insert new elements in List[] format at the Dict Key List[] end position\n",
    "12. Dict[Key].append((e5, e6, e7)) #Insert new elements in Tuple() format at the Dict Key List[] end position\n",
    "13. Dict[Key].append({e8, e9, e10}) #Insert new elements in Set{} format at the Dict Key List[] end position\n",
    "14. Dict[Key].insert(index, e1) #Insert new single element e1 at the Dict Key List[] mentioned index position\n",
    "15. Dict[Key].insert(index, [e2, e3, e4, e5]) #Insert new elements in List[] format at the Dict Key List[] mentioned index position\n",
    "16. Dict[Key].insert(index, (e6, e7, e8, e9)) #Insert new elements in Tuple() format at the Dict Key List[] mentioned index position\n",
    "17. Dict[Key].insert(index, {e10, e11, e12, e13}) #Insert new elements in Set{} format at the Dict Key List[] mentioned index position\n",
    "18. Dict[Key][Index:0] = [e1] #Insert new single element e1 as Array[] at the Dict Key List[] mentioned index position\n",
    "19. Dict[Key][Index:0] = \"LETTER\" #Insert new String alphabet elements \"L\", \"E\", \"T\", \"T\", \"E\", \"R\" at the Dict Key List[] mentioned index position\n",
    "21. Dict[Key][Index:0] = e2, e3, e4, e5 #Insert new elements at the Dict Key List[] mentioned index position\n",
    "22. Dict[Key][Index:0] = [[e6, e7, e8, e9]] #Insert new elements in List[] format at the Dict Key List[] mentioned index position\n",
    "23. Dict[Key][Index:0] = [(e10, e11, e12, e13)] #Insert new elements in Tuple() format at the Dict Key List[] mentioned index position\n",
    "24. Dict[Key][Index:0] = [{e14, e15, e16, e17}] #Insert new elements in Set{} format at the Dict Key List[] mentioned index position\n",
    "25. Dict[Key][Index:0] = e18, e19, [e20, e21], (e22, e23), {e24, e25} #Insert new elements as Plain, List[], Tuple() & Set{} format at the Dict Key List[]\n",
    "26.                                                                                                mentioned index position\n",
    "27. Dict[Key][index] = e1 #Dict Key List[] mentioned index position element got replaced by single element e1\n",
    "28. Dict[Key][index] = e2, e3, e4, e5 #Dict Key List[] mentioned index position element got replaced by new elements as Tuple() format\n",
    "29. Dict[Key][index] = [e6, e7, e8, e9] #Dict Key List[] mentioned index position element got replaced by new elements as List[] format\n",
    "30. Dict[Key][index] = {e6, e7, e8, e9} #Dict Key List[] mentioned index position element got replaced by new elements as Set{} format\n",
    "31. Dict[Key][index] = e1, e2, [e3, e4], {e5, e6} #Dict Key List[] mentioned index position element got replaced by new elements as Tuple() format\n",
    "32. Dict[Key][4:8] = e1, e2, e3, e4 #While replacing Dict Key List[] elements from index 4 to exclusive index 8 upperbound\n",
    "33. Dict[Key][4:8] = [e5] #While replacing Dict Key List[] elements from index 4 to exclusive index 8 upperbound by single element as Array[]\n",
    "34. Dict[Key][4:8] = [[e6, e7, e8, e9]] #While replacing Dict Key List[] elements from index 4 to exclusive index 8 upperbound as List[] format\n",
    "35. Dict[Key][4:8] = [(e1, e2, e3, e4)] #While replacing Dict Key List[] elements from index 4 to exclusive index 8 upperbound as Tuple() format\n",
    "36. Dict[Key][4:8] = [{e1, e2, e3, e4}] #While replacing Dict Key List[] elements from index 4 to exclusive index 8 upperbound as Set{} format\n",
    "37. Dict[Key][4:8] = e1, e2, [e3, e4], (e5, e6), {e7, e8} #While replacing Dict Key List[] elements from index 4 to exclusive index 8 upperbound as Plain,\n",
    "38.                                                                                                    List[], Tuple() & Set{} format\n",
    "39. Dict[Key].extend([e1]) #Insert new single element at the Dict Key List[] end position as Array[]\n",
    "35. Dict[Key].extend(\"SPLIT\") #Single string element got inserted as indivisual letters \"S\", \"P\", \"L\", \"I\", \"T\" at the Dict Key List[] end position\n",
    "36. Dict[Key].extend([e2, e3, e4, e5]) #Insert multiple indivisual elements to the Dict Key List[] end position\n",
    "37. Dict[Key].extend([[e6, e7, e8, e9]]) #Insert multiple indivisual elements to the Dict Key List[] end position as List[] format\n",
    "38. Dict[Key].extend([(e10, e11, e12, e13)]) #Insert multiple indivisual elements to the Dict Key List[] end position as Tuple() format\n",
    "39. Dict[Key].extend([{e14, e15, e16, e17}]) #Insert multiple indivisual elements to the Dict Key List[] end position as Set{} format\n",
    "40. Dict[Key].extend([e18, e19, [e20, e21], (e22, e23), {e24, e25}]) #Insert multiple indivisual elements to the Dict Key List[] end position as Plain,\n",
    "41.                                                                                                 List[], Tuple() & Set{} format\n",
    "43. Dict[Key][len(Dict[Key]):0] = [e1] #Insert new single element e5 at the Dict Key List[] end position as Array[]\n",
    "44. Dict[Key][len(Dict[Key]):0] = e1, e2, e3, e4 #Insert new elements at the Dict Key List[] end position\n",
    "45. random.shuffle(Dict[Key]) #Shuffle the Dict Key List[] elements Randomly\n",
    "46. Dict[Key].reverse() #This will reverse the placement of Dict Key List[] elements in Backward\n",
    "47. *\n",
    "48. Dict_Key_list_reverseiterator = reversed(Dict[Key]) #This will reverse the placement of Dict Key List[] elements in Backward & convert into list_reverseiterator\n",
    "49. Dict[Key] = list(Dict_Key_list_reverseiterator) #Convert back list_reverseiterator into Dict Key List[]\n",
    "50. *\n",
    "51. Nested_Dict[Root_Key][Nest_Key1][Nest_Key2][Nest_Key3] #Show Values of Nested Keys\n",
    "52. Nested_Dict.get(Root_Key).get(Nest_Key1).get(Nest_Key2).get(Nest_Key3) #Show Values of Nested Keys\n",
    "54. Dict[Key] = random.sample(Dict[Key], k=len(Dict[Key])) #Pick randomly equal length sample value elements, without repetitions\n",
    "55. Dict[Key].pop() #By default delete the last Dict Key List[] element\n",
    "56. Dict[Key].pop(index) #delete the mentioned Dict Key List[] index element\n",
    "57. Dict.pop(Key) #delete that particular Key:Element pair.\n",
    "58. del Dict[Key] #delete that particular Key:Element Pair.\n",
    "59. Dict[Key].count(Element) #Count the mentioned Dict Key List[] Element frequency. One element at a time.\n",
    "60. Dict[Key].remove(Element) #delete the mentioned Dict Key List[] Element, remove() is applicable for List & Set only\n",
    "61. Dict[Key].sort() #When the Dict[Key] List[] element data types are Integer, Float, Boolean mix plain List element data types simultaneously & with\n",
    "62.                                                                                                         String seperately\n",
    "63. Dict[Key] = sorted(Dict[Key]) #When the Dict[Key] element data types are Integer, Float, Boolean mix plain List element data types simultaneously\n",
    "64.                                                                                                   & with String seperately\n",
    "65. Dict.keys() #Show all keys\n",
    "66. Dict_Key_List = list(Dict) #All Dict Keys has been taken into List[]\n",
    "67. Dict_Key_Tuple = tuple(Dict) #All Dict Keys has been taken into Tuple()\n",
    "68. Dict_Key_Set = set(Dict) #All Dict Keys has been taken into Set{}\n",
    "69. Dict.values() #Show all values\n",
    "70. list(Dict.items()) #Show all Key:Element Pairs as Tuples & Convert it into List[]\n",
    "71. Dict1.update(Dict2) #Adds Key:Element Pairs of Dict2 within Dict1\n",
    "72. *\n",
    "73. min(Dict[Key]), max(Dict[Key]), sum(Dict[Key]) #When the Dict[Key] element data types are Integer, Float, Bool\n",
    "74.                                                 #must not have any nested List[], Tuple() & Set{} inside\n",
    "75. *\n",
    "76. sys.getsizeof(Dict) #This will show the size of Dict Dictionary"
   ]
  },
  {
   "cell_type": "code",
   "execution_count": 124,
   "metadata": {},
   "outputs": [
    {
     "name": "stdout",
     "output_type": "stream",
     "text": [
      "{'MixVarList': ['String', ('Tuple1', (77-8j), True), ['List1', None], {88.91, False, 'Set1'}], 'MixVarTuple': ('Bangalore', False, ['List2', (66-9j)], ('Tuple2', 77), {None, 'Set2'}), 'MixVarSet': {False, frozenset({'Set3', (-0-77j)}), 'Red', ('Tuple3', 67), None}, 'MixList': [45.77, 67, (8-78j), None, False, 'List3'], 'MixTuple': (67.56, True, 'Tuple4', 99, (12+6j), None), 'MixSet': {True, 66.66, (78-9j), None, 'Set4', 62}, (88-9j): ('Complex', (77-7j), (56+4j), 493j), 77: ['Integer', 61, 43, 58, 47], 77.77: {66.68, 'Float', 4.13, 6.4}, True: ('Boolean', True, False, False, True), None: {None, 'None'}, 'Tuple': {89, (-0-5j)}, frozenset({'Set'}): [frozenset({'z', 'F', 'r', 'n', 'e', 'o'})], 'Frozen': frozenset({'Deep', 'Forest'})}\n",
      "\n",
      "<class 'dict'>\n",
      "\n",
      "14\n",
      "\n",
      "dict_keys(['MixVarList', 'MixVarTuple', 'MixVarSet', 'MixList', 'MixTuple', 'MixSet', (88-9j), 77, 77.77, True, None, 'Tuple', frozenset({'Set'}), 'Frozen'])\n",
      "<class 'dict_keys'>\n",
      "\n",
      "dict_values([['String', ('Tuple1', (77-8j), True), ['List1', None], {88.91, False, 'Set1'}], ('Bangalore', False, ['List2', (66-9j)], ('Tuple2', 77), {None, 'Set2'}), {False, frozenset({'Set3', (-0-77j)}), 'Red', ('Tuple3', 67), None}, [45.77, 67, (8-78j), None, False, 'List3'], (67.56, True, 'Tuple4', 99, (12+6j), None), {True, 66.66, (78-9j), None, 'Set4', 62}, ('Complex', (77-7j), (56+4j), 493j), ['Integer', 61, 43, 58, 47], {66.68, 'Float', 4.13, 6.4}, ('Boolean', True, False, False, True), {None, 'None'}, {89, (-0-5j)}, [frozenset({'z', 'F', 'r', 'n', 'e', 'o'})], frozenset({'Deep', 'Forest'})])\n",
      "<class 'dict_values'>\n",
      "\n",
      "dict_items([('MixVarList', ['String', ('Tuple1', (77-8j), True), ['List1', None], {88.91, False, 'Set1'}]), ('MixVarTuple', ('Bangalore', False, ['List2', (66-9j)], ('Tuple2', 77), {None, 'Set2'})), ('MixVarSet', {False, frozenset({'Set3', (-0-77j)}), 'Red', ('Tuple3', 67), None}), ('MixList', [45.77, 67, (8-78j), None, False, 'List3']), ('MixTuple', (67.56, True, 'Tuple4', 99, (12+6j), None)), ('MixSet', {True, 66.66, (78-9j), None, 'Set4', 62}), ((88-9j), ('Complex', (77-7j), (56+4j), 493j)), (77, ['Integer', 61, 43, 58, 47]), (77.77, {66.68, 'Float', 4.13, 6.4}), (True, ('Boolean', True, False, False, True)), (None, {None, 'None'}), ('Tuple', {89, (-0-5j)}), (frozenset({'Set'}), [frozenset({'z', 'F', 'r', 'n', 'e', 'o'})]), ('Frozen', frozenset({'Deep', 'Forest'}))])\n",
      "<class 'dict_items'>\n"
     ]
    }
   ],
   "source": [
    "# Create a Dictionary -----> {}  ---- data is represented in the form of Key, Value type\n",
    "# We use Dictionary to customise the indexing\n",
    "# Elements of Dictionary always written inside {}\n",
    "# Here key is the index & value is the element\n",
    "# There could be lots of elements under each key\n",
    "\n",
    "MixVarDict = {'MixVarList': ['String', ('Tuple1', 77-8j, True), ['List1', None], {'Set1', 88.91, False}],\n",
    "        'MixVarTuple': ('Bangalore', False, ['List2', 66-9j], ('Tuple2', 77), {'Set2', None}),\n",
    "        'MixVarSet': {'Red', ('Tuple3', 67), False, None, frozenset({'Set3', -77j})},\n",
    "        'MixList': [45.77, 67, 8-78j, None, False, \"List3\"],\n",
    "        'MixTuple': (67.56, True, \"Tuple4\", 99, 12+6j, None),\n",
    "        'MixSet': {78-9j, \"Set4\", None, 62, True, 66.66},\n",
    "              88-9j: (\"Complex\", 77-7j, 56+4j, 49_3j),\n",
    "             77: [\"Integer\", 61, 43, 58, 47],\n",
    "             77.77: {\"Float\", 66.68, 6.4, 4.13},\n",
    "             True: (\"Boolean\", True, False, False, True),\n",
    "             None: {\"None\", None},\n",
    "             (\"Tuple\"): {89, -5j},\n",
    "             frozenset({\"Set\"}): [frozenset(\"Frozen\")],\n",
    "             \"Frozen\": frozenset({\"Deep\", \"Forest\"})}\n",
    "\n",
    "print(MixVarDict)\n",
    "print()\n",
    "print(type(MixVarDict))\n",
    "print()\n",
    "print(len(MixVarDict))      # Total number of Key:Element Pairs\n",
    "print()\n",
    "print(MixVarDict.keys())     # Show all keys\n",
    "print(type(MixVarDict.keys()))\n",
    "print()\n",
    "print(MixVarDict.values())   # Show all values\n",
    "print(type(MixVarDict.values()))\n",
    "print()\n",
    "print(MixVarDict.items())    # Show all Key:Element Pairs\n",
    "print(type(MixVarDict.items()))\n",
    "# We use dictionary in a situation where we need Lookup tables."
   ]
  },
  {
   "cell_type": "code",
   "execution_count": 125,
   "metadata": {},
   "outputs": [
    {
     "name": "stdout",
     "output_type": "stream",
     "text": [
      "['MixVarList', 'MixVarTuple', 'MixVarSet', 'MixList', 'MixTuple', 'MixSet', (88-9j), 77, 77.77, True, None, 'Tuple', frozenset({'Set'}), 'Frozen']\n"
     ]
    }
   ],
   "source": [
    "MixVarDict_Key_List = list(MixVarDict)          # All Dict Keys has been taken into List[]\n",
    "\n",
    "print(MixVarDict_Key_List)"
   ]
  },
  {
   "cell_type": "code",
   "execution_count": 126,
   "metadata": {},
   "outputs": [
    {
     "name": "stdout",
     "output_type": "stream",
     "text": [
      "('MixVarList', 'MixVarTuple', 'MixVarSet', 'MixList', 'MixTuple', 'MixSet', (88-9j), 77, 77.77, True, None, 'Tuple', frozenset({'Set'}), 'Frozen')\n"
     ]
    }
   ],
   "source": [
    "MixVarDict_Key_Tuple = tuple(MixVarDict)          # All Dict Keys has been taken into Tuple()\n",
    "\n",
    "print(MixVarDict_Key_Tuple)"
   ]
  },
  {
   "cell_type": "code",
   "execution_count": 127,
   "metadata": {},
   "outputs": [
    {
     "name": "stdout",
     "output_type": "stream",
     "text": [
      "{True, 77, 77.77, 'Tuple', frozenset({'Set'}), 'MixList', 'Frozen', 'MixVarSet', None, 'MixTuple', 'MixVarTuple', 'MixVarList', (88-9j), 'MixSet'}\n"
     ]
    }
   ],
   "source": [
    "MixVarDict_Key_Set = set(MixVarDict)          # All Dict Keys has been taken into Set{}\n",
    "\n",
    "print(MixVarDict_Key_Set)"
   ]
  },
  {
   "cell_type": "code",
   "execution_count": 128,
   "metadata": {},
   "outputs": [
    {
     "name": "stdout",
     "output_type": "stream",
     "text": [
      "<class 'list'>\n",
      "<class 'tuple'>\n",
      "<class 'set'>\n",
      "<class 'list'>\n",
      "<class 'tuple'>\n",
      "<class 'set'>\n",
      "<class 'tuple'>\n",
      "<class 'list'>\n",
      "<class 'set'>\n",
      "<class 'tuple'>\n",
      "<class 'set'>\n",
      "<class 'set'>\n",
      "<class 'list'>\n",
      "<class 'frozenset'>\n"
     ]
    }
   ],
   "source": [
    "print(type(MixVarDict['MixVarList']))   # Dict Key List[] type\n",
    "print(type(MixVarDict['MixVarTuple']))    # Dict Key Tuple() type\n",
    "print(type(MixVarDict['MixVarSet']))      # Dict Key Set{} type\n",
    "print(type(MixVarDict['MixList']))        # Dict Key List[] type\n",
    "print(type(MixVarDict['MixTuple']))      # Dict Key Tuple() type\n",
    "print(type(MixVarDict['MixSet']))        # Dict Key Set{} type\n",
    "print(type(MixVarDict[88-9j]))           # Dict Key Tuple() type\n",
    "print(type(MixVarDict[77]))               # Dict Key List[] type\n",
    "print(type(MixVarDict[77.77]))            # Dict Key Set{} type\n",
    "print(type(MixVarDict[True]))             # Dict Key Tuple() type\n",
    "print(type(MixVarDict[None]))             # Dict Key Set{} type\n",
    "print(type(MixVarDict[(\"Tuple\")]))           # Dict Key Set{} type\n",
    "print(type(MixVarDict[frozenset({\"Set\"})]))   # Dict Key List[] type\n",
    "print(type(MixVarDict[\"Frozen\"]))              # Dict Key frozenset({}) type"
   ]
  },
  {
   "cell_type": "code",
   "execution_count": 129,
   "metadata": {},
   "outputs": [
    {
     "name": "stdout",
     "output_type": "stream",
     "text": [
      "['String', ('Tuple1', (77-8j), True), ['List1', None], {88.91, False, 'Set1'}]\n",
      "\n",
      "[{88.91, False, 'Set1'}, ['List1', None], ('Tuple1', (77-8j), True), 'String']\n",
      "<class 'list'>\n"
     ]
    }
   ],
   "source": [
    "print(MixVarDict['MixVarList'])\n",
    "print()\n",
    "\n",
    "MixVarDict_MixVarList_list_reverseiterator = reversed(MixVarDict['MixVarList'])  # Dict Key List[] got converted into list_reverseiterator\n",
    "MixVarDict['MixVarList'] = list(MixVarDict_MixVarList_list_reverseiterator)     # list_reverseiterator got converted back into Dict key List[]\n",
    "\n",
    "print(MixVarDict['MixVarList'])\n",
    "print(type(MixVarDict['MixVarList']))"
   ]
  },
  {
   "cell_type": "code",
   "execution_count": 130,
   "metadata": {},
   "outputs": [
    {
     "name": "stdout",
     "output_type": "stream",
     "text": [
      "[{88.91, False, 'Set1'}, ['List1', None], ('Tuple1', (77-8j), True)]\n",
      "2\n"
     ]
    }
   ],
   "source": [
    "print(MixVarDict['MixVarList'][:3])\n",
    "print(MixVarDict['MixVarList'].index(('Tuple1', 77-8j, True)))"
   ]
  },
  {
   "cell_type": "code",
   "execution_count": 131,
   "metadata": {},
   "outputs": [
    {
     "name": "stdout",
     "output_type": "stream",
     "text": [
      "[{88.91, False, 'Set1'}, ['List1', None], ('Tuple1', (77-8j), True), 'String']\n",
      "('Bangalore', False, ['List2', (66-9j)], ('Tuple2', 77), {None, 'Set2'})\n",
      "{False, frozenset({'Set3', (-0-77j)}), 'Red', ('Tuple3', 67), None}\n",
      "[45.77, 67, (8-78j), None, False, 'List3']\n",
      "(67.56, True, 'Tuple4', 99, (12+6j), None)\n",
      "{True, 66.66, (78-9j), None, 'Set4', 62}\n",
      "('Complex', (77-7j), (56+4j), 493j)\n",
      "['Integer', 61, 43, 58, 47]\n",
      "{66.68, 'Float', 4.13, 6.4}\n",
      "('Boolean', True, False, False, True)\n",
      "{None, 'None'}\n",
      "{89, (-0-5j)}\n",
      "[frozenset({'z', 'F', 'r', 'n', 'e', 'o'})]\n",
      "frozenset({'Deep', 'Forest'})\n"
     ]
    }
   ],
   "source": [
    "print(MixVarDict['MixVarList'])    # Show the Elements of mentioned Key as List[]\n",
    "print(MixVarDict['MixVarTuple'])   # Show the Elements of mentioned Key as Tuple()\n",
    "print(MixVarDict['MixVarSet'])     # Show the Elements of mentioned Key as Set{}\n",
    "print(MixVarDict['MixList'])       # Show the Elements of mentioned Key as List[]\n",
    "print(MixVarDict['MixTuple'])      # Show the Elements of mentioned Key as Tuple()\n",
    "print(MixVarDict['MixSet'])        # Show the Elements of mentioned Key as Set{}\n",
    "print(MixVarDict[88-9j])           # Show the Elements of mentioned Key as Tuple()\n",
    "print(MixVarDict[77])              # Show the Elements of mentioned Key as List[]\n",
    "print(MixVarDict[77.77])           # Show the Elements of mentioned Key as Set{}\n",
    "print(MixVarDict[True])            # Show the Elements of mentioned Key as Tuple()\n",
    "print(MixVarDict[None])            # Show the Elements of mentioned Key as Set{}\n",
    "print(MixVarDict[(\"Tuple\")])\n",
    "print(MixVarDict[frozenset({\"Set\"})])\n",
    "print(MixVarDict[\"Frozen\"])"
   ]
  },
  {
   "cell_type": "code",
   "execution_count": 132,
   "metadata": {},
   "outputs": [
    {
     "name": "stdout",
     "output_type": "stream",
     "text": [
      "[{88.91, False, 'Set1'}, ['List1', None], ('Tuple1', (77-8j), True), 'String']\n",
      "('Bangalore', False, ['List2', (66-9j)], ('Tuple2', 77), {None, 'Set2'})\n",
      "{False, frozenset({'Set3', (-0-77j)}), 'Red', ('Tuple3', 67), None}\n",
      "[45.77, 67, (8-78j), None, False, 'List3']\n",
      "(67.56, True, 'Tuple4', 99, (12+6j), None)\n",
      "{True, 66.66, (78-9j), None, 'Set4', 62}\n",
      "('Complex', (77-7j), (56+4j), 493j)\n",
      "['Integer', 61, 43, 58, 47]\n",
      "{66.68, 'Float', 4.13, 6.4}\n",
      "('Boolean', True, False, False, True)\n",
      "{None, 'None'}\n",
      "{89, (-0-5j)}\n",
      "[frozenset({'z', 'F', 'r', 'n', 'e', 'o'})]\n",
      "frozenset({'Deep', 'Forest'})\n"
     ]
    }
   ],
   "source": [
    "print(MixVarDict.get('MixVarList'))    # Show the Elements of mentioned Key as List[]\n",
    "print(MixVarDict.get('MixVarTuple'))   # Show the Elements of mentioned Key as Tuple()\n",
    "print(MixVarDict.get('MixVarSet'))     # Show the Elements of mentioned Key as Set{}\n",
    "print(MixVarDict.get('MixList'))       # Show the Elements of mentioned Key as List[]\n",
    "print(MixVarDict.get('MixTuple'))      # Show the Elements of mentioned Key as Tuple()\n",
    "print(MixVarDict.get('MixSet'))        # Show the Elements of mentioned Key as Set{}\n",
    "print(MixVarDict.get(88-9j))           # Show the Elements of mentioned Key as Tuple()\n",
    "print(MixVarDict.get(77))              # Show the Elements of mentioned Key as List[]\n",
    "print(MixVarDict.get(77.77))           # Show the Elements of mentioned Key as Set{}\n",
    "print(MixVarDict.get(True))            # Show the Elements of mentioned Key as Tuple()\n",
    "print(MixVarDict.get(None))            # Show the Elements of mentioned Key as Set{}\n",
    "print(MixVarDict.get((\"Tuple\")))\n",
    "print(MixVarDict.get(frozenset({\"Set\"})))\n",
    "print(MixVarDict.get(\"Frozen\"))"
   ]
  },
  {
   "cell_type": "code",
   "execution_count": 133,
   "metadata": {},
   "outputs": [
    {
     "name": "stdout",
     "output_type": "stream",
     "text": [
      "{'Date': [0.05, 0.025, 0.016666666666666666, 0.0125, 0.01, 0.008333333333333333], 'Temperature': [32, 35, 28, 24, 32, 31], 'WindSpeed': [6, 7, 2, 7, 4, 2], 'Event': ['Rain', 'Sunny', 'Snow', 'Snow', 'Rain', 'Sunny']}\n",
      "\n",
      "<class 'dict'>\n",
      "\n",
      "4\n",
      "\n",
      "dict_keys(['Date', 'Temperature', 'WindSpeed', 'Event'])\n",
      "\n",
      "dict_values([[0.05, 0.025, 0.016666666666666666, 0.0125, 0.01, 0.008333333333333333], [32, 35, 28, 24, 32, 31], [6, 7, 2, 7, 4, 2], ['Rain', 'Sunny', 'Snow', 'Snow', 'Rain', 'Sunny']])\n",
      "\n",
      "[('Date', [0.05, 0.025, 0.016666666666666666, 0.0125, 0.01, 0.008333333333333333]), ('Temperature', [32, 35, 28, 24, 32, 31]), ('WindSpeed', [6, 7, 2, 7, 4, 2]), ('Event', ['Rain', 'Sunny', 'Snow', 'Snow', 'Rain', 'Sunny'])]\n"
     ]
    }
   ],
   "source": [
    "# Creating data frame by using Dictionary\n",
    "WeatherData = {\"Date\": [1/1/20,1/2/20,1/3/20,1/4/20,1/5/20,1/6/20],\n",
    "             \"Temperature\": [32,35,28,24,32,31],\n",
    "             \"WindSpeed\": [6,7,2,7,4,2],\n",
    "             \"Event\": [\"Rain\",\"Sunny\",\"Snow\",\"Snow\",\"Rain\",\"Sunny\"]}\n",
    "\n",
    "print(WeatherData)\n",
    "print()\n",
    "print(type(WeatherData))\n",
    "print()\n",
    "print(len(WeatherData))   # Total number of Key:Element Pairs\n",
    "print()\n",
    "print(WeatherData.keys())   # Show all keys\n",
    "print()\n",
    "print(WeatherData.values())   # Show all values\n",
    "print()\n",
    "print(list(WeatherData.items()))    # Show all Key:Element Pairs as Tuple()"
   ]
  },
  {
   "cell_type": "code",
   "execution_count": 134,
   "metadata": {},
   "outputs": [
    {
     "name": "stdout",
     "output_type": "stream",
     "text": [
      "{'List': [89, 67.99, (56-4j), True, 'String'], 'Tuple': ('String', (78+9j), 78.99, False, 56), 'Set': {(76-4j), True, 45.45, 'Set', 89}}\n",
      "\n",
      "<class 'dict'>\n",
      "\n",
      "3\n",
      "\n",
      "dict_keys(['List', 'Tuple', 'Set'])\n",
      "\n",
      "dict_values([[89, 67.99, (56-4j), True, 'String'], ('String', (78+9j), 78.99, False, 56), {(76-4j), True, 45.45, 'Set', 89}])\n",
      "\n",
      "[('List', [89, 67.99, (56-4j), True, 'String']), ('Tuple', ('String', (78+9j), 78.99, False, 56)), ('Set', {(76-4j), True, 45.45, 'Set', 89})]\n"
     ]
    }
   ],
   "source": [
    "Multi = {\"List\": [89, 67.99, 56-4j, True, 'String'],\n",
    "         \"Tuple\": (\"String\", 78+9j, 78.99, False, 56),\n",
    "         \"Set\": {True, \"Set\", 76-4j, 45.45, 89}}\n",
    "\n",
    "print(Multi)\n",
    "print()\n",
    "print(type(Multi))\n",
    "print()\n",
    "print(len(Multi))     # Total number of Key:Value Pairs\n",
    "print()\n",
    "print(Multi.keys())   # Show all keys\n",
    "print()\n",
    "print(Multi.values())  # Show all values\n",
    "print()\n",
    "print(list(Multi.items()))    # Show all Key:Value Pairs as Tuple()"
   ]
  },
  {
   "cell_type": "markdown",
   "metadata": {},
   "source": [
    "### Creating Nested Dictionary"
   ]
  },
  {
   "cell_type": "code",
   "execution_count": 135,
   "metadata": {},
   "outputs": [
    {
     "name": "stdout",
     "output_type": "stream",
     "text": [
      "{'Student': {'Name': {'Kunaal': {'Marks': {'Physics': 0.89, 'Chem': 0.67, 'Math': 0.87, 'Bio': 0.99}}, 'Anwesh': {'Marks': {'Physics': 0.66, 'Chem': 0.88, 'Math': 0.72, 'Bio': 0.57}}, 'Shibu': {'Marks': {'Physics': 0.69, 'Chem': 0.81, 'Math': 0.7, 'Bio': 0.5}}}}}\n",
      "\n",
      "<class 'dict'>\n",
      "\n",
      "dict_keys(['Student'])\n",
      "\n",
      "dict_values([{'Name': {'Kunaal': {'Marks': {'Physics': 0.89, 'Chem': 0.67, 'Math': 0.87, 'Bio': 0.99}}, 'Anwesh': {'Marks': {'Physics': 0.66, 'Chem': 0.88, 'Math': 0.72, 'Bio': 0.57}}, 'Shibu': {'Marks': {'Physics': 0.69, 'Chem': 0.81, 'Math': 0.7, 'Bio': 0.5}}}}])\n",
      "\n",
      "[('Student', {'Name': {'Kunaal': {'Marks': {'Physics': 0.89, 'Chem': 0.67, 'Math': 0.87, 'Bio': 0.99}}, 'Anwesh': {'Marks': {'Physics': 0.66, 'Chem': 0.88, 'Math': 0.72, 'Bio': 0.57}}, 'Shibu': {'Marks': {'Physics': 0.69, 'Chem': 0.81, 'Math': 0.7, 'Bio': 0.5}}}})]\n"
     ]
    }
   ],
   "source": [
    "Nested_Dict6 = {\"Student\": {\"Name\": {\"Kunaal\": {\"Marks\": {\"Physics\": 89/100,\n",
    "                                                              \"Chem\": 67/100,\n",
    "                                                              \"Math\": 87/100,\n",
    "                                                              \"Bio\": 99/100}},\n",
    "                                       \"Anwesh\": {\"Marks\": {\"Physics\": 66/100,\n",
    "                                                              \"Chem\": 88/100,\n",
    "                                                              \"Math\": 72/100,\n",
    "                                                              \"Bio\": 57/100}},\n",
    "                                       \"Shibu\": {\"Marks\": {\"Physics\": 69/100,\n",
    "                                                             \"Chem\": 81/100,\n",
    "                                                             \"Math\": 70/100,\n",
    "                                                             \"Bio\": 50/100}}}}}\n",
    "\n",
    "print(Nested_Dict6)\n",
    "print()\n",
    "print(type(Nested_Dict6))\n",
    "print()\n",
    "print(Nested_Dict6.keys())  # # Shows root key of the Nested Dictionary\n",
    "print()\n",
    "print(Nested_Dict6.values())  # Show all values\n",
    "print()\n",
    "print(list(Nested_Dict6.items()))    # Show all Key:Value Pairs as Tuple()"
   ]
  },
  {
   "cell_type": "code",
   "execution_count": 136,
   "metadata": {},
   "outputs": [
    {
     "name": "stdout",
     "output_type": "stream",
     "text": [
      "{'Name': {'Kunaal': {'Marks': {'Physics': 0.89, 'Chem': 0.67, 'Math': 0.87, 'Bio': 0.99}}, 'Anwesh': {'Marks': {'Physics': 0.66, 'Chem': 0.88, 'Math': 0.72, 'Bio': 0.57}}, 'Shibu': {'Marks': {'Physics': 0.69, 'Chem': 0.81, 'Math': 0.7, 'Bio': 0.5}}}}\n",
      "\n",
      "{'Kunaal': {'Marks': {'Physics': 0.89, 'Chem': 0.67, 'Math': 0.87, 'Bio': 0.99}}, 'Anwesh': {'Marks': {'Physics': 0.66, 'Chem': 0.88, 'Math': 0.72, 'Bio': 0.57}}, 'Shibu': {'Marks': {'Physics': 0.69, 'Chem': 0.81, 'Math': 0.7, 'Bio': 0.5}}}\n",
      "\n",
      "{'Physics': 0.89, 'Chem': 0.67, 'Math': 0.87, 'Bio': 0.99}\n",
      "\n",
      "{'Physics': 0.66, 'Chem': 0.88, 'Math': 0.72, 'Bio': 0.57}\n",
      "\n",
      "{'Physics': 0.69, 'Chem': 0.81, 'Math': 0.7, 'Bio': 0.5}\n"
     ]
    }
   ],
   "source": [
    "print(Nested_Dict6[\"Student\"])\n",
    "print()\n",
    "print(Nested_Dict6[\"Student\"][\"Name\"])\n",
    "print()\n",
    "print(Nested_Dict6[\"Student\"][\"Name\"][\"Kunaal\"][\"Marks\"])\n",
    "print()\n",
    "print(Nested_Dict6[\"Student\"][\"Name\"][\"Anwesh\"][\"Marks\"])\n",
    "print()\n",
    "print(Nested_Dict6[\"Student\"][\"Name\"][\"Shibu\"][\"Marks\"])"
   ]
  },
  {
   "cell_type": "code",
   "execution_count": 137,
   "metadata": {},
   "outputs": [
    {
     "name": "stdout",
     "output_type": "stream",
     "text": [
      "{'Name': {'Kunaal': {'Marks': {'Physics': 0.89, 'Chem': 0.67, 'Math': 0.87, 'Bio': 0.99}}, 'Anwesh': {'Marks': {'Physics': 0.66, 'Chem': 0.88, 'Math': 0.72, 'Bio': 0.57}}, 'Shibu': {'Marks': {'Physics': 0.69, 'Chem': 0.81, 'Math': 0.7, 'Bio': 0.5}}}}\n",
      "\n",
      "{'Kunaal': {'Marks': {'Physics': 0.89, 'Chem': 0.67, 'Math': 0.87, 'Bio': 0.99}}, 'Anwesh': {'Marks': {'Physics': 0.66, 'Chem': 0.88, 'Math': 0.72, 'Bio': 0.57}}, 'Shibu': {'Marks': {'Physics': 0.69, 'Chem': 0.81, 'Math': 0.7, 'Bio': 0.5}}}\n",
      "\n",
      "{'Physics': 0.89, 'Chem': 0.67, 'Math': 0.87, 'Bio': 0.99}\n",
      "\n",
      "{'Physics': 0.66, 'Chem': 0.88, 'Math': 0.72, 'Bio': 0.57}\n",
      "\n",
      "{'Physics': 0.69, 'Chem': 0.81, 'Math': 0.7, 'Bio': 0.5}\n"
     ]
    }
   ],
   "source": [
    "print(Nested_Dict6.get(\"Student\"))\n",
    "print()\n",
    "print(Nested_Dict6.get(\"Student\").get(\"Name\"))\n",
    "print()\n",
    "print(Nested_Dict6.get(\"Student\").get(\"Name\").get(\"Kunaal\").get(\"Marks\"))\n",
    "print()\n",
    "print(Nested_Dict6.get(\"Student\").get(\"Name\").get(\"Anwesh\").get(\"Marks\"))\n",
    "print()\n",
    "print(Nested_Dict6.get(\"Student\").get(\"Name\").get(\"Shibu\").get(\"Marks\"))    #Show Values of Nested Keys"
   ]
  },
  {
   "cell_type": "code",
   "execution_count": 138,
   "metadata": {},
   "outputs": [
    {
     "name": "stdout",
     "output_type": "stream",
     "text": [
      "{'Student': {'Name': ['Kunaal', 'Anwesh', 'Rohit'], 'Kunaal': {'Marks': {'Physics': 0.89, 'Chemistry': 0.67, 'Math': 0.87, 'Biology': 0.99}}, 'Anwesh': {'Marks': {'Physics': 0.84, 'Chemistry': 0.65, 'Math': 0.77, 'Biology': 0.55}}, 'Rohit': {'Marks': {'Physics': 0.72, 'Chemistry': 0.68, 'Math': 0.83, 'Biology': 0.74}}}}\n",
      "\n",
      "<class 'dict'>\n",
      "\n",
      "dict_keys(['Student'])\n",
      "\n",
      "dict_values([{'Name': ['Kunaal', 'Anwesh', 'Rohit'], 'Kunaal': {'Marks': {'Physics': 0.89, 'Chemistry': 0.67, 'Math': 0.87, 'Biology': 0.99}}, 'Anwesh': {'Marks': {'Physics': 0.84, 'Chemistry': 0.65, 'Math': 0.77, 'Biology': 0.55}}, 'Rohit': {'Marks': {'Physics': 0.72, 'Chemistry': 0.68, 'Math': 0.83, 'Biology': 0.74}}}])\n",
      "\n",
      "[('Student', {'Name': ['Kunaal', 'Anwesh', 'Rohit'], 'Kunaal': {'Marks': {'Physics': 0.89, 'Chemistry': 0.67, 'Math': 0.87, 'Biology': 0.99}}, 'Anwesh': {'Marks': {'Physics': 0.84, 'Chemistry': 0.65, 'Math': 0.77, 'Biology': 0.55}}, 'Rohit': {'Marks': {'Physics': 0.72, 'Chemistry': 0.68, 'Math': 0.83, 'Biology': 0.74}}})]\n"
     ]
    }
   ],
   "source": [
    "Nested_Dict5 = {\"Student\": {\"Name\": [\"Kunaal\", \"Anwesh\", \"Rohit\"],\n",
    "                             \"Kunaal\": {\"Marks\": {\"Physics\": 89/100,\n",
    "                                                    \"Chemistry\": 67/100,\n",
    "                                                    \"Math\": 87/100,\n",
    "                                                    \"Biology\": 99/100}},\n",
    "                             \"Anwesh\": {\"Marks\": {\"Physics\": 84/100,\n",
    "                                                    \"Chemistry\": 65/100,\n",
    "                                                    \"Math\": 77/100,\n",
    "                                                    \"Biology\": 55/100}},\n",
    "                              \"Rohit\": {\"Marks\": {\"Physics\": 72/100,\n",
    "                                                    \"Chemistry\": 68/100,\n",
    "                                                    \"Math\": 83/100,\n",
    "                                                    \"Biology\": 74/100}}}}\n",
    "\n",
    "print(Nested_Dict5)\n",
    "print()\n",
    "print(type(Nested_Dict5))\n",
    "print()\n",
    "print(Nested_Dict5.keys())  # # Shows root key of the Nested Dictionary\n",
    "print()\n",
    "print(Nested_Dict5.values())  # Show all values\n",
    "print()\n",
    "print(list(Nested_Dict5.items()))    # Show all Key:Value Pairs as Tuples & got converted into list()"
   ]
  },
  {
   "cell_type": "code",
   "execution_count": 139,
   "metadata": {},
   "outputs": [
    {
     "name": "stdout",
     "output_type": "stream",
     "text": [
      "['Student']\n",
      "\n",
      "('Student',)\n",
      "\n",
      "{'Student'}\n"
     ]
    }
   ],
   "source": [
    "Nested_Dict5_Key_List = list(Nested_Dict5)   # Only the Nested Dict Root Key has been taken into List[]\n",
    "print(Nested_Dict5_Key_List)\n",
    "print()\n",
    "\n",
    "Nested_Dict5_Key_Tuple = tuple(Nested_Dict5)     # Only the Nested Dict Root Key has been taken into Tuple()\n",
    "print(Nested_Dict5_Key_Tuple)\n",
    "print()\n",
    "\n",
    "Nested_Dict5_Key_Set = set(Nested_Dict5)     # Only the Nested Dict Root Key has been taken into Set{}\n",
    "print(Nested_Dict5_Key_Set)"
   ]
  },
  {
   "cell_type": "code",
   "execution_count": 140,
   "metadata": {},
   "outputs": [
    {
     "name": "stdout",
     "output_type": "stream",
     "text": [
      "{'Name': ['Kunaal', 'Anwesh', 'Rohit'], 'Kunaal': {'Marks': {'Physics': 0.89, 'Chemistry': 0.67, 'Math': 0.87, 'Biology': 0.99}}, 'Anwesh': {'Marks': {'Physics': 0.84, 'Chemistry': 0.65, 'Math': 0.77, 'Biology': 0.55}}, 'Rohit': {'Marks': {'Physics': 0.72, 'Chemistry': 0.68, 'Math': 0.83, 'Biology': 0.74}}}\n",
      "\n",
      "['Kunaal', 'Anwesh', 'Rohit']\n",
      "\n",
      "{'Physics': 0.89, 'Chemistry': 0.67, 'Math': 0.87, 'Biology': 0.99}\n",
      "\n",
      "{'Physics': 0.84, 'Chemistry': 0.65, 'Math': 0.77, 'Biology': 0.55}\n",
      "\n",
      "{'Physics': 0.72, 'Chemistry': 0.68, 'Math': 0.83, 'Biology': 0.74}\n"
     ]
    }
   ],
   "source": [
    "print(Nested_Dict5[\"Student\"])\n",
    "print()\n",
    "print(Nested_Dict5[\"Student\"][\"Name\"])\n",
    "print()\n",
    "print(Nested_Dict5[\"Student\"][\"Kunaal\"][\"Marks\"])\n",
    "print()\n",
    "print(Nested_Dict5[\"Student\"][\"Anwesh\"][\"Marks\"])\n",
    "print()\n",
    "print(Nested_Dict5[\"Student\"][\"Rohit\"][\"Marks\"])"
   ]
  },
  {
   "cell_type": "code",
   "execution_count": 141,
   "metadata": {},
   "outputs": [
    {
     "name": "stdout",
     "output_type": "stream",
     "text": [
      "{'Name': ['Kunaal', 'Anwesh', 'Rohit'], 'Kunaal': {'Marks': {'Physics': 0.89, 'Chemistry': 0.67, 'Math': 0.87, 'Biology': 0.99}}, 'Anwesh': {'Marks': {'Physics': 0.84, 'Chemistry': 0.65, 'Math': 0.77, 'Biology': 0.55}}, 'Rohit': {'Marks': {'Physics': 0.72, 'Chemistry': 0.68, 'Math': 0.83, 'Biology': 0.74}}}\n",
      "\n",
      "['Kunaal', 'Anwesh', 'Rohit']\n",
      "\n",
      "{'Physics': 0.89, 'Chemistry': 0.67, 'Math': 0.87, 'Biology': 0.99}\n",
      "\n",
      "{'Physics': 0.84, 'Chemistry': 0.65, 'Math': 0.77, 'Biology': 0.55}\n",
      "\n",
      "{'Physics': 0.72, 'Chemistry': 0.68, 'Math': 0.83, 'Biology': 0.74}\n"
     ]
    }
   ],
   "source": [
    "print(Nested_Dict5.get(\"Student\"))\n",
    "print()\n",
    "print(Nested_Dict5.get(\"Student\").get(\"Name\"))\n",
    "print()\n",
    "print(Nested_Dict5.get(\"Student\").get(\"Kunaal\").get(\"Marks\"))\n",
    "print()\n",
    "print(Nested_Dict5.get(\"Student\").get(\"Anwesh\").get(\"Marks\"))\n",
    "print()\n",
    "print(Nested_Dict5.get(\"Student\").get(\"Rohit\").get(\"Marks\"))    #Show Values of Nested Keys"
   ]
  },
  {
   "cell_type": "code",
   "execution_count": 142,
   "metadata": {},
   "outputs": [
    {
     "name": "stdout",
     "output_type": "stream",
     "text": [
      "<class 'list'> <class 'tuple'> <class 'set'>\n",
      "\n",
      "{'List1': [22, (56+6j), 73.56, True, 'List'], 'Tuple2': (89, (67-4j), False, 'Tuple', 55.96), frozenset({'Set3'}): {True, 39.56, 'Set', 55, (66-2j)}}\n",
      "\n",
      "dict_keys(['List1', 'Tuple2', frozenset({'Set3'})])\n",
      "\n",
      "dict_values([[22, (56+6j), 73.56, True, 'List'], (89, (67-4j), False, 'Tuple', 55.96), {True, 39.56, 'Set', 55, (66-2j)}])\n",
      "\n",
      "[('List1', [22, (56+6j), 73.56, True, 'List']), ('Tuple2', (89, (67-4j), False, 'Tuple', 55.96)), (frozenset({'Set3'}), {True, 39.56, 'Set', 55, (66-2j)})]\n"
     ]
    }
   ],
   "source": [
    "Null_Dict = {}\n",
    "Null_Dict[\"List1\"] = [22, 56+6j, 73.56, True, \"List\"]\n",
    "Null_Dict[(\"Tuple2\")] = (89, 67-4j, False, \"Tuple\", 55.96)\n",
    "Null_Dict[frozenset({\"Set3\"})] = {\"Set\", 66-2j, 39.56, 55, True}\n",
    "\n",
    "\n",
    "print(type(Null_Dict[\"List1\"]), type(Null_Dict[(\"Tuple2\")]), type(Null_Dict[frozenset({\"Set3\"})]))\n",
    "print()\n",
    "print(Null_Dict)\n",
    "print()\n",
    "print(Null_Dict.keys())  # # Shows root key of the Nested Dictionary\n",
    "print()\n",
    "print(Null_Dict.values())  # Show all values\n",
    "print()\n",
    "print(list(Null_Dict.items()))    # Show all Key:Value Pairs as Tuples()"
   ]
  },
  {
   "cell_type": "code",
   "execution_count": 143,
   "metadata": {},
   "outputs": [
    {
     "name": "stdout",
     "output_type": "stream",
     "text": [
      "1 0 5\n"
     ]
    }
   ],
   "source": [
    "print(WeatherData[\"Event\"].index(\"Sunny\"), WeatherData[\"Temperature\"].index(32), WeatherData[\"Date\"].index(1/6/20))"
   ]
  },
  {
   "cell_type": "code",
   "execution_count": 144,
   "metadata": {},
   "outputs": [
    {
     "name": "stdout",
     "output_type": "stream",
     "text": [
      "['Rain', 'Sunny', 'Snow', 'Snow', 'Rain', 'Sunny']\n",
      "['Snow', 'Sunny']\n",
      "['Rain', 'Sunny', 'Snow', 'Snow', 'Rain']\n",
      "['Rain', 'Snow']\n",
      "['Rain', 'Sunny', 'Snow', 'Snow', 'Rain', 'Sunny']\n"
     ]
    }
   ],
   "source": [
    "print(WeatherData[\"Event\"][0:6])     # Show 0 to 6 excluding upperbound values\n",
    "print(WeatherData[\"Event\"][3:6:2])   # indexing from index 3 to index 6 upperbound by hopping 2 elements cycle\n",
    "print(WeatherData[\"Event\"][0:5])     # Show 0 to 2 excluding upperbound values\n",
    "print(WeatherData[\"Event\"][::3])     # indexing from start to end by hopping 3 elements cycle\n",
    "print(WeatherData[\"Event\"])"
   ]
  },
  {
   "cell_type": "code",
   "execution_count": 145,
   "metadata": {},
   "outputs": [
    {
     "name": "stdout",
     "output_type": "stream",
     "text": [
      "['Rain', 'Sunny', 'Snow', 'Snow', 'Rain', 'Sunny']\n",
      "['Snow', 'Sunny']\n",
      "['Rain', 'Sunny', 'Snow', 'Snow', 'Rain']\n",
      "['Rain', 'Snow']\n",
      "['Rain', 'Sunny', 'Snow', 'Snow', 'Rain', 'Sunny']\n"
     ]
    }
   ],
   "source": [
    "print(WeatherData.get(\"Event\")[0:6]) # Show 0 to 6 excluding upperbound values\n",
    "print(WeatherData.get(\"Event\")[3:6:2])  # indexing from index 3 to index 6 upperbound by hopping 2 elements cycle\n",
    "print(WeatherData.get(\"Event\")[0:5]) # Show 0 to 2 excluding upperbound values\n",
    "print(WeatherData.get(\"Event\")[::3]) # indexing from start to end by hopping 3 elements cycle\n",
    "print(WeatherData.get(\"Event\"))"
   ]
  },
  {
   "cell_type": "code",
   "execution_count": 146,
   "metadata": {},
   "outputs": [
    {
     "name": "stdout",
     "output_type": "stream",
     "text": [
      "[32, 35, 28, 24, 32, 31]\n",
      "[24, 31]\n",
      "[32, 35, 28, 24, 32]\n",
      "[32, 24]\n",
      "[32, 35, 28, 24, 32, 31]\n"
     ]
    }
   ],
   "source": [
    "print(WeatherData[\"Temperature\"][0:6]) # Show 0 to 6 excluding upperbound values\n",
    "print(WeatherData[\"Temperature\"][3:6:2])   # indexing from index 3 to index 6 upperbound by hopping 2 elements cycle\n",
    "print(WeatherData[\"Temperature\"][0:5]) # Show 0 to 2 excluding upperbound values\n",
    "print(WeatherData[\"Temperature\"][::3]) # indexing from start to end by hopping 3 elements cycle\n",
    "print(WeatherData[\"Temperature\"])"
   ]
  },
  {
   "cell_type": "code",
   "execution_count": 147,
   "metadata": {},
   "outputs": [
    {
     "name": "stdout",
     "output_type": "stream",
     "text": [
      "[0.05, 0.025, 0.016666666666666666, 0.0125, 0.01, 0.008333333333333333]\n",
      "[0.0125, 0.008333333333333333]\n",
      "[0.05, 0.025, 0.016666666666666666, 0.0125, 0.01]\n",
      "[0.05, 0.0125]\n",
      "[0.05, 0.025, 0.016666666666666666, 0.0125, 0.01, 0.008333333333333333]\n"
     ]
    }
   ],
   "source": [
    "print(WeatherData[\"Date\"][0:6]) # Show 0 to 6 excluding upperbound values\n",
    "print(WeatherData[\"Date\"][3:6:2])   # indexing from index 3 to index 6 upperbound by hopping 2 elements cycle\n",
    "print(WeatherData[\"Date\"][0:5]) # Show 0 to 2 excluding upperbound values\n",
    "print(WeatherData[\"Date\"][::3]) # indexing from start to end by hopping 3 elements cycle\n",
    "print(WeatherData[\"Date\"])"
   ]
  },
  {
   "cell_type": "code",
   "execution_count": 148,
   "metadata": {},
   "outputs": [
    {
     "name": "stdout",
     "output_type": "stream",
     "text": [
      "['Rain', 'Snow', 'Rain']\n",
      "Ri\n",
      "['Rain', 'Sunny', 'Snow', 'Snow']\n",
      "['Rain', 'Sunny', 'Snow', 'Snow', 'Rain', 'Sunny']\n"
     ]
    }
   ],
   "source": [
    "print(WeatherData[\"Event\"][0:6:2])\n",
    "print(WeatherData[\"Event\"][4][0:4:2]) # 4th element \"Rain\" of key \"Event\", 0 to 4th upper bound exclusive elements by hopping 2 elements cycle\n",
    "print(WeatherData[\"Event\"][0:4])\n",
    "print(WeatherData[\"Event\"])"
   ]
  },
  {
   "cell_type": "code",
   "execution_count": 149,
   "metadata": {},
   "outputs": [
    {
     "name": "stdout",
     "output_type": "stream",
     "text": [
      "{'Fruits': ['Apple', 'Mango', 'Grapes', 'Pineapple', 'Guava'], 'City': ['Bangalore', 'Mumbai', 'Chennai', 'Kolkata', 'Delhi'], 'Colour': ['Red', 'Green', 'Blue', 'Yellow', 'Purple'], 'Integer': [45, 67, 78, 89, 245], 'Float': [67.56, 78.98, 45.48, 99.99, 56.68], 'Complex': [(78-9j), (45+5j), (89-5j), (56-8j), (38+8j)], 'Boolean': [True, False, True, False, True], 'Mixture': [89, 67.99, (56-4j), True, 'String']}\n"
     ]
    }
   ],
   "source": [
    "# Create a Dictionary -----> {}  ---- data is represented in the form of Key, Value type\n",
    "# We use Dictionary to customise the indexing\n",
    "# Elements of Dictionary always written inside {}\n",
    "# Here key is the index & value is the element\n",
    "# There could be lots of elements under each key\n",
    "\n",
    "Dict = {'Fruits': ['Apple', 'Mango', 'Grapes', 'Pineapple', 'Guava'],\n",
    "        'City': ['Bangalore', 'Mumbai', 'Chennai', 'Kolkata', 'Delhi'],\n",
    "        'Colour': ['Red', 'Green', 'Blue', 'Yellow', 'Purple'],\n",
    "        'Integer': [45, 67, 78, 89, 245],\n",
    "        'Float': [67.56, 78.98, 45.48, 99.99, 56.68],\n",
    "        'Complex': [78-9j, 45+5j, 89-5j, 56-8j, 38+8j],\n",
    "        'Boolean': [True, False, True, False, True],\n",
    "        'Mixture': [89, 67.99, 56-4j, True, 'String']}\n",
    "\n",
    "print(Dict)"
   ]
  },
  {
   "cell_type": "code",
   "execution_count": 150,
   "metadata": {},
   "outputs": [
    {
     "name": "stdout",
     "output_type": "stream",
     "text": [
      "['Red', 'Green', 'Blue', 'Yellow', 'Purple']\n",
      "3 4\n"
     ]
    }
   ],
   "source": [
    "print(Dict[\"Colour\"])\n",
    "print(Dict[\"Colour\"].index(\"Yellow\"), Dict[\"Colour\"].index(\"Purple\"))"
   ]
  },
  {
   "cell_type": "code",
   "execution_count": 151,
   "metadata": {},
   "outputs": [
    {
     "data": {
      "text/plain": [
       "{'Fruits': ['Apple', 'Grapes', 'Guava', 'Mango', 'Pineapple'],\n",
       " 'City': ['Bangalore', 'Chennai', 'Delhi', 'Kolkata', 'Mumbai'],\n",
       " 'Colour': ['Blue', 'Green', 'Purple', 'Red', 'Yellow'],\n",
       " 'Integer': [45, 67, 78, 89, 245],\n",
       " 'Float': [45.48, 56.68, 67.56, 78.98, 99.99],\n",
       " 'Complex': [(78-9j), (45+5j), (89-5j), (56-8j), (38+8j)],\n",
       " 'Boolean': [True, False, True, False, True],\n",
       " 'Mixture': [89, 67.99, (56-4j), True, 'String']}"
      ]
     },
     "execution_count": 151,
     "metadata": {},
     "output_type": "execute_result"
    }
   ],
   "source": [
    "Dict[\"Float\"].sort()\n",
    "Dict[\"Fruits\"].sort()\n",
    "Dict[\"City\"].sort()\n",
    "Dict[\"Colour\"].sort()\n",
    "Dict[\"Integer\"].sort()\n",
    "\n",
    "Dict"
   ]
  },
  {
   "cell_type": "code",
   "execution_count": 152,
   "metadata": {},
   "outputs": [
    {
     "name": "stdout",
     "output_type": "stream",
     "text": [
      "['Rain', 'Snow']\n"
     ]
    }
   ],
   "source": [
    "print(WeatherData[\"Event\"][::3]) # 0 to last index values of \"Event\" key. By hopping 3 elements cycle"
   ]
  },
  {
   "cell_type": "code",
   "execution_count": 153,
   "metadata": {},
   "outputs": [
    {
     "name": "stdout",
     "output_type": "stream",
     "text": [
      "['Rain', 'Sunny', 'Snow', 'Snow', 'Rain', 'Sunny', ['Local', 'National', 'International']]\n",
      "{'Date': [0.05, 0.025, 0.016666666666666666, 0.0125, 0.01, 0.008333333333333333], 'Temperature': [32, 35, 28, 24, 32, 31], 'WindSpeed': [6, 7, 2, 7, 4, 2], 'Event': ['Rain', 'Sunny', 'Snow', 'Snow', 'Rain', 'Sunny', ['Local', 'National', 'International']]}\n"
     ]
    }
   ],
   "source": [
    "WeatherData[\"Event\"].append([\"Local\", \"National\", \"International\"])    #append in List[] format at the end position\n",
    "print(WeatherData[\"Event\"])\n",
    "print(WeatherData)"
   ]
  },
  {
   "cell_type": "code",
   "execution_count": 154,
   "metadata": {},
   "outputs": [
    {
     "name": "stdout",
     "output_type": "stream",
     "text": [
      "{'Fruits': ['Apple', 'Grapes', 'Guava', 'Mango', 'Pineapple'], 'City': ['Bangalore', 'Chennai', 'Delhi', 'Kolkata', 'Mumbai'], 'Colour': ['Blue', 'Green', ['Magenta', 'White', 'Pink'], 'Purple', 'Red', 'Yellow'], 'Integer': [45, 67, 78, 89, 245], 'Float': [45.48, 56.68, 67.56, 78.98, 99.99], 'Complex': [(78-9j), (45+5j), (89-5j), (56-8j), (38+8j)], 'Boolean': [True, False, True, False, True], 'Mixture': [89, 67.99, (56-4j), True, 'String']}\n"
     ]
    }
   ],
   "source": [
    "Dict[\"Colour\"].insert(2, [\"Magenta\", \"White\", \"Pink\"])   #insert new value elements in List[] format at the place of mentioned index\n",
    "print(Dict)"
   ]
  },
  {
   "cell_type": "code",
   "execution_count": 155,
   "metadata": {},
   "outputs": [
    {
     "name": "stdout",
     "output_type": "stream",
     "text": [
      "{'Fruits': ['Apple', 'Grapes', 'Guava', 'Mango', 'Pineapple'], 'City': ['Bangalore', 'Chennai', 'Delhi', 'Kolkata', 'Mumbai'], 'Colour': ['Blue', 'Green', ['Magenta', 'White', 'Pink'], 'Purple', 'Magenta', 'Brown', 'Red', 'Yellow'], 'Integer': [45, 67, 78, 89, 245], 'Float': [45.48, 56.68, 67.56, 78.98, 99.99], 'Complex': [(78-9j), (45+5j), (89-5j), (56-8j), (38+8j)], 'Boolean': [True, False, True, False, True], 'Mixture': [89, 67.99, (56-4j), True, 'String']}\n"
     ]
    }
   ],
   "source": [
    "Dict[\"Colour\"][4:0] = \"Magenta\", \"Brown\"   #\"Colour\" key, Plugin new elements \"Magenta\", \"Brown\" at the place of 4th value\n",
    "print(Dict)"
   ]
  },
  {
   "cell_type": "code",
   "execution_count": 156,
   "metadata": {},
   "outputs": [
    {
     "name": "stdout",
     "output_type": "stream",
     "text": [
      "{'Fruits': ['Apple', 'Grapes', 'Guava', 'Mango', 'Pineapple'], 'City': ['Bangalore', 'Chennai', 'Delhi', 'Kolkata', 'Hamunaptra', 'Mumbai'], 'Colour': ['Blue', 'Green', ['Magenta', 'White', 'Pink'], 'Purple', 'Magenta', 'Brown', 'Red', 'Yellow'], 'Integer': [45, 67, 78, 89, 245], 'Float': [45.48, 56.68, 67.56, 78.98, 99.99], 'Complex': [(78-9j), (45+5j), (89-5j), (56-8j), (38+8j)], 'Boolean': [True, False, True, False, True], 'Mixture': [89, 67.99, (56-4j), True, 'String']}\n"
     ]
    }
   ],
   "source": [
    "Dict[\"City\"][4:0] = [\"Hamunaptra\"] # \"Hamunaptra\" as array has been plugged in at 4th value place of key \"City\"\n",
    "print(Dict)"
   ]
  },
  {
   "cell_type": "code",
   "execution_count": 157,
   "metadata": {},
   "outputs": [
    {
     "name": "stdout",
     "output_type": "stream",
     "text": [
      "{'Fruits': ['Apple', 'Grapes', 'Guava', ('Banana', 'Potato', 'Chiku'), 'Pineapple'], 'City': ['Bangalore', 'Chennai', 'Delhi', 'Kolkata', 'Hamunaptra', 'Mumbai'], 'Colour': ['Blue', 'Green', ['Magenta', 'White', 'Pink'], 'Purple', 'Magenta', 'Brown', 'Red', 'Yellow'], 'Integer': [45, 67, 78, 89, 245], 'Float': [45.48, 56.68, 67.56, 78.98, 99.99], 'Complex': [(78-9j), (45+5j), (89-5j), (56-8j), (38+8j)], 'Boolean': [True, False, True, False, True], 'Mixture': [89, 67.99, (56-4j), True, 'String']}\n"
     ]
    }
   ],
   "source": [
    "Dict[\"Fruits\"][3] = \"Banana\", \"Potato\", \"Chiku\"   # \"Fruits\" key, 3rd value got replaced by\n",
    "print(Dict)"
   ]
  },
  {
   "cell_type": "code",
   "execution_count": 158,
   "metadata": {},
   "outputs": [
    {
     "name": "stdout",
     "output_type": "stream",
     "text": [
      "{'Fruits': ['Apple', 'Grapes', 'Guava', ('Banana', 'Potato', 'Chiku'), 'Pineapple'], 'City': ['Bangalore', 'Chennai', 'Delhi', 'Kolkata', 'Hamunaptra', 'Mumbai'], 'Colour': ['Blue', 'Green', ['Magenta', 'White', 'Pink'], 'Purple', 'Violet', 'Orange', 'Black', 'Grey'], 'Integer': [45, 67, 78, 89, 245], 'Float': [45.48, 56.68, 67.56, 78.98, 99.99], 'Complex': [(78-9j), (45+5j), (89-5j), (56-8j), (38+8j)], 'Boolean': [True, False, True, False, True], 'Mixture': [89, 67.99, (56-4j), True, 'String']}\n"
     ]
    }
   ],
   "source": [
    "Dict[\"Colour\"][4:8] = \"Violet\", \"Orange\", \"Black\", \"Grey\"  # \"Colour\" key. from 4th to 8th exclusive upperbound value got replaced by\n",
    "                                                           # replaced by \"Violet\", \"Orange\", \"Black\", \"Grey\"\n",
    "print(Dict)"
   ]
  },
  {
   "cell_type": "code",
   "execution_count": 159,
   "metadata": {},
   "outputs": [
    {
     "name": "stdout",
     "output_type": "stream",
     "text": [
      "{'Fruits': ['Apple', 'Grapes', 'Guava', ('Banana', 'Potato', 'Chiku'), 'Pineapple'], 'City': ['Bangalore', 'Chennai', 'Delhi', 'Kolkata', 'Hamunaptra', 'Mumbai'], 'Colour': ['Blue', 'Green', ['Magenta', 'White', 'Pink'], 'Purple', 'Maroon', 'Orange', 'Black', 'Grey'], 'Integer': [45, 67, 78, 89, 245], 'Float': [45.48, 56.68, 67.56, 78.98, 99.99], 'Complex': [(78-9j), (45+5j), (89-5j), (56-8j), (38+8j)], 'Boolean': [True, False, True, False, True], 'Mixture': [89, 67.99, (56-4j), True, 'String']}\n"
     ]
    }
   ],
   "source": [
    "Dict[\"Colour\"][4:5] = [\"Maroon\"]  # \"Colour\" key. from 4th to 5th value upperbound got replaced by [\"Maroon\"] as array\n",
    "print(Dict)"
   ]
  },
  {
   "cell_type": "code",
   "execution_count": 160,
   "metadata": {},
   "outputs": [
    {
     "name": "stdout",
     "output_type": "stream",
     "text": [
      "{'Fruits': ['Apple', 'Grapes', 'Guava', ('Banana', 'Potato', 'Chiku'), 'Pineapple'], 'City': ['Bangalore', 'Chennai', 'Delhi', 'Kolkata', 'Hamunaptra', 'Mumbai'], 'Colour': ['Blue', 'Green', ['Magenta', 'White', 'Pink'], 'Purple', 'Maroon', 'Michiko', 'Black', 'Grey'], 'Integer': [45, 67, 78, 89, 245], 'Float': [45.48, 56.68, 67.56, 78.98, 99.99], 'Complex': [(78-9j), (45+5j), (89-5j), (56-8j), (38+8j)], 'Boolean': [True, False, True, False, True], 'Mixture': [89, 67.99, (56-4j), True, 'String']}\n"
     ]
    }
   ],
   "source": [
    "Dict[\"Colour\"][5] = \"Michiko\" # \"Colour\" key. 5th value got replaced by \"Michiko\" alone\n",
    "print(Dict)"
   ]
  },
  {
   "cell_type": "code",
   "execution_count": 161,
   "metadata": {},
   "outputs": [
    {
     "name": "stdout",
     "output_type": "stream",
     "text": [
      "{'Date': [0.05, 0.025, 0.016666666666666666, 0.0125, 0.01, 0.008333333333333333], 'Temperature': [32, 35, 28, 24, [32, 67, 42, 69], 31], 'WindSpeed': [6, 7, 2, 7, 4, 2], 'Event': ['Rain', 'Sunny', 'Snow', 'Snow', 'Rain', 'Sunny', ['Local', 'National', 'International']]}\n"
     ]
    }
   ],
   "source": [
    "WeatherData[\"Temperature\"][4] = [32, 67, 42, 69]  # \"Temperature\" key, 4th value got replaced by 32, 67, 42, 69 in list[] format\n",
    "print(WeatherData)"
   ]
  },
  {
   "cell_type": "code",
   "execution_count": 162,
   "metadata": {},
   "outputs": [
    {
     "name": "stdout",
     "output_type": "stream",
     "text": [
      "{'Date': [0.05, 0.025, 0.016666666666666666, 0.0125, 0.01, 0.008333333333333333], 'Temperature': [32, 35, 28, 24, [32, 67, 42, 69], 31], 'WindSpeed': [6, 7, 2, 7, 4, 2, 67, 76, 87, 102], 'Event': ['Rain', 'Sunny', 'Snow', 'Snow', 'Rain', 'Sunny', ['Local', 'National', 'International']]}\n"
     ]
    }
   ],
   "source": [
    "WeatherData[\"WindSpeed\"].extend([67, 76, 87, 102])     # #Add multiple indivisual elements to the end position\n",
    "print(WeatherData)"
   ]
  },
  {
   "cell_type": "code",
   "execution_count": 163,
   "metadata": {},
   "outputs": [
    {
     "name": "stdout",
     "output_type": "stream",
     "text": [
      "{'Fruits': ['Apple', 'Grapes', 'Guava', ('Banana', 'Potato', 'Chiku'), 'Pineapple'], 'City': ['Bangalore', 'Chennai', 'Delhi', 'Kolkata', 'Hamunaptra', 'Mumbai', 'Mysore', 'Bihar', 'Malda', 'Kochi'], 'Colour': ['Blue', 'Green', ['Magenta', 'White', 'Pink'], 'Purple', 'Maroon', 'Michiko', 'Black', 'Grey'], 'Integer': [45, 67, 78, 89, 245], 'Float': [45.48, 56.68, 67.56, 78.98, 99.99], 'Complex': [(78-9j), (45+5j), (89-5j), (56-8j), (38+8j)], 'Boolean': [True, False, True, False, True], 'Mixture': [89, 67.99, (56-4j), True, 'String']}\n"
     ]
    }
   ],
   "source": [
    "Dict[\"City\"][len(Dict[\"City\"]):0] = \"Mysore\", \"Bihar\", \"Malda\", \"Kochi\"       #Plugin new elements at the end position\n",
    "print(Dict)"
   ]
  },
  {
   "cell_type": "code",
   "execution_count": 164,
   "metadata": {},
   "outputs": [
    {
     "name": "stdout",
     "output_type": "stream",
     "text": [
      "{'Fruits': ['Apple', 'Grapes', 'Guava', ('Banana', 'Potato', 'Chiku'), 'Pineapple'], 'City': ['Bangalore', 'Chennai', 'Delhi', 'Kolkata', 'Hamunaptra', 'Mumbai', 'Mysore', 'Bihar', 'Malda', 'Kochi'], 'Colour': ['Blue', 'Green', ['Magenta', 'White', 'Pink'], 'Purple', 'Maroon', 'Michiko', 'Black', 'Grey'], 'Integer': [45, 67, 78, 89, 245], 'Float': [45.48, 56.68, 67.56, 78.98, 99.99], 'Complex': [(78-9j), (45+5j), (89-5j), (56-8j), (38+8j)], 'Boolean': [True, False, True, False, True], 'Mixture': [89, 67.99, (56-4j), True, 'String']}\n"
     ]
    }
   ],
   "source": [
    "print(Dict)"
   ]
  },
  {
   "cell_type": "code",
   "execution_count": 165,
   "metadata": {},
   "outputs": [
    {
     "name": "stdout",
     "output_type": "stream",
     "text": [
      "{'Date': [0.05, 0.025, 0.016666666666666666, 0.0125, 0.01, 0.008333333333333333], 'Temperature': [32, 35, 28, 24, [32, 67, 42, 69], 31], 'WindSpeed': [6, 7, 2, 7, 4, 2, 67, 76, 87, 102], 'Event': ['Rain', 'Sunny', 'Snow', 'Snow', 'Rain', 'Sunny', ['Local', 'National', 'International']]}\n"
     ]
    }
   ],
   "source": [
    "print(WeatherData)"
   ]
  },
  {
   "cell_type": "code",
   "execution_count": 166,
   "metadata": {},
   "outputs": [
    {
     "name": "stdout",
     "output_type": "stream",
     "text": [
      "{'Fruits': ['Apple', 'Grapes', 'Guava', ('Banana', 'Potato', 'Chiku'), 'Pineapple'], 'City': ['Bangalore', 'Chennai', 'Delhi', 'Kolkata', 'Hamunaptra', 'Mumbai', 'Mysore', 'Bihar', 'Malda', 'Kochi', 'New York'], 'Colour': ['Blue', 'Green', ['Magenta', 'White', 'Pink'], 'Purple', 'Maroon', 'Michiko', 'Black', 'Grey'], 'Integer': [45, 67, 78, 89, 245], 'Float': [45.48, 56.68, 67.56, 78.98, 99.99], 'Complex': [(78-9j), (45+5j), (89-5j), (56-8j), (38+8j)], 'Boolean': [True, False, True, False, True], 'Mixture': [89, 67.99, (56-4j), True, 'String']}\n"
     ]
    }
   ],
   "source": [
    "Dict[\"City\"][len(Dict[\"City\"]):0] = [\"New York\"]       # While plugging in single element \"New York\" at the end\n",
    "print(Dict)"
   ]
  },
  {
   "cell_type": "code",
   "execution_count": 167,
   "metadata": {},
   "outputs": [
    {
     "name": "stdout",
     "output_type": "stream",
     "text": [
      "{'Fruits': ['Apple', 'Grapes', 'Guava', ('Banana', 'Potato', 'Chiku'), 'Pineapple'], 'City': ['Kochi', 'Bihar', 'Chennai', 'Kolkata', 'Malda', 'Hamunaptra', 'New York', 'Delhi', 'Bangalore', 'Mysore', 'Mumbai'], 'Colour': ['Blue', 'Green', ['Magenta', 'White', 'Pink'], 'Purple', 'Maroon', 'Michiko', 'Black', 'Grey'], 'Integer': [45, 67, 78, 89, 245], 'Float': [45.48, 56.68, 67.56, 78.98, 99.99], 'Complex': [(78-9j), (45+5j), (89-5j), (56-8j), (38+8j)], 'Boolean': [True, False, True, False, True], 'Mixture': [89, 67.99, (56-4j), True, 'String']}\n"
     ]
    }
   ],
   "source": [
    "import random\n",
    "random.shuffle(Dict[\"City\"])             #Shuffle the list elements Randomly\n",
    "print(Dict)"
   ]
  },
  {
   "cell_type": "code",
   "execution_count": 168,
   "metadata": {},
   "outputs": [
    {
     "name": "stdout",
     "output_type": "stream",
     "text": [
      "{'Fruits': ['Apple', 'Grapes', 'Guava', ('Banana', 'Potato', 'Chiku'), 'Pineapple'], 'City': ['Kochi', 'Bihar', 'Chennai', 'Kolkata', 'Malda', 'Hamunaptra', 'New York', 'Delhi', 'Bangalore', 'Mysore', 'Mumbai'], 'Colour': ['Purple', 'Blue', 'Maroon', 'Green', 'Grey', ['Magenta', 'White', 'Pink'], 'Black', 'Michiko'], 'Integer': [45, 67, 78, 89, 245], 'Float': [45.48, 56.68, 67.56, 78.98, 99.99], 'Complex': [(78-9j), (45+5j), (89-5j), (56-8j), (38+8j)], 'Boolean': [True, False, True, False, True], 'Mixture': [89, 67.99, (56-4j), True, 'String']}\n"
     ]
    }
   ],
   "source": [
    "Dict[\"Colour\"] = random.sample(Dict[\"Colour\"], k=len(Dict[\"Colour\"])) #Pick randomly 5 sample elements\n",
    "print(Dict)"
   ]
  },
  {
   "cell_type": "code",
   "execution_count": 169,
   "metadata": {},
   "outputs": [
    {
     "name": "stdout",
     "output_type": "stream",
     "text": [
      "{'Fruits': ['Apple', 'Grapes', 'Guava', ('Banana', 'Potato', 'Chiku'), 'Pineapple'], 'City': ['Kochi', 'Bihar', 'Chennai', 'Kolkata', 'Malda', 'Hamunaptra', 'New York', 'Delhi', 'Bangalore', 'Mysore', 'Mumbai'], 'Colour': ['Purple', 'Blue', 'Maroon', 'Green', 'Grey', ['Magenta', 'White', 'Pink'], 'Black'], 'Integer': [45, 67, 78, 89, 245], 'Float': [45.48, 56.68, 67.56, 78.98, 99.99], 'Complex': [(78-9j), (45+5j), (89-5j), (56-8j), (38+8j)], 'Boolean': [True, False, True, False, True], 'Mixture': [89, 67.99, (56-4j), True, 'String']}\n"
     ]
    }
   ],
   "source": [
    "Dict[\"Colour\"].pop() #By default delete the last value element of \"Colour\" key\n",
    "print(Dict)"
   ]
  },
  {
   "cell_type": "code",
   "execution_count": 170,
   "metadata": {},
   "outputs": [
    {
     "name": "stdout",
     "output_type": "stream",
     "text": [
      "{'Fruits': ['Apple', 'Grapes', 'Guava', ('Banana', 'Potato', 'Chiku'), 'Pineapple'], 'City': ['Kochi', 'Bihar', 'Chennai', 'Kolkata', 'Malda', 'New York', 'Delhi', 'Bangalore', 'Mysore', 'Mumbai'], 'Colour': ['Purple', 'Blue', 'Maroon', 'Green', 'Grey', ['Magenta', 'White', 'Pink'], 'Black'], 'Integer': [45, 67, 78, 89, 245], 'Float': [45.48, 56.68, 67.56, 78.98, 99.99], 'Complex': [(78-9j), (45+5j), (89-5j), (56-8j), (38+8j)], 'Boolean': [True, False, True, False, True], 'Mixture': [89, 67.99, (56-4j), True, 'String']}\n"
     ]
    }
   ],
   "source": [
    "Dict[\"City\"].pop(Dict[\"City\"].index(\"Hamunaptra\"))    #Delete the mentioned value index element of \"Colour\" key\n",
    "print(Dict)                                           #Delete the index of \"Hamunaptra\""
   ]
  },
  {
   "cell_type": "code",
   "execution_count": 171,
   "metadata": {},
   "outputs": [
    {
     "data": {
      "text/plain": [
       "1"
      ]
     },
     "execution_count": 171,
     "metadata": {},
     "output_type": "execute_result"
    }
   ],
   "source": [
    "Dict[\"City\"].count(\"Chennai\") #Count the mentioned Element frequency"
   ]
  },
  {
   "cell_type": "code",
   "execution_count": 172,
   "metadata": {},
   "outputs": [
    {
     "name": "stdout",
     "output_type": "stream",
     "text": [
      "{'Fruits': ['Apple', 'Grapes', 'Guava', ('Banana', 'Potato', 'Chiku'), 'Pineapple'], 'City': ['Kochi', 'Bihar', 'Chennai', 'Kolkata', 'Malda', 'Delhi', 'Bangalore', 'Mysore', 'Mumbai'], 'Colour': ['Purple', 'Blue', 'Maroon', 'Green', 'Grey', ['Magenta', 'White', 'Pink'], 'Black'], 'Integer': [45, 67, 78, 89, 245], 'Float': [45.48, 56.68, 67.56, 78.98, 99.99], 'Complex': [(78-9j), (45+5j), (89-5j), (56-8j), (38+8j)], 'Boolean': [True, False, True, False, True], 'Mixture': [89, 67.99, (56-4j), True, 'String']}\n"
     ]
    }
   ],
   "source": [
    "Dict[\"City\"].remove(\"New York\")     #delete the mentioned Element, remove() is applicable for List & Set only\n",
    "print(Dict)"
   ]
  },
  {
   "cell_type": "code",
   "execution_count": 173,
   "metadata": {},
   "outputs": [
    {
     "data": {
      "text/plain": [
       "list"
      ]
     },
     "execution_count": 173,
     "metadata": {},
     "output_type": "execute_result"
    }
   ],
   "source": [
    "type(Dict[\"City\"])"
   ]
  },
  {
   "cell_type": "code",
   "execution_count": 174,
   "metadata": {},
   "outputs": [
    {
     "data": {
      "text/plain": [
       "(dict, dict, 8, 4)"
      ]
     },
     "execution_count": 174,
     "metadata": {},
     "output_type": "execute_result"
    }
   ],
   "source": [
    "type(Dict), type(WeatherData), len(Dict), len(WeatherData)"
   ]
  },
  {
   "cell_type": "code",
   "execution_count": 175,
   "metadata": {},
   "outputs": [
    {
     "name": "stdout",
     "output_type": "stream",
     "text": [
      "232\n",
      "360\n",
      "232\n",
      "232\n",
      "232\n",
      "232\n"
     ]
    }
   ],
   "source": [
    "import sys\n",
    "print(sys.getsizeof(WeatherData))\n",
    "print(sys.getsizeof(Dict))\n",
    "print(sys.getsizeof(Multi))\n",
    "print(sys.getsizeof(Null_Dict))\n",
    "print(sys.getsizeof(Nested_Dict5))\n",
    "print(sys.getsizeof(Nested_Dict6))"
   ]
  },
  {
   "cell_type": "code",
   "execution_count": 176,
   "metadata": {},
   "outputs": [
    {
     "name": "stdout",
     "output_type": "stream",
     "text": [
      "{'Fruits': ['Apple', 'Mango', 'Grapes', 'Pineapple', 'Guava'], 'City': ['Bangalore', 'Mumbai', 'Chennai', 'Kolkata', 'Delhi'], 'Colour': ['Red', 'Green', 'Blue', 'Yellow', 'Purple'], 'Integer': [45, 67, 78, 89, 245], 'Float': [67.56, 78.98, 45.48, 99.99, 56.68], 'Complex': [(78-9j), (45+5j), (89-5j), (56-8j), (38+8j)], 'Boolean': [True, False, True, False, True], 'Mixture': [89, 67.99, (56-4j), True, 'String']}\n"
     ]
    }
   ],
   "source": [
    "# Create a Dictionary -----> {}  ---- data is represented in the form of Key, Value type\n",
    "# We use Dictionary to customise the indexing\n",
    "# Elements of Dictionary always written inside {}\n",
    "# Here key is the index & value is the element\n",
    "# There could be lots of elements under each key\n",
    "\n",
    "Dict = {'Fruits': ['Apple', 'Mango', 'Grapes', 'Pineapple', 'Guava'],\n",
    "        'City': ['Bangalore', 'Mumbai', 'Chennai', 'Kolkata', 'Delhi'],\n",
    "        'Colour': ['Red', 'Green', 'Blue', 'Yellow', 'Purple'],\n",
    "        'Integer': [45, 67, 78, 89, 245],\n",
    "        'Float': [67.56, 78.98, 45.48, 99.99, 56.68],\n",
    "        'Complex': [78-9j, 45+5j, 89-5j, 56-8j, 38+8j],\n",
    "        'Boolean': [True, False, True, False, True],\n",
    "        'Mixture': [89, 67.99, 56-4j, True, 'String']}\n",
    "\n",
    "print(Dict)"
   ]
  },
  {
   "cell_type": "code",
   "execution_count": 177,
   "metadata": {},
   "outputs": [
    {
     "name": "stdout",
     "output_type": "stream",
     "text": [
      "{'Date': [0.05, 0.025, 0.016666666666666666, 0.0125, 0.01, 0.008333333333333333], 'Temperature': [32, 35, 28, 24, 32, 31], 'WindSpeed': [6, 7, 2, 7, 4, 2], 'Event': ['Rain', 'Sunny', 'Snow', 'Snow', 'Rain', 'Sunny']}\n"
     ]
    }
   ],
   "source": [
    "# Creating data frame by using Dictionary\n",
    "WeatherData={\"Date\": [1/1/20,1/2/20,1/3/20,1/4/20,1/5/20,1/6/20],\n",
    "             \"Temperature\": [32,35,28,24,32,31],\n",
    "             \"WindSpeed\": [6,7,2,7,4,2],\n",
    "             \"Event\": [\"Rain\",\"Sunny\",\"Snow\",\"Snow\",\"Rain\",\"Sunny\"]}\n",
    "\n",
    "print(WeatherData)"
   ]
  },
  {
   "cell_type": "code",
   "execution_count": 178,
   "metadata": {},
   "outputs": [
    {
     "name": "stdout",
     "output_type": "stream",
     "text": [
      "{'List': [89, 67.99, (56-4j), True, 'String'], 'Tuple': ('String', (78+9j), 78.99, False, 56), 'Set': {(76-4j), True, 45.45, 'Set', 89}}\n"
     ]
    }
   ],
   "source": [
    "Multi = {\"List\": [89, 67.99, 56-4j, True, 'String'],\n",
    "         \"Tuple\": (\"String\", 78+9j, 78.99, False, 56),\n",
    "         \"Set\": {True, \"Set\", 76-4j, 45.45, 89}}\n",
    "\n",
    "print(Multi)"
   ]
  },
  {
   "cell_type": "code",
   "execution_count": 179,
   "metadata": {},
   "outputs": [
    {
     "name": "stdout",
     "output_type": "stream",
     "text": [
      "{'Student': {'Name': ['Kunaal', 'Anwesh', 'Rohit'], 'Kunaal': {'Marks': {'Physics': 0.89, 'Chemistry': 0.67, 'Math': 0.87, 'Biology': 0.99}}, 'Anwesh': {'Marks': {'Physics': 0.84, 'Chemistry': 0.65, 'Math': 0.77, 'Biology': 0.55}}, 'Rohit': {'Marks': {'Physics': 0.72, 'Chemistry': 0.68, 'Math': 0.83, 'Biology': 0.74}}}}\n"
     ]
    }
   ],
   "source": [
    "Nested_Dict5 = {\"Student\": {\"Name\": [\"Kunaal\", \"Anwesh\", \"Rohit\"],\n",
    "                             \"Kunaal\": {\"Marks\": {\"Physics\": 89/100,\n",
    "                                                    \"Chemistry\": 67/100,\n",
    "                                                    \"Math\": 87/100,\n",
    "                                                    \"Biology\": 99/100}},\n",
    "                             \"Anwesh\": {\"Marks\": {\"Physics\": 84/100,\n",
    "                                                    \"Chemistry\": 65/100,\n",
    "                                                    \"Math\": 77/100,\n",
    "                                                    \"Biology\": 55/100}},\n",
    "                              \"Rohit\": {\"Marks\": {\"Physics\": 72/100,\n",
    "                                                    \"Chemistry\": 68/100,\n",
    "                                                    \"Math\": 83/100,\n",
    "                                                    \"Biology\": 74/100}}}}\n",
    "\n",
    "print(Nested_Dict5)"
   ]
  },
  {
   "cell_type": "code",
   "execution_count": 180,
   "metadata": {},
   "outputs": [
    {
     "name": "stdout",
     "output_type": "stream",
     "text": [
      "{'Student': {'Name': {'Kunaal': {'Marks': {'Physics': 0.89, 'Chem': 0.67, 'Math': 0.87, 'Bio': 0.99}}, 'Anwesh': {'Marks': {'Physics': 0.66, 'Chem': 0.88, 'Math': 0.72, 'Bio': 0.57}}, 'Shibu': {'Marks': {'Physics': 0.69, 'Chem': 0.81, 'Math': 0.7, 'Bio': 0.5}}}}}\n"
     ]
    }
   ],
   "source": [
    "Nested_Dict6 = {\"Student\": {\"Name\": {\"Kunaal\": {\"Marks\": {\"Physics\": 89/100,\n",
    "                                                              \"Chem\": 67/100,\n",
    "                                                              \"Math\": 87/100,\n",
    "                                                              \"Bio\": 99/100}},\n",
    "                                       \"Anwesh\": {\"Marks\": {\"Physics\": 66/100,\n",
    "                                                              \"Chem\": 88/100,\n",
    "                                                              \"Math\": 72/100,\n",
    "                                                              \"Bio\": 57/100}},\n",
    "                                       \"Shibu\": {\"Marks\": {\"Physics\": 69/100,\n",
    "                                                             \"Chem\": 81/100,\n",
    "                                                             \"Math\": 70/100,\n",
    "                                                             \"Bio\": 50/100}}}}}\n",
    "\n",
    "print(Nested_Dict6)"
   ]
  },
  {
   "cell_type": "code",
   "execution_count": 181,
   "metadata": {},
   "outputs": [
    {
     "name": "stdout",
     "output_type": "stream",
     "text": [
      "<class 'list'> <class 'tuple'> <class 'set'>\n",
      "\n"
     ]
    }
   ],
   "source": [
    "Null_Dict = {}\n",
    "Null_Dict\n",
    "Null_Dict[\"List1\"] = [22, 56+6j, 73.56, True, \"List\"]\n",
    "Null_Dict[\"Tuple2\"] = (89, 67-4j, False, \"Tuple\", 55.96)\n",
    "Null_Dict[\"Set3\"] = {\"Set\", 66-2j, 39.56, 55, True}\n",
    "\n",
    "\n",
    "print(type(Null_Dict[\"List1\"]), type(Null_Dict[\"Tuple2\"]), type(Null_Dict[\"Set3\"]))\n",
    "print()"
   ]
  },
  {
   "cell_type": "code",
   "execution_count": 182,
   "metadata": {},
   "outputs": [
    {
     "name": "stdout",
     "output_type": "stream",
     "text": [
      "[('Fruits', ['Apple', 'Mango', 'Grapes', 'Pineapple', 'Guava']), ('City', ['Bangalore', 'Mumbai', 'Chennai', 'Kolkata', 'Delhi']), ('Colour', ['Red', 'Green', 'Blue', 'Yellow', 'Purple']), ('Integer', [45, 67, 78, 89, 245]), ('Float', [67.56, 78.98, 45.48, 99.99, 56.68]), ('Complex', [(78-9j), (45+5j), (89-5j), (56-8j), (38+8j)]), ('Boolean', [True, False, True, False, True]), ('Mixture', [89, 67.99, (56-4j), True, 'String']), ('Date', [0.05, 0.025, 0.016666666666666666, 0.0125, 0.01, 0.008333333333333333]), ('Temperature', [32, 35, 28, 24, 32, 31]), ('WindSpeed', [6, 7, 2, 7, 4, 2]), ('Event', ['Rain', 'Sunny', 'Snow', 'Snow', 'Rain', 'Sunny']), ('List', [89, 67.99, (56-4j), True, 'String']), ('Tuple', ('String', (78+9j), 78.99, False, 56)), ('Set', {(76-4j), True, 45.45, 'Set', 89}), ('Student', {'Name': {'Kunaal': {'Marks': {'Physics': 0.89, 'Chem': 0.67, 'Math': 0.87, 'Bio': 0.99}}, 'Anwesh': {'Marks': {'Physics': 0.66, 'Chem': 0.88, 'Math': 0.72, 'Bio': 0.57}}, 'Shibu': {'Marks': {'Physics': 0.69, 'Chem': 0.81, 'Math': 0.7, 'Bio': 0.5}}}}), ('List1', [22, (56+6j), 73.56, True, 'List']), ('Tuple2', (89, (67-4j), False, 'Tuple', 55.96)), ('Set3', {True, 39.56, 'Set', 55, (66-2j)})]\n"
     ]
    }
   ],
   "source": [
    "Dict.update(WeatherData)    # Update one at a time  # Key:Element pair combinations of WeatherData got merged with Dict\n",
    "Dict.update(Multi)          # Key:Element pair combinations of Multi got merged with Dict\n",
    "Dict.update(Nested_Dict5)   # Key:Element pair combinations of Nested_Dict5 got merged with Dict\n",
    "Dict.update(Nested_Dict6)    # Key:Element pair combinations of Nested_Dict6 got merged with Dict\n",
    "Dict.update(Null_Dict)        # Key:Element pair combinations of Null_Dict got merged with Dict\n",
    "print(list(Dict.items()))\n",
    "#print(list(Updated_Dict.items()))"
   ]
  },
  {
   "cell_type": "code",
   "execution_count": 183,
   "metadata": {},
   "outputs": [
    {
     "name": "stdout",
     "output_type": "stream",
     "text": [
      "640\n"
     ]
    }
   ],
   "source": [
    "Dict\n",
    "print(sys.getsizeof(Dict))"
   ]
  },
  {
   "cell_type": "code",
   "execution_count": 184,
   "metadata": {},
   "outputs": [
    {
     "name": "stdout",
     "output_type": "stream",
     "text": [
      "['Fruits', 'City', 'Colour', 'Integer', 'Float', 'Complex', 'Boolean', 'Mixture', 'Date', 'Temperature', 'WindSpeed', 'Event', 'List', 'Tuple', 'Set', 'Student', 'List1', 'Tuple2', 'Set3']\n",
      "\n",
      "dict_values([['Apple', 'Mango', 'Grapes', 'Pineapple', 'Guava'], ['Bangalore', 'Mumbai', 'Chennai', 'Kolkata', 'Delhi'], ['Red', 'Green', 'Blue', 'Yellow', 'Purple'], [45, 67, 78, 89, 245], [67.56, 78.98, 45.48, 99.99, 56.68], [(78-9j), (45+5j), (89-5j), (56-8j), (38+8j)], [True, False, True, False, True], [89, 67.99, (56-4j), True, 'String'], [0.05, 0.025, 0.016666666666666666, 0.0125, 0.01, 0.008333333333333333], [32, 35, 28, 24, 32, 31], [6, 7, 2, 7, 4, 2], ['Rain', 'Sunny', 'Snow', 'Snow', 'Rain', 'Sunny'], [89, 67.99, (56-4j), True, 'String'], ('String', (78+9j), 78.99, False, 56), {(76-4j), True, 45.45, 'Set', 89}, {'Name': {'Kunaal': {'Marks': {'Physics': 0.89, 'Chem': 0.67, 'Math': 0.87, 'Bio': 0.99}}, 'Anwesh': {'Marks': {'Physics': 0.66, 'Chem': 0.88, 'Math': 0.72, 'Bio': 0.57}}, 'Shibu': {'Marks': {'Physics': 0.69, 'Chem': 0.81, 'Math': 0.7, 'Bio': 0.5}}}}, [22, (56+6j), 73.56, True, 'List'], (89, (67-4j), False, 'Tuple', 55.96), {True, 39.56, 'Set', 55, (66-2j)}])\n",
      "\n",
      "[('Fruits', ['Apple', 'Mango', 'Grapes', 'Pineapple', 'Guava']), ('City', ['Bangalore', 'Mumbai', 'Chennai', 'Kolkata', 'Delhi']), ('Colour', ['Red', 'Green', 'Blue', 'Yellow', 'Purple']), ('Integer', [45, 67, 78, 89, 245]), ('Float', [67.56, 78.98, 45.48, 99.99, 56.68]), ('Complex', [(78-9j), (45+5j), (89-5j), (56-8j), (38+8j)]), ('Boolean', [True, False, True, False, True]), ('Mixture', [89, 67.99, (56-4j), True, 'String']), ('Date', [0.05, 0.025, 0.016666666666666666, 0.0125, 0.01, 0.008333333333333333]), ('Temperature', [32, 35, 28, 24, 32, 31]), ('WindSpeed', [6, 7, 2, 7, 4, 2]), ('Event', ['Rain', 'Sunny', 'Snow', 'Snow', 'Rain', 'Sunny']), ('List', [89, 67.99, (56-4j), True, 'String']), ('Tuple', ('String', (78+9j), 78.99, False, 56)), ('Set', {(76-4j), True, 45.45, 'Set', 89}), ('Student', {'Name': {'Kunaal': {'Marks': {'Physics': 0.89, 'Chem': 0.67, 'Math': 0.87, 'Bio': 0.99}}, 'Anwesh': {'Marks': {'Physics': 0.66, 'Chem': 0.88, 'Math': 0.72, 'Bio': 0.57}}, 'Shibu': {'Marks': {'Physics': 0.69, 'Chem': 0.81, 'Math': 0.7, 'Bio': 0.5}}}}), ('List1', [22, (56+6j), 73.56, True, 'List']), ('Tuple2', (89, (67-4j), False, 'Tuple', 55.96)), ('Set3', {True, 39.56, 'Set', 55, (66-2j)})]\n"
     ]
    }
   ],
   "source": [
    "print(list(Dict.keys()))  # # Shows root key of the Nested Dictionary\n",
    "print()\n",
    "print(Dict.values())  # Show all values\n",
    "print()\n",
    "print(list(Dict.items()))    # Show all Key:Value Pairs as Tuples & got converted into list()"
   ]
  },
  {
   "cell_type": "code",
   "execution_count": 185,
   "metadata": {},
   "outputs": [
    {
     "data": {
      "text/plain": [
       "{'Fruits': ['Apple', 'Mango', 'Grapes', 'Pineapple', 'Guava'],\n",
       " 'City': ['Bangalore', 'Mumbai', 'Chennai', 'Kolkata', 'Delhi'],\n",
       " 'Colour': ['Red', 'Green', 'Blue', 'Yellow', 'Purple'],\n",
       " 'Integer': [45, 67, 78, 89, 245],\n",
       " 'Float': [67.56, 78.98, 45.48, 99.99, 56.68],\n",
       " 'Complex': [(78-9j), (45+5j), (89-5j), (56-8j), (38+8j)],\n",
       " 'Mixture': [89, 67.99, (56-4j), True, 'String'],\n",
       " 'Date': [0.05,\n",
       "  0.025,\n",
       "  0.016666666666666666,\n",
       "  0.0125,\n",
       "  0.01,\n",
       "  0.008333333333333333],\n",
       " 'Temperature': [32, 35, 28, 24, 32, 31],\n",
       " 'WindSpeed': [6, 7, 2, 7, 4, 2],\n",
       " 'Event': ['Rain', 'Sunny', 'Snow', 'Snow', 'Rain', 'Sunny'],\n",
       " 'List': [89, 67.99, (56-4j), True, 'String'],\n",
       " 'Tuple': ('String', (78+9j), 78.99, False, 56),\n",
       " 'Set': {(76-4j), 45.45, 89, 'Set', True},\n",
       " 'Student': {'Name': {'Kunaal': {'Marks': {'Physics': 0.89,\n",
       "     'Chem': 0.67,\n",
       "     'Math': 0.87,\n",
       "     'Bio': 0.99}},\n",
       "   'Anwesh': {'Marks': {'Physics': 0.66,\n",
       "     'Chem': 0.88,\n",
       "     'Math': 0.72,\n",
       "     'Bio': 0.57}},\n",
       "   'Shibu': {'Marks': {'Physics': 0.69,\n",
       "     'Chem': 0.81,\n",
       "     'Math': 0.7,\n",
       "     'Bio': 0.5}}}},\n",
       " 'List1': [22, (56+6j), 73.56, True, 'List'],\n",
       " 'Tuple2': (89, (67-4j), False, 'Tuple', 55.96),\n",
       " 'Set3': {(66-2j), 39.56, 55, 'Set', True}}"
      ]
     },
     "execution_count": 185,
     "metadata": {},
     "output_type": "execute_result"
    }
   ],
   "source": [
    "# Delete the \"Boolean\" Key:Value pair from the Dict Dictionary\n",
    "\n",
    "del Dict[\"Boolean\"]      # \"Boolean\" Key:Element pair got deleted from the Dict Dictionary\n",
    "\n",
    "Dict"
   ]
  },
  {
   "cell_type": "code",
   "execution_count": 186,
   "metadata": {},
   "outputs": [
    {
     "name": "stdout",
     "output_type": "stream",
     "text": [
      "['Fruits', 'City', 'Colour', 'Integer', 'Float', 'Complex', 'Mixture', 'Date', 'Temperature', 'WindSpeed', 'Event', 'List', 'Tuple', 'Set', 'Student', 'List1', 'Tuple2', 'Set3']\n"
     ]
    }
   ],
   "source": [
    "print(list(Dict.keys()))  # \"Boolean\" Key is not showing"
   ]
  },
  {
   "cell_type": "code",
   "execution_count": 187,
   "metadata": {},
   "outputs": [
    {
     "name": "stdout",
     "output_type": "stream",
     "text": [
      "['Fruits', 'City', 'Colour', 'Integer', 'Float', 'Complex', 'Mixture', 'Date', 'Temperature', 'WindSpeed', 'Event', 'Tuple', 'Set', 'Student', 'List1', 'Tuple2', 'Set3']\n"
     ]
    }
   ],
   "source": [
    "Dict.pop(\"List\")\n",
    "print(list(Dict.keys()))   # \"List\" Key is not showing"
   ]
  },
  {
   "cell_type": "code",
   "execution_count": 188,
   "metadata": {},
   "outputs": [
    {
     "name": "stdout",
     "output_type": "stream",
     "text": [
      "['Red', 'Green', 'Yellow', 'Purple']\n"
     ]
    }
   ],
   "source": [
    "Dict[\"Colour\"].remove(\"Blue\")  # \"Blue\" value element got removed from \"Colour\" key of Dict Dictionary\n",
    "print(Dict.get(\"Colour\"))"
   ]
  },
  {
   "cell_type": "code",
   "execution_count": 189,
   "metadata": {},
   "outputs": [],
   "source": [
    "# Dictionaries Docs for Practice\n",
    "# https://www.w3schools.com/python/python_dictionaries.asp"
   ]
  },
  {
   "cell_type": "markdown",
   "metadata": {},
   "source": [
    "## Range works for Integer Data types only"
   ]
  },
  {
   "cell_type": "code",
   "execution_count": 190,
   "metadata": {},
   "outputs": [
    {
     "name": "stdout",
     "output_type": "stream",
     "text": [
      "Help on class range in module builtins:\n",
      "\n",
      "class range(object)\n",
      " |  range(stop) -> range object\n",
      " |  range(start, stop[, step]) -> range object\n",
      " |  \n",
      " |  Return an object that produces a sequence of integers from start (inclusive)\n",
      " |  to stop (exclusive) by step.  range(i, j) produces i, i+1, i+2, ..., j-1.\n",
      " |  start defaults to 0, and stop is omitted!  range(4) produces 0, 1, 2, 3.\n",
      " |  These are exactly the valid indices for a list of 4 elements.\n",
      " |  When step is given, it specifies the increment (or decrement).\n",
      " |  \n",
      " |  Methods defined here:\n",
      " |  \n",
      " |  __bool__(self, /)\n",
      " |      self != 0\n",
      " |  \n",
      " |  __contains__(self, key, /)\n",
      " |      Return key in self.\n",
      " |  \n",
      " |  __eq__(self, value, /)\n",
      " |      Return self==value.\n",
      " |  \n",
      " |  __ge__(self, value, /)\n",
      " |      Return self>=value.\n",
      " |  \n",
      " |  __getattribute__(self, name, /)\n",
      " |      Return getattr(self, name).\n",
      " |  \n",
      " |  __getitem__(self, key, /)\n",
      " |      Return self[key].\n",
      " |  \n",
      " |  __gt__(self, value, /)\n",
      " |      Return self>value.\n",
      " |  \n",
      " |  __hash__(self, /)\n",
      " |      Return hash(self).\n",
      " |  \n",
      " |  __iter__(self, /)\n",
      " |      Implement iter(self).\n",
      " |  \n",
      " |  __le__(self, value, /)\n",
      " |      Return self<=value.\n",
      " |  \n",
      " |  __len__(self, /)\n",
      " |      Return len(self).\n",
      " |  \n",
      " |  __lt__(self, value, /)\n",
      " |      Return self<value.\n",
      " |  \n",
      " |  __ne__(self, value, /)\n",
      " |      Return self!=value.\n",
      " |  \n",
      " |  __reduce__(...)\n",
      " |      Helper for pickle.\n",
      " |  \n",
      " |  __repr__(self, /)\n",
      " |      Return repr(self).\n",
      " |  \n",
      " |  __reversed__(...)\n",
      " |      Return a reverse iterator.\n",
      " |  \n",
      " |  count(...)\n",
      " |      rangeobject.count(value) -> integer -- return number of occurrences of value\n",
      " |  \n",
      " |  index(...)\n",
      " |      rangeobject.index(value) -> integer -- return index of value.\n",
      " |      Raise ValueError if the value is not present.\n",
      " |  \n",
      " |  ----------------------------------------------------------------------\n",
      " |  Static methods defined here:\n",
      " |  \n",
      " |  __new__(*args, **kwargs) from builtins.type\n",
      " |      Create and return a new object.  See help(type) for accurate signature.\n",
      " |  \n",
      " |  ----------------------------------------------------------------------\n",
      " |  Data descriptors defined here:\n",
      " |  \n",
      " |  start\n",
      " |  \n",
      " |  step\n",
      " |  \n",
      " |  stop\n",
      "\n"
     ]
    }
   ],
   "source": [
    "help(range)"
   ]
  },
  {
   "cell_type": "code",
   "execution_count": 191,
   "metadata": {},
   "outputs": [
    {
     "name": "stdout",
     "output_type": "stream",
     "text": [
      "<class 'range'>\n",
      "range(1, 11)\n",
      "[1, 2, 3, 4, 5, 6, 7, 8, 9, 10]\n",
      "\n",
      "(1, 2, 3, 4, 5, 6, 7, 8, 9, 10)\n",
      "\n",
      "{1, 2, 3, 4, 5, 6, 7, 8, 9, 10}\n",
      "\n",
      "frozenset({range(1, 11)})\n"
     ]
    }
   ],
   "source": [
    "IntRange = range(1, 11)    # By default it will start from 1, 11 is upperbound\n",
    "\n",
    "print(type(IntRange))\n",
    "\n",
    "print(IntRange)\n",
    "\n",
    "IntRangeList = list(IntRange)       # Convert Integer Range into Integer List[]\n",
    "\n",
    "print(IntRangeList)\n",
    "print()\n",
    "\n",
    "IntRangeTuple = tuple(IntRange)       # Convert Integer Range into Integer Tuple()\n",
    "\n",
    "print(IntRangeTuple)\n",
    "print()\n",
    "\n",
    "IntRangeSet = set(IntRange)       # Convert Integer Range into Integer Set{}\n",
    "\n",
    "print(IntRangeSet)\n",
    "print()\n",
    "\n",
    "IntRangeFrozenSet = frozenset({IntRange})       # Convert Integer Range into Integer frozenset({})\n",
    "\n",
    "print(IntRangeFrozenSet)"
   ]
  },
  {
   "cell_type": "code",
   "execution_count": 192,
   "metadata": {},
   "outputs": [
    {
     "name": "stdout",
     "output_type": "stream",
     "text": [
      "[1, 2, 3, 4, 5, 6, 7, 8, 9, 10]\n",
      "\n",
      "1\n",
      "2\n",
      "3\n",
      "4\n",
      "5\n",
      "6\n",
      "7\n",
      "8\n",
      "9\n",
      "10\n"
     ]
    }
   ],
   "source": [
    "IntRangeList = list(range(1, 11))     # Direct conversion from integer range to integer List[]\n",
    "\n",
    "print(IntRangeList)\n",
    "print()\n",
    "\n",
    "for i in IntRangeList:\n",
    "    print(i)"
   ]
  },
  {
   "cell_type": "code",
   "execution_count": 193,
   "metadata": {},
   "outputs": [
    {
     "name": "stdout",
     "output_type": "stream",
     "text": [
      "(1, 2, 3, 4, 5, 6, 7, 8, 9, 10)\n",
      "\n",
      "1\n",
      "2\n",
      "3\n",
      "4\n",
      "5\n",
      "6\n",
      "7\n",
      "8\n",
      "9\n",
      "10\n"
     ]
    }
   ],
   "source": [
    "IntRangeTuple = tuple(range(1, 11))     # Direct conversion from integer range to integer Tuple()\n",
    "\n",
    "print(IntRangeTuple)\n",
    "print()\n",
    "\n",
    "for i in IntRangeTuple:\n",
    "    print(i)"
   ]
  },
  {
   "cell_type": "code",
   "execution_count": 194,
   "metadata": {},
   "outputs": [
    {
     "name": "stdout",
     "output_type": "stream",
     "text": [
      "{1, 2, 3, 4, 5, 6, 7, 8, 9, 10}\n",
      "\n",
      "1\n",
      "2\n",
      "3\n",
      "4\n",
      "5\n",
      "6\n",
      "7\n",
      "8\n",
      "9\n",
      "10\n"
     ]
    }
   ],
   "source": [
    "IntRangeSet = set(range(1, 11))     # Direct conversion from integer range to integer Set{}\n",
    "\n",
    "print(IntRangeSet)\n",
    "print()\n",
    "\n",
    "for i in IntRangeSet:\n",
    "    print(i)"
   ]
  },
  {
   "cell_type": "code",
   "execution_count": 195,
   "metadata": {},
   "outputs": [
    {
     "name": "stdout",
     "output_type": "stream",
     "text": [
      "frozenset({range(1, 11)})\n",
      "\n",
      "range(1, 11)\n"
     ]
    }
   ],
   "source": [
    "IntRangeFrozenSet = frozenset({range(1, 11)})     # Direct conversion from integer range to integer frozenset({})\n",
    "\n",
    "print(IntRangeFrozenSet)\n",
    "print()\n",
    "\n",
    "for i in IntRangeFrozenSet:\n",
    "    print(i)"
   ]
  },
  {
   "cell_type": "code",
   "execution_count": 196,
   "metadata": {},
   "outputs": [],
   "source": [
    "# Range Parametres\n",
    " # Start: Starting point of the sequence\n",
    " # Stop: Ending point of the sequence (Upperbound)\n",
    " # Step: Number of times the skip will happen"
   ]
  },
  {
   "cell_type": "code",
   "execution_count": 197,
   "metadata": {},
   "outputs": [
    {
     "name": "stdout",
     "output_type": "stream",
     "text": [
      "range(0, 11, 2)\n",
      "[0, 2, 4, 6, 8, 10]\n",
      "\n",
      "0\n",
      "2\n",
      "4\n",
      "6\n",
      "8\n",
      "10\n",
      "(0, 2, 4, 6, 8, 10)\n",
      "\n",
      "0\n",
      "2\n",
      "4\n",
      "6\n",
      "8\n",
      "10\n",
      "{0, 2, 4, 6, 8, 10}\n",
      "\n",
      "0\n",
      "2\n",
      "4\n",
      "6\n",
      "8\n",
      "10\n",
      "frozenset({range(0, 11, 2)})\n",
      "\n",
      "range(0, 11, 2)\n"
     ]
    }
   ],
   "source": [
    "IntRange = range(0, 11, 2)     # 0 is starting point, 11 is upperbound, 2 is interval step\n",
    "\n",
    "print(IntRange)\n",
    "\n",
    "IntRangeList = list(IntRange)      # Convert Integer Range into Integer List[]\n",
    "\n",
    "print(IntRangeList)\n",
    "print()\n",
    "\n",
    "for i in IntRangeList:\n",
    "    print(i)\n",
    "\n",
    "IntRangeTuple = tuple(IntRange)      # Convert Integer Range into Integer Tuple()\n",
    "\n",
    "print(IntRangeTuple)\n",
    "print()\n",
    "\n",
    "for i in IntRangeTuple:\n",
    "    print(i)\n",
    "\n",
    "IntRangeSet = set(IntRange)      # Convert Integer Range into Integer Set{}\n",
    "\n",
    "print(IntRangeSet)\n",
    "print()\n",
    "\n",
    "for i in IntRangeSet:\n",
    "    print(i)\n",
    "\n",
    "IntRangeFrozenSet = frozenset({IntRange})      # Convert Integer Range into Integer frozenset({})\n",
    "\n",
    "print(IntRangeFrozenSet)\n",
    "print()\n",
    "\n",
    "for i in IntRangeFrozenSet:\n",
    "    print(i)"
   ]
  },
  {
   "cell_type": "code",
   "execution_count": 198,
   "metadata": {},
   "outputs": [
    {
     "name": "stdout",
     "output_type": "stream",
     "text": [
      "88\n",
      "True\n",
      "{None, (66+4j)}\n",
      "False\n",
      "[88.67, 555]\n",
      "29\n",
      "('Tuple', (76-8j))\n",
      "frozenset({'Set', 55.88})\n"
     ]
    }
   ],
   "source": [
    "MixVarList = [88, True, {None, 66+4j}, False, [88.67, 555], 29, (\"Tuple\", 76-8j), frozenset({\"Set\", 55.88})]\n",
    "\n",
    "for i in MixVarList:\n",
    "    print(i)"
   ]
  },
  {
   "cell_type": "code",
   "execution_count": 199,
   "metadata": {},
   "outputs": [
    {
     "name": "stdout",
     "output_type": "stream",
     "text": [
      "88\n",
      "True\n",
      "{None, (66+4j)}\n",
      "False\n",
      "[88.67, 555]\n",
      "29\n",
      "('Tuple', (76-8j))\n",
      "frozenset({'Set', 55.88})\n"
     ]
    }
   ],
   "source": [
    "MixVarTuple = (88, True, {None, 66+4j}, False, [88.67, 555], 29, (\"Tuple\", 76-8j), frozenset({\"Set\", 55.88}))\n",
    "\n",
    "for i in MixVarTuple:\n",
    "    print(i)"
   ]
  },
  {
   "cell_type": "code",
   "execution_count": 200,
   "metadata": {},
   "outputs": [
    {
     "name": "stdout",
     "output_type": "stream",
     "text": [
      "False\n",
      "frozenset({None, 'Frozen', 77.58})\n",
      "('Tuple', 91)\n",
      "56\n",
      "(8-4j)\n"
     ]
    }
   ],
   "source": [
    "MixVarSet = {56, 8-4j, False, frozenset({\"Frozen\", 77.58, None}), (\"Tuple\", 91)}\n",
    "\n",
    "for i in MixVarSet:\n",
    "    print(i)"
   ]
  },
  {
   "cell_type": "code",
   "execution_count": 201,
   "metadata": {},
   "outputs": [
    {
     "name": "stdout",
     "output_type": "stream",
     "text": [
      "MixVarList\n",
      "MixVarTuple\n",
      "MixVarSet\n",
      "MixList\n",
      "MixTuple\n",
      "MixSet\n",
      "(88-9j)\n",
      "77\n",
      "77.77\n",
      "True\n",
      "None\n",
      "Tuple\n",
      "frozenset({'Set'})\n",
      "Frozen\n"
     ]
    }
   ],
   "source": [
    "MixVarDict = {'MixVarList': ['String', ('Tuple1', 77-8j, True), ['List1', None], {'Set1', 88.91, False}],\n",
    "        'MixVarTuple': ('Bangalore', False, ['List2', 66-9j], ('Tuple2', 77), {'Set2', None}),\n",
    "        'MixVarSet': {'Red', ('Tuple3', 67), False, None, frozenset({'Set3', -77j})},\n",
    "        'MixList': [45.77, 67, 8-78j, None, False, \"List3\"],\n",
    "        'MixTuple': (67.56, True, \"Tuple4\", 99, 12+6j, None),\n",
    "        'MixSet': {78-9j, \"Set4\", None, 62, True, 66.66},\n",
    "              88-9j: (\"Complex\", 77-7j, 56+4j, 49_3j),\n",
    "             77: [\"Integer\", 61, 43, 58, 47],\n",
    "             77.77: {\"Float\", 66.68, 6.4, 4.13},\n",
    "             True: (\"Boolean\", True, False, False, True),\n",
    "             None: {\"None\", None},\n",
    "             (\"Tuple\"): {89, -5j},\n",
    "             frozenset({\"Set\"}): [frozenset(\"Frozen\")],\n",
    "             \"Frozen\": frozenset({\"Deep\", \"Forest\"})}\n",
    "\n",
    "for i in MixVarDict:\n",
    "    print(i)"
   ]
  },
  {
   "cell_type": "code",
   "execution_count": 202,
   "metadata": {},
   "outputs": [
    {
     "name": "stdout",
     "output_type": "stream",
     "text": [
      "['MixVarList', 'MixVarTuple', 'MixVarSet', 'MixList', 'MixTuple', 'MixSet', (88-9j), 77, 77.77, True, None, 'Tuple', frozenset({'Set'}), 'Frozen']\n"
     ]
    }
   ],
   "source": [
    "MixVarDict_Key_List = list(MixVarDict)\n",
    "\n",
    "print(MixVarDict_Key_List)"
   ]
  },
  {
   "cell_type": "code",
   "execution_count": 203,
   "metadata": {},
   "outputs": [
    {
     "name": "stdout",
     "output_type": "stream",
     "text": [
      "('MixVarList', 'MixVarTuple', 'MixVarSet', 'MixList', 'MixTuple', 'MixSet', (88-9j), 77, 77.77, True, None, 'Tuple', frozenset({'Set'}), 'Frozen')\n"
     ]
    }
   ],
   "source": [
    "MixVarDict_Key_Tuple = tuple(MixVarDict)\n",
    "\n",
    "print(MixVarDict_Key_Tuple)"
   ]
  },
  {
   "cell_type": "code",
   "execution_count": 204,
   "metadata": {},
   "outputs": [
    {
     "name": "stdout",
     "output_type": "stream",
     "text": [
      "{True, 77, 77.77, 'Tuple', frozenset({'Set'}), 'MixList', 'Frozen', 'MixVarSet', None, 'MixTuple', 'MixVarTuple', 'MixVarList', (88-9j), 'MixSet'}\n"
     ]
    }
   ],
   "source": [
    "MixVarDict_Key_Set = set(MixVarDict)\n",
    "\n",
    "print(MixVarDict_Key_Set)"
   ]
  },
  {
   "cell_type": "code",
   "execution_count": 205,
   "metadata": {},
   "outputs": [
    {
     "name": "stdout",
     "output_type": "stream",
     "text": [
      "0.1\n",
      "0.4\n",
      "0.7\n",
      "1.0\n"
     ]
    }
   ],
   "source": [
    "# Range always works with Integers, don't supports floats, noninteger datas\n",
    "# If you wanna create range of noninteger charecters then use for loop to create customized range function\n",
    "# Float numbers in range by using frange loop function\n",
    "# We will get a sequence with floating point data values\n",
    "\n",
    "def frange(start, stop, step):\n",
    "    i = start\n",
    "    while i < stop:            # Untill the value of i < stop\n",
    "        yield i              # Keep taking or evolving the value of i\n",
    "        i += step              # Each time take the value of i by i + step, increase i by step\n",
    "\n",
    "for i in frange(0.1, 1.1, 0.3):\n",
    "    print(i)"
   ]
  },
  {
   "cell_type": "code",
   "execution_count": 206,
   "metadata": {},
   "outputs": [
    {
     "name": "stdout",
     "output_type": "stream",
     "text": [
      "1.1\n",
      "0.8\n",
      "0.5\n",
      "0.2\n"
     ]
    }
   ],
   "source": [
    "# Range always works with Integers, don't supports floats, noninteger datas\n",
    "# If you wanna create range of noninteger charecters then use for loop to create customized range function\n",
    "# Float numbers in range by using frange loop function\n",
    "# We will get a sequence with floating point data values\n",
    "\n",
    "def frange(start, stop, step):\n",
    "    i = start\n",
    "    while i > stop:            # Untill the value of i > stop\n",
    "        yield i              # Keep taking or evolving the value of i\n",
    "        i += step              # Each time take the value of i by i + step, increase i by step\n",
    "\n",
    "for i in frange(1.1, 0.1, -0.3):\n",
    "    print(i)"
   ]
  },
  {
   "cell_type": "code",
   "execution_count": 207,
   "metadata": {},
   "outputs": [
    {
     "name": "stdout",
     "output_type": "stream",
     "text": [
      "5\n",
      "4\n",
      "3\n",
      "2\n",
      "1\n"
     ]
    }
   ],
   "source": [
    "# Reverse Range in python by using for loop\n",
    "# 5 is starting point and 0 is upperbound\n",
    "# -1 is interval step... keep deducting -1 at each step from the value of i\n",
    "\n",
    "for i in range(5, 0, -1):\n",
    "    print(i)"
   ]
  },
  {
   "cell_type": "code",
   "execution_count": 208,
   "metadata": {},
   "outputs": [
    {
     "name": "stdout",
     "output_type": "stream",
     "text": [
      "0\n",
      "1\n",
      "2\n",
      "3\n",
      "4\n"
     ]
    }
   ],
   "source": [
    "# Reverse Range in python by using for loop\n",
    "# 0 is starting point and 5 is upperbound\n",
    "# 1 is interval step... keep adding 1 at each step with the value of i\n",
    "\n",
    "for i in range(0, 5, 1):\n",
    "    print(i)"
   ]
  },
  {
   "cell_type": "code",
   "execution_count": 209,
   "metadata": {},
   "outputs": [
    {
     "name": "stdout",
     "output_type": "stream",
     "text": [
      "(-5-10j)\n",
      "(-4-8j)\n",
      "(-3-6j)\n",
      "(-2-4j)\n",
      "(-1-2j)\n",
      "0j\n",
      "(1+2j)\n",
      "(2+4j)\n",
      "(3+6j)\n",
      "(4+8j)\n"
     ]
    }
   ],
   "source": [
    "for i in range(-5, 5):                # for looping i through range start = -5, stop = 5, step = 1\n",
    "    Complex = complex(i, 2 * i)       # Create complex numbers using i\n",
    "    print(Complex)                    # print the created complex numbers"
   ]
  },
  {
   "cell_type": "code",
   "execution_count": 210,
   "metadata": {},
   "outputs": [
    {
     "name": "stdout",
     "output_type": "stream",
     "text": [
      "(5+10j)\n",
      "(4+8j)\n",
      "(3+6j)\n",
      "(2+4j)\n",
      "(1+2j)\n",
      "0j\n",
      "(-1-2j)\n",
      "(-2-4j)\n",
      "(-3-6j)\n",
      "(-4-8j)\n"
     ]
    }
   ],
   "source": [
    "for i in range(5, -5, -1):            # for looping i through range start = 5, stop = -5, step = -1\n",
    "    Complex = complex(i, 2 * i)       # Create complex numbers using i\n",
    "    print(Complex)                    # print the created complex numbers"
   ]
  },
  {
   "cell_type": "code",
   "execution_count": 211,
   "metadata": {},
   "outputs": [
    {
     "name": "stdout",
     "output_type": "stream",
     "text": [
      "(0.1+0.2j)\n",
      "(0.4+0.8j)\n",
      "(0.7+1.4j)\n",
      "(1+2j)\n",
      "(1.3+2.6j)\n",
      "(1.6+3.2j)\n",
      "(1.9000000000000001+3.8000000000000003j)\n",
      "(2.2+4.4j)\n",
      "(2.5+5j)\n",
      "(2.8+5.6j)\n",
      "(3.0999999999999996+6.199999999999999j)\n",
      "(3.3999999999999995+6.799999999999999j)\n",
      "(3.6999999999999993+7.399999999999999j)\n",
      "(3.999999999999999+7.999999999999998j)\n"
     ]
    }
   ],
   "source": [
    "# Range always works with Integers, don't supports floats, noninteger datas\n",
    "# If you wanna create range of noninteger charecters then use for loop to create customized range function\n",
    "# Float numbers in range by using frange loop function\n",
    "# We will get a sequence with floating point data values\n",
    "\n",
    "def frange(start, stop, step):\n",
    "    i = start\n",
    "    while i < stop:            # Untill the value of i < stop\n",
    "        yield i              # Keep taking the value of i\n",
    "        i += step              # Each time take the value of i by i + step, increase i by step\n",
    "        \n",
    "for i in frange(0.1, 4, 0.3):\n",
    "    Complex = complex(i, 2 * i)\n",
    "    print(Complex)"
   ]
  },
  {
   "cell_type": "code",
   "execution_count": 212,
   "metadata": {},
   "outputs": [
    {
     "name": "stdout",
     "output_type": "stream",
     "text": [
      "(4+8j)\n",
      "(3.7+7.4j)\n",
      "(3.4000000000000004+6.800000000000001j)\n",
      "(3.1000000000000005+6.200000000000001j)\n",
      "(2.8000000000000007+5.600000000000001j)\n",
      "(2.500000000000001+5.000000000000002j)\n",
      "(2.200000000000001+4.400000000000002j)\n",
      "(1.900000000000001+3.800000000000002j)\n",
      "(1.600000000000001+3.200000000000002j)\n",
      "(1.300000000000001+2.600000000000002j)\n",
      "(1.0000000000000009+2.0000000000000018j)\n",
      "(0.7000000000000008+1.4000000000000017j)\n",
      "(0.40000000000000085+0.8000000000000017j)\n",
      "(0.10000000000000087+0.20000000000000173j)\n"
     ]
    }
   ],
   "source": [
    "# Range always works with Integers, don't supports floats, noninteger datas\n",
    "# If you wanna create range of noninteger charecters then use for loop to create customized range function\n",
    "# Float numbers in range by using frange loop function\n",
    "# We will get a sequence with floating point data values\n",
    "\n",
    "def frange(start, stop, step):\n",
    "    i = start\n",
    "    while i > stop:            # Untill the value of i > stop\n",
    "        yield i              # Keep taking the value of i\n",
    "        i += step              # Each time take the value of i by i + step, increase i by step\n",
    "        \n",
    "for i in frange(4, 0.1, -0.3):\n",
    "    Complex = complex(i, 2 * i)\n",
    "    print(Complex)"
   ]
  },
  {
   "cell_type": "code",
   "execution_count": 213,
   "metadata": {},
   "outputs": [
    {
     "name": "stdout",
     "output_type": "stream",
     "text": [
      "<itertools.chain object at 0x7f3bc86de070>\n",
      "[0, 1, 2, 3, 4, 5, 6, 7, 8, 9, 10, 11, 12, 13, 14, 15, 16, 17, 18, 19, 20]\n"
     ]
    }
   ],
   "source": [
    "#Concatinating 2 range functions by using chain function\n",
    "from itertools import chain\n",
    "\n",
    "Chain_Range = chain(range(10), range(10, 21))        # range 0 to 9 and 10 to 20 got joined or concatinated by chain() function in2 a new Range\n",
    "print(Chain_Range)\n",
    "\n",
    "Chain_Range_List = list(Chain_Range)                           # Convert the Range into List\n",
    "print(Chain_Range_List)"
   ]
  },
  {
   "cell_type": "code",
   "execution_count": 214,
   "metadata": {},
   "outputs": [
    {
     "data": {
      "text/plain": [
       "[0, 1, 2, 3, 4, 5, 6, 7, 8, 9, 10, 11, 12, 13, 14, 15, 16, 17, 18, 19, 20]"
      ]
     },
     "execution_count": 214,
     "metadata": {},
     "output_type": "execute_result"
    }
   ],
   "source": [
    "#Direct concat\n",
    "Chain_Range_List = list(range(10)) + list(range(10, 21))\n",
    "Chain_Range_List"
   ]
  },
  {
   "cell_type": "code",
   "execution_count": 216,
   "metadata": {},
   "outputs": [
    {
     "ename": "TypeError",
     "evalue": "unsupported operand type(s) for +: 'range' and 'range'",
     "output_type": "error",
     "traceback": [
      "\u001b[0;31m---------------------------------------------------------------------------\u001b[0m",
      "\u001b[0;31mTypeError\u001b[0m                                 Traceback (most recent call last)",
      "Cell \u001b[0;32mIn[216], line 5\u001b[0m\n\u001b[1;32m      3\u001b[0m RANGE1 \u001b[38;5;241m=\u001b[39m \u001b[38;5;28mrange\u001b[39m(\u001b[38;5;241m5\u001b[39m)\n\u001b[1;32m      4\u001b[0m RANGE2 \u001b[38;5;241m=\u001b[39m \u001b[38;5;28mrange\u001b[39m(\u001b[38;5;241m5\u001b[39m, \u001b[38;5;241m10\u001b[39m)\n\u001b[0;32m----> 5\u001b[0m Concated_Range \u001b[38;5;241m=\u001b[39m \u001b[43mRANGE1\u001b[49m\u001b[43m \u001b[49m\u001b[38;5;241;43m+\u001b[39;49m\u001b[43m \u001b[49m\u001b[43mRANGE2\u001b[49m\n\u001b[1;32m      6\u001b[0m \u001b[38;5;28mprint\u001b[39m(Concated_Range)\n",
      "\u001b[0;31mTypeError\u001b[0m: unsupported operand type(s) for +: 'range' and 'range'"
     ]
    }
   ],
   "source": [
    "# You cant perform Arithmatic operations between Ranges\n",
    "# We can't concat 2 range functions by using plus (+) sign\n",
    "RANGE1 = range(5)\n",
    "RANGE2 = range(5, 10)\n",
    "Concated_Range = RANGE1 + RANGE2\n",
    "print(Concated_Range)"
   ]
  },
  {
   "cell_type": "code",
   "execution_count": 217,
   "metadata": {},
   "outputs": [
    {
     "name": "stdout",
     "output_type": "stream",
     "text": [
      "(10, 11, 12, 13, 14, 15, 16, 17, 18, 19, 20, 21, 22, 23, 24, 25, 26, 27, 28, 29, 30)\n",
      "[]\n"
     ]
    }
   ],
   "source": [
    "#Concatinating 2 range functions by using chain function\n",
    "from itertools import chain\n",
    "\n",
    "Chain_Range = chain(range(10, 21), range(21, 31))     # range 10to20 and 21to30 got joined/concatinated by chain() function in2 a new Range\n",
    "\n",
    "Chain_Range_Tuple = tuple(Chain_Range)                   #Convert the Range into Tuple\n",
    "Chain_Range_List = list(Chain_Range)                   #Convert the Range into List\n",
    "\n",
    "print(Chain_Range_Tuple)\n",
    "print(Chain_Range_List)"
   ]
  },
  {
   "cell_type": "code",
   "execution_count": 218,
   "metadata": {},
   "outputs": [
    {
     "name": "stdout",
     "output_type": "stream",
     "text": [
      "(10, 11, 12, 13, 14, 15, 16, 17, 18, 19, 20, 10, 11, 12, 13, 14, 15, 16, 17, 18, 19, 20)\n",
      "[10, 11, 12, 13, 14, 15, 16, 17, 18, 19, 20, 10, 11, 12, 13, 14, 15, 16, 17, 18, 19, 20]\n"
     ]
    }
   ],
   "source": [
    "Concated_Tuple = tuple(range(10, 21)) + tuple(range(10, 21))\n",
    "\n",
    "Concated_List = list(range(10, 21)) + list(range(10, 21))\n",
    "\n",
    "print(Concated_Tuple)\n",
    "print(Concated_List)"
   ]
  },
  {
   "cell_type": "code",
   "execution_count": 219,
   "metadata": {},
   "outputs": [
    {
     "name": "stdout",
     "output_type": "stream",
     "text": [
      "5\n"
     ]
    }
   ],
   "source": [
    "#Accessing the elements in a range function using indexes\n",
    "Range = range(0,11)\n",
    "print(Range[5])"
   ]
  },
  {
   "cell_type": "code",
   "execution_count": 220,
   "metadata": {},
   "outputs": [
    {
     "name": "stdout",
     "output_type": "stream",
     "text": [
      "[1, 2, 3, 4, 5, 6, 7, 8, 9, 10] ('KESHAV', (45+9j), True, 39.69, 39, 39) {False, (10+10j), 10.1, 10, 'Prashant'} range(0, 11, 2) {'Maharashtra': 'Mumbai', 'Karnataka': 'Bangalore', 'Rajasthan': 'Jaipur'}\n"
     ]
    }
   ],
   "source": [
    "#Creating multiple variables at a time\n",
    "Lists, Tuple, Sets, Range, Dictioneries = [1,2,3,4,5,6,7,8,9,10], (\"KESHAV\",45+9j,True,39.69,39,39), {10.10,'Prashant',10+10j,False,10}, range(0,11,2), {'Maharashtra':'Mumbai','Karnataka':'Bangalore','Rajasthan':'Jaipur'}\n",
    "print(Lists, Tuple, Sets, Range, Dictioneries)"
   ]
  },
  {
   "cell_type": "code",
   "execution_count": null,
   "metadata": {},
   "outputs": [],
   "source": []
  }
 ],
 "metadata": {
  "kernelspec": {
   "display_name": "Python 3 (ipykernel)",
   "language": "python",
   "name": "python3"
  },
  "language_info": {
   "codemirror_mode": {
    "name": "ipython",
    "version": 3
   },
   "file_extension": ".py",
   "mimetype": "text/x-python",
   "name": "python",
   "nbconvert_exporter": "python",
   "pygments_lexer": "ipython3",
   "version": "3.11.2"
  },
  "toc": {
   "base_numbering": 1,
   "nav_menu": {},
   "number_sections": true,
   "sideBar": true,
   "skip_h1_title": false,
   "title_cell": "Table of Contents",
   "title_sidebar": "Contents",
   "toc_cell": true,
   "toc_position": {
    "height": "calc(100% - 180px)",
    "left": "10px",
    "top": "150px",
    "width": "273.188px"
   },
   "toc_section_display": true,
   "toc_window_display": false
  }
 },
 "nbformat": 4,
 "nbformat_minor": 4
}
