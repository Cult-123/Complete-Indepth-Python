{
 "cells": [
  {
   "cell_type": "markdown",
   "metadata": {
    "toc": true
   },
   "source": [
    "<h1>Table of Contents<span class=\"tocSkip\"></span></h1>\n",
    "<div class=\"toc\"><ul class=\"toc-item\"><li><span><a href=\"#Loops-in-Python\" data-toc-modified-id=\"Loops-in-Python-1\"><span class=\"toc-item-num\">1&nbsp;&nbsp;</span>Loops in Python</a></span><ul class=\"toc-item\"><li><span><a href=\"#For-Loop-iteration-through-List\" data-toc-modified-id=\"For-Loop-iteration-through-List-1.1\"><span class=\"toc-item-num\">1.1&nbsp;&nbsp;</span>For Loop iteration through List</a></span></li><li><span><a href=\"#For-Loop-iteration-through-Tuple\" data-toc-modified-id=\"For-Loop-iteration-through-Tuple-1.2\"><span class=\"toc-item-num\">1.2&nbsp;&nbsp;</span>For Loop iteration through Tuple</a></span></li><li><span><a href=\"#For-Loop-iteration-through-Range\" data-toc-modified-id=\"For-Loop-iteration-through-Range-1.3\"><span class=\"toc-item-num\">1.3&nbsp;&nbsp;</span>For Loop iteration through Range</a></span></li><li><span><a href=\"#Nested-For-Loop\" data-toc-modified-id=\"Nested-For-Loop-1.4\"><span class=\"toc-item-num\">1.4&nbsp;&nbsp;</span>Nested For Loop</a></span></li><li><span><a href=\"#Logical-For-Loop\" data-toc-modified-id=\"Logical-For-Loop-1.5\"><span class=\"toc-item-num\">1.5&nbsp;&nbsp;</span>Logical For Loop</a></span></li><li><span><a href=\"#User-Input-(typecasting)-in-Logical-For-Loop\" data-toc-modified-id=\"User-Input-(typecasting)-in-Logical-For-Loop-1.6\"><span class=\"toc-item-num\">1.6&nbsp;&nbsp;</span>User Input (typecasting) in Logical For Loop</a></span></li><li><span><a href=\"#List-Comprehension\" data-toc-modified-id=\"List-Comprehension-1.7\"><span class=\"toc-item-num\">1.7&nbsp;&nbsp;</span>List Comprehension</a></span></li><li><span><a href=\"#Dictionary-Comprehensions\" data-toc-modified-id=\"Dictionary-Comprehensions-1.8\"><span class=\"toc-item-num\">1.8&nbsp;&nbsp;</span>Dictionary Comprehensions</a></span></li><li><span><a href=\"#Set-Comprehensions\" data-toc-modified-id=\"Set-Comprehensions-1.9\"><span class=\"toc-item-num\">1.9&nbsp;&nbsp;</span>Set Comprehensions</a></span></li><li><span><a href=\"#Accessing-elements-and-their-index-values-from-a-List/Tuple\" data-toc-modified-id=\"Accessing-elements-and-their-index-values-from-a-List/Tuple-1.10\"><span class=\"toc-item-num\">1.10&nbsp;&nbsp;</span>Accessing elements and their index values from a List/Tuple</a></span></li></ul></li><li><span><a href=\"#While-Loop\" data-toc-modified-id=\"While-Loop-2\"><span class=\"toc-item-num\">2&nbsp;&nbsp;</span>While Loop</a></span></li><li><span><a href=\"#For-Loop\" data-toc-modified-id=\"For-Loop-3\"><span class=\"toc-item-num\">3&nbsp;&nbsp;</span>For Loop</a></span></li></ul></div>"
   ]
  },
  {
   "cell_type": "markdown",
   "metadata": {},
   "source": [
    "## Loops in Python"
   ]
  },
  {
   "cell_type": "code",
   "execution_count": 26,
   "metadata": {},
   "outputs": [
    {
     "name": "stdout",
     "output_type": "stream",
     "text": [
      "[1, 2, 3, 4, 5, 6, 7, 8, 9, 10]\n"
     ]
    }
   ],
   "source": [
    "Range = range(1, 11)          # Start = 1, Stop = 11 upper bound, Step = NA\n",
    "Range_List = []               # Empty List[] has been created\n",
    "\n",
    "\n",
    "for i in Range:\n",
    "    Range_List.append(i)\n",
    "    \n",
    "    \n",
    "print(Range_List)"
   ]
  },
  {
   "cell_type": "code",
   "execution_count": 27,
   "metadata": {},
   "outputs": [
    {
     "name": "stdout",
     "output_type": "stream",
     "text": [
      "[1, 2, 3, 4, 5, 6, 7, 8, 9, 10]\n"
     ]
    }
   ],
   "source": [
    "Range = range(1, 11)          # Start = 1, Stop = 11 upper bound, Step = NA\n",
    "Range_List = []               # Empty List[] has been created\n",
    "\n",
    "\n",
    "for i in Range:\n",
    "    Range_List.extend([i])\n",
    "    \n",
    "    \n",
    "print(Range_List)"
   ]
  },
  {
   "cell_type": "code",
   "execution_count": 28,
   "metadata": {},
   "outputs": [
    {
     "name": "stdout",
     "output_type": "stream",
     "text": [
      "[1, 2, 3, 4, 5, 6, 7, 8, 9, 10]\n"
     ]
    }
   ],
   "source": [
    "Range = range(1, 11)          # Start = 1, Stop = 11 upper bound, Step = NA\n",
    "Range_List = []               # Empty List[] has been created\n",
    "\n",
    "\n",
    "for i in Range:\n",
    "    Range_List[len(Range_List) : 0] = [i]\n",
    "    \n",
    "    \n",
    "print(Range_List)"
   ]
  },
  {
   "cell_type": "code",
   "execution_count": 29,
   "metadata": {},
   "outputs": [
    {
     "name": "stdout",
     "output_type": "stream",
     "text": [
      "[1, 2, 3, 4, 5, 6, 7, 8, 9, 10]\n"
     ]
    }
   ],
   "source": [
    "Range = range(1, 11)          # Start = 1, Stop = 11 upper bound, Step = NA\n",
    "\n",
    "Range_List = list(Range)            # Convert Range into List[]\n",
    "print(Range_List)"
   ]
  },
  {
   "cell_type": "code",
   "execution_count": 30,
   "metadata": {},
   "outputs": [
    {
     "name": "stdout",
     "output_type": "stream",
     "text": [
      "{1, 2, 3, 4, 5, 6, 7, 8, 9, 10}\n"
     ]
    }
   ],
   "source": [
    "Range = range(1, 11)          # Start = 1, Stop = 11 upper bound, Step = NA\n",
    "Range_Set = set()               # Empty Set{} has been created\n",
    "\n",
    "\n",
    "for i in Range:\n",
    "    Range_Set.add(i)\n",
    "    \n",
    "    \n",
    "print(Range_Set)"
   ]
  },
  {
   "cell_type": "code",
   "execution_count": 31,
   "metadata": {},
   "outputs": [
    {
     "name": "stdout",
     "output_type": "stream",
     "text": [
      "{1, 2, 3, 4, 5, 6, 7, 8, 9, 10}\n"
     ]
    }
   ],
   "source": [
    "Range = range(1, 11)          # Start = 1, Stop = 11 upper bound, Step = NA\n",
    "Range_Set = set()               # Empty Set{} has been created\n",
    "\n",
    "\n",
    "for i in Range:\n",
    "    Range_Set.update({i})\n",
    "    \n",
    "    \n",
    "print(Range_Set)"
   ]
  },
  {
   "cell_type": "code",
   "execution_count": 32,
   "metadata": {},
   "outputs": [
    {
     "name": "stdout",
     "output_type": "stream",
     "text": [
      "{1, 2, 3, 4, 5, 6, 7, 8, 9, 10}\n"
     ]
    }
   ],
   "source": [
    "Range = range(1, 11)          # Start = 1, Stop = 11 upper bound, Step = NA\n",
    "Range_Set = set()               # Empty Set{} has been created\n",
    "\n",
    "\n",
    "for i in Range:\n",
    "    Range_Set = Range_Set.union({i})\n",
    "    \n",
    "    \n",
    "print(Range_Set)"
   ]
  },
  {
   "cell_type": "code",
   "execution_count": 33,
   "metadata": {},
   "outputs": [
    {
     "name": "stdout",
     "output_type": "stream",
     "text": [
      "{1, 2, 3, 4, 5, 6, 7, 8, 9, 10}\n"
     ]
    }
   ],
   "source": [
    "Range = range(1, 11)          # Start = 1, Stop = 11 upper bound, Step = NA\n",
    "\n",
    "Range_Set = set(Range)            # Convert Range into Set{}\n",
    "print(Range_Set)"
   ]
  },
  {
   "cell_type": "code",
   "execution_count": 34,
   "metadata": {},
   "outputs": [
    {
     "name": "stdout",
     "output_type": "stream",
     "text": [
      "1 <class 'int'>\n",
      "2 <class 'int'>\n",
      "3 <class 'int'>\n",
      "4 <class 'int'>\n",
      "5 <class 'int'>\n",
      "6 <class 'int'>\n",
      "7 <class 'int'>\n",
      "8 <class 'int'>\n",
      "9 <class 'int'>\n",
      "10 <class 'int'>\n"
     ]
    }
   ],
   "source": [
    "for i in range(1, 11):\n",
    "    print(i, type(i))"
   ]
  },
  {
   "cell_type": "markdown",
   "metadata": {},
   "source": [
    "### For Loop iteration through List"
   ]
  },
  {
   "cell_type": "code",
   "execution_count": 35,
   "metadata": {},
   "outputs": [
    {
     "name": "stdout",
     "output_type": "stream",
     "text": [
      "Hello\n",
      "Hello\n",
      "Hello\n",
      "Hello\n",
      "Hello\n"
     ]
    },
    {
     "data": {
      "text/plain": [
       "list"
      ]
     },
     "execution_count": 35,
     "metadata": {},
     "output_type": "execute_result"
    }
   ],
   "source": [
    "# Print the string \"Hello\" 5 times by iterating i through the assigned List range of 5\n",
    "\n",
    "for i in list(range(5)):\n",
    "    print(\"Hello\")\n",
    "    \n",
    "type(list(range(5)))"
   ]
  },
  {
   "cell_type": "code",
   "execution_count": 36,
   "metadata": {},
   "outputs": [
    {
     "name": "stdout",
     "output_type": "stream",
     "text": [
      "1 is ODD\n",
      "2 is Even\n",
      "3 is ODD\n",
      "4 is Even\n",
      "5 is ODD\n",
      "6 is Even\n",
      "7 is ODD\n",
      "8 is Even\n",
      "9 is ODD\n",
      "10 is Even\n"
     ]
    }
   ],
   "source": [
    "# Print odd numbers/elements from the list\n",
    "List = [1, 2, 3, 4, 5, 6, 7, 8, 9, 10]\n",
    "\n",
    "for i in List:\n",
    "    if i % 2 == 0:\n",
    "        print(i, \"is Even\")\n",
    "    else:\n",
    "        print(i, \"is ODD\")"
   ]
  },
  {
   "cell_type": "code",
   "execution_count": 37,
   "metadata": {},
   "outputs": [
    {
     "name": "stdout",
     "output_type": "stream",
     "text": [
      "1 is ODD\n",
      "2 is Even\n",
      "3 is ODD\n",
      "4 is Even\n",
      "5 is ODD\n",
      "6 is Even\n",
      "7 is ODD\n",
      "8 is Even\n",
      "9 is ODD\n",
      "10 is Even\n"
     ]
    }
   ],
   "source": [
    "# Print odd numbers/elements from the Set{}\n",
    "Set = {1, 2, 3, 4, 5, 6, 7, 8, 9, 10}\n",
    "\n",
    "for i in Set:\n",
    "    if i % 2 == 0:\n",
    "        print(i, \"is Even\")\n",
    "    else:\n",
    "        print(i, \"is ODD\")"
   ]
  },
  {
   "cell_type": "code",
   "execution_count": 38,
   "metadata": {},
   "outputs": [
    {
     "name": "stdout",
     "output_type": "stream",
     "text": [
      "1 is ODD\n",
      "2 is Even\n",
      "3 is ODD\n",
      "4 is Even\n",
      "5 is ODD\n",
      "6 is Even\n",
      "7 is ODD\n",
      "8 is Even\n",
      "9 is ODD\n",
      "10 is Even\n"
     ]
    }
   ],
   "source": [
    "#Print odd numbers/elements from the Tuple()\n",
    "Tuple = (1, 2, 3, 4, 5, 6, 7, 8, 9, 10)\n",
    "\n",
    "for i in Tuple:\n",
    "    if i % 2 == 0:\n",
    "        print(i, \"is Even\")\n",
    "    else:\n",
    "        print(i, \"is ODD\")"
   ]
  },
  {
   "cell_type": "markdown",
   "metadata": {},
   "source": [
    "### For Loop iteration through Tuple"
   ]
  },
  {
   "cell_type": "code",
   "execution_count": 39,
   "metadata": {},
   "outputs": [
    {
     "name": "stdout",
     "output_type": "stream",
     "text": [
      "Hello 0 <class 'int'>\n",
      "Hello 1 <class 'int'>\n",
      "Hello 2 <class 'int'>\n",
      "Hello 3 <class 'int'>\n",
      "Hello 4 <class 'int'>\n"
     ]
    },
    {
     "data": {
      "text/plain": [
       "tuple"
      ]
     },
     "execution_count": 39,
     "metadata": {},
     "output_type": "execute_result"
    }
   ],
   "source": [
    "# Print the string \"Hello\" 5 times by iterating i through the assigned Tuple range of 5\n",
    "\n",
    "for i in tuple(range(5)):\n",
    "    print(\"Hello\", i, type(i))\n",
    "    \n",
    "type(tuple(range(5)))"
   ]
  },
  {
   "cell_type": "markdown",
   "metadata": {},
   "source": [
    "### For Loop iteration through Range"
   ]
  },
  {
   "cell_type": "code",
   "execution_count": 40,
   "metadata": {},
   "outputs": [
    {
     "name": "stdout",
     "output_type": "stream",
     "text": [
      "Hello 0 <class 'int'>\n",
      "Hello 1 <class 'int'>\n",
      "Hello 2 <class 'int'>\n",
      "Hello 3 <class 'int'>\n",
      "Hello 4 <class 'int'>\n"
     ]
    },
    {
     "data": {
      "text/plain": [
       "range"
      ]
     },
     "execution_count": 40,
     "metadata": {},
     "output_type": "execute_result"
    }
   ],
   "source": [
    "# Print the string \"Hello\" 5 times by iterating i through the assigned range() of 5\n",
    "\n",
    "for i in range(5):\n",
    "    print(\"Hello\", i, type(i))\n",
    "    \n",
    "type(range(5))"
   ]
  },
  {
   "cell_type": "code",
   "execution_count": 41,
   "metadata": {},
   "outputs": [
    {
     "name": "stdout",
     "output_type": "stream",
     "text": [
      "Hello\n",
      "Hello\n",
      "Hello\n",
      "Hello\n",
      "Hello\n"
     ]
    }
   ],
   "source": [
    "# First send i in the assigned range of 5\n",
    "# Then assign i=\"hello\"\n",
    "# Then print(i)\n",
    "\n",
    "for i in range(5):\n",
    "    i = \"Hello\"\n",
    "    print(i)"
   ]
  },
  {
   "cell_type": "code",
   "execution_count": 42,
   "metadata": {},
   "outputs": [
    {
     "name": "stdout",
     "output_type": "stream",
     "text": [
      "Welcome 1\n",
      "Welcome 2\n",
      "Welcome 3\n",
      "Welcome 4\n",
      "Welcome 5\n",
      "Welcome 6\n",
      "Welcome 7\n",
      "Welcome 8\n",
      "Welcome 9\n",
      "Welcome 10\n"
     ]
    }
   ],
   "source": [
    "for i in range(0, 10):          # Start from 0, 10 is upper bound value\n",
    "    print(\"Welcome\", i+1)       #Y ou dont need to create range and convert it to List\n",
    "                                     # number is counting variable\n",
    "                                     # Print the increased value of i by 1 at each iteration along with string \"Welcome\""
   ]
  },
  {
   "cell_type": "code",
   "execution_count": 43,
   "metadata": {},
   "outputs": [
    {
     "name": "stdout",
     "output_type": "stream",
     "text": [
      "1\n",
      "2\n",
      "3\n",
      "4\n",
      "5\n",
      "6\n",
      "7\n",
      "8\n",
      "9\n",
      "10\n"
     ]
    }
   ],
   "source": [
    "start = 1 #Start from 1\n",
    "stop = 11 #Upper bound\n",
    "step = 1  #step/interval=1\n",
    "\n",
    "for i in range(start, stop, step):\n",
    "    print(i)"
   ]
  },
  {
   "cell_type": "code",
   "execution_count": 44,
   "metadata": {},
   "outputs": [
    {
     "name": "stdout",
     "output_type": "stream",
     "text": [
      "6\n",
      "7\n",
      "8\n",
      "9\n",
      "10\n",
      "11\n",
      "12\n",
      "13\n",
      "14\n",
      "15\n"
     ]
    }
   ],
   "source": [
    "#Increase each element by 5\n",
    "#Print the increased value of i by 5 at each iteration\n",
    "start = 1\n",
    "stop = 11\n",
    "\n",
    "for i in range(start, stop):\n",
    "    i = i+5                               #keep increasing the value of i by 5 at each iteration step\n",
    "    print(i)"
   ]
  },
  {
   "cell_type": "code",
   "execution_count": 45,
   "metadata": {},
   "outputs": [
    {
     "name": "stdout",
     "output_type": "stream",
     "text": [
      "6\n",
      "7\n",
      "8\n",
      "9\n",
      "10\n",
      "11\n",
      "12\n",
      "13\n",
      "14\n",
      "15\n"
     ]
    }
   ],
   "source": [
    "# Increase each element by 5\n",
    "# Print the increased value of i by 5 at each iteration\n",
    "start = 1\n",
    "stop = 11\n",
    "\n",
    "for i in range(start, stop):\n",
    "    i += 5                                # keep increasing the value of i by 5 at each iteration step\n",
    "    print(i)"
   ]
  },
  {
   "cell_type": "code",
   "execution_count": 46,
   "metadata": {},
   "outputs": [
    {
     "name": "stdout",
     "output_type": "stream",
     "text": [
      "2\n",
      "4\n",
      "6\n",
      "8\n",
      "10\n",
      "12\n",
      "14\n",
      "16\n",
      "18\n",
      "20\n"
     ]
    }
   ],
   "source": [
    "# Print each iteration value of i multiplied by 2\n",
    "# Write the table of 2 upto integer 10\n",
    "counter = 0\n",
    "\n",
    "for i in range(1, 11):            # Start from 1 & 11 is upper bound value\n",
    "        counter = counter + 1\n",
    "        i = i + counter\n",
    "        print(i)"
   ]
  },
  {
   "cell_type": "code",
   "execution_count": 47,
   "metadata": {},
   "outputs": [
    {
     "name": "stdout",
     "output_type": "stream",
     "text": [
      "2\n",
      "4\n",
      "6\n",
      "8\n",
      "10\n",
      "12\n",
      "14\n",
      "16\n",
      "18\n",
      "20\n"
     ]
    }
   ],
   "source": [
    "# Print each iteration value of i multiplied by 2\n",
    "# Write the table of 2 upto integer 10\n",
    "\n",
    "for x, y in enumerate(range(1, 11)):      # enumerate() has been used, x is for indexex & y is for elements\n",
    "    x = x + 1\n",
    "    print(x + y)"
   ]
  },
  {
   "cell_type": "code",
   "execution_count": 48,
   "metadata": {},
   "outputs": [
    {
     "name": "stdout",
     "output_type": "stream",
     "text": [
      "2\n",
      "4\n",
      "6\n",
      "8\n",
      "10\n",
      "12\n",
      "14\n",
      "16\n",
      "18\n",
      "20\n"
     ]
    }
   ],
   "source": [
    "# Print each iteration value of i multiplied by 2\n",
    "# Write the table of 2 upto integer 10\n",
    "\n",
    "for x, y in enumerate(range(1, 11)):       # enumerate() has been used, x is for indexex & y is for elements\n",
    "    x = 2\n",
    "    print(x * y)"
   ]
  },
  {
   "cell_type": "code",
   "execution_count": 49,
   "metadata": {},
   "outputs": [
    {
     "name": "stdout",
     "output_type": "stream",
     "text": [
      "2\n",
      "4\n",
      "6\n",
      "8\n",
      "10\n",
      "12\n",
      "14\n",
      "16\n",
      "18\n",
      "20\n"
     ]
    }
   ],
   "source": [
    "# Print each iteration value of i multiplied by 2\n",
    "# Write the table of 2 upto integer 10\n",
    "\n",
    "for i in range(1, 11):                     # Start from 1 & 11 is upper bound value\n",
    "        print(i * 2)"
   ]
  },
  {
   "cell_type": "code",
   "execution_count": 50,
   "metadata": {},
   "outputs": [
    {
     "name": "stdout",
     "output_type": "stream",
     "text": [
      "4\n",
      "8\n",
      "12\n",
      "16\n",
      "20\n",
      "24\n",
      "28\n",
      "32\n",
      "36\n",
      "40\n"
     ]
    }
   ],
   "source": [
    "# Print each iteration value of i multiplied by 4\n",
    "# Write the table of 4 upto integer 10\n",
    "counter = 0\n",
    "\n",
    "for i in range(1, 11):            # Start from 1 & 11 is upper bound value\n",
    "        counter = counter + 3\n",
    "        i = i + counter\n",
    "        print(i)"
   ]
  },
  {
   "cell_type": "code",
   "execution_count": 51,
   "metadata": {},
   "outputs": [
    {
     "name": "stdout",
     "output_type": "stream",
     "text": [
      "4\n",
      "8\n",
      "12\n",
      "16\n",
      "20\n",
      "24\n",
      "28\n",
      "32\n",
      "36\n",
      "40\n"
     ]
    }
   ],
   "source": [
    "# Print each iteration value of i multiplied by 4\n",
    "# Write the table of 4 upto integer 10\n",
    "\n",
    "for x, y in enumerate(range(1, 11)):                     # enumerate() has been used, x is for indexex & y is for elements\n",
    "    x = 4\n",
    "    print(x * y)"
   ]
  },
  {
   "cell_type": "code",
   "execution_count": 7,
   "metadata": {},
   "outputs": [
    {
     "name": "stdout",
     "output_type": "stream",
     "text": [
      "4\n",
      "8\n",
      "12\n",
      "16\n",
      "20\n",
      "24\n",
      "28\n",
      "32\n",
      "36\n",
      "40\n"
     ]
    }
   ],
   "source": [
    "# Print each iteration value of i multiplied by 4\n",
    "# Write the table of 4 upto integer 10\n",
    "\n",
    "for x, y in zip(range(1, 11), range(1, 11)):\n",
    "    x = 4\n",
    "    print(x * y)"
   ]
  },
  {
   "cell_type": "code",
   "execution_count": 53,
   "metadata": {},
   "outputs": [
    {
     "name": "stdout",
     "output_type": "stream",
     "text": [
      "Result of matrix multiplication:\n",
      "[19, 22]\n",
      "[43, 50]\n"
     ]
    }
   ],
   "source": [
    "# This is not my code, I copied from internet\n",
    "\n",
    "matrix_a = [[1, 2], [3, 4]]\n",
    "matrix_b = [[5, 6], [7, 8]]\n",
    "rows_a = len(matrix_a)\n",
    "cols_a = len(matrix_a[0])\n",
    "rows_b = len(matrix_b)\n",
    "cols_b = len(matrix_b[0])\n",
    "\n",
    "# Initialize result matrix with zeros\n",
    "result_matrix = [[0 for _ in range(cols_b)] for _ in range(rows_a)]\n",
    "\n",
    "if cols_a == rows_b:\n",
    "    for i in range(rows_a):\n",
    "        for j in range(cols_b):\n",
    "            for k in range(cols_a):\n",
    "                result_matrix[i][j] += matrix_a[i][k] * matrix_b[k][j]\n",
    "    print(\"Result of matrix multiplication:\")\n",
    "    for row in result_matrix:\n",
    "        print(row)\n",
    "else:\n",
    "    print(\"Matrices cannot be multiplied: Inner dimensions do not match.\")"
   ]
  },
  {
   "cell_type": "code",
   "execution_count": 54,
   "metadata": {},
   "outputs": [
    {
     "name": "stdout",
     "output_type": "stream",
     "text": [
      "4\n",
      "8\n",
      "12\n",
      "16\n",
      "20\n",
      "24\n",
      "28\n",
      "32\n",
      "36\n",
      "40\n"
     ]
    }
   ],
   "source": [
    "# Print each iteration value of i multiplied by 4\n",
    "# Write the table of 4 upto integer 10\n",
    "count = 0\n",
    "\n",
    "for i in range(1, 11):                     # Start from 1 & 11 is upper bound value\n",
    "        count = count + 3\n",
    "        i += count\n",
    "        print(i)"
   ]
  },
  {
   "cell_type": "markdown",
   "metadata": {},
   "source": [
    "### Nested For Loop"
   ]
  },
  {
   "cell_type": "code",
   "execution_count": 46,
   "metadata": {},
   "outputs": [
    {
     "name": "stdout",
     "output_type": "stream",
     "text": [
      "00\n",
      "01\n",
      "02\n",
      "03\n",
      "04\n",
      "10\n",
      "11\n",
      "12\n",
      "13\n",
      "14\n",
      "20\n",
      "21\n",
      "22\n",
      "23\n",
      "24\n",
      "30\n",
      "31\n",
      "32\n",
      "33\n",
      "34\n",
      "40\n",
      "41\n",
      "42\n",
      "43\n",
      "44\n"
     ]
    }
   ],
   "source": [
    "#Nested loops\n",
    "for x in range(5):              # 5*5 = 25 combination output\n",
    "    for y in range(5):\n",
    "        print(\"{}{}\".format(x, y))"
   ]
  },
  {
   "cell_type": "code",
   "execution_count": 47,
   "metadata": {},
   "outputs": [
    {
     "name": "stdout",
     "output_type": "stream",
     "text": [
      "[30, 78, 112, 162]\n"
     ]
    }
   ],
   "source": [
    "List1 = [3, 6, 8, 9]                      # This is List[]\n",
    "List2 = [10, 13, 14, 18]                  # This is List[]\n",
    "Multiplied_List = []                      # Empty List[] has been created\n",
    "\n",
    "\n",
    "for i in range(len(List1)):  \n",
    "    Multiplied_List.append(List1[i] * List2[i])           # append() the product of a[i] and b[i] to the result List[]\n",
    "\n",
    "print(Multiplied_List)"
   ]
  },
  {
   "cell_type": "code",
   "execution_count": 48,
   "metadata": {},
   "outputs": [
    {
     "name": "stdout",
     "output_type": "stream",
     "text": [
      "[30, 78, 112, 162]\n"
     ]
    }
   ],
   "source": [
    "List1 = [3, 6, 8, 9]                      # This is List[]\n",
    "List2 = [10, 13, 14, 18]                  # This is List[]\n",
    "Multiplied_List = []                      # Empty List[] has been created\n",
    "\n",
    "\n",
    "for x, y in zip(List1, List2):            # zip() pairing always comes with multiple iterator like x, y\n",
    "    Multiplied_List.append(x * y)\n",
    "\n",
    "print(Multiplied_List)"
   ]
  },
  {
   "cell_type": "code",
   "execution_count": 49,
   "metadata": {},
   "outputs": [
    {
     "name": "stdout",
     "output_type": "stream",
     "text": [
      "[30, 78, 112, 162]\n"
     ]
    }
   ],
   "source": [
    "List1 = [3, 6, 8, 9]                      # This is List[]\n",
    "List2 = [10, 13, 14, 18]                  # This is List[]\n",
    "Multiplied_List = []                      # Empty List[] has been created\n",
    "\n",
    "\n",
    "for i in range(len(List1)):  \n",
    "    Multiplied_List.extend([List1[i] * List2[i]])         # extend() the product of a[i] and b[i] to the result list\n",
    "\n",
    "print(Multiplied_List)"
   ]
  },
  {
   "cell_type": "code",
   "execution_count": 19,
   "metadata": {},
   "outputs": [
    {
     "name": "stdout",
     "output_type": "stream",
     "text": [
      "[30, 78, 112, 162]\n"
     ]
    }
   ],
   "source": [
    "List1 = [3, 6, 8, 9]                      # This is List[]\n",
    "List2 = [10, 13, 14, 18]                  # This is List[]\n",
    "Multiplied_List = []                      # Empty List[] has been created\n",
    "\n",
    "\n",
    "for x, y in zip(List1, List2):                 # zip() pairing always comes with multiple iterator like x, y\n",
    "    Multiplied_List.extend([x * y])\n",
    "\n",
    "print(Multiplied_List)"
   ]
  },
  {
   "cell_type": "code",
   "execution_count": 20,
   "metadata": {},
   "outputs": [
    {
     "name": "stdout",
     "output_type": "stream",
     "text": [
      "[30, 78, 112, 162]\n"
     ]
    }
   ],
   "source": [
    "List1 = [3, 6, 8, 9]                      # This is List[]\n",
    "List2 = [10, 13, 14, 18]                  # This is List[]\n",
    "Multiplied_List = []                      # Empty List[] has been created\n",
    "\n",
    "for i in range(len(List1)):\n",
    "    Multiplied_List[len(Multiplied_List) : 0] = [List1[i] * List2[i]]       # List[len(List) : 0] = [e1]    has been used\n",
    "\n",
    "print(Multiplied_List)"
   ]
  },
  {
   "cell_type": "code",
   "execution_count": 23,
   "metadata": {},
   "outputs": [
    {
     "name": "stdout",
     "output_type": "stream",
     "text": [
      "[30, 78, 112, 162]\n"
     ]
    }
   ],
   "source": [
    "List1 = [3, 6, 8, 9]                      # This is List[]\n",
    "List2 = [10, 13, 14, 18]                  # This is List[]\n",
    "Multiplied_List = []                      # Empty List[] has been created\n",
    "\n",
    "\n",
    "for x, y in zip(List1, List2):\n",
    "    Multiplied_List[len(Multiplied_List) : 0] = [x * y]\n",
    "\n",
    "print(Multiplied_List)"
   ]
  },
  {
   "cell_type": "code",
   "execution_count": 2,
   "metadata": {},
   "outputs": [
    {
     "name": "stdout",
     "output_type": "stream",
     "text": [
      "[30, 78, 112, 162]\n"
     ]
    }
   ],
   "source": [
    "List1 = [3, 6, 8, 9]                      # This is List[]\n",
    "List2 = [10, 13, 14, 18]                  # This is List[]\n",
    "\n",
    "# Use list comprehension to multiply corresponding elements from both lists\n",
    "Multiplied_List = [List1[i] * List2[i] for i in range(len(List1))]\n",
    "\n",
    "print(Multiplied_List)"
   ]
  },
  {
   "cell_type": "code",
   "execution_count": 3,
   "metadata": {},
   "outputs": [
    {
     "name": "stdout",
     "output_type": "stream",
     "text": [
      "[30, 78, 112, 162]\n"
     ]
    }
   ],
   "source": [
    "List1 = [3, 6, 8, 9]                      # This is List[]\n",
    "List2 = [10, 13, 14, 18]                  # This is List[]\n",
    "\n",
    "# Use zip() to pair corresponding elements from both lists and multiply them\n",
    "Multiplied_List = [x * y for x, y in zip(List1, List2)]               # zip() pairing always comes with multiple iterator like x, y\n",
    "\n",
    "print(Multiplied_List)"
   ]
  },
  {
   "cell_type": "raw",
   "metadata": {},
   "source": [
    "List1 = [3, 6, 8, 9]                      # This is List[]\n",
    "List2 = [10, 13, 14, 18]                  # This is List[]\n",
    "\n",
    "# Use zip() to pair corresponding elements from both lists and multiply them\n",
    "Multiplied_List = [x * y for x in List1 for y in List2]\n",
    "\n",
    "print(Multiplied_List)"
   ]
  },
  {
   "cell_type": "code",
   "execution_count": 6,
   "metadata": {},
   "outputs": [
    {
     "name": "stdout",
     "output_type": "stream",
     "text": [
      "[30, 78, 112, 162]\n"
     ]
    }
   ],
   "source": [
    "List1 = [3, 6, 8, 9]                      # This is List[]\n",
    "List2 = [10, 13, 14, 18]                  # This is List[]\n",
    "\n",
    "\n",
    "# Use map() with a lambda function to multiply corresponding elements from both lists\n",
    "Multiplied_Object = map(lambda x, y : x * y, List1, List2)            # lambda map object\n",
    "                                                                      # Any Object always should be converted into something interpretable\n",
    "\n",
    "Multiplied_List = list(Multiplied_Object)                             # Convert the lambda map object into List[]\n",
    "\n",
    "print(Multiplied_List)"
   ]
  },
  {
   "cell_type": "markdown",
   "metadata": {},
   "source": [
    "### Logical For Loop"
   ]
  },
  {
   "cell_type": "code",
   "execution_count": 65,
   "metadata": {},
   "outputs": [
    {
     "name": "stdout",
     "output_type": "stream",
     "text": [
      "2\n",
      "4\n",
      "6\n",
      "8\n",
      "10\n",
      "We have 5 even numbers\n",
      "We have 5 even numbers\n"
     ]
    }
   ],
   "source": [
    "# Accept start value and end upper bound value from user\n",
    "# Print all even numbers from the range\n",
    "# Your output must look like shown\n",
    "counter = 0\n",
    "\n",
    "for i in range(1, 11):                                     # Start from 1 & 11 is upper bound value\n",
    "    if i % 2 == 0:\n",
    "        counter = counter+1\n",
    "        print(i)\n",
    "\n",
    "print('We have ' + str(counter) + ' even numbers')\n",
    "print('We have {} even numbers'.format(counter))"
   ]
  },
  {
   "cell_type": "code",
   "execution_count": 66,
   "metadata": {},
   "outputs": [
    {
     "name": "stdout",
     "output_type": "stream",
     "text": [
      "2\n",
      "4\n",
      "6\n",
      "8\n",
      "10\n",
      "We have 5 even numbers\n",
      "We have 5 even numbers\n"
     ]
    }
   ],
   "source": [
    "# Accept start value and end upper bound value from user\n",
    "# Print all even numbers from the range\n",
    "# Your output must look like shown\n",
    "counter = 0\n",
    "\n",
    "for i in range(1, 11):                                     # Start from 1 & 11 is upper bound value\n",
    "    if i % 2 == 0:\n",
    "        counter += 1\n",
    "        print(i)\n",
    "\n",
    "print('We have ' + str(counter) + ' even numbers')\n",
    "print('We have {} even numbers'.format(counter))"
   ]
  },
  {
   "cell_type": "markdown",
   "metadata": {},
   "source": [
    "### User Input (typecasting) in Logical For Loop"
   ]
  },
  {
   "cell_type": "code",
   "execution_count": 67,
   "metadata": {},
   "outputs": [
    {
     "name": "stdin",
     "output_type": "stream",
     "text": [
      "Enter start value: 39\n",
      "Enter end value: 67\n"
     ]
    },
    {
     "name": "stdout",
     "output_type": "stream",
     "text": [
      "40\n",
      "42\n",
      "44\n",
      "46\n",
      "48\n",
      "50\n",
      "52\n",
      "54\n",
      "56\n",
      "58\n",
      "60\n",
      "62\n",
      "64\n",
      "66\n",
      "We have 14 even numbers\n"
     ]
    }
   ],
   "source": [
    "#Accept the range from user and display even numbers. Your output must look like shown\n",
    "# eg 1 - 10\n",
    "# Enter start range : 1\n",
    "# Enter end range : 10\n",
    "\n",
    "start = int(input(\"Enter start value:\"))\n",
    "end = int(input(\"Enter end value:\"))\n",
    "counter = 0\n",
    "\n",
    "for i in range(start, end+1):\n",
    "    if i % 2 == 0:\n",
    "        counter += 1\n",
    "        print(i)\n",
    "        \n",
    "print(\"We have \" + str(counter) + \" even numbers\")\n",
    "\n",
    "#Output:\n",
    "# 2\n",
    "# 4\n",
    "# 6\n",
    "# 8\n",
    "# 10\n",
    "# We have 5 even numbers"
   ]
  },
  {
   "cell_type": "code",
   "execution_count": 68,
   "metadata": {},
   "outputs": [
    {
     "name": "stdin",
     "output_type": "stream",
     "text": [
      "Enter start value: 27\n",
      "Enter end value: 39\n"
     ]
    },
    {
     "name": "stdout",
     "output_type": "stream",
     "text": [
      "28\n",
      "30\n",
      "32\n",
      "34\n",
      "36\n",
      "38\n",
      "We have 6 even numbers\n"
     ]
    }
   ],
   "source": [
    "# Accept the range from user and display even numbers. Your output must look like shown\n",
    "# eg 1 - 10\n",
    "# Enter start range : 1\n",
    "# Enter end range : 10\n",
    "\n",
    "start = eval(input(\"Enter start value:\"))\n",
    "end = eval(input(\"Enter end value:\"))\n",
    "counter = 0\n",
    "\n",
    "for i in range(start, end+1):\n",
    "    if i % 2 == 0:\n",
    "        counter = counter+1\n",
    "        print(i)\n",
    "        \n",
    "print(\"We have \" + str(counter) + \" even numbers\")\n",
    "\n",
    "#Output:\n",
    "# 2\n",
    "# 4\n",
    "# 6\n",
    "# 8\n",
    "# 10\n",
    "# We have 5 even numbers"
   ]
  },
  {
   "cell_type": "code",
   "execution_count": 69,
   "metadata": {},
   "outputs": [
    {
     "name": "stdin",
     "output_type": "stream",
     "text": [
      "Enter start value: 41\n",
      "Enter end value: 59\n"
     ]
    },
    {
     "name": "stdout",
     "output_type": "stream",
     "text": [
      "42\n",
      "44\n",
      "46\n",
      "48\n",
      "50\n",
      "52\n",
      "54\n",
      "56\n",
      "58\n",
      "We have 9 even numbers\n",
      "We have 9 even numbers\n"
     ]
    }
   ],
   "source": [
    "start = int(input(\"Enter start value:\"))\n",
    "end = int(input(\"Enter end value:\"))\n",
    "\n",
    "# Option1 -- Use counter variable\n",
    "# Option2 -- Use list to store output and get the length of list\n",
    "count = 0\n",
    "Even_List = []      # Empty list[] has been created\n",
    "\n",
    "for i in range(start, end+1):\n",
    "    if i % 2 == 0:\n",
    "        print(i)\n",
    "        count = count + 1\n",
    "        Even_List.append(i)\n",
    "\n",
    "print(\"We have {} even numbers\".format(count))\n",
    "print(\"We have {} even numbers\".format(len(Even_List)))"
   ]
  },
  {
   "cell_type": "code",
   "execution_count": 70,
   "metadata": {},
   "outputs": [
    {
     "name": "stdin",
     "output_type": "stream",
     "text": [
      "Enter start value: 33\n",
      "Enter end value: 49\n"
     ]
    },
    {
     "name": "stdout",
     "output_type": "stream",
     "text": [
      "34\n",
      "36\n",
      "38\n",
      "40\n",
      "42\n",
      "44\n",
      "46\n",
      "48\n",
      "We have [34, 36, 38, 40, 42, 44, 46, 48] total 8 even numbers\n"
     ]
    }
   ],
   "source": [
    "start = int(input(\"Enter start value:\"))\n",
    "end = int(input(\"Enter end value:\"))\n",
    "\n",
    "# Option2 -- Use list to store output and get the length of list\n",
    "Even_List = []\n",
    "\n",
    "for i in range(start, end+1):\n",
    "    if i % 2 == 0:\n",
    "        Even_List.append(i)\n",
    "        print(i)\n",
    "\n",
    "print(\"We have {} total {} even numbers\".format(Even_List, len(Even_List)))"
   ]
  },
  {
   "cell_type": "markdown",
   "metadata": {},
   "source": [
    "### List Comprehension"
   ]
  },
  {
   "cell_type": "code",
   "execution_count": 71,
   "metadata": {},
   "outputs": [
    {
     "name": "stdout",
     "output_type": "stream",
     "text": [
      "1\n",
      "2\n",
      "3\n",
      "4\n",
      "[1, 4, 9, 16]\n"
     ]
    },
    {
     "data": {
      "text/plain": [
       "[1, 4, 9, 16]"
      ]
     },
     "execution_count": 71,
     "metadata": {},
     "output_type": "execute_result"
    }
   ],
   "source": [
    "# List Comprehension\n",
    "# I want 'n**2' for each 'n' in IntList\n",
    "IntList = [1,2,3,4]\n",
    "IntSqreList = []       # It is a blank List[]\n",
    "\n",
    "for i in IntList:\n",
    "    IntSqreList.append(i**2)\n",
    "    print(i)                   # Shows the Elements in IntList\n",
    "\n",
    "print(IntSqreList)      # Shows the appended format of IntSqreList\n",
    "\n",
    "[i**2 for i in IntList]       # One Liner List Comprehension"
   ]
  },
  {
   "cell_type": "code",
   "execution_count": 74,
   "metadata": {},
   "outputs": [
    {
     "name": "stdout",
     "output_type": "stream",
     "text": [
      "[1, 4, 9, 16]\n"
     ]
    }
   ],
   "source": [
    "# Using a map + lambda\n",
    "IntSqreObject = map(lambda i: i*i, IntList)        # lambda map object\n",
    "                                                   # Any Object always should be converted into something interpretable\n",
    "IntSqreList = list(IntSqreObject)                  # Convert the lambda map object into List[]\n",
    "\n",
    "print(IntSqreList)"
   ]
  },
  {
   "cell_type": "code",
   "execution_count": 75,
   "metadata": {},
   "outputs": [
    {
     "name": "stdout",
     "output_type": "stream",
     "text": [
      "[2, 4]\n"
     ]
    },
    {
     "data": {
      "text/plain": [
       "[2, 4]"
      ]
     },
     "execution_count": 75,
     "metadata": {},
     "output_type": "execute_result"
    }
   ],
   "source": [
    "# I want 'n' for each 'n' in IntList if 'n' is even\n",
    "IntList = [1,2,3,4]\n",
    "EvenList = []\n",
    "\n",
    "for i in IntList:\n",
    "    if i % 2 == 0:\n",
    "        EvenList.append(i)\n",
    "\n",
    "print(EvenList)                                     # Shows the appended format of EvenList\n",
    "[i for i in IntList if i % 2 == 0]                 # One Liner List Comprehension"
   ]
  },
  {
   "cell_type": "code",
   "execution_count": 77,
   "metadata": {},
   "outputs": [
    {
     "name": "stdout",
     "output_type": "stream",
     "text": [
      "[2, 4]\n"
     ]
    }
   ],
   "source": [
    "# Using a filter + lambda\n",
    "EvenObject = filter(lambda i: i % 2 == 0, IntList)          # lambda filter object\n",
    "                                                         # Any Object always should be converted into something interpretable\n",
    "EvenList = list(EvenObject)                                 # Convert the lambda filter object into List[]\n",
    "\n",
    "print(EvenList)"
   ]
  },
  {
   "cell_type": "markdown",
   "metadata": {},
   "source": [
    "### Dictionary Comprehensions"
   ]
  },
  {
   "cell_type": "code",
   "execution_count": 78,
   "metadata": {},
   "outputs": [
    {
     "data": {
      "text/plain": [
       "{'Bruce': 'Batman',\n",
       " 'Clark': 'Superman',\n",
       " 'Peter': 'Spiderman',\n",
       " 'Logan': 'Wolverine',\n",
       " 'Wade': 'Deadpool'}"
      ]
     },
     "execution_count": 78,
     "metadata": {},
     "output_type": "execute_result"
    }
   ],
   "source": [
    "# Dictionary Comprehensions\n",
    "Names = [\"Bruce\",\"Clark\",\"Peter\",\"Logan\",\"Wade\"]                    # This is List[]\n",
    "Heros = [\"Batman\",\"Superman\",\"Spiderman\",\"Wolverine\",\"Deadpool\"]     # This is List[]\n",
    "\n",
    "My_Dict = dict(zip(Names, Heros))          # zip object got converted into Dictionery\n",
    "\n",
    "My_Dict"
   ]
  },
  {
   "cell_type": "raw",
   "metadata": {},
   "source": [
    "Names = [\"Bruce\",\"Clark\",\"Peter\",\"Logan\",\"Wade\"]                    # This is List[]\n",
    "Heros = [\"Batman\",\"Superman\",\"Spiderman\",\"Wolverine\",\"Deadpool\"]     # This is List[]\n",
    "\n",
    "print(list(zip(Names, Heros)))"
   ]
  },
  {
   "cell_type": "code",
   "execution_count": 80,
   "metadata": {},
   "outputs": [
    {
     "name": "stdout",
     "output_type": "stream",
     "text": [
      "{'Bruce': 'Batman', 'Clark': 'Superman', 'Peter': 'Spiderman', 'Logan': 'Wolverine', 'Wade': 'Deadpool'}\n"
     ]
    },
    {
     "data": {
      "text/plain": [
       "{'Bruce': 'Batman',\n",
       " 'Clark': 'Superman',\n",
       " 'Peter': 'Spiderman',\n",
       " 'Logan': 'Wolverine',\n",
       " 'Wade': 'Deadpool'}"
      ]
     },
     "execution_count": 80,
     "metadata": {},
     "output_type": "execute_result"
    }
   ],
   "source": [
    "Names = [\"Bruce\",\"Clark\",\"Peter\",\"Logan\",\"Wade\"]                    # This is List[]\n",
    "Heros = [\"Batman\",\"Superman\",\"Spiderman\",\"Wolverine\",\"Deadpool\"]     # This is List[]\n",
    "\n",
    "# I want a dict{'Name': 'Hero'} for each Name, Hero in zip(Names, Heros)\n",
    "My_Dict = {}   # Empty Dictionery\n",
    "for x, y in zip(Names, Heros):\n",
    "    My_Dict[x] = y\n",
    "\n",
    "print(My_Dict)\n",
    "\n",
    "{x : y for x, y in zip(Names ,Heros)}      # One Liner Dictionary Comprehension, zip object has been converted into dictionery"
   ]
  },
  {
   "cell_type": "code",
   "execution_count": 81,
   "metadata": {},
   "outputs": [
    {
     "data": {
      "text/plain": [
       "{'Bruce': 'Batman',\n",
       " 'Clark': 'Superman',\n",
       " 'Peter': 'Spiderman',\n",
       " 'Logan': 'Wolverine',\n",
       " 'Wade': 'Deadpool'}"
      ]
     },
     "execution_count": 81,
     "metadata": {},
     "output_type": "execute_result"
    }
   ],
   "source": [
    "Names = [\"Bruce\",\"Clark\",\"Peter\",\"Logan\",\"Wade\"]                    # This is List[]\n",
    "Heros = [\"Batman\",\"Superman\",\"Spiderman\",\"Wolverine\",\"Deadpool\"]     # This is List[]\n",
    "\n",
    "My_Dict = {x : y for x, y in zip(Names, Heros)}     # One Liner Dictionary Comprehension\n",
    "My_Dict"
   ]
  },
  {
   "cell_type": "code",
   "execution_count": 82,
   "metadata": {},
   "outputs": [
    {
     "data": {
      "text/plain": [
       "{'Bruce': 'Batman',\n",
       " 'Clark': 'Superman',\n",
       " 'Peter': 'Spiderman',\n",
       " 'Logan': 'Wolverine',\n",
       " 'Wade': 'Deadpool'}"
      ]
     },
     "execution_count": 82,
     "metadata": {},
     "output_type": "execute_result"
    }
   ],
   "source": [
    "Names = [\"Bruce\",\"Clark\",\"Peter\",\"Logan\",\"Wade\"]                    # This is List[]\n",
    "Heros = [\"Batman\",\"Superman\",\"Spiderman\",\"Wolverine\",\"Deadpool\"]     # This is List[]\n",
    "\n",
    "My_Dict = {Names[i] : Heros[i] for i in range(len(Names))}     # One Liner Dictionary Comprehension\n",
    "My_Dict"
   ]
  },
  {
   "cell_type": "code",
   "execution_count": 83,
   "metadata": {},
   "outputs": [
    {
     "name": "stdout",
     "output_type": "stream",
     "text": [
      "{'Bruce': 'Batman', 'Clark': 'Superman', 'Peter': 'Spiderman', 'Logan': 'Wolverine', 'Wade': 'Deadpool'}\n"
     ]
    },
    {
     "data": {
      "text/plain": [
       "{'Bruce': 'Batman',\n",
       " 'Clark': 'Superman',\n",
       " 'Peter': 'Spiderman',\n",
       " 'Logan': 'Wolverine',\n",
       " 'Wade': 'Deadpool'}"
      ]
     },
     "execution_count": 83,
     "metadata": {},
     "output_type": "execute_result"
    }
   ],
   "source": [
    "Names = [\"Bruce\",\"Clark\",\"Peter\",\"Logan\",\"Wade\"]                    # This is List[]\n",
    "Heros = [\"Batman\",\"Superman\",\"Spiderman\",\"Wolverine\",\"Deadpool\"]     # This is List[]\n",
    "My_Dict = {}\n",
    "\n",
    "\n",
    "for i in range(len(Names)):\n",
    "    My_Dict.update({Names[i] : Heros[i]})     # Dictionery has update option only for merging\n",
    "\n",
    "print(My_Dict)\n",
    "My_Dict"
   ]
  },
  {
   "cell_type": "code",
   "execution_count": 84,
   "metadata": {},
   "outputs": [
    {
     "name": "stdout",
     "output_type": "stream",
     "text": [
      "{'Bruce': 'Batman', 'Clark': 'Superman', 'Peter': 'Spiderman', 'Logan': 'Wolverine', 'Wade': 'Deadpool'}\n"
     ]
    },
    {
     "data": {
      "text/plain": [
       "{'Bruce': 'Batman',\n",
       " 'Clark': 'Superman',\n",
       " 'Peter': 'Spiderman',\n",
       " 'Logan': 'Wolverine',\n",
       " 'Wade': 'Deadpool'}"
      ]
     },
     "execution_count": 84,
     "metadata": {},
     "output_type": "execute_result"
    }
   ],
   "source": [
    "Names = [\"Bruce\",\"Clark\",\"Peter\",\"Logan\",\"Wade\"]                    # This is List[]\n",
    "Heros = [\"Batman\",\"Superman\",\"Spiderman\",\"Wolverine\",\"Deadpool\"]     # This is List[]\n",
    "My_Dict = {}\n",
    "\n",
    "\n",
    "for i in range(len(Names)):\n",
    "    My_Dict[Names[i]] = Heros[i]\n",
    "\n",
    "print(My_Dict)\n",
    "My_Dict"
   ]
  },
  {
   "cell_type": "code",
   "execution_count": 85,
   "metadata": {},
   "outputs": [
    {
     "name": "stdout",
     "output_type": "stream",
     "text": [
      "{'Bruce': 'Batman', 'Clark': 'Superman', 'Peter': 'Spiderman', 'Logan': 'Wolverine', 'Wade': 'Deadpool'}\n"
     ]
    },
    {
     "data": {
      "text/plain": [
       "{'Bruce': 'Batman',\n",
       " 'Clark': 'Superman',\n",
       " 'Peter': 'Spiderman',\n",
       " 'Logan': 'Wolverine',\n",
       " 'Wade': 'Deadpool'}"
      ]
     },
     "execution_count": 85,
     "metadata": {},
     "output_type": "execute_result"
    }
   ],
   "source": [
    "Names = [\"Bruce\",\"Clark\",\"Peter\",\"Logan\",\"Wade\"]                    # This is List[]\n",
    "Heros = [\"Batman\",\"Superman\",\"Spiderman\",\"Wolverine\",\"Deadpool\"]     # This is List[]\n",
    "My_Dict = {}\n",
    "\n",
    "for x, y in zip(Names, Heros):\n",
    "    My_Dict.update({x : y})               # Dictionery has update option only for merging\n",
    "\n",
    "print(My_Dict)\n",
    "My_Dict"
   ]
  },
  {
   "cell_type": "code",
   "execution_count": 21,
   "metadata": {},
   "outputs": [
    {
     "name": "stdout",
     "output_type": "stream",
     "text": [
      "{'Bruce': 'Batman', 'Clark': 'Superman', 'Peter': 'Spiderman', 'Logan': 'Wolverine', 'Wade': 'Deadpool'}\n"
     ]
    },
    {
     "data": {
      "text/plain": [
       "{'Bruce': 'Batman',\n",
       " 'Clark': 'Superman',\n",
       " 'Peter': 'Spiderman',\n",
       " 'Logan': 'Wolverine',\n",
       " 'Wade': 'Deadpool'}"
      ]
     },
     "execution_count": 21,
     "metadata": {},
     "output_type": "execute_result"
    }
   ],
   "source": [
    "Names = [\"Bruce\",\"Clark\",\"Peter\",\"Logan\",\"Wade\"]                    # This is List[]\n",
    "Heros = [\"Batman\",\"Superman\",\"Spiderman\",\"Wolverine\",\"Deadpool\"]     # This is List[]\n",
    "\n",
    "My_Object = map(lambda x, y : (x , y), Names, Heros)          # lambda map object\n",
    "                                                              # Any Object always should be converted into something interpretable\n",
    "My_Dict = dict(My_Object)                                      # Convert the lambda map object into Dictionery\n",
    "\n",
    "print(My_Dict)\n",
    "My_Dict"
   ]
  },
  {
   "cell_type": "code",
   "execution_count": 19,
   "metadata": {},
   "outputs": [
    {
     "name": "stdout",
     "output_type": "stream",
     "text": [
      "{'Bruce': 'Batman', 'Clark': 'Superman', 'Peter': 'Spiderman', 'Logan': 'Wolverine', 'Wade': 'Deadpool'}\n"
     ]
    },
    {
     "data": {
      "text/plain": [
       "{'Bruce': 'Batman',\n",
       " 'Clark': 'Superman',\n",
       " 'Peter': 'Spiderman',\n",
       " 'Logan': 'Wolverine',\n",
       " 'Wade': 'Deadpool'}"
      ]
     },
     "execution_count": 19,
     "metadata": {},
     "output_type": "execute_result"
    }
   ],
   "source": [
    "Names = [\"Bruce\",\"Clark\",\"Peter\",\"Logan\",\"Wade\"]                    # This is List[]\n",
    "Heros = [\"Batman\",\"Superman\",\"Spiderman\",\"Wolverine\",\"Deadpool\"]     # This is List[]\n",
    "\n",
    "My_Object = map(lambda i : (i), zip(Names, Heros))          # lambda map object\n",
    "                                                              # Any Object always should be converted into something interpretable\n",
    "My_Dict = dict(My_Object)                                      # Convert the lambda map object into Dictionery\n",
    "\n",
    "print(My_Dict)\n",
    "My_Dict"
   ]
  },
  {
   "cell_type": "code",
   "execution_count": 45,
   "metadata": {},
   "outputs": [
    {
     "name": "stdout",
     "output_type": "stream",
     "text": [
      "{'Bruce': 'Batman', 'Clark': 'Superman', 'Peter': 'Spiderman', 'Logan': 'Wolverine', 'Wade': 'Deadpool'}\n"
     ]
    },
    {
     "data": {
      "text/plain": [
       "{'Bruce': 'Batman',\n",
       " 'Clark': 'Superman',\n",
       " 'Peter': 'Spiderman',\n",
       " 'Logan': 'Wolverine',\n",
       " 'Wade': 'Deadpool'}"
      ]
     },
     "execution_count": 45,
     "metadata": {},
     "output_type": "execute_result"
    }
   ],
   "source": [
    "Names = [\"Bruce\",\"Clark\",\"Peter\",\"Logan\",\"Wade\"]                    # This is List[]\n",
    "Heros = [\"Batman\",\"Superman\",\"Spiderman\",\"Wolverine\",\"Deadpool\"]     # This is List[]\n",
    "\n",
    "Map_Object = map(lambda i: (Names[i] , Heros[i]), range(len(Names)))\n",
    "\n",
    "My_Dict = dict(Map_Object)\n",
    "\n",
    "print(My_Dict)\n",
    "My_Dict"
   ]
  },
  {
   "cell_type": "code",
   "execution_count": 21,
   "metadata": {},
   "outputs": [
    {
     "name": "stdout",
     "output_type": "stream",
     "text": [
      "{'a': [1, 2], 'b': [3, 4, 5], 'c': [6, 7]}\n"
     ]
    },
    {
     "data": {
      "text/plain": [
       "{'a': [1, 2], 'b': [3, 4, 5], 'c': [6, 7]}"
      ]
     },
     "execution_count": 21,
     "metadata": {},
     "output_type": "execute_result"
    }
   ],
   "source": [
    "lst1 = ['a','b','c']\n",
    "lst2 = [[1,2],[3,4,5],[6,7]]\n",
    "\n",
    "My_Object = map(lambda x, y : (x , y), lst1, lst2)             # lambda map object\n",
    "                                                                # Any Object always should be converted into something interpretable\n",
    "My_Dict = dict(My_Object)                                         # Convert the lambda map object into Dictionery\n",
    "\n",
    "print(My_Dict)\n",
    "My_Dict"
   ]
  },
  {
   "cell_type": "code",
   "execution_count": 92,
   "metadata": {},
   "outputs": [
    {
     "name": "stdout",
     "output_type": "stream",
     "text": [
      "{0: 'apple', 1: 'banana', 2: 'cherry'}\n"
     ]
    }
   ],
   "source": [
    "My_List = [\"apple\", \"banana\", \"cherry\"]\n",
    "\n",
    "My_Object = enumerate(My_List)          # enumerate object\n",
    "                                        # Any Object always should be converted into something interpretable\n",
    "My_Dict = dict(My_Object)               # Convert the enumerate map object into Dictionery\n",
    "\n",
    "print(My_Dict)"
   ]
  },
  {
   "cell_type": "code",
   "execution_count": 93,
   "metadata": {},
   "outputs": [
    {
     "name": "stdout",
     "output_type": "stream",
     "text": [
      "{'product': 'laptop', 'price': 1200, 'in_stock': True}\n"
     ]
    }
   ],
   "source": [
    "# This is not my code, I copied from internet\n",
    "\n",
    "import json\n",
    "\n",
    "json_string = '{\"product\": \"laptop\", \"price\": 1200, \"in_stock\": true}'\n",
    "my_dict = json.loads(json_string)\n",
    "print(my_dict)"
   ]
  },
  {
   "cell_type": "code",
   "execution_count": 95,
   "metadata": {},
   "outputs": [
    {
     "name": "stdout",
     "output_type": "stream",
     "text": [
      "{'name': 'example', 'value': 123}\n"
     ]
    }
   ],
   "source": [
    "# This is not my code, I copied from internet\n",
    "\n",
    "class MyClass:\n",
    "    def __init__(self, name, value):\n",
    "        self.name = name\n",
    "        self.value = value\n",
    "\n",
    "obj = MyClass(\"example\", 123)\n",
    "obj_dict = obj.__dict__\n",
    "print(obj_dict)"
   ]
  },
  {
   "cell_type": "markdown",
   "metadata": {},
   "source": [
    "### Set Comprehensions"
   ]
  },
  {
   "cell_type": "code",
   "execution_count": 96,
   "metadata": {},
   "outputs": [
    {
     "name": "stdout",
     "output_type": "stream",
     "text": [
      "{1, 2, 3, 4, 5, 6, 7, 8, 9}\n"
     ]
    },
    {
     "data": {
      "text/plain": [
       "{1, 2, 3, 4, 5, 6, 7, 8, 9}"
      ]
     },
     "execution_count": 96,
     "metadata": {},
     "output_type": "execute_result"
    }
   ],
   "source": [
    "# Set Comprehensions\n",
    "# It's like converting the IntList into Set{} named as Unique_Set by using for loop\n",
    "IntList = [1, 1, 2, 1, 3, 4, 3, 4, 5, 5, 6, 7, 8, 7, 9, 9]\n",
    "Unique_Set = set()                            # Empty Se{} got created\n",
    "\n",
    "for i in IntList:\n",
    "    Unique_Set.add(i)\n",
    "\n",
    "print(Unique_Set)\n",
    "{i for i in IntList}        # One Liner Set Comprehension"
   ]
  },
  {
   "cell_type": "code",
   "execution_count": 97,
   "metadata": {},
   "outputs": [
    {
     "name": "stdout",
     "output_type": "stream",
     "text": [
      "{1, 2, 3, 4, 5, 6, 7, 8, 9}\n"
     ]
    },
    {
     "data": {
      "text/plain": [
       "{1, 2, 3, 4, 5, 6, 7, 8, 9}"
      ]
     },
     "execution_count": 97,
     "metadata": {},
     "output_type": "execute_result"
    }
   ],
   "source": [
    "# Set Comprehensions\n",
    "# It's like converting the IntList into Set{} named as Unique_Set by using for loop\n",
    "IntList = [1, 1, 2, 1, 3, 4, 3, 4, 5, 5, 6, 7, 8, 7, 9, 9]\n",
    "Unique_Set = set()                                            # Empty Se{} got created\n",
    "\n",
    "for i in IntList:\n",
    "    Unique_Set.update({i})\n",
    "\n",
    "print(Unique_Set)\n",
    "{i for i in IntList}           # One Liner Set Comprehension"
   ]
  },
  {
   "cell_type": "code",
   "execution_count": 98,
   "metadata": {},
   "outputs": [
    {
     "name": "stdout",
     "output_type": "stream",
     "text": [
      "{1, 2, 3, 4, 5, 6, 7, 8, 9}\n"
     ]
    },
    {
     "data": {
      "text/plain": [
       "{1, 2, 3, 4, 5, 6, 7, 8, 9}"
      ]
     },
     "execution_count": 98,
     "metadata": {},
     "output_type": "execute_result"
    }
   ],
   "source": [
    "# Set Comprehensions\n",
    "# It's like converting the IntList into Set{} named as Unique_Set by using for loop\n",
    "IntList = [1, 1, 2, 1, 3, 4, 3, 4, 5, 5, 6, 7, 8, 7, 9, 9]\n",
    "Unique_Set = set()                                            # Empty Se{} got created\n",
    "\n",
    "for i in IntList:\n",
    "    Unique_Set = Unique_Set.union({i})\n",
    "\n",
    "print(Unique_Set)\n",
    "{i for i in IntList}           # One Liner Set Comprehension"
   ]
  },
  {
   "cell_type": "code",
   "execution_count": 99,
   "metadata": {},
   "outputs": [
    {
     "data": {
      "text/plain": [
       "{1, 2, 3, 4, 5, 6, 7, 8, 9}"
      ]
     },
     "execution_count": 99,
     "metadata": {},
     "output_type": "execute_result"
    }
   ],
   "source": [
    "# converting the IntList into set() & named as Unique_Set\n",
    "IntList = [1, 1, 2, 1, 3, 4, 3, 4, 5, 5, 6, 7, 8, 7, 9, 9]\n",
    "Unique_Set = set(IntList)                                     # List[] got converted into Set{} having unique elements only\n",
    "Unique_Set"
   ]
  },
  {
   "cell_type": "code",
   "execution_count": 26,
   "metadata": {},
   "outputs": [
    {
     "name": "stdout",
     "output_type": "stream",
     "text": [
      "Cartesian product using loops: {6, 7, 8, 9, 10, 12, 14, 16, 18, 20, 21, 24, 27, 28, 30, 32, 35, 36, 40, 45, 50}\n"
     ]
    }
   ],
   "source": [
    "set_a = {1, 2, 3, 4, 5 }\n",
    "set_b = {6, 7, 8, 9, 10}\n",
    "\n",
    "Set_Cartesian_Product = set()   # Empty Set{} has been created\n",
    "\n",
    "# Using nested loops\n",
    "for x in set_a:\n",
    "    for y in set_b:\n",
    "        Set_Cartesian_Product.add(x * y)\n",
    "\n",
    "print(f\"Cartesian product using loops: {Set_Cartesian_Product}\")"
   ]
  },
  {
   "cell_type": "code",
   "execution_count": 27,
   "metadata": {},
   "outputs": [
    {
     "name": "stdout",
     "output_type": "stream",
     "text": [
      "Cartesian product using loops: {6, 7, 8, 9, 10, 12, 14, 16, 18, 20, 21, 24, 27, 28, 30, 32, 35, 36, 40, 45, 50}\n"
     ]
    }
   ],
   "source": [
    "set_a = {1, 2, 3, 4, 5 }\n",
    "set_b = {6, 7, 8, 9, 10}\n",
    "\n",
    "Set_Cartesian_Product = set()   # Empty Set{} has been created\n",
    "\n",
    "# Using nested loops\n",
    "for x in set_a:\n",
    "    for y in set_b:\n",
    "        Set_Cartesian_Product.update({x * y})\n",
    "\n",
    "print(f\"Cartesian product using loops: {Set_Cartesian_Product}\")"
   ]
  },
  {
   "cell_type": "code",
   "execution_count": 12,
   "metadata": {},
   "outputs": [
    {
     "name": "stdout",
     "output_type": "stream",
     "text": [
      "Cartesian product using loops: {6, 7, 8, 9, 10, 12, 14, 16, 18, 20, 21, 24, 27, 28, 30, 32, 35, 36, 40, 45, 50}\n"
     ]
    }
   ],
   "source": [
    "set_a = {1, 2, 3, 4, 5 }\n",
    "set_b = {6, 7, 8, 9, 10}\n",
    "\n",
    "Set_Cartesian_Product = set()   # Empty Set{} has been created\n",
    "\n",
    "# Using nested loops\n",
    "for x in set_a:\n",
    "    for y in set_b:\n",
    "        Set_Cartesian_Product = Set_Cartesian_Product.union({x * y})\n",
    "\n",
    "print(f\"Cartesian product using loops: {Set_Cartesian_Product}\")"
   ]
  },
  {
   "cell_type": "code",
   "execution_count": 2,
   "metadata": {},
   "outputs": [
    {
     "name": "stdout",
     "output_type": "stream",
     "text": [
      "Cartesian product using set comprehension: {6, 7, 8, 9, 10, 12, 14, 16, 18, 20, 21, 24, 27, 28, 30, 32, 35, 36, 40, 45, 50}\n"
     ]
    }
   ],
   "source": [
    "set_a = {1, 2, 3, 4, 5 }\n",
    "set_b = {6, 7, 8, 9, 10}\n",
    "\n",
    "# Using a set comprehension (more concise)\n",
    "Set_Cartesian_Product = {x * y for x in set_a for y in set_b}\n",
    "\n",
    "print(f\"Cartesian product using set comprehension: {Set_Cartesian_Product}\")"
   ]
  },
  {
   "cell_type": "code",
   "execution_count": 33,
   "metadata": {},
   "outputs": [
    {
     "name": "stdout",
     "output_type": "stream",
     "text": [
      "Plain product using set comprehension: {36, 6, 14, 50, 24}\n"
     ]
    }
   ],
   "source": [
    "set_a = {1, 2, 3, 4, 5 }\n",
    "set_b = {6, 7, 8, 9, 10}\n",
    "\n",
    "# Using a set comprehension (more concise)\n",
    "Set_Plain_Product = {x * y for x, y in zip(set_a, set_b)}\n",
    "\n",
    "print(f\"Plain product using set comprehension: {Set_Plain_Product}\")"
   ]
  },
  {
   "cell_type": "code",
   "execution_count": 28,
   "metadata": {},
   "outputs": [
    {
     "name": "stdout",
     "output_type": "stream",
     "text": [
      "Cartesian product using itertools.product: {6, 7, 8, 9, 10, 12, 14, 16, 18, 20, 21, 24, 27, 28, 30, 32, 35, 36, 40, 45, 50}\n"
     ]
    }
   ],
   "source": [
    "# Using itertools.product (most efficient for larger sets)\n",
    "set_a = {1, 2, 3, 4, 5 }\n",
    "set_b = {6, 7, 8, 9, 10}\n",
    "\n",
    "import itertools\n",
    "\n",
    "Set_Cartesian_Product = {x * y for x, y in itertools.product(set_a, set_b)}\n",
    "\n",
    "print(f\"Cartesian product using itertools.product: {Set_Cartesian_Product}\")"
   ]
  },
  {
   "cell_type": "markdown",
   "metadata": {},
   "source": [
    "### Accessing elements and their index values from a List/Tuple"
   ]
  },
  {
   "cell_type": "code",
   "execution_count": 34,
   "metadata": {},
   "outputs": [],
   "source": [
    "# Accessing elements and their index values from a List/Tuple\n",
    "Tuple = (\"KESHAV\", 45+9j, True, 39.69, 39)\n",
    "List = [\"KESHAV\", 45+9j, True, 39.69, 39]"
   ]
  },
  {
   "cell_type": "code",
   "execution_count": 101,
   "metadata": {},
   "outputs": [
    {
     "name": "stdout",
     "output_type": "stream",
     "text": [
      "Original list is: ['KESHAV', (45+9j), True, 39.69, 39]\n",
      "Original tuple is: ('KESHAV', (45+9j), True, 39.69, 39)\n"
     ]
    }
   ],
   "source": [
    "print(\"Original list is: \" + str(List))\n",
    "print(\"Original tuple is: \" + str(Tuple))"
   ]
  },
  {
   "cell_type": "code",
   "execution_count": 35,
   "metadata": {},
   "outputs": [
    {
     "name": "stdout",
     "output_type": "stream",
     "text": [
      "List index-values are:\n",
      "0 KESHAV\n",
      "1 (45+9j)\n",
      "2 True\n",
      "3 39.69\n",
      "4 39\n"
     ]
    }
   ],
   "source": [
    "List = [\"KESHAV\", 45+9j, True, 39.69, 39]\n",
    "\n",
    "print(\"List index-values are:\")\n",
    "\n",
    "for i in range(len(List)): # length value of the List has been transformed into range\n",
    "    print(i, List[i])    # i has been passed through the range and then through the list"
   ]
  },
  {
   "cell_type": "code",
   "execution_count": 36,
   "metadata": {},
   "outputs": [
    {
     "name": "stdout",
     "output_type": "stream",
     "text": [
      "List index-values are:\n",
      "0 KESHAV\n",
      "1 (45+9j)\n",
      "2 True\n",
      "3 39.69\n",
      "4 39\n"
     ]
    }
   ],
   "source": [
    "List = [\"KESHAV\", 45+9j, True, 39.69, 39]\n",
    "\n",
    "print(\"List index-values are:\")\n",
    "\n",
    "for x, y in enumerate(List): # length value of the List has been transformed into range\n",
    "    print(x, y)    # i has been passed through the range and then through the list"
   ]
  },
  {
   "cell_type": "code",
   "execution_count": 103,
   "metadata": {},
   "outputs": [
    {
     "name": "stdout",
     "output_type": "stream",
     "text": [
      "List index-values are:\n",
      "[[0, 'KESHAV'], [1, (45+9j)], [2, True], [3, 39.69], [4, 39]]\n"
     ]
    }
   ],
   "source": [
    "List = [\"KESHAV\", 45+9j, True, 39.69, 39]\n",
    "\n",
    "print(\"List index-values are:\")\n",
    "\n",
    "print([[i, List[i]] for i in range(len(List))])"
   ]
  },
  {
   "cell_type": "code",
   "execution_count": 104,
   "metadata": {},
   "outputs": [
    {
     "name": "stdout",
     "output_type": "stream",
     "text": [
      "List index-value are:\n",
      "0 KESHAV\n",
      "1 (45+9j)\n",
      "2 True\n",
      "3 39.69\n",
      "4 39\n"
     ]
    }
   ],
   "source": [
    "List = [\"KESHAV\", 45+9j, True, 39.69, 39]\n",
    "\n",
    "print(\"List index-value are:\")\n",
    "\n",
    "for x, y in enumerate(List):                   # by using enumerate\n",
    "    print(x, y)"
   ]
  },
  {
   "cell_type": "code",
   "execution_count": 105,
   "metadata": {},
   "outputs": [
    {
     "name": "stdout",
     "output_type": "stream",
     "text": [
      "List index-value are:\n",
      "0 KESHAV\n",
      "1 (45+9j)\n",
      "2 True\n",
      "3 39.69\n",
      "4 39\n"
     ]
    }
   ],
   "source": [
    "List = [\"KESHAV\", 45+9j, True, 39.69, 39]\n",
    "\n",
    "print(\"List index-value are:\")\n",
    "\n",
    "for x, y in zip(range(len(List)), List):        # by using zip\n",
    "    print(x, y)"
   ]
  },
  {
   "cell_type": "code",
   "execution_count": 106,
   "metadata": {},
   "outputs": [
    {
     "name": "stdout",
     "output_type": "stream",
     "text": [
      "Tuple index-values are:\n",
      "0 KESHAV\n",
      "1 (45+9j)\n",
      "2 True\n",
      "3 39.69\n",
      "4 39\n"
     ]
    }
   ],
   "source": [
    "Tuple = (\"KESHAV\", 45+9j, True, 39.69, 39)\n",
    "\n",
    "print(\"Tuple index-values are:\")\n",
    "\n",
    "for i in range(len(Tuple)):           # length value of the tuple has been transformed into range\n",
    "    print(i, Tuple[i])                # i has been passed through the range & then through the list"
   ]
  },
  {
   "cell_type": "code",
   "execution_count": 107,
   "metadata": {},
   "outputs": [
    {
     "name": "stdout",
     "output_type": "stream",
     "text": [
      "Tuple index-values are:\n",
      "[(0, 'KESHAV'), (1, (45+9j)), (2, True), (3, 39.69), (4, 39)]\n"
     ]
    }
   ],
   "source": [
    "Tuple = (\"KESHAV\", 45+9j, True, 39.69, 39)\n",
    "\n",
    "print(\"Tuple index-values are:\")\n",
    "\n",
    "print([(i, Tuple[i]) for i in range(len(Tuple))])"
   ]
  },
  {
   "cell_type": "code",
   "execution_count": 108,
   "metadata": {},
   "outputs": [
    {
     "name": "stdout",
     "output_type": "stream",
     "text": [
      "Tuple index-value are:\n",
      "0 KESHAV\n",
      "1 (45+9j)\n",
      "2 True\n",
      "3 39.69\n",
      "4 39\n"
     ]
    }
   ],
   "source": [
    "Tuple = (\"KESHAV\", 45+9j, True, 39.69, 39)\n",
    "\n",
    "print(\"Tuple index-value are:\")\n",
    "\n",
    "for x, y in enumerate(Tuple): #by using enumerate\n",
    "    print(x, y)"
   ]
  },
  {
   "cell_type": "code",
   "execution_count": 109,
   "metadata": {},
   "outputs": [
    {
     "name": "stdout",
     "output_type": "stream",
     "text": [
      "Tuple index-value are:\n",
      "0 KESHAV\n",
      "1 (45+9j)\n",
      "2 True\n",
      "3 39.69\n",
      "4 39\n"
     ]
    }
   ],
   "source": [
    "Tuple = (\"KESHAV\", 45+9j, True, 39.69, 39)\n",
    "\n",
    "print(\"Tuple index-value are:\")\n",
    "\n",
    "for x, y in zip(range(len(Tuple)), Tuple):      # by using zip\n",
    "    print(x, y)"
   ]
  },
  {
   "cell_type": "markdown",
   "metadata": {},
   "source": [
    "## While Loop"
   ]
  },
  {
   "cell_type": "code",
   "execution_count": 110,
   "metadata": {},
   "outputs": [],
   "source": [
    "#Take a counting variable\n",
    "##Steps\n",
    " #initialization\n",
    " #Condition\n",
    " #increment/decrement"
   ]
  },
  {
   "cell_type": "code",
   "execution_count": 111,
   "metadata": {},
   "outputs": [
    {
     "name": "stdout",
     "output_type": "stream",
     "text": [
      "Telusko Rocks Rocks Rocks Rocks Rocks \n",
      "Telusko Rocks Rocks Rocks Rocks Rocks \n",
      "Telusko Rocks Rocks Rocks Rocks Rocks \n",
      "Telusko Rocks Rocks Rocks Rocks Rocks \n",
      "Telusko Rocks Rocks Rocks Rocks Rocks \n",
      "Telusko Rocks Rocks Rocks Rocks Rocks \n"
     ]
    }
   ],
   "source": [
    "i=0\n",
    "while i<=5:\n",
    "    print(\"Telusko \",end=\"\")\n",
    "    j=0\n",
    "    while j<=4:\n",
    "        print(\"Rocks \",end=\"\")\n",
    "        j=j+1\n",
    "    i=i+1\n",
    "    print()"
   ]
  },
  {
   "cell_type": "markdown",
   "metadata": {},
   "source": [
    "## For Loop"
   ]
  },
  {
   "cell_type": "code",
   "execution_count": 113,
   "metadata": {},
   "outputs": [
    {
     "name": "stdout",
     "output_type": "stream",
     "text": [
      "KESHAV\n",
      "(45+9j)\n",
      "True\n",
      "39.69\n",
      "39\n"
     ]
    }
   ],
   "source": [
    "for i in \"KESHAV\",45+9j,True,39.69,39:\n",
    "    print(i)"
   ]
  },
  {
   "cell_type": "code",
   "execution_count": 119,
   "metadata": {},
   "outputs": [
    {
     "name": "stdout",
     "output_type": "stream",
     "text": [
      "0\n",
      "3\n",
      "5\n",
      "6\n",
      "9\n",
      "10\n",
      "12\n",
      "15\n",
      "18\n",
      "20\n",
      "21\n",
      "24\n",
      "25\n",
      "27\n",
      "30\n",
      "33\n",
      "35\n",
      "36\n",
      "39\n",
      "40\n",
      "42\n",
      "45\n",
      "48\n"
     ]
    }
   ],
   "source": [
    "#print the numbers which are divisible by eith 3 or 5 or by both\n",
    "for i in range(0,50):\n",
    "    if i % 5 == 0 or i % 3 == 0:     # remainder is Zero\n",
    "        print(i)"
   ]
  },
  {
   "cell_type": "code",
   "execution_count": 24,
   "metadata": {},
   "outputs": [
    {
     "name": "stdout",
     "output_type": "stream",
     "text": [
      "0\n",
      "15\n",
      "30\n",
      "45\n"
     ]
    }
   ],
   "source": [
    "#print the numbers which are divisible by 15 or multiple of 15\n",
    "for i in range(0,50):\n",
    "    if i % 5 == 0 and i % 3 == 0:   # remainder is Zero\n",
    "        print(i)"
   ]
  },
  {
   "cell_type": "code",
   "execution_count": 25,
   "metadata": {},
   "outputs": [
    {
     "name": "stdout",
     "output_type": "stream",
     "text": [
      "0\n",
      "15\n",
      "30\n",
      "45\n"
     ]
    }
   ],
   "source": [
    "#print the numbers which are divisible by 15 or multiple of 15\n",
    "for i in range(0,50):\n",
    "    if i % 15 == 0:\n",
    "        print(i)"
   ]
  },
  {
   "cell_type": "code",
   "execution_count": 122,
   "metadata": {},
   "outputs": [
    {
     "name": "stdout",
     "output_type": "stream",
     "text": [
      "1\n",
      "2\n",
      "4\n",
      "7\n",
      "8\n",
      "11\n",
      "13\n",
      "14\n",
      "16\n",
      "17\n",
      "19\n",
      "22\n",
      "23\n",
      "26\n",
      "28\n",
      "29\n",
      "31\n",
      "32\n",
      "34\n",
      "37\n",
      "38\n",
      "41\n",
      "43\n",
      "44\n",
      "46\n",
      "47\n",
      "49\n"
     ]
    }
   ],
   "source": [
    "#Do not print the numbers which are divisible by eith 3 or 5 or by both\n",
    "for i in range(0,50):\n",
    "    if i % 5 != 0 and i % 3 != 0:\n",
    "        print(i)"
   ]
  },
  {
   "cell_type": "code",
   "execution_count": null,
   "metadata": {},
   "outputs": [],
   "source": []
  }
 ],
 "metadata": {
  "kernelspec": {
   "display_name": "Python 3 (ipykernel)",
   "language": "python",
   "name": "python3"
  },
  "language_info": {
   "codemirror_mode": {
    "name": "ipython",
    "version": 3
   },
   "file_extension": ".py",
   "mimetype": "text/x-python",
   "name": "python",
   "nbconvert_exporter": "python",
   "pygments_lexer": "ipython3",
   "version": "3.11.2"
  },
  "toc": {
   "base_numbering": 1,
   "nav_menu": {},
   "number_sections": true,
   "sideBar": true,
   "skip_h1_title": false,
   "title_cell": "Table of Contents",
   "title_sidebar": "Contents",
   "toc_cell": true,
   "toc_position": {},
   "toc_section_display": true,
   "toc_window_display": false
  }
 },
 "nbformat": 4,
 "nbformat_minor": 4
}
